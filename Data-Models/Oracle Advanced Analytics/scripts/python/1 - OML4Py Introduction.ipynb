{
 "cells": [
  {
   "cell_type": "markdown",
   "metadata": {},
   "source": [
    "# Oracle Machine Learning for Python - Introduction\n",
    "Oracle Machine Learning for Python (OML4Py), a component of the Oracle Advanced Analytics option to Oracle Database Enterprise Edition, makes the open source Python scripting language and environment ready for the enterprise and big data. Designed for problems involving both large and small volumes of data, Oracle Machine Learning for Python integrates Python with Oracle Database, allowing users to execute Python commands and scripts for statistical, machine learning, and graphical analyses on database tables and views using Python syntax. Many familiar Python functions are overloaded and translate Python functions into SQL for in-database execution, as well as new automated machine learning capabilities. \n",
    "![title](img/OML4P_icon.jpg)\n",
    "In this notebook, we highlight a few of the features of OML4Py:\n",
    "- connect to Oracle Database\n",
    "- create database tables\n",
    "- use the transparency layer\n",
    "- rank attributes for predictive value using the in-database attribute importance algorithm\n",
    "- build a predictive model\n",
    "- score data using this model"
   ]
  },
  {
   "cell_type": "markdown",
   "metadata": {},
   "source": [
    "# Import the OML4Py library and connect to Oracle Database\n",
    "To use OML4Py, first import the package ***oml***. OML4Py supports a variety of connection specification options, including Oracle Wallet. Once connected to an Oracle Database that has OML4Py installed, invoking ***oml.isconnected*** returns true. "
   ]
  },
  {
   "cell_type": "code",
   "execution_count": 2,
   "metadata": {},
   "outputs": [
    {
     "data": {
      "text/plain": [
       "True"
      ]
     },
     "execution_count": 2,
     "metadata": {},
     "output_type": "execute_result"
    }
   ],
   "source": [
    "import oml\n",
    "#oml.connect(\"pyquser\",\"pyquser\",\n",
    "#            '(DESCRIPTION=(ADDRESS=(PROTOCOL=TCP)(HOST=localhost)(PORT=1521))(CONNECT_DATA=(service_name=OAA1)))')\n",
    "\n",
    "oml.connect(user=\"pyquser\",password=\"Pyquser19#Pyquser19#\",dsn='(DESCRIPTION=(ADDRESS=(PROTOCOL=TCP)(HOST=130.61.215.115)(PORT=1521))(CONNECT_DATA=(service_name=pdb1.sub12041412512.bdcevcn.oraclevcn.com)))')\n",
    "\n",
    "oml.isconnected()"
   ]
  },
  {
   "cell_type": "markdown",
   "metadata": {},
   "source": [
    "# Create a Pandas DataFrame and load into Oracle Database\n",
    "We have a couple of options for loading data into Oracle Database. In this first example, we load the _iris_ data and combine target and predictors into a single DataFrame, which matches the form the data would have as a database table. This DataFrame can then be loaded into Oracle Database using the ***push*** function, which creates a temporary table. Such temporary tables will be automatically deleted when the database connection is terminated unless saved in a datastore (covered in another notebook). "
   ]
  },
  {
   "cell_type": "code",
   "execution_count": 2,
   "metadata": {},
   "outputs": [
    {
     "name": "stdout",
     "output_type": "stream",
     "text": [
      "Shape: (150, 5)\n",
      "Columns: ['SEPAL_LENGTH', 'SEPAL_WIDTH', 'PETAL_LENGTH', 'PETAL_WIDTH', 'Species']\n"
     ]
    },
    {
     "data": {
      "text/plain": [
       "   SEPAL_LENGTH  SEPAL_WIDTH  PETAL_LENGTH  PETAL_WIDTH Species\n",
       "0           5.1          3.5           1.4          0.2  setosa\n",
       "1           4.9          3.0           1.4          0.2  setosa\n",
       "2           4.7          3.2           1.3          0.2  setosa\n",
       "3           4.6          3.1           1.5          0.2  setosa"
      ]
     },
     "execution_count": 2,
     "metadata": {},
     "output_type": "execute_result"
    }
   ],
   "source": [
    "from sklearn.datasets import load_iris\n",
    "from sklearn import linear_model\n",
    "import pandas as pd\n",
    "\n",
    "iris = load_iris()\n",
    "x = pd.DataFrame(iris.data, \n",
    "                 columns = [\"SEPAL_LENGTH\", \"SEPAL_WIDTH\", \"PETAL_LENGTH\", \"PETAL_WIDTH\"])\n",
    "y = pd.DataFrame(list(map(lambda x: {0:'setosa', 1: 'versicolor', 2:'virginica'}[x], iris.target)), \n",
    "                 columns = ['Species'])\n",
    "iris_df = pd.concat([x,y], axis=1)\n",
    "\n",
    "IRIS_TMP = oml.push(iris_df)\n",
    "print(\"Shape:\",IRIS_TMP.shape)\n",
    "print(\"Columns:\",IRIS_TMP.columns)\n",
    "IRIS_TMP.head(4)"
   ]
  },
  {
   "cell_type": "markdown",
   "metadata": {},
   "source": [
    "We can also create a persistent table using the ***create*** function and specifying a tablename, \"IRIS\"."
   ]
  },
  {
   "cell_type": "code",
   "execution_count": 3,
   "metadata": {},
   "outputs": [
    {
     "name": "stdout",
     "output_type": "stream",
     "text": [
      "Shape: (150, 5)\n"
     ]
    },
    {
     "data": {
      "text/plain": [
       "   SEPAL_LENGTH  SEPAL_WIDTH  PETAL_LENGTH  PETAL_WIDTH Species\n",
       "0           5.1          3.5           1.4          0.2  setosa\n",
       "1           4.9          3.0           1.4          0.2  setosa\n",
       "2           4.7          3.2           1.3          0.2  setosa\n",
       "3           4.6          3.1           1.5          0.2  setosa"
      ]
     },
     "execution_count": 3,
     "metadata": {},
     "output_type": "execute_result"
    }
   ],
   "source": [
    "try:\n",
    "    oml.drop(table=\"IRIS\")\n",
    "except:\n",
    "    pass\n",
    "IRIS = oml.create(iris_df, table=\"IRIS\")\n",
    "print(\"Shape:\",IRIS.shape)\n",
    "IRIS.head(4)"
   ]
  },
  {
   "cell_type": "markdown",
   "metadata": {},
   "source": [
    "See what functions are available on IRIS as an OML DataFrame."
   ]
  },
  {
   "cell_type": "code",
   "execution_count": 4,
   "metadata": {},
   "outputs": [
    {
     "data": {
      "text/plain": [
       "['KFold',\n",
       " 'append',\n",
       " 'columns',\n",
       " 'concat',\n",
       " 'corr',\n",
       " 'count',\n",
       " 'create_view',\n",
       " 'crosstab',\n",
       " 'cumsum',\n",
       " 'describe',\n",
       " 'drop',\n",
       " 'drop_duplicates',\n",
       " 'dropna',\n",
       " 'dtypes',\n",
       " 'head',\n",
       " 'kurtosis',\n",
       " 'materialize',\n",
       " 'max',\n",
       " 'mean',\n",
       " 'median',\n",
       " 'merge',\n",
       " 'min',\n",
       " 'nunique',\n",
       " 'pivot_table',\n",
       " 'pull',\n",
       " 'rename',\n",
       " 'round',\n",
       " 'select_types',\n",
       " 'shape',\n",
       " 'skew',\n",
       " 'sort_values',\n",
       " 'split',\n",
       " 'std',\n",
       " 'sum',\n",
       " 't_dot',\n",
       " 'tail']"
      ]
     },
     "execution_count": 4,
     "metadata": {},
     "output_type": "execute_result"
    }
   ],
   "source": [
    "res = [x for x in IRIS.__dir__() if not x.startswith('_')]\n",
    "res.sort()\n",
    "res"
   ]
  },
  {
   "cell_type": "markdown",
   "metadata": {},
   "source": [
    "Perform a few aggregate operations on the IRIS database table SEPAL_LENGTH column using the transparency layer. "
   ]
  },
  {
   "cell_type": "code",
   "execution_count": 5,
   "metadata": {},
   "outputs": [
    {
     "name": "stdout",
     "output_type": "stream",
     "text": [
      "Add 5 to each SEPAL_LENGTH:  [10.1, 9.9, 9.7, 9.6, 10, 10.4, 9.6, 10, 9.4, 9.9, 10.4, 9.8, 9.8, 9.3, 10.8, 10.7, 10.4, 10.1, 10.7, 10.1, 10.4, 10.1, 9.6, 10.1, 9.8, 10, 10, 10.2, 10.2, 9.7, 9.8, 10.4, 10.2, 10.5, 9.9, 10, 10.5, 9.9, 9.4, 10.1, 10, 9.5, 9.4, 10, 10.1, 9.8, 10.1, 9.6, 10.3, 10, 12, 11.4, 11.9, 10.5, 11.5, 10.7, 11.3, 9.9, 11.6, 10.2, 10, 10.9, 11, 11.1, 10.6, 11.7, 10.6, 10.8, 11.2, 10.6, 10.9, 11.1, 11.3, 11.1, 11.4, 11.6, 11.8, 11.7, 11, 10.7, 10.5, 10.5, 10.8, 11, 10.4, 11, 11.7, 11.3, 10.6, 10.5, 10.5, 11.1, 10.8, 10, 10.6, 10.7, 10.7, 11.2, 10.1, 10.7, 11.3, 10.8, 12.1, 11.3, 11.5, 12.6, 9.9, 12.3, 11.7, 12.2, 11.5, 11.4, 11.8, 10.7, 10.8, 11.4, 11.5, 12.7, 12.7, 11, 11.9, 10.6, 12.7, 11.3, 11.7, 12.2, 11.2, 11.1, 11.4, 12.2, 12.4, 12.9, 11.4, 11.3, 11.1, 12.7, 11.3, 11.4, 11, 11.9, 11.7, 11.9, 10.8, 11.8, 11.7, 11.7, 11.3, 11.5, 11.2, 10.9]\n",
      "\n",
      "Min SEPAL_LENGTH:  4.3\n",
      "\n",
      "Mean SEPAL_LENGTH:  5.843333333333334\n"
     ]
    }
   ],
   "source": [
    "print(\"Add 5 to each SEPAL_LENGTH: \",IRIS[\"SEPAL_LENGTH\"] + 5)\n",
    "print(\"\\nMin SEPAL_LENGTH: \", IRIS[\"SEPAL_LENGTH\"].min())\n",
    "print(\"\\nMean SEPAL_LENGTH: \",IRIS[\"SEPAL_LENGTH\"].mean())"
   ]
  },
  {
   "cell_type": "markdown",
   "metadata": {},
   "source": [
    "Explore masking using IRIS PETAL_LENGTH column."
   ]
  },
  {
   "cell_type": "code",
   "execution_count": 6,
   "metadata": {},
   "outputs": [
    {
     "name": "stdout",
     "output_type": "stream",
     "text": [
      "PETAL_LENGTH:  [1.4, 1.4, 1.3, 1.5, 1.4, 1.7, 1.4, 1.5, 1.4, 1.5, 1.5, 1.6, 1.4, 1.1, 1.2, 1.5, 1.3, 1.4, 1.7, 1.5, 1.7, 1.5, 1, 1.7, 1.9, 1.6, 1.6, 1.5, 1.4, 1.6, 1.6, 1.5, 1.5, 1.4, 1.5, 1.2, 1.3, 1.5, 1.3, 1.5, 1.3, 1.3, 1.3, 1.6, 1.9, 1.4, 1.6, 1.4, 1.5, 1.4, 4.7, 4.5, 4.9, 4, 4.6, 4.5, 4.7, 3.3, 4.6, 3.9, 3.5, 4.2, 4, 4.7, 3.6, 4.4, 4.5, 4.1, 4.5, 3.9, 4.8, 4, 4.9, 4.7, 4.3, 4.4, 4.8, 5, 4.5, 3.5, 3.8, 3.7, 3.9, 5.1, 4.5, 4.5, 4.7, 4.4, 4.1, 4, 4.4, 4.6, 4, 3.3, 4.2, 4.2, 4.2, 4.3, 3, 4.1, 6, 5.1, 5.9, 5.6, 5.8, 6.6, 4.5, 6.3, 5.8, 6.1, 5.1, 5.3, 5.5, 5, 5.1, 5.3, 5.5, 6.7, 6.9, 5, 5.7, 4.9, 6.7, 4.9, 5.7, 6, 4.8, 4.9, 5.6, 5.8, 6.1, 6.4, 5.6, 5.1, 5.6, 6.1, 5.6, 5.5, 4.8, 5.4, 5.6, 5.1, 5.1, 5.9, 5.7, 5.2, 5, 5.2, 5.4, 5.1]\n",
      "\n",
      "PETAL_LENGTH > 4.0:  [4.7, 4.5, 4.9, 4.6, 4.5, 4.7, 4.6, 4.2, 4.7, 4.4, 4.5, 4.1, 4.5, 4.8, 4.9, 4.7, 4.3, 4.4, 4.8, 5, 4.5, 5.1, 4.5, 4.5, 4.7, 4.4, 4.1, 4.4, 4.6, 4.2, 4.2, 4.2, 4.3, 4.1, 6, 5.1, 5.9, 5.6, 5.8, 6.6, 4.5, 6.3, 5.8, 6.1, 5.1, 5.3, 5.5, 5, 5.1, 5.3, 5.5, 6.7, 6.9, 5, 5.7, 4.9, 6.7, 4.9, 5.7, 6, 4.8, 4.9, 5.6, 5.8, 6.1, 6.4, 5.6, 5.1, 5.6, 6.1, 5.6, 5.5, 4.8, 5.4, 5.6, 5.1, 5.1, 5.9, 5.7, 5.2, 5, 5.2, 5.4, 5.1]\n",
      "\n",
      "PETAL_LENGTH < 2 | > 5:  [1.4, 1.4, 1.3, 1.5, 1.4, 1.7, 1.4, 1.5, 1.4, 1.5, 1.5, 1.6, 1.4, 1.1, 1.2, 1.5, 1.3, 1.4, 1.7, 1.5, 1.7, 1.5, 1, 1.7, 1.9, 1.6, 1.6, 1.5, 1.4, 1.6, 1.6, 1.5, 1.5, 1.4, 1.5, 1.2, 1.3, 1.5, 1.3, 1.5, 1.3, 1.3, 1.3, 1.6, 1.9, 1.4, 1.6, 1.4, 1.5, 1.4, 5.1, 6, 5.1, 5.9, 5.6, 5.8, 6.6, 6.3, 5.8, 6.1, 5.1, 5.3, 5.5, 5.1, 5.3, 5.5, 6.7, 6.9, 5.7, 6.7, 5.7, 6, 5.6, 5.8, 6.1, 6.4, 5.6, 5.1, 5.6, 6.1, 5.6, 5.5, 5.4, 5.6, 5.1, 5.1, 5.9, 5.7, 5.2, 5.2, 5.4, 5.1]\n"
     ]
    }
   ],
   "source": [
    "print(\"PETAL_LENGTH: \", IRIS[\"PETAL_LENGTH\"])\n",
    "\n",
    "MASK1 = IRIS[\"PETAL_LENGTH\"] > 4.0\n",
    "print(\"\\nPETAL_LENGTH > 4.0: \", IRIS[\"PETAL_LENGTH\"][MASK1])\n",
    "\n",
    "MASK2 = (IRIS[\"PETAL_LENGTH\"] < 2) | (IRIS[\"PETAL_LENGTH\"] > 5)\n",
    "print(\"\\nPETAL_LENGTH < 2 | > 5: \", IRIS[\"PETAL_LENGTH\"][MASK2])"
   ]
  },
  {
   "cell_type": "markdown",
   "metadata": {},
   "source": [
    "# Explore data by computing pairwise correlation \n",
    "Using only numeric columns, we can compute a correlation matrix on the database table IRIS using the overloaded ***corr*** function. Here we see that petal length and petal width are highly correlated."
   ]
  },
  {
   "cell_type": "code",
   "execution_count": 7,
   "metadata": {},
   "outputs": [
    {
     "data": {
      "text/html": [
       "<div>\n",
       "<style scoped>\n",
       "    .dataframe tbody tr th:only-of-type {\n",
       "        vertical-align: middle;\n",
       "    }\n",
       "\n",
       "    .dataframe tbody tr th {\n",
       "        vertical-align: top;\n",
       "    }\n",
       "\n",
       "    .dataframe thead th {\n",
       "        text-align: right;\n",
       "    }\n",
       "</style>\n",
       "<table border=\"1\" class=\"dataframe\">\n",
       "  <thead>\n",
       "    <tr style=\"text-align: right;\">\n",
       "      <th></th>\n",
       "      <th>SEPAL_LENGTH</th>\n",
       "      <th>SEPAL_WIDTH</th>\n",
       "      <th>PETAL_LENGTH</th>\n",
       "      <th>PETAL_WIDTH</th>\n",
       "    </tr>\n",
       "  </thead>\n",
       "  <tbody>\n",
       "    <tr>\n",
       "      <th>SEPAL_LENGTH</th>\n",
       "      <td>1.000000</td>\n",
       "      <td>-0.109369</td>\n",
       "      <td>0.871754</td>\n",
       "      <td>0.817954</td>\n",
       "    </tr>\n",
       "    <tr>\n",
       "      <th>SEPAL_WIDTH</th>\n",
       "      <td>-0.109369</td>\n",
       "      <td>1.000000</td>\n",
       "      <td>-0.420516</td>\n",
       "      <td>-0.356544</td>\n",
       "    </tr>\n",
       "    <tr>\n",
       "      <th>PETAL_LENGTH</th>\n",
       "      <td>0.871754</td>\n",
       "      <td>-0.420516</td>\n",
       "      <td>1.000000</td>\n",
       "      <td>0.962757</td>\n",
       "    </tr>\n",
       "    <tr>\n",
       "      <th>PETAL_WIDTH</th>\n",
       "      <td>0.817954</td>\n",
       "      <td>-0.356544</td>\n",
       "      <td>0.962757</td>\n",
       "      <td>1.000000</td>\n",
       "    </tr>\n",
       "  </tbody>\n",
       "</table>\n",
       "</div>"
      ],
      "text/plain": [
       "              SEPAL_LENGTH  SEPAL_WIDTH  PETAL_LENGTH  PETAL_WIDTH\n",
       "SEPAL_LENGTH      1.000000    -0.109369      0.871754     0.817954\n",
       "SEPAL_WIDTH      -0.109369     1.000000     -0.420516    -0.356544\n",
       "PETAL_LENGTH      0.871754    -0.420516      1.000000     0.962757\n",
       "PETAL_WIDTH       0.817954    -0.356544      0.962757     1.000000"
      ]
     },
     "execution_count": 7,
     "metadata": {},
     "output_type": "execute_result"
    }
   ],
   "source": [
    "IRIS.corr()"
   ]
  },
  {
   "cell_type": "markdown",
   "metadata": {},
   "source": [
    "# Explore distribution of IRIS numeric columns\n",
    "OML4Py overloads a select graphics functions as well. Here, we illustrate the use of ***boxplot*** to show the distribution of the various columns. Here, the statistical computations take place in the database - avoiding data movement - and returns only the summary statistics needed to produce the plot, which enables scalability."
   ]
  },
  {
   "cell_type": "code",
   "execution_count": 8,
   "metadata": {
    "scrolled": true
   },
   "outputs": [
    {
     "data": {
      "image/png": "[encoded data removed]",
      "text/plain": [
       "<matplotlib.figure.Figure at 0x7f689fcf8160>"
      ]
     },
     "metadata": {
      "needs_background": "light"
     },
     "output_type": "display_data"
    }
   ],
   "source": [
    "import matplotlib.pyplot as plt\n",
    "\n",
    "oml.graphics.boxplot(IRIS[:, :4], notch=True, showmeans = True, \n",
    "                     labels=['Sepal Length', 'Sepal Width','Petal Length', 'Petal Width'])\n",
    "plt.title('Distribution of IRIS Attributes')\n",
    "plt.ylabel('cm');"
   ]
  },
  {
   "cell_type": "markdown",
   "metadata": {},
   "source": [
    "# Compute attribute importance ranking of variables \n",
    "Using the IRIS table, determine which variables (a.k.a., attributes or predictors) are most important in predicting target 'Species'.\n",
    "\n",
    "Since we're starting with a database table, we split IRIS into test and train data sets, and then separate the target from the predictors in the training set.\n",
    "\n",
    "In the setting variable, we disable sampling. Note that OML4Py provides parameters to algorithms as name-value pairs. See the Oracle Data Mining SQL API for available options. \n",
    "\n",
    "Then, we define the attribute importance object, compute attribute importance using function ***fit***, and show the results, which includes the importance ranking.\n",
    "\n",
    "Notice that petal width is most predictive of the target species. The importance value produced by this algorithms provides a relative ranking, not an absolute number, to be used to distinguish importance among variables."
   ]
  },
  {
   "cell_type": "code",
   "execution_count": 9,
   "metadata": {},
   "outputs": [],
   "source": [
    "from oml import ai\n",
    "\n",
    "train_dat, test_dat = oml.sync(table = \"IRIS\").split()  # here we use sync to get handle to existing table\n",
    "train_x = train_dat.drop('Species')\n",
    "train_y = train_dat['Species']\n",
    "\n",
    "setting = {'ODMS_SAMPLING':'ODMS_SAMPLING_DISABLE'}"
   ]
  },
  {
   "cell_type": "code",
   "execution_count": 10,
   "metadata": {},
   "outputs": [],
   "source": [
    "ai_obj = ai(**setting)\n",
    "ai_obj = ai_obj.fit(train_x, train_y)"
   ]
  },
  {
   "cell_type": "code",
   "execution_count": 11,
   "metadata": {},
   "outputs": [
    {
     "data": {
      "text/plain": [
       "\n",
       "Algorithm Name: Attribute Importance\n",
       "\n",
       "Mining Function: ATTRIBUTE_IMPORTANCE\n",
       "\n",
       "Settings: \n",
       "                   setting name            setting value\n",
       "0                     ALGO_NAME              ALGO_AI_MDL\n",
       "1                  ODMS_DETAILS              ODMS_ENABLE\n",
       "2  ODMS_MISSING_VALUE_TREATMENT  ODMS_MISSING_VALUE_AUTO\n",
       "3                 ODMS_SAMPLING    ODMS_SAMPLING_DISABLE\n",
       "4                     PREP_AUTO                       ON\n",
       "\n",
       "Global Statistics: \n",
       "   NUM_ROWS\n",
       "0       102\n",
       "\n",
       "Attributes: \n",
       "SEPAL_LENGTH\n",
       "SEPAL_WIDTH\n",
       "PETAL_LENGTH\n",
       "PETAL_WIDTH\n",
       "\n",
       "Partition: NO\n",
       "\n",
       "Importance: \n",
       "\n",
       "       variable  importance  rank\n",
       "0   PETAL_WIDTH    0.604724     1\n",
       "1  PETAL_LENGTH    0.344505     2\n",
       "2  SEPAL_LENGTH    0.061959     3\n",
       "3   SEPAL_WIDTH   -0.163925     4\n"
      ]
     },
     "execution_count": 11,
     "metadata": {},
     "output_type": "execute_result"
    }
   ],
   "source": [
    "ai_obj"
   ]
  },
  {
   "cell_type": "markdown",
   "metadata": {},
   "source": [
    "# Build predictive models\n",
    "In this example, we set up the data and a _demo_ cost matrix to build a Random Forest model to predict Species from the IRIS table. \n",
    "\n",
    "Note that we create the cost matrix as a named database table, RF_COST. "
   ]
  },
  {
   "cell_type": "code",
   "execution_count": 12,
   "metadata": {
    "scrolled": true
   },
   "outputs": [
    {
     "data": {
      "text/html": [
       "<div>\n",
       "<style scoped>\n",
       "    .dataframe tbody tr th:only-of-type {\n",
       "        vertical-align: middle;\n",
       "    }\n",
       "\n",
       "    .dataframe tbody tr th {\n",
       "        vertical-align: top;\n",
       "    }\n",
       "\n",
       "    .dataframe thead th {\n",
       "        text-align: right;\n",
       "    }\n",
       "</style>\n",
       "<table border=\"1\" class=\"dataframe\">\n",
       "  <thead>\n",
       "    <tr style=\"text-align: right;\">\n",
       "      <th>PREDICTED_TARGET_VALUE</th>\n",
       "      <th>setosa</th>\n",
       "      <th>versicolor</th>\n",
       "      <th>virginica</th>\n",
       "    </tr>\n",
       "    <tr>\n",
       "      <th>ACTUAL_TARGET_VALUE</th>\n",
       "      <th></th>\n",
       "      <th></th>\n",
       "      <th></th>\n",
       "    </tr>\n",
       "  </thead>\n",
       "  <tbody>\n",
       "    <tr>\n",
       "      <th>setosa</th>\n",
       "      <td>0.0</td>\n",
       "      <td>0.8</td>\n",
       "      <td>0.2</td>\n",
       "    </tr>\n",
       "    <tr>\n",
       "      <th>versicolor</th>\n",
       "      <td>0.4</td>\n",
       "      <td>0.0</td>\n",
       "      <td>0.6</td>\n",
       "    </tr>\n",
       "    <tr>\n",
       "      <th>virginica</th>\n",
       "      <td>0.5</td>\n",
       "      <td>0.5</td>\n",
       "      <td>0.0</td>\n",
       "    </tr>\n",
       "  </tbody>\n",
       "</table>\n",
       "</div>"
      ],
      "text/plain": [
       "PREDICTED_TARGET_VALUE  setosa  versicolor  virginica\n",
       "ACTUAL_TARGET_VALUE                                  \n",
       "setosa                     0.0         0.8        0.2\n",
       "versicolor                 0.4         0.0        0.6\n",
       "virginica                  0.5         0.5        0.0"
      ]
     },
     "execution_count": 12,
     "metadata": {},
     "output_type": "execute_result"
    }
   ],
   "source": [
    "dat = IRIS.split()\n",
    "train_x = dat[0].drop('Species')\n",
    "train_y = dat[0]['Species']\n",
    "test_dat = dat[1]\n",
    "\n",
    "cost_matrix = [['setosa', 'setosa', 0],\n",
    "  ['setosa', 'virginica', 0.2],\n",
    "  ['setosa', 'versicolor', 0.8],\n",
    "  ['virginica', 'virginica', 0],\n",
    "  ['virginica', 'setosa', 0.5],\n",
    "  ['virginica', 'versicolor', 0.5],\n",
    "  ['versicolor', 'versicolor', 0],\n",
    "  ['versicolor', 'setosa', 0.4],\n",
    "  ['versicolor', 'virginica', 0.6]]\n",
    "try:\n",
    "    oml.drop(table='RF_COST')\n",
    "except:\n",
    "    pass\n",
    "cost_matrix = oml.create(pd.DataFrame(cost_matrix, \n",
    "                                      columns = ['ACTUAL_TARGET_VALUE', \n",
    "                                                 'PREDICTED_TARGET_VALUE', 'COST']), \n",
    "                         \"RF_COST\")\n",
    "cost_matrix.pull().pivot(index='ACTUAL_TARGET_VALUE', \n",
    "                         columns='PREDICTED_TARGET_VALUE',values='COST')"
   ]
  },
  {
   "cell_type": "markdown",
   "metadata": {},
   "source": [
    "Build a Random Forest model specifying a maximum tree depth of 4, and display model details.\n",
    "\n",
    "Note that the model also reports attribute importance. "
   ]
  },
  {
   "cell_type": "code",
   "execution_count": 13,
   "metadata": {
    "scrolled": true
   },
   "outputs": [
    {
     "data": {
      "text/plain": [
       "\n",
       "Algorithm Name: Random Forest\n",
       "\n",
       "Mining Function: CLASSIFICATION\n",
       "\n",
       "Target: Species\n",
       "\n",
       "Settings: \n",
       "                    setting name            setting value\n",
       "0                      ALGO_NAME       ALGO_RANDOM_FOREST\n",
       "1           CLAS_COST_TABLE_NAME      \"PYQUSER\".\"RF_COST\"\n",
       "2              CLAS_MAX_SUP_BINS                       32\n",
       "3          CLAS_WEIGHTS_BALANCED                      OFF\n",
       "4                   ODMS_DETAILS              ODMS_ENABLE\n",
       "5   ODMS_MISSING_VALUE_TREATMENT  ODMS_MISSING_VALUE_AUTO\n",
       "6               ODMS_RANDOM_SEED                        0\n",
       "7                  ODMS_SAMPLING    ODMS_SAMPLING_DISABLE\n",
       "8                      PREP_AUTO                       ON\n",
       "9                 RFOR_NUM_TREES                       20\n",
       "10           RFOR_SAMPLING_RATIO                       .5\n",
       "11          TREE_IMPURITY_METRIC       TREE_IMPURITY_GINI\n",
       "12           TREE_TERM_MAX_DEPTH                        4\n",
       "13         TREE_TERM_MINPCT_NODE                      .05\n",
       "14        TREE_TERM_MINPCT_SPLIT                       .1\n",
       "15         TREE_TERM_MINREC_NODE                       10\n",
       "16        TREE_TERM_MINREC_SPLIT                       20\n",
       "\n",
       "Computed Settings: \n",
       "  setting name setting value\n",
       "0    RFOR_MTRY             2\n",
       "\n",
       "Global Statistics: \n",
       "   AVG_DEPTH  AVG_NODECOUNT  MAX_DEPTH  MAX_NODECOUNT  MIN_DEPTH  \\\n",
       "0       3.25            5.6        4.0            6.0        4.0   \n",
       "\n",
       "   MIN_NODECOUNT  NUM_ROWS  \n",
       "0            4.0     102.0  \n",
       "\n",
       "Attributes: \n",
       "SEPAL_LENGTH\n",
       "SEPAL_WIDTH\n",
       "PETAL_LENGTH\n",
       "PETAL_WIDTH\n",
       "\n",
       "Partition: NO\n",
       "\n",
       "Importance: \n",
       "\n",
       "  ATTRIBUTE_NAME ATTRIBUTE_SUBNAME  ATTRIBUTE_IMPORTANCE\n",
       "0   PETAL_LENGTH              None              0.584287\n",
       "1    PETAL_WIDTH              None              0.512901\n",
       "2   SEPAL_LENGTH              None              0.136424\n",
       "3    SEPAL_WIDTH              None              0.038918\n"
      ]
     },
     "execution_count": 13,
     "metadata": {},
     "output_type": "execute_result"
    }
   ],
   "source": [
    "from oml import rf\n",
    "\n",
    "rf_mod = rf(tree_term_max_depth = '4')\n",
    "rf_mod = rf_mod.fit(train_x, train_y, cost_matrix)\n",
    "\n",
    "rf_mod"
   ]
  },
  {
   "cell_type": "markdown",
   "metadata": {},
   "source": [
    "# Use the Random Forest model to predict Species\n",
    "When predicting values, users can include _supplemental columns_ from the original data. This can be particularly useful to compare actual target values against predicted values, or to include unique keys for subsequent row identification. This is necessary since row order is not maintained on results from the database. This is consistent with how SQL and relational databases only provide ordering if requested by the user via a sort. "
   ]
  },
  {
   "cell_type": "code",
   "execution_count": 14,
   "metadata": {},
   "outputs": [
    {
     "name": "stdout",
     "output_type": "stream",
     "text": [
      "Shape: (48, 5)\n"
     ]
    },
    {
     "data": {
      "text/plain": [
       "   SEPAL_LENGTH  SEPAL_WIDTH  PETAL_LENGTH Species PREDICTION\n",
       "0           4.9          3.0           1.4  setosa     setosa\n",
       "1           4.9          3.1           1.5  setosa     setosa\n",
       "2           4.8          3.4           1.6  setosa     setosa\n",
       "3           5.8          4.0           1.2  setosa     setosa\n",
       "4           5.1          3.5           1.4  setosa     setosa\n",
       "5           5.0          3.4           1.6  setosa     setosa\n",
       "6           5.2          3.5           1.5  setosa     setosa\n",
       "7           5.4          3.4           1.5  setosa     setosa\n",
       "8           4.9          3.1           1.5  setosa     setosa\n",
       "9           5.0          3.2           1.2  setosa     setosa"
      ]
     },
     "execution_count": 14,
     "metadata": {},
     "output_type": "execute_result"
    }
   ],
   "source": [
    "pred = rf_mod.predict(test_dat.drop('Species'), \n",
    "                      supplemental_cols = test_dat[:, ['SEPAL_LENGTH', 'SEPAL_WIDTH', 'PETAL_LENGTH', 'Species']])\n",
    "print(\"Shape:\",pred.shape)\n",
    "pred.head(10)"
   ]
  },
  {
   "cell_type": "markdown",
   "metadata": {},
   "source": [
    "# Generate and display a Confusion Matrix for the predicted results\n",
    "Using the overloaded ***crosstab*** function, compute the confusion matrix between the actual values in Species and the predicted result in the PREDICTION column. "
   ]
  },
  {
   "cell_type": "code",
   "execution_count": 15,
   "metadata": {},
   "outputs": [
    {
     "name": "stdout",
     "output_type": "stream",
     "text": [
      "Type: <class 'oml.core.frame.DataFrame'>\n",
      "Columns: ['Species', 'count_(setosa)', 'count_(versicolor)', 'count_(virginica)']\n"
     ]
    }
   ],
   "source": [
    "res_ct = pred.crosstab('Species','PREDICTION',pivot=True)\n",
    "print(\"Type:\",type(res_ct))\n",
    "print(\"Columns:\",res_ct.columns)"
   ]
  },
  {
   "cell_type": "markdown",
   "metadata": {},
   "source": [
    "Since columns are sorted by name after pivot and the rows are not, sort the rows as a post-processing step."
   ]
  },
  {
   "cell_type": "code",
   "execution_count": 16,
   "metadata": {},
   "outputs": [
    {
     "data": {
      "text/plain": [
       "      Species  count_(setosa)  count_(versicolor)  count_(virginica)\n",
       "0      setosa              16                   0                  0\n",
       "1  versicolor               0                  13                  2\n",
       "2   virginica               0                   0                 17"
      ]
     },
     "execution_count": 16,
     "metadata": {},
     "output_type": "execute_result"
    }
   ],
   "source": [
    "res_ct.sort_values(by='Species')"
   ]
  },
  {
   "cell_type": "markdown",
   "metadata": {},
   "source": [
    "# Analyze a larger data set \n",
    "Using another, but significanlty larger data set, ONTIME_S, perform a cross tabulation to determine the number of flights to each destination airport. Then, determine predictor ranking (attribute importance). \n",
    "\n",
    "As an exercise for the reader, continue to bulid models and score data to predict arrival delay of flights using target variable ARRDELAY."
   ]
  },
  {
   "cell_type": "code",
   "execution_count": 17,
   "metadata": {},
   "outputs": [
    {
     "name": "stdout",
     "output_type": "stream",
     "text": [
      "Type: <class 'oml.core.frame.DataFrame'>\n",
      "Shape: (219932, 26)\n"
     ]
    }
   ],
   "source": [
    "ONTIME_S = oml.sync(table='ONTIME_S')\n",
    "print(\"Type:\",type(ONTIME_S))\n",
    "print(\"Shape:\",ONTIME_S.shape)"
   ]
  },
  {
   "cell_type": "markdown",
   "metadata": {},
   "source": [
    "Perform aggregation by counting the number of flights going to each destination airport. \n",
    "\n",
    "Note that result is an OML DataFrame that remains in the database, available for futher processing."
   ]
  },
  {
   "cell_type": "code",
   "execution_count": 18,
   "metadata": {},
   "outputs": [
    {
     "name": "stdout",
     "output_type": "stream",
     "text": [
      "Type: <class 'oml.core.frame.DataFrame'>\n",
      "Shape: (325, 2)\n"
     ]
    },
    {
     "data": {
      "text/plain": [
       "  DEST  count\n",
       "0  ABE    237\n",
       "1  ABI     34\n",
       "2  ABQ   1357\n",
       "3  ABY     10\n",
       "4  ACK      3"
      ]
     },
     "execution_count": 18,
     "metadata": {},
     "output_type": "execute_result"
    }
   ],
   "source": [
    "res = ONTIME_S.crosstab('DEST')\n",
    "print(\"Type:\",type(res))\n",
    "print(\"Shape:\",res.shape)\n",
    "res.head()"
   ]
  },
  {
   "cell_type": "markdown",
   "metadata": {},
   "source": [
    "Compute attribute importance ranking of variables in ONTIME_S to predict ARRDELAY, then use this result to reduce the data set to the most important attributes to build models that predict ARRDELAY. Then display the attribute importance ranking. "
   ]
  },
  {
   "cell_type": "code",
   "execution_count": null,
   "metadata": {},
   "outputs": [],
   "source": [
    "dat = oml.sync(table = \"ONTIME_S\").split()  # could also just use ONTIME_S since already loaded in variable\n",
    "train_x = dat[0].drop('ARRDELAY')\n",
    "train_y = dat[0]['ARRDELAY']\n",
    "test_dat = dat[1]\n",
    "\n",
    "setting = {'ODMS_SAMPLING':'ODMS_SAMPLING_DISABLE'}\n",
    "\n",
    "ai_obj2 = ai(**setting)\n",
    "%time ai_obj2 = ai_obj2.fit(train_x, train_y)"
   ]
  },
  {
   "cell_type": "code",
   "execution_count": null,
   "metadata": {
    "scrolled": true
   },
   "outputs": [],
   "source": [
    "ai_obj2"
   ]
  },
  {
   "cell_type": "markdown",
   "metadata": {},
   "source": [
    "<img src=\"img/Oracle-sm.jpg\">"
   ]
  }
 ],
 "metadata": {
  "kernelspec": {
   "display_name": "Python 3",
   "language": "python",
   "name": "python3"
  },
  "language_info": {
   "codemirror_mode": {
    "name": "ipython",
    "version": 3
   },
   "file_extension": ".py",
   "mimetype": "text/x-python",
   "name": "python",
   "nbconvert_exporter": "python",
   "pygments_lexer": "ipython3",
   "version": "3.7.4"
  }
 },
 "nbformat": 4,
 "nbformat_minor": 2
}
