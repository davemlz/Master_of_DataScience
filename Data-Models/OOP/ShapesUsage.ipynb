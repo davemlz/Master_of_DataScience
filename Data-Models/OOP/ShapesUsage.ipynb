{
 "cells": [
  {
   "cell_type": "markdown",
   "metadata": {},
   "source": [
    "# Shapes Usage\n",
    "\n",
    "## David Montero Loaiza"
   ]
  },
  {
   "cell_type": "markdown",
   "metadata": {},
   "source": [
    "Importing..."
   ]
  },
  {
   "cell_type": "code",
   "execution_count": 1,
   "metadata": {},
   "outputs": [],
   "source": [
    "import Shapes"
   ]
  },
  {
   "cell_type": "markdown",
   "metadata": {},
   "source": [
    "Shapes documentation, _following Docstring_ :"
   ]
  },
  {
   "cell_type": "code",
   "execution_count": 2,
   "metadata": {},
   "outputs": [],
   "source": [
    "Shapes?"
   ]
  },
  {
   "cell_type": "markdown",
   "metadata": {},
   "source": [
    "## Classes"
   ]
  },
  {
   "cell_type": "markdown",
   "metadata": {},
   "source": [
    "<h3>Shapes <span class=\"badge badge-secondary\">Parent Class</span></h3>\n",
    "\n",
    "Shapes class is the parent class for all classes defined in the module."
   ]
  },
  {
   "cell_type": "code",
   "execution_count": 3,
   "metadata": {},
   "outputs": [],
   "source": [
    "Shapes.Shapes?"
   ]
  },
  {
   "cell_type": "markdown",
   "metadata": {},
   "source": [
    "This class is initialized with just one **attribute** (params) and contains the list of parameters that each object needs. The parameters are obtained through just **one argument** (called also params), this argument is a **list** of the parameters defined for each object (Circle, Rectangle, Triangle) and this classes inherit this initialization through the `super()` method.\n",
    "\n",
    "<div class=\"alert alert-warning\" role=\"alert\">\n",
    "    If the parameters are not in a <b>list</b>, this class and the subclasses (excepting the Circle class) can't be generated.\n",
    "</div>"
   ]
  },
  {
   "cell_type": "code",
   "execution_count": 4,
   "metadata": {},
   "outputs": [
    {
     "data": {
      "text/plain": [
       "[1, 2, 3]"
      ]
     },
     "execution_count": 4,
     "metadata": {},
     "output_type": "execute_result"
    }
   ],
   "source": [
    "random_shape = Shapes.Shapes([1,2,3])\n",
    "random_shape.params"
   ]
  },
  {
   "cell_type": "markdown",
   "metadata": {},
   "source": [
    "Since this class is not an specific object, there is not a limit of elements for params."
   ]
  },
  {
   "cell_type": "code",
   "execution_count": 5,
   "metadata": {},
   "outputs": [
    {
     "name": "stdout",
     "output_type": "stream",
     "text": [
      "Parameters of the first shape: [1, 2, 3, 4, 5]\n",
      "Parameters of the second shape: [1, 2, 3, 4, 5, 6, 7, 8, 9, 10]\n"
     ]
    }
   ],
   "source": [
    "shape_five_parameters = Shapes.Shapes([1,2,3,4,5])\n",
    "shape_ten_parameters = Shapes.Shapes([1,2,3,4,5,6,7,8,9,10])\n",
    "\n",
    "print(\"Parameters of the first shape:\",shape_five_parameters.params)\n",
    "print(\"Parameters of the second shape:\",shape_ten_parameters.params)"
   ]
  },
  {
   "cell_type": "markdown",
   "metadata": {},
   "source": [
    "This class defines the common initialization for all shapes:\n",
    "\n",
    "1. Checking that parameters **are numeric**"
   ]
  },
  {
   "cell_type": "markdown",
   "metadata": {},
   "source": [
    "<div class=\"alert alert-danger\" role=\"alert\">\n",
    "    The next code will raise an error since one element in the argument <b>params</b> is a <b>string</b>.\n",
    "</div>"
   ]
  },
  {
   "cell_type": "code",
   "execution_count": 6,
   "metadata": {},
   "outputs": [
    {
     "ename": "TypeError",
     "evalue": "I need numbers!",
     "output_type": "error",
     "traceback": [
      "\u001b[1;31m---------------------------------------------------------------------------\u001b[0m",
      "\u001b[1;31mTypeError\u001b[0m                                 Traceback (most recent call last)",
      "\u001b[1;32m<ipython-input-6-12962750ee63>\u001b[0m in \u001b[0;36m<module>\u001b[1;34m\u001b[0m\n\u001b[1;32m----> 1\u001b[1;33m \u001b[0mshape_error\u001b[0m \u001b[1;33m=\u001b[0m \u001b[0mShapes\u001b[0m\u001b[1;33m.\u001b[0m\u001b[0mShapes\u001b[0m\u001b[1;33m(\u001b[0m\u001b[1;33m[\u001b[0m\u001b[1;36m1\u001b[0m\u001b[1;33m,\u001b[0m\u001b[1;36m2\u001b[0m\u001b[1;33m,\u001b[0m\u001b[1;36m3\u001b[0m\u001b[1;33m,\u001b[0m\u001b[1;34m\"4\"\u001b[0m\u001b[1;33m]\u001b[0m\u001b[1;33m)\u001b[0m\u001b[1;33m\u001b[0m\u001b[1;33m\u001b[0m\u001b[0m\n\u001b[0m",
      "\u001b[1;32m~\\Modelos de Datos\\2_Tarea_OOP\\Shapes.py\u001b[0m in \u001b[0;36m__init__\u001b[1;34m(self, params)\u001b[0m\n\u001b[0;32m     37\u001b[0m         \u001b[1;32mfor\u001b[0m \u001b[0mi\u001b[0m \u001b[1;32min\u001b[0m \u001b[0mparams\u001b[0m\u001b[1;33m:\u001b[0m\u001b[1;33m\u001b[0m\u001b[1;33m\u001b[0m\u001b[0m\n\u001b[0;32m     38\u001b[0m             \u001b[1;32mif\u001b[0m \u001b[0mtype\u001b[0m\u001b[1;33m(\u001b[0m\u001b[0mi\u001b[0m\u001b[1;33m)\u001b[0m \u001b[1;32mis\u001b[0m \u001b[1;32mnot\u001b[0m \u001b[0mint\u001b[0m \u001b[1;32mand\u001b[0m \u001b[0mtype\u001b[0m\u001b[1;33m(\u001b[0m\u001b[0mi\u001b[0m\u001b[1;33m)\u001b[0m \u001b[1;32mis\u001b[0m \u001b[1;32mnot\u001b[0m \u001b[0mfloat\u001b[0m\u001b[1;33m:\u001b[0m\u001b[1;33m\u001b[0m\u001b[1;33m\u001b[0m\u001b[0m\n\u001b[1;32m---> 39\u001b[1;33m                 \u001b[1;32mraise\u001b[0m \u001b[0mTypeError\u001b[0m\u001b[1;33m(\u001b[0m\u001b[1;34m\"I need numbers!\"\u001b[0m\u001b[1;33m)\u001b[0m\u001b[1;33m\u001b[0m\u001b[1;33m\u001b[0m\u001b[0m\n\u001b[0m\u001b[0;32m     40\u001b[0m             \u001b[1;32melse\u001b[0m\u001b[1;33m:\u001b[0m\u001b[1;33m\u001b[0m\u001b[1;33m\u001b[0m\u001b[0m\n\u001b[0;32m     41\u001b[0m                 \u001b[1;32mif\u001b[0m \u001b[0mi\u001b[0m \u001b[1;33m<=\u001b[0m \u001b[1;36m0\u001b[0m\u001b[1;33m:\u001b[0m\u001b[1;33m\u001b[0m\u001b[1;33m\u001b[0m\u001b[0m\n",
      "\u001b[1;31mTypeError\u001b[0m: I need numbers!"
     ]
    }
   ],
   "source": [
    "shape_error = Shapes.Shapes([1,2,3,\"4\"])"
   ]
  },
  {
   "cell_type": "markdown",
   "metadata": {},
   "source": [
    "2. Parameters **are not lower or equal than zero**"
   ]
  },
  {
   "cell_type": "markdown",
   "metadata": {},
   "source": [
    "<div class=\"alert alert-danger\" role=\"alert\">\n",
    "    The next code will raise an error since one element in the argument <b>params</b> is a <b>negative number</b>.\n",
    "</div>"
   ]
  },
  {
   "cell_type": "code",
   "execution_count": 7,
   "metadata": {},
   "outputs": [
    {
     "ename": "ValueError",
     "evalue": "Parameters must be positive!",
     "output_type": "error",
     "traceback": [
      "\u001b[1;31m---------------------------------------------------------------------------\u001b[0m",
      "\u001b[1;31mValueError\u001b[0m                                Traceback (most recent call last)",
      "\u001b[1;32m<ipython-input-7-13a8e8ac5189>\u001b[0m in \u001b[0;36m<module>\u001b[1;34m\u001b[0m\n\u001b[1;32m----> 1\u001b[1;33m \u001b[0mshape_error\u001b[0m \u001b[1;33m=\u001b[0m \u001b[0mShapes\u001b[0m\u001b[1;33m.\u001b[0m\u001b[0mShapes\u001b[0m\u001b[1;33m(\u001b[0m\u001b[1;33m[\u001b[0m\u001b[1;36m1\u001b[0m\u001b[1;33m,\u001b[0m\u001b[1;36m2\u001b[0m\u001b[1;33m,\u001b[0m\u001b[1;36m3\u001b[0m\u001b[1;33m,\u001b[0m\u001b[1;33m-\u001b[0m\u001b[1;36m4\u001b[0m\u001b[1;33m]\u001b[0m\u001b[1;33m)\u001b[0m\u001b[1;33m\u001b[0m\u001b[1;33m\u001b[0m\u001b[0m\n\u001b[0m",
      "\u001b[1;32m~\\Modelos de Datos\\2_Tarea_OOP\\Shapes.py\u001b[0m in \u001b[0;36m__init__\u001b[1;34m(self, params)\u001b[0m\n\u001b[0;32m     40\u001b[0m             \u001b[1;32melse\u001b[0m\u001b[1;33m:\u001b[0m\u001b[1;33m\u001b[0m\u001b[1;33m\u001b[0m\u001b[0m\n\u001b[0;32m     41\u001b[0m                 \u001b[1;32mif\u001b[0m \u001b[0mi\u001b[0m \u001b[1;33m<=\u001b[0m \u001b[1;36m0\u001b[0m\u001b[1;33m:\u001b[0m\u001b[1;33m\u001b[0m\u001b[1;33m\u001b[0m\u001b[0m\n\u001b[1;32m---> 42\u001b[1;33m                     \u001b[1;32mraise\u001b[0m \u001b[0mValueError\u001b[0m\u001b[1;33m(\u001b[0m\u001b[1;34m\"Parameters must be positive!\"\u001b[0m\u001b[1;33m)\u001b[0m\u001b[1;33m\u001b[0m\u001b[1;33m\u001b[0m\u001b[0m\n\u001b[0m\u001b[0;32m     43\u001b[0m \u001b[1;33m\u001b[0m\u001b[0m\n\u001b[0;32m     44\u001b[0m         \u001b[0mself\u001b[0m\u001b[1;33m.\u001b[0m\u001b[0mparams\u001b[0m \u001b[1;33m=\u001b[0m \u001b[0mparams\u001b[0m\u001b[1;33m\u001b[0m\u001b[1;33m\u001b[0m\u001b[0m\n",
      "\u001b[1;31mValueError\u001b[0m: Parameters must be positive!"
     ]
    }
   ],
   "source": [
    "shape_error = Shapes.Shapes([1,2,3,-4])"
   ]
  },
  {
   "cell_type": "markdown",
   "metadata": {},
   "source": [
    "<div class=\"alert alert-danger\" role=\"alert\">\n",
    "    The next code will raise an error since one element in the argument <b>params</b> is <b>zero</b>.\n",
    "</div>"
   ]
  },
  {
   "cell_type": "code",
   "execution_count": 8,
   "metadata": {},
   "outputs": [
    {
     "ename": "ValueError",
     "evalue": "Parameters must be positive!",
     "output_type": "error",
     "traceback": [
      "\u001b[1;31m---------------------------------------------------------------------------\u001b[0m",
      "\u001b[1;31mValueError\u001b[0m                                Traceback (most recent call last)",
      "\u001b[1;32m<ipython-input-8-bce7ba156fb9>\u001b[0m in \u001b[0;36m<module>\u001b[1;34m\u001b[0m\n\u001b[1;32m----> 1\u001b[1;33m \u001b[0mshape_error\u001b[0m \u001b[1;33m=\u001b[0m \u001b[0mShapes\u001b[0m\u001b[1;33m.\u001b[0m\u001b[0mShapes\u001b[0m\u001b[1;33m(\u001b[0m\u001b[1;33m[\u001b[0m\u001b[1;36m1\u001b[0m\u001b[1;33m,\u001b[0m\u001b[1;36m2\u001b[0m\u001b[1;33m,\u001b[0m\u001b[1;36m3\u001b[0m\u001b[1;33m,\u001b[0m\u001b[1;36m0\u001b[0m\u001b[1;33m]\u001b[0m\u001b[1;33m)\u001b[0m\u001b[1;33m\u001b[0m\u001b[1;33m\u001b[0m\u001b[0m\n\u001b[0m",
      "\u001b[1;32m~\\Modelos de Datos\\2_Tarea_OOP\\Shapes.py\u001b[0m in \u001b[0;36m__init__\u001b[1;34m(self, params)\u001b[0m\n\u001b[0;32m     40\u001b[0m             \u001b[1;32melse\u001b[0m\u001b[1;33m:\u001b[0m\u001b[1;33m\u001b[0m\u001b[1;33m\u001b[0m\u001b[0m\n\u001b[0;32m     41\u001b[0m                 \u001b[1;32mif\u001b[0m \u001b[0mi\u001b[0m \u001b[1;33m<=\u001b[0m \u001b[1;36m0\u001b[0m\u001b[1;33m:\u001b[0m\u001b[1;33m\u001b[0m\u001b[1;33m\u001b[0m\u001b[0m\n\u001b[1;32m---> 42\u001b[1;33m                     \u001b[1;32mraise\u001b[0m \u001b[0mValueError\u001b[0m\u001b[1;33m(\u001b[0m\u001b[1;34m\"Parameters must be positive!\"\u001b[0m\u001b[1;33m)\u001b[0m\u001b[1;33m\u001b[0m\u001b[1;33m\u001b[0m\u001b[0m\n\u001b[0m\u001b[0;32m     43\u001b[0m \u001b[1;33m\u001b[0m\u001b[0m\n\u001b[0;32m     44\u001b[0m         \u001b[0mself\u001b[0m\u001b[1;33m.\u001b[0m\u001b[0mparams\u001b[0m \u001b[1;33m=\u001b[0m \u001b[0mparams\u001b[0m\u001b[1;33m\u001b[0m\u001b[1;33m\u001b[0m\u001b[0m\n",
      "\u001b[1;31mValueError\u001b[0m: Parameters must be positive!"
     ]
    }
   ],
   "source": [
    "shape_error = Shapes.Shapes([1,2,3,0])"
   ]
  },
  {
   "cell_type": "markdown",
   "metadata": {},
   "source": [
    "And raising errors if these rules are not met."
   ]
  },
  {
   "cell_type": "markdown",
   "metadata": {},
   "source": [
    "This class has implemented the arithmetic operations for the +, -, * and / operators and returns a new object of the same class that the object. These implementations are methods that all subclasses inherit. These methods works following one of three options:\n",
    "\n",
    "1. The objects to operate are of the same class and the length of the second object is greater or equal than the frist object."
   ]
  },
  {
   "cell_type": "code",
   "execution_count": 9,
   "metadata": {},
   "outputs": [
    {
     "name": "stdout",
     "output_type": "stream",
     "text": [
      "Addition: [5, 7, 9, 11]\n",
      "Subtraction: [3, 3, 3, 3]\n",
      "Multiplication: [4, 10, 18, 28]\n",
      "Division: [4.0, 2.5, 2.0, 1.75]\n"
     ]
    }
   ],
   "source": [
    "shape_a = Shapes.Shapes([4,5,6,7])\n",
    "shape_b = Shapes.Shapes([1,2,3,4])\n",
    "\n",
    "shape_add = shape_a + shape_b\n",
    "shape_sub = shape_a - shape_b\n",
    "shape_mul = shape_a * shape_b\n",
    "shape_div = shape_a / shape_b\n",
    "\n",
    "print(\"Addition:\",shape_add.params)\n",
    "print(\"Subtraction:\",shape_sub.params)\n",
    "print(\"Multiplication:\",shape_mul.params)\n",
    "print(\"Division:\",shape_div.params)"
   ]
  },
  {
   "cell_type": "markdown",
   "metadata": {},
   "source": [
    "2. The object is going to be operated against a single number."
   ]
  },
  {
   "cell_type": "code",
   "execution_count": 10,
   "metadata": {},
   "outputs": [
    {
     "name": "stdout",
     "output_type": "stream",
     "text": [
      "Addition: [5, 6, 7, 8]\n",
      "Subtraction: [3, 4, 5, 6]\n",
      "Multiplication: [8, 10, 12, 14]\n",
      "Division: [2.0, 2.5, 3.0, 3.5]\n"
     ]
    }
   ],
   "source": [
    "shape_a = Shapes.Shapes([4,5,6,7])\n",
    "\n",
    "shape_add = shape_a + 1\n",
    "shape_sub = shape_a - 1\n",
    "shape_mul = shape_a * 2\n",
    "shape_div = shape_a / 2\n",
    "\n",
    "print(\"Addition:\",shape_add.params)\n",
    "print(\"Subtraction:\",shape_sub.params)\n",
    "print(\"Multiplication:\",shape_mul.params)\n",
    "print(\"Division:\",shape_div.params)"
   ]
  },
  {
   "cell_type": "markdown",
   "metadata": {},
   "source": [
    "3. The object is going to be operated against a list of numbers of the same length than the parameters in the object."
   ]
  },
  {
   "cell_type": "code",
   "execution_count": 11,
   "metadata": {},
   "outputs": [
    {
     "name": "stdout",
     "output_type": "stream",
     "text": [
      "Addition: [5, 7, 9, 11]\n",
      "Subtraction: [3, 3, 3, 3]\n",
      "Multiplication: [4, 10, 18, 28]\n",
      "Division: [4.0, 2.5, 2.0, 1.75]\n"
     ]
    }
   ],
   "source": [
    "shape_a = Shapes.Shapes([4,5,6,7])\n",
    "\n",
    "shape_add = shape_a + [1,2,3,4]\n",
    "shape_sub = shape_a - [1,2,3,4]\n",
    "shape_mul = shape_a * [1,2,3,4]\n",
    "shape_div = shape_a / [1,2,3,4]\n",
    "\n",
    "print(\"Addition:\",shape_add.params)\n",
    "print(\"Subtraction:\",shape_sub.params)\n",
    "print(\"Multiplication:\",shape_mul.params)\n",
    "print(\"Division:\",shape_div.params)"
   ]
  },
  {
   "cell_type": "markdown",
   "metadata": {},
   "source": [
    "Implementing the `__radd__`, `__rsub__`, `__rmul__` and `__rtruediv__` methods, positions in the operations against numbers and lists can be changed."
   ]
  },
  {
   "cell_type": "code",
   "execution_count": 12,
   "metadata": {},
   "outputs": [
    {
     "name": "stdout",
     "output_type": "stream",
     "text": [
      "Addition: [5, 6, 7, 8]\n",
      "Subtraction: [6, 5, 4, 3]\n",
      "Multiplication: [8, 10, 12, 14]\n",
      "Division: [0.5, 0.4, 0.3333333333333333, 0.2857142857142857]\n"
     ]
    }
   ],
   "source": [
    "shape_a = Shapes.Shapes([4,5,6,7])\n",
    "\n",
    "shape_add = 1 + shape_a\n",
    "shape_sub = 10 - shape_a\n",
    "shape_mul = 2 * shape_a\n",
    "shape_div = 2 / shape_a\n",
    "\n",
    "print(\"Addition:\",shape_add.params)\n",
    "print(\"Subtraction:\",shape_sub.params)\n",
    "print(\"Multiplication:\",shape_mul.params)\n",
    "print(\"Division:\",shape_div.params)"
   ]
  },
  {
   "cell_type": "code",
   "execution_count": 13,
   "metadata": {},
   "outputs": [
    {
     "name": "stdout",
     "output_type": "stream",
     "text": [
      "Addition: [5, 7, 9, 11]\n",
      "Subtraction: [1, 1, 1, 1]\n",
      "Multiplication: [4, 10, 18, 28]\n",
      "Division: [0.25, 0.4, 0.5, 0.5714285714285714]\n"
     ]
    }
   ],
   "source": [
    "shape_a = Shapes.Shapes([4,5,6,7])\n",
    "\n",
    "shape_add = [1,2,3,4] + shape_a\n",
    "shape_sub = [5,6,7,8] - shape_a\n",
    "shape_mul = [1,2,3,4] * shape_a\n",
    "shape_div = [1,2,3,4] / shape_a\n",
    "\n",
    "print(\"Addition:\",shape_add.params)\n",
    "print(\"Subtraction:\",shape_sub.params)\n",
    "print(\"Multiplication:\",shape_mul.params)\n",
    "print(\"Division:\",shape_div.params)"
   ]
  },
  {
   "cell_type": "markdown",
   "metadata": {},
   "source": [
    "Since in the initialization the negative parameters are not allowed, an arithmetic operation resulting in a negative parameter will raise an error."
   ]
  },
  {
   "cell_type": "markdown",
   "metadata": {},
   "source": [
    "<div class=\"alert alert-danger\" role=\"alert\">\n",
    "    The next code will raise an error since the subtraction tries to create a new shape object with <b>negative numbers</b>.\n",
    "</div>"
   ]
  },
  {
   "cell_type": "code",
   "execution_count": 14,
   "metadata": {},
   "outputs": [
    {
     "ename": "ValueError",
     "evalue": "Parameters must be positive!",
     "output_type": "error",
     "traceback": [
      "\u001b[1;31m---------------------------------------------------------------------------\u001b[0m",
      "\u001b[1;31mValueError\u001b[0m                                Traceback (most recent call last)",
      "\u001b[1;32m<ipython-input-14-f7ed60d118da>\u001b[0m in \u001b[0;36m<module>\u001b[1;34m\u001b[0m\n\u001b[0;32m      2\u001b[0m \u001b[0mshape_b\u001b[0m \u001b[1;33m=\u001b[0m \u001b[0mShapes\u001b[0m\u001b[1;33m.\u001b[0m\u001b[0mShapes\u001b[0m\u001b[1;33m(\u001b[0m\u001b[1;33m[\u001b[0m\u001b[1;36m3\u001b[0m\u001b[1;33m,\u001b[0m\u001b[1;36m3\u001b[0m\u001b[1;33m,\u001b[0m\u001b[1;36m3\u001b[0m\u001b[1;33m,\u001b[0m\u001b[1;36m3\u001b[0m\u001b[1;33m]\u001b[0m\u001b[1;33m)\u001b[0m\u001b[1;33m\u001b[0m\u001b[1;33m\u001b[0m\u001b[0m\n\u001b[0;32m      3\u001b[0m \u001b[1;33m\u001b[0m\u001b[0m\n\u001b[1;32m----> 4\u001b[1;33m \u001b[0mshape_error\u001b[0m \u001b[1;33m=\u001b[0m \u001b[0mshape_a\u001b[0m \u001b[1;33m-\u001b[0m \u001b[0mshape_b\u001b[0m\u001b[1;33m\u001b[0m\u001b[1;33m\u001b[0m\u001b[0m\n\u001b[0m",
      "\u001b[1;32m~\\Modelos de Datos\\2_Tarea_OOP\\Shapes.py\u001b[0m in \u001b[0;36m__sub__\u001b[1;34m(self, other)\u001b[0m\n\u001b[0;32m     95\u001b[0m \u001b[1;33m\u001b[0m\u001b[0m\n\u001b[0;32m     96\u001b[0m         \u001b[1;32mif\u001b[0m \u001b[0mtype\u001b[0m\u001b[1;33m(\u001b[0m\u001b[0mself\u001b[0m\u001b[1;33m)\u001b[0m \u001b[1;33m==\u001b[0m \u001b[0mtype\u001b[0m\u001b[1;33m(\u001b[0m\u001b[0mother\u001b[0m\u001b[1;33m)\u001b[0m\u001b[1;33m:\u001b[0m\u001b[1;33m\u001b[0m\u001b[1;33m\u001b[0m\u001b[0m\n\u001b[1;32m---> 97\u001b[1;33m             \u001b[1;32mreturn\u001b[0m \u001b[0mtype\u001b[0m\u001b[1;33m(\u001b[0m\u001b[0mself\u001b[0m\u001b[1;33m)\u001b[0m\u001b[1;33m(\u001b[0m\u001b[1;33m[\u001b[0m\u001b[0mself\u001b[0m\u001b[1;33m.\u001b[0m\u001b[0mparams\u001b[0m\u001b[1;33m[\u001b[0m\u001b[0mi\u001b[0m\u001b[1;33m]\u001b[0m \u001b[1;33m-\u001b[0m \u001b[0mother\u001b[0m\u001b[1;33m.\u001b[0m\u001b[0mparams\u001b[0m\u001b[1;33m[\u001b[0m\u001b[0mi\u001b[0m\u001b[1;33m]\u001b[0m \u001b[1;32mfor\u001b[0m \u001b[0mi\u001b[0m \u001b[1;32min\u001b[0m \u001b[0mrange\u001b[0m\u001b[1;33m(\u001b[0m\u001b[0mlen\u001b[0m\u001b[1;33m(\u001b[0m\u001b[0mself\u001b[0m\u001b[1;33m.\u001b[0m\u001b[0mparams\u001b[0m\u001b[1;33m)\u001b[0m\u001b[1;33m)\u001b[0m\u001b[1;33m]\u001b[0m\u001b[1;33m)\u001b[0m\u001b[1;33m\u001b[0m\u001b[1;33m\u001b[0m\u001b[0m\n\u001b[0m\u001b[0;32m     98\u001b[0m \u001b[1;33m\u001b[0m\u001b[0m\n\u001b[0;32m     99\u001b[0m         \u001b[1;32melif\u001b[0m \u001b[0misinstance\u001b[0m\u001b[1;33m(\u001b[0m\u001b[0mother\u001b[0m\u001b[1;33m,\u001b[0m\u001b[0mlist\u001b[0m\u001b[1;33m)\u001b[0m\u001b[1;33m:\u001b[0m\u001b[1;33m\u001b[0m\u001b[1;33m\u001b[0m\u001b[0m\n",
      "\u001b[1;32m~\\Modelos de Datos\\2_Tarea_OOP\\Shapes.py\u001b[0m in \u001b[0;36m__init__\u001b[1;34m(self, params)\u001b[0m\n\u001b[0;32m     40\u001b[0m             \u001b[1;32melse\u001b[0m\u001b[1;33m:\u001b[0m\u001b[1;33m\u001b[0m\u001b[1;33m\u001b[0m\u001b[0m\n\u001b[0;32m     41\u001b[0m                 \u001b[1;32mif\u001b[0m \u001b[0mi\u001b[0m \u001b[1;33m<=\u001b[0m \u001b[1;36m0\u001b[0m\u001b[1;33m:\u001b[0m\u001b[1;33m\u001b[0m\u001b[1;33m\u001b[0m\u001b[0m\n\u001b[1;32m---> 42\u001b[1;33m                     \u001b[1;32mraise\u001b[0m \u001b[0mValueError\u001b[0m\u001b[1;33m(\u001b[0m\u001b[1;34m\"Parameters must be positive!\"\u001b[0m\u001b[1;33m)\u001b[0m\u001b[1;33m\u001b[0m\u001b[1;33m\u001b[0m\u001b[0m\n\u001b[0m\u001b[0;32m     43\u001b[0m \u001b[1;33m\u001b[0m\u001b[0m\n\u001b[0;32m     44\u001b[0m         \u001b[0mself\u001b[0m\u001b[1;33m.\u001b[0m\u001b[0mparams\u001b[0m \u001b[1;33m=\u001b[0m \u001b[0mparams\u001b[0m\u001b[1;33m\u001b[0m\u001b[1;33m\u001b[0m\u001b[0m\n",
      "\u001b[1;31mValueError\u001b[0m: Parameters must be positive!"
     ]
    }
   ],
   "source": [
    "shape_a = Shapes.Shapes([1,1,1,1])\n",
    "shape_b = Shapes.Shapes([3,3,3,3])\n",
    "\n",
    "shape_error = shape_a - shape_b"
   ]
  },
  {
   "cell_type": "markdown",
   "metadata": {},
   "source": [
    "This class has also implemented the logical operations <, <=, ==, !=, >, >=. But, since these operations are implemented for an **area** attribute that the Shapes class does not have, they will just work for all the subclasses that have the **area** attribute.\n",
    "\n",
    "<div class=\"alert alert-warning\" role=\"alert\">\n",
    "    If a subclass does not have an <b>area</b> attribute, logical operations can't be computed.\n",
    "</div>"
   ]
  },
  {
   "cell_type": "markdown",
   "metadata": {},
   "source": [
    "The methods `__str__` (the informal string that describes the object) and `__repr__` (the formal string that describes the object) in the Shapes class raise a `NotImplementedError` to force the subclasses to implement them."
   ]
  },
  {
   "cell_type": "markdown",
   "metadata": {},
   "source": [
    "<h3>Circle <span class=\"badge badge-secondary\">Subclass</span></h3>\n",
    "\n",
    "Circle class is a subclass that inherits the methods and attributes from the Shapes class."
   ]
  },
  {
   "cell_type": "code",
   "execution_count": 15,
   "metadata": {},
   "outputs": [],
   "source": [
    "Shapes.Circle?"
   ]
  },
  {
   "cell_type": "markdown",
   "metadata": {},
   "source": [
    "This class is initialized with just one **argument** (radius) and contains the next attributes: **params** (inherited from the Shapes class), **radius** (extracted from the **radius** argument) and **area** (calculated from the **radius** attribute)."
   ]
  },
  {
   "cell_type": "code",
   "execution_count": 16,
   "metadata": {},
   "outputs": [
    {
     "name": "stdout",
     "output_type": "stream",
     "text": [
      "Parameters in the argument radius: [1]\n",
      "Radius: 1\n",
      "Area: 3.141592653589793\n"
     ]
    }
   ],
   "source": [
    "random_circle = Shapes.Circle(1)\n",
    "\n",
    "print(\"Parameters in the argument radius:\",random_circle.params)\n",
    "print(\"Radius:\",random_circle.radius)\n",
    "print(\"Area:\",random_circle.area)"
   ]
  },
  {
   "cell_type": "markdown",
   "metadata": {},
   "source": [
    "The Cicle class has overloaded the `__str__` method (the informal string that describes the object):"
   ]
  },
  {
   "cell_type": "code",
   "execution_count": 17,
   "metadata": {
    "scrolled": true
   },
   "outputs": [
    {
     "name": "stdout",
     "output_type": "stream",
     "text": [
      "Circle (radius = 1, area = 3.141592653589793)\n"
     ]
    }
   ],
   "source": [
    "random_circle = Shapes.Circle(1)\n",
    "\n",
    "print(random_circle)"
   ]
  },
  {
   "cell_type": "markdown",
   "metadata": {},
   "source": [
    "And the `__repr__` method (the formal string that describes the object):"
   ]
  },
  {
   "cell_type": "code",
   "execution_count": 18,
   "metadata": {},
   "outputs": [
    {
     "data": {
      "text/plain": [
       "<Circle (radius = 1, area = 3.141592653589793)>"
      ]
     },
     "execution_count": 18,
     "metadata": {},
     "output_type": "execute_result"
    }
   ],
   "source": [
    "random_circle = Shapes.Circle(1)\n",
    "\n",
    "random_circle"
   ]
  },
  {
   "cell_type": "markdown",
   "metadata": {},
   "source": [
    "Circle class has, besides the common initialization inherited from Shapes, another initialization rule:\n",
    "\n",
    "- The radius argument may be a list, but it must only contain one element."
   ]
  },
  {
   "cell_type": "markdown",
   "metadata": {},
   "source": [
    "<div class=\"alert alert-danger\" role=\"alert\">\n",
    "    The next code will raise an error since the circle class just admit one element in the <b>radius</b>.\n",
    "</div>"
   ]
  },
  {
   "cell_type": "code",
   "execution_count": 19,
   "metadata": {
    "scrolled": true
   },
   "outputs": [
    {
     "ename": "ValueError",
     "evalue": "Too many parameters! Just need the radius!",
     "output_type": "error",
     "traceback": [
      "\u001b[1;31m---------------------------------------------------------------------------\u001b[0m",
      "\u001b[1;31mValueError\u001b[0m                                Traceback (most recent call last)",
      "\u001b[1;32m<ipython-input-19-38866c0cfcd4>\u001b[0m in \u001b[0;36m<module>\u001b[1;34m\u001b[0m\n\u001b[1;32m----> 1\u001b[1;33m \u001b[0mcircle_error\u001b[0m \u001b[1;33m=\u001b[0m \u001b[0mShapes\u001b[0m\u001b[1;33m.\u001b[0m\u001b[0mCircle\u001b[0m\u001b[1;33m(\u001b[0m\u001b[1;33m[\u001b[0m\u001b[1;36m1\u001b[0m\u001b[1;33m,\u001b[0m\u001b[1;36m2\u001b[0m\u001b[1;33m,\u001b[0m\u001b[1;36m3\u001b[0m\u001b[1;33m]\u001b[0m\u001b[1;33m)\u001b[0m\u001b[1;33m\u001b[0m\u001b[1;33m\u001b[0m\u001b[0m\n\u001b[0m",
      "\u001b[1;32m~\\Modelos de Datos\\2_Tarea_OOP\\Shapes.py\u001b[0m in \u001b[0;36m__init__\u001b[1;34m(self, r)\u001b[0m\n\u001b[0;32m    334\u001b[0m             \u001b[0msuper\u001b[0m\u001b[1;33m(\u001b[0m\u001b[1;33m)\u001b[0m\u001b[1;33m.\u001b[0m\u001b[0m__init__\u001b[0m\u001b[1;33m(\u001b[0m\u001b[0mr\u001b[0m\u001b[1;33m)\u001b[0m\u001b[1;33m\u001b[0m\u001b[1;33m\u001b[0m\u001b[0m\n\u001b[0;32m    335\u001b[0m         \u001b[1;32melse\u001b[0m\u001b[1;33m:\u001b[0m\u001b[1;33m\u001b[0m\u001b[1;33m\u001b[0m\u001b[0m\n\u001b[1;32m--> 336\u001b[1;33m             \u001b[1;32mraise\u001b[0m \u001b[0mValueError\u001b[0m\u001b[1;33m(\u001b[0m\u001b[1;34m\"Too many parameters! Just need the radius!\"\u001b[0m\u001b[1;33m)\u001b[0m\u001b[1;33m\u001b[0m\u001b[1;33m\u001b[0m\u001b[0m\n\u001b[0m\u001b[0;32m    337\u001b[0m \u001b[1;33m\u001b[0m\u001b[0m\n\u001b[0;32m    338\u001b[0m         \u001b[0mself\u001b[0m\u001b[1;33m.\u001b[0m\u001b[0mradius\u001b[0m \u001b[1;33m=\u001b[0m \u001b[0mr\u001b[0m\u001b[1;33m[\u001b[0m\u001b[1;36m0\u001b[0m\u001b[1;33m]\u001b[0m\u001b[1;33m\u001b[0m\u001b[1;33m\u001b[0m\u001b[0m\n",
      "\u001b[1;31mValueError\u001b[0m: Too many parameters! Just need the radius!"
     ]
    }
   ],
   "source": [
    "circle_error = Shapes.Circle([1,2,3])"
   ]
  },
  {
   "cell_type": "markdown",
   "metadata": {},
   "source": [
    "<div class=\"alert alert-danger\" role=\"alert\">\n",
    "    The next code will raise an error since <b>radius</b> is a <b>negative number</b>.\n",
    "</div>"
   ]
  },
  {
   "cell_type": "code",
   "execution_count": 20,
   "metadata": {
    "scrolled": true
   },
   "outputs": [
    {
     "ename": "ValueError",
     "evalue": "Parameters must be positive!",
     "output_type": "error",
     "traceback": [
      "\u001b[1;31m---------------------------------------------------------------------------\u001b[0m",
      "\u001b[1;31mValueError\u001b[0m                                Traceback (most recent call last)",
      "\u001b[1;32m<ipython-input-20-2ba84c79a37f>\u001b[0m in \u001b[0;36m<module>\u001b[1;34m\u001b[0m\n\u001b[1;32m----> 1\u001b[1;33m \u001b[0mcircle_error\u001b[0m \u001b[1;33m=\u001b[0m \u001b[0mShapes\u001b[0m\u001b[1;33m.\u001b[0m\u001b[0mCircle\u001b[0m\u001b[1;33m(\u001b[0m\u001b[1;33m-\u001b[0m\u001b[1;36m1\u001b[0m\u001b[1;33m)\u001b[0m\u001b[1;33m\u001b[0m\u001b[1;33m\u001b[0m\u001b[0m\n\u001b[0m",
      "\u001b[1;32m~\\Modelos de Datos\\2_Tarea_OOP\\Shapes.py\u001b[0m in \u001b[0;36m__init__\u001b[1;34m(self, r)\u001b[0m\n\u001b[0;32m    332\u001b[0m \u001b[1;33m\u001b[0m\u001b[0m\n\u001b[0;32m    333\u001b[0m         \u001b[1;32mif\u001b[0m \u001b[0mlen\u001b[0m\u001b[1;33m(\u001b[0m\u001b[0mr\u001b[0m\u001b[1;33m)\u001b[0m \u001b[1;33m==\u001b[0m \u001b[1;36m1\u001b[0m\u001b[1;33m:\u001b[0m\u001b[1;33m\u001b[0m\u001b[1;33m\u001b[0m\u001b[0m\n\u001b[1;32m--> 334\u001b[1;33m             \u001b[0msuper\u001b[0m\u001b[1;33m(\u001b[0m\u001b[1;33m)\u001b[0m\u001b[1;33m.\u001b[0m\u001b[0m__init__\u001b[0m\u001b[1;33m(\u001b[0m\u001b[0mr\u001b[0m\u001b[1;33m)\u001b[0m\u001b[1;33m\u001b[0m\u001b[1;33m\u001b[0m\u001b[0m\n\u001b[0m\u001b[0;32m    335\u001b[0m         \u001b[1;32melse\u001b[0m\u001b[1;33m:\u001b[0m\u001b[1;33m\u001b[0m\u001b[1;33m\u001b[0m\u001b[0m\n\u001b[0;32m    336\u001b[0m             \u001b[1;32mraise\u001b[0m \u001b[0mValueError\u001b[0m\u001b[1;33m(\u001b[0m\u001b[1;34m\"Too many parameters! Just need the radius!\"\u001b[0m\u001b[1;33m)\u001b[0m\u001b[1;33m\u001b[0m\u001b[1;33m\u001b[0m\u001b[0m\n",
      "\u001b[1;32m~\\Modelos de Datos\\2_Tarea_OOP\\Shapes.py\u001b[0m in \u001b[0;36m__init__\u001b[1;34m(self, params)\u001b[0m\n\u001b[0;32m     40\u001b[0m             \u001b[1;32melse\u001b[0m\u001b[1;33m:\u001b[0m\u001b[1;33m\u001b[0m\u001b[1;33m\u001b[0m\u001b[0m\n\u001b[0;32m     41\u001b[0m                 \u001b[1;32mif\u001b[0m \u001b[0mi\u001b[0m \u001b[1;33m<=\u001b[0m \u001b[1;36m0\u001b[0m\u001b[1;33m:\u001b[0m\u001b[1;33m\u001b[0m\u001b[1;33m\u001b[0m\u001b[0m\n\u001b[1;32m---> 42\u001b[1;33m                     \u001b[1;32mraise\u001b[0m \u001b[0mValueError\u001b[0m\u001b[1;33m(\u001b[0m\u001b[1;34m\"Parameters must be positive!\"\u001b[0m\u001b[1;33m)\u001b[0m\u001b[1;33m\u001b[0m\u001b[1;33m\u001b[0m\u001b[0m\n\u001b[0m\u001b[0;32m     43\u001b[0m \u001b[1;33m\u001b[0m\u001b[0m\n\u001b[0;32m     44\u001b[0m         \u001b[0mself\u001b[0m\u001b[1;33m.\u001b[0m\u001b[0mparams\u001b[0m \u001b[1;33m=\u001b[0m \u001b[0mparams\u001b[0m\u001b[1;33m\u001b[0m\u001b[1;33m\u001b[0m\u001b[0m\n",
      "\u001b[1;31mValueError\u001b[0m: Parameters must be positive!"
     ]
    }
   ],
   "source": [
    "circle_error = Shapes.Circle(-1)"
   ]
  },
  {
   "cell_type": "markdown",
   "metadata": {},
   "source": [
    "<div class=\"alert alert-danger\" role=\"alert\">\n",
    "    The next code will raise an error since <b>radius</b> is a <b>string</b>.\n",
    "</div>"
   ]
  },
  {
   "cell_type": "code",
   "execution_count": 21,
   "metadata": {
    "scrolled": true
   },
   "outputs": [
    {
     "ename": "TypeError",
     "evalue": "I need numbers!",
     "output_type": "error",
     "traceback": [
      "\u001b[1;31m---------------------------------------------------------------------------\u001b[0m",
      "\u001b[1;31mTypeError\u001b[0m                                 Traceback (most recent call last)",
      "\u001b[1;32m<ipython-input-21-7d64a777a91a>\u001b[0m in \u001b[0;36m<module>\u001b[1;34m\u001b[0m\n\u001b[1;32m----> 1\u001b[1;33m \u001b[0mcircle_error\u001b[0m \u001b[1;33m=\u001b[0m \u001b[0mShapes\u001b[0m\u001b[1;33m.\u001b[0m\u001b[0mCircle\u001b[0m\u001b[1;33m(\u001b[0m\u001b[1;34m\"s\"\u001b[0m\u001b[1;33m)\u001b[0m\u001b[1;33m\u001b[0m\u001b[1;33m\u001b[0m\u001b[0m\n\u001b[0m",
      "\u001b[1;32m~\\Modelos de Datos\\2_Tarea_OOP\\Shapes.py\u001b[0m in \u001b[0;36m__init__\u001b[1;34m(self, r)\u001b[0m\n\u001b[0;32m    332\u001b[0m \u001b[1;33m\u001b[0m\u001b[0m\n\u001b[0;32m    333\u001b[0m         \u001b[1;32mif\u001b[0m \u001b[0mlen\u001b[0m\u001b[1;33m(\u001b[0m\u001b[0mr\u001b[0m\u001b[1;33m)\u001b[0m \u001b[1;33m==\u001b[0m \u001b[1;36m1\u001b[0m\u001b[1;33m:\u001b[0m\u001b[1;33m\u001b[0m\u001b[1;33m\u001b[0m\u001b[0m\n\u001b[1;32m--> 334\u001b[1;33m             \u001b[0msuper\u001b[0m\u001b[1;33m(\u001b[0m\u001b[1;33m)\u001b[0m\u001b[1;33m.\u001b[0m\u001b[0m__init__\u001b[0m\u001b[1;33m(\u001b[0m\u001b[0mr\u001b[0m\u001b[1;33m)\u001b[0m\u001b[1;33m\u001b[0m\u001b[1;33m\u001b[0m\u001b[0m\n\u001b[0m\u001b[0;32m    335\u001b[0m         \u001b[1;32melse\u001b[0m\u001b[1;33m:\u001b[0m\u001b[1;33m\u001b[0m\u001b[1;33m\u001b[0m\u001b[0m\n\u001b[0;32m    336\u001b[0m             \u001b[1;32mraise\u001b[0m \u001b[0mValueError\u001b[0m\u001b[1;33m(\u001b[0m\u001b[1;34m\"Too many parameters! Just need the radius!\"\u001b[0m\u001b[1;33m)\u001b[0m\u001b[1;33m\u001b[0m\u001b[1;33m\u001b[0m\u001b[0m\n",
      "\u001b[1;32m~\\Modelos de Datos\\2_Tarea_OOP\\Shapes.py\u001b[0m in \u001b[0;36m__init__\u001b[1;34m(self, params)\u001b[0m\n\u001b[0;32m     37\u001b[0m         \u001b[1;32mfor\u001b[0m \u001b[0mi\u001b[0m \u001b[1;32min\u001b[0m \u001b[0mparams\u001b[0m\u001b[1;33m:\u001b[0m\u001b[1;33m\u001b[0m\u001b[1;33m\u001b[0m\u001b[0m\n\u001b[0;32m     38\u001b[0m             \u001b[1;32mif\u001b[0m \u001b[0mtype\u001b[0m\u001b[1;33m(\u001b[0m\u001b[0mi\u001b[0m\u001b[1;33m)\u001b[0m \u001b[1;32mis\u001b[0m \u001b[1;32mnot\u001b[0m \u001b[0mint\u001b[0m \u001b[1;32mand\u001b[0m \u001b[0mtype\u001b[0m\u001b[1;33m(\u001b[0m\u001b[0mi\u001b[0m\u001b[1;33m)\u001b[0m \u001b[1;32mis\u001b[0m \u001b[1;32mnot\u001b[0m \u001b[0mfloat\u001b[0m\u001b[1;33m:\u001b[0m\u001b[1;33m\u001b[0m\u001b[1;33m\u001b[0m\u001b[0m\n\u001b[1;32m---> 39\u001b[1;33m                 \u001b[1;32mraise\u001b[0m \u001b[0mTypeError\u001b[0m\u001b[1;33m(\u001b[0m\u001b[1;34m\"I need numbers!\"\u001b[0m\u001b[1;33m)\u001b[0m\u001b[1;33m\u001b[0m\u001b[1;33m\u001b[0m\u001b[0m\n\u001b[0m\u001b[0;32m     40\u001b[0m             \u001b[1;32melse\u001b[0m\u001b[1;33m:\u001b[0m\u001b[1;33m\u001b[0m\u001b[1;33m\u001b[0m\u001b[0m\n\u001b[0;32m     41\u001b[0m                 \u001b[1;32mif\u001b[0m \u001b[0mi\u001b[0m \u001b[1;33m<=\u001b[0m \u001b[1;36m0\u001b[0m\u001b[1;33m:\u001b[0m\u001b[1;33m\u001b[0m\u001b[1;33m\u001b[0m\u001b[0m\n",
      "\u001b[1;31mTypeError\u001b[0m: I need numbers!"
     ]
    }
   ],
   "source": [
    "circle_error = Shapes.Circle(\"s\")"
   ]
  },
  {
   "cell_type": "markdown",
   "metadata": {},
   "source": [
    "The arithmetic operations are inherited from the Shapes class and every time one of these methods is called a new Circle class is created."
   ]
  },
  {
   "cell_type": "code",
   "execution_count": 22,
   "metadata": {},
   "outputs": [
    {
     "name": "stdout",
     "output_type": "stream",
     "text": [
      "Addition: Circle (radius = 11, area = 380.132711084365)\n",
      "Subtraction: Circle (radius = 7, area = 153.93804002589985)\n",
      "Multiplication: Circle (radius = 18, area = 1017.8760197630929)\n",
      "Division: Circle (radius = 4.5, area = 63.61725123519331)\n"
     ]
    }
   ],
   "source": [
    "circle_a = Shapes.Circle(9)\n",
    "circle_b = Shapes.Circle(2)\n",
    "\n",
    "circle_add = circle_a + circle_b\n",
    "circle_sub = circle_a - circle_b\n",
    "circle_mul = circle_a * circle_b\n",
    "circle_div = circle_a / circle_b\n",
    "\n",
    "print(\"Addition:\",circle_add)\n",
    "print(\"Subtraction:\",circle_sub)\n",
    "print(\"Multiplication:\",circle_mul)\n",
    "print(\"Division:\",circle_div)"
   ]
  },
  {
   "cell_type": "markdown",
   "metadata": {},
   "source": [
    "Since Circle inherits from Shapes, arithmetic operations can also be computed with numeric classes."
   ]
  },
  {
   "cell_type": "code",
   "execution_count": 23,
   "metadata": {},
   "outputs": [
    {
     "name": "stdout",
     "output_type": "stream",
     "text": [
      "Addition: Circle (radius = 10, area = 314.1592653589793)\n",
      "Subtraction: Circle (radius = 8, area = 201.06192982974676)\n",
      "Multiplication: Circle (radius = 18, area = 1017.8760197630929)\n",
      "Division: Circle (radius = 4.5, area = 63.61725123519331)\n"
     ]
    }
   ],
   "source": [
    "circle_a = Shapes.Circle(9)\n",
    "\n",
    "circle_add = circle_a + 1\n",
    "circle_sub = circle_a - 1\n",
    "circle_mul = circle_a * 2\n",
    "circle_div = circle_a / 2\n",
    "\n",
    "print(\"Addition:\",circle_add)\n",
    "print(\"Subtraction:\",circle_sub)\n",
    "print(\"Multiplication:\",circle_mul)\n",
    "print(\"Division:\",circle_div)"
   ]
  },
  {
   "cell_type": "markdown",
   "metadata": {},
   "source": [
    "And the positions can be changed for computing these arithmetic operations:"
   ]
  },
  {
   "cell_type": "code",
   "execution_count": 24,
   "metadata": {},
   "outputs": [
    {
     "name": "stdout",
     "output_type": "stream",
     "text": [
      "Addition: Circle (radius = 10, area = 314.1592653589793)\n",
      "Subtraction: Circle (radius = 1, area = 3.141592653589793)\n",
      "Multiplication: Circle (radius = 18, area = 1017.8760197630929)\n",
      "Division: Circle (radius = 0.2222222222222222, area = 0.1551403779550515)\n"
     ]
    }
   ],
   "source": [
    "circle_a = Shapes.Circle(9)\n",
    "\n",
    "circle_add = 1 + circle_a\n",
    "circle_sub = 10 - circle_a\n",
    "circle_mul = 2 * circle_a\n",
    "circle_div = 2 / circle_a\n",
    "\n",
    "print(\"Addition:\",circle_add)\n",
    "print(\"Subtraction:\",circle_sub)\n",
    "print(\"Multiplication:\",circle_mul)\n",
    "print(\"Division:\",circle_div)"
   ]
  },
  {
   "cell_type": "markdown",
   "metadata": {},
   "source": [
    "Since in the initialization inherited from the Shapes class the negative parameters are not allowed, an arithmetic operation resulting in a negative radius will raise an error."
   ]
  },
  {
   "cell_type": "markdown",
   "metadata": {},
   "source": [
    "<div class=\"alert alert-danger\" role=\"alert\">\n",
    "    The next code will raise an error since the subtraction tries to create a new circle object with a <b>negative radius</b>.\n",
    "</div>"
   ]
  },
  {
   "cell_type": "code",
   "execution_count": 25,
   "metadata": {},
   "outputs": [
    {
     "ename": "ValueError",
     "evalue": "Parameters must be positive!",
     "output_type": "error",
     "traceback": [
      "\u001b[1;31m---------------------------------------------------------------------------\u001b[0m",
      "\u001b[1;31mValueError\u001b[0m                                Traceback (most recent call last)",
      "\u001b[1;32m<ipython-input-25-b77a540ae314>\u001b[0m in \u001b[0;36m<module>\u001b[1;34m\u001b[0m\n\u001b[0;32m      2\u001b[0m \u001b[0mcircle_b\u001b[0m \u001b[1;33m=\u001b[0m \u001b[0mShapes\u001b[0m\u001b[1;33m.\u001b[0m\u001b[0mCircle\u001b[0m\u001b[1;33m(\u001b[0m\u001b[1;36m3\u001b[0m\u001b[1;33m)\u001b[0m\u001b[1;33m\u001b[0m\u001b[1;33m\u001b[0m\u001b[0m\n\u001b[0;32m      3\u001b[0m \u001b[1;33m\u001b[0m\u001b[0m\n\u001b[1;32m----> 4\u001b[1;33m \u001b[0mcircle_error\u001b[0m \u001b[1;33m=\u001b[0m \u001b[0mcircle_a\u001b[0m \u001b[1;33m-\u001b[0m \u001b[0mcircle_b\u001b[0m\u001b[1;33m\u001b[0m\u001b[1;33m\u001b[0m\u001b[0m\n\u001b[0m",
      "\u001b[1;32m~\\Modelos de Datos\\2_Tarea_OOP\\Shapes.py\u001b[0m in \u001b[0;36m__sub__\u001b[1;34m(self, other)\u001b[0m\n\u001b[0;32m     95\u001b[0m \u001b[1;33m\u001b[0m\u001b[0m\n\u001b[0;32m     96\u001b[0m         \u001b[1;32mif\u001b[0m \u001b[0mtype\u001b[0m\u001b[1;33m(\u001b[0m\u001b[0mself\u001b[0m\u001b[1;33m)\u001b[0m \u001b[1;33m==\u001b[0m \u001b[0mtype\u001b[0m\u001b[1;33m(\u001b[0m\u001b[0mother\u001b[0m\u001b[1;33m)\u001b[0m\u001b[1;33m:\u001b[0m\u001b[1;33m\u001b[0m\u001b[1;33m\u001b[0m\u001b[0m\n\u001b[1;32m---> 97\u001b[1;33m             \u001b[1;32mreturn\u001b[0m \u001b[0mtype\u001b[0m\u001b[1;33m(\u001b[0m\u001b[0mself\u001b[0m\u001b[1;33m)\u001b[0m\u001b[1;33m(\u001b[0m\u001b[1;33m[\u001b[0m\u001b[0mself\u001b[0m\u001b[1;33m.\u001b[0m\u001b[0mparams\u001b[0m\u001b[1;33m[\u001b[0m\u001b[0mi\u001b[0m\u001b[1;33m]\u001b[0m \u001b[1;33m-\u001b[0m \u001b[0mother\u001b[0m\u001b[1;33m.\u001b[0m\u001b[0mparams\u001b[0m\u001b[1;33m[\u001b[0m\u001b[0mi\u001b[0m\u001b[1;33m]\u001b[0m \u001b[1;32mfor\u001b[0m \u001b[0mi\u001b[0m \u001b[1;32min\u001b[0m \u001b[0mrange\u001b[0m\u001b[1;33m(\u001b[0m\u001b[0mlen\u001b[0m\u001b[1;33m(\u001b[0m\u001b[0mself\u001b[0m\u001b[1;33m.\u001b[0m\u001b[0mparams\u001b[0m\u001b[1;33m)\u001b[0m\u001b[1;33m)\u001b[0m\u001b[1;33m]\u001b[0m\u001b[1;33m)\u001b[0m\u001b[1;33m\u001b[0m\u001b[1;33m\u001b[0m\u001b[0m\n\u001b[0m\u001b[0;32m     98\u001b[0m \u001b[1;33m\u001b[0m\u001b[0m\n\u001b[0;32m     99\u001b[0m         \u001b[1;32melif\u001b[0m \u001b[0misinstance\u001b[0m\u001b[1;33m(\u001b[0m\u001b[0mother\u001b[0m\u001b[1;33m,\u001b[0m\u001b[0mlist\u001b[0m\u001b[1;33m)\u001b[0m\u001b[1;33m:\u001b[0m\u001b[1;33m\u001b[0m\u001b[1;33m\u001b[0m\u001b[0m\n",
      "\u001b[1;32m~\\Modelos de Datos\\2_Tarea_OOP\\Shapes.py\u001b[0m in \u001b[0;36m__init__\u001b[1;34m(self, r)\u001b[0m\n\u001b[0;32m    332\u001b[0m \u001b[1;33m\u001b[0m\u001b[0m\n\u001b[0;32m    333\u001b[0m         \u001b[1;32mif\u001b[0m \u001b[0mlen\u001b[0m\u001b[1;33m(\u001b[0m\u001b[0mr\u001b[0m\u001b[1;33m)\u001b[0m \u001b[1;33m==\u001b[0m \u001b[1;36m1\u001b[0m\u001b[1;33m:\u001b[0m\u001b[1;33m\u001b[0m\u001b[1;33m\u001b[0m\u001b[0m\n\u001b[1;32m--> 334\u001b[1;33m             \u001b[0msuper\u001b[0m\u001b[1;33m(\u001b[0m\u001b[1;33m)\u001b[0m\u001b[1;33m.\u001b[0m\u001b[0m__init__\u001b[0m\u001b[1;33m(\u001b[0m\u001b[0mr\u001b[0m\u001b[1;33m)\u001b[0m\u001b[1;33m\u001b[0m\u001b[1;33m\u001b[0m\u001b[0m\n\u001b[0m\u001b[0;32m    335\u001b[0m         \u001b[1;32melse\u001b[0m\u001b[1;33m:\u001b[0m\u001b[1;33m\u001b[0m\u001b[1;33m\u001b[0m\u001b[0m\n\u001b[0;32m    336\u001b[0m             \u001b[1;32mraise\u001b[0m \u001b[0mValueError\u001b[0m\u001b[1;33m(\u001b[0m\u001b[1;34m\"Too many parameters! Just need the radius!\"\u001b[0m\u001b[1;33m)\u001b[0m\u001b[1;33m\u001b[0m\u001b[1;33m\u001b[0m\u001b[0m\n",
      "\u001b[1;32m~\\Modelos de Datos\\2_Tarea_OOP\\Shapes.py\u001b[0m in \u001b[0;36m__init__\u001b[1;34m(self, params)\u001b[0m\n\u001b[0;32m     40\u001b[0m             \u001b[1;32melse\u001b[0m\u001b[1;33m:\u001b[0m\u001b[1;33m\u001b[0m\u001b[1;33m\u001b[0m\u001b[0m\n\u001b[0;32m     41\u001b[0m                 \u001b[1;32mif\u001b[0m \u001b[0mi\u001b[0m \u001b[1;33m<=\u001b[0m \u001b[1;36m0\u001b[0m\u001b[1;33m:\u001b[0m\u001b[1;33m\u001b[0m\u001b[1;33m\u001b[0m\u001b[0m\n\u001b[1;32m---> 42\u001b[1;33m                     \u001b[1;32mraise\u001b[0m \u001b[0mValueError\u001b[0m\u001b[1;33m(\u001b[0m\u001b[1;34m\"Parameters must be positive!\"\u001b[0m\u001b[1;33m)\u001b[0m\u001b[1;33m\u001b[0m\u001b[1;33m\u001b[0m\u001b[0m\n\u001b[0m\u001b[0;32m     43\u001b[0m \u001b[1;33m\u001b[0m\u001b[0m\n\u001b[0;32m     44\u001b[0m         \u001b[0mself\u001b[0m\u001b[1;33m.\u001b[0m\u001b[0mparams\u001b[0m \u001b[1;33m=\u001b[0m \u001b[0mparams\u001b[0m\u001b[1;33m\u001b[0m\u001b[1;33m\u001b[0m\u001b[0m\n",
      "\u001b[1;31mValueError\u001b[0m: Parameters must be positive!"
     ]
    }
   ],
   "source": [
    "circle_a = Shapes.Circle(1)\n",
    "circle_b = Shapes.Circle(3)\n",
    "\n",
    "circle_error = circle_a - circle_b"
   ]
  },
  {
   "cell_type": "markdown",
   "metadata": {},
   "source": [
    "The logical operations have been inherited from the Shapes class, and since the Circle class has the **area** attribute, these can be computed."
   ]
  },
  {
   "cell_type": "code",
   "execution_count": 26,
   "metadata": {},
   "outputs": [
    {
     "name": "stdout",
     "output_type": "stream",
     "text": [
      "Circle a area: 254.46900494077323\n",
      "Circle b area: 12.566370614359172\n",
      "\n",
      "The area from circle a is lower than the circle b area: False\n",
      "The area from circle a is lower or equal than the circle b area: False\n",
      "The area from circle a is equal than the circle b area: False\n",
      "The area from circle a is different than the circle b area: True\n",
      "The area from circle a is greater than the circle b area: True\n",
      "The area from circle a is greater or equal than the circle b area: True\n"
     ]
    }
   ],
   "source": [
    "circle_a = Shapes.Circle(9)\n",
    "circle_b = Shapes.Circle(2)\n",
    "\n",
    "print(\"Circle a area:\",circle_a.area)\n",
    "print(\"Circle b area:\",circle_b.area)\n",
    "print()\n",
    "\n",
    "print(\"The area from circle a is lower than the circle b area:\",circle_a < circle_b)\n",
    "print(\"The area from circle a is lower or equal than the circle b area:\",circle_a <= circle_b)\n",
    "print(\"The area from circle a is equal than the circle b area:\",circle_a == circle_b)\n",
    "print(\"The area from circle a is different than the circle b area:\",circle_a != circle_b)\n",
    "print(\"The area from circle a is greater than the circle b area:\",circle_a > circle_b)\n",
    "print(\"The area from circle a is greater or equal than the circle b area:\",circle_a >= circle_b)"
   ]
  },
  {
   "cell_type": "markdown",
   "metadata": {},
   "source": [
    "<h3>Rectangle <span class=\"badge badge-secondary\">Subclass</span></h3>\n",
    "\n",
    "Rectangle class is a subclass that inherits the methods and attributes from the Shapes class."
   ]
  },
  {
   "cell_type": "code",
   "execution_count": 27,
   "metadata": {},
   "outputs": [],
   "source": [
    "Shapes.Rectangle?"
   ]
  },
  {
   "cell_type": "markdown",
   "metadata": {},
   "source": [
    "This class is initialized with just one **argument** (params, a list indicating the height and the width of the rectangle) and contains the next attributes: **params** (inherited from the Shapes class), **height** (extracted from the **params** argument), **width** (extracted from the **params** argument) and **area** (calculated from the **height** and **width** attributes)."
   ]
  },
  {
   "cell_type": "code",
   "execution_count": 28,
   "metadata": {},
   "outputs": [
    {
     "name": "stdout",
     "output_type": "stream",
     "text": [
      "Parameters in the argument params: [1, 2]\n",
      "Height: 1\n",
      "Width: 2\n",
      "Area: 2\n"
     ]
    }
   ],
   "source": [
    "random_rectangle = Shapes.Rectangle([1,2])\n",
    "\n",
    "print(\"Parameters in the argument params:\",random_rectangle.params)\n",
    "print(\"Height:\",random_rectangle.height)\n",
    "print(\"Width:\",random_rectangle.width)\n",
    "print(\"Area:\",random_rectangle.area)"
   ]
  },
  {
   "cell_type": "markdown",
   "metadata": {},
   "source": [
    "The Rectangle class has overloaded the `__str__` method (the informal string that describes the object):"
   ]
  },
  {
   "cell_type": "code",
   "execution_count": 29,
   "metadata": {
    "scrolled": true
   },
   "outputs": [
    {
     "name": "stdout",
     "output_type": "stream",
     "text": [
      "Rectangle (Heigth = 1, Width = 2, area = 2)\n"
     ]
    }
   ],
   "source": [
    "random_rectangle = Shapes.Rectangle([1,2])\n",
    "\n",
    "print(random_rectangle)"
   ]
  },
  {
   "cell_type": "markdown",
   "metadata": {},
   "source": [
    "And the `__repr__` method (the formal string that describes the object):"
   ]
  },
  {
   "cell_type": "code",
   "execution_count": 30,
   "metadata": {},
   "outputs": [
    {
     "data": {
      "text/plain": [
       "<Rectangle (Height = 1, Width = 2, area = 2)>"
      ]
     },
     "execution_count": 30,
     "metadata": {},
     "output_type": "execute_result"
    }
   ],
   "source": [
    "random_rectangle = Shapes.Rectangle([1,2])\n",
    "\n",
    "random_rectangle"
   ]
  },
  {
   "cell_type": "markdown",
   "metadata": {},
   "source": [
    "Rectangle class has, besides the common initialization inherited from Shapes, another initialization rule:\n",
    "\n",
    "- The params list must contain only two elements."
   ]
  },
  {
   "cell_type": "markdown",
   "metadata": {},
   "source": [
    "<div class=\"alert alert-danger\" role=\"alert\">\n",
    "    The next code will raise an error since the rectangle class just admit two elements in the <b>params</b>.\n",
    "</div>"
   ]
  },
  {
   "cell_type": "code",
   "execution_count": 31,
   "metadata": {
    "scrolled": true
   },
   "outputs": [
    {
     "ename": "ValueError",
     "evalue": "I need two parameters!",
     "output_type": "error",
     "traceback": [
      "\u001b[1;31m---------------------------------------------------------------------------\u001b[0m",
      "\u001b[1;31mValueError\u001b[0m                                Traceback (most recent call last)",
      "\u001b[1;32m<ipython-input-31-77a1a2fc0ba2>\u001b[0m in \u001b[0;36m<module>\u001b[1;34m\u001b[0m\n\u001b[1;32m----> 1\u001b[1;33m \u001b[0mrectangle_error\u001b[0m \u001b[1;33m=\u001b[0m \u001b[0mShapes\u001b[0m\u001b[1;33m.\u001b[0m\u001b[0mRectangle\u001b[0m\u001b[1;33m(\u001b[0m\u001b[1;33m[\u001b[0m\u001b[1;36m1\u001b[0m\u001b[1;33m,\u001b[0m\u001b[1;36m2\u001b[0m\u001b[1;33m,\u001b[0m\u001b[1;36m3\u001b[0m\u001b[1;33m]\u001b[0m\u001b[1;33m)\u001b[0m\u001b[1;33m\u001b[0m\u001b[1;33m\u001b[0m\u001b[0m\n\u001b[0m",
      "\u001b[1;32m~\\Modelos de Datos\\2_Tarea_OOP\\Shapes.py\u001b[0m in \u001b[0;36m__init__\u001b[1;34m(self, params)\u001b[0m\n\u001b[0;32m    381\u001b[0m             \u001b[0msuper\u001b[0m\u001b[1;33m(\u001b[0m\u001b[1;33m)\u001b[0m\u001b[1;33m.\u001b[0m\u001b[0m__init__\u001b[0m\u001b[1;33m(\u001b[0m\u001b[0mparams\u001b[0m\u001b[1;33m)\u001b[0m\u001b[1;33m\u001b[0m\u001b[1;33m\u001b[0m\u001b[0m\n\u001b[0;32m    382\u001b[0m         \u001b[1;32melse\u001b[0m\u001b[1;33m:\u001b[0m\u001b[1;33m\u001b[0m\u001b[1;33m\u001b[0m\u001b[0m\n\u001b[1;32m--> 383\u001b[1;33m             \u001b[1;32mraise\u001b[0m \u001b[0mValueError\u001b[0m\u001b[1;33m(\u001b[0m\u001b[1;34m\"I need two parameters!\"\u001b[0m\u001b[1;33m)\u001b[0m\u001b[1;33m\u001b[0m\u001b[1;33m\u001b[0m\u001b[0m\n\u001b[0m\u001b[0;32m    384\u001b[0m \u001b[1;33m\u001b[0m\u001b[0m\n\u001b[0;32m    385\u001b[0m         \u001b[0mself\u001b[0m\u001b[1;33m.\u001b[0m\u001b[0mheight\u001b[0m \u001b[1;33m=\u001b[0m \u001b[0mparams\u001b[0m\u001b[1;33m[\u001b[0m\u001b[1;36m0\u001b[0m\u001b[1;33m]\u001b[0m\u001b[1;33m\u001b[0m\u001b[1;33m\u001b[0m\u001b[0m\n",
      "\u001b[1;31mValueError\u001b[0m: I need two parameters!"
     ]
    }
   ],
   "source": [
    "rectangle_error = Shapes.Rectangle([1,2,3])"
   ]
  },
  {
   "cell_type": "markdown",
   "metadata": {},
   "source": [
    "<div class=\"alert alert-danger\" role=\"alert\">\n",
    "    The next code will raise an error since on element in <b>params</b> is a <b>negative number</b>.\n",
    "</div>"
   ]
  },
  {
   "cell_type": "code",
   "execution_count": 32,
   "metadata": {
    "scrolled": true
   },
   "outputs": [
    {
     "ename": "ValueError",
     "evalue": "Parameters must be positive!",
     "output_type": "error",
     "traceback": [
      "\u001b[1;31m---------------------------------------------------------------------------\u001b[0m",
      "\u001b[1;31mValueError\u001b[0m                                Traceback (most recent call last)",
      "\u001b[1;32m<ipython-input-32-8ee50f225205>\u001b[0m in \u001b[0;36m<module>\u001b[1;34m\u001b[0m\n\u001b[1;32m----> 1\u001b[1;33m \u001b[0mrectangle_error\u001b[0m \u001b[1;33m=\u001b[0m \u001b[0mShapes\u001b[0m\u001b[1;33m.\u001b[0m\u001b[0mRectangle\u001b[0m\u001b[1;33m(\u001b[0m\u001b[1;33m[\u001b[0m\u001b[1;33m-\u001b[0m\u001b[1;36m1\u001b[0m\u001b[1;33m,\u001b[0m\u001b[1;36m2\u001b[0m\u001b[1;33m]\u001b[0m\u001b[1;33m)\u001b[0m\u001b[1;33m\u001b[0m\u001b[1;33m\u001b[0m\u001b[0m\n\u001b[0m",
      "\u001b[1;32m~\\Modelos de Datos\\2_Tarea_OOP\\Shapes.py\u001b[0m in \u001b[0;36m__init__\u001b[1;34m(self, params)\u001b[0m\n\u001b[0;32m    379\u001b[0m \u001b[1;33m\u001b[0m\u001b[0m\n\u001b[0;32m    380\u001b[0m         \u001b[1;32mif\u001b[0m \u001b[0mlen\u001b[0m\u001b[1;33m(\u001b[0m\u001b[0mparams\u001b[0m\u001b[1;33m)\u001b[0m \u001b[1;33m==\u001b[0m \u001b[1;36m2\u001b[0m\u001b[1;33m:\u001b[0m\u001b[1;33m\u001b[0m\u001b[1;33m\u001b[0m\u001b[0m\n\u001b[1;32m--> 381\u001b[1;33m             \u001b[0msuper\u001b[0m\u001b[1;33m(\u001b[0m\u001b[1;33m)\u001b[0m\u001b[1;33m.\u001b[0m\u001b[0m__init__\u001b[0m\u001b[1;33m(\u001b[0m\u001b[0mparams\u001b[0m\u001b[1;33m)\u001b[0m\u001b[1;33m\u001b[0m\u001b[1;33m\u001b[0m\u001b[0m\n\u001b[0m\u001b[0;32m    382\u001b[0m         \u001b[1;32melse\u001b[0m\u001b[1;33m:\u001b[0m\u001b[1;33m\u001b[0m\u001b[1;33m\u001b[0m\u001b[0m\n\u001b[0;32m    383\u001b[0m             \u001b[1;32mraise\u001b[0m \u001b[0mValueError\u001b[0m\u001b[1;33m(\u001b[0m\u001b[1;34m\"I need two parameters!\"\u001b[0m\u001b[1;33m)\u001b[0m\u001b[1;33m\u001b[0m\u001b[1;33m\u001b[0m\u001b[0m\n",
      "\u001b[1;32m~\\Modelos de Datos\\2_Tarea_OOP\\Shapes.py\u001b[0m in \u001b[0;36m__init__\u001b[1;34m(self, params)\u001b[0m\n\u001b[0;32m     40\u001b[0m             \u001b[1;32melse\u001b[0m\u001b[1;33m:\u001b[0m\u001b[1;33m\u001b[0m\u001b[1;33m\u001b[0m\u001b[0m\n\u001b[0;32m     41\u001b[0m                 \u001b[1;32mif\u001b[0m \u001b[0mi\u001b[0m \u001b[1;33m<=\u001b[0m \u001b[1;36m0\u001b[0m\u001b[1;33m:\u001b[0m\u001b[1;33m\u001b[0m\u001b[1;33m\u001b[0m\u001b[0m\n\u001b[1;32m---> 42\u001b[1;33m                     \u001b[1;32mraise\u001b[0m \u001b[0mValueError\u001b[0m\u001b[1;33m(\u001b[0m\u001b[1;34m\"Parameters must be positive!\"\u001b[0m\u001b[1;33m)\u001b[0m\u001b[1;33m\u001b[0m\u001b[1;33m\u001b[0m\u001b[0m\n\u001b[0m\u001b[0;32m     43\u001b[0m \u001b[1;33m\u001b[0m\u001b[0m\n\u001b[0;32m     44\u001b[0m         \u001b[0mself\u001b[0m\u001b[1;33m.\u001b[0m\u001b[0mparams\u001b[0m \u001b[1;33m=\u001b[0m \u001b[0mparams\u001b[0m\u001b[1;33m\u001b[0m\u001b[1;33m\u001b[0m\u001b[0m\n",
      "\u001b[1;31mValueError\u001b[0m: Parameters must be positive!"
     ]
    }
   ],
   "source": [
    "rectangle_error = Shapes.Rectangle([-1,2])"
   ]
  },
  {
   "cell_type": "markdown",
   "metadata": {},
   "source": [
    "<div class=\"alert alert-danger\" role=\"alert\">\n",
    "    The next code will raise an error since one element in <b>params</b> is a <b>string</b>.\n",
    "</div>"
   ]
  },
  {
   "cell_type": "code",
   "execution_count": 33,
   "metadata": {
    "scrolled": true
   },
   "outputs": [
    {
     "ename": "TypeError",
     "evalue": "I need numbers!",
     "output_type": "error",
     "traceback": [
      "\u001b[1;31m---------------------------------------------------------------------------\u001b[0m",
      "\u001b[1;31mTypeError\u001b[0m                                 Traceback (most recent call last)",
      "\u001b[1;32m<ipython-input-33-d3e32f3dc248>\u001b[0m in \u001b[0;36m<module>\u001b[1;34m\u001b[0m\n\u001b[1;32m----> 1\u001b[1;33m \u001b[0mrectangle_error\u001b[0m \u001b[1;33m=\u001b[0m \u001b[0mShapes\u001b[0m\u001b[1;33m.\u001b[0m\u001b[0mRectangle\u001b[0m\u001b[1;33m(\u001b[0m\u001b[1;33m[\u001b[0m\u001b[1;36m1\u001b[0m\u001b[1;33m,\u001b[0m\u001b[1;34m\"s\"\u001b[0m\u001b[1;33m]\u001b[0m\u001b[1;33m)\u001b[0m\u001b[1;33m\u001b[0m\u001b[1;33m\u001b[0m\u001b[0m\n\u001b[0m",
      "\u001b[1;32m~\\Modelos de Datos\\2_Tarea_OOP\\Shapes.py\u001b[0m in \u001b[0;36m__init__\u001b[1;34m(self, params)\u001b[0m\n\u001b[0;32m    379\u001b[0m \u001b[1;33m\u001b[0m\u001b[0m\n\u001b[0;32m    380\u001b[0m         \u001b[1;32mif\u001b[0m \u001b[0mlen\u001b[0m\u001b[1;33m(\u001b[0m\u001b[0mparams\u001b[0m\u001b[1;33m)\u001b[0m \u001b[1;33m==\u001b[0m \u001b[1;36m2\u001b[0m\u001b[1;33m:\u001b[0m\u001b[1;33m\u001b[0m\u001b[1;33m\u001b[0m\u001b[0m\n\u001b[1;32m--> 381\u001b[1;33m             \u001b[0msuper\u001b[0m\u001b[1;33m(\u001b[0m\u001b[1;33m)\u001b[0m\u001b[1;33m.\u001b[0m\u001b[0m__init__\u001b[0m\u001b[1;33m(\u001b[0m\u001b[0mparams\u001b[0m\u001b[1;33m)\u001b[0m\u001b[1;33m\u001b[0m\u001b[1;33m\u001b[0m\u001b[0m\n\u001b[0m\u001b[0;32m    382\u001b[0m         \u001b[1;32melse\u001b[0m\u001b[1;33m:\u001b[0m\u001b[1;33m\u001b[0m\u001b[1;33m\u001b[0m\u001b[0m\n\u001b[0;32m    383\u001b[0m             \u001b[1;32mraise\u001b[0m \u001b[0mValueError\u001b[0m\u001b[1;33m(\u001b[0m\u001b[1;34m\"I need two parameters!\"\u001b[0m\u001b[1;33m)\u001b[0m\u001b[1;33m\u001b[0m\u001b[1;33m\u001b[0m\u001b[0m\n",
      "\u001b[1;32m~\\Modelos de Datos\\2_Tarea_OOP\\Shapes.py\u001b[0m in \u001b[0;36m__init__\u001b[1;34m(self, params)\u001b[0m\n\u001b[0;32m     37\u001b[0m         \u001b[1;32mfor\u001b[0m \u001b[0mi\u001b[0m \u001b[1;32min\u001b[0m \u001b[0mparams\u001b[0m\u001b[1;33m:\u001b[0m\u001b[1;33m\u001b[0m\u001b[1;33m\u001b[0m\u001b[0m\n\u001b[0;32m     38\u001b[0m             \u001b[1;32mif\u001b[0m \u001b[0mtype\u001b[0m\u001b[1;33m(\u001b[0m\u001b[0mi\u001b[0m\u001b[1;33m)\u001b[0m \u001b[1;32mis\u001b[0m \u001b[1;32mnot\u001b[0m \u001b[0mint\u001b[0m \u001b[1;32mand\u001b[0m \u001b[0mtype\u001b[0m\u001b[1;33m(\u001b[0m\u001b[0mi\u001b[0m\u001b[1;33m)\u001b[0m \u001b[1;32mis\u001b[0m \u001b[1;32mnot\u001b[0m \u001b[0mfloat\u001b[0m\u001b[1;33m:\u001b[0m\u001b[1;33m\u001b[0m\u001b[1;33m\u001b[0m\u001b[0m\n\u001b[1;32m---> 39\u001b[1;33m                 \u001b[1;32mraise\u001b[0m \u001b[0mTypeError\u001b[0m\u001b[1;33m(\u001b[0m\u001b[1;34m\"I need numbers!\"\u001b[0m\u001b[1;33m)\u001b[0m\u001b[1;33m\u001b[0m\u001b[1;33m\u001b[0m\u001b[0m\n\u001b[0m\u001b[0;32m     40\u001b[0m             \u001b[1;32melse\u001b[0m\u001b[1;33m:\u001b[0m\u001b[1;33m\u001b[0m\u001b[1;33m\u001b[0m\u001b[0m\n\u001b[0;32m     41\u001b[0m                 \u001b[1;32mif\u001b[0m \u001b[0mi\u001b[0m \u001b[1;33m<=\u001b[0m \u001b[1;36m0\u001b[0m\u001b[1;33m:\u001b[0m\u001b[1;33m\u001b[0m\u001b[1;33m\u001b[0m\u001b[0m\n",
      "\u001b[1;31mTypeError\u001b[0m: I need numbers!"
     ]
    }
   ],
   "source": [
    "rectangle_error = Shapes.Rectangle([1,\"s\"])"
   ]
  },
  {
   "cell_type": "markdown",
   "metadata": {},
   "source": [
    "The arithmetic operations are inherited from the Shapes class and every time one of these methods is called a new Rectangle class is created."
   ]
  },
  {
   "cell_type": "code",
   "execution_count": 34,
   "metadata": {},
   "outputs": [
    {
     "name": "stdout",
     "output_type": "stream",
     "text": [
      "Addition: Rectangle (Heigth = 9, Width = 11, area = 99)\n",
      "Subtraction: Rectangle (Heigth = 7, Width = 7, area = 49)\n",
      "Multiplication: Rectangle (Heigth = 8, Width = 18, area = 144)\n",
      "Division: Rectangle (Heigth = 8.0, Width = 4.5, area = 36.0)\n"
     ]
    }
   ],
   "source": [
    "rectangle_a = Shapes.Rectangle([8,9])\n",
    "rectangle_b = Shapes.Rectangle([1,2])\n",
    "\n",
    "rectangle_add = rectangle_a + rectangle_b\n",
    "rectangle_sub = rectangle_a - rectangle_b\n",
    "rectangle_mul = rectangle_a * rectangle_b\n",
    "rectangle_div = rectangle_a / rectangle_b\n",
    "\n",
    "print(\"Addition:\",rectangle_add)\n",
    "print(\"Subtraction:\",rectangle_sub)\n",
    "print(\"Multiplication:\",rectangle_mul)\n",
    "print(\"Division:\",rectangle_div)"
   ]
  },
  {
   "cell_type": "markdown",
   "metadata": {},
   "source": [
    "Since Rectangle inherits from Shapes, arithmetic operations can also be computed with numeric and list classes."
   ]
  },
  {
   "cell_type": "code",
   "execution_count": 35,
   "metadata": {},
   "outputs": [
    {
     "name": "stdout",
     "output_type": "stream",
     "text": [
      "Addition: Rectangle (Heigth = 9, Width = 10, area = 90)\n",
      "Subtraction: Rectangle (Heigth = 7, Width = 8, area = 56)\n",
      "Multiplication: Rectangle (Heigth = 16, Width = 18, area = 288)\n",
      "Division: Rectangle (Heigth = 4.0, Width = 4.5, area = 18.0)\n"
     ]
    }
   ],
   "source": [
    "rectangle_a = Shapes.Rectangle([8,9])\n",
    "\n",
    "rectangle_add = rectangle_a + 1\n",
    "rectangle_sub = rectangle_a - 1\n",
    "rectangle_mul = rectangle_a * 2\n",
    "rectangle_div = rectangle_a / 2\n",
    "\n",
    "print(\"Addition:\",rectangle_add)\n",
    "print(\"Subtraction:\",rectangle_sub)\n",
    "print(\"Multiplication:\",rectangle_mul)\n",
    "print(\"Division:\",rectangle_div)"
   ]
  },
  {
   "cell_type": "code",
   "execution_count": 36,
   "metadata": {},
   "outputs": [
    {
     "name": "stdout",
     "output_type": "stream",
     "text": [
      "Addition: Rectangle (Heigth = 9, Width = 11, area = 99)\n",
      "Subtraction: Rectangle (Heigth = 7, Width = 7, area = 49)\n",
      "Multiplication: Rectangle (Heigth = 8, Width = 18, area = 144)\n",
      "Division: Rectangle (Heigth = 8.0, Width = 4.5, area = 36.0)\n"
     ]
    }
   ],
   "source": [
    "rectangle_a = Shapes.Rectangle([8,9])\n",
    "\n",
    "rectangle_add = rectangle_a + [1,2]\n",
    "rectangle_sub = rectangle_a - [1,2]\n",
    "rectangle_mul = rectangle_a * [1,2]\n",
    "rectangle_div = rectangle_a / [1,2]\n",
    "\n",
    "print(\"Addition:\",rectangle_add)\n",
    "print(\"Subtraction:\",rectangle_sub)\n",
    "print(\"Multiplication:\",rectangle_mul)\n",
    "print(\"Division:\",rectangle_div)"
   ]
  },
  {
   "cell_type": "markdown",
   "metadata": {},
   "source": [
    "And the positions can be changed for computing these arithmetic operations:"
   ]
  },
  {
   "cell_type": "code",
   "execution_count": 37,
   "metadata": {},
   "outputs": [
    {
     "name": "stdout",
     "output_type": "stream",
     "text": [
      "Addition: Rectangle (Heigth = 9, Width = 10, area = 90)\n",
      "Subtraction: Rectangle (Heigth = 2, Width = 1, area = 2)\n",
      "Multiplication: Rectangle (Heigth = 16, Width = 18, area = 288)\n",
      "Division: Rectangle (Heigth = 0.25, Width = 0.2222222222222222, area = 0.05555555555555555)\n"
     ]
    }
   ],
   "source": [
    "rectangle_a = Shapes.Rectangle([8,9])\n",
    "\n",
    "rectangle_add = 1 + rectangle_a\n",
    "rectangle_sub = 10 - rectangle_a\n",
    "rectangle_mul = 2 * rectangle_a\n",
    "rectangle_div = 2 / rectangle_a\n",
    "\n",
    "print(\"Addition:\",rectangle_add)\n",
    "print(\"Subtraction:\",rectangle_sub)\n",
    "print(\"Multiplication:\",rectangle_mul)\n",
    "print(\"Division:\",rectangle_div)"
   ]
  },
  {
   "cell_type": "code",
   "execution_count": 38,
   "metadata": {},
   "outputs": [
    {
     "name": "stdout",
     "output_type": "stream",
     "text": [
      "Addition: Rectangle (Heigth = 9, Width = 11, area = 99)\n",
      "Subtraction: Rectangle (Heigth = 2, Width = 2, area = 4)\n",
      "Multiplication: Rectangle (Heigth = 8, Width = 18, area = 144)\n",
      "Division: Rectangle (Heigth = 0.125, Width = 0.2222222222222222, area = 0.027777777777777776)\n"
     ]
    }
   ],
   "source": [
    "rectangle_a = Shapes.Rectangle([8,9])\n",
    "\n",
    "rectangle_add = [1,2] + rectangle_a\n",
    "rectangle_sub = [10,11] - rectangle_a\n",
    "rectangle_mul = [1,2] * rectangle_a\n",
    "rectangle_div = [1,2] / rectangle_a\n",
    "\n",
    "print(\"Addition:\",rectangle_add)\n",
    "print(\"Subtraction:\",rectangle_sub)\n",
    "print(\"Multiplication:\",rectangle_mul)\n",
    "print(\"Division:\",rectangle_div)"
   ]
  },
  {
   "cell_type": "markdown",
   "metadata": {},
   "source": [
    "Since in the initialization inherited from the Shapes class the negative parameters are not allowed, an arithmetic operation resulting in a negative height or width will raise an error."
   ]
  },
  {
   "cell_type": "markdown",
   "metadata": {},
   "source": [
    "<div class=\"alert alert-danger\" role=\"alert\">\n",
    "    The next code will raise an error since the subtraction tries to create a new rectangle object with a <b>negative parameter</b>.\n",
    "</div>"
   ]
  },
  {
   "cell_type": "code",
   "execution_count": 39,
   "metadata": {},
   "outputs": [
    {
     "ename": "ValueError",
     "evalue": "Parameters must be positive!",
     "output_type": "error",
     "traceback": [
      "\u001b[1;31m---------------------------------------------------------------------------\u001b[0m",
      "\u001b[1;31mValueError\u001b[0m                                Traceback (most recent call last)",
      "\u001b[1;32m<ipython-input-39-a9816d663032>\u001b[0m in \u001b[0;36m<module>\u001b[1;34m\u001b[0m\n\u001b[0;32m      2\u001b[0m \u001b[0mrectangle_b\u001b[0m \u001b[1;33m=\u001b[0m \u001b[0mShapes\u001b[0m\u001b[1;33m.\u001b[0m\u001b[0mRectangle\u001b[0m\u001b[1;33m(\u001b[0m\u001b[1;33m[\u001b[0m\u001b[1;36m8\u001b[0m\u001b[1;33m,\u001b[0m\u001b[1;36m9\u001b[0m\u001b[1;33m]\u001b[0m\u001b[1;33m)\u001b[0m\u001b[1;33m\u001b[0m\u001b[1;33m\u001b[0m\u001b[0m\n\u001b[0;32m      3\u001b[0m \u001b[1;33m\u001b[0m\u001b[0m\n\u001b[1;32m----> 4\u001b[1;33m \u001b[0mrectangle_error\u001b[0m \u001b[1;33m=\u001b[0m \u001b[0mrectangle_a\u001b[0m \u001b[1;33m-\u001b[0m \u001b[0mrectangle_b\u001b[0m\u001b[1;33m\u001b[0m\u001b[1;33m\u001b[0m\u001b[0m\n\u001b[0m",
      "\u001b[1;32m~\\Modelos de Datos\\2_Tarea_OOP\\Shapes.py\u001b[0m in \u001b[0;36m__sub__\u001b[1;34m(self, other)\u001b[0m\n\u001b[0;32m     95\u001b[0m \u001b[1;33m\u001b[0m\u001b[0m\n\u001b[0;32m     96\u001b[0m         \u001b[1;32mif\u001b[0m \u001b[0mtype\u001b[0m\u001b[1;33m(\u001b[0m\u001b[0mself\u001b[0m\u001b[1;33m)\u001b[0m \u001b[1;33m==\u001b[0m \u001b[0mtype\u001b[0m\u001b[1;33m(\u001b[0m\u001b[0mother\u001b[0m\u001b[1;33m)\u001b[0m\u001b[1;33m:\u001b[0m\u001b[1;33m\u001b[0m\u001b[1;33m\u001b[0m\u001b[0m\n\u001b[1;32m---> 97\u001b[1;33m             \u001b[1;32mreturn\u001b[0m \u001b[0mtype\u001b[0m\u001b[1;33m(\u001b[0m\u001b[0mself\u001b[0m\u001b[1;33m)\u001b[0m\u001b[1;33m(\u001b[0m\u001b[1;33m[\u001b[0m\u001b[0mself\u001b[0m\u001b[1;33m.\u001b[0m\u001b[0mparams\u001b[0m\u001b[1;33m[\u001b[0m\u001b[0mi\u001b[0m\u001b[1;33m]\u001b[0m \u001b[1;33m-\u001b[0m \u001b[0mother\u001b[0m\u001b[1;33m.\u001b[0m\u001b[0mparams\u001b[0m\u001b[1;33m[\u001b[0m\u001b[0mi\u001b[0m\u001b[1;33m]\u001b[0m \u001b[1;32mfor\u001b[0m \u001b[0mi\u001b[0m \u001b[1;32min\u001b[0m \u001b[0mrange\u001b[0m\u001b[1;33m(\u001b[0m\u001b[0mlen\u001b[0m\u001b[1;33m(\u001b[0m\u001b[0mself\u001b[0m\u001b[1;33m.\u001b[0m\u001b[0mparams\u001b[0m\u001b[1;33m)\u001b[0m\u001b[1;33m)\u001b[0m\u001b[1;33m]\u001b[0m\u001b[1;33m)\u001b[0m\u001b[1;33m\u001b[0m\u001b[1;33m\u001b[0m\u001b[0m\n\u001b[0m\u001b[0;32m     98\u001b[0m \u001b[1;33m\u001b[0m\u001b[0m\n\u001b[0;32m     99\u001b[0m         \u001b[1;32melif\u001b[0m \u001b[0misinstance\u001b[0m\u001b[1;33m(\u001b[0m\u001b[0mother\u001b[0m\u001b[1;33m,\u001b[0m\u001b[0mlist\u001b[0m\u001b[1;33m)\u001b[0m\u001b[1;33m:\u001b[0m\u001b[1;33m\u001b[0m\u001b[1;33m\u001b[0m\u001b[0m\n",
      "\u001b[1;32m~\\Modelos de Datos\\2_Tarea_OOP\\Shapes.py\u001b[0m in \u001b[0;36m__init__\u001b[1;34m(self, params)\u001b[0m\n\u001b[0;32m    379\u001b[0m \u001b[1;33m\u001b[0m\u001b[0m\n\u001b[0;32m    380\u001b[0m         \u001b[1;32mif\u001b[0m \u001b[0mlen\u001b[0m\u001b[1;33m(\u001b[0m\u001b[0mparams\u001b[0m\u001b[1;33m)\u001b[0m \u001b[1;33m==\u001b[0m \u001b[1;36m2\u001b[0m\u001b[1;33m:\u001b[0m\u001b[1;33m\u001b[0m\u001b[1;33m\u001b[0m\u001b[0m\n\u001b[1;32m--> 381\u001b[1;33m             \u001b[0msuper\u001b[0m\u001b[1;33m(\u001b[0m\u001b[1;33m)\u001b[0m\u001b[1;33m.\u001b[0m\u001b[0m__init__\u001b[0m\u001b[1;33m(\u001b[0m\u001b[0mparams\u001b[0m\u001b[1;33m)\u001b[0m\u001b[1;33m\u001b[0m\u001b[1;33m\u001b[0m\u001b[0m\n\u001b[0m\u001b[0;32m    382\u001b[0m         \u001b[1;32melse\u001b[0m\u001b[1;33m:\u001b[0m\u001b[1;33m\u001b[0m\u001b[1;33m\u001b[0m\u001b[0m\n\u001b[0;32m    383\u001b[0m             \u001b[1;32mraise\u001b[0m \u001b[0mValueError\u001b[0m\u001b[1;33m(\u001b[0m\u001b[1;34m\"I need two parameters!\"\u001b[0m\u001b[1;33m)\u001b[0m\u001b[1;33m\u001b[0m\u001b[1;33m\u001b[0m\u001b[0m\n",
      "\u001b[1;32m~\\Modelos de Datos\\2_Tarea_OOP\\Shapes.py\u001b[0m in \u001b[0;36m__init__\u001b[1;34m(self, params)\u001b[0m\n\u001b[0;32m     40\u001b[0m             \u001b[1;32melse\u001b[0m\u001b[1;33m:\u001b[0m\u001b[1;33m\u001b[0m\u001b[1;33m\u001b[0m\u001b[0m\n\u001b[0;32m     41\u001b[0m                 \u001b[1;32mif\u001b[0m \u001b[0mi\u001b[0m \u001b[1;33m<=\u001b[0m \u001b[1;36m0\u001b[0m\u001b[1;33m:\u001b[0m\u001b[1;33m\u001b[0m\u001b[1;33m\u001b[0m\u001b[0m\n\u001b[1;32m---> 42\u001b[1;33m                     \u001b[1;32mraise\u001b[0m \u001b[0mValueError\u001b[0m\u001b[1;33m(\u001b[0m\u001b[1;34m\"Parameters must be positive!\"\u001b[0m\u001b[1;33m)\u001b[0m\u001b[1;33m\u001b[0m\u001b[1;33m\u001b[0m\u001b[0m\n\u001b[0m\u001b[0;32m     43\u001b[0m \u001b[1;33m\u001b[0m\u001b[0m\n\u001b[0;32m     44\u001b[0m         \u001b[0mself\u001b[0m\u001b[1;33m.\u001b[0m\u001b[0mparams\u001b[0m \u001b[1;33m=\u001b[0m \u001b[0mparams\u001b[0m\u001b[1;33m\u001b[0m\u001b[1;33m\u001b[0m\u001b[0m\n",
      "\u001b[1;31mValueError\u001b[0m: Parameters must be positive!"
     ]
    }
   ],
   "source": [
    "rectangle_a = Shapes.Rectangle([1,2])\n",
    "rectangle_b = Shapes.Rectangle([8,9])\n",
    "\n",
    "rectangle_error = rectangle_a - rectangle_b"
   ]
  },
  {
   "cell_type": "markdown",
   "metadata": {},
   "source": [
    "The logical operations have been inherited from the Shapes class, and since the Rectangle class has the **area** attribute, these can be computed."
   ]
  },
  {
   "cell_type": "code",
   "execution_count": 40,
   "metadata": {},
   "outputs": [
    {
     "name": "stdout",
     "output_type": "stream",
     "text": [
      "rectangle a area: 2\n",
      "rectangle b area: 72\n",
      "\n",
      "The area from rectangle a is lower than the rectangle b area: True\n",
      "The area from rectangle a is lower or equal than the rectangle b area: True\n",
      "The area from rectangle a is equal than the rectangle b area: False\n",
      "The area from rectangle a is different than the rectangle b area: True\n",
      "The area from rectangle a is greater than the rectangle b area: False\n",
      "The area from rectangle a is greater or equal than the rectangle b area: False\n"
     ]
    }
   ],
   "source": [
    "rectangle_a = Shapes.Rectangle([1,2])\n",
    "rectangle_b = Shapes.Rectangle([8,9])\n",
    "\n",
    "print(\"rectangle a area:\",rectangle_a.area)\n",
    "print(\"rectangle b area:\",rectangle_b.area)\n",
    "print()\n",
    "\n",
    "print(\"The area from rectangle a is lower than the rectangle b area:\",rectangle_a < rectangle_b)\n",
    "print(\"The area from rectangle a is lower or equal than the rectangle b area:\",rectangle_a <= rectangle_b)\n",
    "print(\"The area from rectangle a is equal than the rectangle b area:\",rectangle_a == rectangle_b)\n",
    "print(\"The area from rectangle a is different than the rectangle b area:\",rectangle_a != rectangle_b)\n",
    "print(\"The area from rectangle a is greater than the rectangle b area:\",rectangle_a > rectangle_b)\n",
    "print(\"The area from rectangle a is greater or equal than the rectangle b area:\",rectangle_a >= rectangle_b)"
   ]
  },
  {
   "cell_type": "markdown",
   "metadata": {},
   "source": [
    "Since Rectangle and Circle classes have the **area** attribute, logical operations can be computed between objects from these different classes."
   ]
  },
  {
   "cell_type": "code",
   "execution_count": 41,
   "metadata": {},
   "outputs": [
    {
     "name": "stdout",
     "output_type": "stream",
     "text": [
      "rectangle area: 28\n",
      "circle area: 28.274333882308138\n",
      "\n",
      "The area from rectangle is lower than the circle area: True\n",
      "The area from rectangle is lower or equal than the circle area: True\n",
      "The area from rectangle is equal than the circle area: False\n",
      "The area from rectangle is different than the circle area: True\n",
      "The area from rectangle is greater than the circle area: False\n",
      "The area from rectangle is greater or equal than the circle area: False\n"
     ]
    }
   ],
   "source": [
    "rectangle = Shapes.Rectangle([7,4])\n",
    "circle = Shapes.Circle(3)\n",
    "\n",
    "print(\"rectangle area:\",rectangle.area)\n",
    "print(\"circle area:\",circle.area)\n",
    "print()\n",
    "\n",
    "print(\"The area from rectangle is lower than the circle area:\",rectangle < circle)\n",
    "print(\"The area from rectangle is lower or equal than the circle area:\",rectangle <= circle)\n",
    "print(\"The area from rectangle is equal than the circle area:\",rectangle == circle)\n",
    "print(\"The area from rectangle is different than the circle area:\",rectangle != circle)\n",
    "print(\"The area from rectangle is greater than the circle area:\",rectangle > circle)\n",
    "print(\"The area from rectangle is greater or equal than the circle area:\",rectangle >= circle)"
   ]
  },
  {
   "cell_type": "markdown",
   "metadata": {},
   "source": [
    "<h3>Triangle <span class=\"badge badge-secondary\">Subclass</span></h3>\n",
    "\n",
    "Triangle class is a subclass that inherits the methods and attributes from the Shapes class."
   ]
  },
  {
   "cell_type": "code",
   "execution_count": 42,
   "metadata": {},
   "outputs": [],
   "source": [
    "Shapes.Triangle?"
   ]
  },
  {
   "cell_type": "markdown",
   "metadata": {},
   "source": [
    "This class is initialized with just one **argument** (params, a list indicating the sides a, b and c of the triangle) and contains the next attributes: **params** (inherited from the Shapes class), **a** (extracted from the **params** argument), **b** (extracted from the **params** argument), **c** (extracted from the **params** argument) and **area** (calculated from the **a**, **b** and **c** attributes)."
   ]
  },
  {
   "cell_type": "code",
   "execution_count": 43,
   "metadata": {},
   "outputs": [
    {
     "name": "stdout",
     "output_type": "stream",
     "text": [
      "Parameters in the argument params: [1, 2, 2]\n",
      "Side a: 1\n",
      "Side b: 2\n",
      "Side c: 2\n",
      "Area: 0.9682458365518543\n"
     ]
    }
   ],
   "source": [
    "random_triangle = Shapes.Triangle([1,2,2])\n",
    "\n",
    "print(\"Parameters in the argument params:\",random_triangle.params)\n",
    "print(\"Side a:\",random_triangle.a)\n",
    "print(\"Side b:\",random_triangle.b)\n",
    "print(\"Side c:\",random_triangle.c)\n",
    "print(\"Area:\",random_triangle.area)"
   ]
  },
  {
   "cell_type": "markdown",
   "metadata": {},
   "source": [
    "The Triangle class has overloaded the `__str__` method (the informal string that describes the object):"
   ]
  },
  {
   "cell_type": "code",
   "execution_count": 44,
   "metadata": {
    "scrolled": true
   },
   "outputs": [
    {
     "name": "stdout",
     "output_type": "stream",
     "text": [
      "Triangle (a = 1, b = 2, c = 2, area = 0.9682458365518543)\n"
     ]
    }
   ],
   "source": [
    "random_triangle = Shapes.Triangle([1,2,2])\n",
    "\n",
    "print(random_triangle)"
   ]
  },
  {
   "cell_type": "markdown",
   "metadata": {},
   "source": [
    "And the `__repr__` method (the formal string that describes the object):"
   ]
  },
  {
   "cell_type": "code",
   "execution_count": 45,
   "metadata": {},
   "outputs": [
    {
     "data": {
      "text/plain": [
       "<Triangle (a = 1, b = 2, c = 2, area = 0.9682458365518543)>"
      ]
     },
     "execution_count": 45,
     "metadata": {},
     "output_type": "execute_result"
    }
   ],
   "source": [
    "random_triangle = Shapes.Triangle([1,2,2])\n",
    "\n",
    "random_triangle"
   ]
  },
  {
   "cell_type": "markdown",
   "metadata": {},
   "source": [
    "Triangle class has, besides the common initialization inherited from Shapes, two more initialization rules:\n",
    "\n",
    "1. The params list must contain only three elements."
   ]
  },
  {
   "cell_type": "markdown",
   "metadata": {},
   "source": [
    "<div class=\"alert alert-danger\" role=\"alert\">\n",
    "    The next code will raise an error since the triangle class just admit three elements in the <b>params</b>.\n",
    "</div>"
   ]
  },
  {
   "cell_type": "code",
   "execution_count": 46,
   "metadata": {
    "scrolled": true
   },
   "outputs": [
    {
     "ename": "ValueError",
     "evalue": "I need three parameters!",
     "output_type": "error",
     "traceback": [
      "\u001b[1;31m---------------------------------------------------------------------------\u001b[0m",
      "\u001b[1;31mValueError\u001b[0m                                Traceback (most recent call last)",
      "\u001b[1;32m<ipython-input-46-d59bd6b63a04>\u001b[0m in \u001b[0;36m<module>\u001b[1;34m\u001b[0m\n\u001b[1;32m----> 1\u001b[1;33m \u001b[0mtriangle_error\u001b[0m \u001b[1;33m=\u001b[0m \u001b[0mShapes\u001b[0m\u001b[1;33m.\u001b[0m\u001b[0mTriangle\u001b[0m\u001b[1;33m(\u001b[0m\u001b[1;33m[\u001b[0m\u001b[1;36m1\u001b[0m\u001b[1;33m,\u001b[0m\u001b[1;36m2\u001b[0m\u001b[1;33m,\u001b[0m\u001b[1;36m2\u001b[0m\u001b[1;33m,\u001b[0m\u001b[1;36m2\u001b[0m\u001b[1;33m]\u001b[0m\u001b[1;33m)\u001b[0m\u001b[1;33m\u001b[0m\u001b[1;33m\u001b[0m\u001b[0m\n\u001b[0m",
      "\u001b[1;32m~\\Modelos de Datos\\2_Tarea_OOP\\Shapes.py\u001b[0m in \u001b[0;36m__init__\u001b[1;34m(self, params)\u001b[0m\n\u001b[0;32m    433\u001b[0m             \u001b[0msuper\u001b[0m\u001b[1;33m(\u001b[0m\u001b[1;33m)\u001b[0m\u001b[1;33m.\u001b[0m\u001b[0m__init__\u001b[0m\u001b[1;33m(\u001b[0m\u001b[0mparams\u001b[0m\u001b[1;33m)\u001b[0m\u001b[1;33m\u001b[0m\u001b[1;33m\u001b[0m\u001b[0m\n\u001b[0;32m    434\u001b[0m         \u001b[1;32melse\u001b[0m\u001b[1;33m:\u001b[0m\u001b[1;33m\u001b[0m\u001b[1;33m\u001b[0m\u001b[0m\n\u001b[1;32m--> 435\u001b[1;33m             \u001b[1;32mraise\u001b[0m \u001b[0mValueError\u001b[0m\u001b[1;33m(\u001b[0m\u001b[1;34m\"I need three parameters!\"\u001b[0m\u001b[1;33m)\u001b[0m\u001b[1;33m\u001b[0m\u001b[1;33m\u001b[0m\u001b[0m\n\u001b[0m\u001b[0;32m    436\u001b[0m \u001b[1;33m\u001b[0m\u001b[0m\n\u001b[0;32m    437\u001b[0m         \u001b[0mself\u001b[0m\u001b[1;33m.\u001b[0m\u001b[0ma\u001b[0m \u001b[1;33m=\u001b[0m \u001b[0mparams\u001b[0m\u001b[1;33m[\u001b[0m\u001b[1;36m0\u001b[0m\u001b[1;33m]\u001b[0m\u001b[1;33m\u001b[0m\u001b[1;33m\u001b[0m\u001b[0m\n",
      "\u001b[1;31mValueError\u001b[0m: I need three parameters!"
     ]
    }
   ],
   "source": [
    "triangle_error = Shapes.Triangle([1,2,2,2])"
   ]
  },
  {
   "cell_type": "markdown",
   "metadata": {},
   "source": [
    "2. The sum of each pair of two sides must be higher than the remaining side."
   ]
  },
  {
   "cell_type": "markdown",
   "metadata": {},
   "source": [
    "<div class=\"alert alert-danger\" role=\"alert\">\n",
    "    The next code will raise an error since the sum of each pair of two sides is <b>not higher</b> than the remaining side.\n",
    "</div>"
   ]
  },
  {
   "cell_type": "code",
   "execution_count": 47,
   "metadata": {},
   "outputs": [
    {
     "ename": "AttributeError",
     "evalue": "The sum of two sides must be higher than the remaining side for each pair of sides!",
     "output_type": "error",
     "traceback": [
      "\u001b[1;31m---------------------------------------------------------------------------\u001b[0m",
      "\u001b[1;31mAttributeError\u001b[0m                            Traceback (most recent call last)",
      "\u001b[1;32m<ipython-input-47-ea3c2db408f6>\u001b[0m in \u001b[0;36m<module>\u001b[1;34m\u001b[0m\n\u001b[1;32m----> 1\u001b[1;33m \u001b[0mtriangle_error\u001b[0m \u001b[1;33m=\u001b[0m \u001b[0mShapes\u001b[0m\u001b[1;33m.\u001b[0m\u001b[0mTriangle\u001b[0m\u001b[1;33m(\u001b[0m\u001b[1;33m[\u001b[0m\u001b[1;36m1\u001b[0m\u001b[1;33m,\u001b[0m\u001b[1;36m1\u001b[0m\u001b[1;33m,\u001b[0m\u001b[1;36m2\u001b[0m\u001b[1;33m]\u001b[0m\u001b[1;33m)\u001b[0m\u001b[1;33m\u001b[0m\u001b[1;33m\u001b[0m\u001b[0m\n\u001b[0m",
      "\u001b[1;32m~\\Modelos de Datos\\2_Tarea_OOP\\Shapes.py\u001b[0m in \u001b[0;36m__init__\u001b[1;34m(self, params)\u001b[0m\n\u001b[0;32m    446\u001b[0m         \u001b[1;32melse\u001b[0m\u001b[1;33m:\u001b[0m\u001b[1;33m\u001b[0m\u001b[1;33m\u001b[0m\u001b[0m\n\u001b[0;32m    447\u001b[0m \u001b[1;33m\u001b[0m\u001b[0m\n\u001b[1;32m--> 448\u001b[1;33m             \u001b[1;32mraise\u001b[0m \u001b[0mAttributeError\u001b[0m\u001b[1;33m(\u001b[0m\u001b[1;34m\"The sum of two sides must be higher than the remaining side for each pair of sides!\"\u001b[0m\u001b[1;33m)\u001b[0m\u001b[1;33m\u001b[0m\u001b[1;33m\u001b[0m\u001b[0m\n\u001b[0m\u001b[0;32m    449\u001b[0m \u001b[1;33m\u001b[0m\u001b[0m\n\u001b[0;32m    450\u001b[0m     \u001b[1;32mdef\u001b[0m \u001b[0m__repr__\u001b[0m\u001b[1;33m(\u001b[0m\u001b[0mself\u001b[0m\u001b[1;33m)\u001b[0m\u001b[1;33m:\u001b[0m\u001b[1;33m\u001b[0m\u001b[1;33m\u001b[0m\u001b[0m\n",
      "\u001b[1;31mAttributeError\u001b[0m: The sum of two sides must be higher than the remaining side for each pair of sides!"
     ]
    }
   ],
   "source": [
    "triangle_error = Shapes.Triangle([1,1,2])"
   ]
  },
  {
   "cell_type": "markdown",
   "metadata": {},
   "source": [
    "<div class=\"alert alert-danger\" role=\"alert\">\n",
    "    The next code will raise an error since on element in <b>params</b> is a <b>negative number</b>.\n",
    "</div>"
   ]
  },
  {
   "cell_type": "code",
   "execution_count": 48,
   "metadata": {
    "scrolled": true
   },
   "outputs": [
    {
     "ename": "ValueError",
     "evalue": "Parameters must be positive!",
     "output_type": "error",
     "traceback": [
      "\u001b[1;31m---------------------------------------------------------------------------\u001b[0m",
      "\u001b[1;31mValueError\u001b[0m                                Traceback (most recent call last)",
      "\u001b[1;32m<ipython-input-48-91aae4216c95>\u001b[0m in \u001b[0;36m<module>\u001b[1;34m\u001b[0m\n\u001b[1;32m----> 1\u001b[1;33m \u001b[0mtriangle_error\u001b[0m \u001b[1;33m=\u001b[0m \u001b[0mShapes\u001b[0m\u001b[1;33m.\u001b[0m\u001b[0mTriangle\u001b[0m\u001b[1;33m(\u001b[0m\u001b[1;33m[\u001b[0m\u001b[1;33m-\u001b[0m\u001b[1;36m1\u001b[0m\u001b[1;33m,\u001b[0m\u001b[1;36m2\u001b[0m\u001b[1;33m,\u001b[0m\u001b[1;36m2\u001b[0m\u001b[1;33m]\u001b[0m\u001b[1;33m)\u001b[0m\u001b[1;33m\u001b[0m\u001b[1;33m\u001b[0m\u001b[0m\n\u001b[0m",
      "\u001b[1;32m~\\Modelos de Datos\\2_Tarea_OOP\\Shapes.py\u001b[0m in \u001b[0;36m__init__\u001b[1;34m(self, params)\u001b[0m\n\u001b[0;32m    431\u001b[0m \u001b[1;33m\u001b[0m\u001b[0m\n\u001b[0;32m    432\u001b[0m         \u001b[1;32mif\u001b[0m \u001b[0mlen\u001b[0m\u001b[1;33m(\u001b[0m\u001b[0mparams\u001b[0m\u001b[1;33m)\u001b[0m \u001b[1;33m==\u001b[0m \u001b[1;36m3\u001b[0m\u001b[1;33m:\u001b[0m\u001b[1;33m\u001b[0m\u001b[1;33m\u001b[0m\u001b[0m\n\u001b[1;32m--> 433\u001b[1;33m             \u001b[0msuper\u001b[0m\u001b[1;33m(\u001b[0m\u001b[1;33m)\u001b[0m\u001b[1;33m.\u001b[0m\u001b[0m__init__\u001b[0m\u001b[1;33m(\u001b[0m\u001b[0mparams\u001b[0m\u001b[1;33m)\u001b[0m\u001b[1;33m\u001b[0m\u001b[1;33m\u001b[0m\u001b[0m\n\u001b[0m\u001b[0;32m    434\u001b[0m         \u001b[1;32melse\u001b[0m\u001b[1;33m:\u001b[0m\u001b[1;33m\u001b[0m\u001b[1;33m\u001b[0m\u001b[0m\n\u001b[0;32m    435\u001b[0m             \u001b[1;32mraise\u001b[0m \u001b[0mValueError\u001b[0m\u001b[1;33m(\u001b[0m\u001b[1;34m\"I need three parameters!\"\u001b[0m\u001b[1;33m)\u001b[0m\u001b[1;33m\u001b[0m\u001b[1;33m\u001b[0m\u001b[0m\n",
      "\u001b[1;32m~\\Modelos de Datos\\2_Tarea_OOP\\Shapes.py\u001b[0m in \u001b[0;36m__init__\u001b[1;34m(self, params)\u001b[0m\n\u001b[0;32m     40\u001b[0m             \u001b[1;32melse\u001b[0m\u001b[1;33m:\u001b[0m\u001b[1;33m\u001b[0m\u001b[1;33m\u001b[0m\u001b[0m\n\u001b[0;32m     41\u001b[0m                 \u001b[1;32mif\u001b[0m \u001b[0mi\u001b[0m \u001b[1;33m<=\u001b[0m \u001b[1;36m0\u001b[0m\u001b[1;33m:\u001b[0m\u001b[1;33m\u001b[0m\u001b[1;33m\u001b[0m\u001b[0m\n\u001b[1;32m---> 42\u001b[1;33m                     \u001b[1;32mraise\u001b[0m \u001b[0mValueError\u001b[0m\u001b[1;33m(\u001b[0m\u001b[1;34m\"Parameters must be positive!\"\u001b[0m\u001b[1;33m)\u001b[0m\u001b[1;33m\u001b[0m\u001b[1;33m\u001b[0m\u001b[0m\n\u001b[0m\u001b[0;32m     43\u001b[0m \u001b[1;33m\u001b[0m\u001b[0m\n\u001b[0;32m     44\u001b[0m         \u001b[0mself\u001b[0m\u001b[1;33m.\u001b[0m\u001b[0mparams\u001b[0m \u001b[1;33m=\u001b[0m \u001b[0mparams\u001b[0m\u001b[1;33m\u001b[0m\u001b[1;33m\u001b[0m\u001b[0m\n",
      "\u001b[1;31mValueError\u001b[0m: Parameters must be positive!"
     ]
    }
   ],
   "source": [
    "triangle_error = Shapes.Triangle([-1,2,2])"
   ]
  },
  {
   "cell_type": "markdown",
   "metadata": {},
   "source": [
    "<div class=\"alert alert-danger\" role=\"alert\">\n",
    "    The next code will raise an error since one element in <b>params</b> is a <b>string</b>.\n",
    "</div>"
   ]
  },
  {
   "cell_type": "code",
   "execution_count": 49,
   "metadata": {
    "scrolled": true
   },
   "outputs": [
    {
     "ename": "TypeError",
     "evalue": "I need numbers!",
     "output_type": "error",
     "traceback": [
      "\u001b[1;31m---------------------------------------------------------------------------\u001b[0m",
      "\u001b[1;31mTypeError\u001b[0m                                 Traceback (most recent call last)",
      "\u001b[1;32m<ipython-input-49-88ebf53232ba>\u001b[0m in \u001b[0;36m<module>\u001b[1;34m\u001b[0m\n\u001b[1;32m----> 1\u001b[1;33m \u001b[0mtriangle_error\u001b[0m \u001b[1;33m=\u001b[0m \u001b[0mShapes\u001b[0m\u001b[1;33m.\u001b[0m\u001b[0mTriangle\u001b[0m\u001b[1;33m(\u001b[0m\u001b[1;33m[\u001b[0m\u001b[1;36m1\u001b[0m\u001b[1;33m,\u001b[0m\u001b[1;36m2\u001b[0m\u001b[1;33m,\u001b[0m\u001b[1;34m\"s\"\u001b[0m\u001b[1;33m]\u001b[0m\u001b[1;33m)\u001b[0m\u001b[1;33m\u001b[0m\u001b[1;33m\u001b[0m\u001b[0m\n\u001b[0m",
      "\u001b[1;32m~\\Modelos de Datos\\2_Tarea_OOP\\Shapes.py\u001b[0m in \u001b[0;36m__init__\u001b[1;34m(self, params)\u001b[0m\n\u001b[0;32m    431\u001b[0m \u001b[1;33m\u001b[0m\u001b[0m\n\u001b[0;32m    432\u001b[0m         \u001b[1;32mif\u001b[0m \u001b[0mlen\u001b[0m\u001b[1;33m(\u001b[0m\u001b[0mparams\u001b[0m\u001b[1;33m)\u001b[0m \u001b[1;33m==\u001b[0m \u001b[1;36m3\u001b[0m\u001b[1;33m:\u001b[0m\u001b[1;33m\u001b[0m\u001b[1;33m\u001b[0m\u001b[0m\n\u001b[1;32m--> 433\u001b[1;33m             \u001b[0msuper\u001b[0m\u001b[1;33m(\u001b[0m\u001b[1;33m)\u001b[0m\u001b[1;33m.\u001b[0m\u001b[0m__init__\u001b[0m\u001b[1;33m(\u001b[0m\u001b[0mparams\u001b[0m\u001b[1;33m)\u001b[0m\u001b[1;33m\u001b[0m\u001b[1;33m\u001b[0m\u001b[0m\n\u001b[0m\u001b[0;32m    434\u001b[0m         \u001b[1;32melse\u001b[0m\u001b[1;33m:\u001b[0m\u001b[1;33m\u001b[0m\u001b[1;33m\u001b[0m\u001b[0m\n\u001b[0;32m    435\u001b[0m             \u001b[1;32mraise\u001b[0m \u001b[0mValueError\u001b[0m\u001b[1;33m(\u001b[0m\u001b[1;34m\"I need three parameters!\"\u001b[0m\u001b[1;33m)\u001b[0m\u001b[1;33m\u001b[0m\u001b[1;33m\u001b[0m\u001b[0m\n",
      "\u001b[1;32m~\\Modelos de Datos\\2_Tarea_OOP\\Shapes.py\u001b[0m in \u001b[0;36m__init__\u001b[1;34m(self, params)\u001b[0m\n\u001b[0;32m     37\u001b[0m         \u001b[1;32mfor\u001b[0m \u001b[0mi\u001b[0m \u001b[1;32min\u001b[0m \u001b[0mparams\u001b[0m\u001b[1;33m:\u001b[0m\u001b[1;33m\u001b[0m\u001b[1;33m\u001b[0m\u001b[0m\n\u001b[0;32m     38\u001b[0m             \u001b[1;32mif\u001b[0m \u001b[0mtype\u001b[0m\u001b[1;33m(\u001b[0m\u001b[0mi\u001b[0m\u001b[1;33m)\u001b[0m \u001b[1;32mis\u001b[0m \u001b[1;32mnot\u001b[0m \u001b[0mint\u001b[0m \u001b[1;32mand\u001b[0m \u001b[0mtype\u001b[0m\u001b[1;33m(\u001b[0m\u001b[0mi\u001b[0m\u001b[1;33m)\u001b[0m \u001b[1;32mis\u001b[0m \u001b[1;32mnot\u001b[0m \u001b[0mfloat\u001b[0m\u001b[1;33m:\u001b[0m\u001b[1;33m\u001b[0m\u001b[1;33m\u001b[0m\u001b[0m\n\u001b[1;32m---> 39\u001b[1;33m                 \u001b[1;32mraise\u001b[0m \u001b[0mTypeError\u001b[0m\u001b[1;33m(\u001b[0m\u001b[1;34m\"I need numbers!\"\u001b[0m\u001b[1;33m)\u001b[0m\u001b[1;33m\u001b[0m\u001b[1;33m\u001b[0m\u001b[0m\n\u001b[0m\u001b[0;32m     40\u001b[0m             \u001b[1;32melse\u001b[0m\u001b[1;33m:\u001b[0m\u001b[1;33m\u001b[0m\u001b[1;33m\u001b[0m\u001b[0m\n\u001b[0;32m     41\u001b[0m                 \u001b[1;32mif\u001b[0m \u001b[0mi\u001b[0m \u001b[1;33m<=\u001b[0m \u001b[1;36m0\u001b[0m\u001b[1;33m:\u001b[0m\u001b[1;33m\u001b[0m\u001b[1;33m\u001b[0m\u001b[0m\n",
      "\u001b[1;31mTypeError\u001b[0m: I need numbers!"
     ]
    }
   ],
   "source": [
    "triangle_error = Shapes.Triangle([1,2,\"s\"])"
   ]
  },
  {
   "cell_type": "markdown",
   "metadata": {},
   "source": [
    "The arithmetic operations are inherited from the Shapes class and every time one of these methods is called a new Triangle class is created."
   ]
  },
  {
   "cell_type": "code",
   "execution_count": 50,
   "metadata": {},
   "outputs": [
    {
     "name": "stdout",
     "output_type": "stream",
     "text": [
      "Addition: Triangle (a = 3, b = 6, c = 6, area = 8.714212528966687)\n",
      "Subtraction: Triangle (a = 1, b = 2, c = 2, area = 0.9682458365518543)\n",
      "Multiplication: Triangle (a = 2, b = 8, c = 8, area = 7.937253933193772)\n",
      "Division: Triangle (a = 2.0, b = 2.0, c = 2.0, area = 1.7320508075688772)\n"
     ]
    }
   ],
   "source": [
    "triangle_a = Shapes.Triangle([2,4,4])\n",
    "triangle_b = Shapes.Triangle([1,2,2])\n",
    "\n",
    "triangle_add = triangle_a + triangle_b\n",
    "triangle_sub = triangle_a - triangle_b\n",
    "triangle_mul = triangle_a * triangle_b\n",
    "triangle_div = triangle_a / triangle_b\n",
    "\n",
    "print(\"Addition:\",triangle_add)\n",
    "print(\"Subtraction:\",triangle_sub)\n",
    "print(\"Multiplication:\",triangle_mul)\n",
    "print(\"Division:\",triangle_div)"
   ]
  },
  {
   "cell_type": "markdown",
   "metadata": {},
   "source": [
    "Since Triangle inherits from Shapes, arithmetic operations can also be computed with numeric and list classes."
   ]
  },
  {
   "cell_type": "code",
   "execution_count": 51,
   "metadata": {},
   "outputs": [
    {
     "name": "stdout",
     "output_type": "stream",
     "text": [
      "Addition: Triangle (a = 3, b = 5, c = 5, area = 7.1545440106270926)\n",
      "Subtraction: Triangle (a = 1, b = 3, c = 3, area = 1.479019945774904)\n",
      "Multiplication: Triangle (a = 4, b = 8, c = 8, area = 15.491933384829668)\n",
      "Division: Triangle (a = 1.0, b = 2.0, c = 2.0, area = 0.9682458365518543)\n"
     ]
    }
   ],
   "source": [
    "triangle_a = Shapes.Triangle([2,4,4])\n",
    "\n",
    "triangle_add = triangle_a + 1\n",
    "triangle_sub = triangle_a - 1\n",
    "triangle_mul = triangle_a * 2\n",
    "triangle_div = triangle_a / 2\n",
    "\n",
    "print(\"Addition:\",triangle_add)\n",
    "print(\"Subtraction:\",triangle_sub)\n",
    "print(\"Multiplication:\",triangle_mul)\n",
    "print(\"Division:\",triangle_div)"
   ]
  },
  {
   "cell_type": "code",
   "execution_count": 52,
   "metadata": {},
   "outputs": [
    {
     "name": "stdout",
     "output_type": "stream",
     "text": [
      "Addition: Triangle (a = 3, b = 6, c = 6, area = 8.714212528966687)\n",
      "Subtraction: Triangle (a = 1, b = 2, c = 2, area = 0.9682458365518543)\n",
      "Multiplication: Triangle (a = 2, b = 8, c = 8, area = 7.937253933193772)\n",
      "Division: Triangle (a = 2.0, b = 2.0, c = 2.0, area = 1.7320508075688772)\n"
     ]
    }
   ],
   "source": [
    "triangle_a = Shapes.Triangle([2,4,4])\n",
    "\n",
    "triangle_add = triangle_a + [1,2,2]\n",
    "triangle_sub = triangle_a - [1,2,2]\n",
    "triangle_mul = triangle_a * [1,2,2]\n",
    "triangle_div = triangle_a / [1,2,2]\n",
    "\n",
    "print(\"Addition:\",triangle_add)\n",
    "print(\"Subtraction:\",triangle_sub)\n",
    "print(\"Multiplication:\",triangle_mul)\n",
    "print(\"Division:\",triangle_div)"
   ]
  },
  {
   "cell_type": "markdown",
   "metadata": {},
   "source": [
    "And the positions can be changed for computing these arithmetic operations:"
   ]
  },
  {
   "cell_type": "code",
   "execution_count": 53,
   "metadata": {},
   "outputs": [
    {
     "name": "stdout",
     "output_type": "stream",
     "text": [
      "Addition: Triangle (a = 3, b = 4, c = 5, area = 6.0)\n",
      "Subtraction: Triangle (a = 8, b = 7, c = 6, area = 20.33316256758894)\n",
      "Multiplication: Triangle (a = 4, b = 6, c = 8, area = 11.61895003862225)\n",
      "Division: Triangle (a = 2.0, b = 1.3333333333333333, c = 1.0, area = 0.5925202502139314)\n"
     ]
    }
   ],
   "source": [
    "triangle_a = Shapes.Triangle([2,3,4])\n",
    "\n",
    "triangle_add = 1 + triangle_a\n",
    "triangle_sub = 10 - triangle_a\n",
    "triangle_mul = 2 * triangle_a\n",
    "triangle_div = 4 / triangle_a\n",
    "\n",
    "print(\"Addition:\",triangle_add)\n",
    "print(\"Subtraction:\",triangle_sub)\n",
    "print(\"Multiplication:\",triangle_mul)\n",
    "print(\"Division:\",triangle_div)"
   ]
  },
  {
   "cell_type": "code",
   "execution_count": 54,
   "metadata": {},
   "outputs": [
    {
     "name": "stdout",
     "output_type": "stream",
     "text": [
      "Addition: Triangle (a = 3, b = 5, c = 6, area = 7.483314773547883)\n",
      "Subtraction: Triangle (a = 8, b = 6, c = 5, area = 14.981238266578634)\n",
      "Multiplication: Triangle (a = 4, b = 9, c = 12, area = 13.635890143294644)\n",
      "Division: Triangle (a = 1.0, b = 1.0, c = 0.75, area = 0.3476343040826092)\n"
     ]
    }
   ],
   "source": [
    "triangle_a = Shapes.Triangle([2,3,4])\n",
    "\n",
    "triangle_add = [1,2,2] + triangle_a\n",
    "triangle_sub = [10,9,9] - triangle_a\n",
    "triangle_mul = [2,3,3] * triangle_a\n",
    "triangle_div = [2,3,3] / triangle_a\n",
    "\n",
    "print(\"Addition:\",triangle_add)\n",
    "print(\"Subtraction:\",triangle_sub)\n",
    "print(\"Multiplication:\",triangle_mul)\n",
    "print(\"Division:\",triangle_div)"
   ]
  },
  {
   "cell_type": "markdown",
   "metadata": {},
   "source": [
    "Since in the initialization inherited from the Shapes class the negative parameters are not allowed, an arithmetic operation resulting in a negative side of the triangle will raise an error."
   ]
  },
  {
   "cell_type": "markdown",
   "metadata": {},
   "source": [
    "<div class=\"alert alert-danger\" role=\"alert\">\n",
    "    The next code will raise an error since the subtraction tries to create a new triangle object with a <b>negative parameter</b>.\n",
    "</div>"
   ]
  },
  {
   "cell_type": "code",
   "execution_count": 55,
   "metadata": {},
   "outputs": [
    {
     "ename": "ValueError",
     "evalue": "Parameters must be positive!",
     "output_type": "error",
     "traceback": [
      "\u001b[1;31m---------------------------------------------------------------------------\u001b[0m",
      "\u001b[1;31mValueError\u001b[0m                                Traceback (most recent call last)",
      "\u001b[1;32m<ipython-input-55-333f2e6bdcc1>\u001b[0m in \u001b[0;36m<module>\u001b[1;34m\u001b[0m\n\u001b[0;32m      2\u001b[0m \u001b[0mtriangle_b\u001b[0m \u001b[1;33m=\u001b[0m \u001b[0mShapes\u001b[0m\u001b[1;33m.\u001b[0m\u001b[0mTriangle\u001b[0m\u001b[1;33m(\u001b[0m\u001b[1;33m[\u001b[0m\u001b[1;36m1\u001b[0m\u001b[1;33m,\u001b[0m\u001b[1;36m9\u001b[0m\u001b[1;33m,\u001b[0m\u001b[1;36m9\u001b[0m\u001b[1;33m]\u001b[0m\u001b[1;33m)\u001b[0m\u001b[1;33m\u001b[0m\u001b[1;33m\u001b[0m\u001b[0m\n\u001b[0;32m      3\u001b[0m \u001b[1;33m\u001b[0m\u001b[0m\n\u001b[1;32m----> 4\u001b[1;33m \u001b[0mtriangle_error\u001b[0m \u001b[1;33m=\u001b[0m \u001b[0mtriangle_a\u001b[0m \u001b[1;33m-\u001b[0m \u001b[0mtriangle_b\u001b[0m\u001b[1;33m\u001b[0m\u001b[1;33m\u001b[0m\u001b[0m\n\u001b[0m",
      "\u001b[1;32m~\\Modelos de Datos\\2_Tarea_OOP\\Shapes.py\u001b[0m in \u001b[0;36m__sub__\u001b[1;34m(self, other)\u001b[0m\n\u001b[0;32m     95\u001b[0m \u001b[1;33m\u001b[0m\u001b[0m\n\u001b[0;32m     96\u001b[0m         \u001b[1;32mif\u001b[0m \u001b[0mtype\u001b[0m\u001b[1;33m(\u001b[0m\u001b[0mself\u001b[0m\u001b[1;33m)\u001b[0m \u001b[1;33m==\u001b[0m \u001b[0mtype\u001b[0m\u001b[1;33m(\u001b[0m\u001b[0mother\u001b[0m\u001b[1;33m)\u001b[0m\u001b[1;33m:\u001b[0m\u001b[1;33m\u001b[0m\u001b[1;33m\u001b[0m\u001b[0m\n\u001b[1;32m---> 97\u001b[1;33m             \u001b[1;32mreturn\u001b[0m \u001b[0mtype\u001b[0m\u001b[1;33m(\u001b[0m\u001b[0mself\u001b[0m\u001b[1;33m)\u001b[0m\u001b[1;33m(\u001b[0m\u001b[1;33m[\u001b[0m\u001b[0mself\u001b[0m\u001b[1;33m.\u001b[0m\u001b[0mparams\u001b[0m\u001b[1;33m[\u001b[0m\u001b[0mi\u001b[0m\u001b[1;33m]\u001b[0m \u001b[1;33m-\u001b[0m \u001b[0mother\u001b[0m\u001b[1;33m.\u001b[0m\u001b[0mparams\u001b[0m\u001b[1;33m[\u001b[0m\u001b[0mi\u001b[0m\u001b[1;33m]\u001b[0m \u001b[1;32mfor\u001b[0m \u001b[0mi\u001b[0m \u001b[1;32min\u001b[0m \u001b[0mrange\u001b[0m\u001b[1;33m(\u001b[0m\u001b[0mlen\u001b[0m\u001b[1;33m(\u001b[0m\u001b[0mself\u001b[0m\u001b[1;33m.\u001b[0m\u001b[0mparams\u001b[0m\u001b[1;33m)\u001b[0m\u001b[1;33m)\u001b[0m\u001b[1;33m]\u001b[0m\u001b[1;33m)\u001b[0m\u001b[1;33m\u001b[0m\u001b[1;33m\u001b[0m\u001b[0m\n\u001b[0m\u001b[0;32m     98\u001b[0m \u001b[1;33m\u001b[0m\u001b[0m\n\u001b[0;32m     99\u001b[0m         \u001b[1;32melif\u001b[0m \u001b[0misinstance\u001b[0m\u001b[1;33m(\u001b[0m\u001b[0mother\u001b[0m\u001b[1;33m,\u001b[0m\u001b[0mlist\u001b[0m\u001b[1;33m)\u001b[0m\u001b[1;33m:\u001b[0m\u001b[1;33m\u001b[0m\u001b[1;33m\u001b[0m\u001b[0m\n",
      "\u001b[1;32m~\\Modelos de Datos\\2_Tarea_OOP\\Shapes.py\u001b[0m in \u001b[0;36m__init__\u001b[1;34m(self, params)\u001b[0m\n\u001b[0;32m    431\u001b[0m \u001b[1;33m\u001b[0m\u001b[0m\n\u001b[0;32m    432\u001b[0m         \u001b[1;32mif\u001b[0m \u001b[0mlen\u001b[0m\u001b[1;33m(\u001b[0m\u001b[0mparams\u001b[0m\u001b[1;33m)\u001b[0m \u001b[1;33m==\u001b[0m \u001b[1;36m3\u001b[0m\u001b[1;33m:\u001b[0m\u001b[1;33m\u001b[0m\u001b[1;33m\u001b[0m\u001b[0m\n\u001b[1;32m--> 433\u001b[1;33m             \u001b[0msuper\u001b[0m\u001b[1;33m(\u001b[0m\u001b[1;33m)\u001b[0m\u001b[1;33m.\u001b[0m\u001b[0m__init__\u001b[0m\u001b[1;33m(\u001b[0m\u001b[0mparams\u001b[0m\u001b[1;33m)\u001b[0m\u001b[1;33m\u001b[0m\u001b[1;33m\u001b[0m\u001b[0m\n\u001b[0m\u001b[0;32m    434\u001b[0m         \u001b[1;32melse\u001b[0m\u001b[1;33m:\u001b[0m\u001b[1;33m\u001b[0m\u001b[1;33m\u001b[0m\u001b[0m\n\u001b[0;32m    435\u001b[0m             \u001b[1;32mraise\u001b[0m \u001b[0mValueError\u001b[0m\u001b[1;33m(\u001b[0m\u001b[1;34m\"I need three parameters!\"\u001b[0m\u001b[1;33m)\u001b[0m\u001b[1;33m\u001b[0m\u001b[1;33m\u001b[0m\u001b[0m\n",
      "\u001b[1;32m~\\Modelos de Datos\\2_Tarea_OOP\\Shapes.py\u001b[0m in \u001b[0;36m__init__\u001b[1;34m(self, params)\u001b[0m\n\u001b[0;32m     40\u001b[0m             \u001b[1;32melse\u001b[0m\u001b[1;33m:\u001b[0m\u001b[1;33m\u001b[0m\u001b[1;33m\u001b[0m\u001b[0m\n\u001b[0;32m     41\u001b[0m                 \u001b[1;32mif\u001b[0m \u001b[0mi\u001b[0m \u001b[1;33m<=\u001b[0m \u001b[1;36m0\u001b[0m\u001b[1;33m:\u001b[0m\u001b[1;33m\u001b[0m\u001b[1;33m\u001b[0m\u001b[0m\n\u001b[1;32m---> 42\u001b[1;33m                     \u001b[1;32mraise\u001b[0m \u001b[0mValueError\u001b[0m\u001b[1;33m(\u001b[0m\u001b[1;34m\"Parameters must be positive!\"\u001b[0m\u001b[1;33m)\u001b[0m\u001b[1;33m\u001b[0m\u001b[1;33m\u001b[0m\u001b[0m\n\u001b[0m\u001b[0;32m     43\u001b[0m \u001b[1;33m\u001b[0m\u001b[0m\n\u001b[0;32m     44\u001b[0m         \u001b[0mself\u001b[0m\u001b[1;33m.\u001b[0m\u001b[0mparams\u001b[0m \u001b[1;33m=\u001b[0m \u001b[0mparams\u001b[0m\u001b[1;33m\u001b[0m\u001b[1;33m\u001b[0m\u001b[0m\n",
      "\u001b[1;31mValueError\u001b[0m: Parameters must be positive!"
     ]
    }
   ],
   "source": [
    "triangle_a = Shapes.Triangle([1,2,2])\n",
    "triangle_b = Shapes.Triangle([1,9,9])\n",
    "\n",
    "triangle_error = triangle_a - triangle_b"
   ]
  },
  {
   "cell_type": "markdown",
   "metadata": {},
   "source": [
    "The logical operations have been inherited from the Shapes class, and since the Triangle class has the **area** attribute, these can be computed."
   ]
  },
  {
   "cell_type": "code",
   "execution_count": 56,
   "metadata": {},
   "outputs": [
    {
     "name": "stdout",
     "output_type": "stream",
     "text": [
      "triangle a area: 0.9682458365518543\n",
      "triangle b area: 1.479019945774904\n",
      "\n",
      "The area from triangle a is lower than the triangle b area: True\n",
      "The area from triangle a is lower or equal than the triangle b area: True\n",
      "The area from triangle a is equal than the triangle b area: False\n",
      "The area from triangle a is different than the triangle b area: True\n",
      "The area from triangle a is greater than the triangle b area: False\n",
      "The area from triangle a is greater or equal than the triangle b area: False\n"
     ]
    }
   ],
   "source": [
    "triangle_a = Shapes.Triangle([1,2,2])\n",
    "triangle_b = Shapes.Triangle([1,3,3])\n",
    "\n",
    "print(\"triangle a area:\",triangle_a.area)\n",
    "print(\"triangle b area:\",triangle_b.area)\n",
    "print()\n",
    "\n",
    "print(\"The area from triangle a is lower than the triangle b area:\",triangle_a < triangle_b)\n",
    "print(\"The area from triangle a is lower or equal than the triangle b area:\",triangle_a <= triangle_b)\n",
    "print(\"The area from triangle a is equal than the triangle b area:\",triangle_a == triangle_b)\n",
    "print(\"The area from triangle a is different than the triangle b area:\",triangle_a != triangle_b)\n",
    "print(\"The area from triangle a is greater than the triangle b area:\",triangle_a > triangle_b)\n",
    "print(\"The area from triangle a is greater or equal than the triangle b area:\",triangle_a >= triangle_b)"
   ]
  },
  {
   "cell_type": "markdown",
   "metadata": {},
   "source": [
    "Since Triangle, Rectangle and Circle classes have the **area** attribute, logical operations can be computed between objects from these different classes."
   ]
  },
  {
   "cell_type": "code",
   "execution_count": 57,
   "metadata": {},
   "outputs": [
    {
     "name": "stdout",
     "output_type": "stream",
     "text": [
      "triangle area: 28.61817604250837\n",
      "rectangle area: 28\n",
      "circle area: 28.274333882308138\n",
      "\n",
      "The area from rectangle is lower than the circle area: True\n",
      "The area from triangle is lower or equal than the circle area: False\n",
      "The area from rectangle is equal than the triangle area: False\n",
      "The area from rectangle is different than the circle area: True\n",
      "The area from triangle is greater than the circle area: True\n",
      "The area from rectangle is greater or equal than the triangle area: False\n"
     ]
    }
   ],
   "source": [
    "triangle = Shapes.Triangle([6,10,10])\n",
    "rectangle = Shapes.Rectangle([7,4])\n",
    "circle = Shapes.Circle(3)\n",
    "\n",
    "print(\"triangle area:\",triangle.area)\n",
    "print(\"rectangle area:\",rectangle.area)\n",
    "print(\"circle area:\",circle.area)\n",
    "print()\n",
    "\n",
    "print(\"The area from rectangle is lower than the circle area:\",rectangle < circle)\n",
    "print(\"The area from triangle is lower or equal than the circle area:\",triangle <= circle)\n",
    "print(\"The area from rectangle is equal than the triangle area:\",rectangle == triangle)\n",
    "print(\"The area from rectangle is different than the circle area:\",rectangle != circle)\n",
    "print(\"The area from triangle is greater than the circle area:\",triangle > circle)\n",
    "print(\"The area from rectangle is greater or equal than the triangle area:\",rectangle >= triangle)"
   ]
  },
  {
   "cell_type": "markdown",
   "metadata": {},
   "source": [
    "## Creating New Subclasses\n",
    "\n",
    "New subclasses that inherit from the Shapes classes."
   ]
  },
  {
   "cell_type": "markdown",
   "metadata": {},
   "source": [
    "<h3>Ellipse <span class=\"badge badge-secondary\">Example of a Subclass Creation</span></h3>\n",
    "\n",
    "Ellipse class is a subclass that will inherit the methods and attributes from the Shapes class:\n",
    "\n",
    "```python\n",
    "class Ellipse(Shapes.Shapes):\n",
    "    pass\n",
    "```\n",
    "\n",
    "The previous code will create a new subclass Ellipse that inherits from the Shapes class. However, it needs some rules:"
   ]
  },
  {
   "cell_type": "markdown",
   "metadata": {},
   "source": [
    "#### `__init__` method"
   ]
  },
  {
   "cell_type": "markdown",
   "metadata": {},
   "source": [
    "Shapes class is initialized with a **params** argument and it assumes that this argument is a list, so the `__init__` method have to specify this:\n",
    "\n",
    "```python\n",
    "def __init__(self,params):        \n",
    "    if not isinstance(params,list):\n",
    "        raise TypeError(\"I just need a list with the two semi axes!\")\n",
    "```\n",
    "\n",
    "Following the properties of an ellipse, an ellipse just need two parameters to be created:\n",
    "\n",
    "- Semi major axis\n",
    "- Semi minor axis\n",
    "\n",
    "And since for the ellipse creation just two parameters are needed, the **params** list must have a limit. Then, the **params** list can be passed to the `__init__` method implemented in the Shapes class (using the `super()` method).\n",
    "\n",
    "```python\n",
    "if len(params) == 2:\n",
    "    super().__init__(params)\n",
    "else:\n",
    "    raise ValueError(\"I need two parameters!\")\n",
    "```\n",
    "\n",
    "After these specifications, attributes for the new subclass can be created, taking into account that the semi major axis must be higher than the semi minor axis:\n",
    "\n",
    "```python\n",
    "self.semi_major_axis = max(params)\n",
    "self.semi_minor_axis = min(params)\n",
    "```\n",
    "\n",
    "And, if an **area** attribute is not created, logical operations couldn't be computed:\n",
    "\n",
    "```python\n",
    "self.area = self.semi_major_axis * self.semi_minor_axis * pi\n",
    "```\n",
    "\n",
    "The next code creates an Ellipse class from Shapes class and can print its attributes:"
   ]
  },
  {
   "cell_type": "code",
   "execution_count": 58,
   "metadata": {},
   "outputs": [],
   "source": [
    "from numpy import pi\n",
    "\n",
    "class Ellipse(Shapes.Shapes):\n",
    "    \n",
    "    def __init__(self,params):\n",
    "        \n",
    "        if not isinstance(params,list):\n",
    "            raise TypeError(\"I just need a list with the two semi axes!\")\n",
    "        \n",
    "        if len(params) == 2:\n",
    "            super().__init__(params)\n",
    "        else:\n",
    "            raise ValueError(\"I need two parameters!\")\n",
    "            \n",
    "        self.semi_major_axis = max(params)\n",
    "        self.semi_minor_axis = min(params)\n",
    "        self.area = self.semi_major_axis * self.semi_minor_axis * pi"
   ]
  },
  {
   "cell_type": "markdown",
   "metadata": {},
   "source": [
    "<div class=\"alert alert-success\" role=\"alert\">\n",
    "  The next code creates an Ellipse object with all the parameters.\n",
    "</div>"
   ]
  },
  {
   "cell_type": "code",
   "execution_count": 59,
   "metadata": {},
   "outputs": [
    {
     "name": "stdout",
     "output_type": "stream",
     "text": [
      "Parameters in the argument params: [1, 2]\n",
      "Semi major axis: 2\n",
      "Semi minor axis: 1\n",
      "Area: 6.283185307179586\n"
     ]
    }
   ],
   "source": [
    "random_ellipse = Ellipse([1,2])\n",
    "\n",
    "print(\"Parameters in the argument params:\",random_ellipse.params)\n",
    "print(\"Semi major axis:\",random_ellipse.semi_major_axis)\n",
    "print(\"Semi minor axis:\",random_ellipse.semi_minor_axis)\n",
    "print(\"Area:\",random_ellipse.area)"
   ]
  },
  {
   "cell_type": "markdown",
   "metadata": {},
   "source": [
    "However, though the previous code was succesful, `__repr__` and `__str__` methods in Shapes class raise a `NotImplementedError` to force the implementation in subclasses."
   ]
  },
  {
   "cell_type": "markdown",
   "metadata": {},
   "source": [
    "<div class=\"alert alert-danger\" role=\"alert\">\n",
    "  The next code will raise an error since Shapes class force its subclasses to implement the __repr__ method.\n",
    "</div>"
   ]
  },
  {
   "cell_type": "code",
   "execution_count": 60,
   "metadata": {},
   "outputs": [
    {
     "ename": "NotImplementedError",
     "evalue": "This method is not implemented!",
     "output_type": "error",
     "traceback": [
      "\u001b[1;31m---------------------------------------------------------------------------\u001b[0m",
      "\u001b[1;31mNotImplementedError\u001b[0m                       Traceback (most recent call last)",
      "\u001b[1;32m<ipython-input-60-4cae1e4de841>\u001b[0m in \u001b[0;36m<module>\u001b[1;34m\u001b[0m\n\u001b[0;32m      1\u001b[0m \u001b[0mrandom_ellipse\u001b[0m \u001b[1;33m=\u001b[0m \u001b[0mEllipse\u001b[0m\u001b[1;33m(\u001b[0m\u001b[1;33m[\u001b[0m\u001b[1;36m1\u001b[0m\u001b[1;33m,\u001b[0m\u001b[1;36m2\u001b[0m\u001b[1;33m]\u001b[0m\u001b[1;33m)\u001b[0m\u001b[1;33m\u001b[0m\u001b[1;33m\u001b[0m\u001b[0m\n\u001b[0;32m      2\u001b[0m \u001b[1;33m\u001b[0m\u001b[0m\n\u001b[1;32m----> 3\u001b[1;33m \u001b[0mrepr\u001b[0m\u001b[1;33m(\u001b[0m\u001b[0mrandom_ellipse\u001b[0m\u001b[1;33m)\u001b[0m\u001b[1;33m\u001b[0m\u001b[1;33m\u001b[0m\u001b[0m\n\u001b[0m",
      "\u001b[1;32m~\\Modelos de Datos\\2_Tarea_OOP\\Shapes.py\u001b[0m in \u001b[0;36m__repr__\u001b[1;34m(self)\u001b[0m\n\u001b[0;32m     45\u001b[0m \u001b[1;33m\u001b[0m\u001b[0m\n\u001b[0;32m     46\u001b[0m     \u001b[1;32mdef\u001b[0m \u001b[0m__repr__\u001b[0m\u001b[1;33m(\u001b[0m\u001b[0mself\u001b[0m\u001b[1;33m)\u001b[0m\u001b[1;33m:\u001b[0m\u001b[1;33m\u001b[0m\u001b[1;33m\u001b[0m\u001b[0m\n\u001b[1;32m---> 47\u001b[1;33m         \u001b[1;32mraise\u001b[0m \u001b[0mNotImplementedError\u001b[0m\u001b[1;33m(\u001b[0m\u001b[1;34m\"This method is not implemented!\"\u001b[0m\u001b[1;33m)\u001b[0m\u001b[1;33m\u001b[0m\u001b[1;33m\u001b[0m\u001b[0m\n\u001b[0m\u001b[0;32m     48\u001b[0m \u001b[1;33m\u001b[0m\u001b[0m\n\u001b[0;32m     49\u001b[0m     \u001b[1;32mdef\u001b[0m \u001b[0m__str__\u001b[0m\u001b[1;33m(\u001b[0m\u001b[0mself\u001b[0m\u001b[1;33m)\u001b[0m\u001b[1;33m:\u001b[0m\u001b[1;33m\u001b[0m\u001b[1;33m\u001b[0m\u001b[0m\n",
      "\u001b[1;31mNotImplementedError\u001b[0m: This method is not implemented!"
     ]
    }
   ],
   "source": [
    "random_ellipse = Ellipse([1,2])\n",
    "\n",
    "repr(random_ellipse)"
   ]
  },
  {
   "cell_type": "markdown",
   "metadata": {},
   "source": [
    "<div class=\"alert alert-danger\" role=\"alert\">\n",
    "  The next code will raise an error since Shapes class force its subclasses to implement the __str__ method.\n",
    "</div>"
   ]
  },
  {
   "cell_type": "code",
   "execution_count": 61,
   "metadata": {},
   "outputs": [
    {
     "ename": "NotImplementedError",
     "evalue": "This method is not implemented!",
     "output_type": "error",
     "traceback": [
      "\u001b[1;31m---------------------------------------------------------------------------\u001b[0m",
      "\u001b[1;31mNotImplementedError\u001b[0m                       Traceback (most recent call last)",
      "\u001b[1;32m<ipython-input-61-b4e9cbf40ab8>\u001b[0m in \u001b[0;36m<module>\u001b[1;34m\u001b[0m\n\u001b[0;32m      1\u001b[0m \u001b[0mrandom_ellipse\u001b[0m \u001b[1;33m=\u001b[0m \u001b[0mEllipse\u001b[0m\u001b[1;33m(\u001b[0m\u001b[1;33m[\u001b[0m\u001b[1;36m1\u001b[0m\u001b[1;33m,\u001b[0m\u001b[1;36m2\u001b[0m\u001b[1;33m]\u001b[0m\u001b[1;33m)\u001b[0m\u001b[1;33m\u001b[0m\u001b[1;33m\u001b[0m\u001b[0m\n\u001b[0;32m      2\u001b[0m \u001b[1;33m\u001b[0m\u001b[0m\n\u001b[1;32m----> 3\u001b[1;33m \u001b[0mprint\u001b[0m\u001b[1;33m(\u001b[0m\u001b[0mrandom_ellipse\u001b[0m\u001b[1;33m)\u001b[0m\u001b[1;33m\u001b[0m\u001b[1;33m\u001b[0m\u001b[0m\n\u001b[0m",
      "\u001b[1;32m~\\Modelos de Datos\\2_Tarea_OOP\\Shapes.py\u001b[0m in \u001b[0;36m__str__\u001b[1;34m(self)\u001b[0m\n\u001b[0;32m     48\u001b[0m \u001b[1;33m\u001b[0m\u001b[0m\n\u001b[0;32m     49\u001b[0m     \u001b[1;32mdef\u001b[0m \u001b[0m__str__\u001b[0m\u001b[1;33m(\u001b[0m\u001b[0mself\u001b[0m\u001b[1;33m)\u001b[0m\u001b[1;33m:\u001b[0m\u001b[1;33m\u001b[0m\u001b[1;33m\u001b[0m\u001b[0m\n\u001b[1;32m---> 50\u001b[1;33m         \u001b[1;32mraise\u001b[0m \u001b[0mNotImplementedError\u001b[0m\u001b[1;33m(\u001b[0m\u001b[1;34m\"This method is not implemented!\"\u001b[0m\u001b[1;33m)\u001b[0m\u001b[1;33m\u001b[0m\u001b[1;33m\u001b[0m\u001b[0m\n\u001b[0m\u001b[0;32m     51\u001b[0m \u001b[1;33m\u001b[0m\u001b[0m\n\u001b[0;32m     52\u001b[0m     \u001b[1;32mdef\u001b[0m \u001b[0m__add__\u001b[0m\u001b[1;33m(\u001b[0m\u001b[0mself\u001b[0m\u001b[1;33m,\u001b[0m\u001b[0mother\u001b[0m\u001b[1;33m)\u001b[0m\u001b[1;33m:\u001b[0m\u001b[1;33m\u001b[0m\u001b[1;33m\u001b[0m\u001b[0m\n",
      "\u001b[1;31mNotImplementedError\u001b[0m: This method is not implemented!"
     ]
    }
   ],
   "source": [
    "random_ellipse = Ellipse([1,2])\n",
    "\n",
    "print(random_ellipse)"
   ]
  },
  {
   "cell_type": "markdown",
   "metadata": {},
   "source": [
    "#### `__repr__` and `__str__` methods"
   ]
  },
  {
   "cell_type": "markdown",
   "metadata": {},
   "source": [
    "Since the Shapes class force the implementation of these vital methods in the subclasses, they must be implemented:\n",
    "\n",
    "```python\n",
    "def __repr__(self):\n",
    "    return \"<Ellipse (Semi Major Axis = \" + str(self.semi_major_axis) + \", Semi Minor Axis = \" + str(self.semi_minor_axis) + \", area = \" + str(self.area) + \")>\"\n",
    "    \n",
    "def __str__(self):\n",
    "    return \"Ellipse (Semi Major Axis = \" + str(self.semi_major_axis) + \", Semi Minor Axis = \" + str(self.semi_minor_axis) + \", area = \" + str(self.area) + \")\"\n",
    "```\n",
    "\n",
    "The next code creates an Ellipse class from Shapes class, can print its attributes, can print the informal and formal descriptions of the object and can compute arithmetic and logical operations:"
   ]
  },
  {
   "cell_type": "code",
   "execution_count": 62,
   "metadata": {},
   "outputs": [],
   "source": [
    "class Ellipse(Shapes.Shapes):\n",
    "    \n",
    "    def __init__(self,params):\n",
    "        \n",
    "        if not isinstance(params,list):\n",
    "            raise TypeError(\"I just need a list with the two semi axes!\")\n",
    "        \n",
    "        if len(params) == 2:\n",
    "            super().__init__(params)\n",
    "        else:\n",
    "            raise ValueError(\"I need two parameters!\")\n",
    "            \n",
    "        self.semi_major_axis = max(params)\n",
    "        self.semi_minor_axis = min(params)\n",
    "        self.area = self.semi_major_axis * self.semi_minor_axis * pi\n",
    "        \n",
    "    def __repr__(self):\n",
    "        return \"<Ellipse (Semi Major Axis = \" + str(self.semi_major_axis) + \", Semi Minor Axis = \" + str(self.semi_minor_axis) + \", area = \" + str(self.area) + \")>\"\n",
    "\n",
    "    def __str__(self):\n",
    "        return \"Ellipse (Semi Major Axis = \" + str(self.semi_major_axis) + \", Semi Minor Axis = \" + str(self.semi_minor_axis) + \", area = \" + str(self.area) + \")\""
   ]
  },
  {
   "cell_type": "markdown",
   "metadata": {},
   "source": [
    "<div class=\"alert alert-success\" role=\"alert\">\n",
    "  The next codes create an Ellipse object that can be printed.\n",
    "</div>"
   ]
  },
  {
   "cell_type": "code",
   "execution_count": 63,
   "metadata": {},
   "outputs": [
    {
     "data": {
      "text/plain": [
       "<Ellipse (Semi Major Axis = 2, Semi Minor Axis = 1, area = 6.283185307179586)>"
      ]
     },
     "execution_count": 63,
     "metadata": {},
     "output_type": "execute_result"
    }
   ],
   "source": [
    "random_ellipse = Ellipse([1,2])\n",
    "\n",
    "random_ellipse"
   ]
  },
  {
   "cell_type": "code",
   "execution_count": 64,
   "metadata": {},
   "outputs": [
    {
     "name": "stdout",
     "output_type": "stream",
     "text": [
      "Ellipse (Semi Major Axis = 2, Semi Minor Axis = 1, area = 6.283185307179586)\n"
     ]
    }
   ],
   "source": [
    "random_ellipse = Ellipse([1,2])\n",
    "\n",
    "print(random_ellipse)"
   ]
  },
  {
   "cell_type": "markdown",
   "metadata": {},
   "source": [
    "<div class=\"alert alert-success\" role=\"alert\">\n",
    "  The next codes compute arithmetical operations with Ellipse objects and also with numeric and list objects. No matter the position in the operation.\n",
    "</div>"
   ]
  },
  {
   "cell_type": "code",
   "execution_count": 65,
   "metadata": {},
   "outputs": [
    {
     "name": "stdout",
     "output_type": "stream",
     "text": [
      "Addition: Ellipse (Semi Major Axis = 5, Semi Minor Axis = 5, area = 78.53981633974483)\n",
      "Subtraction: Ellipse (Semi Major Axis = 3, Semi Minor Axis = 1, area = 9.42477796076938)\n",
      "Multiplication: Ellipse (Semi Major Axis = 6, Semi Minor Axis = 4, area = 75.39822368615503)\n",
      "Division: Ellipse (Semi Major Axis = 4.0, Semi Minor Axis = 1.5, area = 18.84955592153876)\n"
     ]
    }
   ],
   "source": [
    "ellipse_a = Ellipse([3,4])\n",
    "ellipse_b = Ellipse([2,1])\n",
    "\n",
    "ellipse_add = ellipse_a + ellipse_b\n",
    "ellipse_sub = ellipse_a - ellipse_b\n",
    "ellipse_mul = ellipse_a * ellipse_b\n",
    "ellipse_div = ellipse_a / ellipse_b\n",
    "\n",
    "print(\"Addition:\",ellipse_add)\n",
    "print(\"Subtraction:\",ellipse_sub)\n",
    "print(\"Multiplication:\",ellipse_mul)\n",
    "print(\"Division:\",ellipse_div)"
   ]
  },
  {
   "cell_type": "code",
   "execution_count": 66,
   "metadata": {},
   "outputs": [
    {
     "name": "stdout",
     "output_type": "stream",
     "text": [
      "Addition: Ellipse (Semi Major Axis = 5, Semi Minor Axis = 3, area = 47.12388980384689)\n",
      "Subtraction: Ellipse (Semi Major Axis = 3, Semi Minor Axis = 1, area = 9.42477796076938)\n",
      "Multiplication: Ellipse (Semi Major Axis = 8, Semi Minor Axis = 4, area = 100.53096491487338)\n",
      "Division: Ellipse (Semi Major Axis = 1.0, Semi Minor Axis = 0.5, area = 1.5707963267948966)\n"
     ]
    }
   ],
   "source": [
    "ellipse_a = Ellipse([2,4])\n",
    "\n",
    "ellipse_add = ellipse_a + 1\n",
    "ellipse_sub = 5 - ellipse_a\n",
    "ellipse_mul = ellipse_a * 2\n",
    "ellipse_div = 2 / ellipse_a\n",
    "\n",
    "print(\"Addition:\",ellipse_add)\n",
    "print(\"Subtraction:\",ellipse_sub)\n",
    "print(\"Multiplication:\",ellipse_mul)\n",
    "print(\"Division:\",ellipse_div)"
   ]
  },
  {
   "cell_type": "code",
   "execution_count": 67,
   "metadata": {},
   "outputs": [
    {
     "name": "stdout",
     "output_type": "stream",
     "text": [
      "Addition: Ellipse (Semi Major Axis = 6, Semi Minor Axis = 3, area = 56.548667764616276)\n",
      "Subtraction: Ellipse (Semi Major Axis = 2, Semi Minor Axis = 1, area = 6.283185307179586)\n",
      "Multiplication: Ellipse (Semi Major Axis = 16, Semi Minor Axis = 4, area = 201.06192982974676)\n",
      "Division: Ellipse (Semi Major Axis = 1.0, Semi Minor Axis = 0.75, area = 2.356194490192345)\n"
     ]
    }
   ],
   "source": [
    "ellipse_a = Ellipse([2,4])\n",
    "\n",
    "ellipse_add = [1,2] + ellipse_a\n",
    "ellipse_sub = ellipse_a - [1,2]\n",
    "ellipse_mul = ellipse_a * [2,4]\n",
    "ellipse_div = [2,3] / ellipse_a\n",
    "\n",
    "print(\"Addition:\",ellipse_add)\n",
    "print(\"Subtraction:\",ellipse_sub)\n",
    "print(\"Multiplication:\",ellipse_mul)\n",
    "print(\"Division:\",ellipse_div)"
   ]
  },
  {
   "cell_type": "markdown",
   "metadata": {},
   "source": [
    "<div class=\"alert alert-success\" role=\"alert\">\n",
    "  The next codes compute logical operations including Ellipse objects.\n",
    "</div>"
   ]
  },
  {
   "cell_type": "code",
   "execution_count": 68,
   "metadata": {},
   "outputs": [
    {
     "name": "stdout",
     "output_type": "stream",
     "text": [
      "ellipse area: 25.132741228718345\n",
      "triangle area: 28.61817604250837\n",
      "rectangle area: 28\n",
      "circle area: 28.274333882308138\n",
      "\n",
      "The area from ellipse is lower than the circle area: True\n",
      "The area from ellipse is lower or equal than the triangle area: True\n",
      "The area from ellipse is equal than the triangle area: False\n",
      "The area from ellipse is different than the circle area: True\n",
      "The area from ellipse is greater than the circle area: False\n",
      "The area from ellipse is greater or equal than the rectangle area: False\n"
     ]
    }
   ],
   "source": [
    "ellipse = Ellipse([4,2])\n",
    "triangle = Shapes.Triangle([6,10,10])\n",
    "rectangle = Shapes.Rectangle([7,4])\n",
    "circle = Shapes.Circle(3)\n",
    "\n",
    "print(\"ellipse area:\",ellipse.area)\n",
    "print(\"triangle area:\",triangle.area)\n",
    "print(\"rectangle area:\",rectangle.area)\n",
    "print(\"circle area:\",circle.area)\n",
    "print()\n",
    "\n",
    "print(\"The area from ellipse is lower than the circle area:\",ellipse < circle)\n",
    "print(\"The area from ellipse is lower or equal than the triangle area:\",ellipse <= triangle)\n",
    "print(\"The area from ellipse is equal than the triangle area:\",ellipse == rectangle)\n",
    "print(\"The area from ellipse is different than the circle area:\",ellipse != circle)\n",
    "print(\"The area from ellipse is greater than the circle area:\",ellipse > circle)\n",
    "print(\"The area from ellipse is greater or equal than the rectangle area:\",ellipse >= rectangle)"
   ]
  }
 ],
 "metadata": {
  "kernelspec": {
   "display_name": "Python 3",
   "language": "python",
   "name": "python3"
  },
  "language_info": {
   "codemirror_mode": {
    "name": "ipython",
    "version": 3
   },
   "file_extension": ".py",
   "mimetype": "text/x-python",
   "name": "python",
   "nbconvert_exporter": "python",
   "pygments_lexer": "ipython3",
   "version": "3.7.3"
  }
 },
 "nbformat": 4,
 "nbformat_minor": 2
}
