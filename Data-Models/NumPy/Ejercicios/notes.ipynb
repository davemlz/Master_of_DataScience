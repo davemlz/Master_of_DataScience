{
 "cells": [
  {
   "cell_type": "markdown",
   "metadata": {},
   "source": [
    "**Agenda**\n",
    "\n",
    "- HadCRUT4\n",
    "- netCDF\n",
    "- CF Conventions\n",
    "- netCDF4-python\n",
    "\n",
    "**Install required libraries**\n",
    "\n",
    "`conda install netCDF4 xarray numpy matplotlib`"
   ]
  },
  {
   "cell_type": "markdown",
   "metadata": {},
   "source": [
    "# Introduction\n",
    "\n",
    "We have learned numpy, a low level tool to deal with multidimensional arrays. Today we will see how higher level tools integrate with numpy to work with multidimensional data in the context of meteorology.\n",
    "\n",
    "Also, we have worked with Numpy arrays in memory, these arrays disappear when the program ends. We will see how to persist multidimensional data using netCDF but don't forget that numpy arrays can be saved to disk using [numpy.save](https://docs.scipy.org/doc/numpy/reference/generated/numpy.save.html). The binary format is described [here](https://docs.scipy.org/doc/numpy/reference/generated/numpy.lib.format.html#module-numpy.lib.format)."
   ]
  },
  {
   "cell_type": "markdown",
   "metadata": {},
   "source": [
    "## HadCRUT4 Dataset\n",
    "\n",
    " HadCRUT4 is a global temperature dataset, providing gridded temperature anomalies across the world as well as averages for the hemispheres and the globe as a whole. CRUTEM4 and HadSST3 are the land and ocean components of this overall dataset, respectively.\n",
    "\n",
    "These datasets have been developed by the Climatic Research Unit (University of East Anglia) in conjunction with the Hadley Centre (UK Met Office), apart from the sea surface temperature (SST) dataset which was developed solely by the Hadley Centre. These datasets will be updated at roughly monthly intervals into the future. Hemispheric and global averages as monthly and annual values are available as separate files. \n",
    "\n",
    "- [HadCRUT4 Dataset](https://crudata.uea.ac.uk/cru/data/temperature/)\n",
    "- [CRUTEM4 Dataset](https://www.metoffice.gov.uk/hadobs/crutem4/)\n",
    "- [HadSST3 Hadley Centre SST Dataset](https://www.metoffice.gov.uk/hadobs/hadsst3/)"
   ]
  },
  {
   "cell_type": "markdown",
   "metadata": {},
   "source": [
    "## [netCDF](https://www.unidata.ucar.edu/software/netcdf/docs/netcdf_introduction.html)\n",
    "\n",
    "The Network Common Data Form, or netCDF, is an interface to a library of data access functions for storing and retrieving data in the form of arrays. An array is an n-dimensional (where n is 0, 1, 2, ...) rectangular structure containing items which all have the same data type (e.g., 8-bit character, 32-bit integer). A scalar (simple single value) is a 0-dimensional array.\n",
    "\n",
    "NetCDF is an abstraction that supports a view of data as a collection of self-describing, portable objects that can be accessed through a simple interface. Array values may be accessed directly, without knowing details of how the data are stored. Auxiliary information about the data, such as what units are used, may be stored with the data. Generic utilities and application programs can access netCDF datasets and transform, combine, analyze, or display specified fields of the data. The development of such applications has led to improved accessibility of data and improved re-usability of software for array-oriented data management, analysis, and display."
   ]
  },
  {
   "cell_type": "code",
   "execution_count": 1,
   "metadata": {},
   "outputs": [
    {
     "name": "stderr",
     "output_type": "stream",
     "text": [
      "ncdump: 'absolute.nc': No such file or directory\n"
     ]
    }
   ],
   "source": [
    "!ncdump -h 'absolute.nc'"
   ]
  },
  {
   "cell_type": "markdown",
   "metadata": {},
   "source": [
    "**Answer the following questions related to `absolute.nc`**\n",
    "\n",
    "- How many dimensions has the dataset? Which are their names?\n",
    "\n",
    "\n",
    "\n",
    "- How many variables has the dataset? Which are their names?\n",
    "\n",
    "\n",
    "\n",
    "- How many coordinate variables has the dataset? Which are their names?\n",
    "\n",
    "\n",
    "\n",
    "- Which units are used for measuring temperature?\n",
    "\n",
    "\n",
    "\n",
    "- How many temperature values (tem variable) has `absolute.nc` got?\n",
    "\n",
    "\n",
    "\n",
    "- Why there are only 12 values in the time variable if data is monthly?\n",
    "\n",
    "\n"
   ]
  },
  {
   "cell_type": "code",
   "execution_count": 3,
   "metadata": {
    "scrolled": false
   },
   "outputs": [
    {
     "name": "stdout",
     "output_type": "stream",
     "text": [
      "netcdf HadCRUT.4.6.0.0.median {\n",
      "dimensions:\n",
      "\tlatitude = 36 ;\n",
      "\tlongitude = 72 ;\n",
      "\tfield_status_string_length = 1 ;\n",
      "\ttime = UNLIMITED ; // (2037 currently)\n",
      "variables:\n",
      "\tfloat latitude(latitude) ;\n",
      "\t\tlatitude:standard_name = \"latitude\" ;\n",
      "\t\tlatitude:long_name = \"latitude\" ;\n",
      "\t\tlatitude:point_spacing = \"even\" ;\n",
      "\t\tlatitude:units = \"degrees_north\" ;\n",
      "\t\tlatitude:axis = \"Y\" ;\n",
      "\tfloat longitude(longitude) ;\n",
      "\t\tlongitude:standard_name = \"longitude\" ;\n",
      "\t\tlongitude:long_name = \"longitude\" ;\n",
      "\t\tlongitude:point_spacing = \"even\" ;\n",
      "\t\tlongitude:units = \"degrees_east\" ;\n",
      "\t\tlongitude:axis = \"X\" ;\n",
      "\tfloat time(time) ;\n",
      "\t\ttime:standard_name = \"time\" ;\n",
      "\t\ttime:long_name = \"time\" ;\n",
      "\t\ttime:units = \"days since 1850-1-1 00:00:00\" ;\n",
      "\t\ttime:calendar = \"gregorian\" ;\n",
      "\t\ttime:start_year = 1850s ;\n",
      "\t\ttime:end_year = 2019s ;\n",
      "\t\ttime:start_month = 1s ;\n",
      "\t\ttime:end_month = 9s ;\n",
      "\t\ttime:axis = \"T\" ;\n",
      "\tfloat temperature_anomaly(time, latitude, longitude) ;\n",
      "\t\ttemperature_anomaly:long_name = \"near_surface_temperature_anomaly\" ;\n",
      "\t\ttemperature_anomaly:units = \"K\" ;\n",
      "\t\ttemperature_anomaly:missing_value = -1.e+30f ;\n",
      "\t\ttemperature_anomaly:_FillValue = -1.e+30f ;\n",
      "\t\ttemperature_anomaly:reference_period = 1961s, 1990s ;\n",
      "\tchar field_status(time, field_status_string_length) ;\n",
      "\t\tfield_status:long_name = \"field_status\" ;\n",
      "\n",
      "// global attributes:\n",
      "\t\t:title = \"HadCRUT4 near-surface temperature ensemble data - ensemble median\" ;\n",
      "\t\t:institution = \"Met Office Hadley Centre / Climatic Research Unit, University of East Anglia\" ;\n",
      "\t\t:history = \"Updated at 25/10/2019 16:51:06\" ;\n",
      "\t\t:source = \"CRUTEM.4.6.0.0, HadSST.3.1.1.0\" ;\n",
      "\t\t:comment = \"\" ;\n",
      "\t\t:reference = \"Morice, C. P., J. J. Kennedy, N. A. Rayner, and P. D. Jones (2012), Quantifying uncertainties in global and regional temperature change using an ensemble of observational estimates: The HadCRUT4 dataset, J. Geophys. Res., doi:10.1029/2011JD017187\" ;\n",
      "\t\t:version = \"HadCRUT.4.6.0.0\" ;\n",
      "\t\t:Conventions = \"CF-1.0\" ;\n",
      "\t\t:ensemble_members = 100s ;\n",
      "\t\t:ensemble_member_index = 0s ;\n",
      "}\n"
     ]
    }
   ],
   "source": [
    "!ncdump -h \"HadCRUT.4.6.0.0.median.nc\""
   ]
  },
  {
   "cell_type": "markdown",
   "metadata": {},
   "source": [
    "[Chunking](https://www.unidata.ucar.edu/blogs/developer/entry/chunking_data_why_it_matters)"
   ]
  },
  {
   "cell_type": "markdown",
   "metadata": {},
   "source": [
    "### Remote netCDF\n",
    "\n",
    "See [OpenDAP (Data Access Protocol)](https://www.unidata.ucar.edu/software/netcdf/docs/dap2.html)"
   ]
  },
  {
   "cell_type": "code",
   "execution_count": null,
   "metadata": {
    "scrolled": true
   },
   "outputs": [],
   "source": [
    "!ncdump -h 'https://thredds.ucar.edu/thredds/dodsC/nws/metar/ncdecoded/files/Surface_METAR_20191007_0000.nc'"
   ]
  },
  {
   "cell_type": "markdown",
   "metadata": {},
   "source": [
    "## CF conventions\n",
    "\n",
    "[CF conventions](http://cfconventions.org/) are designed to promote the processing and sharing of files created with the NetCDF API. The CF conventions are increasingly gaining acceptance and have been adopted by a number of projects and groups as a primary standard. The conventions define metadata that provide a definitive description of what the data in each variable represents, and the spatial and temporal properties of the data. This enables users of data from different sources to decide which quantities are comparable, and facilitates building applications with powerful extraction, regridding, and display capabilities."
   ]
  },
  {
   "cell_type": "markdown",
   "metadata": {},
   "source": [
    "## netCDF4-python\n",
    "\n",
    "[netcdf4-python](http://unidata.github.io/netcdf4-python/netCDF4/index.html) is a Python interface to the netCDF C library.\n",
    "\n",
    "netCDF version 4 has many features not found in earlier versions of the library and is implemented on top of HDF5. This module can read and write files in both the new netCDF 4 and the old netCDF 3 format, and can create files that are readable by HDF5 clients. The API modelled after Scientific.IO.NetCDF, and should be familiar to users of that module."
   ]
  },
  {
   "cell_type": "code",
   "execution_count": 13,
   "metadata": {},
   "outputs": [],
   "source": [
    "import netCDF4 as nc4\n",
    "import numpy as np\n",
    "import matplotlib.pyplot as plt\n",
    "\n",
    "%matplotlib inline"
   ]
  },
  {
   "cell_type": "code",
   "execution_count": 5,
   "metadata": {},
   "outputs": [
    {
     "name": "stdout",
     "output_type": "stream",
     "text": [
      "<class 'netCDF4._netCDF4.Dataset'>\n",
      "root group (NETCDF4 data model, file format HDF5):\n",
      "    title: HadCRUT4 near-surface temperature ensemble data - ensemble median\n",
      "    institution: Met Office Hadley Centre / Climatic Research Unit, University of East Anglia\n",
      "    history: Updated at 25/10/2019 16:51:06\n",
      "    source: CRUTEM.4.6.0.0, HadSST.3.1.1.0\n",
      "    comment: \n",
      "    reference: Morice, C. P., J. J. Kennedy, N. A. Rayner, and P. D. Jones (2012), Quantifying uncertainties in global and regional temperature change using an ensemble of observational estimates: The HadCRUT4 dataset, J. Geophys. Res., doi:10.1029/2011JD017187\n",
      "    version: HadCRUT.4.6.0.0\n",
      "    Conventions: CF-1.0\n",
      "    ensemble_members: 100\n",
      "    ensemble_member_index: 0\n",
      "    dimensions(sizes): latitude(36), longitude(72), field_status_string_length(1), time(2037)\n",
      "    variables(dimensions): float32 \u001b[4mlatitude\u001b[0m(latitude), float32 \u001b[4mlongitude\u001b[0m(longitude), float32 \u001b[4mtime\u001b[0m(time), float32 \u001b[4mtemperature_anomaly\u001b[0m(time,latitude,longitude), |S1 \u001b[4mfield_status\u001b[0m(time,field_status_string_length)\n",
      "    groups: \n",
      "\n"
     ]
    }
   ],
   "source": [
    "ds = nc4.Dataset('HadCRUT.4.6.0.0.median.nc')\n",
    "print(ds)"
   ]
  },
  {
   "cell_type": "code",
   "execution_count": 6,
   "metadata": {},
   "outputs": [
    {
     "name": "stdout",
     "output_type": "stream",
     "text": [
      "OrderedDict([('latitude', <class 'netCDF4._netCDF4.Variable'>\n",
      "float32 latitude(latitude)\n",
      "    standard_name: latitude\n",
      "    long_name: latitude\n",
      "    point_spacing: even\n",
      "    units: degrees_north\n",
      "    axis: Y\n",
      "unlimited dimensions: \n",
      "current shape = (36,)\n",
      "filling on, default _FillValue of 9.969209968386869e+36 used\n",
      "), ('longitude', <class 'netCDF4._netCDF4.Variable'>\n",
      "float32 longitude(longitude)\n",
      "    standard_name: longitude\n",
      "    long_name: longitude\n",
      "    point_spacing: even\n",
      "    units: degrees_east\n",
      "    axis: X\n",
      "unlimited dimensions: \n",
      "current shape = (72,)\n",
      "filling on, default _FillValue of 9.969209968386869e+36 used\n",
      "), ('time', <class 'netCDF4._netCDF4.Variable'>\n",
      "float32 time(time)\n",
      "    standard_name: time\n",
      "    long_name: time\n",
      "    units: days since 1850-1-1 00:00:00\n",
      "    calendar: gregorian\n",
      "    start_year: 1850\n",
      "    end_year: 2019\n",
      "    start_month: 1\n",
      "    end_month: 9\n",
      "    axis: T\n",
      "unlimited dimensions: time\n",
      "current shape = (2037,)\n",
      "filling on, default _FillValue of 9.969209968386869e+36 used\n",
      "), ('temperature_anomaly', <class 'netCDF4._netCDF4.Variable'>\n",
      "float32 temperature_anomaly(time, latitude, longitude)\n",
      "    long_name: near_surface_temperature_anomaly\n",
      "    units: K\n",
      "    missing_value: -1e+30\n",
      "    _FillValue: -1e+30\n",
      "    reference_period: [1961 1990]\n",
      "unlimited dimensions: time\n",
      "current shape = (2037, 36, 72)\n",
      "filling on), ('field_status', <class 'netCDF4._netCDF4.Variable'>\n",
      "|S1 field_status(time, field_status_string_length)\n",
      "    long_name: field_status\n",
      "unlimited dimensions: time\n",
      "current shape = (2037, 1)\n",
      "filling on, default _FillValue of \u0000 used\n",
      ")])\n"
     ]
    }
   ],
   "source": [
    "print(ds.variables)"
   ]
  },
  {
   "cell_type": "code",
   "execution_count": 7,
   "metadata": {},
   "outputs": [
    {
     "name": "stdout",
     "output_type": "stream",
     "text": [
      "<class 'netCDF4._netCDF4.Variable'>\n",
      "float32 temperature_anomaly(time, latitude, longitude)\n",
      "    long_name: near_surface_temperature_anomaly\n",
      "    units: K\n",
      "    missing_value: -1e+30\n",
      "    _FillValue: -1e+30\n",
      "    reference_period: [1961 1990]\n",
      "unlimited dimensions: time\n",
      "current shape = (2037, 36, 72)\n",
      "filling on\n"
     ]
    }
   ],
   "source": [
    "ta = ds.variables['temperature_anomaly']\n",
    "print(ta)"
   ]
  },
  {
   "cell_type": "code",
   "execution_count": 8,
   "metadata": {},
   "outputs": [
    {
     "data": {
      "text/plain": [
       "<matplotlib.collections.QuadMesh at 0x2ba5ea4f320>"
      ]
     },
     "execution_count": 8,
     "metadata": {},
     "output_type": "execute_result"
    },
    {
     "data": {
      "image/png": "[encoded data removed]",
      "text/plain": [
       "<Figure size 432x288 with 1 Axes>"
      ]
     },
     "metadata": {
      "needs_background": "light"
     },
     "output_type": "display_data"
    }
   ],
   "source": [
    "plt.pcolormesh(ta[-1,:,:])"
   ]
  },
  {
   "cell_type": "code",
   "execution_count": 9,
   "metadata": {},
   "outputs": [
    {
     "name": "stdout",
     "output_type": "stream",
     "text": [
      "Type: <class 'numpy.ndarray'>\n",
      "Shape: (2037, 36, 72)\n",
      "Ndim: 3\n",
      "Dtype: float32\n",
      "Flags:\n",
      "  C_CONTIGUOUS : True\n",
      "  F_CONTIGUOUS : False\n",
      "  OWNDATA : False\n",
      "  WRITEABLE : True\n",
      "  ALIGNED : True\n",
      "  WRITEBACKIFCOPY : False\n",
      "  UPDATEIFCOPY : False\n"
     ]
    }
   ],
   "source": [
    "ta_data = ta[:].data\n",
    "print(f'Type: {type(ta_data)}')\n",
    "print(f'Shape: {ta_data.shape}')\n",
    "print(f'Ndim: {ta_data.ndim}')\n",
    "print(f'Dtype: {ta_data.dtype}')\n",
    "print(f'Flags:\\n{ta_data.flags}')"
   ]
  },
  {
   "cell_type": "markdown",
   "metadata": {},
   "source": [
    "**Exercise**\n",
    "\n",
    "- Print the value of the maximun anomaly\n",
    "- Print the indices of the numpy array where the value is located (check with `ta_data[X,Y,Z]`)\n",
    "- Convert from Kelvin to Celsius and print the maximun anomaly (`C=K-273.15`)"
   ]
  },
  {
   "cell_type": "code",
   "execution_count": 15,
   "metadata": {},
   "outputs": [
    {
     "name": "stdout",
     "output_type": "stream",
     "text": [
      "20.620308\n"
     ]
    }
   ],
   "source": [
    "print(ta_data.max())"
   ]
  },
  {
   "cell_type": "code",
   "execution_count": 17,
   "metadata": {},
   "outputs": [
    {
     "data": {
      "text/plain": [
       "(563, 30, 12)"
      ]
     },
     "execution_count": 17,
     "metadata": {},
     "output_type": "execute_result"
    }
   ],
   "source": [
    "np.unravel_index(ta_data.argmax(),(2037,36,72))"
   ]
  },
  {
   "cell_type": "code",
   "execution_count": 14,
   "metadata": {},
   "outputs": [
    {
     "name": "stdout",
     "output_type": "stream",
     "text": [
      "-252.5297\n"
     ]
    }
   ],
   "source": [
    "ta_data_celsius = ta_data - 273.15\n",
    "print(ta_data_celsius.max())"
   ]
  },
  {
   "cell_type": "markdown",
   "metadata": {},
   "source": [
    "## xarray\n",
    "\n",
    "[xarray](http://xarray.pydata.org/en/stable/index.html) (formerly xray) is an open source project and Python package that makes working with labelled multi-dimensional arrays simple, efficient, and fun!\n",
    "\n",
    "Xarray introduces labels in the form of dimensions, coordinates and attributes on top of raw NumPy-like arrays, which allows for a more intuitive, more concise, and less error-prone developer experience. The package includes a large and growing library of domain-agnostic functions for advanced analytics and visualization with these data structures.\n",
    "\n",
    "Xarray is inspired by and borrows heavily from pandas, the popular data analysis package focused on labelled tabular data. It is particularly tailored to working with netCDF files, which were the source of xarray’s data model, and integrates tightly with dask for parallel computing."
   ]
  },
  {
   "cell_type": "code",
   "execution_count": 1,
   "metadata": {},
   "outputs": [],
   "source": [
    "import xarray as xr"
   ]
  },
  {
   "cell_type": "code",
   "execution_count": 2,
   "metadata": {},
   "outputs": [
    {
     "name": "stdout",
     "output_type": "stream",
     "text": [
      "<xarray.Dataset>\n",
      "Dimensions:              (latitude: 36, longitude: 72, time: 2037)\n",
      "Coordinates:\n",
      "  * latitude             (latitude) float32 -87.5 -82.5 -77.5 ... 77.5 82.5 87.5\n",
      "  * longitude            (longitude) float32 -177.5 -172.5 ... 172.5 177.5\n",
      "  * time                 (time) datetime64[ns] 1850-01-16T12:00:00 ... 2019-09-16\n",
      "Data variables:\n",
      "    temperature_anomaly  (time, latitude, longitude) float32 ...\n",
      "    field_status         (time) |S1 ...\n",
      "Attributes:\n",
      "    title:                  HadCRUT4 near-surface temperature ensemble data -...\n",
      "    institution:            Met Office Hadley Centre / Climatic Research Unit...\n",
      "    history:                Updated at 25/10/2019 16:51:06\n",
      "    source:                 CRUTEM.4.6.0.0, HadSST.3.1.1.0\n",
      "    comment:                \n",
      "    reference:              Morice, C. P., J. J. Kennedy, N. A. Rayner, and P...\n",
      "    version:                HadCRUT.4.6.0.0\n",
      "    Conventions:            CF-1.0\n",
      "    ensemble_members:       100\n",
      "    ensemble_member_index:  0\n"
     ]
    }
   ],
   "source": [
    "hadcrut4 = xr.open_dataset('HadCRUT.4.6.0.0.median.nc')\n",
    "print(hadcrut4)"
   ]
  },
  {
   "cell_type": "markdown",
   "metadata": {},
   "source": [
    "### DataSet\n",
    "\n",
    "[DataSet](http://xarray.pydata.org/en/stable/data-structures.html#dataset) is xarray’s multi-dimensional equivalent of a DataFrame. It is a dict-like container of labeled arrays (DataArray objects) with aligned dimensions. It is designed as an in-memory representation of the data model from the netCDF file format.\n",
    "\n",
    "### DataArray\n",
    "\n",
    "[DataArray](http://xarray.pydata.org/en/stable/data-structures.html#dataarray) is xarray’s implementation of a labeled, multi-dimensional array. It has several key properties:\n",
    "\n",
    "- values: a numpy.ndarray holding the array’s values\n",
    "- dims: dimension names for each axis (e.g., ('x', 'y', 'z'))\n",
    "- coords: a dict-like container of arrays (coordinates) that label each point (e.g., 1-dimensional arrays of numbers, datetime objects or strings)\n",
    "- attrs: dict to hold arbitrary metadata (attributes)"
   ]
  },
  {
   "cell_type": "code",
   "execution_count": 3,
   "metadata": {},
   "outputs": [
    {
     "name": "stdout",
     "output_type": "stream",
     "text": [
      "<class 'xarray.core.dataset.Dataset'>\n",
      "<class 'xarray.core.dataarray.DataArray'>\n",
      "<class 'xarray.core.dataarray.DataArray'>\n",
      "<class 'xarray.core.dataarray.DataArray'>\n",
      "<class 'xarray.core.dataarray.DataArray'>\n"
     ]
    }
   ],
   "source": [
    "print(type(hadcrut4))\n",
    "print(type(hadcrut4.latitude))\n",
    "print(type(hadcrut4.longitude))\n",
    "print(type(hadcrut4.time))\n",
    "print(type(hadcrut4.temperature_anomaly))"
   ]
  },
  {
   "cell_type": "code",
   "execution_count": 4,
   "metadata": {},
   "outputs": [
    {
     "name": "stdout",
     "output_type": "stream",
     "text": [
      "<xarray.DataArray 'time' (time: 2037)>\n",
      "array(['1850-01-16T12:00:00.000000000', '1850-02-15T00:00:00.000000000',\n",
      "       '1850-03-16T12:00:00.000000000', ..., '2019-07-16T12:00:00.000000000',\n",
      "       '2019-08-16T12:00:00.000000000', '2019-09-16T00:00:00.000000000'],\n",
      "      dtype='datetime64[ns]')\n",
      "Coordinates:\n",
      "  * time     (time) datetime64[ns] 1850-01-16T12:00:00 1850-02-15 ... 2019-09-16\n",
      "Attributes:\n",
      "    standard_name:  time\n",
      "    long_name:      time\n",
      "    start_year:     1850\n",
      "    end_year:       2019\n",
      "    start_month:    1\n",
      "    end_month:      9\n",
      "    axis:           T\n"
     ]
    }
   ],
   "source": [
    "print(hadcrut4.time) # Note how xarray interprets time values!"
   ]
  },
  {
   "cell_type": "code",
   "execution_count": 5,
   "metadata": {},
   "outputs": [
    {
     "name": "stdout",
     "output_type": "stream",
     "text": [
      "<xarray.DataArray 'temperature_anomaly' (time: 2037, latitude: 36, longitude: 72)>\n",
      "[5279904 values with dtype=float32]\n",
      "Coordinates:\n",
      "  * latitude   (latitude) float32 -87.5 -82.5 -77.5 -72.5 ... 77.5 82.5 87.5\n",
      "  * longitude  (longitude) float32 -177.5 -172.5 -167.5 ... 167.5 172.5 177.5\n",
      "  * time       (time) datetime64[ns] 1850-01-16T12:00:00 ... 2019-09-16\n",
      "Attributes:\n",
      "    long_name:         near_surface_temperature_anomaly\n",
      "    units:             K\n",
      "    reference_period:  [1961 1990]\n"
     ]
    }
   ],
   "source": [
    "print(hadcrut4.temperature_anomaly)"
   ]
  },
  {
   "cell_type": "code",
   "execution_count": 6,
   "metadata": {},
   "outputs": [
    {
     "name": "stdout",
     "output_type": "stream",
     "text": [
      "[[[       nan        nan        nan ...        nan        nan        nan]\n",
      "  [       nan        nan        nan ...        nan        nan        nan]\n",
      "  [       nan        nan        nan ...        nan        nan        nan]\n",
      "  ...\n",
      "  [       nan        nan        nan ...        nan        nan        nan]\n",
      "  [       nan        nan        nan ...        nan        nan        nan]\n",
      "  [       nan        nan        nan ...        nan        nan        nan]]\n",
      "\n",
      " [[       nan        nan        nan ...        nan        nan        nan]\n",
      "  [       nan        nan        nan ...        nan        nan        nan]\n",
      "  [       nan        nan        nan ...        nan        nan        nan]\n",
      "  ...\n",
      "  [       nan        nan        nan ...        nan        nan        nan]\n",
      "  [       nan        nan        nan ...        nan        nan        nan]\n",
      "  [       nan        nan        nan ...        nan        nan        nan]]\n",
      "\n",
      " [[       nan        nan        nan ...        nan        nan        nan]\n",
      "  [       nan        nan        nan ...        nan        nan        nan]\n",
      "  [       nan        nan        nan ...        nan        nan        nan]\n",
      "  ...\n",
      "  [       nan        nan        nan ...        nan        nan        nan]\n",
      "  [       nan        nan        nan ...        nan        nan        nan]\n",
      "  [       nan        nan        nan ...        nan        nan        nan]]\n",
      "\n",
      " ...\n",
      "\n",
      " [[       nan        nan        nan ...        nan        nan        nan]\n",
      "  [       nan        nan        nan ...        nan        nan        nan]\n",
      "  [       nan        nan        nan ... 4.844532          nan        nan]\n",
      "  ...\n",
      "  [       nan        nan 1.7500067  ...        nan        nan        nan]\n",
      "  [1.1905117         nan 2.381827   ...        nan        nan 0.3586197 ]\n",
      "  [       nan 1.8333333  1.9709091  ... 2.5658333         nan        nan]]\n",
      "\n",
      " [[       nan        nan        nan ...        nan        nan        nan]\n",
      "  [       nan        nan        nan ...        nan        nan        nan]\n",
      "  [       nan        nan        nan ... 3.570466          nan        nan]\n",
      "  ...\n",
      "  [       nan 0.19640112        nan ...        nan        nan        nan]\n",
      "  [0.3069799  0.27407658 1.6015092  ...        nan        nan 0.33164692]\n",
      "  [       nan 1.9009868  1.8400334  ... 0.90530765 0.8160882         nan]]\n",
      "\n",
      " [[       nan        nan        nan ...        nan        nan        nan]\n",
      "  [       nan        nan        nan ...        nan        nan        nan]\n",
      "  [       nan        nan        nan ...        nan        nan        nan]\n",
      "  ...\n",
      "  [       nan 3.6604323  4.1662283  ...        nan        nan        nan]\n",
      "  [0.17424552 0.20000018 0.19855858 ...        nan        nan        nan]\n",
      "  [       nan        nan        nan ... 0.22017545 0.4018518  0.36932385]]]\n"
     ]
    }
   ],
   "source": [
    "print(hadcrut4.temperature_anomaly.values) # numpy array"
   ]
  },
  {
   "cell_type": "markdown",
   "metadata": {},
   "source": [
    "### matplotlib integration"
   ]
  },
  {
   "cell_type": "code",
   "execution_count": 8,
   "metadata": {},
   "outputs": [
    {
     "name": "stdout",
     "output_type": "stream",
     "text": [
      "<xarray.DataArray 'temperature_anomaly' (latitude: 36, longitude: 72)>\n",
      "array([[     nan,      nan,      nan, ...,      nan,      nan,      nan],\n",
      "       [     nan,      nan,      nan, ...,      nan,      nan,      nan],\n",
      "       [     nan,      nan,      nan, ...,      nan,      nan,      nan],\n",
      "       ...,\n",
      "       [     nan, 3.660432, 4.166228, ...,      nan,      nan,      nan],\n",
      "       [0.174246, 0.2     , 0.198559, ...,      nan,      nan,      nan],\n",
      "       [     nan,      nan,      nan, ..., 0.220175, 0.401852, 0.369324]],\n",
      "      dtype=float32)\n",
      "Coordinates:\n",
      "  * latitude   (latitude) float32 -87.5 -82.5 -77.5 -72.5 ... 77.5 82.5 87.5\n",
      "  * longitude  (longitude) float32 -177.5 -172.5 -167.5 ... 167.5 172.5 177.5\n",
      "    time       datetime64[ns] 2019-09-16\n",
      "Attributes:\n",
      "    long_name:         near_surface_temperature_anomaly\n",
      "    units:             K\n",
      "    reference_period:  [1961 1990]\n"
     ]
    }
   ],
   "source": [
    "x = hadcrut4.temperature_anomaly.sel(time=hadcrut4.time[-1])\n",
    "print(x)"
   ]
  },
  {
   "cell_type": "code",
   "execution_count": 55,
   "metadata": {},
   "outputs": [
    {
     "data": {
      "text/plain": [
       "[<matplotlib.lines.Line2D at 0x2d40e3ca860>]"
      ]
     },
     "execution_count": 55,
     "metadata": {},
     "output_type": "execute_result"
    },
    {
     "data": {
      "image/png": "[encoded data removed]",
      "text/plain": [
       "<Figure size 432x288 with 1 Axes>"
      ]
     },
     "metadata": {
      "needs_background": "light"
     },
     "output_type": "display_data"
    }
   ],
   "source": [
    "x.plot()"
   ]
  },
  {
   "cell_type": "markdown",
   "metadata": {},
   "source": [
    "### Global temperature anomaly"
   ]
  },
  {
   "cell_type": "code",
   "execution_count": 10,
   "metadata": {},
   "outputs": [
    {
     "name": "stdout",
     "output_type": "stream",
     "text": [
      "<class 'xarray.core.dataarray.DataArray'>\n"
     ]
    }
   ],
   "source": [
    "x = hadcrut4.temperature_anomaly.resample(time='1Y').mean()\n",
    "print(type(x))"
   ]
  },
  {
   "cell_type": "code",
   "execution_count": 11,
   "metadata": {},
   "outputs": [
    {
     "data": {
      "text/plain": [
       "[<matplotlib.lines.Line2D at 0x2d40dfe3d68>]"
      ]
     },
     "execution_count": 11,
     "metadata": {},
     "output_type": "execute_result"
    },
    {
     "data": {
      "image/png": "[encoded data removed]",
      "text/plain": [
       "<Figure size 432x288 with 1 Axes>"
      ]
     },
     "metadata": {
      "needs_background": "light"
     },
     "output_type": "display_data"
    }
   ],
   "source": [
    "x.plot()"
   ]
  },
  {
   "cell_type": "markdown",
   "metadata": {},
   "source": [
    "# Exercises\n",
    "\n",
    "## 1 - Get the date for the min and max anomalies"
   ]
  },
  {
   "cell_type": "code",
   "execution_count": 54,
   "metadata": {},
   "outputs": [
    {
     "name": "stdout",
     "output_type": "stream",
     "text": [
      "Date for min anomaly:\n",
      "\n",
      " 1917-12-16T12:00:00.000000000\n",
      "\n",
      "\n",
      "Date for max anomaly:\n",
      "\n",
      " 1896-12-16T12:00:00.000000000\n"
     ]
    }
   ],
   "source": [
    "max_index = np.unravel_index(hadcrut4.temperature_anomaly.argmax(),(2037,36,72))\n",
    "min_index = np.unravel_index(hadcrut4.temperature_anomaly.argmin(),(2037,36,72))\n",
    "\n",
    "\n",
    "print(\"Date for min anomaly:\\n\\n\",hadcrut4.time[min_index[0]].data)\n",
    "print(\"\\n\\nDate for max anomaly:\\n\\n\",hadcrut4.time[max_index[0]].data)"
   ]
  },
  {
   "cell_type": "markdown",
   "metadata": {},
   "source": [
    "**Solution**\n",
    "\n",
    "(numpy.datetime64('1862-12-31T00:00:00.000000000'),\n",
    " numpy.datetime64('2016-12-31T00:00:00.000000000'))"
   ]
  },
  {
   "cell_type": "markdown",
   "metadata": {},
   "source": [
    "## 2 - Plot anomalies for northen and southern poles (Hint: [where](http://xarray.pydata.org/en/stable/indexing.html#masking-with-where))"
   ]
  },
  {
   "cell_type": "code",
   "execution_count": 20,
   "metadata": {},
   "outputs": [
    {
     "name": "stdout",
     "output_type": "stream",
     "text": [
      "Anomly for northen pole\n"
     ]
    },
    {
     "data": {
      "text/plain": [
       "[<matplotlib.lines.Line2D at 0x2d40e290208>]"
      ]
     },
     "execution_count": 20,
     "metadata": {},
     "output_type": "execute_result"
    },
    {
     "data": {
      "image/png": "[encoded data removed]",
      "text/plain": [
       "<Figure size 432x288 with 1 Axes>"
      ]
     },
     "metadata": {
      "needs_background": "light"
     },
     "output_type": "display_data"
    }
   ],
   "source": [
    "N = hadcrut4.temperature_anomaly.where(hadcrut4.latitude > 0).resample(time=\"1Y\").mean()\n",
    "print(\"Anomly for northen pole\")\n",
    "N.plot()"
   ]
  },
  {
   "cell_type": "code",
   "execution_count": 19,
   "metadata": {},
   "outputs": [
    {
     "name": "stdout",
     "output_type": "stream",
     "text": [
      "Anomly for southern pole\n"
     ]
    },
    {
     "data": {
      "text/plain": [
       "[<matplotlib.lines.Line2D at 0x2d40e20f470>]"
      ]
     },
     "execution_count": 19,
     "metadata": {},
     "output_type": "execute_result"
    },
    {
     "data": {
      "image/png": "[encoded data removed]",
      "text/plain": [
       "<Figure size 432x288 with 1 Axes>"
      ]
     },
     "metadata": {
      "needs_background": "light"
     },
     "output_type": "display_data"
    }
   ],
   "source": [
    "S = hadcrut4.temperature_anomaly.where(hadcrut4.latitude < 0).resample(time=\"1Y\").mean()\n",
    "print(\"Anomly for southern pole\")\n",
    "S.plot()"
   ]
  },
  {
   "cell_type": "markdown",
   "metadata": {},
   "source": [
    "## 3 - Get temperature values used to calculate anomalies in 2018 (as a numpy array (.values))\n",
    "\n",
    "**Look at temperature units**"
   ]
  },
  {
   "cell_type": "code",
   "execution_count": 21,
   "metadata": {},
   "outputs": [
    {
     "name": "stdout",
     "output_type": "stream",
     "text": [
      "<xarray.Dataset>\n",
      "Dimensions:  (lat: 36, lon: 72, time: 12)\n",
      "Coordinates:\n",
      "  * lat      (lat) float32 87.5 82.5 77.5 72.5 67.5 ... -72.5 -77.5 -82.5 -87.5\n",
      "  * lon      (lon) float32 -177.5 -172.5 -167.5 -162.5 ... 167.5 172.5 177.5\n",
      "  * time     (time) int16 1 2 3 4 5 6 7 8 9 10 11 12\n",
      "Data variables:\n",
      "    tem      (time, lat, lon) float32 ...\n"
     ]
    }
   ],
   "source": [
    "absolute = xr.open_dataset('absolute.nc')\n",
    "print(absolute)"
   ]
  },
  {
   "cell_type": "code",
   "execution_count": 22,
   "metadata": {},
   "outputs": [
    {
     "name": "stdout",
     "output_type": "stream",
     "text": [
      "<xarray.DataArray 'tem' (time: 12, lat: 36, lon: 72)>\n",
      "array([[[-30.099998, -30.099998, ..., -30.699999, -30.5     ],\n",
      "        [-29.3     , -29.199999, ..., -29.5     , -29.3     ],\n",
      "        ...,\n",
      "        [ -4.7     ,  -4.4     , ...,  -6.4     ,  -5.6     ],\n",
      "        [-26.599998, -27.4     , ..., -27.4     , -27.5     ]],\n",
      "\n",
      "       [[-30.5     , -30.599998, ..., -31.      , -30.8     ],\n",
      "        [-29.4     , -29.4     , ..., -29.599998, -29.5     ],\n",
      "        ...,\n",
      "        [-11.099999, -10.599999, ..., -13.4     , -12.3     ],\n",
      "        [-38.3     , -39.2     , ..., -39.399998, -39.399998]],\n",
      "\n",
      "       ...,\n",
      "\n",
      "       [[-24.4     , -24.5     , ..., -24.6     , -24.699999],\n",
      "        [-22.3     , -22.199999, ..., -22.5     , -22.5     ],\n",
      "        ...,\n",
      "        [-12.      , -11.7     , ..., -14.099999, -13.099999],\n",
      "        [-36.899998, -37.7     , ..., -37.899998, -37.899998]],\n",
      "\n",
      "       [[-29.3     , -29.5     , ..., -29.3     , -29.4     ],\n",
      "        [-27.      , -27.099998, ..., -27.099998, -27.099998],\n",
      "        ...,\n",
      "        [ -5.2     ,  -4.9     , ...,  -6.9     ,  -6.1     ],\n",
      "        [-26.699999, -27.4     , ..., -27.5     , -27.599998]]], dtype=float32)\n",
      "Coordinates:\n",
      "  * lat      (lat) float32 87.5 82.5 77.5 72.5 67.5 ... -72.5 -77.5 -82.5 -87.5\n",
      "  * lon      (lon) float32 -177.5 -172.5 -167.5 -162.5 ... 167.5 172.5 177.5\n",
      "  * time     (time) int16 1 2 3 4 5 6 7 8 9 10 11 12\n",
      "Attributes:\n",
      "    long_name:  CRU_Global_1961-1990_Mean_Monthly_Surface_Temperature_Climato...\n",
      "    units:      celsius\n",
      "    valid_min:  -9000\n"
     ]
    }
   ],
   "source": [
    "print(absolute.tem)"
   ]
  },
  {
   "cell_type": "code",
   "execution_count": 52,
   "metadata": {
    "scrolled": true
   },
   "outputs": [],
   "source": [
    "# a2018 = t2018 - absolute\n",
    "a2018 = hadcrut4.temperature_anomaly.sel(time=slice('2018-01-01', '2018-12-31'))\n",
    "t2018 = a2018.data + absolute.tem.data + 273.15"
   ]
  },
  {
   "cell_type": "code",
   "execution_count": 51,
   "metadata": {
    "scrolled": false
   },
   "outputs": [
    {
     "name": "stdout",
     "output_type": "stream",
     "text": [
      "6214262.5 310.1098\n"
     ]
    }
   ],
   "source": [
    "print(t2018[~np.isnan(t2018)].sum(), t2018[~np.isnan(t2018)].max()) # 6214262.5, 310.1098"
   ]
  }
 ],
 "metadata": {
  "kernelspec": {
   "display_name": "Python 3",
   "language": "python",
   "name": "python3"
  },
  "language_info": {
   "codemirror_mode": {
    "name": "ipython",
    "version": 3
   },
   "file_extension": ".py",
   "mimetype": "text/x-python",
   "name": "python",
   "nbconvert_exporter": "python",
   "pygments_lexer": "ipython3",
   "version": "3.7.3"
  }
 },
 "nbformat": 4,
 "nbformat_minor": 2
}
