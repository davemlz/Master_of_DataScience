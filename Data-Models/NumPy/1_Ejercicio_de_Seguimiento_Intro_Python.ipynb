{
 "cells": [
  {
   "cell_type": "markdown",
   "metadata": {},
   "source": [
    "# Ejercicio de Seguimiento 1: Introducción a Python\n",
    "\n",
    "### David Montero Loaiza\n",
    "\n",
    "Desarrollo del primer ejercicio de seguimiento (Introducción a Python). El siguiente notebook está dividido en 4 secciones:\n",
    "\n",
    "1. Siguiendo los Ejemplos Básicos\n",
    "2. Pi\n",
    "3. Secuencia Fibonacci\n",
    "4. Quicksort\n",
    "\n",
    "Cada sección contiene información relacionada con el manejo de funcionalidades introductorias a Python. Se muestran descripciones, código ejecutable y ejemplos en cada caso."
   ]
  },
  {
   "cell_type": "markdown",
   "metadata": {},
   "source": [
    "## 1. Siguiendo los Ejemplos Básicos\n",
    "\n",
    "En esta sección se incluyen ejemplos de los tpos básicos de datos, flujos de control y funciones."
   ]
  },
  {
   "cell_type": "markdown",
   "metadata": {},
   "source": [
    "### 1.1. Tipos Básicos de Datos\n",
    "\n",
    "Los tipos básicos de datos incluyen los tipos numéricos y los contenedores."
   ]
  },
  {
   "cell_type": "markdown",
   "metadata": {},
   "source": [
    "#### 1.1.1. Tipos Numéricos\n",
    "\n",
    "Los tipos numéricos en python los constituyen los enteros, los flotantes, los complejos y los booleanos."
   ]
  },
  {
   "cell_type": "code",
   "execution_count": 8,
   "metadata": {},
   "outputs": [
    {
     "name": "stdout",
     "output_type": "stream",
     "text": [
      "c = 7\n",
      "c es de tipo: <class 'int'>\n",
      "f = 13.950000000000001\n",
      "f es de tipo: <class 'float'>\n",
      "i = (-2-0.5j)\n",
      "i es de tipo: <class 'complex'>\n",
      "j = True\n",
      "j es de tipo: <class 'bool'>\n"
     ]
    }
   ],
   "source": [
    "# Enteros\n",
    "a = 3\n",
    "b = 4\n",
    "c = a + b\n",
    "print(\"c =\",c)\n",
    "print(\"c es de tipo:\",type(c))\n",
    "\n",
    "# Flotantes\n",
    "d = 3.1\n",
    "e = 4.5\n",
    "f = d * e\n",
    "print(\"f =\",f)\n",
    "print(\"f es de tipo:\",type(f))\n",
    "\n",
    "# Complejos\n",
    "g = 1 + 3.5j\n",
    "h = 3 + 4j\n",
    "i = g - h\n",
    "print(\"i =\",i)\n",
    "print(\"i es de tipo:\",type(i))\n",
    "\n",
    "# Booleano\n",
    "j = 4 >= 3\n",
    "print(\"j =\",j)\n",
    "print(\"j es de tipo:\",type(j))"
   ]
  },
  {
   "cell_type": "markdown",
   "metadata": {},
   "source": [
    "#### 1.1.2. Contenedores\n",
    "\n",
    "Los contenedores en python los constituyen las listas, los strings, los diccionarios, las tuplas y los conjuntos."
   ]
  },
  {
   "cell_type": "code",
   "execution_count": 14,
   "metadata": {},
   "outputs": [
    {
     "name": "stdout",
     "output_type": "stream",
     "text": [
      "l = [1, 2, 3, 4, 5]\n",
      "l es de tipo: <class 'list'>\n",
      "s = qwerty\n",
      "s es de tipo: <class 'str'>\n",
      "d =  {'a': 1, 'b': 2, 'c': 3}\n",
      "d es de tipo: <class 'dict'>\n",
      "t = (1, 2, 3, 4, 5)\n",
      "t es de tipo: <class 'tuple'>\n",
      "c = {1, 2, 3, 4, 5}\n",
      "c es de tipo: <class 'set'>\n"
     ]
    }
   ],
   "source": [
    "# Listas\n",
    "l = [1,2,3,4,5]\n",
    "print(\"l =\",l)\n",
    "print(\"l es de tipo:\",type(l))\n",
    "\n",
    "# Strings\n",
    "s = \"qwerty\"\n",
    "print(\"s =\",s)\n",
    "print(\"s es de tipo:\",type(s))\n",
    "\n",
    "# Diccionarios\n",
    "d = {\"a\":1,\"b\":2,\"c\":3}\n",
    "print(\"d = \",d)\n",
    "print(\"d es de tipo:\",type(d))\n",
    "\n",
    "# Tuplas\n",
    "t = 1,2,3,4,5\n",
    "print(\"t =\",t)\n",
    "print(\"t es de tipo:\",type(t))\n",
    "\n",
    "# Conjuntos\n",
    "c = set((1,2,3,4,5))\n",
    "print(\"c =\",c)\n",
    "print(\"c es de tipo:\",type(c))"
   ]
  },
  {
   "cell_type": "markdown",
   "metadata": {},
   "source": [
    "### 1.2. Flujos de Control\n",
    "\n",
    "Los flujos de control los constituyen los controladores if/elif/else, for/range y while/break/continue."
   ]
  },
  {
   "cell_type": "code",
   "execution_count": 22,
   "metadata": {},
   "outputs": [
    {
     "name": "stdout",
     "output_type": "stream",
     "text": [
      "if/elif/else\n",
      "a es diferente a 1 o 5\n",
      "\n",
      "for/range\n",
      "0 e\n",
      "0 s\n",
      "0 t\n",
      "0 o\n",
      "1 e\n",
      "1 s\n",
      "1 t\n",
      "1 o\n",
      "2 e\n",
      "2 s\n",
      "2 t\n",
      "2 o\n",
      "\n",
      "while/break/continue\n",
      "0\n",
      "1\n"
     ]
    }
   ],
   "source": [
    "# if/elif/else\n",
    "print(\"if/elif/else\")\n",
    "a = 10\n",
    "if a == 1:\n",
    "    print(\"a =\",1)\n",
    "elif a == 5:\n",
    "    print(\"a =\",5)\n",
    "else:\n",
    "    print(\"a es diferente a 1 o 5\")\n",
    "    \n",
    "# for/range\n",
    "print(\"\")\n",
    "print(\"for/range\")\n",
    "for i in range(3):\n",
    "    for l in \"esto\":\n",
    "        print(i,l)\n",
    "        \n",
    "# while/break/continue\n",
    "print(\"\")\n",
    "print(\"while/break/continue\")\n",
    "i = 0\n",
    "while i < 5:\n",
    "    if i == 2:\n",
    "        break\n",
    "    else:\n",
    "        print(i)\n",
    "        i += 1"
   ]
  },
  {
   "cell_type": "markdown",
   "metadata": {},
   "source": [
    "### 1.3. Funciones\n",
    "\n",
    "Pueden definirse funciones en python, retornar resultados y definir parámetros obligatorios u opcionales pra su funcionamiento."
   ]
  },
  {
   "cell_type": "code",
   "execution_count": 27,
   "metadata": {},
   "outputs": [
    {
     "name": "stdout",
     "output_type": "stream",
     "text": [
      "<function funcion at 0x0000019F924CB510>\n",
      "funcion(1) = 4\n"
     ]
    }
   ],
   "source": [
    "def funcion(x,y = 1,z = 2):\n",
    "    return (x + y) * z\n",
    "\n",
    "print(funcion)\n",
    "print(\"funcion(1) =\",funcion(1))"
   ]
  },
  {
   "cell_type": "markdown",
   "metadata": {},
   "source": [
    "## 2. Pi\n",
    "\n",
    "Implementación del algoritmo de Wallis $\\pi=2\\prod_{i=1}^{\\infty}4i^{2}/(4i^{2}-1)$ para calcular el número pi.\n",
    "\n"
   ]
  },
  {
   "cell_type": "code",
   "execution_count": 27,
   "metadata": {},
   "outputs": [
    {
     "data": {
      "text/plain": [
       "3.141584799578707"
      ]
     },
     "execution_count": 27,
     "metadata": {},
     "output_type": "execute_result"
    }
   ],
   "source": [
    "def pi_wallis(n):\n",
    "    pi = 1\n",
    "    for i in range(1,n):        \n",
    "        f = 4*(i*i)/(4*(i*i) - 1)        \n",
    "        pi = pi*f        \n",
    "    return pi*2\n",
    "\n",
    "# Ejemplo\n",
    "pi_wallis(100000)"
   ]
  },
  {
   "cell_type": "markdown",
   "metadata": {},
   "source": [
    "## 3. Secuencia Fibonacci\n",
    "\n",
    "Implementación del algoritmo Fibonacci:\n",
    "\n",
    "$U_0=0, U_1=1, U_{n+2}=U_{n+1}+U_n$"
   ]
  },
  {
   "cell_type": "code",
   "execution_count": 29,
   "metadata": {},
   "outputs": [
    {
     "name": "stdout",
     "output_type": "stream",
     "text": [
      "[0, 1, 1, 2, 3, 5, 8, 13, 21, 34, 55, 89, 144, 233, 377, 610, 987, 1597, 2584, 4181]\n"
     ]
    }
   ],
   "source": [
    "def fibonacci(n = 20):\n",
    "    \n",
    "    \"\"\"\n",
    "    Función que calcula la secuencia fibonacci para los primeros n números y la retorna como una lista.\n",
    "    \n",
    "    Parametros\n",
    "    ----------\n",
    "    n : int\n",
    "        Número hasta el cual se calculara la secuencia de Fibonacci (default = 20).\n",
    "        \n",
    "    Retorna\n",
    "    -------\n",
    "    list\n",
    "        Secuencia de Fibonacci hasta n.\n",
    "    \n",
    "    \"\"\"    \n",
    "    \n",
    "    fib = []    \n",
    "    \n",
    "    a = 0\n",
    "    b = 1\n",
    "    i = 1\n",
    "    \n",
    "    while i <= n:\n",
    "        \n",
    "        fib.append(a)\n",
    "        \n",
    "        c = a + b\n",
    "        a = b\n",
    "        b = c\n",
    "        i += 1\n",
    "    \n",
    "    return fib\n",
    "\n",
    "# fibonacci?\n",
    "\n",
    "# Ejemplo\n",
    "print(fibonacci(20))"
   ]
  },
  {
   "cell_type": "markdown",
   "metadata": {},
   "source": [
    "## 4. Quicksort\n",
    "\n",
    "Implementación del algoritmo de ordenamiento Quicksort, utilizando el esquema de partición de [Lomuto](https://en.wikipedia.org/wiki/Quicksort#Lomuto_partition_scheme)."
   ]
  },
  {
   "cell_type": "code",
   "execution_count": 30,
   "metadata": {},
   "outputs": [
    {
     "data": {
      "text/plain": [
       "[0, 1, 2, 3, 4.5, 5, 6, 7.3, 8, 9.7]"
      ]
     },
     "execution_count": 30,
     "metadata": {},
     "output_type": "execute_result"
    }
   ],
   "source": [
    "def partition(lst,l,h):\n",
    "    \n",
    "    \"\"\"\n",
    "    Algoritmo de Lomuto que ordena los elementos de una partición de una lista.\n",
    "        \n",
    "    Parametros\n",
    "    ----------\n",
    "    lst : list\n",
    "        Lista de enteros o flotantes a ordenar.\n",
    "    \n",
    "    l : int\n",
    "        Índice de inicio.\n",
    "    \n",
    "    h : int\n",
    "        Índice de final.\n",
    "    \n",
    "    See Also\n",
    "    --------\n",
    "    do_quicksort : Función que aplica el algoritmo quicksort sobre la lista.\n",
    "    quicksort : Función que pasa los argumentos necesarios a do_quicksort para ordenar toda una lista.\n",
    "        \n",
    "    \"\"\"\n",
    "    \n",
    "    i = l\n",
    "    pivot = lst[h]  \n",
    "    for j in range(l,h):        \n",
    "        if lst[j] <= pivot:            \n",
    "            lst[i],lst[j] = lst[j],lst[i]\n",
    "            i += 1  \n",
    "    lst[i],lst[h] = lst[h],lst[i]\n",
    "    \n",
    "    return i\n",
    "\n",
    "def do_quicksort(lst,l,h):\n",
    "    \n",
    "    \"\"\"\n",
    "    Función que ordena los elementos de una lista de números utilizando el algoritmo quicksort según los índices de inicio y de final.\n",
    "    \n",
    "    El esquema de partición usado es Lomuto.\n",
    "    \n",
    "    Parametros\n",
    "    ----------\n",
    "    lst : list\n",
    "        Lista de enteros o flotantes a ordenar.\n",
    "    \n",
    "    l : int\n",
    "        Índice de inicio.\n",
    "    \n",
    "    h : int\n",
    "        Índice de final.\n",
    "    \n",
    "    See Also\n",
    "    --------\n",
    "    partition : Función que aplica el algoritmo de partición de Lomuto.\n",
    "    quicksort : Función que pasa los argumentos necesarios a do_quicksort para ordenar toda una lista.\n",
    "    \n",
    "    \"\"\"\n",
    "    \n",
    "    if l < h:        \n",
    "        p = partition(lst,l,h)        \n",
    "        do_quicksort(lst, l, p-1) \n",
    "        do_quicksort(lst, p+1, h)\n",
    "\n",
    "def quicksort(lst):\n",
    "     \n",
    "    \"\"\"\n",
    "    Función que ordena los elementos de una lista de números utilizando el algoritmo quicksort.\n",
    "    \n",
    "    El esquema de partición usado es Lomuto.\n",
    "    \n",
    "    Pasa los argumentos necesarios a la función do_quicksort para ordenar toda la lista.\n",
    "    \n",
    "    Parametros\n",
    "    ----------\n",
    "    lst : list\n",
    "        Lista de enteros o flotantes a ordenar.\n",
    "    \n",
    "    See Also\n",
    "    --------\n",
    "    do_quicksort : Función que aplica el algoritmo quicksort sobre la lista.\n",
    "    partition : Función que aplica el algoritmo de partición de Lomuto.\n",
    "    \n",
    "    \"\"\"\n",
    "    \n",
    "    n = len(lst)\n",
    "    do_quicksort(lst,0,n - 1)\n",
    "\n",
    "# quicksort?\n",
    "# do_quicksort?\n",
    "# partition?\n",
    "\n",
    "# Ejemplo\n",
    "l = [4.5,6,2,7.3,1,3,9.7,5,8,0]\n",
    "quicksort(l)\n",
    "l"
   ]
  }
 ],
 "metadata": {
  "kernelspec": {
   "display_name": "Python 3",
   "language": "python",
   "name": "python3"
  },
  "language_info": {
   "codemirror_mode": {
    "name": "ipython",
    "version": 3
   },
   "file_extension": ".py",
   "mimetype": "text/x-python",
   "name": "python",
   "nbconvert_exporter": "python",
   "pygments_lexer": "ipython3",
   "version": "3.7.3"
  }
 },
 "nbformat": 4,
 "nbformat_minor": 2
}
