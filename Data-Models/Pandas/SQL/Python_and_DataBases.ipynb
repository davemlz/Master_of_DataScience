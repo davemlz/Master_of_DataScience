{
 "cells": [
  {
   "cell_type": "code",
   "execution_count": 3,
   "metadata": {
    "colab": {
     "base_uri": "https://localhost:8080/",
     "height": 34
    },
    "colab_type": "code",
    "id": "Gi5NWJ0ltZfq",
    "outputId": "6c8e1935-d498-4e04-dfc5-564633e445ce"
   },
   "outputs": [
    {
     "name": "stdout",
     "output_type": "stream",
     "text": [
      "Requirement already satisfied: sqlalchemy in /usr/local/lib/python3.6/dist-packages (1.3.11)\n"
     ]
    }
   ],
   "source": [
    "!pip install sqlalchemy"
   ]
  },
  {
   "cell_type": "code",
   "execution_count": null,
   "metadata": {
    "colab": {},
    "colab_type": "code",
    "id": "q8NMU_jatop6"
   },
   "outputs": [],
   "source": [
    "import numpy as np\n",
    "import pandas as pd "
   ]
  },
  {
   "cell_type": "code",
   "execution_count": null,
   "metadata": {
    "colab": {},
    "colab_type": "code",
    "id": "VTTXoBIIvvJY"
   },
   "outputs": [],
   "source": [
    "from sqlalchemy import create_engine"
   ]
  },
  {
   "cell_type": "code",
   "execution_count": null,
   "metadata": {
    "colab": {},
    "colab_type": "code",
    "id": "XgGD5BxmvzU3"
   },
   "outputs": [],
   "source": [
    "engine = create_engine('sqlite:///test.db',echo = True)"
   ]
  },
  {
   "cell_type": "code",
   "execution_count": null,
   "metadata": {
    "colab": {},
    "colab_type": "code",
    "id": "9o1_GdGZwkfM"
   },
   "outputs": [],
   "source": [
    "from sqlalchemy import Table, Column, Integer, String, MetaData, ForeignKey\n",
    "\n",
    "metadata = MetaData()\n",
    "\n",
    "users = Table('users', metadata,\n",
    "    Column('id', Integer, primary_key=True),\n",
    "    Column('name', String),\n",
    "    Column('fullname', String),\n",
    ")\n",
    "\n",
    "addresses = Table('addresses', metadata,\n",
    "  Column('id', Integer, primary_key=True),\n",
    "  Column('user_id', None, ForeignKey('users.id')),\n",
    "  Column('email_address', String, nullable=False)\n",
    " )"
   ]
  },
  {
   "cell_type": "code",
   "execution_count": 8,
   "metadata": {
    "colab": {
     "base_uri": "https://localhost:8080/",
     "height": 638
    },
    "colab_type": "code",
    "id": "yboDmfQWxTg8",
    "outputId": "4b986bc9-3bd1-480b-cb66-0a745fbcc177"
   },
   "outputs": [
    {
     "name": "stdout",
     "output_type": "stream",
     "text": [
      "2019-12-19 15:27:39,625 INFO sqlalchemy.engine.base.Engine SELECT CAST('test plain returns' AS VARCHAR(60)) AS anon_1\n",
      "2019-12-19 15:27:39,627 INFO sqlalchemy.engine.base.Engine ()\n",
      "2019-12-19 15:27:39,632 INFO sqlalchemy.engine.base.Engine SELECT CAST('test unicode returns' AS VARCHAR(60)) AS anon_1\n",
      "2019-12-19 15:27:39,634 INFO sqlalchemy.engine.base.Engine ()\n",
      "2019-12-19 15:27:39,639 INFO sqlalchemy.engine.base.Engine PRAGMA main.table_info(\"users\")\n",
      "2019-12-19 15:27:39,640 INFO sqlalchemy.engine.base.Engine ()\n",
      "2019-12-19 15:27:39,644 INFO sqlalchemy.engine.base.Engine PRAGMA temp.table_info(\"users\")\n",
      "2019-12-19 15:27:39,645 INFO sqlalchemy.engine.base.Engine ()\n",
      "2019-12-19 15:27:39,647 INFO sqlalchemy.engine.base.Engine PRAGMA main.table_info(\"addresses\")\n",
      "2019-12-19 15:27:39,648 INFO sqlalchemy.engine.base.Engine ()\n",
      "2019-12-19 15:27:39,649 INFO sqlalchemy.engine.base.Engine PRAGMA temp.table_info(\"addresses\")\n",
      "2019-12-19 15:27:39,651 INFO sqlalchemy.engine.base.Engine ()\n",
      "2019-12-19 15:27:39,653 INFO sqlalchemy.engine.base.Engine \n",
      "CREATE TABLE users (\n",
      "\tid INTEGER NOT NULL, \n",
      "\tname VARCHAR, \n",
      "\tfullname VARCHAR, \n",
      "\tPRIMARY KEY (id)\n",
      ")\n",
      "\n",
      "\n",
      "2019-12-19 15:27:39,655 INFO sqlalchemy.engine.base.Engine ()\n",
      "2019-12-19 15:27:39,670 INFO sqlalchemy.engine.base.Engine COMMIT\n",
      "2019-12-19 15:27:39,674 INFO sqlalchemy.engine.base.Engine \n",
      "CREATE TABLE addresses (\n",
      "\tid INTEGER NOT NULL, \n",
      "\tuser_id INTEGER, \n",
      "\temail_address VARCHAR NOT NULL, \n",
      "\tPRIMARY KEY (id), \n",
      "\tFOREIGN KEY(user_id) REFERENCES users (id)\n",
      ")\n",
      "\n",
      "\n",
      "2019-12-19 15:27:39,677 INFO sqlalchemy.engine.base.Engine ()\n",
      "2019-12-19 15:27:39,692 INFO sqlalchemy.engine.base.Engine COMMIT\n"
     ]
    }
   ],
   "source": [
    "metadata.create_all(engine)"
   ]
  },
  {
   "cell_type": "code",
   "execution_count": null,
   "metadata": {
    "colab": {},
    "colab_type": "code",
    "id": "MUJHMk08x5I5"
   },
   "outputs": [],
   "source": [
    "ins = users.insert()"
   ]
  },
  {
   "cell_type": "code",
   "execution_count": null,
   "metadata": {
    "colab": {},
    "colab_type": "code",
    "id": "JNELaLVdx7ty"
   },
   "outputs": [],
   "source": [
    "ins = users.insert().values(name='jack', fullname='Jack Jones')"
   ]
  },
  {
   "cell_type": "code",
   "execution_count": 12,
   "metadata": {
    "colab": {
     "base_uri": "https://localhost:8080/",
     "height": 34
    },
    "colab_type": "code",
    "id": "BGWrFjtNymoX",
    "outputId": "1528afeb-3678-4f66-bb79-e2711f2590a1"
   },
   "outputs": [
    {
     "data": {
      "text/plain": [
       "{'fullname': 'Jack Jones', 'name': 'jack'}"
      ]
     },
     "execution_count": 12,
     "metadata": {
      "tags": []
     },
     "output_type": "execute_result"
    }
   ],
   "source": [
    "ins.compile().params"
   ]
  },
  {
   "cell_type": "code",
   "execution_count": null,
   "metadata": {
    "colab": {},
    "colab_type": "code",
    "id": "8Y7Kmu47yrQs"
   },
   "outputs": [],
   "source": [
    "conn = engine.connect()"
   ]
  },
  {
   "cell_type": "code",
   "execution_count": 14,
   "metadata": {
    "colab": {
     "base_uri": "https://localhost:8080/",
     "height": 87
    },
    "colab_type": "code",
    "id": "T340x-Vlyu9F",
    "outputId": "cb5139e2-8c61-4689-e919-96042b3fb40c"
   },
   "outputs": [
    {
     "name": "stdout",
     "output_type": "stream",
     "text": [
      "2019-12-19 15:33:48,402 INFO sqlalchemy.engine.base.Engine INSERT INTO users (name, fullname) VALUES (?, ?)\n",
      "2019-12-19 15:33:48,405 INFO sqlalchemy.engine.base.Engine ('jack', 'Jack Jones')\n",
      "2019-12-19 15:33:48,408 INFO sqlalchemy.engine.base.Engine COMMIT\n"
     ]
    },
    {
     "data": {
      "text/plain": [
       "<sqlalchemy.engine.result.ResultProxy at 0x7f3d9bc68d68>"
      ]
     },
     "execution_count": 14,
     "metadata": {
      "tags": []
     },
     "output_type": "execute_result"
    }
   ],
   "source": [
    "result = conn.execute(ins)\n",
    "result"
   ]
  },
  {
   "cell_type": "code",
   "execution_count": 15,
   "metadata": {
    "colab": {
     "base_uri": "https://localhost:8080/",
     "height": 34
    },
    "colab_type": "code",
    "id": "MqQ_dXWHy566",
    "outputId": "7523062a-b7ac-48d1-e65e-ece0372548a6"
   },
   "outputs": [
    {
     "data": {
      "text/plain": [
       "'INSERT INTO users (name, fullname) VALUES (?, ?)'"
      ]
     },
     "execution_count": 15,
     "metadata": {
      "tags": []
     },
     "output_type": "execute_result"
    }
   ],
   "source": [
    "ins.bind = engine\n",
    "str(ins)"
   ]
  },
  {
   "cell_type": "code",
   "execution_count": 16,
   "metadata": {
    "colab": {
     "base_uri": "https://localhost:8080/",
     "height": 34
    },
    "colab_type": "code",
    "id": "igcf_Z8VzA4p",
    "outputId": "b29e24ba-04e8-47ad-ce5d-2780e3b26ebf"
   },
   "outputs": [
    {
     "data": {
      "text/plain": [
       "[1]"
      ]
     },
     "execution_count": 16,
     "metadata": {
      "tags": []
     },
     "output_type": "execute_result"
    }
   ],
   "source": [
    "result.inserted_primary_key"
   ]
  },
  {
   "cell_type": "code",
   "execution_count": 18,
   "metadata": {
    "colab": {
     "base_uri": "https://localhost:8080/",
     "height": 87
    },
    "colab_type": "code",
    "id": "VWejRGcKzHCV",
    "outputId": "35a969dd-4c9d-428f-82f3-42825265264b"
   },
   "outputs": [
    {
     "name": "stdout",
     "output_type": "stream",
     "text": [
      "2019-12-19 15:36:34,824 INFO sqlalchemy.engine.base.Engine INSERT INTO users (id, name, fullname) VALUES (?, ?, ?)\n",
      "2019-12-19 15:36:34,826 INFO sqlalchemy.engine.base.Engine (2, 'wendy', 'Wendy Williams')\n",
      "2019-12-19 15:36:34,829 INFO sqlalchemy.engine.base.Engine COMMIT\n"
     ]
    },
    {
     "data": {
      "text/plain": [
       "<sqlalchemy.engine.result.ResultProxy at 0x7f3d9bc23dd8>"
      ]
     },
     "execution_count": 18,
     "metadata": {
      "tags": []
     },
     "output_type": "execute_result"
    }
   ],
   "source": [
    "ins = users.insert()\n",
    "conn.execute(ins, id=2, name='wendy', fullname='Wendy Williams')"
   ]
  },
  {
   "cell_type": "code",
   "execution_count": 19,
   "metadata": {
    "colab": {
     "base_uri": "https://localhost:8080/",
     "height": 87
    },
    "colab_type": "code",
    "id": "E6JQQhhTzeLr",
    "outputId": "f284e7b0-e16c-434c-b5ce-ce34d195cb2d"
   },
   "outputs": [
    {
     "name": "stdout",
     "output_type": "stream",
     "text": [
      "2019-12-19 15:36:59,019 INFO sqlalchemy.engine.base.Engine INSERT INTO addresses (user_id, email_address) VALUES (?, ?)\n",
      "2019-12-19 15:36:59,020 INFO sqlalchemy.engine.base.Engine ((1, 'jack@yahoo.com'), (1, 'jack@msn.com'), (2, 'www@www.org'), (2, 'wendy@aol.com'))\n",
      "2019-12-19 15:36:59,023 INFO sqlalchemy.engine.base.Engine COMMIT\n"
     ]
    },
    {
     "data": {
      "text/plain": [
       "<sqlalchemy.engine.result.ResultProxy at 0x7f3d9be398d0>"
      ]
     },
     "execution_count": 19,
     "metadata": {
      "tags": []
     },
     "output_type": "execute_result"
    }
   ],
   "source": [
    "conn.execute(addresses.insert(), [\n",
    "   {'user_id': 1, 'email_address' : 'jack@yahoo.com'},\n",
    "   {'user_id': 1, 'email_address' : 'jack@msn.com'},\n",
    "   {'user_id': 2, 'email_address' : 'www@www.org'},\n",
    "   {'user_id': 2, 'email_address' : 'wendy@aol.com'},\n",
    "])"
   ]
  },
  {
   "cell_type": "code",
   "execution_count": 21,
   "metadata": {
    "colab": {
     "base_uri": "https://localhost:8080/",
     "height": 87
    },
    "colab_type": "code",
    "id": "mfntkC7AzibU",
    "outputId": "8dbc46d6-576b-4b8c-8053-fc0b011be9c5"
   },
   "outputs": [
    {
     "name": "stdout",
     "output_type": "stream",
     "text": [
      "2019-12-19 15:38:00,736 INFO sqlalchemy.engine.base.Engine SELECT users.id, users.name, users.fullname \n",
      "FROM users\n",
      "2019-12-19 15:38:00,738 INFO sqlalchemy.engine.base.Engine ()\n",
      "<sqlalchemy.engine.result.ResultProxy object at 0x7f3d9bd51eb8>\n"
     ]
    }
   ],
   "source": [
    "from sqlalchemy.sql import select\n",
    "s = select([users])\n",
    "result = conn.execute(s)"
   ]
  },
  {
   "cell_type": "code",
   "execution_count": 22,
   "metadata": {
    "colab": {
     "base_uri": "https://localhost:8080/",
     "height": 52
    },
    "colab_type": "code",
    "id": "BLcx1uH7z0yd",
    "outputId": "c27429ac-68bc-48dc-ff54-ad334e4b50ca"
   },
   "outputs": [
    {
     "name": "stdout",
     "output_type": "stream",
     "text": [
      "(1, 'jack', 'Jack Jones')\n",
      "(2, 'wendy', 'Wendy Williams')\n"
     ]
    }
   ],
   "source": [
    "for row in result:\n",
    "    print(row)"
   ]
  },
  {
   "cell_type": "code",
   "execution_count": 23,
   "metadata": {
    "colab": {
     "base_uri": "https://localhost:8080/",
     "height": 87
    },
    "colab_type": "code",
    "id": "1UeuJeCW0Zlv",
    "outputId": "e1c8662d-eb92-491a-9e0e-5ba62858dcbc"
   },
   "outputs": [
    {
     "name": "stdout",
     "output_type": "stream",
     "text": [
      "2019-12-19 15:40:58,801 INFO sqlalchemy.engine.base.Engine SELECT users.id, users.name, users.fullname \n",
      "FROM users\n",
      "2019-12-19 15:40:58,803 INFO sqlalchemy.engine.base.Engine ()\n",
      "name: jack ; fullname: Jack Jones\n"
     ]
    }
   ],
   "source": [
    "result = conn.execute(s)\n",
    "row = result.fetchone()\n",
    "print(\"name:\", row['name'], \"; fullname:\", row['fullname'])"
   ]
  },
  {
   "cell_type": "code",
   "execution_count": 24,
   "metadata": {
    "colab": {
     "base_uri": "https://localhost:8080/",
     "height": 34
    },
    "colab_type": "code",
    "id": "LIKV6aFg1A4p",
    "outputId": "7fce4a0c-0510-40e8-f6a6-fc82d4c18869"
   },
   "outputs": [
    {
     "name": "stdout",
     "output_type": "stream",
     "text": [
      "name: wendy ; fullname: Wendy Williams\n"
     ]
    }
   ],
   "source": [
    "row = result.fetchone()\n",
    "print(\"name:\", row[1], \"; fullname:\", row[2])"
   ]
  },
  {
   "cell_type": "code",
   "execution_count": 25,
   "metadata": {
    "colab": {
     "base_uri": "https://localhost:8080/",
     "height": 105
    },
    "colab_type": "code",
    "id": "oJkJmbdX1KY1",
    "outputId": "ea6b4781-9116-4e65-8f23-5e823537dc32"
   },
   "outputs": [
    {
     "name": "stdout",
     "output_type": "stream",
     "text": [
      "2019-12-19 15:44:26,322 INFO sqlalchemy.engine.base.Engine SELECT users.id, users.name, users.fullname \n",
      "FROM users\n",
      "2019-12-19 15:44:26,324 INFO sqlalchemy.engine.base.Engine ()\n",
      "name: jack ; fullname: Jack Jones\n",
      "name: wendy ; fullname: Wendy Williams\n"
     ]
    }
   ],
   "source": [
    "for row in conn.execute(s):\n",
    "    print(\"name:\", row[users.c.name], \"; fullname:\", row[users.c.fullname])"
   ]
  },
  {
   "cell_type": "code",
   "execution_count": null,
   "metadata": {
    "colab": {},
    "colab_type": "code",
    "id": "GVWw1Gy01RCv"
   },
   "outputs": [],
   "source": [
    "result.close()"
   ]
  },
  {
   "cell_type": "code",
   "execution_count": 27,
   "metadata": {
    "colab": {
     "base_uri": "https://localhost:8080/",
     "height": 105
    },
    "colab_type": "code",
    "id": "3mKJGET01XzT",
    "outputId": "63c4f994-f73d-4b4e-e21a-4f84011dec79"
   },
   "outputs": [
    {
     "name": "stdout",
     "output_type": "stream",
     "text": [
      "2019-12-19 15:45:25,488 INFO sqlalchemy.engine.base.Engine SELECT users.name, users.fullname \n",
      "FROM users\n",
      "2019-12-19 15:45:25,492 INFO sqlalchemy.engine.base.Engine ()\n",
      "('jack', 'Jack Jones')\n",
      "('wendy', 'Wendy Williams')\n"
     ]
    }
   ],
   "source": [
    "s = select([users.c.name, users.c.fullname])\n",
    "result = conn.execute(s)\n",
    "for row in result:\n",
    "    print(row)"
   ]
  },
  {
   "cell_type": "code",
   "execution_count": 28,
   "metadata": {
    "colab": {
     "base_uri": "https://localhost:8080/",
     "height": 158
    },
    "colab_type": "code",
    "id": "dN8g2Hra1mpr",
    "outputId": "884b01c9-19de-465d-c48b-2e1ece48022a"
   },
   "outputs": [
    {
     "name": "stdout",
     "output_type": "stream",
     "text": [
      "2019-12-19 15:46:19,286 INFO sqlalchemy.engine.base.Engine SELECT users.id, users.name, users.fullname, addresses.id, addresses.user_id, addresses.email_address \n",
      "FROM users, addresses \n",
      "WHERE users.id = addresses.user_id\n",
      "2019-12-19 15:46:19,287 INFO sqlalchemy.engine.base.Engine ()\n",
      "(1, 'jack', 'Jack Jones', 1, 1, 'jack@yahoo.com')\n",
      "(1, 'jack', 'Jack Jones', 2, 1, 'jack@msn.com')\n",
      "(2, 'wendy', 'Wendy Williams', 3, 2, 'www@www.org')\n",
      "(2, 'wendy', 'Wendy Williams', 4, 2, 'wendy@aol.com')\n"
     ]
    }
   ],
   "source": [
    "s = select([users, addresses]).where(users.c.id == addresses.c.user_id)\n",
    "for row in conn.execute(s):\n",
    "    print(row)"
   ]
  }
 ],
 "metadata": {
  "colab": {
   "name": "Python_and_DataBases.ipynb",
   "provenance": []
  },
  "kernelspec": {
   "display_name": "Python 3",
   "language": "python",
   "name": "python3"
  },
  "language_info": {
   "codemirror_mode": {
    "name": "ipython",
    "version": 3
   },
   "file_extension": ".py",
   "mimetype": "text/x-python",
   "name": "python",
   "nbconvert_exporter": "python",
   "pygments_lexer": "ipython3",
   "version": "3.7.3"
  }
 },
 "nbformat": 4,
 "nbformat_minor": 4
}
