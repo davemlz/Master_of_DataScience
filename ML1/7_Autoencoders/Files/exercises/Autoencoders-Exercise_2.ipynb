{
  "nbformat": 4,
  "nbformat_minor": 0,
  "metadata": {
    "colab": {
      "name": "Autoencoders - Exercise 2.ipynb",
      "provenance": [],
      "collapsed_sections": []
    },
    "kernelspec": {
      "display_name": "Python 3",
      "language": "python",
      "name": "python3"
    },
    "language_info": {
      "codemirror_mode": {
        "name": "ipython",
        "version": 3
      },
      "file_extension": ".py",
      "mimetype": "text/x-python",
      "name": "python",
      "nbconvert_exporter": "python",
      "pygments_lexer": "ipython3",
      "version": "3.6.8"
    }
  },
  "cells": [
    {
      "cell_type": "markdown",
      "metadata": {
        "colab_type": "text",
        "id": "azMfSoQMxCPS"
      },
      "source": [
        "# Exercise 2: Image denoising\n",
        "\n",
        "**Degree** Master Inter-Universitario de Data Science \n",
        "\n",
        "**Course** Machine Learning I\n",
        "\n",
        "**Lecturer** Ignacio Heredia\n",
        "\n",
        "---\n",
        "\n",
        "**Objective**\n",
        "\n",
        "Use the previous deep autoencoder to create an image denoising application.\n",
        "\n",
        "**Duration**\n",
        "\n",
        "30 min\n"
      ]
    },
    {
      "cell_type": "markdown",
      "metadata": {
        "colab_type": "text",
        "id": "NzVyRqnxwuqi"
      },
      "source": [
        "**Load dataset**"
      ]
    },
    {
      "cell_type": "code",
      "metadata": {
        "colab_type": "code",
        "id": "ZAPaGiiVws3b",
        "outputId": "896035a6-996a-422a-a086-6408e907e25b",
        "colab": {
          "base_uri": "https://localhost:8080/",
          "height": 152
        }
      },
      "source": [
        "from keras.datasets import mnist\n",
        "import numpy as np\n",
        "\n",
        "\n",
        "(x_train, y_train), (x_test, y_test) = mnist.load_data()\n",
        "\n",
        "x_train = x_train.astype('float32') / 255.\n",
        "x_test = x_test.astype('float32') / 255.\n",
        "x_train = x_train.reshape((len(x_train), np.prod(x_train.shape[1:])))\n",
        "x_test = x_test.reshape((len(x_test), np.prod(x_test.shape[1:])))\n",
        "print(x_train.shape)\n",
        "print(x_test.shape)\n",
        "\n",
        "# Create noisy version of the data\n",
        "\n",
        "noise_factor = 0.5\n",
        "x_train_noisy = x_train + noise_factor * np.random.normal(loc=0.0, scale=1.0, size=x_train.shape) \n",
        "x_test_noisy = x_test + noise_factor * np.random.normal(loc=0.0, scale=1.0, size=x_test.shape) \n",
        "\n",
        "x_train_noisy = np.clip(x_train_noisy, 0., 1.)\n",
        "x_test_noisy = np.clip(x_test_noisy, 0., 1.)"
      ],
      "execution_count": 1,
      "outputs": [
        {
          "output_type": "stream",
          "text": [
            "Using TensorFlow backend.\n"
          ],
          "name": "stderr"
        },
        {
          "output_type": "display_data",
          "data": {
            "text/html": [
              "<p style=\"color: red;\">\n",
              "The default version of TensorFlow in Colab will soon switch to TensorFlow 2.x.<br>\n",
              "We recommend you <a href=\"https://www.tensorflow.org/guide/migrate\" target=\"_blank\">upgrade</a> now \n",
              "or ensure your notebook will continue to use TensorFlow 1.x via the <code>%tensorflow_version 1.x</code> magic:\n",
              "<a href=\"https://colab.research.google.com/notebooks/tensorflow_version.ipynb\" target=\"_blank\">more info</a>.</p>\n"
            ],
            "text/plain": [
              "<IPython.core.display.HTML object>"
            ]
          },
          "metadata": {
            "tags": []
          }
        },
        {
          "output_type": "stream",
          "text": [
            "Downloading data from https://s3.amazonaws.com/img-datasets/mnist.npz\n",
            "11493376/11490434 [==============================] - 2s 0us/step\n",
            "(60000, 784)\n",
            "(10000, 784)\n"
          ],
          "name": "stdout"
        }
      ]
    },
    {
      "cell_type": "markdown",
      "metadata": {
        "colab_type": "text",
        "id": "7Vsxzg1aw8I6"
      },
      "source": [
        "**Create the model**"
      ]
    },
    {
      "cell_type": "code",
      "metadata": {
        "colab_type": "code",
        "id": "g7GlEiuUu96J",
        "colab": {}
      },
      "source": [
        "from keras.layers import Input, Dense\n",
        "from keras.models import Model\n",
        "\n",
        "# this is the size of our encoded representations\n",
        "encoding_dim = 32  # 32 floats -> compression of factor 24.5, assuming the input is 784 floats\n",
        "\n",
        "# this is our input placeholder\n",
        "input_img = Input(shape=(784,))\n",
        "# \"encoded\" is the encoded representation of the input\n",
        "encoded = Dense(encoding_dim, activation='relu')(input_img)\n",
        "# \"decoded\" is the lossy reconstruction of the input\n",
        "decoded = Dense(784, activation='sigmoid')(encoded)\n",
        "\n",
        "autoencoder = Model(input_img, decoded)\n",
        "encoder = Model(input_img, encoded)"
      ],
      "execution_count": 0,
      "outputs": []
    },
    {
      "cell_type": "markdown",
      "metadata": {
        "colab_type": "text",
        "id": "U5K7nEoA1OMc"
      },
      "source": [
        "**Train the model**"
      ]
    },
    {
      "cell_type": "code",
      "metadata": {
        "colab_type": "code",
        "id": "waxCJmMfz6ez",
        "outputId": "28d7ec1c-370c-4919-9202-b5af30b28e49",
        "colab": {
          "base_uri": "https://localhost:8080/",
          "height": 1000
        }
      },
      "source": [
        "autoencoder.compile(optimizer='adam', loss='binary_crossentropy')\n",
        "\n",
        "autoencoder.fit(x_train_noisy, x_train,\n",
        "                epochs=50,\n",
        "                batch_size=256,\n",
        "                shuffle=True,\n",
        "                validation_data=(x_test_noisy, x_test))"
      ],
      "execution_count": 11,
      "outputs": [
        {
          "output_type": "stream",
          "text": [
            "Train on 60000 samples, validate on 10000 samples\n",
            "Epoch 1/50\n",
            "60000/60000 [==============================] - 4s 61us/step - loss: 0.2844 - val_loss: 0.2221\n",
            "Epoch 2/50\n",
            "60000/60000 [==============================] - 4s 58us/step - loss: 0.1996 - val_loss: 0.1822\n",
            "Epoch 3/50\n",
            "60000/60000 [==============================] - 4s 59us/step - loss: 0.1722 - val_loss: 0.1608\n",
            "Epoch 4/50\n",
            "60000/60000 [==============================] - 3s 57us/step - loss: 0.1556 - val_loss: 0.1487\n",
            "Epoch 5/50\n",
            "60000/60000 [==============================] - 3s 58us/step - loss: 0.1464 - val_loss: 0.1417\n",
            "Epoch 6/50\n",
            "60000/60000 [==============================] - 3s 57us/step - loss: 0.1405 - val_loss: 0.1367\n",
            "Epoch 7/50\n",
            "60000/60000 [==============================] - 3s 57us/step - loss: 0.1362 - val_loss: 0.1332\n",
            "Epoch 8/50\n",
            "60000/60000 [==============================] - 3s 58us/step - loss: 0.1330 - val_loss: 0.1307\n",
            "Epoch 9/50\n",
            "60000/60000 [==============================] - 3s 58us/step - loss: 0.1308 - val_loss: 0.1288\n",
            "Epoch 10/50\n",
            "60000/60000 [==============================] - 3s 58us/step - loss: 0.1292 - val_loss: 0.1277\n",
            "Epoch 11/50\n",
            "60000/60000 [==============================] - 3s 58us/step - loss: 0.1282 - val_loss: 0.1268\n",
            "Epoch 12/50\n",
            "60000/60000 [==============================] - 3s 58us/step - loss: 0.1276 - val_loss: 0.1265\n",
            "Epoch 13/50\n",
            "60000/60000 [==============================] - 3s 58us/step - loss: 0.1272 - val_loss: 0.1261\n",
            "Epoch 14/50\n",
            "60000/60000 [==============================] - 3s 58us/step - loss: 0.1269 - val_loss: 0.1258\n",
            "Epoch 15/50\n",
            "60000/60000 [==============================] - 3s 58us/step - loss: 0.1266 - val_loss: 0.1257\n",
            "Epoch 16/50\n",
            "60000/60000 [==============================] - 3s 57us/step - loss: 0.1264 - val_loss: 0.1255\n",
            "Epoch 17/50\n",
            "60000/60000 [==============================] - 3s 58us/step - loss: 0.1262 - val_loss: 0.1253\n",
            "Epoch 18/50\n",
            "60000/60000 [==============================] - 3s 57us/step - loss: 0.1261 - val_loss: 0.1253\n",
            "Epoch 19/50\n",
            "60000/60000 [==============================] - 3s 58us/step - loss: 0.1260 - val_loss: 0.1251\n",
            "Epoch 20/50\n",
            "60000/60000 [==============================] - 3s 58us/step - loss: 0.1259 - val_loss: 0.1250\n",
            "Epoch 21/50\n",
            "60000/60000 [==============================] - 3s 57us/step - loss: 0.1257 - val_loss: 0.1248\n",
            "Epoch 22/50\n",
            "60000/60000 [==============================] - 3s 58us/step - loss: 0.1256 - val_loss: 0.1248\n",
            "Epoch 23/50\n",
            "60000/60000 [==============================] - 3s 57us/step - loss: 0.1255 - val_loss: 0.1247\n",
            "Epoch 24/50\n",
            "60000/60000 [==============================] - 3s 58us/step - loss: 0.1254 - val_loss: 0.1247\n",
            "Epoch 25/50\n",
            "60000/60000 [==============================] - 3s 58us/step - loss: 0.1253 - val_loss: 0.1245\n",
            "Epoch 26/50\n",
            "60000/60000 [==============================] - 3s 58us/step - loss: 0.1253 - val_loss: 0.1244\n",
            "Epoch 27/50\n",
            "60000/60000 [==============================] - 3s 57us/step - loss: 0.1251 - val_loss: 0.1243\n",
            "Epoch 28/50\n",
            "60000/60000 [==============================] - 3s 57us/step - loss: 0.1251 - val_loss: 0.1242\n",
            "Epoch 29/50\n",
            "60000/60000 [==============================] - 3s 57us/step - loss: 0.1250 - val_loss: 0.1241\n",
            "Epoch 30/50\n",
            "60000/60000 [==============================] - 3s 56us/step - loss: 0.1249 - val_loss: 0.1242\n",
            "Epoch 31/50\n",
            "60000/60000 [==============================] - 3s 58us/step - loss: 0.1248 - val_loss: 0.1241\n",
            "Epoch 32/50\n",
            "60000/60000 [==============================] - 3s 56us/step - loss: 0.1247 - val_loss: 0.1240\n",
            "Epoch 33/50\n",
            "60000/60000 [==============================] - 3s 57us/step - loss: 0.1247 - val_loss: 0.1239\n",
            "Epoch 34/50\n",
            "60000/60000 [==============================] - 3s 57us/step - loss: 0.1246 - val_loss: 0.1239\n",
            "Epoch 35/50\n",
            "60000/60000 [==============================] - 3s 57us/step - loss: 0.1245 - val_loss: 0.1238\n",
            "Epoch 36/50\n",
            "60000/60000 [==============================] - 3s 57us/step - loss: 0.1244 - val_loss: 0.1237\n",
            "Epoch 37/50\n",
            "60000/60000 [==============================] - 3s 58us/step - loss: 0.1244 - val_loss: 0.1237\n",
            "Epoch 38/50\n",
            "60000/60000 [==============================] - 3s 57us/step - loss: 0.1243 - val_loss: 0.1236\n",
            "Epoch 39/50\n",
            "60000/60000 [==============================] - 3s 57us/step - loss: 0.1243 - val_loss: 0.1235\n",
            "Epoch 40/50\n",
            "60000/60000 [==============================] - 4s 59us/step - loss: 0.1242 - val_loss: 0.1235\n",
            "Epoch 41/50\n",
            "60000/60000 [==============================] - 4s 58us/step - loss: 0.1242 - val_loss: 0.1235\n",
            "Epoch 42/50\n",
            "60000/60000 [==============================] - 3s 58us/step - loss: 0.1242 - val_loss: 0.1234\n",
            "Epoch 43/50\n",
            "60000/60000 [==============================] - 4s 58us/step - loss: 0.1241 - val_loss: 0.1234\n",
            "Epoch 44/50\n",
            "60000/60000 [==============================] - 3s 57us/step - loss: 0.1240 - val_loss: 0.1234\n",
            "Epoch 45/50\n",
            "60000/60000 [==============================] - 3s 57us/step - loss: 0.1240 - val_loss: 0.1233\n",
            "Epoch 46/50\n",
            "60000/60000 [==============================] - 3s 57us/step - loss: 0.1240 - val_loss: 0.1232\n",
            "Epoch 47/50\n",
            "60000/60000 [==============================] - 3s 56us/step - loss: 0.1240 - val_loss: 0.1235\n",
            "Epoch 48/50\n",
            "60000/60000 [==============================] - 3s 56us/step - loss: 0.1239 - val_loss: 0.1232\n",
            "Epoch 49/50\n",
            "60000/60000 [==============================] - 3s 57us/step - loss: 0.1239 - val_loss: 0.1236\n",
            "Epoch 50/50\n",
            "60000/60000 [==============================] - 3s 57us/step - loss: 0.1239 - val_loss: 0.1233\n"
          ],
          "name": "stdout"
        },
        {
          "output_type": "execute_result",
          "data": {
            "text/plain": [
              "<keras.callbacks.History at 0x7fdf9b7dfba8>"
            ]
          },
          "metadata": {
            "tags": []
          },
          "execution_count": 11
        }
      ]
    },
    {
      "cell_type": "markdown",
      "metadata": {
        "colab_type": "text",
        "id": "fJexKYFP1RqD"
      },
      "source": [
        "**Test the model**"
      ]
    },
    {
      "cell_type": "code",
      "metadata": {
        "colab_type": "code",
        "id": "Lf73oYjF1VGT",
        "colab": {}
      },
      "source": [
        "encoded_imgs = encoder.predict(x_test_noisy)\n",
        "decoded_imgs = autoencoder.predict(x_test_noisy)"
      ],
      "execution_count": 0,
      "outputs": []
    },
    {
      "cell_type": "markdown",
      "metadata": {
        "colab_type": "text",
        "id": "KjM138WJwhzK"
      },
      "source": [
        "**Plot the results**"
      ]
    },
    {
      "cell_type": "code",
      "metadata": {
        "colab_type": "code",
        "id": "t60TlhqdwePU",
        "outputId": "fa813b55-db84-4dbb-f1ea-8b439dc6a88f",
        "colab": {
          "base_uri": "https://localhost:8080/",
          "height": 244
        }
      },
      "source": [
        "import matplotlib.pyplot as plt\n",
        "\n",
        "n = 10  # how many digits we will display\n",
        "plt.figure(figsize=(20, 6))\n",
        "for i in range(n):\n",
        "    # display original\n",
        "    ax = plt.subplot(3, n, i + 1)\n",
        "    plt.imshow(x_test_noisy[i].reshape(28, 28))\n",
        "    plt.gray()\n",
        "    ax.get_xaxis().set_visible(False)\n",
        "    ax.get_yaxis().set_visible(False)    \n",
        "\n",
        "    # display reconstruction\n",
        "    ax = plt.subplot(3, n, i + 1 + n)\n",
        "    plt.imshow(decoded_imgs[i].reshape(28, 28))\n",
        "    plt.gray()\n",
        "    ax.get_xaxis().set_visible(False)\n",
        "    ax.get_yaxis().set_visible(False)\n",
        "plt.show()"
      ],
      "execution_count": 13,
      "outputs": [
        {
          "output_type": "display_data",
          "data": {
            "image/png": "[encoded data removed]",
            "text/plain": [
              "<Figure size 1440x432 with 20 Axes>"
            ]
          },
          "metadata": {
            "tags": []
          }
        }
      ]
    }
  ]
}