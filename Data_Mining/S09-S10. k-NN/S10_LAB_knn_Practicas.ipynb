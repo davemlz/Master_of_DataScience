{
 "cells": [
  {
   "cell_type": "markdown",
   "metadata": {},
   "source": [
    "# Minería de Datos (Master en Data Science, UIMP-UC)\n",
    "\n",
    "## Práctica k-NN\n",
    "\n",
    "## Máster Data Science (Diciembre 2019)\n",
    "### M.N Legasa (legasam@unican.es),  Santander Meteorology Group."
   ]
  },
  {
   "cell_type": "markdown",
   "metadata": {},
   "source": [
    "Como se explicó en la sesión de teoría, la técnica k-NN puede utilizarse tanto para **clasificación** como para **regresión**. En esta práctica vamos a trabajar con el dataset *MNIST* para clasificación de dígitos en imágenes y con datos meteorológicos para predecir la lluvia diaria en Lisboa. Utilizaremos los paquetes y funciones vistos ya en clase."
   ]
  },
  {
   "cell_type": "markdown",
   "metadata": {},
   "source": [
    "### Aplicación de la técnica k-NN para clasificación\n",
    "Para este ejemplo utilizaremos el dataset *MNIST*. Como ya habéis visto, se trata de reconocer dígitos (0, 1, ..., 9) en una colección de imágenes. En primer lugar cargamos el dataset (sólo la parte de train) con la función *read.csv*. El fichero *.csv* se puede descargar de https://github.com/SantanderMetGroup/Master-Data-Science/tree/master/Data_mining/datasets."
   ]
  },
  {
   "cell_type": "code",
   "execution_count": 1,
   "metadata": {},
   "outputs": [],
   "source": [
    "data = read.csv(\"MNIST_train.csv\")"
   ]
  },
  {
   "cell_type": "markdown",
   "metadata": {},
   "source": [
    "Recordemos que en la primera variable está la variable objetivo (el dígito) y el resto son los píxeles de la imagen. Efectivamente, podemos ver los dígitos si reorganizamos los píxeles:"
   ]
  },
  {
   "cell_type": "code",
   "execution_count": 2,
   "metadata": {},
   "outputs": [
    {
     "data": {
      "text/html": [
       "0"
      ],
      "text/latex": [
       "0"
      ],
      "text/markdown": [
       "0"
      ],
      "text/plain": [
       "[1] 0"
      ]
     },
     "metadata": {},
     "output_type": "display_data"
    },
    {
     "data": {
      "image/png": "[encoded data removed]",
      "text/plain": [
       "plot without title"
      ]
     },
     "metadata": {},
     "output_type": "display_data"
    }
   ],
   "source": [
    "image( t(apply(matrix(as.numeric(data[900,-1]), nrow = 28, ncol = 28, byrow = TRUE ),  2, rev)) )\n",
    "data[6,1]"
   ]
  },
  {
   "cell_type": "markdown",
   "metadata": {},
   "source": [
    "Lo primero es convertir nuestra variable objetivo a factor. Además, puesto que el dataset es muy grande (42000 muestras), trabajaremos sólo con las 2000 primeras instancias. De entre éstas, nuestro dataset de train estará formado por las 1000 primeras, y el de test por las 1000 segundas."
   ]
  },
  {
   "cell_type": "code",
   "execution_count": 3,
   "metadata": {},
   "outputs": [],
   "source": [
    "# converting target variable to factor\n",
    "data[,1] = as.factor(data[,1])\n",
    "\n",
    "## train/test partition\n",
    "indtrain = 1:1000\n",
    "indtest = 1001:2000\n",
    "data.train = data[indtrain,] \n",
    "data.test = data[indtest,]"
   ]
  },
  {
   "cell_type": "markdown",
   "metadata": {},
   "source": [
    "El primer ejercicio será utilizar la función `knn` (paquete `class`) para clasificar los dígitos de test, \n",
    "\n",
    "**Ejercicio 1)** Considerando para ello los 10 vecinos más cercanos en el train, calcula el porcentaje de aciertos (total) sobre el test."
   ]
  },
  {
   "cell_type": "code",
   "execution_count": 4,
   "metadata": {},
   "outputs": [
    {
     "data": {
      "text/html": [
       "0.848"
      ],
      "text/latex": [
       "0.848"
      ],
      "text/markdown": [
       "0.848"
      ],
      "text/plain": [
       "[1] 0.848"
      ]
     },
     "metadata": {},
     "output_type": "display_data"
    }
   ],
   "source": [
    "library(class)\n",
    "?knn\n",
    "\n",
    "# Continuar ejercicio...\n",
    "pred = knn(train = data.train[ , -1], test = data.test[, -1], \n",
    "           cl = data.train$label,\n",
    "           k = 10)\n",
    "sum(pred == data.test$label) / length(pred)"
   ]
  },
  {
   "cell_type": "markdown",
   "metadata": {},
   "source": [
    "Hemos visto que el error total de clasificación de nuestro método k-NN (con k=10) está en torno al 15%. Vamos a generar ahora un barplot con la tasa de aciertos para cada dígito (0, 1, ..., 9) que nos permita hacer un ranking con los mejor y peor clasificados.  \n",
    "**Ejercicio 2)** Crea un barplot que muestre el porcentaje de aciertos por dígito."
   ]
  },
  {
   "cell_type": "code",
   "execution_count": 5,
   "metadata": {},
   "outputs": [
    {
     "data": {
      "image/png": "[encoded data removed]",
      "text/plain": [
       "plot without title"
      ]
     },
     "metadata": {},
     "output_type": "display_data"
    }
   ],
   "source": [
    "barplot( sapply(levels(data.train$label), function(digit) mean(pred[which(data.test$label == digit)] == digit),\n",
    "                USE.NAMES = T) ,\n",
    "             ylim = c(0, 1), xlab = \"digit\", ylab = \"ACC\")"
   ]
  },
  {
   "cell_type": "markdown",
   "metadata": {},
   "source": [
    "Hasta ahora hemos validado predicciones determinisitas (binarias) para cada categoría (es decir, cada dígito). Hemos visto en la teoría que la técnica k-NN busca los vecinos más cercanos y da como clase ganadora la que aparezca más veces entre los mismos. Sin embargo, en lugar de predicciones deterministas, podríamos dar también predicciones probabilísticas (hay un 15% de probabilidades de que la clase ganadora sea un 0, un 5% de que sea un 1, un 32% de que sea un 7, etc.). \n",
    "\n",
    "A continuación, vamos a programar la técnica k-NN (con k=10) manualmente, de forma que, para cada instancia del test, daremos como predicción la probabilidad de encontrar cada una de las 10 clases (0, 1, ..., 9). Para ello...\n",
    "\n",
    "**Ejercicio 3.1)** Lo primero que necesitamos es calcular las distancias. Así que, en primer lugar, tenemos que construir una matriz de datos cuyas *filas* sean la distancia (euclídea) de cada elemento de `data.test` con todos los elementos de `data.train`. La función `dist()` permite calcular la distancia euclídea entre cada fila de dicha matriz y todas las demás. Nota: Convierte el objeto que devuelve `dist()` a matriz para poder trabajar con él (`as.matrix()`)."
   ]
  },
  {
   "cell_type": "code",
   "execution_count": 6,
   "metadata": {},
   "outputs": [],
   "source": [
    "dist.matrix <- dist(rbind(data.train[ ,-1], data.test[ ,-1]), method = \"euclidean\")\n",
    "dist.matrix <- as.matrix(dist.matrix)\n",
    "dist.matrix <- dist.matrix[(nrow(data.train)+1):nrow(dist.matrix), 1:nrow(data.train)]"
   ]
  },
  {
   "cell_type": "markdown",
   "metadata": {},
   "source": [
    "Una vez conocemos estas distancias, tendremos que ver, para cada elemento del test, cuáles son los 10 vecinos más próximos en el train. A partir de estos 10 vecinos, podemos calcular la probabilidad de cada clase (0, 1, ..., 9). \n",
    "\n",
    "\n",
    "**Ejercicio 3.2)** Para cada elemento de `data.test`, obtén los 10 vecinos más cercanos. La función `sort()` puede ser de ayuda, es posible que tengas que usarla con el argumento `index.return = TRUE`, verifica en la ayuda de la función cómo funciona."
   ]
  },
  {
   "cell_type": "code",
   "execution_count": 7,
   "metadata": {},
   "outputs": [
    {
     "data": {
      "text/html": [
       "<ol class=list-inline>\n",
       "\t<li>6</li>\n",
       "\t<li>6</li>\n",
       "\t<li>0</li>\n",
       "\t<li>6</li>\n",
       "\t<li>0</li>\n",
       "\t<li>0</li>\n",
       "\t<li>6</li>\n",
       "\t<li>0</li>\n",
       "\t<li>6</li>\n",
       "\t<li>6</li>\n",
       "</ol>\n"
      ],
      "text/latex": [
       "\\begin{enumerate*}\n",
       "\\item 6\n",
       "\\item 6\n",
       "\\item 0\n",
       "\\item 6\n",
       "\\item 0\n",
       "\\item 0\n",
       "\\item 6\n",
       "\\item 0\n",
       "\\item 6\n",
       "\\item 6\n",
       "\\end{enumerate*}\n"
      ],
      "text/markdown": [
       "1. 6\n",
       "2. 6\n",
       "3. 0\n",
       "4. 6\n",
       "5. 0\n",
       "6. 0\n",
       "7. 6\n",
       "8. 0\n",
       "9. 6\n",
       "10. 6\n",
       "\n",
       "\n"
      ],
      "text/plain": [
       " [1] 6 6 0 6 0 0 6 0 6 6"
      ]
     },
     "metadata": {},
     "output_type": "display_data"
    }
   ],
   "source": [
    "k <- 10\n",
    "knn_ <- matrix(NA, nrow = nrow(dist.matrix), ncol = k)\n",
    "# Continuar aquí...\n",
    "\n",
    "for (i in 1:nrow(dist.matrix)){\n",
    "    knn_[i,] <- as.numeric(as.character(data.train[sort(dist.matrix[i, ], index.return = T)$ix[1:k], \"label\"]))\n",
    "}\n",
    "knn_[201,]"
   ]
  },
  {
   "cell_type": "code",
   "execution_count": 8,
   "metadata": {},
   "outputs": [
    {
     "data": {
      "image/png": "[encoded data removed]",
      "text/plain": [
       "plot without title"
      ]
     },
     "metadata": {},
     "output_type": "display_data"
    }
   ],
   "source": [
    "image( t(apply(matrix(as.numeric(data.test[201,-1]), nrow = 28, ncol = 28, byrow = TRUE ),  2, rev)) )"
   ]
  },
  {
   "cell_type": "markdown",
   "metadata": {},
   "source": [
    "**Ejercicio 3.3)** A partir de los vecinos más cercanos, calcula la probabilidad de obtener cada dígito. Llama al objeto resultado `knn.prob`."
   ]
  },
  {
   "cell_type": "code",
   "execution_count": 9,
   "metadata": {},
   "outputs": [],
   "source": [
    "k <- 10\n",
    "knn.prob <- matrix(NA, nrow = nrow(dist.matrix), ncol = k)\n",
    "for (i in 1:nrow(dist.matrix)){\n",
    "    knn.prob[i,] <- as.numeric(as.character(data.train[sort(dist.matrix[i, ], index.return = T)$ix[1:k], \"label\"]))\n",
    "    knn.prob[i,] <- sapply(0:9, function(digit) mean(digit == knn.prob[i, ]))\n",
    "}\n",
    "colnames(knn.prob) <- 0:9                    "
   ]
  },
  {
   "cell_type": "code",
   "execution_count": 10,
   "metadata": {},
   "outputs": [
    {
     "data": {
      "text/html": [
       "<dl class=dl-horizontal>\n",
       "\t<dt>0</dt>\n",
       "\t\t<dd>0.4</dd>\n",
       "\t<dt>1</dt>\n",
       "\t\t<dd>0</dd>\n",
       "\t<dt>2</dt>\n",
       "\t\t<dd>0</dd>\n",
       "\t<dt>3</dt>\n",
       "\t\t<dd>0</dd>\n",
       "\t<dt>4</dt>\n",
       "\t\t<dd>0</dd>\n",
       "\t<dt>5</dt>\n",
       "\t\t<dd>0</dd>\n",
       "\t<dt>6</dt>\n",
       "\t\t<dd>0.6</dd>\n",
       "\t<dt>7</dt>\n",
       "\t\t<dd>0</dd>\n",
       "\t<dt>8</dt>\n",
       "\t\t<dd>0</dd>\n",
       "\t<dt>9</dt>\n",
       "\t\t<dd>0</dd>\n",
       "</dl>\n"
      ],
      "text/latex": [
       "\\begin{description*}\n",
       "\\item[0] 0.4\n",
       "\\item[1] 0\n",
       "\\item[2] 0\n",
       "\\item[3] 0\n",
       "\\item[4] 0\n",
       "\\item[5] 0\n",
       "\\item[6] 0.6\n",
       "\\item[7] 0\n",
       "\\item[8] 0\n",
       "\\item[9] 0\n",
       "\\end{description*}\n"
      ],
      "text/markdown": [
       "0\n",
       ":   0.41\n",
       ":   02\n",
       ":   03\n",
       ":   04\n",
       ":   05\n",
       ":   06\n",
       ":   0.67\n",
       ":   08\n",
       ":   09\n",
       ":   0\n",
       "\n"
      ],
      "text/plain": [
       "  0   1   2   3   4   5   6   7   8   9 \n",
       "0.4 0.0 0.0 0.0 0.0 0.0 0.6 0.0 0.0 0.0 "
      ]
     },
     "metadata": {},
     "output_type": "display_data"
    }
   ],
   "source": [
    "knn.prob[201, ]"
   ]
  },
  {
   "cell_type": "markdown",
   "metadata": {},
   "source": [
    "Una forma de validar predicciones más informativa que la de simplemente utilizar el ratio de predicciones correctas es mediante las curvas ROC. \n",
    "\n",
    "Para construir la curva ROC para una cierta clase (dígito) necesitaremos observaciones binarias (clase sí/clase no) y predicciones probabilísticas. A modo de ejemplo, dibujamos la curva ROC correspondiente al dígito 7. También calculamos el área encerrada bajo dicha curva (llamada normalmente *AUC*).  \n",
    "**Nota:** Utiliza las funciones *roc* y *auc* del paquete *AUC*."
   ]
  },
  {
   "cell_type": "code",
   "execution_count": 11,
   "metadata": {},
   "outputs": [
    {
     "name": "stderr",
     "output_type": "stream",
     "text": [
      "Loading required package: fields\n",
      "Loading required package: spam\n",
      "Loading required package: dotCall64\n",
      "Loading required package: grid\n",
      "Spam version 2.4-0 (2019-11-01) is loaded.\n",
      "Type 'help( Spam)' or 'demo( spam)' for a short introduction \n",
      "and overview of this package.\n",
      "Help for individual functions is also obtained by adding the\n",
      "suffix '.spam' to the function name, e.g. 'help( chol.spam)'.\n",
      "\n",
      "Attaching package: ‘spam’\n",
      "\n",
      "The following objects are masked from ‘package:base’:\n",
      "\n",
      "    backsolve, forwardsolve\n",
      "\n",
      "Loading required package: maps\n",
      "See https://github.com/NCAR/Fields for\n",
      " an extensive vignette, other supplements and source code \n",
      "Loading required package: boot\n",
      "Loading required package: CircStats\n",
      "Loading required package: MASS\n",
      "Loading required package: dtw\n",
      "Loading required package: proxy\n",
      "\n",
      "Attaching package: ‘proxy’\n",
      "\n",
      "The following object is masked from ‘package:spam’:\n",
      "\n",
      "    as.matrix\n",
      "\n",
      "The following objects are masked from ‘package:stats’:\n",
      "\n",
      "    as.dist, dist\n",
      "\n",
      "The following object is masked from ‘package:base’:\n",
      "\n",
      "    as.matrix\n",
      "\n",
      "Loaded dtw v1.21-3. See ?dtw for help, citation(\"dtw\") for use in publication.\n",
      "\n"
     ]
    }
   ],
   "source": [
    "library(verification)"
   ]
  },
  {
   "cell_type": "code",
   "execution_count": 12,
   "metadata": {},
   "outputs": [
    {
     "data": {
      "image/png": "[encoded data removed]",
      "text/plain": [
       "Plot with title “AUC for 7: 0.995”"
      ]
     },
     "metadata": {},
     "output_type": "display_data"
    }
   ],
   "source": [
    "digit <- 7\n",
    "auc = roc.area(data.test$label == digit, knn.prob[, digit + 1])$A\n",
    "roc.plot(data.test$label == digit, knn.prob[, digit + 1], \n",
    "         main = paste0(\"AUC for \" , digit , \": \", round(auc, 3)))"
   ]
  },
  {
   "cell_type": "markdown",
   "metadata": {},
   "source": [
    "En general el 1 se clasifica muy bien, incluso independientemente de dónde fijemos el umbral. Esto significa que cuando el modelo detecta un 1, lo suele hacer con bastante precisión. \n",
    "\n",
    "**Ejercicio 4** Verifícalo. Verifica también qué ocurre con el número 8 construyendo la curva ROC y comenta los resultados. ¿Es el AUC bueno?"
   ]
  },
  {
   "cell_type": "code",
   "execution_count": 13,
   "metadata": {
    "scrolled": true
   },
   "outputs": [
    {
     "data": {
      "text/html": [
       "<ol class=list-inline>\n",
       "\t<li>1</li>\n",
       "\t<li>1</li>\n",
       "\t<li>1</li>\n",
       "\t<li>1</li>\n",
       "\t<li>1</li>\n",
       "\t<li>1</li>\n",
       "\t<li>1</li>\n",
       "\t<li>1</li>\n",
       "\t<li>1</li>\n",
       "\t<li>1</li>\n",
       "\t<li>1</li>\n",
       "\t<li>1</li>\n",
       "\t<li>1</li>\n",
       "\t<li>1</li>\n",
       "\t<li>1</li>\n",
       "\t<li>1</li>\n",
       "\t<li>1</li>\n",
       "\t<li>1</li>\n",
       "\t<li>0.9</li>\n",
       "\t<li>1</li>\n",
       "\t<li>1</li>\n",
       "\t<li>1</li>\n",
       "\t<li>1</li>\n",
       "\t<li>1</li>\n",
       "\t<li>1</li>\n",
       "\t<li>1</li>\n",
       "\t<li>1</li>\n",
       "\t<li>1</li>\n",
       "\t<li>1</li>\n",
       "\t<li>1</li>\n",
       "\t<li>1</li>\n",
       "\t<li>1</li>\n",
       "\t<li>1</li>\n",
       "\t<li>1</li>\n",
       "\t<li>1</li>\n",
       "\t<li>1</li>\n",
       "\t<li>1</li>\n",
       "\t<li>1</li>\n",
       "\t<li>1</li>\n",
       "\t<li>1</li>\n",
       "\t<li>1</li>\n",
       "\t<li>1</li>\n",
       "\t<li>1</li>\n",
       "\t<li>1</li>\n",
       "\t<li>1</li>\n",
       "\t<li>1</li>\n",
       "\t<li>0.9</li>\n",
       "\t<li>1</li>\n",
       "\t<li>1</li>\n",
       "\t<li>1</li>\n",
       "\t<li>1</li>\n",
       "\t<li>1</li>\n",
       "\t<li>1</li>\n",
       "\t<li>1</li>\n",
       "\t<li>1</li>\n",
       "\t<li>1</li>\n",
       "\t<li>1</li>\n",
       "\t<li>1</li>\n",
       "\t<li>1</li>\n",
       "\t<li>1</li>\n",
       "\t<li>1</li>\n",
       "\t<li>1</li>\n",
       "\t<li>1</li>\n",
       "\t<li>1</li>\n",
       "\t<li>1</li>\n",
       "\t<li>1</li>\n",
       "\t<li>1</li>\n",
       "\t<li>1</li>\n",
       "\t<li>1</li>\n",
       "\t<li>1</li>\n",
       "\t<li>1</li>\n",
       "\t<li>1</li>\n",
       "\t<li>1</li>\n",
       "\t<li>1</li>\n",
       "\t<li>0.3</li>\n",
       "\t<li>1</li>\n",
       "\t<li>1</li>\n",
       "\t<li>1</li>\n",
       "\t<li>1</li>\n",
       "\t<li>1</li>\n",
       "\t<li>1</li>\n",
       "\t<li>1</li>\n",
       "\t<li>1</li>\n",
       "\t<li>1</li>\n",
       "\t<li>1</li>\n",
       "\t<li>1</li>\n",
       "\t<li>1</li>\n",
       "\t<li>1</li>\n",
       "\t<li>1</li>\n",
       "\t<li>0.8</li>\n",
       "\t<li>1</li>\n",
       "\t<li>0.8</li>\n",
       "\t<li>1</li>\n",
       "\t<li>1</li>\n",
       "\t<li>1</li>\n",
       "\t<li>1</li>\n",
       "\t<li>1</li>\n",
       "\t<li>1</li>\n",
       "\t<li>1</li>\n",
       "\t<li>1</li>\n",
       "\t<li>1</li>\n",
       "\t<li>1</li>\n",
       "\t<li>1</li>\n",
       "\t<li>1</li>\n",
       "\t<li>1</li>\n",
       "\t<li>1</li>\n",
       "\t<li>1</li>\n",
       "\t<li>1</li>\n",
       "\t<li>1</li>\n",
       "\t<li>1</li>\n",
       "\t<li>1</li>\n",
       "\t<li>1</li>\n",
       "\t<li>1</li>\n",
       "\t<li>0.9</li>\n",
       "\t<li>1</li>\n",
       "\t<li>1</li>\n",
       "\t<li>1</li>\n",
       "\t<li>0.6</li>\n",
       "\t<li>1</li>\n",
       "\t<li>1</li>\n",
       "\t<li>1</li>\n",
       "</ol>\n"
      ],
      "text/latex": [
       "\\begin{enumerate*}\n",
       "\\item 1\n",
       "\\item 1\n",
       "\\item 1\n",
       "\\item 1\n",
       "\\item 1\n",
       "\\item 1\n",
       "\\item 1\n",
       "\\item 1\n",
       "\\item 1\n",
       "\\item 1\n",
       "\\item 1\n",
       "\\item 1\n",
       "\\item 1\n",
       "\\item 1\n",
       "\\item 1\n",
       "\\item 1\n",
       "\\item 1\n",
       "\\item 1\n",
       "\\item 0.9\n",
       "\\item 1\n",
       "\\item 1\n",
       "\\item 1\n",
       "\\item 1\n",
       "\\item 1\n",
       "\\item 1\n",
       "\\item 1\n",
       "\\item 1\n",
       "\\item 1\n",
       "\\item 1\n",
       "\\item 1\n",
       "\\item 1\n",
       "\\item 1\n",
       "\\item 1\n",
       "\\item 1\n",
       "\\item 1\n",
       "\\item 1\n",
       "\\item 1\n",
       "\\item 1\n",
       "\\item 1\n",
       "\\item 1\n",
       "\\item 1\n",
       "\\item 1\n",
       "\\item 1\n",
       "\\item 1\n",
       "\\item 1\n",
       "\\item 1\n",
       "\\item 0.9\n",
       "\\item 1\n",
       "\\item 1\n",
       "\\item 1\n",
       "\\item 1\n",
       "\\item 1\n",
       "\\item 1\n",
       "\\item 1\n",
       "\\item 1\n",
       "\\item 1\n",
       "\\item 1\n",
       "\\item 1\n",
       "\\item 1\n",
       "\\item 1\n",
       "\\item 1\n",
       "\\item 1\n",
       "\\item 1\n",
       "\\item 1\n",
       "\\item 1\n",
       "\\item 1\n",
       "\\item 1\n",
       "\\item 1\n",
       "\\item 1\n",
       "\\item 1\n",
       "\\item 1\n",
       "\\item 1\n",
       "\\item 1\n",
       "\\item 1\n",
       "\\item 0.3\n",
       "\\item 1\n",
       "\\item 1\n",
       "\\item 1\n",
       "\\item 1\n",
       "\\item 1\n",
       "\\item 1\n",
       "\\item 1\n",
       "\\item 1\n",
       "\\item 1\n",
       "\\item 1\n",
       "\\item 1\n",
       "\\item 1\n",
       "\\item 1\n",
       "\\item 1\n",
       "\\item 0.8\n",
       "\\item 1\n",
       "\\item 0.8\n",
       "\\item 1\n",
       "\\item 1\n",
       "\\item 1\n",
       "\\item 1\n",
       "\\item 1\n",
       "\\item 1\n",
       "\\item 1\n",
       "\\item 1\n",
       "\\item 1\n",
       "\\item 1\n",
       "\\item 1\n",
       "\\item 1\n",
       "\\item 1\n",
       "\\item 1\n",
       "\\item 1\n",
       "\\item 1\n",
       "\\item 1\n",
       "\\item 1\n",
       "\\item 1\n",
       "\\item 1\n",
       "\\item 1\n",
       "\\item 0.9\n",
       "\\item 1\n",
       "\\item 1\n",
       "\\item 1\n",
       "\\item 0.6\n",
       "\\item 1\n",
       "\\item 1\n",
       "\\item 1\n",
       "\\end{enumerate*}\n"
      ],
      "text/markdown": [
       "1. 1\n",
       "2. 1\n",
       "3. 1\n",
       "4. 1\n",
       "5. 1\n",
       "6. 1\n",
       "7. 1\n",
       "8. 1\n",
       "9. 1\n",
       "10. 1\n",
       "11. 1\n",
       "12. 1\n",
       "13. 1\n",
       "14. 1\n",
       "15. 1\n",
       "16. 1\n",
       "17. 1\n",
       "18. 1\n",
       "19. 0.9\n",
       "20. 1\n",
       "21. 1\n",
       "22. 1\n",
       "23. 1\n",
       "24. 1\n",
       "25. 1\n",
       "26. 1\n",
       "27. 1\n",
       "28. 1\n",
       "29. 1\n",
       "30. 1\n",
       "31. 1\n",
       "32. 1\n",
       "33. 1\n",
       "34. 1\n",
       "35. 1\n",
       "36. 1\n",
       "37. 1\n",
       "38. 1\n",
       "39. 1\n",
       "40. 1\n",
       "41. 1\n",
       "42. 1\n",
       "43. 1\n",
       "44. 1\n",
       "45. 1\n",
       "46. 1\n",
       "47. 0.9\n",
       "48. 1\n",
       "49. 1\n",
       "50. 1\n",
       "51. 1\n",
       "52. 1\n",
       "53. 1\n",
       "54. 1\n",
       "55. 1\n",
       "56. 1\n",
       "57. 1\n",
       "58. 1\n",
       "59. 1\n",
       "60. 1\n",
       "61. 1\n",
       "62. 1\n",
       "63. 1\n",
       "64. 1\n",
       "65. 1\n",
       "66. 1\n",
       "67. 1\n",
       "68. 1\n",
       "69. 1\n",
       "70. 1\n",
       "71. 1\n",
       "72. 1\n",
       "73. 1\n",
       "74. 1\n",
       "75. 0.3\n",
       "76. 1\n",
       "77. 1\n",
       "78. 1\n",
       "79. 1\n",
       "80. 1\n",
       "81. 1\n",
       "82. 1\n",
       "83. 1\n",
       "84. 1\n",
       "85. 1\n",
       "86. 1\n",
       "87. 1\n",
       "88. 1\n",
       "89. 1\n",
       "90. 0.8\n",
       "91. 1\n",
       "92. 0.8\n",
       "93. 1\n",
       "94. 1\n",
       "95. 1\n",
       "96. 1\n",
       "97. 1\n",
       "98. 1\n",
       "99. 1\n",
       "100. 1\n",
       "101. 1\n",
       "102. 1\n",
       "103. 1\n",
       "104. 1\n",
       "105. 1\n",
       "106. 1\n",
       "107. 1\n",
       "108. 1\n",
       "109. 1\n",
       "110. 1\n",
       "111. 1\n",
       "112. 1\n",
       "113. 1\n",
       "114. 0.9\n",
       "115. 1\n",
       "116. 1\n",
       "117. 1\n",
       "118. 0.6\n",
       "119. 1\n",
       "120. 1\n",
       "121. 1\n",
       "\n",
       "\n"
      ],
      "text/plain": [
       "  [1] 1.0 1.0 1.0 1.0 1.0 1.0 1.0 1.0 1.0 1.0 1.0 1.0 1.0 1.0 1.0 1.0 1.0 1.0\n",
       " [19] 0.9 1.0 1.0 1.0 1.0 1.0 1.0 1.0 1.0 1.0 1.0 1.0 1.0 1.0 1.0 1.0 1.0 1.0\n",
       " [37] 1.0 1.0 1.0 1.0 1.0 1.0 1.0 1.0 1.0 1.0 0.9 1.0 1.0 1.0 1.0 1.0 1.0 1.0\n",
       " [55] 1.0 1.0 1.0 1.0 1.0 1.0 1.0 1.0 1.0 1.0 1.0 1.0 1.0 1.0 1.0 1.0 1.0 1.0\n",
       " [73] 1.0 1.0 0.3 1.0 1.0 1.0 1.0 1.0 1.0 1.0 1.0 1.0 1.0 1.0 1.0 1.0 1.0 0.8\n",
       " [91] 1.0 0.8 1.0 1.0 1.0 1.0 1.0 1.0 1.0 1.0 1.0 1.0 1.0 1.0 1.0 1.0 1.0 1.0\n",
       "[109] 1.0 1.0 1.0 1.0 1.0 0.9 1.0 1.0 1.0 0.6 1.0 1.0 1.0"
      ]
     },
     "metadata": {},
     "output_type": "display_data"
    }
   ],
   "source": [
    "# Se trata de verificar, basta visualmente, nuestra precicción.\n",
    "knn.prob[which(data.test[, 1] == 1),2]"
   ]
  },
  {
   "cell_type": "markdown",
   "metadata": {},
   "source": [
    "Claramente en general hay consenso absoluto con el 1, no tanto con el 8:"
   ]
  },
  {
   "cell_type": "code",
   "execution_count": 14,
   "metadata": {
    "scrolled": true
   },
   "outputs": [
    {
     "data": {
      "text/html": [
       "<ol class=list-inline>\n",
       "\t<li>0.7</li>\n",
       "\t<li>0.3</li>\n",
       "\t<li>0.3</li>\n",
       "\t<li>0.9</li>\n",
       "\t<li>0.5</li>\n",
       "\t<li>0.9</li>\n",
       "\t<li>0.7</li>\n",
       "\t<li>0.2</li>\n",
       "\t<li>0.6</li>\n",
       "\t<li>0.7</li>\n",
       "\t<li>1</li>\n",
       "\t<li>0.3</li>\n",
       "\t<li>0.9</li>\n",
       "\t<li>0.7</li>\n",
       "\t<li>0.4</li>\n",
       "\t<li>0.8</li>\n",
       "\t<li>0.4</li>\n",
       "\t<li>0.1</li>\n",
       "\t<li>0.7</li>\n",
       "\t<li>1</li>\n",
       "\t<li>0.5</li>\n",
       "\t<li>0</li>\n",
       "\t<li>0.9</li>\n",
       "\t<li>0</li>\n",
       "\t<li>0.1</li>\n",
       "\t<li>0.4</li>\n",
       "\t<li>0.8</li>\n",
       "\t<li>0.5</li>\n",
       "\t<li>0.8</li>\n",
       "\t<li>0.9</li>\n",
       "\t<li>1</li>\n",
       "\t<li>1</li>\n",
       "\t<li>0.2</li>\n",
       "\t<li>0.7</li>\n",
       "\t<li>0.6</li>\n",
       "\t<li>0</li>\n",
       "\t<li>1</li>\n",
       "\t<li>0.9</li>\n",
       "\t<li>0.8</li>\n",
       "\t<li>0.3</li>\n",
       "\t<li>0.2</li>\n",
       "\t<li>0.8</li>\n",
       "\t<li>0.4</li>\n",
       "\t<li>0.9</li>\n",
       "\t<li>0.8</li>\n",
       "\t<li>0</li>\n",
       "\t<li>0.5</li>\n",
       "\t<li>1</li>\n",
       "\t<li>1</li>\n",
       "\t<li>0.7</li>\n",
       "\t<li>1</li>\n",
       "\t<li>0.3</li>\n",
       "\t<li>0.7</li>\n",
       "\t<li>0.7</li>\n",
       "\t<li>1</li>\n",
       "\t<li>0.7</li>\n",
       "\t<li>0.7</li>\n",
       "\t<li>0.8</li>\n",
       "\t<li>0</li>\n",
       "\t<li>1</li>\n",
       "\t<li>0.8</li>\n",
       "\t<li>0.4</li>\n",
       "\t<li>0.5</li>\n",
       "\t<li>0.4</li>\n",
       "\t<li>0.9</li>\n",
       "\t<li>0.3</li>\n",
       "\t<li>1</li>\n",
       "\t<li>0.9</li>\n",
       "\t<li>0.1</li>\n",
       "\t<li>0.7</li>\n",
       "\t<li>0.2</li>\n",
       "\t<li>0.3</li>\n",
       "\t<li>0.6</li>\n",
       "\t<li>0.5</li>\n",
       "\t<li>0.2</li>\n",
       "\t<li>0</li>\n",
       "\t<li>0.8</li>\n",
       "\t<li>0.9</li>\n",
       "\t<li>0.1</li>\n",
       "\t<li>0.3</li>\n",
       "\t<li>0.8</li>\n",
       "\t<li>0.6</li>\n",
       "\t<li>0.8</li>\n",
       "\t<li>1</li>\n",
       "\t<li>1</li>\n",
       "\t<li>0.3</li>\n",
       "\t<li>0.2</li>\n",
       "\t<li>0.6</li>\n",
       "\t<li>0.7</li>\n",
       "\t<li>0.1</li>\n",
       "\t<li>0.4</li>\n",
       "</ol>\n"
      ],
      "text/latex": [
       "\\begin{enumerate*}\n",
       "\\item 0.7\n",
       "\\item 0.3\n",
       "\\item 0.3\n",
       "\\item 0.9\n",
       "\\item 0.5\n",
       "\\item 0.9\n",
       "\\item 0.7\n",
       "\\item 0.2\n",
       "\\item 0.6\n",
       "\\item 0.7\n",
       "\\item 1\n",
       "\\item 0.3\n",
       "\\item 0.9\n",
       "\\item 0.7\n",
       "\\item 0.4\n",
       "\\item 0.8\n",
       "\\item 0.4\n",
       "\\item 0.1\n",
       "\\item 0.7\n",
       "\\item 1\n",
       "\\item 0.5\n",
       "\\item 0\n",
       "\\item 0.9\n",
       "\\item 0\n",
       "\\item 0.1\n",
       "\\item 0.4\n",
       "\\item 0.8\n",
       "\\item 0.5\n",
       "\\item 0.8\n",
       "\\item 0.9\n",
       "\\item 1\n",
       "\\item 1\n",
       "\\item 0.2\n",
       "\\item 0.7\n",
       "\\item 0.6\n",
       "\\item 0\n",
       "\\item 1\n",
       "\\item 0.9\n",
       "\\item 0.8\n",
       "\\item 0.3\n",
       "\\item 0.2\n",
       "\\item 0.8\n",
       "\\item 0.4\n",
       "\\item 0.9\n",
       "\\item 0.8\n",
       "\\item 0\n",
       "\\item 0.5\n",
       "\\item 1\n",
       "\\item 1\n",
       "\\item 0.7\n",
       "\\item 1\n",
       "\\item 0.3\n",
       "\\item 0.7\n",
       "\\item 0.7\n",
       "\\item 1\n",
       "\\item 0.7\n",
       "\\item 0.7\n",
       "\\item 0.8\n",
       "\\item 0\n",
       "\\item 1\n",
       "\\item 0.8\n",
       "\\item 0.4\n",
       "\\item 0.5\n",
       "\\item 0.4\n",
       "\\item 0.9\n",
       "\\item 0.3\n",
       "\\item 1\n",
       "\\item 0.9\n",
       "\\item 0.1\n",
       "\\item 0.7\n",
       "\\item 0.2\n",
       "\\item 0.3\n",
       "\\item 0.6\n",
       "\\item 0.5\n",
       "\\item 0.2\n",
       "\\item 0\n",
       "\\item 0.8\n",
       "\\item 0.9\n",
       "\\item 0.1\n",
       "\\item 0.3\n",
       "\\item 0.8\n",
       "\\item 0.6\n",
       "\\item 0.8\n",
       "\\item 1\n",
       "\\item 1\n",
       "\\item 0.3\n",
       "\\item 0.2\n",
       "\\item 0.6\n",
       "\\item 0.7\n",
       "\\item 0.1\n",
       "\\item 0.4\n",
       "\\end{enumerate*}\n"
      ],
      "text/markdown": [
       "1. 0.7\n",
       "2. 0.3\n",
       "3. 0.3\n",
       "4. 0.9\n",
       "5. 0.5\n",
       "6. 0.9\n",
       "7. 0.7\n",
       "8. 0.2\n",
       "9. 0.6\n",
       "10. 0.7\n",
       "11. 1\n",
       "12. 0.3\n",
       "13. 0.9\n",
       "14. 0.7\n",
       "15. 0.4\n",
       "16. 0.8\n",
       "17. 0.4\n",
       "18. 0.1\n",
       "19. 0.7\n",
       "20. 1\n",
       "21. 0.5\n",
       "22. 0\n",
       "23. 0.9\n",
       "24. 0\n",
       "25. 0.1\n",
       "26. 0.4\n",
       "27. 0.8\n",
       "28. 0.5\n",
       "29. 0.8\n",
       "30. 0.9\n",
       "31. 1\n",
       "32. 1\n",
       "33. 0.2\n",
       "34. 0.7\n",
       "35. 0.6\n",
       "36. 0\n",
       "37. 1\n",
       "38. 0.9\n",
       "39. 0.8\n",
       "40. 0.3\n",
       "41. 0.2\n",
       "42. 0.8\n",
       "43. 0.4\n",
       "44. 0.9\n",
       "45. 0.8\n",
       "46. 0\n",
       "47. 0.5\n",
       "48. 1\n",
       "49. 1\n",
       "50. 0.7\n",
       "51. 1\n",
       "52. 0.3\n",
       "53. 0.7\n",
       "54. 0.7\n",
       "55. 1\n",
       "56. 0.7\n",
       "57. 0.7\n",
       "58. 0.8\n",
       "59. 0\n",
       "60. 1\n",
       "61. 0.8\n",
       "62. 0.4\n",
       "63. 0.5\n",
       "64. 0.4\n",
       "65. 0.9\n",
       "66. 0.3\n",
       "67. 1\n",
       "68. 0.9\n",
       "69. 0.1\n",
       "70. 0.7\n",
       "71. 0.2\n",
       "72. 0.3\n",
       "73. 0.6\n",
       "74. 0.5\n",
       "75. 0.2\n",
       "76. 0\n",
       "77. 0.8\n",
       "78. 0.9\n",
       "79. 0.1\n",
       "80. 0.3\n",
       "81. 0.8\n",
       "82. 0.6\n",
       "83. 0.8\n",
       "84. 1\n",
       "85. 1\n",
       "86. 0.3\n",
       "87. 0.2\n",
       "88. 0.6\n",
       "89. 0.7\n",
       "90. 0.1\n",
       "91. 0.4\n",
       "\n",
       "\n"
      ],
      "text/plain": [
       " [1] 0.7 0.3 0.3 0.9 0.5 0.9 0.7 0.2 0.6 0.7 1.0 0.3 0.9 0.7 0.4 0.8 0.4 0.1 0.7\n",
       "[20] 1.0 0.5 0.0 0.9 0.0 0.1 0.4 0.8 0.5 0.8 0.9 1.0 1.0 0.2 0.7 0.6 0.0 1.0 0.9\n",
       "[39] 0.8 0.3 0.2 0.8 0.4 0.9 0.8 0.0 0.5 1.0 1.0 0.7 1.0 0.3 0.7 0.7 1.0 0.7 0.7\n",
       "[58] 0.8 0.0 1.0 0.8 0.4 0.5 0.4 0.9 0.3 1.0 0.9 0.1 0.7 0.2 0.3 0.6 0.5 0.2 0.0\n",
       "[77] 0.8 0.9 0.1 0.3 0.8 0.6 0.8 1.0 1.0 0.3 0.2 0.6 0.7 0.1 0.4"
      ]
     },
     "metadata": {},
     "output_type": "display_data"
    }
   ],
   "source": [
    "knn.prob[which(data.test[, 1] == 8),9]"
   ]
  },
  {
   "cell_type": "code",
   "execution_count": 15,
   "metadata": {
    "scrolled": true
   },
   "outputs": [
    {
     "name": "stdout",
     "output_type": "stream",
     "text": [
      "TPR FPR \n",
      "  1   1 \n",
      "      TPR       FPR \n",
      "0.9340659 0.1045105 \n",
      "      TPR       FPR \n",
      "0.9340659 0.1045105 \n",
      "      TPR       FPR \n",
      "0.9340659 0.1045105 \n",
      "      TPR       FPR \n",
      "0.9340659 0.1045105 \n",
      "      TPR       FPR \n",
      "0.9340659 0.1045105 \n",
      "      TPR       FPR \n",
      "0.9340659 0.1045105 \n",
      "      TPR       FPR \n",
      "0.9340659 0.1045105 \n",
      "      TPR       FPR \n",
      "0.9340659 0.1045105 \n",
      "      TPR       FPR \n",
      "0.9340659 0.1045105 \n",
      "      TPR       FPR \n",
      "0.9340659 0.1045105 \n",
      "       TPR        FPR \n",
      "0.87912088 0.03520352 \n",
      "       TPR        FPR \n",
      "0.87912088 0.03520352 \n",
      "       TPR        FPR \n",
      "0.87912088 0.03520352 \n",
      "       TPR        FPR \n",
      "0.87912088 0.03520352 \n",
      "       TPR        FPR \n",
      "0.87912088 0.03520352 \n",
      "       TPR        FPR \n",
      "0.87912088 0.03520352 \n",
      "       TPR        FPR \n",
      "0.87912088 0.03520352 \n",
      "       TPR        FPR \n",
      "0.87912088 0.03520352 \n",
      "       TPR        FPR \n",
      "0.87912088 0.03520352 \n",
      "       TPR        FPR \n",
      "0.87912088 0.03520352 \n",
      "       TPR        FPR \n",
      "0.81318681 0.01760176 \n",
      "       TPR        FPR \n",
      "0.81318681 0.01760176 \n",
      "       TPR        FPR \n",
      "0.81318681 0.01760176 \n",
      "       TPR        FPR \n",
      "0.81318681 0.01760176 \n",
      "       TPR        FPR \n",
      "0.81318681 0.01760176 \n",
      "       TPR        FPR \n",
      "0.81318681 0.01760176 \n",
      "       TPR        FPR \n",
      "0.81318681 0.01760176 \n",
      "       TPR        FPR \n",
      "0.81318681 0.01760176 \n",
      "       TPR        FPR \n",
      "0.81318681 0.01760176 \n",
      "       TPR        FPR \n",
      "0.81318681 0.01760176 \n",
      "       TPR        FPR \n",
      "0.71428571 0.00550055 \n",
      "       TPR        FPR \n",
      "0.71428571 0.00550055 \n",
      "       TPR        FPR \n",
      "0.71428571 0.00550055 \n",
      "       TPR        FPR \n",
      "0.71428571 0.00550055 \n",
      "       TPR        FPR \n",
      "0.71428571 0.00550055 \n",
      "       TPR        FPR \n",
      "0.71428571 0.00550055 \n",
      "       TPR        FPR \n",
      "0.71428571 0.00550055 \n",
      "       TPR        FPR \n",
      "0.71428571 0.00550055 \n",
      "       TPR        FPR \n",
      "0.71428571 0.00550055 \n",
      "       TPR        FPR \n",
      "0.71428571 0.00550055 \n",
      "       TPR        FPR \n",
      "0.63736264 0.00440044 \n",
      "       TPR        FPR \n",
      "0.63736264 0.00440044 \n",
      "       TPR        FPR \n",
      "0.63736264 0.00440044 \n",
      "       TPR        FPR \n",
      "0.63736264 0.00440044 \n",
      "       TPR        FPR \n",
      "0.63736264 0.00440044 \n",
      "       TPR        FPR \n",
      "0.63736264 0.00440044 \n",
      "       TPR        FPR \n",
      "0.63736264 0.00440044 \n",
      "       TPR        FPR \n",
      "0.63736264 0.00440044 \n",
      "       TPR        FPR \n",
      "0.63736264 0.00440044 \n",
      "       TPR        FPR \n",
      "0.63736264 0.00440044 \n",
      "       TPR        FPR \n",
      "0.57142857 0.00330033 \n",
      "       TPR        FPR \n",
      "0.57142857 0.00330033 \n",
      "       TPR        FPR \n",
      "0.57142857 0.00330033 \n",
      "       TPR        FPR \n",
      "0.57142857 0.00330033 \n",
      "       TPR        FPR \n",
      "0.57142857 0.00330033 \n",
      "       TPR        FPR \n",
      "0.57142857 0.00330033 \n",
      "       TPR        FPR \n",
      "0.57142857 0.00330033 \n",
      "       TPR        FPR \n",
      "0.57142857 0.00330033 \n",
      "       TPR        FPR \n",
      "0.57142857 0.00330033 \n",
      "       TPR        FPR \n",
      "0.57142857 0.00330033 \n",
      "       TPR        FPR \n",
      "0.51648352 0.00220022 \n",
      "       TPR        FPR \n",
      "0.51648352 0.00220022 \n",
      "       TPR        FPR \n",
      "0.51648352 0.00220022 \n",
      "       TPR        FPR \n",
      "0.51648352 0.00220022 \n",
      "       TPR        FPR \n",
      "0.51648352 0.00220022 \n",
      "       TPR        FPR \n",
      "0.51648352 0.00220022 \n",
      "       TPR        FPR \n",
      "0.51648352 0.00220022 \n",
      "       TPR        FPR \n",
      "0.51648352 0.00220022 \n",
      "       TPR        FPR \n",
      "0.51648352 0.00220022 \n",
      "      TPR       FPR \n",
      "0.3736264 0.0000000 \n",
      "      TPR       FPR \n",
      "0.3736264 0.0000000 \n",
      "      TPR       FPR \n",
      "0.3736264 0.0000000 \n",
      "      TPR       FPR \n",
      "0.3736264 0.0000000 \n",
      "      TPR       FPR \n",
      "0.3736264 0.0000000 \n",
      "      TPR       FPR \n",
      "0.3736264 0.0000000 \n",
      "      TPR       FPR \n",
      "0.3736264 0.0000000 \n",
      "      TPR       FPR \n",
      "0.3736264 0.0000000 \n",
      "      TPR       FPR \n",
      "0.3736264 0.0000000 \n",
      "      TPR       FPR \n",
      "0.3736264 0.0000000 \n",
      "      TPR       FPR \n",
      "0.3736264 0.0000000 \n",
      "      TPR       FPR \n",
      "0.2527473 0.0000000 \n",
      "      TPR       FPR \n",
      "0.2527473 0.0000000 \n",
      "      TPR       FPR \n",
      "0.2527473 0.0000000 \n",
      "      TPR       FPR \n",
      "0.2527473 0.0000000 \n",
      "      TPR       FPR \n",
      "0.2527473 0.0000000 \n",
      "      TPR       FPR \n",
      "0.2527473 0.0000000 \n",
      "      TPR       FPR \n",
      "0.2527473 0.0000000 \n",
      "      TPR       FPR \n",
      "0.2527473 0.0000000 \n",
      "      TPR       FPR \n",
      "0.2527473 0.0000000 \n",
      "      TPR       FPR \n",
      "0.2527473 0.0000000 \n",
      "      TPR       FPR \n",
      "0.1428571 0.0000000 \n",
      "      TPR       FPR \n",
      "0.1428571 0.0000000 \n",
      "      TPR       FPR \n",
      "0.1428571 0.0000000 \n",
      "      TPR       FPR \n",
      "0.1428571 0.0000000 \n",
      "      TPR       FPR \n",
      "0.1428571 0.0000000 \n",
      "      TPR       FPR \n",
      "0.1428571 0.0000000 \n",
      "      TPR       FPR \n",
      "0.1428571 0.0000000 \n",
      "      TPR       FPR \n",
      "0.1428571 0.0000000 \n",
      "      TPR       FPR \n",
      "0.1428571 0.0000000 \n",
      "      TPR       FPR \n",
      "0.1428571 0.0000000 \n"
     ]
    }
   ],
   "source": [
    "for (umbral in seq(0,1, by = 0.01)){\n",
    "print(c(TPR = mean(knn.prob[which(data.test[, 1] == 8), 9] >= umbral ),\n",
    "       FPR = mean(knn.prob[which(data.test[, 1] != 8), 9] >= umbral )))\n",
    "}"
   ]
  },
  {
   "cell_type": "code",
   "execution_count": 16,
   "metadata": {
    "scrolled": false
   },
   "outputs": [
    {
     "data": {
      "image/png": "[encoded data removed]",
      "text/plain": [
       "Plot with title “AUC for 8: 0.956”"
      ]
     },
     "metadata": {},
     "output_type": "display_data"
    }
   ],
   "source": [
    "digit <- 8\n",
    "auc = roc.area(data.test$label == digit, knn.prob[, digit + 1])$A\n",
    "roc.plot(data.test$label == digit, knn.prob[, digit + 1], \n",
    "         main = paste0(\"AUC for \" , digit , \": \", round(auc, 3)))"
   ]
  },
  {
   "cell_type": "markdown",
   "metadata": {},
   "source": [
    "Por último, nos planteamos la pregunta *¿Cuántos vecinos deberíamos coger?* Recordemos que cuanto más bajo el número de vecinos mayor probabilidad de sobreajuste, pero si éste es muy alto el modelo va a tender a perder capacidad predictiva.\n",
    "\n",
    "**Ejercicio 5** Compruébalo. "
   ]
  },
  {
   "cell_type": "code",
   "execution_count": 17,
   "metadata": {},
   "outputs": [
    {
     "data": {
      "text/html": [
       "<dl class=dl-horizontal>\n",
       "\t<dt>1</dt>\n",
       "\t\t<dd>0.874</dd>\n",
       "\t<dt>2</dt>\n",
       "\t\t<dd>0.86</dd>\n",
       "\t<dt>3</dt>\n",
       "\t\t<dd>0.874</dd>\n",
       "\t<dt>4</dt>\n",
       "\t\t<dd>0.865</dd>\n",
       "\t<dt>5</dt>\n",
       "\t\t<dd>0.873</dd>\n",
       "\t<dt>10</dt>\n",
       "\t\t<dd>0.852</dd>\n",
       "\t<dt>15</dt>\n",
       "\t\t<dd>0.843</dd>\n",
       "\t<dt>20</dt>\n",
       "\t\t<dd>0.82</dd>\n",
       "\t<dt>50</dt>\n",
       "\t\t<dd>0.739</dd>\n",
       "\t<dt>100</dt>\n",
       "\t\t<dd>0.686</dd>\n",
       "</dl>\n"
      ],
      "text/latex": [
       "\\begin{description*}\n",
       "\\item[1] 0.874\n",
       "\\item[2] 0.86\n",
       "\\item[3] 0.874\n",
       "\\item[4] 0.865\n",
       "\\item[5] 0.873\n",
       "\\item[10] 0.852\n",
       "\\item[15] 0.843\n",
       "\\item[20] 0.82\n",
       "\\item[50] 0.739\n",
       "\\item[100] 0.686\n",
       "\\end{description*}\n"
      ],
      "text/markdown": [
       "1\n",
       ":   0.8742\n",
       ":   0.863\n",
       ":   0.8744\n",
       ":   0.8655\n",
       ":   0.87310\n",
       ":   0.85215\n",
       ":   0.84320\n",
       ":   0.8250\n",
       ":   0.739100\n",
       ":   0.686\n",
       "\n"
      ],
      "text/plain": [
       "    1     2     3     4     5    10    15    20    50   100 \n",
       "0.874 0.860 0.874 0.865 0.873 0.852 0.843 0.820 0.739 0.686 "
      ]
     },
     "metadata": {},
     "output_type": "display_data"
    }
   ],
   "source": [
    "ks <- c(1,2, 3,4, 5, 10, 15, 20, 50, 100)\n",
    "accuracy.knn <- rep(NA, length(ks))\n",
    "names(accuracy.knn) <- ks\n",
    "# continuar aquí\n",
    "for (k in ks){   \n",
    "    obs <- data.test[ , 1]\n",
    "    pred <- knn(train = data.train[, -1], test = data.test[, -1],\n",
    "                cl = data.train[, \"label\"], k = k)\n",
    "    accuracy.knn[as.character(k)] <- sum(diag(table(obs, pred)))/sum(table(obs, pred))            \n",
    "}\n",
    "accuracy.knn"
   ]
  },
  {
   "cell_type": "markdown",
   "metadata": {},
   "source": [
    "El modelo con mayor accuracy es el de 3 vecinos cercnos, aunque no parece haber mucho sobreajuste con menos vecinos. A partir de ahí, el modelo empieza a perder capacidad de predicción y pierde accuracy."
   ]
  },
  {
   "cell_type": "markdown",
   "metadata": {},
   "source": [
    "### Aplicación de la técnica k-NN para regresión \n",
    "Como ya se explicó en la sesión de teoría, en el *downscaling* estadístico se trata de predecir variables meteorológicas de escala local (por ejemplo la precipitación y/o temperatura observada en un punto determinado) a partir de variables de larga escala dadas por un modelo númerico cuya resolución espacial es mucho menor (por ejemplo la presión, los vientos, la humedad específica...).\n",
    "\n",
    "En este ejemplo utilizaremos la técnica k-NN para intentar predecir la lluvia diaria observada en Lisboa (predictando) a partir de un conjunto de predictores (variables de larga escala). \n",
    "\n",
    "En primer lugar cargamos el dataset `df`, directamente guardado en el archivo *df.rda*, `un dataset` con 2000 filas y 321 columnas (compruébalo). La primera columna será nuestra variable obejtivo (precipitación en Lisboa), y las 320 restantes nuestros predictores (variables atmosféricas de larga escala). La variable objetivo tiene de nombre `precip`."
   ]
  },
  {
   "cell_type": "code",
   "execution_count": 18,
   "metadata": {},
   "outputs": [
    {
     "data": {
      "text/html": [
       "<table>\n",
       "<caption>A data.frame: 6 × 321</caption>\n",
       "<thead>\n",
       "\t<tr><th scope=col>precip</th><th scope=col>X1</th><th scope=col>X2</th><th scope=col>X3</th><th scope=col>X4</th><th scope=col>X5</th><th scope=col>X6</th><th scope=col>X7</th><th scope=col>X8</th><th scope=col>X9</th><th scope=col>⋯</th><th scope=col>X311</th><th scope=col>X312</th><th scope=col>X313</th><th scope=col>X314</th><th scope=col>X315</th><th scope=col>X316</th><th scope=col>X317</th><th scope=col>X318</th><th scope=col>X319</th><th scope=col>X320</th></tr>\n",
       "\t<tr><th scope=col>&lt;dbl&gt;</th><th scope=col>&lt;dbl&gt;</th><th scope=col>&lt;dbl&gt;</th><th scope=col>&lt;dbl&gt;</th><th scope=col>&lt;dbl&gt;</th><th scope=col>&lt;dbl&gt;</th><th scope=col>&lt;dbl&gt;</th><th scope=col>&lt;dbl&gt;</th><th scope=col>&lt;dbl&gt;</th><th scope=col>&lt;dbl&gt;</th><th scope=col>⋯</th><th scope=col>&lt;dbl&gt;</th><th scope=col>&lt;dbl&gt;</th><th scope=col>&lt;dbl&gt;</th><th scope=col>&lt;dbl&gt;</th><th scope=col>&lt;dbl&gt;</th><th scope=col>&lt;dbl&gt;</th><th scope=col>&lt;dbl&gt;</th><th scope=col>&lt;dbl&gt;</th><th scope=col>&lt;dbl&gt;</th><th scope=col>&lt;dbl&gt;</th></tr>\n",
       "</thead>\n",
       "<tbody>\n",
       "\t<tr><td>10.9</td><td>57042.96</td><td>56534.84</td><td>55884.40</td><td>55175.59</td><td>54458.21</td><td>56980.27</td><td>56460.59</td><td>55800.02</td><td>55051.15</td><td>⋯</td><td>101985.9</td><td>101627.3</td><td>101357.2</td><td>101110.7</td><td>101291.0</td><td>101814.9</td><td>101479.4</td><td>101164.5</td><td>100970.7</td><td>100905.3</td></tr>\n",
       "\t<tr><td> 0.6</td><td>56963.20</td><td>56493.45</td><td>55930.82</td><td>55340.20</td><td>54768.63</td><td>56856.57</td><td>56361.95</td><td>55776.76</td><td>55164.26</td><td>⋯</td><td>102048.1</td><td>102069.7</td><td>102204.5</td><td>102480.3</td><td>102858.8</td><td>101973.3</td><td>102033.3</td><td>102165.5</td><td>102323.9</td><td>102534.2</td></tr>\n",
       "\t<tr><td>13.0</td><td>56522.59</td><td>55971.40</td><td>55304.34</td><td>54498.03</td><td>53725.15</td><td>56514.84</td><td>55977.71</td><td>55327.28</td><td>54569.78</td><td>⋯</td><td>102399.1</td><td>102448.4</td><td>102438.3</td><td>102434.3</td><td>102339.8</td><td>102669.7</td><td>102565.5</td><td>102530.3</td><td>102453.6</td><td>102487.1</td></tr>\n",
       "\t<tr><td> 0.0</td><td>54627.98</td><td>53979.80</td><td>53494.05</td><td>53072.98</td><td>52616.36</td><td>54776.17</td><td>54089.05</td><td>53516.98</td><td>53012.86</td><td>⋯</td><td>100970.0</td><td>100672.8</td><td>100360.7</td><td>100133.7</td><td>100028.4</td><td>101126.2</td><td>100700.0</td><td>100381.3</td><td>100118.3</td><td>100319.8</td></tr>\n",
       "\t<tr><td> 0.0</td><td>53584.38</td><td>53391.01</td><td>53310.38</td><td>53292.82</td><td>53340.13</td><td>53781.70</td><td>53498.13</td><td>53306.82</td><td>53213.26</td><td>⋯</td><td>100652.7</td><td>100663.5</td><td>100747.7</td><td>100934.0</td><td>101015.8</td><td>100801.6</td><td>100685.3</td><td>100777.5</td><td>100909.4</td><td>101164.7</td></tr>\n",
       "\t<tr><td> 1.2</td><td>54221.86</td><td>54220.24</td><td>54328.55</td><td>54772.49</td><td>55251.11</td><td>54391.11</td><td>54345.93</td><td>54284.05</td><td>54525.99</td><td>⋯</td><td>101358.6</td><td>101511.5</td><td>101798.9</td><td>102142.2</td><td>102368.5</td><td>101438.7</td><td>101440.9</td><td>101685.3</td><td>102030.7</td><td>102311.9</td></tr>\n",
       "</tbody>\n",
       "</table>\n"
      ],
      "text/latex": [
       "A data.frame: 6 × 321\n",
       "\\begin{tabular}{r|lllllllllllllllllllllllllllllllllllllllllllllllllllllllllllllllllllllllllllllllllllllllllllllllllllllllllllllllllllllllllllllllllllllllllllllllllllllllllllllllllllllllllllllllllllllllllllllllllllllllllllllllllllllllllllllllllllllllllllllllllllllllllllllllllllllllllllllllllllllllllllllllllllllllllllllllllllllllllllllllll}\n",
       " precip & X1 & X2 & X3 & X4 & X5 & X6 & X7 & X8 & X9 & X10 & X11 & X12 & X13 & X14 & X15 & X16 & X17 & X18 & X19 & X20 & X21 & X22 & X23 & X24 & X25 & X26 & X27 & X28 & X29 & X30 & X31 & X32 & X33 & X34 & X35 & X36 & X37 & X38 & X39 & X40 & X41 & X42 & X43 & X44 & X45 & X46 & X47 & X48 & X49 & X50 & X51 & X52 & X53 & X54 & X55 & X56 & X57 & X58 & X59 & X60 & X61 & X62 & X63 & X64 & X65 & X66 & X67 & X68 & X69 & X70 & X71 & X72 & X73 & X74 & X75 & X76 & X77 & X78 & X79 & X80 & X81 & X82 & X83 & X84 & X85 & X86 & X87 & X88 & X89 & X90 & X91 & X92 & X93 & X94 & X95 & X96 & X97 & X98 & X99 & X100 & X101 & X102 & X103 & X104 & X105 & X106 & X107 & X108 & X109 & X110 & X111 & X112 & X113 & X114 & X115 & X116 & X117 & X118 & X119 & X120 & X121 & X122 & X123 & X124 & X125 & X126 & X127 & X128 & X129 & X130 & X131 & X132 & X133 & X134 & X135 & X136 & X137 & X138 & X139 & X140 & X141 & X142 & X143 & X144 & X145 & X146 & X147 & X148 & X149 & X150 & X151 & X152 & X153 & X154 & X155 & X156 & X157 & X158 & X159 & X160 & X161 & X162 & X163 & X164 & X165 & X166 & X167 & X168 & X169 & X170 & X171 & X172 & X173 & X174 & X175 & X176 & X177 & X178 & X179 & X180 & X181 & X182 & X183 & X184 & X185 & X186 & X187 & X188 & X189 & X190 & X191 & X192 & X193 & X194 & X195 & X196 & X197 & X198 & X199 & X200 & X201 & X202 & X203 & X204 & X205 & X206 & X207 & X208 & X209 & X210 & X211 & X212 & X213 & X214 & X215 & X216 & X217 & X218 & X219 & X220 & X221 & X222 & X223 & X224 & X225 & X226 & X227 & X228 & X229 & X230 & X231 & X232 & X233 & X234 & X235 & X236 & X237 & X238 & X239 & X240 & X241 & X242 & X243 & X244 & X245 & X246 & X247 & X248 & X249 & X250 & X251 & X252 & X253 & X254 & X255 & X256 & X257 & X258 & X259 & X260 & X261 & X262 & X263 & X264 & X265 & X266 & X267 & X268 & X269 & X270 & X271 & X272 & X273 & X274 & X275 & X276 & X277 & X278 & X279 & X280 & X281 & X282 & X283 & X284 & X285 & X286 & X287 & X288 & X289 & X290 & X291 & X292 & X293 & X294 & X295 & X296 & X297 & X298 & X299 & X300 & X301 & X302 & X303 & X304 & X305 & X306 & X307 & X308 & X309 & X310 & X311 & X312 & X313 & X314 & X315 & X316 & X317 & X318 & X319 & X320\\\\\n",
       " <dbl> & <dbl> & <dbl> & <dbl> & <dbl> & <dbl> & <dbl> & <dbl> & <dbl> & <dbl> & <dbl> & <dbl> & <dbl> & <dbl> & <dbl> & <dbl> & <dbl> & <dbl> & <dbl> & <dbl> & <dbl> & <dbl> & <dbl> & <dbl> & <dbl> & <dbl> & <dbl> & <dbl> & <dbl> & <dbl> & <dbl> & <dbl> & <dbl> & <dbl> & <dbl> & <dbl> & <dbl> & <dbl> & <dbl> & <dbl> & <dbl> & <dbl> & <dbl> & <dbl> & <dbl> & <dbl> & <dbl> & <dbl> & <dbl> & <dbl> & <dbl> & <dbl> & <dbl> & <dbl> & <dbl> & <dbl> & <dbl> & <dbl> & <dbl> & <dbl> & <dbl> & <dbl> & <dbl> & <dbl> & <dbl> & <dbl> & <dbl> & <dbl> & <dbl> & <dbl> & <dbl> & <dbl> & <dbl> & <dbl> & <dbl> & <dbl> & <dbl> & <dbl> & <dbl> & <dbl> & <dbl> & <dbl> & <dbl> & <dbl> & <dbl> & <dbl> & <dbl> & <dbl> & <dbl> & <dbl> & <dbl> & <dbl> & <dbl> & <dbl> & <dbl> & <dbl> & <dbl> & <dbl> & <dbl> & <dbl> & <dbl> & <dbl> & <dbl> & <dbl> & <dbl> & <dbl> & <dbl> & <dbl> & <dbl> & <dbl> & <dbl> & <dbl> & <dbl> & <dbl> & <dbl> & <dbl> & <dbl> & <dbl> & <dbl> & <dbl> & <dbl> & <dbl> & <dbl> & <dbl> & <dbl> & <dbl> & <dbl> & <dbl> & <dbl> & <dbl> & <dbl> & <dbl> & <dbl> & <dbl> & <dbl> & <dbl> & <dbl> & <dbl> & <dbl> & <dbl> & <dbl> & <dbl> & <dbl> & <dbl> & <dbl> & <dbl> & <dbl> & <dbl> & <dbl> & <dbl> & <dbl> & <dbl> & <dbl> & <dbl> & <dbl> & <dbl> & <dbl> & <dbl> & <dbl> & <dbl> & <dbl> & <dbl> & <dbl> & <dbl> & <dbl> & <dbl> & <dbl> & <dbl> & <dbl> & <dbl> & <dbl> & <dbl> & <dbl> & <dbl> & <dbl> & <dbl> & <dbl> & <dbl> & <dbl> & <dbl> & <dbl> & <dbl> & <dbl> & <dbl> & <dbl> & <dbl> & <dbl> & <dbl> & <dbl> & <dbl> & <dbl> & <dbl> & <dbl> & <dbl> & <dbl> & <dbl> & <dbl> & <dbl> & <dbl> & <dbl> & <dbl> & <dbl> & <dbl> & <dbl> & <dbl> & <dbl> & <dbl> & <dbl> & <dbl> & <dbl> & <dbl> & <dbl> & <dbl> & <dbl> & <dbl> & <dbl> & <dbl> & <dbl> & <dbl> & <dbl> & <dbl> & <dbl> & <dbl> & <dbl> & <dbl> & <dbl> & <dbl> & <dbl> & <dbl> & <dbl> & <dbl> & <dbl> & <dbl> & <dbl> & <dbl> & <dbl> & <dbl> & <dbl> & <dbl> & <dbl> & <dbl> & <dbl> & <dbl> & <dbl> & <dbl> & <dbl> & <dbl> & <dbl> & <dbl> & <dbl> & <dbl> & <dbl> & <dbl> & <dbl> & <dbl> & <dbl> & <dbl> & <dbl> & <dbl> & <dbl> & <dbl> & <dbl> & <dbl> & <dbl> & <dbl> & <dbl> & <dbl> & <dbl> & <dbl> & <dbl> & <dbl> & <dbl> & <dbl> & <dbl> & <dbl> & <dbl> & <dbl> & <dbl> & <dbl> & <dbl> & <dbl> & <dbl> & <dbl> & <dbl> & <dbl> & <dbl> & <dbl> & <dbl> & <dbl> & <dbl> & <dbl> & <dbl> & <dbl> & <dbl> & <dbl> & <dbl> & <dbl> & <dbl> & <dbl> & <dbl> & <dbl> & <dbl> & <dbl> & <dbl> & <dbl> & <dbl> & <dbl> & <dbl> & <dbl> & <dbl> & <dbl> & <dbl> & <dbl> & <dbl> & <dbl> & <dbl> & <dbl> & <dbl> & <dbl> & <dbl> & <dbl>\\\\\n",
       "\\hline\n",
       "\t 10.9 & 57042.96 & 56534.84 & 55884.40 & 55175.59 & 54458.21 & 56980.27 & 56460.59 & 55800.02 & 55051.15 & 54318.77 & 56900.40 & 56367.71 & 55720.52 & 54946.40 & 54145.02 & 56815.96 & 56257.09 & 55559.27 & 54787.90 & 53972.59 & 56716.52 & 56191.27 & 55436.09 & 54554.59 & 53771.21 & 56569.27 & 56045.40 & 55330.65 & 54340.09 & 53472.46 & 56460.09 & 55839.59 & 55119.59 & 54200.59 & 53217.46 & 56366.09 & 55708.40 & 54885.65 & 54003.09 & 53028.65 & 282.5302 & 281.1927 & 277.9061 & 275.5428 & 274.7968 & 282.3129 & 280.5590 & 276.8802 & 275.0116 & 274.3578 & 281.8256 & 279.5189 & 276.3260 & 274.7626 & 273.3397 & 282.1727 & 277.9130 & 275.4774 & 274.7684 & 272.3383 & 283.4398 & 278.7157 & 275.9384 & 274.5526 & 271.2167 & 282.7455 & 280.7806 & 277.3065 & 274.2426 & 270.0160 & 280.9852 & 280.9843 & 277.7255 & 274.8744 & 269.6537 & 280.6698 & 280.6161 & 278.3632 & 275.2635 & 269.2504 & 276.8645 & 274.3875 & 271.6104 & 268.4087 & 265.9985 & 276.5938 & 274.0100 & 271.1978 & 267.4697 & 265.2917 & 276.2798 & 273.6204 & 271.2810 & 267.3564 & 264.5352 & 276.2327 & 273.6677 & 270.4583 & 266.7500 & 264.3074 & 276.0708 & 274.5356 & 270.9292 & 265.9827 & 263.8108 & 275.2356 & 273.5369 & 271.3340 & 265.9407 & 262.3015 & 275.3762 & 272.4160 & 270.2883 & 266.7808 & 262.0530 & 275.7944 & 272.7102 & 269.6030 & 266.9507 & 262.8088 & 261.0058 & 259.3998 & 257.4089 & 254.5566 & 250.3369 & 261.1135 & 259.3127 & 257.5292 & 254.3022 & 249.7617 & 261.1677 & 259.1611 & 257.3061 & 254.0812 & 248.8984 & 261.1357 & 259.3315 & 256.6940 & 253.4128 & 248.2162 & 260.3412 & 259.5700 & 257.0175 & 252.4728 & 247.2914 & 259.6186 & 258.5795 & 257.1371 & 251.9990 & 246.2072 & 260.1352 & 257.8508 & 256.2592 & 251.8598 & 245.6838 & 259.9724 & 258.1003 & 255.2590 & 250.9797 & 245.6393 & 290.7835 & 289.5565 & 287.8314 & 287.2303 & 286.3021 & 290.5018 & 286.4886 & 283.9901 & 281.9861 & 284.7830 & 289.6917 & 284.7889 & 281.8016 & 280.2903 & 283.5906 & 289.5574 & 283.3895 & 281.9251 & 279.6585 & 282.8299 & 289.9754 & 284.1683 & 280.8509 & 280.8406 & 281.3651 & 289.2664 & 289.3616 & 286.3006 & 280.1800 & 278.6605 & 286.7977 & 289.8411 & 288.6009 & 279.4481 & 277.1590 & 286.4188 & 289.8992 & 288.1219 & 285.2000 & 277.4315 & 0.005835247 & 0.005111408 & 0.005081487 & 0.004488301 & 0.004069281 & 0.005998445 & 0.004847121 & 0.005115700 & 0.004848075 & 0.004399491 & 0.005982232 & 0.004251671 & 0.004952741 & 0.004878116 & 0.004491282 & 0.005541635 & 0.004397941 & 0.005048824 & 0.004773689 & 0.004083586 & 0.004887057 & 0.004448009 & 0.005072189 & 0.004629207 & 0.0036985402 & 0.004288387 & 0.003649307 & 0.003923011 & 0.004178834 & 0.0030625586 & 0.005362702 & 0.002812934 & 0.003864360 & 0.003740502 & 0.0028163914 & 0.006219340 & 0.003456665 & 0.003626538 & 0.0031394486 & 0.0028613333 & 0.0003166791 & 0.0008367594 & 1.611173e-03 & 0.0009842808 & 0.0005761381 & 0.0004162784 & 0.0008929666 & 0.0015165503 & 0.0009154673 & 0.0005651708 & 0.0005068477 & 0.0010226364 & 0.0013739462 & 8.975561e-04 & 0.0005133148 & 0.0005312260 & 0.0011460478 & 0.0013385410 & 0.0008369978 & 0.0004463490 & 0.0006921287 & 0.0011160071 & 0.0012054141 & 0.0007022019 & 0.0003940757 & 0.0009565647 & 0.001370132 & 0.0010201926 & 0.0006157752 & 0.0003739293 & 0.0009587403 & 0.0012694593 & 0.0010249908 & 0.0005142983 & 0.0003292855 & 0.0009414848 & 0.0010937150 & 0.0009121593 & 0.0003872212 & 0.0002408023 & 102399.7 & 102205.5 & 102029.5 & 101889.4 & 101630.11 & 102396.5 & 102248.2 & 102097.7 & 101951.2 & 101637.30 & 102389.6 & 102281.3 & 102106.3 & 101851.9 & 101647.36 & 102263.1 & 102262.8 & 102006.4 & 101771.5 & 101608.23 & 102115.7 & 101932.0 & 101838.5 & 101599.4 & 101552.05 & 102070.0 & 101775.2 & 101444.4 & 101442.7 & 101491.42 & 101985.9 & 101627.3 & 101357.2 & 101110.7 & 101291.0 & 101814.9 & 101479.4 & 101164.5 & 100970.7 & 100905.3\\\\\n",
       "\t  0.6 & 56963.20 & 56493.45 & 55930.82 & 55340.20 & 54768.63 & 56856.57 & 56361.95 & 55776.76 & 55164.26 & 54585.32 & 56723.88 & 56187.01 & 55587.38 & 54947.07 & 54367.01 & 56568.07 & 55986.88 & 55359.51 & 54690.01 & 54125.01 & 56377.57 & 55768.51 & 55093.95 & 54384.38 & 53842.82 & 56148.88 & 55519.57 & 54806.20 & 54073.70 & 53527.32 & 55912.38 & 55205.76 & 54438.57 & 53729.32 & 53129.01 & 55679.57 & 54900.20 & 54069.01 & 53358.57 & 52674.01 & 283.8016 & 281.7635 & 279.0316 & 276.8904 & 275.7620 & 283.2259 & 281.3250 & 278.3245 & 275.7806 & 274.3133 & 281.3231 & 280.1678 & 277.4354 & 274.4505 & 272.3323 & 280.6395 & 278.8616 & 275.6937 & 272.7508 & 270.0648 & 280.7781 & 278.0325 & 274.4617 & 271.2254 & 267.9549 & 280.1502 & 276.7689 & 273.6194 & 269.5872 & 265.6409 & 278.7171 & 275.3655 & 272.1185 & 267.5272 & 263.2186 & 277.2684 & 274.4056 & 270.5110 & 266.3724 & 261.4608 & 276.1866 & 274.1951 & 271.1788 & 267.4166 & 265.1563 & 275.5142 & 273.4525 & 270.3565 & 266.7571 & 264.4114 & 275.0784 & 272.5523 & 269.4605 & 265.6277 & 263.1487 & 274.7537 & 271.8094 & 268.3870 & 264.1807 & 261.5709 & 273.7191 & 270.5233 & 266.6517 & 262.7750 & 259.4705 & 272.2923 & 269.3160 & 265.3963 & 261.5377 & 257.2410 & 271.3848 & 268.2000 & 263.9605 & 259.7772 & 255.6358 & 271.0347 & 267.2010 & 262.6519 & 258.8111 & 255.0660 & 260.4398 & 258.8135 & 256.4612 & 253.6637 & 249.4537 & 260.3563 & 258.5367 & 256.2090 & 252.8985 & 248.0611 & 260.1922 & 258.2217 & 255.6925 & 251.9249 & 246.4840 & 259.9158 & 257.7703 & 254.7557 & 250.3043 & 244.6756 & 259.3265 & 257.1409 & 253.3731 & 248.0225 & 243.2830 & 258.6251 & 256.0428 & 251.6812 & 245.8648 & 242.4298 & 258.2974 & 254.4818 & 249.6165 & 244.2298 & 241.6187 & 258.0552 & 252.7391 & 247.5282 & 243.2694 & 240.8712 & 290.2500 & 288.8427 & 287.2612 & 286.7109 & 285.8266 & 290.7212 & 288.0005 & 282.5439 & 281.6303 & 284.2895 & 290.2597 & 287.0830 & 280.6733 & 278.9380 & 282.2705 & 290.2080 & 285.1181 & 280.8022 & 277.7373 & 279.7138 & 290.4277 & 284.3711 & 279.5449 & 276.5366 & 276.1435 & 288.8247 & 286.9746 & 281.4306 & 273.3032 & 271.4096 & 284.2173 & 286.2417 & 282.4341 & 271.3701 & 268.9106 & 282.4155 & 285.2939 & 280.4936 & 276.9458 & 269.0932 & 0.005379152 & 0.004150462 & 0.003633809 & 0.003507090 & 0.002825689 & 0.005461049 & 0.004191231 & 0.003737163 & 0.003763747 & 0.003626060 & 0.006075453 & 0.005151343 & 0.004242849 & 0.004329276 & 0.003556085 & 0.006127548 & 0.006114435 & 0.004544687 & 0.004151892 & 0.002355647 & 0.006534290 & 0.005979252 & 0.004585695 & 0.002929521 & 0.0009303808 & 0.006593775 & 0.005265426 & 0.003867698 & 0.001648021 & 0.0006855249 & 0.005940270 & 0.004844498 & 0.003152442 & 0.001157474 & 0.0007596731 & 0.005562615 & 0.004043054 & 0.002228928 & 0.0006958961 & 0.0008545637 & 0.0002503659 & 0.0005466308 & 1.224157e-03 & 0.0011017288 & 0.0006866421 & 0.0002621974 & 0.0006653334 & 0.0011651779 & 0.0009278621 & 0.0004515614 & 0.0003156628 & 0.0007987286 & 0.0010501111 & 7.197525e-04 & 0.0002944733 & 0.0003832246 & 0.0009028877 & 0.0009027983 & 0.0004724826 & 0.0002355243 & 0.0005113150 & 0.0009801949 & 0.0007746781 & 0.0003228153 & 0.0002512003 & 0.0006573166 & 0.001044866 & 0.0006446208 & 0.0002635385 & 0.0002610053 & 0.0007334615 & 0.0009331371 & 0.0005242790 & 0.0002617206 & 0.0001969005 & 0.0007027949 & 0.0008116032 & 0.0004371072 & 0.0002185072 & 0.0001027848 & 102409.2 & 102294.7 & 102262.7 & 102250.1 & 102157.66 & 102375.7 & 102255.0 & 102270.3 & 102307.5 & 102222.22 & 102358.9 & 102207.3 & 102304.8 & 102337.1 & 102366.47 & 102239.2 & 102184.5 & 102274.2 & 102384.1 & 102581.66 & 102140.4 & 102119.2 & 102246.0 & 102490.5 & 102765.78 & 102092.7 & 102089.2 & 102200.2 & 102501.4 & 102937.78 & 102048.1 & 102069.7 & 102204.5 & 102480.3 & 102858.8 & 101973.3 & 102033.3 & 102165.5 & 102323.9 & 102534.2\\\\\n",
       "\t 13.0 & 56522.59 & 55971.40 & 55304.34 & 54498.03 & 53725.15 & 56514.84 & 55977.71 & 55327.28 & 54569.78 & 53863.46 & 56466.90 & 55965.09 & 55360.15 & 54645.71 & 53998.53 & 56400.90 & 55901.90 & 55338.71 & 54719.90 & 54110.15 & 56317.90 & 55827.21 & 55258.46 & 54695.46 & 54135.46 & 56179.09 & 55700.65 & 55119.65 & 54545.03 & 54045.84 & 55999.40 & 55483.40 & 54892.34 & 54327.03 & 53857.09 & 55801.21 & 55218.09 & 54602.21 & 54067.03 & 53594.09 & 283.8941 & 281.2427 & 279.2774 & 278.1075 & 276.6006 & 283.2798 & 280.2144 & 278.4453 & 277.2652 & 276.1685 & 281.7266 & 279.0982 & 277.2036 & 275.6143 & 275.7383 & 280.2632 & 277.3819 & 275.9825 & 274.7168 & 274.8535 & 279.8633 & 275.5616 & 274.1568 & 273.5938 & 273.2998 & 279.6768 & 275.1275 & 272.7163 & 271.4097 & 271.3726 & 277.6870 & 274.2051 & 271.5645 & 269.6719 & 269.3618 & 274.2744 & 272.4541 & 270.3599 & 269.3169 & 267.3941 & 276.1631 & 273.5019 & 270.9768 & 268.8930 & 268.0205 & 276.0178 & 273.4282 & 270.7146 & 268.3027 & 267.5324 & 275.5559 & 273.0007 & 270.7158 & 268.4072 & 267.1704 & 275.0693 & 272.4724 & 270.1626 & 268.2946 & 266.6111 & 274.4450 & 271.7944 & 268.9013 & 267.2085 & 265.3611 & 273.0398 & 270.2754 & 267.2153 & 265.2966 & 263.4787 & 270.9443 & 268.1692 & 265.1054 & 262.6594 & 261.1919 & 269.2556 & 266.0976 & 262.9272 & 260.7112 & 259.5349 & 258.8370 & 257.4664 & 256.0552 & 253.8445 & 251.8658 & 258.8104 & 257.4014 & 256.0557 & 254.3262 & 252.3294 & 258.6795 & 257.3587 & 256.1458 & 254.7874 & 252.4857 & 258.5228 & 257.2371 & 256.0792 & 254.7147 & 252.3101 & 258.2249 & 257.1480 & 255.8777 & 254.0316 & 251.8553 & 257.9498 & 256.7000 & 254.8482 & 252.6827 & 250.5443 & 257.7444 & 255.9075 & 253.5125 & 250.9161 & 248.3504 & 257.6031 & 254.9891 & 251.9617 & 248.7672 & 246.1114 & 290.3589 & 289.3428 & 288.3799 & 287.4277 & 286.1494 & 290.4751 & 287.0767 & 284.0352 & 282.3315 & 285.2529 & 289.0317 & 285.4106 & 281.6279 & 279.2607 & 284.5444 & 288.9980 & 283.2207 & 280.8701 & 277.3896 & 283.1001 & 288.6206 & 281.6499 & 277.7681 & 275.6387 & 279.8276 & 287.5366 & 285.3340 & 278.8066 & 271.6138 & 272.4546 & 280.7388 & 284.9424 & 282.4751 & 270.4648 & 269.8403 & 277.4736 & 283.8164 & 281.2271 & 278.6865 & 270.2935 & 0.003935347 & 0.005663524 & 0.005266080 & 0.004931937 & 0.004570613 & 0.004590879 & 0.005434046 & 0.004995952 & 0.005029330 & 0.004510174 & 0.005165825 & 0.004911075 & 0.005002032 & 0.004596362 & 0.004056702 & 0.005714545 & 0.005428324 & 0.005221853 & 0.004510174 & 0.003463994 & 0.005588541 & 0.004864702 & 0.004734764 & 0.003896246 & 0.0028427939 & 0.005103479 & 0.004276285 & 0.004026780 & 0.002708922 & 0.0020893912 & 0.004453073 & 0.002328048 & 0.002102743 & 0.001937876 & 0.0013922552 & 0.002838860 & 0.001598487 & 0.001193414 & 0.0014208654 & 0.0010784963 & 0.0005498974 & 0.0011440663 & 1.442775e-03 & 0.0010895281 & 0.0009958892 & 0.0005881934 & 0.0012881308 & 0.0014049559 & 0.0012233703 & 0.0011457651 & 0.0007185487 & 0.0012354105 & 0.0014156549 & 1.394853e-03 & 0.0011191516 & 0.0008389501 & 0.0011031776 & 0.0014450996 & 0.0014103203 & 0.0010289698 & 0.0009897201 & 0.0011637657 & 0.0013744085 & 0.0012311189 & 0.0009750275 & 0.0009802132 & 0.001199767 & 0.0012224762 & 0.0010534077 & 0.0007527916 & 0.0009293405 & 0.0011097043 & 0.0010372250 & 0.0008002667 & 0.0006021110 & 0.0009927003 & 0.0010000019 & 0.0008045284 & 0.0005836038 & 0.0003609209 & 102034.3 & 101779.7 & 101410.7 & 100907.6 & 100296.72 & 102060.0 & 101882.7 & 101611.3 & 101128.8 & 100516.84 & 102124.0 & 101999.3 & 101760.4 & 101360.8 & 100761.91 & 102174.6 & 102121.3 & 101898.7 & 101570.8 & 101107.28 & 102201.8 & 102303.6 & 102146.4 & 101841.0 & 101525.97 & 102208.1 & 102350.7 & 102299.0 & 102258.6 & 101967.72 & 102399.1 & 102448.4 & 102438.3 & 102434.3 & 102339.8 & 102669.7 & 102565.5 & 102530.3 & 102453.6 & 102487.1\\\\\n",
       "\t  0.0 & 54627.98 & 53979.80 & 53494.05 & 53072.98 & 52616.36 & 54776.17 & 54089.05 & 53516.98 & 53012.86 & 52501.42 & 54907.67 & 54205.05 & 53594.42 & 53021.23 & 52450.67 & 55058.80 & 54294.98 & 53656.67 & 53073.98 & 52485.86 & 55217.55 & 54480.30 & 53787.05 & 53144.30 & 52556.17 & 55318.17 & 54622.36 & 53892.48 & 53227.30 & 52668.42 & 55373.17 & 54656.36 & 53930.48 & 53323.23 & 52813.86 & 55400.30 & 54723.67 & 54033.42 & 53418.73 & 52913.30 & 277.0194 & 275.2479 & 274.4666 & 274.1981 & 273.8460 & 277.8685 & 275.2230 & 274.3529 & 273.6781 & 274.1317 & 278.4120 & 275.4276 & 274.1336 & 273.6991 & 274.7372 & 279.1561 & 275.4359 & 273.9076 & 274.3587 & 275.0462 & 280.8695 & 276.9413 & 274.5384 & 275.0047 & 275.2826 & 281.8368 & 279.2274 & 276.3343 & 275.3792 & 275.2801 & 282.1502 & 279.6004 & 277.4334 & 275.5262 & 274.1732 & 281.7079 & 279.9310 & 277.6312 & 275.8499 & 272.4974 & 269.2845 & 266.1647 & 264.3761 & 264.2697 & 264.0275 & 270.3346 & 266.9225 & 264.7445 & 264.2089 & 264.2438 & 271.3419 & 268.0780 & 265.5431 & 264.7252 & 264.8690 & 272.5448 & 268.8861 & 266.0084 & 265.5272 & 265.3807 & 273.6151 & 270.4620 & 267.5995 & 266.1776 & 265.0165 & 274.0150 & 271.2347 & 268.4608 & 266.2863 & 264.5399 & 274.0406 & 271.0848 & 268.3993 & 266.7731 & 264.7557 & 273.8212 & 271.5048 & 269.0970 & 267.4894 & 264.7748 & 254.4709 & 251.3162 & 248.7812 & 246.8381 & 245.7073 & 255.0942 & 252.4724 & 249.7886 & 247.2407 & 246.2434 & 255.6658 & 253.1714 & 250.7424 & 248.3853 & 246.8574 & 256.5273 & 253.9561 & 251.2537 & 248.9314 & 247.1245 & 256.9331 & 255.2712 & 252.4866 & 248.9111 & 246.8508 & 256.8867 & 255.4795 & 253.3262 & 249.6274 & 247.1350 & 256.9929 & 255.0190 & 253.2161 & 250.5693 & 247.8845 & 257.1409 & 255.2158 & 253.5232 & 251.1196 & 248.3174 & 287.6400 & 286.9755 & 286.1410 & 285.4237 & 284.8251 & 287.7987 & 284.0648 & 281.9540 & 280.6933 & 284.4364 & 287.3578 & 283.2416 & 279.9853 & 278.4530 & 284.1147 & 288.2397 & 281.6000 & 280.1513 & 277.5971 & 284.5605 & 289.0746 & 281.7470 & 278.2895 & 279.4535 & 284.3690 & 288.2987 & 287.4867 & 282.7265 & 277.9384 & 279.2992 & 284.4281 & 288.1005 & 286.9008 & 278.1142 & 275.6410 & 283.2714 & 288.4672 & 286.7260 & 284.3656 & 275.0331 & 0.005255845 & 0.003775385 & 0.003209141 & 0.003417757 & 0.003332284 & 0.005727557 & 0.004026917 & 0.003729132 & 0.004351047 & 0.003796724 & 0.006159571 & 0.004586485 & 0.004073647 & 0.004714397 & 0.004119900 & 0.005903629 & 0.004929808 & 0.004334119 & 0.004557160 & 0.004251388 & 0.005268601 & 0.004988459 & 0.004692701 & 0.004197505 & 0.0044197114 & 0.004502085 & 0.004939106 & 0.003803757 & 0.004420904 & 0.0044354470 & 0.004434970 & 0.005377677 & 0.003663448 & 0.004207519 & 0.0042007240 & 0.004374770 & 0.005405811 & 0.004032520 & 0.0040569576 & 0.0040390762 & 0.0013148818 & 0.0006177161 & 3.544722e-04 & 0.0003189478 & 0.0002732906 & 0.0014240775 & 0.0008095834 & 0.0003484223 & 0.0002894435 & 0.0003215406 & 0.0013431642 & 0.0010249052 & 0.0004245672 & 2.354417e-04 & 0.0003195438 & 0.0011388097 & 0.0011951361 & 0.0005531940 & 0.0002187226 & 0.0003127191 & 0.0009570453 & 0.0012675558 & 0.0006815824 & 0.0003229115 & 0.0003542039 & 0.0008466277 & 0.001350496 & 0.0008024607 & 0.0004101429 & 0.0004444156 & 0.0007427964 & 0.0013365779 & 0.0009653303 & 0.0004501376 & 0.0004987154 & 0.0007038150 & 0.0013292168 & 0.0010859404 & 0.0005886886 & 0.0006423626 & 101056.7 & 100891.6 & 100682.6 & 100356.0 &  99925.61 & 101037.0 & 100895.5 & 100674.9 & 100301.7 &  99681.23 & 101044.9 & 100904.5 & 100673.0 & 100185.7 &  99495.23 & 100985.5 & 100921.1 & 100628.7 & 100173.6 &  99425.98 & 100949.3 & 100734.4 & 100579.8 & 100082.4 &  99530.73 & 100972.2 & 100649.3 & 100335.0 & 100185.3 &  99719.67 & 100970.0 & 100672.8 & 100360.7 & 100133.7 & 100028.4 & 101126.2 & 100700.0 & 100381.3 & 100118.3 & 100319.8\\\\\n",
       "\t  0.0 & 53584.38 & 53391.01 & 53310.38 & 53292.82 & 53340.13 & 53781.70 & 53498.13 & 53306.82 & 53213.26 & 53157.38 & 54014.76 & 53674.26 & 53377.88 & 53200.01 & 53055.32 & 54326.82 & 53911.38 & 53528.82 & 53259.63 & 53065.26 & 54670.20 & 54172.63 & 53725.88 & 53382.88 & 53162.38 & 54984.20 & 54459.38 & 53963.45 & 53560.01 & 53303.32 & 55249.70 & 54734.82 & 54202.32 & 53745.01 & 53439.95 & 55462.20 & 54966.07 & 54395.57 & 53901.82 & 53555.70 & 276.0475 & 274.6652 & 273.4249 & 272.2682 & 271.1993 & 275.9484 & 274.8229 & 273.5319 & 271.7574 & 271.4708 & 276.0890 & 274.7745 & 273.0597 & 271.4108 & 271.6027 & 277.5065 & 274.8370 & 272.4728 & 271.7120 & 272.2306 & 280.2965 & 275.8087 & 272.6422 & 272.1046 & 272.8029 & 283.2921 & 278.3253 & 274.6373 & 273.4342 & 273.4288 & 284.7858 & 280.2491 & 276.1510 & 274.2487 & 273.7780 & 285.6232 & 281.8859 & 277.0079 & 274.3204 & 273.3370 & 265.5226 & 264.4967 & 263.7809 & 263.1600 & 262.9911 & 266.3983 & 264.6947 & 263.8558 & 263.0775 & 262.7672 & 267.7491 & 265.5311 & 263.9037 & 263.0443 & 262.6842 & 269.6363 & 267.0416 & 264.5348 & 263.2667 & 262.9552 & 271.8531 & 268.7503 & 265.7904 & 263.7101 & 263.0733 & 273.3556 & 270.4322 & 267.2889 & 264.5389 & 263.2809 & 274.2894 & 271.8856 & 268.7957 & 265.5846 & 263.6417 & 274.9666 & 272.9066 & 269.9198 & 266.4398 & 264.0296 & 248.4066 & 246.2023 & 244.7333 & 244.9865 & 246.7028 & 250.4637 & 247.9149 & 245.5948 & 244.9120 & 245.9537 & 252.1586 & 249.8817 & 247.1400 & 245.2286 & 245.3822 & 253.8163 & 251.7518 & 249.1674 & 246.1229 & 244.9813 & 254.9010 & 253.2486 & 250.8619 & 247.5228 & 245.1510 & 255.5511 & 254.1874 & 251.9388 & 248.8680 & 245.8988 & 255.9930 & 254.6342 & 252.6925 & 249.6945 & 246.5524 & 256.1083 & 254.9650 & 253.1530 & 250.2926 & 247.0848 & 287.2379 & 286.2013 & 285.2008 & 284.2926 & 283.4020 & 286.7907 & 282.0973 & 279.4040 & 277.4347 & 282.5500 & 285.1149 & 281.2526 & 278.6466 & 276.3336 & 281.7873 & 286.4049 & 279.9650 & 278.3200 & 276.5382 & 282.3029 & 288.0036 & 279.2375 & 276.3717 & 277.5910 & 282.2765 & 287.2477 & 286.6569 & 279.9914 & 276.4479 & 278.4748 & 284.0143 & 288.0172 & 285.5973 & 276.1344 & 277.3449 & 283.4713 & 288.4416 & 286.4948 & 283.7692 & 276.3615 & 0.004076011 & 0.003342517 & 0.003396280 & 0.003144987 & 0.003269084 & 0.003731258 & 0.003514297 & 0.003627546 & 0.003314264 & 0.003412016 & 0.003948934 & 0.003511198 & 0.003758319 & 0.003614672 & 0.003421076 & 0.005804308 & 0.003393300 & 0.003834374 & 0.003747709 & 0.003505476 & 0.005785353 & 0.003856666 & 0.003690965 & 0.003754862 & 0.0036794022 & 0.004876383 & 0.005188115 & 0.003447302 & 0.003708012 & 0.0041264370 & 0.004037507 & 0.005587347 & 0.003883250 & 0.003951199 & 0.0040929392 & 0.003928192 & 0.005012639 & 0.004264124 & 0.0044294670 & 0.0040440634 & 0.0005518483 & 0.0003339635 & 3.500866e-04 & 0.0002300428 & 0.0001327979 & 0.0009538518 & 0.0004225062 & 0.0003727960 & 0.0002740013 & 0.0001970815 & 0.0011380004 & 0.0007680642 & 0.0003263938 & 3.310727e-04 & 0.0002188074 & 0.0011465239 & 0.0010991084 & 0.0004148768 & 0.0003794121 & 0.0002064990 & 0.0010584580 & 0.0012638258 & 0.0007047640 & 0.0003759848 & 0.0003094958 & 0.0008828031 & 0.001263230 & 0.0009824323 & 0.0004377352 & 0.0003835248 & 0.0007804023 & 0.0011817800 & 0.0011100756 & 0.0006216752 & 0.0004456626 & 0.0007917272 & 0.0010712134 & 0.0011468219 & 0.0007201122 & 0.0005057143 & 100605.5 & 100719.4 & 100856.5 & 101023.5 & 101148.34 & 100632.8 & 100741.5 & 100845.3 & 100947.7 & 100945.84 & 100690.5 & 100815.0 & 100886.6 & 100928.0 & 100825.59 & 100662.4 & 100841.5 & 100916.3 & 100927.7 & 100779.03 & 100632.0 & 100844.2 & 100947.8 & 100934.7 & 100809.59 & 100614.2 & 100701.3 & 100811.2 & 100930.5 & 100895.84 & 100652.7 & 100663.5 & 100747.7 & 100934.0 & 101015.8 & 100801.6 & 100685.3 & 100777.5 & 100909.4 & 101164.7\\\\\n",
       "\t  1.2 & 54221.86 & 54220.24 & 54328.55 & 54772.49 & 55251.11 & 54391.11 & 54345.93 & 54284.05 & 54525.99 & 55012.61 & 54645.05 & 54526.86 & 54379.74 & 54405.55 & 54804.36 & 54942.99 & 54736.11 & 54547.24 & 54427.74 & 54664.99 & 55246.05 & 54961.30 & 54734.86 & 54544.49 & 54607.99 & 55529.18 & 55192.86 & 54906.80 & 54694.11 & 54616.86 & 55790.55 & 55422.61 & 55072.49 & 54822.11 & 54646.74 & 55997.49 & 55628.55 & 55228.74 & 54909.61 & 54667.49 & 278.1566 & 276.1068 & 274.7894 & 273.8182 & 272.4960 & 279.8051 & 277.1722 & 274.5931 & 273.1415 & 272.0087 & 280.7675 & 278.0599 & 273.9916 & 271.5077 & 271.5443 & 280.6747 & 277.7914 & 274.0140 & 271.3719 & 271.9481 & 281.7245 & 276.3270 & 273.2601 & 272.1190 & 272.8910 & 284.2841 & 278.2211 & 274.4550 & 273.1298 & 273.0961 & 286.0116 & 281.4696 & 277.1503 & 273.9525 & 273.2465 & 287.0804 & 283.8119 & 279.2743 & 274.8236 & 274.0267 & 268.1099 & 266.7337 & 265.9197 & 267.0157 & 268.8894 & 269.1646 & 267.4600 & 266.1363 & 265.7534 & 267.3533 & 270.4541 & 268.1817 & 266.6328 & 265.1812 & 265.8037 & 271.2361 & 268.7288 & 266.9366 & 265.2119 & 264.8020 & 272.4685 & 269.5923 & 267.5034 & 265.5591 & 264.4475 & 274.1214 & 270.9776 & 268.3662 & 266.0296 & 264.6382 & 274.9148 & 272.4077 & 269.5203 & 266.8206 & 264.8113 & 275.1416 & 273.6927 & 270.7132 & 267.8382 & 265.0911 & 249.8384 & 248.1158 & 248.6480 & 252.2244 & 253.2400 & 250.3955 & 249.1763 & 247.4414 & 250.0096 & 252.6919 & 251.1971 & 250.2356 & 247.9170 & 247.9202 & 251.4212 & 252.3885 & 251.3333 & 249.2954 & 247.2112 & 249.6890 & 253.3731 & 252.4414 & 250.5909 & 247.8726 & 248.4593 & 253.9505 & 253.1348 & 251.4856 & 249.0655 & 248.2303 & 254.6221 & 253.6773 & 252.2073 & 250.1250 & 248.6324 & 255.2708 & 253.9727 & 252.6841 & 250.8081 & 249.2412 & 288.2794 & 286.6042 & 286.1046 & 285.3532 & 284.9069 & 288.6159 & 282.4059 & 280.1422 & 277.3439 & 283.7209 & 287.2511 & 281.3786 & 279.0627 & 276.5622 & 282.8463 & 287.9181 & 280.0114 & 278.0631 & 276.8991 & 282.5856 & 288.3786 & 279.9494 & 275.6964 & 277.1764 & 281.2233 & 287.9601 & 286.8092 & 281.0514 & 276.7106 & 277.9699 & 285.4503 & 288.0700 & 285.1335 & 279.4074 & 276.7423 & 286.5729 & 288.5299 & 285.8776 & 283.9552 & 276.4845 & 0.003475709 & 0.002570911 & 0.002244754 & 0.002365394 & 0.003208561 & 0.003688140 & 0.003038569 & 0.002514644 & 0.002653284 & 0.003156467 & 0.005028172 & 0.003595872 & 0.002901597 & 0.003385229 & 0.003322764 & 0.005054636 & 0.004336043 & 0.003239675 & 0.003580733 & 0.003402991 & 0.004906340 & 0.005061908 & 0.003750129 & 0.003820939 & 0.0035386516 & 0.004289670 & 0.005226059 & 0.004688902 & 0.003860874 & 0.0037613346 & 0.002846165 & 0.005074783 & 0.005421563 & 0.004010125 & 0.0034276678 & 0.002300782 & 0.004591508 & 0.005425258 & 0.0039092735 & 0.0030186607 & 0.0006000037 & 0.0003536875 & 8.558584e-05 & 0.0002168651 & 0.0004111464 & 0.0007578964 & 0.0005415613 & 0.0001718040 & 0.0001234050 & 0.0002892251 & 0.0008960302 & 0.0007210905 & 0.0003620620 & 8.940054e-05 & 0.0002099211 & 0.0010314222 & 0.0008312101 & 0.0005933578 & 0.0001660521 & 0.0001633401 & 0.0012593801 & 0.0009943183 & 0.0007609660 & 0.0003199513 & 0.0001833077 & 0.0013613339 & 0.001064562 & 0.0009383197 & 0.0004792745 & 0.0002276535 & 0.0012652512 & 0.0011001165 & 0.0010265942 & 0.0006555552 & 0.0002795394 & 0.0012088950 & 0.0010935898 & 0.0010713573 & 0.0007433529 & 0.0003538067 & 100921.8 & 101318.4 & 101675.1 & 102020.2 & 102389.94 & 100850.0 & 101298.0 & 101677.4 & 102054.1 & 102339.81 & 100922.5 & 101351.8 & 101763.2 & 102220.9 & 102367.25 & 101123.9 & 101496.3 & 101893.4 & 102249.9 & 102394.12 & 101286.3 & 101770.8 & 102013.4 & 102287.2 & 102379.75 & 101309.4 & 101625.6 & 102000.4 & 102209.1 & 102404.75 & 101358.6 & 101511.5 & 101798.9 & 102142.2 & 102368.5 & 101438.7 & 101440.9 & 101685.3 & 102030.7 & 102311.9\\\\\n",
       "\\end{tabular}\n"
      ],
      "text/markdown": [
       "\n",
       "A data.frame: 6 × 321\n",
       "\n",
       "| precip &lt;dbl&gt; | X1 &lt;dbl&gt; | X2 &lt;dbl&gt; | X3 &lt;dbl&gt; | X4 &lt;dbl&gt; | X5 &lt;dbl&gt; | X6 &lt;dbl&gt; | X7 &lt;dbl&gt; | X8 &lt;dbl&gt; | X9 &lt;dbl&gt; | ⋯ ⋯ | X311 &lt;dbl&gt; | X312 &lt;dbl&gt; | X313 &lt;dbl&gt; | X314 &lt;dbl&gt; | X315 &lt;dbl&gt; | X316 &lt;dbl&gt; | X317 &lt;dbl&gt; | X318 &lt;dbl&gt; | X319 &lt;dbl&gt; | X320 &lt;dbl&gt; |\n",
       "|---|---|---|---|---|---|---|---|---|---|---|---|---|---|---|---|---|---|---|---|---|\n",
       "| 10.9 | 57042.96 | 56534.84 | 55884.40 | 55175.59 | 54458.21 | 56980.27 | 56460.59 | 55800.02 | 55051.15 | ⋯ | 101985.9 | 101627.3 | 101357.2 | 101110.7 | 101291.0 | 101814.9 | 101479.4 | 101164.5 | 100970.7 | 100905.3 |\n",
       "|  0.6 | 56963.20 | 56493.45 | 55930.82 | 55340.20 | 54768.63 | 56856.57 | 56361.95 | 55776.76 | 55164.26 | ⋯ | 102048.1 | 102069.7 | 102204.5 | 102480.3 | 102858.8 | 101973.3 | 102033.3 | 102165.5 | 102323.9 | 102534.2 |\n",
       "| 13.0 | 56522.59 | 55971.40 | 55304.34 | 54498.03 | 53725.15 | 56514.84 | 55977.71 | 55327.28 | 54569.78 | ⋯ | 102399.1 | 102448.4 | 102438.3 | 102434.3 | 102339.8 | 102669.7 | 102565.5 | 102530.3 | 102453.6 | 102487.1 |\n",
       "|  0.0 | 54627.98 | 53979.80 | 53494.05 | 53072.98 | 52616.36 | 54776.17 | 54089.05 | 53516.98 | 53012.86 | ⋯ | 100970.0 | 100672.8 | 100360.7 | 100133.7 | 100028.4 | 101126.2 | 100700.0 | 100381.3 | 100118.3 | 100319.8 |\n",
       "|  0.0 | 53584.38 | 53391.01 | 53310.38 | 53292.82 | 53340.13 | 53781.70 | 53498.13 | 53306.82 | 53213.26 | ⋯ | 100652.7 | 100663.5 | 100747.7 | 100934.0 | 101015.8 | 100801.6 | 100685.3 | 100777.5 | 100909.4 | 101164.7 |\n",
       "|  1.2 | 54221.86 | 54220.24 | 54328.55 | 54772.49 | 55251.11 | 54391.11 | 54345.93 | 54284.05 | 54525.99 | ⋯ | 101358.6 | 101511.5 | 101798.9 | 102142.2 | 102368.5 | 101438.7 | 101440.9 | 101685.3 | 102030.7 | 102311.9 |\n",
       "\n"
      ],
      "text/plain": [
       "  precip X1       X2       X3       X4       X5       X6       X7      \n",
       "1 10.9   57042.96 56534.84 55884.40 55175.59 54458.21 56980.27 56460.59\n",
       "2  0.6   56963.20 56493.45 55930.82 55340.20 54768.63 56856.57 56361.95\n",
       "3 13.0   56522.59 55971.40 55304.34 54498.03 53725.15 56514.84 55977.71\n",
       "4  0.0   54627.98 53979.80 53494.05 53072.98 52616.36 54776.17 54089.05\n",
       "5  0.0   53584.38 53391.01 53310.38 53292.82 53340.13 53781.70 53498.13\n",
       "6  1.2   54221.86 54220.24 54328.55 54772.49 55251.11 54391.11 54345.93\n",
       "  X8       X9       ⋯ X311     X312     X313     X314     X315     X316    \n",
       "1 55800.02 55051.15 ⋯ 101985.9 101627.3 101357.2 101110.7 101291.0 101814.9\n",
       "2 55776.76 55164.26 ⋯ 102048.1 102069.7 102204.5 102480.3 102858.8 101973.3\n",
       "3 55327.28 54569.78 ⋯ 102399.1 102448.4 102438.3 102434.3 102339.8 102669.7\n",
       "4 53516.98 53012.86 ⋯ 100970.0 100672.8 100360.7 100133.7 100028.4 101126.2\n",
       "5 53306.82 53213.26 ⋯ 100652.7 100663.5 100747.7 100934.0 101015.8 100801.6\n",
       "6 54284.05 54525.99 ⋯ 101358.6 101511.5 101798.9 102142.2 102368.5 101438.7\n",
       "  X317     X318     X319     X320    \n",
       "1 101479.4 101164.5 100970.7 100905.3\n",
       "2 102033.3 102165.5 102323.9 102534.2\n",
       "3 102565.5 102530.3 102453.6 102487.1\n",
       "4 100700.0 100381.3 100118.3 100319.8\n",
       "5 100685.3 100777.5 100909.4 101164.7\n",
       "6 101440.9 101685.3 102030.7 102311.9"
      ]
     },
     "metadata": {},
     "output_type": "display_data"
    }
   ],
   "source": [
    "load(\"df.rda\")\n",
    "head(df)"
   ]
  },
  {
   "cell_type": "markdown",
   "metadata": {},
   "source": [
    "Ya que las vamos a necesitar posteriormente, crearemos una nueva variable *y* (vector predictando con la precipitación en Lisboa) y otra *x* (matriz con los predictores de larga escala)."
   ]
  },
  {
   "cell_type": "code",
   "execution_count": 19,
   "metadata": {},
   "outputs": [],
   "source": [
    "y = df[, 1]\n",
    "x = df[, -1]"
   ]
  },
  {
   "cell_type": "markdown",
   "metadata": {},
   "source": [
    "Para visualizar los datos, dibujamos la serie diaria de precipitación observada:"
   ]
  },
  {
   "cell_type": "code",
   "execution_count": 20,
   "metadata": {},
   "outputs": [
    {
     "data": {
      "image/png": "[encoded data removed]",
      "text/plain": [
       "plot without title"
      ]
     },
     "metadata": {},
     "output_type": "display_data"
    }
   ],
   "source": [
    "# data visualization\n",
    "plot(y, xlab = \"days\", ylab = \"precip\", type = \"l\")"
   ]
  },
  {
   "cell_type": "markdown",
   "metadata": {},
   "source": [
    "Nuestro siguiente paso será dividir el dataset total en dos subconjuntos independientes de train y test (75% y 25%, respectivamente). Crea las variables *df.train*, *df.test*, *x.train*, *y.train*, *x.test*, *y.test*."
   ]
  },
  {
   "cell_type": "code",
   "execution_count": 21,
   "metadata": {},
   "outputs": [],
   "source": [
    "## train/test partition\n",
    "n = nrow(df)\n",
    "indtrain = sample(1:n, round(0.75*n))\n",
    "indtest = setdiff(1:n, indtrain)\n",
    "\n",
    "# 75% train\n",
    "df.train = df[indtrain, ]\n",
    "x.train = x[indtrain, ]\n",
    "y.train = y[indtrain]\n",
    "\n",
    "# 25% test\n",
    "df.test = df[indtest, ]\n",
    "x.test = x[indtest, ]\n",
    "y.test = y[indtest]"
   ]
  },
  {
   "cell_type": "markdown",
   "metadata": {},
   "source": [
    "Lo primero es buscar el *k* óptimo para nuestro método k-NN. Antes, echa un vistazo a los predictores (mira, por ejemplo, los predictores 1 y 214). \n",
    "\n",
    "**Ejercicio 6)** ¿Intuyes algún problema?"
   ]
  },
  {
   "cell_type": "markdown",
   "metadata": {},
   "source": [
    "El problema es que los predictores tienen escalas muy distintas (observa la media y la varianza), por tanto el de mayores escalas dominará sobre el de pequeñas. La solución es centrarlos y escalarlos (Restar la media y dividir por la desviación típica). De esta forma ambos predictores tendrán la misma media y desviación típica."
   ]
  },
  {
   "cell_type": "code",
   "execution_count": 22,
   "metadata": {},
   "outputs": [
    {
     "data": {
      "text/html": [
       "<dl class=dl-horizontal>\n",
       "\t<dt>X1</dt>\n",
       "\t\t<dd>56421.9511796875</dd>\n",
       "\t<dt>X214</dt>\n",
       "\t\t<dd>0.00506312217190862</dd>\n",
       "</dl>\n"
      ],
      "text/latex": [
       "\\begin{description*}\n",
       "\\item[X1] 56421.9511796875\n",
       "\\item[X214] 0.00506312217190862\n",
       "\\end{description*}\n"
      ],
      "text/markdown": [
       "X1\n",
       ":   56421.9511796875X214\n",
       ":   0.00506312217190862\n",
       "\n"
      ],
      "text/plain": [
       "          X1         X214 \n",
       "5.642195e+04 5.063122e-03 "
      ]
     },
     "metadata": {},
     "output_type": "display_data"
    },
    {
     "data": {
      "text/html": [
       "<dl class=dl-horizontal>\n",
       "\t<dt>X1</dt>\n",
       "\t\t<dd>1093.64482987036</dd>\n",
       "\t<dt>X214</dt>\n",
       "\t\t<dd>0.00198360025875153</dd>\n",
       "</dl>\n"
      ],
      "text/latex": [
       "\\begin{description*}\n",
       "\\item[X1] 1093.64482987036\n",
       "\\item[X214] 0.00198360025875153\n",
       "\\end{description*}\n"
      ],
      "text/markdown": [
       "X1\n",
       ":   1093.64482987036X214\n",
       ":   0.00198360025875153\n",
       "\n"
      ],
      "text/plain": [
       "          X1         X214 \n",
       "1093.6448299    0.0019836 "
      ]
     },
     "metadata": {},
     "output_type": "display_data"
    }
   ],
   "source": [
    "colMeans(x.test[,c(1,214)])\n",
    "apply(x.test[,c(1,214)], MARGIN = 2, sd) # Standard Deviation para ambos predictores."
   ]
  },
  {
   "cell_type": "markdown",
   "metadata": {},
   "source": [
    "**Ejercicio 7)** Para ello emplearemos `caret`. Considera una cross-validación hold-out sobre el dataset `df.train` y barre todos los `k` del vector `ks <- c(1, 3, 5, 10, 15, 20, 50, 100)`.  Observa cómo varía la métrica con `k`. ¿Cuál es el k óptimo?\n",
    "\n",
    "Nota: Recuerda las funciones de `caret` `trainControl(method = cv, number = 2)` y `train()`. El `method` para k-NN es \"knn\". Puede hacerse  manualmente pero, en `caret`, el argumento `preProcess = c(\"center\", \"scale\")` centra y escala los datos."
   ]
  },
  {
   "cell_type": "code",
   "execution_count": 23,
   "metadata": {},
   "outputs": [
    {
     "name": "stderr",
     "output_type": "stream",
     "text": [
      "Loading required package: lattice\n",
      "\n",
      "Attaching package: ‘lattice’\n",
      "\n",
      "The following object is masked from ‘package:boot’:\n",
      "\n",
      "    melanoma\n",
      "\n",
      "Loading required package: ggplot2\n"
     ]
    }
   ],
   "source": [
    "library(caret)"
   ]
  },
  {
   "cell_type": "code",
   "execution_count": 24,
   "metadata": {},
   "outputs": [
    {
     "data": {
      "text/html": [
       "<table>\n",
       "<caption>A data.frame: 1 × 1</caption>\n",
       "<thead>\n",
       "\t<tr><th></th><th scope=col>k</th></tr>\n",
       "\t<tr><th></th><th scope=col>&lt;dbl&gt;</th></tr>\n",
       "</thead>\n",
       "<tbody>\n",
       "\t<tr><th scope=row>6</th><td>20</td></tr>\n",
       "</tbody>\n",
       "</table>\n"
      ],
      "text/latex": [
       "A data.frame: 1 × 1\n",
       "\\begin{tabular}{r|l}\n",
       "  & k\\\\\n",
       "  & <dbl>\\\\\n",
       "\\hline\n",
       "\t6 & 20\\\\\n",
       "\\end{tabular}\n"
      ],
      "text/markdown": [
       "\n",
       "A data.frame: 1 × 1\n",
       "\n",
       "| <!--/--> | k &lt;dbl&gt; |\n",
       "|---|---|\n",
       "| 6 | 20 |\n",
       "\n"
      ],
      "text/plain": [
       "  k \n",
       "6 20"
      ]
     },
     "metadata": {},
     "output_type": "display_data"
    },
    {
     "data": {
      "image/png": "[encoded data removed]",
      "text/plain": [
       "plot without title"
      ]
     },
     "metadata": {},
     "output_type": "display_data"
    }
   ],
   "source": [
    "trctrl = trainControl(method = \"cv\", number = 2)\n",
    "tuneGrid_ <- expand.grid(k = c(1, 3, 5, 10, 15, 20, 50, 100))\n",
    "# Continuar aquí...\n",
    "\n",
    "knn.fit = train(precip ~ .,\n",
    "                df.train,\n",
    "                method = \"knn\",\n",
    "                trControl = trctrl,\n",
    "                preProcess = c(\"center\", \"scale\"),\n",
    "                tuneGrid = tuneGrid_)\n",
    "\n",
    "plot(knn.fit)\n",
    "knn.fit$bestTune"
   ]
  },
  {
   "cell_type": "markdown",
   "metadata": {},
   "source": [
    "Hemos visto que el RMSE disminuye con *k*. Pero para determinar cuán buena/mala es nuestra predicción no deberíamos fijarnos en una única medida, si no que debemos tener en cuenta un abanico más amplio de métricas que nos permitan caracterizar otros aspectos de la predicción que puedan ser de interés. Por ejemplo, el error cuadrático medio puede ser muy bajo y aún así el modelo no estar acertando con los días de lluvia/no lluvia.\n",
    "\n",
    "En este caso podemos considerar, además del RMSE, las siguientes métricas de validación:  \n",
    "* Tasa de aciertos (o *accuracy*): permite evaluar el evento binario *lluvia/no lluvia*. Se suele tomar la cantidad $\\geq 0.1$ mm como umbral para definir un día como *húmedo*.\n",
    "* Correlación de Spearman: permite evaluar cuán bien la serie temporal predicha (completa; es decir, lluvia y no lluvia) sigue la observación. Su sintáxis en *R* sería cor(obs, pred, method = “spearman”).\n",
    "* *Ratio* de varianzas: permite evaluar hasta qué punto la variabilidad total de nuestra predicción (serie completa) se asemeja a la observada. Se calcula como var(pred) / var(obs).\n",
    "Utiliza la configuración óptima que hemos obtenido con *caret* para predecir la lluvia en el test, y valida los resultados en función de estas 4 métricas.  \n"
   ]
  },
  {
   "cell_type": "markdown",
   "metadata": {},
   "source": [
    "**Ejercicio 8)** Construye una función que, dada la predicción y las observaciones, calcule estas 4 medidas. Aplícala a los resultados predichos para `df.test` (función `predict()`)."
   ]
  },
  {
   "cell_type": "code",
   "execution_count": 25,
   "metadata": {},
   "outputs": [],
   "source": [
    "error.measures <- function(obs, pred){\n",
    "    if (length(obs) != length(pred)) stop(\"Length mismatch\")\n",
    "    else{\n",
    "        # rmse\n",
    "        rmse <-  sqrt(mean((obs - pred)^2))\n",
    "    \n",
    "        # Spearman correlation\n",
    "        spearman <- cor(obs, pred, method = \"spearman\")\n",
    "        \n",
    "        # ratio of variances\n",
    "        variance.ratio <- var(pred) / var(obs)\n",
    "        \n",
    "        ## accuracy binary \n",
    "        obs[obs < 0.1] <- 0\n",
    "        obs[obs >= 0.1] <- 1\n",
    "        pred[pred < 0.1] <- 0\n",
    "        pred[pred >= 0.1] <- 1\n",
    "        \n",
    "        accuracy <- sum(diag(table(obs, pred)))/length(obs)\n",
    "        \n",
    "        return(cbind(rmse, spearman, accuracy, variance.ratio))\n",
    "    }\n",
    "}"
   ]
  },
  {
   "cell_type": "code",
   "execution_count": 26,
   "metadata": {},
   "outputs": [
    {
     "data": {
      "text/html": [
       "<table>\n",
       "<caption>A matrix: 1 × 4 of type dbl</caption>\n",
       "<thead>\n",
       "\t<tr><th scope=col>rmse</th><th scope=col>spearman</th><th scope=col>accuracy</th><th scope=col>variance.ratio</th></tr>\n",
       "</thead>\n",
       "<tbody>\n",
       "\t<tr><td>4.250824</td><td>0.5993326</td><td>0.616</td><td>0.1776076</td></tr>\n",
       "</tbody>\n",
       "</table>\n"
      ],
      "text/latex": [
       "A matrix: 1 × 4 of type dbl\n",
       "\\begin{tabular}{llll}\n",
       " rmse & spearman & accuracy & variance.ratio\\\\\n",
       "\\hline\n",
       "\t 4.250824 & 0.5993326 & 0.616 & 0.1776076\\\\\n",
       "\\end{tabular}\n"
      ],
      "text/markdown": [
       "\n",
       "A matrix: 1 × 4 of type dbl\n",
       "\n",
       "| rmse | spearman | accuracy | variance.ratio |\n",
       "|---|---|---|---|\n",
       "| 4.250824 | 0.5993326 | 0.616 | 0.1776076 |\n",
       "\n"
      ],
      "text/plain": [
       "     rmse     spearman  accuracy variance.ratio\n",
       "[1,] 4.250824 0.5993326 0.616    0.1776076     "
      ]
     },
     "metadata": {},
     "output_type": "display_data"
    }
   ],
   "source": [
    "pred = predict(object = knn.fit, newdata =  df.test[, -1])\n",
    "error.measures(df.test$precip, pred)"
   ]
  },
  {
   "cell_type": "markdown",
   "metadata": {},
   "source": [
    "**Ejercicio 9)** Con Caret, prueba los parámetros `ks = c(1, 3, 5, 10, 15, 20, 50, 100)` para ver qué modelo es mejor, teniendo en cuenta esta vez todas las medidas. Esta vez entrena con todo `df.train` y obtén las predicciones para `df.test`.\n",
    "\n",
    "`trControl = trainControl(method=\"none\")` permite directamente crear el modelo predictivo sin hacer cross-validación.\n",
    "\n",
    "**¿Qué conclusiones obtienes? ¿Cuál sería para tí un *k* óptimo?**"
   ]
  },
  {
   "cell_type": "code",
   "execution_count": 27,
   "metadata": {},
   "outputs": [
    {
     "data": {
      "text/html": [
       "<table>\n",
       "<caption>A matrix: 8 × 4 of type dbl</caption>\n",
       "<thead>\n",
       "\t<tr><th></th><th scope=col>rmse</th><th scope=col>spearman</th><th scope=col>accuracy</th><th scope=col>variance.ratio</th></tr>\n",
       "</thead>\n",
       "<tbody>\n",
       "\t<tr><th scope=row>1</th><td>5.433540</td><td>0.4709571</td><td>0.776</td><td>0.7840018</td></tr>\n",
       "\t<tr><th scope=row>3</th><td>4.527493</td><td>0.5712970</td><td>0.776</td><td>0.3137900</td></tr>\n",
       "\t<tr><th scope=row>5</th><td>4.333427</td><td>0.5741079</td><td>0.748</td><td>0.2785210</td></tr>\n",
       "\t<tr><th scope=row>10</th><td>4.186834</td><td>0.6003504</td><td>0.686</td><td>0.2213339</td></tr>\n",
       "\t<tr><th scope=row>15</th><td>4.239714</td><td>0.5990304</td><td>0.636</td><td>0.1837351</td></tr>\n",
       "\t<tr><th scope=row>20</th><td>4.250824</td><td>0.5993326</td><td>0.616</td><td>0.1776076</td></tr>\n",
       "\t<tr><th scope=row>50</th><td>4.352751</td><td>0.5761804</td><td>0.520</td><td>0.1396528</td></tr>\n",
       "\t<tr><th scope=row>100</th><td>4.395197</td><td>0.5714231</td><td>0.470</td><td>0.1092926</td></tr>\n",
       "</tbody>\n",
       "</table>\n"
      ],
      "text/latex": [
       "A matrix: 8 × 4 of type dbl\n",
       "\\begin{tabular}{r|llll}\n",
       "  & rmse & spearman & accuracy & variance.ratio\\\\\n",
       "\\hline\n",
       "\t1 & 5.433540 & 0.4709571 & 0.776 & 0.7840018\\\\\n",
       "\t3 & 4.527493 & 0.5712970 & 0.776 & 0.3137900\\\\\n",
       "\t5 & 4.333427 & 0.5741079 & 0.748 & 0.2785210\\\\\n",
       "\t10 & 4.186834 & 0.6003504 & 0.686 & 0.2213339\\\\\n",
       "\t15 & 4.239714 & 0.5990304 & 0.636 & 0.1837351\\\\\n",
       "\t20 & 4.250824 & 0.5993326 & 0.616 & 0.1776076\\\\\n",
       "\t50 & 4.352751 & 0.5761804 & 0.520 & 0.1396528\\\\\n",
       "\t100 & 4.395197 & 0.5714231 & 0.470 & 0.1092926\\\\\n",
       "\\end{tabular}\n"
      ],
      "text/markdown": [
       "\n",
       "A matrix: 8 × 4 of type dbl\n",
       "\n",
       "| <!--/--> | rmse | spearman | accuracy | variance.ratio |\n",
       "|---|---|---|---|---|\n",
       "| 1 | 5.433540 | 0.4709571 | 0.776 | 0.7840018 |\n",
       "| 3 | 4.527493 | 0.5712970 | 0.776 | 0.3137900 |\n",
       "| 5 | 4.333427 | 0.5741079 | 0.748 | 0.2785210 |\n",
       "| 10 | 4.186834 | 0.6003504 | 0.686 | 0.2213339 |\n",
       "| 15 | 4.239714 | 0.5990304 | 0.636 | 0.1837351 |\n",
       "| 20 | 4.250824 | 0.5993326 | 0.616 | 0.1776076 |\n",
       "| 50 | 4.352751 | 0.5761804 | 0.520 | 0.1396528 |\n",
       "| 100 | 4.395197 | 0.5714231 | 0.470 | 0.1092926 |\n",
       "\n"
      ],
      "text/plain": [
       "    rmse     spearman  accuracy variance.ratio\n",
       "1   5.433540 0.4709571 0.776    0.7840018     \n",
       "3   4.527493 0.5712970 0.776    0.3137900     \n",
       "5   4.333427 0.5741079 0.748    0.2785210     \n",
       "10  4.186834 0.6003504 0.686    0.2213339     \n",
       "15  4.239714 0.5990304 0.636    0.1837351     \n",
       "20  4.250824 0.5993326 0.616    0.1776076     \n",
       "50  4.352751 0.5761804 0.520    0.1396528     \n",
       "100 4.395197 0.5714231 0.470    0.1092926     "
      ]
     },
     "metadata": {},
     "output_type": "display_data"
    }
   ],
   "source": [
    "ks = c(1, 3, 5, 10, 15, 20, 50, 100)\n",
    "# Continuar aquí...\n",
    "obs <- df.test$precip\n",
    "\n",
    "error.measures.k <- matrix(NA, nrow = length(ks), ncol = 4)\n",
    "rownames(error.measures.k) <- ks\n",
    "colnames(error.measures.k) <- c(\"rmse\", \"spearman\", \"accuracy\", \"variance.ratio\")\n",
    "\n",
    "for (k in ks){\n",
    "    model <-\n",
    "    train(precip ~ ., data = df.train,\n",
    "                 method = \"knn\",\n",
    "                 tuneGrid = expand.grid(k = k),\n",
    "                 preProcess = c(\"center\", \"scale\"),\n",
    "                 trControl = trainControl(method = \"none\"))\n",
    "    pred <- predict(model, newdata = df.test)\n",
    "    error.measures.k[as.character(k), ] <- error.measures(obs, pred)\n",
    "}\n",
    "error.measures.k"
   ]
  }
 ],
 "metadata": {
  "kernelspec": {
   "display_name": "R",
   "language": "R",
   "name": "ir"
  },
  "language_info": {
   "codemirror_mode": "r",
   "file_extension": ".r",
   "mimetype": "text/x-r-source",
   "name": "R",
   "pygments_lexer": "r",
   "version": "3.4.4"
  }
 },
 "nbformat": 4,
 "nbformat_minor": 2
}
