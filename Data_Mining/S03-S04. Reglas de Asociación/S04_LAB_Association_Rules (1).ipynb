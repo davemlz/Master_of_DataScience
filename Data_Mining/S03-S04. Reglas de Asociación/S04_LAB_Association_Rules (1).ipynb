{
 "cells": [
  {
   "cell_type": "markdown",
   "metadata": {
    "button": false,
    "new_sheet": false,
    "run_control": {
     "read_only": false
    }
   },
   "source": [
    "# Reglas de Asociación: arulesViz R-package\n",
    "\n",
    "### Santander Meteorology Group\n",
    "#### Mikel N. Legasa (legasam@unican.es)\n",
    "\n",
    "\n",
    "Las librerías [arulesViz](https://cran.r-project.org/web/packages/arulesViz/arulesViz.pdf) y [arules](https://cran.r-project.org/web/packages/arules/arules.pdf), desarrolladas por [IDA@SMU](http://lyle.smu.edu/IDA/arules/), consideran diferentes técnicas para la obtención y visualización de reglas de asociación a partir de un conjunto de datos, así como herramientas para explorar dichas reglas.\n",
    "\n",
    "El objetivo de la presente tarea es familiarizarnos con el manejo de estas librerías en el marco de R, así como presentar este tipo de algoritmos de aprendizaje, con diversas aplicaciones y que nos servirán además de introducción a los modelos gráficos probabilísticos, que analizaremos en profundidad en la asignatura Machine Learning II.\n",
    "\n",
    "## Instalación de la librería arulesViz\n",
    "\n",
    "Dado que la librería está incluida en el CRAN ([The Comprehensive R Archive Network](https://cran.r-project.org/)), el respositorio central de librerías de R, la instalación puede realizarse a través del comando `install.package`. En caso de tener ya instalado el paquete no hace falta instalarlo de nuevo y basta con activarlo con el comando `library`."
   ]
  },
  {
   "cell_type": "code",
   "execution_count": 1,
   "metadata": {
    "button": false,
    "new_sheet": false,
    "run_control": {
     "read_only": false
    }
   },
   "outputs": [
    {
     "name": "stderr",
     "output_type": "stream",
     "text": [
      "Loading required package: arules\n",
      "\n",
      "Loading required package: Matrix\n",
      "\n",
      "\n",
      "Attaching package: ‘arules’\n",
      "\n",
      "\n",
      "The following objects are masked from ‘package:base’:\n",
      "\n",
      "    abbreviate, write\n",
      "\n",
      "\n",
      "Loading required package: grid\n",
      "\n"
     ]
    }
   ],
   "source": [
    "# If we have not installed the \"arulesViz\" library we should do it:\n",
    "# install.packages(\"arulesViz\")\n",
    "library(arulesViz)"
   ]
  },
  {
   "cell_type": "markdown",
   "metadata": {
    "button": false,
    "new_sheet": false,
    "run_control": {
     "read_only": false
    }
   },
   "source": [
    "Nota que la instalación de la libería requiere de la instalación de sus dependencias. En particular de la librería `arules`, la cual se activa al activar `arulesViz`."
   ]
  },
  {
   "cell_type": "markdown",
   "metadata": {
    "button": false,
    "new_sheet": false,
    "run_control": {
     "read_only": false
    }
   },
   "source": [
    "## Ejemplo realizado en clase:\n",
    "\n",
    "Inicialmente consideraremos el ejemplo realizado en clase para familiarizarnos con los comandos y sus opciones para luego aplicarlo en un problema más general. Para ello, primero definiremos la tabla de transacciones del problema:"
   ]
  },
  {
   "cell_type": "code",
   "execution_count": 2,
   "metadata": {
    "button": false,
    "new_sheet": false,
    "run_control": {
     "read_only": false
    }
   },
   "outputs": [
    {
     "name": "stdout",
     "output_type": "stream",
     "text": [
      "    items    \n",
      "[1] {b,l,O,p}\n",
      "[2] {l,p}    \n",
      "[3] {c,O,p}  \n",
      "[4] {c,l,O,p}\n"
     ]
    }
   ],
   "source": [
    "table <- list(c(\"p\",\"l\",\"O\",\"b\"), c(\"p\",\"l\"), c(\"p\",\"O\",\"c\"), c(\"p\",\"l\",\"O\",\"c\"))\n",
    "transactions <- as(table, \"transactions\")  #simplemente convierte a la clase transacciones\n",
    "inspect(transactions)"
   ]
  },
  {
   "cell_type": "markdown",
   "metadata": {
    "button": false,
    "new_sheet": false,
    "run_control": {
     "read_only": false
    }
   },
   "source": [
    "Podemos ver el soporte, absoluto o relativo: de cada item:"
   ]
  },
  {
   "cell_type": "code",
   "execution_count": 3,
   "metadata": {
    "button": false,
    "new_sheet": false,
    "run_control": {
     "read_only": false
    }
   },
   "outputs": [
    {
     "data": {
      "text/html": [
       "<dl class=dl-horizontal>\n",
       "\t<dt>b</dt>\n",
       "\t\t<dd>1</dd>\n",
       "\t<dt>c</dt>\n",
       "\t\t<dd>2</dd>\n",
       "\t<dt>l</dt>\n",
       "\t\t<dd>3</dd>\n",
       "\t<dt>O</dt>\n",
       "\t\t<dd>3</dd>\n",
       "\t<dt>p</dt>\n",
       "\t\t<dd>4</dd>\n",
       "</dl>\n"
      ],
      "text/latex": [
       "\\begin{description*}\n",
       "\\item[b] 1\n",
       "\\item[c] 2\n",
       "\\item[l] 3\n",
       "\\item[O] 3\n",
       "\\item[p] 4\n",
       "\\end{description*}\n"
      ],
      "text/markdown": [
       "b\n",
       ":   1c\n",
       ":   2l\n",
       ":   3O\n",
       ":   3p\n",
       ":   4\n",
       "\n"
      ],
      "text/plain": [
       "b c l O p \n",
       "1 2 3 3 4 "
      ]
     },
     "metadata": {},
     "output_type": "display_data"
    },
    {
     "data": {
      "text/html": [
       "<dl class=dl-horizontal>\n",
       "\t<dt>b</dt>\n",
       "\t\t<dd>0.25</dd>\n",
       "\t<dt>c</dt>\n",
       "\t\t<dd>0.5</dd>\n",
       "\t<dt>l</dt>\n",
       "\t\t<dd>0.75</dd>\n",
       "\t<dt>O</dt>\n",
       "\t\t<dd>0.75</dd>\n",
       "\t<dt>p</dt>\n",
       "\t\t<dd>1</dd>\n",
       "</dl>\n"
      ],
      "text/latex": [
       "\\begin{description*}\n",
       "\\item[b] 0.25\n",
       "\\item[c] 0.5\n",
       "\\item[l] 0.75\n",
       "\\item[O] 0.75\n",
       "\\item[p] 1\n",
       "\\end{description*}\n"
      ],
      "text/markdown": [
       "b\n",
       ":   0.25c\n",
       ":   0.5l\n",
       ":   0.75O\n",
       ":   0.75p\n",
       ":   1\n",
       "\n"
      ],
      "text/plain": [
       "   b    c    l    O    p \n",
       "0.25 0.50 0.75 0.75 1.00 "
      ]
     },
     "metadata": {},
     "output_type": "display_data"
    },
    {
     "data": {
      "image/png": "[encoded data removed]",
      "text/plain": [
       "plot without title"
      ]
     },
     "metadata": {
      "image/png": {
       "height": 420,
       "width": 420
      },
      "text/plain": {
       "height": 420,
       "width": 420
      }
     },
     "output_type": "display_data"
    }
   ],
   "source": [
    "itemFrequency(transactions, type=\"absolute\")\n",
    "itemFrequency(transactions, type=\"relative\")\n",
    "itemFrequencyPlot(transactions)"
   ]
  },
  {
   "cell_type": "markdown",
   "metadata": {
    "button": false,
    "new_sheet": false,
    "run_control": {
     "read_only": false
    }
   },
   "source": [
    "Una vez definida la tabla de transacciones, buscaremos los itemsets más frecuentes a través de los dos algoritmos explicados, APRIORI:"
   ]
  },
  {
   "cell_type": "markdown",
   "metadata": {
    "button": false,
    "new_sheet": false,
    "run_control": {
     "read_only": false
    }
   },
   "source": [
    "# Aprendiendo de los datos: Algoritmo A Priori\n",
    "\n",
    "Las reglas de asociación son implicaciones de la forma `X=>Y`. Dado un soporte mínimo `sopmin`, el algoritmo \"a priori\" es como sigue (consideramos *frecuente* un itemset si su soporte es mayor que `sopmin`:\n",
    "\n",
    "\n",
    " 1) Generar itemsets de tamaño 1 frecuentes\n",
    " \n",
    " 2) k <- 2. **Mientras** no haya nuevos itemsets frecuentes:\n",
    " \n",
    " * Generar itemsets de tamaño k a partir de los itemsets frecuentes de tamaño k-1.\n",
    " * Eliminar itemsets de tamaño k que contienen itemsets de tamaño k-1 no frecuentes\n",
    " * Calcular soporte de cada itemset de tamaño k\n",
    " * Eliminar itemsets de tamaño k no frecuentes.\n",
    " * k <- k+1\n",
    " \n",
    "Está implementado en la librería `arules` por lo que, a través de la ayuda, podemos ver como usarlo y hacer un ejemplo:"
   ]
  },
  {
   "cell_type": "code",
   "execution_count": 4,
   "metadata": {},
   "outputs": [],
   "source": [
    "?arules::apriori"
   ]
  },
  {
   "cell_type": "code",
   "execution_count": 5,
   "metadata": {},
   "outputs": [],
   "source": [
    "?APparameter"
   ]
  },
  {
   "cell_type": "code",
   "execution_count": 6,
   "metadata": {
    "button": false,
    "new_sheet": false,
    "run_control": {
     "read_only": false
    }
   },
   "outputs": [
    {
     "name": "stdout",
     "output_type": "stream",
     "text": [
      "Apriori\n",
      "\n",
      "Parameter specification:\n",
      " confidence minval smax arem  aval originalSupport maxtime support minlen\n",
      "         NA    0.1    1 none FALSE            TRUE       5       0      1\n",
      " maxlen            target   ext\n",
      "     10 frequent itemsets FALSE\n",
      "\n",
      "Algorithmic control:\n",
      " filter tree heap memopt load sort verbose\n",
      "    0.1 TRUE TRUE  FALSE TRUE    2    TRUE\n",
      "\n",
      "Absolute minimum support count: 0 \n",
      "\n",
      "set item appearances ...[0 item(s)] done [0.00s].\n",
      "set transactions ...[5 item(s), 4 transaction(s)] done [0.00s].\n",
      "sorting and recoding items ... [5 item(s)] done [0.00s].\n",
      "creating transaction tree ... done [0.00s].\n",
      "checking subsets of size 1 2 3 4 done [0.00s].\n",
      "writing ... [30 set(s)] done [0.00s].\n",
      "creating S4 object  ... done [0.00s].\n"
     ]
    }
   ],
   "source": [
    "iApriori <- apriori(transactions, \n",
    "                    parameter = list(supp=0, conf=0, target = \"frequent itemsets\"))"
   ]
  },
  {
   "cell_type": "markdown",
   "metadata": {},
   "source": [
    "Inspect permite ver los itemsets:"
   ]
  },
  {
   "cell_type": "code",
   "execution_count": 7,
   "metadata": {},
   "outputs": [
    {
     "data": {
      "text/plain": [
       "set of 30 itemsets "
      ]
     },
     "metadata": {},
     "output_type": "display_data"
    },
    {
     "name": "stdout",
     "output_type": "stream",
     "text": [
      "     items     support count\n",
      "[1]  {b}       0.25    1    \n",
      "[2]  {c}       0.50    2    \n",
      "[3]  {l}       0.75    3    \n",
      "[4]  {O}       0.75    3    \n",
      "[5]  {p}       1.00    4    \n",
      "[6]  {b,c}     0.00    0    \n",
      "[7]  {b,l}     0.25    1    \n",
      "[8]  {b,O}     0.25    1    \n",
      "[9]  {b,p}     0.25    1    \n",
      "[10] {c,l}     0.25    1    \n",
      "[11] {c,O}     0.50    2    \n",
      "[12] {c,p}     0.50    2    \n",
      "[13] {l,O}     0.50    2    \n",
      "[14] {l,p}     0.75    3    \n",
      "[15] {O,p}     0.75    3    \n",
      "[16] {b,c,l}   0.00    0    \n",
      "[17] {b,c,O}   0.00    0    \n",
      "[18] {b,c,p}   0.00    0    \n",
      "[19] {b,l,O}   0.25    1    \n",
      "[20] {b,l,p}   0.25    1    \n",
      "[21] {b,O,p}   0.25    1    \n",
      "[22] {c,l,O}   0.25    1    \n",
      "[23] {c,l,p}   0.25    1    \n",
      "[24] {c,O,p}   0.50    2    \n",
      "[25] {l,O,p}   0.50    2    \n",
      "[26] {b,c,l,O} 0.00    0    \n",
      "[27] {b,c,l,p} 0.00    0    \n",
      "[28] {b,c,O,p} 0.00    0    \n",
      "[29] {b,l,O,p} 0.25    1    \n",
      "[30] {c,l,O,p} 0.25    1    \n"
     ]
    }
   ],
   "source": [
    "iApriori\n",
    "inspect(iApriori)"
   ]
  },
  {
   "cell_type": "code",
   "execution_count": 8,
   "metadata": {},
   "outputs": [
    {
     "data": {
      "text/html": [
       "'itemsets'"
      ],
      "text/latex": [
       "'itemsets'"
      ],
      "text/markdown": [
       "'itemsets'"
      ],
      "text/plain": [
       "[1] \"itemsets\"\n",
       "attr(,\"package\")\n",
       "[1] \"arules\""
      ]
     },
     "metadata": {},
     "output_type": "display_data"
    }
   ],
   "source": [
    "class(iApriori)"
   ]
  },
  {
   "cell_type": "markdown",
   "metadata": {},
   "source": [
    "Podemos convertir este objeto a otros manejable en R:"
   ]
  },
  {
   "cell_type": "code",
   "execution_count": 9,
   "metadata": {},
   "outputs": [
    {
     "data": {
      "text/html": [
       "<table>\n",
       "<caption>A matrix: 30 × 5 of type lgl</caption>\n",
       "<thead>\n",
       "\t<tr><th scope=col>b</th><th scope=col>c</th><th scope=col>l</th><th scope=col>O</th><th scope=col>p</th></tr>\n",
       "</thead>\n",
       "<tbody>\n",
       "\t<tr><td> TRUE</td><td>FALSE</td><td>FALSE</td><td>FALSE</td><td>FALSE</td></tr>\n",
       "\t<tr><td>FALSE</td><td> TRUE</td><td>FALSE</td><td>FALSE</td><td>FALSE</td></tr>\n",
       "\t<tr><td>FALSE</td><td>FALSE</td><td> TRUE</td><td>FALSE</td><td>FALSE</td></tr>\n",
       "\t<tr><td>FALSE</td><td>FALSE</td><td>FALSE</td><td> TRUE</td><td>FALSE</td></tr>\n",
       "\t<tr><td>FALSE</td><td>FALSE</td><td>FALSE</td><td>FALSE</td><td> TRUE</td></tr>\n",
       "\t<tr><td> TRUE</td><td> TRUE</td><td>FALSE</td><td>FALSE</td><td>FALSE</td></tr>\n",
       "\t<tr><td> TRUE</td><td>FALSE</td><td> TRUE</td><td>FALSE</td><td>FALSE</td></tr>\n",
       "\t<tr><td> TRUE</td><td>FALSE</td><td>FALSE</td><td> TRUE</td><td>FALSE</td></tr>\n",
       "\t<tr><td> TRUE</td><td>FALSE</td><td>FALSE</td><td>FALSE</td><td> TRUE</td></tr>\n",
       "\t<tr><td>FALSE</td><td> TRUE</td><td> TRUE</td><td>FALSE</td><td>FALSE</td></tr>\n",
       "\t<tr><td>FALSE</td><td> TRUE</td><td>FALSE</td><td> TRUE</td><td>FALSE</td></tr>\n",
       "\t<tr><td>FALSE</td><td> TRUE</td><td>FALSE</td><td>FALSE</td><td> TRUE</td></tr>\n",
       "\t<tr><td>FALSE</td><td>FALSE</td><td> TRUE</td><td> TRUE</td><td>FALSE</td></tr>\n",
       "\t<tr><td>FALSE</td><td>FALSE</td><td> TRUE</td><td>FALSE</td><td> TRUE</td></tr>\n",
       "\t<tr><td>FALSE</td><td>FALSE</td><td>FALSE</td><td> TRUE</td><td> TRUE</td></tr>\n",
       "\t<tr><td> TRUE</td><td> TRUE</td><td> TRUE</td><td>FALSE</td><td>FALSE</td></tr>\n",
       "\t<tr><td> TRUE</td><td> TRUE</td><td>FALSE</td><td> TRUE</td><td>FALSE</td></tr>\n",
       "\t<tr><td> TRUE</td><td> TRUE</td><td>FALSE</td><td>FALSE</td><td> TRUE</td></tr>\n",
       "\t<tr><td> TRUE</td><td>FALSE</td><td> TRUE</td><td> TRUE</td><td>FALSE</td></tr>\n",
       "\t<tr><td> TRUE</td><td>FALSE</td><td> TRUE</td><td>FALSE</td><td> TRUE</td></tr>\n",
       "\t<tr><td> TRUE</td><td>FALSE</td><td>FALSE</td><td> TRUE</td><td> TRUE</td></tr>\n",
       "\t<tr><td>FALSE</td><td> TRUE</td><td> TRUE</td><td> TRUE</td><td>FALSE</td></tr>\n",
       "\t<tr><td>FALSE</td><td> TRUE</td><td> TRUE</td><td>FALSE</td><td> TRUE</td></tr>\n",
       "\t<tr><td>FALSE</td><td> TRUE</td><td>FALSE</td><td> TRUE</td><td> TRUE</td></tr>\n",
       "\t<tr><td>FALSE</td><td>FALSE</td><td> TRUE</td><td> TRUE</td><td> TRUE</td></tr>\n",
       "\t<tr><td> TRUE</td><td> TRUE</td><td> TRUE</td><td> TRUE</td><td>FALSE</td></tr>\n",
       "\t<tr><td> TRUE</td><td> TRUE</td><td> TRUE</td><td>FALSE</td><td> TRUE</td></tr>\n",
       "\t<tr><td> TRUE</td><td> TRUE</td><td>FALSE</td><td> TRUE</td><td> TRUE</td></tr>\n",
       "\t<tr><td> TRUE</td><td>FALSE</td><td> TRUE</td><td> TRUE</td><td> TRUE</td></tr>\n",
       "\t<tr><td>FALSE</td><td> TRUE</td><td> TRUE</td><td> TRUE</td><td> TRUE</td></tr>\n",
       "</tbody>\n",
       "</table>\n"
      ],
      "text/latex": [
       "A matrix: 30 × 5 of type lgl\n",
       "\\begin{tabular}{lllll}\n",
       " b & c & l & O & p\\\\\n",
       "\\hline\n",
       "\t  TRUE & FALSE & FALSE & FALSE & FALSE\\\\\n",
       "\t FALSE &  TRUE & FALSE & FALSE & FALSE\\\\\n",
       "\t FALSE & FALSE &  TRUE & FALSE & FALSE\\\\\n",
       "\t FALSE & FALSE & FALSE &  TRUE & FALSE\\\\\n",
       "\t FALSE & FALSE & FALSE & FALSE &  TRUE\\\\\n",
       "\t  TRUE &  TRUE & FALSE & FALSE & FALSE\\\\\n",
       "\t  TRUE & FALSE &  TRUE & FALSE & FALSE\\\\\n",
       "\t  TRUE & FALSE & FALSE &  TRUE & FALSE\\\\\n",
       "\t  TRUE & FALSE & FALSE & FALSE &  TRUE\\\\\n",
       "\t FALSE &  TRUE &  TRUE & FALSE & FALSE\\\\\n",
       "\t FALSE &  TRUE & FALSE &  TRUE & FALSE\\\\\n",
       "\t FALSE &  TRUE & FALSE & FALSE &  TRUE\\\\\n",
       "\t FALSE & FALSE &  TRUE &  TRUE & FALSE\\\\\n",
       "\t FALSE & FALSE &  TRUE & FALSE &  TRUE\\\\\n",
       "\t FALSE & FALSE & FALSE &  TRUE &  TRUE\\\\\n",
       "\t  TRUE &  TRUE &  TRUE & FALSE & FALSE\\\\\n",
       "\t  TRUE &  TRUE & FALSE &  TRUE & FALSE\\\\\n",
       "\t  TRUE &  TRUE & FALSE & FALSE &  TRUE\\\\\n",
       "\t  TRUE & FALSE &  TRUE &  TRUE & FALSE\\\\\n",
       "\t  TRUE & FALSE &  TRUE & FALSE &  TRUE\\\\\n",
       "\t  TRUE & FALSE & FALSE &  TRUE &  TRUE\\\\\n",
       "\t FALSE &  TRUE &  TRUE &  TRUE & FALSE\\\\\n",
       "\t FALSE &  TRUE &  TRUE & FALSE &  TRUE\\\\\n",
       "\t FALSE &  TRUE & FALSE &  TRUE &  TRUE\\\\\n",
       "\t FALSE & FALSE &  TRUE &  TRUE &  TRUE\\\\\n",
       "\t  TRUE &  TRUE &  TRUE &  TRUE & FALSE\\\\\n",
       "\t  TRUE &  TRUE &  TRUE & FALSE &  TRUE\\\\\n",
       "\t  TRUE &  TRUE & FALSE &  TRUE &  TRUE\\\\\n",
       "\t  TRUE & FALSE &  TRUE &  TRUE &  TRUE\\\\\n",
       "\t FALSE &  TRUE &  TRUE &  TRUE &  TRUE\\\\\n",
       "\\end{tabular}\n"
      ],
      "text/markdown": [
       "\n",
       "A matrix: 30 × 5 of type lgl\n",
       "\n",
       "| b | c | l | O | p |\n",
       "|---|---|---|---|---|\n",
       "|  TRUE | FALSE | FALSE | FALSE | FALSE |\n",
       "| FALSE |  TRUE | FALSE | FALSE | FALSE |\n",
       "| FALSE | FALSE |  TRUE | FALSE | FALSE |\n",
       "| FALSE | FALSE | FALSE |  TRUE | FALSE |\n",
       "| FALSE | FALSE | FALSE | FALSE |  TRUE |\n",
       "|  TRUE |  TRUE | FALSE | FALSE | FALSE |\n",
       "|  TRUE | FALSE |  TRUE | FALSE | FALSE |\n",
       "|  TRUE | FALSE | FALSE |  TRUE | FALSE |\n",
       "|  TRUE | FALSE | FALSE | FALSE |  TRUE |\n",
       "| FALSE |  TRUE |  TRUE | FALSE | FALSE |\n",
       "| FALSE |  TRUE | FALSE |  TRUE | FALSE |\n",
       "| FALSE |  TRUE | FALSE | FALSE |  TRUE |\n",
       "| FALSE | FALSE |  TRUE |  TRUE | FALSE |\n",
       "| FALSE | FALSE |  TRUE | FALSE |  TRUE |\n",
       "| FALSE | FALSE | FALSE |  TRUE |  TRUE |\n",
       "|  TRUE |  TRUE |  TRUE | FALSE | FALSE |\n",
       "|  TRUE |  TRUE | FALSE |  TRUE | FALSE |\n",
       "|  TRUE |  TRUE | FALSE | FALSE |  TRUE |\n",
       "|  TRUE | FALSE |  TRUE |  TRUE | FALSE |\n",
       "|  TRUE | FALSE |  TRUE | FALSE |  TRUE |\n",
       "|  TRUE | FALSE | FALSE |  TRUE |  TRUE |\n",
       "| FALSE |  TRUE |  TRUE |  TRUE | FALSE |\n",
       "| FALSE |  TRUE |  TRUE | FALSE |  TRUE |\n",
       "| FALSE |  TRUE | FALSE |  TRUE |  TRUE |\n",
       "| FALSE | FALSE |  TRUE |  TRUE |  TRUE |\n",
       "|  TRUE |  TRUE |  TRUE |  TRUE | FALSE |\n",
       "|  TRUE |  TRUE |  TRUE | FALSE |  TRUE |\n",
       "|  TRUE |  TRUE | FALSE |  TRUE |  TRUE |\n",
       "|  TRUE | FALSE |  TRUE |  TRUE |  TRUE |\n",
       "| FALSE |  TRUE |  TRUE |  TRUE |  TRUE |\n",
       "\n"
      ],
      "text/plain": [
       "      b     c     l     O     p    \n",
       " [1,]  TRUE FALSE FALSE FALSE FALSE\n",
       " [2,] FALSE  TRUE FALSE FALSE FALSE\n",
       " [3,] FALSE FALSE  TRUE FALSE FALSE\n",
       " [4,] FALSE FALSE FALSE  TRUE FALSE\n",
       " [5,] FALSE FALSE FALSE FALSE  TRUE\n",
       " [6,]  TRUE  TRUE FALSE FALSE FALSE\n",
       " [7,]  TRUE FALSE  TRUE FALSE FALSE\n",
       " [8,]  TRUE FALSE FALSE  TRUE FALSE\n",
       " [9,]  TRUE FALSE FALSE FALSE  TRUE\n",
       "[10,] FALSE  TRUE  TRUE FALSE FALSE\n",
       "[11,] FALSE  TRUE FALSE  TRUE FALSE\n",
       "[12,] FALSE  TRUE FALSE FALSE  TRUE\n",
       "[13,] FALSE FALSE  TRUE  TRUE FALSE\n",
       "[14,] FALSE FALSE  TRUE FALSE  TRUE\n",
       "[15,] FALSE FALSE FALSE  TRUE  TRUE\n",
       "[16,]  TRUE  TRUE  TRUE FALSE FALSE\n",
       "[17,]  TRUE  TRUE FALSE  TRUE FALSE\n",
       "[18,]  TRUE  TRUE FALSE FALSE  TRUE\n",
       "[19,]  TRUE FALSE  TRUE  TRUE FALSE\n",
       "[20,]  TRUE FALSE  TRUE FALSE  TRUE\n",
       "[21,]  TRUE FALSE FALSE  TRUE  TRUE\n",
       "[22,] FALSE  TRUE  TRUE  TRUE FALSE\n",
       "[23,] FALSE  TRUE  TRUE FALSE  TRUE\n",
       "[24,] FALSE  TRUE FALSE  TRUE  TRUE\n",
       "[25,] FALSE FALSE  TRUE  TRUE  TRUE\n",
       "[26,]  TRUE  TRUE  TRUE  TRUE FALSE\n",
       "[27,]  TRUE  TRUE  TRUE FALSE  TRUE\n",
       "[28,]  TRUE  TRUE FALSE  TRUE  TRUE\n",
       "[29,]  TRUE FALSE  TRUE  TRUE  TRUE\n",
       "[30,] FALSE  TRUE  TRUE  TRUE  TRUE"
      ]
     },
     "metadata": {},
     "output_type": "display_data"
    }
   ],
   "source": [
    "iApriori.list <- as(items(iApriori), \"list\")\n",
    "iApriori.matrix <- as(items(iApriori), \"matrix\")\n",
    "iApriori.matrix"
   ]
  },
  {
   "cell_type": "code",
   "execution_count": 10,
   "metadata": {},
   "outputs": [
    {
     "data": {
      "image/png": "[encoded data removed]",
      "text/plain": [
       "plot without title"
      ]
     },
     "metadata": {
      "image/png": {
       "height": 420,
       "width": 420
      },
      "text/plain": {
       "height": 420,
       "width": 420
      }
     },
     "output_type": "display_data"
    }
   ],
   "source": [
    "image(t(iApriori.matrix), axes = F)\n",
    "axis(2)\n",
    "axis(1, at=seq(0,1,length.out = 5), labels=colnames(iApriori.matrix))"
   ]
  },
  {
   "cell_type": "markdown",
   "metadata": {},
   "source": [
    "Equivalentemente..."
   ]
  },
  {
   "cell_type": "code",
   "execution_count": 11,
   "metadata": {},
   "outputs": [
    {
     "data": {
      "image/png": "[encoded data removed]",
      "text/plain": [
       "plot without title"
      ]
     },
     "metadata": {
      "image/png": {
       "height": 420,
       "width": 420
      },
      "text/plain": {
       "height": 420,
       "width": 420
      }
     },
     "output_type": "display_data"
    }
   ],
   "source": [
    "image(items(iApriori))"
   ]
  },
  {
   "cell_type": "markdown",
   "metadata": {
    "button": false,
    "new_sheet": false,
    "run_control": {
     "read_only": false
    }
   },
   "source": [
    "Utilizamos ahora el algoritmo ECLAT:"
   ]
  },
  {
   "cell_type": "code",
   "execution_count": 16,
   "metadata": {
    "button": false,
    "new_sheet": false,
    "run_control": {
     "read_only": false
    }
   },
   "outputs": [
    {
     "name": "stdout",
     "output_type": "stream",
     "text": [
      "Eclat\n",
      "\n",
      "parameter specification:\n",
      " tidLists support minlen maxlen            target   ext\n",
      "    FALSE       0      1      5 frequent itemsets FALSE\n",
      "\n",
      "algorithmic control:\n",
      " sparse sort verbose\n",
      "      7   -2    TRUE\n",
      "\n",
      "Absolute minimum support count: 0 \n",
      "\n"
     ]
    },
    {
     "name": "stderr",
     "output_type": "stream",
     "text": [
      "Warning message in eclat(transactions, parameter = list(support = 0, maxlen = 5)):\n",
      "“You chose a very low absolute support count of 0. You might run out of memory! Increase minimum support.\n",
      "”\n"
     ]
    },
    {
     "name": "stdout",
     "output_type": "stream",
     "text": [
      "create itemset ... \n",
      "set transactions ...[5 item(s), 4 transaction(s)] done [0.00s].\n",
      "sorting and recoding items ... [5 item(s)] done [0.00s].\n",
      "creating bit matrix ... [5 row(s), 4 column(s)] done [0.00s].\n",
      "writing  ... [23 set(s)] done [0.00s].\n",
      "Creating S4 object  ... done [0.00s].\n"
     ]
    }
   ],
   "source": [
    "iEclat <- eclat(transactions, parameter = list(support = 0, maxlen = 5))"
   ]
  },
  {
   "cell_type": "code",
   "execution_count": 17,
   "metadata": {},
   "outputs": [
    {
     "name": "stdout",
     "output_type": "stream",
     "text": [
      "     items     support count\n",
      "[1]  {b,l,O,p} 0.25    1    \n",
      "[2]  {b,l,p}   0.25    1    \n",
      "[3]  {b,l,O}   0.25    1    \n",
      "[4]  {b,O,p}   0.25    1    \n",
      "[5]  {b,p}     0.25    1    \n",
      "[6]  {b,O}     0.25    1    \n",
      "[7]  {b,l}     0.25    1    \n",
      "[8]  {c,l,O,p} 0.25    1    \n",
      "[9]  {c,l,p}   0.25    1    \n",
      "[10] {c,l,O}   0.25    1    \n",
      "[11] {c,O,p}   0.50    2    \n",
      "[12] {c,p}     0.50    2    \n",
      "[13] {c,O}     0.50    2    \n",
      "[14] {c,l}     0.25    1    \n",
      "[15] {l,O,p}   0.50    2    \n",
      "[16] {l,p}     0.75    3    \n",
      "[17] {l,O}     0.50    2    \n",
      "[18] {O,p}     0.75    3    \n",
      "[19] {p}       1.00    4    \n",
      "[20] {O}       0.75    3    \n",
      "[21] {l}       0.75    3    \n",
      "[22] {c}       0.50    2    \n",
      "[23] {b}       0.25    1    \n"
     ]
    }
   ],
   "source": [
    "inspect(iEclat)"
   ]
  },
  {
   "cell_type": "code",
   "execution_count": 18,
   "metadata": {},
   "outputs": [
    {
     "data": {
      "text/plain": [
       "set of 23 itemsets\n",
       "\n",
       "most frequent items:\n",
       "      l       O       p       b       c (Other) \n",
       "     12      12      12       8       8       0 \n",
       "\n",
       "element (itemset/transaction) length distribution:sizes\n",
       "1 2 3 4 \n",
       "5 9 7 2 \n",
       "\n",
       "   Min. 1st Qu.  Median    Mean 3rd Qu.    Max. \n",
       "  1.000   2.000   2.000   2.261   3.000   4.000 \n",
       "\n",
       "summary of quality measures:\n",
       "    support           count      \n",
       " Min.   :0.2500   Min.   :1.000  \n",
       " 1st Qu.:0.2500   1st Qu.:1.000  \n",
       " Median :0.2500   Median :1.000  \n",
       " Mean   :0.4348   Mean   :1.739  \n",
       " 3rd Qu.:0.5000   3rd Qu.:2.000  \n",
       " Max.   :1.0000   Max.   :4.000  \n",
       "\n",
       "includes transaction ID lists: FALSE \n",
       "\n",
       "mining info:\n",
       "         data ntransactions support\n",
       " transactions             4       0"
      ]
     },
     "metadata": {},
     "output_type": "display_data"
    }
   ],
   "source": [
    "summary(iEclat)"
   ]
  },
  {
   "cell_type": "markdown",
   "metadata": {
    "button": false,
    "new_sheet": false,
    "run_control": {
     "read_only": false
    }
   },
   "source": [
    "Notar que ECLAT suprime aquellos itemsets que no ocurren mientras que, si no se establecen restricciones, APRIORI devuelve todas las combinaciones, salvo el conjunto vacío y el total. Podemos filtrar las transacciones según incluyan ciertos productos con la función subset. La sintaxis `%in%`, `%ain%` y `%pin%`, define que incluyan alguno, todos o parte de los items incluidos en la lista."
   ]
  },
  {
   "cell_type": "code",
   "execution_count": 19,
   "metadata": {
    "button": false,
    "new_sheet": false,
    "run_control": {
     "read_only": false
    }
   },
   "outputs": [
    {
     "name": "stdout",
     "output_type": "stream",
     "text": [
      "     items     support count\n",
      "[1]  {b}       0.25    1    \n",
      "[2]  {l}       0.75    3    \n",
      "[3]  {b,c}     0.00    0    \n",
      "[4]  {b,l}     0.25    1    \n",
      "[5]  {b,O}     0.25    1    \n",
      "[6]  {b,p}     0.25    1    \n",
      "[7]  {c,l}     0.25    1    \n",
      "[8]  {l,O}     0.50    2    \n",
      "[9]  {l,p}     0.75    3    \n",
      "[10] {b,c,l}   0.00    0    \n",
      "[11] {b,c,O}   0.00    0    \n",
      "[12] {b,c,p}   0.00    0    \n",
      "[13] {b,l,O}   0.25    1    \n",
      "[14] {b,l,p}   0.25    1    \n",
      "[15] {b,O,p}   0.25    1    \n",
      "[16] {c,l,O}   0.25    1    \n",
      "[17] {c,l,p}   0.25    1    \n",
      "[18] {l,O,p}   0.50    2    \n",
      "[19] {b,c,l,O} 0.00    0    \n",
      "[20] {b,c,l,p} 0.00    0    \n",
      "[21] {b,c,O,p} 0.00    0    \n",
      "[22] {b,l,O,p} 0.25    1    \n",
      "[23] {c,l,O,p} 0.25    1    \n"
     ]
    }
   ],
   "source": [
    "inspect(subset(iApriori, subset = items %in% c(\"b\",\"l\") ) )"
   ]
  },
  {
   "cell_type": "code",
   "execution_count": 20,
   "metadata": {},
   "outputs": [
    {
     "name": "stdout",
     "output_type": "stream",
     "text": [
      "    items     support count\n",
      "[1] {b,l}     0.25    1    \n",
      "[2] {b,c,l}   0.00    0    \n",
      "[3] {b,l,O}   0.25    1    \n",
      "[4] {b,l,p}   0.25    1    \n",
      "[5] {b,c,l,O} 0.00    0    \n",
      "[6] {b,c,l,p} 0.00    0    \n",
      "[7] {b,l,O,p} 0.25    1    \n"
     ]
    }
   ],
   "source": [
    "inspect(subset(iApriori, subset = items %ain% c(\"b\",\"l\")))"
   ]
  },
  {
   "cell_type": "code",
   "execution_count": 21,
   "metadata": {},
   "outputs": [
    {
     "name": "stderr",
     "output_type": "stream",
     "text": [
      "Warning message in items %pin% c(\"b\", \"l\"):\n",
      "“table contains more than one item label pattern and only the first element will be used”\n"
     ]
    },
    {
     "name": "stdout",
     "output_type": "stream",
     "text": [
      "     items     support count\n",
      "[1]  {b}       0.25    1    \n",
      "[2]  {b,c}     0.00    0    \n",
      "[3]  {b,l}     0.25    1    \n",
      "[4]  {b,O}     0.25    1    \n",
      "[5]  {b,p}     0.25    1    \n",
      "[6]  {b,c,l}   0.00    0    \n",
      "[7]  {b,c,O}   0.00    0    \n",
      "[8]  {b,c,p}   0.00    0    \n",
      "[9]  {b,l,O}   0.25    1    \n",
      "[10] {b,l,p}   0.25    1    \n",
      "[11] {b,O,p}   0.25    1    \n",
      "[12] {b,c,l,O} 0.00    0    \n",
      "[13] {b,c,l,p} 0.00    0    \n",
      "[14] {b,c,O,p} 0.00    0    \n",
      "[15] {b,l,O,p} 0.25    1    \n"
     ]
    }
   ],
   "source": [
    "inspect(subset(iApriori, subset = items %pin% c(\"b\",\"l\")))"
   ]
  },
  {
   "cell_type": "code",
   "execution_count": 22,
   "metadata": {},
   "outputs": [
    {
     "data": {
      "text/plain": [
       "transactions in sparse format with\n",
       " 4 transactions (rows) and\n",
       " 5 items (columns)"
      ]
     },
     "metadata": {},
     "output_type": "display_data"
    }
   ],
   "source": [
    "transactions"
   ]
  },
  {
   "cell_type": "markdown",
   "metadata": {
    "button": false,
    "new_sheet": false,
    "run_control": {
     "read_only": false
    }
   },
   "source": [
    "Notar que en el último caso, el orden de los items es relevante.\n",
    "\n",
    "Como hemos visto, una vez obtenidos los itemsets a partir de ellos construimos las reglas de asociación en base a las restricciones que definamos. En el caso del algoritmo APRIORI la función permite obtener las reglas como salida. Sin embargo, el algoritmo ECLAT únicamente devuelve los itemsets y las reglas de asociación deben inducirse con la función `ruleInduction`."
   ]
  },
  {
   "cell_type": "code",
   "execution_count": 23,
   "metadata": {},
   "outputs": [
    {
     "name": "stdout",
     "output_type": "stream",
     "text": [
      "    items    \n",
      "[1] {b,l,O,p}\n",
      "[2] {l,p}    \n",
      "[3] {c,O,p}  \n",
      "[4] {c,l,O,p}\n"
     ]
    }
   ],
   "source": [
    "inspect(transactions)"
   ]
  },
  {
   "cell_type": "code",
   "execution_count": 24,
   "metadata": {
    "button": false,
    "new_sheet": false,
    "run_control": {
     "read_only": false
    },
    "scrolled": false
   },
   "outputs": [
    {
     "name": "stdout",
     "output_type": "stream",
     "text": [
      "Apriori\n",
      "\n",
      "Parameter specification:\n",
      " confidence minval smax arem  aval originalSupport maxtime support minlen\n",
      "          0    0.1    1 none FALSE            TRUE       5       0      1\n",
      " maxlen target   ext\n",
      "     10  rules FALSE\n",
      "\n",
      "Algorithmic control:\n",
      " filter tree heap memopt load sort verbose\n",
      "    0.1 TRUE TRUE  FALSE TRUE    2    TRUE\n",
      "\n",
      "Absolute minimum support count: 0 \n",
      "\n",
      "set item appearances ...[0 item(s)] done [0.00s].\n",
      "set transactions ...[5 item(s), 4 transaction(s)] done [0.00s].\n",
      "sorting and recoding items ... [5 item(s)] done [0.00s].\n",
      "creating transaction tree ... done [0.00s].\n",
      "checking subsets of size 1 2 3 4 done [0.00s].\n",
      "writing ... [75 rule(s)] done [0.00s].\n",
      "creating S4 object  ... done [0.00s].\n",
      "     lhs        rhs support confidence lift      count\n",
      "[1]  {}      => {b} 0.25    0.2500000  1.0000000 1    \n",
      "[2]  {}      => {c} 0.50    0.5000000  1.0000000 2    \n",
      "[3]  {}      => {l} 0.75    0.7500000  1.0000000 3    \n",
      "[4]  {}      => {O} 0.75    0.7500000  1.0000000 3    \n",
      "[5]  {}      => {p} 1.00    1.0000000  1.0000000 4    \n",
      "[6]  {b}     => {c} 0.00    0.0000000  0.0000000 0    \n",
      "[7]  {c}     => {b} 0.00    0.0000000  0.0000000 0    \n",
      "[8]  {b}     => {l} 0.25    1.0000000  1.3333333 1    \n",
      "[9]  {l}     => {b} 0.25    0.3333333  1.3333333 1    \n",
      "[10] {b}     => {O} 0.25    1.0000000  1.3333333 1    \n",
      "[11] {O}     => {b} 0.25    0.3333333  1.3333333 1    \n",
      "[12] {b}     => {p} 0.25    1.0000000  1.0000000 1    \n",
      "[13] {p}     => {b} 0.25    0.2500000  1.0000000 1    \n",
      "[14] {c}     => {l} 0.25    0.5000000  0.6666667 1    \n",
      "[15] {l}     => {c} 0.25    0.3333333  0.6666667 1    \n",
      "[16] {c}     => {O} 0.50    1.0000000  1.3333333 2    \n",
      "[17] {O}     => {c} 0.50    0.6666667  1.3333333 2    \n",
      "[18] {c}     => {p} 0.50    1.0000000  1.0000000 2    \n",
      "[19] {p}     => {c} 0.50    0.5000000  1.0000000 2    \n",
      "[20] {l}     => {O} 0.50    0.6666667  0.8888889 2    \n",
      "[21] {O}     => {l} 0.50    0.6666667  0.8888889 2    \n",
      "[22] {l}     => {p} 0.75    1.0000000  1.0000000 3    \n",
      "[23] {p}     => {l} 0.75    0.7500000  1.0000000 3    \n",
      "[24] {O}     => {p} 0.75    1.0000000  1.0000000 3    \n",
      "[25] {p}     => {O} 0.75    0.7500000  1.0000000 3    \n",
      "[26] {b,c}   => {l} 0.00    1.0000000  1.3333333 0    \n",
      "[27] {b,l}   => {c} 0.00    0.0000000  0.0000000 0    \n",
      "[28] {c,l}   => {b} 0.00    0.0000000  0.0000000 0    \n",
      "[29] {b,c}   => {O} 0.00    1.0000000  1.3333333 0    \n",
      "[30] {b,O}   => {c} 0.00    0.0000000  0.0000000 0    \n",
      "[31] {c,O}   => {b} 0.00    0.0000000  0.0000000 0    \n",
      "[32] {b,c}   => {p} 0.00    1.0000000  1.0000000 0    \n",
      "[33] {b,p}   => {c} 0.00    0.0000000  0.0000000 0    \n",
      "[34] {c,p}   => {b} 0.00    0.0000000  0.0000000 0    \n",
      "[35] {b,l}   => {O} 0.25    1.0000000  1.3333333 1    \n",
      "[36] {b,O}   => {l} 0.25    1.0000000  1.3333333 1    \n",
      "[37] {l,O}   => {b} 0.25    0.5000000  2.0000000 1    \n",
      "[38] {b,l}   => {p} 0.25    1.0000000  1.0000000 1    \n",
      "[39] {b,p}   => {l} 0.25    1.0000000  1.3333333 1    \n",
      "[40] {l,p}   => {b} 0.25    0.3333333  1.3333333 1    \n",
      "[41] {b,O}   => {p} 0.25    1.0000000  1.0000000 1    \n",
      "[42] {b,p}   => {O} 0.25    1.0000000  1.3333333 1    \n",
      "[43] {O,p}   => {b} 0.25    0.3333333  1.3333333 1    \n",
      "[44] {c,l}   => {O} 0.25    1.0000000  1.3333333 1    \n",
      "[45] {c,O}   => {l} 0.25    0.5000000  0.6666667 1    \n",
      "[46] {l,O}   => {c} 0.25    0.5000000  1.0000000 1    \n",
      "[47] {c,l}   => {p} 0.25    1.0000000  1.0000000 1    \n",
      "[48] {c,p}   => {l} 0.25    0.5000000  0.6666667 1    \n",
      "[49] {l,p}   => {c} 0.25    0.3333333  0.6666667 1    \n",
      "[50] {c,O}   => {p} 0.50    1.0000000  1.0000000 2    \n",
      "[51] {c,p}   => {O} 0.50    1.0000000  1.3333333 2    \n",
      "[52] {O,p}   => {c} 0.50    0.6666667  1.3333333 2    \n",
      "[53] {l,O}   => {p} 0.50    1.0000000  1.0000000 2    \n",
      "[54] {l,p}   => {O} 0.50    0.6666667  0.8888889 2    \n",
      "[55] {O,p}   => {l} 0.50    0.6666667  0.8888889 2    \n",
      "[56] {b,c,l} => {O} 0.00    1.0000000  1.3333333 0    \n",
      "[57] {b,c,O} => {l} 0.00    1.0000000  1.3333333 0    \n",
      "[58] {b,l,O} => {c} 0.00    0.0000000  0.0000000 0    \n",
      "[59] {c,l,O} => {b} 0.00    0.0000000  0.0000000 0    \n",
      "[60] {b,c,l} => {p} 0.00    1.0000000  1.0000000 0    \n",
      "[61] {b,c,p} => {l} 0.00    1.0000000  1.3333333 0    \n",
      "[62] {b,l,p} => {c} 0.00    0.0000000  0.0000000 0    \n",
      "[63] {c,l,p} => {b} 0.00    0.0000000  0.0000000 0    \n",
      "[64] {b,c,O} => {p} 0.00    1.0000000  1.0000000 0    \n",
      "[65] {b,c,p} => {O} 0.00    1.0000000  1.3333333 0    \n",
      "[66] {b,O,p} => {c} 0.00    0.0000000  0.0000000 0    \n",
      "[67] {c,O,p} => {b} 0.00    0.0000000  0.0000000 0    \n",
      "[68] {b,l,O} => {p} 0.25    1.0000000  1.0000000 1    \n",
      "[69] {b,l,p} => {O} 0.25    1.0000000  1.3333333 1    \n",
      "[70] {b,O,p} => {l} 0.25    1.0000000  1.3333333 1    \n",
      "[71] {l,O,p} => {b} 0.25    0.5000000  2.0000000 1    \n",
      "[72] {c,l,O} => {p} 0.25    1.0000000  1.0000000 1    \n",
      "[73] {c,l,p} => {O} 0.25    1.0000000  1.3333333 1    \n",
      "[74] {c,O,p} => {l} 0.25    0.5000000  0.6666667 1    \n",
      "[75] {l,O,p} => {c} 0.25    0.5000000  1.0000000 1    \n"
     ]
    }
   ],
   "source": [
    "rApriori <- apriori(transactions, parameter = list(supp=0, conf=0, target = \"rules\"))\n",
    "inspect(rApriori)"
   ]
  },
  {
   "cell_type": "markdown",
   "metadata": {
    "button": false,
    "new_sheet": false,
    "run_control": {
     "read_only": false
    }
   },
   "source": [
    "La inclusión de reglas cuyo antecedente (`lhs`: left hand side) es el conjunto vacío (`{}`) pueden fitrarse incluyendo restricciones respecto a la longitud mínima (`minlen`)."
   ]
  },
  {
   "cell_type": "code",
   "execution_count": 25,
   "metadata": {
    "button": false,
    "new_sheet": false,
    "run_control": {
     "read_only": false
    },
    "scrolled": false
   },
   "outputs": [
    {
     "name": "stdout",
     "output_type": "stream",
     "text": [
      "Apriori\n",
      "\n",
      "Parameter specification:\n",
      " confidence minval smax arem  aval originalSupport maxtime support minlen\n",
      "          0    0.1    1 none FALSE            TRUE       5       0      2\n",
      " maxlen target   ext\n",
      "     10  rules FALSE\n",
      "\n",
      "Algorithmic control:\n",
      " filter tree heap memopt load sort verbose\n",
      "    0.1 TRUE TRUE  FALSE TRUE    2    TRUE\n",
      "\n",
      "Absolute minimum support count: 0 \n",
      "\n",
      "set item appearances ...[0 item(s)] done [0.00s].\n",
      "set transactions ...[5 item(s), 4 transaction(s)] done [0.00s].\n",
      "sorting and recoding items ... [5 item(s)] done [0.00s].\n",
      "creating transaction tree ... done [0.00s].\n",
      "checking subsets of size 1 2 3 4 done [0.00s].\n",
      "writing ... [70 rule(s)] done [0.00s].\n",
      "creating S4 object  ... done [0.00s].\n",
      "     lhs        rhs support confidence lift      count\n",
      "[1]  {b}     => {c} 0.00    0.0000000  0.0000000 0    \n",
      "[2]  {c}     => {b} 0.00    0.0000000  0.0000000 0    \n",
      "[3]  {b}     => {l} 0.25    1.0000000  1.3333333 1    \n",
      "[4]  {l}     => {b} 0.25    0.3333333  1.3333333 1    \n",
      "[5]  {b}     => {O} 0.25    1.0000000  1.3333333 1    \n",
      "[6]  {O}     => {b} 0.25    0.3333333  1.3333333 1    \n",
      "[7]  {b}     => {p} 0.25    1.0000000  1.0000000 1    \n",
      "[8]  {p}     => {b} 0.25    0.2500000  1.0000000 1    \n",
      "[9]  {c}     => {l} 0.25    0.5000000  0.6666667 1    \n",
      "[10] {l}     => {c} 0.25    0.3333333  0.6666667 1    \n",
      "[11] {c}     => {O} 0.50    1.0000000  1.3333333 2    \n",
      "[12] {O}     => {c} 0.50    0.6666667  1.3333333 2    \n",
      "[13] {c}     => {p} 0.50    1.0000000  1.0000000 2    \n",
      "[14] {p}     => {c} 0.50    0.5000000  1.0000000 2    \n",
      "[15] {l}     => {O} 0.50    0.6666667  0.8888889 2    \n",
      "[16] {O}     => {l} 0.50    0.6666667  0.8888889 2    \n",
      "[17] {l}     => {p} 0.75    1.0000000  1.0000000 3    \n",
      "[18] {p}     => {l} 0.75    0.7500000  1.0000000 3    \n",
      "[19] {O}     => {p} 0.75    1.0000000  1.0000000 3    \n",
      "[20] {p}     => {O} 0.75    0.7500000  1.0000000 3    \n",
      "[21] {b,c}   => {l} 0.00    1.0000000  1.3333333 0    \n",
      "[22] {b,l}   => {c} 0.00    0.0000000  0.0000000 0    \n",
      "[23] {c,l}   => {b} 0.00    0.0000000  0.0000000 0    \n",
      "[24] {b,c}   => {O} 0.00    1.0000000  1.3333333 0    \n",
      "[25] {b,O}   => {c} 0.00    0.0000000  0.0000000 0    \n",
      "[26] {c,O}   => {b} 0.00    0.0000000  0.0000000 0    \n",
      "[27] {b,c}   => {p} 0.00    1.0000000  1.0000000 0    \n",
      "[28] {b,p}   => {c} 0.00    0.0000000  0.0000000 0    \n",
      "[29] {c,p}   => {b} 0.00    0.0000000  0.0000000 0    \n",
      "[30] {b,l}   => {O} 0.25    1.0000000  1.3333333 1    \n",
      "[31] {b,O}   => {l} 0.25    1.0000000  1.3333333 1    \n",
      "[32] {l,O}   => {b} 0.25    0.5000000  2.0000000 1    \n",
      "[33] {b,l}   => {p} 0.25    1.0000000  1.0000000 1    \n",
      "[34] {b,p}   => {l} 0.25    1.0000000  1.3333333 1    \n",
      "[35] {l,p}   => {b} 0.25    0.3333333  1.3333333 1    \n",
      "[36] {b,O}   => {p} 0.25    1.0000000  1.0000000 1    \n",
      "[37] {b,p}   => {O} 0.25    1.0000000  1.3333333 1    \n",
      "[38] {O,p}   => {b} 0.25    0.3333333  1.3333333 1    \n",
      "[39] {c,l}   => {O} 0.25    1.0000000  1.3333333 1    \n",
      "[40] {c,O}   => {l} 0.25    0.5000000  0.6666667 1    \n",
      "[41] {l,O}   => {c} 0.25    0.5000000  1.0000000 1    \n",
      "[42] {c,l}   => {p} 0.25    1.0000000  1.0000000 1    \n",
      "[43] {c,p}   => {l} 0.25    0.5000000  0.6666667 1    \n",
      "[44] {l,p}   => {c} 0.25    0.3333333  0.6666667 1    \n",
      "[45] {c,O}   => {p} 0.50    1.0000000  1.0000000 2    \n",
      "[46] {c,p}   => {O} 0.50    1.0000000  1.3333333 2    \n",
      "[47] {O,p}   => {c} 0.50    0.6666667  1.3333333 2    \n",
      "[48] {l,O}   => {p} 0.50    1.0000000  1.0000000 2    \n",
      "[49] {l,p}   => {O} 0.50    0.6666667  0.8888889 2    \n",
      "[50] {O,p}   => {l} 0.50    0.6666667  0.8888889 2    \n",
      "[51] {b,c,l} => {O} 0.00    1.0000000  1.3333333 0    \n",
      "[52] {b,c,O} => {l} 0.00    1.0000000  1.3333333 0    \n",
      "[53] {b,l,O} => {c} 0.00    0.0000000  0.0000000 0    \n",
      "[54] {c,l,O} => {b} 0.00    0.0000000  0.0000000 0    \n",
      "[55] {b,c,l} => {p} 0.00    1.0000000  1.0000000 0    \n",
      "[56] {b,c,p} => {l} 0.00    1.0000000  1.3333333 0    \n",
      "[57] {b,l,p} => {c} 0.00    0.0000000  0.0000000 0    \n",
      "[58] {c,l,p} => {b} 0.00    0.0000000  0.0000000 0    \n",
      "[59] {b,c,O} => {p} 0.00    1.0000000  1.0000000 0    \n",
      "[60] {b,c,p} => {O} 0.00    1.0000000  1.3333333 0    \n",
      "[61] {b,O,p} => {c} 0.00    0.0000000  0.0000000 0    \n",
      "[62] {c,O,p} => {b} 0.00    0.0000000  0.0000000 0    \n",
      "[63] {b,l,O} => {p} 0.25    1.0000000  1.0000000 1    \n",
      "[64] {b,l,p} => {O} 0.25    1.0000000  1.3333333 1    \n",
      "[65] {b,O,p} => {l} 0.25    1.0000000  1.3333333 1    \n",
      "[66] {l,O,p} => {b} 0.25    0.5000000  2.0000000 1    \n",
      "[67] {c,l,O} => {p} 0.25    1.0000000  1.0000000 1    \n",
      "[68] {c,l,p} => {O} 0.25    1.0000000  1.3333333 1    \n",
      "[69] {c,O,p} => {l} 0.25    0.5000000  0.6666667 1    \n",
      "[70] {l,O,p} => {c} 0.25    0.5000000  1.0000000 1    \n"
     ]
    }
   ],
   "source": [
    "rApriori <- apriori(transactions, parameter = list(supp=0, conf=0, target = \"rules\", minlen=2))\n",
    "inspect(rApriori)"
   ]
  },
  {
   "cell_type": "markdown",
   "metadata": {
    "button": false,
    "new_sheet": false,
    "run_control": {
     "read_only": false
    }
   },
   "source": [
    "En el caso de ECLAT, como vimos, hay que hacer uso de funciones específicas de obtención de reglas:"
   ]
  },
  {
   "cell_type": "code",
   "execution_count": 26,
   "metadata": {},
   "outputs": [],
   "source": [
    "?ruleInduction"
   ]
  },
  {
   "cell_type": "code",
   "execution_count": 28,
   "metadata": {
    "button": false,
    "new_sheet": false,
    "run_control": {
     "read_only": false
    }
   },
   "outputs": [
    {
     "name": "stdout",
     "output_type": "stream",
     "text": [
      "     lhs        rhs support confidence lift      itemset\n",
      "[1]  {l,O,p} => {b} 0.25    0.5000000  2.0000000  1     \n",
      "[2]  {b,O,p} => {l} 0.25    1.0000000  1.3333333  1     \n",
      "[3]  {b,l,p} => {O} 0.25    1.0000000  1.3333333  1     \n",
      "[4]  {b,l,O} => {p} 0.25    1.0000000  1.0000000  1     \n",
      "[5]  {l,p}   => {b} 0.25    0.3333333  1.3333333  2     \n",
      "[6]  {b,p}   => {l} 0.25    1.0000000  1.3333333  2     \n",
      "[7]  {b,l}   => {p} 0.25    1.0000000  1.0000000  2     \n",
      "[8]  {l,O}   => {b} 0.25    0.5000000  2.0000000  3     \n",
      "[9]  {b,O}   => {l} 0.25    1.0000000  1.3333333  3     \n",
      "[10] {b,l}   => {O} 0.25    1.0000000  1.3333333  3     \n",
      "[11] {O,p}   => {b} 0.25    0.3333333  1.3333333  4     \n",
      "[12] {b,p}   => {O} 0.25    1.0000000  1.3333333  4     \n",
      "[13] {b,O}   => {p} 0.25    1.0000000  1.0000000  4     \n",
      "[14] {p}     => {b} 0.25    0.2500000  1.0000000  5     \n",
      "[15] {b}     => {p} 0.25    1.0000000  1.0000000  5     \n",
      "[16] {O}     => {b} 0.25    0.3333333  1.3333333  6     \n",
      "[17] {b}     => {O} 0.25    1.0000000  1.3333333  6     \n",
      "[18] {l}     => {b} 0.25    0.3333333  1.3333333  7     \n",
      "[19] {b}     => {l} 0.25    1.0000000  1.3333333  7     \n",
      "[20] {l,O,p} => {c} 0.25    0.5000000  1.0000000  8     \n",
      "[21] {c,O,p} => {l} 0.25    0.5000000  0.6666667  8     \n",
      "[22] {c,l,p} => {O} 0.25    1.0000000  1.3333333  8     \n",
      "[23] {c,l,O} => {p} 0.25    1.0000000  1.0000000  8     \n",
      "[24] {l,p}   => {c} 0.25    0.3333333  0.6666667  9     \n",
      "[25] {c,p}   => {l} 0.25    0.5000000  0.6666667  9     \n",
      "[26] {c,l}   => {p} 0.25    1.0000000  1.0000000  9     \n",
      "[27] {l,O}   => {c} 0.25    0.5000000  1.0000000 10     \n",
      "[28] {c,O}   => {l} 0.25    0.5000000  0.6666667 10     \n",
      "[29] {c,l}   => {O} 0.25    1.0000000  1.3333333 10     \n",
      "[30] {O,p}   => {c} 0.50    0.6666667  1.3333333 11     \n",
      "[31] {c,p}   => {O} 0.50    1.0000000  1.3333333 11     \n",
      "[32] {c,O}   => {p} 0.50    1.0000000  1.0000000 11     \n",
      "[33] {p}     => {c} 0.50    0.5000000  1.0000000 12     \n",
      "[34] {c}     => {p} 0.50    1.0000000  1.0000000 12     \n",
      "[35] {O}     => {c} 0.50    0.6666667  1.3333333 13     \n",
      "[36] {c}     => {O} 0.50    1.0000000  1.3333333 13     \n",
      "[37] {l}     => {c} 0.25    0.3333333  0.6666667 14     \n",
      "[38] {c}     => {l} 0.25    0.5000000  0.6666667 14     \n",
      "[39] {O,p}   => {l} 0.50    0.6666667  0.8888889 15     \n",
      "[40] {l,p}   => {O} 0.50    0.6666667  0.8888889 15     \n",
      "[41] {l,O}   => {p} 0.50    1.0000000  1.0000000 15     \n",
      "[42] {p}     => {l} 0.75    0.7500000  1.0000000 16     \n",
      "[43] {l}     => {p} 0.75    1.0000000  1.0000000 16     \n",
      "[44] {O}     => {l} 0.50    0.6666667  0.8888889 17     \n",
      "[45] {l}     => {O} 0.50    0.6666667  0.8888889 17     \n",
      "[46] {p}     => {O} 0.75    0.7500000  1.0000000 18     \n",
      "[47] {O}     => {p} 0.75    1.0000000  1.0000000 18     \n"
     ]
    }
   ],
   "source": [
    "rEclat <- ruleInduction(iEclat, transactions, confidence = 0)\n",
    "inspect(rEclat)"
   ]
  },
  {
   "cell_type": "markdown",
   "metadata": {
    "button": false,
    "new_sheet": false,
    "run_control": {
     "read_only": false
    }
   },
   "source": [
    "Si bien no hemos realizado ningún filtro a las reglas obtenidas, más allá de las impuestas por los algoritmos de aprendizaje, es habitual obtener reglas redundantes la cuales debemos filtrar. Para ello, la función `is.redundant` nos permite localizar estas redundancias:"
   ]
  },
  {
   "cell_type": "code",
   "execution_count": 30,
   "metadata": {
    "button": false,
    "new_sheet": false,
    "run_control": {
     "read_only": false
    }
   },
   "outputs": [
    {
     "name": "stdout",
     "output_type": "stream",
     "text": [
      "     lhs        rhs support confidence lift      count\n",
      "[1]  {b,c}   => {l} 0.00    1.0000000  1.3333333 0    \n",
      "[2]  {b,l}   => {c} 0.00    0.0000000  0.0000000 0    \n",
      "[3]  {c,l}   => {b} 0.00    0.0000000  0.0000000 0    \n",
      "[4]  {b,c}   => {O} 0.00    1.0000000  1.3333333 0    \n",
      "[5]  {b,O}   => {c} 0.00    0.0000000  0.0000000 0    \n",
      "[6]  {c,O}   => {b} 0.00    0.0000000  0.0000000 0    \n",
      "[7]  {b,c}   => {p} 0.00    1.0000000  1.0000000 0    \n",
      "[8]  {b,p}   => {c} 0.00    0.0000000  0.0000000 0    \n",
      "[9]  {c,p}   => {b} 0.00    0.0000000  0.0000000 0    \n",
      "[10] {b,l}   => {O} 0.25    1.0000000  1.3333333 1    \n",
      "[11] {b,O}   => {l} 0.25    1.0000000  1.3333333 1    \n",
      "[12] {b,l}   => {p} 0.25    1.0000000  1.0000000 1    \n",
      "[13] {b,p}   => {l} 0.25    1.0000000  1.3333333 1    \n",
      "[14] {l,p}   => {b} 0.25    0.3333333  1.3333333 1    \n",
      "[15] {b,O}   => {p} 0.25    1.0000000  1.0000000 1    \n",
      "[16] {b,p}   => {O} 0.25    1.0000000  1.3333333 1    \n",
      "[17] {O,p}   => {b} 0.25    0.3333333  1.3333333 1    \n",
      "[18] {c,l}   => {O} 0.25    1.0000000  1.3333333 1    \n",
      "[19] {c,O}   => {l} 0.25    0.5000000  0.6666667 1    \n",
      "[20] {l,O}   => {c} 0.25    0.5000000  1.0000000 1    \n",
      "[21] {c,l}   => {p} 0.25    1.0000000  1.0000000 1    \n",
      "[22] {c,p}   => {l} 0.25    0.5000000  0.6666667 1    \n",
      "[23] {l,p}   => {c} 0.25    0.3333333  0.6666667 1    \n",
      "[24] {c,O}   => {p} 0.50    1.0000000  1.0000000 2    \n",
      "[25] {c,p}   => {O} 0.50    1.0000000  1.3333333 2    \n",
      "[26] {O,p}   => {c} 0.50    0.6666667  1.3333333 2    \n",
      "[27] {l,O}   => {p} 0.50    1.0000000  1.0000000 2    \n",
      "[28] {l,p}   => {O} 0.50    0.6666667  0.8888889 2    \n",
      "[29] {O,p}   => {l} 0.50    0.6666667  0.8888889 2    \n",
      "[30] {b,c,l} => {O} 0.00    1.0000000  1.3333333 0    \n",
      "[31] {b,c,O} => {l} 0.00    1.0000000  1.3333333 0    \n",
      "[32] {b,l,O} => {c} 0.00    0.0000000  0.0000000 0    \n",
      "[33] {c,l,O} => {b} 0.00    0.0000000  0.0000000 0    \n",
      "[34] {b,c,l} => {p} 0.00    1.0000000  1.0000000 0    \n",
      "[35] {b,c,p} => {l} 0.00    1.0000000  1.3333333 0    \n",
      "[36] {b,l,p} => {c} 0.00    0.0000000  0.0000000 0    \n",
      "[37] {c,l,p} => {b} 0.00    0.0000000  0.0000000 0    \n",
      "[38] {b,c,O} => {p} 0.00    1.0000000  1.0000000 0    \n",
      "[39] {b,c,p} => {O} 0.00    1.0000000  1.3333333 0    \n",
      "[40] {b,O,p} => {c} 0.00    0.0000000  0.0000000 0    \n",
      "[41] {c,O,p} => {b} 0.00    0.0000000  0.0000000 0    \n",
      "[42] {b,l,O} => {p} 0.25    1.0000000  1.0000000 1    \n",
      "[43] {b,l,p} => {O} 0.25    1.0000000  1.3333333 1    \n",
      "[44] {b,O,p} => {l} 0.25    1.0000000  1.3333333 1    \n",
      "[45] {l,O,p} => {b} 0.25    0.5000000  2.0000000 1    \n",
      "[46] {c,l,O} => {p} 0.25    1.0000000  1.0000000 1    \n",
      "[47] {c,l,p} => {O} 0.25    1.0000000  1.3333333 1    \n",
      "[48] {c,O,p} => {l} 0.25    0.5000000  0.6666667 1    \n",
      "[49] {l,O,p} => {c} 0.25    0.5000000  1.0000000 1    \n"
     ]
    }
   ],
   "source": [
    "indRedundantApriori <- which(is.redundant(rApriori))\n",
    "inspect(rApriori[indRedundantApriori])"
   ]
  },
  {
   "cell_type": "markdown",
   "metadata": {
    "button": false,
    "new_sheet": false,
    "run_control": {
     "read_only": false
    }
   },
   "source": [
    "Procedemos a filtrar dichas redes:"
   ]
  },
  {
   "cell_type": "code",
   "execution_count": 31,
   "metadata": {
    "button": false,
    "new_sheet": false,
    "run_control": {
     "read_only": false
    }
   },
   "outputs": [],
   "source": [
    "rAprioriFiltered <- rApriori[!is.redundant(rApriori)]\n",
    "rEclatFiltered <- rEclat[!is.redundant(rEclat)]"
   ]
  },
  {
   "cell_type": "markdown",
   "metadata": {
    "button": false,
    "new_sheet": false,
    "run_control": {
     "read_only": false
    }
   },
   "source": [
    "e inspeccionamos de nuevo las reglas obtenidas con el algoritmo APRIORI"
   ]
  },
  {
   "cell_type": "code",
   "execution_count": 32,
   "metadata": {
    "button": false,
    "new_sheet": false,
    "run_control": {
     "read_only": false
    }
   },
   "outputs": [
    {
     "name": "stdout",
     "output_type": "stream",
     "text": [
      "     lhs      rhs support confidence lift      count\n",
      "[1]  {b}   => {c} 0.00    0.0000000  0.0000000 0    \n",
      "[2]  {c}   => {b} 0.00    0.0000000  0.0000000 0    \n",
      "[3]  {b}   => {l} 0.25    1.0000000  1.3333333 1    \n",
      "[4]  {l}   => {b} 0.25    0.3333333  1.3333333 1    \n",
      "[5]  {b}   => {O} 0.25    1.0000000  1.3333333 1    \n",
      "[6]  {O}   => {b} 0.25    0.3333333  1.3333333 1    \n",
      "[7]  {b}   => {p} 0.25    1.0000000  1.0000000 1    \n",
      "[8]  {p}   => {b} 0.25    0.2500000  1.0000000 1    \n",
      "[9]  {c}   => {l} 0.25    0.5000000  0.6666667 1    \n",
      "[10] {l}   => {c} 0.25    0.3333333  0.6666667 1    \n",
      "[11] {c}   => {O} 0.50    1.0000000  1.3333333 2    \n",
      "[12] {O}   => {c} 0.50    0.6666667  1.3333333 2    \n",
      "[13] {c}   => {p} 0.50    1.0000000  1.0000000 2    \n",
      "[14] {p}   => {c} 0.50    0.5000000  1.0000000 2    \n",
      "[15] {l}   => {O} 0.50    0.6666667  0.8888889 2    \n",
      "[16] {O}   => {l} 0.50    0.6666667  0.8888889 2    \n",
      "[17] {l}   => {p} 0.75    1.0000000  1.0000000 3    \n",
      "[18] {p}   => {l} 0.75    0.7500000  1.0000000 3    \n",
      "[19] {O}   => {p} 0.75    1.0000000  1.0000000 3    \n",
      "[20] {p}   => {O} 0.75    0.7500000  1.0000000 3    \n",
      "[21] {l,O} => {b} 0.25    0.5000000  2.0000000 1    \n"
     ]
    }
   ],
   "source": [
    "inspect(rAprioriFiltered)"
   ]
  },
  {
   "cell_type": "markdown",
   "metadata": {
    "button": false,
    "new_sheet": false,
    "run_control": {
     "read_only": false
    }
   },
   "source": [
    "y con el algoritmo ECLAT"
   ]
  },
  {
   "cell_type": "code",
   "execution_count": 64,
   "metadata": {
    "button": false,
    "new_sheet": false,
    "run_control": {
     "read_only": false
    }
   },
   "outputs": [
    {
     "name": "stdout",
     "output_type": "stream",
     "text": [
      "     lhs      rhs support confidence lift      itemset\n",
      "[1]  {l,O} => {b} 0.25    0.5000000  2.0000000  3     \n",
      "[2]  {p}   => {b} 0.25    0.2500000  1.0000000  5     \n",
      "[3]  {b}   => {p} 0.25    1.0000000  1.0000000  5     \n",
      "[4]  {O}   => {b} 0.25    0.3333333  1.3333333  6     \n",
      "[5]  {b}   => {O} 0.25    1.0000000  1.3333333  6     \n",
      "[6]  {l}   => {b} 0.25    0.3333333  1.3333333  7     \n",
      "[7]  {b}   => {l} 0.25    1.0000000  1.3333333  7     \n",
      "[8]  {p}   => {c} 0.50    0.5000000  1.0000000 12     \n",
      "[9]  {c}   => {p} 0.50    1.0000000  1.0000000 12     \n",
      "[10] {O}   => {c} 0.50    0.6666667  1.3333333 13     \n",
      "[11] {c}   => {O} 0.50    1.0000000  1.3333333 13     \n",
      "[12] {l}   => {c} 0.25    0.3333333  0.6666667 14     \n",
      "[13] {c}   => {l} 0.25    0.5000000  0.6666667 14     \n",
      "[14] {p}   => {l} 0.75    0.7500000  1.0000000 16     \n",
      "[15] {l}   => {p} 0.75    1.0000000  1.0000000 16     \n",
      "[16] {O}   => {l} 0.50    0.6666667  0.8888889 17     \n",
      "[17] {l}   => {O} 0.50    0.6666667  0.8888889 17     \n",
      "[18] {p}   => {O} 0.75    0.7500000  1.0000000 18     \n",
      "[19] {O}   => {p} 0.75    1.0000000  1.0000000 18     \n"
     ]
    }
   ],
   "source": [
    "inspect(rEclatFiltered)"
   ]
  },
  {
   "cell_type": "markdown",
   "metadata": {
    "button": false,
    "new_sheet": false,
    "run_control": {
     "read_only": false
    }
   },
   "source": [
    "Finalmente, podemos resolver dudas como las siguientes: \n",
    "* Encontrar todas las reglas relacionando cualquier producto con uno dado (p.e. O - Naranja)."
   ]
  },
  {
   "cell_type": "code",
   "execution_count": 34,
   "metadata": {
    "button": false,
    "new_sheet": false,
    "run_control": {
     "read_only": false
    }
   },
   "outputs": [
    {
     "name": "stdout",
     "output_type": "stream",
     "text": [
      "    lhs    rhs support confidence lift      count\n",
      "[1] {b} => {O} 0.25    1.0000000  1.3333333 1    \n",
      "[2] {c} => {O} 0.50    1.0000000  1.3333333 2    \n",
      "[3] {l} => {O} 0.50    0.6666667  0.8888889 2    \n",
      "[4] {p} => {O} 0.75    0.7500000  1.0000000 3    \n",
      "    lhs    rhs support confidence lift      itemset\n",
      "[1] {b} => {O} 0.25    1.0000000  1.3333333  6     \n",
      "[2] {c} => {O} 0.50    1.0000000  1.3333333 13     \n",
      "[3] {l} => {O} 0.50    0.6666667  0.8888889 17     \n",
      "[4] {p} => {O} 0.75    0.7500000  1.0000000 18     \n"
     ]
    }
   ],
   "source": [
    "inspect(subset(rAprioriFiltered, subset = rhs %in% c(\"O\")))\n",
    "inspect(subset(rEclatFiltered, subset = rhs %in% c(\"O\")))"
   ]
  },
  {
   "cell_type": "markdown",
   "metadata": {
    "button": false,
    "new_sheet": false,
    "run_control": {
     "read_only": false
    }
   },
   "source": [
    "* Encontrar todas las reglas que dependen de un producto dado (p.e. O - Naranja)."
   ]
  },
  {
   "cell_type": "code",
   "execution_count": 35,
   "metadata": {
    "button": false,
    "new_sheet": false,
    "run_control": {
     "read_only": false
    }
   },
   "outputs": [
    {
     "name": "stdout",
     "output_type": "stream",
     "text": [
      "    lhs      rhs support confidence lift      count\n",
      "[1] {O}   => {b} 0.25    0.3333333  1.3333333 1    \n",
      "[2] {O}   => {c} 0.50    0.6666667  1.3333333 2    \n",
      "[3] {O}   => {l} 0.50    0.6666667  0.8888889 2    \n",
      "[4] {O}   => {p} 0.75    1.0000000  1.0000000 3    \n",
      "[5] {l,O} => {b} 0.25    0.5000000  2.0000000 1    \n",
      "    lhs      rhs support confidence lift      itemset\n",
      "[1] {l,O} => {b} 0.25    0.5000000  2.0000000  3     \n",
      "[2] {O}   => {b} 0.25    0.3333333  1.3333333  6     \n",
      "[3] {O}   => {c} 0.50    0.6666667  1.3333333 13     \n",
      "[4] {O}   => {l} 0.50    0.6666667  0.8888889 17     \n",
      "[5] {O}   => {p} 0.75    1.0000000  1.0000000 18     \n"
     ]
    }
   ],
   "source": [
    "inspect(subset(rAprioriFiltered, subset = lhs %in% c(\"O\")))\n",
    "inspect(subset(rEclatFiltered, subset = lhs %in% c(\"O\")))"
   ]
  },
  {
   "cell_type": "markdown",
   "metadata": {
    "button": false,
    "new_sheet": false,
    "run_control": {
     "read_only": false
    }
   },
   "source": [
    "* Encontrar todas las reglas que cumplan los dos criterios anteriores para ciertos productos dados."
   ]
  },
  {
   "cell_type": "code",
   "execution_count": 36,
   "metadata": {
    "button": false,
    "new_sheet": false,
    "run_control": {
     "read_only": false
    }
   },
   "outputs": [
    {
     "name": "stdout",
     "output_type": "stream",
     "text": [
      "    lhs      rhs support confidence lift      count\n",
      "[1] {b}   => {O} 0.25    1.0000000  1.3333333 1    \n",
      "[2] {O}   => {b} 0.25    0.3333333  1.3333333 1    \n",
      "[3] {c}   => {O} 0.50    1.0000000  1.3333333 2    \n",
      "[4] {O}   => {c} 0.50    0.6666667  1.3333333 2    \n",
      "[5] {l}   => {O} 0.50    0.6666667  0.8888889 2    \n",
      "[6] {O}   => {l} 0.50    0.6666667  0.8888889 2    \n",
      "[7] {O}   => {p} 0.75    1.0000000  1.0000000 3    \n",
      "[8] {p}   => {O} 0.75    0.7500000  1.0000000 3    \n",
      "[9] {l,O} => {b} 0.25    0.5000000  2.0000000 1    \n",
      "    lhs      rhs support confidence lift      itemset\n",
      "[1] {l,O} => {b} 0.25    0.5000000  2.0000000  3     \n",
      "[2] {O}   => {b} 0.25    0.3333333  1.3333333  6     \n",
      "[3] {b}   => {O} 0.25    1.0000000  1.3333333  6     \n",
      "[4] {O}   => {c} 0.50    0.6666667  1.3333333 13     \n",
      "[5] {c}   => {O} 0.50    1.0000000  1.3333333 13     \n",
      "[6] {O}   => {l} 0.50    0.6666667  0.8888889 17     \n",
      "[7] {l}   => {O} 0.50    0.6666667  0.8888889 17     \n",
      "[8] {p}   => {O} 0.75    0.7500000  1.0000000 18     \n",
      "[9] {O}   => {p} 0.75    1.0000000  1.0000000 18     \n"
     ]
    }
   ],
   "source": [
    "inspect(subset(rAprioriFiltered, subset = rhs %in% c(\"O\") | lhs %in% c(\"O\")))\n",
    "inspect(subset(rEclatFiltered, subset = rhs %in% c(\"O\") | lhs %in% c(\"O\")))"
   ]
  },
  {
   "cell_type": "markdown",
   "metadata": {
    "button": false,
    "new_sheet": false,
    "run_control": {
     "read_only": false
    }
   },
   "source": [
    "* Encontrar el conjunto de reglas con mayor confianza cumpliendo alguno de los criterios anteriores."
   ]
  },
  {
   "cell_type": "code",
   "execution_count": 41,
   "metadata": {
    "button": false,
    "new_sheet": false,
    "run_control": {
     "read_only": false
    }
   },
   "outputs": [
    {
     "name": "stdout",
     "output_type": "stream",
     "text": [
      "    lhs      rhs support confidence lift      count\n",
      "[1] {b}   => {O} 0.25    1.0000000  1.3333333 1    \n",
      "[2] {c}   => {O} 0.50    1.0000000  1.3333333 2    \n",
      "[3] {O}   => {c} 0.50    0.6666667  1.3333333 2    \n",
      "[4] {l}   => {O} 0.50    0.6666667  0.8888889 2    \n",
      "[5] {O}   => {l} 0.50    0.6666667  0.8888889 2    \n",
      "[6] {O}   => {p} 0.75    1.0000000  1.0000000 3    \n",
      "[7] {p}   => {O} 0.75    0.7500000  1.0000000 3    \n",
      "[8] {l,O} => {b} 0.25    0.5000000  2.0000000 1    \n",
      "    lhs      rhs support confidence lift      itemset\n",
      "[1] {l,O} => {b} 0.25    0.5000000  2.0000000  3     \n",
      "[2] {b}   => {O} 0.25    1.0000000  1.3333333  6     \n",
      "[3] {O}   => {c} 0.50    0.6666667  1.3333333 13     \n",
      "[4] {c}   => {O} 0.50    1.0000000  1.3333333 13     \n",
      "[5] {O}   => {l} 0.50    0.6666667  0.8888889 17     \n",
      "[6] {l}   => {O} 0.50    0.6666667  0.8888889 17     \n",
      "[7] {p}   => {O} 0.75    0.7500000  1.0000000 18     \n",
      "[8] {O}   => {p} 0.75    1.0000000  1.0000000 18     \n"
     ]
    }
   ],
   "source": [
    "inspect(subset(rAprioriFiltered, subset = rhs %in% c(\"O\") | lhs %in% c(\"O\") & confidence >= 0.5))\n",
    "inspect(subset(rEclatFiltered, subset = rhs %in% c(\"O\") | lhs %in% c(\"O\") & confidence >= 0.5))"
   ]
  },
  {
   "cell_type": "markdown",
   "metadata": {
    "button": false,
    "new_sheet": false,
    "run_control": {
     "read_only": false
    }
   },
   "source": [
    "* Consultar el conjunto de reglas con alguno de los parámetros con valores más altos (`head`) o bajos (`tail`)"
   ]
  },
  {
   "cell_type": "code",
   "execution_count": 42,
   "metadata": {
    "button": false,
    "new_sheet": false,
    "run_control": {
     "read_only": false
    }
   },
   "outputs": [
    {
     "name": "stdout",
     "output_type": "stream",
     "text": [
      "    lhs      rhs support confidence lift     count\n",
      "[1] {l,O} => {b} 0.25    0.5000000  2.000000 1    \n",
      "[2] {b}   => {l} 0.25    1.0000000  1.333333 1    \n",
      "[3] {l}   => {b} 0.25    0.3333333  1.333333 1    \n",
      "    lhs      rhs support confidence lift     itemset\n",
      "[1] {l,O} => {b} 0.25    0.5000000  2.000000 3      \n",
      "[2] {O}   => {b} 0.25    0.3333333  1.333333 6      \n",
      "[3] {b}   => {O} 0.25    1.0000000  1.333333 6      \n",
      "    lhs    rhs support confidence lift      count\n",
      "[1] {l} => {c} 0.25    0.3333333  0.6666667 1    \n",
      "[2] {b} => {c} 0.00    0.0000000  0.0000000 0    \n",
      "[3] {c} => {b} 0.00    0.0000000  0.0000000 0    \n",
      "    lhs    rhs support confidence lift      itemset\n",
      "[1] {l} => {O} 0.50    0.6666667  0.8888889 17     \n",
      "[2] {l} => {c} 0.25    0.3333333  0.6666667 14     \n",
      "[3] {c} => {l} 0.25    0.5000000  0.6666667 14     \n"
     ]
    }
   ],
   "source": [
    "inspect(head(sort(rAprioriFiltered, by =\"lift\"),3))\n",
    "inspect(head(sort(rEclatFiltered, by =\"lift\"),3))\n",
    "inspect(tail(sort(rAprioriFiltered, by =\"lift\"),3))\n",
    "inspect(tail(sort(rEclatFiltered, by =\"lift\"),3))"
   ]
  },
  {
   "cell_type": "markdown",
   "metadata": {
    "button": false,
    "new_sheet": false,
    "run_control": {
     "read_only": false
    }
   },
   "source": [
    "Finalmente, una vez obtenidas las reglas de asociación, podemos visualizar los resultados:\n",
    "- Matriz de itemsets:"
   ]
  },
  {
   "cell_type": "code",
   "execution_count": 43,
   "metadata": {
    "button": false,
    "new_sheet": false,
    "run_control": {
     "read_only": false
    }
   },
   "outputs": [
    {
     "data": {
      "image/png": "[encoded data removed]",
      "text/plain": [
       "plot without title"
      ]
     },
     "metadata": {
      "image/png": {
       "height": 420,
       "width": 420
      },
      "text/plain": {
       "height": 420,
       "width": 420
      }
     },
     "output_type": "display_data"
    },
    {
     "data": {
      "image/png": "[encoded data removed]",
      "text/plain": [
       "plot without title"
      ]
     },
     "metadata": {
      "image/png": {
       "height": 420,
       "width": 420
      },
      "text/plain": {
       "height": 420,
       "width": 420
      }
     },
     "output_type": "display_data"
    }
   ],
   "source": [
    "image(iApriori@items, xlab = \"Items\", ylab = \"Itemsets\")\n",
    "image(iEclat@items, xlab = \"Items\", ylab = \"Itemsets\")"
   ]
  },
  {
   "cell_type": "markdown",
   "metadata": {
    "button": false,
    "new_sheet": false,
    "run_control": {
     "read_only": false
    }
   },
   "source": [
    "- Scatter-plot de reglas:"
   ]
  },
  {
   "cell_type": "code",
   "execution_count": 63,
   "metadata": {
    "button": false,
    "new_sheet": false,
    "run_control": {
     "read_only": false
    }
   },
   "outputs": [
    {
     "data": {
      "image/png": "[encoded data removed]",
      "text/plain": [
       "plot without title"
      ]
     },
     "metadata": {
      "image/png": {
       "height": 420,
       "width": 420
      },
      "text/plain": {
       "height": 420,
       "width": 420
      }
     },
     "output_type": "display_data"
    },
    {
     "data": {
      "image/png": "[encoded data removed]",
      "text/plain": [
       "plot without title"
      ]
     },
     "metadata": {
      "image/png": {
       "height": 420,
       "width": 420
      },
      "text/plain": {
       "height": 420,
       "width": 420
      }
     },
     "output_type": "display_data"
    }
   ],
   "source": [
    "plot(rAprioriFiltered, jitter = 0)\n",
    "plot(rEclatFiltered, jitter = 0)"
   ]
  },
  {
   "cell_type": "markdown",
   "metadata": {
    "button": false,
    "new_sheet": false,
    "run_control": {
     "read_only": false
    }
   },
   "source": [
    "- Matriz de asociaciones:"
   ]
  },
  {
   "cell_type": "code",
   "execution_count": 66,
   "metadata": {},
   "outputs": [
    {
     "name": "stdout",
     "output_type": "stream",
     "text": [
      "     lhs      rhs support confidence lift      count\n",
      "[1]  {b}   => {c} 0.00    0.0000000  0.0000000 0    \n",
      "[2]  {c}   => {b} 0.00    0.0000000  0.0000000 0    \n",
      "[3]  {b}   => {l} 0.25    1.0000000  1.3333333 1    \n",
      "[4]  {l}   => {b} 0.25    0.3333333  1.3333333 1    \n",
      "[5]  {b}   => {O} 0.25    1.0000000  1.3333333 1    \n",
      "[6]  {O}   => {b} 0.25    0.3333333  1.3333333 1    \n",
      "[7]  {b}   => {p} 0.25    1.0000000  1.0000000 1    \n",
      "[8]  {p}   => {b} 0.25    0.2500000  1.0000000 1    \n",
      "[9]  {c}   => {l} 0.25    0.5000000  0.6666667 1    \n",
      "[10] {l}   => {c} 0.25    0.3333333  0.6666667 1    \n",
      "[11] {c}   => {O} 0.50    1.0000000  1.3333333 2    \n",
      "[12] {O}   => {c} 0.50    0.6666667  1.3333333 2    \n",
      "[13] {c}   => {p} 0.50    1.0000000  1.0000000 2    \n",
      "[14] {p}   => {c} 0.50    0.5000000  1.0000000 2    \n",
      "[15] {l}   => {O} 0.50    0.6666667  0.8888889 2    \n",
      "[16] {O}   => {l} 0.50    0.6666667  0.8888889 2    \n",
      "[17] {l}   => {p} 0.75    1.0000000  1.0000000 3    \n",
      "[18] {p}   => {l} 0.75    0.7500000  1.0000000 3    \n",
      "[19] {O}   => {p} 0.75    1.0000000  1.0000000 3    \n",
      "[20] {p}   => {O} 0.75    0.7500000  1.0000000 3    \n",
      "[21] {l,O} => {b} 0.25    0.5000000  2.0000000 1    \n"
     ]
    }
   ],
   "source": [
    "inspect(rAprioriFiltered)"
   ]
  },
  {
   "cell_type": "code",
   "execution_count": 65,
   "metadata": {
    "button": false,
    "new_sheet": false,
    "run_control": {
     "read_only": false
    },
    "scrolled": false
   },
   "outputs": [
    {
     "name": "stdout",
     "output_type": "stream",
     "text": [
      "Itemsets in Antecedent (LHS)\n",
      "[1] \"{l,O}\" \"{O}\"   \"{p}\"   \"{l}\"   \"{b}\"   \"{c}\"  \n",
      "Itemsets in Consequent (RHS)\n",
      "[1] \"{c}\" \"{l}\" \"{p}\" \"{b}\" \"{O}\"\n"
     ]
    },
    {
     "data": {
      "image/png": "[encoded data removed]",
      "text/plain": [
       "plot without title"
      ]
     },
     "metadata": {
      "image/png": {
       "height": 420,
       "width": 420
      },
      "text/plain": {
       "height": 420,
       "width": 420
      }
     },
     "output_type": "display_data"
    }
   ],
   "source": [
    "plot(rAprioriFiltered, method=\"matrix\", measure=\"lift\")"
   ]
  },
  {
   "cell_type": "markdown",
   "metadata": {
    "button": false,
    "new_sheet": false,
    "run_control": {
     "read_only": false
    }
   },
   "source": [
    "- Enlaces de las reglas:"
   ]
  },
  {
   "cell_type": "code",
   "execution_count": 70,
   "metadata": {
    "button": false,
    "new_sheet": false,
    "run_control": {
     "read_only": false
    }
   },
   "outputs": [
    {
     "data": {
      "image/png": "[encoded data removed]",
      "text/plain": [
       "plot without title"
      ]
     },
     "metadata": {
      "image/png": {
       "height": 420,
       "width": 420
      },
      "text/plain": {
       "height": 420,
       "width": 420
      }
     },
     "output_type": "display_data"
    }
   ],
   "source": [
    "plot(rAprioriFiltered, method=\"paracoord\")"
   ]
  },
  {
   "cell_type": "markdown",
   "metadata": {
    "button": false,
    "new_sheet": false,
    "run_control": {
     "read_only": false
    }
   },
   "source": [
    "## Base de datos Groceries\n",
    "\n",
    "En la presente tarea trabajaremos con la base de datos `Groceries`, disponibles públicamente para su uso desde R. Para una breve descripción de esta base de datos puede recurrir a la ayuda de R."
   ]
  },
  {
   "cell_type": "code",
   "execution_count": 49,
   "metadata": {
    "button": false,
    "new_sheet": false,
    "run_control": {
     "read_only": false
    }
   },
   "outputs": [
    {
     "data": {
      "text/html": [
       "<ol class=list-inline>\n",
       "\t<li>'frankfurter'</li>\n",
       "\t<li>'sausage'</li>\n",
       "\t<li>'liver loaf'</li>\n",
       "\t<li>'ham'</li>\n",
       "\t<li>'meat'</li>\n",
       "\t<li>'finished products'</li>\n",
       "\t<li>'organic sausage'</li>\n",
       "\t<li>'chicken'</li>\n",
       "\t<li>'turkey'</li>\n",
       "\t<li>'pork'</li>\n",
       "\t<li>'beef'</li>\n",
       "\t<li>'hamburger meat'</li>\n",
       "\t<li>'fish'</li>\n",
       "\t<li>'citrus fruit'</li>\n",
       "\t<li>'tropical fruit'</li>\n",
       "\t<li>'pip fruit'</li>\n",
       "\t<li>'grapes'</li>\n",
       "\t<li>'berries'</li>\n",
       "\t<li>'nuts/prunes'</li>\n",
       "\t<li>'root vegetables'</li>\n",
       "\t<li>'onions'</li>\n",
       "\t<li>'herbs'</li>\n",
       "\t<li>'other vegetables'</li>\n",
       "\t<li>'packaged fruit/vegetables'</li>\n",
       "\t<li>'whole milk'</li>\n",
       "\t<li>'butter'</li>\n",
       "\t<li>'curd'</li>\n",
       "\t<li>'dessert'</li>\n",
       "\t<li>'butter milk'</li>\n",
       "\t<li>'yogurt'</li>\n",
       "\t<li>'whipped/sour cream'</li>\n",
       "\t<li>'beverages'</li>\n",
       "\t<li>'UHT-milk'</li>\n",
       "\t<li>'condensed milk'</li>\n",
       "\t<li>'cream'</li>\n",
       "\t<li>'soft cheese'</li>\n",
       "\t<li>'sliced cheese'</li>\n",
       "\t<li>'hard cheese'</li>\n",
       "\t<li>'cream cheese '</li>\n",
       "\t<li>'processed cheese'</li>\n",
       "\t<li>'spread cheese'</li>\n",
       "\t<li>'curd cheese'</li>\n",
       "\t<li>'specialty cheese'</li>\n",
       "\t<li>'mayonnaise'</li>\n",
       "\t<li>'salad dressing'</li>\n",
       "\t<li>'tidbits'</li>\n",
       "\t<li>'frozen vegetables'</li>\n",
       "\t<li>'frozen fruits'</li>\n",
       "\t<li>'frozen meals'</li>\n",
       "\t<li>'frozen fish'</li>\n",
       "\t<li>'frozen chicken'</li>\n",
       "\t<li>'ice cream'</li>\n",
       "\t<li>'frozen dessert'</li>\n",
       "\t<li>'frozen potato products'</li>\n",
       "\t<li>'domestic eggs'</li>\n",
       "\t<li>'rolls/buns'</li>\n",
       "\t<li>'white bread'</li>\n",
       "\t<li>'brown bread'</li>\n",
       "\t<li>'pastry'</li>\n",
       "\t<li>'roll products '</li>\n",
       "\t<li>'semi-finished bread'</li>\n",
       "\t<li>'zwieback'</li>\n",
       "\t<li>'potato products'</li>\n",
       "\t<li>'flour'</li>\n",
       "\t<li>'salt'</li>\n",
       "\t<li>'rice'</li>\n",
       "\t<li>'pasta'</li>\n",
       "\t<li>'vinegar'</li>\n",
       "\t<li>'oil'</li>\n",
       "\t<li>'margarine'</li>\n",
       "\t<li>'specialty fat'</li>\n",
       "\t<li>'sugar'</li>\n",
       "\t<li>'artif. sweetener'</li>\n",
       "\t<li>'honey'</li>\n",
       "\t<li>'mustard'</li>\n",
       "\t<li>'ketchup'</li>\n",
       "\t<li>'spices'</li>\n",
       "\t<li>'soups'</li>\n",
       "\t<li>'ready soups'</li>\n",
       "\t<li>'Instant food products'</li>\n",
       "\t<li>'sauces'</li>\n",
       "\t<li>'cereals'</li>\n",
       "\t<li>'organic products'</li>\n",
       "\t<li>'baking powder'</li>\n",
       "\t<li>'preservation products'</li>\n",
       "\t<li>'pudding powder'</li>\n",
       "\t<li>'canned vegetables'</li>\n",
       "\t<li>'canned fruit'</li>\n",
       "\t<li>'pickled vegetables'</li>\n",
       "\t<li>'specialty vegetables'</li>\n",
       "\t<li>'jam'</li>\n",
       "\t<li>'sweet spreads'</li>\n",
       "\t<li>'meat spreads'</li>\n",
       "\t<li>'canned fish'</li>\n",
       "\t<li>'dog food'</li>\n",
       "\t<li>'cat food'</li>\n",
       "\t<li>'pet care'</li>\n",
       "\t<li>'baby food'</li>\n",
       "\t<li>'coffee'</li>\n",
       "\t<li>'instant coffee'</li>\n",
       "\t<li>'tea'</li>\n",
       "\t<li>'cocoa drinks'</li>\n",
       "\t<li>'bottled water'</li>\n",
       "\t<li>'soda'</li>\n",
       "\t<li>'misc. beverages'</li>\n",
       "\t<li>'fruit/vegetable juice'</li>\n",
       "\t<li>'syrup'</li>\n",
       "\t<li>'bottled beer'</li>\n",
       "\t<li>'canned beer'</li>\n",
       "\t<li>'brandy'</li>\n",
       "\t<li>'whisky'</li>\n",
       "\t<li>'liquor'</li>\n",
       "\t<li>'rum'</li>\n",
       "\t<li>'liqueur'</li>\n",
       "\t<li>'liquor (appetizer)'</li>\n",
       "\t<li>'white wine'</li>\n",
       "\t<li>'red/blush wine'</li>\n",
       "\t<li>'prosecco'</li>\n",
       "\t<li>'sparkling wine'</li>\n",
       "\t<li>'salty snack'</li>\n",
       "\t<li>'popcorn'</li>\n",
       "\t<li>'nut snack'</li>\n",
       "\t<li>'snack products'</li>\n",
       "\t<li>'long life bakery product'</li>\n",
       "\t<li>'waffles'</li>\n",
       "\t<li>'cake bar'</li>\n",
       "\t<li>'chewing gum'</li>\n",
       "\t<li>'chocolate'</li>\n",
       "\t<li>'cooking chocolate'</li>\n",
       "\t<li>'specialty chocolate'</li>\n",
       "\t<li>'specialty bar'</li>\n",
       "\t<li>'chocolate marshmallow'</li>\n",
       "\t<li>'candy'</li>\n",
       "\t<li>'seasonal products'</li>\n",
       "\t<li>'detergent'</li>\n",
       "\t<li>'softener'</li>\n",
       "\t<li>'decalcifier'</li>\n",
       "\t<li>'dish cleaner'</li>\n",
       "\t<li>'abrasive cleaner'</li>\n",
       "\t<li>'cleaner'</li>\n",
       "\t<li>'toilet cleaner'</li>\n",
       "\t<li>'bathroom cleaner'</li>\n",
       "\t<li>'hair spray'</li>\n",
       "\t<li>'dental care'</li>\n",
       "\t<li>'male cosmetics'</li>\n",
       "\t<li>'make up remover'</li>\n",
       "\t<li>'skin care'</li>\n",
       "\t<li>'female sanitary products'</li>\n",
       "\t<li>'baby cosmetics'</li>\n",
       "\t<li>'soap'</li>\n",
       "\t<li>'rubbing alcohol'</li>\n",
       "\t<li>'hygiene articles'</li>\n",
       "\t<li>'napkins'</li>\n",
       "\t<li>'dishes'</li>\n",
       "\t<li>'cookware'</li>\n",
       "\t<li>'kitchen utensil'</li>\n",
       "\t<li>'cling film/bags'</li>\n",
       "\t<li>'kitchen towels'</li>\n",
       "\t<li>'house keeping products'</li>\n",
       "\t<li>'candles'</li>\n",
       "\t<li>'light bulbs'</li>\n",
       "\t<li>'sound storage medium'</li>\n",
       "\t<li>'newspapers'</li>\n",
       "\t<li>'photo/film'</li>\n",
       "\t<li>'pot plants'</li>\n",
       "\t<li>'flower soil/fertilizer'</li>\n",
       "\t<li>'flower (seeds)'</li>\n",
       "\t<li>'shopping bags'</li>\n",
       "\t<li>'bags'</li>\n",
       "</ol>\n"
      ],
      "text/latex": [
       "\\begin{enumerate*}\n",
       "\\item 'frankfurter'\n",
       "\\item 'sausage'\n",
       "\\item 'liver loaf'\n",
       "\\item 'ham'\n",
       "\\item 'meat'\n",
       "\\item 'finished products'\n",
       "\\item 'organic sausage'\n",
       "\\item 'chicken'\n",
       "\\item 'turkey'\n",
       "\\item 'pork'\n",
       "\\item 'beef'\n",
       "\\item 'hamburger meat'\n",
       "\\item 'fish'\n",
       "\\item 'citrus fruit'\n",
       "\\item 'tropical fruit'\n",
       "\\item 'pip fruit'\n",
       "\\item 'grapes'\n",
       "\\item 'berries'\n",
       "\\item 'nuts/prunes'\n",
       "\\item 'root vegetables'\n",
       "\\item 'onions'\n",
       "\\item 'herbs'\n",
       "\\item 'other vegetables'\n",
       "\\item 'packaged fruit/vegetables'\n",
       "\\item 'whole milk'\n",
       "\\item 'butter'\n",
       "\\item 'curd'\n",
       "\\item 'dessert'\n",
       "\\item 'butter milk'\n",
       "\\item 'yogurt'\n",
       "\\item 'whipped/sour cream'\n",
       "\\item 'beverages'\n",
       "\\item 'UHT-milk'\n",
       "\\item 'condensed milk'\n",
       "\\item 'cream'\n",
       "\\item 'soft cheese'\n",
       "\\item 'sliced cheese'\n",
       "\\item 'hard cheese'\n",
       "\\item 'cream cheese '\n",
       "\\item 'processed cheese'\n",
       "\\item 'spread cheese'\n",
       "\\item 'curd cheese'\n",
       "\\item 'specialty cheese'\n",
       "\\item 'mayonnaise'\n",
       "\\item 'salad dressing'\n",
       "\\item 'tidbits'\n",
       "\\item 'frozen vegetables'\n",
       "\\item 'frozen fruits'\n",
       "\\item 'frozen meals'\n",
       "\\item 'frozen fish'\n",
       "\\item 'frozen chicken'\n",
       "\\item 'ice cream'\n",
       "\\item 'frozen dessert'\n",
       "\\item 'frozen potato products'\n",
       "\\item 'domestic eggs'\n",
       "\\item 'rolls/buns'\n",
       "\\item 'white bread'\n",
       "\\item 'brown bread'\n",
       "\\item 'pastry'\n",
       "\\item 'roll products '\n",
       "\\item 'semi-finished bread'\n",
       "\\item 'zwieback'\n",
       "\\item 'potato products'\n",
       "\\item 'flour'\n",
       "\\item 'salt'\n",
       "\\item 'rice'\n",
       "\\item 'pasta'\n",
       "\\item 'vinegar'\n",
       "\\item 'oil'\n",
       "\\item 'margarine'\n",
       "\\item 'specialty fat'\n",
       "\\item 'sugar'\n",
       "\\item 'artif. sweetener'\n",
       "\\item 'honey'\n",
       "\\item 'mustard'\n",
       "\\item 'ketchup'\n",
       "\\item 'spices'\n",
       "\\item 'soups'\n",
       "\\item 'ready soups'\n",
       "\\item 'Instant food products'\n",
       "\\item 'sauces'\n",
       "\\item 'cereals'\n",
       "\\item 'organic products'\n",
       "\\item 'baking powder'\n",
       "\\item 'preservation products'\n",
       "\\item 'pudding powder'\n",
       "\\item 'canned vegetables'\n",
       "\\item 'canned fruit'\n",
       "\\item 'pickled vegetables'\n",
       "\\item 'specialty vegetables'\n",
       "\\item 'jam'\n",
       "\\item 'sweet spreads'\n",
       "\\item 'meat spreads'\n",
       "\\item 'canned fish'\n",
       "\\item 'dog food'\n",
       "\\item 'cat food'\n",
       "\\item 'pet care'\n",
       "\\item 'baby food'\n",
       "\\item 'coffee'\n",
       "\\item 'instant coffee'\n",
       "\\item 'tea'\n",
       "\\item 'cocoa drinks'\n",
       "\\item 'bottled water'\n",
       "\\item 'soda'\n",
       "\\item 'misc. beverages'\n",
       "\\item 'fruit/vegetable juice'\n",
       "\\item 'syrup'\n",
       "\\item 'bottled beer'\n",
       "\\item 'canned beer'\n",
       "\\item 'brandy'\n",
       "\\item 'whisky'\n",
       "\\item 'liquor'\n",
       "\\item 'rum'\n",
       "\\item 'liqueur'\n",
       "\\item 'liquor (appetizer)'\n",
       "\\item 'white wine'\n",
       "\\item 'red/blush wine'\n",
       "\\item 'prosecco'\n",
       "\\item 'sparkling wine'\n",
       "\\item 'salty snack'\n",
       "\\item 'popcorn'\n",
       "\\item 'nut snack'\n",
       "\\item 'snack products'\n",
       "\\item 'long life bakery product'\n",
       "\\item 'waffles'\n",
       "\\item 'cake bar'\n",
       "\\item 'chewing gum'\n",
       "\\item 'chocolate'\n",
       "\\item 'cooking chocolate'\n",
       "\\item 'specialty chocolate'\n",
       "\\item 'specialty bar'\n",
       "\\item 'chocolate marshmallow'\n",
       "\\item 'candy'\n",
       "\\item 'seasonal products'\n",
       "\\item 'detergent'\n",
       "\\item 'softener'\n",
       "\\item 'decalcifier'\n",
       "\\item 'dish cleaner'\n",
       "\\item 'abrasive cleaner'\n",
       "\\item 'cleaner'\n",
       "\\item 'toilet cleaner'\n",
       "\\item 'bathroom cleaner'\n",
       "\\item 'hair spray'\n",
       "\\item 'dental care'\n",
       "\\item 'male cosmetics'\n",
       "\\item 'make up remover'\n",
       "\\item 'skin care'\n",
       "\\item 'female sanitary products'\n",
       "\\item 'baby cosmetics'\n",
       "\\item 'soap'\n",
       "\\item 'rubbing alcohol'\n",
       "\\item 'hygiene articles'\n",
       "\\item 'napkins'\n",
       "\\item 'dishes'\n",
       "\\item 'cookware'\n",
       "\\item 'kitchen utensil'\n",
       "\\item 'cling film/bags'\n",
       "\\item 'kitchen towels'\n",
       "\\item 'house keeping products'\n",
       "\\item 'candles'\n",
       "\\item 'light bulbs'\n",
       "\\item 'sound storage medium'\n",
       "\\item 'newspapers'\n",
       "\\item 'photo/film'\n",
       "\\item 'pot plants'\n",
       "\\item 'flower soil/fertilizer'\n",
       "\\item 'flower (seeds)'\n",
       "\\item 'shopping bags'\n",
       "\\item 'bags'\n",
       "\\end{enumerate*}\n"
      ],
      "text/markdown": [
       "1. 'frankfurter'\n",
       "2. 'sausage'\n",
       "3. 'liver loaf'\n",
       "4. 'ham'\n",
       "5. 'meat'\n",
       "6. 'finished products'\n",
       "7. 'organic sausage'\n",
       "8. 'chicken'\n",
       "9. 'turkey'\n",
       "10. 'pork'\n",
       "11. 'beef'\n",
       "12. 'hamburger meat'\n",
       "13. 'fish'\n",
       "14. 'citrus fruit'\n",
       "15. 'tropical fruit'\n",
       "16. 'pip fruit'\n",
       "17. 'grapes'\n",
       "18. 'berries'\n",
       "19. 'nuts/prunes'\n",
       "20. 'root vegetables'\n",
       "21. 'onions'\n",
       "22. 'herbs'\n",
       "23. 'other vegetables'\n",
       "24. 'packaged fruit/vegetables'\n",
       "25. 'whole milk'\n",
       "26. 'butter'\n",
       "27. 'curd'\n",
       "28. 'dessert'\n",
       "29. 'butter milk'\n",
       "30. 'yogurt'\n",
       "31. 'whipped/sour cream'\n",
       "32. 'beverages'\n",
       "33. 'UHT-milk'\n",
       "34. 'condensed milk'\n",
       "35. 'cream'\n",
       "36. 'soft cheese'\n",
       "37. 'sliced cheese'\n",
       "38. 'hard cheese'\n",
       "39. 'cream cheese '\n",
       "40. 'processed cheese'\n",
       "41. 'spread cheese'\n",
       "42. 'curd cheese'\n",
       "43. 'specialty cheese'\n",
       "44. 'mayonnaise'\n",
       "45. 'salad dressing'\n",
       "46. 'tidbits'\n",
       "47. 'frozen vegetables'\n",
       "48. 'frozen fruits'\n",
       "49. 'frozen meals'\n",
       "50. 'frozen fish'\n",
       "51. 'frozen chicken'\n",
       "52. 'ice cream'\n",
       "53. 'frozen dessert'\n",
       "54. 'frozen potato products'\n",
       "55. 'domestic eggs'\n",
       "56. 'rolls/buns'\n",
       "57. 'white bread'\n",
       "58. 'brown bread'\n",
       "59. 'pastry'\n",
       "60. 'roll products '\n",
       "61. 'semi-finished bread'\n",
       "62. 'zwieback'\n",
       "63. 'potato products'\n",
       "64. 'flour'\n",
       "65. 'salt'\n",
       "66. 'rice'\n",
       "67. 'pasta'\n",
       "68. 'vinegar'\n",
       "69. 'oil'\n",
       "70. 'margarine'\n",
       "71. 'specialty fat'\n",
       "72. 'sugar'\n",
       "73. 'artif. sweetener'\n",
       "74. 'honey'\n",
       "75. 'mustard'\n",
       "76. 'ketchup'\n",
       "77. 'spices'\n",
       "78. 'soups'\n",
       "79. 'ready soups'\n",
       "80. 'Instant food products'\n",
       "81. 'sauces'\n",
       "82. 'cereals'\n",
       "83. 'organic products'\n",
       "84. 'baking powder'\n",
       "85. 'preservation products'\n",
       "86. 'pudding powder'\n",
       "87. 'canned vegetables'\n",
       "88. 'canned fruit'\n",
       "89. 'pickled vegetables'\n",
       "90. 'specialty vegetables'\n",
       "91. 'jam'\n",
       "92. 'sweet spreads'\n",
       "93. 'meat spreads'\n",
       "94. 'canned fish'\n",
       "95. 'dog food'\n",
       "96. 'cat food'\n",
       "97. 'pet care'\n",
       "98. 'baby food'\n",
       "99. 'coffee'\n",
       "100. 'instant coffee'\n",
       "101. 'tea'\n",
       "102. 'cocoa drinks'\n",
       "103. 'bottled water'\n",
       "104. 'soda'\n",
       "105. 'misc. beverages'\n",
       "106. 'fruit/vegetable juice'\n",
       "107. 'syrup'\n",
       "108. 'bottled beer'\n",
       "109. 'canned beer'\n",
       "110. 'brandy'\n",
       "111. 'whisky'\n",
       "112. 'liquor'\n",
       "113. 'rum'\n",
       "114. 'liqueur'\n",
       "115. 'liquor (appetizer)'\n",
       "116. 'white wine'\n",
       "117. 'red/blush wine'\n",
       "118. 'prosecco'\n",
       "119. 'sparkling wine'\n",
       "120. 'salty snack'\n",
       "121. 'popcorn'\n",
       "122. 'nut snack'\n",
       "123. 'snack products'\n",
       "124. 'long life bakery product'\n",
       "125. 'waffles'\n",
       "126. 'cake bar'\n",
       "127. 'chewing gum'\n",
       "128. 'chocolate'\n",
       "129. 'cooking chocolate'\n",
       "130. 'specialty chocolate'\n",
       "131. 'specialty bar'\n",
       "132. 'chocolate marshmallow'\n",
       "133. 'candy'\n",
       "134. 'seasonal products'\n",
       "135. 'detergent'\n",
       "136. 'softener'\n",
       "137. 'decalcifier'\n",
       "138. 'dish cleaner'\n",
       "139. 'abrasive cleaner'\n",
       "140. 'cleaner'\n",
       "141. 'toilet cleaner'\n",
       "142. 'bathroom cleaner'\n",
       "143. 'hair spray'\n",
       "144. 'dental care'\n",
       "145. 'male cosmetics'\n",
       "146. 'make up remover'\n",
       "147. 'skin care'\n",
       "148. 'female sanitary products'\n",
       "149. 'baby cosmetics'\n",
       "150. 'soap'\n",
       "151. 'rubbing alcohol'\n",
       "152. 'hygiene articles'\n",
       "153. 'napkins'\n",
       "154. 'dishes'\n",
       "155. 'cookware'\n",
       "156. 'kitchen utensil'\n",
       "157. 'cling film/bags'\n",
       "158. 'kitchen towels'\n",
       "159. 'house keeping products'\n",
       "160. 'candles'\n",
       "161. 'light bulbs'\n",
       "162. 'sound storage medium'\n",
       "163. 'newspapers'\n",
       "164. 'photo/film'\n",
       "165. 'pot plants'\n",
       "166. 'flower soil/fertilizer'\n",
       "167. 'flower (seeds)'\n",
       "168. 'shopping bags'\n",
       "169. 'bags'\n",
       "\n",
       "\n"
      ],
      "text/plain": [
       "  [1] \"frankfurter\"               \"sausage\"                  \n",
       "  [3] \"liver loaf\"                \"ham\"                      \n",
       "  [5] \"meat\"                      \"finished products\"        \n",
       "  [7] \"organic sausage\"           \"chicken\"                  \n",
       "  [9] \"turkey\"                    \"pork\"                     \n",
       " [11] \"beef\"                      \"hamburger meat\"           \n",
       " [13] \"fish\"                      \"citrus fruit\"             \n",
       " [15] \"tropical fruit\"            \"pip fruit\"                \n",
       " [17] \"grapes\"                    \"berries\"                  \n",
       " [19] \"nuts/prunes\"               \"root vegetables\"          \n",
       " [21] \"onions\"                    \"herbs\"                    \n",
       " [23] \"other vegetables\"          \"packaged fruit/vegetables\"\n",
       " [25] \"whole milk\"                \"butter\"                   \n",
       " [27] \"curd\"                      \"dessert\"                  \n",
       " [29] \"butter milk\"               \"yogurt\"                   \n",
       " [31] \"whipped/sour cream\"        \"beverages\"                \n",
       " [33] \"UHT-milk\"                  \"condensed milk\"           \n",
       " [35] \"cream\"                     \"soft cheese\"              \n",
       " [37] \"sliced cheese\"             \"hard cheese\"              \n",
       " [39] \"cream cheese \"             \"processed cheese\"         \n",
       " [41] \"spread cheese\"             \"curd cheese\"              \n",
       " [43] \"specialty cheese\"          \"mayonnaise\"               \n",
       " [45] \"salad dressing\"            \"tidbits\"                  \n",
       " [47] \"frozen vegetables\"         \"frozen fruits\"            \n",
       " [49] \"frozen meals\"              \"frozen fish\"              \n",
       " [51] \"frozen chicken\"            \"ice cream\"                \n",
       " [53] \"frozen dessert\"            \"frozen potato products\"   \n",
       " [55] \"domestic eggs\"             \"rolls/buns\"               \n",
       " [57] \"white bread\"               \"brown bread\"              \n",
       " [59] \"pastry\"                    \"roll products \"           \n",
       " [61] \"semi-finished bread\"       \"zwieback\"                 \n",
       " [63] \"potato products\"           \"flour\"                    \n",
       " [65] \"salt\"                      \"rice\"                     \n",
       " [67] \"pasta\"                     \"vinegar\"                  \n",
       " [69] \"oil\"                       \"margarine\"                \n",
       " [71] \"specialty fat\"             \"sugar\"                    \n",
       " [73] \"artif. sweetener\"          \"honey\"                    \n",
       " [75] \"mustard\"                   \"ketchup\"                  \n",
       " [77] \"spices\"                    \"soups\"                    \n",
       " [79] \"ready soups\"               \"Instant food products\"    \n",
       " [81] \"sauces\"                    \"cereals\"                  \n",
       " [83] \"organic products\"          \"baking powder\"            \n",
       " [85] \"preservation products\"     \"pudding powder\"           \n",
       " [87] \"canned vegetables\"         \"canned fruit\"             \n",
       " [89] \"pickled vegetables\"        \"specialty vegetables\"     \n",
       " [91] \"jam\"                       \"sweet spreads\"            \n",
       " [93] \"meat spreads\"              \"canned fish\"              \n",
       " [95] \"dog food\"                  \"cat food\"                 \n",
       " [97] \"pet care\"                  \"baby food\"                \n",
       " [99] \"coffee\"                    \"instant coffee\"           \n",
       "[101] \"tea\"                       \"cocoa drinks\"             \n",
       "[103] \"bottled water\"             \"soda\"                     \n",
       "[105] \"misc. beverages\"           \"fruit/vegetable juice\"    \n",
       "[107] \"syrup\"                     \"bottled beer\"             \n",
       "[109] \"canned beer\"               \"brandy\"                   \n",
       "[111] \"whisky\"                    \"liquor\"                   \n",
       "[113] \"rum\"                       \"liqueur\"                  \n",
       "[115] \"liquor (appetizer)\"        \"white wine\"               \n",
       "[117] \"red/blush wine\"            \"prosecco\"                 \n",
       "[119] \"sparkling wine\"            \"salty snack\"              \n",
       "[121] \"popcorn\"                   \"nut snack\"                \n",
       "[123] \"snack products\"            \"long life bakery product\" \n",
       "[125] \"waffles\"                   \"cake bar\"                 \n",
       "[127] \"chewing gum\"               \"chocolate\"                \n",
       "[129] \"cooking chocolate\"         \"specialty chocolate\"      \n",
       "[131] \"specialty bar\"             \"chocolate marshmallow\"    \n",
       "[133] \"candy\"                     \"seasonal products\"        \n",
       "[135] \"detergent\"                 \"softener\"                 \n",
       "[137] \"decalcifier\"               \"dish cleaner\"             \n",
       "[139] \"abrasive cleaner\"          \"cleaner\"                  \n",
       "[141] \"toilet cleaner\"            \"bathroom cleaner\"         \n",
       "[143] \"hair spray\"                \"dental care\"              \n",
       "[145] \"male cosmetics\"            \"make up remover\"          \n",
       "[147] \"skin care\"                 \"female sanitary products\" \n",
       "[149] \"baby cosmetics\"            \"soap\"                     \n",
       "[151] \"rubbing alcohol\"           \"hygiene articles\"         \n",
       "[153] \"napkins\"                   \"dishes\"                   \n",
       "[155] \"cookware\"                  \"kitchen utensil\"          \n",
       "[157] \"cling film/bags\"           \"kitchen towels\"           \n",
       "[159] \"house keeping products\"    \"candles\"                  \n",
       "[161] \"light bulbs\"               \"sound storage medium\"     \n",
       "[163] \"newspapers\"                \"photo/film\"               \n",
       "[165] \"pot plants\"                \"flower soil/fertilizer\"   \n",
       "[167] \"flower (seeds)\"            \"shopping bags\"            \n",
       "[169] \"bags\"                     "
      ]
     },
     "metadata": {},
     "output_type": "display_data"
    }
   ],
   "source": [
    "?Groceries\n",
    "# Loading the dataset\n",
    "data(Groceries)\n",
    "Groceries@itemInfo$labels"
   ]
  },
  {
   "cell_type": "markdown",
   "metadata": {
    "button": false,
    "new_sheet": false,
    "run_control": {
     "read_only": false
    }
   },
   "source": [
    "¿Cuantas transacciones y clases contiene el dataset?"
   ]
  },
  {
   "cell_type": "markdown",
   "metadata": {
    "button": false,
    "new_sheet": false,
    "run_control": {
     "read_only": false
    }
   },
   "source": [
    "Notar que, para inspeccionar el objeto, hemos usado en un caso el símbolo arroba (`@`) y en otro el dolar (`$`). Esto se debe a que en el primer caso es un objeto tipo S3 ó S4, mientras que en el segundo caso es una colección de datos o `data.frame`."
   ]
  },
  {
   "cell_type": "markdown",
   "metadata": {
    "button": false,
    "new_sheet": false,
    "run_control": {
     "read_only": false
    }
   },
   "source": [
    "Podemos inspeccionar el objeto y ver algunas de las reglas. Por ejemplo, el siguiente comando nos mostrará las primeras 4 reglas en función de su confianza:"
   ]
  },
  {
   "cell_type": "markdown",
   "metadata": {
    "button": false,
    "new_sheet": false,
    "run_control": {
     "read_only": false
    }
   },
   "source": [
    "Para ver cómo funcionan los comandos anteriores puedes usar la ayuda de R:\n",
    "`? sort`\n",
    "`? inspect`\n",
    "`? head`"
   ]
  },
  {
   "cell_type": "markdown",
   "metadata": {
    "button": false,
    "new_sheet": false,
    "run_control": {
     "read_only": false
    }
   },
   "source": [
    "## Herramientas de visualización\n",
    "\n",
    "En los puntos anteriores hemos establecido las reglas de asociación y manejado la estructura obtenida. Sin embargo, la librería `aruleViz` incluye herramientas de visualización a través de la sobrecarga de la función `plot` (`? plot`)."
   ]
  },
  {
   "cell_type": "code",
   "execution_count": null,
   "metadata": {
    "button": false,
    "new_sheet": false,
    "run_control": {
     "read_only": false
    }
   },
   "outputs": [],
   "source": [
    "plot(rules, method = NULL, measure = \"support\", shading = \"lift\", interactive = FALSE, data = NULL, control = NULL)"
   ]
  },
  {
   "cell_type": "markdown",
   "metadata": {
    "button": false,
    "new_sheet": false,
    "run_control": {
     "read_only": false
    }
   },
   "source": [
    "## Práctica:\n",
    "\n",
    "Responde a las siguientes cuestiones, incluyendo cuando corresponda el código asociado:"
   ]
  },
  {
   "cell_type": "code",
   "execution_count": null,
   "metadata": {
    "button": false,
    "new_sheet": false,
    "run_control": {
     "read_only": false
    }
   },
   "outputs": [],
   "source": [
    "rules <- apriori(Groceries, parameter=list(support = 0.001, confidence = 0.5))"
   ]
  },
  {
   "cell_type": "code",
   "execution_count": null,
   "metadata": {
    "button": false,
    "new_sheet": false,
    "run_control": {
     "read_only": false
    }
   },
   "outputs": [],
   "source": [
    "inspect(head(sort(rules, by = \"confidence\"),4))"
   ]
  },
  {
   "cell_type": "markdown",
   "metadata": {
    "button": false,
    "new_sheet": false,
    "run_control": {
     "read_only": false
    }
   },
   "source": [
    " * ¿Cuantas reglas de asociación se han generado? "
   ]
  },
  {
   "cell_type": "code",
   "execution_count": null,
   "metadata": {
    "button": false,
    "new_sheet": false,
    "run_control": {
     "read_only": false
    }
   },
   "outputs": [],
   "source": [
    "# Incluye el código para responder a la cuestion anterior."
   ]
  },
  {
   "cell_type": "markdown",
   "metadata": {
    "button": false,
    "new_sheet": false,
    "run_control": {
     "read_only": false
    }
   },
   "source": [
    " * ¿Qué porcentaje de reglas es redundante? "
   ]
  },
  {
   "cell_type": "code",
   "execution_count": null,
   "metadata": {
    "button": false,
    "new_sheet": false,
    "run_control": {
     "read_only": false
    }
   },
   "outputs": [],
   "source": [
    "# Incluye el código para responder a la cuestion anterior."
   ]
  },
  {
   "cell_type": "markdown",
   "metadata": {
    "button": false,
    "new_sheet": false,
    "run_control": {
     "read_only": false
    }
   },
   "source": [
    " * Teniendo en cuenta el conjunto de datos de partida, ¿resulta útil el conjunto de reglas generado?"
   ]
  },
  {
   "cell_type": "code",
   "execution_count": null,
   "metadata": {
    "button": false,
    "new_sheet": false,
    "run_control": {
     "read_only": false
    }
   },
   "outputs": [],
   "source": [
    "# Incluye el código para responder a la cuestion anterior."
   ]
  },
  {
   "cell_type": "markdown",
   "metadata": {
    "button": false,
    "new_sheet": false,
    "run_control": {
     "read_only": false
    }
   },
   "source": [
    " * ¿Cual es la regla con mayor confianza? ¿Y con menor?"
   ]
  },
  {
   "cell_type": "code",
   "execution_count": null,
   "metadata": {
    "button": false,
    "new_sheet": false,
    "run_control": {
     "read_only": false
    }
   },
   "outputs": [],
   "source": [
    "# Incluye el código para responder a la cuestion anterior."
   ]
  },
  {
   "cell_type": "markdown",
   "metadata": {
    "button": false,
    "new_sheet": false,
    "run_control": {
     "read_only": false
    }
   },
   "source": [
    " * ¿Cual es la regla con mayor interés? ¿Y con menor?"
   ]
  },
  {
   "cell_type": "code",
   "execution_count": null,
   "metadata": {
    "button": false,
    "new_sheet": false,
    "run_control": {
     "read_only": false
    }
   },
   "outputs": [],
   "source": [
    "# Incluye el código para responder a la cuestion anterior."
   ]
  },
  {
   "cell_type": "markdown",
   "metadata": {
    "button": false,
    "new_sheet": false,
    "run_control": {
     "read_only": false
    }
   },
   "source": [
    " * En el objeto aparece una medida llamada `lift`, ¿qué mide?"
   ]
  },
  {
   "cell_type": "code",
   "execution_count": null,
   "metadata": {
    "button": false,
    "new_sheet": false,
    "run_control": {
     "read_only": false
    }
   },
   "outputs": [],
   "source": [
    "# Incluye el código para responder a la cuestion anterior."
   ]
  },
  {
   "cell_type": "markdown",
   "metadata": {
    "button": false,
    "new_sheet": false,
    "run_control": {
     "read_only": false
    }
   },
   "source": [
    " * Escribe el `podium` asociado a cada una de las tres medidas: `support`, `confidence` y `lift`."
   ]
  },
  {
   "cell_type": "code",
   "execution_count": null,
   "metadata": {
    "button": false,
    "new_sheet": false,
    "run_control": {
     "read_only": false
    }
   },
   "outputs": [],
   "source": [
    "# Incluye el código para responder a la cuestion anterior."
   ]
  },
  {
   "cell_type": "markdown",
   "metadata": {
    "button": false,
    "new_sheet": false,
    "run_control": {
     "read_only": false
    }
   },
   "source": [
    " * ¿Se puede inferir que la regla es persistente respecto a la medida de interés?"
   ]
  },
  {
   "cell_type": "code",
   "execution_count": null,
   "metadata": {
    "button": false,
    "new_sheet": false,
    "run_control": {
     "read_only": false
    }
   },
   "outputs": [],
   "source": [
    "# Incluye el código para responder a la cuestion anterior."
   ]
  },
  {
   "cell_type": "markdown",
   "metadata": {
    "button": false,
    "new_sheet": false,
    "run_control": {
     "read_only": false
    }
   },
   "source": [
    " * Explorar los ejemplos de la función plot. "
   ]
  },
  {
   "cell_type": "code",
   "execution_count": null,
   "metadata": {
    "button": false,
    "new_sheet": false,
    "run_control": {
     "read_only": false
    }
   },
   "outputs": [],
   "source": [
    "# Incluye el código para responder a la cuestion anterior."
   ]
  },
  {
   "cell_type": "markdown",
   "metadata": {
    "button": false,
    "new_sheet": false,
    "run_control": {
     "read_only": false
    }
   },
   "source": [
    " * ¿Hay alguna agrupación de items que se de con gran frecuencia? Por ejemplo, ¿los productos de limpieza se compran de forma conjunta? ¿Los productos de cuidado personal?, etc..."
   ]
  },
  {
   "cell_type": "code",
   "execution_count": null,
   "metadata": {
    "button": false,
    "new_sheet": false,
    "run_control": {
     "read_only": false
    }
   },
   "outputs": [],
   "source": [
    "# Incluye el código para responder a la cuestion anterior."
   ]
  },
  {
   "cell_type": "markdown",
   "metadata": {
    "button": false,
    "new_sheet": false,
    "run_control": {
     "read_only": false
    }
   },
   "source": [
    " * Responder a las preguntas anteriores con los diferentes algoritmos disponibles, comparar los resultados y concluir si los resultados son o no robustos respecto al algoritmo."
   ]
  },
  {
   "cell_type": "code",
   "execution_count": null,
   "metadata": {
    "button": false,
    "new_sheet": false,
    "run_control": {
     "read_only": false
    }
   },
   "outputs": [],
   "source": [
    "# Incluye el código para responder a la cuestion anterior."
   ]
  },
  {
   "cell_type": "markdown",
   "metadata": {
    "button": false,
    "new_sheet": false,
    "run_control": {
     "read_only": false
    }
   },
   "source": [
    " \n",
    "## Session Info:"
   ]
  },
  {
   "cell_type": "code",
   "execution_count": null,
   "metadata": {
    "button": false,
    "new_sheet": false,
    "run_control": {
     "read_only": false
    }
   },
   "outputs": [],
   "source": [
    "print(sessionInfo())"
   ]
  }
 ],
 "metadata": {
  "kernelspec": {
   "display_name": "R",
   "language": "R",
   "name": "ir"
  },
  "language_info": {
   "codemirror_mode": "r",
   "file_extension": ".r",
   "mimetype": "text/x-r-source",
   "name": "R",
   "pygments_lexer": "r",
   "version": "3.4.4"
  }
 },
 "nbformat": 4,
 "nbformat_minor": 2
}
