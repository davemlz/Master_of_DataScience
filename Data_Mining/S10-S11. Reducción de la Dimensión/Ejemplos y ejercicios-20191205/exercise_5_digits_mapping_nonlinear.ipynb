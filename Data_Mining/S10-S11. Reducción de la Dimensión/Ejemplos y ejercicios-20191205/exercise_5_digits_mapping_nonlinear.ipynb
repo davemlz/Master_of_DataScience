{
 "cells": [
  {
   "cell_type": "markdown",
   "metadata": {},
   "source": [
    "# Ejercicio: Mapa de imágenes usando técnicas no lineales\n",
    "\n",
    "Dimensionality reduction  \n",
    "Curso: Big data con Python (2019)  \n",
    "Profesor: Steven Van Vaerenbergh  \n",
    "Universidad de Cantabria  "
   ]
  },
  {
   "cell_type": "code",
   "execution_count": null,
   "metadata": {},
   "outputs": [],
   "source": [
    "import numpy as np\n",
    "import matplotlib.pyplot as plt\n",
    "from sklearn import manifold\n",
    "\n",
    "from mpl_toolkits.mplot3d import Axes3D\n",
    "\n",
    "# Módulo para medir el tiempo de ejecución\n",
    "from time import time\n",
    "\n",
    "%matplotlib inline"
   ]
  },
  {
   "cell_type": "markdown",
   "metadata": {},
   "source": [
    "# Datos"
   ]
  },
  {
   "cell_type": "code",
   "execution_count": null,
   "metadata": {},
   "outputs": [],
   "source": [
    "# Cargamos los datos\n",
    "from sklearn.datasets import load_digits\n",
    "\n",
    "digits = load_digits()\n",
    "\n",
    "# Contenidos del diccionario \"digits\"\n",
    "digits.keys()"
   ]
  },
  {
   "cell_type": "code",
   "execution_count": null,
   "metadata": {},
   "outputs": [],
   "source": [
    "# Tamaño del dataset\n",
    "X = digits.data\n",
    "X.shape"
   ]
  },
  {
   "cell_type": "markdown",
   "metadata": {},
   "source": [
    "# a) Calcula un mapa de dígitos usando Isomap"
   ]
  },
  {
   "cell_type": "code",
   "execution_count": null,
   "metadata": {},
   "outputs": [],
   "source": [
    "# Parámetros de Isomap\n",
    "\n",
    "..."
   ]
  },
  {
   "cell_type": "code",
   "execution_count": null,
   "metadata": {},
   "outputs": [],
   "source": [
    "# Training de Isomap\n",
    "\n",
    "t0 = time()\n",
    "\n",
    "isomap = ...\n",
    "Y_isomap = ...\n",
    "\n",
    "t1 = time()\n",
    "print(\"Isomap: %.2g sec\" % (t1 - t0))"
   ]
  },
  {
   "cell_type": "code",
   "execution_count": null,
   "metadata": {},
   "outputs": [],
   "source": [
    "# Dibuja el mapa calculado\n",
    "\n",
    "fig, ax = plt.subplots(figsize=[15,10])\n",
    "\n",
    "for c in np.unique(digits.target):\n",
    "    i = np.where(digits.target == c)\n",
    "    \n",
    "    # Dibuja todos los puntos de la clase i\n",
    "    ax.scatter(Y_isomap[i,0], Y_isomap[i,1], label = c, s = 10)\n",
    "    \n",
    "ax.legend(loc='upper right')\n",
    "plt.title(\"Isomap on Digits data\")\n",
    "plt.show()"
   ]
  },
  {
   "cell_type": "markdown",
   "metadata": {},
   "source": [
    "# b) Calcula un mapa de dígitos usando LLE"
   ]
  },
  {
   "cell_type": "code",
   "execution_count": null,
   "metadata": {},
   "outputs": [],
   "source": [
    "# Parámetros de LLE\n",
    "\n",
    "..."
   ]
  },
  {
   "cell_type": "code",
   "execution_count": null,
   "metadata": {},
   "outputs": [],
   "source": [
    "# Training de LLE\n",
    "\n",
    "t0 = time()\n",
    "\n",
    "lle = ...\n",
    "Y_lle = ...\n",
    "\n",
    "t1 = time()\n",
    "print(\"LLE: %.2g seg\" % (t1 - t0))"
   ]
  },
  {
   "cell_type": "code",
   "execution_count": null,
   "metadata": {},
   "outputs": [],
   "source": [
    "# Dibuja el mapa calculado\n",
    "\n",
    "fig, ax = plt.subplots(figsize=[15,10])\n",
    "\n",
    "for c in np.unique(digits.target):\n",
    "    i = np.where(digits.target == c)\n",
    "    \n",
    "    # Dibuja todos los puntos de la clase i\n",
    "    ax.scatter(Y_lle[i,0], Y_lle[i,1], label = c, s = 10)\n",
    "    \n",
    "ax.legend(loc='upper right')\n",
    "plt.title(\"LLE on Digits data\")\n",
    "plt.show()"
   ]
  },
  {
   "cell_type": "markdown",
   "metadata": {},
   "source": [
    "# c) Calcula un mapa de dígitos usando t-SNE"
   ]
  },
  {
   "cell_type": "code",
   "execution_count": null,
   "metadata": {},
   "outputs": [],
   "source": [
    "# Parámetros de t-SNE\n",
    "\n",
    "..."
   ]
  },
  {
   "cell_type": "code",
   "execution_count": null,
   "metadata": {},
   "outputs": [],
   "source": [
    "# Training de t-SNE\n",
    "\n",
    "t0 = time()\n",
    "\n",
    "tsne = ...\n",
    "Y_tsne = ...\n",
    "\n",
    "t1 = time()\n",
    "print(\"t-SNE: %.2g seg\" % (t1 - t0))"
   ]
  },
  {
   "cell_type": "code",
   "execution_count": null,
   "metadata": {},
   "outputs": [],
   "source": [
    "# Dibuja el mapa calculado\n",
    "\n",
    "fig, ax = plt.subplots(figsize=[15,10])\n",
    "\n",
    "for c in np.unique(digits.target):    \n",
    "    i = np.where(digits.target == c)\n",
    "    \n",
    "    # Dibuja todos los puntos de la clase i\n",
    "    ax.scatter(Y_tsne[i,0], Y_tsne[i,1], label = c, s = 10)\n",
    "    \n",
    "ax.legend(loc='upper right')\n",
    "plt.title(\"t-SNE on Digits data\")\n",
    "plt.show()"
   ]
  },
  {
   "cell_type": "code",
   "execution_count": null,
   "metadata": {},
   "outputs": [],
   "source": []
  }
 ],
 "metadata": {
  "kernelspec": {
   "display_name": "Python 3",
   "language": "python",
   "name": "python3"
  },
  "language_info": {
   "codemirror_mode": {
    "name": "ipython",
    "version": 3
   },
   "file_extension": ".py",
   "mimetype": "text/x-python",
   "name": "python",
   "nbconvert_exporter": "python",
   "pygments_lexer": "ipython3",
   "version": "3.6.3"
  }
 },
 "nbformat": 4,
 "nbformat_minor": 2
}
