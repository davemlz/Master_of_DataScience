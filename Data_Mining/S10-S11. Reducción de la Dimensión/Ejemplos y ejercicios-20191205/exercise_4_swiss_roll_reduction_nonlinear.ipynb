{
 "cells": [
  {
   "cell_type": "markdown",
   "metadata": {},
   "source": [
    "# Ejercicio: Reducción del dataset \"Swiss roll\" mediante técnicas no lineales\n",
    "\n",
    "Dimensionality reduction  \n",
    "Curso: Big data con Python (2019)  \n",
    "Profesor: Steven Van Vaerenbergh  \n",
    "Universidad de Cantabria  "
   ]
  },
  {
   "cell_type": "code",
   "execution_count": null,
   "metadata": {},
   "outputs": [],
   "source": [
    "import numpy as np\n",
    "import matplotlib.pyplot as plt\n",
    "from sklearn import manifold\n",
    "from sklearn.datasets.samples_generator import make_swiss_roll\n",
    "from mpl_toolkits.mplot3d import Axes3D\n",
    "\n",
    "# module for measuring execution times\n",
    "from time import time\n",
    "\n",
    "%matplotlib inline"
   ]
  },
  {
   "cell_type": "markdown",
   "metadata": {},
   "source": [
    "# Generación de datos"
   ]
  },
  {
   "cell_type": "code",
   "execution_count": null,
   "metadata": {},
   "outputs": [],
   "source": [
    "# Generamos los datos (swiss roll dataset)\n",
    "n_points = 1000\n",
    "noise = 0.05\n",
    "X, color = make_swiss_roll(n_points, noise)\n",
    "\n",
    "# Lo hacemos más estrcho\n",
    "X[:, 1] *= .5"
   ]
  },
  {
   "cell_type": "markdown",
   "metadata": {},
   "source": [
    "# Visualización"
   ]
  },
  {
   "cell_type": "code",
   "execution_count": null,
   "metadata": {},
   "outputs": [],
   "source": [
    "fig = plt.figure(figsize=(6, 5))\n",
    "\n",
    "ax = Axes3D(fig, rect=[0, 0, .95, 1])\n",
    "ax.scatter(X[:, 0], X[:, 1], X[:, 2], c=color, cmap=plt.cm.viridis)\n",
    "ax.view_init(4, -72)\n",
    "\n",
    "plt.show()"
   ]
  },
  {
   "cell_type": "markdown",
   "metadata": {},
   "source": [
    "# a) Reducción de la dimensionalidad usando Isomap"
   ]
  },
  {
   "cell_type": "code",
   "execution_count": null,
   "metadata": {},
   "outputs": [],
   "source": [
    "# Parámetros de Isomap\n",
    "\n",
    "..."
   ]
  },
  {
   "cell_type": "code",
   "execution_count": null,
   "metadata": {},
   "outputs": [],
   "source": [
    "# Training de Isomap\n",
    "\n",
    "t0 = time()\n",
    "\n",
    "isomap = ...\n",
    "Y_isomap = ...\n",
    "\n",
    "t1 = time()\n",
    "print(\"Isomap: %.2g sec\" % (t1 - t0))"
   ]
  },
  {
   "cell_type": "code",
   "execution_count": null,
   "metadata": {},
   "outputs": [],
   "source": [
    "# Dibuja el resultado\n",
    "\n",
    "fig = plt.figure(figsize=(6, 5))\n",
    "plt.scatter(Y_isomap[:, 0], Y_isomap[:, 1], c=color, cmap=plt.cm.viridis)\n",
    "plt.title(\"Isomap on Swiss Roll data\")\n",
    "plt.axis('tight')\n",
    "plt.show()"
   ]
  },
  {
   "cell_type": "markdown",
   "metadata": {},
   "source": [
    "# b) Reducción de la dimensionalidad usando LLE"
   ]
  },
  {
   "cell_type": "code",
   "execution_count": null,
   "metadata": {},
   "outputs": [],
   "source": [
    "# Parámetros de LLE\n",
    "\n",
    "..."
   ]
  },
  {
   "cell_type": "code",
   "execution_count": null,
   "metadata": {},
   "outputs": [],
   "source": [
    "# Training de LLE\n",
    "\n",
    "t0 = time()\n",
    "\n",
    "lle = ...\n",
    "Y_lle = ...\n",
    "\n",
    "t1 = time()\n",
    "print(\"LLE: %.2g seg\" % (t1 - t0))"
   ]
  },
  {
   "cell_type": "code",
   "execution_count": null,
   "metadata": {},
   "outputs": [],
   "source": [
    "# Dibuja el resultado\n",
    "\n",
    "fig = plt.figure(figsize=(6, 5))\n",
    "plt.scatter(Y_lle[:, 0], Y_lle[:, 1], c=color, cmap=plt.cm.viridis)\n",
    "plt.title(\"LLE on Swiss Roll data\")\n",
    "plt.axis('tight')\n",
    "plt.show()"
   ]
  },
  {
   "cell_type": "markdown",
   "metadata": {},
   "source": [
    "# c) Reducción de la dimensionalidad usando t-SNE"
   ]
  },
  {
   "cell_type": "code",
   "execution_count": null,
   "metadata": {},
   "outputs": [],
   "source": [
    "# Parámetros de t-SNE\n",
    "\n",
    "..."
   ]
  },
  {
   "cell_type": "code",
   "execution_count": null,
   "metadata": {},
   "outputs": [],
   "source": [
    "# Training de t-SNE\n",
    "\n",
    "t0 = time()\n",
    "\n",
    "tsne = ...\n",
    "Y_tsne = ...\n",
    "\n",
    "t1 = time()\n",
    "print(\"t-SNE: %.2g seg\" % (t1 - t0))"
   ]
  },
  {
   "cell_type": "code",
   "execution_count": null,
   "metadata": {},
   "outputs": [],
   "source": [
    "# Dibuja el resultado\n",
    "\n",
    "fig = plt.figure(figsize=(6, 5))\n",
    "plt.scatter(Y_tsne[:, 0], Y_tsne[:, 1], c=color, cmap=plt.cm.viridis)\n",
    "plt.title(\"t-SNE on Swiss Roll data\")\n",
    "plt.axis('tight')\n",
    "plt.show()"
   ]
  },
  {
   "cell_type": "code",
   "execution_count": null,
   "metadata": {},
   "outputs": [],
   "source": []
  }
 ],
 "metadata": {
  "kernelspec": {
   "display_name": "Python 3",
   "language": "python",
   "name": "python3"
  },
  "language_info": {
   "codemirror_mode": {
    "name": "ipython",
    "version": 3
   },
   "file_extension": ".py",
   "mimetype": "text/x-python",
   "name": "python",
   "nbconvert_exporter": "python",
   "pygments_lexer": "ipython3",
   "version": "3.6.3"
  }
 },
 "nbformat": 4,
 "nbformat_minor": 2
}
