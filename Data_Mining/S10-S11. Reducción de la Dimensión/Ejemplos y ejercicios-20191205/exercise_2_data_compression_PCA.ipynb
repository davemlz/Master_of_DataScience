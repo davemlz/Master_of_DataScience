{
  "nbformat": 4,
  "nbformat_minor": 0,
  "metadata": {
    "kernelspec": {
      "display_name": "Python 3",
      "language": "python",
      "name": "python3"
    },
    "language_info": {
      "codemirror_mode": {
        "name": "ipython",
        "version": 3
      },
      "file_extension": ".py",
      "mimetype": "text/x-python",
      "name": "python",
      "nbconvert_exporter": "python",
      "pygments_lexer": "ipython3",
      "version": "3.6.3"
    },
    "colab": {
      "name": "exercise_2_data_compression_PCA.ipynb",
      "provenance": []
    }
  },
  "cells": [
    {
      "cell_type": "markdown",
      "metadata": {
        "id": "dWd7FvUu-Rak",
        "colab_type": "text"
      },
      "source": [
        "# Ejercicio: Compresión de datos usando PCA\n",
        "\n",
        "Dimensionality reduction  \n",
        "Curso Big data con Python (2019)  \n",
        "Profesor: Steven Van Vaerenbergh  \n",
        "Universidad de Cantabria  "
      ]
    },
    {
      "cell_type": "code",
      "metadata": {
        "id": "Ep9loFea-Ram",
        "colab_type": "code",
        "colab": {}
      },
      "source": [
        "import numpy as np\n",
        "import pandas as pd\n",
        "from matplotlib import pyplot as plt\n",
        "from sklearn.decomposition import PCA\n",
        "\n",
        "%matplotlib inline"
      ],
      "execution_count": 0,
      "outputs": []
    },
    {
      "cell_type": "markdown",
      "metadata": {
        "id": "MoRUp2FM-Raq",
        "colab_type": "text"
      },
      "source": [
        "# Datos"
      ]
    },
    {
      "cell_type": "code",
      "metadata": {
        "id": "gwFPiUMx-Raq",
        "colab_type": "code",
        "colab": {}
      },
      "source": [
        "# Leemos los datos directamente desde la hoja CSV\n",
        "df = pd.read_csv('bank_data.csv').drop(columns=['indice'])\n",
        "df.head()"
      ],
      "execution_count": 0,
      "outputs": []
    },
    {
      "cell_type": "markdown",
      "metadata": {
        "id": "wsueDGrR-Rat",
        "colab_type": "text"
      },
      "source": [
        "# a) Calcula PCA sobre los datos"
      ]
    },
    {
      "cell_type": "code",
      "metadata": {
        "id": "Qm_Jp6yQ-Rau",
        "colab_type": "code",
        "colab": {}
      },
      "source": [
        "pca = PCA()\n",
        "X_r = pca.fit(df).transform(df)"
      ],
      "execution_count": 0,
      "outputs": []
    },
    {
      "cell_type": "markdown",
      "metadata": {
        "id": "qsKRPH-0-Ray",
        "colab_type": "text"
      },
      "source": [
        "# b) Dibuja la varianza acumulada"
      ]
    },
    {
      "cell_type": "code",
      "metadata": {
        "id": "WYfQk_yG-Raz",
        "colab_type": "code",
        "colab": {}
      },
      "source": [
        "explained_variance = pca.explained_variance_ratio_\n",
        "\n",
        "plt.plot(explained_variance,'-o')\n",
        "plt.xlabel('number of components')\n",
        "plt.ylabel('cumulative explained variance');\n",
        "\n",
        "# Mejoramos las etiquetas del eje x\n",
        "n_components = len(explained_variance)\n",
        "plt.xticks(np.arange(n_components), np.arange(1,n_components+1))\n",
        "\n",
        "plt.grid(True)\n",
        "plt.show()"
      ],
      "execution_count": 0,
      "outputs": []
    },
    {
      "cell_type": "markdown",
      "metadata": {
        "id": "AqcrUEOp-Ra1",
        "colab_type": "text"
      },
      "source": [
        "# c) Preguntas\n",
        "\n",
        "1. ¿Cuántos componentes principales son necesarios para mantener un 95% de la varianza?\n",
        "2. ¿Cuántos componentes principales son necesarios para mantener un 98% de la varianza?\n",
        "3. ¿Cuál es compresión de datos en cada caso?"
      ]
    },
    {
      "cell_type": "code",
      "metadata": {
        "id": "Np2f3ePE-Ra2",
        "colab_type": "code",
        "colab": {}
      },
      "source": [
        "n_comp_95 = np.cumsum(explained_variance) >= 0.95\n",
        "n_comp_95 = np.argmax(n_comp_95) + 1\n",
        "print(\"1. Necesarios para mantener un 95%% de la varianza: %d componentes.\"%n_comp_95)"
      ],
      "execution_count": 0,
      "outputs": []
    },
    {
      "cell_type": "code",
      "metadata": {
        "id": "x2P24L1Y-Ra4",
        "colab_type": "code",
        "colab": {}
      },
      "source": [
        "n_comp_98 = np.cumsum(explained_variance) >= 0.98\n",
        "n_comp_98 = np.argmax(n_comp_98) + 1\n",
        "print(\"2. Necesarios para mantener un 99%% de la varianza: %d componentes.\"%n_comp_98)"
      ],
      "execution_count": 0,
      "outputs": []
    },
    {
      "cell_type": "code",
      "metadata": {
        "id": "uXKtshGI-Ra6",
        "colab_type": "code",
        "colab": {}
      },
      "source": [
        "print('3. Los datos se han comprimido un %.2f%% y un %.2f%%, respectivamente.'\n",
        "      %(...,...))"
      ],
      "execution_count": 0,
      "outputs": []
    },
    {
      "cell_type": "code",
      "metadata": {
        "id": "t3ZltJ3N-Ra8",
        "colab_type": "code",
        "colab": {}
      },
      "source": [
        ""
      ],
      "execution_count": 0,
      "outputs": []
    }
  ]
}