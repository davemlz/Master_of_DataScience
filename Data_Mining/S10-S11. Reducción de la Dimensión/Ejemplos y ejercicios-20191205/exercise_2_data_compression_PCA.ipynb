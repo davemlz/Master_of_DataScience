{
 "cells": [
  {
   "cell_type": "markdown",
   "metadata": {},
   "source": [
    "# Ejercicio: Compresión de datos usando PCA\n",
    "\n",
    "Dimensionality reduction  \n",
    "Curso Big data con Python (2019)  \n",
    "Profesor: Steven Van Vaerenbergh  \n",
    "Universidad de Cantabria  "
   ]
  },
  {
   "cell_type": "code",
   "execution_count": null,
   "metadata": {},
   "outputs": [],
   "source": [
    "import numpy as np\n",
    "import pandas as pd\n",
    "from matplotlib import pyplot as plt\n",
    "from sklearn.decomposition import PCA\n",
    "\n",
    "%matplotlib inline"
   ]
  },
  {
   "cell_type": "markdown",
   "metadata": {},
   "source": [
    "# Datos"
   ]
  },
  {
   "cell_type": "code",
   "execution_count": null,
   "metadata": {},
   "outputs": [],
   "source": [
    "# Leemos los datos directamente desde la hoja CSV\n",
    "df = pd.read_csv('bank_data.csv').drop(columns=['indice'])\n",
    "df.head()"
   ]
  },
  {
   "cell_type": "markdown",
   "metadata": {},
   "source": [
    "# a) Calcula PCA sobre los datos"
   ]
  },
  {
   "cell_type": "code",
   "execution_count": null,
   "metadata": {},
   "outputs": [],
   "source": [
    "pca = ...\n",
    "pca..."
   ]
  },
  {
   "cell_type": "markdown",
   "metadata": {},
   "source": [
    "# b) Dibuja la varianza acumulada"
   ]
  },
  {
   "cell_type": "code",
   "execution_count": null,
   "metadata": {},
   "outputs": [],
   "source": [
    "explained_variance = ...\n",
    "\n",
    "plt.plot(...,'-o')\n",
    "plt.xlabel('number of components')\n",
    "plt.ylabel('cumulative explained variance');\n",
    "\n",
    "# Mejoramos las etiquetas del eje x\n",
    "n_components = len(explained_variance)\n",
    "plt.xticks(np.arange(n_components), np.arange(1,n_components+1))\n",
    "\n",
    "plt.grid(True)\n",
    "plt.show()"
   ]
  },
  {
   "cell_type": "markdown",
   "metadata": {},
   "source": [
    "# c) Preguntas\n",
    "\n",
    "1. ¿Cuántos componentes principales son necesarios para mantener un 95% de la varianza?\n",
    "2. ¿Cuántos componentes principales son necesarios para mantener un 98% de la varianza?\n",
    "3. ¿Cuál es compresión de datos en cada caso?"
   ]
  },
  {
   "cell_type": "code",
   "execution_count": null,
   "metadata": {},
   "outputs": [],
   "source": [
    "n_comp_95 = ...\n",
    "print(\"1. Necesarios para mantener un 95%% de la varianza: %d componentes.\"%n_comp_95)"
   ]
  },
  {
   "cell_type": "code",
   "execution_count": null,
   "metadata": {},
   "outputs": [],
   "source": [
    "n_comp_98 = ...\n",
    "print(\"2. Necesarios para mantener un 99%% de la varianza: %d componentes.\"%n_comp_98)"
   ]
  },
  {
   "cell_type": "code",
   "execution_count": null,
   "metadata": {},
   "outputs": [],
   "source": [
    "print('3. Los datos se han comprimido un %.2f%% y un %.2f%%, respectivamente.'\n",
    "      %(...,...))"
   ]
  },
  {
   "cell_type": "code",
   "execution_count": null,
   "metadata": {},
   "outputs": [],
   "source": []
  }
 ],
 "metadata": {
  "kernelspec": {
   "display_name": "Python 3",
   "language": "python",
   "name": "python3"
  },
  "language_info": {
   "codemirror_mode": {
    "name": "ipython",
    "version": 3
   },
   "file_extension": ".py",
   "mimetype": "text/x-python",
   "name": "python",
   "nbconvert_exporter": "python",
   "pygments_lexer": "ipython3",
   "version": "3.6.3"
  }
 },
 "nbformat": 4,
 "nbformat_minor": 2
}
