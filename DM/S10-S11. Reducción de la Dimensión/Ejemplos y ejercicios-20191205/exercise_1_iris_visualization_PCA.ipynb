{
  "nbformat": 4,
  "nbformat_minor": 0,
  "metadata": {
    "kernelspec": {
      "display_name": "Python 3",
      "language": "python",
      "name": "python3"
    },
    "language_info": {
      "codemirror_mode": {
        "name": "ipython",
        "version": 3
      },
      "file_extension": ".py",
      "mimetype": "text/x-python",
      "name": "python",
      "nbconvert_exporter": "python",
      "pygments_lexer": "ipython3",
      "version": "3.6.3"
    },
    "colab": {
      "name": "exercise_1_iris_visualization_PCA.ipynb",
      "provenance": []
    }
  },
  "cells": [
    {
      "cell_type": "markdown",
      "metadata": {
        "id": "7JJMD5unxxAK",
        "colab_type": "text"
      },
      "source": [
        "# Ejercicio: Visualización del dataset iris usando PCA\n",
        "\n",
        "Dimensionality reduction  \n",
        "Curso: Big data con Python (2019)  \n",
        "Profesor: Steven Van Vaerenbergh  \n",
        "Universidad de Cantabria  "
      ]
    },
    {
      "cell_type": "code",
      "metadata": {
        "id": "HwSs5z2CxxAS",
        "colab_type": "code",
        "colab": {}
      },
      "source": [
        "import numpy as np\n",
        "import matplotlib.pyplot as plt\n",
        "from sklearn import datasets\n",
        "from sklearn.decomposition import PCA\n",
        "\n",
        "%matplotlib inline"
      ],
      "execution_count": 0,
      "outputs": []
    },
    {
      "cell_type": "markdown",
      "metadata": {
        "id": "3PrOyGtuxxAw",
        "colab_type": "text"
      },
      "source": [
        "# Datos"
      ]
    },
    {
      "cell_type": "code",
      "metadata": {
        "id": "R4M9A3LLxxA4",
        "colab_type": "code",
        "colab": {
          "base_uri": "https://localhost:8080/",
          "height": 34
        },
        "outputId": "82c57085-4197-4ca9-c3e5-a55c39b83d3b"
      },
      "source": [
        "# Cargamos los datos\n",
        "iris = datasets.load_iris()\n",
        "\n",
        "# Contenidos del diccionario \"iris\"\n",
        "iris.keys()"
      ],
      "execution_count": 7,
      "outputs": [
        {
          "output_type": "execute_result",
          "data": {
            "text/plain": [
              "dict_keys(['data', 'target', 'target_names', 'DESCR', 'feature_names', 'filename'])"
            ]
          },
          "metadata": {
            "tags": []
          },
          "execution_count": 7
        }
      ]
    },
    {
      "cell_type": "code",
      "metadata": {
        "id": "2zSEK_xtxxBF",
        "colab_type": "code",
        "colab": {
          "base_uri": "https://localhost:8080/",
          "height": 34
        },
        "outputId": "f58c8bb5-7c4c-4378-fc5c-98eb901a7412"
      },
      "source": [
        "X = iris.data\n",
        "y = iris.target\n",
        "target_names = iris.target_names\n",
        "\n",
        "# Consultamos las dimensiones de los datos\n",
        "X.shape"
      ],
      "execution_count": 8,
      "outputs": [
        {
          "output_type": "execute_result",
          "data": {
            "text/plain": [
              "(150, 4)"
            ]
          },
          "metadata": {
            "tags": []
          },
          "execution_count": 8
        }
      ]
    },
    {
      "cell_type": "markdown",
      "metadata": {
        "id": "Q1XS4djhxxBO",
        "colab_type": "text"
      },
      "source": [
        "# a) Calcula los componentes principales"
      ]
    },
    {
      "cell_type": "code",
      "metadata": {
        "id": "lPm2YuwFxxBQ",
        "colab_type": "code",
        "colab": {}
      },
      "source": [
        "pca = PCA(n_components=4)\n",
        "X_r = pca.fit(X).transform(X)"
      ],
      "execution_count": 0,
      "outputs": []
    },
    {
      "cell_type": "code",
      "metadata": {
        "id": "ygpJxJePxxBY",
        "colab_type": "code",
        "colab": {
          "base_uri": "https://localhost:8080/",
          "height": 281
        },
        "outputId": "ff00c928-4fef-45de-c816-8d1d93cc6c1b"
      },
      "source": [
        "# Scatter plot\n",
        "for i, target_name in zip([0, 1, 2], target_names):\n",
        "    \n",
        "    # Dibuja todos los puntos de la clase i\n",
        "    plt.scatter(X_r[y == i, 0], X_r[y == i, 1], alpha=.8,\n",
        "                label=target_name)\n",
        "\n",
        "plt.legend(loc='best', shadow=False, scatterpoints=1)\n",
        "plt.title('PCA of IRIS dataset')\n",
        "plt.show()"
      ],
      "execution_count": 10,
      "outputs": [
        {
          "output_type": "display_data",
          "data": {
            "image/png": "[encoded data removed]",
            "text/plain": [
              "<Figure size 432x288 with 1 Axes>"
            ]
          },
          "metadata": {
            "tags": []
          }
        }
      ]
    },
    {
      "cell_type": "markdown",
      "metadata": {
        "id": "HwFz6NLrxxBe",
        "colab_type": "text"
      },
      "source": [
        "# b) Visualiza la varianza explicada por cada componente (Scree plot)"
      ]
    },
    {
      "cell_type": "code",
      "metadata": {
        "id": "KkOQ-7tAxxBi",
        "colab_type": "code",
        "colab": {
          "base_uri": "https://localhost:8080/",
          "height": 34
        },
        "outputId": "a93363c1-9bde-43cb-ec86-666d9bb5b9ce"
      },
      "source": [
        "explained_variance = pca.explained_variance_ratio_\n",
        "\n",
        "# Percentage of variance explained for each components\n",
        "print('Explained variance ratio: %s'% str(explained_variance))"
      ],
      "execution_count": 11,
      "outputs": [
        {
          "output_type": "stream",
          "text": [
            "Explained variance ratio: [0.92461872 0.05306648 0.01710261 0.00521218]\n"
          ],
          "name": "stdout"
        }
      ]
    },
    {
      "cell_type": "code",
      "metadata": {
        "id": "1DnzYDU6xxBo",
        "colab_type": "code",
        "colab": {
          "base_uri": "https://localhost:8080/",
          "height": 278
        },
        "outputId": "c330e876-509d-4dd9-b175-bcaa351538e8"
      },
      "source": [
        "plt.plot(explained_variance,'-o')\n",
        "plt.xlabel('component')\n",
        "plt.ylabel('explained variance')\n",
        "\n",
        "# Mejoramos las etiquetas del eje x\n",
        "n_components = len(explained_variance)\n",
        "plt.xticks(np.arange(n_components), np.arange(1,n_components+1))\n",
        "\n",
        "plt.grid(True)\n",
        "plt.show()"
      ],
      "execution_count": 12,
      "outputs": [
        {
          "output_type": "display_data",
          "data": {
            "image/png": "[encoded data removed]",
            "text/plain": [
              "<Figure size 432x288 with 1 Axes>"
            ]
          },
          "metadata": {
            "tags": []
          }
        }
      ]
    },
    {
      "cell_type": "code",
      "metadata": {
        "id": "OVXfyGcoxxBt",
        "colab_type": "code",
        "colab": {}
      },
      "source": [
        ""
      ],
      "execution_count": 0,
      "outputs": []
    }
  ]
}