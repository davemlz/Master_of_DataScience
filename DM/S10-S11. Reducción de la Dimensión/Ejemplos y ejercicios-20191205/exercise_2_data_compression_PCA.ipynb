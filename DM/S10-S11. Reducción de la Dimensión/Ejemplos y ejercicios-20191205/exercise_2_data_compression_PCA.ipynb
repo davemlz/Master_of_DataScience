{
  "nbformat": 4,
  "nbformat_minor": 0,
  "metadata": {
    "kernelspec": {
      "display_name": "Python 3",
      "language": "python",
      "name": "python3"
    },
    "language_info": {
      "codemirror_mode": {
        "name": "ipython",
        "version": 3
      },
      "file_extension": ".py",
      "mimetype": "text/x-python",
      "name": "python",
      "nbconvert_exporter": "python",
      "pygments_lexer": "ipython3",
      "version": "3.6.3"
    },
    "colab": {
      "name": "exercise_2_data_compression_PCA.ipynb",
      "provenance": []
    }
  },
  "cells": [
    {
      "cell_type": "markdown",
      "metadata": {
        "id": "dWd7FvUu-Rak",
        "colab_type": "text"
      },
      "source": [
        "# Ejercicio: Compresión de datos usando PCA\n",
        "\n",
        "Dimensionality reduction  \n",
        "Curso Big data con Python (2019)  \n",
        "Profesor: Steven Van Vaerenbergh  \n",
        "Universidad de Cantabria  "
      ]
    },
    {
      "cell_type": "code",
      "metadata": {
        "id": "Ep9loFea-Ram",
        "colab_type": "code",
        "colab": {}
      },
      "source": [
        "import numpy as np\n",
        "import pandas as pd\n",
        "from matplotlib import pyplot as plt\n",
        "from sklearn.decomposition import PCA\n",
        "\n",
        "%matplotlib inline"
      ],
      "execution_count": 0,
      "outputs": []
    },
    {
      "cell_type": "markdown",
      "metadata": {
        "id": "MoRUp2FM-Raq",
        "colab_type": "text"
      },
      "source": [
        "# Datos"
      ]
    },
    {
      "cell_type": "code",
      "metadata": {
        "id": "gwFPiUMx-Raq",
        "colab_type": "code",
        "colab": {
          "base_uri": "https://localhost:8080/",
          "height": 197
        },
        "outputId": "b2d018ab-fbd1-4f5e-effa-796aa112469f"
      },
      "source": [
        "# Leemos los datos directamente desde la hoja CSV\n",
        "url = \"https://raw.githubusercontent.com/davemlz/Master_of_DataScience/master/Data_Mining/S10-S11.%20Reducci%C3%B3n%20de%20la%20Dimensi%C3%B3n/Ejemplos%20y%20ejercicios-20191205/bank_data.csv\"\n",
        "df = pd.read_csv(url).drop(columns=['indice'])\n",
        "df.head()"
      ],
      "execution_count": 7,
      "outputs": [
        {
          "output_type": "execute_result",
          "data": {
            "text/html": [
              "<div>\n",
              "<style scoped>\n",
              "    .dataframe tbody tr th:only-of-type {\n",
              "        vertical-align: middle;\n",
              "    }\n",
              "\n",
              "    .dataframe tbody tr th {\n",
              "        vertical-align: top;\n",
              "    }\n",
              "\n",
              "    .dataframe thead th {\n",
              "        text-align: right;\n",
              "    }\n",
              "</style>\n",
              "<table border=\"1\" class=\"dataframe\">\n",
              "  <thead>\n",
              "    <tr style=\"text-align: right;\">\n",
              "      <th></th>\n",
              "      <th>Imp_Cons_03</th>\n",
              "      <th>Imp_Cons_08</th>\n",
              "      <th>Imp_Cons_09</th>\n",
              "      <th>Imp_Sal_07</th>\n",
              "      <th>Imp_Sal_08</th>\n",
              "      <th>Imp_Sal_09</th>\n",
              "      <th>Imp_Sal_10</th>\n",
              "      <th>Imp_Sal_19</th>\n",
              "      <th>Imp_Sal_21</th>\n",
              "      <th>Num_Oper_06</th>\n",
              "      <th>Socio_Demo_03</th>\n",
              "      <th>Imp_Sal_20</th>\n",
              "      <th>Num_Oper_05</th>\n",
              "    </tr>\n",
              "  </thead>\n",
              "  <tbody>\n",
              "    <tr>\n",
              "      <th>0</th>\n",
              "      <td>0.000000</td>\n",
              "      <td>0.000000</td>\n",
              "      <td>0.000000</td>\n",
              "      <td>0.0</td>\n",
              "      <td>532.533333</td>\n",
              "      <td>532.533333</td>\n",
              "      <td>90.060000</td>\n",
              "      <td>0.000000</td>\n",
              "      <td>854.000000</td>\n",
              "      <td>1.0</td>\n",
              "      <td>64.25</td>\n",
              "      <td>24862.86</td>\n",
              "      <td>6.0</td>\n",
              "    </tr>\n",
              "    <tr>\n",
              "      <th>1</th>\n",
              "      <td>629.166667</td>\n",
              "      <td>0.000000</td>\n",
              "      <td>0.000000</td>\n",
              "      <td>0.0</td>\n",
              "      <td>781.703333</td>\n",
              "      <td>637.700000</td>\n",
              "      <td>0.000000</td>\n",
              "      <td>182.426667</td>\n",
              "      <td>667.050000</td>\n",
              "      <td>1.0</td>\n",
              "      <td>70.89</td>\n",
              "      <td>0.00</td>\n",
              "      <td>8.0</td>\n",
              "    </tr>\n",
              "    <tr>\n",
              "      <th>2</th>\n",
              "      <td>1039.166667</td>\n",
              "      <td>18.000000</td>\n",
              "      <td>0.000000</td>\n",
              "      <td>0.0</td>\n",
              "      <td>1024.623333</td>\n",
              "      <td>1243.873333</td>\n",
              "      <td>56.923333</td>\n",
              "      <td>30372.686667</td>\n",
              "      <td>29706.336667</td>\n",
              "      <td>1.0</td>\n",
              "      <td>38.34</td>\n",
              "      <td>0.00</td>\n",
              "      <td>7.0</td>\n",
              "    </tr>\n",
              "    <tr>\n",
              "      <th>3</th>\n",
              "      <td>90.000000</td>\n",
              "      <td>39.530000</td>\n",
              "      <td>83.020833</td>\n",
              "      <td>0.0</td>\n",
              "      <td>2032.053333</td>\n",
              "      <td>1545.596667</td>\n",
              "      <td>206.716667</td>\n",
              "      <td>1374.020000</td>\n",
              "      <td>11459.223333</td>\n",
              "      <td>4.0</td>\n",
              "      <td>69.91</td>\n",
              "      <td>6089.04</td>\n",
              "      <td>26.0</td>\n",
              "    </tr>\n",
              "    <tr>\n",
              "      <th>4</th>\n",
              "      <td>469.166667</td>\n",
              "      <td>36.120833</td>\n",
              "      <td>140.479091</td>\n",
              "      <td>0.0</td>\n",
              "      <td>1123.060000</td>\n",
              "      <td>1144.983333</td>\n",
              "      <td>144.010000</td>\n",
              "      <td>52.550000</td>\n",
              "      <td>441.770000</td>\n",
              "      <td>3.0</td>\n",
              "      <td>44.56</td>\n",
              "      <td>0.00</td>\n",
              "      <td>34.0</td>\n",
              "    </tr>\n",
              "  </tbody>\n",
              "</table>\n",
              "</div>"
            ],
            "text/plain": [
              "   Imp_Cons_03  Imp_Cons_08  ...  Imp_Sal_20  Num_Oper_05\n",
              "0     0.000000     0.000000  ...    24862.86          6.0\n",
              "1   629.166667     0.000000  ...        0.00          8.0\n",
              "2  1039.166667    18.000000  ...        0.00          7.0\n",
              "3    90.000000    39.530000  ...     6089.04         26.0\n",
              "4   469.166667    36.120833  ...        0.00         34.0\n",
              "\n",
              "[5 rows x 13 columns]"
            ]
          },
          "metadata": {
            "tags": []
          },
          "execution_count": 7
        }
      ]
    },
    {
      "cell_type": "markdown",
      "metadata": {
        "id": "wsueDGrR-Rat",
        "colab_type": "text"
      },
      "source": [
        "# a) Calcula PCA sobre los datos"
      ]
    },
    {
      "cell_type": "code",
      "metadata": {
        "id": "Qm_Jp6yQ-Rau",
        "colab_type": "code",
        "colab": {}
      },
      "source": [
        "pca = PCA()\n",
        "X_r = pca.fit(df).transform(df)"
      ],
      "execution_count": 0,
      "outputs": []
    },
    {
      "cell_type": "markdown",
      "metadata": {
        "id": "qsKRPH-0-Ray",
        "colab_type": "text"
      },
      "source": [
        "# b) Dibuja la varianza acumulada"
      ]
    },
    {
      "cell_type": "code",
      "metadata": {
        "id": "WYfQk_yG-Raz",
        "colab_type": "code",
        "colab": {
          "base_uri": "https://localhost:8080/",
          "height": 278
        },
        "outputId": "bf3b4ff5-2954-4846-ed7d-a8a03a238416"
      },
      "source": [
        "explained_variance = pca.explained_variance_ratio_\n",
        "\n",
        "plt.plot(explained_variance,'-o')\n",
        "plt.xlabel('number of components')\n",
        "plt.ylabel('cumulative explained variance');\n",
        "\n",
        "# Mejoramos las etiquetas del eje x\n",
        "n_components = len(explained_variance)\n",
        "plt.xticks(np.arange(n_components), np.arange(1,n_components+1))\n",
        "\n",
        "plt.grid(True)\n",
        "plt.show()"
      ],
      "execution_count": 9,
      "outputs": [
        {
          "output_type": "display_data",
          "data": {
            "image/png": "[encoded data removed]",
            "text/plain": [
              "<Figure size 432x288 with 1 Axes>"
            ]
          },
          "metadata": {
            "tags": []
          }
        }
      ]
    },
    {
      "cell_type": "markdown",
      "metadata": {
        "id": "AqcrUEOp-Ra1",
        "colab_type": "text"
      },
      "source": [
        "# c) Preguntas\n",
        "\n",
        "1. ¿Cuántos componentes principales son necesarios para mantener un 95% de la varianza?\n",
        "2. ¿Cuántos componentes principales son necesarios para mantener un 98% de la varianza?\n",
        "3. ¿Cuál es compresión de datos en cada caso?"
      ]
    },
    {
      "cell_type": "code",
      "metadata": {
        "id": "Np2f3ePE-Ra2",
        "colab_type": "code",
        "colab": {
          "base_uri": "https://localhost:8080/",
          "height": 34
        },
        "outputId": "1bf12d3d-cc3f-4ff3-fde6-c013b25450da"
      },
      "source": [
        "n_comp_95 = np.cumsum(explained_variance) >= 0.95\n",
        "n_comp_95 = np.argmax(n_comp_95) + 1\n",
        "print(\"1. Necesarios para mantener un 95%% de la varianza: %d componentes.\"%n_comp_95)"
      ],
      "execution_count": 10,
      "outputs": [
        {
          "output_type": "stream",
          "text": [
            "1. Necesarios para mantener un 95% de la varianza: 3 componentes.\n"
          ],
          "name": "stdout"
        }
      ]
    },
    {
      "cell_type": "code",
      "metadata": {
        "id": "x2P24L1Y-Ra4",
        "colab_type": "code",
        "colab": {
          "base_uri": "https://localhost:8080/",
          "height": 34
        },
        "outputId": "3dd51602-533b-48b3-f0af-885aa7385583"
      },
      "source": [
        "n_comp_98 = np.cumsum(explained_variance) >= 0.98\n",
        "n_comp_98 = np.argmax(n_comp_98) + 1\n",
        "print(\"2. Necesarios para mantener un 99%% de la varianza: %d componentes.\"%n_comp_98)"
      ],
      "execution_count": 11,
      "outputs": [
        {
          "output_type": "stream",
          "text": [
            "2. Necesarios para mantener un 99% de la varianza: 4 componentes.\n"
          ],
          "name": "stdout"
        }
      ]
    },
    {
      "cell_type": "code",
      "metadata": {
        "id": "uXKtshGI-Ra6",
        "colab_type": "code",
        "colab": {}
      },
      "source": [
        "print('3. Los datos se han comprimido un %.2f%% y un %.2f%%, respectivamente.'\n",
        "      %(...,...))"
      ],
      "execution_count": 0,
      "outputs": []
    },
    {
      "cell_type": "code",
      "metadata": {
        "id": "t3ZltJ3N-Ra8",
        "colab_type": "code",
        "colab": {}
      },
      "source": [
        ""
      ],
      "execution_count": 0,
      "outputs": []
    }
  ]
}