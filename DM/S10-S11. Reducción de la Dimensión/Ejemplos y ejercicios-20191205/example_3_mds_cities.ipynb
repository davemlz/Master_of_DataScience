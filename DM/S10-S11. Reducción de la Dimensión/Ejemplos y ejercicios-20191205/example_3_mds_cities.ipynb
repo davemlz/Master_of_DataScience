{
  "nbformat": 4,
  "nbformat_minor": 0,
  "metadata": {
    "kernelspec": {
      "display_name": "Python 3",
      "language": "python",
      "name": "python3"
    },
    "language_info": {
      "codemirror_mode": {
        "name": "ipython",
        "version": 3
      },
      "file_extension": ".py",
      "mimetype": "text/x-python",
      "name": "python",
      "nbconvert_exporter": "python",
      "pygments_lexer": "ipython3",
      "version": "3.6.5"
    },
    "colab": {
      "name": "example_3_mds_cities.ipynb",
      "provenance": []
    }
  },
  "cells": [
    {
      "cell_type": "markdown",
      "metadata": {
        "id": "d2wtgjKy_inD",
        "colab_type": "text"
      },
      "source": [
        "MDS: Intercity distances\n",
        "===\n",
        "\n",
        "Steven Van Vaerenbergh. Master in Data Science, University of Cantabria, 2018-2019.\n",
        "\n",
        "Adapted from https://chrisalbon.com/python/data_wrangling/pandas_dataframe_importing_csv/"
      ]
    },
    {
      "cell_type": "code",
      "metadata": {
        "id": "2DGwyWDx_inG",
        "colab_type": "code",
        "colab": {}
      },
      "source": [
        "import csv\n",
        "import numpy as np\n",
        "import matplotlib.pyplot as plt\n",
        "from sklearn import manifold\n",
        "import pandas as pd\n",
        "\n",
        "# Make the plot outputs appear and be stored within the notebook\n",
        "%matplotlib inline"
      ],
      "execution_count": 0,
      "outputs": []
    },
    {
      "cell_type": "code",
      "metadata": {
        "id": "pi2tWzXR_inL",
        "colab_type": "code",
        "colab": {
          "base_uri": "https://localhost:8080/",
          "height": 217
        },
        "outputId": "391921cc-4daf-4750-983d-7f4acfba42e6"
      },
      "source": [
        "# Distance file available from RMDS project:\n",
        "url = 'https://raw.githubusercontent.com/cheind/rmds/master/examples/european_city_distances.csv'\n",
        "df = pd.read_csv(url,delimiter=';',header=None)\n",
        "\n",
        "df.head()"
      ],
      "execution_count": 2,
      "outputs": [
        {
          "output_type": "execute_result",
          "data": {
            "text/html": [
              "<div>\n",
              "<style scoped>\n",
              "    .dataframe tbody tr th:only-of-type {\n",
              "        vertical-align: middle;\n",
              "    }\n",
              "\n",
              "    .dataframe tbody tr th {\n",
              "        vertical-align: top;\n",
              "    }\n",
              "\n",
              "    .dataframe thead th {\n",
              "        text-align: right;\n",
              "    }\n",
              "</style>\n",
              "<table border=\"1\" class=\"dataframe\">\n",
              "  <thead>\n",
              "    <tr style=\"text-align: right;\">\n",
              "      <th></th>\n",
              "      <th>0</th>\n",
              "      <th>1</th>\n",
              "      <th>2</th>\n",
              "      <th>3</th>\n",
              "      <th>4</th>\n",
              "      <th>5</th>\n",
              "      <th>6</th>\n",
              "      <th>7</th>\n",
              "      <th>8</th>\n",
              "      <th>9</th>\n",
              "      <th>10</th>\n",
              "      <th>11</th>\n",
              "      <th>12</th>\n",
              "      <th>13</th>\n",
              "      <th>14</th>\n",
              "      <th>15</th>\n",
              "      <th>16</th>\n",
              "      <th>17</th>\n",
              "      <th>18</th>\n",
              "      <th>19</th>\n",
              "      <th>20</th>\n",
              "      <th>21</th>\n",
              "      <th>22</th>\n",
              "      <th>23</th>\n",
              "      <th>24</th>\n",
              "      <th>25</th>\n",
              "    </tr>\n",
              "  </thead>\n",
              "  <tbody>\n",
              "    <tr>\n",
              "      <th>0</th>\n",
              "      <td>Barcelona</td>\n",
              "      <td>0.00</td>\n",
              "      <td>1528.13</td>\n",
              "      <td>1497.61</td>\n",
              "      <td>1062.89</td>\n",
              "      <td>1968.42</td>\n",
              "      <td>1498.79</td>\n",
              "      <td>1757.54</td>\n",
              "      <td>1469.29</td>\n",
              "      <td>1471.78</td>\n",
              "      <td>2230.42</td>\n",
              "      <td>2391.06</td>\n",
              "      <td>1137.67</td>\n",
              "      <td>504.64</td>\n",
              "      <td>725.12</td>\n",
              "      <td>3006.93</td>\n",
              "      <td>1054.55</td>\n",
              "      <td>831.59</td>\n",
              "      <td>1353.90</td>\n",
              "      <td>856.69</td>\n",
              "      <td>2813.02</td>\n",
              "      <td>1745.55</td>\n",
              "      <td>2276.51</td>\n",
              "      <td>1347.43</td>\n",
              "      <td>1862.33</td>\n",
              "      <td>NaN</td>\n",
              "    </tr>\n",
              "    <tr>\n",
              "      <th>1</th>\n",
              "      <td>Belgrade</td>\n",
              "      <td>1528.13</td>\n",
              "      <td>0.00</td>\n",
              "      <td>999.25</td>\n",
              "      <td>1372.59</td>\n",
              "      <td>447.34</td>\n",
              "      <td>316.41</td>\n",
              "      <td>1327.24</td>\n",
              "      <td>2145.39</td>\n",
              "      <td>1229.93</td>\n",
              "      <td>809.48</td>\n",
              "      <td>976.02</td>\n",
              "      <td>1688.97</td>\n",
              "      <td>2026.94</td>\n",
              "      <td>885.32</td>\n",
              "      <td>1710.99</td>\n",
              "      <td>773.33</td>\n",
              "      <td>1445.70</td>\n",
              "      <td>738.10</td>\n",
              "      <td>721.55</td>\n",
              "      <td>1797.75</td>\n",
              "      <td>329.46</td>\n",
              "      <td>1620.96</td>\n",
              "      <td>489.28</td>\n",
              "      <td>826.66</td>\n",
              "      <td>NaN</td>\n",
              "    </tr>\n",
              "    <tr>\n",
              "      <th>2</th>\n",
              "      <td>Berlin</td>\n",
              "      <td>1497.61</td>\n",
              "      <td>999.25</td>\n",
              "      <td>0.00</td>\n",
              "      <td>651.62</td>\n",
              "      <td>1293.40</td>\n",
              "      <td>689.06</td>\n",
              "      <td>354.03</td>\n",
              "      <td>1315.16</td>\n",
              "      <td>254.51</td>\n",
              "      <td>1735.01</td>\n",
              "      <td>1204.00</td>\n",
              "      <td>929.97</td>\n",
              "      <td>1867.69</td>\n",
              "      <td>840.72</td>\n",
              "      <td>1607.99</td>\n",
              "      <td>501.97</td>\n",
              "      <td>876.96</td>\n",
              "      <td>280.34</td>\n",
              "      <td>1181.67</td>\n",
              "      <td>1319.62</td>\n",
              "      <td>1318.67</td>\n",
              "      <td>810.38</td>\n",
              "      <td>523.61</td>\n",
              "      <td>516.06</td>\n",
              "      <td>NaN</td>\n",
              "    </tr>\n",
              "    <tr>\n",
              "      <th>3</th>\n",
              "      <td>Brussels</td>\n",
              "      <td>1062.89</td>\n",
              "      <td>1372.59</td>\n",
              "      <td>651.62</td>\n",
              "      <td>0.00</td>\n",
              "      <td>1769.69</td>\n",
              "      <td>1131.52</td>\n",
              "      <td>766.67</td>\n",
              "      <td>773.20</td>\n",
              "      <td>489.76</td>\n",
              "      <td>2178.85</td>\n",
              "      <td>1836.20</td>\n",
              "      <td>318.72</td>\n",
              "      <td>1314.30</td>\n",
              "      <td>696.61</td>\n",
              "      <td>2253.26</td>\n",
              "      <td>601.87</td>\n",
              "      <td>261.29</td>\n",
              "      <td>721.08</td>\n",
              "      <td>1171.34</td>\n",
              "      <td>1903.66</td>\n",
              "      <td>1697.83</td>\n",
              "      <td>1280.88</td>\n",
              "      <td>914.81</td>\n",
              "      <td>1159.85</td>\n",
              "      <td>NaN</td>\n",
              "    </tr>\n",
              "    <tr>\n",
              "      <th>4</th>\n",
              "      <td>Bucharest</td>\n",
              "      <td>1968.42</td>\n",
              "      <td>447.34</td>\n",
              "      <td>1293.40</td>\n",
              "      <td>1769.69</td>\n",
              "      <td>0.00</td>\n",
              "      <td>639.77</td>\n",
              "      <td>1571.54</td>\n",
              "      <td>2534.72</td>\n",
              "      <td>1544.17</td>\n",
              "      <td>445.62</td>\n",
              "      <td>744.44</td>\n",
              "      <td>2088.42</td>\n",
              "      <td>2469.71</td>\n",
              "      <td>1331.46</td>\n",
              "      <td>1497.56</td>\n",
              "      <td>1186.37</td>\n",
              "      <td>1869.95</td>\n",
              "      <td>1076.82</td>\n",
              "      <td>1137.38</td>\n",
              "      <td>1740.39</td>\n",
              "      <td>296.68</td>\n",
              "      <td>1742.25</td>\n",
              "      <td>855.32</td>\n",
              "      <td>946.12</td>\n",
              "      <td>NaN</td>\n",
              "    </tr>\n",
              "  </tbody>\n",
              "</table>\n",
              "</div>"
            ],
            "text/plain": [
              "          0        1        2        3   ...       22       23       24  25\n",
              "0  Barcelona     0.00  1528.13  1497.61  ...  2276.51  1347.43  1862.33 NaN\n",
              "1   Belgrade  1528.13     0.00   999.25  ...  1620.96   489.28   826.66 NaN\n",
              "2     Berlin  1497.61   999.25     0.00  ...   810.38   523.61   516.06 NaN\n",
              "3   Brussels  1062.89  1372.59   651.62  ...  1280.88   914.81  1159.85 NaN\n",
              "4  Bucharest  1968.42   447.34  1293.40  ...  1742.25   855.32   946.12 NaN\n",
              "\n",
              "[5 rows x 26 columns]"
            ]
          },
          "metadata": {
            "tags": []
          },
          "execution_count": 2
        }
      ]
    },
    {
      "cell_type": "code",
      "metadata": {
        "id": "gLPtF5rs_inN",
        "colab_type": "code",
        "colab": {
          "base_uri": "https://localhost:8080/",
          "height": 217
        },
        "outputId": "cb44da0b-1b77-4932-9bad-b67cc51a8077"
      },
      "source": [
        "dist = df.iloc[:,1:25]\n",
        "dist.head()"
      ],
      "execution_count": 3,
      "outputs": [
        {
          "output_type": "execute_result",
          "data": {
            "text/html": [
              "<div>\n",
              "<style scoped>\n",
              "    .dataframe tbody tr th:only-of-type {\n",
              "        vertical-align: middle;\n",
              "    }\n",
              "\n",
              "    .dataframe tbody tr th {\n",
              "        vertical-align: top;\n",
              "    }\n",
              "\n",
              "    .dataframe thead th {\n",
              "        text-align: right;\n",
              "    }\n",
              "</style>\n",
              "<table border=\"1\" class=\"dataframe\">\n",
              "  <thead>\n",
              "    <tr style=\"text-align: right;\">\n",
              "      <th></th>\n",
              "      <th>1</th>\n",
              "      <th>2</th>\n",
              "      <th>3</th>\n",
              "      <th>4</th>\n",
              "      <th>5</th>\n",
              "      <th>6</th>\n",
              "      <th>7</th>\n",
              "      <th>8</th>\n",
              "      <th>9</th>\n",
              "      <th>10</th>\n",
              "      <th>11</th>\n",
              "      <th>12</th>\n",
              "      <th>13</th>\n",
              "      <th>14</th>\n",
              "      <th>15</th>\n",
              "      <th>16</th>\n",
              "      <th>17</th>\n",
              "      <th>18</th>\n",
              "      <th>19</th>\n",
              "      <th>20</th>\n",
              "      <th>21</th>\n",
              "      <th>22</th>\n",
              "      <th>23</th>\n",
              "      <th>24</th>\n",
              "    </tr>\n",
              "  </thead>\n",
              "  <tbody>\n",
              "    <tr>\n",
              "      <th>0</th>\n",
              "      <td>0.00</td>\n",
              "      <td>1528.13</td>\n",
              "      <td>1497.61</td>\n",
              "      <td>1062.89</td>\n",
              "      <td>1968.42</td>\n",
              "      <td>1498.79</td>\n",
              "      <td>1757.54</td>\n",
              "      <td>1469.29</td>\n",
              "      <td>1471.78</td>\n",
              "      <td>2230.42</td>\n",
              "      <td>2391.06</td>\n",
              "      <td>1137.67</td>\n",
              "      <td>504.64</td>\n",
              "      <td>725.12</td>\n",
              "      <td>3006.93</td>\n",
              "      <td>1054.55</td>\n",
              "      <td>831.59</td>\n",
              "      <td>1353.90</td>\n",
              "      <td>856.69</td>\n",
              "      <td>2813.02</td>\n",
              "      <td>1745.55</td>\n",
              "      <td>2276.51</td>\n",
              "      <td>1347.43</td>\n",
              "      <td>1862.33</td>\n",
              "    </tr>\n",
              "    <tr>\n",
              "      <th>1</th>\n",
              "      <td>1528.13</td>\n",
              "      <td>0.00</td>\n",
              "      <td>999.25</td>\n",
              "      <td>1372.59</td>\n",
              "      <td>447.34</td>\n",
              "      <td>316.41</td>\n",
              "      <td>1327.24</td>\n",
              "      <td>2145.39</td>\n",
              "      <td>1229.93</td>\n",
              "      <td>809.48</td>\n",
              "      <td>976.02</td>\n",
              "      <td>1688.97</td>\n",
              "      <td>2026.94</td>\n",
              "      <td>885.32</td>\n",
              "      <td>1710.99</td>\n",
              "      <td>773.33</td>\n",
              "      <td>1445.70</td>\n",
              "      <td>738.10</td>\n",
              "      <td>721.55</td>\n",
              "      <td>1797.75</td>\n",
              "      <td>329.46</td>\n",
              "      <td>1620.96</td>\n",
              "      <td>489.28</td>\n",
              "      <td>826.66</td>\n",
              "    </tr>\n",
              "    <tr>\n",
              "      <th>2</th>\n",
              "      <td>1497.61</td>\n",
              "      <td>999.25</td>\n",
              "      <td>0.00</td>\n",
              "      <td>651.62</td>\n",
              "      <td>1293.40</td>\n",
              "      <td>689.06</td>\n",
              "      <td>354.03</td>\n",
              "      <td>1315.16</td>\n",
              "      <td>254.51</td>\n",
              "      <td>1735.01</td>\n",
              "      <td>1204.00</td>\n",
              "      <td>929.97</td>\n",
              "      <td>1867.69</td>\n",
              "      <td>840.72</td>\n",
              "      <td>1607.99</td>\n",
              "      <td>501.97</td>\n",
              "      <td>876.96</td>\n",
              "      <td>280.34</td>\n",
              "      <td>1181.67</td>\n",
              "      <td>1319.62</td>\n",
              "      <td>1318.67</td>\n",
              "      <td>810.38</td>\n",
              "      <td>523.61</td>\n",
              "      <td>516.06</td>\n",
              "    </tr>\n",
              "    <tr>\n",
              "      <th>3</th>\n",
              "      <td>1062.89</td>\n",
              "      <td>1372.59</td>\n",
              "      <td>651.62</td>\n",
              "      <td>0.00</td>\n",
              "      <td>1769.69</td>\n",
              "      <td>1131.52</td>\n",
              "      <td>766.67</td>\n",
              "      <td>773.20</td>\n",
              "      <td>489.76</td>\n",
              "      <td>2178.85</td>\n",
              "      <td>1836.20</td>\n",
              "      <td>318.72</td>\n",
              "      <td>1314.30</td>\n",
              "      <td>696.61</td>\n",
              "      <td>2253.26</td>\n",
              "      <td>601.87</td>\n",
              "      <td>261.29</td>\n",
              "      <td>721.08</td>\n",
              "      <td>1171.34</td>\n",
              "      <td>1903.66</td>\n",
              "      <td>1697.83</td>\n",
              "      <td>1280.88</td>\n",
              "      <td>914.81</td>\n",
              "      <td>1159.85</td>\n",
              "    </tr>\n",
              "    <tr>\n",
              "      <th>4</th>\n",
              "      <td>1968.42</td>\n",
              "      <td>447.34</td>\n",
              "      <td>1293.40</td>\n",
              "      <td>1769.69</td>\n",
              "      <td>0.00</td>\n",
              "      <td>639.77</td>\n",
              "      <td>1571.54</td>\n",
              "      <td>2534.72</td>\n",
              "      <td>1544.17</td>\n",
              "      <td>445.62</td>\n",
              "      <td>744.44</td>\n",
              "      <td>2088.42</td>\n",
              "      <td>2469.71</td>\n",
              "      <td>1331.46</td>\n",
              "      <td>1497.56</td>\n",
              "      <td>1186.37</td>\n",
              "      <td>1869.95</td>\n",
              "      <td>1076.82</td>\n",
              "      <td>1137.38</td>\n",
              "      <td>1740.39</td>\n",
              "      <td>296.68</td>\n",
              "      <td>1742.25</td>\n",
              "      <td>855.32</td>\n",
              "      <td>946.12</td>\n",
              "    </tr>\n",
              "  </tbody>\n",
              "</table>\n",
              "</div>"
            ],
            "text/plain": [
              "        1        2        3        4   ...       21       22       23       24\n",
              "0     0.00  1528.13  1497.61  1062.89  ...  1745.55  2276.51  1347.43  1862.33\n",
              "1  1528.13     0.00   999.25  1372.59  ...   329.46  1620.96   489.28   826.66\n",
              "2  1497.61   999.25     0.00   651.62  ...  1318.67   810.38   523.61   516.06\n",
              "3  1062.89  1372.59   651.62     0.00  ...  1697.83  1280.88   914.81  1159.85\n",
              "4  1968.42   447.34  1293.40  1769.69  ...   296.68  1742.25   855.32   946.12\n",
              "\n",
              "[5 rows x 24 columns]"
            ]
          },
          "metadata": {
            "tags": []
          },
          "execution_count": 3
        }
      ]
    },
    {
      "cell_type": "code",
      "metadata": {
        "id": "FMxuTvYj_inP",
        "colab_type": "code",
        "colab": {
          "base_uri": "https://localhost:8080/",
          "height": 123
        },
        "outputId": "6287308a-667f-4389-ca85-bdd58b8b4c24"
      },
      "source": [
        "cities = df.iloc[:,0]\n",
        "cities[0:5]"
      ],
      "execution_count": 4,
      "outputs": [
        {
          "output_type": "execute_result",
          "data": {
            "text/plain": [
              "0    Barcelona\n",
              "1     Belgrade\n",
              "2       Berlin\n",
              "3     Brussels\n",
              "4    Bucharest\n",
              "Name: 0, dtype: object"
            ]
          },
          "metadata": {
            "tags": []
          },
          "execution_count": 4
        }
      ]
    },
    {
      "cell_type": "markdown",
      "metadata": {
        "id": "PtMFsSfa_inR",
        "colab_type": "text"
      },
      "source": [
        "Perform MDS\n",
        "---"
      ]
    },
    {
      "cell_type": "code",
      "metadata": {
        "id": "BuNV_BLR_inS",
        "colab_type": "code",
        "colab": {
          "base_uri": "https://localhost:8080/",
          "height": 70
        },
        "outputId": "c6cf4a33-397a-41e5-8bf0-b563f5ea0d36"
      },
      "source": [
        "adist = dist.as_matrix()\n",
        "print(adist.shape)\n",
        "\n",
        "mds = manifold.MDS(n_components=2, dissimilarity=\"precomputed\", random_state=6)\n",
        "results = mds.fit(adist)\n",
        "\n",
        "coords = results.embedding_"
      ],
      "execution_count": 5,
      "outputs": [
        {
          "output_type": "stream",
          "text": [
            "(24, 24)\n"
          ],
          "name": "stdout"
        },
        {
          "output_type": "stream",
          "text": [
            "/usr/local/lib/python3.6/dist-packages/ipykernel_launcher.py:1: FutureWarning: Method .as_matrix will be removed in a future version. Use .values instead.\n",
            "  \"\"\"Entry point for launching an IPython kernel.\n"
          ],
          "name": "stderr"
        }
      ]
    },
    {
      "cell_type": "markdown",
      "metadata": {
        "id": "gBHabZIV_inU",
        "colab_type": "text"
      },
      "source": [
        "Plot results\n",
        "--"
      ]
    },
    {
      "cell_type": "code",
      "metadata": {
        "id": "E_dJ7vbi_inW",
        "colab_type": "code",
        "colab": {
          "base_uri": "https://localhost:8080/",
          "height": 496
        },
        "outputId": "9b49c716-62f3-4b3c-d2c2-8bb9d555f745"
      },
      "source": [
        "fig = plt.figure(figsize=(9,8))\n",
        "plt.subplots_adjust(bottom = 0.1)\n",
        "plt.scatter(coords[:, 0], coords[:, 1], marker = 'o')\n",
        "plt.axis('equal')\n",
        "for label, x, y in zip(cities, coords[:, 0], coords[:, 1]):\n",
        "    plt.annotate(\n",
        "        label,\n",
        "        xy = (x, y), xytext = (0, 10),\n",
        "        textcoords = 'offset points', ha = 'center', va = 'bottom')\n",
        "\n",
        "plt.show()"
      ],
      "execution_count": 6,
      "outputs": [
        {
          "output_type": "display_data",
          "data": {
            "image/png": "[encoded data removed]",
            "text/plain": [
              "<Figure size 648x576 with 1 Axes>"
            ]
          },
          "metadata": {
            "tags": []
          }
        }
      ]
    },
    {
      "cell_type": "code",
      "metadata": {
        "id": "eAaa4EAa_inZ",
        "colab_type": "code",
        "colab": {}
      },
      "source": [
        ""
      ],
      "execution_count": 0,
      "outputs": []
    }
  ]
}