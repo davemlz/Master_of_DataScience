{
  "nbformat": 4,
  "nbformat_minor": 0,
  "metadata": {
    "kernelspec": {
      "display_name": "Python 3",
      "language": "python",
      "name": "python3"
    },
    "language_info": {
      "codemirror_mode": {
        "name": "ipython",
        "version": 3
      },
      "file_extension": ".py",
      "mimetype": "text/x-python",
      "name": "python",
      "nbconvert_exporter": "python",
      "pygments_lexer": "ipython3",
      "version": "3.7.6"
    },
    "colab": {
      "name": "Separacion_de_galaxias.ipynb",
      "provenance": []
    }
  },
  "cells": [
    {
      "cell_type": "code",
      "metadata": {
        "id": "S0KSzTmhg2fu",
        "colab_type": "code",
        "colab": {}
      },
      "source": [
        "import numpy as np"
      ],
      "execution_count": 0,
      "outputs": []
    },
    {
      "cell_type": "code",
      "metadata": {
        "id": "bf7HgaDEhxZx",
        "colab_type": "code",
        "colab": {
          "base_uri": "https://localhost:8080/",
          "height": 125
        },
        "outputId": "d00ddbc6-5f89-4401-f948-244351742774"
      },
      "source": [
        "from google.colab import drive\n",
        "drive.mount('/content/drive')"
      ],
      "execution_count": 2,
      "outputs": [
        {
          "output_type": "stream",
          "text": [
            "Go to this URL in a browser: https://accounts.google.com/o/oauth2/auth?client_id=947318989803-6bn6qk8qdgf4n4g3pfee6491hc0brc4i.apps.googleusercontent.com&redirect_uri=urn%3aietf%3awg%3aoauth%3a2.0%3aoob&response_type=code&scope=email%20https%3a%2f%2fwww.googleapis.com%2fauth%2fdocs.test%20https%3a%2f%2fwww.googleapis.com%2fauth%2fdrive%20https%3a%2f%2fwww.googleapis.com%2fauth%2fdrive.photos.readonly%20https%3a%2f%2fwww.googleapis.com%2fauth%2fpeopleapi.readonly\n",
            "\n",
            "Enter your authorization code:\n",
            "··········\n",
            "Mounted at /content/drive\n"
          ],
          "name": "stdout"
        }
      ]
    },
    {
      "cell_type": "code",
      "metadata": {
        "id": "1Nm8qMihh8Dg",
        "colab_type": "code",
        "colab": {
          "base_uri": "https://localhost:8080/",
          "height": 34
        },
        "outputId": "c8678781-b579-485a-aa39-f72dd4bd8cb1"
      },
      "source": [
        "!ls '/content/drive/My Drive/EDE2019/star-galaxy/'"
      ],
      "execution_count": 7,
      "outputs": [
        {
          "output_type": "stream",
          "text": [
            "x_train.npy  y_train.npy\n"
          ],
          "name": "stdout"
        }
      ]
    },
    {
      "cell_type": "code",
      "metadata": {
        "id": "83EzUGI4iL-n",
        "colab_type": "code",
        "colab": {}
      },
      "source": [
        "path = '/content/drive/My Drive/EDE2019/star-galaxy/'\n",
        "\n",
        "X = np.load(path + 'x_train.npy')\n",
        "y = np.load(path + 'y_train.npy')"
      ],
      "execution_count": 0,
      "outputs": []
    },
    {
      "cell_type": "code",
      "metadata": {
        "id": "0ihxVwEgicMv",
        "colab_type": "code",
        "colab": {}
      },
      "source": [
        "from sklearn.model_selection import train_test_split\n",
        "\n",
        "X_train, X_test, y_train, y_test = train_test_split(X,y,test_size = 0.25)"
      ],
      "execution_count": 0,
      "outputs": []
    },
    {
      "cell_type": "code",
      "metadata": {
        "id": "EW60lU1tkchC",
        "colab_type": "code",
        "colab": {
          "base_uri": "https://localhost:8080/",
          "height": 567
        },
        "outputId": "060d2c03-cf8a-4fa3-bd27-ee60b8ef257e"
      },
      "source": [
        "from keras import layers\n",
        "from keras import models\n",
        "\n",
        "model = models.Sequential()\n",
        "\n",
        "model.add(layers.Conv2D(32,(3,3), activation='relu', input_shape = X_train.shape[1:4]))\n",
        "model.add(layers.MaxPooling2D((2,2)))\n",
        "\n",
        "model.add(layers.Conv2D(64,(3,3), activation='relu'))\n",
        "model.add(layers.MaxPooling2D((2,2)))\n",
        "\n",
        "model.add(layers.Conv2D(128,(3,3), activation='relu'))\n",
        "model.add(layers.MaxPooling2D((2,2)))\n",
        "\n",
        "model.add(layers.Conv2D(128,(3,3), activation='relu'))\n",
        "model.add(layers.MaxPooling2D((2,2)))\n",
        "\n",
        "model.add(layers.Flatten())\n",
        "\n",
        "model.add(layers.Dense(512,activation=\"relu\"))\n",
        "\n",
        "model.add(layers.Dense(1,activation=\"sigmoid\"))\n",
        "\n",
        "model.summary()"
      ],
      "execution_count": 19,
      "outputs": [
        {
          "output_type": "stream",
          "text": [
            "Using TensorFlow backend.\n"
          ],
          "name": "stderr"
        },
        {
          "output_type": "stream",
          "text": [
            "Model: \"sequential_1\"\n",
            "_________________________________________________________________\n",
            "Layer (type)                 Output Shape              Param #   \n",
            "=================================================================\n",
            "conv2d_1 (Conv2D)            (None, 58, 58, 32)        320       \n",
            "_________________________________________________________________\n",
            "max_pooling2d_1 (MaxPooling2 (None, 29, 29, 32)        0         \n",
            "_________________________________________________________________\n",
            "conv2d_2 (Conv2D)            (None, 27, 27, 64)        18496     \n",
            "_________________________________________________________________\n",
            "max_pooling2d_2 (MaxPooling2 (None, 13, 13, 64)        0         \n",
            "_________________________________________________________________\n",
            "conv2d_3 (Conv2D)            (None, 11, 11, 128)       73856     \n",
            "_________________________________________________________________\n",
            "max_pooling2d_3 (MaxPooling2 (None, 5, 5, 128)         0         \n",
            "_________________________________________________________________\n",
            "conv2d_4 (Conv2D)            (None, 3, 3, 128)         147584    \n",
            "_________________________________________________________________\n",
            "max_pooling2d_4 (MaxPooling2 (None, 1, 1, 128)         0         \n",
            "_________________________________________________________________\n",
            "flatten_1 (Flatten)          (None, 128)               0         \n",
            "_________________________________________________________________\n",
            "dense_1 (Dense)              (None, 512)               66048     \n",
            "_________________________________________________________________\n",
            "dense_2 (Dense)              (None, 1)                 513       \n",
            "=================================================================\n",
            "Total params: 306,817\n",
            "Trainable params: 306,817\n",
            "Non-trainable params: 0\n",
            "_________________________________________________________________\n"
          ],
          "name": "stdout"
        }
      ]
    },
    {
      "cell_type": "code",
      "metadata": {
        "id": "_OMCXfgJk_ox",
        "colab_type": "code",
        "colab": {
          "base_uri": "https://localhost:8080/",
          "height": 1000
        },
        "outputId": "690e8e27-55ee-48b8-8b90-39d50c342f08"
      },
      "source": [
        "from keras import optimizers\n",
        "from keras import callbacks\n",
        "\n",
        "model.compile(optimizer = optimizers.Adadelta(),loss = \"binary_crossentropy\",metrics = ['acc'])\n",
        "history = model.fit(X_train,y_train,epochs = 50,validation_split = 0.15,callbacks=[callbacks.EarlyStopping(patience = 10)])\n",
        "\n",
        "#%load_ext tensorboard\n",
        "#%tensorboard --logdir morphology/models/model1"
      ],
      "execution_count": 26,
      "outputs": [
        {
          "output_type": "stream",
          "text": [
            "Train on 4745 samples, validate on 838 samples\n",
            "Epoch 1/50\n",
            "4745/4745 [==============================] - 29s 6ms/step - loss: 0.1452 - acc: 0.9340 - val_loss: 0.1065 - val_acc: 0.9499\n",
            "Epoch 2/50\n",
            "4745/4745 [==============================] - 28s 6ms/step - loss: 0.0510 - acc: 0.9796 - val_loss: 0.0251 - val_acc: 0.9952\n",
            "Epoch 3/50\n",
            "4745/4745 [==============================] - 28s 6ms/step - loss: 0.0361 - acc: 0.9888 - val_loss: 0.0211 - val_acc: 0.9928\n",
            "Epoch 4/50\n",
            "4745/4745 [==============================] - 28s 6ms/step - loss: 0.0232 - acc: 0.9920 - val_loss: 0.0168 - val_acc: 0.9952\n",
            "Epoch 5/50\n",
            "4745/4745 [==============================] - 29s 6ms/step - loss: 0.0225 - acc: 0.9930 - val_loss: 0.0531 - val_acc: 0.9857\n",
            "Epoch 6/50\n",
            "4745/4745 [==============================] - 29s 6ms/step - loss: 0.0204 - acc: 0.9941 - val_loss: 0.0096 - val_acc: 0.9976\n",
            "Epoch 7/50\n",
            "4745/4745 [==============================] - 29s 6ms/step - loss: 0.0163 - acc: 0.9941 - val_loss: 0.0069 - val_acc: 0.9976\n",
            "Epoch 8/50\n",
            "4745/4745 [==============================] - 29s 6ms/step - loss: 0.0142 - acc: 0.9956 - val_loss: 0.0061 - val_acc: 0.9976\n",
            "Epoch 9/50\n",
            "4745/4745 [==============================] - 29s 6ms/step - loss: 0.0133 - acc: 0.9949 - val_loss: 0.0117 - val_acc: 0.9976\n",
            "Epoch 10/50\n",
            "4745/4745 [==============================] - 29s 6ms/step - loss: 0.0118 - acc: 0.9958 - val_loss: 0.0077 - val_acc: 0.9976\n",
            "Epoch 11/50\n",
            "4745/4745 [==============================] - 29s 6ms/step - loss: 0.0083 - acc: 0.9973 - val_loss: 0.0218 - val_acc: 0.9940\n",
            "Epoch 12/50\n",
            "4745/4745 [==============================] - 29s 6ms/step - loss: 0.0126 - acc: 0.9949 - val_loss: 0.0069 - val_acc: 0.9976\n",
            "Epoch 13/50\n",
            "4745/4745 [==============================] - 29s 6ms/step - loss: 0.0096 - acc: 0.9968 - val_loss: 0.0316 - val_acc: 0.9905\n",
            "Epoch 14/50\n",
            "4745/4745 [==============================] - 29s 6ms/step - loss: 0.0080 - acc: 0.9973 - val_loss: 0.0155 - val_acc: 0.9952\n",
            "Epoch 15/50\n",
            "4745/4745 [==============================] - 29s 6ms/step - loss: 0.0072 - acc: 0.9968 - val_loss: 0.0042 - val_acc: 0.9976\n",
            "Epoch 16/50\n",
            "4745/4745 [==============================] - 29s 6ms/step - loss: 0.0077 - acc: 0.9968 - val_loss: 0.0037 - val_acc: 0.9988\n",
            "Epoch 17/50\n",
            "4745/4745 [==============================] - 29s 6ms/step - loss: 0.0075 - acc: 0.9970 - val_loss: 0.0180 - val_acc: 0.9952\n",
            "Epoch 18/50\n",
            "4745/4745 [==============================] - 29s 6ms/step - loss: 0.0073 - acc: 0.9973 - val_loss: 0.0029 - val_acc: 0.9988\n",
            "Epoch 19/50\n",
            "4745/4745 [==============================] - 29s 6ms/step - loss: 0.0045 - acc: 0.9989 - val_loss: 0.0061 - val_acc: 0.9976\n",
            "Epoch 20/50\n",
            "4745/4745 [==============================] - 28s 6ms/step - loss: 0.0094 - acc: 0.9968 - val_loss: 0.0024 - val_acc: 0.9988\n",
            "Epoch 21/50\n",
            "4745/4745 [==============================] - 29s 6ms/step - loss: 0.0058 - acc: 0.9981 - val_loss: 0.0071 - val_acc: 0.9964\n",
            "Epoch 22/50\n",
            "4745/4745 [==============================] - 28s 6ms/step - loss: 0.0033 - acc: 0.9992 - val_loss: 0.0069 - val_acc: 0.9976\n",
            "Epoch 23/50\n",
            "4745/4745 [==============================] - 29s 6ms/step - loss: 0.0054 - acc: 0.9979 - val_loss: 0.0050 - val_acc: 0.9976\n",
            "Epoch 24/50\n",
            "4745/4745 [==============================] - 28s 6ms/step - loss: 0.0040 - acc: 0.9981 - val_loss: 0.0030 - val_acc: 0.9988\n",
            "Epoch 25/50\n",
            "4745/4745 [==============================] - 29s 6ms/step - loss: 0.0038 - acc: 0.9985 - val_loss: 0.0045 - val_acc: 0.9988\n",
            "Epoch 26/50\n",
            "4745/4745 [==============================] - 28s 6ms/step - loss: 0.0053 - acc: 0.9979 - val_loss: 0.0106 - val_acc: 0.9976\n",
            "Epoch 27/50\n",
            "4745/4745 [==============================] - 29s 6ms/step - loss: 0.0047 - acc: 0.9987 - val_loss: 0.0017 - val_acc: 0.9988\n",
            "Epoch 28/50\n",
            "4745/4745 [==============================] - 29s 6ms/step - loss: 0.0039 - acc: 0.9992 - val_loss: 0.0012 - val_acc: 1.0000\n",
            "Epoch 29/50\n",
            "4745/4745 [==============================] - 29s 6ms/step - loss: 0.0049 - acc: 0.9989 - val_loss: 0.0068 - val_acc: 0.9976\n",
            "Epoch 30/50\n",
            "4745/4745 [==============================] - 29s 6ms/step - loss: 0.0017 - acc: 0.9996 - val_loss: 0.0037 - val_acc: 0.9988\n",
            "Epoch 31/50\n",
            "4745/4745 [==============================] - 29s 6ms/step - loss: 0.0034 - acc: 0.9987 - val_loss: 0.0025 - val_acc: 0.9988\n",
            "Epoch 32/50\n",
            "4745/4745 [==============================] - 29s 6ms/step - loss: 0.0028 - acc: 0.9987 - val_loss: 0.0055 - val_acc: 0.9976\n",
            "Epoch 33/50\n",
            "4745/4745 [==============================] - 29s 6ms/step - loss: 0.0018 - acc: 0.9994 - val_loss: 0.0043 - val_acc: 0.9976\n",
            "Epoch 34/50\n",
            "4745/4745 [==============================] - 29s 6ms/step - loss: 0.0026 - acc: 0.9989 - val_loss: 0.0238 - val_acc: 0.9952\n",
            "Epoch 35/50\n",
            "4745/4745 [==============================] - 29s 6ms/step - loss: 0.0015 - acc: 0.9996 - val_loss: 0.0013 - val_acc: 0.9988\n",
            "Epoch 36/50\n",
            "4745/4745 [==============================] - 29s 6ms/step - loss: 0.0017 - acc: 0.9992 - val_loss: 6.2219e-04 - val_acc: 1.0000\n",
            "Epoch 37/50\n",
            "4745/4745 [==============================] - 29s 6ms/step - loss: 9.5152e-04 - acc: 0.9996 - val_loss: 1.7445e-04 - val_acc: 1.0000\n",
            "Epoch 38/50\n",
            "4745/4745 [==============================] - 29s 6ms/step - loss: 0.0022 - acc: 0.9992 - val_loss: 1.9609e-04 - val_acc: 1.0000\n",
            "Epoch 39/50\n",
            "4745/4745 [==============================] - 29s 6ms/step - loss: 0.0038 - acc: 0.9992 - val_loss: 2.5580e-04 - val_acc: 1.0000\n",
            "Epoch 40/50\n",
            "4745/4745 [==============================] - 29s 6ms/step - loss: 5.3406e-04 - acc: 0.9998 - val_loss: 0.0111 - val_acc: 0.9976\n",
            "Epoch 41/50\n",
            "4745/4745 [==============================] - 29s 6ms/step - loss: 0.0030 - acc: 0.9994 - val_loss: 0.0014 - val_acc: 1.0000\n",
            "Epoch 42/50\n",
            "4745/4745 [==============================] - 29s 6ms/step - loss: 4.3522e-04 - acc: 0.9998 - val_loss: 2.8535e-04 - val_acc: 1.0000\n",
            "Epoch 43/50\n",
            "4745/4745 [==============================] - 29s 6ms/step - loss: 0.0033 - acc: 0.9996 - val_loss: 1.3022e-04 - val_acc: 1.0000\n",
            "Epoch 44/50\n",
            "4745/4745 [==============================] - 29s 6ms/step - loss: 3.1281e-04 - acc: 1.0000 - val_loss: 0.0022 - val_acc: 0.9988\n",
            "Epoch 45/50\n",
            "4745/4745 [==============================] - 29s 6ms/step - loss: 0.0016 - acc: 0.9996 - val_loss: 1.0463e-04 - val_acc: 1.0000\n",
            "Epoch 46/50\n",
            "4745/4745 [==============================] - 29s 6ms/step - loss: 2.0035e-04 - acc: 1.0000 - val_loss: 1.6019e-04 - val_acc: 1.0000\n",
            "Epoch 47/50\n",
            "4745/4745 [==============================] - 29s 6ms/step - loss: 6.0641e-04 - acc: 0.9998 - val_loss: 6.2122e-05 - val_acc: 1.0000\n",
            "Epoch 48/50\n",
            "4745/4745 [==============================] - 29s 6ms/step - loss: 3.4969e-04 - acc: 0.9998 - val_loss: 4.1353e-05 - val_acc: 1.0000\n",
            "Epoch 49/50\n",
            "4745/4745 [==============================] - 29s 6ms/step - loss: 0.0041 - acc: 0.9989 - val_loss: 5.0318e-04 - val_acc: 1.0000\n",
            "Epoch 50/50\n",
            "4745/4745 [==============================] - 29s 6ms/step - loss: 1.5032e-04 - acc: 1.0000 - val_loss: 8.7713e-05 - val_acc: 1.0000\n"
          ],
          "name": "stdout"
        }
      ]
    },
    {
      "cell_type": "code",
      "metadata": {
        "id": "SS8s6n76srjH",
        "colab_type": "code",
        "colab": {
          "base_uri": "https://localhost:8080/",
          "height": 294
        },
        "outputId": "582bb7d4-7395-49e8-8562-357525b9db7f"
      },
      "source": [
        "import matplotlib.pyplot as plt\n",
        "\n",
        "plt.plot(history.history['loss'])\n",
        "plt.plot(history.history['val_loss'])\n",
        "plt.title('Model loss')\n",
        "plt.ylabel('BC')\n",
        "plt.xlabel('Epoch')\n",
        "plt.legend(['Train', 'Validation'], loc='upper right')\n",
        "plt.show()"
      ],
      "execution_count": 30,
      "outputs": [
        {
          "output_type": "display_data",
          "data": {
            "image/png": "[encoded data removed]",
            "text/plain": [
              "<Figure size 432x288 with 1 Axes>"
            ]
          },
          "metadata": {
            "tags": [],
            "needs_background": "light"
          }
        }
      ]
    },
    {
      "cell_type": "code",
      "metadata": {
        "id": "NRrTfYNus4zu",
        "colab_type": "code",
        "colab": {}
      },
      "source": [
        "model.save('/content/drive/My Drive/DL-fisica/star-galaxy.hd5')"
      ],
      "execution_count": 0,
      "outputs": []
    },
    {
      "cell_type": "code",
      "metadata": {
        "id": "J61WkWgqtMd-",
        "colab_type": "code",
        "colab": {}
      },
      "source": [
        "y_pred = model.predict(X_test)"
      ],
      "execution_count": 0,
      "outputs": []
    },
    {
      "cell_type": "code",
      "metadata": {
        "id": "78CqEaa2tU1m",
        "colab_type": "code",
        "colab": {
          "base_uri": "https://localhost:8080/",
          "height": 34
        },
        "outputId": "ffbf800c-3301-4cc6-9a09-d27f1a1cb614"
      },
      "source": [
        "from sklearn.metrics import roc_auc_score\n",
        "\n",
        "roc_auc_score(y_test,y_pred)"
      ],
      "execution_count": 34,
      "outputs": [
        {
          "output_type": "execute_result",
          "data": {
            "text/plain": [
              "0.9999977621476221"
            ]
          },
          "metadata": {
            "tags": []
          },
          "execution_count": 34
        }
      ]
    }
  ]
}