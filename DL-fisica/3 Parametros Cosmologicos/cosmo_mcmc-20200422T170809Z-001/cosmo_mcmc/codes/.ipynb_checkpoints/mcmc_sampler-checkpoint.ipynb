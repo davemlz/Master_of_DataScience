{
 "cells": [
  {
   "cell_type": "code",
   "execution_count": 14,
   "metadata": {},
   "outputs": [
    {
     "name": "stdout",
     "output_type": "stream",
     "text": [
      "Collecting emcee==3.0.2\n",
      "  Downloading emcee-3.0.2-py2.py3-none-any.whl (41 kB)\n",
      "Requirement already satisfied: numpy in c:\\users\\dave mont\\anaconda3\\lib\\site-packages (from emcee==3.0.2) (1.18.1)\n",
      "Installing collected packages: emcee\n",
      "  Attempting uninstall: emcee\n",
      "    Found existing installation: emcee 2.2.1\n",
      "    Uninstalling emcee-2.2.1:\n",
      "      Successfully uninstalled emcee-2.2.1\n",
      "Successfully installed emcee-3.0.2\n"
     ]
    }
   ],
   "source": [
    "!pip install emcee==3.0.2"
   ]
  },
  {
   "cell_type": "code",
   "execution_count": 1,
   "metadata": {},
   "outputs": [],
   "source": [
    "import numpy as np\n",
    "import emcee\n",
    "from tqdm import tqdm\n",
    "import posterior as pos\n",
    "\n",
    "posterior = pos.posterior()"
   ]
  },
  {
   "cell_type": "code",
   "execution_count": 2,
   "metadata": {},
   "outputs": [],
   "source": [
    "path = \"C:/Users/Dave Mont/Desktop/Master_of_DataScience/DL-fisica/3 Parametros Cosmologicos/cosmo_mcmc-20200422T170809Z-001/cosmo_mcmc/\"\n",
    "\n",
    "lmax = 500\n",
    "\n",
    "ns_range = [0.85, 1.15, 0.005]\n",
    "file_scal = path + 'data/cls/cls_scal_lmax2500_ns0p85-1p15_step0p005.npy'\n",
    "file_tens = path + 'data/cls/cls_tens_lmax2500.npy'\n",
    "file_data = path + 'data/cls/cls_data_lmax2500.npy'\n",
    "\n",
    "posterior.load_theory(file_scal, file_tens, lmax, ns_range)\n",
    "posterior.load_data(file_data, lmax)"
   ]
  },
  {
   "cell_type": "code",
   "execution_count": 3,
   "metadata": {},
   "outputs": [],
   "source": [
    "filename = path + 'chains/test.chains'\n",
    "name = '004'\n",
    "\n",
    "#ndim = 3\n",
    "#m0   = [1., 1., 0.]\n",
    "#sig0 = [0.001, 0.01, 0.1]\n",
    "\n",
    "ndim = 2\n",
    "m0   = [1., 0.]\n",
    "sig0 = [0.001, 0.1]\n",
    "\n",
    "nwalkers = 10\n",
    "max_n = 10000"
   ]
  },
  {
   "cell_type": "code",
   "execution_count": 4,
   "metadata": {},
   "outputs": [],
   "source": [
    "backend = emcee.backends.HDFBackend(filename, name=name)\n",
    "#backend.reset(nwalkers, ndim)\n",
    "\n",
    "sampler = emcee.EnsembleSampler(nwalkers, ndim, posterior.lnpos,args=[[ns_range[0], ns_range[1]],[]], backend=backend)\n",
    "#sampler = emcee.EnsembleSampler(nwalkers, ndim, posterior.lnpos,\n",
    "                                #args=[[ns_range[0], ns_range[1]],[]])"
   ]
  },
  {
   "cell_type": "code",
   "execution_count": 5,
   "metadata": {},
   "outputs": [],
   "source": [
    "if sampler.iteration == 0:\n",
    "    p0 = np.zeros((nwalkers, ndim))\n",
    "    m0 = np.array(m0)\n",
    "    sig0 = np.array(sig0)\n",
    "    for i in range(nwalkers):\n",
    "        p0 [i,:] = np.random.normal(size=ndim)*sig0 + m0\n",
    "        while posterior.lnprior(p0[i,:], [ns_range[0], ns_range[1]]) == -np.inf:\n",
    "            p0[i,:] = np.random.normal(size=ndim)*sig0 + m0\n",
    "else:\n",
    "    print('Backend file already exists! Continuing with the sampling from last point')\n",
    "    p0 = sampler.chain[:,-1,:]"
   ]
  },
  {
   "cell_type": "code",
   "execution_count": 6,
   "metadata": {},
   "outputs": [
    {
     "name": "stderr",
     "output_type": "stream",
     "text": [
      "ind: 106 | tau: [34, 30] | rat: 0.71-0.73 :  36%|███████████▍                    | 3589/10000 [00:29<00:57, 111.06it/s]"
     ]
    },
    {
     "name": "stdout",
     "output_type": "stream",
     "text": [
      " Converged!\n"
     ]
    },
    {
     "name": "stderr",
     "output_type": "stream",
     "text": [
      "ind: 106 | tau: [34, 30] | rat: 0.71-0.73 :  36%|███████████▍                    | 3589/10000 [00:39<00:57, 111.06it/s]"
     ]
    }
   ],
   "source": [
    "old_tau = np.inf\n",
    "\n",
    "ite = tqdm(sampler.sample(p0, iterations=max_n), total=max_n)\n",
    "for sample in ite:\n",
    "    if sampler.iteration % 100:\n",
    "        continue\n",
    "\n",
    "    tau = sampler.get_autocorr_time(tol=0)\n",
    "    af = sampler.acceptance_fraction\n",
    "\n",
    "    ite.set_description('ind: '+str(int(round(float(sampler.iteration)/max(tau))))\n",
    "                        +' | tau: '+str([int(round(t)) for t in tau])+' | rat: '\n",
    "                        +str(round(min(af),2))+'-'+str(round(max(af),2))+' ')\n",
    "\n",
    "    # Check convergence                                                                                                                      \n",
    "    converged = np.all(tau * 100 < sampler.iteration)\n",
    "    converged &= np.all(np.abs(old_tau - tau) / tau < 0.01)\n",
    "    if converged:\n",
    "        print(' Converged!')\n",
    "        break\n",
    "    old_tau = tau"
   ]
  },
  {
   "cell_type": "code",
   "execution_count": null,
   "metadata": {},
   "outputs": [],
   "source": []
  }
 ],
 "metadata": {
  "kernelspec": {
   "display_name": "Python 3",
   "language": "python",
   "name": "python3"
  },
  "language_info": {
   "codemirror_mode": {
    "name": "ipython",
    "version": 3
   },
   "file_extension": ".py",
   "mimetype": "text/x-python",
   "name": "python",
   "nbconvert_exporter": "python",
   "pygments_lexer": "ipython3",
   "version": "3.7.6"
  }
 },
 "nbformat": 4,
 "nbformat_minor": 4
}
