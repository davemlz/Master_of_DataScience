{
 "cells": [
  {
   "cell_type": "code",
   "execution_count": 1,
   "metadata": {},
   "outputs": [],
   "source": [
    "import numpy as np\n",
    "import posterior as pos\n",
    "\n",
    "posterior = pos.posterior()"
   ]
  },
  {
   "cell_type": "code",
   "execution_count": 2,
   "metadata": {},
   "outputs": [],
   "source": [
    "path = \"C:/Users/Dave Mont/Desktop/Master_of_DataScience/DL-fisica/3 Parametros Cosmologicos/cosmo_mcmc-20200422T170809Z-001/cosmo_mcmc/\"\n",
    "\n",
    "lmax = 500\n",
    "\n",
    "ns_range = [0.85, 1.15, 0.005]\n",
    "file_scal = path + 'data/cls/cls_scal_lmax2500_ns0p85-1p15_step0p005.npy'\n",
    "file_tens = path + 'data/cls/cls_tens_lmax2500.npy'\n",
    "file_data = path + 'data/cls/cls_data_lmax2500.npy'\n",
    "\n",
    "posterior.load_theory(file_scal, file_tens, lmax, ns_range)\n",
    "posterior.load_data(file_data, lmax)"
   ]
  },
  {
   "cell_type": "code",
   "execution_count": 5,
   "metadata": {},
   "outputs": [],
   "source": [
    "#intervals = [(0.5, 1.5), (0.90, 1.10), (0., 0.5)]\n",
    "intervals = [(0.5, 1.5), (0., 0.5)]\n",
    "max_n = 10000\n",
    "tol = 1e-9"
   ]
  },
  {
   "cell_type": "code",
   "execution_count": 6,
   "metadata": {},
   "outputs": [
    {
     "name": "stderr",
     "output_type": "stream",
     "text": [
      "LnEv: 3809767.543305 | err: 5.0e-10 :  34%|████████████▌                        | 3401/10000 [00:00<00:00, 7014.98it/s]"
     ]
    },
    {
     "name": "stdout",
     "output_type": "stream",
     "text": [
      " Converged!\n",
      "Ln(Evidence) =  3809767.5433052704\n"
     ]
    },
    {
     "name": "stderr",
     "output_type": "stream",
     "text": [
      "\n"
     ]
    }
   ],
   "source": [
    "lnev = posterior.calc_evidence(intervals, tol, max_n, [ns_range[0], ns_range[1]], [])\n",
    "\n",
    "print('Ln(Evidence) = ', lnev)"
   ]
  },
  {
   "cell_type": "code",
   "execution_count": 3,
   "metadata": {},
   "outputs": [],
   "source": [
    "intervals = [(0.5, 1.5), (0.90, 1.10), (0., 0.5)]\n",
    "#intervals = [(0.5, 1.5), (0., 0.5)]\n",
    "max_n = 10000\n",
    "tol = 1e-9"
   ]
  },
  {
   "cell_type": "code",
   "execution_count": 4,
   "metadata": {},
   "outputs": [
    {
     "name": "stderr",
     "output_type": "stream",
     "text": [
      "LnEv: 3809781.918755 | err: 2.7e-09 : 100%|█████████████████████████████████████| 10000/10000 [00:29<00:00, 342.32it/s]"
     ]
    },
    {
     "name": "stdout",
     "output_type": "stream",
     "text": [
      "Evidence not converged: err = 2.7e-09\n",
      "Ln(Evidence) =  None\n"
     ]
    },
    {
     "name": "stderr",
     "output_type": "stream",
     "text": [
      "\n"
     ]
    }
   ],
   "source": [
    "lnev = posterior.calc_evidence(intervals, tol, max_n, [ns_range[0], ns_range[1]], [])\n",
    "\n",
    "print('Ln(Evidence) = ', lnev)"
   ]
  },
  {
   "cell_type": "code",
   "execution_count": 5,
   "metadata": {},
   "outputs": [],
   "source": [
    "two_params = 3809767.5433052704"
   ]
  },
  {
   "cell_type": "code",
   "execution_count": 6,
   "metadata": {},
   "outputs": [],
   "source": [
    "three_params = 3809781.918755 "
   ]
  },
  {
   "cell_type": "code",
   "execution_count": 7,
   "metadata": {},
   "outputs": [
    {
     "data": {
      "text/plain": [
       "14.375449729617685"
      ]
     },
     "execution_count": 7,
     "metadata": {},
     "output_type": "execute_result"
    }
   ],
   "source": [
    "three_params - two_params"
   ]
  },
  {
   "cell_type": "code",
   "execution_count": 8,
   "metadata": {},
   "outputs": [
    {
     "data": {
      "text/plain": [
       "17.272599999792874"
      ]
     },
     "execution_count": 8,
     "metadata": {},
     "output_type": "execute_result"
    }
   ],
   "source": [
    "3809784.63019-3809767.35759"
   ]
  }
 ],
 "metadata": {
  "kernelspec": {
   "display_name": "Python 3",
   "language": "python",
   "name": "python3"
  },
  "language_info": {
   "codemirror_mode": {
    "name": "ipython",
    "version": 3
   },
   "file_extension": ".py",
   "mimetype": "text/x-python",
   "name": "python",
   "nbconvert_exporter": "python",
   "pygments_lexer": "ipython3",
   "version": "3.7.6"
  }
 },
 "nbformat": 4,
 "nbformat_minor": 4
}
