{
 "cells": [
  {
   "cell_type": "code",
   "execution_count": 8,
   "metadata": {},
   "outputs": [],
   "source": [
    "import numpy as np\n",
    "import emcee\n",
    "from tqdm import tqdm\n",
    "import posterior as pos\n",
    "\n",
    "posterior = pos.posterior()"
   ]
  },
  {
   "cell_type": "code",
   "execution_count": 2,
   "metadata": {},
   "outputs": [],
   "source": [
    "lmax = 500\n",
    "\n",
    "ns_range = [0.85, 1.15, 0.005]\n",
    "file_scal = 'cls_scal_lmax2500_ns0p85-1p15_step0p005.npy'\n",
    "file_tens = 'cls_tens_lmax2500.npy'\n",
    "file_data = 'cls_data_lmax2500.npy'\n",
    "\n",
    "posterior.load_theory(file_scal, file_tens, lmax, ns_range)\n",
    "posterior.load_data(file_data, lmax)"
   ]
  },
  {
   "cell_type": "code",
   "execution_count": 3,
   "metadata": {},
   "outputs": [],
   "source": [
    "filename = 'chains/test.chains'\n",
    "name = '000'\n",
    "\n",
    "ndim = 3\n",
    "m0   = [1., 1., 0.]\n",
    "sig0 = [0.001, 0.01, 0.1]\n",
    "\n",
    "nwalkers = 10\n",
    "max_n = 10000"
   ]
  },
  {
   "cell_type": "code",
   "execution_count": 4,
   "metadata": {},
   "outputs": [],
   "source": [
    "backend = emcee.backends.HDFBackend(filename, name=name)\n",
    "#backend.reset(nwalkers, ndim)\n",
    "\n",
    "sampler = emcee.EnsembleSampler(nwalkers, ndim, posterior.lnpos,\n",
    "                                args=[[ns_range[0], ns_range[1]],[]], backend=backend)"
   ]
  },
  {
   "cell_type": "code",
   "execution_count": 6,
   "metadata": {},
   "outputs": [],
   "source": [
    "if sampler.iteration == 0:\n",
    "    p0 = np.zeros((nwalkers, ndim))\n",
    "    m0 = np.array(m0)\n",
    "    sig0 = np.array(sig0)\n",
    "    for i in range(nwalkers):\n",
    "        p0 [i,:] = np.random.normal(size=ndim)*sig0 + m0\n",
    "        while posterior.lnprior(p0[i,:], [ns_range[0], ns_range[1]]) == -np.inf:\n",
    "            p0[i,:] = np.random.normal(size=ndim)*sig0 + m0\n",
    "else:\n",
    "    print 'Backend file already exists! Continuing with the sampling from last point'\n",
    "    p0 = sampler.chain[:,-1,:]"
   ]
  },
  {
   "cell_type": "code",
   "execution_count": 7,
   "metadata": {},
   "outputs": [
    {
     "name": "stderr",
     "output_type": "stream",
     "text": [
      "ind: 105 | tau: [49, 50, 54] | rat: 0.59-0.62 :  57%|█████▋    | 5699/10000 [1:18:22<1:10:29,  1.02it/s]"
     ]
    },
    {
     "name": "stdout",
     "output_type": "stream",
     "text": [
      " Converged!\n"
     ]
    }
   ],
   "source": [
    "old_tau = np.inf\n",
    "\n",
    "ite = tqdm(sampler.sample(p0, iterations=max_n), total=max_n)\n",
    "for sample in ite:\n",
    "    if sampler.iteration % 100:\n",
    "        continue\n",
    "\n",
    "    tau = sampler.get_autocorr_time(tol=0)\n",
    "    af = sampler.acceptance_fraction\n",
    "\n",
    "    ite.set_description('ind: '+str(int(round(float(sampler.iteration)/max(tau))))\n",
    "                        +' | tau: '+str([int(round(t)) for t in tau])+' | rat: '\n",
    "                        +str(round(min(af),2))+'-'+str(round(max(af),2))+' ')\n",
    "\n",
    "    # Check convergence                                                                                                                      \n",
    "    converged = np.all(tau * 100 < sampler.iteration)\n",
    "    converged &= np.all(np.abs(old_tau - tau) / tau < 0.01)\n",
    "    if converged:\n",
    "        print ' Converged!'\n",
    "        break\n",
    "    old_tau = tau"
   ]
  },
  {
   "cell_type": "code",
   "execution_count": null,
   "metadata": {},
   "outputs": [],
   "source": []
  }
 ],
 "metadata": {
  "kernelspec": {
   "display_name": "Python 2",
   "language": "python",
   "name": "python2"
  },
  "language_info": {
   "codemirror_mode": {
    "name": "ipython",
    "version": 2
   },
   "file_extension": ".py",
   "mimetype": "text/x-python",
   "name": "python",
   "nbconvert_exporter": "python",
   "pygments_lexer": "ipython2",
   "version": "2.7.15"
  }
 },
 "nbformat": 4,
 "nbformat_minor": 2
}
