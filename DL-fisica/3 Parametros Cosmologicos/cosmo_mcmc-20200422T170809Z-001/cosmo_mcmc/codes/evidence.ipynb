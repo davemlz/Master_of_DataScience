{
 "cells": [
  {
   "cell_type": "code",
   "execution_count": 1,
   "metadata": {},
   "outputs": [],
   "source": [
    "import numpy as np\n",
    "import posterior as pos\n",
    "\n",
    "posterior = pos.posterior()"
   ]
  },
  {
   "cell_type": "code",
   "execution_count": 2,
   "metadata": {},
   "outputs": [],
   "source": [
    "lmax = 500\n",
    "\n",
    "ns_range = [0.85, 1.15, 0.005]\n",
    "file_scal = 'cls_scal_lmax2500_ns0p85-1p15_step0p005.npy'\n",
    "file_tens = 'cls_tens_lmax2500.npy'\n",
    "file_data = 'cls_data_lmax2500.npy'\n",
    "\n",
    "posterior.load_theory(file_scal, file_tens, lmax, ns_range)\n",
    "posterior.load_data(file_data, lmax)"
   ]
  },
  {
   "cell_type": "code",
   "execution_count": 3,
   "metadata": {},
   "outputs": [],
   "source": [
    "intervals = [(0.5, 1.5), (0.90, 1.10), (0., 0.5)]\n",
    "#intervals = [(0.5, 1.5), (0., 0.5)]\n",
    "max_n = 10000\n",
    "tol = 1e-9"
   ]
  },
  {
   "cell_type": "code",
   "execution_count": 4,
   "metadata": {},
   "outputs": [
    {
     "name": "stderr",
     "output_type": "stream",
     "text": [
      "LnEv: 3809784.630190 | err: 2.6e-10 :  61%|██████    | 6099/10000 [09:21<04:18, 15.07it/s]"
     ]
    },
    {
     "name": "stdout",
     "output_type": "stream",
     "text": [
      " Converged!\n",
      "Ln(Evidence) =  3809784.63019\n"
     ]
    },
    {
     "name": "stderr",
     "output_type": "stream",
     "text": [
      "\n"
     ]
    }
   ],
   "source": [
    "lnev = posterior.calc_evidence(intervals, tol, max_n, [ns_range[0], ns_range[1]], [])\n",
    "\n",
    "print 'Ln(Evidence) = ', lnev"
   ]
  },
  {
   "cell_type": "code",
   "execution_count": 8,
   "metadata": {},
   "outputs": [
    {
     "data": {
      "text/plain": [
       "17.272599999792874"
      ]
     },
     "execution_count": 8,
     "metadata": {},
     "output_type": "execute_result"
    }
   ],
   "source": [
    "3809784.63019-3809767.35759"
   ]
  }
 ],
 "metadata": {
  "kernelspec": {
   "display_name": "Python 2",
   "language": "python",
   "name": "python2"
  },
  "language_info": {
   "codemirror_mode": {
    "name": "ipython",
    "version": 2
   },
   "file_extension": ".py",
   "mimetype": "text/x-python",
   "name": "python",
   "nbconvert_exporter": "python",
   "pygments_lexer": "ipython2",
   "version": "2.7.15"
  }
 },
 "nbformat": 4,
 "nbformat_minor": 2
}
