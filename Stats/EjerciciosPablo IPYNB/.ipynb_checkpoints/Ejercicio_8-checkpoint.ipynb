{
 "cells": [
  {
   "cell_type": "markdown",
   "metadata": {},
   "source": [
    "# Ejercicio 8\n",
    "\n",
    "## David Montero Loaiza\n",
    "\n",
    "### Problema 1\n",
    "\n",
    "Escribe una función de R que reciba un vector de números x (la muestra), y genere una muestra bootstrap de ese\n",
    "vector."
   ]
  },
  {
   "cell_type": "code",
   "execution_count": 1,
   "metadata": {},
   "outputs": [],
   "source": [
    " \n",
    "bootstrap = function(x){\n",
    "  \n",
    "  # TAMANO DE X\n",
    "  N = length(x)\n",
    "  \n",
    "  # MUESTRA BOOTSRAP\n",
    "  b = sample(x,N,replace = TRUE)\n",
    "  \n",
    "  # RETORNAR NOOTSTRAP\n",
    "  return(b)\n",
    "  \n",
    "}\n",
    " "
   ]
  },
  {
   "cell_type": "markdown",
   "metadata": {},
   "source": [
    "### Problema 2\n",
    "\n",
    "Utilizando la función anterior, escribe una función que reciba un vector de números x (la muestra original) y un número natural N, y que genere una matrix que tenga N columnas, siendo cada una una de las muestras de\n",
    "bootstrap."
   ]
  },
  {
   "cell_type": "code",
   "execution_count": 2,
   "metadata": {},
   "outputs": [],
   "source": [
    " \n",
    "bootstrapMatrix = function(x,N){\n",
    "  \n",
    "  # MATRIZ VACIA\n",
    "  BM = NULL\n",
    "  \n",
    "  for(i in 1:N){\n",
    "    \n",
    "    # RELLENAR MATRIZ CON MUESTRAS BOOTSTRAP\n",
    "    BM = cbind(BM,bootstrap(x))\n",
    "    \n",
    "  }\n",
    "  \n",
    "  # RETORNAR MATRIZ DE BOOTSTRAP\n",
    "  return(BM)\n",
    "  \n",
    "}\n",
    " "
   ]
  },
  {
   "cell_type": "markdown",
   "metadata": {},
   "source": [
    "### Problema 3\n",
    "\n",
    "Escribe una función de R que reciba un vector de números x (la muestra) y genere una matriz que contenta TODAS\n",
    "las muestras jacknife con el mismo formato del ejercicio anterior."
   ]
  },
  {
   "cell_type": "code",
   "execution_count": 3,
   "metadata": {},
   "outputs": [],
   "source": [
    " \n",
    "jacknife = function(x){\n",
    "  \n",
    "  # TAMANO DE X\n",
    "  N = length(x)\n",
    "  \n",
    "  # MATRIZ VACIA\n",
    "  JM = matrix(rep(x,N),N,N,byrow = FALSE)\n",
    "  \n",
    "  # CONVERTIR LA DIAGONAL EN NA\n",
    "  diag(JM) = NA\n",
    "  \n",
    "  # RETORNAR MATRIZ DE JACKNIFE\n",
    "  return(JM)\n",
    "  \n",
    "}\n",
    " "
   ]
  },
  {
   "cell_type": "markdown",
   "metadata": {},
   "source": [
    "### Problema 4\n",
    "\n",
    "Utilizando las funciones anteriores considera la desviación estándar de la media muestral para una muestra de\n",
    "N=10000 que se distribuya como en el ejercicio 1 (gaussiana centrada en 1.78m y sigma=0.1). Compara la desviación estándar obtenida, con la obtenida con bootstrap."
   ]
  },
  {
   "cell_type": "code",
   "execution_count": 4,
   "metadata": {},
   "outputs": [
    {
     "data": {
      "text/html": [
       "'Desviacion estándar Bootstrap: 0.098084925858125'"
      ],
      "text/latex": [
       "'Desviacion estándar Bootstrap: 0.098084925858125'"
      ],
      "text/markdown": [
       "'Desviacion estándar Bootstrap: 0.098084925858125'"
      ],
      "text/plain": [
       "[1] \"Desviacion estándar Bootstrap: 0.098084925858125\""
      ]
     },
     "metadata": {},
     "output_type": "display_data"
    },
    {
     "data": {
      "text/html": [
       "'Desviacion estándar: 0.1'"
      ],
      "text/latex": [
       "'Desviacion estándar: 0.1'"
      ],
      "text/markdown": [
       "'Desviacion estándar: 0.1'"
      ],
      "text/plain": [
       "[1] \"Desviacion estándar: 0.1\""
      ]
     },
     "metadata": {},
     "output_type": "display_data"
    }
   ],
   "source": [
    " \n",
    "# PARAMETROS PARA GENERAR UN VECTOR ALEATORIO GAUSSIANO\n",
    "N = 10000\n",
    "mu = 1.78\n",
    "sigma = 0.1\n",
    "\n",
    "# MUESTRA DE TAMANO N\n",
    "x = rnorm(N,mu,sigma)\n",
    "\n",
    "# MEDIA\n",
    "theta = mean(x)\n",
    "\n",
    "# BOOTSTRAP MATRIX\n",
    "BM = bootstrapMatrix(x,1000)\n",
    "\n",
    "# MEDIAS BOOTSTRAP\n",
    "thetaB = apply(BM,2,mean)\n",
    "\n",
    "# DESVIACION ESTANDAR\n",
    "sdB = sqrt(sum((thetaB - theta)^2)/(length(thetaB) - 1))\n",
    "\n",
    "# COMPARACION\n",
    "paste(\"Desviacion estándar Bootstrap:\",sdB*sqrt(N))\n",
    "paste(\"Desviacion estándar:\",sigma)\n",
    " "
   ]
  },
  {
   "cell_type": "markdown",
   "metadata": {},
   "source": [
    "Las desviación estándar estimada se aproxima en gran medida al parámetro utilizando el método Bootstrap.\n",
    "\n",
    "### Problema 5\n",
    "\n",
    "Repite el ejercicio anterior utilizando la técnica jackknife. ¿Cuál da mejor resultado?"
   ]
  },
  {
   "cell_type": "code",
   "execution_count": 5,
   "metadata": {},
   "outputs": [
    {
     "data": {
      "text/html": [
       "'Desviacion estándar Jacknife: 0.0998955698136064'"
      ],
      "text/latex": [
       "'Desviacion estándar Jacknife: 0.0998955698136064'"
      ],
      "text/markdown": [
       "'Desviacion estándar Jacknife: 0.0998955698136064'"
      ],
      "text/plain": [
       "[1] \"Desviacion estándar Jacknife: 0.0998955698136064\""
      ]
     },
     "metadata": {},
     "output_type": "display_data"
    },
    {
     "data": {
      "text/html": [
       "'Desviacion estándar: 0.1'"
      ],
      "text/latex": [
       "'Desviacion estándar: 0.1'"
      ],
      "text/markdown": [
       "'Desviacion estándar: 0.1'"
      ],
      "text/plain": [
       "[1] \"Desviacion estándar: 0.1\""
      ]
     },
     "metadata": {},
     "output_type": "display_data"
    }
   ],
   "source": [
    " \n",
    "# PARAMETROS PARA GENERAR UN VECTOR ALEATORIO GAUSSIANO\n",
    "N = 10000\n",
    "mu = 1.78\n",
    "sigma = 0.1\n",
    "\n",
    "# MUESTRA DE TAMANO N\n",
    "x = rnorm(N,mu,sigma)\n",
    "\n",
    "# MEDIA\n",
    "theta = mean(x)\n",
    "\n",
    "# JACKNIFE MATRIX\n",
    "JM = jacknife(x)\n",
    "\n",
    "# MEDIAS JACKNIFE\n",
    "thetaJ = apply(JM,2,mean,na.rm = TRUE)\n",
    "\n",
    "# DESVIACION ESTANDAR\n",
    "sdJ = sqrt(length(thetaJ)*sum((thetaJ - theta)^2)/(length(thetaJ) - 1))\n",
    "\n",
    "# COMPARACION\n",
    "paste(\"Desviacion estándar Jacknife:\",sdJ*sqrt(N))\n",
    "paste(\"Desviacion estándar:\",sigma)\n",
    " "
   ]
  },
  {
   "cell_type": "markdown",
   "metadata": {},
   "source": [
    "La técnica bootstrap se acerca en mayor medida a la desviación estándar muestral, esto se debe en gran medida a que los valores remuestreados con Jacknife son en práctica los valores originales, quitando uno de la lista en cada caso."
   ]
  }
 ],
 "metadata": {
  "kernelspec": {
   "display_name": "R",
   "language": "R",
   "name": "ir"
  },
  "language_info": {
   "codemirror_mode": "r",
   "file_extension": ".r",
   "mimetype": "text/x-r-source",
   "name": "R",
   "pygments_lexer": "r",
   "version": "3.6.1"
  }
 },
 "nbformat": 4,
 "nbformat_minor": 4
}
