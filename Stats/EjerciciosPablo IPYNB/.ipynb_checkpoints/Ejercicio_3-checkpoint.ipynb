{
 "cells": [
  {
   "cell_type": "markdown",
   "metadata": {},
   "source": [
    "# Ejercicio 3\n",
    "\n",
    "## David Montero Loaiza\n",
    "\n",
    "### Problema 1\n",
    "\n",
    "Crea una función como la del ejercicio 2 en la que se pase como input: un vector x con la variable independiente, un parámetro \"a\", un parámetro \"b\" y un valor \"sigma\"; y que devuelva un vector \"y\" que esté distribuido como una función normal con media = a*x + b y sigma = \"sigma\"."
   ]
  },
  {
   "cell_type": "code",
   "execution_count": 1,
   "metadata": {},
   "outputs": [],
   "source": [
    " \n",
    "generate_y = function(x,a,b,sigma){\n",
    "  \n",
    "  # GAUSSIANA\n",
    "  y = rnorm(x,x*a + b,sigma)\n",
    "  \n",
    "  # RETORNAR VECTOR Y\n",
    "  return(y)\n",
    "  \n",
    "}\n",
    " "
   ]
  },
  {
   "cell_type": "markdown",
   "metadata": {},
   "source": [
    "### Problema 2\n",
    "\n",
    "Construye una función que reciba dos vectores \"x\" e \"y\" supuestamente relacionados linealmente y calcule los valores de \"a\" y \"b\" que minimizan la función de coste."
   ]
  },
  {
   "cell_type": "code",
   "execution_count": 2,
   "metadata": {},
   "outputs": [],
   "source": [
    " \n",
    "# FUNCION PARA GENERAR UNA MATRIZ X SEGUN EL GRADO DEL POLINOMIO\n",
    "generate_X = function(x,gpoly){\n",
    "  \n",
    "  # LA MATRIZ SE INICIA CON 1S\n",
    "  X = rep(1,length(x))\n",
    "  \n",
    "  # SE AGREGAN LOS VALORES DE X ELEVADOS A CADA GRADO\n",
    "  for(i in 1:gpoly){\n",
    "    \n",
    "    # SE ADJUNTAN LOS VALORES A LA MATRIZ\n",
    "    X = cbind(X,x^i)\n",
    "    \n",
    "  }\n",
    "  \n",
    "  # SE RETORNA LA MATRIZ\n",
    "  return(X)\n",
    "  \n",
    "}\n",
    "\n",
    "# VALORES DE ALPHA QUE MINIMIZAN LA FUNCION DE COSTE\n",
    "loss_min = function(X,y){\n",
    "  \n",
    "  # MINIMIZAR LA FUNCION DE COSTE\n",
    "  a = solve(t(X) %*% X) %*% t(X) %*% y\n",
    "  \n",
    "  # RETORNAR ALPHA\n",
    "  return(a)\n",
    "  \n",
    "}\n",
    " "
   ]
  },
  {
   "cell_type": "markdown",
   "metadata": {},
   "source": [
    "### Problema 3\n",
    "\n",
    "Genera un vector x aleatorio con valores entre 0 y 8 y N = 100 puntos. Usa la función creada en 1 con valores a=1, b=2 y sigma=2, y la función creada en 2 para encontrar el mínimo de la función de coste. Pinta en un mismo plot \"x\" e \"y\" representados con puntos, y la recta \"a*x + b\"."
   ]
  },
  {
   "cell_type": "code",
   "execution_count": 3,
   "metadata": {},
   "outputs": [
    {
     "data": {
      "image/png": "[encoded data removed]",
      "text/plain": [
       "plot without title"
      ]
     },
     "metadata": {
      "image/png": {
       "height": 420,
       "width": 420
      }
     },
     "output_type": "display_data"
    }
   ],
   "source": [
    " \n",
    "# VECTOR ALEATORIO\n",
    "N = 100\n",
    "x = runif(N,0,8)\n",
    "\n",
    "# PARAMETROS ALPHA Y SIGMA\n",
    "a = 1\n",
    "b = 2\n",
    "sigma = 2\n",
    "\n",
    "# CREAR MATRIZ X\n",
    "X = generate_X(x,1)\n",
    "\n",
    "# CREAR VECTOR Y\n",
    "y = generate_y(x,a,b,sigma)\n",
    "\n",
    "# OBTENER ALPHA QUE MINIMIZA LA FUNCION DE COSTE\n",
    "alpha = loss_min(X,y)\n",
    "\n",
    "# GRAFICA DE REGRESION\n",
    "plot(x,y)\n",
    "curve(alpha[1] + alpha[2]*x,add = TRUE,col = \"blue\")"
   ]
  },
  {
   "cell_type": "markdown",
   "metadata": {},
   "source": [
    " \n",
    "\n",
    "### Problema 4\n",
    "\n",
    "Construye una función que calcule la matriz de covarianza asociada al ajuste lineal anterior. Utilízala con los vectores \"x\" e \"y\" anteriores y calcula dicha matriz para ese caso particular."
   ]
  },
  {
   "cell_type": "code",
   "execution_count": 4,
   "metadata": {},
   "outputs": [
    {
     "data": {
      "text/html": [
       "<table>\n",
       "<caption>A matrix: 2 × 2 of type dbl</caption>\n",
       "<thead>\n",
       "\t<tr><th></th><th scope=col>X</th><th scope=col></th></tr>\n",
       "</thead>\n",
       "<tbody>\n",
       "\t<tr><th scope=row>X</th><td> 0.34266126</td><td>-0.06603515</td></tr>\n",
       "\t<tr><th scope=row></th><td>-0.06603515</td><td> 0.01690312</td></tr>\n",
       "</tbody>\n",
       "</table>\n"
      ],
      "text/latex": [
       "A matrix: 2 × 2 of type dbl\n",
       "\\begin{tabular}{r|ll}\n",
       "  & X & \\\\\n",
       "\\hline\n",
       "\tX &  0.34266126 & -0.06603515\\\\\n",
       "\t & -0.06603515 &  0.01690312\\\\\n",
       "\\end{tabular}\n"
      ],
      "text/markdown": [
       "\n",
       "A matrix: 2 × 2 of type dbl\n",
       "\n",
       "| <!--/--> | X | <!----> |\n",
       "|---|---|---|\n",
       "| X |  0.34266126 | -0.06603515 |\n",
       "| <!----> | -0.06603515 |  0.01690312 |\n",
       "\n"
      ],
      "text/plain": [
       "  X                      \n",
       "X  0.34266126 -0.06603515\n",
       "  -0.06603515  0.01690312"
      ]
     },
     "metadata": {},
     "output_type": "display_data"
    }
   ],
   "source": [
    " \n",
    "cov_mat = function(X,y){\n",
    "  \n",
    "  # LONGITUD DE Y\n",
    "  len_y = length(y)\n",
    "  \n",
    "  # VARIANZA DE Y\n",
    "  var_y = var(y)\n",
    "  \n",
    "  # COVARIANZA DE Y\n",
    "  cov_y = diag(var_y,len_y,len_y)\n",
    "  \n",
    "  # MATRIZ DE COVARIANZA\n",
    "  cov_m = (solve(t(X) %*% X) %*% t(X)) %*% cov_y %*% t(solve(t(X) %*% X) %*% t(X))\n",
    "  \n",
    "  # RETORNAR MATRIZ DE COVARIANZA\n",
    "  return(cov_m)\n",
    "  \n",
    "}\n",
    "\n",
    "# CALCULAR MATRIZ DE COVARIANZA\n",
    "cov_mat_xy = cov_mat(X,y)\n",
    "\n",
    "cov_mat_xy\n",
    " "
   ]
  },
  {
   "cell_type": "markdown",
   "metadata": {},
   "source": [
    "### Problema 5\n",
    "\n",
    "Crea una función como la del apartado 1 donde se añadan 3 parámetros más (c, d, e) y en dónde todo sea igual salvo que media = $a + b*x + c*x^2 + d*x^3 + e*x^4$"
   ]
  },
  {
   "cell_type": "code",
   "execution_count": 5,
   "metadata": {},
   "outputs": [],
   "source": [
    " \n",
    "generate_y_v2 = function(x,a,b,c,d,e,sigma){\n",
    "  \n",
    "  # GAUSSIANA\n",
    "  y = rnorm(x,a + b*x + c*x^2 + d*x^3 + e*x^4,sigma)\n",
    "  \n",
    "  # RETORNAR VECTOR Y\n",
    "  return(y)\n",
    "  \n",
    "}\n",
    " "
   ]
  },
  {
   "cell_type": "markdown",
   "metadata": {},
   "source": [
    "### Problema 6\n",
    "\n",
    "Repite 3 y 4 con la función generada en 5 y usando: a = 107, b=-176, c=86, d=-16, e=1."
   ]
  },
  {
   "cell_type": "code",
   "execution_count": 6,
   "metadata": {},
   "outputs": [
    {
     "data": {
      "text/html": [
       "<table>\n",
       "<caption>A matrix: 5 × 5 of type dbl</caption>\n",
       "<thead>\n",
       "\t<tr><th></th><th scope=col>X</th><th scope=col></th><th scope=col></th><th scope=col></th><th scope=col></th></tr>\n",
       "</thead>\n",
       "<tbody>\n",
       "\t<tr><th scope=row>X</th><td> 170.938348</td><td>-279.283172</td><td> 126.37278</td><td>-21.3783427</td><td> 1.21064642</td></tr>\n",
       "\t<tr><th scope=row></th><td>-279.283172</td><td> 620.215108</td><td>-312.49127</td><td> 55.8441385</td><td>-3.26964102</td></tr>\n",
       "\t<tr><th scope=row></th><td> 126.372776</td><td>-312.491267</td><td> 166.37940</td><td>-30.7689377</td><td> 1.84445017</td></tr>\n",
       "\t<tr><th scope=row></th><td> -21.378343</td><td>  55.844138</td><td> -30.76894</td><td>  5.8264365</td><td>-0.35544272</td></tr>\n",
       "\t<tr><th scope=row></th><td>   1.210646</td><td>  -3.269641</td><td>   1.84445</td><td> -0.3554427</td><td> 0.02198257</td></tr>\n",
       "</tbody>\n",
       "</table>\n"
      ],
      "text/latex": [
       "A matrix: 5 × 5 of type dbl\n",
       "\\begin{tabular}{r|lllll}\n",
       "  & X &  &  &  & \\\\\n",
       "\\hline\n",
       "\tX &  170.938348 & -279.283172 &  126.37278 & -21.3783427 &  1.21064642\\\\\n",
       "\t & -279.283172 &  620.215108 & -312.49127 &  55.8441385 & -3.26964102\\\\\n",
       "\t &  126.372776 & -312.491267 &  166.37940 & -30.7689377 &  1.84445017\\\\\n",
       "\t &  -21.378343 &   55.844138 &  -30.76894 &   5.8264365 & -0.35544272\\\\\n",
       "\t &    1.210646 &   -3.269641 &    1.84445 &  -0.3554427 &  0.02198257\\\\\n",
       "\\end{tabular}\n"
      ],
      "text/markdown": [
       "\n",
       "A matrix: 5 × 5 of type dbl\n",
       "\n",
       "| <!--/--> | X | <!----> | <!----> | <!----> | <!----> |\n",
       "|---|---|---|---|---|---|\n",
       "| X |  170.938348 | -279.283172 |  126.37278 | -21.3783427 |  1.21064642 |\n",
       "| <!----> | -279.283172 |  620.215108 | -312.49127 |  55.8441385 | -3.26964102 |\n",
       "| <!----> |  126.372776 | -312.491267 |  166.37940 | -30.7689377 |  1.84445017 |\n",
       "| <!----> |  -21.378343 |   55.844138 |  -30.76894 |   5.8264365 | -0.35544272 |\n",
       "| <!----> |    1.210646 |   -3.269641 |    1.84445 |  -0.3554427 |  0.02198257 |\n",
       "\n"
      ],
      "text/plain": [
       "  X                                                         \n",
       "X  170.938348 -279.283172  126.37278 -21.3783427  1.21064642\n",
       "  -279.283172  620.215108 -312.49127  55.8441385 -3.26964102\n",
       "   126.372776 -312.491267  166.37940 -30.7689377  1.84445017\n",
       "   -21.378343   55.844138  -30.76894   5.8264365 -0.35544272\n",
       "     1.210646   -3.269641    1.84445  -0.3554427  0.02198257"
      ]
     },
     "metadata": {},
     "output_type": "display_data"
    },
    {
     "data": {
      "image/png": "[encoded data removed]",
      "text/plain": [
       "plot without title"
      ]
     },
     "metadata": {
      "image/png": {
       "height": 420,
       "width": 420
      }
     },
     "output_type": "display_data"
    }
   ],
   "source": [
    " \n",
    "# VECTOR ALEATORIO\n",
    "N = 100\n",
    "x = runif(N,0,8)\n",
    "\n",
    "# PARAMETROS ALPHA Y SIGMA\n",
    "a = 107\n",
    "b = -176\n",
    "c = 86\n",
    "d = -16\n",
    "e = 1\n",
    "sigma = 2\n",
    "\n",
    "# CREAR MATRIZ X\n",
    "X = generate_X(x,4)\n",
    "\n",
    "# CREAR VECTOR Y\n",
    "y = generate_y_v2(x,a,b,c,d,e,sigma)\n",
    "\n",
    "# OBTENER ALPHA QUE MINIMIZA LA FUNCION DE COSTE\n",
    "alpha = loss_min(X,y)\n",
    "\n",
    "# GRAFICA DE REGRESION\n",
    "plot(x,y)\n",
    "curve(alpha[1] + alpha[2]*x + alpha[3]*x^2 + alpha[4]*x^3 + alpha[5]*x^4,add = TRUE,col = \"blue\")\n",
    "\n",
    "# CALCULAR MATRIZ DE COVARIANZA\n",
    "cov_mat_xy = cov_mat(X,y)\n",
    "\n",
    "cov_mat_xy\n",
    " "
   ]
  }
 ],
 "metadata": {
  "kernelspec": {
   "display_name": "R",
   "language": "R",
   "name": "ir"
  },
  "language_info": {
   "codemirror_mode": "r",
   "file_extension": ".r",
   "mimetype": "text/x-r-source",
   "name": "R",
   "pygments_lexer": "r",
   "version": "3.6.1"
  }
 },
 "nbformat": 4,
 "nbformat_minor": 4
}
