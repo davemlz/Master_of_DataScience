{
  "nbformat": 4,
  "nbformat_minor": 0,
  "metadata": {
    "colab": {
      "name": "Seguimiento_pandas.ipynb",
      "provenance": []
    },
    "kernelspec": {
      "name": "python3",
      "display_name": "Python 3"
    }
  },
  "cells": [
    {
      "cell_type": "code",
      "metadata": {
        "id": "CMuIRJLC-_J6",
        "colab_type": "code",
        "colab": {
          "base_uri": "https://localhost:8080/",
          "height": 227
        },
        "outputId": "1ce8ba2c-dbcc-4b80-a9e1-24900b5cfc98"
      },
      "source": [
        "import pandas as pd\n",
        "\n",
        "df=pd.read_csv('https://raw.githubusercontent.com/davemlz/Master_of_DataScience/master/Modelos_de_Datos/Pandas/intro/venia-docenci/pandas/populations.txt',\n",
        "              sep ='\\t',\n",
        "              names=['year','hare','lynx','carrot'],\n",
        "              index_col='year',\n",
        "              skiprows=1)\n",
        "\n",
        "df.head()"
      ],
      "execution_count": 1,
      "outputs": [
        {
          "output_type": "execute_result",
          "data": {
            "text/html": [
              "<div>\n",
              "<style scoped>\n",
              "    .dataframe tbody tr th:only-of-type {\n",
              "        vertical-align: middle;\n",
              "    }\n",
              "\n",
              "    .dataframe tbody tr th {\n",
              "        vertical-align: top;\n",
              "    }\n",
              "\n",
              "    .dataframe thead th {\n",
              "        text-align: right;\n",
              "    }\n",
              "</style>\n",
              "<table border=\"1\" class=\"dataframe\">\n",
              "  <thead>\n",
              "    <tr style=\"text-align: right;\">\n",
              "      <th></th>\n",
              "      <th>hare</th>\n",
              "      <th>lynx</th>\n",
              "      <th>carrot</th>\n",
              "    </tr>\n",
              "    <tr>\n",
              "      <th>year</th>\n",
              "      <th></th>\n",
              "      <th></th>\n",
              "      <th></th>\n",
              "    </tr>\n",
              "  </thead>\n",
              "  <tbody>\n",
              "    <tr>\n",
              "      <th>1900</th>\n",
              "      <td>30000.0</td>\n",
              "      <td>4000.0</td>\n",
              "      <td>48300</td>\n",
              "    </tr>\n",
              "    <tr>\n",
              "      <th>1901</th>\n",
              "      <td>47200.0</td>\n",
              "      <td>6100.0</td>\n",
              "      <td>48200</td>\n",
              "    </tr>\n",
              "    <tr>\n",
              "      <th>1902</th>\n",
              "      <td>70200.0</td>\n",
              "      <td>9800.0</td>\n",
              "      <td>41500</td>\n",
              "    </tr>\n",
              "    <tr>\n",
              "      <th>1903</th>\n",
              "      <td>77400.0</td>\n",
              "      <td>35200.0</td>\n",
              "      <td>38200</td>\n",
              "    </tr>\n",
              "    <tr>\n",
              "      <th>1904</th>\n",
              "      <td>36300.0</td>\n",
              "      <td>59400.0</td>\n",
              "      <td>40600</td>\n",
              "    </tr>\n",
              "  </tbody>\n",
              "</table>\n",
              "</div>"
            ],
            "text/plain": [
              "         hare     lynx  carrot\n",
              "year                          \n",
              "1900  30000.0   4000.0   48300\n",
              "1901  47200.0   6100.0   48200\n",
              "1902  70200.0   9800.0   41500\n",
              "1903  77400.0  35200.0   38200\n",
              "1904  36300.0  59400.0   40600"
            ]
          },
          "metadata": {
            "tags": []
          },
          "execution_count": 1
        }
      ]
    },
    {
      "cell_type": "code",
      "metadata": {
        "id": "6WdmdpsSAE8k",
        "colab_type": "code",
        "colab": {
          "base_uri": "https://localhost:8080/",
          "height": 87
        },
        "outputId": "a9a16d79-00ee-48f0-b98a-278e3d109b48"
      },
      "source": [
        "df.mean()"
      ],
      "execution_count": 2,
      "outputs": [
        {
          "output_type": "execute_result",
          "data": {
            "text/plain": [
              "hare      34080.952381\n",
              "lynx      20166.666667\n",
              "carrot    42400.000000\n",
              "dtype: float64"
            ]
          },
          "metadata": {
            "tags": []
          },
          "execution_count": 2
        }
      ]
    },
    {
      "cell_type": "code",
      "metadata": {
        "id": "ogKcE7SdANdt",
        "colab_type": "code",
        "colab": {
          "base_uri": "https://localhost:8080/",
          "height": 87
        },
        "outputId": "cc4fc369-ca06-4e42-cd32-cf563cfcfcb7"
      },
      "source": [
        "df.std()"
      ],
      "execution_count": 3,
      "outputs": [
        {
          "output_type": "execute_result",
          "data": {
            "text/plain": [
              "hare      21413.981859\n",
              "lynx      16655.999920\n",
              "carrot     3404.555771\n",
              "dtype: float64"
            ]
          },
          "metadata": {
            "tags": []
          },
          "execution_count": 3
        }
      ]
    },
    {
      "cell_type": "code",
      "metadata": {
        "id": "kubi2RhyAP8y",
        "colab_type": "code",
        "colab": {
          "base_uri": "https://localhost:8080/",
          "height": 34
        },
        "outputId": "075a5cc9-75dd-4529-e84d-af7163a7fd3e"
      },
      "source": [
        "df[df == df.max()].dropna(how = \"all\").index"
      ],
      "execution_count": 11,
      "outputs": [
        {
          "output_type": "execute_result",
          "data": {
            "text/plain": [
              "Int64Index([1900, 1903, 1904], dtype='int64', name='year')"
            ]
          },
          "metadata": {
            "tags": []
          },
          "execution_count": 11
        }
      ]
    },
    {
      "cell_type": "code",
      "metadata": {
        "id": "X0wnWjC1Be5V",
        "colab_type": "code",
        "colab": {
          "base_uri": "https://localhost:8080/",
          "height": 425
        },
        "outputId": "621f806c-6cb6-4ed2-97a3-096731c949b3"
      },
      "source": [
        "df.max(1)"
      ],
      "execution_count": 15,
      "outputs": [
        {
          "output_type": "execute_result",
          "data": {
            "text/plain": [
              "year\n",
              "1900    48300.0\n",
              "1901    48200.0\n",
              "1902    70200.0\n",
              "1903    77400.0\n",
              "1904    59400.0\n",
              "1905    41700.0\n",
              "1906    38600.0\n",
              "1907    42300.0\n",
              "1908    44500.0\n",
              "1909    42100.0\n",
              "1910    46000.0\n",
              "1911    46800.0\n",
              "1912    57000.0\n",
              "1913    76600.0\n",
              "1914    52300.0\n",
              "1915    51100.0\n",
              "1916    36700.0\n",
              "1917    41800.0\n",
              "1918    43300.0\n",
              "1919    41300.0\n",
              "1920    47300.0\n",
              "dtype: float64"
            ]
          },
          "metadata": {
            "tags": []
          },
          "execution_count": 15
        }
      ]
    }
  ]
}