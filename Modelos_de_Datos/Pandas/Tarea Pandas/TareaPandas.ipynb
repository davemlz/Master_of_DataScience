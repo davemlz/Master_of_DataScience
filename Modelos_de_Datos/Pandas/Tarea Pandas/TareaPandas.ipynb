{
  "nbformat": 4,
  "nbformat_minor": 0,
  "metadata": {
    "kernelspec": {
      "display_name": "Python 3",
      "language": "python",
      "name": "python3"
    },
    "language_info": {
      "codemirror_mode": {
        "name": "ipython",
        "version": 3
      },
      "file_extension": ".py",
      "mimetype": "text/x-python",
      "name": "python",
      "nbconvert_exporter": "python",
      "pygments_lexer": "ipython3",
      "version": "3.7.5"
    },
    "colab": {
      "name": "TareaPandas.ipynb",
      "provenance": []
    }
  },
  "cells": [
    {
      "cell_type": "markdown",
      "metadata": {
        "id": "owU1LvT3kDmX",
        "colab_type": "text"
      },
      "source": [
        "# Tarea Pandas\n",
        "## David Montero Loaiza\n",
        "\n",
        "### Archivo CSV"
      ]
    },
    {
      "cell_type": "code",
      "metadata": {
        "id": "oU18oXhamF-m",
        "colab_type": "code",
        "colab": {}
      },
      "source": [
        "import pandas as pd\n",
        "import numpy as np"
      ],
      "execution_count": 0,
      "outputs": []
    },
    {
      "cell_type": "code",
      "metadata": {
        "id": "8lMYXmwLmYFC",
        "colab_type": "code",
        "colab": {}
      },
      "source": [
        "centroidesURL = \"https://raw.githubusercontent.com/davemlz/Master_of_DataScience/master/Modelos_de_Datos/Pandas/Tarea%20Pandas/Centroides_NucleosPoblacion.csv\"\n",
        "\n",
        "centroides = pd.read_csv(centroidesURL)"
      ],
      "execution_count": 0,
      "outputs": []
    },
    {
      "cell_type": "code",
      "metadata": {
        "id": "TeIo9tWLm1rl",
        "colab_type": "code",
        "colab": {
          "base_uri": "https://localhost:8080/",
          "height": 406
        },
        "outputId": "0942d362-cd08-4b3b-ccce-e0c8417c35b7"
      },
      "source": [
        "centroides"
      ],
      "execution_count": 114,
      "outputs": [
        {
          "output_type": "execute_result",
          "data": {
            "text/html": [
              "<div>\n",
              "<style scoped>\n",
              "    .dataframe tbody tr th:only-of-type {\n",
              "        vertical-align: middle;\n",
              "    }\n",
              "\n",
              "    .dataframe tbody tr th {\n",
              "        vertical-align: top;\n",
              "    }\n",
              "\n",
              "    .dataframe thead th {\n",
              "        text-align: right;\n",
              "    }\n",
              "</style>\n",
              "<table border=\"1\" class=\"dataframe\">\n",
              "  <thead>\n",
              "    <tr style=\"text-align: right;\">\n",
              "      <th></th>\n",
              "      <th>FID</th>\n",
              "      <th>OBJECTID</th>\n",
              "      <th>Cod_INE</th>\n",
              "      <th>Texto</th>\n",
              "      <th>Poblacion</th>\n",
              "      <th>CodMun</th>\n",
              "      <th>Municipio</th>\n",
              "      <th>Cod_Provin</th>\n",
              "      <th>Provincia</th>\n",
              "      <th>X</th>\n",
              "      <th>Y</th>\n",
              "    </tr>\n",
              "  </thead>\n",
              "  <tbody>\n",
              "    <tr>\n",
              "      <th>0</th>\n",
              "      <td>0</td>\n",
              "      <td>1</td>\n",
              "      <td>35002000101</td>\n",
              "      <td>Agüimes</td>\n",
              "      <td>29431.0</td>\n",
              "      <td>35002</td>\n",
              "      <td>Agüimes</td>\n",
              "      <td>35</td>\n",
              "      <td>Las Palmas</td>\n",
              "      <td>-15.446012</td>\n",
              "      <td>27.900542</td>\n",
              "    </tr>\n",
              "    <tr>\n",
              "      <th>1</th>\n",
              "      <td>1</td>\n",
              "      <td>2</td>\n",
              "      <td>35003000201</td>\n",
              "      <td>Antigua</td>\n",
              "      <td>10458.0</td>\n",
              "      <td>35003</td>\n",
              "      <td>Antigua</td>\n",
              "      <td>35</td>\n",
              "      <td>Las Palmas</td>\n",
              "      <td>-14.013301</td>\n",
              "      <td>28.418966</td>\n",
              "    </tr>\n",
              "    <tr>\n",
              "      <th>2</th>\n",
              "      <td>2</td>\n",
              "      <td>3</td>\n",
              "      <td>35004000301</td>\n",
              "      <td>Arrecife</td>\n",
              "      <td>58156.0</td>\n",
              "      <td>35004</td>\n",
              "      <td>Arrecife</td>\n",
              "      <td>35</td>\n",
              "      <td>Las Palmas</td>\n",
              "      <td>-13.551451</td>\n",
              "      <td>28.960649</td>\n",
              "    </tr>\n",
              "    <tr>\n",
              "      <th>3</th>\n",
              "      <td>3</td>\n",
              "      <td>4</td>\n",
              "      <td>35006000202</td>\n",
              "      <td>Arucas</td>\n",
              "      <td>36745.0</td>\n",
              "      <td>35006</td>\n",
              "      <td>Arucas</td>\n",
              "      <td>35</td>\n",
              "      <td>Las Palmas</td>\n",
              "      <td>-15.521512</td>\n",
              "      <td>28.117496</td>\n",
              "    </tr>\n",
              "    <tr>\n",
              "      <th>4</th>\n",
              "      <td>4</td>\n",
              "      <td>5</td>\n",
              "      <td>35009000303</td>\n",
              "      <td>Gáldar</td>\n",
              "      <td>24473.0</td>\n",
              "      <td>35009</td>\n",
              "      <td>Gáldar</td>\n",
              "      <td>35</td>\n",
              "      <td>Las Palmas</td>\n",
              "      <td>-15.654111</td>\n",
              "      <td>28.143873</td>\n",
              "    </tr>\n",
              "    <tr>\n",
              "      <th>...</th>\n",
              "      <td>...</td>\n",
              "      <td>...</td>\n",
              "      <td>...</td>\n",
              "      <td>...</td>\n",
              "      <td>...</td>\n",
              "      <td>...</td>\n",
              "      <td>...</td>\n",
              "      <td>...</td>\n",
              "      <td>...</td>\n",
              "      <td>...</td>\n",
              "      <td>...</td>\n",
              "    </tr>\n",
              "    <tr>\n",
              "      <th>847</th>\n",
              "      <td>847</td>\n",
              "      <td>848</td>\n",
              "      <td>30030000108</td>\n",
              "      <td>Infante Juan Manuel</td>\n",
              "      <td>14192.0</td>\n",
              "      <td>30030</td>\n",
              "      <td>Murcia</td>\n",
              "      <td>30</td>\n",
              "      <td>Murcia</td>\n",
              "      <td>-1.124304</td>\n",
              "      <td>37.979033</td>\n",
              "    </tr>\n",
              "    <tr>\n",
              "      <th>848</th>\n",
              "      <td>848</td>\n",
              "      <td>849</td>\n",
              "      <td>30030000124</td>\n",
              "      <td>Santa Maria de Gracia</td>\n",
              "      <td>13349.0</td>\n",
              "      <td>30030</td>\n",
              "      <td>Murcia</td>\n",
              "      <td>30</td>\n",
              "      <td>Murcia</td>\n",
              "      <td>-1.202069</td>\n",
              "      <td>37.984024</td>\n",
              "    </tr>\n",
              "    <tr>\n",
              "      <th>849</th>\n",
              "      <td>849</td>\n",
              "      <td>850</td>\n",
              "      <td>30030000126</td>\n",
              "      <td>Vista Alegre</td>\n",
              "      <td>15208.0</td>\n",
              "      <td>30030</td>\n",
              "      <td>Murcia</td>\n",
              "      <td>30</td>\n",
              "      <td>Murcia</td>\n",
              "      <td>-1.130564</td>\n",
              "      <td>37.995715</td>\n",
              "    </tr>\n",
              "    <tr>\n",
              "      <th>850</th>\n",
              "      <td>850</td>\n",
              "      <td>851</td>\n",
              "      <td>45168000102</td>\n",
              "      <td>Poligono Sta M de Benquerencia</td>\n",
              "      <td>19177.0</td>\n",
              "      <td>45168</td>\n",
              "      <td>Toledo</td>\n",
              "      <td>45</td>\n",
              "      <td>Toledo</td>\n",
              "      <td>-3.948364</td>\n",
              "      <td>39.866699</td>\n",
              "    </tr>\n",
              "    <tr>\n",
              "      <th>851</th>\n",
              "      <td>851</td>\n",
              "      <td>852</td>\n",
              "      <td>12040000102</td>\n",
              "      <td>Grao</td>\n",
              "      <td>16367.0</td>\n",
              "      <td>12040</td>\n",
              "      <td>Castellón de la Plana/Castelló de la Plana</td>\n",
              "      <td>12</td>\n",
              "      <td>Castelló/Castellón</td>\n",
              "      <td>0.012911</td>\n",
              "      <td>39.973568</td>\n",
              "    </tr>\n",
              "  </tbody>\n",
              "</table>\n",
              "<p>852 rows × 11 columns</p>\n",
              "</div>"
            ],
            "text/plain": [
              "     FID  OBJECTID      Cod_INE  ...           Provincia          X          Y\n",
              "0      0         1  35002000101  ...          Las Palmas -15.446012  27.900542\n",
              "1      1         2  35003000201  ...          Las Palmas -14.013301  28.418966\n",
              "2      2         3  35004000301  ...          Las Palmas -13.551451  28.960649\n",
              "3      3         4  35006000202  ...          Las Palmas -15.521512  28.117496\n",
              "4      4         5  35009000303  ...          Las Palmas -15.654111  28.143873\n",
              "..   ...       ...          ...  ...                 ...        ...        ...\n",
              "847  847       848  30030000108  ...              Murcia  -1.124304  37.979033\n",
              "848  848       849  30030000124  ...              Murcia  -1.202069  37.984024\n",
              "849  849       850  30030000126  ...              Murcia  -1.130564  37.995715\n",
              "850  850       851  45168000102  ...              Toledo  -3.948364  39.866699\n",
              "851  851       852  12040000102  ...  Castelló/Castellón   0.012911  39.973568\n",
              "\n",
              "[852 rows x 11 columns]"
            ]
          },
          "metadata": {
            "tags": []
          },
          "execution_count": 114
        }
      ]
    },
    {
      "cell_type": "markdown",
      "metadata": {
        "id": "8nnp-Pvekcm8",
        "colab_type": "text"
      },
      "source": [
        "#### ¿Cuántos Municipios tienen más de 100000 habitantes?. ¿Cuál es la segunda ciudad más poblada?. ¿Qué posición ocupa Granada en el ranking de las más pobladas?."
      ]
    },
    {
      "cell_type": "code",
      "metadata": {
        "id": "ZvggaNeflXTf",
        "colab_type": "code",
        "colab": {}
      },
      "source": [
        "# MUNICIPIOS CON MAS DE 100000 HABITANTES\n",
        "municipios = centroides[centroides['Poblacion'] > 100000][['Municipio','Poblacion']]\n",
        "municipios['Ranking'] = municipios['Poblacion'].rank(ascending = False)"
      ],
      "execution_count": 0,
      "outputs": []
    },
    {
      "cell_type": "code",
      "metadata": {
        "id": "4gJODIFNyNR0",
        "colab_type": "code",
        "colab": {
          "base_uri": "https://localhost:8080/",
          "height": 34
        },
        "outputId": "16663da1-80f3-4038-c646-3565dc7801bc"
      },
      "source": [
        "# TOTAL DE MUNICIPIOS CON MAS DE 100000 HABITANTES\n",
        "municipios.shape[0]"
      ],
      "execution_count": 116,
      "outputs": [
        {
          "output_type": "execute_result",
          "data": {
            "text/plain": [
              "62"
            ]
          },
          "metadata": {
            "tags": []
          },
          "execution_count": 116
        }
      ]
    },
    {
      "cell_type": "code",
      "metadata": {
        "id": "acnM3Sc6yNFA",
        "colab_type": "code",
        "colab": {
          "base_uri": "https://localhost:8080/",
          "height": 77
        },
        "outputId": "04644b3f-ea7b-4708-c871-c6026f751ffa"
      },
      "source": [
        "# SEGUNDA CIUDAD MAS POBLADA\n",
        "municipios[municipios['Ranking'] == 2]"
      ],
      "execution_count": 117,
      "outputs": [
        {
          "output_type": "execute_result",
          "data": {
            "text/html": [
              "<div>\n",
              "<style scoped>\n",
              "    .dataframe tbody tr th:only-of-type {\n",
              "        vertical-align: middle;\n",
              "    }\n",
              "\n",
              "    .dataframe tbody tr th {\n",
              "        vertical-align: top;\n",
              "    }\n",
              "\n",
              "    .dataframe thead th {\n",
              "        text-align: right;\n",
              "    }\n",
              "</style>\n",
              "<table border=\"1\" class=\"dataframe\">\n",
              "  <thead>\n",
              "    <tr style=\"text-align: right;\">\n",
              "      <th></th>\n",
              "      <th>Municipio</th>\n",
              "      <th>Poblacion</th>\n",
              "      <th>Ranking</th>\n",
              "    </tr>\n",
              "  </thead>\n",
              "  <tbody>\n",
              "    <tr>\n",
              "      <th>623</th>\n",
              "      <td>Barcelona</td>\n",
              "      <td>1619337.0</td>\n",
              "      <td>2.0</td>\n",
              "    </tr>\n",
              "  </tbody>\n",
              "</table>\n",
              "</div>"
            ],
            "text/plain": [
              "     Municipio  Poblacion  Ranking\n",
              "623  Barcelona  1619337.0      2.0"
            ]
          },
          "metadata": {
            "tags": []
          },
          "execution_count": 117
        }
      ]
    },
    {
      "cell_type": "code",
      "metadata": {
        "id": "xf5VOZ5eyMx1",
        "colab_type": "code",
        "colab": {
          "base_uri": "https://localhost:8080/",
          "height": 52
        },
        "outputId": "0edd87a9-4fb9-4ca7-f163-c118f76ebf33"
      },
      "source": [
        "# POSICION DE GRANADA EN EL RANKING\n",
        "municipios[municipios['Municipio'] == 'Granada']['Ranking']"
      ],
      "execution_count": 118,
      "outputs": [
        {
          "output_type": "execute_result",
          "data": {
            "text/plain": [
              "272    18.0\n",
              "Name: Ranking, dtype: float64"
            ]
          },
          "metadata": {
            "tags": []
          },
          "execution_count": 118
        }
      ]
    },
    {
      "cell_type": "markdown",
      "metadata": {
        "id": "hO4kRIy-kfUJ",
        "colab_type": "text"
      },
      "source": [
        "#### Escriba los nombres de los 10 municipios con menos población."
      ]
    },
    {
      "cell_type": "code",
      "metadata": {
        "id": "iIWCjcsnkDmm",
        "colab_type": "code",
        "colab": {
          "base_uri": "https://localhost:8080/",
          "height": 212
        },
        "outputId": "3fe6a95a-2b8f-4218-f0de-a17ce20cd8f2"
      },
      "source": [
        "centroides.sort_values('Poblacion').head(10)['Municipio']"
      ],
      "execution_count": 119,
      "outputs": [
        {
          "output_type": "execute_result",
          "data": {
            "text/plain": [
              "307         Zumarraga\n",
              "115    Caldas de Reis\n",
              "168           Amurrio\n",
              "746    Premià de Dalt\n",
              "525             Buñol\n",
              "97           Bembibre\n",
              "503             Ocaña\n",
              "193               Sax\n",
              "841     San Fulgencio\n",
              "756     San Bartolomé\n",
              "Name: Municipio, dtype: object"
            ]
          },
          "metadata": {
            "tags": []
          },
          "execution_count": 119
        }
      ]
    },
    {
      "cell_type": "markdown",
      "metadata": {
        "id": "M5uo7TGZkwPa",
        "colab_type": "text"
      },
      "source": [
        "#### ¿Cuántos municipios de León tienen más de 6000 habitantes?."
      ]
    },
    {
      "cell_type": "code",
      "metadata": {
        "id": "WpCq--nRlQ-S",
        "colab_type": "code",
        "colab": {
          "base_uri": "https://localhost:8080/",
          "height": 34
        },
        "outputId": "d6531578-7a59-4e66-f798-87995f000c3a"
      },
      "source": [
        "leon = centroides[centroides['Provincia'] == 'León']\n",
        "leon = leon[leon['Poblacion'] > 6000]\n",
        "leon.shape[0]"
      ],
      "execution_count": 120,
      "outputs": [
        {
          "output_type": "execute_result",
          "data": {
            "text/plain": [
              "9"
            ]
          },
          "metadata": {
            "tags": []
          },
          "execution_count": 120
        }
      ]
    },
    {
      "cell_type": "markdown",
      "metadata": {
        "id": "Jj9VITn8kxnb",
        "colab_type": "text"
      },
      "source": [
        "#### ¿Cuál es el municipio situado más al Norte? (Usar el valor de la coordenada \"Y\" que representa la latitud en grados). Proporcione también la provincia a la que pertenece y su población."
      ]
    },
    {
      "cell_type": "code",
      "metadata": {
        "id": "pmJt3B6clRvj",
        "colab_type": "code",
        "colab": {
          "base_uri": "https://localhost:8080/",
          "height": 70
        },
        "outputId": "96252443-ef5a-4356-a449-0fc980ce177c"
      },
      "source": [
        "centroides.loc[centroides['Y'].idxmax()][['Provincia','Poblacion']]"
      ],
      "execution_count": 121,
      "outputs": [
        {
          "output_type": "execute_result",
          "data": {
            "text/plain": [
              "Provincia     Lugo\n",
              "Poblacion    16211\n",
              "Name: 104, dtype: object"
            ]
          },
          "metadata": {
            "tags": []
          },
          "execution_count": 121
        }
      ]
    },
    {
      "cell_type": "markdown",
      "metadata": {
        "id": "7u9476GTk05H",
        "colab_type": "text"
      },
      "source": [
        "#### ¿Cual es el municipio de la provincia de Cantabria situado más al Este?. ¿Cual es el situado más al Oeste?"
      ]
    },
    {
      "cell_type": "code",
      "metadata": {
        "id": "r2oGFuqP3SgC",
        "colab_type": "code",
        "colab": {}
      },
      "source": [
        "cantabria = centroides[centroides['Provincia'] == 'Cantabria']"
      ],
      "execution_count": 0,
      "outputs": []
    },
    {
      "cell_type": "code",
      "metadata": {
        "id": "zuBWi83ilSNB",
        "colab_type": "code",
        "colab": {
          "base_uri": "https://localhost:8080/",
          "height": 34
        },
        "outputId": "623c8bb0-52fc-48b4-bfac-d0e06d66fdad"
      },
      "source": [
        "# SITUADO MAS AL ESTE\n",
        "cantabria.loc[cantabria['X'].idxmax()]['Municipio']"
      ],
      "execution_count": 123,
      "outputs": [
        {
          "output_type": "execute_result",
          "data": {
            "text/plain": [
              "'Castro-Urdiales'"
            ]
          },
          "metadata": {
            "tags": []
          },
          "execution_count": 123
        }
      ]
    },
    {
      "cell_type": "code",
      "metadata": {
        "id": "TFsw42UI3NSP",
        "colab_type": "code",
        "colab": {
          "base_uri": "https://localhost:8080/",
          "height": 34
        },
        "outputId": "0a9e268e-3b26-4150-ef5e-0a17ca8b0bbf"
      },
      "source": [
        "# SITUADO MAS AL OESTE\n",
        "cantabria.loc[cantabria['X'].idxmin()]['Municipio']"
      ],
      "execution_count": 124,
      "outputs": [
        {
          "output_type": "execute_result",
          "data": {
            "text/plain": [
              "'Reinosa'"
            ]
          },
          "metadata": {
            "tags": []
          },
          "execution_count": 124
        }
      ]
    },
    {
      "cell_type": "markdown",
      "metadata": {
        "id": "N_OVw5jGk3so",
        "colab_type": "text"
      },
      "source": [
        "#### Dígame los nombres de los Municipios más cercano y más lejano a Madrid. Para ello debe calcular la distancia en todos ellos y Madrid. Por supuesto, Madrid no cuenta."
      ]
    },
    {
      "cell_type": "code",
      "metadata": {
        "id": "wIXmNVuG9R_F",
        "colab_type": "code",
        "colab": {}
      },
      "source": [
        "madrid = centroides[centroides['Municipio'] == 'Madrid']"
      ],
      "execution_count": 0,
      "outputs": []
    },
    {
      "cell_type": "code",
      "metadata": {
        "id": "rdyv_DHzlS2k",
        "colab_type": "code",
        "colab": {}
      },
      "source": [
        "distancias = centroides[centroides['Municipio'] != 'Madrid'].copy()\n",
        "distancias['MadridX'] = madrid['X'].values[0]\n",
        "distancias['MadridY'] = madrid['Y'].values[0]\n",
        "distancias['Distancia'] = np.sqrt((distancias['X'] - distancias['MadridX']) ** 2 + (distancias['Y'] - distancias['MadridY']) ** 2)"
      ],
      "execution_count": 0,
      "outputs": []
    },
    {
      "cell_type": "code",
      "metadata": {
        "id": "MlcBbo0vGWfJ",
        "colab_type": "code",
        "colab": {
          "base_uri": "https://localhost:8080/",
          "height": 34
        },
        "outputId": "3f75da98-aaa5-4ab7-e5e2-c9503c955b76"
      },
      "source": [
        "# MUNICIPIO MAS CERCANO\n",
        "distancias.loc[distancias['Distancia'].idxmin()]['Municipio']"
      ],
      "execution_count": 130,
      "outputs": [
        {
          "output_type": "execute_result",
          "data": {
            "text/plain": [
              "'Pozuelo de Alarcón'"
            ]
          },
          "metadata": {
            "tags": []
          },
          "execution_count": 130
        }
      ]
    },
    {
      "cell_type": "code",
      "metadata": {
        "id": "v65WG1I_Gwxj",
        "colab_type": "code",
        "colab": {
          "base_uri": "https://localhost:8080/",
          "height": 34
        },
        "outputId": "6d42ca80-2d97-47c8-a554-2dd07af27708"
      },
      "source": [
        "# MUNICIPIO MAS LEJANO\n",
        "distancias.loc[distancias['Distancia'].idxmax()]['Municipio']"
      ],
      "execution_count": 131,
      "outputs": [
        {
          "output_type": "execute_result",
          "data": {
            "text/plain": [
              "'Los Llanos de Aridane'"
            ]
          },
          "metadata": {
            "tags": []
          },
          "execution_count": 131
        }
      ]
    },
    {
      "cell_type": "markdown",
      "metadata": {
        "id": "EJIYW8hYk6Qt",
        "colab_type": "text"
      },
      "source": [
        "#### ¿Cuántos Municipios hay en un radio de 5 grados de la ciudad de Barcelona?."
      ]
    },
    {
      "cell_type": "code",
      "metadata": {
        "id": "UINxVzSVlTu5",
        "colab_type": "code",
        "colab": {}
      },
      "source": [
        "barcelona = centroides[centroides['Municipio'] == 'Barcelona']"
      ],
      "execution_count": 0,
      "outputs": []
    },
    {
      "cell_type": "code",
      "metadata": {
        "id": "2kcrmqLQHJCa",
        "colab_type": "code",
        "colab": {}
      },
      "source": [
        "distancias = centroides[centroides['Municipio'] != 'Barcelona'].copy()\n",
        "distancias['BarcelonaX'] = barcelona['X'].values[0]\n",
        "distancias['BarcelonaY'] = barcelona['Y'].values[0]\n",
        "distancias['Distancia'] = np.sqrt((distancias['X'] - distancias['BarcelonaX']) ** 2 + (distancias['Y'] - distancias['BarcelonaY']) ** 2)"
      ],
      "execution_count": 0,
      "outputs": []
    },
    {
      "cell_type": "code",
      "metadata": {
        "id": "-tpvja2fHSpC",
        "colab_type": "code",
        "colab": {
          "base_uri": "https://localhost:8080/",
          "height": 34
        },
        "outputId": "21b1519a-18a7-4401-8c8b-262fac70abce"
      },
      "source": [
        "distancias[distancias['Distancia'] <= 5].shape[0]"
      ],
      "execution_count": 138,
      "outputs": [
        {
          "output_type": "execute_result",
          "data": {
            "text/plain": [
              "599"
            ]
          },
          "metadata": {
            "tags": []
          },
          "execution_count": 138
        }
      ]
    },
    {
      "cell_type": "markdown",
      "metadata": {
        "id": "XdMNpc8zk9Lu",
        "colab_type": "text"
      },
      "source": [
        "#### Obtenga la media, mediana, desviación estándar, valor máximo y valor mínimo de la población de los municipios de la provincia de Cantabria."
      ]
    },
    {
      "cell_type": "code",
      "metadata": {
        "id": "O_4AyuOIk-3Q",
        "colab_type": "code",
        "colab": {
          "base_uri": "https://localhost:8080/",
          "height": 34
        },
        "outputId": "94dbac32-c8d3-4066-f961-1345a6984109"
      },
      "source": [
        "cantabria['Poblacion'].mean()"
      ],
      "execution_count": 69,
      "outputs": [
        {
          "output_type": "execute_result",
          "data": {
            "text/plain": [
              "31246.285714285714"
            ]
          },
          "metadata": {
            "tags": []
          },
          "execution_count": 69
        }
      ]
    },
    {
      "cell_type": "code",
      "metadata": {
        "id": "vIT05H446bZv",
        "colab_type": "code",
        "colab": {
          "base_uri": "https://localhost:8080/",
          "height": 34
        },
        "outputId": "77939d00-2655-4428-9fa1-11064faa0a67"
      },
      "source": [
        "cantabria['Poblacion'].median()"
      ],
      "execution_count": 70,
      "outputs": [
        {
          "output_type": "execute_result",
          "data": {
            "text/plain": [
              "14322.0"
            ]
          },
          "metadata": {
            "tags": []
          },
          "execution_count": 70
        }
      ]
    },
    {
      "cell_type": "code",
      "metadata": {
        "id": "iAum22ly6dQu",
        "colab_type": "code",
        "colab": {
          "base_uri": "https://localhost:8080/",
          "height": 34
        },
        "outputId": "9d59c8d8-8d3f-4d76-952a-8b42caec3ea0"
      },
      "source": [
        "cantabria['Poblacion'].std()"
      ],
      "execution_count": 73,
      "outputs": [
        {
          "output_type": "execute_result",
          "data": {
            "text/plain": [
              "45088.68483748031"
            ]
          },
          "metadata": {
            "tags": []
          },
          "execution_count": 73
        }
      ]
    },
    {
      "cell_type": "code",
      "metadata": {
        "id": "71h7uNeb6eEq",
        "colab_type": "code",
        "colab": {
          "base_uri": "https://localhost:8080/",
          "height": 34
        },
        "outputId": "852b1d6d-a970-4566-cc83-f9439ae4cae9"
      },
      "source": [
        "cantabria['Poblacion'].max()"
      ],
      "execution_count": 74,
      "outputs": [
        {
          "output_type": "execute_result",
          "data": {
            "text/plain": [
              "181589.0"
            ]
          },
          "metadata": {
            "tags": []
          },
          "execution_count": 74
        }
      ]
    },
    {
      "cell_type": "code",
      "metadata": {
        "id": "UIJiP82q6e4n",
        "colab_type": "code",
        "colab": {
          "base_uri": "https://localhost:8080/",
          "height": 34
        },
        "outputId": "078ead2d-e6e8-4644-b5b0-ca9b05893586"
      },
      "source": [
        "cantabria['Poblacion'].min()"
      ],
      "execution_count": 75,
      "outputs": [
        {
          "output_type": "execute_result",
          "data": {
            "text/plain": [
              "10277.0"
            ]
          },
          "metadata": {
            "tags": []
          },
          "execution_count": 75
        }
      ]
    },
    {
      "cell_type": "markdown",
      "metadata": {
        "id": "E7iyf-68lAhW",
        "colab_type": "text"
      },
      "source": [
        "#### Usando los métodos de agregación, calcular las poblaciones de cada provincia."
      ]
    },
    {
      "cell_type": "code",
      "metadata": {
        "id": "YWVoOpZclU-q",
        "colab_type": "code",
        "colab": {
          "base_uri": "https://localhost:8080/",
          "height": 976
        },
        "outputId": "46a946d9-3b10-4727-ec58-45369cae7310"
      },
      "source": [
        "centroides.groupby('Provincia').sum()['Poblacion']"
      ],
      "execution_count": 79,
      "outputs": [
        {
          "output_type": "execute_result",
          "data": {
            "text/plain": [
              "Provincia\n",
              "A Coruña                   818982.0\n",
              "Alacant/Alicante          1804252.0\n",
              "Albacete                   280673.0\n",
              "Almería                    550604.0\n",
              "Asturias                   965777.0\n",
              "Badajoz                    361700.0\n",
              "Barcelona                 4934795.0\n",
              "Burgos                     250766.0\n",
              "Cantabria                  437448.0\n",
              "Castelló/Castellón         476388.0\n",
              "Ceuta                       80579.0\n",
              "Ciudad Real                348364.0\n",
              "Cuenca                      71921.0\n",
              "Cáceres                    176220.0\n",
              "Cádiz                     1166531.0\n",
              "Córdoba                    590503.0\n",
              "Girona                     474739.0\n",
              "Granada                    604357.0\n",
              "Guadalajara                139373.0\n",
              "Guipúzcoa                  546141.0\n",
              "Huelva                     361777.0\n",
              "Huesca                     124838.0\n",
              "Illes Balears             1041183.0\n",
              "Jaén                       426169.0\n",
              "La Rioja                   203911.0\n",
              "Las Palmas                1220407.0\n",
              "León                       316662.0\n",
              "Lleida                     199135.0\n",
              "Lugo                       162422.0\n",
              "Madrid                    6315312.0\n",
              "Melilla                     76034.0\n",
              "Murcia                    1599339.0\n",
              "Málaga                    1702839.0\n",
              "Navarra                    440005.0\n",
              "Ourense                    161821.0\n",
              "Palencia                    82169.0\n",
              "Pontevedra                 794690.0\n",
              "Salamanca                  197780.0\n",
              "Santa Cruz de Tenerife     989964.0\n",
              "Segovia                     55748.0\n",
              "Sevilla                   1671058.0\n",
              "Soria                       39838.0\n",
              "Tarragona                  598738.0\n",
              "Teruel                      51532.0\n",
              "Toledo                     332751.0\n",
              "Valladolid                 372022.0\n",
              "València/Valencia         2189461.0\n",
              "Vizcaya                    984560.0\n",
              "Zamora                      85098.0\n",
              "Zaragoza                   743312.0\n",
              "Álava                      266717.0\n",
              "Ávila                       58245.0\n",
              "Name: Poblacion, dtype: float64"
            ]
          },
          "metadata": {
            "tags": []
          },
          "execution_count": 79
        }
      ]
    },
    {
      "cell_type": "markdown",
      "metadata": {
        "id": "gkxrBGAJlHCQ",
        "colab_type": "text"
      },
      "source": [
        "#### Dibujar el valor de la población para las diferentes ciudades (usar las funciones vistas en MatPlotLib)."
      ]
    },
    {
      "cell_type": "code",
      "metadata": {
        "id": "N32ELbfNlVZA",
        "colab_type": "code",
        "colab": {
          "base_uri": "https://localhost:8080/",
          "height": 531
        },
        "outputId": "16debcba-d7fb-423d-e3cb-55e07265db33"
      },
      "source": [
        "centroides.plot.bar(x = 'Municipio',y = 'Poblacion')"
      ],
      "execution_count": 81,
      "outputs": [
        {
          "output_type": "execute_result",
          "data": {
            "text/plain": [
              "<matplotlib.axes._subplots.AxesSubplot at 0x7f84092cc780>"
            ]
          },
          "metadata": {
            "tags": []
          },
          "execution_count": 81
        },
        {
          "output_type": "display_data",
          "data": {
            "image/png": "[encoded data removed]",
            "text/plain": [
              "<Figure size 432x288 with 1 Axes>"
            ]
          },
          "metadata": {
            "tags": []
          }
        }
      ]
    },
    {
      "cell_type": "markdown",
      "metadata": {
        "id": "edvlCrq4lKFg",
        "colab_type": "text"
      },
      "source": [
        "#### Hacer un gráfico equivalente pero para las diferentes provincias. Seleccionar un punto representativo de las ciudades incluidas en cada provincia."
      ]
    },
    {
      "cell_type": "code",
      "metadata": {
        "id": "o5DqLerilV7f",
        "colab_type": "code",
        "colab": {
          "base_uri": "https://localhost:8080/",
          "height": 402
        },
        "outputId": "74995756-8608-4a78-bf95-de400cf12b2f"
      },
      "source": [
        "centroides.groupby('Provincia').sum()['Poblacion'].plot.bar()"
      ],
      "execution_count": 82,
      "outputs": [
        {
          "output_type": "execute_result",
          "data": {
            "text/plain": [
              "<matplotlib.axes._subplots.AxesSubplot at 0x7f8407db6198>"
            ]
          },
          "metadata": {
            "tags": []
          },
          "execution_count": 82
        },
        {
          "output_type": "display_data",
          "data": {
            "image/png": "[encoded data removed]",
            "text/plain": [
              "<Figure size 432x288 with 1 Axes>"
            ]
          },
          "metadata": {
            "tags": []
          }
        }
      ]
    },
    {
      "cell_type": "markdown",
      "metadata": {
        "id": "y6yg5JtFkDms",
        "colab_type": "text"
      },
      "source": [
        "### Series Temporales"
      ]
    },
    {
      "cell_type": "markdown",
      "metadata": {
        "id": "Zm_4XgUulo4L",
        "colab_type": "text"
      },
      "source": [
        "#### Obtener y exporta en csv los datos asociados a las series mensuales, estacionales y anuales"
      ]
    },
    {
      "cell_type": "code",
      "metadata": {
        "id": "JEX5aZ70kDmw",
        "colab_type": "code",
        "colab": {}
      },
      "source": [
        ""
      ],
      "execution_count": 0,
      "outputs": []
    },
    {
      "cell_type": "markdown",
      "metadata": {
        "id": "Oe23LtIPlqXd",
        "colab_type": "text"
      },
      "source": [
        "#### Dibujar la serie temporal asociada al promedio espacial de los datos mensuales, estacionales y anuales."
      ]
    },
    {
      "cell_type": "code",
      "metadata": {
        "id": "fHumR0nkkj-r",
        "colab_type": "code",
        "colab": {}
      },
      "source": [
        ""
      ],
      "execution_count": 0,
      "outputs": []
    },
    {
      "cell_type": "markdown",
      "metadata": {
        "id": "o2tO0RrNltEg",
        "colab_type": "text"
      },
      "source": [
        "#### Dibujar la distribución espacial de las estaciones, así como los valores promedio y máximo."
      ]
    },
    {
      "cell_type": "code",
      "metadata": {
        "id": "5bzZghJ-kDm8",
        "colab_type": "code",
        "colab": {}
      },
      "source": [
        ""
      ],
      "execution_count": 0,
      "outputs": []
    },
    {
      "cell_type": "markdown",
      "metadata": {
        "id": "dIFGlWIalw6i",
        "colab_type": "text"
      },
      "source": [
        "#### Calcular la frecuencia de días con precipitaciones mayores (>) de 1 mm."
      ]
    },
    {
      "cell_type": "code",
      "metadata": {
        "id": "tZlxUKd1kDnG",
        "colab_type": "code",
        "colab": {}
      },
      "source": [
        ""
      ],
      "execution_count": 0,
      "outputs": []
    }
  ]
}