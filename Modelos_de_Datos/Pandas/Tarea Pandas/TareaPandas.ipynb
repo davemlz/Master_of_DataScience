{
  "nbformat": 4,
  "nbformat_minor": 0,
  "metadata": {
    "kernelspec": {
      "display_name": "Python 3",
      "language": "python",
      "name": "python3"
    },
    "language_info": {
      "codemirror_mode": {
        "name": "ipython",
        "version": 3
      },
      "file_extension": ".py",
      "mimetype": "text/x-python",
      "name": "python",
      "nbconvert_exporter": "python",
      "pygments_lexer": "ipython3",
      "version": "3.7.5"
    },
    "colab": {
      "name": "TareaPandas.ipynb",
      "provenance": []
    }
  },
  "cells": [
    {
      "cell_type": "markdown",
      "metadata": {
        "id": "owU1LvT3kDmX",
        "colab_type": "text"
      },
      "source": [
        "# Tarea Pandas\n",
        "## David Montero Loaiza\n",
        "\n",
        "### Archivo CSV"
      ]
    },
    {
      "cell_type": "code",
      "metadata": {
        "id": "oU18oXhamF-m",
        "colab_type": "code",
        "colab": {}
      },
      "source": [
        "import pandas as pd"
      ],
      "execution_count": 0,
      "outputs": []
    },
    {
      "cell_type": "code",
      "metadata": {
        "id": "8lMYXmwLmYFC",
        "colab_type": "code",
        "colab": {}
      },
      "source": [
        "centroidesURL = \"https://raw.githubusercontent.com/davemlz/Master_of_DataScience/master/Modelos_de_Datos/Pandas/Tarea%20Pandas/Centroides_NucleosPoblacion.csv\"\n",
        "\n",
        "centroides = pd.read_csv(centroidesURL)"
      ],
      "execution_count": 0,
      "outputs": []
    },
    {
      "cell_type": "code",
      "metadata": {
        "id": "TeIo9tWLm1rl",
        "colab_type": "code",
        "colab": {
          "base_uri": "https://localhost:8080/",
          "height": 406
        },
        "outputId": "7767a411-d84d-448c-a073-8ad80bcf355d"
      },
      "source": [
        "centroides"
      ],
      "execution_count": 3,
      "outputs": [
        {
          "output_type": "execute_result",
          "data": {
            "text/html": [
              "<div>\n",
              "<style scoped>\n",
              "    .dataframe tbody tr th:only-of-type {\n",
              "        vertical-align: middle;\n",
              "    }\n",
              "\n",
              "    .dataframe tbody tr th {\n",
              "        vertical-align: top;\n",
              "    }\n",
              "\n",
              "    .dataframe thead th {\n",
              "        text-align: right;\n",
              "    }\n",
              "</style>\n",
              "<table border=\"1\" class=\"dataframe\">\n",
              "  <thead>\n",
              "    <tr style=\"text-align: right;\">\n",
              "      <th></th>\n",
              "      <th>FID</th>\n",
              "      <th>OBJECTID</th>\n",
              "      <th>Cod_INE</th>\n",
              "      <th>Texto</th>\n",
              "      <th>Poblacion</th>\n",
              "      <th>CodMun</th>\n",
              "      <th>Municipio</th>\n",
              "      <th>Cod_Provin</th>\n",
              "      <th>Provincia</th>\n",
              "      <th>X</th>\n",
              "      <th>Y</th>\n",
              "    </tr>\n",
              "  </thead>\n",
              "  <tbody>\n",
              "    <tr>\n",
              "      <th>0</th>\n",
              "      <td>0</td>\n",
              "      <td>1</td>\n",
              "      <td>35002000101</td>\n",
              "      <td>Agüimes</td>\n",
              "      <td>29431.0</td>\n",
              "      <td>35002</td>\n",
              "      <td>Agüimes</td>\n",
              "      <td>35</td>\n",
              "      <td>Las Palmas</td>\n",
              "      <td>-15.446012</td>\n",
              "      <td>27.900542</td>\n",
              "    </tr>\n",
              "    <tr>\n",
              "      <th>1</th>\n",
              "      <td>1</td>\n",
              "      <td>2</td>\n",
              "      <td>35003000201</td>\n",
              "      <td>Antigua</td>\n",
              "      <td>10458.0</td>\n",
              "      <td>35003</td>\n",
              "      <td>Antigua</td>\n",
              "      <td>35</td>\n",
              "      <td>Las Palmas</td>\n",
              "      <td>-14.013301</td>\n",
              "      <td>28.418966</td>\n",
              "    </tr>\n",
              "    <tr>\n",
              "      <th>2</th>\n",
              "      <td>2</td>\n",
              "      <td>3</td>\n",
              "      <td>35004000301</td>\n",
              "      <td>Arrecife</td>\n",
              "      <td>58156.0</td>\n",
              "      <td>35004</td>\n",
              "      <td>Arrecife</td>\n",
              "      <td>35</td>\n",
              "      <td>Las Palmas</td>\n",
              "      <td>-13.551451</td>\n",
              "      <td>28.960649</td>\n",
              "    </tr>\n",
              "    <tr>\n",
              "      <th>3</th>\n",
              "      <td>3</td>\n",
              "      <td>4</td>\n",
              "      <td>35006000202</td>\n",
              "      <td>Arucas</td>\n",
              "      <td>36745.0</td>\n",
              "      <td>35006</td>\n",
              "      <td>Arucas</td>\n",
              "      <td>35</td>\n",
              "      <td>Las Palmas</td>\n",
              "      <td>-15.521512</td>\n",
              "      <td>28.117496</td>\n",
              "    </tr>\n",
              "    <tr>\n",
              "      <th>4</th>\n",
              "      <td>4</td>\n",
              "      <td>5</td>\n",
              "      <td>35009000303</td>\n",
              "      <td>Gáldar</td>\n",
              "      <td>24473.0</td>\n",
              "      <td>35009</td>\n",
              "      <td>Gáldar</td>\n",
              "      <td>35</td>\n",
              "      <td>Las Palmas</td>\n",
              "      <td>-15.654111</td>\n",
              "      <td>28.143873</td>\n",
              "    </tr>\n",
              "    <tr>\n",
              "      <th>...</th>\n",
              "      <td>...</td>\n",
              "      <td>...</td>\n",
              "      <td>...</td>\n",
              "      <td>...</td>\n",
              "      <td>...</td>\n",
              "      <td>...</td>\n",
              "      <td>...</td>\n",
              "      <td>...</td>\n",
              "      <td>...</td>\n",
              "      <td>...</td>\n",
              "      <td>...</td>\n",
              "    </tr>\n",
              "    <tr>\n",
              "      <th>847</th>\n",
              "      <td>847</td>\n",
              "      <td>848</td>\n",
              "      <td>30030000108</td>\n",
              "      <td>Infante Juan Manuel</td>\n",
              "      <td>14192.0</td>\n",
              "      <td>30030</td>\n",
              "      <td>Murcia</td>\n",
              "      <td>30</td>\n",
              "      <td>Murcia</td>\n",
              "      <td>-1.124304</td>\n",
              "      <td>37.979033</td>\n",
              "    </tr>\n",
              "    <tr>\n",
              "      <th>848</th>\n",
              "      <td>848</td>\n",
              "      <td>849</td>\n",
              "      <td>30030000124</td>\n",
              "      <td>Santa Maria de Gracia</td>\n",
              "      <td>13349.0</td>\n",
              "      <td>30030</td>\n",
              "      <td>Murcia</td>\n",
              "      <td>30</td>\n",
              "      <td>Murcia</td>\n",
              "      <td>-1.202069</td>\n",
              "      <td>37.984024</td>\n",
              "    </tr>\n",
              "    <tr>\n",
              "      <th>849</th>\n",
              "      <td>849</td>\n",
              "      <td>850</td>\n",
              "      <td>30030000126</td>\n",
              "      <td>Vista Alegre</td>\n",
              "      <td>15208.0</td>\n",
              "      <td>30030</td>\n",
              "      <td>Murcia</td>\n",
              "      <td>30</td>\n",
              "      <td>Murcia</td>\n",
              "      <td>-1.130564</td>\n",
              "      <td>37.995715</td>\n",
              "    </tr>\n",
              "    <tr>\n",
              "      <th>850</th>\n",
              "      <td>850</td>\n",
              "      <td>851</td>\n",
              "      <td>45168000102</td>\n",
              "      <td>Poligono Sta M de Benquerencia</td>\n",
              "      <td>19177.0</td>\n",
              "      <td>45168</td>\n",
              "      <td>Toledo</td>\n",
              "      <td>45</td>\n",
              "      <td>Toledo</td>\n",
              "      <td>-3.948364</td>\n",
              "      <td>39.866699</td>\n",
              "    </tr>\n",
              "    <tr>\n",
              "      <th>851</th>\n",
              "      <td>851</td>\n",
              "      <td>852</td>\n",
              "      <td>12040000102</td>\n",
              "      <td>Grao</td>\n",
              "      <td>16367.0</td>\n",
              "      <td>12040</td>\n",
              "      <td>Castellón de la Plana/Castelló de la Plana</td>\n",
              "      <td>12</td>\n",
              "      <td>Castelló/Castellón</td>\n",
              "      <td>0.012911</td>\n",
              "      <td>39.973568</td>\n",
              "    </tr>\n",
              "  </tbody>\n",
              "</table>\n",
              "<p>852 rows × 11 columns</p>\n",
              "</div>"
            ],
            "text/plain": [
              "     FID  OBJECTID      Cod_INE  ...           Provincia          X          Y\n",
              "0      0         1  35002000101  ...          Las Palmas -15.446012  27.900542\n",
              "1      1         2  35003000201  ...          Las Palmas -14.013301  28.418966\n",
              "2      2         3  35004000301  ...          Las Palmas -13.551451  28.960649\n",
              "3      3         4  35006000202  ...          Las Palmas -15.521512  28.117496\n",
              "4      4         5  35009000303  ...          Las Palmas -15.654111  28.143873\n",
              "..   ...       ...          ...  ...                 ...        ...        ...\n",
              "847  847       848  30030000108  ...              Murcia  -1.124304  37.979033\n",
              "848  848       849  30030000124  ...              Murcia  -1.202069  37.984024\n",
              "849  849       850  30030000126  ...              Murcia  -1.130564  37.995715\n",
              "850  850       851  45168000102  ...              Toledo  -3.948364  39.866699\n",
              "851  851       852  12040000102  ...  Castelló/Castellón   0.012911  39.973568\n",
              "\n",
              "[852 rows x 11 columns]"
            ]
          },
          "metadata": {
            "tags": []
          },
          "execution_count": 3
        }
      ]
    },
    {
      "cell_type": "markdown",
      "metadata": {
        "id": "8nnp-Pvekcm8",
        "colab_type": "text"
      },
      "source": [
        "#### ¿Cuántos Municipios tienen más de 100000 habitantes?. ¿Cuál es la segunda ciudad más poblada?. ¿Qué posición ocupa Granada en el ranking de las más pobladas?."
      ]
    },
    {
      "cell_type": "code",
      "metadata": {
        "id": "ZvggaNeflXTf",
        "colab_type": "code",
        "colab": {
          "base_uri": "https://localhost:8080/",
          "height": 87
        },
        "outputId": "862ca72f-2f48-4ddc-d035-a28f61cc082d"
      },
      "source": [
        "# MUNICIPIOS CON MAS DE 100000 HABITANTES\n",
        "municipios = centroides[centroides['Poblacion'] > 100000][['Municipio','Poblacion']].sort_values('Poblacion',ascending = False)\n",
        "mun\n",
        "\n",
        "# TOTAL DE MUNICIPIOS CON MAS DE 100000 HABITANTES\n",
        "municipios.shape[0]\n",
        "\n",
        "# SEGUNDA CIUDAD MAS POBLADA\n",
        "municipios.iloc[1,:]\n",
        "\n",
        "# POSICION DE GRANADA EN EL RANKING\n"
      ],
      "execution_count": 27,
      "outputs": [
        {
          "output_type": "execute_result",
          "data": {
            "text/plain": [
              "Municipio      Barcelona\n",
              "Poblacion    1.61934e+06\n",
              "Rank                  61\n",
              "Name: 623, dtype: object"
            ]
          },
          "metadata": {
            "tags": []
          },
          "execution_count": 27
        }
      ]
    },
    {
      "cell_type": "markdown",
      "metadata": {
        "id": "hO4kRIy-kfUJ",
        "colab_type": "text"
      },
      "source": [
        "#### Escriba los nombres de los 10 municipios con menos población."
      ]
    },
    {
      "cell_type": "code",
      "metadata": {
        "id": "iIWCjcsnkDmm",
        "colab_type": "code",
        "colab": {}
      },
      "source": [
        ""
      ],
      "execution_count": 0,
      "outputs": []
    },
    {
      "cell_type": "markdown",
      "metadata": {
        "id": "M5uo7TGZkwPa",
        "colab_type": "text"
      },
      "source": [
        "#### ¿Cuántos municipios de León tienen más de 6000 habitantes?."
      ]
    },
    {
      "cell_type": "code",
      "metadata": {
        "id": "WpCq--nRlQ-S",
        "colab_type": "code",
        "colab": {}
      },
      "source": [
        ""
      ],
      "execution_count": 0,
      "outputs": []
    },
    {
      "cell_type": "markdown",
      "metadata": {
        "id": "Jj9VITn8kxnb",
        "colab_type": "text"
      },
      "source": [
        "#### ¿Cuál es el municipio situado más al Norte? (Usar el valor de la coordenada \"Y\" que representa la latitud en grados). Proporcione también la provincia a la que pertenece y su población."
      ]
    },
    {
      "cell_type": "code",
      "metadata": {
        "id": "pmJt3B6clRvj",
        "colab_type": "code",
        "colab": {}
      },
      "source": [
        ""
      ],
      "execution_count": 0,
      "outputs": []
    },
    {
      "cell_type": "markdown",
      "metadata": {
        "id": "7u9476GTk05H",
        "colab_type": "text"
      },
      "source": [
        "#### ¿Cual es el municipio de la provincia de Cantabria situado más al Este?. ¿Cual es el situado más al Oeste?"
      ]
    },
    {
      "cell_type": "code",
      "metadata": {
        "id": "zuBWi83ilSNB",
        "colab_type": "code",
        "colab": {}
      },
      "source": [
        ""
      ],
      "execution_count": 0,
      "outputs": []
    },
    {
      "cell_type": "markdown",
      "metadata": {
        "id": "N_OVw5jGk3so",
        "colab_type": "text"
      },
      "source": [
        "#### Dígame los nombres de los Municipios más cercano y más lejano a Madrid. Para ello debe calcular la distancia en todos ellos y Madrid. Por supuesto, Madrid no cuenta."
      ]
    },
    {
      "cell_type": "code",
      "metadata": {
        "id": "rdyv_DHzlS2k",
        "colab_type": "code",
        "colab": {}
      },
      "source": [
        ""
      ],
      "execution_count": 0,
      "outputs": []
    },
    {
      "cell_type": "markdown",
      "metadata": {
        "id": "EJIYW8hYk6Qt",
        "colab_type": "text"
      },
      "source": [
        "#### ¿Cuántos Municipios hay en un radio de 5 grados de la ciudad de Barcelona?."
      ]
    },
    {
      "cell_type": "code",
      "metadata": {
        "id": "UINxVzSVlTu5",
        "colab_type": "code",
        "colab": {}
      },
      "source": [
        ""
      ],
      "execution_count": 0,
      "outputs": []
    },
    {
      "cell_type": "markdown",
      "metadata": {
        "id": "XdMNpc8zk9Lu",
        "colab_type": "text"
      },
      "source": [
        "#### Obtenga la media, mediana, desviación estándar, valor máximo y valor mínimo de la población de los municipios de la provincia de Cantabria."
      ]
    },
    {
      "cell_type": "code",
      "metadata": {
        "id": "O_4AyuOIk-3Q",
        "colab_type": "code",
        "colab": {}
      },
      "source": [
        ""
      ],
      "execution_count": 0,
      "outputs": []
    },
    {
      "cell_type": "markdown",
      "metadata": {
        "id": "E7iyf-68lAhW",
        "colab_type": "text"
      },
      "source": [
        "#### Usando los métodos de agregación, calcular las poblaciones de cada provincia."
      ]
    },
    {
      "cell_type": "code",
      "metadata": {
        "id": "YWVoOpZclU-q",
        "colab_type": "code",
        "colab": {}
      },
      "source": [
        ""
      ],
      "execution_count": 0,
      "outputs": []
    },
    {
      "cell_type": "markdown",
      "metadata": {
        "id": "gkxrBGAJlHCQ",
        "colab_type": "text"
      },
      "source": [
        "#### Dibujar el valor de la población para las diferentes ciudades (usar las funciones vistas en MatPlotLib)."
      ]
    },
    {
      "cell_type": "code",
      "metadata": {
        "id": "N32ELbfNlVZA",
        "colab_type": "code",
        "colab": {}
      },
      "source": [
        ""
      ],
      "execution_count": 0,
      "outputs": []
    },
    {
      "cell_type": "markdown",
      "metadata": {
        "id": "edvlCrq4lKFg",
        "colab_type": "text"
      },
      "source": [
        "#### Hacer un gráfico equivalente pero para las diferentes provincias. Seleccionar un punto representativo de las ciudades incluidas en cada provincia."
      ]
    },
    {
      "cell_type": "code",
      "metadata": {
        "id": "o5DqLerilV7f",
        "colab_type": "code",
        "colab": {}
      },
      "source": [
        ""
      ],
      "execution_count": 0,
      "outputs": []
    },
    {
      "cell_type": "markdown",
      "metadata": {
        "id": "y6yg5JtFkDms",
        "colab_type": "text"
      },
      "source": [
        "### Series Temporales"
      ]
    },
    {
      "cell_type": "markdown",
      "metadata": {
        "id": "Zm_4XgUulo4L",
        "colab_type": "text"
      },
      "source": [
        "#### Obtener y exporta en csv los datos asociados a las series mensuales, estacionales y anuales"
      ]
    },
    {
      "cell_type": "code",
      "metadata": {
        "id": "JEX5aZ70kDmw",
        "colab_type": "code",
        "colab": {}
      },
      "source": [
        ""
      ],
      "execution_count": 0,
      "outputs": []
    },
    {
      "cell_type": "markdown",
      "metadata": {
        "id": "Oe23LtIPlqXd",
        "colab_type": "text"
      },
      "source": [
        "#### Dibujar la serie temporal asociada al promedio espacial de los datos mensuales, estacionales y anuales."
      ]
    },
    {
      "cell_type": "code",
      "metadata": {
        "id": "fHumR0nkkj-r",
        "colab_type": "code",
        "colab": {}
      },
      "source": [
        ""
      ],
      "execution_count": 0,
      "outputs": []
    },
    {
      "cell_type": "markdown",
      "metadata": {
        "id": "o2tO0RrNltEg",
        "colab_type": "text"
      },
      "source": [
        "#### Dibujar la distribución espacial de las estaciones, así como los valores promedio y máximo."
      ]
    },
    {
      "cell_type": "code",
      "metadata": {
        "id": "5bzZghJ-kDm8",
        "colab_type": "code",
        "colab": {}
      },
      "source": [
        ""
      ],
      "execution_count": 0,
      "outputs": []
    },
    {
      "cell_type": "markdown",
      "metadata": {
        "id": "dIFGlWIalw6i",
        "colab_type": "text"
      },
      "source": [
        "#### Calcular la frecuencia de días con precipitaciones mayores (>) de 1 mm."
      ]
    },
    {
      "cell_type": "code",
      "metadata": {
        "id": "tZlxUKd1kDnG",
        "colab_type": "code",
        "colab": {}
      },
      "source": [
        ""
      ],
      "execution_count": 0,
      "outputs": []
    }
  ]
}