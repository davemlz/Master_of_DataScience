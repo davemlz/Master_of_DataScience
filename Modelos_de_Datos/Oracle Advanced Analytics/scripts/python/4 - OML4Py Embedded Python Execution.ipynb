{
 "cells": [
  {
   "cell_type": "markdown",
   "metadata": {},
   "source": [
    "# Oracle Machine Learning for Python - Embedded Python Execution\n",
    "Oracle Machine Learning for Python (OML4Py), a component of the Oracle Advanced Analytics option to Oracle Database Enterprise Edition, makes the open source Python scripting language and environment ready for the enterprise and big data. Designed for problems involving both large and small volumes of data, Oracle Machine Learning for Python integrates Python with Oracle Database, allowing users to execute Python commands and scripts for statistical, machine learning, and graphical analyses on database tables and views using Python syntax. Many familiar Python functions are overloaded and translate Python functions into SQL for in-database execution, as well as new automated machine learning capabilities. \n",
    "![title](img/OML4P_icon.jpg)\n",
    "In this notebook, we highlight using OML4Py Embedded Python Execution. We first build a linear model in Python directly, then create a function that will be executed on the database server side. Examples of additional server-side execution are also highlighted. "
   ]
  },
  {
   "cell_type": "markdown",
   "metadata": {},
   "source": [
    "# Connect to Oracle Database\n",
    "To use OML4Py, first import the package ***oml***. OML4Py supports a variety of connection specification options, including Oracle Wallet. Once connected to an Oracle Database that has OML4Py installed, invoking ***oml.isconnected*** returns true. "
   ]
  },
  {
   "cell_type": "code",
   "execution_count": 1,
   "metadata": {},
   "outputs": [
    {
     "data": {
      "text/plain": [
       "True"
      ]
     },
     "execution_count": 1,
     "metadata": {},
     "output_type": "execute_result"
    }
   ],
   "source": [
    "import warnings\n",
    "warnings.filterwarnings('ignore')\n",
    "\n",
    "import oml\n",
    "oml.connect(user=\"pyquser\",password=\"Welcome1#Welcome1#\",dsn='(DESCRIPTION=(ADDRESS=(PROTOCOL=TCP)(HOST=130.61.241.158)(PORT=1521))(CONNECT_DATA=(service_name=pdbx.sub12041412510.bdcevcn.oraclevcn.com)))')\n",
    "oml.isconnected()"
   ]
  },
  {
   "cell_type": "markdown",
   "metadata": {},
   "source": [
    "# Create a Pandas DataFrame and load into Oracle Database\n",
    "In this first example, we load the _iris_ data and combine target and predictors into a single DataFrame, which matches the form the data would have as a database table. We then create the IRIS table and obtaining the OML DataFrame proxy object. "
   ]
  },
  {
   "cell_type": "code",
   "execution_count": 2,
   "metadata": {},
   "outputs": [
    {
     "data": {
      "text/plain": [
       "   SEPAL_LENGTH  SEPAL_WIDTH  PETAL_LENGTH  PETAL_WIDTH Species\n",
       "0           5.1          3.5           1.4          0.2  setosa\n",
       "1           4.9          3.0           1.4          0.2  setosa\n",
       "2           4.7          3.2           1.3          0.2  setosa\n",
       "3           4.6          3.1           1.5          0.2  setosa"
      ]
     },
     "execution_count": 2,
     "metadata": {},
     "output_type": "execute_result"
    }
   ],
   "source": [
    "from sklearn.datasets import load_iris\n",
    "from sklearn import linear_model\n",
    "import pandas as pd\n",
    "\n",
    "iris = load_iris()\n",
    "x = pd.DataFrame(iris.data, \n",
    "                 columns = [\"SEPAL_LENGTH\", \"SEPAL_WIDTH\", \"PETAL_LENGTH\", \"PETAL_WIDTH\"])\n",
    "y = pd.DataFrame(list(map(lambda x: {0:'setosa', 1: 'versicolor', 2:'virginica'}[x], iris.target)), \n",
    "                 columns = ['Species'])\n",
    "iris_df = pd.concat([x,y], axis=1)\n",
    "\n",
    "try:\n",
    "    oml.drop(table=\"IRIS\")\n",
    "except:\n",
    "    pass\n",
    "IRIS = oml.create(iris_df, table=\"IRIS\")\n",
    "IRIS.head(4)"
   ]
  },
  {
   "cell_type": "markdown",
   "metadata": {},
   "source": [
    "# Build and score a linear model from sklearn directly in Python\n",
    "A best practice with embedded Python execution is to validate your Python script, and then your user-defined function before invoking the embedded Python APIs. The next few cells exercise the functionality we want. "
   ]
  },
  {
   "cell_type": "code",
   "execution_count": 3,
   "metadata": {},
   "outputs": [
    {
     "name": "stdout",
     "output_type": "stream",
     "text": [
      "Model: LinearRegression(copy_X=True, fit_intercept=True, n_jobs=None,\n",
      "         normalize=False)\n"
     ]
    }
   ],
   "source": [
    "from sklearn import linear_model\n",
    "lm = linear_model.LinearRegression()\n",
    "X = iris_df[[\"PETAL_WIDTH\"]]\n",
    "y = iris_df[[\"PETAL_LENGTH\"]]\n",
    "mod = lm.fit(X, y)\n",
    "print(\"Model:\",mod)"
   ]
  },
  {
   "cell_type": "code",
   "execution_count": 4,
   "metadata": {
    "scrolled": true
   },
   "outputs": [
    {
     "data": {
      "text/plain": [
       "array([[1.52954613],\n",
       "       [1.52954613],\n",
       "       [1.52954613],\n",
       "       [1.52954613],\n",
       "       [1.52954613],\n",
       "       [1.97553423],\n",
       "       [1.75254018],\n",
       "       [1.52954613],\n",
       "       [1.52954613],\n",
       "       [1.30655208]])"
      ]
     },
     "execution_count": 4,
     "metadata": {},
     "output_type": "execute_result"
    }
   ],
   "source": [
    "pred = mod.predict(iris_df[[\"PETAL_WIDTH\"]])\n",
    "pred[0:10]"
   ]
  },
  {
   "cell_type": "markdown",
   "metadata": {},
   "source": [
    "# Assess model quality using mean squared error and R^2"
   ]
  },
  {
   "cell_type": "code",
   "execution_count": 5,
   "metadata": {},
   "outputs": [
    {
     "name": "stdout",
     "output_type": "stream",
     "text": [
      "Coefficients: \n",
      " [[2.2299405]]\n",
      "Mean squared error: 0.23\n",
      "Variance score (1 is perfect prediction): 0.93\n"
     ]
    }
   ],
   "source": [
    "from sklearn.metrics import mean_squared_error, r2_score\n",
    "\n",
    "print('Coefficients: \\n', mod.coef_)\n",
    "print(\"Mean squared error: %.2f\"\n",
    "      % mean_squared_error(iris_df[[\"PETAL_LENGTH\"]], pred))\n",
    "\n",
    "print('Variance score (1 is perfect prediction): %.2f' % r2_score(iris_df[[\"PETAL_LENGTH\"]], pred))"
   ]
  },
  {
   "cell_type": "code",
   "execution_count": 6,
   "metadata": {},
   "outputs": [
    {
     "data": {
      "image/png": "[encoded data removed]",
      "text/plain": [
       "<Figure size 432x288 with 1 Axes>"
      ]
     },
     "metadata": {},
     "output_type": "display_data"
    }
   ],
   "source": [
    "import matplotlib.pyplot as plt\n",
    "\n",
    "plt.scatter(iris_df.loc[:,\"PETAL_WIDTH\"], iris_df.loc[:,\"PETAL_LENGTH\"])\n",
    "plt.plot(iris_df[[\"PETAL_WIDTH\"]], pred, color='blue', linewidth=3)\n",
    "\n",
    "plt.xticks(()) # Disable ticks\n",
    "plt.yticks(())\n",
    "\n",
    "plt.show()"
   ]
  },
  {
   "cell_type": "markdown",
   "metadata": {},
   "source": [
    "# Build this same model at the database server machine \n",
    "Using embedded Python execution, let's build the same linear model, but on the database server. First, we'll define our function, ***build_lm_1***, that returns the model as the result. We refer to this as a \"user-defined function.\" We'll go further and score the training data and plot the model against the data points. Note that embedded Python execution can return images as well as structured content in the Python API. In the SQL API, as you'll see in another script, you choose between structured data, images, or XML output. \n",
    "\n",
    "We execute this function to ensure it returns what we expect. In this case, both an image and a model. "
   ]
  },
  {
   "cell_type": "code",
   "execution_count": 7,
   "metadata": {},
   "outputs": [],
   "source": [
    "def build_lm_1(dat):\n",
    "    import oml\n",
    "    from sklearn import linear_model\n",
    "    import matplotlib.pyplot as plt\n",
    "\n",
    "    lm = linear_model.LinearRegression()\n",
    "    X = dat[[\"PETAL_WIDTH\"]]\n",
    "    y = dat[[\"PETAL_LENGTH\"]]\n",
    "    mod = lm.fit(X, y)\n",
    "    \n",
    "    pred = mod.predict(dat[[\"PETAL_WIDTH\"]])\n",
    "    plt.scatter(dat.loc[:,\"PETAL_WIDTH\"], dat.loc[:,\"PETAL_LENGTH\"])\n",
    "    plt.plot(dat[[\"PETAL_WIDTH\"]], pred, color='blue', linewidth=3)\n",
    "    plt.xticks(()) # Disable ticks\n",
    "    plt.yticks(())\n",
    "    plt.show()\n",
    "    return mod"
   ]
  },
  {
   "cell_type": "code",
   "execution_count": 8,
   "metadata": {},
   "outputs": [
    {
     "data": {
      "image/png": "[encoded data removed]",
      "text/plain": [
       "<Figure size 432x288 with 1 Axes>"
      ]
     },
     "metadata": {},
     "output_type": "display_data"
    },
    {
     "data": {
      "text/plain": [
       "LinearRegression(copy_X=True, fit_intercept=True, n_jobs=None,\n",
       "         normalize=False)"
      ]
     },
     "execution_count": 8,
     "metadata": {},
     "output_type": "execute_result"
    }
   ],
   "source": [
    "build_lm_1(iris_df)"
   ]
  },
  {
   "cell_type": "markdown",
   "metadata": {},
   "source": [
    "The ***table_apply*** function takes the proxy object IRIS as input data and loads that data to the user-defined function as a pandas DataFrame. The user-defined function is passed as a Python function object. We see that the model comes back as an OML object, which we can pull to the client and see that it's the linear model. We also display the image automatically. "
   ]
  },
  {
   "cell_type": "code",
   "execution_count": 9,
   "metadata": {},
   "outputs": [
    {
     "name": "stdout",
     "output_type": "stream",
     "text": [
      "Type: <class 'oml.embed.object.Object'>\n",
      "Object: "
     ]
    },
    {
     "data": {
      "image/png": "[encoded data removed]",
      "text/plain": [
       "<Figure size 432x288 with 1 Axes>"
      ]
     },
     "metadata": {
      "needs_background": "light"
     },
     "output_type": "display_data"
    },
    {
     "name": "stdout",
     "output_type": "stream",
     "text": [
      "LinearRegression(copy_X=True, fit_intercept=True, n_jobs=None,\n",
      "         normalize=False)\n",
      "\n",
      "Type: <class 'sklearn.linear_model.base.LinearRegression'>\n",
      "Model: LinearRegression(copy_X=True, fit_intercept=True, n_jobs=None,\n",
      "         normalize=False)\n",
      "Coefficient [[2.2299405]]\n"
     ]
    }
   ],
   "source": [
    "mod = oml.table_apply(data=IRIS, func = build_lm_1)\n",
    "print(\"Type:\",type(mod))\n",
    "print(\"Object:\",mod)\n",
    "\n",
    "mod_local = mod.pull()\n",
    "print(\"\\nType:\",type(mod_local))\n",
    "print(\"Model:\",mod_local)\n",
    "print(\"Coefficient\", mod_local.coef_)"
   ]
  },
  {
   "cell_type": "markdown",
   "metadata": {},
   "source": [
    "We can also save user-defined function in the Python script repository and invoke the same table applying function by providing the function name string."
   ]
  },
  {
   "cell_type": "code",
   "execution_count": 10,
   "metadata": {},
   "outputs": [
    {
     "data": {
      "text/html": [
       "<div>\n",
       "<style scoped>\n",
       "    .dataframe tbody tr th:only-of-type {\n",
       "        vertical-align: middle;\n",
       "    }\n",
       "\n",
       "    .dataframe tbody tr th {\n",
       "        vertical-align: top;\n",
       "    }\n",
       "\n",
       "    .dataframe thead th {\n",
       "        text-align: right;\n",
       "    }\n",
       "</style>\n",
       "<table border=\"1\" class=\"dataframe\">\n",
       "  <thead>\n",
       "    <tr style=\"text-align: right;\">\n",
       "      <th></th>\n",
       "      <th>name</th>\n",
       "      <th>script</th>\n",
       "    </tr>\n",
       "  </thead>\n",
       "  <tbody>\n",
       "    <tr>\n",
       "      <th>0</th>\n",
       "      <td>build_lm_1</td>\n",
       "      <td>def build_lm_1(dat):\\n    import oml\\n    from...</td>\n",
       "    </tr>\n",
       "    <tr>\n",
       "      <th>1</th>\n",
       "      <td>pyqFun1</td>\n",
       "      <td>def pyqFun1 ():\\n    import numpy as np\\n    i...</td>\n",
       "    </tr>\n",
       "    <tr>\n",
       "      <th>2</th>\n",
       "      <td>pyqFun2</td>\n",
       "      <td>func = lambda: \"Hello World from a lambda!\"</td>\n",
       "    </tr>\n",
       "    <tr>\n",
       "      <th>3</th>\n",
       "      <td>showenvironment</td>\n",
       "      <td>def return_vars():\\n   import os\\n   print(os....</td>\n",
       "    </tr>\n",
       "    <tr>\n",
       "      <th>4</th>\n",
       "      <td>sk_svc_fit</td>\n",
       "      <td>def fit(data):\\n    import matplotlib.pyplot a...</td>\n",
       "    </tr>\n",
       "    <tr>\n",
       "      <th>5</th>\n",
       "      <td>testfun</td>\n",
       "      <td>def return_hello():\\n   return \"Hello man\"</td>\n",
       "    </tr>\n",
       "  </tbody>\n",
       "</table>\n",
       "</div>"
      ],
      "text/plain": [
       "              name                                             script\n",
       "0       build_lm_1  def build_lm_1(dat):\\n    import oml\\n    from...\n",
       "1          pyqFun1  def pyqFun1 ():\\n    import numpy as np\\n    i...\n",
       "2          pyqFun2        func = lambda: \"Hello World from a lambda!\"\n",
       "3  showenvironment  def return_vars():\\n   import os\\n   print(os....\n",
       "4       sk_svc_fit  def fit(data):\\n    import matplotlib.pyplot a...\n",
       "5          testfun         def return_hello():\\n   return \"Hello man\""
      ]
     },
     "execution_count": 10,
     "metadata": {},
     "output_type": "execute_result"
    }
   ],
   "source": [
    "oml.script.create(\"build_lm_1\", build_lm_1, overwrite = True)\n",
    "oml.script.dir()"
   ]
  },
  {
   "cell_type": "markdown",
   "metadata": {},
   "source": [
    "Notice the value to \"func\". The results are the same. "
   ]
  },
  {
   "cell_type": "code",
   "execution_count": 11,
   "metadata": {},
   "outputs": [
    {
     "name": "stdout",
     "output_type": "stream",
     "text": [
      "Type: <class 'oml.embed.object.Object'>\n",
      "Object: "
     ]
    },
    {
     "data": {
      "image/png": "[encoded data removed]",
      "text/plain": [
       "<Figure size 432x288 with 1 Axes>"
      ]
     },
     "metadata": {
      "needs_background": "light"
     },
     "output_type": "display_data"
    },
    {
     "name": "stdout",
     "output_type": "stream",
     "text": [
      "LinearRegression(copy_X=True, fit_intercept=True, n_jobs=None,\n",
      "         normalize=False)\n",
      "\n",
      "Type: <class 'sklearn.linear_model.base.LinearRegression'>\n",
      "Model: LinearRegression(copy_X=True, fit_intercept=True, n_jobs=None,\n",
      "         normalize=False)\n",
      "Coefficient [[2.2299405]]\n"
     ]
    }
   ],
   "source": [
    "mod = oml.table_apply(data=IRIS, func = 'build_lm_1')\n",
    "\n",
    "print(\"Type:\",type(mod))\n",
    "print(\"Object:\",mod)\n",
    "\n",
    "mod_local = mod.pull()\n",
    "print(\"\\nType:\",type(mod_local))\n",
    "print(\"Model:\",mod_local)\n",
    "print(\"Coefficient\", mod_local.coef_)"
   ]
  },
  {
   "cell_type": "markdown",
   "metadata": {},
   "source": [
    "The ***row_apply*** function can be used to invoke a user-defined function on chunks of rows, which is useful to perform scoring in parallel for native Python models. In this example, the user-defined function ***score_lm_1*** takes a pandas DataFrame and a linear model. The ***row_apply*** invocation takes as arguments the proxy object IRIS, that we want 10 rows scored at a time (resulting in 15 function invocations), the user-defined functions, the linear model object, that we want to have 5 parallel Python engines to process the 15 invocations, and that we want the result to be returned as a single table. \n",
    "\n",
    "For illustrative purposes, you can also use the ***group_apply*** function to partition the data according to one or more columns and score as well, passing the model as an argument. "
   ]
  },
  {
   "cell_type": "code",
   "execution_count": 12,
   "metadata": {},
   "outputs": [
    {
     "data": {
      "text/plain": [
       "  Species  PETAL_LENGTH  PRED_PETAL_LENGTH\n",
       "0  setosa           1.4           1.529546\n",
       "1  setosa           1.4           1.529546\n",
       "2  setosa           1.3           1.529546\n",
       "3  setosa           1.5           1.529546\n",
       "4  setosa           1.4           1.529546"
      ]
     },
     "execution_count": 12,
     "metadata": {},
     "output_type": "execute_result"
    }
   ],
   "source": [
    "def score_lm_1(dat, model):\n",
    "    import pandas as pd\n",
    "    from sklearn import linear_model\n",
    "    pred = model.predict(dat[[\"PETAL_WIDTH\"]])\n",
    "    return pd.concat([dat[['Species', 'PETAL_LENGTH']], \n",
    "                      pd.DataFrame(pred, columns=['PRED_PETAL_LENGTH'])], axis=1)\n",
    "\n",
    "res = oml.row_apply(IRIS, rows=10, func=score_lm_1, model=mod_local, parallel=2,\n",
    "                    func_value=pd.DataFrame([('a', 1, 1)], \n",
    "                                            columns=['Species', 'PETAL_LENGTH', 'PRED_PETAL_LENGTH']))\n",
    "res.head()"
   ]
  },
  {
   "cell_type": "code",
   "execution_count": 13,
   "metadata": {},
   "outputs": [
    {
     "data": {
      "text/plain": [
       "      Species  PETAL_LENGTH  PRED_PETAL_LENGTH\n",
       "0  versicolor           4.7           4.205475\n",
       "1  versicolor           4.1           3.982481\n",
       "2  versicolor           4.9           4.428469\n",
       "3  versicolor           4.0           3.982481\n",
       "4  versicolor           4.6           4.428469"
      ]
     },
     "execution_count": 13,
     "metadata": {},
     "output_type": "execute_result"
    }
   ],
   "source": [
    "res = oml.group_apply(IRIS, index=IRIS[['Species']], func=score_lm_1, model=mod_local, parallel=2,\n",
    "                    func_value=pd.DataFrame([('a', 1, 1)], \n",
    "                                            columns=['Species', 'PETAL_LENGTH', 'PRED_PETAL_LENGTH']))\n",
    "\n",
    "res.head()"
   ]
  },
  {
   "cell_type": "markdown",
   "metadata": {},
   "source": [
    "# Build one model per Species using Group Apply\n",
    "A better use of ***group_apply*** - the ability to automatically split the table data based on values in one or more columns - is for model building. The user-defined function is then invoked on each group. The function ***group_apply*** makes this easy.\n",
    "\n",
    "Here, we build three models, one specific to each species, and return them as a dictionary."
   ]
  },
  {
   "cell_type": "code",
   "execution_count": null,
   "metadata": {},
   "outputs": [],
   "source": [
    "mod = oml.group_apply(IRIS[:,[\"PETAL_LENGTH\",\"PETAL_WIDTH\",\"Species\"]], \n",
    "                      index=oml.DataFrame(IRIS['Species']), \n",
    "                      func=build_lm_1, parallel=2,\n",
    "                      oml_connect = True)\n",
    "print(\"Type:\",type(mod))\n",
    "mod_local = mod.pull()\n",
    "print(\"Type:\",type(mod_local))\n",
    "mod_local"
   ]
  },
  {
   "cell_type": "markdown",
   "metadata": {},
   "source": [
    "Next, change the user-defined function to save each model in a datastore - instead of returning it - and return True instead. The datastore allows storing Python objects in the database under the provided name. The object assumes the name it is assigned in Python, here \"mod_\" and the corresponding Species value. "
   ]
  },
  {
   "cell_type": "code",
   "execution_count": null,
   "metadata": {},
   "outputs": [],
   "source": [
    "def build_lm_2(dat, dsname):\n",
    "    import oml\n",
    "    from sklearn import linear_model\n",
    "    lm = linear_model.LinearRegression()\n",
    "    X = dat[[\"PETAL_WIDTH\"]]\n",
    "    y = dat[[\"PETAL_LENGTH\"]]\n",
    "    lm.fit(X, y)\n",
    "    name = \"mod_\" + dat.loc[dat.index[0],'Species']\n",
    "    oml.ds.save(objs = {name: lm}, name=dsname, \n",
    "                append=True) \n",
    "    return name"
   ]
  },
  {
   "cell_type": "markdown",
   "metadata": {},
   "source": [
    "If the datastore exists, we delete it so that the ***group_apply*** function completes successfully. The ***group_apply*** function takes the data, the index parameter that specifies the column or columns to partition on, the user-defined function, and that we wish to automatically connect to the database from the Python engine.\n",
    "\n",
    "We then print the outcome, which contains a dictionary of three elements each assigned the model object name."
   ]
  },
  {
   "cell_type": "code",
   "execution_count": null,
   "metadata": {
    "scrolled": true
   },
   "outputs": [],
   "source": [
    "try:\n",
    "    oml.ds.delete('ds-1')\n",
    "except:\n",
    "    print(\"Datastore not found\")\n",
    "res = oml.group_apply(IRIS[:,[\"PETAL_LENGTH\",\"PETAL_WIDTH\",\"Species\"]], \n",
    "                      index=oml.DataFrame(IRIS['Species']), \n",
    "                      func=build_lm_2, dsname=\"ds-1\",\n",
    "                      oml_connect = True)\n",
    "print(\"Outcome:\",res)"
   ]
  },
  {
   "cell_type": "markdown",
   "metadata": {},
   "source": [
    "When we load the datastore, we get the three models loaded into the client Python engine, assigned to their respective variables. We can view the model for \"versicolor\". "
   ]
  },
  {
   "cell_type": "code",
   "execution_count": null,
   "metadata": {},
   "outputs": [],
   "source": [
    "print(\"Datastore objects:\",oml.ds.load(\"ds-1\"))\n",
    "print(\"Versicolor model:\",mod_versicolor)"
   ]
  },
  {
   "cell_type": "markdown",
   "metadata": {},
   "source": [
    "Embedded Python execution can also leverage functions from third-party packages. These packages need to be installed on the database server machine, but can then be used inside the user-defined function as shown here using LinearSVC.\n",
    "\n",
    "Again, we create this script in the Python script repository and then invoke it by name using ***table_apply***. We then pull the model to the client and view its type."
   ]
  },
  {
   "cell_type": "code",
   "execution_count": null,
   "metadata": {
    "scrolled": false
   },
   "outputs": [],
   "source": [
    "def fit(data):\n",
    "    import matplotlib.pyplot as plt\n",
    "\n",
    "    from sklearn.svm import LinearSVC\n",
    "    x = data.drop('Species', axis = 1).values\n",
    "    y = data['Species']\n",
    "    mod =  LinearSVC().fit(x, y)\n",
    "    return mod\n",
    "\n",
    "oml.script.create(\"sk_svc_fit\", fit, overwrite = True)\n",
    "oml.script.dir()"
   ]
  },
  {
   "cell_type": "code",
   "execution_count": null,
   "metadata": {
    "scrolled": true
   },
   "outputs": [],
   "source": [
    "mod = oml.table_apply(data=IRIS, \n",
    "                      func = 'sk_svc_fit',\n",
    "                      oml_input_type=\"pandas.DataFrame\")\n",
    "print(\"Type:\",type(mod))\n",
    "mod_local = mod.pull()\n",
    "print(type(mod_local))\n",
    "print('Coefficients: \\n', mod_local.coef_)"
   ]
  },
  {
   "cell_type": "markdown",
   "metadata": {},
   "source": [
    "The model can now be used normally, e.g., to predict outcomes. "
   ]
  },
  {
   "cell_type": "code",
   "execution_count": null,
   "metadata": {},
   "outputs": [],
   "source": [
    "pred = mod_local.predict(iris_df.drop('Species', axis = 1).values)\n",
    "pred2 = pred.reshape((-1,1))\n",
    "pred2[0:10]"
   ]
  },
  {
   "cell_type": "markdown",
   "metadata": {},
   "source": [
    "Let's assess model quality using a confusion matrix computed from the sklearn.metrics function ***confusion_matrix***. "
   ]
  },
  {
   "cell_type": "code",
   "execution_count": null,
   "metadata": {},
   "outputs": [],
   "source": [
    "from sklearn.metrics import confusion_matrix\n",
    "\n",
    "conf_mat = confusion_matrix(iris_df[[\"Species\"]], pred2)\n",
    "conf_mat"
   ]
  },
  {
   "cell_type": "markdown",
   "metadata": {},
   "source": [
    "The ***group_apply*** function can be used for simple or complex computations. For example, here it is used to simply count the number of each species in the data set. "
   ]
  },
  {
   "cell_type": "code",
   "execution_count": null,
   "metadata": {},
   "outputs": [],
   "source": [
    "def group_count(dat):\n",
    "  import pandas as pd\n",
    "  return pd.DataFrame([(dat[\"Species\"][0], dat.shape[0])],\n",
    "                      columns = [\"Species\", \"CNT\"])\n",
    "\n",
    "index = oml.DataFrame(IRIS['Species'])\n",
    "res = oml.group_apply(IRIS, index, func=group_count,\n",
    "                      oml_input_type=\"pandas.DataFrame\",\n",
    "                      func_value=pd.DataFrame([('a', 1)],\n",
    "                                              columns=[\"Species\", \"CNT\"]))\n",
    "res"
   ]
  },
  {
   "cell_type": "markdown",
   "metadata": {},
   "source": [
    "The ***index_apply*** function allows the same function to invoked a specified number of times. The first argument to the user-defined function is an index number for the function execution. For example, if the \"times\" argument is 12, each function  invocation will receive a distinct value between 1 and 10. This can be used, e.g., for selecting behavior within the function or setting a random seed for Monte Carlo analysis. "
   ]
  },
  {
   "cell_type": "code",
   "execution_count": null,
   "metadata": {},
   "outputs": [],
   "source": [
    "def compute_random_mean(index):\n",
    "    import numpy as np\n",
    "    import scipy\n",
    "    from statistics import mean \n",
    "    np.random.seed(index)\n",
    "    res = np.random.random((100,1))*10\n",
    "    return mean(res[1])\n",
    "\n",
    "print(\"Test: \", compute_random_mean(3))\n",
    "\n",
    "res = oml.index_apply(times=12, func=compute_random_mean)\n",
    "res.pull()"
   ]
  },
  {
   "cell_type": "markdown",
   "metadata": {},
   "source": [
    "# Multiple images returned from embedded Python execution\n",
    "Here, we create a function ***RandomRedDots*** that creates a simple DataFrame and generates two plots of random red dots. We create a function in the Python Script Repository named \"RandomRedDots\", and then execute the native Python function. "
   ]
  },
  {
   "cell_type": "code",
   "execution_count": null,
   "metadata": {},
   "outputs": [],
   "source": [
    "def RandomRedDots ():\n",
    "    import numpy as np\n",
    "    import pandas as pd\n",
    "    import matplotlib.pyplot as plt\n",
    "       \n",
    "    d = {'id': range(1,10), 'val': [x/100 for x in range(1,10)]}\n",
    "    df = pd.DataFrame(data=d)\n",
    "    plt.scatter(range(0,100), np.random.rand(100),c='r')\n",
    "    plt.title(\"Random Red Dots\")\n",
    "    plt.show()\n",
    "    plt.scatter(range(0,10), np.random.rand(10),c='r')\n",
    "    plt.title(\"Random Red Dots\")\n",
    "    plt.show()\n",
    "    return df\n",
    "\n",
    "oml.script.create(\"RandomRedDots\", func=RandomRedDots, is_global=True, overwrite=True)\n",
    "\n",
    "RandomRedDots()"
   ]
  },
  {
   "cell_type": "markdown",
   "metadata": {},
   "source": [
    "If we simply invoke the named function, we see that the result is an OML object. Notice that we see only a single image. To ensure we get both plots, we can modify the function in one of two ways as shown next."
   ]
  },
  {
   "cell_type": "code",
   "execution_count": null,
   "metadata": {},
   "outputs": [],
   "source": [
    "res = oml.do_eval(func=\"RandomRedDots\")\n",
    "print(\"Type: \", type(res))\n",
    "\n",
    "res"
   ]
  },
  {
   "cell_type": "markdown",
   "metadata": {},
   "source": [
    "Here, we create separate figure objects, add subplots, and then create the scatter plot. We'll store this in the script repository as \"RandomRedDots2\" and invoke the function to see the results. As expected, we get both plots. \n",
    "\n",
    "Now, when we invoke \"RandomRedDots2\" using embedded Python execution, we get both plots shown in the result. "
   ]
  },
  {
   "cell_type": "code",
   "execution_count": null,
   "metadata": {},
   "outputs": [],
   "source": [
    "def RandomRedDots2 ():\n",
    "    import numpy as np\n",
    "    import pandas as pd\n",
    "    import matplotlib.pyplot as plt  \n",
    "\n",
    "    d = {'id': range(1,10), 'val': [x/100 for x in range(1,10)]}\n",
    "    df = pd.DataFrame(data=d)\n",
    "    fig = plt.figure(1)\n",
    "    ax = fig.add_subplot(111)\n",
    "    ax.scatter(range(0,100), np.random.rand(100),c='r')\n",
    "    fig.suptitle(\"Random Red Dots\")\n",
    "\n",
    "    fig2 = plt.figure(2)\n",
    "    ax2 = fig2.add_subplot(111)\n",
    "    ax2.scatter(range(0,10), np.random.rand(10),c='r')\n",
    "    fig2.suptitle(\"Random Red Dots\")\n",
    "    return df\n",
    "\n",
    "oml.script.create(\"RandomRedDots2\", func=RandomRedDots2, is_global=True, overwrite=True)\n",
    "\n",
    "RandomRedDots2()"
   ]
  },
  {
   "cell_type": "code",
   "execution_count": null,
   "metadata": {},
   "outputs": [],
   "source": [
    "res = oml.do_eval(func=\"RandomRedDots2\")\n",
    "type(res)\n",
    "\n",
    "res"
   ]
  },
  {
   "cell_type": "markdown",
   "metadata": {},
   "source": [
    "Another way to approach this is to create a single plot composed to two subplots. This approach is somewhat simpler, but yields only a single image. Generating two images may be desired when using the SQL API so that each image is returned as a separate row. See the SQL API demo script for an example. "
   ]
  },
  {
   "cell_type": "code",
   "execution_count": null,
   "metadata": {},
   "outputs": [],
   "source": [
    "def RandomRedDots3 ():\n",
    "    import numpy as np\n",
    "    import pandas as pd\n",
    "    import matplotlib.pyplot as plt\n",
    "    import oml  \n",
    "\n",
    "    d = {'id': range(1,10), 'val': [x/100 for x in range(1,10)]}\n",
    "    df = pd.DataFrame(data=d)\n",
    "\n",
    "    plt.subplot(2,1, 1)\n",
    "    plt.scatter(range(0,100), np.random.rand(100),c='r')\n",
    "    plt.title(\"Random Red Dots\")\n",
    "\n",
    "    plt.subplot(2, 1, 2)\n",
    "    plt.scatter(range(0,10), np.random.rand(10),c='r')\n",
    "    plt.title(\"Random Red Dots\")\n",
    "    return df\n",
    "\n",
    "oml.script.create(\"RandomRedDots3\", func=RandomRedDots3, is_global=True, overwrite=True)\n",
    "oml.do_eval(func=\"RandomRedDots3\", oml_connect = True)"
   ]
  },
  {
   "cell_type": "markdown",
   "metadata": {},
   "source": [
    "We can also return only the structured contents as an OML DataFrame, which keeps the result in the database - returning a proxy object to the result. We pull the results to the notebook explicitly to display it locally. "
   ]
  },
  {
   "cell_type": "code",
   "execution_count": null,
   "metadata": {},
   "outputs": [],
   "source": [
    "import pandas as pd\n",
    "res = oml.do_eval(func=RandomRedDots, func_value=pd.DataFrame({\"id\":[0],\"val\":[0]}))\n",
    "type(res)\n",
    "\n",
    "res.pull()"
   ]
  },
  {
   "cell_type": "markdown",
   "metadata": {},
   "source": [
    "Finally, note that a function stored in the Python Script Repository can be loaded back in the Python client engine, we can view its source, and finally invoke the function. "
   ]
  },
  {
   "cell_type": "code",
   "execution_count": null,
   "metadata": {},
   "outputs": [],
   "source": [
    "random_red_dots = oml.script.load('RandomRedDots2')\n",
    "\n",
    "print(random_red_dots.get_source())\n",
    "random_red_dots()"
   ]
  },
  {
   "cell_type": "code",
   "execution_count": 14,
   "metadata": {},
   "outputs": [],
   "source": [
    "oml.disconnect()"
   ]
  },
  {
   "cell_type": "markdown",
   "metadata": {},
   "source": [
    "<img src=\"img/Oracle-sm.jpg\">"
   ]
  }
 ],
 "metadata": {
  "kernelspec": {
   "display_name": "Python 3",
   "language": "python",
   "name": "python3"
  },
  "language_info": {
   "codemirror_mode": {
    "name": "ipython",
    "version": 3
   },
   "file_extension": ".py",
   "mimetype": "text/x-python",
   "name": "python",
   "nbconvert_exporter": "python",
   "pygments_lexer": "ipython3",
   "version": "3.7.4"
  }
 },
 "nbformat": 4,
 "nbformat_minor": 2
}
