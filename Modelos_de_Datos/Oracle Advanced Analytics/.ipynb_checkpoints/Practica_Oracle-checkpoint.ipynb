{
 "cells": [
  {
   "cell_type": "markdown",
   "metadata": {},
   "source": [
    "# Práctica Oracle\n",
    "\n",
    "## David Montero Loaiza"
   ]
  },
  {
   "cell_type": "code",
   "execution_count": null,
   "metadata": {},
   "outputs": [],
   "source": [
    "require(ORE)"
   ]
  },
  {
   "cell_type": "markdown",
   "metadata": {},
   "source": [
    "# 1. Conectar a la base de datos"
   ]
  },
  {
   "cell_type": "code",
   "execution_count": null,
   "metadata": {},
   "outputs": [],
   "source": [
    "ore.connect(user = \"ruser\", host = \"130.61.215.115\",\n",
    "            password = \"ruser\",\n",
    "            service_name = \"pdb1.sub12041412512.bdcevcn.oraclevcn.com\",all=TRUE) "
   ]
  },
  {
   "cell_type": "markdown",
   "metadata": {},
   "source": [
    "# 2. Cargar la tabla ONTIME_S: Datos de compañías de vuelos"
   ]
  },
  {
   "cell_type": "code",
   "execution_count": null,
   "metadata": {},
   "outputs": [],
   "source": [
    "head(ONTIME_S)"
   ]
  },
  {
   "cell_type": "markdown",
   "metadata": {},
   "source": [
    "# 3. Realizar una agregación para calcular el número de vuelos por destino"
   ]
  },
  {
   "cell_type": "code",
   "execution_count": null,
   "metadata": {},
   "outputs": [],
   "source": [
    "vuelosDestino = aggregate(ONTIME_S$DEST,by = list(ONTIME_S$DEST),FUN = length)\n",
    "names(vuelosDestino) = c('Destino','Nvuelos')\n",
    "head(vuelosDestino)"
   ]
  },
  {
   "cell_type": "markdown",
   "metadata": {},
   "source": [
    "# 4. Calcular cuál es la desviación estándar del retraso de llegada de vuelo para cada aerolínea por destino:\n",
    "# Utilizar los campos DEST, ARRDELAY, UNIQUECARRIER"
   ]
  },
  {
   "cell_type": "code",
   "execution_count": null,
   "metadata": {},
   "outputs": [],
   "source": [
    "sdDelay = aggregate(ONTIME_S$ARRDELAY,by = list(ONTIME_S$DEST,ONTIME_S$UNIQUECARRIER),FUN = sd,na.rm = TRUE)\n",
    "names(sdDelay) = c('Destino','Aerolinea','sdDelay')\n",
    "head(sdDelay)"
   ]
  },
  {
   "cell_type": "markdown",
   "metadata": {},
   "source": [
    "# 5. Realizar una regresión linear para calcular el retraso de llegada: Utilizar ore.lm"
   ]
  },
  {
   "cell_type": "code",
   "execution_count": null,
   "metadata": {},
   "outputs": [],
   "source": [
    "lmModel = ore.lm(ARRDELAY ~ DISTANCE + DEPDELAY,ONTIME_S)\n",
    "summary(lmModel)"
   ]
  },
  {
   "cell_type": "markdown",
   "metadata": {},
   "source": [
    "# 6. Construir un modelo linear por destino para predecir el retraso de llegada: Utilizar GroupApply."
   ]
  },
  {
   "cell_type": "code",
   "execution_count": null,
   "metadata": {},
   "outputs": [],
   "source": [
    "lmFunction = function(data){\n",
    "  \n",
    "  lm(ARRDELAY ~ DISTANCE + DEPDELAY,data)\n",
    "  \n",
    "}\n",
    "\n",
    "modelList = ore.groupApply(X = ONTIME_S,INDEX = ONTIME_S$DEST,lmFunction)"
   ]
  },
  {
   "cell_type": "markdown",
   "metadata": {},
   "source": [
    "# 7. Realizar un scoring de retraso de llegada: Utilizar ore.predict o predict"
   ]
  },
  {
   "cell_type": "code",
   "execution_count": null,
   "metadata": {},
   "outputs": [],
   "source": [
    "pred = ore.predict(lmModel, ONTIME_S)"
   ]
  },
  {
   "cell_type": "markdown",
   "metadata": {},
   "source": [
    "# 8. Utilizar representaciones gráficas para demostrar los resultados"
   ]
  },
  {
   "cell_type": "code",
   "execution_count": null,
   "metadata": {},
   "outputs": [],
   "source": [
    "plot(ONTIME_S$ARRDELAY,pred,xlab = \"Ground Truth\",ylab = \"Prediction\",main = \"Arrival Delay Prediction\")"
   ]
  },
  {
   "cell_type": "markdown",
   "metadata": {},
   "source": [
    "# 9. Desplegar el código de regresión linear del punto 6 dentro la base de datos:\n",
    "# Utilizar ore.scriptCreate"
   ]
  },
  {
   "cell_type": "code",
   "execution_count": null,
   "metadata": {},
   "outputs": [],
   "source": [
    "ore.scriptCreate(\"lmModel\",modelList)\n",
    "\n",
    "ore.disconnect()"
   ]
  }
 ],
 "metadata": {
  "kernelspec": {
   "display_name": "R",
   "language": "R",
   "name": "ir"
  },
  "language_info": {
   "codemirror_mode": "r",
   "file_extension": ".r",
   "mimetype": "text/x-r-source",
   "name": "R",
   "pygments_lexer": "r",
   "version": "3.6.1"
  }
 },
 "nbformat": 4,
 "nbformat_minor": 4
}
