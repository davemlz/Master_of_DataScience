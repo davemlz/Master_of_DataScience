{
  "nbformat": 4,
  "nbformat_minor": 0,
  "metadata": {
    "kernelspec": {
      "display_name": "R",
      "language": "R",
      "name": "ir"
    },
    "language_info": {
      "codemirror_mode": "r",
      "file_extension": ".r",
      "mimetype": "text/x-r-source",
      "name": "R",
      "pygments_lexer": "r",
      "version": "3.6.0"
    },
    "colab": {
      "name": "Seleccion_de_variables_y_regularizacion_BC.ipynb",
      "provenance": []
    }
  },
  "cells": [
    {
      "cell_type": "markdown",
      "metadata": {
        "id": "NR8RaoK6e3NC",
        "colab_type": "text"
      },
      "source": [
        "# Selección de variables y regularización\n",
        "\n",
        "## DAVID MONTERO LOAIZA\n",
        "\n",
        "_Santander Meteorology Group (09-01-2020)_\n",
        "\n",
        " * [Introducción](#Introducción)\n",
        " * [Base de datos de ejemplo: Breast cancer](#Base-de-datos:-Breast-cancer)\n",
        " * [Modelo lineal completo](#Modelo-lineal-completo)\n",
        " * [Selección de variables](#Selección-de-variables)\n",
        " * [Regularización](#Regularización)"
      ]
    },
    {
      "cell_type": "markdown",
      "metadata": {
        "id": "6zExmDcIe3NF",
        "colab_type": "text"
      },
      "source": [
        "## Introducción\n",
        "El objetivo principal de un modelo entrenado es que tenga la capacidad de generalizar, es decir, la capacidad de predecir bien nuevos datos que no formen parte de la muestra de entrenamiento (por ejemplo, una muestra de datos de *test*). La relación entre el número de observaciones y el número de variables independientes es clave en la capacidad de generalización de los modelos.\n",
        "\n",
        "Para evitar el sobreajuste en situaciones donde el número de observaciones es del orden, o menor, que el de grados de libertad del sistema y/o donde hay colinealidad, se utilizan (entre otras) técnicas como la selección de variables y la regularización. La primera permite seleccionar de forma objetiva un subconjunto de variables predictoras, mientras que la segunda actúa sobre los parámetros del modelo, impidiendo que tomen valores elevados que harían al modelo muy sensible a diferentes muestras de entrenamiento."
      ]
    },
    {
      "cell_type": "markdown",
      "metadata": {
        "id": "990DToEXe3NH",
        "colab_type": "text"
      },
      "source": [
        "## Base de datos: Breast cancer\n",
        "\n",
        "En este ejemplo trabajaremos con la base de datos [_Breast cancer_ (Diagnostic)](https://www.kaggle.com/uciml/breast-cancer-wisconsin-data), incluida en Kaggle. El objetivo de este conjunto de datos es clasificar a las pacientes en base a si el cáncer de mama que tienen es benigno (`B`) o maligno (`M`). Para ello se utilizan 31 predictores relacionados con las propiedades de las células cancerígenas, que en comparación con el número de observaciones (569) es bajo.\n",
        "\n",
        "Preparamos la base de datos de la siguiente manera:"
      ]
    },
    {
      "cell_type": "code",
      "metadata": {
        "id": "Gf2ALVzBfH2X",
        "colab_type": "code",
        "colab": {}
      },
      "source": [
        "bcURL = \"https://raw.githubusercontent.com/davemlz/Master_of_DataScience/master/Estadistica/Seleccion%20de%20variables%20y%20regularizacion%2010/breastcancer.csv\""
      ],
      "execution_count": 0,
      "outputs": []
    },
    {
      "cell_type": "code",
      "metadata": {
        "id": "1gFEYboVe3NI",
        "colab_type": "code",
        "colab": {
          "base_uri": "https://localhost:8080/",
          "height": 592
        },
        "outputId": "5f3a122a-5bc2-4163-ad5b-70ede7bcefc8"
      },
      "source": [
        "# data <- read.csv(\"../datasets/breastcancer.csv\")\n",
        "data = read.csv(url(bcURL))\n",
        "# Eliminar no predictores (id y última columna vacía)\n",
        "df <- data[, -c(1, ncol(data)-1, ncol(data))]\n",
        "# Convertir el factor diagnosis (B y M) a los valores numéricos 0 y 1, respectivamente.\n",
        "levels(df$diagnosis) <- c(0,1) \n",
        "df$diagnosis <- as.numeric(as.character(df$diagnosis))\n",
        "# Normalizar los datos para evitar problemas de diferente variabilidad\n",
        "df[-1] <- apply(df[-1], MARGIN = 2, scale)\n",
        "rm(data)\n",
        "dim(df)\n",
        "names(df)"
      ],
      "execution_count": 70,
      "outputs": [
        {
          "output_type": "display_data",
          "data": {
            "text/plain": [
              "[1] 569  30"
            ],
            "text/latex": "\\begin{enumerate*}\n\\item 569\n\\item 30\n\\end{enumerate*}\n",
            "text/markdown": "1. 569\n2. 30\n\n\n",
            "text/html": [
              "<ol class=list-inline>\n",
              "\t<li>569</li>\n",
              "\t<li>30</li>\n",
              "</ol>\n"
            ]
          },
          "metadata": {
            "tags": []
          }
        },
        {
          "output_type": "display_data",
          "data": {
            "text/plain": [
              " [1] \"diagnosis\"              \"radius_mean\"            \"texture_mean\"          \n",
              " [4] \"perimeter_mean\"         \"area_mean\"              \"smoothness_mean\"       \n",
              " [7] \"compactness_mean\"       \"concavity_mean\"         \"concave.points_mean\"   \n",
              "[10] \"symmetry_mean\"          \"fractal_dimension_mean\" \"radius_se\"             \n",
              "[13] \"texture_se\"             \"perimeter_se\"           \"area_se\"               \n",
              "[16] \"smoothness_se\"          \"compactness_se\"         \"concavity_se\"          \n",
              "[19] \"concave.points_se\"      \"symmetry_se\"            \"fractal_dimension_se\"  \n",
              "[22] \"radius_worst\"           \"texture_worst\"          \"perimeter_worst\"       \n",
              "[25] \"area_worst\"             \"smoothness_worst\"       \"compactness_worst\"     \n",
              "[28] \"concavity_worst\"        \"concave.points_worst\"   \"symmetry_worst\"        "
            ],
            "text/latex": "\\begin{enumerate*}\n\\item 'diagnosis'\n\\item 'radius\\_mean'\n\\item 'texture\\_mean'\n\\item 'perimeter\\_mean'\n\\item 'area\\_mean'\n\\item 'smoothness\\_mean'\n\\item 'compactness\\_mean'\n\\item 'concavity\\_mean'\n\\item 'concave.points\\_mean'\n\\item 'symmetry\\_mean'\n\\item 'fractal\\_dimension\\_mean'\n\\item 'radius\\_se'\n\\item 'texture\\_se'\n\\item 'perimeter\\_se'\n\\item 'area\\_se'\n\\item 'smoothness\\_se'\n\\item 'compactness\\_se'\n\\item 'concavity\\_se'\n\\item 'concave.points\\_se'\n\\item 'symmetry\\_se'\n\\item 'fractal\\_dimension\\_se'\n\\item 'radius\\_worst'\n\\item 'texture\\_worst'\n\\item 'perimeter\\_worst'\n\\item 'area\\_worst'\n\\item 'smoothness\\_worst'\n\\item 'compactness\\_worst'\n\\item 'concavity\\_worst'\n\\item 'concave.points\\_worst'\n\\item 'symmetry\\_worst'\n\\end{enumerate*}\n",
            "text/markdown": "1. 'diagnosis'\n2. 'radius_mean'\n3. 'texture_mean'\n4. 'perimeter_mean'\n5. 'area_mean'\n6. 'smoothness_mean'\n7. 'compactness_mean'\n8. 'concavity_mean'\n9. 'concave.points_mean'\n10. 'symmetry_mean'\n11. 'fractal_dimension_mean'\n12. 'radius_se'\n13. 'texture_se'\n14. 'perimeter_se'\n15. 'area_se'\n16. 'smoothness_se'\n17. 'compactness_se'\n18. 'concavity_se'\n19. 'concave.points_se'\n20. 'symmetry_se'\n21. 'fractal_dimension_se'\n22. 'radius_worst'\n23. 'texture_worst'\n24. 'perimeter_worst'\n25. 'area_worst'\n26. 'smoothness_worst'\n27. 'compactness_worst'\n28. 'concavity_worst'\n29. 'concave.points_worst'\n30. 'symmetry_worst'\n\n\n",
            "text/html": [
              "<ol class=list-inline>\n",
              "\t<li>'diagnosis'</li>\n",
              "\t<li>'radius_mean'</li>\n",
              "\t<li>'texture_mean'</li>\n",
              "\t<li>'perimeter_mean'</li>\n",
              "\t<li>'area_mean'</li>\n",
              "\t<li>'smoothness_mean'</li>\n",
              "\t<li>'compactness_mean'</li>\n",
              "\t<li>'concavity_mean'</li>\n",
              "\t<li>'concave.points_mean'</li>\n",
              "\t<li>'symmetry_mean'</li>\n",
              "\t<li>'fractal_dimension_mean'</li>\n",
              "\t<li>'radius_se'</li>\n",
              "\t<li>'texture_se'</li>\n",
              "\t<li>'perimeter_se'</li>\n",
              "\t<li>'area_se'</li>\n",
              "\t<li>'smoothness_se'</li>\n",
              "\t<li>'compactness_se'</li>\n",
              "\t<li>'concavity_se'</li>\n",
              "\t<li>'concave.points_se'</li>\n",
              "\t<li>'symmetry_se'</li>\n",
              "\t<li>'fractal_dimension_se'</li>\n",
              "\t<li>'radius_worst'</li>\n",
              "\t<li>'texture_worst'</li>\n",
              "\t<li>'perimeter_worst'</li>\n",
              "\t<li>'area_worst'</li>\n",
              "\t<li>'smoothness_worst'</li>\n",
              "\t<li>'compactness_worst'</li>\n",
              "\t<li>'concavity_worst'</li>\n",
              "\t<li>'concave.points_worst'</li>\n",
              "\t<li>'symmetry_worst'</li>\n",
              "</ol>\n"
            ]
          },
          "metadata": {
            "tags": []
          }
        }
      ]
    },
    {
      "cell_type": "code",
      "metadata": {
        "scrolled": false,
        "id": "tKDDcmpUe3NN",
        "colab_type": "code",
        "colab": {
          "base_uri": "https://localhost:8080/",
          "height": 436
        },
        "outputId": "e2a28fe1-23f3-4e5f-82ac-eb0f669368fa"
      },
      "source": [
        "library(lattice) # levelplot\n",
        "cor.matrix <- abs(cor(df))\n",
        "levelplot(cor.matrix, at = seq(0, 1, 0.1), col.regions = rev(grey.colors(10)),\n",
        "          scale = list(x = list(rot = 90)))"
      ],
      "execution_count": 3,
      "outputs": [
        {
          "output_type": "display_data",
          "data": {
            "image/png": "[encoded data removed]",
            "text/plain": [
              "plot without title"
            ]
          },
          "metadata": {
            "tags": [],
            "image/png": {
              "width": 420,
              "height": 420
            },
            "text/plain": {
              "width": 420,
              "height": 420
            }
          }
        }
      ]
    },
    {
      "cell_type": "markdown",
      "metadata": {
        "id": "Vm3kvWuxe3NQ",
        "colab_type": "text"
      },
      "source": [
        "## Modelo lineal completo"
      ]
    },
    {
      "cell_type": "code",
      "metadata": {
        "id": "VcORsQ6Ie3NR",
        "colab_type": "code",
        "colab": {
          "base_uri": "https://localhost:8080/",
          "height": 1000
        },
        "outputId": "507c726e-f09f-477b-a809-de0f0a80df06"
      },
      "source": [
        "install.packages(\"verification\")\n",
        "install.packages(\"caret\")\n",
        "install.packages(\"e1071\")\n",
        "library(verification, quietly = TRUE) # roc.area\n",
        "library(caret, quietly = TRUE) # confusionMatrix"
      ],
      "execution_count": 5,
      "outputs": [
        {
          "output_type": "stream",
          "text": [
            "Installing package into ‘/usr/local/lib/R/site-library’\n",
            "(as ‘lib’ is unspecified)\n",
            "\n",
            "also installing the dependencies ‘dotCall64’, ‘spam’, ‘maps’, ‘proxy’, ‘fields’, ‘CircStats’, ‘dtw’\n",
            "\n",
            "\n",
            "Installing package into ‘/usr/local/lib/R/site-library’\n",
            "(as ‘lib’ is unspecified)\n",
            "\n",
            "also installing the dependencies ‘numDeriv’, ‘SQUAREM’, ‘lava’, ‘prodlim’, ‘iterators’, ‘data.table’, ‘gower’, ‘ipred’, ‘timeDate’, ‘foreach’, ‘ModelMetrics’, ‘recipes’, ‘pROC’\n",
            "\n",
            "\n",
            "Installing package into ‘/usr/local/lib/R/site-library’\n",
            "(as ‘lib’ is unspecified)\n",
            "\n",
            "Spam version 2.5-1 (2019-12-12) is loaded.\n",
            "Type 'help( Spam)' or 'demo( spam)' for a short introduction \n",
            "and overview of this package.\n",
            "Help for individual functions is also obtained by adding the\n",
            "suffix '.spam' to the function name, e.g. 'help( chol.spam)'.\n",
            "\n",
            "\n",
            "Attaching package: ‘spam’\n",
            "\n",
            "\n",
            "The following objects are masked from ‘package:base’:\n",
            "\n",
            "    backsolve, forwardsolve\n",
            "\n",
            "\n",
            "See https://github.com/NCAR/Fields for\n",
            " an extensive vignette, other supplements and source code \n",
            "\n",
            "\n",
            "Attaching package: ‘boot’\n",
            "\n",
            "\n",
            "The following object is masked from ‘package:lattice’:\n",
            "\n",
            "    melanoma\n",
            "\n",
            "\n",
            "\n",
            "Attaching package: ‘proxy’\n",
            "\n",
            "\n",
            "The following object is masked from ‘package:spam’:\n",
            "\n",
            "    as.matrix\n",
            "\n",
            "\n",
            "The following objects are masked from ‘package:stats’:\n",
            "\n",
            "    as.dist, dist\n",
            "\n",
            "\n",
            "The following object is masked from ‘package:base’:\n",
            "\n",
            "    as.matrix\n",
            "\n",
            "\n",
            "Loaded dtw v1.21-3. See ?dtw for help, citation(\"dtw\") for use in publication.\n",
            "\n",
            "\n",
            "Registered S3 method overwritten by 'pROC':\n",
            "  method    from        \n",
            "  lines.roc verification\n",
            "\n"
          ],
          "name": "stderr"
        }
      ]
    },
    {
      "cell_type": "markdown",
      "metadata": {
        "id": "QbZuJeFne3NV",
        "colab_type": "text"
      },
      "source": [
        "Ahora construimos el modelo lineal mediante la función glm. Como la variable respuesta sigue una distribución de Bernouilli lo más apropiado es realizar una regresión logística."
      ]
    },
    {
      "cell_type": "code",
      "metadata": {
        "id": "B8Q3NjH0e3NX",
        "colab_type": "code",
        "colab": {
          "base_uri": "https://localhost:8080/",
          "height": 52
        },
        "outputId": "9b544437-2c3e-458e-fb84-6eec85c55bc1"
      },
      "source": [
        "model <- glm(diagnosis ~ ., data = df, family = \"binomial\")\n",
        "pred  <- predict(model,df[-1], type = \"response\")"
      ],
      "execution_count": 6,
      "outputs": [
        {
          "output_type": "stream",
          "text": [
            "Warning message:\n",
            "“glm.fit: fitted probabilities numerically 0 or 1 occurred”\n"
          ],
          "name": "stderr"
        }
      ]
    },
    {
      "cell_type": "markdown",
      "metadata": {
        "id": "a1OWTNT5e3NZ",
        "colab_type": "text"
      },
      "source": [
        "Para comprobar la validez de nuestro modelo en la clasificación del cáncer de mama, utilizaremos el índice Área bajo la curva ROC (AUC, por sus siglas en inglés) disponible en la librería `verification` (cargada previamente)."
      ]
    },
    {
      "cell_type": "code",
      "metadata": {
        "id": "JZCQz3Eye3Na",
        "colab_type": "code",
        "colab": {
          "base_uri": "https://localhost:8080/",
          "height": 436
        },
        "outputId": "5b9391cb-5a96-4b9c-aa8c-1f0201300d05"
      },
      "source": [
        "roc.plot(df$diagnosis,pred,\n",
        "  main=sprintf(\"Curva ROC (AUC=%g)\", roc.area(obs = df$diagnosis,pred)$A)\n",
        ")"
      ],
      "execution_count": 7,
      "outputs": [
        {
          "output_type": "display_data",
          "data": {
            "image/png": "[encoded data removed]",
            "text/plain": [
              "Plot with title “Curva ROC (AUC=0.999511)”"
            ]
          },
          "metadata": {
            "tags": [],
            "image/png": {
              "width": 420,
              "height": 420
            },
            "text/plain": {
              "width": 420,
              "height": 420
            }
          }
        }
      ]
    },
    {
      "cell_type": "markdown",
      "metadata": {
        "id": "cHETNmmPe3Nc",
        "colab_type": "text"
      },
      "source": [
        "**TAREA 1:** Estudiar la capacidad de generalización del modelo completo mediante una validacion cruzada de tipo *hold out*, es decir, utilizando una parte de los datos para entrenar el modelo y reservando otra para probarlo."
      ]
    },
    {
      "cell_type": "code",
      "metadata": {
        "id": "rVeNR1_ge3Nd",
        "colab_type": "code",
        "colab": {}
      },
      "source": [
        "trainIdx = createDataPartition(df$diagnosis, p = .6, list = FALSE)\n",
        " \n",
        "trainData = df[trainIdx,]\n",
        "testData = df[-trainIdx,]"
      ],
      "execution_count": 0,
      "outputs": []
    },
    {
      "cell_type": "code",
      "metadata": {
        "id": "Q2ufKV5aiCqK",
        "colab_type": "code",
        "colab": {
          "base_uri": "https://localhost:8080/",
          "height": 87
        },
        "outputId": "2871e563-1896-4b8f-aa32-196c2cc231c2"
      },
      "source": [
        "trainModel = glm(diagnosis ~ ., data = trainData, family = \"binomial\")"
      ],
      "execution_count": 108,
      "outputs": [
        {
          "output_type": "stream",
          "text": [
            "Warning message:\n",
            "“glm.fit: algorithm did not converge”\n",
            "Warning message:\n",
            "“glm.fit: fitted probabilities numerically 0 or 1 occurred”\n"
          ],
          "name": "stderr"
        }
      ]
    },
    {
      "cell_type": "code",
      "metadata": {
        "id": "EUWM4RwfiMcm",
        "colab_type": "code",
        "colab": {}
      },
      "source": [
        "trainPred = predict(trainModel,trainData, type = \"response\")\n",
        "testPred = predict(trainModel,testData, type = \"response\")"
      ],
      "execution_count": 0,
      "outputs": []
    },
    {
      "cell_type": "code",
      "metadata": {
        "id": "gschOXFNjNkj",
        "colab_type": "code",
        "colab": {
          "base_uri": "https://localhost:8080/",
          "height": 496
        },
        "outputId": "f4a50709-3cdb-4438-852e-d5da4b2765cf"
      },
      "source": [
        "confusionMatrix(as.factor(round(trainPred)),as.factor(trainData$diagnosis))"
      ],
      "execution_count": 110,
      "outputs": [
        {
          "output_type": "display_data",
          "data": {
            "text/plain": [
              "Confusion Matrix and Statistics\n",
              "\n",
              "          Reference\n",
              "Prediction   0   1\n",
              "         0 208   0\n",
              "         1   0 134\n",
              "                                     \n",
              "               Accuracy : 1          \n",
              "                 95% CI : (0.9893, 1)\n",
              "    No Information Rate : 0.6082     \n",
              "    P-Value [Acc > NIR] : < 2.2e-16  \n",
              "                                     \n",
              "                  Kappa : 1          \n",
              "                                     \n",
              " Mcnemar's Test P-Value : NA         \n",
              "                                     \n",
              "            Sensitivity : 1.0000     \n",
              "            Specificity : 1.0000     \n",
              "         Pos Pred Value : 1.0000     \n",
              "         Neg Pred Value : 1.0000     \n",
              "             Prevalence : 0.6082     \n",
              "         Detection Rate : 0.6082     \n",
              "   Detection Prevalence : 0.6082     \n",
              "      Balanced Accuracy : 1.0000     \n",
              "                                     \n",
              "       'Positive' Class : 0          \n",
              "                                     "
            ]
          },
          "metadata": {
            "tags": []
          }
        }
      ]
    },
    {
      "cell_type": "code",
      "metadata": {
        "id": "iqzTPGrHxudo",
        "colab_type": "code",
        "colab": {
          "base_uri": "https://localhost:8080/",
          "height": 496
        },
        "outputId": "126374a5-d93e-4a11-b452-7ff273a2dffa"
      },
      "source": [
        "confusionMatrix(as.factor(round(testPred)),as.factor(testData$diagnosis))"
      ],
      "execution_count": 111,
      "outputs": [
        {
          "output_type": "display_data",
          "data": {
            "text/plain": [
              "Confusion Matrix and Statistics\n",
              "\n",
              "          Reference\n",
              "Prediction   0   1\n",
              "         0 145   5\n",
              "         1   4  73\n",
              "                                          \n",
              "               Accuracy : 0.9604          \n",
              "                 95% CI : (0.9261, 0.9817)\n",
              "    No Information Rate : 0.6564          \n",
              "    P-Value [Acc > NIR] : <2e-16          \n",
              "                                          \n",
              "                  Kappa : 0.9118          \n",
              "                                          \n",
              " Mcnemar's Test P-Value : 1               \n",
              "                                          \n",
              "            Sensitivity : 0.9732          \n",
              "            Specificity : 0.9359          \n",
              "         Pos Pred Value : 0.9667          \n",
              "         Neg Pred Value : 0.9481          \n",
              "             Prevalence : 0.6564          \n",
              "         Detection Rate : 0.6388          \n",
              "   Detection Prevalence : 0.6608          \n",
              "      Balanced Accuracy : 0.9545          \n",
              "                                          \n",
              "       'Positive' Class : 0               \n",
              "                                          "
            ]
          },
          "metadata": {
            "tags": []
          }
        }
      ]
    },
    {
      "cell_type": "markdown",
      "metadata": {
        "id": "7i17R8MIe3Nf",
        "colab_type": "text"
      },
      "source": [
        "En este caso, el accuracy de el dataset de train es 1, claramente muestra un sobreajuste, aunque el accuracy del dataset de test sea alto."
      ]
    },
    {
      "cell_type": "markdown",
      "metadata": {
        "id": "frJqERxWe3Nf",
        "colab_type": "text"
      },
      "source": [
        "## Selección de variables\n",
        "\n"
      ]
    },
    {
      "cell_type": "markdown",
      "metadata": {
        "id": "5E77VDiQe3Ng",
        "colab_type": "text"
      },
      "source": [
        "### Selección del mejor subconjunto"
      ]
    },
    {
      "cell_type": "markdown",
      "metadata": {
        "id": "lJFHs9tNe3Nh",
        "colab_type": "text"
      },
      "source": [
        "La función `regsubsets` (`?regsubsets`) de la librería `leaps` nos permite realizar la selección del mejor subconjunto con un número dado de predictores. La sintaxis es similar a la usada para el modelo lineal (`lm`) y, del mismo modo, el comando `summary` nos permite explorar los resultados. Utilizamos el argumento `nvmax` para forzar la utilización de todas las variables (30), ya que por defecto la función regsubsets solo utiliza las 8 primeras."
      ]
    },
    {
      "cell_type": "code",
      "metadata": {
        "id": "GBnBFlXue3Nh",
        "colab_type": "code",
        "colab": {
          "base_uri": "https://localhost:8080/",
          "height": 231
        },
        "outputId": "a7c38f39-ac1b-4874-c69f-e4aeaea56e25"
      },
      "source": [
        "install.packages('leaps')\n",
        "library(leaps)\n",
        "regfit.full <- regsubsets(diagnosis ~., df, nvmax = 30)\n",
        "full.summary <- summary(regfit.full)\n",
        "names(full.summary)"
      ],
      "execution_count": 33,
      "outputs": [
        {
          "output_type": "stream",
          "text": [
            "Installing package into ‘/usr/local/lib/R/site-library’\n",
            "(as ‘lib’ is unspecified)\n",
            "\n"
          ],
          "name": "stderr"
        },
        {
          "output_type": "display_data",
          "data": {
            "text/plain": [
              "[1] \"which\"  \"rsq\"    \"rss\"    \"adjr2\"  \"cp\"     \"bic\"    \"outmat\" \"obj\"   "
            ],
            "text/latex": "\\begin{enumerate*}\n\\item 'which'\n\\item 'rsq'\n\\item 'rss'\n\\item 'adjr2'\n\\item 'cp'\n\\item 'bic'\n\\item 'outmat'\n\\item 'obj'\n\\end{enumerate*}\n",
            "text/markdown": "1. 'which'\n2. 'rsq'\n3. 'rss'\n4. 'adjr2'\n5. 'cp'\n6. 'bic'\n7. 'outmat'\n8. 'obj'\n\n\n",
            "text/html": [
              "<ol class=list-inline>\n",
              "\t<li>'which'</li>\n",
              "\t<li>'rsq'</li>\n",
              "\t<li>'rss'</li>\n",
              "\t<li>'adjr2'</li>\n",
              "\t<li>'cp'</li>\n",
              "\t<li>'bic'</li>\n",
              "\t<li>'outmat'</li>\n",
              "\t<li>'obj'</li>\n",
              "</ol>\n"
            ]
          },
          "metadata": {
            "tags": []
          }
        }
      ]
    },
    {
      "cell_type": "markdown",
      "metadata": {
        "id": "i_RHBiS6e3Nj",
        "colab_type": "text"
      },
      "source": [
        "La función `summary` devuelve medidas del ajuste que se pueden usar para seleccionar el mejor modelo. En particular, si revisamos los valores del ajuste, en este caso rsq, se observa que el estadístico va mejorando a medida que aumentamos el número de variables en el modelo. Sin embargo, si nos fijamos en el estadístico BIC (*Bayesian information criterion*), que penaliza la complejidad del modelo, se observa que los valores óptimos se encuentran considerando 11 variables."
      ]
    },
    {
      "cell_type": "code",
      "metadata": {
        "id": "aW0WbeiVe3Nk",
        "colab_type": "code",
        "colab": {
          "base_uri": "https://localhost:8080/",
          "height": 436
        },
        "outputId": "5102d5ec-7d34-4bf7-94a5-178369e7d47c"
      },
      "source": [
        "par(mfrow=c(2,1), mar=c(4,4,1,1))\n",
        "plot(full.summary$rsq,xlab=\"Number of Variables\",ylab=\"RSq\", type=\"l\")\n",
        "plot(full.summary$bic,xlab=\"Number of Variables\",ylab=\"BIC\", type=\"l\")"
      ],
      "execution_count": 34,
      "outputs": [
        {
          "output_type": "display_data",
          "data": {
            "image/png": "[encoded data removed]",
            "text/plain": [
              "plot without title"
            ]
          },
          "metadata": {
            "tags": [],
            "image/png": {
              "width": 420,
              "height": 420
            },
            "text/plain": {
              "width": 420,
              "height": 420
            }
          }
        }
      ]
    },
    {
      "cell_type": "code",
      "metadata": {
        "id": "nROW5UDpe3Nn",
        "colab_type": "code",
        "colab": {
          "base_uri": "https://localhost:8080/",
          "height": 33
        },
        "outputId": "e24c4481-b083-4085-e5e3-74cd014e0e8a"
      },
      "source": [
        "which.min(full.summary$bic)"
      ],
      "execution_count": 35,
      "outputs": [
        {
          "output_type": "display_data",
          "data": {
            "text/plain": [
              "[1] 11"
            ],
            "text/latex": "11",
            "text/markdown": "11",
            "text/html": [
              "11"
            ]
          },
          "metadata": {
            "tags": []
          }
        }
      ]
    },
    {
      "cell_type": "markdown",
      "metadata": {
        "id": "VtSWbl7de3Np",
        "colab_type": "text"
      },
      "source": [
        "La propia función `regsubsets` incorpora un método para dibujar los resultados clasificados según los diferentes estadísticos (`? plot.regsubsets`)"
      ]
    },
    {
      "cell_type": "code",
      "metadata": {
        "id": "mEi-HhUQe3Nq",
        "colab_type": "code",
        "colab": {
          "base_uri": "https://localhost:8080/",
          "height": 856
        },
        "outputId": "f87fd155-69b4-4b5e-8a51-afaff35036b6"
      },
      "source": [
        "plot(regfit.full, scale =\"r2\")\n",
        "plot(regfit.full, scale =\"bic\")"
      ],
      "execution_count": 36,
      "outputs": [
        {
          "output_type": "display_data",
          "data": {
            "image/png": "[encoded data removed]",
            "text/plain": [
              "plot without title"
            ]
          },
          "metadata": {
            "tags": [],
            "image/png": {
              "width": 420,
              "height": 420
            },
            "text/plain": {
              "width": 420,
              "height": 420
            }
          }
        },
        {
          "output_type": "display_data",
          "data": {
            "image/png": "[encoded data removed]",
            "text/plain": [
              "plot without title"
            ]
          },
          "metadata": {
            "tags": [],
            "image/png": {
              "width": 420,
              "height": 420
            },
            "text/plain": {
              "width": 420,
              "height": 420
            }
          }
        }
      ]
    },
    {
      "cell_type": "markdown",
      "metadata": {
        "id": "67qEfnlte3Ns",
        "colab_type": "text"
      },
      "source": [
        "Cada fila de este gráfico representa el mejor modelo ajustado para un número dado de variables. Cada cuadrado de color representa que la variable entra en ese modelo, mientras que la intensidad del color se asocia con la escala del eje Y. Si, una vez localizado el modelo óptimo (en nuestro caso, el de 11 variables), queremos conocer los coeficientes del modelo, podemos usar la función `coef` con un segundo argumento:"
      ]
    },
    {
      "cell_type": "code",
      "metadata": {
        "id": "p16SKIXXe3Nt",
        "colab_type": "code",
        "colab": {
          "base_uri": "https://localhost:8080/",
          "height": 444
        },
        "outputId": "28b80860-27a1-43b7-abe5-4b21f6cf3f68"
      },
      "source": [
        "coef(regfit.full, 11)"
      ],
      "execution_count": 37,
      "outputs": [
        {
          "output_type": "display_data",
          "data": {
            "text/plain": [
              "        (Intercept)         radius_mean    compactness_mean concave.points_mean \n",
              "         1.37258348         -0.17840169         -0.12933228          0.19664469 \n",
              "          radius_se       smoothness_se        concavity_se        radius_worst \n",
              "         0.05803878          0.06566972         -0.06679611          0.87351926 \n",
              "      texture_worst          area_worst     concavity_worst      symmetry_worst \n",
              "         0.06189087         -0.56390219          0.15446712          0.04610665 "
            ],
            "text/latex": "\\begin{description*}\n\\item[(Intercept)] 1.3725834797891\n\\item[radius\\textbackslash{}\\_mean] -0.178401686224909\n\\item[compactness\\textbackslash{}\\_mean] -0.129332282502151\n\\item[concave.points\\textbackslash{}\\_mean] 0.196644687579811\n\\item[radius\\textbackslash{}\\_se] 0.0580387760431721\n\\item[smoothness\\textbackslash{}\\_se] 0.0656697156808537\n\\item[concavity\\textbackslash{}\\_se] -0.0667961085058054\n\\item[radius\\textbackslash{}\\_worst] 0.873519264685116\n\\item[texture\\textbackslash{}\\_worst] 0.0618908682342931\n\\item[area\\textbackslash{}\\_worst] -0.563902190729372\n\\item[concavity\\textbackslash{}\\_worst] 0.154467115714465\n\\item[symmetry\\textbackslash{}\\_worst] 0.0461066464355362\n\\end{description*}\n",
            "text/markdown": "(Intercept)\n:   1.3725834797891radius_mean\n:   -0.178401686224909compactness_mean\n:   -0.129332282502151concave.points_mean\n:   0.196644687579811radius_se\n:   0.0580387760431721smoothness_se\n:   0.0656697156808537concavity_se\n:   -0.0667961085058054radius_worst\n:   0.873519264685116texture_worst\n:   0.0618908682342931area_worst\n:   -0.563902190729372concavity_worst\n:   0.154467115714465symmetry_worst\n:   0.0461066464355362\n\n",
            "text/html": [
              "<dl class=dl-horizontal>\n",
              "\t<dt>(Intercept)</dt>\n",
              "\t\t<dd>1.3725834797891</dd>\n",
              "\t<dt>radius_mean</dt>\n",
              "\t\t<dd>-0.178401686224909</dd>\n",
              "\t<dt>compactness_mean</dt>\n",
              "\t\t<dd>-0.129332282502151</dd>\n",
              "\t<dt>concave.points_mean</dt>\n",
              "\t\t<dd>0.196644687579811</dd>\n",
              "\t<dt>radius_se</dt>\n",
              "\t\t<dd>0.0580387760431721</dd>\n",
              "\t<dt>smoothness_se</dt>\n",
              "\t\t<dd>0.0656697156808537</dd>\n",
              "\t<dt>concavity_se</dt>\n",
              "\t\t<dd>-0.0667961085058054</dd>\n",
              "\t<dt>radius_worst</dt>\n",
              "\t\t<dd>0.873519264685116</dd>\n",
              "\t<dt>texture_worst</dt>\n",
              "\t\t<dd>0.0618908682342931</dd>\n",
              "\t<dt>area_worst</dt>\n",
              "\t\t<dd>-0.563902190729372</dd>\n",
              "\t<dt>concavity_worst</dt>\n",
              "\t\t<dd>0.154467115714465</dd>\n",
              "\t<dt>symmetry_worst</dt>\n",
              "\t\t<dd>0.0461066464355362</dd>\n",
              "</dl>\n"
            ]
          },
          "metadata": {
            "tags": []
          }
        }
      ]
    },
    {
      "cell_type": "markdown",
      "metadata": {
        "id": "z2JlppkCe3Nw",
        "colab_type": "text"
      },
      "source": [
        "### Selección stepwise\n",
        "Con un leve cambio en los argumentos de la función podemos realizar la selección stepwise, ya sea “forward” o “backward”:"
      ]
    },
    {
      "cell_type": "code",
      "metadata": {
        "id": "nuKIA6XNe3Nw",
        "colab_type": "code",
        "colab": {}
      },
      "source": [
        "regfit.fwd <- regsubsets(diagnosis~., data = df, nvmax = 30 , method =\"forward\")\n",
        "fwd.summary <- summary(regfit.fwd)"
      ],
      "execution_count": 0,
      "outputs": []
    },
    {
      "cell_type": "markdown",
      "metadata": {
        "id": "Drsrx3k0e3Ny",
        "colab_type": "text"
      },
      "source": [
        "**TAREA 2:** Estudiar los predictores seleccionados en este caso. ¿cuál es su múmero óptimo? ¿coinciden con los anteriores?"
      ]
    },
    {
      "cell_type": "code",
      "metadata": {
        "id": "1HEe2tadkt3h",
        "colab_type": "code",
        "colab": {
          "base_uri": "https://localhost:8080/",
          "height": 436
        },
        "outputId": "604e704f-fdbd-4a55-bf33-81c98073d5dd"
      },
      "source": [
        "par(mfrow=c(2,1), mar=c(4,4,1,1))\n",
        "plot(fwd.summary$rsq,xlab=\"Number of Variables\",ylab=\"RSq\", type=\"l\")\n",
        "plot(fwd.summary$bic,xlab=\"Number of Variables\",ylab=\"BIC\", type=\"l\")"
      ],
      "execution_count": 39,
      "outputs": [
        {
          "output_type": "display_data",
          "data": {
            "image/png": "[encoded data removed]",
            "text/plain": [
              "plot without title"
            ]
          },
          "metadata": {
            "tags": [],
            "image/png": {
              "width": 420,
              "height": 420
            },
            "text/plain": {
              "width": 420,
              "height": 420
            }
          }
        }
      ]
    },
    {
      "cell_type": "code",
      "metadata": {
        "id": "2zGR9noIk0Ms",
        "colab_type": "code",
        "colab": {
          "base_uri": "https://localhost:8080/",
          "height": 33
        },
        "outputId": "ecf0960d-b0ec-401f-b325-da8168a91743"
      },
      "source": [
        "min.fwd = which.min(fwd.summary$bic)\n",
        "min.fwd"
      ],
      "execution_count": 43,
      "outputs": [
        {
          "output_type": "display_data",
          "data": {
            "text/plain": [
              "[1] 13"
            ],
            "text/latex": "13",
            "text/markdown": "13",
            "text/html": [
              "13"
            ]
          },
          "metadata": {
            "tags": []
          }
        }
      ]
    },
    {
      "cell_type": "code",
      "metadata": {
        "id": "JFc7Ztbvk7Hi",
        "colab_type": "code",
        "colab": {
          "base_uri": "https://localhost:8080/",
          "height": 856
        },
        "outputId": "65508504-03d1-40a7-a967-f66762b5e857"
      },
      "source": [
        "plot(regfit.fwd, scale =\"r2\")\n",
        "plot(regfit.fwd, scale =\"bic\")"
      ],
      "execution_count": 41,
      "outputs": [
        {
          "output_type": "display_data",
          "data": {
            "image/png": "[encoded data removed]",
            "text/plain": [
              "plot without title"
            ]
          },
          "metadata": {
            "tags": [],
            "image/png": {
              "width": 420,
              "height": 420
            },
            "text/plain": {
              "width": 420,
              "height": 420
            }
          }
        },
        {
          "output_type": "display_data",
          "data": {
            "image/png": "[encoded data removed]",
            "text/plain": [
              "plot without title"
            ]
          },
          "metadata": {
            "tags": [],
            "image/png": {
              "width": 420,
              "height": 420
            },
            "text/plain": {
              "width": 420,
              "height": 420
            }
          }
        }
      ]
    },
    {
      "cell_type": "code",
      "metadata": {
        "id": "6hUSq3kVlAtW",
        "colab_type": "code",
        "colab": {
          "base_uri": "https://localhost:8080/",
          "height": 511
        },
        "outputId": "eba01644-d72f-425f-c2d9-99171ca08fb3"
      },
      "source": [
        "coef(regfit.fwd,min.fwd)"
      ],
      "execution_count": 44,
      "outputs": [
        {
          "output_type": "display_data",
          "data": {
            "text/plain": [
              "         (Intercept)          radius_mean     compactness_mean \n",
              "         1.372583480         -0.152417810         -0.135425313 \n",
              " concave.points_mean            radius_se        smoothness_se \n",
              "         0.160385466          0.065775054          0.065217637 \n",
              "      compactness_se         concavity_se         radius_worst \n",
              "         0.007250479         -0.068634623          0.805709990 \n",
              "       texture_worst           area_worst      concavity_worst \n",
              "         0.062312893         -0.534048738          0.133570605 \n",
              "concave.points_worst       symmetry_worst \n",
              "         0.066225174          0.044167695 "
            ],
            "text/latex": "\\begin{description*}\n\\item[(Intercept)] 1.3725834797891\n\\item[radius\\textbackslash{}\\_mean] -0.152417810375609\n\\item[compactness\\textbackslash{}\\_mean] -0.135425313298527\n\\item[concave.points\\textbackslash{}\\_mean] 0.160385465858413\n\\item[radius\\textbackslash{}\\_se] 0.0657750542764253\n\\item[smoothness\\textbackslash{}\\_se] 0.0652176367588455\n\\item[compactness\\textbackslash{}\\_se] 0.00725047904410998\n\\item[concavity\\textbackslash{}\\_se] -0.0686346233501145\n\\item[radius\\textbackslash{}\\_worst] 0.805709990447203\n\\item[texture\\textbackslash{}\\_worst] 0.0623128925273417\n\\item[area\\textbackslash{}\\_worst] -0.534048737565112\n\\item[concavity\\textbackslash{}\\_worst] 0.133570604686413\n\\item[concave.points\\textbackslash{}\\_worst] 0.0662251738536551\n\\item[symmetry\\textbackslash{}\\_worst] 0.0441676952855501\n\\end{description*}\n",
            "text/markdown": "(Intercept)\n:   1.3725834797891radius_mean\n:   -0.152417810375609compactness_mean\n:   -0.135425313298527concave.points_mean\n:   0.160385465858413radius_se\n:   0.0657750542764253smoothness_se\n:   0.0652176367588455compactness_se\n:   0.00725047904410998concavity_se\n:   -0.0686346233501145radius_worst\n:   0.805709990447203texture_worst\n:   0.0623128925273417area_worst\n:   -0.534048737565112concavity_worst\n:   0.133570604686413concave.points_worst\n:   0.0662251738536551symmetry_worst\n:   0.0441676952855501\n\n",
            "text/html": [
              "<dl class=dl-horizontal>\n",
              "\t<dt>(Intercept)</dt>\n",
              "\t\t<dd>1.3725834797891</dd>\n",
              "\t<dt>radius_mean</dt>\n",
              "\t\t<dd>-0.152417810375609</dd>\n",
              "\t<dt>compactness_mean</dt>\n",
              "\t\t<dd>-0.135425313298527</dd>\n",
              "\t<dt>concave.points_mean</dt>\n",
              "\t\t<dd>0.160385465858413</dd>\n",
              "\t<dt>radius_se</dt>\n",
              "\t\t<dd>0.0657750542764253</dd>\n",
              "\t<dt>smoothness_se</dt>\n",
              "\t\t<dd>0.0652176367588455</dd>\n",
              "\t<dt>compactness_se</dt>\n",
              "\t\t<dd>0.00725047904410998</dd>\n",
              "\t<dt>concavity_se</dt>\n",
              "\t\t<dd>-0.0686346233501145</dd>\n",
              "\t<dt>radius_worst</dt>\n",
              "\t\t<dd>0.805709990447203</dd>\n",
              "\t<dt>texture_worst</dt>\n",
              "\t\t<dd>0.0623128925273417</dd>\n",
              "\t<dt>area_worst</dt>\n",
              "\t\t<dd>-0.534048737565112</dd>\n",
              "\t<dt>concavity_worst</dt>\n",
              "\t\t<dd>0.133570604686413</dd>\n",
              "\t<dt>concave.points_worst</dt>\n",
              "\t\t<dd>0.0662251738536551</dd>\n",
              "\t<dt>symmetry_worst</dt>\n",
              "\t\t<dd>0.0441676952855501</dd>\n",
              "</dl>\n"
            ]
          },
          "metadata": {
            "tags": []
          }
        }
      ]
    },
    {
      "cell_type": "code",
      "metadata": {
        "id": "iOJGL-zvl6R3",
        "colab_type": "code",
        "colab": {
          "base_uri": "https://localhost:8080/",
          "height": 77
        },
        "outputId": "7432b365-4db8-401b-9ac9-2961beab0645"
      },
      "source": [
        "coef.fwd = names(coef(regfit.fwd,min.fwd))\n",
        "coef.full = names(coef(regfit.full,11))\n",
        "\n",
        "coef.fwd[!(coef.fwd %in% coef.full)]"
      ],
      "execution_count": 50,
      "outputs": [
        {
          "output_type": "display_data",
          "data": {
            "text/plain": [
              "[1] \"compactness_se\"       \"concave.points_worst\""
            ],
            "text/latex": "\\begin{enumerate*}\n\\item 'compactness\\_se'\n\\item 'concave.points\\_worst'\n\\end{enumerate*}\n",
            "text/markdown": "1. 'compactness_se'\n2. 'concave.points_worst'\n\n\n",
            "text/html": [
              "<ol class=list-inline>\n",
              "\t<li>'compactness_se'</li>\n",
              "\t<li>'concave.points_worst'</li>\n",
              "</ol>\n"
            ]
          },
          "metadata": {
            "tags": []
          }
        }
      ]
    },
    {
      "cell_type": "markdown",
      "metadata": {
        "id": "2vbWGr9ne3N2",
        "colab_type": "text"
      },
      "source": [
        "En el caso de realizarlo Exhaustivo, se han obtenido 11 variables como las óptimas, mientras que al realizarlo en método Forward, se han obtenido un total de 13 variables como las óptimas (se agregan las variables `compactness_se` y `concave.points_worst`)."
      ]
    },
    {
      "cell_type": "markdown",
      "metadata": {
        "id": "Ay_PJYAKe3N3",
        "colab_type": "text"
      },
      "source": [
        "**TAREA 3:** Comparar la selección realizada por el método backward con los métodos exhaustivo y _forward stepwise_."
      ]
    },
    {
      "cell_type": "code",
      "metadata": {
        "id": "U59NVbWhe3N4",
        "colab_type": "code",
        "colab": {}
      },
      "source": [
        "regfit.bwd <- regsubsets(diagnosis~., data = df, nvmax = 30 , method =\"backward\")\n",
        "bwd.summary <- summary(regfit.bwd)"
      ],
      "execution_count": 0,
      "outputs": []
    },
    {
      "cell_type": "code",
      "metadata": {
        "id": "W66rdwsMm-mq",
        "colab_type": "code",
        "colab": {
          "base_uri": "https://localhost:8080/",
          "height": 436
        },
        "outputId": "f3056cf5-c0aa-4694-e035-414ac59dc249"
      },
      "source": [
        "par(mfrow=c(2,1), mar=c(4,4,1,1))\n",
        "plot(bwd.summary$rsq,xlab=\"Number of Variables\",ylab=\"RSq\", type=\"l\")\n",
        "plot(bwd.summary$bic,xlab=\"Number of Variables\",ylab=\"BIC\", type=\"l\")"
      ],
      "execution_count": 52,
      "outputs": [
        {
          "output_type": "display_data",
          "data": {
            "image/png": "[encoded data removed]",
            "text/plain": [
              "plot without title"
            ]
          },
          "metadata": {
            "tags": [],
            "image/png": {
              "width": 420,
              "height": 420
            },
            "text/plain": {
              "width": 420,
              "height": 420
            }
          }
        }
      ]
    },
    {
      "cell_type": "code",
      "metadata": {
        "id": "uyEEDIoknEB6",
        "colab_type": "code",
        "colab": {
          "base_uri": "https://localhost:8080/",
          "height": 33
        },
        "outputId": "83becc6b-c901-4dcf-d16b-c4286ae0f356"
      },
      "source": [
        "min.bwd = which.min(bwd.summary$bic)\n",
        "min.bwd"
      ],
      "execution_count": 53,
      "outputs": [
        {
          "output_type": "display_data",
          "data": {
            "text/plain": [
              "[1] 11"
            ],
            "text/latex": "11",
            "text/markdown": "11",
            "text/html": [
              "11"
            ]
          },
          "metadata": {
            "tags": []
          }
        }
      ]
    },
    {
      "cell_type": "code",
      "metadata": {
        "id": "bHKR4qtLnK-t",
        "colab_type": "code",
        "colab": {
          "base_uri": "https://localhost:8080/",
          "height": 856
        },
        "outputId": "31fc338d-38db-4885-8ddc-1580b7e86123"
      },
      "source": [
        "plot(regfit.bwd, scale =\"r2\")\n",
        "plot(regfit.bwd, scale =\"bic\")"
      ],
      "execution_count": 54,
      "outputs": [
        {
          "output_type": "display_data",
          "data": {
            "image/png": "[encoded data removed]",
            "text/plain": [
              "plot without title"
            ]
          },
          "metadata": {
            "tags": [],
            "image/png": {
              "width": 420,
              "height": 420
            },
            "text/plain": {
              "width": 420,
              "height": 420
            }
          }
        },
        {
          "output_type": "display_data",
          "data": {
            "image/png": "[encoded data removed]",
            "text/plain": [
              "plot without title"
            ]
          },
          "metadata": {
            "tags": [],
            "image/png": {
              "width": 420,
              "height": 420
            },
            "text/plain": {
              "width": 420,
              "height": 420
            }
          }
        }
      ]
    },
    {
      "cell_type": "code",
      "metadata": {
        "id": "vqObbIjmnTRY",
        "colab_type": "code",
        "colab": {
          "base_uri": "https://localhost:8080/",
          "height": 444
        },
        "outputId": "0b34600f-8e29-4894-b59c-3552a26ea1a3"
      },
      "source": [
        "coef(regfit.bwd,min.bwd)"
      ],
      "execution_count": 56,
      "outputs": [
        {
          "output_type": "display_data",
          "data": {
            "text/plain": [
              "        (Intercept)         radius_mean    compactness_mean concave.points_mean \n",
              "         1.37258348         -0.17840169         -0.12933228          0.19664469 \n",
              "          radius_se       smoothness_se        concavity_se        radius_worst \n",
              "         0.05803878          0.06566972         -0.06679611          0.87351926 \n",
              "      texture_worst          area_worst     concavity_worst      symmetry_worst \n",
              "         0.06189087         -0.56390219          0.15446712          0.04610665 "
            ],
            "text/latex": "\\begin{description*}\n\\item[(Intercept)] 1.3725834797891\n\\item[radius\\textbackslash{}\\_mean] -0.178401686224899\n\\item[compactness\\textbackslash{}\\_mean] -0.129332282502149\n\\item[concave.points\\textbackslash{}\\_mean] 0.196644687579801\n\\item[radius\\textbackslash{}\\_se] 0.0580387760431739\n\\item[smoothness\\textbackslash{}\\_se] 0.0656697156808591\n\\item[concavity\\textbackslash{}\\_se] -0.066796108505806\n\\item[radius\\textbackslash{}\\_worst] 0.873519264685115\n\\item[texture\\textbackslash{}\\_worst] 0.0618908682342952\n\\item[area\\textbackslash{}\\_worst] -0.56390219072939\n\\item[concavity\\textbackslash{}\\_worst] 0.154467115714474\n\\item[symmetry\\textbackslash{}\\_worst] 0.0461066464355348\n\\end{description*}\n",
            "text/markdown": "(Intercept)\n:   1.3725834797891radius_mean\n:   -0.178401686224899compactness_mean\n:   -0.129332282502149concave.points_mean\n:   0.196644687579801radius_se\n:   0.0580387760431739smoothness_se\n:   0.0656697156808591concavity_se\n:   -0.066796108505806radius_worst\n:   0.873519264685115texture_worst\n:   0.0618908682342952area_worst\n:   -0.56390219072939concavity_worst\n:   0.154467115714474symmetry_worst\n:   0.0461066464355348\n\n",
            "text/html": [
              "<dl class=dl-horizontal>\n",
              "\t<dt>(Intercept)</dt>\n",
              "\t\t<dd>1.3725834797891</dd>\n",
              "\t<dt>radius_mean</dt>\n",
              "\t\t<dd>-0.178401686224899</dd>\n",
              "\t<dt>compactness_mean</dt>\n",
              "\t\t<dd>-0.129332282502149</dd>\n",
              "\t<dt>concave.points_mean</dt>\n",
              "\t\t<dd>0.196644687579801</dd>\n",
              "\t<dt>radius_se</dt>\n",
              "\t\t<dd>0.0580387760431739</dd>\n",
              "\t<dt>smoothness_se</dt>\n",
              "\t\t<dd>0.0656697156808591</dd>\n",
              "\t<dt>concavity_se</dt>\n",
              "\t\t<dd>-0.066796108505806</dd>\n",
              "\t<dt>radius_worst</dt>\n",
              "\t\t<dd>0.873519264685115</dd>\n",
              "\t<dt>texture_worst</dt>\n",
              "\t\t<dd>0.0618908682342952</dd>\n",
              "\t<dt>area_worst</dt>\n",
              "\t\t<dd>-0.56390219072939</dd>\n",
              "\t<dt>concavity_worst</dt>\n",
              "\t\t<dd>0.154467115714474</dd>\n",
              "\t<dt>symmetry_worst</dt>\n",
              "\t\t<dd>0.0461066464355348</dd>\n",
              "</dl>\n"
            ]
          },
          "metadata": {
            "tags": []
          }
        }
      ]
    },
    {
      "cell_type": "code",
      "metadata": {
        "id": "b5OAFM6CnY_r",
        "colab_type": "code",
        "colab": {
          "base_uri": "https://localhost:8080/",
          "height": 34
        },
        "outputId": "01afbcc0-7320-4398-f660-b603406ed73b"
      },
      "source": [
        "coef.bwd = names(coef.bwd)\n",
        "\n",
        "coef.bwd[!(coef.bwd %in% coef.full)]"
      ],
      "execution_count": 63,
      "outputs": [
        {
          "output_type": "display_data",
          "data": {
            "text/plain": [
              "NULL"
            ]
          },
          "metadata": {
            "tags": []
          }
        }
      ]
    },
    {
      "cell_type": "markdown",
      "metadata": {
        "id": "wd6tcW97e3N6",
        "colab_type": "text"
      },
      "source": [
        "Las variables seleccionadas en el método Backward son las mismas seleccionadas por el método exhausrivo. Siendo las variables `compactness_se` y `concave.points_worst`, seleccionadas por el método Forward, las únicas diferentes entre los tres métodos."
      ]
    },
    {
      "cell_type": "markdown",
      "metadata": {
        "id": "-4GhtmO5e3N6",
        "colab_type": "text"
      },
      "source": [
        "Otra opción para realizar la selección _stepwise_ es usar la función `step`, que forma parte del paquete básico `stats` de R:"
      ]
    },
    {
      "cell_type": "code",
      "metadata": {
        "id": "FCwwjZPoe3N7",
        "colab_type": "code",
        "colab": {
          "base_uri": "https://localhost:8080/",
          "height": 1000
        },
        "outputId": "b617b9b2-189c-4761-ee24-a6b2b4825cff"
      },
      "source": [
        "initialModel_0 <- glm(diagnosis ~ 1, data = df, family=binomial(link=\"logit\"))\n",
        "initialModel_p <- glm(diagnosis ~ ., data = df, family=binomial(link=\"logit\"))\n",
        "\n",
        "fw <- step(initialModel_0,\n",
        "  scope = list(lower = formula(initialModel_0), upper = formula(initialModel_p)),\n",
        "  direction = \"forward\"\n",
        ")\n",
        "summary(fw)"
      ],
      "execution_count": 64,
      "outputs": [
        {
          "output_type": "stream",
          "text": [
            "Warning message:\n",
            "“glm.fit: fitted probabilities numerically 0 or 1 occurred”\n"
          ],
          "name": "stderr"
        },
        {
          "output_type": "stream",
          "text": [
            "Start:  AIC=753.44\n",
            "diagnosis ~ 1\n",
            "\n"
          ],
          "name": "stdout"
        },
        {
          "output_type": "stream",
          "text": [
            "Warning message:\n",
            "“glm.fit: fitted probabilities numerically 0 or 1 occurred”\n",
            "Warning message:\n",
            "“glm.fit: fitted probabilities numerically 0 or 1 occurred”\n"
          ],
          "name": "stderr"
        },
        {
          "output_type": "stream",
          "text": [
            "                         Df Deviance    AIC\n",
            "+ perimeter_worst         1   209.48 213.48\n",
            "+ radius_worst            1   229.11 233.11\n",
            "+ area_worst              1   230.64 234.64\n",
            "+ concave.points_worst    1   250.45 254.45\n",
            "+ concave.points_mean     1   258.92 262.92\n",
            "+ perimeter_mean          1   304.48 308.48\n",
            "+ area_mean               1   325.66 329.66\n",
            "+ radius_mean             1   330.01 334.01\n",
            "+ area_se                 1   359.50 363.50\n",
            "+ concavity_mean          1   383.23 387.23\n",
            "+ concavity_worst         1   437.70 441.70\n",
            "+ perimeter_se            1   472.83 476.83\n",
            "+ radius_se               1   480.65 484.65\n",
            "+ compactness_worst       1   505.55 509.55\n",
            "+ compactness_mean        1   508.79 512.79\n",
            "+ texture_worst           1   622.07 626.07\n",
            "+ symmetry_worst          1   641.42 645.42\n",
            "+ smoothness_worst        1   641.42 645.42\n",
            "+ concave.points_se       1   646.01 650.01\n",
            "+ texture_mean            1   646.52 650.52\n",
            "+ smoothness_mean         1   673.95 677.95\n",
            "+ symmetry_mean           1   686.80 690.80\n",
            "+ compactness_se          1   701.77 705.77\n",
            "+ concavity_se            1   707.09 711.09\n",
            "+ fractal_dimension_se    1   748.06 752.06\n",
            "+ smoothness_se           1   748.79 752.79\n",
            "<none>                        751.44 753.44\n",
            "+ fractal_dimension_mean  1   751.35 755.35\n",
            "+ texture_se              1   751.40 755.40\n",
            "+ symmetry_se             1   751.42 755.42\n",
            "\n",
            "Step:  AIC=213.48\n",
            "diagnosis ~ perimeter_worst\n",
            "\n"
          ],
          "name": "stdout"
        },
        {
          "output_type": "stream",
          "text": [
            "Warning message:\n",
            "“glm.fit: fitted probabilities numerically 0 or 1 occurred”\n",
            "Warning message:\n",
            "“glm.fit: fitted probabilities numerically 0 or 1 occurred”\n",
            "Warning message:\n",
            "“glm.fit: fitted probabilities numerically 0 or 1 occurred”\n"
          ],
          "name": "stderr"
        },
        {
          "output_type": "stream",
          "text": [
            "                         Df Deviance    AIC\n",
            "+ smoothness_worst        1   139.18 145.18\n",
            "+ concave.points_worst    1   149.59 155.59\n",
            "+ texture_worst           1   159.68 165.68\n",
            "+ concave.points_mean     1   162.47 168.47\n",
            "+ smoothness_mean         1   165.18 171.18\n",
            "+ symmetry_worst          1   167.85 173.85\n",
            "+ concavity_worst         1   168.55 174.55\n",
            "+ concavity_mean          1   169.78 175.78\n",
            "+ radius_mean             1   173.15 179.15\n",
            "+ compactness_worst       1   175.42 181.42\n",
            "+ symmetry_mean           1   177.18 183.18\n",
            "+ fractal_dimension_mean  1   177.62 183.62\n",
            "+ texture_mean            1   178.63 184.63\n",
            "+ area_mean               1   180.70 186.70\n",
            "+ compactness_mean        1   181.84 187.84\n",
            "+ perimeter_mean          1   183.59 189.59\n",
            "+ smoothness_se           1   191.06 197.06\n",
            "+ texture_se              1   195.30 201.30\n",
            "+ concave.points_se       1   198.67 204.67\n",
            "+ radius_se               1   199.25 205.25\n",
            "+ area_se                 1   201.45 207.45\n",
            "+ symmetry_se             1   201.51 207.51\n",
            "+ perimeter_se            1   202.50 208.50\n",
            "+ compactness_se          1   203.30 209.30\n",
            "+ concavity_se            1   203.93 209.93\n",
            "+ fractal_dimension_se    1   205.07 211.07\n",
            "<none>                        209.48 213.48\n",
            "+ radius_worst            1   208.72 214.72\n",
            "+ area_worst              1   209.14 215.14\n",
            "\n",
            "Step:  AIC=145.18\n",
            "diagnosis ~ perimeter_worst + smoothness_worst\n",
            "\n"
          ],
          "name": "stdout"
        },
        {
          "output_type": "stream",
          "text": [
            "Warning message:\n",
            "“glm.fit: fitted probabilities numerically 0 or 1 occurred”\n",
            "Warning message:\n",
            "“glm.fit: fitted probabilities numerically 0 or 1 occurred”\n",
            "Warning message:\n",
            "“glm.fit: fitted probabilities numerically 0 or 1 occurred”\n",
            "Warning message:\n",
            "“glm.fit: fitted probabilities numerically 0 or 1 occurred”\n",
            "Warning message:\n",
            "“glm.fit: fitted probabilities numerically 0 or 1 occurred”\n",
            "Warning message:\n",
            "“glm.fit: fitted probabilities numerically 0 or 1 occurred”\n",
            "Warning message:\n",
            "“glm.fit: fitted probabilities numerically 0 or 1 occurred”\n",
            "Warning message:\n",
            "“glm.fit: fitted probabilities numerically 0 or 1 occurred”\n"
          ],
          "name": "stderr"
        },
        {
          "output_type": "stream",
          "text": [
            "                         Df Deviance    AIC\n",
            "+ texture_worst           1   103.61 111.61\n",
            "+ texture_mean            1   106.84 114.84\n",
            "+ texture_se              1   122.51 130.51\n",
            "+ area_se                 1   123.42 131.42\n",
            "+ radius_se               1   124.89 132.90\n",
            "+ perimeter_se            1   130.42 138.42\n",
            "+ concavity_mean          1   133.31 141.31\n",
            "+ symmetry_worst          1   134.45 142.45\n",
            "+ area_worst              1   134.65 142.65\n",
            "+ symmetry_se             1   135.31 143.31\n",
            "+ concave.points_mean     1   135.35 143.35\n",
            "+ concave.points_worst    1   135.57 143.57\n",
            "+ concavity_worst         1   135.97 143.97\n",
            "+ symmetry_mean           1   136.21 144.21\n",
            "+ concave.points_se       1   136.32 144.32\n",
            "<none>                        139.18 145.18\n",
            "+ concavity_se            1   137.42 145.42\n",
            "+ radius_worst            1   137.53 145.53\n",
            "+ radius_mean             1   137.66 145.66\n",
            "+ perimeter_mean          1   137.81 145.81\n",
            "+ smoothness_se           1   138.54 146.54\n",
            "+ area_mean               1   138.78 146.78\n",
            "+ fractal_dimension_mean  1   138.97 146.97\n",
            "+ smoothness_mean         1   138.98 146.98\n",
            "+ compactness_mean        1   139.06 147.06\n",
            "+ compactness_worst       1   139.06 147.06\n",
            "+ compactness_se          1   139.11 147.11\n",
            "+ fractal_dimension_se    1   139.18 147.18\n"
          ],
          "name": "stdout"
        },
        {
          "output_type": "stream",
          "text": [
            "Warning message:\n",
            "“glm.fit: fitted probabilities numerically 0 or 1 occurred”\n"
          ],
          "name": "stderr"
        },
        {
          "output_type": "stream",
          "text": [
            "\n",
            "Step:  AIC=111.61\n",
            "diagnosis ~ perimeter_worst + smoothness_worst + texture_worst\n",
            "\n"
          ],
          "name": "stdout"
        },
        {
          "output_type": "stream",
          "text": [
            "Warning message:\n",
            "“glm.fit: fitted probabilities numerically 0 or 1 occurred”\n",
            "Warning message:\n",
            "“glm.fit: fitted probabilities numerically 0 or 1 occurred”\n",
            "Warning message:\n",
            "“glm.fit: fitted probabilities numerically 0 or 1 occurred”\n",
            "Warning message:\n",
            "“glm.fit: fitted probabilities numerically 0 or 1 occurred”\n",
            "Warning message:\n",
            "“glm.fit: fitted probabilities numerically 0 or 1 occurred”\n",
            "Warning message:\n",
            "“glm.fit: fitted probabilities numerically 0 or 1 occurred”\n",
            "Warning message:\n",
            "“glm.fit: fitted probabilities numerically 0 or 1 occurred”\n",
            "Warning message:\n",
            "“glm.fit: fitted probabilities numerically 0 or 1 occurred”\n",
            "Warning message:\n",
            "“glm.fit: fitted probabilities numerically 0 or 1 occurred”\n",
            "Warning message:\n",
            "“glm.fit: fitted probabilities numerically 0 or 1 occurred”\n",
            "Warning message:\n",
            "“glm.fit: fitted probabilities numerically 0 or 1 occurred”\n",
            "Warning message:\n",
            "“glm.fit: fitted probabilities numerically 0 or 1 occurred”\n",
            "Warning message:\n",
            "“glm.fit: fitted probabilities numerically 0 or 1 occurred”\n",
            "Warning message:\n",
            "“glm.fit: fitted probabilities numerically 0 or 1 occurred”\n",
            "Warning message:\n",
            "“glm.fit: fitted probabilities numerically 0 or 1 occurred”\n",
            "Warning message:\n",
            "“glm.fit: fitted probabilities numerically 0 or 1 occurred”\n",
            "Warning message:\n",
            "“glm.fit: fitted probabilities numerically 0 or 1 occurred”\n",
            "Warning message:\n",
            "“glm.fit: fitted probabilities numerically 0 or 1 occurred”\n",
            "Warning message:\n",
            "“glm.fit: fitted probabilities numerically 0 or 1 occurred”\n",
            "Warning message:\n",
            "“glm.fit: fitted probabilities numerically 0 or 1 occurred”\n",
            "Warning message:\n",
            "“glm.fit: fitted probabilities numerically 0 or 1 occurred”\n",
            "Warning message:\n",
            "“glm.fit: fitted probabilities numerically 0 or 1 occurred”\n",
            "Warning message:\n",
            "“glm.fit: fitted probabilities numerically 0 or 1 occurred”\n",
            "Warning message:\n",
            "“glm.fit: fitted probabilities numerically 0 or 1 occurred”\n",
            "Warning message:\n",
            "“glm.fit: fitted probabilities numerically 0 or 1 occurred”\n",
            "Warning message:\n",
            "“glm.fit: fitted probabilities numerically 0 or 1 occurred”\n",
            "Warning message:\n",
            "“glm.fit: fitted probabilities numerically 0 or 1 occurred”\n"
          ],
          "name": "stderr"
        },
        {
          "output_type": "stream",
          "text": [
            "                         Df Deviance     AIC\n",
            "+ radius_se               1   87.205  97.205\n",
            "+ area_se                 1   87.437  97.437\n",
            "+ perimeter_se            1   94.237 104.237\n",
            "+ concave.points_mean     1   94.884 104.884\n",
            "+ concave.points_se       1   98.633 108.633\n",
            "+ symmetry_mean           1   98.669 108.669\n",
            "+ concavity_mean          1   98.727 108.727\n",
            "+ symmetry_se             1   98.826 108.826\n",
            "+ concave.points_worst    1   99.349 109.349\n",
            "+ symmetry_worst          1  100.170 110.170\n",
            "+ area_worst              1  100.526 110.526\n",
            "+ radius_worst            1  101.505 111.505\n",
            "<none>                       103.612 111.612\n",
            "+ smoothness_mean         1  101.830 111.830\n",
            "+ concavity_worst         1  102.514 112.514\n",
            "+ concavity_se            1  102.560 112.560\n",
            "+ texture_mean            1  103.218 113.218\n",
            "+ fractal_dimension_se    1  103.224 113.224\n",
            "+ texture_se              1  103.237 113.237\n",
            "+ smoothness_se           1  103.285 113.285\n",
            "+ compactness_worst       1  103.360 113.360\n",
            "+ compactness_se          1  103.369 113.369\n",
            "+ radius_mean             1  103.583 113.583\n",
            "+ area_mean               1  103.589 113.589\n",
            "+ perimeter_mean          1  103.604 113.604\n",
            "+ fractal_dimension_mean  1  103.605 113.605\n",
            "+ compactness_mean        1  103.610 113.610\n"
          ],
          "name": "stdout"
        },
        {
          "output_type": "stream",
          "text": [
            "Warning message:\n",
            "“glm.fit: fitted probabilities numerically 0 or 1 occurred”\n"
          ],
          "name": "stderr"
        },
        {
          "output_type": "stream",
          "text": [
            "\n",
            "Step:  AIC=97.2\n",
            "diagnosis ~ perimeter_worst + smoothness_worst + texture_worst + \n",
            "    radius_se\n",
            "\n"
          ],
          "name": "stdout"
        },
        {
          "output_type": "stream",
          "text": [
            "Warning message:\n",
            "“glm.fit: fitted probabilities numerically 0 or 1 occurred”\n",
            "Warning message:\n",
            "“glm.fit: fitted probabilities numerically 0 or 1 occurred”\n",
            "Warning message:\n",
            "“glm.fit: fitted probabilities numerically 0 or 1 occurred”\n",
            "Warning message:\n",
            "“glm.fit: fitted probabilities numerically 0 or 1 occurred”\n",
            "Warning message:\n",
            "“glm.fit: fitted probabilities numerically 0 or 1 occurred”\n",
            "Warning message:\n",
            "“glm.fit: fitted probabilities numerically 0 or 1 occurred”\n",
            "Warning message:\n",
            "“glm.fit: fitted probabilities numerically 0 or 1 occurred”\n",
            "Warning message:\n",
            "“glm.fit: fitted probabilities numerically 0 or 1 occurred”\n",
            "Warning message:\n",
            "“glm.fit: fitted probabilities numerically 0 or 1 occurred”\n",
            "Warning message:\n",
            "“glm.fit: fitted probabilities numerically 0 or 1 occurred”\n",
            "Warning message:\n",
            "“glm.fit: fitted probabilities numerically 0 or 1 occurred”\n",
            "Warning message:\n",
            "“glm.fit: fitted probabilities numerically 0 or 1 occurred”\n",
            "Warning message:\n",
            "“glm.fit: fitted probabilities numerically 0 or 1 occurred”\n",
            "Warning message:\n",
            "“glm.fit: fitted probabilities numerically 0 or 1 occurred”\n",
            "Warning message:\n",
            "“glm.fit: fitted probabilities numerically 0 or 1 occurred”\n",
            "Warning message:\n",
            "“glm.fit: fitted probabilities numerically 0 or 1 occurred”\n",
            "Warning message:\n",
            "“glm.fit: fitted probabilities numerically 0 or 1 occurred”\n",
            "Warning message:\n",
            "“glm.fit: fitted probabilities numerically 0 or 1 occurred”\n",
            "Warning message:\n",
            "“glm.fit: fitted probabilities numerically 0 or 1 occurred”\n",
            "Warning message:\n",
            "“glm.fit: fitted probabilities numerically 0 or 1 occurred”\n",
            "Warning message:\n",
            "“glm.fit: fitted probabilities numerically 0 or 1 occurred”\n",
            "Warning message:\n",
            "“glm.fit: fitted probabilities numerically 0 or 1 occurred”\n",
            "Warning message:\n",
            "“glm.fit: fitted probabilities numerically 0 or 1 occurred”\n",
            "Warning message:\n",
            "“glm.fit: fitted probabilities numerically 0 or 1 occurred”\n",
            "Warning message:\n",
            "“glm.fit: fitted probabilities numerically 0 or 1 occurred”\n",
            "Warning message:\n",
            "“glm.fit: fitted probabilities numerically 0 or 1 occurred”\n"
          ],
          "name": "stderr"
        },
        {
          "output_type": "stream",
          "text": [
            "                         Df Deviance    AIC\n",
            "+ symmetry_worst          1   79.073 91.073\n",
            "+ concave.points_worst    1   79.196 91.196\n",
            "+ texture_se              1   82.558 94.558\n",
            "+ concave.points_mean     1   84.004 96.004\n",
            "+ concavity_worst         1   84.146 96.146\n",
            "+ fractal_dimension_se    1   84.287 96.287\n",
            "+ symmetry_mean           1   84.542 96.542\n",
            "+ compactness_se          1   84.888 96.888\n",
            "+ perimeter_se            1   85.151 97.151\n",
            "+ concavity_mean          1   85.159 97.159\n",
            "<none>                        87.205 97.205\n",
            "+ area_worst              1   85.805 97.805\n",
            "+ smoothness_se           1   85.810 97.810\n",
            "+ symmetry_se             1   86.025 98.025\n",
            "+ radius_worst            1   86.030 98.030\n",
            "+ compactness_mean        1   86.597 98.597\n",
            "+ fractal_dimension_mean  1   86.729 98.729\n",
            "+ perimeter_mean          1   86.780 98.780\n",
            "+ radius_mean             1   86.873 98.873\n",
            "+ area_mean               1   87.043 99.043\n",
            "+ texture_mean            1   87.050 99.050\n",
            "+ smoothness_mean         1   87.075 99.075\n",
            "+ concave.points_se       1   87.081 99.081\n",
            "+ area_se                 1   87.170 99.170\n",
            "+ compactness_worst       1   87.194 99.194\n",
            "+ concavity_se            1   87.205 99.205\n"
          ],
          "name": "stdout"
        },
        {
          "output_type": "stream",
          "text": [
            "Warning message:\n",
            "“glm.fit: fitted probabilities numerically 0 or 1 occurred”\n"
          ],
          "name": "stderr"
        },
        {
          "output_type": "stream",
          "text": [
            "\n",
            "Step:  AIC=91.07\n",
            "diagnosis ~ perimeter_worst + smoothness_worst + texture_worst + \n",
            "    radius_se + symmetry_worst\n",
            "\n"
          ],
          "name": "stdout"
        },
        {
          "output_type": "stream",
          "text": [
            "Warning message:\n",
            "“glm.fit: fitted probabilities numerically 0 or 1 occurred”\n",
            "Warning message:\n",
            "“glm.fit: fitted probabilities numerically 0 or 1 occurred”\n",
            "Warning message:\n",
            "“glm.fit: fitted probabilities numerically 0 or 1 occurred”\n",
            "Warning message:\n",
            "“glm.fit: fitted probabilities numerically 0 or 1 occurred”\n",
            "Warning message:\n",
            "“glm.fit: fitted probabilities numerically 0 or 1 occurred”\n",
            "Warning message:\n",
            "“glm.fit: fitted probabilities numerically 0 or 1 occurred”\n",
            "Warning message:\n",
            "“glm.fit: fitted probabilities numerically 0 or 1 occurred”\n",
            "Warning message:\n",
            "“glm.fit: fitted probabilities numerically 0 or 1 occurred”\n",
            "Warning message:\n",
            "“glm.fit: fitted probabilities numerically 0 or 1 occurred”\n",
            "Warning message:\n",
            "“glm.fit: fitted probabilities numerically 0 or 1 occurred”\n",
            "Warning message:\n",
            "“glm.fit: fitted probabilities numerically 0 or 1 occurred”\n",
            "Warning message:\n",
            "“glm.fit: fitted probabilities numerically 0 or 1 occurred”\n",
            "Warning message:\n",
            "“glm.fit: fitted probabilities numerically 0 or 1 occurred”\n",
            "Warning message:\n",
            "“glm.fit: fitted probabilities numerically 0 or 1 occurred”\n",
            "Warning message:\n",
            "“glm.fit: fitted probabilities numerically 0 or 1 occurred”\n",
            "Warning message:\n",
            "“glm.fit: fitted probabilities numerically 0 or 1 occurred”\n",
            "Warning message:\n",
            "“glm.fit: fitted probabilities numerically 0 or 1 occurred”\n",
            "Warning message:\n",
            "“glm.fit: fitted probabilities numerically 0 or 1 occurred”\n",
            "Warning message:\n",
            "“glm.fit: fitted probabilities numerically 0 or 1 occurred”\n",
            "Warning message:\n",
            "“glm.fit: fitted probabilities numerically 0 or 1 occurred”\n",
            "Warning message:\n",
            "“glm.fit: fitted probabilities numerically 0 or 1 occurred”\n",
            "Warning message:\n",
            "“glm.fit: fitted probabilities numerically 0 or 1 occurred”\n",
            "Warning message:\n",
            "“glm.fit: fitted probabilities numerically 0 or 1 occurred”\n",
            "Warning message:\n",
            "“glm.fit: fitted probabilities numerically 0 or 1 occurred”\n",
            "Warning message:\n",
            "“glm.fit: fitted probabilities numerically 0 or 1 occurred”\n"
          ],
          "name": "stderr"
        },
        {
          "output_type": "stream",
          "text": [
            "                         Df Deviance    AIC\n",
            "+ compactness_se          1   74.511 88.511\n",
            "+ concave.points_worst    1   74.850 88.850\n",
            "+ fractal_dimension_se    1   75.551 89.551\n",
            "+ texture_se              1   75.869 89.869\n",
            "+ area_worst              1   76.196 90.196\n",
            "+ compactness_mean        1   76.436 90.436\n",
            "+ perimeter_se            1   76.737 90.737\n",
            "+ radius_worst            1   76.821 90.821\n",
            "+ fractal_dimension_mean  1   76.900 90.900\n",
            "+ concave.points_mean     1   76.974 90.974\n",
            "<none>                        79.073 91.073\n",
            "+ compactness_worst       1   77.638 91.638\n",
            "+ concavity_worst         1   78.142 92.142\n",
            "+ symmetry_se             1   78.211 92.211\n",
            "+ concavity_mean          1   78.438 92.438\n",
            "+ area_se                 1   78.494 92.494\n",
            "+ smoothness_mean         1   78.730 92.730\n",
            "+ smoothness_se           1   78.772 92.772\n",
            "+ symmetry_mean           1   78.803 92.803\n",
            "+ area_mean               1   78.899 92.899\n",
            "+ concavity_se            1   78.973 92.973\n",
            "+ radius_mean             1   78.999 92.999\n",
            "+ concave.points_se       1   79.005 93.005\n",
            "+ texture_mean            1   79.034 93.034\n",
            "+ perimeter_mean          1   79.072 93.072\n"
          ],
          "name": "stdout"
        },
        {
          "output_type": "stream",
          "text": [
            "Warning message:\n",
            "“glm.fit: fitted probabilities numerically 0 or 1 occurred”\n"
          ],
          "name": "stderr"
        },
        {
          "output_type": "stream",
          "text": [
            "\n",
            "Step:  AIC=88.51\n",
            "diagnosis ~ perimeter_worst + smoothness_worst + texture_worst + \n",
            "    radius_se + symmetry_worst + compactness_se\n",
            "\n"
          ],
          "name": "stdout"
        },
        {
          "output_type": "stream",
          "text": [
            "Warning message:\n",
            "“glm.fit: fitted probabilities numerically 0 or 1 occurred”\n",
            "Warning message:\n",
            "“glm.fit: fitted probabilities numerically 0 or 1 occurred”\n",
            "Warning message:\n",
            "“glm.fit: fitted probabilities numerically 0 or 1 occurred”\n",
            "Warning message:\n",
            "“glm.fit: fitted probabilities numerically 0 or 1 occurred”\n",
            "Warning message:\n",
            "“glm.fit: fitted probabilities numerically 0 or 1 occurred”\n",
            "Warning message:\n",
            "“glm.fit: fitted probabilities numerically 0 or 1 occurred”\n",
            "Warning message:\n",
            "“glm.fit: fitted probabilities numerically 0 or 1 occurred”\n",
            "Warning message:\n",
            "“glm.fit: fitted probabilities numerically 0 or 1 occurred”\n",
            "Warning message:\n",
            "“glm.fit: fitted probabilities numerically 0 or 1 occurred”\n",
            "Warning message:\n",
            "“glm.fit: fitted probabilities numerically 0 or 1 occurred”\n",
            "Warning message:\n",
            "“glm.fit: fitted probabilities numerically 0 or 1 occurred”\n",
            "Warning message:\n",
            "“glm.fit: fitted probabilities numerically 0 or 1 occurred”\n",
            "Warning message:\n",
            "“glm.fit: fitted probabilities numerically 0 or 1 occurred”\n",
            "Warning message:\n",
            "“glm.fit: fitted probabilities numerically 0 or 1 occurred”\n",
            "Warning message:\n",
            "“glm.fit: fitted probabilities numerically 0 or 1 occurred”\n",
            "Warning message:\n",
            "“glm.fit: fitted probabilities numerically 0 or 1 occurred”\n",
            "Warning message:\n",
            "“glm.fit: fitted probabilities numerically 0 or 1 occurred”\n",
            "Warning message:\n",
            "“glm.fit: fitted probabilities numerically 0 or 1 occurred”\n",
            "Warning message:\n",
            "“glm.fit: fitted probabilities numerically 0 or 1 occurred”\n",
            "Warning message:\n",
            "“glm.fit: fitted probabilities numerically 0 or 1 occurred”\n",
            "Warning message:\n",
            "“glm.fit: fitted probabilities numerically 0 or 1 occurred”\n",
            "Warning message:\n",
            "“glm.fit: fitted probabilities numerically 0 or 1 occurred”\n",
            "Warning message:\n",
            "“glm.fit: fitted probabilities numerically 0 or 1 occurred”\n",
            "Warning message:\n",
            "“glm.fit: fitted probabilities numerically 0 or 1 occurred”\n"
          ],
          "name": "stderr"
        },
        {
          "output_type": "stream",
          "text": [
            "                         Df Deviance    AIC\n",
            "+ concavity_mean          1   65.529 81.529\n",
            "+ concave.points_worst    1   65.593 81.593\n",
            "+ concave.points_mean     1   67.066 83.066\n",
            "+ concavity_worst         1   67.234 83.234\n",
            "+ concave.points_se       1   68.551 84.551\n",
            "+ concavity_se            1   69.777 85.777\n",
            "<none>                        74.511 88.511\n",
            "+ texture_se              1   72.725 88.725\n",
            "+ perimeter_se            1   73.232 89.232\n",
            "+ smoothness_se           1   73.614 89.614\n",
            "+ area_se                 1   73.733 89.733\n",
            "+ area_worst              1   74.085 90.085\n",
            "+ radius_worst            1   74.330 90.330\n",
            "+ symmetry_se             1   74.406 90.406\n",
            "+ fractal_dimension_mean  1   74.408 90.408\n",
            "+ texture_mean            1   74.443 90.443\n",
            "+ compactness_mean        1   74.471 90.471\n",
            "+ smoothness_mean         1   74.491 90.491\n",
            "+ perimeter_mean          1   74.498 90.498\n",
            "+ compactness_worst       1   74.501 90.501\n",
            "+ fractal_dimension_se    1   74.502 90.502\n",
            "+ radius_mean             1   74.505 90.505\n",
            "+ area_mean               1   74.505 90.505\n",
            "+ symmetry_mean           1   74.508 90.508\n"
          ],
          "name": "stdout"
        },
        {
          "output_type": "stream",
          "text": [
            "Warning message:\n",
            "“glm.fit: fitted probabilities numerically 0 or 1 occurred”\n"
          ],
          "name": "stderr"
        },
        {
          "output_type": "stream",
          "text": [
            "\n",
            "Step:  AIC=81.53\n",
            "diagnosis ~ perimeter_worst + smoothness_worst + texture_worst + \n",
            "    radius_se + symmetry_worst + compactness_se + concavity_mean\n",
            "\n"
          ],
          "name": "stdout"
        },
        {
          "output_type": "stream",
          "text": [
            "Warning message:\n",
            "“glm.fit: fitted probabilities numerically 0 or 1 occurred”\n",
            "Warning message:\n",
            "“glm.fit: fitted probabilities numerically 0 or 1 occurred”\n",
            "Warning message:\n",
            "“glm.fit: fitted probabilities numerically 0 or 1 occurred”\n",
            "Warning message:\n",
            "“glm.fit: fitted probabilities numerically 0 or 1 occurred”\n",
            "Warning message:\n",
            "“glm.fit: fitted probabilities numerically 0 or 1 occurred”\n",
            "Warning message:\n",
            "“glm.fit: fitted probabilities numerically 0 or 1 occurred”\n",
            "Warning message:\n",
            "“glm.fit: fitted probabilities numerically 0 or 1 occurred”\n",
            "Warning message:\n",
            "“glm.fit: fitted probabilities numerically 0 or 1 occurred”\n",
            "Warning message:\n",
            "“glm.fit: fitted probabilities numerically 0 or 1 occurred”\n",
            "Warning message:\n",
            "“glm.fit: fitted probabilities numerically 0 or 1 occurred”\n",
            "Warning message:\n",
            "“glm.fit: fitted probabilities numerically 0 or 1 occurred”\n",
            "Warning message:\n",
            "“glm.fit: fitted probabilities numerically 0 or 1 occurred”\n",
            "Warning message:\n",
            "“glm.fit: fitted probabilities numerically 0 or 1 occurred”\n",
            "Warning message:\n",
            "“glm.fit: fitted probabilities numerically 0 or 1 occurred”\n",
            "Warning message:\n",
            "“glm.fit: fitted probabilities numerically 0 or 1 occurred”\n",
            "Warning message:\n",
            "“glm.fit: fitted probabilities numerically 0 or 1 occurred”\n",
            "Warning message:\n",
            "“glm.fit: fitted probabilities numerically 0 or 1 occurred”\n",
            "Warning message:\n",
            "“glm.fit: fitted probabilities numerically 0 or 1 occurred”\n",
            "Warning message:\n",
            "“glm.fit: fitted probabilities numerically 0 or 1 occurred”\n",
            "Warning message:\n",
            "“glm.fit: fitted probabilities numerically 0 or 1 occurred”\n",
            "Warning message:\n",
            "“glm.fit: fitted probabilities numerically 0 or 1 occurred”\n",
            "Warning message:\n",
            "“glm.fit: fitted probabilities numerically 0 or 1 occurred”\n",
            "Warning message:\n",
            "“glm.fit: fitted probabilities numerically 0 or 1 occurred”\n"
          ],
          "name": "stderr"
        },
        {
          "output_type": "stream",
          "text": [
            "                         Df Deviance    AIC\n",
            "+ texture_se              1   61.258 79.258\n",
            "+ concave.points_worst    1   61.850 79.850\n",
            "+ area_se                 1   63.217 81.217\n",
            "<none>                        65.529 81.529\n",
            "+ perimeter_se            1   63.661 81.661\n",
            "+ area_worst              1   63.951 81.951\n",
            "+ concave.points_se       1   63.965 81.965\n",
            "+ radius_worst            1   64.003 82.003\n",
            "+ compactness_mean        1   64.078 82.078\n",
            "+ concavity_worst         1   64.328 82.328\n",
            "+ concave.points_mean     1   64.438 82.438\n",
            "+ fractal_dimension_mean  1   64.621 82.621\n",
            "+ smoothness_se           1   64.905 82.905\n",
            "+ symmetry_mean           1   64.943 82.943\n",
            "+ fractal_dimension_se    1   65.196 83.196\n",
            "+ texture_mean            1   65.351 83.351\n",
            "+ smoothness_mean         1   65.353 83.353\n",
            "+ symmetry_se             1   65.399 83.399\n",
            "+ area_mean               1   65.487 83.487\n",
            "+ concavity_se            1   65.506 83.506\n",
            "+ radius_mean             1   65.513 83.513\n",
            "+ perimeter_mean          1   65.523 83.523\n",
            "+ compactness_worst       1   65.527 83.527\n"
          ],
          "name": "stdout"
        },
        {
          "output_type": "stream",
          "text": [
            "Warning message:\n",
            "“glm.fit: fitted probabilities numerically 0 or 1 occurred”\n"
          ],
          "name": "stderr"
        },
        {
          "output_type": "stream",
          "text": [
            "\n",
            "Step:  AIC=79.26\n",
            "diagnosis ~ perimeter_worst + smoothness_worst + texture_worst + \n",
            "    radius_se + symmetry_worst + compactness_se + concavity_mean + \n",
            "    texture_se\n",
            "\n"
          ],
          "name": "stdout"
        },
        {
          "output_type": "stream",
          "text": [
            "Warning message:\n",
            "“glm.fit: fitted probabilities numerically 0 or 1 occurred”\n",
            "Warning message:\n",
            "“glm.fit: fitted probabilities numerically 0 or 1 occurred”\n",
            "Warning message:\n",
            "“glm.fit: fitted probabilities numerically 0 or 1 occurred”\n",
            "Warning message:\n",
            "“glm.fit: fitted probabilities numerically 0 or 1 occurred”\n",
            "Warning message:\n",
            "“glm.fit: fitted probabilities numerically 0 or 1 occurred”\n",
            "Warning message:\n",
            "“glm.fit: fitted probabilities numerically 0 or 1 occurred”\n",
            "Warning message:\n",
            "“glm.fit: fitted probabilities numerically 0 or 1 occurred”\n",
            "Warning message:\n",
            "“glm.fit: fitted probabilities numerically 0 or 1 occurred”\n",
            "Warning message:\n",
            "“glm.fit: fitted probabilities numerically 0 or 1 occurred”\n",
            "Warning message:\n",
            "“glm.fit: fitted probabilities numerically 0 or 1 occurred”\n",
            "Warning message:\n",
            "“glm.fit: fitted probabilities numerically 0 or 1 occurred”\n",
            "Warning message:\n",
            "“glm.fit: fitted probabilities numerically 0 or 1 occurred”\n",
            "Warning message:\n",
            "“glm.fit: fitted probabilities numerically 0 or 1 occurred”\n",
            "Warning message:\n",
            "“glm.fit: fitted probabilities numerically 0 or 1 occurred”\n",
            "Warning message:\n",
            "“glm.fit: fitted probabilities numerically 0 or 1 occurred”\n",
            "Warning message:\n",
            "“glm.fit: fitted probabilities numerically 0 or 1 occurred”\n",
            "Warning message:\n",
            "“glm.fit: fitted probabilities numerically 0 or 1 occurred”\n",
            "Warning message:\n",
            "“glm.fit: fitted probabilities numerically 0 or 1 occurred”\n",
            "Warning message:\n",
            "“glm.fit: fitted probabilities numerically 0 or 1 occurred”\n",
            "Warning message:\n",
            "“glm.fit: fitted probabilities numerically 0 or 1 occurred”\n",
            "Warning message:\n",
            "“glm.fit: fitted probabilities numerically 0 or 1 occurred”\n",
            "Warning message:\n",
            "“glm.fit: fitted probabilities numerically 0 or 1 occurred”\n"
          ],
          "name": "stderr"
        },
        {
          "output_type": "stream",
          "text": [
            "                         Df Deviance    AIC\n",
            "+ area_se                 1   58.643 78.643\n",
            "+ concave.points_worst    1   58.739 78.739\n",
            "+ area_worst              1   59.167 79.167\n",
            "<none>                        61.258 79.258\n",
            "+ radius_worst            1   59.387 79.387\n",
            "+ perimeter_se            1   59.954 79.954\n",
            "+ compactness_mean        1   60.049 80.049\n",
            "+ concave.points_se       1   60.277 80.277\n",
            "+ concave.points_mean     1   60.323 80.323\n",
            "+ texture_mean            1   60.489 80.489\n",
            "+ fractal_dimension_mean  1   60.498 80.498\n",
            "+ fractal_dimension_se    1   60.500 80.500\n",
            "+ concavity_worst         1   60.579 80.579\n",
            "+ smoothness_se           1   60.674 80.674\n",
            "+ area_mean               1   61.103 81.103\n",
            "+ radius_mean             1   61.162 81.162\n",
            "+ compactness_worst       1   61.166 81.166\n",
            "+ smoothness_mean         1   61.214 81.214\n",
            "+ symmetry_mean           1   61.254 81.254\n",
            "+ perimeter_mean          1   61.254 81.254\n",
            "+ concavity_se            1   61.255 81.255\n",
            "+ symmetry_se             1   61.257 81.257\n"
          ],
          "name": "stdout"
        },
        {
          "output_type": "stream",
          "text": [
            "Warning message:\n",
            "“glm.fit: fitted probabilities numerically 0 or 1 occurred”\n"
          ],
          "name": "stderr"
        },
        {
          "output_type": "stream",
          "text": [
            "\n",
            "Step:  AIC=78.64\n",
            "diagnosis ~ perimeter_worst + smoothness_worst + texture_worst + \n",
            "    radius_se + symmetry_worst + compactness_se + concavity_mean + \n",
            "    texture_se + area_se\n",
            "\n"
          ],
          "name": "stdout"
        },
        {
          "output_type": "stream",
          "text": [
            "Warning message:\n",
            "“glm.fit: fitted probabilities numerically 0 or 1 occurred”\n",
            "Warning message:\n",
            "“glm.fit: fitted probabilities numerically 0 or 1 occurred”\n",
            "Warning message:\n",
            "“glm.fit: fitted probabilities numerically 0 or 1 occurred”\n",
            "Warning message:\n",
            "“glm.fit: fitted probabilities numerically 0 or 1 occurred”\n",
            "Warning message:\n",
            "“glm.fit: fitted probabilities numerically 0 or 1 occurred”\n",
            "Warning message:\n",
            "“glm.fit: fitted probabilities numerically 0 or 1 occurred”\n",
            "Warning message:\n",
            "“glm.fit: fitted probabilities numerically 0 or 1 occurred”\n",
            "Warning message:\n",
            "“glm.fit: fitted probabilities numerically 0 or 1 occurred”\n",
            "Warning message:\n",
            "“glm.fit: fitted probabilities numerically 0 or 1 occurred”\n",
            "Warning message:\n",
            "“glm.fit: fitted probabilities numerically 0 or 1 occurred”\n",
            "Warning message:\n",
            "“glm.fit: fitted probabilities numerically 0 or 1 occurred”\n",
            "Warning message:\n",
            "“glm.fit: fitted probabilities numerically 0 or 1 occurred”\n",
            "Warning message:\n",
            "“glm.fit: fitted probabilities numerically 0 or 1 occurred”\n",
            "Warning message:\n",
            "“glm.fit: fitted probabilities numerically 0 or 1 occurred”\n",
            "Warning message:\n",
            "“glm.fit: fitted probabilities numerically 0 or 1 occurred”\n",
            "Warning message:\n",
            "“glm.fit: fitted probabilities numerically 0 or 1 occurred”\n",
            "Warning message:\n",
            "“glm.fit: fitted probabilities numerically 0 or 1 occurred”\n",
            "Warning message:\n",
            "“glm.fit: fitted probabilities numerically 0 or 1 occurred”\n",
            "Warning message:\n",
            "“glm.fit: fitted probabilities numerically 0 or 1 occurred”\n",
            "Warning message:\n",
            "“glm.fit: fitted probabilities numerically 0 or 1 occurred”\n",
            "Warning message:\n",
            "“glm.fit: fitted probabilities numerically 0 or 1 occurred”\n"
          ],
          "name": "stderr"
        },
        {
          "output_type": "stream",
          "text": [
            "                         Df Deviance    AIC\n",
            "+ concave.points_worst    1   54.713 76.713\n",
            "<none>                        58.643 78.643\n",
            "+ radius_worst            1   57.113 79.113\n",
            "+ concave.points_se       1   57.485 79.485\n",
            "+ concavity_worst         1   57.520 79.520\n",
            "+ perimeter_se            1   57.525 79.525\n",
            "+ texture_mean            1   57.593 79.593\n",
            "+ concave.points_mean     1   57.669 79.669\n",
            "+ area_worst              1   57.684 79.684\n",
            "+ compactness_mean        1   58.146 80.146\n",
            "+ symmetry_se             1   58.236 80.236\n",
            "+ perimeter_mean          1   58.374 80.374\n",
            "+ fractal_dimension_se    1   58.503 80.503\n",
            "+ compactness_worst       1   58.538 80.538\n",
            "+ fractal_dimension_mean  1   58.549 80.549\n",
            "+ radius_mean             1   58.590 80.590\n",
            "+ area_mean               1   58.590 80.590\n",
            "+ smoothness_se           1   58.599 80.599\n",
            "+ symmetry_mean           1   58.609 80.609\n",
            "+ concavity_se            1   58.616 80.616\n",
            "+ smoothness_mean         1   58.640 80.640\n"
          ],
          "name": "stdout"
        },
        {
          "output_type": "stream",
          "text": [
            "Warning message:\n",
            "“glm.fit: fitted probabilities numerically 0 or 1 occurred”\n"
          ],
          "name": "stderr"
        },
        {
          "output_type": "stream",
          "text": [
            "\n",
            "Step:  AIC=76.71\n",
            "diagnosis ~ perimeter_worst + smoothness_worst + texture_worst + \n",
            "    radius_se + symmetry_worst + compactness_se + concavity_mean + \n",
            "    texture_se + area_se + concave.points_worst\n",
            "\n"
          ],
          "name": "stdout"
        },
        {
          "output_type": "stream",
          "text": [
            "Warning message:\n",
            "“glm.fit: fitted probabilities numerically 0 or 1 occurred”\n",
            "Warning message:\n",
            "“glm.fit: fitted probabilities numerically 0 or 1 occurred”\n",
            "Warning message:\n",
            "“glm.fit: fitted probabilities numerically 0 or 1 occurred”\n",
            "Warning message:\n",
            "“glm.fit: fitted probabilities numerically 0 or 1 occurred”\n",
            "Warning message:\n",
            "“glm.fit: fitted probabilities numerically 0 or 1 occurred”\n",
            "Warning message:\n",
            "“glm.fit: fitted probabilities numerically 0 or 1 occurred”\n",
            "Warning message:\n",
            "“glm.fit: fitted probabilities numerically 0 or 1 occurred”\n",
            "Warning message:\n",
            "“glm.fit: fitted probabilities numerically 0 or 1 occurred”\n",
            "Warning message:\n",
            "“glm.fit: fitted probabilities numerically 0 or 1 occurred”\n",
            "Warning message:\n",
            "“glm.fit: fitted probabilities numerically 0 or 1 occurred”\n",
            "Warning message:\n",
            "“glm.fit: fitted probabilities numerically 0 or 1 occurred”\n",
            "Warning message:\n",
            "“glm.fit: fitted probabilities numerically 0 or 1 occurred”\n",
            "Warning message:\n",
            "“glm.fit: fitted probabilities numerically 0 or 1 occurred”\n",
            "Warning message:\n",
            "“glm.fit: fitted probabilities numerically 0 or 1 occurred”\n",
            "Warning message:\n",
            "“glm.fit: fitted probabilities numerically 0 or 1 occurred”\n",
            "Warning message:\n",
            "“glm.fit: fitted probabilities numerically 0 or 1 occurred”\n",
            "Warning message:\n",
            "“glm.fit: fitted probabilities numerically 0 or 1 occurred”\n",
            "Warning message:\n",
            "“glm.fit: fitted probabilities numerically 0 or 1 occurred”\n",
            "Warning message:\n",
            "“glm.fit: fitted probabilities numerically 0 or 1 occurred”\n",
            "Warning message:\n",
            "“glm.fit: fitted probabilities numerically 0 or 1 occurred”\n"
          ],
          "name": "stderr"
        },
        {
          "output_type": "stream",
          "text": [
            "                         Df Deviance    AIC\n",
            "<none>                        54.713 76.713\n",
            "+ radius_worst            1   52.749 76.749\n",
            "+ area_worst              1   52.828 76.828\n",
            "+ compactness_mean        1   52.833 76.833\n",
            "+ perimeter_se            1   53.106 77.106\n",
            "+ symmetry_mean           1   53.896 77.896\n",
            "+ texture_mean            1   53.934 77.934\n",
            "+ symmetry_se             1   54.209 78.209\n",
            "+ concavity_worst         1   54.216 78.216\n",
            "+ smoothness_se           1   54.233 78.233\n",
            "+ perimeter_mean          1   54.240 78.240\n",
            "+ smoothness_mean         1   54.399 78.399\n",
            "+ concavity_se            1   54.555 78.555\n",
            "+ concave.points_se       1   54.569 78.569\n",
            "+ radius_mean             1   54.594 78.594\n",
            "+ compactness_worst       1   54.605 78.605\n",
            "+ fractal_dimension_mean  1   54.611 78.611\n",
            "+ fractal_dimension_se    1   54.705 78.705\n",
            "+ concave.points_mean     1   54.709 78.709\n",
            "+ area_mean               1   54.710 78.710\n"
          ],
          "name": "stdout"
        },
        {
          "output_type": "display_data",
          "data": {
            "text/plain": [
              "\n",
              "Call:\n",
              "glm(formula = diagnosis ~ perimeter_worst + smoothness_worst + \n",
              "    texture_worst + radius_se + symmetry_worst + compactness_se + \n",
              "    concavity_mean + texture_se + area_se + concave.points_worst, \n",
              "    family = binomial(link = \"logit\"), data = df)\n",
              "\n",
              "Deviance Residuals: \n",
              "    Min       1Q   Median       3Q      Max  \n",
              "-1.3573  -0.0201  -0.0013   0.0000   3.8553  \n",
              "\n",
              "Coefficients:\n",
              "                     Estimate Std. Error z value Pr(>|z|)    \n",
              "(Intercept)            1.9809     1.1241   1.762 0.078040 .  \n",
              "perimeter_worst        2.8181     2.4980   1.128 0.259268    \n",
              "smoothness_worst       1.2907     0.6868   1.879 0.060215 .  \n",
              "texture_worst          3.2584     0.8392   3.883 0.000103 ***\n",
              "radius_se             -2.7572     4.6621  -0.591 0.554248    \n",
              "symmetry_worst         1.0500     0.4957   2.118 0.034164 *  \n",
              "compactness_se        -2.3356     0.7304  -3.198 0.001384 ** \n",
              "concavity_mean         3.1787     1.2999   2.445 0.014472 *  \n",
              "texture_se            -1.4802     0.8361  -1.770 0.076657 .  \n",
              "area_se               15.9526     9.1089   1.751 0.079892 .  \n",
              "concave.points_worst   2.4000     1.2766   1.880 0.060117 .  \n",
              "---\n",
              "Signif. codes:  0 ‘***’ 0.001 ‘**’ 0.01 ‘*’ 0.05 ‘.’ 0.1 ‘ ’ 1\n",
              "\n",
              "(Dispersion parameter for binomial family taken to be 1)\n",
              "\n",
              "    Null deviance: 751.440  on 568  degrees of freedom\n",
              "Residual deviance:  54.713  on 558  degrees of freedom\n",
              "AIC: 76.713\n",
              "\n",
              "Number of Fisher Scoring iterations: 11\n"
            ]
          },
          "metadata": {
            "tags": []
          }
        }
      ]
    },
    {
      "cell_type": "markdown",
      "metadata": {
        "id": "DIgyXc9Ve3OA",
        "colab_type": "text"
      },
      "source": [
        "El objeto de salida es una lista que contiene múltiples elementos. Entre ellos, ilustramos el resultado anova, que muestra las variables seleccionadas (11 en este caso) en orden de adición y el AIC correspondiente (similar al estadístico BIC) ."
      ]
    },
    {
      "cell_type": "code",
      "metadata": {
        "scrolled": true,
        "id": "3sGrUl0ee3OB",
        "colab_type": "code",
        "colab": {
          "base_uri": "https://localhost:8080/",
          "height": 265
        },
        "outputId": "f086c64b-bf19-4576-c5c4-955f5240c76d"
      },
      "source": [
        "fw$anova\n",
        "?step"
      ],
      "execution_count": 65,
      "outputs": [
        {
          "output_type": "display_data",
          "data": {
            "text/plain": [
              "   Step                   Df Deviance   Resid. Df Resid. Dev AIC      \n",
              "1                         NA         NA 568       751.44001  753.44001\n",
              "2  + perimeter_worst      -1 541.960065 567       209.47994  213.47994\n",
              "3  + smoothness_worst     -1  70.299730 566       139.18021  145.18021\n",
              "4  + texture_worst        -1  35.568566 565       103.61164  111.61164\n",
              "5  + radius_se            -1  16.406692 564        87.20495   97.20495\n",
              "6  + symmetry_worst       -1   8.132333 563        79.07262   91.07262\n",
              "7  + compactness_se       -1   4.561664 562        74.51095   88.51095\n",
              "8  + concavity_mean       -1   8.982248 561        65.52871   81.52871\n",
              "9  + texture_se           -1   4.270508 560        61.25820   79.25820\n",
              "10 + area_se              -1   2.614785 559        58.64341   78.64341\n",
              "11 + concave.points_worst -1   3.930719 558        54.71269   76.71269"
            ],
            "text/latex": "A data.frame: 11 × 6\n\\begin{tabular}{llllll}\n Step & Df & Deviance & Resid. Df & Resid. Dev & AIC\\\\\n <I<chr>> & <dbl> & <dbl> & <dbl> & <dbl> & <dbl>\\\\\n\\hline\n\t                        & NA &         NA & 568 & 751.44001 & 753.44001\\\\\n\t + perimeter\\_worst      & -1 & 541.960065 & 567 & 209.47994 & 213.47994\\\\\n\t + smoothness\\_worst     & -1 &  70.299730 & 566 & 139.18021 & 145.18021\\\\\n\t + texture\\_worst        & -1 &  35.568566 & 565 & 103.61164 & 111.61164\\\\\n\t + radius\\_se            & -1 &  16.406692 & 564 &  87.20495 &  97.20495\\\\\n\t + symmetry\\_worst       & -1 &   8.132333 & 563 &  79.07262 &  91.07262\\\\\n\t + compactness\\_se       & -1 &   4.561664 & 562 &  74.51095 &  88.51095\\\\\n\t + concavity\\_mean       & -1 &   8.982248 & 561 &  65.52871 &  81.52871\\\\\n\t + texture\\_se           & -1 &   4.270508 & 560 &  61.25820 &  79.25820\\\\\n\t + area\\_se              & -1 &   2.614785 & 559 &  58.64341 &  78.64341\\\\\n\t + concave.points\\_worst & -1 &   3.930719 & 558 &  54.71269 &  76.71269\\\\\n\\end{tabular}\n",
            "text/markdown": "\nA data.frame: 11 × 6\n\n| Step &lt;I&lt;chr&gt;&gt; | Df &lt;dbl&gt; | Deviance &lt;dbl&gt; | Resid. Df &lt;dbl&gt; | Resid. Dev &lt;dbl&gt; | AIC &lt;dbl&gt; |\n|---|---|---|---|---|---|\n| <!----> | NA |         NA | 568 | 751.44001 | 753.44001 |\n| + perimeter_worst      | -1 | 541.960065 | 567 | 209.47994 | 213.47994 |\n| + smoothness_worst     | -1 |  70.299730 | 566 | 139.18021 | 145.18021 |\n| + texture_worst        | -1 |  35.568566 | 565 | 103.61164 | 111.61164 |\n| + radius_se            | -1 |  16.406692 | 564 |  87.20495 |  97.20495 |\n| + symmetry_worst       | -1 |   8.132333 | 563 |  79.07262 |  91.07262 |\n| + compactness_se       | -1 |   4.561664 | 562 |  74.51095 |  88.51095 |\n| + concavity_mean       | -1 |   8.982248 | 561 |  65.52871 |  81.52871 |\n| + texture_se           | -1 |   4.270508 | 560 |  61.25820 |  79.25820 |\n| + area_se              | -1 |   2.614785 | 559 |  58.64341 |  78.64341 |\n| + concave.points_worst | -1 |   3.930719 | 558 |  54.71269 |  76.71269 |\n\n",
            "text/html": [
              "<table>\n",
              "<caption>A data.frame: 11 × 6</caption>\n",
              "<thead>\n",
              "\t<tr><th scope=col>Step</th><th scope=col>Df</th><th scope=col>Deviance</th><th scope=col>Resid. Df</th><th scope=col>Resid. Dev</th><th scope=col>AIC</th></tr>\n",
              "\t<tr><th scope=col>&lt;I&lt;chr&gt;&gt;</th><th scope=col>&lt;dbl&gt;</th><th scope=col>&lt;dbl&gt;</th><th scope=col>&lt;dbl&gt;</th><th scope=col>&lt;dbl&gt;</th><th scope=col>&lt;dbl&gt;</th></tr>\n",
              "</thead>\n",
              "<tbody>\n",
              "\t<tr><td>                      </td><td>NA</td><td>        NA</td><td>568</td><td>751.44001</td><td>753.44001</td></tr>\n",
              "\t<tr><td>+ perimeter_worst     </td><td>-1</td><td>541.960065</td><td>567</td><td>209.47994</td><td>213.47994</td></tr>\n",
              "\t<tr><td>+ smoothness_worst    </td><td>-1</td><td> 70.299730</td><td>566</td><td>139.18021</td><td>145.18021</td></tr>\n",
              "\t<tr><td>+ texture_worst       </td><td>-1</td><td> 35.568566</td><td>565</td><td>103.61164</td><td>111.61164</td></tr>\n",
              "\t<tr><td>+ radius_se           </td><td>-1</td><td> 16.406692</td><td>564</td><td> 87.20495</td><td> 97.20495</td></tr>\n",
              "\t<tr><td>+ symmetry_worst      </td><td>-1</td><td>  8.132333</td><td>563</td><td> 79.07262</td><td> 91.07262</td></tr>\n",
              "\t<tr><td>+ compactness_se      </td><td>-1</td><td>  4.561664</td><td>562</td><td> 74.51095</td><td> 88.51095</td></tr>\n",
              "\t<tr><td>+ concavity_mean      </td><td>-1</td><td>  8.982248</td><td>561</td><td> 65.52871</td><td> 81.52871</td></tr>\n",
              "\t<tr><td>+ texture_se          </td><td>-1</td><td>  4.270508</td><td>560</td><td> 61.25820</td><td> 79.25820</td></tr>\n",
              "\t<tr><td>+ area_se             </td><td>-1</td><td>  2.614785</td><td>559</td><td> 58.64341</td><td> 78.64341</td></tr>\n",
              "\t<tr><td>+ concave.points_worst</td><td>-1</td><td>  3.930719</td><td>558</td><td> 54.71269</td><td> 76.71269</td></tr>\n",
              "</tbody>\n",
              "</table>\n"
            ]
          },
          "metadata": {
            "tags": []
          }
        }
      ]
    },
    {
      "cell_type": "markdown",
      "metadata": {
        "id": "gEOi5MhRe3OE",
        "colab_type": "text"
      },
      "source": [
        "## Regularización\n",
        "La regularización consiste en añadir un término a la función objetivo que elimine predictores (regularización L1) o disminuya notablemente su influencia (regularización L2) de tal manera que su capacidad de generalización mejore. El coeficiente estimado estará sesgado, ya que se ha añadido un término a la función objetivo, sin embargo su varianza puede disminuir. Este equilibrio entre el sesgo y la varianza es lo que se conoce como _bias-variance tradeoff_. Si el modelo está demasiado sesgado entonces no se capturarán correctamente las relaciones entre predictando y predictor, sin embargo si está muy poco sesgado, la varianza del coeficiente estimado puede ser alta y no generalizar bien.\n",
        "\n",
        "En R, para regularizar modelos lineales generalizados se utiliza el paquete `glmnet`. El tipo de regularización viene dado por el valor del parámetro `alpha`: para una regularización L1, `alpha = 1`, para una regularización L2, `alpha = 0`. Ambos tipos de regularización penalizan la norma (1 ó 2, en función de si la regularización es L1 o L2) de los coeficientes estimados. Una consecuencia de la regularización L1 es que indirectamente selecciona variables al hacer estrictamente 0 algunos coeficientes. El número de coeficientes que se hacen 0 viene determinado por el valor de `lambda`. El valor de lambda óptimo se obtiene mediante validación cruzada a través de la función `cv.glmnet`.\n",
        "\n",
        "En primer lugar, debemos instalar y cargar las librerías que utilizaremos en los ejemplos:"
      ]
    },
    {
      "cell_type": "code",
      "metadata": {
        "id": "VjYa3rvDe3OE",
        "colab_type": "code",
        "colab": {
          "base_uri": "https://localhost:8080/",
          "height": 336
        },
        "outputId": "4fe4d501-a8c2-43ec-9231-e483ac842b2a"
      },
      "source": [
        "install.packages(\"glmnet\")\n",
        "library(glmnet, quiet = TRUE)"
      ],
      "execution_count": 66,
      "outputs": [
        {
          "output_type": "stream",
          "text": [
            "Installing package into ‘/usr/local/lib/R/site-library’\n",
            "(as ‘lib’ is unspecified)\n",
            "\n",
            "also installing the dependency ‘shape’\n",
            "\n",
            "\n",
            "\n",
            "Attaching package: ‘Matrix’\n",
            "\n",
            "\n",
            "The following object is masked from ‘package:spam’:\n",
            "\n",
            "    det\n",
            "\n",
            "\n",
            "Loaded glmnet 3.0-2\n",
            "\n",
            "\n"
          ],
          "name": "stderr"
        }
      ]
    },
    {
      "cell_type": "markdown",
      "metadata": {
        "id": "xN260-FZe3OH",
        "colab_type": "text"
      },
      "source": [
        "Ahora veamos qué nos puede aportar una regularización L1 en este caso. Para ello, primero estimamos el valor óptimo de `lambda` mediante la función `cv.glmnet`:"
      ]
    },
    {
      "cell_type": "code",
      "metadata": {
        "id": "BSjJ2Kv9e3OI",
        "colab_type": "code",
        "colab": {
          "base_uri": "https://localhost:8080/",
          "height": 33
        },
        "outputId": "e68b8839-4b9c-4467-f8a4-ca56432711a4"
      },
      "source": [
        "cv <- cv.glmnet(as.matrix(df[-1]),df$diagnosis,family = \"binomial\",alpha = 1)\n",
        "cv$lambda.1se"
      ],
      "execution_count": 67,
      "outputs": [
        {
          "output_type": "display_data",
          "data": {
            "text/plain": [
              "[1] 0.006400222"
            ],
            "text/latex": "0.00640022228667804",
            "text/markdown": "0.00640022228667804",
            "text/html": [
              "0.00640022228667804"
            ]
          },
          "metadata": {
            "tags": []
          }
        }
      ]
    },
    {
      "cell_type": "markdown",
      "metadata": {
        "id": "klms9D2ke3OK",
        "colab_type": "text"
      },
      "source": [
        "Una vez estimado el valor de lambda, se entrena el modelo regularizado mediante la función `glmnet`."
      ]
    },
    {
      "cell_type": "code",
      "metadata": {
        "id": "z04jT2Tze3OK",
        "colab_type": "code",
        "colab": {
          "base_uri": "https://localhost:8080/",
          "height": 245
        },
        "outputId": "59a17754-116e-4f39-e0b7-e6c1fd942645"
      },
      "source": [
        "model.l1 <- glmnet(as.matrix(df[-1]), df$diagnosis, family = \"binomial\", alpha = 1, lambda = cv$lambda.1se)\n",
        "ind.coef.no.nulos <- which(as.numeric(coef(model.l1)) != 0)\n",
        "names(df)[ind.coef.no.nulos]\n",
        "cat(paste(\"Number of variables selected:\", length(ind.coef.no.nulos)))"
      ],
      "execution_count": 68,
      "outputs": [
        {
          "output_type": "display_data",
          "data": {
            "text/plain": [
              " [1] \"diagnosis\"            \"texture_mean\"         \"concave.points_mean\" \n",
              " [4] \"radius_se\"            \"fractal_dimension_se\" \"radius_worst\"        \n",
              " [7] \"texture_worst\"        \"smoothness_worst\"     \"concavity_worst\"     \n",
              "[10] \"concave.points_worst\" \"symmetry_worst\"      "
            ],
            "text/latex": "\\begin{enumerate*}\n\\item 'diagnosis'\n\\item 'texture\\_mean'\n\\item 'concave.points\\_mean'\n\\item 'radius\\_se'\n\\item 'fractal\\_dimension\\_se'\n\\item 'radius\\_worst'\n\\item 'texture\\_worst'\n\\item 'smoothness\\_worst'\n\\item 'concavity\\_worst'\n\\item 'concave.points\\_worst'\n\\item 'symmetry\\_worst'\n\\end{enumerate*}\n",
            "text/markdown": "1. 'diagnosis'\n2. 'texture_mean'\n3. 'concave.points_mean'\n4. 'radius_se'\n5. 'fractal_dimension_se'\n6. 'radius_worst'\n7. 'texture_worst'\n8. 'smoothness_worst'\n9. 'concavity_worst'\n10. 'concave.points_worst'\n11. 'symmetry_worst'\n\n\n",
            "text/html": [
              "<ol class=list-inline>\n",
              "\t<li>'diagnosis'</li>\n",
              "\t<li>'texture_mean'</li>\n",
              "\t<li>'concave.points_mean'</li>\n",
              "\t<li>'radius_se'</li>\n",
              "\t<li>'fractal_dimension_se'</li>\n",
              "\t<li>'radius_worst'</li>\n",
              "\t<li>'texture_worst'</li>\n",
              "\t<li>'smoothness_worst'</li>\n",
              "\t<li>'concavity_worst'</li>\n",
              "\t<li>'concave.points_worst'</li>\n",
              "\t<li>'symmetry_worst'</li>\n",
              "</ol>\n"
            ]
          },
          "metadata": {
            "tags": []
          }
        },
        {
          "output_type": "stream",
          "text": [
            "Number of variables selected: 11"
          ],
          "name": "stdout"
        }
      ]
    },
    {
      "cell_type": "markdown",
      "metadata": {
        "id": "JfZixwjie3OM",
        "colab_type": "text"
      },
      "source": [
        "Vemos que efectivamente la regularización L1 ha hecho 0 muchos coeficientes eliminando grados de libertad del sistema, salvo las características que se observan en la salida anterior. Podemos ver el sobreajuste de forma cualitativa con la curva ROC:"
      ]
    },
    {
      "cell_type": "code",
      "metadata": {
        "id": "sTD8Jnoye3ON",
        "colab_type": "code",
        "colab": {
          "base_uri": "https://localhost:8080/",
          "height": 436
        },
        "outputId": "c4a5f57f-9b6d-498b-e778-3472552421b0"
      },
      "source": [
        "pred.l1 <- predict(model.l1,as.matrix(df[-1]),type = \"response\")\n",
        "auc.l1 <- roc.area(df$diagnosis,pred.l1)$A\n",
        "roc.plot(df$diagnosis,pred.l1, main=sprintf(\"Curva ROC Regularización L1 (AUC = %g)\", auc.l1))"
      ],
      "execution_count": 71,
      "outputs": [
        {
          "output_type": "display_data",
          "data": {
            "image/png": "[encoded data removed]",
            "text/plain": [
              "Plot with title “Curva ROC Regularización L1 (AUC = 0.996869)”"
            ]
          },
          "metadata": {
            "tags": [],
            "image/png": {
              "width": 420,
              "height": 420
            },
            "text/plain": {
              "width": 420,
              "height": 420
            }
          }
        }
      ]
    },
    {
      "cell_type": "markdown",
      "metadata": {
        "id": "o3nPTKsle3OO",
        "colab_type": "text"
      },
      "source": [
        "Observamos como, aún con solo 10 variables, el AUC es todavía bastante alto. Por ello se propone la siguiente tarea."
      ]
    },
    {
      "cell_type": "markdown",
      "metadata": {
        "id": "xMM0eHVEe3OP",
        "colab_type": "text"
      },
      "source": [
        "**TAREA 4:** Utilizar una validación cruzada tipo _hold out_ para comprobar si la capacidad de generalización del modelo ha mejorado con la regularización L1."
      ]
    },
    {
      "cell_type": "code",
      "metadata": {
        "id": "uGcIKWZDq4TC",
        "colab_type": "code",
        "colab": {
          "base_uri": "https://localhost:8080/",
          "height": 33
        },
        "outputId": "f71127c8-e500-4138-c42f-a70935c5a235"
      },
      "source": [
        "traincv <- cv.glmnet(as.matrix(trainData[-1]),trainData$diagnosis,family = \"binomial\",alpha = 1)\n",
        "traincv$lambda.1se"
      ],
      "execution_count": 112,
      "outputs": [
        {
          "output_type": "display_data",
          "data": {
            "text/plain": [
              "[1] 0.00867884"
            ],
            "text/latex": "0.00867884029868522",
            "text/markdown": "0.00867884029868522",
            "text/html": [
              "0.00867884029868522"
            ]
          },
          "metadata": {
            "tags": []
          }
        }
      ]
    },
    {
      "cell_type": "code",
      "metadata": {
        "id": "a2IVCdzarGXa",
        "colab_type": "code",
        "colab": {
          "base_uri": "https://localhost:8080/",
          "height": 262
        },
        "outputId": "8ac60254-9bd9-4e07-fea8-7dc0b4128d51"
      },
      "source": [
        "trainmodel.l1 <- glmnet(as.matrix(trainData[-1]), trainData$diagnosis, family = \"binomial\", alpha = 1, lambda = traincv$lambda.1se)\n",
        "ind.coef.no.nulos <- which(as.numeric(coef(trainmodel.l1)) != 0)\n",
        "names(trainData)[ind.coef.no.nulos]\n",
        "cat(paste(\"Number of variables selected:\", length(ind.coef.no.nulos)))"
      ],
      "execution_count": 113,
      "outputs": [
        {
          "output_type": "display_data",
          "data": {
            "text/plain": [
              " [1] \"diagnosis\"              \"texture_mean\"           \"concave.points_mean\"   \n",
              " [4] \"fractal_dimension_mean\" \"radius_se\"              \"fractal_dimension_se\"  \n",
              " [7] \"radius_worst\"           \"texture_worst\"          \"smoothness_worst\"      \n",
              "[10] \"concavity_worst\"        \"concave.points_worst\"   \"symmetry_worst\"        "
            ],
            "text/latex": "\\begin{enumerate*}\n\\item 'diagnosis'\n\\item 'texture\\_mean'\n\\item 'concave.points\\_mean'\n\\item 'fractal\\_dimension\\_mean'\n\\item 'radius\\_se'\n\\item 'fractal\\_dimension\\_se'\n\\item 'radius\\_worst'\n\\item 'texture\\_worst'\n\\item 'smoothness\\_worst'\n\\item 'concavity\\_worst'\n\\item 'concave.points\\_worst'\n\\item 'symmetry\\_worst'\n\\end{enumerate*}\n",
            "text/markdown": "1. 'diagnosis'\n2. 'texture_mean'\n3. 'concave.points_mean'\n4. 'fractal_dimension_mean'\n5. 'radius_se'\n6. 'fractal_dimension_se'\n7. 'radius_worst'\n8. 'texture_worst'\n9. 'smoothness_worst'\n10. 'concavity_worst'\n11. 'concave.points_worst'\n12. 'symmetry_worst'\n\n\n",
            "text/html": [
              "<ol class=list-inline>\n",
              "\t<li>'diagnosis'</li>\n",
              "\t<li>'texture_mean'</li>\n",
              "\t<li>'concave.points_mean'</li>\n",
              "\t<li>'fractal_dimension_mean'</li>\n",
              "\t<li>'radius_se'</li>\n",
              "\t<li>'fractal_dimension_se'</li>\n",
              "\t<li>'radius_worst'</li>\n",
              "\t<li>'texture_worst'</li>\n",
              "\t<li>'smoothness_worst'</li>\n",
              "\t<li>'concavity_worst'</li>\n",
              "\t<li>'concave.points_worst'</li>\n",
              "\t<li>'symmetry_worst'</li>\n",
              "</ol>\n"
            ]
          },
          "metadata": {
            "tags": []
          }
        },
        {
          "output_type": "stream",
          "text": [
            "Number of variables selected: 12"
          ],
          "name": "stdout"
        }
      ]
    },
    {
      "cell_type": "code",
      "metadata": {
        "id": "Y7KYJic5rXLR",
        "colab_type": "code",
        "colab": {
          "base_uri": "https://localhost:8080/",
          "height": 916
        },
        "outputId": "79d85d75-df9b-4149-8aa6-ad751dfe1973"
      },
      "source": [
        "trainpred.l1 <- predict(trainmodel.l1,as.matrix(trainData[-1]),type = \"response\")\n",
        "trainauc.l1 <- roc.area(trainData$diagnosis,trainpred.l1)$A\n",
        "confusionMatrix(as.factor(round(trainpred.l2)),as.factor(trainData$diagnosis))\n",
        "roc.plot(trainData$diagnosis,trainpred.l1, main=sprintf(\"Curva ROC Regularización L1 (AUC = %g) TRAIN\", trainauc.l1))"
      ],
      "execution_count": 116,
      "outputs": [
        {
          "output_type": "display_data",
          "data": {
            "text/plain": [
              "Confusion Matrix and Statistics\n",
              "\n",
              "          Reference\n",
              "Prediction   0   1\n",
              "         0 149  75\n",
              "         1  59  59\n",
              "                                          \n",
              "               Accuracy : 0.6082          \n",
              "                 95% CI : (0.5542, 0.6602)\n",
              "    No Information Rate : 0.6082          \n",
              "    P-Value [Acc > NIR] : 0.5237          \n",
              "                                          \n",
              "                  Kappa : 0.16            \n",
              "                                          \n",
              " Mcnemar's Test P-Value : 0.1950          \n",
              "                                          \n",
              "            Sensitivity : 0.7163          \n",
              "            Specificity : 0.4403          \n",
              "         Pos Pred Value : 0.6652          \n",
              "         Neg Pred Value : 0.5000          \n",
              "             Prevalence : 0.6082          \n",
              "         Detection Rate : 0.4357          \n",
              "   Detection Prevalence : 0.6550          \n",
              "      Balanced Accuracy : 0.5783          \n",
              "                                          \n",
              "       'Positive' Class : 0               \n",
              "                                          "
            ]
          },
          "metadata": {
            "tags": []
          }
        },
        {
          "output_type": "display_data",
          "data": {
            "image/png": "[encoded data removed]",
            "text/plain": [
              "Plot with title “Curva ROC Regularización L1 (AUC = 0.996197) TRAIN”"
            ]
          },
          "metadata": {
            "tags": [],
            "image/png": {
              "width": 420,
              "height": 420
            },
            "text/plain": {
              "width": 420,
              "height": 420
            }
          }
        }
      ]
    },
    {
      "cell_type": "code",
      "metadata": {
        "id": "i8JZb6EMw_--",
        "colab_type": "code",
        "colab": {
          "base_uri": "https://localhost:8080/",
          "height": 916
        },
        "outputId": "3674e029-7710-4f1d-a4e7-441ef1aec472"
      },
      "source": [
        "testpred.l1 <- predict(trainmodel.l1,as.matrix(testData[-1]),type = \"response\")\n",
        "testauc.l1 <- roc.area(testData$diagnosis,testpred.l1)$A\n",
        "confusionMatrix(as.factor(round(testpred.l2)),as.factor(testData$diagnosis))\n",
        "roc.plot(testData$diagnosis,testpred.l1, main=sprintf(\"Curva ROC Regularización L1 (AUC = %g) TEST\", testauc.l1))"
      ],
      "execution_count": 117,
      "outputs": [
        {
          "output_type": "display_data",
          "data": {
            "text/plain": [
              "Confusion Matrix and Statistics\n",
              "\n",
              "          Reference\n",
              "Prediction   0   1\n",
              "         0 101  45\n",
              "         1  48  33\n",
              "                                          \n",
              "               Accuracy : 0.5903          \n",
              "                 95% CI : (0.5233, 0.6549)\n",
              "    No Information Rate : 0.6564          \n",
              "    P-Value [Acc > NIR] : 0.9840          \n",
              "                                          \n",
              "                  Kappa : 0.1             \n",
              "                                          \n",
              " Mcnemar's Test P-Value : 0.8357          \n",
              "                                          \n",
              "            Sensitivity : 0.6779          \n",
              "            Specificity : 0.4231          \n",
              "         Pos Pred Value : 0.6918          \n",
              "         Neg Pred Value : 0.4074          \n",
              "             Prevalence : 0.6564          \n",
              "         Detection Rate : 0.4449          \n",
              "   Detection Prevalence : 0.6432          \n",
              "      Balanced Accuracy : 0.5505          \n",
              "                                          \n",
              "       'Positive' Class : 0               \n",
              "                                          "
            ]
          },
          "metadata": {
            "tags": []
          }
        },
        {
          "output_type": "display_data",
          "data": {
            "image/png": "[encoded data removed]",
            "text/plain": [
              "Plot with title “Curva ROC Regularización L1 (AUC = 0.997333) TEST”"
            ]
          },
          "metadata": {
            "tags": [],
            "image/png": {
              "width": 420,
              "height": 420
            },
            "text/plain": {
              "width": 420,
              "height": 420
            }
          }
        }
      ]
    },
    {
      "cell_type": "markdown",
      "metadata": {
        "id": "b6Amr3N2e3OR",
        "colab_type": "text"
      },
      "source": [
        "Utilizando la regularización L1, vemos cómo se seleccionaron 13 variables, y aunque el AUC es alto para los mismos datos de entrenamiento usados (60% de los datos), también lo es para los datos de test.\n",
        "\n",
        "El accuracy para los datos de train ronda el 60%, mientras que para los datos de test ronda el 59%, demostrando que existió una penalización del modelo y hay una generalización."
      ]
    },
    {
      "cell_type": "markdown",
      "metadata": {
        "id": "OkLu-Ie1e3OS",
        "colab_type": "text"
      },
      "source": [
        "Si probásemos con la regularización L2 (parámetro alpha = 0), la norma de los módulos se limita pero en este caso ningún coeficiente es 0."
      ]
    },
    {
      "cell_type": "code",
      "metadata": {
        "id": "bIk0xmUQe3OS",
        "colab_type": "code",
        "colab": {
          "base_uri": "https://localhost:8080/",
          "height": 51
        },
        "outputId": "b641005a-ea15-4297-8ba2-1108304e4eae"
      },
      "source": [
        "cv2 <- cv.glmnet(as.matrix(df[-1]),df$diagnosis,family = \"binomial\",alpha = 0)\n",
        "cv2$lambda.1se\n",
        "model.l2 <- glmnet(as.matrix(df[-1]), df$diagnosis, family = \"binomial\", alpha = 0, lambda = cv2$lambda.1se)\n",
        "ind.coef.no.nulos.l2 <- which(as.numeric(coef(model.l2)) != 0)\n",
        "cat(paste(\"Number of variables selected:\", length(ind.coef.no.nulos.l2)))"
      ],
      "execution_count": 118,
      "outputs": [
        {
          "output_type": "display_data",
          "data": {
            "text/plain": [
              "[1] 0.05072067"
            ],
            "text/latex": "0.050720667307082",
            "text/markdown": "0.050720667307082",
            "text/html": [
              "0.050720667307082"
            ]
          },
          "metadata": {
            "tags": []
          }
        },
        {
          "output_type": "stream",
          "text": [
            "Number of variables selected: 30"
          ],
          "name": "stdout"
        }
      ]
    },
    {
      "cell_type": "markdown",
      "metadata": {
        "id": "DHMSq6yIe3OX",
        "colab_type": "text"
      },
      "source": [
        "Calculamos el AUC para el modelo regularizado con el penalty L2."
      ]
    },
    {
      "cell_type": "code",
      "metadata": {
        "scrolled": false,
        "id": "RQsOnzwVe3OY",
        "colab_type": "code",
        "colab": {
          "base_uri": "https://localhost:8080/",
          "height": 436
        },
        "outputId": "e2f57322-c6e8-4667-eac2-de0e804916f1"
      },
      "source": [
        "pred.l2 <- predict(model.l2,as.matrix(df[-1]),type = \"response\")\n",
        "auc.l2 <- roc.area(df$diagnosis,pred.l2)$A\n",
        "roc.plot(df$diagnosis,pred.l2, main=sprintf(\"Curva ROC Regularización L2 (AUC = %g)\", auc.l2))"
      ],
      "execution_count": 119,
      "outputs": [
        {
          "output_type": "display_data",
          "data": {
            "image/png": "[encoded data removed]",
            "text/plain": [
              "Plot with title “Curva ROC Regularización L2 (AUC = 0.995613)”"
            ]
          },
          "metadata": {
            "tags": [],
            "image/png": {
              "width": 420,
              "height": 420
            },
            "text/plain": {
              "width": 420,
              "height": 420
            }
          }
        }
      ]
    },
    {
      "cell_type": "markdown",
      "metadata": {
        "id": "m3fC4Oebe3Ob",
        "colab_type": "text"
      },
      "source": [
        "**TAREA 5:** Comprobar la capacidad de generalización del modelo regularizado mediante _ridge regression_ y estudiar la evolución de los valores de los coeficientes en función del valor de `lambda`"
      ]
    },
    {
      "cell_type": "code",
      "metadata": {
        "id": "oNxl7g7je3Oc",
        "colab_type": "code",
        "colab": {
          "base_uri": "https://localhost:8080/",
          "height": 51
        },
        "outputId": "8acb3e1f-f0fb-4605-8b0c-f3caefb01146"
      },
      "source": [
        "traincv2 <- cv.glmnet(as.matrix(trainData[-1]),trainData$diagnosis,family = \"binomial\",alpha = 0)\n",
        "traincv2$lambda.1se\n",
        "trainmodel.l2 <- glmnet(as.matrix(trainData[-1]), trainData$diagnosis, family = \"binomial\", alpha = 0, lambda = traincv2$lambda.1se)\n",
        "ind.coef.no.nulos.l2 <- which(as.numeric(coef(trainmodel.l2)) != 0)\n",
        "cat(paste(\"Number of variables selected:\", length(ind.coef.no.nulos.l2)))"
      ],
      "execution_count": 120,
      "outputs": [
        {
          "output_type": "display_data",
          "data": {
            "text/plain": [
              "[1] 0.08284374"
            ],
            "text/latex": "0.0828437364861426",
            "text/markdown": "0.0828437364861426",
            "text/html": [
              "0.0828437364861426"
            ]
          },
          "metadata": {
            "tags": []
          }
        },
        {
          "output_type": "stream",
          "text": [
            "Number of variables selected: 30"
          ],
          "name": "stdout"
        }
      ]
    },
    {
      "cell_type": "code",
      "metadata": {
        "id": "8poxloxOt6Lt",
        "colab_type": "code",
        "colab": {
          "base_uri": "https://localhost:8080/",
          "height": 916
        },
        "outputId": "931c658c-c77a-49c9-de2e-e3c9efea879d"
      },
      "source": [
        "trainpred.l2 <- predict(trainmodel.l2,as.matrix(trainData[-1]),type = \"response\")\n",
        "trainauc.l2 <- roc.area(trainData$diagnosis,trainpred.l2)$A\n",
        "confusionMatrix(as.factor(round(trainpred.l2)),as.factor(trainData$diagnosis))\n",
        "roc.plot(trainData$diagnosis,trainpred.l2,main=sprintf(\"Curva ROC Regularización L2 (AUC = %g) TRAIN\", trainauc.l2))"
      ],
      "execution_count": 121,
      "outputs": [
        {
          "output_type": "display_data",
          "data": {
            "text/plain": [
              "Confusion Matrix and Statistics\n",
              "\n",
              "          Reference\n",
              "Prediction   0   1\n",
              "         0 208   8\n",
              "         1   0 126\n",
              "                                          \n",
              "               Accuracy : 0.9766          \n",
              "                 95% CI : (0.9544, 0.9898)\n",
              "    No Information Rate : 0.6082          \n",
              "    P-Value [Acc > NIR] : < 2e-16         \n",
              "                                          \n",
              "                  Kappa : 0.9504          \n",
              "                                          \n",
              " Mcnemar's Test P-Value : 0.01333         \n",
              "                                          \n",
              "            Sensitivity : 1.0000          \n",
              "            Specificity : 0.9403          \n",
              "         Pos Pred Value : 0.9630          \n",
              "         Neg Pred Value : 1.0000          \n",
              "             Prevalence : 0.6082          \n",
              "         Detection Rate : 0.6082          \n",
              "   Detection Prevalence : 0.6316          \n",
              "      Balanced Accuracy : 0.9701          \n",
              "                                          \n",
              "       'Positive' Class : 0               \n",
              "                                          "
            ]
          },
          "metadata": {
            "tags": []
          }
        },
        {
          "output_type": "display_data",
          "data": {
            "image/png": "[encoded data removed]",
            "text/plain": [
              "Plot with title “Curva ROC Regularización L2 (AUC = 0.993327) TRAIN”"
            ]
          },
          "metadata": {
            "tags": [],
            "image/png": {
              "width": 420,
              "height": 420
            },
            "text/plain": {
              "width": 420,
              "height": 420
            }
          }
        }
      ]
    },
    {
      "cell_type": "code",
      "metadata": {
        "id": "oxKIZJmnwmCz",
        "colab_type": "code",
        "colab": {
          "base_uri": "https://localhost:8080/",
          "height": 916
        },
        "outputId": "58fa7a6c-6fbb-46dd-ef47-4fbb1761b7a2"
      },
      "source": [
        "testpred.l2 <- predict(trainmodel.l2,as.matrix(testData[-1]),type = \"response\")\n",
        "testauc.l2 <- roc.area(testData$diagnosis,testpred.l2)$A\n",
        "confusionMatrix(as.factor(round(testpred.l2)),as.factor(testData$diagnosis))\n",
        "roc.plot(testData$diagnosis,testpred.l2,main=sprintf(\"Curva ROC Regularización L2 (AUC = %g) TEST\", testauc.l2))"
      ],
      "execution_count": 122,
      "outputs": [
        {
          "output_type": "display_data",
          "data": {
            "text/plain": [
              "Confusion Matrix and Statistics\n",
              "\n",
              "          Reference\n",
              "Prediction   0   1\n",
              "         0 148   8\n",
              "         1   1  70\n",
              "                                          \n",
              "               Accuracy : 0.9604          \n",
              "                 95% CI : (0.9261, 0.9817)\n",
              "    No Information Rate : 0.6564          \n",
              "    P-Value [Acc > NIR] : <2e-16          \n",
              "                                          \n",
              "                  Kappa : 0.9102          \n",
              "                                          \n",
              " Mcnemar's Test P-Value : 0.0455          \n",
              "                                          \n",
              "            Sensitivity : 0.9933          \n",
              "            Specificity : 0.8974          \n",
              "         Pos Pred Value : 0.9487          \n",
              "         Neg Pred Value : 0.9859          \n",
              "             Prevalence : 0.6564          \n",
              "         Detection Rate : 0.6520          \n",
              "   Detection Prevalence : 0.6872          \n",
              "      Balanced Accuracy : 0.9454          \n",
              "                                          \n",
              "       'Positive' Class : 0               \n",
              "                                          "
            ]
          },
          "metadata": {
            "tags": []
          }
        },
        {
          "output_type": "display_data",
          "data": {
            "image/png": "[encoded data removed]",
            "text/plain": [
              "Plot with title “Curva ROC Regularización L2 (AUC = 0.996902) TEST”"
            ]
          },
          "metadata": {
            "tags": [],
            "image/png": {
              "width": 420,
              "height": 420
            },
            "text/plain": {
              "width": 420,
              "height": 420
            }
          }
        }
      ]
    },
    {
      "cell_type": "markdown",
      "metadata": {
        "id": "edapBYDte3Od",
        "colab_type": "text"
      },
      "source": [
        ""
      ]
    },
    {
      "cell_type": "markdown",
      "metadata": {
        "id": "2I_FiaWWe3Oe",
        "colab_type": "text"
      },
      "source": [
        "**TAREA 6:** Aplicar lo aprendido en esta práctica a otra de las bases de datos de ejemplo."
      ]
    }
  ]
}