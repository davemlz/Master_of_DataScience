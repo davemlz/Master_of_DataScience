{
 "cells": [
  {
   "cell_type": "markdown",
   "metadata": {},
   "source": [
    "# Selección de variables y regularización\n",
    "_Santander Meteorology Group (09-01-2020)_\n",
    "\n",
    " * [Introducción](#Introducción)\n",
    " * [Base de datos de ejemplo: Breast cancer](#Base-de-datos:-Breast-cancer)\n",
    " * [Modelo lineal completo](#Modelo-lineal-completo)\n",
    " * [Selección de variables](#Selección-de-variables)\n",
    " * [Regularización](#Regularización)"
   ]
  },
  {
   "cell_type": "markdown",
   "metadata": {},
   "source": [
    "## Introducción\n",
    "El objetivo principal de un modelo entrenado es que tenga la capacidad de generalizar, es decir, la capacidad de predecir bien nuevos datos que no formen parte de la muestra de entrenamiento (por ejemplo, una muestra de datos de *test*). La relación entre el número de observaciones y el número de variables independientes es clave en la capacidad de generalización de los modelos.\n",
    "\n",
    "Para evitar el sobreajuste en situaciones donde el número de observaciones es del orden, o menor, que el de grados de libertad del sistema y/o donde hay colinealidad, se utilizan (entre otras) técnicas como la selección de variables y la regularización. La primera permite seleccionar de forma objetiva un subconjunto de variables predictoras, mientras que la segunda actúa sobre los parámetros del modelo, impidiendo que tomen valores elevados que harían al modelo muy sensible a diferentes muestras de entrenamiento."
   ]
  },
  {
   "cell_type": "markdown",
   "metadata": {},
   "source": [
    "## Base de datos: Breast cancer\n",
    "\n",
    "En este ejemplo trabajaremos con la base de datos [_Breast cancer_ (Diagnostic)](https://www.kaggle.com/uciml/breast-cancer-wisconsin-data), incluida en Kaggle. El objetivo de este conjunto de datos es clasificar a las pacientes en base a si el cáncer de mama que tienen es benigno (`B`) o maligno (`M`). Para ello se utilizan 31 predictores relacionados con las propiedades de las células cancerígenas, que en comparación con el número de observaciones (569) es bajo.\n",
    "\n",
    "Preparamos la base de datos de la siguiente manera:"
   ]
  },
  {
   "cell_type": "code",
   "execution_count": 1,
   "metadata": {},
   "outputs": [
    {
     "data": {
      "text/html": [
       "<ol class=list-inline>\n",
       "\t<li>569</li>\n",
       "\t<li>30</li>\n",
       "</ol>\n"
      ],
      "text/latex": [
       "\\begin{enumerate*}\n",
       "\\item 569\n",
       "\\item 30\n",
       "\\end{enumerate*}\n"
      ],
      "text/markdown": [
       "1. 569\n",
       "2. 30\n",
       "\n",
       "\n"
      ],
      "text/plain": [
       "[1] 569  30"
      ]
     },
     "metadata": {},
     "output_type": "display_data"
    },
    {
     "data": {
      "text/html": [
       "<ol class=list-inline>\n",
       "\t<li>'diagnosis'</li>\n",
       "\t<li>'radius_mean'</li>\n",
       "\t<li>'texture_mean'</li>\n",
       "\t<li>'perimeter_mean'</li>\n",
       "\t<li>'area_mean'</li>\n",
       "\t<li>'smoothness_mean'</li>\n",
       "\t<li>'compactness_mean'</li>\n",
       "\t<li>'concavity_mean'</li>\n",
       "\t<li>'concave.points_mean'</li>\n",
       "\t<li>'symmetry_mean'</li>\n",
       "\t<li>'fractal_dimension_mean'</li>\n",
       "\t<li>'radius_se'</li>\n",
       "\t<li>'texture_se'</li>\n",
       "\t<li>'perimeter_se'</li>\n",
       "\t<li>'area_se'</li>\n",
       "\t<li>'smoothness_se'</li>\n",
       "\t<li>'compactness_se'</li>\n",
       "\t<li>'concavity_se'</li>\n",
       "\t<li>'concave.points_se'</li>\n",
       "\t<li>'symmetry_se'</li>\n",
       "\t<li>'fractal_dimension_se'</li>\n",
       "\t<li>'radius_worst'</li>\n",
       "\t<li>'texture_worst'</li>\n",
       "\t<li>'perimeter_worst'</li>\n",
       "\t<li>'area_worst'</li>\n",
       "\t<li>'smoothness_worst'</li>\n",
       "\t<li>'compactness_worst'</li>\n",
       "\t<li>'concavity_worst'</li>\n",
       "\t<li>'concave.points_worst'</li>\n",
       "\t<li>'symmetry_worst'</li>\n",
       "</ol>\n"
      ],
      "text/latex": [
       "\\begin{enumerate*}\n",
       "\\item 'diagnosis'\n",
       "\\item 'radius\\_mean'\n",
       "\\item 'texture\\_mean'\n",
       "\\item 'perimeter\\_mean'\n",
       "\\item 'area\\_mean'\n",
       "\\item 'smoothness\\_mean'\n",
       "\\item 'compactness\\_mean'\n",
       "\\item 'concavity\\_mean'\n",
       "\\item 'concave.points\\_mean'\n",
       "\\item 'symmetry\\_mean'\n",
       "\\item 'fractal\\_dimension\\_mean'\n",
       "\\item 'radius\\_se'\n",
       "\\item 'texture\\_se'\n",
       "\\item 'perimeter\\_se'\n",
       "\\item 'area\\_se'\n",
       "\\item 'smoothness\\_se'\n",
       "\\item 'compactness\\_se'\n",
       "\\item 'concavity\\_se'\n",
       "\\item 'concave.points\\_se'\n",
       "\\item 'symmetry\\_se'\n",
       "\\item 'fractal\\_dimension\\_se'\n",
       "\\item 'radius\\_worst'\n",
       "\\item 'texture\\_worst'\n",
       "\\item 'perimeter\\_worst'\n",
       "\\item 'area\\_worst'\n",
       "\\item 'smoothness\\_worst'\n",
       "\\item 'compactness\\_worst'\n",
       "\\item 'concavity\\_worst'\n",
       "\\item 'concave.points\\_worst'\n",
       "\\item 'symmetry\\_worst'\n",
       "\\end{enumerate*}\n"
      ],
      "text/markdown": [
       "1. 'diagnosis'\n",
       "2. 'radius_mean'\n",
       "3. 'texture_mean'\n",
       "4. 'perimeter_mean'\n",
       "5. 'area_mean'\n",
       "6. 'smoothness_mean'\n",
       "7. 'compactness_mean'\n",
       "8. 'concavity_mean'\n",
       "9. 'concave.points_mean'\n",
       "10. 'symmetry_mean'\n",
       "11. 'fractal_dimension_mean'\n",
       "12. 'radius_se'\n",
       "13. 'texture_se'\n",
       "14. 'perimeter_se'\n",
       "15. 'area_se'\n",
       "16. 'smoothness_se'\n",
       "17. 'compactness_se'\n",
       "18. 'concavity_se'\n",
       "19. 'concave.points_se'\n",
       "20. 'symmetry_se'\n",
       "21. 'fractal_dimension_se'\n",
       "22. 'radius_worst'\n",
       "23. 'texture_worst'\n",
       "24. 'perimeter_worst'\n",
       "25. 'area_worst'\n",
       "26. 'smoothness_worst'\n",
       "27. 'compactness_worst'\n",
       "28. 'concavity_worst'\n",
       "29. 'concave.points_worst'\n",
       "30. 'symmetry_worst'\n",
       "\n",
       "\n"
      ],
      "text/plain": [
       " [1] \"diagnosis\"              \"radius_mean\"            \"texture_mean\"          \n",
       " [4] \"perimeter_mean\"         \"area_mean\"              \"smoothness_mean\"       \n",
       " [7] \"compactness_mean\"       \"concavity_mean\"         \"concave.points_mean\"   \n",
       "[10] \"symmetry_mean\"          \"fractal_dimension_mean\" \"radius_se\"             \n",
       "[13] \"texture_se\"             \"perimeter_se\"           \"area_se\"               \n",
       "[16] \"smoothness_se\"          \"compactness_se\"         \"concavity_se\"          \n",
       "[19] \"concave.points_se\"      \"symmetry_se\"            \"fractal_dimension_se\"  \n",
       "[22] \"radius_worst\"           \"texture_worst\"          \"perimeter_worst\"       \n",
       "[25] \"area_worst\"             \"smoothness_worst\"       \"compactness_worst\"     \n",
       "[28] \"concavity_worst\"        \"concave.points_worst\"   \"symmetry_worst\"        "
      ]
     },
     "metadata": {},
     "output_type": "display_data"
    }
   ],
   "source": [
    "data <- read.csv(\"../datasets/breastcancer.csv\")\n",
    "# Eliminar no predictores (id y última columna vacía)\n",
    "df <- data[, -c(1, ncol(data)-1, ncol(data))]\n",
    "# Convertir el factor diagnosis (B y M) a los valores numéricos 0 y 1, respectivamente.\n",
    "levels(df$diagnosis) <- c(0,1) \n",
    "df$diagnosis <- as.numeric(as.character(df$diagnosis))\n",
    "# Normalizar los datos para evitar problemas de diferente variabilidad\n",
    "df[-1] <- apply(df[-1], MARGIN = 2, scale)\n",
    "rm(data)\n",
    "dim(df)\n",
    "names(df)"
   ]
  },
  {
   "cell_type": "code",
   "execution_count": 2,
   "metadata": {
    "scrolled": false
   },
   "outputs": [
    {
     "data": {
      "image/png": "[encoded data removed]",
      "text/plain": [
       "plot without title"
      ]
     },
     "metadata": {
      "image/png": {
       "height": 420,
       "width": 420
      }
     },
     "output_type": "display_data"
    }
   ],
   "source": [
    "library(lattice) # levelplot\n",
    "cor.matrix <- abs(cor(df))\n",
    "levelplot(cor.matrix, at = seq(0, 1, 0.1), col.regions = rev(grey.colors(10)),\n",
    "          scale = list(x = list(rot = 90)))"
   ]
  },
  {
   "cell_type": "markdown",
   "metadata": {},
   "source": [
    "## Modelo lineal completo"
   ]
  },
  {
   "cell_type": "code",
   "execution_count": 3,
   "metadata": {},
   "outputs": [
    {
     "name": "stderr",
     "output_type": "stream",
     "text": [
      "Spam version 2.5-1 (2019-12-12) is loaded.\n",
      "Type 'help( Spam)' or 'demo( spam)' for a short introduction \n",
      "and overview of this package.\n",
      "Help for individual functions is also obtained by adding the\n",
      "suffix '.spam' to the function name, e.g. 'help( chol.spam)'.\n",
      "\n",
      "\n",
      "Attaching package: ‘spam’\n",
      "\n",
      "\n",
      "The following objects are masked from ‘package:base’:\n",
      "\n",
      "    backsolve, forwardsolve\n",
      "\n",
      "\n",
      "See https://github.com/NCAR/Fields for\n",
      " an extensive vignette, other supplements and source code \n",
      "\n",
      "\n",
      "Attaching package: ‘boot’\n",
      "\n",
      "\n",
      "The following object is masked from ‘package:lattice’:\n",
      "\n",
      "    melanoma\n",
      "\n",
      "\n",
      "\n",
      "Attaching package: ‘proxy’\n",
      "\n",
      "\n",
      "The following object is masked from ‘package:spam’:\n",
      "\n",
      "    as.matrix\n",
      "\n",
      "\n",
      "The following objects are masked from ‘package:stats’:\n",
      "\n",
      "    as.dist, dist\n",
      "\n",
      "\n",
      "The following object is masked from ‘package:base’:\n",
      "\n",
      "    as.matrix\n",
      "\n",
      "\n",
      "Loaded dtw v1.21-3. See ?dtw for help, citation(\"dtw\") for use in publication.\n",
      "\n",
      "\n"
     ]
    }
   ],
   "source": [
    "#install.packages(\"verification\")\n",
    "#install.packages(\"caret\")\n",
    "#install.packages(\"e1071\")\n",
    "library(verification, quietly = TRUE) # roc.area\n",
    "library(caret, quietly = TRUE) # confusionMatrix"
   ]
  },
  {
   "cell_type": "markdown",
   "metadata": {},
   "source": [
    "Ahora construimos el modelo lineal mediante la función glm. Como la variable respuesta sigue una distribución de Bernouilli lo más apropiado es realizar una regresión logística."
   ]
  },
  {
   "cell_type": "code",
   "execution_count": 4,
   "metadata": {},
   "outputs": [
    {
     "name": "stderr",
     "output_type": "stream",
     "text": [
      "Warning message:\n",
      "“glm.fit: fitted probabilities numerically 0 or 1 occurred”\n"
     ]
    }
   ],
   "source": [
    "model <- glm(diagnosis ~ ., data = df, family = \"binomial\")\n",
    "pred  <- predict(model,df[-1], type = \"response\")"
   ]
  },
  {
   "cell_type": "markdown",
   "metadata": {},
   "source": [
    "Para comprobar la validez de nuestro modelo en la clasificación del cáncer de mama, utilizaremos el índice Área bajo la curva ROC (AUC, por sus siglas en inglés) disponible en la librería `verification` (cargada previamente)."
   ]
  },
  {
   "cell_type": "code",
   "execution_count": 5,
   "metadata": {},
   "outputs": [
    {
     "data": {
      "image/png": "[encoded data removed]",
      "text/plain": [
       "Plot with title “Curva ROC (AUC=0.999511)”"
      ]
     },
     "metadata": {
      "image/png": {
       "height": 420,
       "width": 420
      }
     },
     "output_type": "display_data"
    }
   ],
   "source": [
    "roc.plot(df$diagnosis,pred,\n",
    "  main=sprintf(\"Curva ROC (AUC=%g)\", roc.area(obs = df$diagnosis,pred)$A)\n",
    ")"
   ]
  },
  {
   "cell_type": "markdown",
   "metadata": {},
   "source": [
    "**TAREA 1:** Estudiar la capacidad de generalización del modelo completo mediante una validacion cruzada de tipo *hold out*, es decir, utilizando una parte de los datos para entrenar el modelo y reservando otra para probarlo."
   ]
  },
  {
   "cell_type": "code",
   "execution_count": null,
   "metadata": {},
   "outputs": [],
   "source": []
  },
  {
   "cell_type": "markdown",
   "metadata": {},
   "source": []
  },
  {
   "cell_type": "markdown",
   "metadata": {},
   "source": [
    "## Selección de variables\n",
    "\n"
   ]
  },
  {
   "cell_type": "markdown",
   "metadata": {},
   "source": [
    "### Selección del mejor subconjunto"
   ]
  },
  {
   "cell_type": "markdown",
   "metadata": {},
   "source": [
    "La función `regsubsets` (`?regsubsets`) de la librería `leaps` nos permite realizar la selección del mejor subconjunto con un número dado de predictores. La sintaxis es similar a la usada para el modelo lineal (`lm`) y, del mismo modo, el comando `summary` nos permite explorar los resultados. Utilizamos el argumento `nvmax` para forzar la utilización de todas las variables (30), ya que por defecto la función regsubsets solo utiliza las 8 primeras."
   ]
  },
  {
   "cell_type": "code",
   "execution_count": 6,
   "metadata": {},
   "outputs": [
    {
     "data": {
      "text/html": [
       "<ol class=list-inline>\n",
       "\t<li>'which'</li>\n",
       "\t<li>'rsq'</li>\n",
       "\t<li>'rss'</li>\n",
       "\t<li>'adjr2'</li>\n",
       "\t<li>'cp'</li>\n",
       "\t<li>'bic'</li>\n",
       "\t<li>'outmat'</li>\n",
       "\t<li>'obj'</li>\n",
       "</ol>\n"
      ],
      "text/latex": [
       "\\begin{enumerate*}\n",
       "\\item 'which'\n",
       "\\item 'rsq'\n",
       "\\item 'rss'\n",
       "\\item 'adjr2'\n",
       "\\item 'cp'\n",
       "\\item 'bic'\n",
       "\\item 'outmat'\n",
       "\\item 'obj'\n",
       "\\end{enumerate*}\n"
      ],
      "text/markdown": [
       "1. 'which'\n",
       "2. 'rsq'\n",
       "3. 'rss'\n",
       "4. 'adjr2'\n",
       "5. 'cp'\n",
       "6. 'bic'\n",
       "7. 'outmat'\n",
       "8. 'obj'\n",
       "\n",
       "\n"
      ],
      "text/plain": [
       "[1] \"which\"  \"rsq\"    \"rss\"    \"adjr2\"  \"cp\"     \"bic\"    \"outmat\" \"obj\"   "
      ]
     },
     "metadata": {},
     "output_type": "display_data"
    }
   ],
   "source": [
    "#install.packages('leaps')\n",
    "library(leaps)\n",
    "regfit.full <- regsubsets(diagnosis ~., df, nvmax = 30)\n",
    "full.summary <- summary(regfit.full)\n",
    "names(full.summary)"
   ]
  },
  {
   "cell_type": "markdown",
   "metadata": {},
   "source": [
    "La función `summary` devuelve medidas del ajuste que se pueden usar para seleccionar el mejor modelo. En particular, si revisamos los valores del ajuste, en este caso rsq, se observa que el estadístico va mejorando a medida que aumentamos el número de variables en el modelo. Sin embargo, si nos fijamos en el estadístico BIC (*Bayesian information criterion*), que penaliza la complejidad del modelo, se observa que los valores óptimos se encuentran considerando 11 variables."
   ]
  },
  {
   "cell_type": "code",
   "execution_count": 7,
   "metadata": {},
   "outputs": [
    {
     "data": {
      "image/png": "[encoded data removed]",
      "text/plain": [
       "plot without title"
      ]
     },
     "metadata": {
      "image/png": {
       "height": 420,
       "width": 420
      }
     },
     "output_type": "display_data"
    }
   ],
   "source": [
    "par(mfrow=c(2,1), mar=c(4,4,1,1))\n",
    "plot(full.summary$rsq,xlab=\"Number of Variables\",ylab=\"RSq\", type=\"l\")\n",
    "plot(full.summary$bic,xlab=\"Number of Variables\",ylab=\"BIC\", type=\"l\")"
   ]
  },
  {
   "cell_type": "code",
   "execution_count": 8,
   "metadata": {},
   "outputs": [
    {
     "data": {
      "text/html": [
       "11"
      ],
      "text/latex": [
       "11"
      ],
      "text/markdown": [
       "11"
      ],
      "text/plain": [
       "[1] 11"
      ]
     },
     "metadata": {},
     "output_type": "display_data"
    }
   ],
   "source": [
    "which.min(full.summary$bic)"
   ]
  },
  {
   "cell_type": "markdown",
   "metadata": {},
   "source": [
    "La propia función `regsubsets` incorpora un método para dibujar los resultados clasificados según los diferentes estadísticos (`? plot.regsubsets`)"
   ]
  },
  {
   "cell_type": "code",
   "execution_count": 9,
   "metadata": {},
   "outputs": [
    {
     "data": {
      "image/png": "[encoded data removed]",
      "text/plain": [
       "plot without title"
      ]
     },
     "metadata": {
      "image/png": {
       "height": 420,
       "width": 420
      }
     },
     "output_type": "display_data"
    },
    {
     "data": {
      "image/png": "[encoded data removed]",
      "text/plain": [
       "plot without title"
      ]
     },
     "metadata": {
      "image/png": {
       "height": 420,
       "width": 420
      }
     },
     "output_type": "display_data"
    }
   ],
   "source": [
    "plot(regfit.full, scale =\"r2\")\n",
    "plot(regfit.full, scale =\"bic\")"
   ]
  },
  {
   "cell_type": "markdown",
   "metadata": {},
   "source": [
    "Cada fila de este gráfico representa el mejor modelo ajustado para un número dado de variables. Cada cuadrado de color representa que la variable entra en ese modelo, mientras que la intensidad del color se asocia con la escala del eje Y. Si, una vez localizado el modelo óptimo (en nuestro caso, el de 11 variables), queremos conocer los coeficientes del modelo, podemos usar la función `coef` con un segundo argumento:"
   ]
  },
  {
   "cell_type": "code",
   "execution_count": 10,
   "metadata": {},
   "outputs": [
    {
     "data": {
      "text/html": [
       "<dl class=dl-horizontal>\n",
       "\t<dt>(Intercept)</dt>\n",
       "\t\t<dd>0.372583479789104</dd>\n",
       "\t<dt>radius_mean</dt>\n",
       "\t\t<dd>-0.17840168622488</dd>\n",
       "\t<dt>compactness_mean</dt>\n",
       "\t\t<dd>-0.129332282502137</dd>\n",
       "\t<dt>concave.points_mean</dt>\n",
       "\t\t<dd>0.196644687579789</dd>\n",
       "\t<dt>radius_se</dt>\n",
       "\t\t<dd>0.0580387760431747</dd>\n",
       "\t<dt>smoothness_se</dt>\n",
       "\t\t<dd>0.0656697156808529</dd>\n",
       "\t<dt>concavity_se</dt>\n",
       "\t\t<dd>-0.0667961085058052</dd>\n",
       "\t<dt>radius_worst</dt>\n",
       "\t\t<dd>0.873519264685047</dd>\n",
       "\t<dt>texture_worst</dt>\n",
       "\t\t<dd>0.0618908682342928</dd>\n",
       "\t<dt>area_worst</dt>\n",
       "\t\t<dd>-0.563902190729326</dd>\n",
       "\t<dt>concavity_worst</dt>\n",
       "\t\t<dd>0.154467115714464</dd>\n",
       "\t<dt>symmetry_worst</dt>\n",
       "\t\t<dd>0.0461066464355399</dd>\n",
       "</dl>\n"
      ],
      "text/latex": [
       "\\begin{description*}\n",
       "\\item[(Intercept)] 0.372583479789104\n",
       "\\item[radius\\textbackslash{}\\_mean] -0.17840168622488\n",
       "\\item[compactness\\textbackslash{}\\_mean] -0.129332282502137\n",
       "\\item[concave.points\\textbackslash{}\\_mean] 0.196644687579789\n",
       "\\item[radius\\textbackslash{}\\_se] 0.0580387760431747\n",
       "\\item[smoothness\\textbackslash{}\\_se] 0.0656697156808529\n",
       "\\item[concavity\\textbackslash{}\\_se] -0.0667961085058052\n",
       "\\item[radius\\textbackslash{}\\_worst] 0.873519264685047\n",
       "\\item[texture\\textbackslash{}\\_worst] 0.0618908682342928\n",
       "\\item[area\\textbackslash{}\\_worst] -0.563902190729326\n",
       "\\item[concavity\\textbackslash{}\\_worst] 0.154467115714464\n",
       "\\item[symmetry\\textbackslash{}\\_worst] 0.0461066464355399\n",
       "\\end{description*}\n"
      ],
      "text/markdown": [
       "(Intercept)\n",
       ":   0.372583479789104radius_mean\n",
       ":   -0.17840168622488compactness_mean\n",
       ":   -0.129332282502137concave.points_mean\n",
       ":   0.196644687579789radius_se\n",
       ":   0.0580387760431747smoothness_se\n",
       ":   0.0656697156808529concavity_se\n",
       ":   -0.0667961085058052radius_worst\n",
       ":   0.873519264685047texture_worst\n",
       ":   0.0618908682342928area_worst\n",
       ":   -0.563902190729326concavity_worst\n",
       ":   0.154467115714464symmetry_worst\n",
       ":   0.0461066464355399\n",
       "\n"
      ],
      "text/plain": [
       "        (Intercept)         radius_mean    compactness_mean concave.points_mean \n",
       "         0.37258348         -0.17840169         -0.12933228          0.19664469 \n",
       "          radius_se       smoothness_se        concavity_se        radius_worst \n",
       "         0.05803878          0.06566972         -0.06679611          0.87351926 \n",
       "      texture_worst          area_worst     concavity_worst      symmetry_worst \n",
       "         0.06189087         -0.56390219          0.15446712          0.04610665 "
      ]
     },
     "metadata": {},
     "output_type": "display_data"
    }
   ],
   "source": [
    "coef(regfit.full, 11)"
   ]
  },
  {
   "cell_type": "markdown",
   "metadata": {},
   "source": [
    "### Selección stepwise\n",
    "Con un leve cambio en los argumentos de la función podemos realizar la selección stepwise, ya sea “forward” o “backward”:"
   ]
  },
  {
   "cell_type": "code",
   "execution_count": 11,
   "metadata": {},
   "outputs": [],
   "source": [
    "regfit.fwd <- regsubsets(diagnosis~., data = df, nvmax = 30 , method =\"forward\")\n",
    "fwd.summary <- summary(regfit.fwd)"
   ]
  },
  {
   "cell_type": "markdown",
   "metadata": {},
   "source": [
    "**TAREA 2:** Estudiar los predictores seleccionados en este caso. ¿cuál es su múmero óptimo? ¿coinciden con los anteriores?"
   ]
  },
  {
   "cell_type": "code",
   "execution_count": null,
   "metadata": {},
   "outputs": [],
   "source": []
  },
  {
   "cell_type": "markdown",
   "metadata": {},
   "source": []
  },
  {
   "cell_type": "markdown",
   "metadata": {},
   "source": [
    "**TAREA 3:** Comparar la selección realizada por el método backward con los métodos exhaustivo y _forward stepwise_."
   ]
  },
  {
   "cell_type": "code",
   "execution_count": null,
   "metadata": {},
   "outputs": [],
   "source": []
  },
  {
   "cell_type": "markdown",
   "metadata": {},
   "source": []
  },
  {
   "cell_type": "markdown",
   "metadata": {},
   "source": [
    "Otra opción para realizar la selección _stepwise_ es usar la función `step`, que forma parte del paquete básico `stats` de R:"
   ]
  },
  {
   "cell_type": "code",
   "execution_count": 12,
   "metadata": {},
   "outputs": [
    {
     "name": "stderr",
     "output_type": "stream",
     "text": [
      "Warning message:\n",
      "“glm.fit: fitted probabilities numerically 0 or 1 occurred”\n"
     ]
    },
    {
     "name": "stdout",
     "output_type": "stream",
     "text": [
      "Start:  AIC=753.44\n",
      "diagnosis ~ 1\n",
      "\n"
     ]
    },
    {
     "name": "stderr",
     "output_type": "stream",
     "text": [
      "Warning message:\n",
      "“glm.fit: fitted probabilities numerically 0 or 1 occurred”\n",
      "Warning message:\n",
      "“glm.fit: fitted probabilities numerically 0 or 1 occurred”\n"
     ]
    },
    {
     "name": "stdout",
     "output_type": "stream",
     "text": [
      "                         Df Deviance    AIC\n",
      "+ perimeter_worst         1   209.48 213.48\n",
      "+ radius_worst            1   229.11 233.11\n",
      "+ area_worst              1   230.64 234.64\n",
      "+ concave.points_worst    1   250.45 254.45\n",
      "+ concave.points_mean     1   258.92 262.92\n",
      "+ perimeter_mean          1   304.48 308.48\n",
      "+ area_mean               1   325.66 329.66\n",
      "+ radius_mean             1   330.01 334.01\n",
      "+ area_se                 1   359.50 363.50\n",
      "+ concavity_mean          1   383.23 387.23\n",
      "+ concavity_worst         1   437.70 441.70\n",
      "+ perimeter_se            1   472.83 476.83\n",
      "+ radius_se               1   480.65 484.65\n",
      "+ compactness_worst       1   505.55 509.55\n",
      "+ compactness_mean        1   508.79 512.79\n",
      "+ texture_worst           1   622.07 626.07\n",
      "+ symmetry_worst          1   641.42 645.42\n",
      "+ smoothness_worst        1   641.42 645.42\n",
      "+ concave.points_se       1   646.01 650.01\n",
      "+ texture_mean            1   646.52 650.52\n",
      "+ smoothness_mean         1   673.95 677.95\n",
      "+ symmetry_mean           1   686.80 690.80\n",
      "+ compactness_se          1   701.77 705.77\n",
      "+ concavity_se            1   707.09 711.09\n",
      "+ fractal_dimension_se    1   748.06 752.06\n",
      "+ smoothness_se           1   748.79 752.79\n",
      "<none>                        751.44 753.44\n",
      "+ fractal_dimension_mean  1   751.35 755.35\n",
      "+ texture_se              1   751.40 755.40\n",
      "+ symmetry_se             1   751.42 755.42\n",
      "\n",
      "Step:  AIC=213.48\n",
      "diagnosis ~ perimeter_worst\n",
      "\n"
     ]
    },
    {
     "name": "stderr",
     "output_type": "stream",
     "text": [
      "Warning message:\n",
      "“glm.fit: fitted probabilities numerically 0 or 1 occurred”\n",
      "Warning message:\n",
      "“glm.fit: fitted probabilities numerically 0 or 1 occurred”\n",
      "Warning message:\n",
      "“glm.fit: fitted probabilities numerically 0 or 1 occurred”\n"
     ]
    },
    {
     "name": "stdout",
     "output_type": "stream",
     "text": [
      "                         Df Deviance    AIC\n",
      "+ smoothness_worst        1   139.18 145.18\n",
      "+ concave.points_worst    1   149.59 155.59\n",
      "+ texture_worst           1   159.68 165.68\n",
      "+ concave.points_mean     1   162.47 168.47\n",
      "+ smoothness_mean         1   165.18 171.18\n",
      "+ symmetry_worst          1   167.85 173.85\n",
      "+ concavity_worst         1   168.55 174.55\n",
      "+ concavity_mean          1   169.78 175.78\n",
      "+ radius_mean             1   173.15 179.15\n",
      "+ compactness_worst       1   175.42 181.42\n",
      "+ symmetry_mean           1   177.18 183.18\n",
      "+ fractal_dimension_mean  1   177.62 183.62\n",
      "+ texture_mean            1   178.63 184.63\n",
      "+ area_mean               1   180.70 186.70\n",
      "+ compactness_mean        1   181.84 187.84\n",
      "+ perimeter_mean          1   183.59 189.59\n",
      "+ smoothness_se           1   191.06 197.06\n",
      "+ texture_se              1   195.30 201.30\n",
      "+ concave.points_se       1   198.67 204.67\n",
      "+ radius_se               1   199.25 205.25\n",
      "+ area_se                 1   201.45 207.45\n",
      "+ symmetry_se             1   201.51 207.51\n",
      "+ perimeter_se            1   202.50 208.50\n",
      "+ compactness_se          1   203.30 209.30\n",
      "+ concavity_se            1   203.93 209.93\n",
      "+ fractal_dimension_se    1   205.07 211.07\n",
      "<none>                        209.48 213.48\n",
      "+ radius_worst            1   208.72 214.72\n",
      "+ area_worst              1   209.14 215.14\n",
      "\n",
      "Step:  AIC=145.18\n",
      "diagnosis ~ perimeter_worst + smoothness_worst\n",
      "\n"
     ]
    },
    {
     "name": "stderr",
     "output_type": "stream",
     "text": [
      "Warning message:\n",
      "“glm.fit: fitted probabilities numerically 0 or 1 occurred”\n",
      "Warning message:\n",
      "“glm.fit: fitted probabilities numerically 0 or 1 occurred”\n",
      "Warning message:\n",
      "“glm.fit: fitted probabilities numerically 0 or 1 occurred”\n",
      "Warning message:\n",
      "“glm.fit: fitted probabilities numerically 0 or 1 occurred”\n",
      "Warning message:\n",
      "“glm.fit: fitted probabilities numerically 0 or 1 occurred”\n",
      "Warning message:\n",
      "“glm.fit: fitted probabilities numerically 0 or 1 occurred”\n",
      "Warning message:\n",
      "“glm.fit: fitted probabilities numerically 0 or 1 occurred”\n",
      "Warning message:\n",
      "“glm.fit: fitted probabilities numerically 0 or 1 occurred”\n"
     ]
    },
    {
     "name": "stdout",
     "output_type": "stream",
     "text": [
      "                         Df Deviance    AIC\n",
      "+ texture_worst           1   103.61 111.61\n",
      "+ texture_mean            1   106.84 114.84\n",
      "+ texture_se              1   122.51 130.51\n",
      "+ area_se                 1   123.42 131.42\n",
      "+ radius_se               1   124.89 132.90\n",
      "+ perimeter_se            1   130.42 138.42\n",
      "+ concavity_mean          1   133.31 141.31\n",
      "+ symmetry_worst          1   134.45 142.45\n",
      "+ area_worst              1   134.65 142.65\n",
      "+ symmetry_se             1   135.31 143.31\n",
      "+ concave.points_mean     1   135.35 143.35\n",
      "+ concave.points_worst    1   135.57 143.57\n",
      "+ concavity_worst         1   135.97 143.97\n",
      "+ symmetry_mean           1   136.21 144.21\n",
      "+ concave.points_se       1   136.32 144.32\n",
      "<none>                        139.18 145.18\n",
      "+ concavity_se            1   137.42 145.42\n",
      "+ radius_worst            1   137.53 145.53\n",
      "+ radius_mean             1   137.66 145.66\n",
      "+ perimeter_mean          1   137.81 145.81\n",
      "+ smoothness_se           1   138.54 146.54\n",
      "+ area_mean               1   138.78 146.78\n",
      "+ fractal_dimension_mean  1   138.97 146.97\n",
      "+ smoothness_mean         1   138.98 146.98\n",
      "+ compactness_mean        1   139.06 147.06\n",
      "+ compactness_worst       1   139.06 147.06\n",
      "+ compactness_se          1   139.11 147.11\n",
      "+ fractal_dimension_se    1   139.18 147.18\n"
     ]
    },
    {
     "name": "stderr",
     "output_type": "stream",
     "text": [
      "Warning message:\n",
      "“glm.fit: fitted probabilities numerically 0 or 1 occurred”\n"
     ]
    },
    {
     "name": "stdout",
     "output_type": "stream",
     "text": [
      "\n",
      "Step:  AIC=111.61\n",
      "diagnosis ~ perimeter_worst + smoothness_worst + texture_worst\n",
      "\n"
     ]
    },
    {
     "name": "stderr",
     "output_type": "stream",
     "text": [
      "Warning message:\n",
      "“glm.fit: fitted probabilities numerically 0 or 1 occurred”\n",
      "Warning message:\n",
      "“glm.fit: fitted probabilities numerically 0 or 1 occurred”\n",
      "Warning message:\n",
      "“glm.fit: fitted probabilities numerically 0 or 1 occurred”\n",
      "Warning message:\n",
      "“glm.fit: fitted probabilities numerically 0 or 1 occurred”\n",
      "Warning message:\n",
      "“glm.fit: fitted probabilities numerically 0 or 1 occurred”\n",
      "Warning message:\n",
      "“glm.fit: fitted probabilities numerically 0 or 1 occurred”\n",
      "Warning message:\n",
      "“glm.fit: fitted probabilities numerically 0 or 1 occurred”\n",
      "Warning message:\n",
      "“glm.fit: fitted probabilities numerically 0 or 1 occurred”\n",
      "Warning message:\n",
      "“glm.fit: fitted probabilities numerically 0 or 1 occurred”\n",
      "Warning message:\n",
      "“glm.fit: fitted probabilities numerically 0 or 1 occurred”\n",
      "Warning message:\n",
      "“glm.fit: fitted probabilities numerically 0 or 1 occurred”\n",
      "Warning message:\n",
      "“glm.fit: fitted probabilities numerically 0 or 1 occurred”\n",
      "Warning message:\n",
      "“glm.fit: fitted probabilities numerically 0 or 1 occurred”\n",
      "Warning message:\n",
      "“glm.fit: fitted probabilities numerically 0 or 1 occurred”\n",
      "Warning message:\n",
      "“glm.fit: fitted probabilities numerically 0 or 1 occurred”\n",
      "Warning message:\n",
      "“glm.fit: fitted probabilities numerically 0 or 1 occurred”\n",
      "Warning message:\n",
      "“glm.fit: fitted probabilities numerically 0 or 1 occurred”\n",
      "Warning message:\n",
      "“glm.fit: fitted probabilities numerically 0 or 1 occurred”\n",
      "Warning message:\n",
      "“glm.fit: fitted probabilities numerically 0 or 1 occurred”\n",
      "Warning message:\n",
      "“glm.fit: fitted probabilities numerically 0 or 1 occurred”\n",
      "Warning message:\n",
      "“glm.fit: fitted probabilities numerically 0 or 1 occurred”\n",
      "Warning message:\n",
      "“glm.fit: fitted probabilities numerically 0 or 1 occurred”\n",
      "Warning message:\n",
      "“glm.fit: fitted probabilities numerically 0 or 1 occurred”\n",
      "Warning message:\n",
      "“glm.fit: fitted probabilities numerically 0 or 1 occurred”\n",
      "Warning message:\n",
      "“glm.fit: fitted probabilities numerically 0 or 1 occurred”\n",
      "Warning message:\n",
      "“glm.fit: fitted probabilities numerically 0 or 1 occurred”\n",
      "Warning message:\n",
      "“glm.fit: fitted probabilities numerically 0 or 1 occurred”\n"
     ]
    },
    {
     "name": "stdout",
     "output_type": "stream",
     "text": [
      "                         Df Deviance     AIC\n",
      "+ radius_se               1   87.205  97.205\n",
      "+ area_se                 1   87.437  97.437\n",
      "+ perimeter_se            1   94.237 104.237\n",
      "+ concave.points_mean     1   94.884 104.884\n",
      "+ concave.points_se       1   98.633 108.633\n",
      "+ symmetry_mean           1   98.669 108.669\n",
      "+ concavity_mean          1   98.727 108.727\n",
      "+ symmetry_se             1   98.826 108.826\n",
      "+ concave.points_worst    1   99.349 109.349\n",
      "+ symmetry_worst          1  100.170 110.170\n",
      "+ area_worst              1  100.526 110.526\n",
      "+ radius_worst            1  101.505 111.505\n",
      "<none>                       103.612 111.612\n",
      "+ smoothness_mean         1  101.830 111.830\n",
      "+ concavity_worst         1  102.514 112.514\n",
      "+ concavity_se            1  102.560 112.560\n",
      "+ texture_mean            1  103.218 113.218\n",
      "+ fractal_dimension_se    1  103.224 113.224\n",
      "+ texture_se              1  103.237 113.237\n",
      "+ smoothness_se           1  103.285 113.285\n",
      "+ compactness_worst       1  103.360 113.360\n",
      "+ compactness_se          1  103.369 113.369\n",
      "+ radius_mean             1  103.583 113.583\n",
      "+ area_mean               1  103.589 113.589\n",
      "+ perimeter_mean          1  103.604 113.604\n",
      "+ fractal_dimension_mean  1  103.605 113.605\n",
      "+ compactness_mean        1  103.610 113.610\n"
     ]
    },
    {
     "name": "stderr",
     "output_type": "stream",
     "text": [
      "Warning message:\n",
      "“glm.fit: fitted probabilities numerically 0 or 1 occurred”\n"
     ]
    },
    {
     "name": "stdout",
     "output_type": "stream",
     "text": [
      "\n",
      "Step:  AIC=97.2\n",
      "diagnosis ~ perimeter_worst + smoothness_worst + texture_worst + \n",
      "    radius_se\n",
      "\n"
     ]
    },
    {
     "name": "stderr",
     "output_type": "stream",
     "text": [
      "Warning message:\n",
      "“glm.fit: fitted probabilities numerically 0 or 1 occurred”\n",
      "Warning message:\n",
      "“glm.fit: fitted probabilities numerically 0 or 1 occurred”\n",
      "Warning message:\n",
      "“glm.fit: fitted probabilities numerically 0 or 1 occurred”\n",
      "Warning message:\n",
      "“glm.fit: fitted probabilities numerically 0 or 1 occurred”\n",
      "Warning message:\n",
      "“glm.fit: fitted probabilities numerically 0 or 1 occurred”\n",
      "Warning message:\n",
      "“glm.fit: fitted probabilities numerically 0 or 1 occurred”\n",
      "Warning message:\n",
      "“glm.fit: fitted probabilities numerically 0 or 1 occurred”\n",
      "Warning message:\n",
      "“glm.fit: fitted probabilities numerically 0 or 1 occurred”\n",
      "Warning message:\n",
      "“glm.fit: fitted probabilities numerically 0 or 1 occurred”\n",
      "Warning message:\n",
      "“glm.fit: fitted probabilities numerically 0 or 1 occurred”\n",
      "Warning message:\n",
      "“glm.fit: fitted probabilities numerically 0 or 1 occurred”\n",
      "Warning message:\n",
      "“glm.fit: fitted probabilities numerically 0 or 1 occurred”\n",
      "Warning message:\n",
      "“glm.fit: fitted probabilities numerically 0 or 1 occurred”\n",
      "Warning message:\n",
      "“glm.fit: fitted probabilities numerically 0 or 1 occurred”\n",
      "Warning message:\n",
      "“glm.fit: fitted probabilities numerically 0 or 1 occurred”\n",
      "Warning message:\n",
      "“glm.fit: fitted probabilities numerically 0 or 1 occurred”\n",
      "Warning message:\n",
      "“glm.fit: fitted probabilities numerically 0 or 1 occurred”\n",
      "Warning message:\n",
      "“glm.fit: fitted probabilities numerically 0 or 1 occurred”\n",
      "Warning message:\n",
      "“glm.fit: fitted probabilities numerically 0 or 1 occurred”\n",
      "Warning message:\n",
      "“glm.fit: fitted probabilities numerically 0 or 1 occurred”\n",
      "Warning message:\n",
      "“glm.fit: fitted probabilities numerically 0 or 1 occurred”\n",
      "Warning message:\n",
      "“glm.fit: fitted probabilities numerically 0 or 1 occurred”\n",
      "Warning message:\n",
      "“glm.fit: fitted probabilities numerically 0 or 1 occurred”\n",
      "Warning message:\n",
      "“glm.fit: fitted probabilities numerically 0 or 1 occurred”\n",
      "Warning message:\n",
      "“glm.fit: fitted probabilities numerically 0 or 1 occurred”\n",
      "Warning message:\n",
      "“glm.fit: fitted probabilities numerically 0 or 1 occurred”\n"
     ]
    },
    {
     "name": "stdout",
     "output_type": "stream",
     "text": [
      "                         Df Deviance    AIC\n",
      "+ symmetry_worst          1   79.073 91.073\n",
      "+ concave.points_worst    1   79.196 91.196\n",
      "+ texture_se              1   82.558 94.558\n",
      "+ concave.points_mean     1   84.004 96.004\n",
      "+ concavity_worst         1   84.146 96.146\n",
      "+ fractal_dimension_se    1   84.287 96.287\n",
      "+ symmetry_mean           1   84.542 96.542\n",
      "+ compactness_se          1   84.888 96.888\n",
      "+ perimeter_se            1   85.151 97.151\n",
      "+ concavity_mean          1   85.159 97.159\n",
      "<none>                        87.205 97.205\n",
      "+ area_worst              1   85.805 97.805\n",
      "+ smoothness_se           1   85.810 97.810\n",
      "+ symmetry_se             1   86.025 98.025\n",
      "+ radius_worst            1   86.030 98.030\n",
      "+ compactness_mean        1   86.597 98.597\n",
      "+ fractal_dimension_mean  1   86.729 98.729\n",
      "+ perimeter_mean          1   86.780 98.780\n",
      "+ radius_mean             1   86.873 98.873\n",
      "+ area_mean               1   87.043 99.043\n",
      "+ texture_mean            1   87.050 99.050\n",
      "+ smoothness_mean         1   87.075 99.075\n",
      "+ concave.points_se       1   87.081 99.081\n",
      "+ area_se                 1   87.170 99.170\n",
      "+ compactness_worst       1   87.194 99.194\n",
      "+ concavity_se            1   87.205 99.205\n"
     ]
    },
    {
     "name": "stderr",
     "output_type": "stream",
     "text": [
      "Warning message:\n",
      "“glm.fit: fitted probabilities numerically 0 or 1 occurred”\n"
     ]
    },
    {
     "name": "stdout",
     "output_type": "stream",
     "text": [
      "\n",
      "Step:  AIC=91.07\n",
      "diagnosis ~ perimeter_worst + smoothness_worst + texture_worst + \n",
      "    radius_se + symmetry_worst\n",
      "\n"
     ]
    },
    {
     "name": "stderr",
     "output_type": "stream",
     "text": [
      "Warning message:\n",
      "“glm.fit: fitted probabilities numerically 0 or 1 occurred”\n",
      "Warning message:\n",
      "“glm.fit: fitted probabilities numerically 0 or 1 occurred”\n",
      "Warning message:\n",
      "“glm.fit: fitted probabilities numerically 0 or 1 occurred”\n",
      "Warning message:\n",
      "“glm.fit: fitted probabilities numerically 0 or 1 occurred”\n",
      "Warning message:\n",
      "“glm.fit: fitted probabilities numerically 0 or 1 occurred”\n",
      "Warning message:\n",
      "“glm.fit: fitted probabilities numerically 0 or 1 occurred”\n",
      "Warning message:\n",
      "“glm.fit: fitted probabilities numerically 0 or 1 occurred”\n",
      "Warning message:\n",
      "“glm.fit: fitted probabilities numerically 0 or 1 occurred”\n",
      "Warning message:\n",
      "“glm.fit: fitted probabilities numerically 0 or 1 occurred”\n",
      "Warning message:\n",
      "“glm.fit: fitted probabilities numerically 0 or 1 occurred”\n",
      "Warning message:\n",
      "“glm.fit: fitted probabilities numerically 0 or 1 occurred”\n",
      "Warning message:\n",
      "“glm.fit: fitted probabilities numerically 0 or 1 occurred”\n",
      "Warning message:\n",
      "“glm.fit: fitted probabilities numerically 0 or 1 occurred”\n",
      "Warning message:\n",
      "“glm.fit: fitted probabilities numerically 0 or 1 occurred”\n",
      "Warning message:\n",
      "“glm.fit: fitted probabilities numerically 0 or 1 occurred”\n",
      "Warning message:\n",
      "“glm.fit: fitted probabilities numerically 0 or 1 occurred”\n",
      "Warning message:\n",
      "“glm.fit: fitted probabilities numerically 0 or 1 occurred”\n",
      "Warning message:\n",
      "“glm.fit: fitted probabilities numerically 0 or 1 occurred”\n",
      "Warning message:\n",
      "“glm.fit: fitted probabilities numerically 0 or 1 occurred”\n",
      "Warning message:\n",
      "“glm.fit: fitted probabilities numerically 0 or 1 occurred”\n",
      "Warning message:\n",
      "“glm.fit: fitted probabilities numerically 0 or 1 occurred”\n",
      "Warning message:\n",
      "“glm.fit: fitted probabilities numerically 0 or 1 occurred”\n",
      "Warning message:\n",
      "“glm.fit: fitted probabilities numerically 0 or 1 occurred”\n",
      "Warning message:\n",
      "“glm.fit: fitted probabilities numerically 0 or 1 occurred”\n",
      "Warning message:\n",
      "“glm.fit: fitted probabilities numerically 0 or 1 occurred”\n"
     ]
    },
    {
     "name": "stdout",
     "output_type": "stream",
     "text": [
      "                         Df Deviance    AIC\n",
      "+ compactness_se          1   74.511 88.511\n",
      "+ concave.points_worst    1   74.850 88.850\n",
      "+ fractal_dimension_se    1   75.551 89.551\n",
      "+ texture_se              1   75.869 89.869\n",
      "+ area_worst              1   76.196 90.196\n",
      "+ compactness_mean        1   76.436 90.436\n",
      "+ perimeter_se            1   76.737 90.737\n",
      "+ radius_worst            1   76.821 90.821\n",
      "+ fractal_dimension_mean  1   76.900 90.900\n",
      "+ concave.points_mean     1   76.974 90.974\n",
      "<none>                        79.073 91.073\n",
      "+ compactness_worst       1   77.638 91.638\n",
      "+ concavity_worst         1   78.142 92.142\n",
      "+ symmetry_se             1   78.211 92.211\n",
      "+ concavity_mean          1   78.438 92.438\n",
      "+ area_se                 1   78.494 92.494\n",
      "+ smoothness_mean         1   78.730 92.730\n",
      "+ smoothness_se           1   78.772 92.772\n",
      "+ symmetry_mean           1   78.803 92.803\n",
      "+ area_mean               1   78.899 92.899\n",
      "+ concavity_se            1   78.973 92.973\n",
      "+ radius_mean             1   78.999 92.999\n",
      "+ concave.points_se       1   79.005 93.005\n",
      "+ texture_mean            1   79.034 93.034\n",
      "+ perimeter_mean          1   79.072 93.072\n"
     ]
    },
    {
     "name": "stderr",
     "output_type": "stream",
     "text": [
      "Warning message:\n",
      "“glm.fit: fitted probabilities numerically 0 or 1 occurred”\n"
     ]
    },
    {
     "name": "stdout",
     "output_type": "stream",
     "text": [
      "\n",
      "Step:  AIC=88.51\n",
      "diagnosis ~ perimeter_worst + smoothness_worst + texture_worst + \n",
      "    radius_se + symmetry_worst + compactness_se\n",
      "\n"
     ]
    },
    {
     "name": "stderr",
     "output_type": "stream",
     "text": [
      "Warning message:\n",
      "“glm.fit: fitted probabilities numerically 0 or 1 occurred”\n",
      "Warning message:\n",
      "“glm.fit: fitted probabilities numerically 0 or 1 occurred”\n",
      "Warning message:\n",
      "“glm.fit: fitted probabilities numerically 0 or 1 occurred”\n",
      "Warning message:\n",
      "“glm.fit: fitted probabilities numerically 0 or 1 occurred”\n",
      "Warning message:\n",
      "“glm.fit: fitted probabilities numerically 0 or 1 occurred”\n",
      "Warning message:\n",
      "“glm.fit: fitted probabilities numerically 0 or 1 occurred”\n",
      "Warning message:\n",
      "“glm.fit: fitted probabilities numerically 0 or 1 occurred”\n",
      "Warning message:\n",
      "“glm.fit: fitted probabilities numerically 0 or 1 occurred”\n",
      "Warning message:\n",
      "“glm.fit: fitted probabilities numerically 0 or 1 occurred”\n",
      "Warning message:\n",
      "“glm.fit: fitted probabilities numerically 0 or 1 occurred”\n",
      "Warning message:\n",
      "“glm.fit: fitted probabilities numerically 0 or 1 occurred”\n",
      "Warning message:\n",
      "“glm.fit: fitted probabilities numerically 0 or 1 occurred”\n",
      "Warning message:\n",
      "“glm.fit: fitted probabilities numerically 0 or 1 occurred”\n",
      "Warning message:\n",
      "“glm.fit: fitted probabilities numerically 0 or 1 occurred”\n",
      "Warning message:\n",
      "“glm.fit: fitted probabilities numerically 0 or 1 occurred”\n",
      "Warning message:\n",
      "“glm.fit: fitted probabilities numerically 0 or 1 occurred”\n",
      "Warning message:\n",
      "“glm.fit: fitted probabilities numerically 0 or 1 occurred”\n",
      "Warning message:\n",
      "“glm.fit: fitted probabilities numerically 0 or 1 occurred”\n",
      "Warning message:\n",
      "“glm.fit: fitted probabilities numerically 0 or 1 occurred”\n",
      "Warning message:\n",
      "“glm.fit: fitted probabilities numerically 0 or 1 occurred”\n",
      "Warning message:\n",
      "“glm.fit: fitted probabilities numerically 0 or 1 occurred”\n",
      "Warning message:\n",
      "“glm.fit: fitted probabilities numerically 0 or 1 occurred”\n",
      "Warning message:\n",
      "“glm.fit: fitted probabilities numerically 0 or 1 occurred”\n",
      "Warning message:\n",
      "“glm.fit: fitted probabilities numerically 0 or 1 occurred”\n"
     ]
    },
    {
     "name": "stdout",
     "output_type": "stream",
     "text": [
      "                         Df Deviance    AIC\n",
      "+ concavity_mean          1   65.529 81.529\n",
      "+ concave.points_worst    1   65.593 81.593\n",
      "+ concave.points_mean     1   67.066 83.066\n",
      "+ concavity_worst         1   67.234 83.234\n",
      "+ concave.points_se       1   68.551 84.551\n",
      "+ concavity_se            1   69.777 85.777\n",
      "<none>                        74.511 88.511\n",
      "+ texture_se              1   72.725 88.725\n",
      "+ perimeter_se            1   73.232 89.232\n",
      "+ smoothness_se           1   73.614 89.614\n",
      "+ area_se                 1   73.733 89.733\n",
      "+ area_worst              1   74.085 90.085\n",
      "+ radius_worst            1   74.330 90.330\n",
      "+ symmetry_se             1   74.406 90.406\n",
      "+ fractal_dimension_mean  1   74.408 90.408\n",
      "+ texture_mean            1   74.443 90.443\n",
      "+ compactness_mean        1   74.471 90.471\n",
      "+ smoothness_mean         1   74.491 90.491\n",
      "+ perimeter_mean          1   74.498 90.498\n",
      "+ compactness_worst       1   74.501 90.501\n",
      "+ fractal_dimension_se    1   74.502 90.502\n",
      "+ radius_mean             1   74.505 90.505\n",
      "+ area_mean               1   74.505 90.505\n",
      "+ symmetry_mean           1   74.508 90.508\n"
     ]
    },
    {
     "name": "stderr",
     "output_type": "stream",
     "text": [
      "Warning message:\n",
      "“glm.fit: fitted probabilities numerically 0 or 1 occurred”\n"
     ]
    },
    {
     "name": "stdout",
     "output_type": "stream",
     "text": [
      "\n",
      "Step:  AIC=81.53\n",
      "diagnosis ~ perimeter_worst + smoothness_worst + texture_worst + \n",
      "    radius_se + symmetry_worst + compactness_se + concavity_mean\n",
      "\n"
     ]
    },
    {
     "name": "stderr",
     "output_type": "stream",
     "text": [
      "Warning message:\n",
      "“glm.fit: fitted probabilities numerically 0 or 1 occurred”\n",
      "Warning message:\n",
      "“glm.fit: fitted probabilities numerically 0 or 1 occurred”\n",
      "Warning message:\n",
      "“glm.fit: fitted probabilities numerically 0 or 1 occurred”\n",
      "Warning message:\n",
      "“glm.fit: fitted probabilities numerically 0 or 1 occurred”\n",
      "Warning message:\n",
      "“glm.fit: fitted probabilities numerically 0 or 1 occurred”\n",
      "Warning message:\n",
      "“glm.fit: fitted probabilities numerically 0 or 1 occurred”\n",
      "Warning message:\n",
      "“glm.fit: fitted probabilities numerically 0 or 1 occurred”\n",
      "Warning message:\n",
      "“glm.fit: fitted probabilities numerically 0 or 1 occurred”\n",
      "Warning message:\n",
      "“glm.fit: fitted probabilities numerically 0 or 1 occurred”\n",
      "Warning message:\n",
      "“glm.fit: fitted probabilities numerically 0 or 1 occurred”\n",
      "Warning message:\n",
      "“glm.fit: fitted probabilities numerically 0 or 1 occurred”\n",
      "Warning message:\n",
      "“glm.fit: fitted probabilities numerically 0 or 1 occurred”\n",
      "Warning message:\n",
      "“glm.fit: fitted probabilities numerically 0 or 1 occurred”\n",
      "Warning message:\n",
      "“glm.fit: fitted probabilities numerically 0 or 1 occurred”\n",
      "Warning message:\n",
      "“glm.fit: fitted probabilities numerically 0 or 1 occurred”\n",
      "Warning message:\n",
      "“glm.fit: fitted probabilities numerically 0 or 1 occurred”\n",
      "Warning message:\n",
      "“glm.fit: fitted probabilities numerically 0 or 1 occurred”\n",
      "Warning message:\n",
      "“glm.fit: fitted probabilities numerically 0 or 1 occurred”\n",
      "Warning message:\n",
      "“glm.fit: fitted probabilities numerically 0 or 1 occurred”\n",
      "Warning message:\n",
      "“glm.fit: fitted probabilities numerically 0 or 1 occurred”\n",
      "Warning message:\n",
      "“glm.fit: fitted probabilities numerically 0 or 1 occurred”\n",
      "Warning message:\n",
      "“glm.fit: fitted probabilities numerically 0 or 1 occurred”\n",
      "Warning message:\n",
      "“glm.fit: fitted probabilities numerically 0 or 1 occurred”\n"
     ]
    },
    {
     "name": "stdout",
     "output_type": "stream",
     "text": [
      "                         Df Deviance    AIC\n",
      "+ texture_se              1   61.258 79.258\n",
      "+ concave.points_worst    1   61.850 79.850\n",
      "+ area_se                 1   63.217 81.217\n",
      "<none>                        65.529 81.529\n",
      "+ perimeter_se            1   63.661 81.661\n",
      "+ area_worst              1   63.951 81.951\n",
      "+ concave.points_se       1   63.965 81.965\n",
      "+ radius_worst            1   64.003 82.003\n",
      "+ compactness_mean        1   64.078 82.078\n",
      "+ concavity_worst         1   64.328 82.328\n",
      "+ concave.points_mean     1   64.438 82.438\n",
      "+ fractal_dimension_mean  1   64.621 82.621\n",
      "+ smoothness_se           1   64.905 82.905\n",
      "+ symmetry_mean           1   64.943 82.943\n",
      "+ fractal_dimension_se    1   65.196 83.196\n",
      "+ texture_mean            1   65.351 83.351\n",
      "+ smoothness_mean         1   65.353 83.353\n",
      "+ symmetry_se             1   65.399 83.399\n",
      "+ area_mean               1   65.487 83.487\n",
      "+ concavity_se            1   65.506 83.506\n",
      "+ radius_mean             1   65.513 83.513\n",
      "+ perimeter_mean          1   65.523 83.523\n",
      "+ compactness_worst       1   65.527 83.527\n"
     ]
    },
    {
     "name": "stderr",
     "output_type": "stream",
     "text": [
      "Warning message:\n",
      "“glm.fit: fitted probabilities numerically 0 or 1 occurred”\n"
     ]
    },
    {
     "name": "stdout",
     "output_type": "stream",
     "text": [
      "\n",
      "Step:  AIC=79.26\n",
      "diagnosis ~ perimeter_worst + smoothness_worst + texture_worst + \n",
      "    radius_se + symmetry_worst + compactness_se + concavity_mean + \n",
      "    texture_se\n",
      "\n"
     ]
    },
    {
     "name": "stderr",
     "output_type": "stream",
     "text": [
      "Warning message:\n",
      "“glm.fit: fitted probabilities numerically 0 or 1 occurred”\n",
      "Warning message:\n",
      "“glm.fit: fitted probabilities numerically 0 or 1 occurred”\n",
      "Warning message:\n",
      "“glm.fit: fitted probabilities numerically 0 or 1 occurred”\n",
      "Warning message:\n",
      "“glm.fit: fitted probabilities numerically 0 or 1 occurred”\n",
      "Warning message:\n",
      "“glm.fit: fitted probabilities numerically 0 or 1 occurred”\n",
      "Warning message:\n",
      "“glm.fit: fitted probabilities numerically 0 or 1 occurred”\n",
      "Warning message:\n",
      "“glm.fit: fitted probabilities numerically 0 or 1 occurred”\n",
      "Warning message:\n",
      "“glm.fit: fitted probabilities numerically 0 or 1 occurred”\n",
      "Warning message:\n",
      "“glm.fit: fitted probabilities numerically 0 or 1 occurred”\n",
      "Warning message:\n",
      "“glm.fit: fitted probabilities numerically 0 or 1 occurred”\n",
      "Warning message:\n",
      "“glm.fit: fitted probabilities numerically 0 or 1 occurred”\n",
      "Warning message:\n",
      "“glm.fit: fitted probabilities numerically 0 or 1 occurred”\n",
      "Warning message:\n",
      "“glm.fit: fitted probabilities numerically 0 or 1 occurred”\n",
      "Warning message:\n",
      "“glm.fit: fitted probabilities numerically 0 or 1 occurred”\n",
      "Warning message:\n",
      "“glm.fit: fitted probabilities numerically 0 or 1 occurred”\n",
      "Warning message:\n",
      "“glm.fit: fitted probabilities numerically 0 or 1 occurred”\n",
      "Warning message:\n",
      "“glm.fit: fitted probabilities numerically 0 or 1 occurred”\n",
      "Warning message:\n",
      "“glm.fit: fitted probabilities numerically 0 or 1 occurred”\n",
      "Warning message:\n",
      "“glm.fit: fitted probabilities numerically 0 or 1 occurred”\n",
      "Warning message:\n",
      "“glm.fit: fitted probabilities numerically 0 or 1 occurred”\n",
      "Warning message:\n",
      "“glm.fit: fitted probabilities numerically 0 or 1 occurred”\n",
      "Warning message:\n",
      "“glm.fit: fitted probabilities numerically 0 or 1 occurred”\n"
     ]
    },
    {
     "name": "stdout",
     "output_type": "stream",
     "text": [
      "                         Df Deviance    AIC\n",
      "+ area_se                 1   58.643 78.643\n",
      "+ concave.points_worst    1   58.739 78.739\n",
      "+ area_worst              1   59.167 79.167\n",
      "<none>                        61.258 79.258\n",
      "+ radius_worst            1   59.387 79.387\n",
      "+ perimeter_se            1   59.954 79.954\n",
      "+ compactness_mean        1   60.049 80.049\n",
      "+ concave.points_se       1   60.277 80.277\n",
      "+ concave.points_mean     1   60.323 80.323\n",
      "+ texture_mean            1   60.489 80.489\n",
      "+ fractal_dimension_mean  1   60.498 80.498\n",
      "+ fractal_dimension_se    1   60.500 80.500\n",
      "+ concavity_worst         1   60.579 80.579\n",
      "+ smoothness_se           1   60.674 80.674\n",
      "+ area_mean               1   61.103 81.103\n",
      "+ radius_mean             1   61.162 81.162\n",
      "+ compactness_worst       1   61.166 81.166\n",
      "+ smoothness_mean         1   61.214 81.214\n",
      "+ symmetry_mean           1   61.254 81.254\n",
      "+ perimeter_mean          1   61.254 81.254\n",
      "+ concavity_se            1   61.255 81.255\n",
      "+ symmetry_se             1   61.257 81.257\n"
     ]
    },
    {
     "name": "stderr",
     "output_type": "stream",
     "text": [
      "Warning message:\n",
      "“glm.fit: fitted probabilities numerically 0 or 1 occurred”\n"
     ]
    },
    {
     "name": "stdout",
     "output_type": "stream",
     "text": [
      "\n",
      "Step:  AIC=78.64\n",
      "diagnosis ~ perimeter_worst + smoothness_worst + texture_worst + \n",
      "    radius_se + symmetry_worst + compactness_se + concavity_mean + \n",
      "    texture_se + area_se\n",
      "\n"
     ]
    },
    {
     "name": "stderr",
     "output_type": "stream",
     "text": [
      "Warning message:\n",
      "“glm.fit: fitted probabilities numerically 0 or 1 occurred”\n",
      "Warning message:\n",
      "“glm.fit: fitted probabilities numerically 0 or 1 occurred”\n",
      "Warning message:\n",
      "“glm.fit: fitted probabilities numerically 0 or 1 occurred”\n",
      "Warning message:\n",
      "“glm.fit: fitted probabilities numerically 0 or 1 occurred”\n",
      "Warning message:\n",
      "“glm.fit: fitted probabilities numerically 0 or 1 occurred”\n",
      "Warning message:\n",
      "“glm.fit: fitted probabilities numerically 0 or 1 occurred”\n",
      "Warning message:\n",
      "“glm.fit: fitted probabilities numerically 0 or 1 occurred”\n",
      "Warning message:\n",
      "“glm.fit: fitted probabilities numerically 0 or 1 occurred”\n",
      "Warning message:\n",
      "“glm.fit: fitted probabilities numerically 0 or 1 occurred”\n",
      "Warning message:\n",
      "“glm.fit: fitted probabilities numerically 0 or 1 occurred”\n",
      "Warning message:\n",
      "“glm.fit: fitted probabilities numerically 0 or 1 occurred”\n",
      "Warning message:\n",
      "“glm.fit: fitted probabilities numerically 0 or 1 occurred”\n",
      "Warning message:\n",
      "“glm.fit: fitted probabilities numerically 0 or 1 occurred”\n",
      "Warning message:\n",
      "“glm.fit: fitted probabilities numerically 0 or 1 occurred”\n",
      "Warning message:\n",
      "“glm.fit: fitted probabilities numerically 0 or 1 occurred”\n",
      "Warning message:\n",
      "“glm.fit: fitted probabilities numerically 0 or 1 occurred”\n",
      "Warning message:\n",
      "“glm.fit: fitted probabilities numerically 0 or 1 occurred”\n",
      "Warning message:\n",
      "“glm.fit: fitted probabilities numerically 0 or 1 occurred”\n",
      "Warning message:\n",
      "“glm.fit: fitted probabilities numerically 0 or 1 occurred”\n",
      "Warning message:\n",
      "“glm.fit: fitted probabilities numerically 0 or 1 occurred”\n",
      "Warning message:\n",
      "“glm.fit: fitted probabilities numerically 0 or 1 occurred”\n"
     ]
    },
    {
     "name": "stdout",
     "output_type": "stream",
     "text": [
      "                         Df Deviance    AIC\n",
      "+ concave.points_worst    1   54.713 76.713\n",
      "<none>                        58.643 78.643\n",
      "+ radius_worst            1   57.113 79.113\n",
      "+ concave.points_se       1   57.485 79.485\n",
      "+ concavity_worst         1   57.520 79.520\n",
      "+ perimeter_se            1   57.525 79.525\n",
      "+ texture_mean            1   57.593 79.593\n",
      "+ concave.points_mean     1   57.669 79.669\n",
      "+ area_worst              1   57.684 79.684\n",
      "+ compactness_mean        1   58.146 80.146\n",
      "+ symmetry_se             1   58.236 80.236\n",
      "+ perimeter_mean          1   58.374 80.374\n",
      "+ fractal_dimension_se    1   58.503 80.503\n",
      "+ compactness_worst       1   58.538 80.538\n",
      "+ fractal_dimension_mean  1   58.549 80.549\n",
      "+ radius_mean             1   58.590 80.590\n",
      "+ area_mean               1   58.590 80.590\n",
      "+ smoothness_se           1   58.599 80.599\n",
      "+ symmetry_mean           1   58.609 80.609\n",
      "+ concavity_se            1   58.616 80.616\n",
      "+ smoothness_mean         1   58.640 80.640\n"
     ]
    },
    {
     "name": "stderr",
     "output_type": "stream",
     "text": [
      "Warning message:\n",
      "“glm.fit: fitted probabilities numerically 0 or 1 occurred”\n"
     ]
    },
    {
     "name": "stdout",
     "output_type": "stream",
     "text": [
      "\n",
      "Step:  AIC=76.71\n",
      "diagnosis ~ perimeter_worst + smoothness_worst + texture_worst + \n",
      "    radius_se + symmetry_worst + compactness_se + concavity_mean + \n",
      "    texture_se + area_se + concave.points_worst\n",
      "\n"
     ]
    },
    {
     "name": "stderr",
     "output_type": "stream",
     "text": [
      "Warning message:\n",
      "“glm.fit: fitted probabilities numerically 0 or 1 occurred”\n",
      "Warning message:\n",
      "“glm.fit: fitted probabilities numerically 0 or 1 occurred”\n",
      "Warning message:\n",
      "“glm.fit: fitted probabilities numerically 0 or 1 occurred”\n",
      "Warning message:\n",
      "“glm.fit: fitted probabilities numerically 0 or 1 occurred”\n",
      "Warning message:\n",
      "“glm.fit: fitted probabilities numerically 0 or 1 occurred”\n",
      "Warning message:\n",
      "“glm.fit: fitted probabilities numerically 0 or 1 occurred”\n",
      "Warning message:\n",
      "“glm.fit: fitted probabilities numerically 0 or 1 occurred”\n",
      "Warning message:\n",
      "“glm.fit: fitted probabilities numerically 0 or 1 occurred”\n",
      "Warning message:\n",
      "“glm.fit: fitted probabilities numerically 0 or 1 occurred”\n",
      "Warning message:\n",
      "“glm.fit: fitted probabilities numerically 0 or 1 occurred”\n",
      "Warning message:\n",
      "“glm.fit: fitted probabilities numerically 0 or 1 occurred”\n",
      "Warning message:\n",
      "“glm.fit: fitted probabilities numerically 0 or 1 occurred”\n",
      "Warning message:\n",
      "“glm.fit: fitted probabilities numerically 0 or 1 occurred”\n",
      "Warning message:\n",
      "“glm.fit: fitted probabilities numerically 0 or 1 occurred”\n",
      "Warning message:\n",
      "“glm.fit: fitted probabilities numerically 0 or 1 occurred”\n",
      "Warning message:\n",
      "“glm.fit: fitted probabilities numerically 0 or 1 occurred”\n",
      "Warning message:\n",
      "“glm.fit: fitted probabilities numerically 0 or 1 occurred”\n",
      "Warning message:\n",
      "“glm.fit: fitted probabilities numerically 0 or 1 occurred”\n",
      "Warning message:\n",
      "“glm.fit: fitted probabilities numerically 0 or 1 occurred”\n",
      "Warning message:\n",
      "“glm.fit: fitted probabilities numerically 0 or 1 occurred”\n"
     ]
    },
    {
     "name": "stdout",
     "output_type": "stream",
     "text": [
      "                         Df Deviance    AIC\n",
      "<none>                        54.713 76.713\n",
      "+ radius_worst            1   52.749 76.749\n",
      "+ area_worst              1   52.828 76.828\n",
      "+ compactness_mean        1   52.833 76.833\n",
      "+ perimeter_se            1   53.106 77.106\n",
      "+ symmetry_mean           1   53.896 77.896\n",
      "+ texture_mean            1   53.934 77.934\n",
      "+ symmetry_se             1   54.209 78.209\n",
      "+ concavity_worst         1   54.216 78.216\n",
      "+ smoothness_se           1   54.233 78.233\n",
      "+ perimeter_mean          1   54.240 78.240\n",
      "+ smoothness_mean         1   54.399 78.399\n",
      "+ concavity_se            1   54.555 78.555\n",
      "+ concave.points_se       1   54.569 78.569\n",
      "+ radius_mean             1   54.594 78.594\n",
      "+ compactness_worst       1   54.605 78.605\n",
      "+ fractal_dimension_mean  1   54.611 78.611\n",
      "+ fractal_dimension_se    1   54.705 78.705\n",
      "+ concave.points_mean     1   54.709 78.709\n",
      "+ area_mean               1   54.710 78.710\n"
     ]
    },
    {
     "data": {
      "text/plain": [
       "\n",
       "Call:\n",
       "glm(formula = diagnosis ~ perimeter_worst + smoothness_worst + \n",
       "    texture_worst + radius_se + symmetry_worst + compactness_se + \n",
       "    concavity_mean + texture_se + area_se + concave.points_worst, \n",
       "    family = binomial(link = \"logit\"), data = df)\n",
       "\n",
       "Deviance Residuals: \n",
       "    Min       1Q   Median       3Q      Max  \n",
       "-1.3573  -0.0201  -0.0013   0.0000   3.8553  \n",
       "\n",
       "Coefficients:\n",
       "                     Estimate Std. Error z value Pr(>|z|)    \n",
       "(Intercept)            1.9809     1.1241   1.762 0.078040 .  \n",
       "perimeter_worst        2.8181     2.4980   1.128 0.259268    \n",
       "smoothness_worst       1.2907     0.6868   1.879 0.060215 .  \n",
       "texture_worst          3.2584     0.8392   3.883 0.000103 ***\n",
       "radius_se             -2.7572     4.6621  -0.591 0.554248    \n",
       "symmetry_worst         1.0500     0.4957   2.118 0.034164 *  \n",
       "compactness_se        -2.3356     0.7304  -3.198 0.001384 ** \n",
       "concavity_mean         3.1787     1.2999   2.445 0.014472 *  \n",
       "texture_se            -1.4802     0.8361  -1.770 0.076657 .  \n",
       "area_se               15.9526     9.1089   1.751 0.079892 .  \n",
       "concave.points_worst   2.4000     1.2766   1.880 0.060117 .  \n",
       "---\n",
       "Signif. codes:  0 ‘***’ 0.001 ‘**’ 0.01 ‘*’ 0.05 ‘.’ 0.1 ‘ ’ 1\n",
       "\n",
       "(Dispersion parameter for binomial family taken to be 1)\n",
       "\n",
       "    Null deviance: 751.440  on 568  degrees of freedom\n",
       "Residual deviance:  54.713  on 558  degrees of freedom\n",
       "AIC: 76.713\n",
       "\n",
       "Number of Fisher Scoring iterations: 11\n"
      ]
     },
     "metadata": {},
     "output_type": "display_data"
    }
   ],
   "source": [
    "initialModel_0 <- glm(diagnosis ~ 1, data = df, family=binomial(link=\"logit\"))\n",
    "initialModel_p <- glm(diagnosis ~ ., data = df, family=binomial(link=\"logit\"))\n",
    "\n",
    "fw <- step(initialModel_0,\n",
    "  scope = list(lower = formula(initialModel_0), upper = formula(initialModel_p)),\n",
    "  direction = \"forward\"\n",
    ")\n",
    "summary(fw)"
   ]
  },
  {
   "cell_type": "markdown",
   "metadata": {},
   "source": [
    "El objeto de salida es una lista que contiene múltiples elementos. Entre ellos, ilustramos el resultado anova, que muestra las variables seleccionadas (11 en este caso) en orden de adición y el AIC correspondiente (similar al estadístico BIC) ."
   ]
  },
  {
   "cell_type": "code",
   "execution_count": 13,
   "metadata": {
    "scrolled": true
   },
   "outputs": [
    {
     "data": {
      "text/html": [
       "<table>\n",
       "<caption>A data.frame: 11 × 6</caption>\n",
       "<thead>\n",
       "\t<tr><th scope=col>Step</th><th scope=col>Df</th><th scope=col>Deviance</th><th scope=col>Resid. Df</th><th scope=col>Resid. Dev</th><th scope=col>AIC</th></tr>\n",
       "\t<tr><th scope=col>&lt;I&lt;chr&gt;&gt;</th><th scope=col>&lt;dbl&gt;</th><th scope=col>&lt;dbl&gt;</th><th scope=col>&lt;dbl&gt;</th><th scope=col>&lt;dbl&gt;</th><th scope=col>&lt;dbl&gt;</th></tr>\n",
       "</thead>\n",
       "<tbody>\n",
       "\t<tr><td>                      </td><td>NA</td><td>        NA</td><td>568</td><td>751.44001</td><td>753.44001</td></tr>\n",
       "\t<tr><td>+ perimeter_worst     </td><td>-1</td><td>541.960065</td><td>567</td><td>209.47994</td><td>213.47994</td></tr>\n",
       "\t<tr><td>+ smoothness_worst    </td><td>-1</td><td> 70.299730</td><td>566</td><td>139.18021</td><td>145.18021</td></tr>\n",
       "\t<tr><td>+ texture_worst       </td><td>-1</td><td> 35.568566</td><td>565</td><td>103.61164</td><td>111.61164</td></tr>\n",
       "\t<tr><td>+ radius_se           </td><td>-1</td><td> 16.406692</td><td>564</td><td> 87.20495</td><td> 97.20495</td></tr>\n",
       "\t<tr><td>+ symmetry_worst      </td><td>-1</td><td>  8.132333</td><td>563</td><td> 79.07262</td><td> 91.07262</td></tr>\n",
       "\t<tr><td>+ compactness_se      </td><td>-1</td><td>  4.561664</td><td>562</td><td> 74.51095</td><td> 88.51095</td></tr>\n",
       "\t<tr><td>+ concavity_mean      </td><td>-1</td><td>  8.982248</td><td>561</td><td> 65.52871</td><td> 81.52871</td></tr>\n",
       "\t<tr><td>+ texture_se          </td><td>-1</td><td>  4.270508</td><td>560</td><td> 61.25820</td><td> 79.25820</td></tr>\n",
       "\t<tr><td>+ area_se             </td><td>-1</td><td>  2.614785</td><td>559</td><td> 58.64341</td><td> 78.64341</td></tr>\n",
       "\t<tr><td>+ concave.points_worst</td><td>-1</td><td>  3.930719</td><td>558</td><td> 54.71269</td><td> 76.71269</td></tr>\n",
       "</tbody>\n",
       "</table>\n"
      ],
      "text/latex": [
       "A data.frame: 11 × 6\n",
       "\\begin{tabular}{llllll}\n",
       " Step & Df & Deviance & Resid. Df & Resid. Dev & AIC\\\\\n",
       " <I<chr>> & <dbl> & <dbl> & <dbl> & <dbl> & <dbl>\\\\\n",
       "\\hline\n",
       "\t                        & NA &         NA & 568 & 751.44001 & 753.44001\\\\\n",
       "\t + perimeter\\_worst      & -1 & 541.960065 & 567 & 209.47994 & 213.47994\\\\\n",
       "\t + smoothness\\_worst     & -1 &  70.299730 & 566 & 139.18021 & 145.18021\\\\\n",
       "\t + texture\\_worst        & -1 &  35.568566 & 565 & 103.61164 & 111.61164\\\\\n",
       "\t + radius\\_se            & -1 &  16.406692 & 564 &  87.20495 &  97.20495\\\\\n",
       "\t + symmetry\\_worst       & -1 &   8.132333 & 563 &  79.07262 &  91.07262\\\\\n",
       "\t + compactness\\_se       & -1 &   4.561664 & 562 &  74.51095 &  88.51095\\\\\n",
       "\t + concavity\\_mean       & -1 &   8.982248 & 561 &  65.52871 &  81.52871\\\\\n",
       "\t + texture\\_se           & -1 &   4.270508 & 560 &  61.25820 &  79.25820\\\\\n",
       "\t + area\\_se              & -1 &   2.614785 & 559 &  58.64341 &  78.64341\\\\\n",
       "\t + concave.points\\_worst & -1 &   3.930719 & 558 &  54.71269 &  76.71269\\\\\n",
       "\\end{tabular}\n"
      ],
      "text/markdown": [
       "\n",
       "A data.frame: 11 × 6\n",
       "\n",
       "| Step &lt;I&lt;chr&gt;&gt; | Df &lt;dbl&gt; | Deviance &lt;dbl&gt; | Resid. Df &lt;dbl&gt; | Resid. Dev &lt;dbl&gt; | AIC &lt;dbl&gt; |\n",
       "|---|---|---|---|---|---|\n",
       "| <!----> | NA |         NA | 568 | 751.44001 | 753.44001 |\n",
       "| + perimeter_worst      | -1 | 541.960065 | 567 | 209.47994 | 213.47994 |\n",
       "| + smoothness_worst     | -1 |  70.299730 | 566 | 139.18021 | 145.18021 |\n",
       "| + texture_worst        | -1 |  35.568566 | 565 | 103.61164 | 111.61164 |\n",
       "| + radius_se            | -1 |  16.406692 | 564 |  87.20495 |  97.20495 |\n",
       "| + symmetry_worst       | -1 |   8.132333 | 563 |  79.07262 |  91.07262 |\n",
       "| + compactness_se       | -1 |   4.561664 | 562 |  74.51095 |  88.51095 |\n",
       "| + concavity_mean       | -1 |   8.982248 | 561 |  65.52871 |  81.52871 |\n",
       "| + texture_se           | -1 |   4.270508 | 560 |  61.25820 |  79.25820 |\n",
       "| + area_se              | -1 |   2.614785 | 559 |  58.64341 |  78.64341 |\n",
       "| + concave.points_worst | -1 |   3.930719 | 558 |  54.71269 |  76.71269 |\n",
       "\n"
      ],
      "text/plain": [
       "   Step                   Df Deviance   Resid. Df Resid. Dev AIC      \n",
       "1                         NA         NA 568       751.44001  753.44001\n",
       "2  + perimeter_worst      -1 541.960065 567       209.47994  213.47994\n",
       "3  + smoothness_worst     -1  70.299730 566       139.18021  145.18021\n",
       "4  + texture_worst        -1  35.568566 565       103.61164  111.61164\n",
       "5  + radius_se            -1  16.406692 564        87.20495   97.20495\n",
       "6  + symmetry_worst       -1   8.132333 563        79.07262   91.07262\n",
       "7  + compactness_se       -1   4.561664 562        74.51095   88.51095\n",
       "8  + concavity_mean       -1   8.982248 561        65.52871   81.52871\n",
       "9  + texture_se           -1   4.270508 560        61.25820   79.25820\n",
       "10 + area_se              -1   2.614785 559        58.64341   78.64341\n",
       "11 + concave.points_worst -1   3.930719 558        54.71269   76.71269"
      ]
     },
     "metadata": {},
     "output_type": "display_data"
    }
   ],
   "source": [
    "fw$anova\n",
    "?step"
   ]
  },
  {
   "cell_type": "markdown",
   "metadata": {},
   "source": [
    "## Regularización\n",
    "La regularización consiste en añadir un término a la función objetivo que elimine predictores (regularización L1) o disminuya notablemente su influencia (regularización L2) de tal manera que su capacidad de generalización mejore. El coeficiente estimado estará sesgado, ya que se ha añadido un término a la función objetivo, sin embargo su varianza puede disminuir. Este equilibrio entre el sesgo y la varianza es lo que se conoce como _bias-variance tradeoff_. Si el modelo está demasiado sesgado entonces no se capturarán correctamente las relaciones entre predictando y predictor, sin embargo si está muy poco sesgado, la varianza del coeficiente estimado puede ser alta y no generalizar bien.\n",
    "\n",
    "En R, para regularizar modelos lineales generalizados se utiliza el paquete `glmnet`. El tipo de regularización viene dado por el valor del parámetro `alpha`: para una regularización L1, `alpha = 1`, para una regularización L2, `alpha = 0`. Ambos tipos de regularización penalizan la norma (1 ó 2, en función de si la regularización es L1 o L2) de los coeficientes estimados. Una consecuencia de la regularización L1 es que indirectamente selecciona variables al hacer estrictamente 0 algunos coeficientes. El número de coeficientes que se hacen 0 viene determinado por el valor de `lambda`. El valor de lambda óptimo se obtiene mediante validación cruzada a través de la función `cv.glmnet`.\n",
    "\n",
    "En primer lugar, debemos instalar y cargar las librerías que utilizaremos en los ejemplos:"
   ]
  },
  {
   "cell_type": "code",
   "execution_count": 14,
   "metadata": {},
   "outputs": [
    {
     "name": "stderr",
     "output_type": "stream",
     "text": [
      "\n",
      "Attaching package: ‘Matrix’\n",
      "\n",
      "\n",
      "The following object is masked from ‘package:spam’:\n",
      "\n",
      "    det\n",
      "\n",
      "\n",
      "Loaded glmnet 2.0-16\n",
      "\n",
      "\n"
     ]
    }
   ],
   "source": [
    "#install.packages(\"glmnet\")\n",
    "library(glmnet, quiet = TRUE)"
   ]
  },
  {
   "cell_type": "markdown",
   "metadata": {},
   "source": [
    "Ahora veamos qué nos puede aportar una regularización L1 en este caso. Para ello, primero estimamos el valor óptimo de `lambda` mediante la función `cv.glmnet`:"
   ]
  },
  {
   "cell_type": "code",
   "execution_count": 15,
   "metadata": {},
   "outputs": [
    {
     "data": {
      "text/html": [
       "0.00640022228667804"
      ],
      "text/latex": [
       "0.00640022228667804"
      ],
      "text/markdown": [
       "0.00640022228667804"
      ],
      "text/plain": [
       "[1] 0.006400222"
      ]
     },
     "metadata": {},
     "output_type": "display_data"
    }
   ],
   "source": [
    "cv <- cv.glmnet(as.matrix(df[-1]),df$diagnosis,family = \"binomial\",alpha = 1)\n",
    "cv$lambda.1se"
   ]
  },
  {
   "cell_type": "markdown",
   "metadata": {},
   "source": [
    "Una vez estimado el valor de lambda, se entrena el modelo regularizado mediante la función `glmnet`."
   ]
  },
  {
   "cell_type": "code",
   "execution_count": 16,
   "metadata": {},
   "outputs": [
    {
     "data": {
      "text/html": [
       "<ol class=list-inline>\n",
       "\t<li>'diagnosis'</li>\n",
       "\t<li>'texture_mean'</li>\n",
       "\t<li>'concave.points_mean'</li>\n",
       "\t<li>'radius_se'</li>\n",
       "\t<li>'fractal_dimension_se'</li>\n",
       "\t<li>'radius_worst'</li>\n",
       "\t<li>'texture_worst'</li>\n",
       "\t<li>'smoothness_worst'</li>\n",
       "\t<li>'concavity_worst'</li>\n",
       "\t<li>'concave.points_worst'</li>\n",
       "\t<li>'symmetry_worst'</li>\n",
       "</ol>\n"
      ],
      "text/latex": [
       "\\begin{enumerate*}\n",
       "\\item 'diagnosis'\n",
       "\\item 'texture\\_mean'\n",
       "\\item 'concave.points\\_mean'\n",
       "\\item 'radius\\_se'\n",
       "\\item 'fractal\\_dimension\\_se'\n",
       "\\item 'radius\\_worst'\n",
       "\\item 'texture\\_worst'\n",
       "\\item 'smoothness\\_worst'\n",
       "\\item 'concavity\\_worst'\n",
       "\\item 'concave.points\\_worst'\n",
       "\\item 'symmetry\\_worst'\n",
       "\\end{enumerate*}\n"
      ],
      "text/markdown": [
       "1. 'diagnosis'\n",
       "2. 'texture_mean'\n",
       "3. 'concave.points_mean'\n",
       "4. 'radius_se'\n",
       "5. 'fractal_dimension_se'\n",
       "6. 'radius_worst'\n",
       "7. 'texture_worst'\n",
       "8. 'smoothness_worst'\n",
       "9. 'concavity_worst'\n",
       "10. 'concave.points_worst'\n",
       "11. 'symmetry_worst'\n",
       "\n",
       "\n"
      ],
      "text/plain": [
       " [1] \"diagnosis\"            \"texture_mean\"         \"concave.points_mean\" \n",
       " [4] \"radius_se\"            \"fractal_dimension_se\" \"radius_worst\"        \n",
       " [7] \"texture_worst\"        \"smoothness_worst\"     \"concavity_worst\"     \n",
       "[10] \"concave.points_worst\" \"symmetry_worst\"      "
      ]
     },
     "metadata": {},
     "output_type": "display_data"
    },
    {
     "name": "stdout",
     "output_type": "stream",
     "text": [
      "Number of variables selected: 11"
     ]
    }
   ],
   "source": [
    "model.l1 <- glmnet(as.matrix(df[-1]), df$diagnosis, family = \"binomial\", alpha = 1, lambda = cv$lambda.1se)\n",
    "ind.coef.no.nulos <- which(as.numeric(coef(model.l1)) != 0)\n",
    "names(df)[ind.coef.no.nulos]\n",
    "cat(paste(\"Number of variables selected:\", length(ind.coef.no.nulos)))"
   ]
  },
  {
   "cell_type": "markdown",
   "metadata": {},
   "source": [
    "Vemos que efectivamente la regularización L1 ha hecho 0 muchos coeficientes eliminando grados de libertad del sistema, salvo las características que se observan en la salida anterior. Podemos ver el sobreajuste de forma cualitativa con la curva ROC:"
   ]
  },
  {
   "cell_type": "code",
   "execution_count": 17,
   "metadata": {},
   "outputs": [
    {
     "data": {
      "image/png": "[encoded data removed]",
      "text/plain": [
       "Plot with title “Curva ROC Regularización L1 (AUC = 0.996869)”"
      ]
     },
     "metadata": {
      "image/png": {
       "height": 420,
       "width": 420
      }
     },
     "output_type": "display_data"
    }
   ],
   "source": [
    "pred.l1 <- predict(model.l1,as.matrix(df[-1]),type = \"response\")\n",
    "auc.l1 <- roc.area(df$diagnosis,pred.l1)$A\n",
    "roc.plot(df$diagnosis,pred.l1, main=sprintf(\"Curva ROC Regularización L1 (AUC = %g)\", auc.l1))"
   ]
  },
  {
   "cell_type": "markdown",
   "metadata": {},
   "source": [
    "Observamos como, aún con solo 10 variables, el AUC es todavía bastante alto. Por ello se propone la siguiente tarea."
   ]
  },
  {
   "cell_type": "markdown",
   "metadata": {},
   "source": [
    "**TAREA 4:** Utilizar una validación cruzada tipo _hold out_ para comprobar si la capacidad de generalización del modelo ha mejorado con la regularización L1."
   ]
  },
  {
   "cell_type": "code",
   "execution_count": null,
   "metadata": {},
   "outputs": [],
   "source": []
  },
  {
   "cell_type": "markdown",
   "metadata": {},
   "source": []
  },
  {
   "cell_type": "markdown",
   "metadata": {},
   "source": [
    "Si probásemos con la regularización L2 (parámetro alpha = 0), la norma de los módulos se limita pero en este caso ningún coeficiente es 0."
   ]
  },
  {
   "cell_type": "code",
   "execution_count": 18,
   "metadata": {},
   "outputs": [
    {
     "data": {
      "text/html": [
       "0.050720667307082"
      ],
      "text/latex": [
       "0.050720667307082"
      ],
      "text/markdown": [
       "0.050720667307082"
      ],
      "text/plain": [
       "[1] 0.05072067"
      ]
     },
     "metadata": {},
     "output_type": "display_data"
    },
    {
     "name": "stdout",
     "output_type": "stream",
     "text": [
      "Number of variables selected: 30"
     ]
    }
   ],
   "source": [
    "cv2 <- cv.glmnet(as.matrix(df[-1]),df$diagnosis,family = \"binomial\",alpha = 0)\n",
    "cv2$lambda.1se\n",
    "model.l2 <- glmnet(as.matrix(df[-1]), df$diagnosis, family = \"binomial\", alpha = 0, lambda = cv2$lambda.1se)\n",
    "ind.coef.no.nulos.l2 <- which(as.numeric(coef(model.l2)) != 0)\n",
    "cat(paste(\"Number of variables selected:\", length(ind.coef.no.nulos.l2)))"
   ]
  },
  {
   "cell_type": "markdown",
   "metadata": {},
   "source": [
    "Calculamos el AUC para el modelo regularizado con el penalty L2."
   ]
  },
  {
   "cell_type": "code",
   "execution_count": 19,
   "metadata": {
    "scrolled": false
   },
   "outputs": [
    {
     "data": {
      "image/png": "[encoded data removed]",
      "text/plain": [
       "Plot with title “Curva ROC Regularización L2 (AUC = 0.995613)”"
      ]
     },
     "metadata": {
      "image/png": {
       "height": 420,
       "width": 420
      }
     },
     "output_type": "display_data"
    }
   ],
   "source": [
    "pred.l2 <- predict(model.l2,as.matrix(df[-1]),type = \"response\")\n",
    "auc.l2 <- roc.area(df$diagnosis,pred.l2)$A\n",
    "roc.plot(df$diagnosis,pred.l2, main=sprintf(\"Curva ROC Regularización L2 (AUC = %g)\", auc.l2))"
   ]
  },
  {
   "cell_type": "markdown",
   "metadata": {},
   "source": [
    "**TAREA 5:** Comprobar la capacidad de generalización del modelo regularizado mediante _ridge regression_ y estudiar la evolución de los valores de los coeficientes en función del valor de `lambda`"
   ]
  },
  {
   "cell_type": "code",
   "execution_count": null,
   "metadata": {},
   "outputs": [],
   "source": []
  },
  {
   "cell_type": "markdown",
   "metadata": {},
   "source": []
  },
  {
   "cell_type": "markdown",
   "metadata": {},
   "source": [
    "**TAREA 6:** Aplicar lo aprendido en esta práctica a otra de las bases de datos de ejemplo."
   ]
  }
 ],
 "metadata": {
  "kernelspec": {
   "display_name": "R",
   "language": "R",
   "name": "ir"
  },
  "language_info": {
   "codemirror_mode": "r",
   "file_extension": ".r",
   "mimetype": "text/x-r-source",
   "name": "R",
   "pygments_lexer": "r",
   "version": "3.6.0"
  }
 },
 "nbformat": 4,
 "nbformat_minor": 2
}
