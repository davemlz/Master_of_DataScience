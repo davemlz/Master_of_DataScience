{
 "cells": [
  {
   "cell_type": "markdown",
   "metadata": {},
   "source": [
    "## Práctica de Clasificación Lineal: Regresión Logística"
   ]
  },
  {
   "cell_type": "markdown",
   "metadata": {},
   "source": [
    "Daniel Garcia Diaz (garciad@ifca.unican.es)"
   ]
  },
  {
   "cell_type": "markdown",
   "metadata": {},
   "source": [
    "En esta práctica utilizaremos el dataset MNIST, compuesto por 60000 imágenes de train y 10000 imagenes de test (de 28x28 pixeles) correspondientes a distintas versiones digitalizadas de los dígitos 0, ..., 9. \n",
    "\n",
    "Descargamos el dataset que vamos a utilizar."
   ]
  },
  {
   "cell_type": "code",
   "execution_count": 1,
   "metadata": {},
   "outputs": [],
   "source": [
    "#Set the directory to be able to read the data properly\n",
    "rm(list=ls())\n",
    "setwd(\"\")\n",
    "\n",
    "#Install the necessary packages\n",
    "#install.packages(\"R.utils\")"
   ]
  },
  {
   "cell_type": "code",
   "execution_count": 2,
   "metadata": {},
   "outputs": [],
   "source": [
    "# download data from http://yann.lecun.com/exdb/mnist/\n",
    "download.file(\"http://yann.lecun.com/exdb/mnist/train-images-idx3-ubyte.gz\",\n",
    "              \"train-images-idx3-ubyte.gz\")\n",
    "download.file(\"http://yann.lecun.com/exdb/mnist/train-labels-idx1-ubyte.gz\",\n",
    "              \"train-labels-idx1-ubyte.gz\")\n",
    "download.file(\"http://yann.lecun.com/exdb/mnist/t10k-images-idx3-ubyte.gz\",\n",
    "              \"t10k-images-idx3-ubyte.gz\")\n",
    "download.file(\"http://yann.lecun.com/exdb/mnist/t10k-labels-idx1-ubyte.gz\",\n",
    "              \"t10k-labels-idx1-ubyte.gz\")\n",
    "\n",
    "# gunzip the files\n",
    "R.utils::gunzip(\"train-images-idx3-ubyte.gz\")\n",
    "R.utils::gunzip(\"train-labels-idx1-ubyte.gz\")\n",
    "R.utils::gunzip(\"t10k-images-idx3-ubyte.gz\")\n",
    "R.utils::gunzip(\"t10k-labels-idx1-ubyte.gz\")"
   ]
  },
  {
   "cell_type": "markdown",
   "metadata": {},
   "source": [
    "4 archivos diferentes para crear los datasets de train (x_train->train-image e y_train->train-labels) y de test (x->t10k-images e y->t10k-labels).\n",
    "\n",
    "Funciones para cargar los archivos\n"
   ]
  },
  {
   "cell_type": "code",
   "execution_count": 3,
   "metadata": {},
   "outputs": [],
   "source": [
    "# load image files\n",
    "load_image_file = function(filename) {\n",
    "  ret = list()\n",
    "  f = file(filename, 'rb')\n",
    "  readBin(f, 'integer', n = 1, size = 4, endian = 'big')\n",
    "  n    = readBin(f, 'integer', n = 1, size = 4, endian = 'big')\n",
    "  nrow = readBin(f, 'integer', n = 1, size = 4, endian = 'big')\n",
    "  ncol = readBin(f, 'integer', n = 1, size = 4, endian = 'big')\n",
    "  x = readBin(f, 'integer', n = n * nrow * ncol, size = 1, signed = FALSE)\n",
    "  close(f)\n",
    "  data.frame(matrix(x, ncol = nrow * ncol, byrow = TRUE))\n",
    "}\n",
    "\n",
    "# load label files\n",
    "load_label_file = function(filename) {\n",
    "  f = file(filename, 'rb')\n",
    "  readBin(f, 'integer', n = 1, size = 4, endian = 'big')\n",
    "  n = readBin(f, 'integer', n = 1, size = 4, endian = 'big')\n",
    "  y = readBin(f, 'integer', n = n, size = 1, signed = FALSE)\n",
    "  close(f)\n",
    "  y\n",
    "}"
   ]
  },
  {
   "cell_type": "code",
   "execution_count": 4,
   "metadata": {},
   "outputs": [],
   "source": [
    "# load images\n",
    "x_train = load_image_file(\"train-images-idx3-ubyte\")\n",
    "x_test  = load_image_file(\"t10k-images-idx3-ubyte\")\n",
    "\n",
    "# load labels\n",
    "y_train = load_label_file(\"train-labels-idx1-ubyte\")\n",
    "y_test  = load_label_file(\"t10k-labels-idx1-ubyte\")"
   ]
  },
  {
   "cell_type": "markdown",
   "metadata": {},
   "source": [
    "Dibujamos los 6 primeros digitos para ver el dataset que tenemos"
   ]
  },
  {
   "cell_type": "code",
   "execution_count": 5,
   "metadata": {},
   "outputs": [
    {
     "data": {
      "image/png": "[encoded data removed]",
      "text/plain": [
       "Plot with title “2”"
      ]
     },
     "metadata": {
      "image/png": {
       "height": 420,
       "width": 420
      },
      "text/plain": {
       "height": 420,
       "width": 420
      }
     },
     "output_type": "display_data"
    }
   ],
   "source": [
    "# Dibujamos los 6 primeros dígitos de la base de datos\n",
    "par(mfrow = c(2,3))\n",
    "for (i in 1:6) {\n",
    "    image(matrix(as.matrix(x_train[i,1:784]), nrow = 28, ncol = 28))\n",
    "    title(y_train[i])\n",
    "}"
   ]
  },
  {
   "cell_type": "code",
   "execution_count": 6,
   "metadata": {},
   "outputs": [
    {
     "data": {
      "image/png": "[encoded data removed]",
      "text/plain": [
       "Plot with title “Histogram of y_train”"
      ]
     },
     "metadata": {
      "image/png": {
       "height": 420,
       "width": 420
      },
      "text/plain": {
       "height": 420,
       "width": 420
      }
     },
     "output_type": "display_data"
    }
   ],
   "source": [
    "# Cada dígito está igualmente representado en la muestra\n",
    "hist(y_train, breaks = -0.5:9.5)"
   ]
  },
  {
   "cell_type": "markdown",
   "metadata": {},
   "source": [
    "El objetivo es clasificar correctamente cada una de las imágenes, utilizando el valor de los 784 pixeles. Este problema se encuandra dentro de la clasificación multi-categoría (tenemos 10 posibles clases a predicir para cada dato). \n",
    "\n",
    "Para simplificar estos problemas, se suelen consideran tantos problemas binarios (predecir sí o no) independientes como categorías se tengan. Es decir, un modelo para clasificar 0 (si o no), otro para 1, etc. En este ejemplo, consideramos el dígito '9' y el objetivo es predecir si una imagen es 9 o no."
   ]
  },
  {
   "cell_type": "code",
   "execution_count": 7,
   "metadata": {},
   "outputs": [],
   "source": [
    "# Seleccionamos un dígito concreto para tratar de predecirlo. Por ejemplo el nueve\n",
    "# y9 = 1 si el dígito es 9 y 0 en caso contrario\n",
    "y9 <- y_train;\n",
    "y9[which(y_train != 9)] <- 0 ; y9[which(y_train == 9)] <- 1"
   ]
  },
  {
   "cell_type": "code",
   "execution_count": 8,
   "metadata": {},
   "outputs": [],
   "source": [
    "# Construimos un dataframe para entrenar el modelo\n",
    "dat <- data.frame(y9,x_train)"
   ]
  },
  {
   "cell_type": "markdown",
   "metadata": {},
   "source": [
    "Como el tamaño de la muestra es muy grande (60000 imagenes), seleccionamos una muestra para entrenar; por ejemplo, los 5000 primeros dígitos."
   ]
  },
  {
   "cell_type": "code",
   "execution_count": 9,
   "metadata": {},
   "outputs": [],
   "source": [
    "i<- 1:5000;\n",
    "j<-5001:10000\n",
    "#Random sampling\n",
    "#i<-sample(1:dim(x)[1],5000);\n",
    "datT <- dat[i,]\n",
    "datt <- dat[j,]"
   ]
  },
  {
   "cell_type": "markdown",
   "metadata": {},
   "source": [
    "Aunque no es el modelo adecuado, ya que no está acotada y puede tomar valores mucho mayores que 1 o menores que 0, construimos primero un modelo de regresión lineal para estos datos."
   ]
  },
  {
   "cell_type": "code",
   "execution_count": 12,
   "metadata": {},
   "outputs": [
    {
     "data": {
      "image/png": "[encoded data removed]",
      "text/plain": [
       "Plot with title “Histogram of out”"
      ]
     },
     "metadata": {
      "image/png": {
       "height": 420,
       "width": 420
      },
      "text/plain": {
       "height": 420,
       "width": 420
      }
     },
     "output_type": "display_data"
    }
   ],
   "source": [
    "# Entrenamos primero un modelo lineal\n",
    "model <- lm(datT$y9~., data = datT)\n",
    "out <- model$fitted.values\n",
    "# El histograma muestra valores predichos (incluyendo negativos y mayores que 1)\n",
    "hist(out)"
   ]
  },
  {
   "cell_type": "markdown",
   "metadata": {},
   "source": [
    "Hacemos la salida del modelo binaria considerando el umbral en 0.5 (a modo de probabilidad) y calculamos la tasa de acierto con los datos de train"
   ]
  },
  {
   "cell_type": "code",
   "execution_count": 13,
   "metadata": {},
   "outputs": [
    {
     "data": {
      "text/html": [
       "96.18"
      ],
      "text/latex": [
       "96.18"
      ],
      "text/markdown": [
       "96.18"
      ],
      "text/plain": [
       "[1] 96.18"
      ]
     },
     "metadata": {},
     "output_type": "display_data"
    }
   ],
   "source": [
    "# Hacemos binaria la salida considerando el umbral 0.5 (a modo de probabilidad)\n",
    "outbin <- as.double(out > 0.5)\n",
    "\n",
    "# Tasa de acierto (en entrenamiento)\n",
    "100*sum(diag(table(datT[,1], outbin))) / length(outbin)"
   ]
  },
  {
   "cell_type": "code",
   "execution_count": 14,
   "metadata": {},
   "outputs": [
    {
     "name": "stderr",
     "output_type": "stream",
     "text": [
      "Warning message in predict.lm(object = model, newdata = datt):\n",
      "“prediction from a rank-deficient fit may be misleading”\n"
     ]
    },
    {
     "data": {
      "text/html": [
       "94.68"
      ],
      "text/latex": [
       "94.68"
      ],
      "text/markdown": [
       "94.68"
      ],
      "text/plain": [
       "[1] 94.68"
      ]
     },
     "metadata": {},
     "output_type": "display_data"
    }
   ],
   "source": [
    "# Tasa de acierto de test\n",
    "out1<- predict(object=model, newdata = datt);\n",
    "outbin1 <- as.double(out1 > 0.5)\n",
    "100*sum(diag(table(datt[,1], outbin1))) / length(outbin1)"
   ]
  },
  {
   "cell_type": "markdown",
   "metadata": {},
   "source": [
    "Ahora construimos un modelo de regresión logística utilizando la función 'glm' con la familia 'family = binomial(link = \"logit\")'"
   ]
  },
  {
   "cell_type": "code",
   "execution_count": 15,
   "metadata": {},
   "outputs": [
    {
     "name": "stderr",
     "output_type": "stream",
     "text": [
      "Warning message:\n",
      "“glm.fit: algorithm did not converge”\n",
      "Warning message:\n",
      "“glm.fit: fitted probabilities numerically 0 or 1 occurred”\n"
     ]
    },
    {
     "data": {
      "text/html": [
       "98.28"
      ],
      "text/latex": [
       "98.28"
      ],
      "text/markdown": [
       "98.28"
      ],
      "text/plain": [
       "[1] 98.28"
      ]
     },
     "metadata": {},
     "output_type": "display_data"
    }
   ],
   "source": [
    "model1 <- glm(datT$y9~., data = datT, family = binomial(link = \"logit\"))\n",
    "\n",
    "\n",
    "# Problemas de convergencia con tantas variables\n",
    "# Coefficients: (138 not defined because of singularities)\n",
    "# Tasa de acierto (Train)\n",
    "out2 <- model1$fitted.values\n",
    "outbin2 <- as.double(out2 > 0.5)\n",
    "100*sum(diag(table(datT[,1], outbin2))) / length(outbin2)"
   ]
  },
  {
   "cell_type": "code",
   "execution_count": 16,
   "metadata": {},
   "outputs": [
    {
     "data": {
      "image/png": "[encoded data removed]",
      "text/plain": [
       "Plot with title “Histogram of out2”"
      ]
     },
     "metadata": {
      "image/png": {
       "height": 420,
       "width": 420
      },
      "text/plain": {
       "height": 420,
       "width": 420
      }
     },
     "output_type": "display_data"
    }
   ],
   "source": [
    "hist(out2)"
   ]
  },
  {
   "cell_type": "code",
   "execution_count": 17,
   "metadata": {},
   "outputs": [
    {
     "name": "stderr",
     "output_type": "stream",
     "text": [
      "Warning message in predict.lm(object, newdata, se.fit, scale = 1, type = ifelse(type == :\n",
      "“prediction from a rank-deficient fit may be misleading”\n"
     ]
    },
    {
     "data": {
      "text/html": [
       "92.14"
      ],
      "text/latex": [
       "92.14"
      ],
      "text/markdown": [
       "92.14"
      ],
      "text/plain": [
       "[1] 92.14"
      ]
     },
     "metadata": {},
     "output_type": "display_data"
    }
   ],
   "source": [
    "# Tasa de acierto (test)\n",
    "out3<- predict(object=model1, newdata = datt);\n",
    "outbin3 <- as.double(out3 > 0.5)\n",
    "100*sum(diag(table(datt[,1], outbin3))) / length(outbin3)"
   ]
  },
  {
   "cell_type": "markdown",
   "metadata": {},
   "source": [
    "Las inestabilidades numéricas se producen por la alta dimensionalidad de los datos. Algunos de los coeficientes resultan redundantes y el proceso de optimización no converge.\n",
    "### (195 not defined because of singularities)."
   ]
  },
  {
   "cell_type": "markdown",
   "metadata": {},
   "source": [
    "Una solución a este problema es reducir la dimensionalidad del conjunto de predictores. Para ello existen técnicas eficientes (como los métodos de regularización o las Componentes Principales) que se verán más adelante. En esta práctica utilizamos un entresacado de información, considerando sólo uno de cada 20 pixeles."
   ]
  },
  {
   "cell_type": "code",
   "execution_count": 21,
   "metadata": {},
   "outputs": [
    {
     "data": {
      "text/html": [
       "90.28"
      ],
      "text/latex": [
       "90.28"
      ],
      "text/markdown": [
       "90.28"
      ],
      "text/plain": [
       "[1] 90.28"
      ]
     },
     "metadata": {},
     "output_type": "display_data"
    },
    {
     "name": "stderr",
     "output_type": "stream",
     "text": [
      "Warning message in predict.lm(object = model, newdata = datt[, j]):\n",
      "“prediction from a rank-deficient fit may be misleading”\n"
     ]
    },
    {
     "data": {
      "text/html": [
       "91.1"
      ],
      "text/latex": [
       "91.1"
      ],
      "text/markdown": [
       "91.1"
      ],
      "text/plain": [
       "[1] 91.1"
      ]
     },
     "metadata": {},
     "output_type": "display_data"
    }
   ],
   "source": [
    "#Modelo de regresión lineal\n",
    "j<-seq(1,784,20)\n",
    "model <- lm(datT$y9~., data = datT[,j])\n",
    "out <- model$fitted.values\n",
    "outbin <- as.double(out > 0.5)\n",
    "100*sum(diag(table(datT[,1], outbin))) / length(outbin)\n",
    "out1<- predict(object=model, newdata = datt[,j]);\n",
    "outbin1 <- as.double(out1 > 0.5)\n",
    "100*sum(diag(table(datt[,1], outbin1))) / length(outbin1)"
   ]
  },
  {
   "cell_type": "code",
   "execution_count": 22,
   "metadata": {},
   "outputs": [
    {
     "name": "stderr",
     "output_type": "stream",
     "text": [
      "Warning message:\n",
      "“glm.fit: fitted probabilities numerically 0 or 1 occurred”\n"
     ]
    },
    {
     "data": {
      "text/html": [
       "92.02"
      ],
      "text/latex": [
       "92.02"
      ],
      "text/markdown": [
       "92.02"
      ],
      "text/plain": [
       "[1] 92.02"
      ]
     },
     "metadata": {},
     "output_type": "display_data"
    },
    {
     "name": "stderr",
     "output_type": "stream",
     "text": [
      "Warning message in predict.lm(object, newdata, se.fit, scale = 1, type = ifelse(type == :\n",
      "“prediction from a rank-deficient fit may be misleading”\n"
     ]
    },
    {
     "data": {
      "text/html": [
       "92.26"
      ],
      "text/latex": [
       "92.26"
      ],
      "text/markdown": [
       "92.26"
      ],
      "text/plain": [
       "[1] 92.26"
      ]
     },
     "metadata": {},
     "output_type": "display_data"
    }
   ],
   "source": [
    "#Regresión logística\n",
    "j<-seq(1,784,20)\n",
    "model <- glm(datT$y9~., data = datT[,j], family = binomial(link = \"logit\"))\n",
    "out <- model$fitted.values\n",
    "outbin <- as.double(out > 0.5)\n",
    "100*sum(diag(table(datT[,1], outbin))) / length(outbin)\n",
    "out1<- predict(object=model, newdata = datt[,j]);\n",
    "outbin1 <- as.double(out1 > 0.5)\n",
    "100*sum(diag(table(datt[,1], outbin1))) / length(outbin1)"
   ]
  },
  {
   "cell_type": "markdown",
   "metadata": {},
   "source": [
    "PRACTICA 1: Construir un modelo de clasificación para cada dígito, y obtener una ranking de los dígitos en base a su capacidad predictiva (el primero el que mejor se predice, etc.). Para evaluar la capacidad predictiva considerando el error de test obtenido al separar aleatoriamente la muestra en un conjunto de train (n=10000) y el resto de test. \n",
    "\n",
    "Nota: usar la función 'sample'. \n",
    "Nota2: Elige un entresacado óptimo para que la capacidad predictiva no se reduzca y se reduzca la dimensión el máximo posible."
   ]
  },
  {
   "cell_type": "code",
   "execution_count": null,
   "metadata": {},
   "outputs": [],
   "source": [
    "# Rellena"
   ]
  },
  {
   "cell_type": "markdown",
   "metadata": {},
   "source": [
    "PRACTICA 2: Tener en cuenta la variabilidad del error de test a la hora de construir el ranking anterior. Para ello, además de calcular la tasa de acierto para cada dígito, considerar también un \"intervalo de confianza\" obtenido como la dispersión (desviación típica) de 10 medidas de test obtenidas con 10 muestras aleatorias distintas. ¿Existe algún dígito que pueda predecirse significativamente mejor que los demás?"
   ]
  },
  {
   "cell_type": "code",
   "execution_count": null,
   "metadata": {},
   "outputs": [],
   "source": [
    "# Rellena"
   ]
  },
  {
   "cell_type": "markdown",
   "metadata": {},
   "source": [
    "TRABAJO EXTRA: Hasta ahora hemos utilizado la tasa de acierto como medida de validación de los clasificadores. Para ello, las predicciones probabilísticas se tiene que convertir a binarias (utilizando un umbral para al probabilidad). Sin embargo, existen otras medidas más generales que consideran el carácter probabilístico de la predicción. \n",
    "Leer https://es.wikipedia.org/wiki/Curva_ROC\n",
    "Practicar con el paquete 'AUC'\n",
    "#install.packages(\"AUC\")\n",
    "#library(\"AUC\")\n",
    "#roc<-roc(out,as.factor(datT[,1]))\n",
    "#auc(roc)\n",
    "#plot(roc)"
   ]
  },
  {
   "cell_type": "code",
   "execution_count": null,
   "metadata": {},
   "outputs": [],
   "source": []
  }
 ],
 "metadata": {
  "kernelspec": {
   "display_name": "R",
   "language": "R",
   "name": "ir"
  },
  "language_info": {
   "codemirror_mode": "r",
   "file_extension": ".r",
   "mimetype": "text/x-r-source",
   "name": "R",
   "pygments_lexer": "r",
   "version": "3.4.4"
  }
 },
 "nbformat": 4,
 "nbformat_minor": 2
}
