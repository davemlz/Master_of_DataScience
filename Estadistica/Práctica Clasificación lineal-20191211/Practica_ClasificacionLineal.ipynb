{
  "nbformat": 4,
  "nbformat_minor": 0,
  "metadata": {
    "kernelspec": {
      "display_name": "R",
      "language": "R",
      "name": "ir"
    },
    "language_info": {
      "codemirror_mode": "r",
      "file_extension": ".r",
      "mimetype": "text/x-r-source",
      "name": "R",
      "pygments_lexer": "r",
      "version": "3.4.4"
    },
    "colab": {
      "name": "Practica_ClasificacionLineal.ipynb",
      "provenance": []
    }
  },
  "cells": [
    {
      "cell_type": "markdown",
      "metadata": {
        "id": "dLMdM_OS8Tt0",
        "colab_type": "text"
      },
      "source": [
        "## Práctica de Clasificación Lineal: Regresión Logística"
      ]
    },
    {
      "cell_type": "markdown",
      "metadata": {
        "id": "hMb6R2M18Tt3",
        "colab_type": "text"
      },
      "source": [
        "Daniel Garcia Diaz (garciad@ifca.unican.es)"
      ]
    },
    {
      "cell_type": "markdown",
      "metadata": {
        "id": "hLv-R_5Y8Tt5",
        "colab_type": "text"
      },
      "source": [
        "En esta práctica utilizaremos el dataset MNIST, compuesto por 60000 imágenes de train y 10000 imagenes de test (de 28x28 pixeles) correspondientes a distintas versiones digitalizadas de los dígitos 0, ..., 9. \n",
        "\n",
        "Descargamos el dataset que vamos a utilizar."
      ]
    },
    {
      "cell_type": "code",
      "metadata": {
        "id": "Yj6Iu1gZ8Tt6",
        "colab_type": "code",
        "colab": {}
      },
      "source": [
        "#Set the directory to be able to read the data properly\n",
        "rm(list=ls())\n",
        "setwd(\"\")\n",
        "\n",
        "#Install the necessary packages\n",
        "#install.packages(\"R.utils\")"
      ],
      "execution_count": 0,
      "outputs": []
    },
    {
      "cell_type": "code",
      "metadata": {
        "id": "ZWgVxegB8Tt_",
        "colab_type": "code",
        "colab": {}
      },
      "source": [
        "# download data from http://yann.lecun.com/exdb/mnist/\n",
        "download.file(\"http://yann.lecun.com/exdb/mnist/train-images-idx3-ubyte.gz\",\n",
        "              \"train-images-idx3-ubyte.gz\")\n",
        "download.file(\"http://yann.lecun.com/exdb/mnist/train-labels-idx1-ubyte.gz\",\n",
        "              \"train-labels-idx1-ubyte.gz\")\n",
        "download.file(\"http://yann.lecun.com/exdb/mnist/t10k-images-idx3-ubyte.gz\",\n",
        "              \"t10k-images-idx3-ubyte.gz\")\n",
        "download.file(\"http://yann.lecun.com/exdb/mnist/t10k-labels-idx1-ubyte.gz\",\n",
        "              \"t10k-labels-idx1-ubyte.gz\")\n",
        "\n",
        "# gunzip the files\n",
        "R.utils::gunzip(\"train-images-idx3-ubyte.gz\")\n",
        "R.utils::gunzip(\"train-labels-idx1-ubyte.gz\")\n",
        "R.utils::gunzip(\"t10k-images-idx3-ubyte.gz\")\n",
        "R.utils::gunzip(\"t10k-labels-idx1-ubyte.gz\")"
      ],
      "execution_count": 0,
      "outputs": []
    },
    {
      "cell_type": "markdown",
      "metadata": {
        "id": "2vTPhIbZ8TuB",
        "colab_type": "text"
      },
      "source": [
        "4 archivos diferentes para crear los datasets de train (x_train->train-image e y_train->train-labels) y de test (x->t10k-images e y->t10k-labels).\n",
        "\n",
        "Funciones para cargar los archivos\n"
      ]
    },
    {
      "cell_type": "code",
      "metadata": {
        "id": "PgkJoRP48TuC",
        "colab_type": "code",
        "colab": {}
      },
      "source": [
        "# load image files\n",
        "load_image_file = function(filename) {\n",
        "  ret = list()\n",
        "  f = file(filename, 'rb')\n",
        "  readBin(f, 'integer', n = 1, size = 4, endian = 'big')\n",
        "  n    = readBin(f, 'integer', n = 1, size = 4, endian = 'big')\n",
        "  nrow = readBin(f, 'integer', n = 1, size = 4, endian = 'big')\n",
        "  ncol = readBin(f, 'integer', n = 1, size = 4, endian = 'big')\n",
        "  x = readBin(f, 'integer', n = n * nrow * ncol, size = 1, signed = FALSE)\n",
        "  close(f)\n",
        "  data.frame(matrix(x, ncol = nrow * ncol, byrow = TRUE))\n",
        "}\n",
        "\n",
        "# load label files\n",
        "load_label_file = function(filename) {\n",
        "  f = file(filename, 'rb')\n",
        "  readBin(f, 'integer', n = 1, size = 4, endian = 'big')\n",
        "  n = readBin(f, 'integer', n = 1, size = 4, endian = 'big')\n",
        "  y = readBin(f, 'integer', n = n, size = 1, signed = FALSE)\n",
        "  close(f)\n",
        "  y\n",
        "}"
      ],
      "execution_count": 0,
      "outputs": []
    },
    {
      "cell_type": "code",
      "metadata": {
        "id": "g3FcZIZe8TuE",
        "colab_type": "code",
        "colab": {}
      },
      "source": [
        "# load images\n",
        "path_x_train = \"https://github.com/davemlz/Master_of_DataScience/blob/master/Estadistica/Pr%C3%A1ctica%20Clasificaci%C3%B3n%20lineal-20191211/data/train-images-idx3-ubyte?raw=true\"\n",
        "path_x_test = \"https://github.com/davemlz/Master_of_DataScience/blob/master/Estadistica/Pr%C3%A1ctica%20Clasificaci%C3%B3n%20lineal-20191211/data/t10k-images-idx3-ubyte?raw=true\"\n",
        "path_y_train = \"https://github.com/davemlz/Master_of_DataScience/blob/master/Estadistica/Pr%C3%A1ctica%20Clasificaci%C3%B3n%20lineal-20191211/data/train-labels-idx1-ubyte?raw=true\"\n",
        "path_y_test = \"https://github.com/davemlz/Master_of_DataScience/raw/master/Estadistica/Pr%C3%A1ctica%20Clasificaci%C3%B3n%20lineal-20191211/data/t10k-labels-idx1-ubyte\"\n",
        "\n",
        "x_train = load_image_file(path_x_train)\n",
        "x_test = load_image_file(path_x_test)\n",
        "\n",
        "y_train = load_label_file(path_y_train)\n",
        "y_test = load_label_file(path_y_test)\n",
        "# x_train = load_image_file(\"train-images-idx3-ubyte\")\n",
        "# x_test  = load_image_file(\"t10k-images-idx3-ubyte\")\n",
        "\n",
        "# load labels\n",
        "# y_train = load_label_file(\"train-labels-idx1-ubyte\")\n",
        "# y_test  = load_label_file(\"t10k-labels-idx1-ubyte\")"
      ],
      "execution_count": 0,
      "outputs": []
    },
    {
      "cell_type": "markdown",
      "metadata": {
        "id": "4QUT-A-e8TuH",
        "colab_type": "text"
      },
      "source": [
        "Dibujamos los 6 primeros digitos para ver el dataset que tenemos"
      ]
    },
    {
      "cell_type": "code",
      "metadata": {
        "id": "sXArkD_U8TuI",
        "colab_type": "code",
        "colab": {
          "base_uri": "https://localhost:8080/",
          "height": 856
        },
        "outputId": "0900569b-d912-4e5d-d519-4c811840b78b"
      },
      "source": [
        "# Dibujamos los 6 primeros dígitos de la base de datos\n",
        "par(mfrow = c(2,3))\n",
        "for (i in 1:6) {\n",
        "    image(matrix(as.matrix(x_train[i,1:784]), nrow = 28, ncol = 28))\n",
        "    title(y_train[i])\n",
        "}"
      ],
      "execution_count": 5,
      "outputs": [
        {
          "output_type": "display_data",
          "data": {
            "image/png": "[encoded data removed]",
            "text/plain": [
              "Plot with title “2”"
            ]
          },
          "metadata": {
            "tags": []
          }
        }
      ]
    },
    {
      "cell_type": "code",
      "metadata": {
        "id": "woa3lBa78TuL",
        "colab_type": "code",
        "colab": {
          "base_uri": "https://localhost:8080/",
          "height": 856
        },
        "outputId": "87c99430-7d87-4d6f-8b54-4aee57e4b3d5"
      },
      "source": [
        "# Cada dígito está igualmente representado en la muestra\n",
        "hist(y_train, breaks = -0.5:9.5)"
      ],
      "execution_count": 6,
      "outputs": [
        {
          "output_type": "display_data",
          "data": {
            "image/png": "[encoded data removed]",
            "text/plain": [
              "Plot with title “Histogram of y_train”"
            ]
          },
          "metadata": {
            "tags": []
          }
        }
      ]
    },
    {
      "cell_type": "markdown",
      "metadata": {
        "id": "BgQv6ZmM8TuO",
        "colab_type": "text"
      },
      "source": [
        "El objetivo es clasificar correctamente cada una de las imágenes, utilizando el valor de los 784 pixeles. Este problema se encuandra dentro de la clasificación multi-categoría (tenemos 10 posibles clases a predicir para cada dato). \n",
        "\n",
        "Para simplificar estos problemas, se suelen consideran tantos problemas binarios (predecir sí o no) independientes como categorías se tengan. Es decir, un modelo para clasificar 0 (si o no), otro para 1, etc. En este ejemplo, consideramos el dígito '9' y el objetivo es predecir si una imagen es 9 o no."
      ]
    },
    {
      "cell_type": "code",
      "metadata": {
        "id": "fhP5o75Q8TuP",
        "colab_type": "code",
        "colab": {}
      },
      "source": [
        "# Seleccionamos un dígito concreto para tratar de predecirlo. Por ejemplo el nueve\n",
        "# y9 = 1 si el dígito es 9 y 0 en caso contrario\n",
        "y9 <- y_train;\n",
        "y9[which(y_train != 9)] <- 0 ; y9[which(y_train == 9)] <- 1"
      ],
      "execution_count": 0,
      "outputs": []
    },
    {
      "cell_type": "code",
      "metadata": {
        "id": "vIDZX2e98TuR",
        "colab_type": "code",
        "colab": {}
      },
      "source": [
        "# Construimos un dataframe para entrenar el modelo\n",
        "dat <- data.frame(y9,x_train)"
      ],
      "execution_count": 0,
      "outputs": []
    },
    {
      "cell_type": "markdown",
      "metadata": {
        "id": "YaNeCnZC8TuT",
        "colab_type": "text"
      },
      "source": [
        "Como el tamaño de la muestra es muy grande (60000 imagenes), seleccionamos una muestra para entrenar; por ejemplo, los 5000 primeros dígitos."
      ]
    },
    {
      "cell_type": "code",
      "metadata": {
        "id": "WpjJnYpb8TuT",
        "colab_type": "code",
        "colab": {}
      },
      "source": [
        "i<- 1:5000;\n",
        "j<-5001:10000\n",
        "#Random sampling\n",
        "#i<-sample(1:dim(x)[1],5000);\n",
        "datT <- dat[i,]\n",
        "datt <- dat[j,]"
      ],
      "execution_count": 0,
      "outputs": []
    },
    {
      "cell_type": "markdown",
      "metadata": {
        "id": "oAUKLyQX8TuV",
        "colab_type": "text"
      },
      "source": [
        "Aunque no es el modelo adecuado, ya que no está acotada y puede tomar valores mucho mayores que 1 o menores que 0, construimos primero un modelo de regresión lineal para estos datos."
      ]
    },
    {
      "cell_type": "code",
      "metadata": {
        "id": "poUYsomC8TuW",
        "colab_type": "code",
        "colab": {
          "base_uri": "https://localhost:8080/",
          "height": 856
        },
        "outputId": "86ad3a81-dff8-4295-b566-6a5083da0774"
      },
      "source": [
        "# Entrenamos primero un modelo lineal\n",
        "model <- lm(datT$y9~., data = datT)\n",
        "out <- model$fitted.values\n",
        "# El histograma muestra valores predichos (incluyendo negativos y mayores que 1)\n",
        "hist(out)"
      ],
      "execution_count": 10,
      "outputs": [
        {
          "output_type": "display_data",
          "data": {
            "image/png": "[encoded data removed]",
            "text/plain": [
              "Plot with title “Histogram of out”"
            ]
          },
          "metadata": {
            "tags": []
          }
        }
      ]
    },
    {
      "cell_type": "markdown",
      "metadata": {
        "id": "5cuegNoC8TuZ",
        "colab_type": "text"
      },
      "source": [
        "Hacemos la salida del modelo binaria considerando el umbral en 0.5 (a modo de probabilidad) y calculamos la tasa de acierto con los datos de train"
      ]
    },
    {
      "cell_type": "code",
      "metadata": {
        "id": "ibvVgv5X8Tua",
        "colab_type": "code",
        "colab": {
          "base_uri": "https://localhost:8080/",
          "height": 33
        },
        "outputId": "adcbfea6-e20f-4a05-cc9d-96af86723ad0"
      },
      "source": [
        "# Hacemos binaria la salida considerando el umbral 0.5 (a modo de probabilidad)\n",
        "outbin <- as.double(out > 0.5)\n",
        "\n",
        "# Tasa de acierto (en entrenamiento)\n",
        "100*sum(diag(table(datT[,1], outbin))) / length(outbin)"
      ],
      "execution_count": 11,
      "outputs": [
        {
          "output_type": "display_data",
          "data": {
            "text/plain": [
              "[1] 96.18"
            ],
            "text/latex": "96.18",
            "text/markdown": "96.18",
            "text/html": [
              "96.18"
            ]
          },
          "metadata": {
            "tags": []
          }
        }
      ]
    },
    {
      "cell_type": "code",
      "metadata": {
        "id": "xMUUQ-kg8Tuc",
        "colab_type": "code",
        "colab": {
          "base_uri": "https://localhost:8080/",
          "height": 68
        },
        "outputId": "acdf1fca-f497-4f57-8b5e-77bdbd21bc1a"
      },
      "source": [
        "# Tasa de acierto de test\n",
        "out1<- predict(object=model, newdata = datt);\n",
        "outbin1 <- as.double(out1 > 0.5)\n",
        "100*sum(diag(table(datt[,1], outbin1))) / length(outbin1)"
      ],
      "execution_count": 12,
      "outputs": [
        {
          "output_type": "stream",
          "text": [
            "Warning message in predict.lm(object = model, newdata = datt):\n",
            "“prediction from a rank-deficient fit may be misleading”"
          ],
          "name": "stderr"
        },
        {
          "output_type": "display_data",
          "data": {
            "text/plain": [
              "[1] 94.68"
            ],
            "text/latex": "94.68",
            "text/markdown": "94.68",
            "text/html": [
              "94.68"
            ]
          },
          "metadata": {
            "tags": []
          }
        }
      ]
    },
    {
      "cell_type": "markdown",
      "metadata": {
        "id": "dxx-OmMk8Tue",
        "colab_type": "text"
      },
      "source": [
        "Ahora construimos un modelo de regresión logística utilizando la función 'glm' con la familia 'family = binomial(link = \"logit\")'"
      ]
    },
    {
      "cell_type": "code",
      "metadata": {
        "id": "Ra_j61Cc8Tue",
        "colab_type": "code",
        "colab": {
          "base_uri": "https://localhost:8080/",
          "height": 68
        },
        "outputId": "82ef8a34-0f8f-4a4b-febb-dec27fa9976d"
      },
      "source": [
        "model1 <- glm(datT$y9~., data = datT, family = binomial(link = \"logit\"))\n",
        "\n",
        "# Problemas de convergencia con tantas variables\n",
        "# Coefficients: (138 not defined because of singularities)\n",
        "# Tasa de acierto (Train)\n",
        "out2 <- model1$fitted.values\n",
        "outbin2 <- as.double(out2 > 0.5)\n",
        "100*sum(diag(table(datT[,1], outbin2))) / length(outbin2)"
      ],
      "execution_count": 13,
      "outputs": [
        {
          "output_type": "stream",
          "text": [
            "Warning message:\n",
            "“glm.fit: fitted probabilities numerically 0 or 1 occurred”"
          ],
          "name": "stderr"
        },
        {
          "output_type": "display_data",
          "data": {
            "text/plain": [
              "[1] 97.7"
            ],
            "text/latex": "97.7",
            "text/markdown": "97.7",
            "text/html": [
              "97.7"
            ]
          },
          "metadata": {
            "tags": []
          }
        }
      ]
    },
    {
      "cell_type": "code",
      "metadata": {
        "id": "2NkHorTL8Tug",
        "colab_type": "code",
        "colab": {
          "base_uri": "https://localhost:8080/",
          "height": 856
        },
        "outputId": "04de455c-663e-41ce-c891-ddcd14f66d03"
      },
      "source": [
        "hist(out2)"
      ],
      "execution_count": 14,
      "outputs": [
        {
          "output_type": "display_data",
          "data": {
            "image/png": "[encoded data removed]",
            "text/plain": [
              "Plot with title “Histogram of out2”"
            ]
          },
          "metadata": {
            "tags": []
          }
        }
      ]
    },
    {
      "cell_type": "code",
      "metadata": {
        "id": "3WHkYBP28Tuk",
        "colab_type": "code",
        "colab": {
          "base_uri": "https://localhost:8080/",
          "height": 68
        },
        "outputId": "fe3d571e-8e48-4a45-94ba-30734106a027"
      },
      "source": [
        "# Tasa de acierto (test)\n",
        "out3<- predict(object=model1, newdata = datt);\n",
        "outbin3 <- as.double(out3 > 0.5)\n",
        "100*sum(diag(table(datt[,1], outbin3))) / length(outbin3)"
      ],
      "execution_count": 15,
      "outputs": [
        {
          "output_type": "stream",
          "text": [
            "Warning message in predict.lm(object, newdata, se.fit, scale = 1, type = if (type == :\n",
            "“prediction from a rank-deficient fit may be misleading”"
          ],
          "name": "stderr"
        },
        {
          "output_type": "display_data",
          "data": {
            "text/plain": [
              "[1] 92.38"
            ],
            "text/latex": "92.38",
            "text/markdown": "92.38",
            "text/html": [
              "92.38"
            ]
          },
          "metadata": {
            "tags": []
          }
        }
      ]
    },
    {
      "cell_type": "markdown",
      "metadata": {
        "id": "WMbiLV8-8Tun",
        "colab_type": "text"
      },
      "source": [
        "Las inestabilidades numéricas se producen por la alta dimensionalidad de los datos. Algunos de los coeficientes resultan redundantes y el proceso de optimización no converge.\n",
        "### (195 not defined because of singularities)."
      ]
    },
    {
      "cell_type": "markdown",
      "metadata": {
        "id": "O6Yq34608Tun",
        "colab_type": "text"
      },
      "source": [
        "Una solución a este problema es reducir la dimensionalidad del conjunto de predictores. Para ello existen técnicas eficientes (como los métodos de regularización o las Componentes Principales) que se verán más adelante. En esta práctica utilizamos un entresacado de información, considerando sólo uno de cada 20 pixeles."
      ]
    },
    {
      "cell_type": "code",
      "metadata": {
        "id": "wHlzAv_z8Tuo",
        "colab_type": "code",
        "colab": {
          "base_uri": "https://localhost:8080/",
          "height": 85
        },
        "outputId": "de20b61b-e459-4030-b89d-76ae299792b9"
      },
      "source": [
        "#Modelo de regresión lineal\n",
        "j<-seq(1,784,20)\n",
        "model <- lm(datT$y9~., data = datT[,j])\n",
        "out <- model$fitted.values\n",
        "outbin <- as.double(out > 0.5)\n",
        "100*sum(diag(table(datT[,1], outbin))) / length(outbin)\n",
        "out1<- predict(object=model, newdata = datt[,j]);\n",
        "outbin1 <- as.double(out1 > 0.5)\n",
        "100*sum(diag(table(datt[,1], outbin1))) / length(outbin1)"
      ],
      "execution_count": 16,
      "outputs": [
        {
          "output_type": "display_data",
          "data": {
            "text/plain": [
              "[1] 90.28"
            ],
            "text/latex": "90.28",
            "text/markdown": "90.28",
            "text/html": [
              "90.28"
            ]
          },
          "metadata": {
            "tags": []
          }
        },
        {
          "output_type": "stream",
          "text": [
            "Warning message in predict.lm(object = model, newdata = datt[, j]):\n",
            "“prediction from a rank-deficient fit may be misleading”"
          ],
          "name": "stderr"
        },
        {
          "output_type": "display_data",
          "data": {
            "text/plain": [
              "[1] 91.1"
            ],
            "text/latex": "91.1",
            "text/markdown": "91.1",
            "text/html": [
              "91.1"
            ]
          },
          "metadata": {
            "tags": []
          }
        }
      ]
    },
    {
      "cell_type": "code",
      "metadata": {
        "id": "ivG6cJ-M8Tur",
        "colab_type": "code",
        "colab": {
          "base_uri": "https://localhost:8080/",
          "height": 121
        },
        "outputId": "c8f9486b-bdc0-481e-bc79-a438762135fd"
      },
      "source": [
        "#Regresión logística\n",
        "j<-seq(1,784,20)\n",
        "model <- glm(datT$y9~., data = datT[,j], family = binomial(link = \"logit\"))\n",
        "out <- model$fitted.values\n",
        "outbin <- as.double(out > 0.5)\n",
        "100*sum(diag(table(datT[,1], outbin))) / length(outbin)\n",
        "out1<- predict(object=model, newdata = datt[,j]);\n",
        "outbin1 <- as.double(out1 > 0.5)\n",
        "100*sum(diag(table(datt[,1], outbin1))) / length(outbin1)"
      ],
      "execution_count": 17,
      "outputs": [
        {
          "output_type": "stream",
          "text": [
            "Warning message:\n",
            "“glm.fit: fitted probabilities numerically 0 or 1 occurred”"
          ],
          "name": "stderr"
        },
        {
          "output_type": "display_data",
          "data": {
            "text/plain": [
              "[1] 92.02"
            ],
            "text/latex": "92.02",
            "text/markdown": "92.02",
            "text/html": [
              "92.02"
            ]
          },
          "metadata": {
            "tags": []
          }
        },
        {
          "output_type": "stream",
          "text": [
            "Warning message in predict.lm(object, newdata, se.fit, scale = 1, type = if (type == :\n",
            "“prediction from a rank-deficient fit may be misleading”"
          ],
          "name": "stderr"
        },
        {
          "output_type": "display_data",
          "data": {
            "text/plain": [
              "[1] 92.26"
            ],
            "text/latex": "92.26",
            "text/markdown": "92.26",
            "text/html": [
              "92.26"
            ]
          },
          "metadata": {
            "tags": []
          }
        }
      ]
    },
    {
      "cell_type": "markdown",
      "metadata": {
        "id": "LRbB38L18Tuw",
        "colab_type": "text"
      },
      "source": [
        "PRACTICA 1: Construir un modelo de clasificación para cada dígito, y obtener una ranking de los dígitos en base a su capacidad predictiva (el primero el que mejor se predice, etc.). Para evaluar la capacidad predictiva considerando el error de test obtenido al separar aleatoriamente la muestra en un conjunto de train (n=10000) y el resto de test. \n",
        "\n",
        "Nota: usar la función 'sample'. \n",
        "Nota2: Elige un entresacado óptimo para que la capacidad predictiva no se reduzca y se reduzca la dimensión el máximo posible."
      ]
    },
    {
      "cell_type": "code",
      "metadata": {
        "id": "H_pK_87O8Tux",
        "colab_type": "code",
        "colab": {
          "base_uri": "https://localhost:8080/",
          "height": 655
        },
        "outputId": "53b79afa-b482-46c2-8992-6c4d3fecca59"
      },
      "source": [
        "digits = 0:9\n",
        "\n",
        "get_glm_score = function(subset_n,train_n,digit){\n",
        "\n",
        "  y_digit = y_train\n",
        "  y_digit[which(y_train != digit)] = 0\n",
        "  y_digit[which(y_train == digit)] = 1\n",
        "\n",
        "  dat = data.frame(y_digit,x_train)\n",
        "\n",
        "  subset_ind = sample(seq_len(nrow(dat)),size = subset_n)\n",
        "  subset_dat = dat[subset_ind,]\n",
        "\n",
        "  train_ind = sample(seq_len(nrow(dat)),size = train_n)\n",
        "\n",
        "  train = dat[train_ind,]\n",
        "  test = dat[-train_ind,]\n",
        "\n",
        "  j = seq(1,784,20)\n",
        "\n",
        "  model = glm(train$y_digit ~ .,data = train[,j], family = binomial(link = \"logit\"))\n",
        "\n",
        "  out1 = predict(object = model,newdata = test[,j])\n",
        "  outbin1 = as.double(out1 > 0.5)\n",
        "  \n",
        "  score = 100 * sum(diag(table(test[,1], outbin1))) / length(outbin1)\n",
        "  \n",
        "  return(score)\n",
        "\n",
        "}\n",
        "\n",
        "scores = sapply(digits,get_glm_score,subset_n = 15000,train_n = 10000)\n",
        "\n",
        "df = data.frame(digits,scores)\n",
        "df = df[order(-scores),]\n",
        "df"
      ],
      "execution_count": 25,
      "outputs": [
        {
          "output_type": "stream",
          "text": [
            "Warning message:\n",
            "“glm.fit: fitted probabilities numerically 0 or 1 occurred”Warning message in predict.lm(object, newdata, se.fit, scale = 1, type = if (type == :\n",
            "“prediction from a rank-deficient fit may be misleading”Warning message:\n",
            "“glm.fit: fitted probabilities numerically 0 or 1 occurred”Warning message in predict.lm(object, newdata, se.fit, scale = 1, type = if (type == :\n",
            "“prediction from a rank-deficient fit may be misleading”Warning message:\n",
            "“glm.fit: fitted probabilities numerically 0 or 1 occurred”Warning message in predict.lm(object, newdata, se.fit, scale = 1, type = if (type == :\n",
            "“prediction from a rank-deficient fit may be misleading”Warning message:\n",
            "“glm.fit: fitted probabilities numerically 0 or 1 occurred”Warning message in predict.lm(object, newdata, se.fit, scale = 1, type = if (type == :\n",
            "“prediction from a rank-deficient fit may be misleading”Warning message:\n",
            "“glm.fit: fitted probabilities numerically 0 or 1 occurred”Warning message in predict.lm(object, newdata, se.fit, scale = 1, type = if (type == :\n",
            "“prediction from a rank-deficient fit may be misleading”Warning message:\n",
            "“glm.fit: fitted probabilities numerically 0 or 1 occurred”Warning message in predict.lm(object, newdata, se.fit, scale = 1, type = if (type == :\n",
            "“prediction from a rank-deficient fit may be misleading”Warning message:\n",
            "“glm.fit: fitted probabilities numerically 0 or 1 occurred”Warning message in predict.lm(object, newdata, se.fit, scale = 1, type = if (type == :\n",
            "“prediction from a rank-deficient fit may be misleading”Warning message:\n",
            "“glm.fit: algorithm did not converge”Warning message:\n",
            "“glm.fit: fitted probabilities numerically 0 or 1 occurred”Warning message in predict.lm(object, newdata, se.fit, scale = 1, type = if (type == :\n",
            "“prediction from a rank-deficient fit may be misleading”Warning message:\n",
            "“glm.fit: fitted probabilities numerically 0 or 1 occurred”Warning message in predict.lm(object, newdata, se.fit, scale = 1, type = if (type == :\n",
            "“prediction from a rank-deficient fit may be misleading”Warning message:\n",
            "“glm.fit: fitted probabilities numerically 0 or 1 occurred”Warning message in predict.lm(object, newdata, se.fit, scale = 1, type = if (type == :\n",
            "“prediction from a rank-deficient fit may be misleading”"
          ],
          "name": "stderr"
        },
        {
          "output_type": "display_data",
          "data": {
            "text/plain": [
              "   digits scores\n",
              "1  0      96.318\n",
              "2  1      96.212\n",
              "8  7      94.728\n",
              "3  2      94.474\n",
              "7  6      93.466\n",
              "5  4      93.360\n",
              "6  5      92.462\n",
              "9  8      92.266\n",
              "4  3      92.154\n",
              "10 9      91.846"
            ],
            "text/latex": "A data.frame: 10 × 2\n\\begin{tabular}{r|ll}\n  & digits & scores\\\\\n  & <int> & <dbl>\\\\\n\\hline\n\t1 & 0 & 96.318\\\\\n\t2 & 1 & 96.212\\\\\n\t8 & 7 & 94.728\\\\\n\t3 & 2 & 94.474\\\\\n\t7 & 6 & 93.466\\\\\n\t5 & 4 & 93.360\\\\\n\t6 & 5 & 92.462\\\\\n\t9 & 8 & 92.266\\\\\n\t4 & 3 & 92.154\\\\\n\t10 & 9 & 91.846\\\\\n\\end{tabular}\n",
            "text/markdown": "\nA data.frame: 10 × 2\n\n| <!--/--> | digits &lt;int&gt; | scores &lt;dbl&gt; |\n|---|---|---|\n| 1 | 0 | 96.318 |\n| 2 | 1 | 96.212 |\n| 8 | 7 | 94.728 |\n| 3 | 2 | 94.474 |\n| 7 | 6 | 93.466 |\n| 5 | 4 | 93.360 |\n| 6 | 5 | 92.462 |\n| 9 | 8 | 92.266 |\n| 4 | 3 | 92.154 |\n| 10 | 9 | 91.846 |\n\n",
            "text/html": [
              "<table>\n",
              "<caption>A data.frame: 10 × 2</caption>\n",
              "<thead>\n",
              "\t<tr><th></th><th scope=col>digits</th><th scope=col>scores</th></tr>\n",
              "\t<tr><th></th><th scope=col>&lt;int&gt;</th><th scope=col>&lt;dbl&gt;</th></tr>\n",
              "</thead>\n",
              "<tbody>\n",
              "\t<tr><th scope=row>1</th><td>0</td><td>96.318</td></tr>\n",
              "\t<tr><th scope=row>2</th><td>1</td><td>96.212</td></tr>\n",
              "\t<tr><th scope=row>8</th><td>7</td><td>94.728</td></tr>\n",
              "\t<tr><th scope=row>3</th><td>2</td><td>94.474</td></tr>\n",
              "\t<tr><th scope=row>7</th><td>6</td><td>93.466</td></tr>\n",
              "\t<tr><th scope=row>5</th><td>4</td><td>93.360</td></tr>\n",
              "\t<tr><th scope=row>6</th><td>5</td><td>92.462</td></tr>\n",
              "\t<tr><th scope=row>9</th><td>8</td><td>92.266</td></tr>\n",
              "\t<tr><th scope=row>4</th><td>3</td><td>92.154</td></tr>\n",
              "\t<tr><th scope=row>10</th><td>9</td><td>91.846</td></tr>\n",
              "</tbody>\n",
              "</table>\n"
            ]
          },
          "metadata": {
            "tags": []
          }
        }
      ]
    },
    {
      "cell_type": "markdown",
      "metadata": {
        "id": "i3UZG35g8Tu1",
        "colab_type": "text"
      },
      "source": [
        "PRACTICA 2: Tener en cuenta la variabilidad del error de test a la hora de construir el ranking anterior. Para ello, además de calcular la tasa de acierto para cada dígito, considerar también un \"intervalo de confianza\" obtenido como la dispersión (desviación típica) de 10 medidas de test obtenidas con 10 muestras aleatorias distintas. ¿Existe algún dígito que pueda predecirse significativamente mejor que los demás?"
      ]
    },
    {
      "cell_type": "code",
      "metadata": {
        "id": "z5Ra9pj78Tu2",
        "colab_type": "code",
        "colab": {
          "base_uri": "https://localhost:8080/",
          "height": 1000
        },
        "outputId": "272c1e6b-9563-4a4d-8dc5-f417cd6ff569"
      },
      "source": [
        "scores_ = NULL\n",
        "\n",
        "for(i in 1:10){\n",
        "\n",
        "  scores = sapply(digits,get_glm_score,subset_n = 15000,train_n = 10000)\n",
        "  scores_ = c(scores_,scores)\n",
        "\n",
        "}\n",
        "\n",
        "dig = rep(digits,10)\n",
        "\n",
        "dfScores = data.frame(digits = dig,scores = scores_)\n",
        "\n",
        "dfScores"
      ],
      "execution_count": 26,
      "outputs": [
        {
          "output_type": "stream",
          "text": [
            "Warning message:\n",
            "“glm.fit: fitted probabilities numerically 0 or 1 occurred”Warning message in predict.lm(object, newdata, se.fit, scale = 1, type = if (type == :\n",
            "“prediction from a rank-deficient fit may be misleading”Warning message:\n",
            "“glm.fit: fitted probabilities numerically 0 or 1 occurred”Warning message in predict.lm(object, newdata, se.fit, scale = 1, type = if (type == :\n",
            "“prediction from a rank-deficient fit may be misleading”Warning message:\n",
            "“glm.fit: fitted probabilities numerically 0 or 1 occurred”Warning message in predict.lm(object, newdata, se.fit, scale = 1, type = if (type == :\n",
            "“prediction from a rank-deficient fit may be misleading”Warning message:\n",
            "“glm.fit: fitted probabilities numerically 0 or 1 occurred”Warning message in predict.lm(object, newdata, se.fit, scale = 1, type = if (type == :\n",
            "“prediction from a rank-deficient fit may be misleading”Warning message:\n",
            "“glm.fit: fitted probabilities numerically 0 or 1 occurred”Warning message in predict.lm(object, newdata, se.fit, scale = 1, type = if (type == :\n",
            "“prediction from a rank-deficient fit may be misleading”Warning message:\n",
            "“glm.fit: fitted probabilities numerically 0 or 1 occurred”Warning message in predict.lm(object, newdata, se.fit, scale = 1, type = if (type == :\n",
            "“prediction from a rank-deficient fit may be misleading”Warning message:\n",
            "“glm.fit: fitted probabilities numerically 0 or 1 occurred”Warning message in predict.lm(object, newdata, se.fit, scale = 1, type = if (type == :\n",
            "“prediction from a rank-deficient fit may be misleading”Warning message:\n",
            "“glm.fit: algorithm did not converge”Warning message:\n",
            "“glm.fit: fitted probabilities numerically 0 or 1 occurred”Warning message in predict.lm(object, newdata, se.fit, scale = 1, type = if (type == :\n",
            "“prediction from a rank-deficient fit may be misleading”Warning message:\n",
            "“glm.fit: fitted probabilities numerically 0 or 1 occurred”Warning message in predict.lm(object, newdata, se.fit, scale = 1, type = if (type == :\n",
            "“prediction from a rank-deficient fit may be misleading”Warning message:\n",
            "“glm.fit: fitted probabilities numerically 0 or 1 occurred”Warning message in predict.lm(object, newdata, se.fit, scale = 1, type = if (type == :\n",
            "“prediction from a rank-deficient fit may be misleading”Warning message:\n",
            "“glm.fit: fitted probabilities numerically 0 or 1 occurred”Warning message in predict.lm(object, newdata, se.fit, scale = 1, type = if (type == :\n",
            "“prediction from a rank-deficient fit may be misleading”Warning message:\n",
            "“glm.fit: fitted probabilities numerically 0 or 1 occurred”Warning message in predict.lm(object, newdata, se.fit, scale = 1, type = if (type == :\n",
            "“prediction from a rank-deficient fit may be misleading”Warning message:\n",
            "“glm.fit: fitted probabilities numerically 0 or 1 occurred”Warning message in predict.lm(object, newdata, se.fit, scale = 1, type = if (type == :\n",
            "“prediction from a rank-deficient fit may be misleading”Warning message:\n",
            "“glm.fit: fitted probabilities numerically 0 or 1 occurred”Warning message in predict.lm(object, newdata, se.fit, scale = 1, type = if (type == :\n",
            "“prediction from a rank-deficient fit may be misleading”Warning message:\n",
            "“glm.fit: fitted probabilities numerically 0 or 1 occurred”Warning message in predict.lm(object, newdata, se.fit, scale = 1, type = if (type == :\n",
            "“prediction from a rank-deficient fit may be misleading”Warning message:\n",
            "“glm.fit: fitted probabilities numerically 0 or 1 occurred”Warning message in predict.lm(object, newdata, se.fit, scale = 1, type = if (type == :\n",
            "“prediction from a rank-deficient fit may be misleading”Warning message:\n",
            "“glm.fit: fitted probabilities numerically 0 or 1 occurred”Warning message in predict.lm(object, newdata, se.fit, scale = 1, type = if (type == :\n",
            "“prediction from a rank-deficient fit may be misleading”Warning message:\n",
            "“glm.fit: algorithm did not converge”Warning message:\n",
            "“glm.fit: fitted probabilities numerically 0 or 1 occurred”Warning message in predict.lm(object, newdata, se.fit, scale = 1, type = if (type == :\n",
            "“prediction from a rank-deficient fit may be misleading”Warning message:\n",
            "“glm.fit: fitted probabilities numerically 0 or 1 occurred”Warning message in predict.lm(object, newdata, se.fit, scale = 1, type = if (type == :\n",
            "“prediction from a rank-deficient fit may be misleading”Warning message:\n",
            "“glm.fit: fitted probabilities numerically 0 or 1 occurred”Warning message in predict.lm(object, newdata, se.fit, scale = 1, type = if (type == :\n",
            "“prediction from a rank-deficient fit may be misleading”Warning message:\n",
            "“glm.fit: fitted probabilities numerically 0 or 1 occurred”Warning message in predict.lm(object, newdata, se.fit, scale = 1, type = if (type == :\n",
            "“prediction from a rank-deficient fit may be misleading”Warning message:\n",
            "“glm.fit: algorithm did not converge”Warning message:\n",
            "“glm.fit: fitted probabilities numerically 0 or 1 occurred”Warning message in predict.lm(object, newdata, se.fit, scale = 1, type = if (type == :\n",
            "“prediction from a rank-deficient fit may be misleading”Warning message:\n",
            "“glm.fit: fitted probabilities numerically 0 or 1 occurred”Warning message in predict.lm(object, newdata, se.fit, scale = 1, type = if (type == :\n",
            "“prediction from a rank-deficient fit may be misleading”Warning message:\n",
            "“glm.fit: fitted probabilities numerically 0 or 1 occurred”Warning message in predict.lm(object, newdata, se.fit, scale = 1, type = if (type == :\n",
            "“prediction from a rank-deficient fit may be misleading”Warning message:\n",
            "“glm.fit: fitted probabilities numerically 0 or 1 occurred”Warning message in predict.lm(object, newdata, se.fit, scale = 1, type = if (type == :\n",
            "“prediction from a rank-deficient fit may be misleading”Warning message:\n",
            "“glm.fit: fitted probabilities numerically 0 or 1 occurred”Warning message in predict.lm(object, newdata, se.fit, scale = 1, type = if (type == :\n",
            "“prediction from a rank-deficient fit may be misleading”Warning message:\n",
            "“glm.fit: fitted probabilities numerically 0 or 1 occurred”Warning message in predict.lm(object, newdata, se.fit, scale = 1, type = if (type == :\n",
            "“prediction from a rank-deficient fit may be misleading”Warning message:\n",
            "“glm.fit: algorithm did not converge”Warning message:\n",
            "“glm.fit: fitted probabilities numerically 0 or 1 occurred”Warning message in predict.lm(object, newdata, se.fit, scale = 1, type = if (type == :\n",
            "“prediction from a rank-deficient fit may be misleading”Warning message:\n",
            "“glm.fit: fitted probabilities numerically 0 or 1 occurred”Warning message in predict.lm(object, newdata, se.fit, scale = 1, type = if (type == :\n",
            "“prediction from a rank-deficient fit may be misleading”Warning message:\n",
            "“glm.fit: fitted probabilities numerically 0 or 1 occurred”Warning message in predict.lm(object, newdata, se.fit, scale = 1, type = if (type == :\n",
            "“prediction from a rank-deficient fit may be misleading”Warning message:\n",
            "“glm.fit: fitted probabilities numerically 0 or 1 occurred”Warning message in predict.lm(object, newdata, se.fit, scale = 1, type = if (type == :\n",
            "“prediction from a rank-deficient fit may be misleading”Warning message:\n",
            "“glm.fit: algorithm did not converge”Warning message:\n",
            "“glm.fit: fitted probabilities numerically 0 or 1 occurred”Warning message in predict.lm(object, newdata, se.fit, scale = 1, type = if (type == :\n",
            "“prediction from a rank-deficient fit may be misleading”Warning message:\n",
            "“glm.fit: fitted probabilities numerically 0 or 1 occurred”Warning message in predict.lm(object, newdata, se.fit, scale = 1, type = if (type == :\n",
            "“prediction from a rank-deficient fit may be misleading”Warning message:\n",
            "“glm.fit: fitted probabilities numerically 0 or 1 occurred”Warning message in predict.lm(object, newdata, se.fit, scale = 1, type = if (type == :\n",
            "“prediction from a rank-deficient fit may be misleading”Warning message:\n",
            "“glm.fit: fitted probabilities numerically 0 or 1 occurred”Warning message in predict.lm(object, newdata, se.fit, scale = 1, type = if (type == :\n",
            "“prediction from a rank-deficient fit may be misleading”Warning message:\n",
            "“glm.fit: fitted probabilities numerically 0 or 1 occurred”Warning message in predict.lm(object, newdata, se.fit, scale = 1, type = if (type == :\n",
            "“prediction from a rank-deficient fit may be misleading”Warning message:\n",
            "“glm.fit: fitted probabilities numerically 0 or 1 occurred”Warning message in predict.lm(object, newdata, se.fit, scale = 1, type = if (type == :\n",
            "“prediction from a rank-deficient fit may be misleading”Warning message:\n",
            "“glm.fit: algorithm did not converge”Warning message:\n",
            "“glm.fit: fitted probabilities numerically 0 or 1 occurred”Warning message in predict.lm(object, newdata, se.fit, scale = 1, type = if (type == :\n",
            "“prediction from a rank-deficient fit may be misleading”Warning message:\n",
            "“glm.fit: fitted probabilities numerically 0 or 1 occurred”Warning message in predict.lm(object, newdata, se.fit, scale = 1, type = if (type == :\n",
            "“prediction from a rank-deficient fit may be misleading”Warning message:\n",
            "“glm.fit: fitted probabilities numerically 0 or 1 occurred”Warning message in predict.lm(object, newdata, se.fit, scale = 1, type = if (type == :\n",
            "“prediction from a rank-deficient fit may be misleading”Warning message:\n",
            "“glm.fit: fitted probabilities numerically 0 or 1 occurred”Warning message in predict.lm(object, newdata, se.fit, scale = 1, type = if (type == :\n",
            "“prediction from a rank-deficient fit may be misleading”Warning message:\n",
            "“glm.fit: fitted probabilities numerically 0 or 1 occurred”Warning message in predict.lm(object, newdata, se.fit, scale = 1, type = if (type == :\n",
            "“prediction from a rank-deficient fit may be misleading”Warning message:\n",
            "“glm.fit: fitted probabilities numerically 0 or 1 occurred”Warning message in predict.lm(object, newdata, se.fit, scale = 1, type = if (type == :\n",
            "“prediction from a rank-deficient fit may be misleading”Warning message:\n",
            "“glm.fit: fitted probabilities numerically 0 or 1 occurred”Warning message in predict.lm(object, newdata, se.fit, scale = 1, type = if (type == :\n",
            "“prediction from a rank-deficient fit may be misleading”Warning message:\n",
            "“glm.fit: fitted probabilities numerically 0 or 1 occurred”Warning message in predict.lm(object, newdata, se.fit, scale = 1, type = if (type == :\n",
            "“prediction from a rank-deficient fit may be misleading”Warning message:\n",
            "“glm.fit: fitted probabilities numerically 0 or 1 occurred”Warning message in predict.lm(object, newdata, se.fit, scale = 1, type = if (type == :\n",
            "“prediction from a rank-deficient fit may be misleading”Warning message:\n",
            "“glm.fit: fitted probabilities numerically 0 or 1 occurred”Warning message in predict.lm(object, newdata, se.fit, scale = 1, type = if (type == :\n",
            "“prediction from a rank-deficient fit may be misleading”Warning message:\n",
            "“glm.fit: algorithm did not converge”Warning message:\n",
            "“glm.fit: fitted probabilities numerically 0 or 1 occurred”Warning message in predict.lm(object, newdata, se.fit, scale = 1, type = if (type == :\n",
            "“prediction from a rank-deficient fit may be misleading”Warning message:\n",
            "“glm.fit: fitted probabilities numerically 0 or 1 occurred”Warning message in predict.lm(object, newdata, se.fit, scale = 1, type = if (type == :\n",
            "“prediction from a rank-deficient fit may be misleading”Warning message:\n",
            "“glm.fit: fitted probabilities numerically 0 or 1 occurred”Warning message in predict.lm(object, newdata, se.fit, scale = 1, type = if (type == :\n",
            "“prediction from a rank-deficient fit may be misleading”Warning message:\n",
            "“glm.fit: fitted probabilities numerically 0 or 1 occurred”Warning message in predict.lm(object, newdata, se.fit, scale = 1, type = if (type == :\n",
            "“prediction from a rank-deficient fit may be misleading”Warning message:\n",
            "“glm.fit: fitted probabilities numerically 0 or 1 occurred”Warning message in predict.lm(object, newdata, se.fit, scale = 1, type = if (type == :\n",
            "“prediction from a rank-deficient fit may be misleading”Warning message:\n",
            "“glm.fit: fitted probabilities numerically 0 or 1 occurred”Warning message in predict.lm(object, newdata, se.fit, scale = 1, type = if (type == :\n",
            "“prediction from a rank-deficient fit may be misleading”Warning message:\n",
            "“glm.fit: fitted probabilities numerically 0 or 1 occurred”Warning message in predict.lm(object, newdata, se.fit, scale = 1, type = if (type == :\n",
            "“prediction from a rank-deficient fit may be misleading”Warning message:\n",
            "“glm.fit: fitted probabilities numerically 0 or 1 occurred”Warning message in predict.lm(object, newdata, se.fit, scale = 1, type = if (type == :\n",
            "“prediction from a rank-deficient fit may be misleading”Warning message:\n",
            "“glm.fit: fitted probabilities numerically 0 or 1 occurred”Warning message in predict.lm(object, newdata, se.fit, scale = 1, type = if (type == :\n",
            "“prediction from a rank-deficient fit may be misleading”Warning message:\n",
            "“glm.fit: fitted probabilities numerically 0 or 1 occurred”Warning message in predict.lm(object, newdata, se.fit, scale = 1, type = if (type == :\n",
            "“prediction from a rank-deficient fit may be misleading”Warning message:\n",
            "“glm.fit: fitted probabilities numerically 0 or 1 occurred”Warning message in predict.lm(object, newdata, se.fit, scale = 1, type = if (type == :\n",
            "“prediction from a rank-deficient fit may be misleading”Warning message:\n",
            "“glm.fit: fitted probabilities numerically 0 or 1 occurred”Warning message in predict.lm(object, newdata, se.fit, scale = 1, type = if (type == :\n",
            "“prediction from a rank-deficient fit may be misleading”Warning message:\n",
            "“glm.fit: fitted probabilities numerically 0 or 1 occurred”Warning message in predict.lm(object, newdata, se.fit, scale = 1, type = if (type == :\n",
            "“prediction from a rank-deficient fit may be misleading”Warning message:\n",
            "“glm.fit: fitted probabilities numerically 0 or 1 occurred”Warning message in predict.lm(object, newdata, se.fit, scale = 1, type = if (type == :\n",
            "“prediction from a rank-deficient fit may be misleading”Warning message:\n",
            "“glm.fit: fitted probabilities numerically 0 or 1 occurred”Warning message in predict.lm(object, newdata, se.fit, scale = 1, type = if (type == :\n",
            "“prediction from a rank-deficient fit may be misleading”Warning message:\n",
            "“glm.fit: fitted probabilities numerically 0 or 1 occurred”Warning message in predict.lm(object, newdata, se.fit, scale = 1, type = if (type == :\n",
            "“prediction from a rank-deficient fit may be misleading”Warning message:\n",
            "“glm.fit: fitted probabilities numerically 0 or 1 occurred”Warning message in predict.lm(object, newdata, se.fit, scale = 1, type = if (type == :\n",
            "“prediction from a rank-deficient fit may be misleading”Warning message:\n",
            "“glm.fit: fitted probabilities numerically 0 or 1 occurred”Warning message in predict.lm(object, newdata, se.fit, scale = 1, type = if (type == :\n",
            "“prediction from a rank-deficient fit may be misleading”Warning message:\n",
            "“glm.fit: fitted probabilities numerically 0 or 1 occurred”Warning message in predict.lm(object, newdata, se.fit, scale = 1, type = if (type == :\n",
            "“prediction from a rank-deficient fit may be misleading”Warning message:\n",
            "“glm.fit: fitted probabilities numerically 0 or 1 occurred”Warning message in predict.lm(object, newdata, se.fit, scale = 1, type = if (type == :\n",
            "“prediction from a rank-deficient fit may be misleading”Warning message:\n",
            "“glm.fit: algorithm did not converge”Warning message:\n",
            "“glm.fit: fitted probabilities numerically 0 or 1 occurred”Warning message in predict.lm(object, newdata, se.fit, scale = 1, type = if (type == :\n",
            "“prediction from a rank-deficient fit may be misleading”Warning message:\n",
            "“glm.fit: fitted probabilities numerically 0 or 1 occurred”Warning message in predict.lm(object, newdata, se.fit, scale = 1, type = if (type == :\n",
            "“prediction from a rank-deficient fit may be misleading”Warning message:\n",
            "“glm.fit: fitted probabilities numerically 0 or 1 occurred”Warning message in predict.lm(object, newdata, se.fit, scale = 1, type = if (type == :\n",
            "“prediction from a rank-deficient fit may be misleading”Warning message:\n",
            "“glm.fit: fitted probabilities numerically 0 or 1 occurred”Warning message in predict.lm(object, newdata, se.fit, scale = 1, type = if (type == :\n",
            "“prediction from a rank-deficient fit may be misleading”Warning message:\n",
            "“glm.fit: algorithm did not converge”Warning message:\n",
            "“glm.fit: fitted probabilities numerically 0 or 1 occurred”Warning message in predict.lm(object, newdata, se.fit, scale = 1, type = if (type == :\n",
            "“prediction from a rank-deficient fit may be misleading”Warning message:\n",
            "“glm.fit: fitted probabilities numerically 0 or 1 occurred”Warning message in predict.lm(object, newdata, se.fit, scale = 1, type = if (type == :\n",
            "“prediction from a rank-deficient fit may be misleading”Warning message:\n",
            "“glm.fit: fitted probabilities numerically 0 or 1 occurred”Warning message in predict.lm(object, newdata, se.fit, scale = 1, type = if (type == :\n",
            "“prediction from a rank-deficient fit may be misleading”Warning message:\n",
            "“glm.fit: fitted probabilities numerically 0 or 1 occurred”Warning message in predict.lm(object, newdata, se.fit, scale = 1, type = if (type == :\n",
            "“prediction from a rank-deficient fit may be misleading”Warning message:\n",
            "“glm.fit: fitted probabilities numerically 0 or 1 occurred”Warning message in predict.lm(object, newdata, se.fit, scale = 1, type = if (type == :\n",
            "“prediction from a rank-deficient fit may be misleading”Warning message:\n",
            "“glm.fit: fitted probabilities numerically 0 or 1 occurred”Warning message in predict.lm(object, newdata, se.fit, scale = 1, type = if (type == :\n",
            "“prediction from a rank-deficient fit may be misleading”Warning message:\n",
            "“glm.fit: algorithm did not converge”Warning message:\n",
            "“glm.fit: fitted probabilities numerically 0 or 1 occurred”Warning message in predict.lm(object, newdata, se.fit, scale = 1, type = if (type == :\n",
            "“prediction from a rank-deficient fit may be misleading”Warning message:\n",
            "“glm.fit: fitted probabilities numerically 0 or 1 occurred”Warning message in predict.lm(object, newdata, se.fit, scale = 1, type = if (type == :\n",
            "“prediction from a rank-deficient fit may be misleading”Warning message:\n",
            "“glm.fit: fitted probabilities numerically 0 or 1 occurred”Warning message in predict.lm(object, newdata, se.fit, scale = 1, type = if (type == :\n",
            "“prediction from a rank-deficient fit may be misleading”Warning message:\n",
            "“glm.fit: fitted probabilities numerically 0 or 1 occurred”Warning message in predict.lm(object, newdata, se.fit, scale = 1, type = if (type == :\n",
            "“prediction from a rank-deficient fit may be misleading”Warning message:\n",
            "“glm.fit: fitted probabilities numerically 0 or 1 occurred”Warning message in predict.lm(object, newdata, se.fit, scale = 1, type = if (type == :\n",
            "“prediction from a rank-deficient fit may be misleading”Warning message:\n",
            "“glm.fit: fitted probabilities numerically 0 or 1 occurred”Warning message in predict.lm(object, newdata, se.fit, scale = 1, type = if (type == :\n",
            "“prediction from a rank-deficient fit may be misleading”Warning message:\n",
            "“glm.fit: fitted probabilities numerically 0 or 1 occurred”Warning message in predict.lm(object, newdata, se.fit, scale = 1, type = if (type == :\n",
            "“prediction from a rank-deficient fit may be misleading”Warning message:\n",
            "“glm.fit: fitted probabilities numerically 0 or 1 occurred”Warning message in predict.lm(object, newdata, se.fit, scale = 1, type = if (type == :\n",
            "“prediction from a rank-deficient fit may be misleading”Warning message:\n",
            "“glm.fit: fitted probabilities numerically 0 or 1 occurred”Warning message in predict.lm(object, newdata, se.fit, scale = 1, type = if (type == :\n",
            "“prediction from a rank-deficient fit may be misleading”Warning message:\n",
            "“glm.fit: fitted probabilities numerically 0 or 1 occurred”Warning message in predict.lm(object, newdata, se.fit, scale = 1, type = if (type == :\n",
            "“prediction from a rank-deficient fit may be misleading”Warning message:\n",
            "“glm.fit: algorithm did not converge”Warning message:\n",
            "“glm.fit: fitted probabilities numerically 0 or 1 occurred”Warning message in predict.lm(object, newdata, se.fit, scale = 1, type = if (type == :\n",
            "“prediction from a rank-deficient fit may be misleading”Warning message:\n",
            "“glm.fit: fitted probabilities numerically 0 or 1 occurred”Warning message in predict.lm(object, newdata, se.fit, scale = 1, type = if (type == :\n",
            "“prediction from a rank-deficient fit may be misleading”Warning message:\n",
            "“glm.fit: fitted probabilities numerically 0 or 1 occurred”Warning message in predict.lm(object, newdata, se.fit, scale = 1, type = if (type == :\n",
            "“prediction from a rank-deficient fit may be misleading”Warning message:\n",
            "“glm.fit: fitted probabilities numerically 0 or 1 occurred”Warning message in predict.lm(object, newdata, se.fit, scale = 1, type = if (type == :\n",
            "“prediction from a rank-deficient fit may be misleading”Warning message:\n",
            "“glm.fit: fitted probabilities numerically 0 or 1 occurred”Warning message in predict.lm(object, newdata, se.fit, scale = 1, type = if (type == :\n",
            "“prediction from a rank-deficient fit may be misleading”Warning message:\n",
            "“glm.fit: fitted probabilities numerically 0 or 1 occurred”Warning message in predict.lm(object, newdata, se.fit, scale = 1, type = if (type == :\n",
            "“prediction from a rank-deficient fit may be misleading”Warning message:\n",
            "“glm.fit: fitted probabilities numerically 0 or 1 occurred”Warning message in predict.lm(object, newdata, se.fit, scale = 1, type = if (type == :\n",
            "“prediction from a rank-deficient fit may be misleading”Warning message:\n",
            "“glm.fit: fitted probabilities numerically 0 or 1 occurred”Warning message in predict.lm(object, newdata, se.fit, scale = 1, type = if (type == :\n",
            "“prediction from a rank-deficient fit may be misleading”Warning message:\n",
            "“glm.fit: fitted probabilities numerically 0 or 1 occurred”Warning message in predict.lm(object, newdata, se.fit, scale = 1, type = if (type == :\n",
            "“prediction from a rank-deficient fit may be misleading”Warning message:\n",
            "“glm.fit: fitted probabilities numerically 0 or 1 occurred”Warning message in predict.lm(object, newdata, se.fit, scale = 1, type = if (type == :\n",
            "“prediction from a rank-deficient fit may be misleading”Warning message:\n",
            "“glm.fit: algorithm did not converge”Warning message:\n",
            "“glm.fit: fitted probabilities numerically 0 or 1 occurred”Warning message in predict.lm(object, newdata, se.fit, scale = 1, type = if (type == :\n",
            "“prediction from a rank-deficient fit may be misleading”Warning message:\n",
            "“glm.fit: fitted probabilities numerically 0 or 1 occurred”Warning message in predict.lm(object, newdata, se.fit, scale = 1, type = if (type == :\n",
            "“prediction from a rank-deficient fit may be misleading”Warning message:\n",
            "“glm.fit: fitted probabilities numerically 0 or 1 occurred”Warning message in predict.lm(object, newdata, se.fit, scale = 1, type = if (type == :\n",
            "“prediction from a rank-deficient fit may be misleading”"
          ],
          "name": "stderr"
        },
        {
          "output_type": "display_data",
          "data": {
            "text/plain": [
              "    digits scores\n",
              "1   0      96.384\n",
              "2   1      96.088\n",
              "3   2      94.392\n",
              "4   3      91.970\n",
              "5   4      93.382\n",
              "6   5      92.302\n",
              "7   6      93.480\n",
              "8   7      94.654\n",
              "9   8      92.216\n",
              "10  9      91.656\n",
              "11  0      96.358\n",
              "12  1      96.252\n",
              "13  2      94.408\n",
              "14  3      92.192\n",
              "15  4      93.434\n",
              "16  5      92.458\n",
              "17  6      93.374\n",
              "18  7      94.680\n",
              "19  8      92.234\n",
              "20  9      91.720\n",
              "21  0      96.316\n",
              "22  1      96.182\n",
              "23  2      94.508\n",
              "24  3      92.274\n",
              "25  4      93.544\n",
              "26  5      92.534\n",
              "27  6      93.470\n",
              "28  7      94.760\n",
              "29  8      92.232\n",
              "30  9      91.770\n",
              "⋮   ⋮      ⋮     \n",
              "71  0      96.394\n",
              "72  1      96.282\n",
              "73  2      94.368\n",
              "74  3      92.196\n",
              "75  4      93.402\n",
              "76  5      92.434\n",
              "77  6      93.370\n",
              "78  7      94.710\n",
              "79  8      92.280\n",
              "80  9      91.518\n",
              "81  0      96.350\n",
              "82  1      96.278\n",
              "83  2      94.342\n",
              "84  3      92.276\n",
              "85  4      93.438\n",
              "86  5      92.508\n",
              "87  6      93.428\n",
              "88  7      94.508\n",
              "89  8      92.314\n",
              "90  9      91.646\n",
              "91  0      96.446\n",
              "92  1      96.170\n",
              "93  2      94.356\n",
              "94  3      92.260\n",
              "95  4      93.562\n",
              "96  5      92.292\n",
              "97  6      93.530\n",
              "98  7      94.660\n",
              "99  8      92.088\n",
              "100 9      91.690"
            ],
            "text/latex": "A data.frame: 100 × 2\n\\begin{tabular}{r|ll}\n digits & scores\\\\\n <int> & <dbl>\\\\\n\\hline\n\t 0 & 96.384\\\\\n\t 1 & 96.088\\\\\n\t 2 & 94.392\\\\\n\t 3 & 91.970\\\\\n\t 4 & 93.382\\\\\n\t 5 & 92.302\\\\\n\t 6 & 93.480\\\\\n\t 7 & 94.654\\\\\n\t 8 & 92.216\\\\\n\t 9 & 91.656\\\\\n\t 0 & 96.358\\\\\n\t 1 & 96.252\\\\\n\t 2 & 94.408\\\\\n\t 3 & 92.192\\\\\n\t 4 & 93.434\\\\\n\t 5 & 92.458\\\\\n\t 6 & 93.374\\\\\n\t 7 & 94.680\\\\\n\t 8 & 92.234\\\\\n\t 9 & 91.720\\\\\n\t 0 & 96.316\\\\\n\t 1 & 96.182\\\\\n\t 2 & 94.508\\\\\n\t 3 & 92.274\\\\\n\t 4 & 93.544\\\\\n\t 5 & 92.534\\\\\n\t 6 & 93.470\\\\\n\t 7 & 94.760\\\\\n\t 8 & 92.232\\\\\n\t 9 & 91.770\\\\\n\t ⋮ & ⋮\\\\\n\t 0 & 96.394\\\\\n\t 1 & 96.282\\\\\n\t 2 & 94.368\\\\\n\t 3 & 92.196\\\\\n\t 4 & 93.402\\\\\n\t 5 & 92.434\\\\\n\t 6 & 93.370\\\\\n\t 7 & 94.710\\\\\n\t 8 & 92.280\\\\\n\t 9 & 91.518\\\\\n\t 0 & 96.350\\\\\n\t 1 & 96.278\\\\\n\t 2 & 94.342\\\\\n\t 3 & 92.276\\\\\n\t 4 & 93.438\\\\\n\t 5 & 92.508\\\\\n\t 6 & 93.428\\\\\n\t 7 & 94.508\\\\\n\t 8 & 92.314\\\\\n\t 9 & 91.646\\\\\n\t 0 & 96.446\\\\\n\t 1 & 96.170\\\\\n\t 2 & 94.356\\\\\n\t 3 & 92.260\\\\\n\t 4 & 93.562\\\\\n\t 5 & 92.292\\\\\n\t 6 & 93.530\\\\\n\t 7 & 94.660\\\\\n\t 8 & 92.088\\\\\n\t 9 & 91.690\\\\\n\\end{tabular}\n",
            "text/markdown": "\nA data.frame: 100 × 2\n\n| digits &lt;int&gt; | scores &lt;dbl&gt; |\n|---|---|\n| 0 | 96.384 |\n| 1 | 96.088 |\n| 2 | 94.392 |\n| 3 | 91.970 |\n| 4 | 93.382 |\n| 5 | 92.302 |\n| 6 | 93.480 |\n| 7 | 94.654 |\n| 8 | 92.216 |\n| 9 | 91.656 |\n| 0 | 96.358 |\n| 1 | 96.252 |\n| 2 | 94.408 |\n| 3 | 92.192 |\n| 4 | 93.434 |\n| 5 | 92.458 |\n| 6 | 93.374 |\n| 7 | 94.680 |\n| 8 | 92.234 |\n| 9 | 91.720 |\n| 0 | 96.316 |\n| 1 | 96.182 |\n| 2 | 94.508 |\n| 3 | 92.274 |\n| 4 | 93.544 |\n| 5 | 92.534 |\n| 6 | 93.470 |\n| 7 | 94.760 |\n| 8 | 92.232 |\n| 9 | 91.770 |\n| ⋮ | ⋮ |\n| 0 | 96.394 |\n| 1 | 96.282 |\n| 2 | 94.368 |\n| 3 | 92.196 |\n| 4 | 93.402 |\n| 5 | 92.434 |\n| 6 | 93.370 |\n| 7 | 94.710 |\n| 8 | 92.280 |\n| 9 | 91.518 |\n| 0 | 96.350 |\n| 1 | 96.278 |\n| 2 | 94.342 |\n| 3 | 92.276 |\n| 4 | 93.438 |\n| 5 | 92.508 |\n| 6 | 93.428 |\n| 7 | 94.508 |\n| 8 | 92.314 |\n| 9 | 91.646 |\n| 0 | 96.446 |\n| 1 | 96.170 |\n| 2 | 94.356 |\n| 3 | 92.260 |\n| 4 | 93.562 |\n| 5 | 92.292 |\n| 6 | 93.530 |\n| 7 | 94.660 |\n| 8 | 92.088 |\n| 9 | 91.690 |\n\n",
            "text/html": [
              "<table>\n",
              "<caption>A data.frame: 100 × 2</caption>\n",
              "<thead>\n",
              "\t<tr><th scope=col>digits</th><th scope=col>scores</th></tr>\n",
              "\t<tr><th scope=col>&lt;int&gt;</th><th scope=col>&lt;dbl&gt;</th></tr>\n",
              "</thead>\n",
              "<tbody>\n",
              "\t<tr><td>0</td><td>96.384</td></tr>\n",
              "\t<tr><td>1</td><td>96.088</td></tr>\n",
              "\t<tr><td>2</td><td>94.392</td></tr>\n",
              "\t<tr><td>3</td><td>91.970</td></tr>\n",
              "\t<tr><td>4</td><td>93.382</td></tr>\n",
              "\t<tr><td>5</td><td>92.302</td></tr>\n",
              "\t<tr><td>6</td><td>93.480</td></tr>\n",
              "\t<tr><td>7</td><td>94.654</td></tr>\n",
              "\t<tr><td>8</td><td>92.216</td></tr>\n",
              "\t<tr><td>9</td><td>91.656</td></tr>\n",
              "\t<tr><td>0</td><td>96.358</td></tr>\n",
              "\t<tr><td>1</td><td>96.252</td></tr>\n",
              "\t<tr><td>2</td><td>94.408</td></tr>\n",
              "\t<tr><td>3</td><td>92.192</td></tr>\n",
              "\t<tr><td>4</td><td>93.434</td></tr>\n",
              "\t<tr><td>5</td><td>92.458</td></tr>\n",
              "\t<tr><td>6</td><td>93.374</td></tr>\n",
              "\t<tr><td>7</td><td>94.680</td></tr>\n",
              "\t<tr><td>8</td><td>92.234</td></tr>\n",
              "\t<tr><td>9</td><td>91.720</td></tr>\n",
              "\t<tr><td>0</td><td>96.316</td></tr>\n",
              "\t<tr><td>1</td><td>96.182</td></tr>\n",
              "\t<tr><td>2</td><td>94.508</td></tr>\n",
              "\t<tr><td>3</td><td>92.274</td></tr>\n",
              "\t<tr><td>4</td><td>93.544</td></tr>\n",
              "\t<tr><td>5</td><td>92.534</td></tr>\n",
              "\t<tr><td>6</td><td>93.470</td></tr>\n",
              "\t<tr><td>7</td><td>94.760</td></tr>\n",
              "\t<tr><td>8</td><td>92.232</td></tr>\n",
              "\t<tr><td>9</td><td>91.770</td></tr>\n",
              "\t<tr><td>⋮</td><td>⋮</td></tr>\n",
              "\t<tr><td>0</td><td>96.394</td></tr>\n",
              "\t<tr><td>1</td><td>96.282</td></tr>\n",
              "\t<tr><td>2</td><td>94.368</td></tr>\n",
              "\t<tr><td>3</td><td>92.196</td></tr>\n",
              "\t<tr><td>4</td><td>93.402</td></tr>\n",
              "\t<tr><td>5</td><td>92.434</td></tr>\n",
              "\t<tr><td>6</td><td>93.370</td></tr>\n",
              "\t<tr><td>7</td><td>94.710</td></tr>\n",
              "\t<tr><td>8</td><td>92.280</td></tr>\n",
              "\t<tr><td>9</td><td>91.518</td></tr>\n",
              "\t<tr><td>0</td><td>96.350</td></tr>\n",
              "\t<tr><td>1</td><td>96.278</td></tr>\n",
              "\t<tr><td>2</td><td>94.342</td></tr>\n",
              "\t<tr><td>3</td><td>92.276</td></tr>\n",
              "\t<tr><td>4</td><td>93.438</td></tr>\n",
              "\t<tr><td>5</td><td>92.508</td></tr>\n",
              "\t<tr><td>6</td><td>93.428</td></tr>\n",
              "\t<tr><td>7</td><td>94.508</td></tr>\n",
              "\t<tr><td>8</td><td>92.314</td></tr>\n",
              "\t<tr><td>9</td><td>91.646</td></tr>\n",
              "\t<tr><td>0</td><td>96.446</td></tr>\n",
              "\t<tr><td>1</td><td>96.170</td></tr>\n",
              "\t<tr><td>2</td><td>94.356</td></tr>\n",
              "\t<tr><td>3</td><td>92.260</td></tr>\n",
              "\t<tr><td>4</td><td>93.562</td></tr>\n",
              "\t<tr><td>5</td><td>92.292</td></tr>\n",
              "\t<tr><td>6</td><td>93.530</td></tr>\n",
              "\t<tr><td>7</td><td>94.660</td></tr>\n",
              "\t<tr><td>8</td><td>92.088</td></tr>\n",
              "\t<tr><td>9</td><td>91.690</td></tr>\n",
              "</tbody>\n",
              "</table>\n"
            ]
          },
          "metadata": {
            "tags": []
          }
        }
      ]
    },
    {
      "cell_type": "code",
      "metadata": {
        "id": "59oPXDRWSsqo",
        "colab_type": "code",
        "colab": {
          "base_uri": "https://localhost:8080/",
          "height": 34
        },
        "outputId": "c598bbb1-c48a-425e-cea3-4bd65f53aea0"
      },
      "source": [
        "require(ggplot2)"
      ],
      "execution_count": 27,
      "outputs": [
        {
          "output_type": "stream",
          "text": [
            "Loading required package: ggplot2\n"
          ],
          "name": "stderr"
        }
      ]
    },
    {
      "cell_type": "code",
      "metadata": {
        "id": "geBSA4ShSvke",
        "colab_type": "code",
        "colab": {
          "base_uri": "https://localhost:8080/",
          "height": 856
        },
        "outputId": "14cc2e4b-d7b2-40fb-8736-96de10ea74d2"
      },
      "source": [
        "dfScores$sigits = as.factor(dfScores$digits)\n",
        "\n",
        "ggplot(dfScores, aes(x = digits, y = scores,group = digits)) + geom_boxplot()"
      ],
      "execution_count": 30,
      "outputs": [
        {
          "output_type": "display_data",
          "data": {
            "image/png": "[encoded data removed]",
            "text/plain": [
              "plot without title"
            ]
          },
          "metadata": {
            "tags": []
          }
        }
      ]
    },
    {
      "cell_type": "markdown",
      "metadata": {
        "id": "zzQNxZsi8Tu5",
        "colab_type": "text"
      },
      "source": [
        "TRABAJO EXTRA: Hasta ahora hemos utilizado la tasa de acierto como medida de validación de los clasificadores. Para ello, las predicciones probabilísticas se tiene que convertir a binarias (utilizando un umbral para al probabilidad). Sin embargo, existen otras medidas más generales que consideran el carácter probabilístico de la predicción. \n",
        "Leer https://es.wikipedia.org/wiki/Curva_ROC\n",
        "Practicar con el paquete 'AUC'\n",
        "#install.packages(\"AUC\")\n",
        "#library(\"AUC\")\n",
        "#roc<-roc(out,as.factor(datT[,1]))\n",
        "#auc(roc)\n",
        "#plot(roc)"
      ]
    },
    {
      "cell_type": "code",
      "metadata": {
        "id": "AsXn2PN38Tu6",
        "colab_type": "code",
        "colab": {}
      },
      "source": [
        ""
      ],
      "execution_count": 0,
      "outputs": []
    }
  ]
}