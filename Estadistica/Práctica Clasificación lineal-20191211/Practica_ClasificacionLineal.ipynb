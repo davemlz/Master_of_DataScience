{
  "nbformat": 4,
  "nbformat_minor": 0,
  "metadata": {
    "kernelspec": {
      "display_name": "R",
      "language": "R",
      "name": "ir"
    },
    "language_info": {
      "codemirror_mode": "r",
      "file_extension": ".r",
      "mimetype": "text/x-r-source",
      "name": "R",
      "pygments_lexer": "r",
      "version": "3.4.4"
    },
    "colab": {
      "name": "Practica_ClasificacionLineal.ipynb",
      "provenance": []
    }
  },
  "cells": [
    {
      "cell_type": "markdown",
      "metadata": {
        "id": "dLMdM_OS8Tt0",
        "colab_type": "text"
      },
      "source": [
        "## Práctica de Clasificación Lineal: Regresión Logística"
      ]
    },
    {
      "cell_type": "markdown",
      "metadata": {
        "id": "hMb6R2M18Tt3",
        "colab_type": "text"
      },
      "source": [
        "Daniel Garcia Diaz (garciad@ifca.unican.es)"
      ]
    },
    {
      "cell_type": "markdown",
      "metadata": {
        "id": "hLv-R_5Y8Tt5",
        "colab_type": "text"
      },
      "source": [
        "En esta práctica utilizaremos el dataset MNIST, compuesto por 60000 imágenes de train y 10000 imagenes de test (de 28x28 pixeles) correspondientes a distintas versiones digitalizadas de los dígitos 0, ..., 9. \n",
        "\n",
        "Descargamos el dataset que vamos a utilizar."
      ]
    },
    {
      "cell_type": "code",
      "metadata": {
        "id": "Yj6Iu1gZ8Tt6",
        "colab_type": "code",
        "colab": {}
      },
      "source": [
        "#Set the directory to be able to read the data properly\n",
        "rm(list=ls())\n",
        "setwd(\"\")\n",
        "\n",
        "#Install the necessary packages\n",
        "#install.packages(\"R.utils\")"
      ],
      "execution_count": 0,
      "outputs": []
    },
    {
      "cell_type": "code",
      "metadata": {
        "id": "ZWgVxegB8Tt_",
        "colab_type": "code",
        "colab": {}
      },
      "source": [
        "# download data from http://yann.lecun.com/exdb/mnist/\n",
        "download.file(\"http://yann.lecun.com/exdb/mnist/train-images-idx3-ubyte.gz\",\n",
        "              \"train-images-idx3-ubyte.gz\")\n",
        "download.file(\"http://yann.lecun.com/exdb/mnist/train-labels-idx1-ubyte.gz\",\n",
        "              \"train-labels-idx1-ubyte.gz\")\n",
        "download.file(\"http://yann.lecun.com/exdb/mnist/t10k-images-idx3-ubyte.gz\",\n",
        "              \"t10k-images-idx3-ubyte.gz\")\n",
        "download.file(\"http://yann.lecun.com/exdb/mnist/t10k-labels-idx1-ubyte.gz\",\n",
        "              \"t10k-labels-idx1-ubyte.gz\")\n",
        "\n",
        "# gunzip the files\n",
        "R.utils::gunzip(\"train-images-idx3-ubyte.gz\")\n",
        "R.utils::gunzip(\"train-labels-idx1-ubyte.gz\")\n",
        "R.utils::gunzip(\"t10k-images-idx3-ubyte.gz\")\n",
        "R.utils::gunzip(\"t10k-labels-idx1-ubyte.gz\")"
      ],
      "execution_count": 0,
      "outputs": []
    },
    {
      "cell_type": "markdown",
      "metadata": {
        "id": "2vTPhIbZ8TuB",
        "colab_type": "text"
      },
      "source": [
        "4 archivos diferentes para crear los datasets de train (x_train->train-image e y_train->train-labels) y de test (x->t10k-images e y->t10k-labels).\n",
        "\n",
        "Funciones para cargar los archivos\n"
      ]
    },
    {
      "cell_type": "code",
      "metadata": {
        "id": "PgkJoRP48TuC",
        "colab_type": "code",
        "colab": {}
      },
      "source": [
        "# load image files\n",
        "load_image_file = function(filename) {\n",
        "  ret = list()\n",
        "  f = file(filename, 'rb')\n",
        "  readBin(f, 'integer', n = 1, size = 4, endian = 'big')\n",
        "  n    = readBin(f, 'integer', n = 1, size = 4, endian = 'big')\n",
        "  nrow = readBin(f, 'integer', n = 1, size = 4, endian = 'big')\n",
        "  ncol = readBin(f, 'integer', n = 1, size = 4, endian = 'big')\n",
        "  x = readBin(f, 'integer', n = n * nrow * ncol, size = 1, signed = FALSE)\n",
        "  close(f)\n",
        "  data.frame(matrix(x, ncol = nrow * ncol, byrow = TRUE))\n",
        "}\n",
        "\n",
        "# load label files\n",
        "load_label_file = function(filename) {\n",
        "  f = file(filename, 'rb')\n",
        "  readBin(f, 'integer', n = 1, size = 4, endian = 'big')\n",
        "  n = readBin(f, 'integer', n = 1, size = 4, endian = 'big')\n",
        "  y = readBin(f, 'integer', n = n, size = 1, signed = FALSE)\n",
        "  close(f)\n",
        "  y\n",
        "}"
      ],
      "execution_count": 0,
      "outputs": []
    },
    {
      "cell_type": "code",
      "metadata": {
        "id": "g3FcZIZe8TuE",
        "colab_type": "code",
        "colab": {}
      },
      "source": [
        "# path images\n",
        "path_x_train = \"https://github.com/davemlz/Master_of_DataScience/raw/master/Estadistica/Pr%C3%A1ctica%20Clasificaci%C3%B3n%20lineal-20191211/data/train-images-idx3-ubyte\"\n",
        "path_x_test = \"https://github.com/davemlz/Master_of_DataScience/raw/master/Estadistica/Pr%C3%A1ctica%20Clasificaci%C3%B3n%20lineal-20191211/data/t10k-images-idx3-ubyte\"\n",
        "path_y_train = \"https://github.com/davemlz/Master_of_DataScience/raw/master/Estadistica/Pr%C3%A1ctica%20Clasificaci%C3%B3n%20lineal-20191211/data/train-labels-idx1-ubyte\"\n",
        "path_y_test = \"https://github.com/davemlz/Master_of_DataScience/raw/master/Estadistica/Pr%C3%A1ctica%20Clasificaci%C3%B3n%20lineal-20191211/data/t10k-labels-idx1-ubyte\"\n",
        "\n",
        "# load images\n",
        "x_train = load_image_file(path_x_train)\n",
        "x_test = load_image_file(path_x_test)\n",
        "\n",
        "# load labels\n",
        "y_train = load_label_file(path_y_train)\n",
        "y_test = load_label_file(path_y_test)"
      ],
      "execution_count": 0,
      "outputs": []
    },
    {
      "cell_type": "markdown",
      "metadata": {
        "id": "4QUT-A-e8TuH",
        "colab_type": "text"
      },
      "source": [
        "Dibujamos los 6 primeros digitos para ver el dataset que tenemos"
      ]
    },
    {
      "cell_type": "code",
      "metadata": {
        "id": "sXArkD_U8TuI",
        "colab_type": "code",
        "outputId": "ac8f2c22-de67-4a5f-de43-7def81a2e331",
        "colab": {
          "base_uri": "https://localhost:8080/",
          "height": 856
        }
      },
      "source": [
        "# Dibujamos los 6 primeros dígitos de la base de datos\n",
        "par(mfrow = c(2,3))\n",
        "for (i in 1:6) {\n",
        "    image(matrix(as.matrix(x_train[i,1:784]), nrow = 28, ncol = 28))\n",
        "    title(y_train[i])\n",
        "}"
      ],
      "execution_count": 3,
      "outputs": [
        {
          "output_type": "display_data",
          "data": {
            "image/png": "[encoded data removed]",
            "text/plain": [
              "Plot with title “2”"
            ]
          },
          "metadata": {
            "tags": []
          }
        }
      ]
    },
    {
      "cell_type": "code",
      "metadata": {
        "id": "woa3lBa78TuL",
        "colab_type": "code",
        "outputId": "d260300f-7d58-4f15-930c-07b42647731d",
        "colab": {
          "base_uri": "https://localhost:8080/",
          "height": 856
        }
      },
      "source": [
        "# Cada dígito está igualmente representado en la muestra\n",
        "hist(y_train, breaks = -0.5:9.5)"
      ],
      "execution_count": 4,
      "outputs": [
        {
          "output_type": "display_data",
          "data": {
            "image/png": "[encoded data removed]",
            "text/plain": [
              "Plot with title “Histogram of y_train”"
            ]
          },
          "metadata": {
            "tags": []
          }
        }
      ]
    },
    {
      "cell_type": "markdown",
      "metadata": {
        "id": "BgQv6ZmM8TuO",
        "colab_type": "text"
      },
      "source": [
        "El objetivo es clasificar correctamente cada una de las imágenes, utilizando el valor de los 784 pixeles. Este problema se encuandra dentro de la clasificación multi-categoría (tenemos 10 posibles clases a predicir para cada dato). \n",
        "\n",
        "Para simplificar estos problemas, se suelen consideran tantos problemas binarios (predecir sí o no) independientes como categorías se tengan. Es decir, un modelo para clasificar 0 (si o no), otro para 1, etc. En este ejemplo, consideramos el dígito '9' y el objetivo es predecir si una imagen es 9 o no."
      ]
    },
    {
      "cell_type": "code",
      "metadata": {
        "id": "fhP5o75Q8TuP",
        "colab_type": "code",
        "colab": {}
      },
      "source": [
        "# Seleccionamos un dígito concreto para tratar de predecirlo. Por ejemplo el nueve\n",
        "# y9 = 1 si el dígito es 9 y 0 en caso contrario\n",
        "y9 <- y_train;\n",
        "y9[which(y_train != 9)] <- 0 ; y9[which(y_train == 9)] <- 1"
      ],
      "execution_count": 0,
      "outputs": []
    },
    {
      "cell_type": "code",
      "metadata": {
        "id": "vIDZX2e98TuR",
        "colab_type": "code",
        "colab": {}
      },
      "source": [
        "# Construimos un dataframe para entrenar el modelo\n",
        "dat <- data.frame(y9,x_train)"
      ],
      "execution_count": 0,
      "outputs": []
    },
    {
      "cell_type": "markdown",
      "metadata": {
        "id": "YaNeCnZC8TuT",
        "colab_type": "text"
      },
      "source": [
        "Como el tamaño de la muestra es muy grande (60000 imagenes), seleccionamos una muestra para entrenar; por ejemplo, los 5000 primeros dígitos."
      ]
    },
    {
      "cell_type": "code",
      "metadata": {
        "id": "WpjJnYpb8TuT",
        "colab_type": "code",
        "colab": {}
      },
      "source": [
        "i<- 1:5000;\n",
        "j<-5001:10000\n",
        "#Random sampling\n",
        "#i<-sample(1:dim(x)[1],5000);\n",
        "datT <- dat[i,]\n",
        "datt <- dat[j,]"
      ],
      "execution_count": 0,
      "outputs": []
    },
    {
      "cell_type": "markdown",
      "metadata": {
        "id": "oAUKLyQX8TuV",
        "colab_type": "text"
      },
      "source": [
        "Aunque no es el modelo adecuado, ya que no está acotada y puede tomar valores mucho mayores que 1 o menores que 0, construimos primero un modelo de regresión lineal para estos datos."
      ]
    },
    {
      "cell_type": "code",
      "metadata": {
        "id": "poUYsomC8TuW",
        "colab_type": "code",
        "outputId": "fe22289d-e6de-417d-9b7e-c5ca5065471d",
        "colab": {
          "base_uri": "https://localhost:8080/",
          "height": 856
        }
      },
      "source": [
        "# Entrenamos primero un modelo lineal\n",
        "model <- lm(datT$y9~., data = datT)\n",
        "out <- model$fitted.values\n",
        "# El histograma muestra valores predichos (incluyendo negativos y mayores que 1)\n",
        "hist(out)"
      ],
      "execution_count": 8,
      "outputs": [
        {
          "output_type": "display_data",
          "data": {
            "image/png": "[encoded data removed]",
            "text/plain": [
              "Plot with title “Histogram of out”"
            ]
          },
          "metadata": {
            "tags": []
          }
        }
      ]
    },
    {
      "cell_type": "markdown",
      "metadata": {
        "id": "5cuegNoC8TuZ",
        "colab_type": "text"
      },
      "source": [
        "Hacemos la salida del modelo binaria considerando el umbral en 0.5 (a modo de probabilidad) y calculamos la tasa de acierto con los datos de train"
      ]
    },
    {
      "cell_type": "code",
      "metadata": {
        "id": "ibvVgv5X8Tua",
        "colab_type": "code",
        "outputId": "f1112eef-0ded-4b7a-85bc-9e8b6d5dc61a",
        "colab": {
          "base_uri": "https://localhost:8080/",
          "height": 33
        }
      },
      "source": [
        "# Hacemos binaria la salida considerando el umbral 0.5 (a modo de probabilidad)\n",
        "outbin <- as.double(out > 0.5)\n",
        "\n",
        "# Tasa de acierto (en entrenamiento)\n",
        "100*sum(diag(table(datT[,1], outbin))) / length(outbin)"
      ],
      "execution_count": 9,
      "outputs": [
        {
          "output_type": "display_data",
          "data": {
            "text/plain": [
              "[1] 96.18"
            ],
            "text/latex": "96.18",
            "text/markdown": "96.18",
            "text/html": [
              "96.18"
            ]
          },
          "metadata": {
            "tags": []
          }
        }
      ]
    },
    {
      "cell_type": "code",
      "metadata": {
        "id": "xMUUQ-kg8Tuc",
        "colab_type": "code",
        "outputId": "e4e2cd15-533a-43af-a30d-fc123cc63b63",
        "colab": {
          "base_uri": "https://localhost:8080/",
          "height": 68
        }
      },
      "source": [
        "# Tasa de acierto de test\n",
        "out1<- predict(object=model, newdata = datt);\n",
        "outbin1 <- as.double(out1 > 0.5)\n",
        "100*sum(diag(table(datt[,1], outbin1))) / length(outbin1)"
      ],
      "execution_count": 10,
      "outputs": [
        {
          "output_type": "stream",
          "text": [
            "Warning message in predict.lm(object = model, newdata = datt):\n",
            "“prediction from a rank-deficient fit may be misleading”"
          ],
          "name": "stderr"
        },
        {
          "output_type": "display_data",
          "data": {
            "text/plain": [
              "[1] 94.68"
            ],
            "text/latex": "94.68",
            "text/markdown": "94.68",
            "text/html": [
              "94.68"
            ]
          },
          "metadata": {
            "tags": []
          }
        }
      ]
    },
    {
      "cell_type": "markdown",
      "metadata": {
        "id": "dxx-OmMk8Tue",
        "colab_type": "text"
      },
      "source": [
        "Ahora construimos un modelo de regresión logística utilizando la función 'glm' con la familia 'family = binomial(link = \"logit\")'"
      ]
    },
    {
      "cell_type": "code",
      "metadata": {
        "id": "Ra_j61Cc8Tue",
        "colab_type": "code",
        "outputId": "737b0b93-4a06-4d90-d275-0ed537228ecf",
        "colab": {
          "base_uri": "https://localhost:8080/",
          "height": 68
        }
      },
      "source": [
        "model1 <- glm(datT$y9~., data = datT, family = binomial(link = \"logit\"))\n",
        "\n",
        "# Problemas de convergencia con tantas variables\n",
        "# Coefficients: (138 not defined because of singularities)\n",
        "# Tasa de acierto (Train)\n",
        "out2 <- model1$fitted.values\n",
        "outbin2 <- as.double(out2 > 0.5)\n",
        "100*sum(diag(table(datT[,1], outbin2))) / length(outbin2)"
      ],
      "execution_count": 11,
      "outputs": [
        {
          "output_type": "stream",
          "text": [
            "Warning message:\n",
            "“glm.fit: fitted probabilities numerically 0 or 1 occurred”"
          ],
          "name": "stderr"
        },
        {
          "output_type": "display_data",
          "data": {
            "text/plain": [
              "[1] 97.7"
            ],
            "text/latex": "97.7",
            "text/markdown": "97.7",
            "text/html": [
              "97.7"
            ]
          },
          "metadata": {
            "tags": []
          }
        }
      ]
    },
    {
      "cell_type": "code",
      "metadata": {
        "id": "2NkHorTL8Tug",
        "colab_type": "code",
        "outputId": "3e56b3da-41e2-4ad3-a164-374f04d43272",
        "colab": {
          "base_uri": "https://localhost:8080/",
          "height": 856
        }
      },
      "source": [
        "hist(out2)"
      ],
      "execution_count": 12,
      "outputs": [
        {
          "output_type": "display_data",
          "data": {
            "image/png": "[encoded data removed]",
            "text/plain": [
              "Plot with title “Histogram of out2”"
            ]
          },
          "metadata": {
            "tags": []
          }
        }
      ]
    },
    {
      "cell_type": "code",
      "metadata": {
        "id": "3WHkYBP28Tuk",
        "colab_type": "code",
        "outputId": "b22f902e-7088-45bc-f15f-17fc2d75a9c4",
        "colab": {
          "base_uri": "https://localhost:8080/",
          "height": 68
        }
      },
      "source": [
        "# Tasa de acierto (test)\n",
        "out3<- predict(object=model1, newdata = datt);\n",
        "outbin3 <- as.double(out3 > 0.5)\n",
        "100*sum(diag(table(datt[,1], outbin3))) / length(outbin3)"
      ],
      "execution_count": 13,
      "outputs": [
        {
          "output_type": "stream",
          "text": [
            "Warning message in predict.lm(object, newdata, se.fit, scale = 1, type = if (type == :\n",
            "“prediction from a rank-deficient fit may be misleading”"
          ],
          "name": "stderr"
        },
        {
          "output_type": "display_data",
          "data": {
            "text/plain": [
              "[1] 92.38"
            ],
            "text/latex": "92.38",
            "text/markdown": "92.38",
            "text/html": [
              "92.38"
            ]
          },
          "metadata": {
            "tags": []
          }
        }
      ]
    },
    {
      "cell_type": "markdown",
      "metadata": {
        "id": "WMbiLV8-8Tun",
        "colab_type": "text"
      },
      "source": [
        "Las inestabilidades numéricas se producen por la alta dimensionalidad de los datos. Algunos de los coeficientes resultan redundantes y el proceso de optimización no converge.\n",
        "### (195 not defined because of singularities)."
      ]
    },
    {
      "cell_type": "markdown",
      "metadata": {
        "id": "O6Yq34608Tun",
        "colab_type": "text"
      },
      "source": [
        "Una solución a este problema es reducir la dimensionalidad del conjunto de predictores. Para ello existen técnicas eficientes (como los métodos de regularización o las Componentes Principales) que se verán más adelante. En esta práctica utilizamos un entresacado de información, considerando sólo uno de cada 20 pixeles."
      ]
    },
    {
      "cell_type": "code",
      "metadata": {
        "id": "wHlzAv_z8Tuo",
        "colab_type": "code",
        "outputId": "8562bd82-1ec4-4f3d-ac4d-9cae9f56e458",
        "colab": {
          "base_uri": "https://localhost:8080/",
          "height": 85
        }
      },
      "source": [
        "#Modelo de regresión lineal\n",
        "j<-seq(1,784,20)\n",
        "model <- lm(datT$y9~., data = datT[,j])\n",
        "out <- model$fitted.values\n",
        "outbin <- as.double(out > 0.5)\n",
        "100*sum(diag(table(datT[,1], outbin))) / length(outbin)\n",
        "out1<- predict(object=model, newdata = datt[,j]);\n",
        "outbin1 <- as.double(out1 > 0.5)\n",
        "100*sum(diag(table(datt[,1], outbin1))) / length(outbin1)"
      ],
      "execution_count": 14,
      "outputs": [
        {
          "output_type": "display_data",
          "data": {
            "text/plain": [
              "[1] 90.28"
            ],
            "text/latex": "90.28",
            "text/markdown": "90.28",
            "text/html": [
              "90.28"
            ]
          },
          "metadata": {
            "tags": []
          }
        },
        {
          "output_type": "stream",
          "text": [
            "Warning message in predict.lm(object = model, newdata = datt[, j]):\n",
            "“prediction from a rank-deficient fit may be misleading”"
          ],
          "name": "stderr"
        },
        {
          "output_type": "display_data",
          "data": {
            "text/plain": [
              "[1] 91.1"
            ],
            "text/latex": "91.1",
            "text/markdown": "91.1",
            "text/html": [
              "91.1"
            ]
          },
          "metadata": {
            "tags": []
          }
        }
      ]
    },
    {
      "cell_type": "code",
      "metadata": {
        "id": "ivG6cJ-M8Tur",
        "colab_type": "code",
        "outputId": "9ddaf24d-b6a7-40ae-ed63-61381bcb54b8",
        "colab": {
          "base_uri": "https://localhost:8080/",
          "height": 121
        }
      },
      "source": [
        "#Regresión logística\n",
        "j<-seq(1,784,20)\n",
        "model <- glm(datT$y9~., data = datT[,j], family = binomial(link = \"logit\"))\n",
        "out <- model$fitted.values\n",
        "outbin <- as.double(out > 0.5)\n",
        "100*sum(diag(table(datT[,1], outbin))) / length(outbin)\n",
        "out1<- predict(object=model, newdata = datt[,j]);\n",
        "outbin1 <- as.double(out1 > 0.5)\n",
        "100*sum(diag(table(datt[,1], outbin1))) / length(outbin1)"
      ],
      "execution_count": 15,
      "outputs": [
        {
          "output_type": "stream",
          "text": [
            "Warning message:\n",
            "“glm.fit: fitted probabilities numerically 0 or 1 occurred”"
          ],
          "name": "stderr"
        },
        {
          "output_type": "display_data",
          "data": {
            "text/plain": [
              "[1] 92.02"
            ],
            "text/latex": "92.02",
            "text/markdown": "92.02",
            "text/html": [
              "92.02"
            ]
          },
          "metadata": {
            "tags": []
          }
        },
        {
          "output_type": "stream",
          "text": [
            "Warning message in predict.lm(object, newdata, se.fit, scale = 1, type = if (type == :\n",
            "“prediction from a rank-deficient fit may be misleading”"
          ],
          "name": "stderr"
        },
        {
          "output_type": "display_data",
          "data": {
            "text/plain": [
              "[1] 92.26"
            ],
            "text/latex": "92.26",
            "text/markdown": "92.26",
            "text/html": [
              "92.26"
            ]
          },
          "metadata": {
            "tags": []
          }
        }
      ]
    },
    {
      "cell_type": "markdown",
      "metadata": {
        "id": "LRbB38L18Tuw",
        "colab_type": "text"
      },
      "source": [
        "PRACTICA 1: Construir un modelo de clasificación para cada dígito, y obtener una ranking de los dígitos en base a su capacidad predictiva (el primero el que mejor se predice, etc.). Para evaluar la capacidad predictiva considerando el error de test obtenido al separar aleatoriamente la muestra en un conjunto de train (n=10000) y el resto de test. \n",
        "\n",
        "Nota: usar la función 'sample'. \n",
        "Nota2: Elige un entresacado óptimo para que la capacidad predictiva no se reduzca y se reduzca la dimensión el máximo posible."
      ]
    },
    {
      "cell_type": "code",
      "metadata": {
        "id": "H_pK_87O8Tux",
        "colab_type": "code",
        "colab": {}
      },
      "source": [
        "# función para calcular el accuracy\n",
        "# subset_n se usa para extraer del dataset una cantidad de registros para trabajar con ellos\n",
        "# train_n se usar para saber cuantos de estos registros serán de entrenamiento, el resto serán test\n",
        "# digit será el dígito a evaluar\n",
        "get_glm_score = function(subset_n,train_n,digit){\n",
        "\n",
        "  # para cada dígito se tendrá el label (0,1)\n",
        "  y_digit = y_train\n",
        "  y_digit[which(y_train != digit)] = 0\n",
        "  y_digit[which(y_train == digit)] = 1\n",
        "\n",
        "  # se crea el data frame con este label\n",
        "  dat = data.frame(y_digit,x_train)\n",
        "\n",
        "  # se extrae una muestra del dataset de tamaño subset_n\n",
        "  subset_ind = sample(seq_len(nrow(dat)),size = subset_n)\n",
        "  subset_dat = dat[subset_ind,]\n",
        "\n",
        "  # de esta muestra se extrae una parte de tamaño train_n para entrenar\n",
        "  train_ind = sample(seq_len(nrow(subset_dat)),size = train_n)\n",
        "\n",
        "  # se parte el sub dataset en entrenamiento\n",
        "  train = dat[train_ind,]\n",
        "\n",
        "  # y en test\n",
        "  test = dat[-train_ind,]\n",
        "\n",
        "  # entresecado de un pixel cada 20\n",
        "  j = seq(1,784,20)\n",
        "\n",
        "  # se entrena el glm, en este caso regresión logística\n",
        "  model = glm(train$y_digit ~ .,data = train[,j], family = binomial(link = \"logit\"))\n",
        "\n",
        "  # se predicen los valores de test y se aplica el umbral 0.5\n",
        "  out = predict(object = model,newdata = test[,j])\n",
        "  outbin = as.double(out > 0.5)\n",
        "  \n",
        "  # se calcula el accuracy\n",
        "  score = 100 * sum(diag(table(test[,1], outbin))) / length(outbin)\n",
        "  \n",
        "  # se retorna el accuracy\n",
        "  return(score)\n",
        "\n",
        "}"
      ],
      "execution_count": 0,
      "outputs": []
    },
    {
      "cell_type": "code",
      "metadata": {
        "id": "tyXPiiQf8U5X",
        "colab_type": "code",
        "colab": {
          "base_uri": "https://localhost:8080/",
          "height": 673
        },
        "outputId": "48039bb4-14cc-46d9-a90b-de601a8bb63c"
      },
      "source": [
        "# digitos\n",
        "digits = 0:9\n",
        "\n",
        "# se calculan los accuracies para cada digito en digits\n",
        "# la muestra del dataset a usar será de tamaño 15000\n",
        "# de esta muestra 10000 serán de entrenamiento\n",
        "scores = sapply(digits,get_glm_score,subset_n = 15000,train_n = 10000)\n",
        "\n",
        "# se guardan los accuracies en un dataframe con los digitos\n",
        "df = data.frame(digits,scores)\n",
        "\n",
        "# se ordena el dataframe según el accuracy descendentemente\n",
        "df = df[order(-scores),]\n",
        "df"
      ],
      "execution_count": 21,
      "outputs": [
        {
          "output_type": "stream",
          "text": [
            "Warning message:\n",
            "“glm.fit: fitted probabilities numerically 0 or 1 occurred”Warning message in predict.lm(object, newdata, se.fit, scale = 1, type = if (type == :\n",
            "“prediction from a rank-deficient fit may be misleading”Warning message:\n",
            "“glm.fit: algorithm did not converge”Warning message:\n",
            "“glm.fit: fitted probabilities numerically 0 or 1 occurred”Warning message in predict.lm(object, newdata, se.fit, scale = 1, type = if (type == :\n",
            "“prediction from a rank-deficient fit may be misleading”Warning message:\n",
            "“glm.fit: fitted probabilities numerically 0 or 1 occurred”Warning message in predict.lm(object, newdata, se.fit, scale = 1, type = if (type == :\n",
            "“prediction from a rank-deficient fit may be misleading”Warning message:\n",
            "“glm.fit: fitted probabilities numerically 0 or 1 occurred”Warning message in predict.lm(object, newdata, se.fit, scale = 1, type = if (type == :\n",
            "“prediction from a rank-deficient fit may be misleading”Warning message:\n",
            "“glm.fit: fitted probabilities numerically 0 or 1 occurred”Warning message in predict.lm(object, newdata, se.fit, scale = 1, type = if (type == :\n",
            "“prediction from a rank-deficient fit may be misleading”Warning message:\n",
            "“glm.fit: fitted probabilities numerically 0 or 1 occurred”Warning message in predict.lm(object, newdata, se.fit, scale = 1, type = if (type == :\n",
            "“prediction from a rank-deficient fit may be misleading”Warning message:\n",
            "“glm.fit: fitted probabilities numerically 0 or 1 occurred”Warning message in predict.lm(object, newdata, se.fit, scale = 1, type = if (type == :\n",
            "“prediction from a rank-deficient fit may be misleading”Warning message:\n",
            "“glm.fit: algorithm did not converge”Warning message:\n",
            "“glm.fit: fitted probabilities numerically 0 or 1 occurred”Warning message in predict.lm(object, newdata, se.fit, scale = 1, type = if (type == :\n",
            "“prediction from a rank-deficient fit may be misleading”Warning message:\n",
            "“glm.fit: fitted probabilities numerically 0 or 1 occurred”Warning message in predict.lm(object, newdata, se.fit, scale = 1, type = if (type == :\n",
            "“prediction from a rank-deficient fit may be misleading”Warning message:\n",
            "“glm.fit: fitted probabilities numerically 0 or 1 occurred”Warning message in predict.lm(object, newdata, se.fit, scale = 1, type = if (type == :\n",
            "“prediction from a rank-deficient fit may be misleading”"
          ],
          "name": "stderr"
        },
        {
          "output_type": "display_data",
          "data": {
            "text/plain": [
              "   digits scores\n",
              "1  0      96.320\n",
              "2  1      96.046\n",
              "8  7      94.794\n",
              "3  2      94.408\n",
              "7  6      93.474\n",
              "5  4      93.368\n",
              "6  5      92.260\n",
              "4  3      92.176\n",
              "9  8      92.076\n",
              "10 9      91.718"
            ],
            "text/latex": "A data.frame: 10 × 2\n\\begin{tabular}{r|ll}\n  & digits & scores\\\\\n  & <int> & <dbl>\\\\\n\\hline\n\t1 & 0 & 96.320\\\\\n\t2 & 1 & 96.046\\\\\n\t8 & 7 & 94.794\\\\\n\t3 & 2 & 94.408\\\\\n\t7 & 6 & 93.474\\\\\n\t5 & 4 & 93.368\\\\\n\t6 & 5 & 92.260\\\\\n\t4 & 3 & 92.176\\\\\n\t9 & 8 & 92.076\\\\\n\t10 & 9 & 91.718\\\\\n\\end{tabular}\n",
            "text/markdown": "\nA data.frame: 10 × 2\n\n| <!--/--> | digits &lt;int&gt; | scores &lt;dbl&gt; |\n|---|---|---|\n| 1 | 0 | 96.320 |\n| 2 | 1 | 96.046 |\n| 8 | 7 | 94.794 |\n| 3 | 2 | 94.408 |\n| 7 | 6 | 93.474 |\n| 5 | 4 | 93.368 |\n| 6 | 5 | 92.260 |\n| 4 | 3 | 92.176 |\n| 9 | 8 | 92.076 |\n| 10 | 9 | 91.718 |\n\n",
            "text/html": [
              "<table>\n",
              "<caption>A data.frame: 10 × 2</caption>\n",
              "<thead>\n",
              "\t<tr><th></th><th scope=col>digits</th><th scope=col>scores</th></tr>\n",
              "\t<tr><th></th><th scope=col>&lt;int&gt;</th><th scope=col>&lt;dbl&gt;</th></tr>\n",
              "</thead>\n",
              "<tbody>\n",
              "\t<tr><th scope=row>1</th><td>0</td><td>96.320</td></tr>\n",
              "\t<tr><th scope=row>2</th><td>1</td><td>96.046</td></tr>\n",
              "\t<tr><th scope=row>8</th><td>7</td><td>94.794</td></tr>\n",
              "\t<tr><th scope=row>3</th><td>2</td><td>94.408</td></tr>\n",
              "\t<tr><th scope=row>7</th><td>6</td><td>93.474</td></tr>\n",
              "\t<tr><th scope=row>5</th><td>4</td><td>93.368</td></tr>\n",
              "\t<tr><th scope=row>6</th><td>5</td><td>92.260</td></tr>\n",
              "\t<tr><th scope=row>4</th><td>3</td><td>92.176</td></tr>\n",
              "\t<tr><th scope=row>9</th><td>8</td><td>92.076</td></tr>\n",
              "\t<tr><th scope=row>10</th><td>9</td><td>91.718</td></tr>\n",
              "</tbody>\n",
              "</table>\n"
            ]
          },
          "metadata": {
            "tags": []
          }
        }
      ]
    },
    {
      "cell_type": "markdown",
      "metadata": {
        "id": "9zzoWm_79QjP",
        "colab_type": "text"
      },
      "source": [
        "Teniendo en cuenta el ranking anterior, el dígito 0 es el que mejor se predice, mientras que el dígito 9 es el que peor se predice."
      ]
    },
    {
      "cell_type": "markdown",
      "metadata": {
        "id": "i3UZG35g8Tu1",
        "colab_type": "text"
      },
      "source": [
        "PRACTICA 2: Tener en cuenta la variabilidad del error de test a la hora de construir el ranking anterior. Para ello, además de calcular la tasa de acierto para cada dígito, considerar también un \"intervalo de confianza\" obtenido como la dispersión (desviación típica) de 10 medidas de test obtenidas con 10 muestras aleatorias distintas. ¿Existe algún dígito que pueda predecirse significativamente mejor que los demás?"
      ]
    },
    {
      "cell_type": "code",
      "metadata": {
        "id": "z5Ra9pj78Tu2",
        "colab_type": "code",
        "outputId": "5676579d-71bd-41c5-ee43-126826300316",
        "colab": {
          "base_uri": "https://localhost:8080/",
          "height": 1000
        }
      },
      "source": [
        "# vector nulo para guardar todos los accuracies\n",
        "scores_ = NULL\n",
        "\n",
        "# bucle for para realizar 10 repeticiones del modelo\n",
        "for(i in 1:10){\n",
        "\n",
        "  # se calculan los accuracies y se concatenan\n",
        "  scores = sapply(digits,get_glm_score,subset_n = 15000,train_n = 10000)\n",
        "  scores_ = c(scores_,scores)\n",
        "\n",
        "}\n",
        "\n",
        "# vector de digitos concatenados 10 veces (10 repeticiones)\n",
        "dig = rep(digits,10)\n",
        "\n",
        "# data frame de 2x100 con el vector de digitos y el vector de accuracies\n",
        "dfScores = data.frame(digits = as.factor(dig),scores = scores_)"
      ],
      "execution_count": 22,
      "outputs": [
        {
          "output_type": "stream",
          "text": [
            "Warning message:\n",
            "“glm.fit: fitted probabilities numerically 0 or 1 occurred”Warning message in predict.lm(object, newdata, se.fit, scale = 1, type = if (type == :\n",
            "“prediction from a rank-deficient fit may be misleading”Warning message:\n",
            "“glm.fit: algorithm did not converge”Warning message:\n",
            "“glm.fit: fitted probabilities numerically 0 or 1 occurred”Warning message in predict.lm(object, newdata, se.fit, scale = 1, type = if (type == :\n",
            "“prediction from a rank-deficient fit may be misleading”Warning message:\n",
            "“glm.fit: fitted probabilities numerically 0 or 1 occurred”Warning message in predict.lm(object, newdata, se.fit, scale = 1, type = if (type == :\n",
            "“prediction from a rank-deficient fit may be misleading”Warning message:\n",
            "“glm.fit: fitted probabilities numerically 0 or 1 occurred”Warning message in predict.lm(object, newdata, se.fit, scale = 1, type = if (type == :\n",
            "“prediction from a rank-deficient fit may be misleading”Warning message:\n",
            "“glm.fit: fitted probabilities numerically 0 or 1 occurred”Warning message in predict.lm(object, newdata, se.fit, scale = 1, type = if (type == :\n",
            "“prediction from a rank-deficient fit may be misleading”Warning message:\n",
            "“glm.fit: fitted probabilities numerically 0 or 1 occurred”Warning message in predict.lm(object, newdata, se.fit, scale = 1, type = if (type == :\n",
            "“prediction from a rank-deficient fit may be misleading”Warning message:\n",
            "“glm.fit: fitted probabilities numerically 0 or 1 occurred”Warning message in predict.lm(object, newdata, se.fit, scale = 1, type = if (type == :\n",
            "“prediction from a rank-deficient fit may be misleading”Warning message:\n",
            "“glm.fit: algorithm did not converge”Warning message:\n",
            "“glm.fit: fitted probabilities numerically 0 or 1 occurred”Warning message in predict.lm(object, newdata, se.fit, scale = 1, type = if (type == :\n",
            "“prediction from a rank-deficient fit may be misleading”Warning message:\n",
            "“glm.fit: fitted probabilities numerically 0 or 1 occurred”Warning message in predict.lm(object, newdata, se.fit, scale = 1, type = if (type == :\n",
            "“prediction from a rank-deficient fit may be misleading”Warning message:\n",
            "“glm.fit: fitted probabilities numerically 0 or 1 occurred”Warning message in predict.lm(object, newdata, se.fit, scale = 1, type = if (type == :\n",
            "“prediction from a rank-deficient fit may be misleading”Warning message:\n",
            "“glm.fit: fitted probabilities numerically 0 or 1 occurred”Warning message in predict.lm(object, newdata, se.fit, scale = 1, type = if (type == :\n",
            "“prediction from a rank-deficient fit may be misleading”Warning message:\n",
            "“glm.fit: algorithm did not converge”Warning message:\n",
            "“glm.fit: fitted probabilities numerically 0 or 1 occurred”Warning message in predict.lm(object, newdata, se.fit, scale = 1, type = if (type == :\n",
            "“prediction from a rank-deficient fit may be misleading”Warning message:\n",
            "“glm.fit: fitted probabilities numerically 0 or 1 occurred”Warning message in predict.lm(object, newdata, se.fit, scale = 1, type = if (type == :\n",
            "“prediction from a rank-deficient fit may be misleading”Warning message:\n",
            "“glm.fit: fitted probabilities numerically 0 or 1 occurred”Warning message in predict.lm(object, newdata, se.fit, scale = 1, type = if (type == :\n",
            "“prediction from a rank-deficient fit may be misleading”Warning message:\n",
            "“glm.fit: fitted probabilities numerically 0 or 1 occurred”Warning message in predict.lm(object, newdata, se.fit, scale = 1, type = if (type == :\n",
            "“prediction from a rank-deficient fit may be misleading”Warning message:\n",
            "“glm.fit: fitted probabilities numerically 0 or 1 occurred”Warning message in predict.lm(object, newdata, se.fit, scale = 1, type = if (type == :\n",
            "“prediction from a rank-deficient fit may be misleading”Warning message:\n",
            "“glm.fit: fitted probabilities numerically 0 or 1 occurred”Warning message in predict.lm(object, newdata, se.fit, scale = 1, type = if (type == :\n",
            "“prediction from a rank-deficient fit may be misleading”Warning message:\n",
            "“glm.fit: algorithm did not converge”Warning message:\n",
            "“glm.fit: fitted probabilities numerically 0 or 1 occurred”Warning message in predict.lm(object, newdata, se.fit, scale = 1, type = if (type == :\n",
            "“prediction from a rank-deficient fit may be misleading”Warning message:\n",
            "“glm.fit: fitted probabilities numerically 0 or 1 occurred”Warning message in predict.lm(object, newdata, se.fit, scale = 1, type = if (type == :\n",
            "“prediction from a rank-deficient fit may be misleading”Warning message:\n",
            "“glm.fit: fitted probabilities numerically 0 or 1 occurred”Warning message in predict.lm(object, newdata, se.fit, scale = 1, type = if (type == :\n",
            "“prediction from a rank-deficient fit may be misleading”Warning message:\n",
            "“glm.fit: fitted probabilities numerically 0 or 1 occurred”Warning message in predict.lm(object, newdata, se.fit, scale = 1, type = if (type == :\n",
            "“prediction from a rank-deficient fit may be misleading”Warning message:\n",
            "“glm.fit: algorithm did not converge”Warning message:\n",
            "“glm.fit: fitted probabilities numerically 0 or 1 occurred”Warning message in predict.lm(object, newdata, se.fit, scale = 1, type = if (type == :\n",
            "“prediction from a rank-deficient fit may be misleading”Warning message:\n",
            "“glm.fit: fitted probabilities numerically 0 or 1 occurred”Warning message in predict.lm(object, newdata, se.fit, scale = 1, type = if (type == :\n",
            "“prediction from a rank-deficient fit may be misleading”Warning message:\n",
            "“glm.fit: fitted probabilities numerically 0 or 1 occurred”Warning message in predict.lm(object, newdata, se.fit, scale = 1, type = if (type == :\n",
            "“prediction from a rank-deficient fit may be misleading”Warning message:\n",
            "“glm.fit: fitted probabilities numerically 0 or 1 occurred”Warning message in predict.lm(object, newdata, se.fit, scale = 1, type = if (type == :\n",
            "“prediction from a rank-deficient fit may be misleading”Warning message:\n",
            "“glm.fit: fitted probabilities numerically 0 or 1 occurred”Warning message in predict.lm(object, newdata, se.fit, scale = 1, type = if (type == :\n",
            "“prediction from a rank-deficient fit may be misleading”Warning message:\n",
            "“glm.fit: algorithm did not converge”Warning message:\n",
            "“glm.fit: fitted probabilities numerically 0 or 1 occurred”Warning message in predict.lm(object, newdata, se.fit, scale = 1, type = if (type == :\n",
            "“prediction from a rank-deficient fit may be misleading”Warning message:\n",
            "“glm.fit: algorithm did not converge”Warning message:\n",
            "“glm.fit: fitted probabilities numerically 0 or 1 occurred”Warning message in predict.lm(object, newdata, se.fit, scale = 1, type = if (type == :\n",
            "“prediction from a rank-deficient fit may be misleading”Warning message:\n",
            "“glm.fit: fitted probabilities numerically 0 or 1 occurred”Warning message in predict.lm(object, newdata, se.fit, scale = 1, type = if (type == :\n",
            "“prediction from a rank-deficient fit may be misleading”Warning message:\n",
            "“glm.fit: fitted probabilities numerically 0 or 1 occurred”Warning message in predict.lm(object, newdata, se.fit, scale = 1, type = if (type == :\n",
            "“prediction from a rank-deficient fit may be misleading”Warning message:\n",
            "“glm.fit: fitted probabilities numerically 0 or 1 occurred”Warning message in predict.lm(object, newdata, se.fit, scale = 1, type = if (type == :\n",
            "“prediction from a rank-deficient fit may be misleading”Warning message:\n",
            "“glm.fit: algorithm did not converge”Warning message:\n",
            "“glm.fit: fitted probabilities numerically 0 or 1 occurred”Warning message in predict.lm(object, newdata, se.fit, scale = 1, type = if (type == :\n",
            "“prediction from a rank-deficient fit may be misleading”Warning message:\n",
            "“glm.fit: fitted probabilities numerically 0 or 1 occurred”Warning message in predict.lm(object, newdata, se.fit, scale = 1, type = if (type == :\n",
            "“prediction from a rank-deficient fit may be misleading”Warning message:\n",
            "“glm.fit: fitted probabilities numerically 0 or 1 occurred”Warning message in predict.lm(object, newdata, se.fit, scale = 1, type = if (type == :\n",
            "“prediction from a rank-deficient fit may be misleading”Warning message:\n",
            "“glm.fit: fitted probabilities numerically 0 or 1 occurred”Warning message in predict.lm(object, newdata, se.fit, scale = 1, type = if (type == :\n",
            "“prediction from a rank-deficient fit may be misleading”Warning message:\n",
            "“glm.fit: fitted probabilities numerically 0 or 1 occurred”Warning message in predict.lm(object, newdata, se.fit, scale = 1, type = if (type == :\n",
            "“prediction from a rank-deficient fit may be misleading”Warning message:\n",
            "“glm.fit: fitted probabilities numerically 0 or 1 occurred”Warning message in predict.lm(object, newdata, se.fit, scale = 1, type = if (type == :\n",
            "“prediction from a rank-deficient fit may be misleading”Warning message:\n",
            "“glm.fit: algorithm did not converge”Warning message:\n",
            "“glm.fit: fitted probabilities numerically 0 or 1 occurred”Warning message in predict.lm(object, newdata, se.fit, scale = 1, type = if (type == :\n",
            "“prediction from a rank-deficient fit may be misleading”Warning message:\n",
            "“glm.fit: fitted probabilities numerically 0 or 1 occurred”Warning message in predict.lm(object, newdata, se.fit, scale = 1, type = if (type == :\n",
            "“prediction from a rank-deficient fit may be misleading”Warning message:\n",
            "“glm.fit: fitted probabilities numerically 0 or 1 occurred”Warning message in predict.lm(object, newdata, se.fit, scale = 1, type = if (type == :\n",
            "“prediction from a rank-deficient fit may be misleading”Warning message:\n",
            "“glm.fit: fitted probabilities numerically 0 or 1 occurred”Warning message in predict.lm(object, newdata, se.fit, scale = 1, type = if (type == :\n",
            "“prediction from a rank-deficient fit may be misleading”Warning message:\n",
            "“glm.fit: fitted probabilities numerically 0 or 1 occurred”Warning message in predict.lm(object, newdata, se.fit, scale = 1, type = if (type == :\n",
            "“prediction from a rank-deficient fit may be misleading”Warning message:\n",
            "“glm.fit: fitted probabilities numerically 0 or 1 occurred”Warning message in predict.lm(object, newdata, se.fit, scale = 1, type = if (type == :\n",
            "“prediction from a rank-deficient fit may be misleading”Warning message:\n",
            "“glm.fit: fitted probabilities numerically 0 or 1 occurred”Warning message in predict.lm(object, newdata, se.fit, scale = 1, type = if (type == :\n",
            "“prediction from a rank-deficient fit may be misleading”Warning message:\n",
            "“glm.fit: fitted probabilities numerically 0 or 1 occurred”Warning message in predict.lm(object, newdata, se.fit, scale = 1, type = if (type == :\n",
            "“prediction from a rank-deficient fit may be misleading”Warning message:\n",
            "“glm.fit: fitted probabilities numerically 0 or 1 occurred”Warning message in predict.lm(object, newdata, se.fit, scale = 1, type = if (type == :\n",
            "“prediction from a rank-deficient fit may be misleading”Warning message:\n",
            "“glm.fit: fitted probabilities numerically 0 or 1 occurred”Warning message in predict.lm(object, newdata, se.fit, scale = 1, type = if (type == :\n",
            "“prediction from a rank-deficient fit may be misleading”Warning message:\n",
            "“glm.fit: algorithm did not converge”Warning message:\n",
            "“glm.fit: fitted probabilities numerically 0 or 1 occurred”Warning message in predict.lm(object, newdata, se.fit, scale = 1, type = if (type == :\n",
            "“prediction from a rank-deficient fit may be misleading”Warning message:\n",
            "“glm.fit: fitted probabilities numerically 0 or 1 occurred”Warning message in predict.lm(object, newdata, se.fit, scale = 1, type = if (type == :\n",
            "“prediction from a rank-deficient fit may be misleading”Warning message:\n",
            "“glm.fit: fitted probabilities numerically 0 or 1 occurred”Warning message in predict.lm(object, newdata, se.fit, scale = 1, type = if (type == :\n",
            "“prediction from a rank-deficient fit may be misleading”Warning message:\n",
            "“glm.fit: fitted probabilities numerically 0 or 1 occurred”Warning message in predict.lm(object, newdata, se.fit, scale = 1, type = if (type == :\n",
            "“prediction from a rank-deficient fit may be misleading”Warning message:\n",
            "“glm.fit: algorithm did not converge”Warning message:\n",
            "“glm.fit: fitted probabilities numerically 0 or 1 occurred”Warning message in predict.lm(object, newdata, se.fit, scale = 1, type = if (type == :\n",
            "“prediction from a rank-deficient fit may be misleading”Warning message:\n",
            "“glm.fit: fitted probabilities numerically 0 or 1 occurred”Warning message in predict.lm(object, newdata, se.fit, scale = 1, type = if (type == :\n",
            "“prediction from a rank-deficient fit may be misleading”Warning message:\n",
            "“glm.fit: fitted probabilities numerically 0 or 1 occurred”Warning message in predict.lm(object, newdata, se.fit, scale = 1, type = if (type == :\n",
            "“prediction from a rank-deficient fit may be misleading”Warning message:\n",
            "“glm.fit: fitted probabilities numerically 0 or 1 occurred”Warning message in predict.lm(object, newdata, se.fit, scale = 1, type = if (type == :\n",
            "“prediction from a rank-deficient fit may be misleading”Warning message:\n",
            "“glm.fit: fitted probabilities numerically 0 or 1 occurred”Warning message in predict.lm(object, newdata, se.fit, scale = 1, type = if (type == :\n",
            "“prediction from a rank-deficient fit may be misleading”Warning message:\n",
            "“glm.fit: algorithm did not converge”Warning message:\n",
            "“glm.fit: fitted probabilities numerically 0 or 1 occurred”Warning message in predict.lm(object, newdata, se.fit, scale = 1, type = if (type == :\n",
            "“prediction from a rank-deficient fit may be misleading”Warning message:\n",
            "“glm.fit: algorithm did not converge”Warning message:\n",
            "“glm.fit: fitted probabilities numerically 0 or 1 occurred”Warning message in predict.lm(object, newdata, se.fit, scale = 1, type = if (type == :\n",
            "“prediction from a rank-deficient fit may be misleading”Warning message:\n",
            "“glm.fit: fitted probabilities numerically 0 or 1 occurred”Warning message in predict.lm(object, newdata, se.fit, scale = 1, type = if (type == :\n",
            "“prediction from a rank-deficient fit may be misleading”Warning message:\n",
            "“glm.fit: fitted probabilities numerically 0 or 1 occurred”Warning message in predict.lm(object, newdata, se.fit, scale = 1, type = if (type == :\n",
            "“prediction from a rank-deficient fit may be misleading”Warning message:\n",
            "“glm.fit: fitted probabilities numerically 0 or 1 occurred”Warning message in predict.lm(object, newdata, se.fit, scale = 1, type = if (type == :\n",
            "“prediction from a rank-deficient fit may be misleading”Warning message:\n",
            "“glm.fit: algorithm did not converge”Warning message:\n",
            "“glm.fit: fitted probabilities numerically 0 or 1 occurred”Warning message in predict.lm(object, newdata, se.fit, scale = 1, type = if (type == :\n",
            "“prediction from a rank-deficient fit may be misleading”Warning message:\n",
            "“glm.fit: fitted probabilities numerically 0 or 1 occurred”Warning message in predict.lm(object, newdata, se.fit, scale = 1, type = if (type == :\n",
            "“prediction from a rank-deficient fit may be misleading”Warning message:\n",
            "“glm.fit: fitted probabilities numerically 0 or 1 occurred”Warning message in predict.lm(object, newdata, se.fit, scale = 1, type = if (type == :\n",
            "“prediction from a rank-deficient fit may be misleading”Warning message:\n",
            "“glm.fit: fitted probabilities numerically 0 or 1 occurred”Warning message in predict.lm(object, newdata, se.fit, scale = 1, type = if (type == :\n",
            "“prediction from a rank-deficient fit may be misleading”Warning message:\n",
            "“glm.fit: fitted probabilities numerically 0 or 1 occurred”Warning message in predict.lm(object, newdata, se.fit, scale = 1, type = if (type == :\n",
            "“prediction from a rank-deficient fit may be misleading”Warning message:\n",
            "“glm.fit: fitted probabilities numerically 0 or 1 occurred”Warning message in predict.lm(object, newdata, se.fit, scale = 1, type = if (type == :\n",
            "“prediction from a rank-deficient fit may be misleading”Warning message:\n",
            "“glm.fit: algorithm did not converge”Warning message:\n",
            "“glm.fit: fitted probabilities numerically 0 or 1 occurred”Warning message in predict.lm(object, newdata, se.fit, scale = 1, type = if (type == :\n",
            "“prediction from a rank-deficient fit may be misleading”Warning message:\n",
            "“glm.fit: fitted probabilities numerically 0 or 1 occurred”Warning message in predict.lm(object, newdata, se.fit, scale = 1, type = if (type == :\n",
            "“prediction from a rank-deficient fit may be misleading”Warning message:\n",
            "“glm.fit: fitted probabilities numerically 0 or 1 occurred”Warning message in predict.lm(object, newdata, se.fit, scale = 1, type = if (type == :\n",
            "“prediction from a rank-deficient fit may be misleading”Warning message:\n",
            "“glm.fit: fitted probabilities numerically 0 or 1 occurred”Warning message in predict.lm(object, newdata, se.fit, scale = 1, type = if (type == :\n",
            "“prediction from a rank-deficient fit may be misleading”Warning message:\n",
            "“glm.fit: algorithm did not converge”Warning message:\n",
            "“glm.fit: fitted probabilities numerically 0 or 1 occurred”Warning message in predict.lm(object, newdata, se.fit, scale = 1, type = if (type == :\n",
            "“prediction from a rank-deficient fit may be misleading”Warning message:\n",
            "“glm.fit: fitted probabilities numerically 0 or 1 occurred”Warning message in predict.lm(object, newdata, se.fit, scale = 1, type = if (type == :\n",
            "“prediction from a rank-deficient fit may be misleading”Warning message:\n",
            "“glm.fit: fitted probabilities numerically 0 or 1 occurred”Warning message in predict.lm(object, newdata, se.fit, scale = 1, type = if (type == :\n",
            "“prediction from a rank-deficient fit may be misleading”Warning message:\n",
            "“glm.fit: fitted probabilities numerically 0 or 1 occurred”Warning message in predict.lm(object, newdata, se.fit, scale = 1, type = if (type == :\n",
            "“prediction from a rank-deficient fit may be misleading”Warning message:\n",
            "“glm.fit: fitted probabilities numerically 0 or 1 occurred”Warning message in predict.lm(object, newdata, se.fit, scale = 1, type = if (type == :\n",
            "“prediction from a rank-deficient fit may be misleading”Warning message:\n",
            "“glm.fit: fitted probabilities numerically 0 or 1 occurred”Warning message in predict.lm(object, newdata, se.fit, scale = 1, type = if (type == :\n",
            "“prediction from a rank-deficient fit may be misleading”Warning message:\n",
            "“glm.fit: algorithm did not converge”Warning message:\n",
            "“glm.fit: fitted probabilities numerically 0 or 1 occurred”Warning message in predict.lm(object, newdata, se.fit, scale = 1, type = if (type == :\n",
            "“prediction from a rank-deficient fit may be misleading”Warning message:\n",
            "“glm.fit: fitted probabilities numerically 0 or 1 occurred”Warning message in predict.lm(object, newdata, se.fit, scale = 1, type = if (type == :\n",
            "“prediction from a rank-deficient fit may be misleading”Warning message:\n",
            "“glm.fit: fitted probabilities numerically 0 or 1 occurred”Warning message in predict.lm(object, newdata, se.fit, scale = 1, type = if (type == :\n",
            "“prediction from a rank-deficient fit may be misleading”Warning message:\n",
            "“glm.fit: fitted probabilities numerically 0 or 1 occurred”Warning message in predict.lm(object, newdata, se.fit, scale = 1, type = if (type == :\n",
            "“prediction from a rank-deficient fit may be misleading”Warning message:\n",
            "“glm.fit: algorithm did not converge”Warning message:\n",
            "“glm.fit: fitted probabilities numerically 0 or 1 occurred”Warning message in predict.lm(object, newdata, se.fit, scale = 1, type = if (type == :\n",
            "“prediction from a rank-deficient fit may be misleading”Warning message:\n",
            "“glm.fit: fitted probabilities numerically 0 or 1 occurred”Warning message in predict.lm(object, newdata, se.fit, scale = 1, type = if (type == :\n",
            "“prediction from a rank-deficient fit may be misleading”Warning message:\n",
            "“glm.fit: fitted probabilities numerically 0 or 1 occurred”Warning message in predict.lm(object, newdata, se.fit, scale = 1, type = if (type == :\n",
            "“prediction from a rank-deficient fit may be misleading”Warning message:\n",
            "“glm.fit: fitted probabilities numerically 0 or 1 occurred”Warning message in predict.lm(object, newdata, se.fit, scale = 1, type = if (type == :\n",
            "“prediction from a rank-deficient fit may be misleading”Warning message:\n",
            "“glm.fit: fitted probabilities numerically 0 or 1 occurred”Warning message in predict.lm(object, newdata, se.fit, scale = 1, type = if (type == :\n",
            "“prediction from a rank-deficient fit may be misleading”Warning message:\n",
            "“glm.fit: algorithm did not converge”Warning message:\n",
            "“glm.fit: fitted probabilities numerically 0 or 1 occurred”Warning message in predict.lm(object, newdata, se.fit, scale = 1, type = if (type == :\n",
            "“prediction from a rank-deficient fit may be misleading”Warning message:\n",
            "“glm.fit: algorithm did not converge”Warning message:\n",
            "“glm.fit: fitted probabilities numerically 0 or 1 occurred”Warning message in predict.lm(object, newdata, se.fit, scale = 1, type = if (type == :\n",
            "“prediction from a rank-deficient fit may be misleading”Warning message:\n",
            "“glm.fit: fitted probabilities numerically 0 or 1 occurred”Warning message in predict.lm(object, newdata, se.fit, scale = 1, type = if (type == :\n",
            "“prediction from a rank-deficient fit may be misleading”Warning message:\n",
            "“glm.fit: fitted probabilities numerically 0 or 1 occurred”Warning message in predict.lm(object, newdata, se.fit, scale = 1, type = if (type == :\n",
            "“prediction from a rank-deficient fit may be misleading”Warning message:\n",
            "“glm.fit: fitted probabilities numerically 0 or 1 occurred”Warning message in predict.lm(object, newdata, se.fit, scale = 1, type = if (type == :\n",
            "“prediction from a rank-deficient fit may be misleading”Warning message:\n",
            "“glm.fit: algorithm did not converge”Warning message:\n",
            "“glm.fit: fitted probabilities numerically 0 or 1 occurred”Warning message in predict.lm(object, newdata, se.fit, scale = 1, type = if (type == :\n",
            "“prediction from a rank-deficient fit may be misleading”Warning message:\n",
            "“glm.fit: fitted probabilities numerically 0 or 1 occurred”Warning message in predict.lm(object, newdata, se.fit, scale = 1, type = if (type == :\n",
            "“prediction from a rank-deficient fit may be misleading”Warning message:\n",
            "“glm.fit: fitted probabilities numerically 0 or 1 occurred”Warning message in predict.lm(object, newdata, se.fit, scale = 1, type = if (type == :\n",
            "“prediction from a rank-deficient fit may be misleading”Warning message:\n",
            "“glm.fit: fitted probabilities numerically 0 or 1 occurred”Warning message in predict.lm(object, newdata, se.fit, scale = 1, type = if (type == :\n",
            "“prediction from a rank-deficient fit may be misleading”Warning message:\n",
            "“glm.fit: fitted probabilities numerically 0 or 1 occurred”Warning message in predict.lm(object, newdata, se.fit, scale = 1, type = if (type == :\n",
            "“prediction from a rank-deficient fit may be misleading”Warning message:\n",
            "“glm.fit: algorithm did not converge”Warning message:\n",
            "“glm.fit: fitted probabilities numerically 0 or 1 occurred”Warning message in predict.lm(object, newdata, se.fit, scale = 1, type = if (type == :\n",
            "“prediction from a rank-deficient fit may be misleading”Warning message:\n",
            "“glm.fit: algorithm did not converge”Warning message:\n",
            "“glm.fit: fitted probabilities numerically 0 or 1 occurred”Warning message in predict.lm(object, newdata, se.fit, scale = 1, type = if (type == :\n",
            "“prediction from a rank-deficient fit may be misleading”Warning message:\n",
            "“glm.fit: fitted probabilities numerically 0 or 1 occurred”Warning message in predict.lm(object, newdata, se.fit, scale = 1, type = if (type == :\n",
            "“prediction from a rank-deficient fit may be misleading”Warning message:\n",
            "“glm.fit: fitted probabilities numerically 0 or 1 occurred”Warning message in predict.lm(object, newdata, se.fit, scale = 1, type = if (type == :\n",
            "“prediction from a rank-deficient fit may be misleading”"
          ],
          "name": "stderr"
        }
      ]
    },
    {
      "cell_type": "code",
      "metadata": {
        "id": "59oPXDRWSsqo",
        "colab_type": "code",
        "outputId": "b02ca454-04e9-4d99-b5f1-826ea3dbabca",
        "colab": {
          "base_uri": "https://localhost:8080/",
          "height": 34
        }
      },
      "source": [
        "require(ggplot2)"
      ],
      "execution_count": 23,
      "outputs": [
        {
          "output_type": "stream",
          "text": [
            "Loading required package: ggplot2\n"
          ],
          "name": "stderr"
        }
      ]
    },
    {
      "cell_type": "code",
      "metadata": {
        "id": "geBSA4ShSvke",
        "colab_type": "code",
        "outputId": "a8d26a06-5306-4d00-b254-caf76b9ededf",
        "colab": {
          "base_uri": "https://localhost:8080/",
          "height": 856
        }
      },
      "source": [
        "# boxplot de los accuracies para cada dígito\n",
        "ggplot(dfScores, aes(x = digits, y = scores)) + geom_boxplot()"
      ],
      "execution_count": 25,
      "outputs": [
        {
          "output_type": "display_data",
          "data": {
            "image/png": "[encoded data removed]",
            "text/plain": [
              "plot without title"
            ]
          },
          "metadata": {
            "tags": []
          }
        }
      ]
    },
    {
      "cell_type": "markdown",
      "metadata": {
        "id": "PCDY47hm_bV3",
        "colab_type": "text"
      },
      "source": [
        "El dígito 0 se predice significativamente mejor que los demás, no obstante, el dígito 1 también tiende a tener una muy buena predicción. Se confirma además que el dígito 9 es el que peor se predice con respecto a los demás."
      ]
    },
    {
      "cell_type": "markdown",
      "metadata": {
        "id": "zzQNxZsi8Tu5",
        "colab_type": "text"
      },
      "source": [
        "TRABAJO EXTRA: Hasta ahora hemos utilizado la tasa de acierto como medida de validación de los clasificadores. Para ello, las predicciones probabilísticas se tiene que convertir a binarias (utilizando un umbral para al probabilidad). Sin embargo, existen otras medidas más generales que consideran el carácter probabilístico de la predicción. \n",
        "Leer https://es.wikipedia.org/wiki/Curva_ROC\n",
        "Practicar con el paquete 'AUC'\n",
        "#install.packages(\"AUC\")\n",
        "#library(\"AUC\")\n",
        "#roc<-roc(out,as.factor(datT[,1]))\n",
        "#auc(roc)\n",
        "#plot(roc)"
      ]
    },
    {
      "cell_type": "code",
      "metadata": {
        "id": "AsXn2PN38Tu6",
        "colab_type": "code",
        "colab": {
          "base_uri": "https://localhost:8080/",
          "height": 52
        },
        "outputId": "806ccb9b-0a0f-4521-90de-79b55dd5b126"
      },
      "source": [
        "install.packages('AUC')"
      ],
      "execution_count": 27,
      "outputs": [
        {
          "output_type": "stream",
          "text": [
            "Installing package into ‘/usr/local/lib/R/site-library’\n",
            "(as ‘lib’ is unspecified)\n"
          ],
          "name": "stderr"
        }
      ]
    },
    {
      "cell_type": "code",
      "metadata": {
        "id": "4ghOEDbe_-dH",
        "colab_type": "code",
        "colab": {}
      },
      "source": [
        "require(AUC)"
      ],
      "execution_count": 0,
      "outputs": []
    },
    {
      "cell_type": "code",
      "metadata": {
        "id": "wRyK9yP1DldO",
        "colab_type": "code",
        "colab": {}
      },
      "source": [
        "# función para calcular el ROC\n",
        "# subset_n se usa para extraer del dataset una cantidad de registros para trabajar con ellos\n",
        "# train_n se usar para saber cuantos de estos registros serán de entrenamiento, el resto serán test\n",
        "# digit será el dígito a evaluar\n",
        "get_roc = function(subset_n,train_n,digit){\n",
        "\n",
        "  # para cada dígito se tendrá el label (0,1)\n",
        "  y_digit = y_train\n",
        "  y_digit[which(y_train != digit)] = 0\n",
        "  y_digit[which(y_train == digit)] = 1\n",
        "\n",
        "  # se crea el data frame con este label\n",
        "  dat = data.frame(y_digit,x_train)\n",
        "\n",
        "  # se extrae una muestra del dataset de tamaño subset_n\n",
        "  subset_ind = sample(seq_len(nrow(dat)),size = subset_n)\n",
        "  subset_dat = dat[subset_ind,]\n",
        "\n",
        "  # de esta muestra se extrae una parte de tamaño train_n para entrenar\n",
        "  train_ind = sample(seq_len(nrow(subset_dat)),size = train_n)\n",
        "\n",
        "  # se parte el sub dataset en entrenamiento\n",
        "  train = dat[train_ind,]\n",
        "\n",
        "  # y en test\n",
        "  test = dat[-train_ind,]\n",
        "\n",
        "  # entresecado de un pixel cada 20\n",
        "  j = seq(1,784,20)\n",
        "\n",
        "  # se entrena el glm, en este caso regresión logística\n",
        "  model = glm(train$y_digit ~ .,data = train[,j], family = binomial(link = \"logit\"))\n",
        "\n",
        "  # se predicen los valores de test y se aplica el umbral 0.5\n",
        "  out = predict(object = model,newdata = test[,j])\n",
        "  \n",
        "  # calcular ROC\n",
        "  roc = roc(out,as.factor(test[,1]))\n",
        "    \n",
        "  # se retorna el ROC\n",
        "  return(roc)\n",
        "\n",
        "}"
      ],
      "execution_count": 0,
      "outputs": []
    },
    {
      "cell_type": "code",
      "metadata": {
        "id": "6-sKi-2zEp4f",
        "colab_type": "code",
        "colab": {
          "base_uri": "https://localhost:8080/",
          "height": 1000
        },
        "outputId": "8b15f6d4-4aa8-4ea7-9e45-e05879976449"
      },
      "source": [
        "# digitos\n",
        "digits = 0:9\n",
        "\n",
        "# se calculan los ROC para cada digito en digits\n",
        "# la muestra del dataset a usar será de tamaño 15000\n",
        "# de esta muestra 10000 serán de entrenamiento\n",
        "rocs = lapply(digits,get_roc,subset_n = 15000,train_n = 10000)\n",
        "\n",
        "# se calculan los AUC para cada ROC\n",
        "aucs = sapply(rocs,auc)\n",
        "\n",
        "# se inicializa una ventana de gráficos de 3x4\n",
        "par(mfrow = c(3,4))\n",
        "\n",
        "# se hará un plot de cada ROC\n",
        "for(i in 1:10){\n",
        "\n",
        "  # título para mostrar el dígito con su AUC\n",
        "  the_title = paste(\"Digit\",digits[i],\"AUC =\",round(aucs[i],2))\n",
        "\n",
        "  # plot del ROC para cada dígito\n",
        "  plot(rocs[[i]],main = the_title)\n",
        "\n",
        "}"
      ],
      "execution_count": 48,
      "outputs": [
        {
          "output_type": "stream",
          "text": [
            "Warning message:\n",
            "“glm.fit: fitted probabilities numerically 0 or 1 occurred”Warning message in predict.lm(object, newdata, se.fit, scale = 1, type = if (type == :\n",
            "“prediction from a rank-deficient fit may be misleading”Warning message:\n",
            "“glm.fit: algorithm did not converge”Warning message:\n",
            "“glm.fit: fitted probabilities numerically 0 or 1 occurred”Warning message in predict.lm(object, newdata, se.fit, scale = 1, type = if (type == :\n",
            "“prediction from a rank-deficient fit may be misleading”Warning message:\n",
            "“glm.fit: fitted probabilities numerically 0 or 1 occurred”Warning message in predict.lm(object, newdata, se.fit, scale = 1, type = if (type == :\n",
            "“prediction from a rank-deficient fit may be misleading”Warning message:\n",
            "“glm.fit: fitted probabilities numerically 0 or 1 occurred”Warning message in predict.lm(object, newdata, se.fit, scale = 1, type = if (type == :\n",
            "“prediction from a rank-deficient fit may be misleading”Warning message:\n",
            "“glm.fit: fitted probabilities numerically 0 or 1 occurred”Warning message in predict.lm(object, newdata, se.fit, scale = 1, type = if (type == :\n",
            "“prediction from a rank-deficient fit may be misleading”Warning message:\n",
            "“glm.fit: fitted probabilities numerically 0 or 1 occurred”Warning message in predict.lm(object, newdata, se.fit, scale = 1, type = if (type == :\n",
            "“prediction from a rank-deficient fit may be misleading”Warning message:\n",
            "“glm.fit: fitted probabilities numerically 0 or 1 occurred”Warning message in predict.lm(object, newdata, se.fit, scale = 1, type = if (type == :\n",
            "“prediction from a rank-deficient fit may be misleading”Warning message:\n",
            "“glm.fit: algorithm did not converge”Warning message:\n",
            "“glm.fit: fitted probabilities numerically 0 or 1 occurred”Warning message in predict.lm(object, newdata, se.fit, scale = 1, type = if (type == :\n",
            "“prediction from a rank-deficient fit may be misleading”Warning message:\n",
            "“glm.fit: fitted probabilities numerically 0 or 1 occurred”Warning message in predict.lm(object, newdata, se.fit, scale = 1, type = if (type == :\n",
            "“prediction from a rank-deficient fit may be misleading”Warning message:\n",
            "“glm.fit: fitted probabilities numerically 0 or 1 occurred”Warning message in predict.lm(object, newdata, se.fit, scale = 1, type = if (type == :\n",
            "“prediction from a rank-deficient fit may be misleading”"
          ],
          "name": "stderr"
        },
        {
          "output_type": "display_data",
          "data": {
            "image/png": "[encoded data removed]",
            "text/plain": [
              "Plot with title “Digit 9 AUC = 0.9”"
            ]
          },
          "metadata": {
            "tags": []
          }
        }
      ]
    },
    {
      "cell_type": "markdown",
      "metadata": {
        "id": "GvNPy8OWI0ot",
        "colab_type": "text"
      },
      "source": [
        "Según las gráficas de las curvas ROC para cada dígitos se puede observar cómo los dígitos 0 y 1 tienden a tener un AUC alto y la curva ROC tiende hacia el punto [0,1] (indicando la poca frecuencua de falsos negativos y falsos positivos) de manera más aproximada que el resto de dígitos."
      ]
    }
  ]
}