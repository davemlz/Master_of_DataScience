{
 "cells": [
  {
   "cell_type": "markdown",
   "metadata": {},
   "source": [
    "### Practica de Remuestreo\n",
    "Daniel García Diaz (garciad@ifca.unican.es)"
   ]
  },
  {
   "cell_type": "markdown",
   "metadata": {},
   "source": [
    "Las tecnicas de remuestreo son tecnicas desarrolladas hace pocos años para calcular valores estadisticos, basandose en tecnicas computacionales intensivas que evitan los calculos complejos de la teoria estadistica tradicional."
   ]
  },
  {
   "cell_type": "markdown",
   "metadata": {},
   "source": [
    "Serie temporal de datos fisico-quimicos medidos en el embalse de Cuerda del Pozo (Soria) en los años 2014 y 2015.\n",
    "\n",
    "File -> CdP_practica_estadistica.csv"
   ]
  },
  {
   "cell_type": "code",
   "execution_count": null,
   "metadata": {},
   "outputs": [],
   "source": [
    "#Establecemos el directorio para poder leer los datos correctamente\n",
    "rm(list=ls())\n",
    "setwd()\n",
    "file = \"CdP_practica_estadistica.csv\""
   ]
  },
  {
   "cell_type": "markdown",
   "metadata": {},
   "source": [
    "Carga el dataset con R y selecciona la temperatura de ambos años por separado. Selecciona solo los datos de Temperatura para el Verano (Julio, Agosto y Septiembre). \n",
    "\n",
    "NOTA!! -> Formatea la fecha para poder dividir los datos en años.\n",
    "\n",
    "Calula la media, mediana y desviacion media de cada uno de los años por separado, devuelve una tabla con los datos"
   ]
  },
  {
   "cell_type": "code",
   "execution_count": null,
   "metadata": {},
   "outputs": [],
   "source": [
    "# Rellena"
   ]
  },
  {
   "cell_type": "markdown",
   "metadata": {},
   "source": [
    "### Bootstrap\n",
    "\n",
    "Tecnica de remuestreo que consiste en generar nuevas pseudomuestras sustituyendo cada uno de los elementos de la muestra original por cualquier otro elemento elegido. Cada una de las nuevas psuedomuestras tiene el mismo número de elementos que la original. No todos los elementos de la muestra original tienen por qué aparecer en una pseudomuestra. Algunos elementos de la muestra orginal pueden aparecer repetidos en una pseudomuestra."
   ]
  },
  {
   "cell_type": "markdown",
   "metadata": {},
   "source": [
    "Crea una función que reciba un vector de números ‘x’ (la muestra original) y un número natural N, que genere una matriz que tenga N columnas siendo cada una de estas, una de las muestras de Bootstrap."
   ]
  },
  {
   "cell_type": "code",
   "execution_count": null,
   "metadata": {},
   "outputs": [],
   "source": [
    "#Escribe la funcion Funcion"
   ]
  },
  {
   "cell_type": "markdown",
   "metadata": {},
   "source": [
    "Calcular (para N=1000):\n",
    "\n",
    "■ La media y la desviación estándar de la media y compararlas con la obtenida anteriormente."
   ]
  },
  {
   "cell_type": "code",
   "execution_count": null,
   "metadata": {},
   "outputs": [],
   "source": [
    "# Rellena"
   ]
  },
  {
   "cell_type": "markdown",
   "metadata": {},
   "source": [
    "### Jacknife\n",
    "Tecnica de remuestreo que consiste en generar pseudomuestras de modo que cada vez se quita un elemento de la muestra original. Las muestras por tanto tendras tamaño de N-1."
   ]
  },
  {
   "cell_type": "markdown",
   "metadata": {},
   "source": [
    "Crea una función que reciba un vector de números 'x' (la muestra original) y genere una matriz que contenga todas las muestras posibles de jacknife de la muestra original."
   ]
  },
  {
   "cell_type": "code",
   "execution_count": null,
   "metadata": {},
   "outputs": [],
   "source": [
    "#Escribe la funcion Funcion"
   ]
  },
  {
   "cell_type": "markdown",
   "metadata": {},
   "source": [
    "Calcula:\n",
    "\n",
    "■ La media y la desviación estándar de la media y compararlas con la obtenida anteriormente."
   ]
  },
  {
   "cell_type": "code",
   "execution_count": null,
   "metadata": {},
   "outputs": [],
   "source": [
    "# Rellena"
   ]
  }
 ],
 "metadata": {
  "kernelspec": {
   "display_name": "R",
   "language": "R",
   "name": "ir"
  },
  "language_info": {
   "codemirror_mode": "r",
   "file_extension": ".r",
   "mimetype": "text/x-r-source",
   "name": "R",
   "pygments_lexer": "r",
   "version": "3.4.4"
  }
 },
 "nbformat": 4,
 "nbformat_minor": 2
}
