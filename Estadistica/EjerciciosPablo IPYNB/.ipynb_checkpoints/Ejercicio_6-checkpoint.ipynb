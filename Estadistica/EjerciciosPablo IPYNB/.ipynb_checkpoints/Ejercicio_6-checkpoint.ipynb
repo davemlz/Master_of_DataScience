{
 "cells": [
  {
   "cell_type": "markdown",
   "metadata": {},
   "source": [
    "# Ejercicio 6\n",
    "\n",
    "## David Montero Loaiza\n",
    "\n",
    "### Problema 1\n",
    "\n",
    "Crea una función a la que se pase como input: un vector “x” de features distribuidos uniformemente, unos valores “a” y “b” parámetros de un modelo lineal “y = a + bx”, y parámetros “m” y “n” que nos den la sigma de una distribución gaussiana: “sigma = m + n x^2”. La función debe devolver una matriz que contenga en la primera columna un vector con el término independiente “y = a + bx + gauss(0, sigma = m + n x^2)”, y en la segunda columna la “sigma = m + n * x^2”. Nota: Este ejercicio es igual al que ya realizamos, salvo porque ahora la sigma del término estocástico depende de cada punto."
   ]
  },
  {
   "cell_type": "code",
   "execution_count": 1,
   "metadata": {},
   "outputs": [],
   "source": [
    " \n",
    "generate_y_sigmas = function(x,a,b,m,n){\n",
    "  \n",
    "  # SIGMA\n",
    "  sigma = m + n * x^2\n",
    "  \n",
    "  # GAUSSIANA\n",
    "  y = a + b * x + rnorm(x,0,sigma)\n",
    "  \n",
    "  # DATA FRAME\n",
    "  df = data.frame(\"y\" = y,\"sigma\" = sigma)\n",
    "  \n",
    "  # RETORNAR DATA FRAME\n",
    "  return(df)\n",
    "  \n",
    "}\n",
    " "
   ]
  },
  {
   "cell_type": "markdown",
   "metadata": {},
   "source": [
    "### Problema 2\n",
    "\n",
    "Crea una función que encuentre el valor de los parámetros que hace máximo el ML usando la fórmula análitica."
   ]
  },
  {
   "cell_type": "code",
   "execution_count": 2,
   "metadata": {},
   "outputs": [],
   "source": [
    "  \n",
    "maxLike = function(x,y,sigma){\n",
    "  \n",
    "  # TAMANO DE X\n",
    "  N = length(x)\n",
    "  \n",
    "  # CREAR MATRIZ X\n",
    "  X = cbind(rep(1,N),x)\n",
    "  \n",
    "  # COVARIANZA Y\n",
    "  covY = diag(sigma^2)\n",
    "  \n",
    "  # MINIMIZAR ML\n",
    "  param = solve(t(X) %*% solve(covY) %*% X) %*% (t(X) %*% solve(covY)) %*% y\n",
    "  \n",
    "  # RETORNAR PARAMETROS\n",
    "  return(param)\n",
    "  \n",
    "}\n",
    " "
   ]
  },
  {
   "cell_type": "markdown",
   "metadata": {},
   "source": [
    "### Problema 3\n",
    "\n",
    "Crea un vector x distribuido uniformemente en [0, 10], y encuentra el mínimo para a = 1, b = 2, m = 0.1 y n = 0.04. Pinta los datos, sus errores y la recta de ajuste. "
   ]
  },
  {
   "cell_type": "code",
   "execution_count": 3,
   "metadata": {},
   "outputs": [
    {
     "data": {
      "image/png": "[encoded data removed]",
      "text/plain": [
       "plot without title"
      ]
     },
     "metadata": {
      "image/png": {
       "height": 420,
       "width": 420
      }
     },
     "output_type": "display_data"
    }
   ],
   "source": [
    "  \n",
    "# VECTOR X\n",
    "x = runif(10,0,10)\n",
    "\n",
    "# PARAMETROS\n",
    "a = 1\n",
    "b = 2\n",
    "m = 0.1\n",
    "n = 0.04\n",
    "\n",
    "# VECTOR Y Y SIGMA\n",
    "df = generate_y_sigmas(x,a,b,m,n)\n",
    "\n",
    "y = df$y\n",
    "sig = df$sigma\n",
    "\n",
    "# PARAMETROS\n",
    "theta = maxLike(x,y,sig)\n",
    "\n",
    "# GRAFICA X Y\n",
    "plot(x,y,ylim = c(min(y - sig),max(y + sig)))\n",
    "\n",
    "# RECTA DE AJUSTE\n",
    "abline(theta[1],theta[2],col = \"red\")\n",
    "\n",
    "# ERRORES\n",
    "arrows(x,y - sig,x,y + sig,length = 0.05,angle = 90,code = 3)\n",
    " "
   ]
  },
  {
   "cell_type": "markdown",
   "metadata": {},
   "source": [
    "### Problema 4\n",
    "\n",
    "Genera un vector con 10000 números distribuidos exponencialmente con un valor de rate = 1/5.27. Crea un histograma con este vector usando como rango [0, 30] y con una anchura de bin = 1."
   ]
  },
  {
   "cell_type": "code",
   "execution_count": 4,
   "metadata": {},
   "outputs": [
    {
     "data": {
      "image/png": "[encoded data removed]",
      "text/plain": [
       "Plot with title \"Histogram of vec\""
      ]
     },
     "metadata": {
      "image/png": {
       "height": 420,
       "width": 420
      }
     },
     "output_type": "display_data"
    }
   ],
   "source": [
    "  \n",
    "# VECTOR DE 10000 NUMEROS DISTRIBUIDOS EXPONENCIALMENTE\n",
    "N = 10000\n",
    "rate = 1/5.27\n",
    "vec = rexp(N,rate)\n",
    "\n",
    "# VALORES DEL HISTOGRAMA\n",
    "h = hist(vec,breaks = 0:ceiling(max(vec)),xlim = c(1,30))$counts[1:30]\n",
    " "
   ]
  },
  {
   "cell_type": "markdown",
   "metadata": {},
   "source": [
    "### Problema 5\n",
    "\n",
    "Escribe una función que tome como input el valor “N” y “lambda” de una exponencial: “N * exp(-t/lambda)”, y calcula el “l” asociado al valor del likelihood para este modelo y este histograma."
   ]
  },
  {
   "cell_type": "code",
   "execution_count": 5,
   "metadata": {},
   "outputs": [],
   "source": [
    "  \n",
    "l = function(N,lambda){\n",
    "  \n",
    "  # t\n",
    "  t = 0:29\n",
    "  \n",
    "  # RETORNAR L\n",
    "  return(-sum(dpois(h,N * exp(-t/lambda),log = TRUE)))\n",
    "  \n",
    "}\n",
    " "
   ]
  },
  {
   "cell_type": "markdown",
   "metadata": {},
   "source": [
    "### Problema 6\n",
    "\n",
    "Utiliza la función mle para hallar los valores de “N” y “lambda” que maximizan el likelihood. Usa como valores iniciales 4000 y 4. Pinta el histograma y la función exponencial ajustada.  "
   ]
  },
  {
   "cell_type": "code",
   "execution_count": 6,
   "metadata": {},
   "outputs": [
    {
     "name": "stderr",
     "output_type": "stream",
     "text": [
      "Loading required package: stats4\n",
      "\n"
     ]
    }
   ],
   "source": [
    "  \n",
    "require(stats4)\n",
    " "
   ]
  },
  {
   "cell_type": "code",
   "execution_count": 7,
   "metadata": {},
   "outputs": [
    {
     "data": {
      "text/html": [
       "'N = 2160.99071678493'"
      ],
      "text/latex": [
       "'N = 2160.99071678493'"
      ],
      "text/markdown": [
       "'N = 2160.99071678493'"
      ],
      "text/plain": [
       "[1] \"N = 2160.99071678493\""
      ]
     },
     "metadata": {},
     "output_type": "display_data"
    },
    {
     "data": {
      "text/html": [
       "'Lambda = 4.64550997705565'"
      ],
      "text/latex": [
       "'Lambda = 4.64550997705565'"
      ],
      "text/markdown": [
       "'Lambda = 4.64550997705565'"
      ],
      "text/plain": [
       "[1] \"Lambda = 4.64550997705565\""
      ]
     },
     "metadata": {},
     "output_type": "display_data"
    },
    {
     "data": {
      "image/png": "[encoded data removed]",
      "text/plain": [
       "Plot with title \"Histogram of vec\""
      ]
     },
     "metadata": {
      "image/png": {
       "height": 420,
       "width": 420
      }
     },
     "output_type": "display_data"
    }
   ],
   "source": [
    "  \n",
    "# ESTIMACION DE PARAMETROS POR MAXIMA VEROSIMILITUD\n",
    "mlModel = mle(l,start = list(N = 4000,lambda = 4),nobs = NROW(h))\n",
    "\n",
    "# PARAMETROS N Y LAMBDA\n",
    "N = mlModel@coef[1]\n",
    "lambda = mlModel@coef[2]\n",
    "\n",
    "# IMPRIMIR VALORES DE N Y LAMBDA\n",
    "paste(\"N =\",N)\n",
    "paste(\"Lambda =\",lambda)\n",
    "\n",
    "# HISTOGRAMA\n",
    "hist(vec,breaks = 0:ceiling(max(vec)),xlim = c(1,30))\n",
    "\n",
    "# EXPONENCIAL AJUSTADA\n",
    "curve(N * exp(-x/lambda),add = TRUE,col = \"red\")\n",
    " "
   ]
  },
  {
   "cell_type": "markdown",
   "metadata": {},
   "source": [
    "En la gráfica anterior se observa cómo el ajuste de la función exponencial utilizando los parámetros N y lambda que maximizan el likelihood se ajustan adecuadamente al histograma."
   ]
  }
 ],
 "metadata": {
  "kernelspec": {
   "display_name": "R",
   "language": "R",
   "name": "ir"
  },
  "language_info": {
   "codemirror_mode": "r",
   "file_extension": ".r",
   "mimetype": "text/x-r-source",
   "name": "R",
   "pygments_lexer": "r",
   "version": "3.6.1"
  }
 },
 "nbformat": 4,
 "nbformat_minor": 4
}
