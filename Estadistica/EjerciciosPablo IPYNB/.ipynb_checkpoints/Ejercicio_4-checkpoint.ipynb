{
 "cells": [
  {
   "cell_type": "markdown",
   "metadata": {},
   "source": [
    "# Ejercicio 4\n",
    "\n",
    "## David Montero Loaiza\n",
    "\n",
    "### Problema 1\n",
    "\n",
    "Crea una función que genere dos muestras que se distribuyen según dos gaussianas distintas. La función recibirá como valores de entrada: el número N de puntos a generar para cada categoría, y mu1, sigma1, mu2, sigma2 que son los correspondientes parámetros de las dos gaussianas. Como output devolverá un valor con longitud 2N que contenga la muestra x generada, y otro vector de longitud 2N que contenga 0 o 1 en función de la categoría asociada a ese elemento."
   ]
  },
  {
   "cell_type": "code",
   "execution_count": 1,
   "metadata": {},
   "outputs": [],
   "source": [
    " \n",
    "generate_samples = function(N,mu1,sigma1,mu2,sigma2){\n",
    "  \n",
    "  # GAUSIANAS\n",
    "  x1 = rnorm(N,mu1,sigma1)\n",
    "  x2 = rnorm(N,mu2,sigma2)\n",
    "  x = c(x1,x2)\n",
    "  \n",
    "  # OUTPUTS 1 Y 0\n",
    "  y1 = rep(0,N)\n",
    "  y2 = rep(1,N)\n",
    "  y = c(y1,y2)\n",
    "  \n",
    "  # GUARDAR EN DATA FRAME\n",
    "  df = data.frame(x,y)\n",
    "  \n",
    "  return(df)\n",
    "  \n",
    "}\n",
    " "
   ]
  },
  {
   "cell_type": "markdown",
   "metadata": {},
   "source": [
    "### Problema 2\n",
    "\n",
    "Crea una función que calcule el valor de la sigmoide para un valor de entrada Z."
   ]
  },
  {
   "cell_type": "code",
   "execution_count": 2,
   "metadata": {},
   "outputs": [],
   "source": [
    " \n",
    "sigmoid = function(Z){\n",
    "  \n",
    "  # RETORNAR VALOR DE SIGMOIDE\n",
    "  return(1/(1 + exp(-Z)) )\n",
    "  \n",
    "}\n",
    " "
   ]
  },
  {
   "cell_type": "markdown",
   "metadata": {},
   "source": [
    "### Problema 3\n",
    "\n",
    "Crea una función que calcule el valor de la función de Loss y que reciba como entrada \"x\" e \"y\" y los parámetros del modelo que vamos a asumir: z = a + b x (es decir, a y b)."
   ]
  },
  {
   "cell_type": "code",
   "execution_count": 3,
   "metadata": {},
   "outputs": [],
   "source": [
    " \n",
    "loss = function(x,y,a,b){\n",
    "  \n",
    "  # VALOR Z PARA SIGMOIDE\n",
    "  Z = a + b*x\n",
    "  \n",
    "  # CALCULAR SIGMOIDE\n",
    "  s = sigmoid(Z)\n",
    "  \n",
    "  # CALCULAR VALOR DE LOSS\n",
    "  loss = -sum(y * log(s) + (1 - y) * log(1 - s))/length(x)\n",
    "  \n",
    "  # RETORNAR LOSS\n",
    "  return(loss)\n",
    "  \n",
    "}\n",
    " "
   ]
  },
  {
   "cell_type": "markdown",
   "metadata": {},
   "source": [
    "### Problema 4\n",
    "\n",
    "Crea una función que devuelva el gradiente de la función de Loss y que reciba como entrada \"x\" e \"y\" y los parámetros (a, b) del modelo que vamos a asumir."
   ]
  },
  {
   "cell_type": "code",
   "execution_count": 4,
   "metadata": {},
   "outputs": [],
   "source": [
    " \n",
    "# FUNCION DE GRADIENTE PARA UN POLINOMIO DE GRADO 1\n",
    "gradient = function(x,y,a,b){\n",
    "  \n",
    "  # TAMANO DE X\n",
    "  N = length(x)\n",
    "  \n",
    "  # SIGMOIDE\n",
    "  s = sigmoid(a + b*x)\n",
    "  \n",
    "  # GRADOS DEL POLINOMIO\n",
    "  g = 0:1\n",
    "  \n",
    "  # FUNCION PARA CALCULAR EL GRADIENTE SEGUN EL GRADO DEL POLINOMIO\n",
    "  f = function(g) -sum((s - y) * -(x^g))/N\n",
    "  \n",
    "  # CALCULAR EL GRADIENTE SEGUN EL GRADO DEL POLINOMIO\n",
    "  grad = sapply(g,f)\n",
    "  \n",
    "  return(grad)\n",
    "  \n",
    "}\n",
    " "
   ]
  },
  {
   "cell_type": "markdown",
   "metadata": {},
   "source": [
    "### Problema 5\n",
    "\n",
    "Generar un par de vectores \"x\", \"y\" con N = 100, mu1 = 2, mu2 = 6, sigma1 = 1 y sigma2 = 1."
   ]
  },
  {
   "cell_type": "code",
   "execution_count": 5,
   "metadata": {},
   "outputs": [],
   "source": [
    " \n",
    "N = 100\n",
    "mu1 = 2\n",
    "mu2 = 6\n",
    "sigma1 = 1\n",
    "sigma2 = 1\n",
    "\n",
    "xy = generate_samples(N,mu1,sigma1,mu2,sigma2)\n",
    "\n",
    "x = xy$x\n",
    "y = xy$y\n",
    " "
   ]
  },
  {
   "cell_type": "markdown",
   "metadata": {},
   "source": [
    "### Problema 6\n",
    "\n",
    "Calcular la función de coste y el gradiente para (a = 0, b = 0). Actualizar los valores de a y b de manera que (a, b)_nuevos = (a, b)_viejos + lambda * gradiente. Repite 3 o 4 cuatro veces y observa los valores de la función de coste. Intenta encontrar el mínimo aproximadadamente. Interpreta los resultados."
   ]
  },
  {
   "cell_type": "code",
   "execution_count": 6,
   "metadata": {},
   "outputs": [
    {
     "data": {
      "image/png": "[encoded data removed]",
      "text/plain": [
       "Plot with title \"Sigmoide\""
      ]
     },
     "metadata": {
      "image/png": {
       "height": 420,
       "width": 420
      }
     },
     "output_type": "display_data"
    }
   ],
   "source": [
    " \n",
    "# VALORES INICIALES DE LOS PARAMETROS DE ALPHA\n",
    "a = 0\n",
    "b = 0\n",
    "\n",
    "# PRUEBA COM LAMBDA DE -1 Y 4 ITERACIONES\n",
    "lambda = -1\n",
    "iterations = 4\n",
    "\n",
    "# FUNCION PARA APROXIMAR MINIMO DE LOSS\n",
    "get_alpha_loss = function(x,y,a,b,lambda,iterations){\n",
    "  \n",
    "  # VECTOR PARA GUARDAR VALORES DE LOSS POR CADA ITERACION\n",
    "  loss_vector = NULL\n",
    "\n",
    "  # ITERACIONES PARA ACTUALIZAR ALPHA\n",
    "  for(i in 1:iterations){\n",
    "  \n",
    "    # GUARDAR VALORES DE LOSS\n",
    "    loss_vector = c(loss_vector,loss(x,y,a,b))\n",
    "    \n",
    "    # CALCULAR GRADIENTE\n",
    "    grad = gradient(x,y,a,b)\n",
    "    \n",
    "    # ACTUALIZAR ALPHA\n",
    "    a = a + lambda * grad[1]\n",
    "    b = b + lambda * grad[2]\n",
    "  \n",
    "  }\n",
    "  \n",
    "  # GUARDAR EN LISTA PARA RETORNAR\n",
    "  l = list(\"a\" = a,\n",
    "           \"b\" = b,\n",
    "           \"loss\" = loss_vector[length(loss_vector)],\n",
    "           \"loss_vector\" = loss_vector,\n",
    "           \"iterations\" = iterations)\n",
    "  \n",
    "  return(l)\n",
    "  \n",
    "}\n",
    "\n",
    "# APROXIMA MINIMO DE LOSS PARA LAMBDA -1 Y 4 ITERACIONES\n",
    "al = get_alpha_loss(x,y,a,b,lambda,iterations)\n",
    "\n",
    "# PLOT EN DOS COLUMNAS\n",
    "par(mfrow = c(1,2))\n",
    "\n",
    "# PLOT DE VALOR DE LOSS EN FUNCION DE LAS ITERACIONES\n",
    "plot(1:al$iterations,al$loss_vector,main = \"Valor de loss (lambda = -1)\",xlab = \"Iteraciones\",ylab = \"Loss\")\n",
    "  \n",
    "# PLOT DE LOS PUNTOS Y LA SIGMOIDE AJUSTADA\n",
    "plot(x,y,main = \"Sigmoide\")\n",
    "curve(sigmoid(al$a + al$b*x),add = TRUE,col = \"red\")\n",
    " "
   ]
  },
  {
   "cell_type": "markdown",
   "metadata": {},
   "source": [
    "Usando un valor de lambda = -1 se puede apreciar que el valor de la función de coste da saltos muy grandes, fluctuando entre menores y mayores valores de loss y la sigmoide no se ajusta correctamente a los datos después de 4 iteraciones. En el siguiente código se procede a usar un lambda = -0.5 y un total de 50 iteraciones."
   ]
  },
  {
   "cell_type": "code",
   "execution_count": 7,
   "metadata": {},
   "outputs": [
    {
     "data": {
      "image/png": "[encoded data removed]",
      "text/plain": [
       "Plot with title \"Sigmoide\""
      ]
     },
     "metadata": {
      "image/png": {
       "height": 420,
       "width": 420
      }
     },
     "output_type": "display_data"
    }
   ],
   "source": [
    " \n",
    "# PRUEBA COM LAMBDA DE -0.5 Y 50 ITERACIONES\n",
    "lambda = -0.5\n",
    "iterations = 50\n",
    "\n",
    "# APROXIMA MINIMO DE LOSS PARA LAMBDA -0.5 Y 50 ITERACIONES\n",
    "al = get_alpha_loss(x,y,a,b,lambda,iterations)\n",
    "\n",
    "# PLOT EN DOS COLUMNAS\n",
    "par(mfrow = c(1,2))\n",
    "\n",
    "# PLOT DE VALOR DE LOSS EN FUNCION DE LAS ITERACIONES\n",
    "plot(1:al$iterations,al$loss_vector,main = \"Valor de loss (lambda = -0.5)\",xlab = \"Iteraciones\",ylab = \"Loss\")\n",
    "\n",
    "# PLOT DE LOS PUNTOS Y LA SIGMOIDE AJUSTADA\n",
    "plot(x,y,main = \"Sigmoide\")\n",
    "curve(sigmoid(al$a + al$b*x),add = TRUE,col = \"red\")\n",
    " "
   ]
  },
  {
   "cell_type": "markdown",
   "metadata": {},
   "source": [
    "Con un valor de lambda = -0.5 y un total de 50 iteraciones el valor de la función de coste empieza a disminuir sin fluctuaciones entre mayores y menores valores de loss, sin embargo, la sigmoide aún no se ajusta correctamente a los datos. En el siguiente código se aumentará el número de iteraciones a 200"
   ]
  },
  {
   "cell_type": "code",
   "execution_count": 8,
   "metadata": {},
   "outputs": [
    {
     "data": {
      "image/png": "[encoded data removed]",
      "text/plain": [
       "Plot with title \"Sigmoide\""
      ]
     },
     "metadata": {
      "image/png": {
       "height": 420,
       "width": 420
      }
     },
     "output_type": "display_data"
    }
   ],
   "source": [
    " \n",
    "# PRUEBA COM LAMBDA DE -0.5 Y 1000 ITERACIONES\n",
    "lambda = -0.5\n",
    "iterations = 200\n",
    "\n",
    "# APROXIMA MINIMO DE LOSS PARA LAMBDA -0.5 Y 200 ITERACIONES\n",
    "al = get_alpha_loss(x,y,a,b,lambda,iterations)\n",
    "\n",
    "# PLOT EN DOS COLUMNAS\n",
    "par(mfrow = c(1,2))\n",
    "\n",
    "# PLOT DE VALOR DE LOSS EN FUNCION DE LAS ITERACIONES\n",
    "plot(1:al$iterations,al$loss_vector,main = \"Valor de loss (lambda = -0.5)\",xlab = \"Iteraciones\",ylab = \"Loss\")\n",
    "\n",
    "# PLOT DE LOS PUNTOS Y LA SIGMOIDE AJUSTADA\n",
    "plot(x,y,main = \"Sigmoide\")\n",
    "curve(sigmoid(al$a + al$b*x),add = TRUE,col = \"red\")\n",
    " "
   ]
  },
  {
   "cell_type": "markdown",
   "metadata": {},
   "source": [
    "En el siguente código se hace una prueba en que se evalúan diferentes lambdas (-1,-0.75,-0.5,-0.25) con 200 iteraciones."
   ]
  },
  {
   "cell_type": "code",
   "execution_count": 9,
   "metadata": {},
   "outputs": [
    {
     "data": {
      "image/png": "[encoded data removed]",
      "text/plain": [
       "Plot with title \"Sigmoide\""
      ]
     },
     "metadata": {
      "image/png": {
       "height": 420,
       "width": 420
      }
     },
     "output_type": "display_data"
    }
   ],
   "source": [
    " \n",
    "# PRUEBA COM DIFERENTES LAMBDAS\n",
    "lambda = seq(-1,-0.25,0.25)\n",
    "iterations = 200\n",
    "\n",
    "# APROXIMA MINIMO DE LOSS PARA LOS DIFERENTES LAMBDAS EN 200 ITERACIONES\n",
    "al = lapply(lambda,get_alpha_loss,x = x,y = y,a = a,b = b,iterations = iterations)\n",
    "\n",
    "# PLOT EN DOS COLUMNAS\n",
    "par(mfrow = c(1,2))\n",
    "\n",
    "# PLOT DE VALOR DE LOSS EN FUNCION DE LAS ITERACIONES PAA DISTINTOS LAMBDAS\n",
    "plot(1:al[[1]]$iterations,\n",
    "     al[[1]]$loss_vector,\n",
    "     type = \"l\",\n",
    "     col = \"black\",\n",
    "     main = \"Valor de loss\",\n",
    "     xlab = \"Iteraciones\",\n",
    "     ylab = \"Loss\")\n",
    "\n",
    "lines(1:al[[2]]$iterations,al[[2]]$loss_vector,type = \"l\",col = \"red\")\n",
    "lines(1:al[[3]]$iterations,al[[3]]$loss_vector,type = \"l\",col = \"blue\")\n",
    "lines(1:al[[4]]$iterations,al[[4]]$loss_vector,type = \"l\",col = \"green\")\n",
    "\n",
    "legend(\"topright\",\n",
    "       legend = c(-1,-0.75,-0.5,-0.25),\n",
    "       col = c(\"black\",\"red\",\"blue\",\"green\"),\n",
    "       lwd = 1,\n",
    "       title = \"Lambda\")\n",
    "\n",
    "# PLOT DE LOS PUNTOS Y LA SIGMOIDE AJUSTADA\n",
    "plot(x,y,main = \"Sigmoide\")\n",
    "curve(sigmoid(al[[1]]$a + al[[1]]$b*x),add = TRUE,col = \"black\")\n",
    "curve(sigmoid(al[[2]]$a + al[[2]]$b*x),add = TRUE,col = \"red\")\n",
    "curve(sigmoid(al[[3]]$a + al[[3]]$b*x),add = TRUE,col = \"blue\")\n",
    "curve(sigmoid(al[[4]]$a + al[[4]]$b*x),add = TRUE,col = \"green\")\n",
    " "
   ]
  },
  {
   "cell_type": "markdown",
   "metadata": {},
   "source": [
    "Para este caso, con valores menores valores de lambda (-1) se alcanza más rápido un menor valor de loss que utilizando lambdas más altos (-0.25), aunque en las primeras iteraciones haya más fluctuaciones. Con 200 iteraciones se logra aproximar al mínimo valor de loss. Sin embargo, se acercará más aumentando el número de iteraciones."
   ]
  }
 ],
 "metadata": {
  "kernelspec": {
   "display_name": "R",
   "language": "R",
   "name": "ir"
  },
  "language_info": {
   "codemirror_mode": "r",
   "file_extension": ".r",
   "mimetype": "text/x-r-source",
   "name": "R",
   "pygments_lexer": "r",
   "version": "3.6.1"
  }
 },
 "nbformat": 4,
 "nbformat_minor": 4
}
