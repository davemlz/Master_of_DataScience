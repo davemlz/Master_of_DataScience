{
 "cells": [
  {
   "cell_type": "markdown",
   "metadata": {},
   "source": [
    "# Ejercicio 7\n",
    "\n",
    "## David Montero Loaiza\n",
    "\n",
    "### Problema 1\n",
    "\n",
    "Escribe una función que tenga como input un vector x con valores distribuidos uniformemente, y unos parámetros a, b, m y n; y que devuelva como output una matriz cuya primera columna sea y = a + b x más un término estocástico sacado de una gaussiana con sigma = c + d x^2; y la segunda columna el error sigma = m + n x^2. "
   ]
  },
  {
   "cell_type": "code",
   "execution_count": 1,
   "metadata": {},
   "outputs": [],
   "source": [
    " \n",
    "generate_y_sigmas = function(x,a,b,m,n){\n",
    "  \n",
    "  # SIGMA\n",
    "  sigma = m + n * x^2\n",
    "  \n",
    "  # GAUSSIANA\n",
    "  y = a + b * x + rnorm(x,0,sigma)\n",
    "  \n",
    "  # DATA FRAME\n",
    "  df = data.frame(\"y\" = y,\"sigma\" = sigma)\n",
    "  \n",
    "  # RETORNAR DATA FRAME\n",
    "  return(df)\n",
    "  \n",
    "}\n",
    " "
   ]
  },
  {
   "cell_type": "markdown",
   "metadata": {},
   "source": [
    "### Problema 2\n",
    "\n",
    "Escribe otra función que haga lo mismo que la anterior pero con un parámetro más “c” de tal forma que haga lo mismo pero con un modelo y = a + b x + c x^2."
   ]
  },
  {
   "cell_type": "code",
   "execution_count": 2,
   "metadata": {},
   "outputs": [],
   "source": [
    " \n",
    "generate_y_sigmas_v2 = function(x,a,b,c,m,n){\n",
    "  \n",
    "  # SIGMA\n",
    "  sigma = m + n * x^2\n",
    "  \n",
    "  # GAUSSIANA\n",
    "  y = a + b * x + c * x^2 + rnorm(x,0,sigma)\n",
    "  \n",
    "  # DATA FRAME\n",
    "  df = data.frame(\"y\" = y,\"sigma\" = sigma)\n",
    "  \n",
    "  # RETORNAR DATA FRAME\n",
    "  return(df)\n",
    "  \n",
    "}\n",
    " "
   ]
  },
  {
   "cell_type": "markdown",
   "metadata": {},
   "source": [
    "### Problema 3\n",
    "\n",
    "Usando como valores a = 1, b = 2, m = 0.1 y n = 0.04 para el modelo de la primera función: calcula los parámetros para las que el likelihood es máximo asumiendo un modelo con dos parámetros y = a + b x. Calcula el valor del chi2 y calcula el nivel de confianza con el que rechazaríamos este ajuste. "
   ]
  },
  {
   "cell_type": "code",
   "execution_count": 3,
   "metadata": {},
   "outputs": [],
   "source": [
    " \n",
    "generate_X = function(x,gpoly){\n",
    "  \n",
    "  # LA MATRIZ SE INICIA CON 1S\n",
    "  X = rep(1,length(x))\n",
    "  \n",
    "  # SE AGREGAN LOS VALORES DE X ELEVADOS A CADA GRADO\n",
    "  for(i in 1:gpoly){\n",
    "    \n",
    "    # SE ADJUNTAN LOS VALORES A LA MATRIZ\n",
    "    X = cbind(X,x^i)\n",
    "    \n",
    "  }\n",
    "  \n",
    "  # SE RETORNA LA MATRIZ\n",
    "  return(X)\n",
    "  \n",
    "}\n",
    "\n",
    "maxLike = function(x,y,sigma,gpoly){\n",
    "  \n",
    "  # CREAR MATRIZ X\n",
    "  X = generate_X(x,gpoly)\n",
    "  \n",
    "  # COVARIANZA Y\n",
    "  covY = diag(sigma^2)\n",
    "  \n",
    "  # MINIMIZAR ML\n",
    "  param = solve(t(X) %*% solve(covY) %*% X) %*% (t(X) %*% solve(covY)) %*% y\n",
    "  \n",
    "  # RETORNAR PARAMETROS\n",
    "  return(param)\n",
    "  \n",
    "}\n",
    "\n",
    "chiSquared = function(x,theta,y,sigma,gpoly){\n",
    "  \n",
    "  # CREAR MATRIZ X\n",
    "  X = generate_X(x,gpoly)\n",
    "  \n",
    "  # CALCULAR Z\n",
    "  Z = (y - X %*% theta) / sigma\n",
    "  \n",
    "  # RETORNAR CHI2\n",
    "  return(sum(Z^2))\n",
    "  \n",
    "}\n",
    " "
   ]
  },
  {
   "cell_type": "code",
   "execution_count": 4,
   "metadata": {},
   "outputs": [
    {
     "data": {
      "text/html": [
       "'Chi2 = 95.441998, Rechazamos H0 con un 44.568044% de confianza'"
      ],
      "text/latex": [
       "'Chi2 = 95.441998, Rechazamos H0 con un 44.568044\\% de confianza'"
      ],
      "text/markdown": [
       "'Chi2 = 95.441998, Rechazamos H0 con un 44.568044% de confianza'"
      ],
      "text/plain": [
       "[1] \"Chi2 = 95.441998, Rechazamos H0 con un 44.568044% de confianza\""
      ]
     },
     "metadata": {},
     "output_type": "display_data"
    },
    {
     "data": {
      "image/png": "[encoded data removed]",
      "text/plain": [
       "plot without title"
      ]
     },
     "metadata": {
      "image/png": {
       "height": 420,
       "width": 420
      }
     },
     "output_type": "display_data"
    }
   ],
   "source": [
    " \n",
    "# TAMANO DE X\n",
    "N = 100\n",
    "\n",
    "# VECTOR X\n",
    "x = runif(N,0,10)\n",
    "\n",
    "# PARAMETROS\n",
    "a = 1\n",
    "b = 2\n",
    "m = 0.1\n",
    "n = 0.04\n",
    "\n",
    "# GRADO DEL POLINOMIO\n",
    "g = 1\n",
    "\n",
    "# NUMERO DE PARAMETROS\n",
    "M = g + 1\n",
    "\n",
    "# VECTOR Y Y SIGMA\n",
    "df = generate_y_sigmas(x,a,b,m,n)\n",
    "y = df$y\n",
    "sig = df$sigma\n",
    "\n",
    "# PARAMETROS\n",
    "theta = maxLike(x,y,sig,gpoly = g)\n",
    "\n",
    "# GRAFICA X Y\n",
    "plot(x,y,ylim = c(min(y - sig),max(y + sig)))\n",
    "abline(theta[1],theta[2],col = \"red\") # RECTA DE AJUSTE\n",
    "arrows(x,y - sig,x,y + sig,length = 0.05,angle = 90,code = 3) # ERRORES\n",
    "\n",
    "# CHI2\n",
    "chi2 = chiSquared(x,theta,y,sig,g)\n",
    "\n",
    "# CONFIDENCE LEVEL\n",
    "cl = pchisq(chi2,N - M) * 100\n",
    "\n",
    "# RESPUESTA\n",
    "sprintf(\"Chi2 = %f, Rechazamos H0 con un %f%% de confianza\",chi2,cl)\n",
    " "
   ]
  },
  {
   "cell_type": "markdown",
   "metadata": {},
   "source": [
    "### Problema 4\n",
    "\n",
    "Repite el paso anterior con el mismo modelo pero usando la segunda función. c = 0.01."
   ]
  },
  {
   "cell_type": "code",
   "execution_count": 5,
   "metadata": {},
   "outputs": [
    {
     "data": {
      "text/html": [
       "'Chi2 = 126.781732, Rechazamos H0 con un 97.318813% de confianza'"
      ],
      "text/latex": [
       "'Chi2 = 126.781732, Rechazamos H0 con un 97.318813\\% de confianza'"
      ],
      "text/markdown": [
       "'Chi2 = 126.781732, Rechazamos H0 con un 97.318813% de confianza'"
      ],
      "text/plain": [
       "[1] \"Chi2 = 126.781732, Rechazamos H0 con un 97.318813% de confianza\""
      ]
     },
     "metadata": {},
     "output_type": "display_data"
    },
    {
     "data": {
      "image/png": "[encoded data removed]",
      "text/plain": [
       "plot without title"
      ]
     },
     "metadata": {
      "image/png": {
       "height": 420,
       "width": 420
      }
     },
     "output_type": "display_data"
    }
   ],
   "source": [
    " \n",
    "# TAMANO DE X\n",
    "N = 100\n",
    "\n",
    "# VECTOR X\n",
    "x = runif(N,0,10)\n",
    "\n",
    "# PARAMETROS\n",
    "a = 1\n",
    "b = 2\n",
    "c = 0.01\n",
    "m = 0.1\n",
    "n = 0.04\n",
    "\n",
    "# GRADO DEL POLINOMIO\n",
    "g = 1\n",
    "\n",
    "# NUMERO DE PARAMETROS\n",
    "M = g + 1\n",
    "\n",
    "# VECTOR Y Y SIGMA\n",
    "df = generate_y_sigmas_v2(x,a,b,c,m,n)\n",
    "y = df$y\n",
    "sig = df$sigma\n",
    "\n",
    "# PARAMETROS\n",
    "theta = maxLike(x,y,sig,gpoly = g)\n",
    "\n",
    "# GRAFICA X Y\n",
    "plot(x,y,ylim = c(min(y - sig),max(y + sig)))\n",
    "abline(theta[1],theta[2],col = \"red\") # RECTA DE AJUSTE\n",
    "arrows(x,y - sig,x,y + sig,length = 0.05,angle = 90,code = 3) # ERRORES\n",
    "\n",
    "# CHI2\n",
    "chi2 = chiSquared(x,theta,y,sig,g)\n",
    "\n",
    "# CONFIDENCE LEVEL\n",
    "cl = pchisq(chi2,N - M) * 100\n",
    "\n",
    "# RESPUESTA\n",
    "sprintf(\"Chi2 = %f, Rechazamos H0 con un %f%% de confianza\",chi2,cl)\n",
    " "
   ]
  },
  {
   "cell_type": "markdown",
   "metadata": {},
   "source": [
    "### Problema 5\n",
    "\n",
    "Usando la primera de las funciones anteriores con los valores dados en 3) calcula el valor del likelihood ratio “q” para un modelo con 2 y 3 parámetros. ¿Con qué confidence level podemos aceptar H0? Comenta el resultado: ¿qué modelo es mejor el primero o el segundo?."
   ]
  },
  {
   "cell_type": "code",
   "execution_count": 6,
   "metadata": {},
   "outputs": [
    {
     "data": {
      "text/html": [
       "'Chi2 = 126.781732, Aceptamos H0 con un 81.860974% de confianza'"
      ],
      "text/latex": [
       "'Chi2 = 126.781732, Aceptamos H0 con un 81.860974\\% de confianza'"
      ],
      "text/markdown": [
       "'Chi2 = 126.781732, Aceptamos H0 con un 81.860974% de confianza'"
      ],
      "text/plain": [
       "[1] \"Chi2 = 126.781732, Aceptamos H0 con un 81.860974% de confianza\""
      ]
     },
     "metadata": {},
     "output_type": "display_data"
    }
   ],
   "source": [
    " \n",
    "# TAMANO DE X\n",
    "N = 100\n",
    "\n",
    "# VECTOR X\n",
    "x = runif(N,0,10)\n",
    "\n",
    "# PARAMETROS\n",
    "a = 1\n",
    "b = 2\n",
    "c = 0.01\n",
    "m = 0.1\n",
    "n = 0.04\n",
    "\n",
    "# GRADO DEL POLINOMIO\n",
    "g = 1\n",
    "\n",
    "# NUMERO DE PARAMETROS\n",
    "M = g + 1\n",
    "\n",
    "# VECTOR Y Y SIGMA\n",
    "df = generate_y_sigmas_v2(x,a,b,c,m,n)\n",
    "y = df$y\n",
    "sig = df$sigma\n",
    "\n",
    "# CHI2 PARA POLINOMIO GRADO 1\n",
    "chi2poly1 = chiSquared(x,maxLike(x,y,sig,gpoly = 1),y,sig,gpoly = 1)\n",
    "\n",
    "# CHI2 PARA POLINOMIO GRADO 2\n",
    "chi2poly2 = chiSquared(x,maxLike(x,y,sig,gpoly = 2),y,sig,gpoly = 2)\n",
    "\n",
    "# q\n",
    "q = 2 * log(chi2poly1/chi2poly2)\n",
    "\n",
    "# CL\n",
    "cl = (1 - pchisq(q,1)) * 100\n",
    "\n",
    "# RESPUESTA\n",
    "sprintf(\"Chi2 = %f, Aceptamos H0 con un %f%% de confianza\",chi2,cl)\n",
    " "
   ]
  }
 ],
 "metadata": {
  "kernelspec": {
   "display_name": "R",
   "language": "R",
   "name": "ir"
  },
  "language_info": {
   "codemirror_mode": "r",
   "file_extension": ".r",
   "mimetype": "text/x-r-source",
   "name": "R",
   "pygments_lexer": "r",
   "version": "3.6.1"
  }
 },
 "nbformat": 4,
 "nbformat_minor": 4
}
