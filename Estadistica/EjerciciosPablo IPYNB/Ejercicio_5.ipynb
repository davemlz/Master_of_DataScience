{
 "cells": [
  {
   "cell_type": "markdown",
   "metadata": {},
   "source": [
    "# Ejercicio 5\n",
    "\n",
    "## David Montero Loaiza\n",
    "\n",
    "### Problema 1\n",
    "\n",
    "Crea una función a la que se le pase como input: la media en el eje x, la media en el eje y, la varianza en el eje x, la varianza en el eje y y la covarianza de x e y, junto con un n?mero de puntos N, y devuelva una matriz con N filas y 2 columnas con los números que salen de la distribución gaussiana de dos dimensiones definidas por los valores de input (usar la función MASS::mvrnorm)"
   ]
  },
  {
   "cell_type": "code",
   "execution_count": 1,
   "metadata": {},
   "outputs": [
    {
     "name": "stderr",
     "output_type": "stream",
     "text": [
      "Loading required package: MASS\n",
      "\n"
     ]
    }
   ],
   "source": [
    " \n",
    "# PAQUETE REQUERIDO\n",
    "require(MASS)\n",
    " "
   ]
  },
  {
   "cell_type": "code",
   "execution_count": 2,
   "metadata": {},
   "outputs": [],
   "source": [
    " \n",
    "generate_matrix = function(N,meanX,meanY,varX,varY,covXY){\n",
    "  \n",
    "  # MATRIZ DE COVARIANZA\n",
    "  Sigma = matrix(c(meanX,covXY,covXY,meanY),byrow = TRUE,ncol = 2)\n",
    "  \n",
    "  # MEDIAS\n",
    "  mu = c(meanX,meanY)\n",
    "  \n",
    "  # MATRIZ DE DOS DIMENSIONES CON DISTRIBUCIONES GAUSSIANAS SEGUN PARAMETROS\n",
    "  mat = mvrnorm(N,mu,Sigma)\n",
    "  \n",
    "  return(mat)\n",
    "  \n",
    "}\n",
    " "
   ]
  },
  {
   "cell_type": "markdown",
   "metadata": {},
   "source": [
    "### Problema 2\n",
    "\n",
    "Genera una matrix x1 usando la función anterior y tomando: N = 1000, mu_x = 2, mu_y = 4, var_x = var_y = 1, y Cov(x,y) = 0.3. Crea una matriz \"y1\" con tantas filas como la matriz x y asignale el valor 0. "
   ]
  },
  {
   "cell_type": "code",
   "execution_count": 3,
   "metadata": {},
   "outputs": [],
   "source": [
    " \n",
    "# PARAMETROS PARA UNA MATRIZ CUYO VALOR DE Y CORRESPONDE A 0\n",
    "N = 1000\n",
    "mu_x = 2\n",
    "mu_y = 4\n",
    "var_x = 1\n",
    "var_y = var_x\n",
    "covXY = 0.3\n",
    "\n",
    "x1 = generate_matrix(N,mu_x,mu_y,var_x,var_y,covXY)\n",
    "\n",
    "# VALOR DE Y PARA LA MATRIZ\n",
    "y1 = rep(0,nrow(x1))\n",
    " "
   ]
  },
  {
   "cell_type": "markdown",
   "metadata": {},
   "source": [
    "### Problema 3\n",
    "\n",
    "Repite 2) para otra muestra con N = 1000, mu_x = 6, mu_y = 3, var_x = var_y = 1, y Cov(x,y) = 0.3. Crea una matriz \"y2\" con tantas filas como la matriz x2 y asignale el valor 1."
   ]
  },
  {
   "cell_type": "code",
   "execution_count": 4,
   "metadata": {},
   "outputs": [],
   "source": [
    " \n",
    "# PARAMETROS PARA UNA MATRIZ CUYO VALOR DE Y CORRESPONDE A 0\n",
    "N = 1000\n",
    "mu_x = 6\n",
    "mu_y = 3\n",
    "var_x = 1\n",
    "var_y = var_x\n",
    "covXY = 0.3\n",
    "\n",
    "x2 = generate_matrix(N,mu_x,mu_y,var_x,var_y,covXY)\n",
    "\n",
    "# VALOR DE Y PARA LA MATRIZ\n",
    "y2 = rep(1,nrow(x2))\n",
    " "
   ]
  },
  {
   "cell_type": "markdown",
   "metadata": {},
   "source": [
    "### Problema 4\n",
    "\n",
    "Junta las matrices x1, x2, y y1, y2 en una sola matriz x y una sola matriz y."
   ]
  },
  {
   "cell_type": "code",
   "execution_count": 5,
   "metadata": {},
   "outputs": [],
   "source": [
    " \n",
    "# MATRIZ X\n",
    "x = rbind(x1,x2)\n",
    "\n",
    "# VECTOR Y\n",
    "y = c(y1,y2)\n",
    " "
   ]
  },
  {
   "cell_type": "markdown",
   "metadata": {},
   "source": [
    "### Problema 5\n",
    "\n",
    "Usando las funciones de coste y gradiente del ejercicio 5, utiliza optimo para un modelo en el que z = alpha_0 + alpha_1 x1 + alpha_2 x2, tomando como vector de par?metros inicial el (0, 0, 0). Calcula y pinta la frontera entre ambas distribuciones.\n",
    "\n",
    "En el siguiente código se definen las funciones a utilizar."
   ]
  },
  {
   "cell_type": "code",
   "execution_count": 6,
   "metadata": {},
   "outputs": [],
   "source": [
    " \n",
    "sigmoid = function(Z){\n",
    "  \n",
    "  # RETORNAR VALOR DE SIGMOIDE\n",
    "  return(1/(1 + exp(-Z)) )\n",
    "  \n",
    "}\n",
    "\n",
    "loss = function(alpha,x,y){\n",
    "  \n",
    "  # TAMANO DE X\n",
    "  N = nrow(x)\n",
    "  \n",
    "  # CREAR MATRIZ X\n",
    "  X = cbind(rep(1,N),x)\n",
    "  \n",
    "  # CALCULAR SIGMOIDE\n",
    "  s = sigmoid(alpha %*% t(X))\n",
    "  \n",
    "  # CALCULAR VALOR DE LOSS\n",
    "  loss = -sum(y * log(s) + (1 - y) * log(1 - s))/N\n",
    "  \n",
    "  # RETORNAR LOSS\n",
    "  return(loss)\n",
    "  \n",
    "}\n",
    "\n",
    "gradient = function(alpha,x,y){\n",
    "  \n",
    "  # TAMANO DE X (FILAS)\n",
    "  N = nrow(x)\n",
    "  \n",
    "  # CREAR MATRIZ X\n",
    "  X = cbind(rep(1,N),x)\n",
    "  \n",
    "  # SIGMOIDE\n",
    "  s = sigmoid(alpha %*% t(X))\n",
    "  \n",
    "  # DIMENSIONES DE LA MATRIZ X + 1\n",
    "  g = 1:length(alpha)\n",
    "  \n",
    "  # FUNCION PARA CALCULAR EL GRADIENTE SEGUN LAS DIMENSIONES DE LA MATRIZ + 1\n",
    "  f = function(i) -sum((s - y) * -(X[,i]))/N\n",
    "  \n",
    "  # CALCULAR EL GRADIENTE SEGUN LAS DIMENSIONES DE LA MATRIZ\n",
    "  grad = sapply(g,f)\n",
    "  \n",
    "  # RETORNAR VECTOR GRADIENTE\n",
    "  return(grad)\n",
    "  \n",
    "}\n",
    " "
   ]
  },
  {
   "cell_type": "markdown",
   "metadata": {},
   "source": [
    "A continuación se definen los parámetros iniciales para alpha y se calculan sus valores óptimos, graficando finalmente la división de las clases."
   ]
  },
  {
   "cell_type": "code",
   "execution_count": 7,
   "metadata": {},
   "outputs": [
    {
     "data": {
      "image/png": "[encoded data removed]",
      "text/plain": [
       "plot without title"
      ]
     },
     "metadata": {
      "image/png": {
       "height": 420,
       "width": 420
      }
     },
     "output_type": "display_data"
    }
   ],
   "source": [
    " \n",
    "# PARAMETROS INICIALES\n",
    "init = c(0,0,0)\n",
    "\n",
    "# OPTIMIZACION DE LOS PARAMETROS\n",
    "op = optim(par = init, x = x, y = y, fn = loss, gr = gradient, method = \"BFGS\")\n",
    "\n",
    "# ALPHA OPTIMO\n",
    "alpha = op$par\n",
    "\n",
    "# GRAFICA DE LA DIVISION OPTIMA DE CLASES\n",
    "plot(x[,1],x[,2],col = c(\"red\",\"blue\")[as.factor(y)])\n",
    "curve((-alpha[1]/alpha[3]) - (alpha[2]*x/alpha[3]),add = TRUE, col = \"green\")\n",
    " "
   ]
  },
  {
   "cell_type": "markdown",
   "metadata": {},
   "source": [
    "### Problema 6\n",
    "\n",
    "Repite otra vez 1, 2, 3 y 4 para obtener otras matrices x e y independientes. Utilizando la \"sigma\" calculada anteriormente calcula el TPR, TNR, FPR y FNR para valores del threshold = 0.3, 0.5, 0.7. \n",
    "\n",
    "A continuación se definen nuevas matrices x e y independientes."
   ]
  },
  {
   "cell_type": "code",
   "execution_count": 8,
   "metadata": {},
   "outputs": [],
   "source": [
    " \n",
    "# PARAMETROS PARA UNA MATRIZ CUYO VALOR DE Y CORRESPONDE A 0\n",
    "N = 1000\n",
    "mu_x = 2\n",
    "mu_y = 4\n",
    "var_x = 1\n",
    "var_y = var_x\n",
    "covXY = 0.3\n",
    "\n",
    "x1 = generate_matrix(N,mu_x,mu_y,var_x,var_y,covXY)\n",
    "y1 = rep(0,nrow(x1))\n",
    "\n",
    "# PARAMETROS PARA UNA MATRIZ CUYO VALOR DE Y CORRESPONDE A 1\n",
    "N = 1000\n",
    "mu_x = 6\n",
    "mu_y = 3\n",
    "var_x = 1\n",
    "var_y = var_x\n",
    "covXY = 0.3\n",
    "\n",
    "x2 = generate_matrix(N,mu_x,mu_y,var_x,var_y,covXY)\n",
    "y2 = rep(1,nrow(x2))\n",
    "\n",
    "# NUEVA MATRIZ X\n",
    "x = rbind(x1,x2)\n",
    "\n",
    "# NUEVO VECTOR Y\n",
    "y = c(y1,y2)\n",
    " "
   ]
  },
  {
   "cell_type": "markdown",
   "metadata": {},
   "source": [
    "Aquí se definen nuevas funciones para calcular la matriz de confusión y extraer los errores asociados. También se define una función para realizar una predicci?n usando la sigmoide con un umbral que puede variar."
   ]
  },
  {
   "cell_type": "code",
   "execution_count": 9,
   "metadata": {},
   "outputs": [],
   "source": [
    " \n",
    "confusion_matrix = function(y,y_pred){\n",
    "  \n",
    "  # MATRIZ DE CONFUSION\n",
    "  cM = table(as.data.frame(cbind(y_pred,y)))\n",
    "\n",
    "  # PARAMETROS DE LA MATRIZ\n",
    "  TP = cM[1,1]\n",
    "  FP = cM[1,2]\n",
    "  FN = cM[2,1]\n",
    "  TN = cM[2,2]\n",
    "  \n",
    "  # VARIABLES PARA MEDIR EL ERROR\n",
    "  TPR = TP/(TP + FN)\n",
    "  TNR = TN/(FP + TN)\n",
    "  FPR = FP/(FP + TN)\n",
    "  FNR = FN/(TP + FN)\n",
    "  \n",
    "  # ERRORES EN UN DATAFRAME\n",
    "  df = data.frame(TP,FP,FN,TN,TPR,TNR,FPR,FNR)\n",
    "  \n",
    "  # SE ENLISTAN VARIABLES A RETORNAR\n",
    "  l = list(\"confusion_matrix\" = cM,\"errors\" = df)\n",
    "  \n",
    "  # SE RETORNA LA LISTA\n",
    "  return(l)\n",
    "  \n",
    "}\n",
    "\n",
    "predict_sigmoid = function(alpha,x,y,threshold){\n",
    "  \n",
    "  # TAMANO DE X (FILAS)\n",
    "  N = nrow(x)\n",
    "  \n",
    "  # CREAR MATRIZ X\n",
    "  X = cbind(rep(1,N),x)\n",
    "  \n",
    "  # SIGMOIDE\n",
    "  s = as.vector(sigmoid(alpha %*% t(X)))\n",
    "  \n",
    "  # APLICAR UMBRAL\n",
    "  s[s >= threshold] = 1\n",
    "  s[s != 1] = 0\n",
    "  \n",
    "  # RETORNAR VALORES PREDICHOS\n",
    "  return(s)\n",
    "  \n",
    "}\n",
    " "
   ]
  },
  {
   "cell_type": "markdown",
   "metadata": {},
   "source": [
    "Ahora se evalúan diferentes valores para el umbral."
   ]
  },
  {
   "cell_type": "code",
   "execution_count": 10,
   "metadata": {},
   "outputs": [
    {
     "data": {
      "text/html": [
       "<table>\n",
       "<caption>A data.frame: 3 × 9</caption>\n",
       "<thead>\n",
       "\t<tr><th scope=col>thresholds</th><th scope=col>TP</th><th scope=col>FP</th><th scope=col>FN</th><th scope=col>TN</th><th scope=col>TPR</th><th scope=col>TNR</th><th scope=col>FPR</th><th scope=col>FNR</th></tr>\n",
       "\t<tr><th scope=col>&lt;dbl&gt;</th><th scope=col>&lt;int&gt;</th><th scope=col>&lt;int&gt;</th><th scope=col>&lt;int&gt;</th><th scope=col>&lt;int&gt;</th><th scope=col>&lt;dbl&gt;</th><th scope=col>&lt;dbl&gt;</th><th scope=col>&lt;dbl&gt;</th><th scope=col>&lt;dbl&gt;</th></tr>\n",
       "</thead>\n",
       "<tbody>\n",
       "\t<tr><td>0.3</td><td>762</td><td> 91</td><td>238</td><td>909</td><td>0.762</td><td>0.909</td><td>0.091</td><td>0.238</td></tr>\n",
       "\t<tr><td>0.5</td><td>893</td><td>150</td><td>107</td><td>850</td><td>0.893</td><td>0.850</td><td>0.150</td><td>0.107</td></tr>\n",
       "\t<tr><td>0.7</td><td>957</td><td>241</td><td> 43</td><td>759</td><td>0.957</td><td>0.759</td><td>0.241</td><td>0.043</td></tr>\n",
       "</tbody>\n",
       "</table>\n"
      ],
      "text/latex": [
       "A data.frame: 3 × 9\n",
       "\\begin{tabular}{lllllllll}\n",
       " thresholds & TP & FP & FN & TN & TPR & TNR & FPR & FNR\\\\\n",
       " <dbl> & <int> & <int> & <int> & <int> & <dbl> & <dbl> & <dbl> & <dbl>\\\\\n",
       "\\hline\n",
       "\t 0.3 & 762 &  91 & 238 & 909 & 0.762 & 0.909 & 0.091 & 0.238\\\\\n",
       "\t 0.5 & 893 & 150 & 107 & 850 & 0.893 & 0.850 & 0.150 & 0.107\\\\\n",
       "\t 0.7 & 957 & 241 &  43 & 759 & 0.957 & 0.759 & 0.241 & 0.043\\\\\n",
       "\\end{tabular}\n"
      ],
      "text/markdown": [
       "\n",
       "A data.frame: 3 × 9\n",
       "\n",
       "| thresholds &lt;dbl&gt; | TP &lt;int&gt; | FP &lt;int&gt; | FN &lt;int&gt; | TN &lt;int&gt; | TPR &lt;dbl&gt; | TNR &lt;dbl&gt; | FPR &lt;dbl&gt; | FNR &lt;dbl&gt; |\n",
       "|---|---|---|---|---|---|---|---|---|\n",
       "| 0.3 | 762 |  91 | 238 | 909 | 0.762 | 0.909 | 0.091 | 0.238 |\n",
       "| 0.5 | 893 | 150 | 107 | 850 | 0.893 | 0.850 | 0.150 | 0.107 |\n",
       "| 0.7 | 957 | 241 |  43 | 759 | 0.957 | 0.759 | 0.241 | 0.043 |\n",
       "\n"
      ],
      "text/plain": [
       "  thresholds TP  FP  FN  TN  TPR   TNR   FPR   FNR  \n",
       "1 0.3        762  91 238 909 0.762 0.909 0.091 0.238\n",
       "2 0.5        893 150 107 850 0.893 0.850 0.150 0.107\n",
       "3 0.7        957 241  43 759 0.957 0.759 0.241 0.043"
      ]
     },
     "metadata": {},
     "output_type": "display_data"
    }
   ],
   "source": [
    " \n",
    "# UMBRALES A EVALUAR\n",
    "thresholds = c(0.3,0.5,0.7)\n",
    "\n",
    "# VARIABLE PARA ALMACENAR EL DATA FRAME DE ERRORES\n",
    "err = NULL\n",
    "\n",
    "for(th in thresholds){\n",
    "  \n",
    "  # PREDICCION\n",
    "  y_pred = predict_sigmoid(alpha,x,y,th)\n",
    "  \n",
    "  # MATRIZ DE CONFUSION\n",
    "  cm = confusion_matrix(y,y_pred)\n",
    "  \n",
    "  # DATAFRAME CON ERRORES\n",
    "  err = rbind(err,cm$errors)\n",
    "  \n",
    "}\n",
    "\n",
    "# SE AGREGAN LOS UMBRALES AL DATAFRAME\n",
    "err = cbind(thresholds,err)\n",
    "\n",
    "err\n",
    " "
   ]
  },
  {
   "cell_type": "markdown",
   "metadata": {},
   "source": [
    "A medida que el umbral aumenta, el TPR empieza a aumentar, no obstante, el TNR empieza a disminuir, ya que los valores que antes eran considerados 0 ahora serán considerados 1, por este mismo sentido el FPR empieza a aumentar y el FNR empieza a disminuir."
   ]
  }
 ],
 "metadata": {
  "kernelspec": {
   "display_name": "R",
   "language": "R",
   "name": "ir"
  },
  "language_info": {
   "codemirror_mode": "r",
   "file_extension": ".r",
   "mimetype": "text/x-r-source",
   "name": "R",
   "pygments_lexer": "r",
   "version": "3.6.1"
  }
 },
 "nbformat": 4,
 "nbformat_minor": 4
}
