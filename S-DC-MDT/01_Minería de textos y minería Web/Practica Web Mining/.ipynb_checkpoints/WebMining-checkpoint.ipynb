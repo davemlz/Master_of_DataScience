{
 "cells": [
  {
   "cell_type": "code",
   "execution_count": 2,
   "metadata": {},
   "outputs": [],
   "source": [
    "import re\n",
    "from dateutil.parser import parse\n",
    "from bs4 import BeautifulSoup\n",
    "from urllib import request\n",
    "import time\n",
    "\n",
    "def altnames(mydict):\n",
    "    aux_mydict = mydict.copy()\n",
    "    for elem in mydict.keys():\n",
    "        if \"/\" in elem:\n",
    "            for alt in elem.split(\"/\"):\n",
    "                aux_mydict[alt] = mydict[elem]\n",
    "            del aux_mydict[elem]\n",
    "    return aux_mydict  \n",
    "\n",
    "\n",
    "############# To be modified #############\n",
    "##currentdate=time.strftime('%Y-%m-%d')\n",
    "currentdate='2019-01-01'\n",
    "TOPIC = \"[Cc]onference|[Rr]oadshow|[Ii]nvestor days?\"\n",
    "pagename=\"Rational\"\n",
    "ID=\"2414\"\n",
    "address=\"https://www.rational-online.com/en_in/Company/Investor_Relations/Financial_and_roadshow_calendar_\"\n",
    "##########################################"
   ]
  },
  {
   "cell_type": "code",
   "execution_count": 3,
   "metadata": {},
   "outputs": [
    {
     "ename": "FileNotFoundError",
     "evalue": "[Errno 2] No such file or directory: 'city.csv'",
     "output_type": "error",
     "traceback": [
      "\u001b[1;31m---------------------------------------------------------------------------\u001b[0m",
      "\u001b[1;31mFileNotFoundError\u001b[0m                         Traceback (most recent call last)",
      "\u001b[1;32m<ipython-input-3-1bb004a07864>\u001b[0m in \u001b[0;36m<module>\u001b[1;34m\u001b[0m\n\u001b[1;32m----> 1\u001b[1;33m \u001b[0mcities\u001b[0m\u001b[1;33m=\u001b[0m\u001b[0mdict\u001b[0m\u001b[1;33m(\u001b[0m\u001b[1;33m[\u001b[0m\u001b[0mline\u001b[0m\u001b[1;33m.\u001b[0m\u001b[0mstrip\u001b[0m\u001b[1;33m(\u001b[0m\u001b[1;33m)\u001b[0m\u001b[1;33m.\u001b[0m\u001b[0msplit\u001b[0m\u001b[1;33m(\u001b[0m\u001b[1;34m\";\"\u001b[0m\u001b[1;33m)\u001b[0m \u001b[1;32mfor\u001b[0m \u001b[0mline\u001b[0m \u001b[1;32min\u001b[0m \u001b[0mopen\u001b[0m\u001b[1;33m(\u001b[0m\u001b[1;34m\"city.csv\"\u001b[0m\u001b[1;33m,\u001b[0m \u001b[0mencoding\u001b[0m\u001b[1;33m=\u001b[0m\u001b[1;34m'ISO-8859-1'\u001b[0m\u001b[1;33m)\u001b[0m\u001b[1;33m.\u001b[0m\u001b[0mreadlines\u001b[0m\u001b[1;33m(\u001b[0m\u001b[1;33m)\u001b[0m\u001b[1;33m[\u001b[0m\u001b[1;36m1\u001b[0m\u001b[1;33m:\u001b[0m\u001b[1;33m]\u001b[0m\u001b[1;33m]\u001b[0m\u001b[1;33m)\u001b[0m\u001b[1;33m\u001b[0m\u001b[1;33m\u001b[0m\u001b[0m\n\u001b[0m",
      "\u001b[1;31mFileNotFoundError\u001b[0m: [Errno 2] No such file or directory: 'city.csv'"
     ]
    }
   ],
   "source": [
    "cities=dict([line.strip().split(\";\") for line in open(\"city.csv\", encoding='ISO-8859-1').readlines()[1:]])"
   ]
  },
  {
   "cell_type": "code",
   "execution_count": 3,
   "metadata": {},
   "outputs": [
    {
     "data": {
      "text/plain": [
       "'Amsterdam'"
      ]
     },
     "execution_count": 3,
     "metadata": {},
     "output_type": "execute_result"
    }
   ],
   "source": [
    "cities[\"1\"]"
   ]
  },
  {
   "cell_type": "code",
   "execution_count": 4,
   "metadata": {},
   "outputs": [
    {
     "data": {
      "text/plain": [
       "'Zurich/Zürich'"
      ]
     },
     "execution_count": 4,
     "metadata": {},
     "output_type": "execute_result"
    }
   ],
   "source": [
    "cities[\"4\"]"
   ]
  },
  {
   "cell_type": "code",
   "execution_count": 5,
   "metadata": {},
   "outputs": [],
   "source": [
    "pcities = dict(zip([x for x in cities.values()],cities.keys()))\n",
    "pcities=altnames(pcities)"
   ]
  },
  {
   "cell_type": "code",
   "execution_count": 6,
   "metadata": {},
   "outputs": [
    {
     "data": {
      "text/plain": [
       "'1'"
      ]
     },
     "execution_count": 6,
     "metadata": {},
     "output_type": "execute_result"
    }
   ],
   "source": [
    "pcities[\"Amsterdam\"]"
   ]
  },
  {
   "cell_type": "code",
   "execution_count": 7,
   "metadata": {},
   "outputs": [
    {
     "data": {
      "text/plain": [
       "('4', '4')"
      ]
     },
     "execution_count": 7,
     "metadata": {},
     "output_type": "execute_result"
    }
   ],
   "source": [
    "pcities[\"Zurich\"],pcities[\"Zürich\"]"
   ]
  },
  {
   "cell_type": "code",
   "execution_count": 8,
   "metadata": {},
   "outputs": [],
   "source": [
    "sponsors=dict([line.strip().split(\";\") for line in open(\"sponsor.csv\").readlines()[1:]])\n",
    "psponsors = dict(zip(sponsors.values(),sponsors.keys()))\n",
    "psponsors = altnames(psponsors)"
   ]
  },
  {
   "cell_type": "code",
   "execution_count": 9,
   "metadata": {},
   "outputs": [],
   "source": [
    "url=request.urlopen(address,timeout=None).read()\n",
    "soup = BeautifulSoup(url,\"lxml\")"
   ]
  },
  {
   "cell_type": "code",
   "execution_count": 10,
   "metadata": {},
   "outputs": [
    {
     "data": {
      "text/plain": [
       "2"
      ]
     },
     "execution_count": 10,
     "metadata": {},
     "output_type": "execute_result"
    }
   ],
   "source": [
    "len(soup.find_all(\"table\"))"
   ]
  },
  {
   "cell_type": "code",
   "execution_count": 11,
   "metadata": {},
   "outputs": [],
   "source": [
    "tab = soup.find_all(\"table\")[1]"
   ]
  },
  {
   "cell_type": "code",
   "execution_count": 12,
   "metadata": {},
   "outputs": [
    {
     "data": {
      "text/plain": [
       "<table cellpadding=\"0\" cellspacing=\"0\" class=\"table-investor-calendar\" style=\"width: 704px;\" width=\"704\"><tbody><tr height=\"20\"><td height=\"20\" style=\"width: 200px; height: 20px; vertical-align: middle;\">\n",
       "<h3><span class=\"givacolor\">Date</span></h3>\n",
       "</td>\n",
       "<td style=\"vertical-align: middle;\">\n",
       "<h3><span class=\"givacolor\">Event title</span></h3>\n",
       "</td>\n",
       "<td style=\"width: 100px; vertical-align: middle;\">\n",
       "<h3><span class=\"givacolor\">Contact</span></h3>\n",
       "</td>\n",
       "</tr><tr><td height=\"20\" style=\"width: 200px; height: 20px; vertical-align: middle;\">no events</td>\n",
       "<td> </td>\n",
       "<td> </td>\n",
       "</tr></tbody></table>"
      ]
     },
     "execution_count": 12,
     "metadata": {},
     "output_type": "execute_result"
    }
   ],
   "source": [
    "tab\n"
   ]
  },
  {
   "cell_type": "code",
   "execution_count": 13,
   "metadata": {},
   "outputs": [
    {
     "data": {
      "text/plain": [
       "[<span class=\"givacolor\">Date</span>,\n",
       " <span class=\"givacolor\">Event title</span>,\n",
       " <span class=\"givacolor\">Contact</span>]"
      ]
     },
     "execution_count": 13,
     "metadata": {},
     "output_type": "execute_result"
    }
   ],
   "source": [
    "tab.find_all(\"span\",{\"class\":\"givacolor\"})"
   ]
  },
  {
   "cell_type": "code",
   "execution_count": 14,
   "metadata": {},
   "outputs": [
    {
     "data": {
      "text/plain": [
       "[<td height=\"20\" style=\"width: 200px; height: 20px; vertical-align: middle;\">\n",
       " <h3><span class=\"givacolor\">Date</span></h3>\n",
       " </td>,\n",
       " <td style=\"vertical-align: middle;\">\n",
       " <h3><span class=\"givacolor\">Event title</span></h3>\n",
       " </td>,\n",
       " <td style=\"width: 100px; vertical-align: middle;\">\n",
       " <h3><span class=\"givacolor\">Contact</span></h3>\n",
       " </td>,\n",
       " <td height=\"20\" style=\"width: 200px; height: 20px; vertical-align: middle;\">no events</td>,\n",
       " <td> </td>,\n",
       " <td> </td>]"
      ]
     },
     "execution_count": 14,
     "metadata": {},
     "output_type": "execute_result"
    }
   ],
   "source": [
    "tab.find_all(\"td\")"
   ]
  },
  {
   "cell_type": "code",
   "execution_count": 15,
   "metadata": {},
   "outputs": [
    {
     "data": {
      "text/plain": [
       "<td style=\"vertical-align: middle;\">\n",
       "<h3><span class=\"givacolor\">Event title</span></h3>\n",
       "</td>"
      ]
     },
     "execution_count": 15,
     "metadata": {},
     "output_type": "execute_result"
    }
   ],
   "source": [
    "tab.find_all(\"td\")[1]"
   ]
  },
  {
   "cell_type": "code",
   "execution_count": 16,
   "metadata": {},
   "outputs": [
    {
     "data": {
      "text/plain": [
       "'\\nEvent title\\n'"
      ]
     },
     "execution_count": 16,
     "metadata": {},
     "output_type": "execute_result"
    }
   ],
   "source": [
    "tab.find_all(\"td\")[1].text"
   ]
  },
  {
   "cell_type": "code",
   "execution_count": 17,
   "metadata": {},
   "outputs": [
    {
     "name": "stdout",
     "output_type": "stream",
     "text": [
      "++++++++++++++++++\n",
      "\n",
      "\n",
      "++++++++++++++++++\n",
      "Date\n",
      "++++++++++++++++++\n",
      "\n",
      "\n",
      "++++++++++++++++++\n",
      "\n",
      "\n",
      "++++++++++++++++++\n",
      "\n",
      "\n",
      "++++++++++++++++++\n",
      "Event title\n",
      "++++++++++++++++++\n",
      "\n",
      "\n",
      "++++++++++++++++++\n",
      "\n",
      "\n",
      "++++++++++++++++++\n",
      "\n",
      "\n",
      "++++++++++++++++++\n",
      "Contact\n",
      "++++++++++++++++++\n",
      "\n",
      "\n",
      "++++++++++++++++++\n",
      "\n",
      "\n",
      "++++++++++++++++++\n",
      "no events\n",
      "++++++++++++++++++\n",
      "\n",
      "\n",
      "++++++++++++++++++\n",
      " \n",
      "++++++++++++++++++\n",
      "\n",
      "\n",
      "++++++++++++++++++\n",
      " \n",
      "++++++++++++++++++\n",
      "\n",
      "\n"
     ]
    }
   ],
   "source": [
    "for row in tab:\n",
    "    for e in row.recursiveChildGenerator():\n",
    "        if isinstance(e,str):\n",
    "            print(\"++++++++++++++++++\")\n",
    "            print(e)"
   ]
  },
  {
   "cell_type": "code",
   "execution_count": 18,
   "metadata": {},
   "outputs": [
    {
     "data": {
      "text/plain": [
       "<tr><td height=\"21\" style=\"width: 236px; height: 21px; vertical-align: middle;\">Thursday 16 January 2020</td>\n",
       "<td style=\"width: 272px; vertical-align: middle;\">Baader Helvea Conference - Bad Ragaz</td>\n",
       "<td style=\"width: 196px; vertical-align: middle;\"><a class=\"ctools-use-modal ctools-modal-ctools-ajax-register-style\" href=\"/ajax_givaudan_tabtable/nojs/1/avonarx%2540helvea.com\">Baader Helvea </a></td>\n",
       "</tr>"
      ]
     },
     "execution_count": 18,
     "metadata": {},
     "output_type": "execute_result"
    }
   ],
   "source": [
    "row  = soup.find_all(\"table\")[0].find_all(\"tr\")[1]\n",
    "row"
   ]
  },
  {
   "cell_type": "code",
   "execution_count": 19,
   "metadata": {},
   "outputs": [
    {
     "data": {
      "text/plain": [
       "['Thursday 16 January 2020',\n",
       " 'Baader Helvea Conference - Bad Ragaz',\n",
       " 'Baader Helvea']"
      ]
     },
     "execution_count": 19,
     "metadata": {},
     "output_type": "execute_result"
    }
   ],
   "source": [
    "line=[elem.text.strip() for elem in row.find_all(\"td\")]\n",
    "line"
   ]
  },
  {
   "cell_type": "code",
   "execution_count": 20,
   "metadata": {},
   "outputs": [
    {
     "data": {
      "text/plain": [
       "'Thursday 16 January 2020$Baader Helvea Conference - Bad Ragaz$Baader Helvea'"
      ]
     },
     "execution_count": 20,
     "metadata": {},
     "output_type": "execute_result"
    }
   ],
   "source": [
    "line = \"$\".join(line)\n",
    "line"
   ]
  },
  {
   "cell_type": "code",
   "execution_count": 21,
   "metadata": {},
   "outputs": [
    {
     "data": {
      "text/plain": [
       "<re.Match object; span=(39, 49), match='Conference'>"
      ]
     },
     "execution_count": 21,
     "metadata": {},
     "output_type": "execute_result"
    }
   ],
   "source": [
    "m1 = re.search(TOPIC,line)\n",
    "m1"
   ]
  },
  {
   "cell_type": "code",
   "execution_count": 22,
   "metadata": {},
   "outputs": [
    {
     "data": {
      "text/plain": [
       "'Conference'"
      ]
     },
     "execution_count": 22,
     "metadata": {},
     "output_type": "execute_result"
    }
   ],
   "source": [
    "m1.group(0)"
   ]
  },
  {
   "cell_type": "code",
   "execution_count": 23,
   "metadata": {},
   "outputs": [
    {
     "data": {
      "text/plain": [
       "<re.Match object; span=(0, 75), match='Thursday 16 January 2020$Baader Helvea Conference>"
      ]
     },
     "execution_count": 23,
     "metadata": {},
     "output_type": "execute_result"
    }
   ],
   "source": [
    "r=\"(.*)\\$(.*)\\$(.*)\"\n",
    "m2=re.search(r,line)\n",
    "m2"
   ]
  },
  {
   "cell_type": "code",
   "execution_count": 24,
   "metadata": {},
   "outputs": [
    {
     "data": {
      "text/plain": [
       "('Thursday 16 January 2020$Baader Helvea Conference - Bad Ragaz$Baader Helvea',\n",
       " 'Thursday 16 January 2020',\n",
       " 'Baader Helvea Conference - Bad Ragaz',\n",
       " 'Baader Helvea')"
      ]
     },
     "execution_count": 24,
     "metadata": {},
     "output_type": "execute_result"
    }
   ],
   "source": [
    "m2.group(0),m2.group(1),m2.group(2),m2.group(3)"
   ]
  },
  {
   "cell_type": "code",
   "execution_count": 25,
   "metadata": {},
   "outputs": [
    {
     "data": {
      "text/plain": [
       "'Thursday 16 January 2020'"
      ]
     },
     "execution_count": 25,
     "metadata": {},
     "output_type": "execute_result"
    }
   ],
   "source": [
    "date=m2.group(1)\n",
    "date"
   ]
  },
  {
   "cell_type": "code",
   "execution_count": 26,
   "metadata": {},
   "outputs": [
    {
     "data": {
      "text/plain": [
       "'2020-01-16'"
      ]
     },
     "execution_count": 26,
     "metadata": {},
     "output_type": "execute_result"
    }
   ],
   "source": [
    "parse(date,dayfirst=True).strftime('%Y-%m-%d')"
   ]
  },
  {
   "cell_type": "code",
   "execution_count": 27,
   "metadata": {},
   "outputs": [
    {
     "data": {
      "text/plain": [
       "'2019-01-10'"
      ]
     },
     "execution_count": 27,
     "metadata": {},
     "output_type": "execute_result"
    }
   ],
   "source": [
    "parse('10 January 2019',dayfirst=True).strftime('%Y-%m-%d')"
   ]
  },
  {
   "cell_type": "code",
   "execution_count": 28,
   "metadata": {},
   "outputs": [],
   "source": [
    "r=\"\\d{1,2}(/\\d{1,2})? [A-Z][a-z]+ \\d{4}\""
   ]
  },
  {
   "cell_type": "code",
   "execution_count": 29,
   "metadata": {},
   "outputs": [
    {
     "data": {
      "text/plain": [
       "<re.Match object; span=(9, 24), match='16 January 2020'>"
      ]
     },
     "execution_count": 29,
     "metadata": {},
     "output_type": "execute_result"
    }
   ],
   "source": [
    "dm=re.search(r,date)\n",
    "dm"
   ]
  },
  {
   "cell_type": "code",
   "execution_count": 30,
   "metadata": {},
   "outputs": [
    {
     "data": {
      "text/plain": [
       "'16 January 2020'"
      ]
     },
     "execution_count": 30,
     "metadata": {},
     "output_type": "execute_result"
    }
   ],
   "source": [
    "firstPart=dm.group(0)\n",
    "firstPart = re.sub(\"/\\d{1,2}\",\"\",firstPart)\n",
    "firstPart"
   ]
  },
  {
   "cell_type": "code",
   "execution_count": 31,
   "metadata": {},
   "outputs": [],
   "source": [
    "dm.group(1)"
   ]
  },
  {
   "cell_type": "code",
   "execution_count": 32,
   "metadata": {},
   "outputs": [],
   "source": [
    "if dm.group(1):\n",
    "    print(parse(firstPart).strftime('%Y-%m-%d')+dm.group(1)) "
   ]
  },
  {
   "cell_type": "code",
   "execution_count": 33,
   "metadata": {},
   "outputs": [
    {
     "data": {
      "text/plain": [
       "101.50000000000001"
      ]
     },
     "execution_count": 33,
     "metadata": {},
     "output_type": "execute_result"
    }
   ],
   "source": [
    "x = 1.10 * 10**2\n",
    "y = .085 * 10**2\n",
    "x - y "
   ]
  }
 ],
 "metadata": {
  "kernelspec": {
   "display_name": "Python 3",
   "language": "python",
   "name": "python3"
  },
  "language_info": {
   "codemirror_mode": {
    "name": "ipython",
    "version": 3
   },
   "file_extension": ".py",
   "mimetype": "text/x-python",
   "name": "python",
   "nbconvert_exporter": "python",
   "pygments_lexer": "ipython3",
   "version": "3.7.3"
  }
 },
 "nbformat": 4,
 "nbformat_minor": 4
}
