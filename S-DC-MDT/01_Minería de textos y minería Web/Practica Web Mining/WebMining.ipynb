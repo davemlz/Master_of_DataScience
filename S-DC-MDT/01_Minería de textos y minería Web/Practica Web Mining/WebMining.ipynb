{
 "cells": [
  {
   "cell_type": "code",
   "execution_count": 1,
   "metadata": {},
   "outputs": [],
   "source": [
    "import re\n",
    "from dateutil.parser import parse\n",
    "from bs4 import BeautifulSoup\n",
    "from urllib import request\n",
    "import time\n",
    "\n",
    "def altnames(mydict):\n",
    "    aux_mydict = mydict.copy()\n",
    "    for elem in mydict.keys():\n",
    "        if \"/\" in elem:\n",
    "            for alt in elem.split(\"/\"):\n",
    "                aux_mydict[alt] = mydict[elem]\n",
    "            del aux_mydict[elem]\n",
    "    return aux_mydict  \n",
    "\n",
    "\n",
    "############# To be modified #############\n",
    "##currentdate=time.strftime('%Y-%m-%d')\n",
    "currentdate='2019-01-01'\n",
    "TOPIC = \"[Cc]onference|[Rr]oadshow|[Ii]nvestor days?\"\n",
    "pagename=\"Rational\"\n",
    "ID=\"2414\"\n",
    "address=\"https://www.rational-online.com/en_in/Company/Investor_Relations/Financial_and_roadshow_calendar_\"\n",
    "##########################################"
   ]
  },
  {
   "cell_type": "code",
   "execution_count": 2,
   "metadata": {},
   "outputs": [],
   "source": [
    "cities=dict([line.strip().split(\";\") for line in open(\"city.csv\", encoding='ISO-8859-1').readlines()[1:]])"
   ]
  },
  {
   "cell_type": "code",
   "execution_count": 3,
   "metadata": {},
   "outputs": [
    {
     "data": {
      "text/plain": [
       "'Amsterdam'"
      ]
     },
     "execution_count": 3,
     "metadata": {},
     "output_type": "execute_result"
    }
   ],
   "source": [
    "cities[\"1\"]"
   ]
  },
  {
   "cell_type": "code",
   "execution_count": 4,
   "metadata": {},
   "outputs": [
    {
     "data": {
      "text/plain": [
       "'Zurich/Zürich'"
      ]
     },
     "execution_count": 4,
     "metadata": {},
     "output_type": "execute_result"
    }
   ],
   "source": [
    "cities[\"4\"]"
   ]
  },
  {
   "cell_type": "code",
   "execution_count": 5,
   "metadata": {},
   "outputs": [],
   "source": [
    "pcities = dict(zip([x for x in cities.values()],cities.keys()))\n",
    "pcities=altnames(pcities)"
   ]
  },
  {
   "cell_type": "code",
   "execution_count": 6,
   "metadata": {},
   "outputs": [
    {
     "data": {
      "text/plain": [
       "'1'"
      ]
     },
     "execution_count": 6,
     "metadata": {},
     "output_type": "execute_result"
    }
   ],
   "source": [
    "pcities[\"Amsterdam\"]"
   ]
  },
  {
   "cell_type": "code",
   "execution_count": 7,
   "metadata": {},
   "outputs": [
    {
     "data": {
      "text/plain": [
       "('4', '4')"
      ]
     },
     "execution_count": 7,
     "metadata": {},
     "output_type": "execute_result"
    }
   ],
   "source": [
    "pcities[\"Zurich\"],pcities[\"Zürich\"]"
   ]
  },
  {
   "cell_type": "code",
   "execution_count": 8,
   "metadata": {},
   "outputs": [],
   "source": [
    "sponsors=dict([line.strip().split(\";\") for line in open(\"sponsor.csv\").readlines()[1:]])\n",
    "psponsors = dict(zip(sponsors.values(),sponsors.keys()))\n",
    "psponsors = altnames(psponsors)"
   ]
  },
  {
   "cell_type": "code",
   "execution_count": 9,
   "metadata": {},
   "outputs": [],
   "source": [
    "#!pip install lxml"
   ]
  },
  {
   "cell_type": "code",
   "execution_count": 19,
   "metadata": {},
   "outputs": [],
   "source": [
    "url=request.urlopen(address,timeout=None).read()\n",
    "soup = BeautifulSoup(url,\"lxml\")"
   ]
  },
  {
   "cell_type": "code",
   "execution_count": 11,
   "metadata": {},
   "outputs": [
    {
     "data": {
      "text/plain": [
       "4"
      ]
     },
     "execution_count": 11,
     "metadata": {},
     "output_type": "execute_result"
    }
   ],
   "source": [
    "len(soup.find_all(\"table\"))"
   ]
  },
  {
   "cell_type": "code",
   "execution_count": 21,
   "metadata": {},
   "outputs": [],
   "source": [
    "tab = soup.find_all(\"table\")[1]"
   ]
  },
  {
   "cell_type": "code",
   "execution_count": 22,
   "metadata": {},
   "outputs": [
    {
     "data": {
      "text/plain": [
       "<table class=\"table-standard table-mobile\" width=\"100%\">\n",
       "<tbody>\n",
       "<tr>\n",
       "<td class=\"m-head\">Event</td>\n",
       "<td>Preliminary Figures Fiscal Year 2019</td>\n",
       "</tr>\n",
       "<tr>\n",
       "<td class=\"m-head\">Location</td>\n",
       "<td>Landsberg am Lech</td>\n",
       "</tr>\n",
       "<tr>\n",
       "<td class=\"m-head\">Date</td>\n",
       "<td>06 Feb 2020</td>\n",
       "</tr>\n",
       "<tr><td class=\"t-border\"></td><td class=\"t-border\"></td></tr>\n",
       "<tr>\n",
       "<td class=\"m-head\">Event</td>\n",
       "<td>Financial Figures Fiscal Year 2019</td>\n",
       "</tr>\n",
       "<tr>\n",
       "<td class=\"m-head\">Location</td>\n",
       "<td>Hamburg</td>\n",
       "</tr>\n",
       "<tr>\n",
       "<td class=\"m-head\">Date</td>\n",
       "<td>17 Mar 2020</td>\n",
       "</tr>\n",
       "<tr><td class=\"t-border\"></td><td class=\"t-border\"></td></tr>\n",
       "<tr>\n",
       "<td class=\"m-head\">Event</td>\n",
       "<td>Telephone Conference Fiscal Year 2019</td>\n",
       "</tr>\n",
       "<tr>\n",
       "<td class=\"m-head\">Location</td>\n",
       "<td>Hamburg</td>\n",
       "</tr>\n",
       "<tr>\n",
       "<td class=\"m-head\">Date</td>\n",
       "<td>17 Mar 2020</td>\n",
       "</tr>\n",
       "<tr><td class=\"t-border\"></td><td class=\"t-border\"></td></tr>\n",
       "<tr>\n",
       "<td class=\"m-head\">Event</td>\n",
       "<td>Balance Sheet Press Conference Fiscal Year 2019</td>\n",
       "</tr>\n",
       "<tr>\n",
       "<td class=\"m-head\">Location</td>\n",
       "<td>Hamburg</td>\n",
       "</tr>\n",
       "<tr>\n",
       "<td class=\"m-head\">Date</td>\n",
       "<td>17 Mar 2020</td>\n",
       "</tr>\n",
       "<tr><td class=\"t-border\"></td><td class=\"t-border\"></td></tr>\n",
       "<tr>\n",
       "<td class=\"m-head\">Event</td>\n",
       "<td>Capital Markets Day 2020</td>\n",
       "</tr>\n",
       "<tr>\n",
       "<td class=\"m-head\">Location</td>\n",
       "<td>Hamburg</td>\n",
       "</tr>\n",
       "<tr>\n",
       "<td class=\"m-head\">Date</td>\n",
       "<td>17 Mar 2020</td>\n",
       "</tr>\n",
       "<tr><td class=\"t-border\"></td><td class=\"t-border\"></td></tr>\n",
       "<tr>\n",
       "<td class=\"m-head\">Event</td>\n",
       "<td>Financial Figues Q1 2020</td>\n",
       "</tr>\n",
       "<tr>\n",
       "<td class=\"m-head\">Location</td>\n",
       "<td>Landsberg am Lech</td>\n",
       "</tr>\n",
       "<tr>\n",
       "<td class=\"m-head\">Date</td>\n",
       "<td>06 May 2020</td>\n",
       "</tr>\n",
       "<tr><td class=\"t-border\"></td><td class=\"t-border\"></td></tr>\n",
       "<tr>\n",
       "<td class=\"m-head\">Event</td>\n",
       "<td>Telephone Conference Q1 2020</td>\n",
       "</tr>\n",
       "<tr>\n",
       "<td class=\"m-head\">Location</td>\n",
       "<td>Landsberg am Lech</td>\n",
       "</tr>\n",
       "<tr>\n",
       "<td class=\"m-head\">Date</td>\n",
       "<td>06 May 2020</td>\n",
       "</tr>\n",
       "<tr><td class=\"t-border\"></td><td class=\"t-border\"></td></tr>\n",
       "<tr>\n",
       "<td class=\"m-head\">Event</td>\n",
       "<td>General Shareholders' Meeting 2020</td>\n",
       "</tr>\n",
       "<tr>\n",
       "<td class=\"m-head\">Location</td>\n",
       "<td>Augsburg</td>\n",
       "</tr>\n",
       "<tr>\n",
       "<td class=\"m-head\">Date</td>\n",
       "<td>06 May 2020</td>\n",
       "</tr>\n",
       "<tr><td class=\"t-border\"></td><td class=\"t-border\"></td></tr>\n",
       "<tr>\n",
       "<td class=\"m-head\">Event</td>\n",
       "<td>Financial Figures Half Year 2020</td>\n",
       "</tr>\n",
       "<tr>\n",
       "<td class=\"m-head\">Location</td>\n",
       "<td>Landsberg am Lech</td>\n",
       "</tr>\n",
       "<tr>\n",
       "<td class=\"m-head\">Date</td>\n",
       "<td>30 Jul 2020</td>\n",
       "</tr>\n",
       "<tr><td class=\"t-border\"></td><td class=\"t-border\"></td></tr>\n",
       "<tr>\n",
       "<td class=\"m-head\">Event</td>\n",
       "<td>Telephone Conference HY 2020</td>\n",
       "</tr>\n",
       "<tr>\n",
       "<td class=\"m-head\">Location</td>\n",
       "<td>Landsberg am Lech</td>\n",
       "</tr>\n",
       "<tr>\n",
       "<td class=\"m-head\">Date</td>\n",
       "<td>30 Jul 2020</td>\n",
       "</tr>\n",
       "<tr><td class=\"t-border\"></td><td class=\"t-border\"></td></tr>\n",
       "<tr>\n",
       "<td class=\"m-head\">Event</td>\n",
       "<td>Financial Figures 9 Months 2020</td>\n",
       "</tr>\n",
       "<tr>\n",
       "<td class=\"m-head\">Location</td>\n",
       "<td>Landsberg am Lech</td>\n",
       "</tr>\n",
       "<tr>\n",
       "<td class=\"m-head\">Date</td>\n",
       "<td>27 Oct 2020</td>\n",
       "</tr>\n",
       "<tr><td class=\"t-border\"></td><td class=\"t-border\"></td></tr>\n",
       "<tr>\n",
       "<td class=\"m-head\">Event</td>\n",
       "<td>Telephone Conference 9 Months 2020</td>\n",
       "</tr>\n",
       "<tr>\n",
       "<td class=\"m-head\">Location</td>\n",
       "<td>Landsberg am Lech</td>\n",
       "</tr>\n",
       "<tr>\n",
       "<td class=\"m-head\">Date</td>\n",
       "<td>27 Oct 2020</td>\n",
       "</tr>\n",
       "<tr class=\"lastRow\"><td class=\"t-border\"></td><td class=\"t-border\"></td></tr>\n",
       "</tbody>\n",
       "</table>"
      ]
     },
     "execution_count": 22,
     "metadata": {},
     "output_type": "execute_result"
    }
   ],
   "source": [
    "tab\n"
   ]
  },
  {
   "cell_type": "code",
   "execution_count": 14,
   "metadata": {},
   "outputs": [
    {
     "data": {
      "text/plain": [
       "[]"
      ]
     },
     "execution_count": 14,
     "metadata": {},
     "output_type": "execute_result"
    }
   ],
   "source": [
    "tab.find_all(\"span\",{\"class\":\"givacolor\"})"
   ]
  },
  {
   "cell_type": "code",
   "execution_count": 15,
   "metadata": {},
   "outputs": [
    {
     "data": {
      "text/plain": [
       "[<td class=\"m-head\">Event</td>,\n",
       " <td>Preliminary Figures Fiscal Year 2019</td>,\n",
       " <td class=\"m-head\">Location</td>,\n",
       " <td>Landsberg am Lech</td>,\n",
       " <td class=\"m-head\">Date</td>,\n",
       " <td>06 Feb 2020</td>,\n",
       " <td class=\"t-border\"></td>,\n",
       " <td class=\"t-border\"></td>,\n",
       " <td class=\"m-head\">Event</td>,\n",
       " <td>Financial Figures Fiscal Year 2019</td>,\n",
       " <td class=\"m-head\">Location</td>,\n",
       " <td>Hamburg</td>,\n",
       " <td class=\"m-head\">Date</td>,\n",
       " <td>17 Mar 2020</td>,\n",
       " <td class=\"t-border\"></td>,\n",
       " <td class=\"t-border\"></td>,\n",
       " <td class=\"m-head\">Event</td>,\n",
       " <td>Telephone Conference Fiscal Year 2019</td>,\n",
       " <td class=\"m-head\">Location</td>,\n",
       " <td>Hamburg</td>,\n",
       " <td class=\"m-head\">Date</td>,\n",
       " <td>17 Mar 2020</td>,\n",
       " <td class=\"t-border\"></td>,\n",
       " <td class=\"t-border\"></td>,\n",
       " <td class=\"m-head\">Event</td>,\n",
       " <td>Balance Sheet Press Conference Fiscal Year 2019</td>,\n",
       " <td class=\"m-head\">Location</td>,\n",
       " <td>Hamburg</td>,\n",
       " <td class=\"m-head\">Date</td>,\n",
       " <td>17 Mar 2020</td>,\n",
       " <td class=\"t-border\"></td>,\n",
       " <td class=\"t-border\"></td>,\n",
       " <td class=\"m-head\">Event</td>,\n",
       " <td>Capital Markets Day 2020</td>,\n",
       " <td class=\"m-head\">Location</td>,\n",
       " <td>Hamburg</td>,\n",
       " <td class=\"m-head\">Date</td>,\n",
       " <td>17 Mar 2020</td>,\n",
       " <td class=\"t-border\"></td>,\n",
       " <td class=\"t-border\"></td>,\n",
       " <td class=\"m-head\">Event</td>,\n",
       " <td>Financial Figues Q1 2020</td>,\n",
       " <td class=\"m-head\">Location</td>,\n",
       " <td>Landsberg am Lech</td>,\n",
       " <td class=\"m-head\">Date</td>,\n",
       " <td>06 May 2020</td>,\n",
       " <td class=\"t-border\"></td>,\n",
       " <td class=\"t-border\"></td>,\n",
       " <td class=\"m-head\">Event</td>,\n",
       " <td>Telephone Conference Q1 2020</td>,\n",
       " <td class=\"m-head\">Location</td>,\n",
       " <td>Landsberg am Lech</td>,\n",
       " <td class=\"m-head\">Date</td>,\n",
       " <td>06 May 2020</td>,\n",
       " <td class=\"t-border\"></td>,\n",
       " <td class=\"t-border\"></td>,\n",
       " <td class=\"m-head\">Event</td>,\n",
       " <td>General Shareholders' Meeting 2020</td>,\n",
       " <td class=\"m-head\">Location</td>,\n",
       " <td>Augsburg</td>,\n",
       " <td class=\"m-head\">Date</td>,\n",
       " <td>06 May 2020</td>,\n",
       " <td class=\"t-border\"></td>,\n",
       " <td class=\"t-border\"></td>,\n",
       " <td class=\"m-head\">Event</td>,\n",
       " <td>Financial Figures Half Year 2020</td>,\n",
       " <td class=\"m-head\">Location</td>,\n",
       " <td>Landsberg am Lech</td>,\n",
       " <td class=\"m-head\">Date</td>,\n",
       " <td>30 Jul 2020</td>,\n",
       " <td class=\"t-border\"></td>,\n",
       " <td class=\"t-border\"></td>,\n",
       " <td class=\"m-head\">Event</td>,\n",
       " <td>Telephone Conference HY 2020</td>,\n",
       " <td class=\"m-head\">Location</td>,\n",
       " <td>Landsberg am Lech</td>,\n",
       " <td class=\"m-head\">Date</td>,\n",
       " <td>30 Jul 2020</td>,\n",
       " <td class=\"t-border\"></td>,\n",
       " <td class=\"t-border\"></td>,\n",
       " <td class=\"m-head\">Event</td>,\n",
       " <td>Financial Figures 9 Months 2020</td>,\n",
       " <td class=\"m-head\">Location</td>,\n",
       " <td>Landsberg am Lech</td>,\n",
       " <td class=\"m-head\">Date</td>,\n",
       " <td>27 Oct 2020</td>,\n",
       " <td class=\"t-border\"></td>,\n",
       " <td class=\"t-border\"></td>,\n",
       " <td class=\"m-head\">Event</td>,\n",
       " <td>Telephone Conference 9 Months 2020</td>,\n",
       " <td class=\"m-head\">Location</td>,\n",
       " <td>Landsberg am Lech</td>,\n",
       " <td class=\"m-head\">Date</td>,\n",
       " <td>27 Oct 2020</td>,\n",
       " <td class=\"t-border\"></td>,\n",
       " <td class=\"t-border\"></td>]"
      ]
     },
     "execution_count": 15,
     "metadata": {},
     "output_type": "execute_result"
    }
   ],
   "source": [
    "tab.find_all(\"td\")"
   ]
  },
  {
   "cell_type": "code",
   "execution_count": 16,
   "metadata": {},
   "outputs": [
    {
     "data": {
      "text/plain": [
       "<td>Preliminary Figures Fiscal Year 2019</td>"
      ]
     },
     "execution_count": 16,
     "metadata": {},
     "output_type": "execute_result"
    }
   ],
   "source": [
    "tab.find_all(\"td\")[1]"
   ]
  },
  {
   "cell_type": "code",
   "execution_count": 17,
   "metadata": {},
   "outputs": [
    {
     "data": {
      "text/plain": [
       "'Preliminary Figures Fiscal Year 2019'"
      ]
     },
     "execution_count": 17,
     "metadata": {},
     "output_type": "execute_result"
    }
   ],
   "source": [
    "tab.find_all(\"td\")[1].text"
   ]
  },
  {
   "cell_type": "code",
   "execution_count": 18,
   "metadata": {},
   "outputs": [
    {
     "ename": "AttributeError",
     "evalue": "'NavigableString' object has no attribute 'recursiveChildGenerator'",
     "output_type": "error",
     "traceback": [
      "\u001b[1;31m---------------------------------------------------------------------------\u001b[0m",
      "\u001b[1;31mAttributeError\u001b[0m                            Traceback (most recent call last)",
      "\u001b[1;32m<ipython-input-18-af7bc44d643d>\u001b[0m in \u001b[0;36m<module>\u001b[1;34m\u001b[0m\n\u001b[0;32m      1\u001b[0m \u001b[1;32mfor\u001b[0m \u001b[0mrow\u001b[0m \u001b[1;32min\u001b[0m \u001b[0mtab\u001b[0m\u001b[1;33m:\u001b[0m\u001b[1;33m\u001b[0m\u001b[1;33m\u001b[0m\u001b[0m\n\u001b[1;32m----> 2\u001b[1;33m     \u001b[1;32mfor\u001b[0m \u001b[0me\u001b[0m \u001b[1;32min\u001b[0m \u001b[0mrow\u001b[0m\u001b[1;33m.\u001b[0m\u001b[0mrecursiveChildGenerator\u001b[0m\u001b[1;33m(\u001b[0m\u001b[1;33m)\u001b[0m\u001b[1;33m:\u001b[0m\u001b[1;33m\u001b[0m\u001b[1;33m\u001b[0m\u001b[0m\n\u001b[0m\u001b[0;32m      3\u001b[0m         \u001b[1;32mif\u001b[0m \u001b[0misinstance\u001b[0m\u001b[1;33m(\u001b[0m\u001b[0me\u001b[0m\u001b[1;33m,\u001b[0m\u001b[0mstr\u001b[0m\u001b[1;33m)\u001b[0m\u001b[1;33m:\u001b[0m\u001b[1;33m\u001b[0m\u001b[1;33m\u001b[0m\u001b[0m\n\u001b[0;32m      4\u001b[0m             \u001b[0mprint\u001b[0m\u001b[1;33m(\u001b[0m\u001b[1;34m\"++++++++++++++++++\"\u001b[0m\u001b[1;33m)\u001b[0m\u001b[1;33m\u001b[0m\u001b[1;33m\u001b[0m\u001b[0m\n\u001b[0;32m      5\u001b[0m             \u001b[0mprint\u001b[0m\u001b[1;33m(\u001b[0m\u001b[0me\u001b[0m\u001b[1;33m)\u001b[0m\u001b[1;33m\u001b[0m\u001b[1;33m\u001b[0m\u001b[0m\n",
      "\u001b[1;32m~\\Anaconda3\\lib\\site-packages\\bs4\\element.py\u001b[0m in \u001b[0;36m__getattr__\u001b[1;34m(self, attr)\u001b[0m\n\u001b[0;32m    740\u001b[0m             raise AttributeError(\n\u001b[0;32m    741\u001b[0m                 \"'%s' object has no attribute '%s'\" % (\n\u001b[1;32m--> 742\u001b[1;33m                     self.__class__.__name__, attr))\n\u001b[0m\u001b[0;32m    743\u001b[0m \u001b[1;33m\u001b[0m\u001b[0m\n\u001b[0;32m    744\u001b[0m     \u001b[1;32mdef\u001b[0m \u001b[0moutput_ready\u001b[0m\u001b[1;33m(\u001b[0m\u001b[0mself\u001b[0m\u001b[1;33m,\u001b[0m \u001b[0mformatter\u001b[0m\u001b[1;33m=\u001b[0m\u001b[1;34m\"minimal\"\u001b[0m\u001b[1;33m)\u001b[0m\u001b[1;33m:\u001b[0m\u001b[1;33m\u001b[0m\u001b[1;33m\u001b[0m\u001b[0m\n",
      "\u001b[1;31mAttributeError\u001b[0m: 'NavigableString' object has no attribute 'recursiveChildGenerator'"
     ]
    }
   ],
   "source": [
    "for row in tab:\n",
    "    for e in row.recursiveChildGenerator():\n",
    "        if isinstance(e,str):\n",
    "            print(\"++++++++++++++++++\")\n",
    "            print(e)"
   ]
  },
  {
   "cell_type": "code",
   "execution_count": 46,
   "metadata": {},
   "outputs": [
    {
     "data": {
      "text/plain": [
       "<tr>\n",
       "<td colspan=\"1\" rowspan=\"1\">Financial Figures Fiscal Year 2019</td>\n",
       "<td colspan=\"1\" rowspan=\"1\">Hamburg</td>\n",
       "<td colspan=\"1\" rowspan=\"1\">17 Mar 2020</td>\n",
       "</tr>"
      ]
     },
     "execution_count": 46,
     "metadata": {},
     "output_type": "execute_result"
    }
   ],
   "source": [
    "row  = soup.find_all(\"table\")[0].find_all(\"tr\")[2]\n",
    "row"
   ]
  },
  {
   "cell_type": "code",
   "execution_count": 47,
   "metadata": {},
   "outputs": [
    {
     "data": {
      "text/plain": [
       "['Financial Figures Fiscal Year 2019', 'Hamburg', '17 Mar 2020']"
      ]
     },
     "execution_count": 47,
     "metadata": {},
     "output_type": "execute_result"
    }
   ],
   "source": [
    "line=[elem.text.strip() for elem in row.find_all(\"td\")]\n",
    "line"
   ]
  },
  {
   "cell_type": "code",
   "execution_count": 48,
   "metadata": {},
   "outputs": [
    {
     "data": {
      "text/plain": [
       "'Financial Figures Fiscal Year 2019$Hamburg$17 Mar 2020'"
      ]
     },
     "execution_count": 48,
     "metadata": {},
     "output_type": "execute_result"
    }
   ],
   "source": [
    "line = \"$\".join(line)\n",
    "line"
   ]
  },
  {
   "cell_type": "code",
   "execution_count": 55,
   "metadata": {},
   "outputs": [
    {
     "name": "stdout",
     "output_type": "stream",
     "text": [
      "False\n"
     ]
    }
   ],
   "source": [
    "m1 = re.search(TOPIC,line)\n",
    "print(m1 != None)"
   ]
  },
  {
   "cell_type": "code",
   "execution_count": 32,
   "metadata": {},
   "outputs": [
    {
     "data": {
      "text/plain": [
       "'Conference'"
      ]
     },
     "execution_count": 32,
     "metadata": {},
     "output_type": "execute_result"
    }
   ],
   "source": [
    "m1.group(0)"
   ]
  },
  {
   "cell_type": "code",
   "execution_count": 33,
   "metadata": {},
   "outputs": [
    {
     "data": {
      "text/plain": [
       "<re.Match object; span=(0, 57), match='Telephone Conference Fiscal Year 2019$Hamburg$17 >"
      ]
     },
     "execution_count": 33,
     "metadata": {},
     "output_type": "execute_result"
    }
   ],
   "source": [
    "r=\"(.*)\\$(.*)\\$(.*)\"\n",
    "m2=re.search(r,line)\n",
    "m2"
   ]
  },
  {
   "cell_type": "code",
   "execution_count": 34,
   "metadata": {},
   "outputs": [
    {
     "data": {
      "text/plain": [
       "('Telephone Conference Fiscal Year 2019$Hamburg$17 Mar 2020',\n",
       " 'Telephone Conference Fiscal Year 2019',\n",
       " 'Hamburg',\n",
       " '17 Mar 2020')"
      ]
     },
     "execution_count": 34,
     "metadata": {},
     "output_type": "execute_result"
    }
   ],
   "source": [
    "m2.group(0),m2.group(1),m2.group(2),m2.group(3)"
   ]
  },
  {
   "cell_type": "code",
   "execution_count": 37,
   "metadata": {},
   "outputs": [
    {
     "data": {
      "text/plain": [
       "'17 Mar 2020'"
      ]
     },
     "execution_count": 37,
     "metadata": {},
     "output_type": "execute_result"
    }
   ],
   "source": [
    "date=m2.group(3)\n",
    "date"
   ]
  },
  {
   "cell_type": "code",
   "execution_count": 38,
   "metadata": {},
   "outputs": [
    {
     "data": {
      "text/plain": [
       "'2020-03-17'"
      ]
     },
     "execution_count": 38,
     "metadata": {},
     "output_type": "execute_result"
    }
   ],
   "source": [
    "parse(date,dayfirst=True).strftime('%Y-%m-%d')"
   ]
  },
  {
   "cell_type": "code",
   "execution_count": 39,
   "metadata": {},
   "outputs": [
    {
     "data": {
      "text/plain": [
       "'2019-01-10'"
      ]
     },
     "execution_count": 39,
     "metadata": {},
     "output_type": "execute_result"
    }
   ],
   "source": [
    "parse('10 January 2019',dayfirst=True).strftime('%Y-%m-%d')"
   ]
  },
  {
   "cell_type": "code",
   "execution_count": 40,
   "metadata": {},
   "outputs": [],
   "source": [
    "r=\"\\d{1,2}(/\\d{1,2})? [A-Z][a-z]+ \\d{4}\""
   ]
  },
  {
   "cell_type": "code",
   "execution_count": 41,
   "metadata": {},
   "outputs": [
    {
     "data": {
      "text/plain": [
       "<re.Match object; span=(0, 11), match='17 Mar 2020'>"
      ]
     },
     "execution_count": 41,
     "metadata": {},
     "output_type": "execute_result"
    }
   ],
   "source": [
    "dm=re.search(r,date)\n",
    "dm"
   ]
  },
  {
   "cell_type": "code",
   "execution_count": 42,
   "metadata": {},
   "outputs": [
    {
     "data": {
      "text/plain": [
       "'17 Mar 2020'"
      ]
     },
     "execution_count": 42,
     "metadata": {},
     "output_type": "execute_result"
    }
   ],
   "source": [
    "firstPart=dm.group(0)\n",
    "firstPart = re.sub(\"/\\d{1,2}\",\"\",firstPart)\n",
    "firstPart"
   ]
  },
  {
   "cell_type": "code",
   "execution_count": 43,
   "metadata": {},
   "outputs": [],
   "source": [
    "dm.group(1)"
   ]
  },
  {
   "cell_type": "code",
   "execution_count": 44,
   "metadata": {},
   "outputs": [],
   "source": [
    "if dm.group(1):\n",
    "    print(parse(firstPart).strftime('%Y-%m-%d')+dm.group(1)) "
   ]
  },
  {
   "cell_type": "code",
   "execution_count": 45,
   "metadata": {},
   "outputs": [
    {
     "data": {
      "text/plain": [
       "101.50000000000001"
      ]
     },
     "execution_count": 45,
     "metadata": {},
     "output_type": "execute_result"
    }
   ],
   "source": [
    "x = 1.10 * 10**2\n",
    "y = .085 * 10**2\n",
    "x - y "
   ]
  }
 ],
 "metadata": {
  "kernelspec": {
   "display_name": "Python 3",
   "language": "python",
   "name": "python3"
  },
  "language_info": {
   "codemirror_mode": {
    "name": "ipython",
    "version": 3
   },
   "file_extension": ".py",
   "mimetype": "text/x-python",
   "name": "python",
   "nbconvert_exporter": "python",
   "pygments_lexer": "ipython3",
   "version": "3.7.3"
  }
 },
 "nbformat": 4,
 "nbformat_minor": 4
}
