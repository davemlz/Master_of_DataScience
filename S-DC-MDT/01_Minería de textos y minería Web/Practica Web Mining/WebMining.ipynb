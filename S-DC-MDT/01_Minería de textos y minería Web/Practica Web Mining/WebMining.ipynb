{
 "cells": [
  {
   "cell_type": "code",
   "execution_count": 121,
   "metadata": {},
   "outputs": [
    {
     "name": "stdout",
     "output_type": "stream",
     "text": [
      "Extract information from Rational webpage\n",
      "\n",
      "Company: 2414\n",
      "Type: 2\n",
      "Date: 2020-01-08\n",
      "Title: Roadshow\n",
      "City: 1\n",
      "Institute: Not Available\n",
      "\n",
      "\n",
      "Company: 2414\n",
      "Type: 1\n",
      "Date: 2020-01-09\n",
      "Title: Conference\n",
      "City: 246\n",
      "Institute: 40288251267396ba01267a4b6d8100fb\n",
      "\n",
      "\n",
      "Company: 2414\n",
      "Type: 1\n",
      "Date: 2020-01-21\n",
      "Title: Conference\n",
      "City: 2\n",
      "Institute: Not Available\n",
      "\n",
      "\n",
      "Company: 2414\n",
      "Type: 1\n",
      "Date: 2020-03-19\n",
      "Title: Conference\n",
      "City: 3\n",
      "Institute: Not Available\n",
      "\n",
      "\n",
      "Company: 2414\n",
      "Type: 1\n",
      "Date: 2020-03-26\n",
      "Title: Conference\n",
      "City: Not Available\n",
      "Institute: 8a828487499354c3014d6770452357f9\n",
      "\n",
      "\n",
      "Company: 2414\n",
      "Type: 1\n",
      "Date: 2020-03-31\n",
      "Title: Conference\n",
      "City: 38\n",
      "Institute: Not Available\n",
      "\n",
      "\n",
      "Company: 2414\n",
      "Type: 2\n",
      "Date: 2020-04-22\n",
      "Title: Roadshow\n",
      "City: 2\n",
      "Institute: Not Available\n",
      "\n",
      "\n",
      "Company: 2414\n",
      "Type: 1\n",
      "Date: 2020-05-13\n",
      "Title: Conference\n",
      "City: 187\n",
      "Institute: 8a828487499354c3014a4e5fc6a842d7\n",
      "\n",
      "\n",
      "Company: 2414\n",
      "Type: 1\n",
      "Date: 2020-05-14\n",
      "Title: Conference\n",
      "City: 146\n",
      "Institute: 8a828487499354c3014a4e5fc6a842d7\n",
      "\n",
      "\n",
      "Company: 2414\n",
      "Type: 1\n",
      "Date: 2020-06-03\n",
      "Title: Conference\n",
      "City: 22\n",
      "Institute: ff808081227ad9f7012298b2bc520320\n",
      "\n",
      "\n",
      "Company: 2414\n",
      "Type: 2\n",
      "Date: 2020-06-12\n",
      "Title: Roadshow\n",
      "City: 3\n",
      "Institute: Not Available\n",
      "\n",
      "\n",
      "Company: 2414\n",
      "Type: 1\n",
      "Date: 2020-06-12\n",
      "Title: Conference\n",
      "City: 15\n",
      "Institute: Not Available\n",
      "\n"
     ]
    }
   ],
   "source": [
    "%run WebMiningPython.py"
   ]
  },
  {
   "cell_type": "code",
   "execution_count": 2,
   "metadata": {},
   "outputs": [],
   "source": [
    "import re\n",
    "from dateutil.parser import parse\n",
    "from bs4 import BeautifulSoup\n",
    "from urllib import request\n",
    "import time\n",
    "\n",
    "def altnames(mydict):\n",
    "    aux_mydict = mydict.copy()\n",
    "    for elem in mydict.keys():\n",
    "        if \"/\" in elem:\n",
    "            for alt in elem.split(\"/\"):\n",
    "                aux_mydict[alt] = mydict[elem]\n",
    "            del aux_mydict[elem]\n",
    "    return aux_mydict  \n",
    "\n",
    "\n",
    "############# To be modified #############\n",
    "##currentdate=time.strftime('%Y-%m-%d')\n",
    "currentdate='2019-01-01'\n",
    "TOPIC = \"[Cc]onference|[Rr]oadshow|[Ii]nvestor days?\"\n",
    "pagename=\"Rational\"\n",
    "ID=\"2414\"\n",
    "address=\"https://www.rational-online.com/en_in/Company/Investor_Relations/Financial_and_roadshow_calendar_\"\n",
    "##########################################\n",
    "\n",
    "#the_dict = {\"[Rr]oadshow\":1,\"\"}"
   ]
  },
  {
   "cell_type": "code",
   "execution_count": 3,
   "metadata": {},
   "outputs": [],
   "source": [
    "cities=dict([line.strip().split(\";\") for line in open(\"city.csv\", encoding='ISO-8859-1').readlines()[1:]])"
   ]
  },
  {
   "cell_type": "code",
   "execution_count": 4,
   "metadata": {},
   "outputs": [
    {
     "data": {
      "text/plain": [
       "'Amsterdam'"
      ]
     },
     "execution_count": 4,
     "metadata": {},
     "output_type": "execute_result"
    }
   ],
   "source": [
    "cities[\"1\"]"
   ]
  },
  {
   "cell_type": "code",
   "execution_count": 5,
   "metadata": {},
   "outputs": [
    {
     "data": {
      "text/plain": [
       "'Zurich/Zürich'"
      ]
     },
     "execution_count": 5,
     "metadata": {},
     "output_type": "execute_result"
    }
   ],
   "source": [
    "cities[\"4\"]"
   ]
  },
  {
   "cell_type": "code",
   "execution_count": 6,
   "metadata": {},
   "outputs": [],
   "source": [
    "pcities = dict(zip([x for x in cities.values()],cities.keys()))\n",
    "pcities=altnames(pcities)"
   ]
  },
  {
   "cell_type": "code",
   "execution_count": 7,
   "metadata": {},
   "outputs": [
    {
     "data": {
      "text/plain": [
       "'1'"
      ]
     },
     "execution_count": 7,
     "metadata": {},
     "output_type": "execute_result"
    }
   ],
   "source": [
    "pcities[\"Amsterdam\"]"
   ]
  },
  {
   "cell_type": "code",
   "execution_count": 8,
   "metadata": {},
   "outputs": [
    {
     "data": {
      "text/plain": [
       "('4', '4')"
      ]
     },
     "execution_count": 8,
     "metadata": {},
     "output_type": "execute_result"
    }
   ],
   "source": [
    "pcities[\"Zurich\"],pcities[\"Zürich\"]"
   ]
  },
  {
   "cell_type": "code",
   "execution_count": 9,
   "metadata": {},
   "outputs": [],
   "source": [
    "sponsors=dict([line.strip().split(\";\") for line in open(\"sponsor.csv\").readlines()[1:]])\n",
    "psponsors = dict(zip(sponsors.values(),sponsors.keys()))\n",
    "psponsors = altnames(psponsors)"
   ]
  },
  {
   "cell_type": "code",
   "execution_count": 10,
   "metadata": {},
   "outputs": [],
   "source": [
    "#!pip install lxml"
   ]
  },
  {
   "cell_type": "code",
   "execution_count": 48,
   "metadata": {},
   "outputs": [],
   "source": [
    "url=request.urlopen(address,timeout=None).read()\n",
    "soup = BeautifulSoup(url,\"lxml\")"
   ]
  },
  {
   "cell_type": "code",
   "execution_count": 40,
   "metadata": {},
   "outputs": [
    {
     "data": {
      "text/plain": [
       "4"
      ]
     },
     "execution_count": 40,
     "metadata": {},
     "output_type": "execute_result"
    }
   ],
   "source": [
    "len(soup.find_all(\"table\"))"
   ]
  },
  {
   "cell_type": "code",
   "execution_count": 50,
   "metadata": {},
   "outputs": [],
   "source": [
    "tab = soup.find_all(\"table\")[2]"
   ]
  },
  {
   "cell_type": "code",
   "execution_count": 42,
   "metadata": {},
   "outputs": [
    {
     "data": {
      "text/plain": [
       "<table class=\"table-standard table-mobile\" width=\"100%\">\n",
       "<tbody>\n",
       "<tr>\n",
       "<td class=\"m-head\">Event</td>\n",
       "<td>Preliminary Figures Fiscal Year 2019</td>\n",
       "</tr>\n",
       "<tr>\n",
       "<td class=\"m-head\">Location</td>\n",
       "<td>Landsberg am Lech</td>\n",
       "</tr>\n",
       "<tr>\n",
       "<td class=\"m-head\">Date</td>\n",
       "<td>06 Feb 2020</td>\n",
       "</tr>\n",
       "<tr><td class=\"t-border\"></td><td class=\"t-border\"></td></tr>\n",
       "<tr>\n",
       "<td class=\"m-head\">Event</td>\n",
       "<td>Financial Figures Fiscal Year 2019</td>\n",
       "</tr>\n",
       "<tr>\n",
       "<td class=\"m-head\">Location</td>\n",
       "<td>Hamburg</td>\n",
       "</tr>\n",
       "<tr>\n",
       "<td class=\"m-head\">Date</td>\n",
       "<td>17 Mar 2020</td>\n",
       "</tr>\n",
       "<tr><td class=\"t-border\"></td><td class=\"t-border\"></td></tr>\n",
       "<tr>\n",
       "<td class=\"m-head\">Event</td>\n",
       "<td>Telephone Conference Fiscal Year 2019</td>\n",
       "</tr>\n",
       "<tr>\n",
       "<td class=\"m-head\">Location</td>\n",
       "<td>Hamburg</td>\n",
       "</tr>\n",
       "<tr>\n",
       "<td class=\"m-head\">Date</td>\n",
       "<td>17 Mar 2020</td>\n",
       "</tr>\n",
       "<tr><td class=\"t-border\"></td><td class=\"t-border\"></td></tr>\n",
       "<tr>\n",
       "<td class=\"m-head\">Event</td>\n",
       "<td>Balance Sheet Press Conference Fiscal Year 2019</td>\n",
       "</tr>\n",
       "<tr>\n",
       "<td class=\"m-head\">Location</td>\n",
       "<td>Hamburg</td>\n",
       "</tr>\n",
       "<tr>\n",
       "<td class=\"m-head\">Date</td>\n",
       "<td>17 Mar 2020</td>\n",
       "</tr>\n",
       "<tr><td class=\"t-border\"></td><td class=\"t-border\"></td></tr>\n",
       "<tr>\n",
       "<td class=\"m-head\">Event</td>\n",
       "<td>Capital Markets Day 2020</td>\n",
       "</tr>\n",
       "<tr>\n",
       "<td class=\"m-head\">Location</td>\n",
       "<td>Hamburg</td>\n",
       "</tr>\n",
       "<tr>\n",
       "<td class=\"m-head\">Date</td>\n",
       "<td>17 Mar 2020</td>\n",
       "</tr>\n",
       "<tr><td class=\"t-border\"></td><td class=\"t-border\"></td></tr>\n",
       "<tr>\n",
       "<td class=\"m-head\">Event</td>\n",
       "<td>Financial Figues Q1 2020</td>\n",
       "</tr>\n",
       "<tr>\n",
       "<td class=\"m-head\">Location</td>\n",
       "<td>Landsberg am Lech</td>\n",
       "</tr>\n",
       "<tr>\n",
       "<td class=\"m-head\">Date</td>\n",
       "<td>06 May 2020</td>\n",
       "</tr>\n",
       "<tr><td class=\"t-border\"></td><td class=\"t-border\"></td></tr>\n",
       "<tr>\n",
       "<td class=\"m-head\">Event</td>\n",
       "<td>Telephone Conference Q1 2020</td>\n",
       "</tr>\n",
       "<tr>\n",
       "<td class=\"m-head\">Location</td>\n",
       "<td>Landsberg am Lech</td>\n",
       "</tr>\n",
       "<tr>\n",
       "<td class=\"m-head\">Date</td>\n",
       "<td>06 May 2020</td>\n",
       "</tr>\n",
       "<tr><td class=\"t-border\"></td><td class=\"t-border\"></td></tr>\n",
       "<tr>\n",
       "<td class=\"m-head\">Event</td>\n",
       "<td>General Shareholders' Meeting 2020</td>\n",
       "</tr>\n",
       "<tr>\n",
       "<td class=\"m-head\">Location</td>\n",
       "<td>Augsburg</td>\n",
       "</tr>\n",
       "<tr>\n",
       "<td class=\"m-head\">Date</td>\n",
       "<td>06 May 2020</td>\n",
       "</tr>\n",
       "<tr><td class=\"t-border\"></td><td class=\"t-border\"></td></tr>\n",
       "<tr>\n",
       "<td class=\"m-head\">Event</td>\n",
       "<td>Financial Figures Half Year 2020</td>\n",
       "</tr>\n",
       "<tr>\n",
       "<td class=\"m-head\">Location</td>\n",
       "<td>Landsberg am Lech</td>\n",
       "</tr>\n",
       "<tr>\n",
       "<td class=\"m-head\">Date</td>\n",
       "<td>30 Jul 2020</td>\n",
       "</tr>\n",
       "<tr><td class=\"t-border\"></td><td class=\"t-border\"></td></tr>\n",
       "<tr>\n",
       "<td class=\"m-head\">Event</td>\n",
       "<td>Telephone Conference HY 2020</td>\n",
       "</tr>\n",
       "<tr>\n",
       "<td class=\"m-head\">Location</td>\n",
       "<td>Landsberg am Lech</td>\n",
       "</tr>\n",
       "<tr>\n",
       "<td class=\"m-head\">Date</td>\n",
       "<td>30 Jul 2020</td>\n",
       "</tr>\n",
       "<tr><td class=\"t-border\"></td><td class=\"t-border\"></td></tr>\n",
       "<tr>\n",
       "<td class=\"m-head\">Event</td>\n",
       "<td>Financial Figures 9 Months 2020</td>\n",
       "</tr>\n",
       "<tr>\n",
       "<td class=\"m-head\">Location</td>\n",
       "<td>Landsberg am Lech</td>\n",
       "</tr>\n",
       "<tr>\n",
       "<td class=\"m-head\">Date</td>\n",
       "<td>27 Oct 2020</td>\n",
       "</tr>\n",
       "<tr><td class=\"t-border\"></td><td class=\"t-border\"></td></tr>\n",
       "<tr>\n",
       "<td class=\"m-head\">Event</td>\n",
       "<td>Telephone Conference 9 Months 2020</td>\n",
       "</tr>\n",
       "<tr>\n",
       "<td class=\"m-head\">Location</td>\n",
       "<td>Landsberg am Lech</td>\n",
       "</tr>\n",
       "<tr>\n",
       "<td class=\"m-head\">Date</td>\n",
       "<td>27 Oct 2020</td>\n",
       "</tr>\n",
       "<tr class=\"lastRow\"><td class=\"t-border\"></td><td class=\"t-border\"></td></tr>\n",
       "</tbody>\n",
       "</table>"
      ]
     },
     "execution_count": 42,
     "metadata": {},
     "output_type": "execute_result"
    }
   ],
   "source": [
    "tab\n"
   ]
  },
  {
   "cell_type": "code",
   "execution_count": 43,
   "metadata": {},
   "outputs": [
    {
     "data": {
      "text/plain": [
       "[]"
      ]
     },
     "execution_count": 43,
     "metadata": {},
     "output_type": "execute_result"
    }
   ],
   "source": [
    "tab.find_all(\"span\",{\"class\":\"givacolor\"})"
   ]
  },
  {
   "cell_type": "code",
   "execution_count": 44,
   "metadata": {},
   "outputs": [
    {
     "data": {
      "text/plain": [
       "[<td class=\"m-head\">Event</td>,\n",
       " <td>Preliminary Figures Fiscal Year 2019</td>,\n",
       " <td class=\"m-head\">Location</td>,\n",
       " <td>Landsberg am Lech</td>,\n",
       " <td class=\"m-head\">Date</td>,\n",
       " <td>06 Feb 2020</td>,\n",
       " <td class=\"t-border\"></td>,\n",
       " <td class=\"t-border\"></td>,\n",
       " <td class=\"m-head\">Event</td>,\n",
       " <td>Financial Figures Fiscal Year 2019</td>,\n",
       " <td class=\"m-head\">Location</td>,\n",
       " <td>Hamburg</td>,\n",
       " <td class=\"m-head\">Date</td>,\n",
       " <td>17 Mar 2020</td>,\n",
       " <td class=\"t-border\"></td>,\n",
       " <td class=\"t-border\"></td>,\n",
       " <td class=\"m-head\">Event</td>,\n",
       " <td>Telephone Conference Fiscal Year 2019</td>,\n",
       " <td class=\"m-head\">Location</td>,\n",
       " <td>Hamburg</td>,\n",
       " <td class=\"m-head\">Date</td>,\n",
       " <td>17 Mar 2020</td>,\n",
       " <td class=\"t-border\"></td>,\n",
       " <td class=\"t-border\"></td>,\n",
       " <td class=\"m-head\">Event</td>,\n",
       " <td>Balance Sheet Press Conference Fiscal Year 2019</td>,\n",
       " <td class=\"m-head\">Location</td>,\n",
       " <td>Hamburg</td>,\n",
       " <td class=\"m-head\">Date</td>,\n",
       " <td>17 Mar 2020</td>,\n",
       " <td class=\"t-border\"></td>,\n",
       " <td class=\"t-border\"></td>,\n",
       " <td class=\"m-head\">Event</td>,\n",
       " <td>Capital Markets Day 2020</td>,\n",
       " <td class=\"m-head\">Location</td>,\n",
       " <td>Hamburg</td>,\n",
       " <td class=\"m-head\">Date</td>,\n",
       " <td>17 Mar 2020</td>,\n",
       " <td class=\"t-border\"></td>,\n",
       " <td class=\"t-border\"></td>,\n",
       " <td class=\"m-head\">Event</td>,\n",
       " <td>Financial Figues Q1 2020</td>,\n",
       " <td class=\"m-head\">Location</td>,\n",
       " <td>Landsberg am Lech</td>,\n",
       " <td class=\"m-head\">Date</td>,\n",
       " <td>06 May 2020</td>,\n",
       " <td class=\"t-border\"></td>,\n",
       " <td class=\"t-border\"></td>,\n",
       " <td class=\"m-head\">Event</td>,\n",
       " <td>Telephone Conference Q1 2020</td>,\n",
       " <td class=\"m-head\">Location</td>,\n",
       " <td>Landsberg am Lech</td>,\n",
       " <td class=\"m-head\">Date</td>,\n",
       " <td>06 May 2020</td>,\n",
       " <td class=\"t-border\"></td>,\n",
       " <td class=\"t-border\"></td>,\n",
       " <td class=\"m-head\">Event</td>,\n",
       " <td>General Shareholders' Meeting 2020</td>,\n",
       " <td class=\"m-head\">Location</td>,\n",
       " <td>Augsburg</td>,\n",
       " <td class=\"m-head\">Date</td>,\n",
       " <td>06 May 2020</td>,\n",
       " <td class=\"t-border\"></td>,\n",
       " <td class=\"t-border\"></td>,\n",
       " <td class=\"m-head\">Event</td>,\n",
       " <td>Financial Figures Half Year 2020</td>,\n",
       " <td class=\"m-head\">Location</td>,\n",
       " <td>Landsberg am Lech</td>,\n",
       " <td class=\"m-head\">Date</td>,\n",
       " <td>30 Jul 2020</td>,\n",
       " <td class=\"t-border\"></td>,\n",
       " <td class=\"t-border\"></td>,\n",
       " <td class=\"m-head\">Event</td>,\n",
       " <td>Telephone Conference HY 2020</td>,\n",
       " <td class=\"m-head\">Location</td>,\n",
       " <td>Landsberg am Lech</td>,\n",
       " <td class=\"m-head\">Date</td>,\n",
       " <td>30 Jul 2020</td>,\n",
       " <td class=\"t-border\"></td>,\n",
       " <td class=\"t-border\"></td>,\n",
       " <td class=\"m-head\">Event</td>,\n",
       " <td>Financial Figures 9 Months 2020</td>,\n",
       " <td class=\"m-head\">Location</td>,\n",
       " <td>Landsberg am Lech</td>,\n",
       " <td class=\"m-head\">Date</td>,\n",
       " <td>27 Oct 2020</td>,\n",
       " <td class=\"t-border\"></td>,\n",
       " <td class=\"t-border\"></td>,\n",
       " <td class=\"m-head\">Event</td>,\n",
       " <td>Telephone Conference 9 Months 2020</td>,\n",
       " <td class=\"m-head\">Location</td>,\n",
       " <td>Landsberg am Lech</td>,\n",
       " <td class=\"m-head\">Date</td>,\n",
       " <td>27 Oct 2020</td>,\n",
       " <td class=\"t-border\"></td>,\n",
       " <td class=\"t-border\"></td>]"
      ]
     },
     "execution_count": 44,
     "metadata": {},
     "output_type": "execute_result"
    }
   ],
   "source": [
    "tab.find_all(\"td\")"
   ]
  },
  {
   "cell_type": "code",
   "execution_count": 45,
   "metadata": {},
   "outputs": [
    {
     "data": {
      "text/plain": [
       "<td>Preliminary Figures Fiscal Year 2019</td>"
      ]
     },
     "execution_count": 45,
     "metadata": {},
     "output_type": "execute_result"
    }
   ],
   "source": [
    "tab.find_all(\"td\")[1]"
   ]
  },
  {
   "cell_type": "code",
   "execution_count": 46,
   "metadata": {},
   "outputs": [
    {
     "data": {
      "text/plain": [
       "'Preliminary Figures Fiscal Year 2019'"
      ]
     },
     "execution_count": 46,
     "metadata": {},
     "output_type": "execute_result"
    }
   ],
   "source": [
    "tab.find_all(\"td\")[1].text"
   ]
  },
  {
   "cell_type": "code",
   "execution_count": 47,
   "metadata": {},
   "outputs": [
    {
     "ename": "AttributeError",
     "evalue": "'NavigableString' object has no attribute 'recursiveChildGenerator'",
     "output_type": "error",
     "traceback": [
      "\u001b[1;31m---------------------------------------------------------------------------\u001b[0m",
      "\u001b[1;31mAttributeError\u001b[0m                            Traceback (most recent call last)",
      "\u001b[1;32m<ipython-input-47-af7bc44d643d>\u001b[0m in \u001b[0;36m<module>\u001b[1;34m\u001b[0m\n\u001b[0;32m      1\u001b[0m \u001b[1;32mfor\u001b[0m \u001b[0mrow\u001b[0m \u001b[1;32min\u001b[0m \u001b[0mtab\u001b[0m\u001b[1;33m:\u001b[0m\u001b[1;33m\u001b[0m\u001b[1;33m\u001b[0m\u001b[0m\n\u001b[1;32m----> 2\u001b[1;33m     \u001b[1;32mfor\u001b[0m \u001b[0me\u001b[0m \u001b[1;32min\u001b[0m \u001b[0mrow\u001b[0m\u001b[1;33m.\u001b[0m\u001b[0mrecursiveChildGenerator\u001b[0m\u001b[1;33m(\u001b[0m\u001b[1;33m)\u001b[0m\u001b[1;33m:\u001b[0m\u001b[1;33m\u001b[0m\u001b[1;33m\u001b[0m\u001b[0m\n\u001b[0m\u001b[0;32m      3\u001b[0m         \u001b[1;32mif\u001b[0m \u001b[0misinstance\u001b[0m\u001b[1;33m(\u001b[0m\u001b[0me\u001b[0m\u001b[1;33m,\u001b[0m\u001b[0mstr\u001b[0m\u001b[1;33m)\u001b[0m\u001b[1;33m:\u001b[0m\u001b[1;33m\u001b[0m\u001b[1;33m\u001b[0m\u001b[0m\n\u001b[0;32m      4\u001b[0m             \u001b[0mprint\u001b[0m\u001b[1;33m(\u001b[0m\u001b[1;34m\"++++++++++++++++++\"\u001b[0m\u001b[1;33m)\u001b[0m\u001b[1;33m\u001b[0m\u001b[1;33m\u001b[0m\u001b[0m\n\u001b[0;32m      5\u001b[0m             \u001b[0mprint\u001b[0m\u001b[1;33m(\u001b[0m\u001b[0me\u001b[0m\u001b[1;33m)\u001b[0m\u001b[1;33m\u001b[0m\u001b[1;33m\u001b[0m\u001b[0m\n",
      "\u001b[1;32m~\\Anaconda3\\lib\\site-packages\\bs4\\element.py\u001b[0m in \u001b[0;36m__getattr__\u001b[1;34m(self, attr)\u001b[0m\n\u001b[0;32m    869\u001b[0m             raise AttributeError(\n\u001b[0;32m    870\u001b[0m                 \"'%s' object has no attribute '%s'\" % (\n\u001b[1;32m--> 871\u001b[1;33m                     self.__class__.__name__, attr))\n\u001b[0m\u001b[0;32m    872\u001b[0m \u001b[1;33m\u001b[0m\u001b[0m\n\u001b[0;32m    873\u001b[0m     \u001b[1;32mdef\u001b[0m \u001b[0moutput_ready\u001b[0m\u001b[1;33m(\u001b[0m\u001b[0mself\u001b[0m\u001b[1;33m,\u001b[0m \u001b[0mformatter\u001b[0m\u001b[1;33m=\u001b[0m\u001b[1;34m\"minimal\"\u001b[0m\u001b[1;33m)\u001b[0m\u001b[1;33m:\u001b[0m\u001b[1;33m\u001b[0m\u001b[1;33m\u001b[0m\u001b[0m\n",
      "\u001b[1;31mAttributeError\u001b[0m: 'NavigableString' object has no attribute 'recursiveChildGenerator'"
     ]
    }
   ],
   "source": [
    "for row in tab:\n",
    "    for e in row.recursiveChildGenerator():\n",
    "        if isinstance(e,str):\n",
    "            print(\"++++++++++++++++++\")\n",
    "            print(e)"
   ]
  },
  {
   "cell_type": "code",
   "execution_count": 106,
   "metadata": {},
   "outputs": [
    {
     "name": "stdout",
     "output_type": "stream",
     "text": [
      "Company: 2414\n",
      "Type: 2\n",
      "Date: 2020-01-08\n",
      "Title: Roadshow\n",
      "City: 1\n",
      "Institute: Not Available\n",
      "\n",
      "Company: 2414\n",
      "Type: 1\n",
      "Date: 2020-01-09\n",
      "Title: Conference\n",
      "City: 246\n",
      "Institute: 40288251267396ba01267a4b6d8100fb\n",
      "\n",
      "Company: 2414\n",
      "Type: 1\n",
      "Date: 2020-01-21\n",
      "Title: Conference\n",
      "City: 2\n",
      "Institute: Not Available\n",
      "\n",
      "Company: 2414\n",
      "Type: 1\n",
      "Date: 2020-03-19\n",
      "Title: Conference\n",
      "City: 3\n",
      "Institute: Not Available\n",
      "\n",
      "Company: 2414\n",
      "Type: 1\n",
      "Date: 2020-03-26\n",
      "Title: Conference\n",
      "City: 3\n",
      "Institute: 8a828487499354c3014d6770452357f9\n",
      "\n",
      "Company: 2414\n",
      "Type: 1\n",
      "Date: 2020-03-31\n",
      "Title: Conference\n",
      "City: 38\n",
      "Institute: Not Available\n",
      "\n",
      "Company: 2414\n",
      "Type: 2\n",
      "Date: 2020-04-22\n",
      "Title: Roadshow\n",
      "City: 2\n",
      "Institute: Not Available\n",
      "\n",
      "Company: 2414\n",
      "Type: 1\n",
      "Date: 2020-05-13\n",
      "Title: Conference\n",
      "City: 187\n",
      "Institute: 8a828487499354c3014a4e5fc6a842d7\n",
      "\n",
      "Company: 2414\n",
      "Type: 1\n",
      "Date: 2020-05-14\n",
      "Title: Conference\n",
      "City: 146\n",
      "Institute: 8a828487499354c3014a4e5fc6a842d7\n",
      "\n",
      "Company: 2414\n",
      "Type: 1\n",
      "Date: 2020-06-03\n",
      "Title: Conference\n",
      "City: 22\n",
      "Institute: ff808081227ad9f7012298b2bc520320\n",
      "\n",
      "Company: 2414\n",
      "Type: 2\n",
      "Date: 2020-06-12\n",
      "Title: Roadshow\n",
      "City: 3\n",
      "Institute: Not Available\n",
      "\n",
      "Company: 2414\n",
      "Type: 1\n",
      "Date: 2020-06-12\n",
      "Title: Conference\n",
      "City: 15\n",
      "Institute: Not Available\n",
      "\n"
     ]
    }
   ],
   "source": [
    "the_table = soup.find_all(\"table\")[2].find_all(\"tr\")\n",
    "\n",
    "for row in the_table:\n",
    "    \n",
    "    line = [elem.text.strip() for elem in row.find_all(\"td\")]\n",
    "    line = \"$\".join(line)\n",
    "    \n",
    "    m = re.search(TOPIC,line)\n",
    "    \n",
    "    if m != None:\n",
    "        \n",
    "        r = \"(.*)\\$(.*)\\$(.*)\\$(.*)\"\n",
    "        n = re.search(r,line)\n",
    "        \n",
    "        if n.group(1).lower() == \"conference\":\n",
    "            t = 1\n",
    "        elif n.group(1).lower() == \"roadshow\":\n",
    "            t = 2\n",
    "        else:\n",
    "            t = 3\n",
    "        \n",
    "        date = n.group(4)\n",
    "        date = parse(date,dayfirst = True).strftime('%Y-%m-%d')\n",
    "\n",
    "        if n.group(2) in pcities.keys():\n",
    "            c = pcities[n.group(2)]\n",
    "        \n",
    "        if n.group(3) in psponsors.keys():\n",
    "            s = psponsors[n.group(3)]\n",
    "        else:\n",
    "            s = \"Not Available\"\n",
    "        \n",
    "        print(\"Company:\",ID)\n",
    "        print(\"Type:\",t)\n",
    "        print(\"Date:\",date)\n",
    "        print(\"Title:\",n.group(1))\n",
    "        print(\"City:\",c)\n",
    "        print(\"Institute:\",s)\n",
    "        \n",
    "        print(\"\")"
   ]
  },
  {
   "cell_type": "code",
   "execution_count": null,
   "metadata": {},
   "outputs": [],
   "source": []
  },
  {
   "cell_type": "code",
   "execution_count": 68,
   "metadata": {},
   "outputs": [
    {
     "data": {
      "text/plain": [
       "<tr>\n",
       "<td colspan=\"1\" rowspan=\"1\"><span class=\"my-ui-table-cell-label\">Roadshow</span></td>\n",
       "<td colspan=\"1\" rowspan=\"1\"><span class=\"my-ui-table-cell-label\">Amsterdam</span></td>\n",
       "<td colspan=\"1\" rowspan=\"1\"><span class=\"my-ui-table-cell-label\">KeplerCheuvreux</span></td>\n",
       "<td colspan=\"1\" rowspan=\"1\"><span class=\"my-ui-table-cell-label\">08 Jan 2020</span></td>\n",
       "</tr>"
      ]
     },
     "execution_count": 68,
     "metadata": {},
     "output_type": "execute_result"
    }
   ],
   "source": [
    "row  = soup.find_all(\"table\")[2].find_all(\"tr\")[1]\n",
    "row"
   ]
  },
  {
   "cell_type": "code",
   "execution_count": 70,
   "metadata": {},
   "outputs": [
    {
     "data": {
      "text/plain": [
       "['Roadshow', 'Amsterdam', 'KeplerCheuvreux', '08 Jan 2020']"
      ]
     },
     "execution_count": 70,
     "metadata": {},
     "output_type": "execute_result"
    }
   ],
   "source": [
    "line=[elem.text.strip() for elem in row.find_all(\"td\")]\n",
    "line"
   ]
  },
  {
   "cell_type": "code",
   "execution_count": 71,
   "metadata": {},
   "outputs": [
    {
     "data": {
      "text/plain": [
       "'Roadshow$Amsterdam$KeplerCheuvreux$08 Jan 2020'"
      ]
     },
     "execution_count": 71,
     "metadata": {},
     "output_type": "execute_result"
    }
   ],
   "source": [
    "line = \"$\".join(line)\n",
    "line"
   ]
  },
  {
   "cell_type": "code",
   "execution_count": 72,
   "metadata": {},
   "outputs": [
    {
     "name": "stdout",
     "output_type": "stream",
     "text": [
      "True\n"
     ]
    }
   ],
   "source": [
    "m1 = re.search(TOPIC,line)\n",
    "print(m1 != None)"
   ]
  },
  {
   "cell_type": "code",
   "execution_count": 73,
   "metadata": {},
   "outputs": [
    {
     "data": {
      "text/plain": [
       "'Roadshow'"
      ]
     },
     "execution_count": 73,
     "metadata": {},
     "output_type": "execute_result"
    }
   ],
   "source": [
    "m1.group(0)"
   ]
  },
  {
   "cell_type": "code",
   "execution_count": 108,
   "metadata": {},
   "outputs": [
    {
     "data": {
      "text/plain": [
       "<re.Match object; span=(0, 35), match='Conference$Hamburg$Warburg$Jun 2020'>"
      ]
     },
     "execution_count": 108,
     "metadata": {},
     "output_type": "execute_result"
    }
   ],
   "source": [
    "r=\"(.*)\\$(.*)\\$(.*)\\$(.*)\"\n",
    "m2=re.search(r,line)\n",
    "m2"
   ]
  },
  {
   "cell_type": "code",
   "execution_count": 109,
   "metadata": {},
   "outputs": [
    {
     "data": {
      "text/plain": [
       "('Conference$Hamburg$Warburg$Jun 2020',\n",
       " 'Conference',\n",
       " 'Hamburg',\n",
       " 'Warburg',\n",
       " 'Jun 2020')"
      ]
     },
     "execution_count": 109,
     "metadata": {},
     "output_type": "execute_result"
    }
   ],
   "source": [
    "m2.group(0),m2.group(1),m2.group(2),m2.group(3),m2.group(4)"
   ]
  },
  {
   "cell_type": "code",
   "execution_count": 76,
   "metadata": {},
   "outputs": [
    {
     "data": {
      "text/plain": [
       "'08 Jan 2020'"
      ]
     },
     "execution_count": 76,
     "metadata": {},
     "output_type": "execute_result"
    }
   ],
   "source": [
    "date=m2.group(3)\n",
    "date"
   ]
  },
  {
   "cell_type": "code",
   "execution_count": 77,
   "metadata": {},
   "outputs": [
    {
     "data": {
      "text/plain": [
       "'2020-01-08'"
      ]
     },
     "execution_count": 77,
     "metadata": {},
     "output_type": "execute_result"
    }
   ],
   "source": [
    "parse(date,dayfirst=True).strftime('%Y-%m-%d')"
   ]
  },
  {
   "cell_type": "code",
   "execution_count": 30,
   "metadata": {},
   "outputs": [
    {
     "data": {
      "text/plain": [
       "'2019-01-10'"
      ]
     },
     "execution_count": 30,
     "metadata": {},
     "output_type": "execute_result"
    }
   ],
   "source": [
    "parse('10 January 2019',dayfirst=True).strftime('%Y-%m-%d')"
   ]
  },
  {
   "cell_type": "code",
   "execution_count": 111,
   "metadata": {},
   "outputs": [],
   "source": [
    "r=\"\\d{1,2}(/\\d{1,2})? [A-Z][a-z]+ \\d{4}\""
   ]
  },
  {
   "cell_type": "code",
   "execution_count": 112,
   "metadata": {},
   "outputs": [],
   "source": [
    "dm=re.search(r,date)\n",
    "dm"
   ]
  },
  {
   "cell_type": "code",
   "execution_count": 113,
   "metadata": {},
   "outputs": [
    {
     "ename": "AttributeError",
     "evalue": "'NoneType' object has no attribute 'group'",
     "output_type": "error",
     "traceback": [
      "\u001b[1;31m---------------------------------------------------------------------------\u001b[0m",
      "\u001b[1;31mAttributeError\u001b[0m                            Traceback (most recent call last)",
      "\u001b[1;32m<ipython-input-113-736ff5a05b6e>\u001b[0m in \u001b[0;36m<module>\u001b[1;34m\u001b[0m\n\u001b[1;32m----> 1\u001b[1;33m \u001b[0mfirstPart\u001b[0m\u001b[1;33m=\u001b[0m\u001b[0mdm\u001b[0m\u001b[1;33m.\u001b[0m\u001b[0mgroup\u001b[0m\u001b[1;33m(\u001b[0m\u001b[1;36m0\u001b[0m\u001b[1;33m)\u001b[0m\u001b[1;33m\u001b[0m\u001b[1;33m\u001b[0m\u001b[0m\n\u001b[0m\u001b[0;32m      2\u001b[0m \u001b[0mfirstPart\u001b[0m \u001b[1;33m=\u001b[0m \u001b[0mre\u001b[0m\u001b[1;33m.\u001b[0m\u001b[0msub\u001b[0m\u001b[1;33m(\u001b[0m\u001b[1;34m\"/\\d{1,2}\"\u001b[0m\u001b[1;33m,\u001b[0m\u001b[1;34m\"\"\u001b[0m\u001b[1;33m,\u001b[0m\u001b[0mfirstPart\u001b[0m\u001b[1;33m)\u001b[0m\u001b[1;33m\u001b[0m\u001b[1;33m\u001b[0m\u001b[0m\n\u001b[0;32m      3\u001b[0m \u001b[0mfirstPart\u001b[0m\u001b[1;33m\u001b[0m\u001b[1;33m\u001b[0m\u001b[0m\n",
      "\u001b[1;31mAttributeError\u001b[0m: 'NoneType' object has no attribute 'group'"
     ]
    }
   ],
   "source": [
    "firstPart=dm.group(0)\n",
    "firstPart = re.sub(\"/\\d{1,2}\",\"\",firstPart)\n",
    "firstPart"
   ]
  },
  {
   "cell_type": "code",
   "execution_count": 114,
   "metadata": {},
   "outputs": [
    {
     "ename": "AttributeError",
     "evalue": "'NoneType' object has no attribute 'group'",
     "output_type": "error",
     "traceback": [
      "\u001b[1;31m---------------------------------------------------------------------------\u001b[0m",
      "\u001b[1;31mAttributeError\u001b[0m                            Traceback (most recent call last)",
      "\u001b[1;32m<ipython-input-114-ffb3bfdb0153>\u001b[0m in \u001b[0;36m<module>\u001b[1;34m\u001b[0m\n\u001b[1;32m----> 1\u001b[1;33m \u001b[0mdm\u001b[0m\u001b[1;33m.\u001b[0m\u001b[0mgroup\u001b[0m\u001b[1;33m(\u001b[0m\u001b[1;36m1\u001b[0m\u001b[1;33m)\u001b[0m\u001b[1;33m\u001b[0m\u001b[1;33m\u001b[0m\u001b[0m\n\u001b[0m",
      "\u001b[1;31mAttributeError\u001b[0m: 'NoneType' object has no attribute 'group'"
     ]
    }
   ],
   "source": [
    "dm.group(1)"
   ]
  },
  {
   "cell_type": "code",
   "execution_count": 115,
   "metadata": {},
   "outputs": [
    {
     "ename": "AttributeError",
     "evalue": "'NoneType' object has no attribute 'group'",
     "output_type": "error",
     "traceback": [
      "\u001b[1;31m---------------------------------------------------------------------------\u001b[0m",
      "\u001b[1;31mAttributeError\u001b[0m                            Traceback (most recent call last)",
      "\u001b[1;32m<ipython-input-115-db6b42e81e4f>\u001b[0m in \u001b[0;36m<module>\u001b[1;34m\u001b[0m\n\u001b[1;32m----> 1\u001b[1;33m \u001b[1;32mif\u001b[0m \u001b[0mdm\u001b[0m\u001b[1;33m.\u001b[0m\u001b[0mgroup\u001b[0m\u001b[1;33m(\u001b[0m\u001b[1;36m1\u001b[0m\u001b[1;33m)\u001b[0m\u001b[1;33m:\u001b[0m\u001b[1;33m\u001b[0m\u001b[1;33m\u001b[0m\u001b[0m\n\u001b[0m\u001b[0;32m      2\u001b[0m     \u001b[0mprint\u001b[0m\u001b[1;33m(\u001b[0m\u001b[0mparse\u001b[0m\u001b[1;33m(\u001b[0m\u001b[0mfirstPart\u001b[0m\u001b[1;33m)\u001b[0m\u001b[1;33m.\u001b[0m\u001b[0mstrftime\u001b[0m\u001b[1;33m(\u001b[0m\u001b[1;34m'%Y-%m-%d'\u001b[0m\u001b[1;33m)\u001b[0m\u001b[1;33m+\u001b[0m\u001b[0mdm\u001b[0m\u001b[1;33m.\u001b[0m\u001b[0mgroup\u001b[0m\u001b[1;33m(\u001b[0m\u001b[1;36m1\u001b[0m\u001b[1;33m)\u001b[0m\u001b[1;33m)\u001b[0m\u001b[1;33m\u001b[0m\u001b[1;33m\u001b[0m\u001b[0m\n",
      "\u001b[1;31mAttributeError\u001b[0m: 'NoneType' object has no attribute 'group'"
     ]
    }
   ],
   "source": [
    "if dm.group(1):\n",
    "    print(parse(firstPart).strftime('%Y-%m-%d')+dm.group(1)) "
   ]
  },
  {
   "cell_type": "code",
   "execution_count": 116,
   "metadata": {},
   "outputs": [
    {
     "data": {
      "text/plain": [
       "101.50000000000001"
      ]
     },
     "execution_count": 116,
     "metadata": {},
     "output_type": "execute_result"
    }
   ],
   "source": [
    "x = 1.10 * 10**2\n",
    "y = .085 * 10**2\n",
    "x - y "
   ]
  }
 ],
 "metadata": {
  "kernelspec": {
   "display_name": "Python 3",
   "language": "python",
   "name": "python3"
  },
  "language_info": {
   "codemirror_mode": {
    "name": "ipython",
    "version": 3
   },
   "file_extension": ".py",
   "mimetype": "text/x-python",
   "name": "python",
   "nbconvert_exporter": "python",
   "pygments_lexer": "ipython3",
   "version": "3.7.3"
  }
 },
 "nbformat": 4,
 "nbformat_minor": 4
}
