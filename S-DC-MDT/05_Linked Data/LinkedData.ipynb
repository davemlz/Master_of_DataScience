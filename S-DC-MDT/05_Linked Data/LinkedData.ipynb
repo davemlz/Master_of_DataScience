{
  "nbformat": 4,
  "nbformat_minor": 0,
  "metadata": {
    "kernelspec": {
      "display_name": "Python 3",
      "language": "python",
      "name": "python3"
    },
    "language_info": {
      "codemirror_mode": {
        "name": "ipython",
        "version": 3
      },
      "file_extension": ".py",
      "mimetype": "text/x-python",
      "name": "python",
      "nbconvert_exporter": "python",
      "pygments_lexer": "ipython3",
      "version": "3.6.6"
    },
    "colab": {
      "name": "LinkedData.ipynb",
      "provenance": []
    }
  },
  "cells": [
    {
      "cell_type": "markdown",
      "metadata": {
        "id": "fh0V3BPDdWhN",
        "colab_type": "text"
      },
      "source": [
        "# Linked Data con Python\n",
        "\n",
        "Usaremos:\n",
        "\n",
        "* gastrodon: Toolkit to display, analyze, and visualize data and documents based on RDF graphs and the SPARQL query language using Pandas, Jupyter, and other Python ecosystem tools. https://github.com/paulhoule/gastrodon\n",
        "* sys\n",
        "* pandas \n",
        "\n",
        "<div class=\"alert alert-warning\" role=\"alert\" style=\"margin: 10px\">\n",
        "Para instalar la librería:<br>\n",
        "jovyan@9778f76bfaea:~$ /opt/conda/bin/pip install gastrodon\n",
        "</div>"
      ]
    },
    {
      "cell_type": "markdown",
      "metadata": {
        "id": "nCpe54WpdWhQ",
        "colab_type": "text"
      },
      "source": [
        "## Cargamos el entorno"
      ]
    },
    {
      "cell_type": "code",
      "metadata": {
        "id": "vZcopW4fddhC",
        "colab_type": "code",
        "colab": {
          "base_uri": "https://localhost:8080/",
          "height": 798
        },
        "outputId": "b1469f6e-ab77-425e-dd71-b389f22fea14"
      },
      "source": [
        "!pip install gastrodon"
      ],
      "execution_count": 2,
      "outputs": [
        {
          "output_type": "stream",
          "text": [
            "Collecting gastrodon\n",
            "  Downloading https://files.pythonhosted.org/packages/0e/05/64c50e00f6afa761d93a875e64a9d40a673a602d926e97b8bce502f4beb2/gastrodon-0.9.3-py3-none-any.whl\n",
            "Collecting ipython-autotime\n",
            "  Downloading https://files.pythonhosted.org/packages/e6/f9/0626bbdb322e3a078d968e87e3b01341e7890544de891d0cb613641220e6/ipython-autotime-0.1.tar.bz2\n",
            "Requirement already satisfied: bs4 in /usr/local/lib/python3.6/dist-packages (from gastrodon) (0.0.1)\n",
            "Collecting uritools\n",
            "  Downloading https://files.pythonhosted.org/packages/eb/1a/5995c0a000ef116111b9af9303349ba97ec2446d2c9a79d2df028a3e3b19/uritools-3.0.0-py3-none-any.whl\n",
            "Requirement already satisfied: IPython in /usr/local/lib/python3.6/dist-packages (from gastrodon) (5.5.0)\n",
            "Requirement already satisfied: pandas in /usr/local/lib/python3.6/dist-packages (from gastrodon) (0.25.3)\n",
            "Collecting rdflib\n",
            "\u001b[?25l  Downloading https://files.pythonhosted.org/packages/3c/fe/630bacb652680f6d481b9febbb3e2c3869194a1a5fc3401a4a41195a2f8f/rdflib-4.2.2-py3-none-any.whl (344kB)\n",
            "\u001b[K     |████████████████████████████████| 348kB 4.2MB/s \n",
            "\u001b[?25hRequirement already satisfied: pyparsing in /usr/local/lib/python3.6/dist-packages (from gastrodon) (2.4.6)\n",
            "Collecting SPARQLWrapper\n",
            "  Downloading https://files.pythonhosted.org/packages/00/9b/443fbe06996c080ee9c1f01b04e2f683b2b07e149905f33a2397ee3b80a2/SPARQLWrapper-1.8.5-py3-none-any.whl\n",
            "Requirement already satisfied: matplotlib in /usr/local/lib/python3.6/dist-packages (from gastrodon) (3.1.3)\n",
            "Requirement already satisfied: beautifulsoup4 in /usr/local/lib/python3.6/dist-packages (from bs4->gastrodon) (4.6.3)\n",
            "Requirement already satisfied: pexpect; sys_platform != \"win32\" in /usr/local/lib/python3.6/dist-packages (from IPython->gastrodon) (4.8.0)\n",
            "Requirement already satisfied: simplegeneric>0.8 in /usr/local/lib/python3.6/dist-packages (from IPython->gastrodon) (0.8.1)\n",
            "Requirement already satisfied: pickleshare in /usr/local/lib/python3.6/dist-packages (from IPython->gastrodon) (0.7.5)\n",
            "Requirement already satisfied: setuptools>=18.5 in /usr/local/lib/python3.6/dist-packages (from IPython->gastrodon) (45.2.0)\n",
            "Requirement already satisfied: traitlets>=4.2 in /usr/local/lib/python3.6/dist-packages (from IPython->gastrodon) (4.3.3)\n",
            "Requirement already satisfied: decorator in /usr/local/lib/python3.6/dist-packages (from IPython->gastrodon) (4.4.1)\n",
            "Requirement already satisfied: pygments in /usr/local/lib/python3.6/dist-packages (from IPython->gastrodon) (2.1.3)\n",
            "Requirement already satisfied: prompt-toolkit<2.0.0,>=1.0.4 in /usr/local/lib/python3.6/dist-packages (from IPython->gastrodon) (1.0.18)\n",
            "Requirement already satisfied: numpy>=1.13.3 in /usr/local/lib/python3.6/dist-packages (from pandas->gastrodon) (1.17.5)\n",
            "Requirement already satisfied: pytz>=2017.2 in /usr/local/lib/python3.6/dist-packages (from pandas->gastrodon) (2018.9)\n",
            "Requirement already satisfied: python-dateutil>=2.6.1 in /usr/local/lib/python3.6/dist-packages (from pandas->gastrodon) (2.6.1)\n",
            "Collecting isodate\n",
            "\u001b[?25l  Downloading https://files.pythonhosted.org/packages/9b/9f/b36f7774ff5ea8e428fdcfc4bb332c39ee5b9362ddd3d40d9516a55221b2/isodate-0.6.0-py2.py3-none-any.whl (45kB)\n",
            "\u001b[K     |████████████████████████████████| 51kB 7.8MB/s \n",
            "\u001b[?25hRequirement already satisfied: kiwisolver>=1.0.1 in /usr/local/lib/python3.6/dist-packages (from matplotlib->gastrodon) (1.1.0)\n",
            "Requirement already satisfied: cycler>=0.10 in /usr/local/lib/python3.6/dist-packages (from matplotlib->gastrodon) (0.10.0)\n",
            "Requirement already satisfied: ptyprocess>=0.5 in /usr/local/lib/python3.6/dist-packages (from pexpect; sys_platform != \"win32\"->IPython->gastrodon) (0.6.0)\n",
            "Requirement already satisfied: ipython-genutils in /usr/local/lib/python3.6/dist-packages (from traitlets>=4.2->IPython->gastrodon) (0.2.0)\n",
            "Requirement already satisfied: six in /usr/local/lib/python3.6/dist-packages (from traitlets>=4.2->IPython->gastrodon) (1.12.0)\n",
            "Requirement already satisfied: wcwidth in /usr/local/lib/python3.6/dist-packages (from prompt-toolkit<2.0.0,>=1.0.4->IPython->gastrodon) (0.1.8)\n",
            "Building wheels for collected packages: ipython-autotime\n",
            "  Building wheel for ipython-autotime (setup.py) ... \u001b[?25l\u001b[?25hdone\n",
            "  Created wheel for ipython-autotime: filename=ipython_autotime-0.1-cp36-none-any.whl size=1832 sha256=44d8a2f3e114f3b7027b47de87218bf4b9239cc6d2ac966e99f0687770f328be\n",
            "  Stored in directory: /root/.cache/pip/wheels/d2/df/81/2db1e54bc91002cec40334629bc39cfa86dff540b304ebcd6e\n",
            "Successfully built ipython-autotime\n",
            "Installing collected packages: ipython-autotime, uritools, isodate, rdflib, SPARQLWrapper, gastrodon\n",
            "Successfully installed SPARQLWrapper-1.8.5 gastrodon-0.9.3 ipython-autotime-0.1 isodate-0.6.0 rdflib-4.2.2 uritools-3.0.0\n"
          ],
          "name": "stdout"
        }
      ]
    },
    {
      "cell_type": "code",
      "metadata": {
        "id": "m3tmkG_4dWhS",
        "colab_type": "code",
        "colab": {}
      },
      "source": [
        "import sys\n",
        "from gastrodon import RemoteEndpoint,QName,ttl,URIRef,inline\n",
        "import pandas as pd\n",
        "import matplotlib.pyplot as plt\n",
        "import numpy as np\n",
        "from matplotlib import colors\n",
        "from matplotlib.ticker import PercentFormatter\n",
        "from IPython.display import display, HTML\n",
        "pd.options.display.width=120\n",
        "pd.options.display.max_colwidth=100"
      ],
      "execution_count": 0,
      "outputs": []
    },
    {
      "cell_type": "markdown",
      "metadata": {
        "id": "3BpIBX0ndWhW",
        "colab_type": "text"
      },
      "source": [
        "Definimos los prefijos que de los \"namespace\" a utilizar"
      ]
    },
    {
      "cell_type": "code",
      "metadata": {
        "id": "zz8BbOtGdWhY",
        "colab_type": "code",
        "colab": {}
      },
      "source": [
        "prefixes=inline(\"\"\"\n",
        "    @prefix : <http://dbpedia.org/resource/> .\n",
        "    @prefix dbp: <http://dbpedia.org/ontology/> .\n",
        "    @prefix pr: <http://dbpedia.org/property/> .\n",
        "    @prefix foaf: <http://xmlns.com/foaf/0.1/> .\n",
        "\"\"\").graph"
      ],
      "execution_count": 0,
      "outputs": []
    },
    {
      "cell_type": "markdown",
      "metadata": {
        "id": "tdUuAUwpdWhb",
        "colab_type": "text"
      },
      "source": [
        "Y el endpoint sobre el que vamos a hacer las consultas. En este caso, dbpedia."
      ]
    },
    {
      "cell_type": "code",
      "metadata": {
        "id": "3G3RTWWvdWhc",
        "colab_type": "code",
        "colab": {}
      },
      "source": [
        "endpoint=RemoteEndpoint(\n",
        "    \"http://dbpedia.org/sparql/\"\n",
        "    ,default_graph=\"http://dbpedia.org\"\n",
        "    ,prefixes=prefixes\n",
        "    ,base_uri=\"http://dbpedia.org/resource/\"\n",
        ")"
      ],
      "execution_count": 0,
      "outputs": []
    },
    {
      "cell_type": "markdown",
      "metadata": {
        "id": "D27L8PEOdWhh",
        "colab_type": "text"
      },
      "source": [
        "## Tripletas en DBpedia\n",
        "\n",
        "Con una consulta simple, podemos contar el número de tripletas"
      ]
    },
    {
      "cell_type": "code",
      "metadata": {
        "id": "6bJg1SI0dWhj",
        "colab_type": "code",
        "colab": {
          "base_uri": "https://localhost:8080/",
          "height": 34
        },
        "outputId": "8aeb61cc-183e-42b6-8145-56e91c5beea7"
      },
      "source": [
        "count=endpoint.select(\"\"\"\n",
        "    SELECT (COUNT(*) AS ?count) { ?s ?p ?o .}\n",
        "\"\"\").at[0,\"count\"]\n",
        "count"
      ],
      "execution_count": 6,
      "outputs": [
        {
          "output_type": "execute_result",
          "data": {
            "text/plain": [
              "438336346"
            ]
          },
          "metadata": {
            "tags": []
          },
          "execution_count": 6
        }
      ]
    },
    {
      "cell_type": "markdown",
      "metadata": {
        "id": "B6TyfW4SdWhp",
        "colab_type": "text"
      },
      "source": [
        "## Número de predicados\n",
        "\n",
        "Para la siguiente consulta, hacemos una lista de predicados comunes. El número de respuestas en el endpoint de DBPEDIA está limitado a 10000.\n",
        "\n",
        "Each predicate is a relationship between a topic and either another topic or a literal value.  For instance,  the **rdf:type** predicate links a topic to another topic representing a class that the first topic is an instance,  for instance:\n",
        "\n",
        "```\n",
        "<Alan_Alda> rdf:type on:Person .\n",
        "```\n",
        "\n",
        "**rdfs:label**,  on the other hand,  links topics to literal values,  such as\n",
        "\n",
        "```\n",
        "<Alan_Alda> rdfs:label \n",
        "                \"Alan Alda\"@en,\n",
        "                \"アラン・アルダ\"@ja . \n",
        "```\n",
        "\n",
        "Strings in RDF (like the one above) are unusual compared to other computer languages because they can contain language tags,  a particularly helpful feature for multilingual databases such as DBpedia."
      ]
    },
    {
      "cell_type": "code",
      "metadata": {
        "scrolled": false,
        "id": "aRpr5l3zdWhr",
        "colab_type": "code",
        "colab": {
          "base_uri": "https://localhost:8080/",
          "height": 436
        },
        "outputId": "fab6559b-afb6-4035-ed04-f451f4bc14f8"
      },
      "source": [
        "predicates=endpoint.select(\"\"\"\n",
        "    SELECT ?p (COUNT(*) AS ?count) { ?s ?p ?o .} GROUP BY ?p ORDER BY DESC(?count)\n",
        "\"\"\")\n",
        "predicates"
      ],
      "execution_count": 7,
      "outputs": [
        {
          "output_type": "execute_result",
          "data": {
            "text/html": [
              "<div>\n",
              "<style scoped>\n",
              "    .dataframe tbody tr th:only-of-type {\n",
              "        vertical-align: middle;\n",
              "    }\n",
              "\n",
              "    .dataframe tbody tr th {\n",
              "        vertical-align: top;\n",
              "    }\n",
              "\n",
              "    .dataframe thead th {\n",
              "        text-align: right;\n",
              "    }\n",
              "</style>\n",
              "<table border=\"1\" class=\"dataframe\">\n",
              "  <thead>\n",
              "    <tr style=\"text-align: right;\">\n",
              "      <th></th>\n",
              "      <th>count</th>\n",
              "    </tr>\n",
              "    <tr>\n",
              "      <th>p</th>\n",
              "      <th></th>\n",
              "    </tr>\n",
              "  </thead>\n",
              "  <tbody>\n",
              "    <tr>\n",
              "      <th>rdf:type</th>\n",
              "      <td>113715836</td>\n",
              "    </tr>\n",
              "    <tr>\n",
              "      <th>http://www.w3.org/2002/07/owl#sameAs</th>\n",
              "      <td>33623686</td>\n",
              "    </tr>\n",
              "    <tr>\n",
              "      <th>http://purl.org/dc/terms/subject</th>\n",
              "      <td>23990492</td>\n",
              "    </tr>\n",
              "    <tr>\n",
              "      <th>rdfs:label</th>\n",
              "      <td>22430849</td>\n",
              "    </tr>\n",
              "    <tr>\n",
              "      <th>http://www.w3.org/ns/prov#wasDerivedFrom</th>\n",
              "      <td>15801282</td>\n",
              "    </tr>\n",
              "    <tr>\n",
              "      <th>...</th>\n",
              "      <td>...</td>\n",
              "    </tr>\n",
              "    <tr>\n",
              "      <th>pr:buschCarTeam</th>\n",
              "      <td>135</td>\n",
              "    </tr>\n",
              "    <tr>\n",
              "      <th>pr:majorsites</th>\n",
              "      <td>135</td>\n",
              "    </tr>\n",
              "    <tr>\n",
              "      <th>ns1:v4b</th>\n",
              "      <td>135</td>\n",
              "    </tr>\n",
              "    <tr>\n",
              "      <th>ns10:a</th>\n",
              "      <td>135</td>\n",
              "    </tr>\n",
              "    <tr>\n",
              "      <th>pr:seats1Last</th>\n",
              "      <td>134</td>\n",
              "    </tr>\n",
              "  </tbody>\n",
              "</table>\n",
              "<p>10000 rows × 1 columns</p>\n",
              "</div>"
            ],
            "text/plain": [
              "                                              count\n",
              "p                                                  \n",
              "rdf:type                                  113715836\n",
              "http://www.w3.org/2002/07/owl#sameAs       33623686\n",
              "http://purl.org/dc/terms/subject           23990492\n",
              "rdfs:label                                 22430849\n",
              "http://www.w3.org/ns/prov#wasDerivedFrom   15801282\n",
              "...                                             ...\n",
              "pr:buschCarTeam                                 135\n",
              "pr:majorsites                                   135\n",
              "ns1:v4b                                         135\n",
              "ns10:a                                          135\n",
              "pr:seats1Last                                   134\n",
              "\n",
              "[10000 rows x 1 columns]"
            ]
          },
          "metadata": {
            "tags": []
          },
          "execution_count": 7
        }
      ]
    },
    {
      "cell_type": "markdown",
      "metadata": {
        "id": "X4nJ9naSdWhv",
        "colab_type": "text"
      },
      "source": [
        "Podemos enseñar solo los N primeros resultados"
      ]
    },
    {
      "cell_type": "code",
      "metadata": {
        "id": "LumMh07ndWhw",
        "colab_type": "code",
        "colab": {
          "base_uri": "https://localhost:8080/",
          "height": 977
        },
        "outputId": "57fae596-3246-4630-993f-fc4f175f059e"
      },
      "source": [
        "predicates.head(30)"
      ],
      "execution_count": 8,
      "outputs": [
        {
          "output_type": "execute_result",
          "data": {
            "text/html": [
              "<div>\n",
              "<style scoped>\n",
              "    .dataframe tbody tr th:only-of-type {\n",
              "        vertical-align: middle;\n",
              "    }\n",
              "\n",
              "    .dataframe tbody tr th {\n",
              "        vertical-align: top;\n",
              "    }\n",
              "\n",
              "    .dataframe thead th {\n",
              "        text-align: right;\n",
              "    }\n",
              "</style>\n",
              "<table border=\"1\" class=\"dataframe\">\n",
              "  <thead>\n",
              "    <tr style=\"text-align: right;\">\n",
              "      <th></th>\n",
              "      <th>count</th>\n",
              "    </tr>\n",
              "    <tr>\n",
              "      <th>p</th>\n",
              "      <th></th>\n",
              "    </tr>\n",
              "  </thead>\n",
              "  <tbody>\n",
              "    <tr>\n",
              "      <th>rdf:type</th>\n",
              "      <td>113715836</td>\n",
              "    </tr>\n",
              "    <tr>\n",
              "      <th>http://www.w3.org/2002/07/owl#sameAs</th>\n",
              "      <td>33623686</td>\n",
              "    </tr>\n",
              "    <tr>\n",
              "      <th>http://purl.org/dc/terms/subject</th>\n",
              "      <td>23990492</td>\n",
              "    </tr>\n",
              "    <tr>\n",
              "      <th>rdfs:label</th>\n",
              "      <td>22430849</td>\n",
              "    </tr>\n",
              "    <tr>\n",
              "      <th>http://www.w3.org/ns/prov#wasDerivedFrom</th>\n",
              "      <td>15801282</td>\n",
              "    </tr>\n",
              "    <tr>\n",
              "      <th>dbp:wikiPageID</th>\n",
              "      <td>15797808</td>\n",
              "    </tr>\n",
              "    <tr>\n",
              "      <th>dbp:wikiPageRevisionID</th>\n",
              "      <td>15797808</td>\n",
              "    </tr>\n",
              "    <tr>\n",
              "      <th>http://purl.org/dc/elements/1.1/language</th>\n",
              "      <td>12845235</td>\n",
              "    </tr>\n",
              "    <tr>\n",
              "      <th>foaf:primaryTopic</th>\n",
              "      <td>12845232</td>\n",
              "    </tr>\n",
              "    <tr>\n",
              "      <th>foaf:isPrimaryTopicOf</th>\n",
              "      <td>12845231</td>\n",
              "    </tr>\n",
              "    <tr>\n",
              "      <th>rdfs:comment</th>\n",
              "      <td>12391806</td>\n",
              "    </tr>\n",
              "    <tr>\n",
              "      <th>dbp:abstract</th>\n",
              "      <td>12390573</td>\n",
              "    </tr>\n",
              "    <tr>\n",
              "      <th>dbp:wikiPageExternalLink</th>\n",
              "      <td>7772273</td>\n",
              "    </tr>\n",
              "    <tr>\n",
              "      <th>dbp:wikiPageRedirects</th>\n",
              "      <td>7632357</td>\n",
              "    </tr>\n",
              "    <tr>\n",
              "      <th>foaf:name</th>\n",
              "      <td>4146578</td>\n",
              "    </tr>\n",
              "    <tr>\n",
              "      <th>http://purl.org/linguistics/gold/hypernym</th>\n",
              "      <td>4090046</td>\n",
              "    </tr>\n",
              "    <tr>\n",
              "      <th>http://www.w3.org/2004/02/skos/core#broader</th>\n",
              "      <td>3080338</td>\n",
              "    </tr>\n",
              "    <tr>\n",
              "      <th>http://purl.org/dc/elements/1.1/rights</th>\n",
              "      <td>2897004</td>\n",
              "    </tr>\n",
              "    <tr>\n",
              "      <th>dbp:team</th>\n",
              "      <td>2007122</td>\n",
              "    </tr>\n",
              "    <tr>\n",
              "      <th>dbp:birthDate</th>\n",
              "      <td>1740611</td>\n",
              "    </tr>\n",
              "    <tr>\n",
              "      <th>foaf:depiction</th>\n",
              "      <td>1698618</td>\n",
              "    </tr>\n",
              "    <tr>\n",
              "      <th>dbp:thumbnail</th>\n",
              "      <td>1695460</td>\n",
              "    </tr>\n",
              "    <tr>\n",
              "      <th>pr:title</th>\n",
              "      <td>1566113</td>\n",
              "    </tr>\n",
              "    <tr>\n",
              "      <th>dbp:wikiPageDisambiguates</th>\n",
              "      <td>1537180</td>\n",
              "    </tr>\n",
              "    <tr>\n",
              "      <th>http://www.w3.org/2004/02/skos/core#prefLabel</th>\n",
              "      <td>1475015</td>\n",
              "    </tr>\n",
              "    <tr>\n",
              "      <th>foaf:thumbnail</th>\n",
              "      <td>1448505</td>\n",
              "    </tr>\n",
              "    <tr>\n",
              "      <th>foaf:gender</th>\n",
              "      <td>1418206</td>\n",
              "    </tr>\n",
              "    <tr>\n",
              "      <th>dbp:birthPlace</th>\n",
              "      <td>1330295</td>\n",
              "    </tr>\n",
              "    <tr>\n",
              "      <th>pr:subdivisionType</th>\n",
              "      <td>1321475</td>\n",
              "    </tr>\n",
              "    <tr>\n",
              "      <th>http://purl.org/dc/terms/description</th>\n",
              "      <td>1289106</td>\n",
              "    </tr>\n",
              "  </tbody>\n",
              "</table>\n",
              "</div>"
            ],
            "text/plain": [
              "                                                   count\n",
              "p                                                       \n",
              "rdf:type                                       113715836\n",
              "http://www.w3.org/2002/07/owl#sameAs            33623686\n",
              "http://purl.org/dc/terms/subject                23990492\n",
              "rdfs:label                                      22430849\n",
              "http://www.w3.org/ns/prov#wasDerivedFrom        15801282\n",
              "dbp:wikiPageID                                  15797808\n",
              "dbp:wikiPageRevisionID                          15797808\n",
              "http://purl.org/dc/elements/1.1/language        12845235\n",
              "foaf:primaryTopic                               12845232\n",
              "foaf:isPrimaryTopicOf                           12845231\n",
              "rdfs:comment                                    12391806\n",
              "dbp:abstract                                    12390573\n",
              "dbp:wikiPageExternalLink                         7772273\n",
              "dbp:wikiPageRedirects                            7632357\n",
              "foaf:name                                        4146578\n",
              "http://purl.org/linguistics/gold/hypernym        4090046\n",
              "http://www.w3.org/2004/02/skos/core#broader      3080338\n",
              "http://purl.org/dc/elements/1.1/rights           2897004\n",
              "dbp:team                                         2007122\n",
              "dbp:birthDate                                    1740611\n",
              "foaf:depiction                                   1698618\n",
              "dbp:thumbnail                                    1695460\n",
              "pr:title                                         1566113\n",
              "dbp:wikiPageDisambiguates                        1537180\n",
              "http://www.w3.org/2004/02/skos/core#prefLabel    1475015\n",
              "foaf:thumbnail                                   1448505\n",
              "foaf:gender                                      1418206\n",
              "dbp:birthPlace                                   1330295\n",
              "pr:subdivisionType                               1321475\n",
              "http://purl.org/dc/terms/description             1289106"
            ]
          },
          "metadata": {
            "tags": []
          },
          "execution_count": 8
        }
      ]
    },
    {
      "cell_type": "markdown",
      "metadata": {
        "id": "zxjteD8ndWh0",
        "colab_type": "text"
      },
      "source": [
        "O los últimos"
      ]
    },
    {
      "cell_type": "code",
      "metadata": {
        "id": "a-BQV7s5dWh1",
        "colab_type": "code",
        "colab": {
          "base_uri": "https://localhost:8080/",
          "height": 227
        },
        "outputId": "8ab05be9-17b6-4c6e-a917-cd218eb900bc"
      },
      "source": [
        "predicates.tail()"
      ],
      "execution_count": 9,
      "outputs": [
        {
          "output_type": "execute_result",
          "data": {
            "text/html": [
              "<div>\n",
              "<style scoped>\n",
              "    .dataframe tbody tr th:only-of-type {\n",
              "        vertical-align: middle;\n",
              "    }\n",
              "\n",
              "    .dataframe tbody tr th {\n",
              "        vertical-align: top;\n",
              "    }\n",
              "\n",
              "    .dataframe thead th {\n",
              "        text-align: right;\n",
              "    }\n",
              "</style>\n",
              "<table border=\"1\" class=\"dataframe\">\n",
              "  <thead>\n",
              "    <tr style=\"text-align: right;\">\n",
              "      <th></th>\n",
              "      <th>count</th>\n",
              "    </tr>\n",
              "    <tr>\n",
              "      <th>p</th>\n",
              "      <th></th>\n",
              "    </tr>\n",
              "  </thead>\n",
              "  <tbody>\n",
              "    <tr>\n",
              "      <th>pr:buschCarTeam</th>\n",
              "      <td>135</td>\n",
              "    </tr>\n",
              "    <tr>\n",
              "      <th>pr:majorsites</th>\n",
              "      <td>135</td>\n",
              "    </tr>\n",
              "    <tr>\n",
              "      <th>ns1:v4b</th>\n",
              "      <td>135</td>\n",
              "    </tr>\n",
              "    <tr>\n",
              "      <th>ns10:a</th>\n",
              "      <td>135</td>\n",
              "    </tr>\n",
              "    <tr>\n",
              "      <th>pr:seats1Last</th>\n",
              "      <td>134</td>\n",
              "    </tr>\n",
              "  </tbody>\n",
              "</table>\n",
              "</div>"
            ],
            "text/plain": [
              "                 count\n",
              "p                     \n",
              "pr:buschCarTeam    135\n",
              "pr:majorsites      135\n",
              "ns1:v4b            135\n",
              "ns10:a             135\n",
              "pr:seats1Last      134"
            ]
          },
          "metadata": {
            "tags": []
          },
          "execution_count": 9
        }
      ]
    },
    {
      "cell_type": "markdown",
      "metadata": {
        "id": "gy71qnRhdWh5",
        "colab_type": "text"
      },
      "source": [
        "## Visualización de resultados"
      ]
    },
    {
      "cell_type": "markdown",
      "metadata": {
        "id": "ZbBbZaw2dWh7",
        "colab_type": "text"
      },
      "source": [
        "**dbp:Image** Algunos resultados de dbpedia son links a imagenes, que gracias a Jupyter, podemos visualizarlos"
      ]
    },
    {
      "cell_type": "code",
      "metadata": {
        "id": "GKlRN4uFdWh9",
        "colab_type": "code",
        "colab": {
          "base_uri": "https://localhost:8080/",
          "height": 77
        },
        "outputId": "7323a622-e3d9-4f67-fa67-52e73f02ef6d"
      },
      "source": [
        "endpoint.select(\"\"\"\n",
        "    SELECT (COUNT(*) AS ?count) { SELECT DISTINCT ?type { ?s a ?type .} }\n",
        "\"\"\")"
      ],
      "execution_count": 10,
      "outputs": [
        {
          "output_type": "execute_result",
          "data": {
            "text/html": [
              "<div>\n",
              "<style scoped>\n",
              "    .dataframe tbody tr th:only-of-type {\n",
              "        vertical-align: middle;\n",
              "    }\n",
              "\n",
              "    .dataframe tbody tr th {\n",
              "        vertical-align: top;\n",
              "    }\n",
              "\n",
              "    .dataframe thead th {\n",
              "        text-align: right;\n",
              "    }\n",
              "</style>\n",
              "<table border=\"1\" class=\"dataframe\">\n",
              "  <thead>\n",
              "    <tr style=\"text-align: right;\">\n",
              "      <th></th>\n",
              "      <th>count</th>\n",
              "    </tr>\n",
              "  </thead>\n",
              "  <tbody>\n",
              "    <tr>\n",
              "      <th>0</th>\n",
              "      <td>483605</td>\n",
              "    </tr>\n",
              "  </tbody>\n",
              "</table>\n",
              "</div>"
            ],
            "text/plain": [
              "    count\n",
              "0  483605"
            ]
          },
          "metadata": {
            "tags": []
          },
          "execution_count": 10
        }
      ]
    },
    {
      "cell_type": "code",
      "metadata": {
        "id": "1GRGLYvYdWiA",
        "colab_type": "code",
        "colab": {
          "base_uri": "https://localhost:8080/",
          "height": 436
        },
        "outputId": "c2e1a96f-c135-44c2-d646-852d6c35cbdb"
      },
      "source": [
        "types=endpoint.select(\"\"\"\n",
        "    SELECT ?type (COUNT(*) AS ?count) { ?s a ?type .} GROUP BY ?type ORDER BY DESC(?count)\n",
        "\"\"\")\n",
        "types[types.index.str.startswith('dbp:')]"
      ],
      "execution_count": 11,
      "outputs": [
        {
          "output_type": "execute_result",
          "data": {
            "text/html": [
              "<div>\n",
              "<style scoped>\n",
              "    .dataframe tbody tr th:only-of-type {\n",
              "        vertical-align: middle;\n",
              "    }\n",
              "\n",
              "    .dataframe tbody tr th {\n",
              "        vertical-align: top;\n",
              "    }\n",
              "\n",
              "    .dataframe thead th {\n",
              "        text-align: right;\n",
              "    }\n",
              "</style>\n",
              "<table border=\"1\" class=\"dataframe\">\n",
              "  <thead>\n",
              "    <tr style=\"text-align: right;\">\n",
              "      <th></th>\n",
              "      <th>count</th>\n",
              "    </tr>\n",
              "    <tr>\n",
              "      <th>type</th>\n",
              "      <th></th>\n",
              "    </tr>\n",
              "  </thead>\n",
              "  <tbody>\n",
              "    <tr>\n",
              "      <th>dbp:Image</th>\n",
              "      <td>2897004</td>\n",
              "    </tr>\n",
              "    <tr>\n",
              "      <th>dbp:Person</th>\n",
              "      <td>1818071</td>\n",
              "    </tr>\n",
              "    <tr>\n",
              "      <th>dbp:Agent</th>\n",
              "      <td>1546261</td>\n",
              "    </tr>\n",
              "    <tr>\n",
              "      <th>dbp:TimePeriod</th>\n",
              "      <td>1127706</td>\n",
              "    </tr>\n",
              "    <tr>\n",
              "      <th>dbp:CareerStation</th>\n",
              "      <td>977023</td>\n",
              "    </tr>\n",
              "    <tr>\n",
              "      <th>...</th>\n",
              "      <td>...</td>\n",
              "    </tr>\n",
              "    <tr>\n",
              "      <th>dbp:BaseballSeason</th>\n",
              "      <td>275</td>\n",
              "    </tr>\n",
              "    <tr>\n",
              "      <th>dbp:PlayboyPlaymate</th>\n",
              "      <td>274</td>\n",
              "    </tr>\n",
              "    <tr>\n",
              "      <th>dbp:RaceTrack</th>\n",
              "      <td>269</td>\n",
              "    </tr>\n",
              "    <tr>\n",
              "      <th>dbp:NetballPlayer</th>\n",
              "      <td>263</td>\n",
              "    </tr>\n",
              "    <tr>\n",
              "      <th>dbp:CricketGround</th>\n",
              "      <td>260</td>\n",
              "    </tr>\n",
              "  </tbody>\n",
              "</table>\n",
              "<p>388 rows × 1 columns</p>\n",
              "</div>"
            ],
            "text/plain": [
              "                       count\n",
              "type                        \n",
              "dbp:Image            2897004\n",
              "dbp:Person           1818071\n",
              "dbp:Agent            1546261\n",
              "dbp:TimePeriod       1127706\n",
              "dbp:CareerStation     977023\n",
              "...                      ...\n",
              "dbp:BaseballSeason       275\n",
              "dbp:PlayboyPlaymate      274\n",
              "dbp:RaceTrack            269\n",
              "dbp:NetballPlayer        263\n",
              "dbp:CricketGround        260\n",
              "\n",
              "[388 rows x 1 columns]"
            ]
          },
          "metadata": {
            "tags": []
          },
          "execution_count": 11
        }
      ]
    },
    {
      "cell_type": "code",
      "metadata": {
        "scrolled": true,
        "id": "_xqJm7ijdWiF",
        "colab_type": "code",
        "colab": {
          "base_uri": "https://localhost:8080/",
          "height": 347
        },
        "outputId": "689037e6-8f65-4cb3-c1f4-aa3b8c86f640"
      },
      "source": [
        "pics = endpoint.select(\"\"\"\n",
        "    SELECT ?that { \n",
        "        ?that a dbp:Image\n",
        "    } LIMIT 10\n",
        "\"\"\")\n",
        "pics"
      ],
      "execution_count": 12,
      "outputs": [
        {
          "output_type": "execute_result",
          "data": {
            "text/html": [
              "<div>\n",
              "<style scoped>\n",
              "    .dataframe tbody tr th:only-of-type {\n",
              "        vertical-align: middle;\n",
              "    }\n",
              "\n",
              "    .dataframe tbody tr th {\n",
              "        vertical-align: top;\n",
              "    }\n",
              "\n",
              "    .dataframe thead th {\n",
              "        text-align: right;\n",
              "    }\n",
              "</style>\n",
              "<table border=\"1\" class=\"dataframe\">\n",
              "  <thead>\n",
              "    <tr style=\"text-align: right;\">\n",
              "      <th></th>\n",
              "      <th>that</th>\n",
              "    </tr>\n",
              "  </thead>\n",
              "  <tbody>\n",
              "    <tr>\n",
              "      <th>0</th>\n",
              "      <td>http://en.wikipedia.org/wiki/Special:FilePath/Alfred_Schütz.jpg</td>\n",
              "    </tr>\n",
              "    <tr>\n",
              "      <th>1</th>\n",
              "      <td>http://en.wikipedia.org/wiki/Special:FilePath/Aromas.JPG</td>\n",
              "    </tr>\n",
              "    <tr>\n",
              "      <th>2</th>\n",
              "      <td>http://en.wikipedia.org/wiki/Special:FilePath/Baldwin_Park_CA_logo.jpg</td>\n",
              "    </tr>\n",
              "    <tr>\n",
              "      <th>3</th>\n",
              "      <td>http://en.wikipedia.org/wiki/Special:FilePath/Bayfield,CO.jpg</td>\n",
              "    </tr>\n",
              "    <tr>\n",
              "      <th>4</th>\n",
              "      <td>http://en.wikipedia.org/wiki/Special:FilePath/Bennettcoskyline.JPG</td>\n",
              "    </tr>\n",
              "    <tr>\n",
              "      <th>5</th>\n",
              "      <td>http://en.wikipedia.org/wiki/Special:FilePath/Bitterspring.jpg</td>\n",
              "    </tr>\n",
              "    <tr>\n",
              "      <th>6</th>\n",
              "      <td>http://en.wikipedia.org/wiki/Special:FilePath/Boulder_Creek.jpg</td>\n",
              "    </tr>\n",
              "    <tr>\n",
              "      <th>7</th>\n",
              "      <td>http://en.wikipedia.org/wiki/Special:FilePath/BrandonFL.gif</td>\n",
              "    </tr>\n",
              "    <tr>\n",
              "      <th>8</th>\n",
              "      <td>http://en.wikipedia.org/wiki/Special:FilePath/Buttonwillow.jpg</td>\n",
              "    </tr>\n",
              "    <tr>\n",
              "      <th>9</th>\n",
              "      <td>http://en.wikipedia.org/wiki/Special:FilePath/CarberryBookplate.jpg</td>\n",
              "    </tr>\n",
              "  </tbody>\n",
              "</table>\n",
              "</div>"
            ],
            "text/plain": [
              "                                                                     that\n",
              "0         http://en.wikipedia.org/wiki/Special:FilePath/Alfred_Schütz.jpg\n",
              "1                http://en.wikipedia.org/wiki/Special:FilePath/Aromas.JPG\n",
              "2  http://en.wikipedia.org/wiki/Special:FilePath/Baldwin_Park_CA_logo.jpg\n",
              "3           http://en.wikipedia.org/wiki/Special:FilePath/Bayfield,CO.jpg\n",
              "4      http://en.wikipedia.org/wiki/Special:FilePath/Bennettcoskyline.JPG\n",
              "5          http://en.wikipedia.org/wiki/Special:FilePath/Bitterspring.jpg\n",
              "6         http://en.wikipedia.org/wiki/Special:FilePath/Boulder_Creek.jpg\n",
              "7             http://en.wikipedia.org/wiki/Special:FilePath/BrandonFL.gif\n",
              "8          http://en.wikipedia.org/wiki/Special:FilePath/Buttonwillow.jpg\n",
              "9     http://en.wikipedia.org/wiki/Special:FilePath/CarberryBookplate.jpg"
            ]
          },
          "metadata": {
            "tags": []
          },
          "execution_count": 12
        }
      ]
    },
    {
      "cell_type": "code",
      "metadata": {
        "id": "5nZWkSWtdWiI",
        "colab_type": "code",
        "colab": {
          "base_uri": "https://localhost:8080/",
          "height": 446
        },
        "outputId": "56db14af-96b8-422a-cc35-f77fd299e15e"
      },
      "source": [
        "HTML('<img src=\"{0}\">'.format(pics.at[9,'that']))"
      ],
      "execution_count": 13,
      "outputs": [
        {
          "output_type": "execute_result",
          "data": {
            "text/html": [
              "<img src=\"http://en.wikipedia.org/wiki/Special:FilePath/CarberryBookplate.jpg\">"
            ],
            "text/plain": [
              "<IPython.core.display.HTML object>"
            ]
          },
          "metadata": {
            "tags": []
          },
          "execution_count": 13
        }
      ]
    },
    {
      "cell_type": "markdown",
      "metadata": {
        "id": "jXQyDxL2dWiO",
        "colab_type": "text"
      },
      "source": [
        "## Ejercicio 1"
      ]
    },
    {
      "cell_type": "markdown",
      "metadata": {
        "id": "RZsg7FSRdWiP",
        "colab_type": "text"
      },
      "source": [
        "Muestra la imagen de un escritor/a vivo"
      ]
    },
    {
      "cell_type": "code",
      "metadata": {
        "id": "j0clkPotdWiR",
        "colab_type": "code",
        "colab": {
          "base_uri": "https://localhost:8080/",
          "height": 406
        },
        "outputId": "61bcaa6b-02f5-4dd3-df67-25f6a7d8bbb4"
      },
      "source": [
        "escritores = endpoint.select(\"\"\"\n",
        "SELECT ?nombre ?foto\n",
        "WHERE{\n",
        "    ?autor a dbp:Writer .\n",
        "    ?autor foaf:name ?nombre .\n",
        "    ?autor dbp:birthDate ?fechaNac .\n",
        "    ?autor foaf:depiction ?foto\n",
        "    FILTER NOT EXISTS { ?autor dbo:deathDate ?death. }\n",
        "} \n",
        "LIMIT 100\n",
        "\n",
        "\n",
        "\n",
        "\"\"\")\n",
        "escritores"
      ],
      "execution_count": 14,
      "outputs": [
        {
          "output_type": "execute_result",
          "data": {
            "text/html": [
              "<div>\n",
              "<style scoped>\n",
              "    .dataframe tbody tr th:only-of-type {\n",
              "        vertical-align: middle;\n",
              "    }\n",
              "\n",
              "    .dataframe tbody tr th {\n",
              "        vertical-align: top;\n",
              "    }\n",
              "\n",
              "    .dataframe thead th {\n",
              "        text-align: right;\n",
              "    }\n",
              "</style>\n",
              "<table border=\"1\" class=\"dataframe\">\n",
              "  <thead>\n",
              "    <tr style=\"text-align: right;\">\n",
              "      <th></th>\n",
              "      <th>nombre</th>\n",
              "      <th>foto</th>\n",
              "    </tr>\n",
              "  </thead>\n",
              "  <tbody>\n",
              "    <tr>\n",
              "      <th>0</th>\n",
              "      <td>Alice Walker</td>\n",
              "      <td>http://commons.wikimedia.org/wiki/Special:FilePath/Alice_Walker.jpg</td>\n",
              "    </tr>\n",
              "    <tr>\n",
              "      <th>1</th>\n",
              "      <td>Alice Walker</td>\n",
              "      <td>http://commons.wikimedia.org/wiki/Special:FilePath/Alice_Walker.jpg</td>\n",
              "    </tr>\n",
              "    <tr>\n",
              "      <th>2</th>\n",
              "      <td>Amy Tan</td>\n",
              "      <td>http://commons.wikimedia.org/wiki/Special:FilePath/Amy_Tan.jpg</td>\n",
              "    </tr>\n",
              "    <tr>\n",
              "      <th>3</th>\n",
              "      <td>Amy Tan</td>\n",
              "      <td>http://commons.wikimedia.org/wiki/Special:FilePath/Amy_Tan.jpg</td>\n",
              "    </tr>\n",
              "    <tr>\n",
              "      <th>4</th>\n",
              "      <td>Eric Corley</td>\n",
              "      <td>http://commons.wikimedia.org/wiki/Special:FilePath/Emmanuel_Goldstein_Chaos_Communication_Camp_2...</td>\n",
              "    </tr>\n",
              "    <tr>\n",
              "      <th>...</th>\n",
              "      <td>...</td>\n",
              "      <td>...</td>\n",
              "    </tr>\n",
              "    <tr>\n",
              "      <th>95</th>\n",
              "      <td>Andy Greenwald</td>\n",
              "      <td>http://commons.wikimedia.org/wiki/Special:FilePath/Andy_Greenwald_1.jpg</td>\n",
              "    </tr>\n",
              "    <tr>\n",
              "      <th>96</th>\n",
              "      <td>Anil Dash</td>\n",
              "      <td>http://commons.wikimedia.org/wiki/Special:FilePath/AnilDashJI1.jpg</td>\n",
              "    </tr>\n",
              "    <tr>\n",
              "      <th>97</th>\n",
              "      <td>Anil Dash</td>\n",
              "      <td>http://commons.wikimedia.org/wiki/Special:FilePath/AnilDashJI1.jpg</td>\n",
              "    </tr>\n",
              "    <tr>\n",
              "      <th>98</th>\n",
              "      <td>Antonio Gamoneda</td>\n",
              "      <td>http://commons.wikimedia.org/wiki/Special:FilePath/Antonio_Gamoneda.jpg</td>\n",
              "    </tr>\n",
              "    <tr>\n",
              "      <th>99</th>\n",
              "      <td>Aram Saroyan</td>\n",
              "      <td>http://commons.wikimedia.org/wiki/Special:FilePath/Aram_Saroyan.jpg</td>\n",
              "    </tr>\n",
              "  </tbody>\n",
              "</table>\n",
              "<p>100 rows × 2 columns</p>\n",
              "</div>"
            ],
            "text/plain": [
              "              nombre                                                                                                 foto\n",
              "0       Alice Walker                                  http://commons.wikimedia.org/wiki/Special:FilePath/Alice_Walker.jpg\n",
              "1       Alice Walker                                  http://commons.wikimedia.org/wiki/Special:FilePath/Alice_Walker.jpg\n",
              "2            Amy Tan                                       http://commons.wikimedia.org/wiki/Special:FilePath/Amy_Tan.jpg\n",
              "3            Amy Tan                                       http://commons.wikimedia.org/wiki/Special:FilePath/Amy_Tan.jpg\n",
              "4        Eric Corley  http://commons.wikimedia.org/wiki/Special:FilePath/Emmanuel_Goldstein_Chaos_Communication_Camp_2...\n",
              "..               ...                                                                                                  ...\n",
              "95    Andy Greenwald                              http://commons.wikimedia.org/wiki/Special:FilePath/Andy_Greenwald_1.jpg\n",
              "96         Anil Dash                                   http://commons.wikimedia.org/wiki/Special:FilePath/AnilDashJI1.jpg\n",
              "97         Anil Dash                                   http://commons.wikimedia.org/wiki/Special:FilePath/AnilDashJI1.jpg\n",
              "98  Antonio Gamoneda                              http://commons.wikimedia.org/wiki/Special:FilePath/Antonio_Gamoneda.jpg\n",
              "99      Aram Saroyan                                  http://commons.wikimedia.org/wiki/Special:FilePath/Aram_Saroyan.jpg\n",
              "\n",
              "[100 rows x 2 columns]"
            ]
          },
          "metadata": {
            "tags": []
          },
          "execution_count": 14
        }
      ]
    },
    {
      "cell_type": "code",
      "metadata": {
        "id": "yrGRJ6ytdWiV",
        "colab_type": "code",
        "colab": {
          "base_uri": "https://localhost:8080/",
          "height": 354
        },
        "outputId": "e7183fa3-5c61-4c41-daba-0a92ac183114"
      },
      "source": [
        "HTML('<img src=\"{0}\">'.format(escritores.at[99,'foto']))"
      ],
      "execution_count": 15,
      "outputs": [
        {
          "output_type": "execute_result",
          "data": {
            "text/html": [
              "<img src=\"http://commons.wikimedia.org/wiki/Special:FilePath/Aram_Saroyan.jpg\">"
            ],
            "text/plain": [
              "<IPython.core.display.HTML object>"
            ]
          },
          "metadata": {
            "tags": []
          },
          "execution_count": 15
        }
      ]
    },
    {
      "cell_type": "markdown",
      "metadata": {
        "id": "IWr4mBOddWiY",
        "colab_type": "text"
      },
      "source": [
        "Los datos se pueden recoger en distintos tipos de estructuras para mostrarlos en gráficos. Veamos un ejemplo de un diagrama de barras."
      ]
    },
    {
      "cell_type": "code",
      "metadata": {
        "id": "MEm1oiKZdWiZ",
        "colab_type": "code",
        "colab": {}
      },
      "source": [
        "places = endpoint.select(\"\"\"\n",
        "SELECT ?city ?population\n",
        "WHERE{\n",
        "    ?city a dbp:PopulatedPlace .\n",
        "    ?city dbp:populationTotal ?population\n",
        "    FILTER (?population > 1000000)\n",
        "} \n",
        "ORDER BY ASC(?population)\n",
        "LIMIT 100\n",
        "\"\"\")"
      ],
      "execution_count": 0,
      "outputs": []
    },
    {
      "cell_type": "code",
      "metadata": {
        "id": "VjLgi6HmdWic",
        "colab_type": "code",
        "colab": {
          "base_uri": "https://localhost:8080/",
          "height": 347
        },
        "outputId": "f806510e-741b-4baa-8f6a-bc50addfba1f"
      },
      "source": [
        "places.head(10)"
      ],
      "execution_count": 17,
      "outputs": [
        {
          "output_type": "execute_result",
          "data": {
            "text/html": [
              "<div>\n",
              "<style scoped>\n",
              "    .dataframe tbody tr th:only-of-type {\n",
              "        vertical-align: middle;\n",
              "    }\n",
              "\n",
              "    .dataframe tbody tr th {\n",
              "        vertical-align: top;\n",
              "    }\n",
              "\n",
              "    .dataframe thead th {\n",
              "        text-align: right;\n",
              "    }\n",
              "</style>\n",
              "<table border=\"1\" class=\"dataframe\">\n",
              "  <thead>\n",
              "    <tr style=\"text-align: right;\">\n",
              "      <th></th>\n",
              "      <th>city</th>\n",
              "      <th>population</th>\n",
              "    </tr>\n",
              "  </thead>\n",
              "  <tbody>\n",
              "    <tr>\n",
              "      <th>0</th>\n",
              "      <td>&lt;Padang&gt;</td>\n",
              "      <td>1000096</td>\n",
              "    </tr>\n",
              "    <tr>\n",
              "      <th>1</th>\n",
              "      <td>&lt;Latifabad_Taluka&gt;</td>\n",
              "      <td>1000761</td>\n",
              "    </tr>\n",
              "    <tr>\n",
              "      <th>2</th>\n",
              "      <td>&lt;Opole_Voivodeship&gt;</td>\n",
              "      <td>1000858</td>\n",
              "    </tr>\n",
              "    <tr>\n",
              "      <th>3</th>\n",
              "      <td>&lt;Kota,_Rajasthan&gt;</td>\n",
              "      <td>1001694</td>\n",
              "    </tr>\n",
              "    <tr>\n",
              "      <th>4</th>\n",
              "      <td>&lt;Tulungagung_Regency&gt;</td>\n",
              "      <td>1002807</td>\n",
              "    </tr>\n",
              "    <tr>\n",
              "      <th>5</th>\n",
              "      <td>&lt;St._Louis_County,_Missouri&gt;</td>\n",
              "      <td>1003362</td>\n",
              "    </tr>\n",
              "    <tr>\n",
              "      <th>6</th>\n",
              "      <td>&lt;Cesar_Department&gt;</td>\n",
              "      <td>1004064</td>\n",
              "    </tr>\n",
              "    <tr>\n",
              "      <th>7</th>\n",
              "      <td>&lt;Rukwa_Region&gt;</td>\n",
              "      <td>1004539</td>\n",
              "    </tr>\n",
              "    <tr>\n",
              "      <th>8</th>\n",
              "      <td>&lt;Zaoyang&gt;</td>\n",
              "      <td>1004741</td>\n",
              "    </tr>\n",
              "    <tr>\n",
              "      <th>9</th>\n",
              "      <td>&lt;Metropolitan_City_of_Bologna&gt;</td>\n",
              "      <td>1005831</td>\n",
              "    </tr>\n",
              "  </tbody>\n",
              "</table>\n",
              "</div>"
            ],
            "text/plain": [
              "                             city  population\n",
              "0                        <Padang>     1000096\n",
              "1              <Latifabad_Taluka>     1000761\n",
              "2             <Opole_Voivodeship>     1000858\n",
              "3               <Kota,_Rajasthan>     1001694\n",
              "4           <Tulungagung_Regency>     1002807\n",
              "5    <St._Louis_County,_Missouri>     1003362\n",
              "6              <Cesar_Department>     1004064\n",
              "7                  <Rukwa_Region>     1004539\n",
              "8                       <Zaoyang>     1004741\n",
              "9  <Metropolitan_City_of_Bologna>     1005831"
            ]
          },
          "metadata": {
            "tags": []
          },
          "execution_count": 17
        }
      ]
    },
    {
      "cell_type": "code",
      "metadata": {
        "id": "Cf71x2KsdWif",
        "colab_type": "code",
        "colab": {
          "base_uri": "https://localhost:8080/",
          "height": 476
        },
        "outputId": "8a98fc9a-aa73-430d-9ef5-26bb67c50c3c"
      },
      "source": [
        "places.head(10).hist()\n",
        "places.head(10)['city']"
      ],
      "execution_count": 18,
      "outputs": [
        {
          "output_type": "execute_result",
          "data": {
            "text/plain": [
              "0                          <Padang>\n",
              "1                <Latifabad_Taluka>\n",
              "2               <Opole_Voivodeship>\n",
              "3                 <Kota,_Rajasthan>\n",
              "4             <Tulungagung_Regency>\n",
              "5      <St._Louis_County,_Missouri>\n",
              "6                <Cesar_Department>\n",
              "7                    <Rukwa_Region>\n",
              "8                         <Zaoyang>\n",
              "9    <Metropolitan_City_of_Bologna>\n",
              "Name: city, dtype: object"
            ]
          },
          "metadata": {
            "tags": []
          },
          "execution_count": 18
        },
        {
          "output_type": "display_data",
          "data": {
            "image/png": "[encoded data removed]",
            "text/plain": [
              "<Figure size 432x288 with 1 Axes>"
            ]
          },
          "metadata": {
            "tags": []
          }
        }
      ]
    },
    {
      "cell_type": "markdown",
      "metadata": {
        "id": "kLu_9QiydWij",
        "colab_type": "text"
      },
      "source": [
        "# Ejercicios de consultas"
      ]
    },
    {
      "cell_type": "markdown",
      "metadata": {
        "id": "s4LGyhBqdWik",
        "colab_type": "text"
      },
      "source": [
        "<div class=\"alert alert-warning\" role=\"alert\" style=\"margin: 10px\">\n",
        "La librería a veces tiene problemas con las fechas. Si es así, colocal la consulta en el endpoint directamente para comprobar que si el problema está en la consulta o en el paquete.\n",
        "</div>"
      ]
    },
    {
      "cell_type": "markdown",
      "metadata": {
        "id": "0lqkYzT8dWil",
        "colab_type": "text"
      },
      "source": [
        "1. Obtener la masa de 10 estrellas"
      ]
    },
    {
      "cell_type": "code",
      "metadata": {
        "id": "-bNDI4Tig9TQ",
        "colab_type": "code",
        "colab": {
          "base_uri": "https://localhost:8080/",
          "height": 347
        },
        "outputId": "2275800d-c7c8-4995-e233-fc103c880f60"
      },
      "source": [
        "star_mass = endpoint.select(\"\"\"\n",
        "SELECT ?star ?mass\n",
        "WHERE{\n",
        "    ?star a dbo:Star .\n",
        "    ?star pr:mass ?mass\n",
        "} \n",
        "LIMIT 10\n",
        "\"\"\")\n",
        "star_mass"
      ],
      "execution_count": 70,
      "outputs": [
        {
          "output_type": "execute_result",
          "data": {
            "text/html": [
              "<div>\n",
              "<style scoped>\n",
              "    .dataframe tbody tr th:only-of-type {\n",
              "        vertical-align: middle;\n",
              "    }\n",
              "\n",
              "    .dataframe tbody tr th {\n",
              "        vertical-align: top;\n",
              "    }\n",
              "\n",
              "    .dataframe thead th {\n",
              "        text-align: right;\n",
              "    }\n",
              "</style>\n",
              "<table border=\"1\" class=\"dataframe\">\n",
              "  <thead>\n",
              "    <tr style=\"text-align: right;\">\n",
              "      <th></th>\n",
              "      <th>star</th>\n",
              "      <th>mass</th>\n",
              "    </tr>\n",
              "  </thead>\n",
              "  <tbody>\n",
              "    <tr>\n",
              "      <th>0</th>\n",
              "      <td>&lt;61_Cygni&gt;</td>\n",
              "      <td>0.63</td>\n",
              "    </tr>\n",
              "    <tr>\n",
              "      <th>1</th>\n",
              "      <td>&lt;61_Cygni&gt;</td>\n",
              "      <td>0.7</td>\n",
              "    </tr>\n",
              "    <tr>\n",
              "      <th>2</th>\n",
              "      <td>&lt;70_Virginis&gt;</td>\n",
              "      <td>1.12</td>\n",
              "    </tr>\n",
              "    <tr>\n",
              "      <th>3</th>\n",
              "      <td>&lt;70_Virginis&gt;</td>\n",
              "      <td>&gt;7.49 ± 0.61</td>\n",
              "    </tr>\n",
              "    <tr>\n",
              "      <th>4</th>\n",
              "      <td>&lt;Albireo&gt;</td>\n",
              "      <td>3.2</td>\n",
              "    </tr>\n",
              "    <tr>\n",
              "      <th>5</th>\n",
              "      <td>&lt;Albireo&gt;</td>\n",
              "      <td>3.7</td>\n",
              "    </tr>\n",
              "    <tr>\n",
              "      <th>6</th>\n",
              "      <td>&lt;Albireo&gt;</td>\n",
              "      <td>5</td>\n",
              "    </tr>\n",
              "    <tr>\n",
              "      <th>7</th>\n",
              "      <td>&lt;Spica&gt;</td>\n",
              "      <td>6.97</td>\n",
              "    </tr>\n",
              "    <tr>\n",
              "      <th>8</th>\n",
              "      <td>&lt;Spica&gt;</td>\n",
              "      <td>10.25</td>\n",
              "    </tr>\n",
              "    <tr>\n",
              "      <th>9</th>\n",
              "      <td>&lt;Tau_Ceti&gt;</td>\n",
              "      <td>0.783</td>\n",
              "    </tr>\n",
              "  </tbody>\n",
              "</table>\n",
              "</div>"
            ],
            "text/plain": [
              "            star          mass\n",
              "0     <61_Cygni>          0.63\n",
              "1     <61_Cygni>           0.7\n",
              "2  <70_Virginis>          1.12\n",
              "3  <70_Virginis>  >7.49 ± 0.61\n",
              "4      <Albireo>           3.2\n",
              "5      <Albireo>           3.7\n",
              "6      <Albireo>             5\n",
              "7        <Spica>          6.97\n",
              "8        <Spica>         10.25\n",
              "9     <Tau_Ceti>         0.783"
            ]
          },
          "metadata": {
            "tags": []
          },
          "execution_count": 70
        }
      ]
    },
    {
      "cell_type": "markdown",
      "metadata": {
        "id": "oAiBWutVdWim",
        "colab_type": "text"
      },
      "source": [
        "2. Constelación a la que pertenece cada estrella "
      ]
    },
    {
      "cell_type": "code",
      "metadata": {
        "id": "opC25tsog-Od",
        "colab_type": "code",
        "colab": {
          "base_uri": "https://localhost:8080/",
          "height": 347
        },
        "outputId": "89886b17-83f9-499c-c22b-bfe1969b042b"
      },
      "source": [
        "constellation = endpoint.select(\"\"\"\n",
        "SELECT ?star ?cons\n",
        "WHERE{\n",
        "    ?star a dbo:Star .\n",
        "    ?star pr:constell ?cons\n",
        "} \n",
        "LIMIT 10\n",
        "\"\"\")\n",
        "constellation"
      ],
      "execution_count": 72,
      "outputs": [
        {
          "output_type": "execute_result",
          "data": {
            "text/html": [
              "<div>\n",
              "<style scoped>\n",
              "    .dataframe tbody tr th:only-of-type {\n",
              "        vertical-align: middle;\n",
              "    }\n",
              "\n",
              "    .dataframe tbody tr th {\n",
              "        vertical-align: top;\n",
              "    }\n",
              "\n",
              "    .dataframe thead th {\n",
              "        text-align: right;\n",
              "    }\n",
              "</style>\n",
              "<table border=\"1\" class=\"dataframe\">\n",
              "  <thead>\n",
              "    <tr style=\"text-align: right;\">\n",
              "      <th></th>\n",
              "      <th>star</th>\n",
              "      <th>cons</th>\n",
              "    </tr>\n",
              "  </thead>\n",
              "  <tbody>\n",
              "    <tr>\n",
              "      <th>0</th>\n",
              "      <td>&lt;61_Cygni&gt;</td>\n",
              "      <td>&lt;Cygnus_(constellation)&gt;</td>\n",
              "    </tr>\n",
              "    <tr>\n",
              "      <th>1</th>\n",
              "      <td>&lt;70_Virginis&gt;</td>\n",
              "      <td>&lt;Virgo_(constellation)&gt;</td>\n",
              "    </tr>\n",
              "    <tr>\n",
              "      <th>2</th>\n",
              "      <td>&lt;Albireo&gt;</td>\n",
              "      <td>&lt;Cygnus_(constellation)&gt;</td>\n",
              "    </tr>\n",
              "    <tr>\n",
              "      <th>3</th>\n",
              "      <td>&lt;Betelgeuse&gt;</td>\n",
              "      <td>&lt;Orion_(constellation)&gt;</td>\n",
              "    </tr>\n",
              "    <tr>\n",
              "      <th>4</th>\n",
              "      <td>&lt;Spica&gt;</td>\n",
              "      <td>&lt;Virgo_(constellation)&gt;</td>\n",
              "    </tr>\n",
              "    <tr>\n",
              "      <th>5</th>\n",
              "      <td>&lt;Tau_Ceti&gt;</td>\n",
              "      <td>&lt;Cetus&gt;</td>\n",
              "    </tr>\n",
              "    <tr>\n",
              "      <th>6</th>\n",
              "      <td>&lt;Thuban&gt;</td>\n",
              "      <td>&lt;Draco_(constellation)&gt;</td>\n",
              "    </tr>\n",
              "    <tr>\n",
              "      <th>7</th>\n",
              "      <td>&lt;Vega&gt;</td>\n",
              "      <td>&lt;Lyra&gt;</td>\n",
              "    </tr>\n",
              "    <tr>\n",
              "      <th>8</th>\n",
              "      <td>&lt;NQ_Vulpeculae&gt;</td>\n",
              "      <td>&lt;Vulpecula_(constellation)&gt;</td>\n",
              "    </tr>\n",
              "    <tr>\n",
              "      <th>9</th>\n",
              "      <td>&lt;Bellatrix&gt;</td>\n",
              "      <td>&lt;Orion_(constellation)&gt;</td>\n",
              "    </tr>\n",
              "  </tbody>\n",
              "</table>\n",
              "</div>"
            ],
            "text/plain": [
              "              star                         cons\n",
              "0       <61_Cygni>     <Cygnus_(constellation)>\n",
              "1    <70_Virginis>      <Virgo_(constellation)>\n",
              "2        <Albireo>     <Cygnus_(constellation)>\n",
              "3     <Betelgeuse>      <Orion_(constellation)>\n",
              "4          <Spica>      <Virgo_(constellation)>\n",
              "5       <Tau_Ceti>                      <Cetus>\n",
              "6         <Thuban>      <Draco_(constellation)>\n",
              "7           <Vega>                       <Lyra>\n",
              "8  <NQ_Vulpeculae>  <Vulpecula_(constellation)>\n",
              "9      <Bellatrix>      <Orion_(constellation)>"
            ]
          },
          "metadata": {
            "tags": []
          },
          "execution_count": 72
        }
      ]
    },
    {
      "cell_type": "markdown",
      "metadata": {
        "id": "aVCCUrD4dWin",
        "colab_type": "text"
      },
      "source": [
        "3. Distancia a la que está la estrella Kepler-19 "
      ]
    },
    {
      "cell_type": "code",
      "metadata": {
        "id": "QIbd5jRkg_Bt",
        "colab_type": "code",
        "colab": {
          "base_uri": "https://localhost:8080/",
          "height": 77
        },
        "outputId": "4a46e79e-24c0-4dbc-e31b-ffb9c0c6e382"
      },
      "source": [
        "kepler = endpoint.select(\"\"\"\n",
        "SELECT ?star ?distance\n",
        "WHERE{\n",
        "    ?star a dbo:Star .\n",
        "    ?star pr:name ?name .\n",
        "    ?star pr:distance ?distance\n",
        "    FILTER regex(?name, \"Kepler-19\")\n",
        "}\n",
        "\"\"\")\n",
        "kepler"
      ],
      "execution_count": 88,
      "outputs": [
        {
          "output_type": "execute_result",
          "data": {
            "text/html": [
              "<div>\n",
              "<style scoped>\n",
              "    .dataframe tbody tr th:only-of-type {\n",
              "        vertical-align: middle;\n",
              "    }\n",
              "\n",
              "    .dataframe tbody tr th {\n",
              "        vertical-align: top;\n",
              "    }\n",
              "\n",
              "    .dataframe thead th {\n",
              "        text-align: right;\n",
              "    }\n",
              "</style>\n",
              "<table border=\"1\" class=\"dataframe\">\n",
              "  <thead>\n",
              "    <tr style=\"text-align: right;\">\n",
              "      <th></th>\n",
              "      <th>star</th>\n",
              "      <th>distance</th>\n",
              "    </tr>\n",
              "  </thead>\n",
              "  <tbody>\n",
              "    <tr>\n",
              "      <th>0</th>\n",
              "      <td>&lt;Kepler-19&gt;</td>\n",
              "      <td>6910</td>\n",
              "    </tr>\n",
              "  </tbody>\n",
              "</table>\n",
              "</div>"
            ],
            "text/plain": [
              "          star  distance\n",
              "0  <Kepler-19>      6910"
            ]
          },
          "metadata": {
            "tags": []
          },
          "execution_count": 88
        }
      ]
    },
    {
      "cell_type": "markdown",
      "metadata": {
        "id": "-eFsLvu3dWio",
        "colab_type": "text"
      },
      "source": [
        "4. Estrellas pertenecientes a la constelación Centaurus "
      ]
    },
    {
      "cell_type": "code",
      "metadata": {
        "id": "cqo0SLxMg_oA",
        "colab_type": "code",
        "colab": {
          "base_uri": "https://localhost:8080/",
          "height": 406
        },
        "outputId": "44a6e237-2f0c-4b40-ba45-07c71506d785"
      },
      "source": [
        "constellation = endpoint.select(\"\"\"\n",
        "SELECT ?star ?cons\n",
        "WHERE{\n",
        "    ?star a dbo:Star .\n",
        "    ?star pr:constell ?cons    \n",
        "    FILTER regex(?cons, \"Centaurus\")\n",
        "}\n",
        "\"\"\")\n",
        "constellation"
      ],
      "execution_count": 92,
      "outputs": [
        {
          "output_type": "execute_result",
          "data": {
            "text/html": [
              "<div>\n",
              "<style scoped>\n",
              "    .dataframe tbody tr th:only-of-type {\n",
              "        vertical-align: middle;\n",
              "    }\n",
              "\n",
              "    .dataframe tbody tr th {\n",
              "        vertical-align: top;\n",
              "    }\n",
              "\n",
              "    .dataframe thead th {\n",
              "        text-align: right;\n",
              "    }\n",
              "</style>\n",
              "<table border=\"1\" class=\"dataframe\">\n",
              "  <thead>\n",
              "    <tr style=\"text-align: right;\">\n",
              "      <th></th>\n",
              "      <th>star</th>\n",
              "      <th>cons</th>\n",
              "    </tr>\n",
              "  </thead>\n",
              "  <tbody>\n",
              "    <tr>\n",
              "      <th>0</th>\n",
              "      <td>&lt;HD_113766&gt;</td>\n",
              "      <td>&lt;Centaurus&gt;</td>\n",
              "    </tr>\n",
              "    <tr>\n",
              "      <th>1</th>\n",
              "      <td>&lt;HD_125072&gt;</td>\n",
              "      <td>&lt;Centaurus&gt;</td>\n",
              "    </tr>\n",
              "    <tr>\n",
              "      <th>2</th>\n",
              "      <td>&lt;V744_Centauri&gt;</td>\n",
              "      <td>&lt;Centaurus&gt;</td>\n",
              "    </tr>\n",
              "    <tr>\n",
              "      <th>3</th>\n",
              "      <td>&lt;V810_Centauri&gt;</td>\n",
              "      <td>&lt;Centaurus&gt;</td>\n",
              "    </tr>\n",
              "    <tr>\n",
              "      <th>4</th>\n",
              "      <td>&lt;HD_113538&gt;</td>\n",
              "      <td>&lt;Centaurus&gt;</td>\n",
              "    </tr>\n",
              "    <tr>\n",
              "      <th>...</th>\n",
              "      <td>...</td>\n",
              "      <td>...</td>\n",
              "    </tr>\n",
              "    <tr>\n",
              "      <th>105</th>\n",
              "      <td>&lt;V831_Centauri&gt;</td>\n",
              "      <td>&lt;Centaurus_(constellation)&gt;</td>\n",
              "    </tr>\n",
              "    <tr>\n",
              "      <th>106</th>\n",
              "      <td>&lt;HD_117939&gt;</td>\n",
              "      <td>&lt;Centaurus&gt;</td>\n",
              "    </tr>\n",
              "    <tr>\n",
              "      <th>107</th>\n",
              "      <td>&lt;HD_98176&gt;</td>\n",
              "      <td>&lt;Centaurus_(constellation)&gt;</td>\n",
              "    </tr>\n",
              "    <tr>\n",
              "      <th>108</th>\n",
              "      <td>&lt;HD_97413&gt;</td>\n",
              "      <td>&lt;Centaurus_(constellation)&gt;</td>\n",
              "    </tr>\n",
              "    <tr>\n",
              "      <th>109</th>\n",
              "      <td>&lt;HD_96660&gt;</td>\n",
              "      <td>&lt;Centaurus_(constellation)&gt;</td>\n",
              "    </tr>\n",
              "  </tbody>\n",
              "</table>\n",
              "<p>110 rows × 2 columns</p>\n",
              "</div>"
            ],
            "text/plain": [
              "                star                         cons\n",
              "0        <HD_113766>                  <Centaurus>\n",
              "1        <HD_125072>                  <Centaurus>\n",
              "2    <V744_Centauri>                  <Centaurus>\n",
              "3    <V810_Centauri>                  <Centaurus>\n",
              "4        <HD_113538>                  <Centaurus>\n",
              "..               ...                          ...\n",
              "105  <V831_Centauri>  <Centaurus_(constellation)>\n",
              "106      <HD_117939>                  <Centaurus>\n",
              "107       <HD_98176>  <Centaurus_(constellation)>\n",
              "108       <HD_97413>  <Centaurus_(constellation)>\n",
              "109       <HD_96660>  <Centaurus_(constellation)>\n",
              "\n",
              "[110 rows x 2 columns]"
            ]
          },
          "metadata": {
            "tags": []
          },
          "execution_count": 92
        }
      ]
    },
    {
      "cell_type": "markdown",
      "metadata": {
        "id": "or1NEIGndWip",
        "colab_type": "text"
      },
      "source": [
        "5. Obtener la población total de Londres "
      ]
    },
    {
      "cell_type": "code",
      "metadata": {
        "id": "kuAUiNvJhAUB",
        "colab_type": "code",
        "colab": {
          "base_uri": "https://localhost:8080/",
          "height": 77
        },
        "outputId": "1e75fc7f-49ef-4ffc-9cde-1e57851f46ce"
      },
      "source": [
        "london = endpoint.select(\"\"\"\n",
        "SELECT ?city ?population ?country\n",
        "WHERE{\n",
        "    ?city a dbp:PopulatedPlace .\n",
        "    ?city dbp:populationTotal ?population .\n",
        "    ?city foaf:name ?name .\n",
        "    ?city dbo:country ?country\n",
        "    FILTER (?name = \"London\"@en)\n",
        "    FILTER regex(?country,\"United\")\n",
        "}\n",
        "\"\"\")\n",
        "london"
      ],
      "execution_count": 117,
      "outputs": [
        {
          "output_type": "execute_result",
          "data": {
            "text/html": [
              "<div>\n",
              "<style scoped>\n",
              "    .dataframe tbody tr th:only-of-type {\n",
              "        vertical-align: middle;\n",
              "    }\n",
              "\n",
              "    .dataframe tbody tr th {\n",
              "        vertical-align: top;\n",
              "    }\n",
              "\n",
              "    .dataframe thead th {\n",
              "        text-align: right;\n",
              "    }\n",
              "</style>\n",
              "<table border=\"1\" class=\"dataframe\">\n",
              "  <thead>\n",
              "    <tr style=\"text-align: right;\">\n",
              "      <th></th>\n",
              "      <th>city</th>\n",
              "      <th>population</th>\n",
              "      <th>country</th>\n",
              "    </tr>\n",
              "  </thead>\n",
              "  <tbody>\n",
              "    <tr>\n",
              "      <th>0</th>\n",
              "      <td>&lt;London&gt;</td>\n",
              "      <td>8673713</td>\n",
              "      <td>&lt;United_Kingdom&gt;</td>\n",
              "    </tr>\n",
              "  </tbody>\n",
              "</table>\n",
              "</div>"
            ],
            "text/plain": [
              "       city  population           country\n",
              "0  <London>     8673713  <United_Kingdom>"
            ]
          },
          "metadata": {
            "tags": []
          },
          "execution_count": 117
        }
      ]
    },
    {
      "cell_type": "markdown",
      "metadata": {
        "id": "uQlyVoNLdWir",
        "colab_type": "text"
      },
      "source": [
        "6. Gente que nació en Londres antes de 1900 "
      ]
    },
    {
      "cell_type": "code",
      "metadata": {
        "id": "SeBmGpolwkpQ",
        "colab_type": "code",
        "colab": {
          "base_uri": "https://localhost:8080/",
          "height": 77
        },
        "outputId": "2b19c645-8f5b-42a8-aef6-e486acac4e39"
      },
      "source": [
        "peopleLondon = endpoint.select(\"\"\"\n",
        "SELECT DISTINCT ?person ?city\n",
        "WHERE{\n",
        "    ?a dbp:person ?person .\n",
        "    ?person dbo:birthPlace ?city .\n",
        "    ?city dbo:country ?country .\n",
        "    ?person dbp:birthDate ?bd .\n",
        "    FILTER regex(?city,\"London\")\n",
        "    FILTER regex(?country,\"United\")\n",
        "    FILTER (?bd<= \"1900-01-01\"^^<http://www.w3.org/2001/XMLSchema#date>)\n",
        "} \n",
        "LIMIT 100\n",
        "\"\"\")\n",
        "peopleLondon"
      ],
      "execution_count": 145,
      "outputs": [
        {
          "output_type": "execute_result",
          "data": {
            "text/html": [
              "<div>\n",
              "<style scoped>\n",
              "    .dataframe tbody tr th:only-of-type {\n",
              "        vertical-align: middle;\n",
              "    }\n",
              "\n",
              "    .dataframe tbody tr th {\n",
              "        vertical-align: top;\n",
              "    }\n",
              "\n",
              "    .dataframe thead th {\n",
              "        text-align: right;\n",
              "    }\n",
              "</style>\n",
              "<table border=\"1\" class=\"dataframe\">\n",
              "  <thead>\n",
              "    <tr style=\"text-align: right;\">\n",
              "      <th></th>\n",
              "      <th>person</th>\n",
              "      <th>city</th>\n",
              "    </tr>\n",
              "  </thead>\n",
              "  <tbody>\n",
              "    <tr>\n",
              "      <th>0</th>\n",
              "      <td>&lt;Annie_Besant&gt;</td>\n",
              "      <td>&lt;London&gt;</td>\n",
              "    </tr>\n",
              "  </tbody>\n",
              "</table>\n",
              "</div>"
            ],
            "text/plain": [
              "           person      city\n",
              "0  <Annie_Besant>  <London>"
            ]
          },
          "metadata": {
            "tags": []
          },
          "execution_count": 145
        }
      ]
    },
    {
      "cell_type": "markdown",
      "metadata": {
        "id": "lRWJx2IKdWir",
        "colab_type": "text"
      },
      "source": [
        "7. Nombre y fechas de nacimiento y de muerte de toda la gente nacida en Londres entre 1900 y 1950. "
      ]
    },
    {
      "cell_type": "code",
      "metadata": {
        "id": "Lvj0_oDKhBvf",
        "colab_type": "code",
        "colab": {
          "base_uri": "https://localhost:8080/",
          "height": 257
        },
        "outputId": "56da722b-7d84-4fb3-eb6e-656a06f35b00"
      },
      "source": [
        "peopleLondon = endpoint.select(\"\"\"\n",
        "SELECT DISTINCT ?person ?city\n",
        "WHERE{\n",
        "    ?a dbp:person ?person .\n",
        "    ?person dbo:birthPlace ?city .\n",
        "    ?city dbo:country ?country .\n",
        "    ?person dbp:birthDate ?bd .\n",
        "    ?person dbp:deathDate ?dd .\n",
        "    FILTER regex(?city,\"London\")\n",
        "    FILTER regex(?country,\"United\")\n",
        "    FILTER (?bd>= \"1900-01-01\"^^<http://www.w3.org/2001/XMLSchema#date> && ?bd<= \"1950-01-01\"^^<http://www.w3.org/2001/XMLSchema#date>)\n",
        "} \n",
        "LIMIT 100\n",
        "\"\"\")\n",
        "peopleLondon"
      ],
      "execution_count": 151,
      "outputs": [
        {
          "output_type": "execute_result",
          "data": {
            "text/html": [
              "<div>\n",
              "<style scoped>\n",
              "    .dataframe tbody tr th:only-of-type {\n",
              "        vertical-align: middle;\n",
              "    }\n",
              "\n",
              "    .dataframe tbody tr th {\n",
              "        vertical-align: top;\n",
              "    }\n",
              "\n",
              "    .dataframe thead th {\n",
              "        text-align: right;\n",
              "    }\n",
              "</style>\n",
              "<table border=\"1\" class=\"dataframe\">\n",
              "  <thead>\n",
              "    <tr style=\"text-align: right;\">\n",
              "      <th></th>\n",
              "      <th>person</th>\n",
              "      <th>city</th>\n",
              "    </tr>\n",
              "  </thead>\n",
              "  <tbody>\n",
              "    <tr>\n",
              "      <th>0</th>\n",
              "      <td>&lt;Douglas_Slocombe&gt;</td>\n",
              "      <td>&lt;London&gt;</td>\n",
              "    </tr>\n",
              "    <tr>\n",
              "      <th>1</th>\n",
              "      <td>&lt;Alan_Hume&gt;</td>\n",
              "      <td>&lt;London&gt;</td>\n",
              "    </tr>\n",
              "    <tr>\n",
              "      <th>2</th>\n",
              "      <td>&lt;Brianne_Murphy&gt;</td>\n",
              "      <td>&lt;London&gt;</td>\n",
              "    </tr>\n",
              "    <tr>\n",
              "      <th>3</th>\n",
              "      <td>&lt;Gerry_Fisher&gt;</td>\n",
              "      <td>&lt;London&gt;</td>\n",
              "    </tr>\n",
              "    <tr>\n",
              "      <th>4</th>\n",
              "      <td>&lt;Robert_Paynter&gt;</td>\n",
              "      <td>&lt;London&gt;</td>\n",
              "    </tr>\n",
              "    <tr>\n",
              "      <th>5</th>\n",
              "      <td>&lt;Freddie_Francis&gt;</td>\n",
              "      <td>&lt;London&gt;</td>\n",
              "    </tr>\n",
              "    <tr>\n",
              "      <th>6</th>\n",
              "      <td>&lt;Freddie_Young&gt;</td>\n",
              "      <td>&lt;London&gt;</td>\n",
              "    </tr>\n",
              "  </tbody>\n",
              "</table>\n",
              "</div>"
            ],
            "text/plain": [
              "               person      city\n",
              "0  <Douglas_Slocombe>  <London>\n",
              "1         <Alan_Hume>  <London>\n",
              "2    <Brianne_Murphy>  <London>\n",
              "3      <Gerry_Fisher>  <London>\n",
              "4    <Robert_Paynter>  <London>\n",
              "5   <Freddie_Francis>  <London>\n",
              "6     <Freddie_Young>  <London>"
            ]
          },
          "metadata": {
            "tags": []
          },
          "execution_count": 151
        }
      ]
    },
    {
      "cell_type": "markdown",
      "metadata": {
        "id": "qxV8wA_xdWis",
        "colab_type": "text"
      },
      "source": [
        "8. Nombre y fecha de nacimiento de los actores nacidos en Londres después de 1930 que siguen vivos."
      ]
    },
    {
      "cell_type": "code",
      "metadata": {
        "id": "dGh_iLb50ZVe",
        "colab_type": "code",
        "colab": {
          "base_uri": "https://localhost:8080/",
          "height": 406
        },
        "outputId": "1d8dec7d-43e6-4775-f4f8-91f48453142e"
      },
      "source": [
        "actorLondon = endpoint.select(\"\"\"\n",
        "SELECT DISTINCT ?actor ?city\n",
        "WHERE{\n",
        "    ?a dbp:artist ?actor .\n",
        "    \n",
        "} \n",
        "LIMIT 100\n",
        "\"\"\")\n",
        "actorLondon"
      ],
      "execution_count": 164,
      "outputs": [
        {
          "output_type": "execute_result",
          "data": {
            "text/html": [
              "<div>\n",
              "<style scoped>\n",
              "    .dataframe tbody tr th:only-of-type {\n",
              "        vertical-align: middle;\n",
              "    }\n",
              "\n",
              "    .dataframe tbody tr th {\n",
              "        vertical-align: top;\n",
              "    }\n",
              "\n",
              "    .dataframe thead th {\n",
              "        text-align: right;\n",
              "    }\n",
              "</style>\n",
              "<table border=\"1\" class=\"dataframe\">\n",
              "  <thead>\n",
              "    <tr style=\"text-align: right;\">\n",
              "      <th></th>\n",
              "      <th>actor</th>\n",
              "      <th>city</th>\n",
              "    </tr>\n",
              "  </thead>\n",
              "  <tbody>\n",
              "    <tr>\n",
              "      <th>0</th>\n",
              "      <td>&lt;Airship&gt;</td>\n",
              "      <td>None</td>\n",
              "    </tr>\n",
              "    <tr>\n",
              "      <th>1</th>\n",
              "      <td>&lt;Alice_in_Chains&gt;</td>\n",
              "      <td>None</td>\n",
              "    </tr>\n",
              "    <tr>\n",
              "      <th>2</th>\n",
              "      <td>&lt;Andrew_Lloyd_Webber&gt;</td>\n",
              "      <td>None</td>\n",
              "    </tr>\n",
              "    <tr>\n",
              "      <th>3</th>\n",
              "      <td>&lt;Anita_O'Day&gt;</td>\n",
              "      <td>None</td>\n",
              "    </tr>\n",
              "    <tr>\n",
              "      <th>4</th>\n",
              "      <td>&lt;Anthrax_(American_band)&gt;</td>\n",
              "      <td>None</td>\n",
              "    </tr>\n",
              "    <tr>\n",
              "      <th>...</th>\n",
              "      <td>...</td>\n",
              "      <td>...</td>\n",
              "    </tr>\n",
              "    <tr>\n",
              "      <th>95</th>\n",
              "      <td>&lt;Norman_Cook&gt;</td>\n",
              "      <td>None</td>\n",
              "    </tr>\n",
              "    <tr>\n",
              "      <th>96</th>\n",
              "      <td>&lt;Olivia_Newton-John&gt;</td>\n",
              "      <td>None</td>\n",
              "    </tr>\n",
              "    <tr>\n",
              "      <th>97</th>\n",
              "      <td>&lt;Opeth&gt;</td>\n",
              "      <td>None</td>\n",
              "    </tr>\n",
              "    <tr>\n",
              "      <th>98</th>\n",
              "      <td>&lt;Pat_Mastelotto&gt;</td>\n",
              "      <td>None</td>\n",
              "    </tr>\n",
              "    <tr>\n",
              "      <th>99</th>\n",
              "      <td>&lt;Paul_Kelly_(Australian_musician)&gt;</td>\n",
              "      <td>None</td>\n",
              "    </tr>\n",
              "  </tbody>\n",
              "</table>\n",
              "<p>100 rows × 2 columns</p>\n",
              "</div>"
            ],
            "text/plain": [
              "                                 actor  city\n",
              "0                            <Airship>  None\n",
              "1                    <Alice_in_Chains>  None\n",
              "2                <Andrew_Lloyd_Webber>  None\n",
              "3                        <Anita_O'Day>  None\n",
              "4            <Anthrax_(American_band)>  None\n",
              "..                                 ...   ...\n",
              "95                       <Norman_Cook>  None\n",
              "96                <Olivia_Newton-John>  None\n",
              "97                             <Opeth>  None\n",
              "98                    <Pat_Mastelotto>  None\n",
              "99  <Paul_Kelly_(Australian_musician)>  None\n",
              "\n",
              "[100 rows x 2 columns]"
            ]
          },
          "metadata": {
            "tags": []
          },
          "execution_count": 164
        }
      ]
    },
    {
      "cell_type": "code",
      "metadata": {
        "id": "wHlo5ctmhCKk",
        "colab_type": "code",
        "colab": {
          "base_uri": "https://localhost:8080/",
          "height": 47
        },
        "outputId": "517962aa-120b-41e8-e9a6-a8946ffd50e8"
      },
      "source": [
        "actorLondon = endpoint.select(\"\"\"\n",
        "SELECT DISTINCT ?actor ?city\n",
        "WHERE{\n",
        "    ?a dbp:actor ?actor .\n",
        "    ?actor dbo:birthPlace ?city .\n",
        "    ?city dbo:country ?country .\n",
        "    ?actor dbp:birthDate ?bd .\n",
        "    ?actor dbp:deathDate ?dd .\n",
        "    FILTER regex(?city,\"London\")\n",
        "    FILTER regex(?country,\"United\")\n",
        "    FILTER (?bd>= \"1930-01-01\"^^<http://www.w3.org/2001/XMLSchema#date>)\n",
        "} \n",
        "LIMIT 100\n",
        "\"\"\")\n",
        "actorLondon"
      ],
      "execution_count": 153,
      "outputs": [
        {
          "output_type": "execute_result",
          "data": {
            "text/html": [
              "<div>\n",
              "<style scoped>\n",
              "    .dataframe tbody tr th:only-of-type {\n",
              "        vertical-align: middle;\n",
              "    }\n",
              "\n",
              "    .dataframe tbody tr th {\n",
              "        vertical-align: top;\n",
              "    }\n",
              "\n",
              "    .dataframe thead th {\n",
              "        text-align: right;\n",
              "    }\n",
              "</style>\n",
              "<table border=\"1\" class=\"dataframe\">\n",
              "  <thead>\n",
              "    <tr style=\"text-align: right;\">\n",
              "      <th></th>\n",
              "      <th>actor</th>\n",
              "      <th>city</th>\n",
              "    </tr>\n",
              "  </thead>\n",
              "  <tbody>\n",
              "  </tbody>\n",
              "</table>\n",
              "</div>"
            ],
            "text/plain": [
              "Empty DataFrame\n",
              "Columns: [actor, city]\n",
              "Index: []"
            ]
          },
          "metadata": {
            "tags": []
          },
          "execution_count": 153
        }
      ]
    },
    {
      "cell_type": "markdown",
      "metadata": {
        "id": "dXUSq9y8dWit",
        "colab_type": "text"
      },
      "source": [
        "9. Fotos de 10 de los actores nacidos en Londres después de 1930 que siguen vivos."
      ]
    },
    {
      "cell_type": "code",
      "metadata": {
        "id": "H_OQP7A6hCkZ",
        "colab_type": "code",
        "colab": {}
      },
      "source": [
        ""
      ],
      "execution_count": 0,
      "outputs": []
    },
    {
      "cell_type": "markdown",
      "metadata": {
        "id": "HbgOCgiEdWiu",
        "colab_type": "text"
      },
      "source": [
        "10 . Histograma de las 10 peliculas más largas"
      ]
    },
    {
      "cell_type": "code",
      "metadata": {
        "id": "itUAy1HBhDYr",
        "colab_type": "code",
        "colab": {}
      },
      "source": [
        ""
      ],
      "execution_count": 0,
      "outputs": []
    }
  ]
}