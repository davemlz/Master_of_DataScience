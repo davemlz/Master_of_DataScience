{
 "cells": [
  {
   "cell_type": "code",
   "execution_count": 37,
   "metadata": {},
   "outputs": [],
   "source": [
    "import numpy as np\n",
    "import math"
   ]
  },
  {
   "cell_type": "code",
   "execution_count": 44,
   "metadata": {},
   "outputs": [],
   "source": [
    "N = 20\n",
    "kmin = 2\n",
    "kmax = round(math.sqrt(N))\n",
    "k = np.random.exponential(size = N).round() + kmin"
   ]
  },
  {
   "cell_type": "code",
   "execution_count": 59,
   "metadata": {},
   "outputs": [
    {
     "name": "stderr",
     "output_type": "stream",
     "text": [
      "C:\\Users\\Dave Mont\\Anaconda3\\lib\\site-packages\\ipykernel_launcher.py:2: FutureWarning: in the future insert will treat boolean arrays and array-likes as boolean index instead of casting it to integer\n",
      "  \n"
     ]
    }
   ],
   "source": [
    "while ((k > kmax)*1).sum() > 0:\n",
    "    k = np.delete(k,k > kmax)\n",
    "    residual = N - len(k)\n",
    "    kaux = np.random.exponential(size = residual).round() + kmin"
   ]
  },
  {
   "cell_type": "code",
   "execution_count": 57,
   "metadata": {},
   "outputs": [
    {
     "name": "stderr",
     "output_type": "stream",
     "text": [
      "C:\\Users\\Dave Mont\\Anaconda3\\lib\\site-packages\\ipykernel_launcher.py:1: FutureWarning: in the future insert will treat boolean arrays and array-likes as boolean index instead of casting it to integer\n",
      "  \"\"\"Entry point for launching an IPython kernel.\n"
     ]
    },
    {
     "data": {
      "text/plain": [
       "array([4., 3., 3., 3., 3., 3., 3., 3., 3., 3., 2., 2., 2., 2., 2., 2., 2.,\n",
       "       2.])"
      ]
     },
     "execution_count": 57,
     "metadata": {},
     "output_type": "execute_result"
    }
   ],
   "source": [
    "np.delete(k,k > kmax)"
   ]
  },
  {
   "cell_type": "code",
   "execution_count": 64,
   "metadata": {},
   "outputs": [],
   "source": [
    "k = list()\n",
    "i=0\n",
    "aux=0\n",
    "while (i<N):\n",
    "    aux = np.random.exponential(scale=1.0, size= 1).round()+ kmin\n",
    "    if ( aux < np.sqrt(N)):\n",
    "        k.append(aux)\n",
    "        i = i+1\n",
    "k = np.asarray(k).flatten()\n",
    "k[::-1].sort()"
   ]
  },
  {
   "cell_type": "code",
   "execution_count": 72,
   "metadata": {},
   "outputs": [],
   "source": [
    "listas = []\n",
    "\n",
    "for i in k:\n",
    "    listas.append(np.zeros(round(i.item())))"
   ]
  },
  {
   "cell_type": "code",
   "execution_count": 106,
   "metadata": {},
   "outputs": [
    {
     "name": "stdout",
     "output_type": "stream",
     "text": [
      "0\n",
      "[array([0., 0., 0.]), array([1., 1., 1.]), array([2., 2., 2.]), array([3., 3., 3.]), array([4., 4., 4.]), array([5., 5., 5.]), array([6., 6., 6.]), array([7., 7., 7.]), array([8., 8.]), array([9., 9.]), array([10., 10.]), array([11., 11.]), array([12., 12.]), array([13., 13.]), array([14., 14.]), array([15., 15.]), array([16., 16.]), array([17., 17.]), array([18., 18.]), array([19., 19.])]\n",
      "[array([0., 0., 0.]), array([1., 1., 1.]), array([2., 2., 2.]), array([3., 3., 3.]), array([4., 4., 4.]), array([5., 5., 5.]), array([6., 6., 6.]), array([7., 7., 7.]), array([8., 8.]), array([9., 9.]), array([10., 10.]), array([11., 11.]), array([12., 12.]), array([13., 13.]), array([14., 14.]), array([15., 15.]), array([16., 16.]), array([17., 17.]), array([18., 18.]), array([19., 19.])]\n"
     ]
    },
    {
     "ename": "KeyboardInterrupt",
     "evalue": "",
     "output_type": "error",
     "traceback": [
      "\u001b[1;31m---------------------------------------------------------------------------\u001b[0m",
      "\u001b[1;31mKeyboardInterrupt\u001b[0m                         Traceback (most recent call last)",
      "\u001b[1;32m<ipython-input-106-bf9af89e9ce7>\u001b[0m in \u001b[0;36m<module>\u001b[1;34m\u001b[0m\n\u001b[0;32m      6\u001b[0m     \u001b[1;32mwhile\u001b[0m \u001b[0mj\u001b[0m \u001b[1;33m<\u001b[0m \u001b[0mN\u001b[0m\u001b[1;33m:\u001b[0m\u001b[1;33m\u001b[0m\u001b[1;33m\u001b[0m\u001b[0m\n\u001b[0;32m      7\u001b[0m         \u001b[1;32mfor\u001b[0m \u001b[0mh\u001b[0m \u001b[1;32min\u001b[0m \u001b[0mrange\u001b[0m\u001b[1;33m(\u001b[0m\u001b[0mN\u001b[0m\u001b[1;33m)\u001b[0m\u001b[1;33m:\u001b[0m\u001b[1;33m\u001b[0m\u001b[1;33m\u001b[0m\u001b[0m\n\u001b[1;32m----> 8\u001b[1;33m             \u001b[1;32mwhile\u001b[0m \u001b[0mj\u001b[0m \u001b[1;33m<\u001b[0m \u001b[0mk\u001b[0m\u001b[1;33m[\u001b[0m\u001b[0mi\u001b[0m\u001b[1;33m]\u001b[0m\u001b[1;33m:\u001b[0m\u001b[1;33m\u001b[0m\u001b[1;33m\u001b[0m\u001b[0m\n\u001b[0m\u001b[0;32m      9\u001b[0m                 \u001b[0mlistas\u001b[0m\u001b[1;33m[\u001b[0m\u001b[0mi\u001b[0m\u001b[1;33m]\u001b[0m\u001b[1;33m[\u001b[0m\u001b[0mj\u001b[0m\u001b[1;33m]\u001b[0m \u001b[1;33m=\u001b[0m \u001b[0mh\u001b[0m\u001b[1;33m\u001b[0m\u001b[1;33m\u001b[0m\u001b[0m\n\u001b[0;32m     10\u001b[0m                 \u001b[0mj\u001b[0m \u001b[1;33m+=\u001b[0m \u001b[1;36m1\u001b[0m\u001b[1;33m\u001b[0m\u001b[1;33m\u001b[0m\u001b[0m\n",
      "\u001b[1;31mKeyboardInterrupt\u001b[0m: "
     ]
    }
   ],
   "source": [
    "for i in range(N):\n",
    "    j = i + 1\n",
    "    for j"
   ]
  },
  {
   "cell_type": "code",
   "execution_count": 97,
   "metadata": {},
   "outputs": [
    {
     "data": {
      "text/plain": [
       "[array([0., 0., 0.]),\n",
       " array([1., 1., 1.]),\n",
       " array([2., 2., 2.]),\n",
       " array([3., 3., 3.]),\n",
       " array([4., 4., 4.]),\n",
       " array([5., 5., 5.]),\n",
       " array([6., 6., 6.]),\n",
       " array([7., 7., 7.]),\n",
       " array([8., 8.]),\n",
       " array([9., 9.]),\n",
       " array([10., 10.]),\n",
       " array([11., 11.]),\n",
       " array([12., 12.]),\n",
       " array([13., 13.]),\n",
       " array([14., 14.]),\n",
       " array([15., 15.]),\n",
       " array([16., 16.]),\n",
       " array([17., 17.]),\n",
       " array([18., 18.]),\n",
       " array([19., 19.])]"
      ]
     },
     "execution_count": 97,
     "metadata": {},
     "output_type": "execute_result"
    }
   ],
   "source": [
    " listas"
   ]
  },
  {
   "cell_type": "code",
   "execution_count": 84,
   "metadata": {},
   "outputs": [
    {
     "data": {
      "text/plain": [
       "array([0., 0., 0.])"
      ]
     },
     "execution_count": 84,
     "metadata": {},
     "output_type": "execute_result"
    }
   ],
   "source": [
    "listas[0]"
   ]
  }
 ],
 "metadata": {
  "kernelspec": {
   "display_name": "Python 3",
   "language": "python",
   "name": "python3"
  },
  "language_info": {
   "codemirror_mode": {
    "name": "ipython",
    "version": 3
   },
   "file_extension": ".py",
   "mimetype": "text/x-python",
   "name": "python",
   "nbconvert_exporter": "python",
   "pygments_lexer": "ipython3",
   "version": "3.7.6"
  }
 },
 "nbformat": 4,
 "nbformat_minor": 4
}
