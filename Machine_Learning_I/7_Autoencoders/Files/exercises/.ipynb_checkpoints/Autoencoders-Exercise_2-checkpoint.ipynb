{
 "cells": [
  {
   "cell_type": "markdown",
   "metadata": {
    "colab_type": "text",
    "id": "azMfSoQMxCPS"
   },
   "source": [
    "# Exercise 2: Image denoising\n",
    "\n",
    "**Degree** Master Inter-Universitario de Data Science \n",
    "\n",
    "**Course** Machine Learning I\n",
    "\n",
    "**Lecturer** Ignacio Heredia\n",
    "\n",
    "---\n",
    "\n",
    "**Objective**\n",
    "\n",
    "Use the previous deep autoencoder to create an image denoising application.\n",
    "\n",
    "**Duration**\n",
    "\n",
    "30 min\n"
   ]
  },
  {
   "cell_type": "markdown",
   "metadata": {
    "colab_type": "text",
    "id": "NzVyRqnxwuqi"
   },
   "source": [
    "**Load dataset**"
   ]
  },
  {
   "cell_type": "code",
   "execution_count": null,
   "metadata": {
    "colab": {
     "autoexec": {
      "startup": false,
      "wait_interval": 0
     },
     "base_uri": "https://localhost:8080/",
     "height": 53,
     "output_extras": [
      {
       "item_id": 1
      }
     ]
    },
    "colab_type": "code",
    "executionInfo": {
     "elapsed": 4701,
     "status": "ok",
     "timestamp": 1520506264617,
     "user": {
      "displayName": "Ignacio Heredia",
      "photoUrl": "https://lh3.googleusercontent.com/a/default-user=s128",
      "userId": "108263878129152134170"
     },
     "user_tz": -60
    },
    "id": "ZAPaGiiVws3b",
    "outputId": "bc4ec0be-eaf5-4cd9-cdef-069e4a02dd1f"
   },
   "outputs": [],
   "source": [
    "from keras.datasets import mnist\n",
    "import numpy as np\n",
    "\n",
    "\n",
    "(x_train, y_train), (x_test, y_test) = mnist.load_data()\n",
    "\n",
    "x_train = x_train.astype('float32') / 255.\n",
    "x_test = x_test.astype('float32') / 255.\n",
    "x_train = x_train.reshape((len(x_train), np.prod(x_train.shape[1:])))\n",
    "x_test = x_test.reshape((len(x_test), np.prod(x_test.shape[1:])))\n",
    "print(x_train.shape)\n",
    "print(x_test.shape)\n",
    "\n",
    "# Create noisy version of the data\n",
    "\n",
    "########################################\n",
    "#                                      #\n",
    "#       FILL THIS WITH CODE!           #\n",
    "#                                      #\n",
    "########################################"
   ]
  },
  {
   "cell_type": "markdown",
   "metadata": {
    "colab_type": "text",
    "id": "7Vsxzg1aw8I6"
   },
   "source": [
    "**Create the model**"
   ]
  },
  {
   "cell_type": "code",
   "execution_count": null,
   "metadata": {
    "colab": {
     "autoexec": {
      "startup": false,
      "wait_interval": 0
     }
    },
    "colab_type": "code",
    "id": "g7GlEiuUu96J"
   },
   "outputs": [],
   "source": [
    "from keras.layers import Input, Dense\n",
    "from keras.models import Model\n",
    "\n",
    "\n",
    "########################################\n",
    "#                                      #\n",
    "#       FILL THIS WITH CODE!           #\n",
    "#                                      #\n",
    "########################################\n",
    "\n",
    "autoencoder = Model(input_img, decoded)\n",
    "encoder = Model(input_img, encoded)"
   ]
  },
  {
   "cell_type": "markdown",
   "metadata": {
    "colab_type": "text",
    "id": "U5K7nEoA1OMc"
   },
   "source": [
    "**Train the model**"
   ]
  },
  {
   "cell_type": "code",
   "execution_count": null,
   "metadata": {
    "colab": {
     "autoexec": {
      "startup": false,
      "wait_interval": 0
     },
     "base_uri": "https://localhost:8080/",
     "height": 1853,
     "output_extras": [
      {
       "item_id": 92
      },
      {
       "item_id": 177
      },
      {
       "item_id": 273
      },
      {
       "item_id": 369
      },
      {
       "item_id": 461
      },
      {
       "item_id": 555
      },
      {
       "item_id": 649
      },
      {
       "item_id": 742
      },
      {
       "item_id": 833
      },
      {
       "item_id": 922
      },
      {
       "item_id": 1018
      },
      {
       "item_id": 1109
      },
      {
       "item_id": 1162
      },
      {
       "item_id": 1163
      }
     ]
    },
    "colab_type": "code",
    "executionInfo": {
     "elapsed": 297455,
     "status": "ok",
     "timestamp": 1520506578202,
     "user": {
      "displayName": "Ignacio Heredia",
      "photoUrl": "https://lh3.googleusercontent.com/a/default-user=s128",
      "userId": "108263878129152134170"
     },
     "user_tz": -60
    },
    "id": "waxCJmMfz6ez",
    "outputId": "f98dc274-3e1a-4ce8-ff1b-c3332aceec95"
   },
   "outputs": [],
   "source": [
    "########################################\n",
    "#                                      #\n",
    "#       FILL THIS WITH CODE!           #\n",
    "#                                      #\n",
    "########################################"
   ]
  },
  {
   "cell_type": "markdown",
   "metadata": {
    "colab_type": "text",
    "id": "fJexKYFP1RqD"
   },
   "source": [
    "**Test the model**"
   ]
  },
  {
   "cell_type": "code",
   "execution_count": null,
   "metadata": {
    "colab": {
     "autoexec": {
      "startup": false,
      "wait_interval": 0
     }
    },
    "colab_type": "code",
    "id": "Lf73oYjF1VGT"
   },
   "outputs": [],
   "source": [
    "########################################\n",
    "#                                      #\n",
    "#       FILL THIS WITH CODE!           #\n",
    "#                                      #\n",
    "########################################"
   ]
  },
  {
   "cell_type": "markdown",
   "metadata": {
    "colab_type": "text",
    "id": "KjM138WJwhzK"
   },
   "source": [
    "**Plot the results**"
   ]
  },
  {
   "cell_type": "code",
   "execution_count": null,
   "metadata": {
    "colab": {
     "autoexec": {
      "startup": false,
      "wait_interval": 0
     },
     "base_uri": "https://localhost:8080/",
     "height": 467,
     "output_extras": [
      {
       "item_id": 1
      }
     ]
    },
    "colab_type": "code",
    "executionInfo": {
     "elapsed": 1776,
     "status": "ok",
     "timestamp": 1520507327418,
     "user": {
      "displayName": "Ignacio Heredia",
      "photoUrl": "https://lh3.googleusercontent.com/a/default-user=s128",
      "userId": "108263878129152134170"
     },
     "user_tz": -60
    },
    "id": "t60TlhqdwePU",
    "outputId": "fd29b01d-dff8-4ca2-a001-1d67b8f256ce"
   },
   "outputs": [],
   "source": [
    "########################################\n",
    "#                                      #\n",
    "#       FILL THIS WITH CODE!           #\n",
    "#                                      #\n",
    "########################################"
   ]
  }
 ],
 "metadata": {
  "colab": {
   "collapsed_sections": [],
   "default_view": {},
   "name": "Autoencoders - Exercise 2.ipynb",
   "provenance": [],
   "version": "0.3.2",
   "views": {}
  },
  "kernelspec": {
   "display_name": "Python 3",
   "language": "python",
   "name": "python3"
  },
  "language_info": {
   "codemirror_mode": {
    "name": "ipython",
    "version": 3
   },
   "file_extension": ".py",
   "mimetype": "text/x-python",
   "name": "python",
   "nbconvert_exporter": "python",
   "pygments_lexer": "ipython3",
   "version": "3.6.3"
  }
 },
 "nbformat": 4,
 "nbformat_minor": 1
}
