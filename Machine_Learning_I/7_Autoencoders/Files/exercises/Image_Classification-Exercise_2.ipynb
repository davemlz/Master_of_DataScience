{
 "cells": [
  {
   "cell_type": "markdown",
   "metadata": {
    "colab_type": "text",
    "id": "2UwD1r2AqT3Q"
   },
   "source": [
    "# Exercice 2: Building a CNN model\n",
    "\n",
    "**Degree** Master Inter-Universitario de Data Science \n",
    "\n",
    "**Course** Machine Learning I\n",
    "\n",
    "**Lecturer** Ignacio Heredia\n",
    "\n",
    "---\n",
    "\n",
    "**Objective**\n",
    "\n",
    "Define a simple CNN model to classify CIFAR data.\n",
    "\n",
    "\n",
    "**Duration**\n",
    "\n",
    "25 min\n",
    "\n",
    "**References**\n",
    "\n",
    "[Keras layers docs](https://keras.io/layers/core/)\n"
   ]
  },
  {
   "cell_type": "code",
   "execution_count": 1,
   "metadata": {
    "colab": {
     "autoexec": {
      "startup": false,
      "wait_interval": 0
     },
     "base_uri": "https://localhost:8080/",
     "height": 34,
     "output_extras": [
      {
       "item_id": 1
      }
     ]
    },
    "colab_type": "code",
    "executionInfo": {
     "elapsed": 1352,
     "status": "ok",
     "timestamp": 1519666691687,
     "user": {
      "displayName": "Ignacio Heredia",
      "photoUrl": "https://lh3.googleusercontent.com/a/default-user=s128",
      "userId": "108263878129152134170"
     },
     "user_tz": -60
    },
    "id": "02jkToYMofsO",
    "outputId": "a6a058af-4938-481e-9d5f-a7379bcc8143"
   },
   "outputs": [
    {
     "name": "stderr",
     "output_type": "stream",
     "text": [
      "Using TensorFlow backend.\n"
     ]
    }
   ],
   "source": [
    "from __future__ import print_function\n",
    "import keras\n",
    "from keras.datasets import cifar10\n",
    "from keras.preprocessing.image import ImageDataGenerator\n",
    "from keras.models import Sequential\n",
    "from keras.layers import Dense, Dropout, Activation, Flatten\n",
    "from keras.layers import Conv2D, MaxPooling2D\n",
    "import os\n",
    "\n"
   ]
  },
  {
   "cell_type": "markdown",
   "metadata": {
    "colab_type": "text",
    "id": "j4_LMRiCpTaF"
   },
   "source": [
    "**Prepare the dataset**"
   ]
  },
  {
   "cell_type": "code",
   "execution_count": 2,
   "metadata": {
    "colab": {
     "autoexec": {
      "startup": false,
      "wait_interval": 0
     },
     "base_uri": "https://localhost:8080/",
     "height": 68,
     "output_extras": [
      {
       "item_id": 1
      }
     ]
    },
    "colab_type": "code",
    "executionInfo": {
     "elapsed": 868,
     "status": "ok",
     "timestamp": 1519666699924,
     "user": {
      "displayName": "Ignacio Heredia",
      "photoUrl": "https://lh3.googleusercontent.com/a/default-user=s128",
      "userId": "108263878129152134170"
     },
     "user_tz": -60
    },
    "id": "GgMsCIRSoudD",
    "outputId": "2b43717b-f4c3-4bda-b9d4-3c3ef1714d21"
   },
   "outputs": [
    {
     "name": "stdout",
     "output_type": "stream",
     "text": [
      "x_train shape: (50000, 32, 32, 3)\n",
      "50000 train samples\n",
      "10000 test samples\n"
     ]
    }
   ],
   "source": [
    "batch_size = 32\n",
    "num_classes = 10\n",
    "epochs = 5\n",
    "data_augmentation = False\n",
    "num_predictions = 20\n",
    "save_dir = os.path.join(os.getcwd(), 'saved_models')\n",
    "model_name = 'keras_cifar10_trained_model.h5'\n",
    "\n",
    "# The data, split between train and test sets:\n",
    "(x_train, y_train), (x_test, y_test) = cifar10.load_data()\n",
    "print('x_train shape:', x_train.shape)\n",
    "print(x_train.shape[0], 'train samples')\n",
    "print(x_test.shape[0], 'test samples')\n",
    "\n",
    "# Convert class vectors to binary class matrices.\n",
    "y_train = keras.utils.to_categorical(y_train, num_classes)\n",
    "y_test = keras.utils.to_categorical(y_test, num_classes)"
   ]
  },
  {
   "cell_type": "markdown",
   "metadata": {
    "colab_type": "text",
    "id": "GE5MmAC5pjnS"
   },
   "source": [
    "## Exercise 2.1\n",
    "\n",
    "**Create the model**\n",
    "\n",
    "Fill this cell with a model definition like the following:\n",
    "\n",
    " + Conv2D with 32 filters of kernel size = (3, 3)\n",
    " + RELU\n",
    " + 2D pooling of size (2,2)\n",
    " + Dropout\n",
    " \n",
    "--\n",
    " + Conv2D with 64 filters of kernel size = (3, 3)\n",
    " + RELU\n",
    " + 2D pooling of size (2,2)\n",
    " + Dropout\n",
    " \n",
    "--\n",
    " + Flatten layer\n",
    " + Dense layer with 10 units (number of classes)\n",
    " + Softmax"
   ]
  },
  {
   "cell_type": "code",
   "execution_count": 3,
   "metadata": {
    "colab": {
     "autoexec": {
      "startup": false,
      "wait_interval": 0
     }
    },
    "colab_type": "code",
    "id": "x9_K8sXiou6k"
   },
   "outputs": [],
   "source": [
    "model = Sequential()\n",
    "model.add(Conv2D(32, (3, 3), padding='same',\n",
    "                 input_shape=x_train.shape[1:]))\n",
    "model.add(Activation('relu'))\n",
    "model.add(MaxPooling2D(pool_size=(2, 2)))\n",
    "model.add(Dropout(0.25))\n",
    "\n",
    "model.add(Conv2D(64, (3, 3), padding='same'))\n",
    "model.add(Activation('relu'))\n",
    "model.add(MaxPooling2D(pool_size=(2, 2)))\n",
    "model.add(Dropout(0.25))\n",
    "\n",
    "model.add(Flatten())\n",
    "model.add(Dense(num_classes))\n",
    "model.add(Activation('softmax'))"
   ]
  },
  {
   "cell_type": "markdown",
   "metadata": {
    "colab_type": "text",
    "id": "K9ooBJufJmIS"
   },
   "source": [
    "## Exercise 2.2\n",
    "\n",
    "**Create the model**\n",
    "\n",
    "Fill this cell with a model by changing the above model and try to design a better model.\n",
    "\n",
    "**Hint** *Deeper is better! *"
   ]
  },
  {
   "cell_type": "code",
   "execution_count": 4,
   "metadata": {
    "colab": {
     "autoexec": {
      "startup": false,
      "wait_interval": 0
     }
    },
    "colab_type": "code",
    "id": "7HNNVc1lJesw"
   },
   "outputs": [],
   "source": [
    "model = Sequential()\n",
    "model.add(Conv2D(32, (3, 3), padding='same',\n",
    "                 input_shape=x_train.shape[1:]))\n",
    "model.add(Activation('relu'))\n",
    "model.add(Conv2D(32, (3, 3)))\n",
    "model.add(Activation('relu'))\n",
    "model.add(MaxPooling2D(pool_size=(2, 2)))\n",
    "model.add(Dropout(0.25))\n",
    "\n",
    "model.add(Conv2D(64, (3, 3), padding='same'))\n",
    "model.add(Activation('relu'))\n",
    "model.add(Conv2D(64, (3, 3)))\n",
    "model.add(Activation('relu'))\n",
    "model.add(MaxPooling2D(pool_size=(2, 2)))\n",
    "model.add(Dropout(0.25))\n",
    "\n",
    "model.add(Flatten())\n",
    "model.add(Dense(512))\n",
    "model.add(Activation('relu'))\n",
    "model.add(Dropout(0.5))\n",
    "model.add(Dense(num_classes))\n",
    "model.add(Activation('softmax'))"
   ]
  },
  {
   "cell_type": "markdown",
   "metadata": {
    "colab_type": "text",
    "id": "sxc9UC8op4xK"
   },
   "source": [
    "**Define training parameters and launch training**"
   ]
  },
  {
   "cell_type": "code",
   "execution_count": 5,
   "metadata": {
    "colab": {
     "autoexec": {
      "startup": false,
      "wait_interval": 0
     },
     "base_uri": "https://localhost:8080/",
     "height": 1628,
     "output_extras": [
      {
       "item_id": 103
      },
      {
       "item_id": 359
      },
      {
       "item_id": 360
      }
     ]
    },
    "colab_type": "code",
    "executionInfo": {
     "elapsed": 94123,
     "status": "error",
     "timestamp": 1519666863324,
     "user": {
      "displayName": "Ignacio Heredia",
      "photoUrl": "https://lh3.googleusercontent.com/a/default-user=s128",
      "userId": "108263878129152134170"
     },
     "user_tz": -60
    },
    "id": "ksO3_53zou-C",
    "outputId": "20675732-ca95-4df4-b806-e5c0ee6a4be7"
   },
   "outputs": [
    {
     "name": "stdout",
     "output_type": "stream",
     "text": [
      "Not using data augmentation.\n",
      "Train on 50000 samples, validate on 10000 samples\n",
      "Epoch 1/5\n",
      "50000/50000 [==============================] - 187s - loss: 1.8385 - acc: 0.3271 - val_loss: 1.7206 - val_acc: 0.3862\n",
      "Epoch 2/5\n",
      "50000/50000 [==============================] - 189s - loss: 1.5044 - acc: 0.4560 - val_loss: 1.4333 - val_acc: 0.4849\n",
      "Epoch 3/5\n",
      "50000/50000 [==============================] - 190s - loss: 1.3661 - acc: 0.5120 - val_loss: 1.2925 - val_acc: 0.5365\n",
      "Epoch 4/5\n",
      "50000/50000 [==============================] - 189s - loss: 1.2716 - acc: 0.5477 - val_loss: 1.1711 - val_acc: 0.5881\n",
      "Epoch 5/5\n",
      "50000/50000 [==============================] - 190s - loss: 1.1934 - acc: 0.5782 - val_loss: 1.1116 - val_acc: 0.6076\n",
      "Saved trained model at /home/jovyan/saved_models/keras_cifar10_trained_model.h5 \n",
      " 9952/10000 [============================>.] - ETA: 0sTest loss: 1.11163925762\n",
      "Test accuracy: 0.6076\n"
     ]
    }
   ],
   "source": [
    "# initiate RMSprop optimizer\n",
    "opt = keras.optimizers.rmsprop(lr=0.0001, decay=1e-6)\n",
    "\n",
    "# Let's train the model using RMSprop\n",
    "model.compile(loss='categorical_crossentropy',\n",
    "              optimizer=opt,\n",
    "              metrics=['accuracy'])\n",
    "\n",
    "x_train = x_train.astype('float32')\n",
    "x_test = x_test.astype('float32')\n",
    "x_train /= 255\n",
    "x_test /= 255\n",
    "\n",
    "if not data_augmentation:\n",
    "    print('Not using data augmentation.')\n",
    "    model.fit(x_train, y_train,\n",
    "              batch_size=batch_size,\n",
    "              epochs=epochs,\n",
    "              validation_data=(x_test, y_test),\n",
    "              shuffle=True)\n",
    "else:\n",
    "    print('Using real-time data augmentation.')\n",
    "    # This will do preprocessing and realtime data augmentation:\n",
    "    datagen = ImageDataGenerator(\n",
    "        featurewise_center=False,  # set input mean to 0 over the dataset\n",
    "        samplewise_center=False,  # set each sample mean to 0\n",
    "        featurewise_std_normalization=False,  # divide inputs by std of the dataset\n",
    "        samplewise_std_normalization=False,  # divide each input by its std\n",
    "        zca_whitening=False,  # apply ZCA whitening\n",
    "        rotation_range=0,  # randomly rotate images in the range (degrees, 0 to 180)\n",
    "        width_shift_range=0.1,  # randomly shift images horizontally (fraction of total width)\n",
    "        height_shift_range=0.1,  # randomly shift images vertically (fraction of total height)\n",
    "        horizontal_flip=True,  # randomly flip images\n",
    "        vertical_flip=False)  # randomly flip images\n",
    "\n",
    "    # Compute quantities required for feature-wise normalization\n",
    "    # (std, mean, and principal components if ZCA whitening is applied).\n",
    "    datagen.fit(x_train)\n",
    "\n",
    "    # Fit the model on the batches generated by datagen.flow().\n",
    "    model.fit_generator(datagen.flow(x_train, y_train,\n",
    "                                     batch_size=batch_size),\n",
    "                        epochs=epochs,\n",
    "                        validation_data=(x_test, y_test),\n",
    "                        workers=4)\n",
    "\n",
    "# Save model and weights\n",
    "if not os.path.isdir(save_dir):\n",
    "    os.makedirs(save_dir)\n",
    "model_path = os.path.join(save_dir, model_name)\n",
    "model.save(model_path)\n",
    "print('Saved trained model at %s ' % model_path)\n",
    "\n",
    "# Score trained model.\n",
    "scores = model.evaluate(x_test, y_test, verbose=1)\n",
    "print('Test loss:', scores[0])\n",
    "print('Test accuracy:', scores[1])"
   ]
  }
 ],
 "metadata": {
  "colab": {
   "default_view": {},
   "name": "Exercice2.ipynb",
   "provenance": [],
   "version": "0.3.2",
   "views": {}
  },
  "kernelspec": {
   "display_name": "Python 3",
   "language": "python",
   "name": "python3"
  },
  "language_info": {
   "codemirror_mode": {
    "name": "ipython",
    "version": 3
   },
   "file_extension": ".py",
   "mimetype": "text/x-python",
   "name": "python",
   "nbconvert_exporter": "python",
   "pygments_lexer": "ipython3",
   "version": "3.6.8"
  }
 },
 "nbformat": 4,
 "nbformat_minor": 2
}
