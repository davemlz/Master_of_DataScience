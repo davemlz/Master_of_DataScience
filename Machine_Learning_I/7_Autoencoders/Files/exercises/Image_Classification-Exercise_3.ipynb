{
 "cells": [
  {
   "cell_type": "markdown",
   "metadata": {
    "colab_type": "text",
    "id": "2UwD1r2AqT3Q"
   },
   "source": [
    "# Exercice 3: Optimizing training\n",
    "\n",
    "**Degree** Master Inter-Universitario de Data Science \n",
    "\n",
    "**Course** Machine Learning I\n",
    "\n",
    "**Lecturer** Ignacio Heredia\n",
    "\n",
    "---\n",
    "\n",
    "**Objective**\n",
    "\n",
    "Try to find the best training routines (optimizers, regularizations, ...) and the best hyperparameters for each method.\n",
    "\n",
    "**Duration**\n",
    "\n",
    "60 min (30 + 30)\n",
    "\n"
   ]
  },
  {
   "cell_type": "code",
   "execution_count": null,
   "metadata": {
    "colab": {
     "autoexec": {
      "startup": false,
      "wait_interval": 0
     }
    },
    "colab_type": "code",
    "id": "S3PtHO7qlvPN"
   },
   "outputs": [],
   "source": [
    "import tensorflow\n",
    "import keras\n",
    "from keras.datasets import mnist\n",
    "from keras.models import Sequential\n",
    "from keras.layers import Dense, Dropout, Flatten\n",
    "from keras.layers import Conv2D, MaxPooling2D\n",
    "from keras.optimizers import SGD\n",
    "from keras import backend as K\n",
    "\n",
    "import numpy as np"
   ]
  },
  {
   "cell_type": "markdown",
   "metadata": {
    "colab_type": "text",
    "id": "IYCOl7F4ndIt"
   },
   "source": [
    "**Load dataset**"
   ]
  },
  {
   "cell_type": "code",
   "execution_count": null,
   "metadata": {
    "colab": {
     "autoexec": {
      "startup": false,
      "wait_interval": 0
     },
     "base_uri": "https://localhost:8080/",
     "height": 125,
     "output_extras": [
      {
       "item_id": 1
      }
     ]
    },
    "colab_type": "code",
    "executionInfo": {
     "elapsed": 1042,
     "status": "ok",
     "timestamp": 1520359831956,
     "user": {
      "displayName": "Ignacio Heredia",
      "photoUrl": "https://lh3.googleusercontent.com/a/default-user=s128",
      "userId": "108263878129152134170"
     },
     "user_tz": -60
    },
    "id": "z_pxidQ1nb6y",
    "outputId": "7bc6d154-49d2-457c-d7e1-9dd7726fd7c0"
   },
   "outputs": [],
   "source": [
    "batch_size = 128\n",
    "num_classes = 10\n",
    "epochs = 1\n",
    "\n",
    "# input image dimensions\n",
    "img_rows, img_cols = 28, 28\n",
    "\n",
    "# the data, split between train and test sets\n",
    "(x_train, y_train), (x_test, y_test) = mnist.load_data()\n",
    "\n",
    "if K.image_data_format() == 'channels_first':\n",
    "    x_train = x_train.reshape(x_train.shape[0], 1, img_rows, img_cols)\n",
    "    x_test = x_test.reshape(x_test.shape[0], 1, img_rows, img_cols)\n",
    "    input_shape = (1, img_rows, img_cols)\n",
    "else:\n",
    "    x_train = x_train.reshape(x_train.shape[0], img_rows, img_cols, 1)\n",
    "    x_test = x_test.reshape(x_test.shape[0], img_rows, img_cols, 1)\n",
    "    input_shape = (img_rows, img_cols, 1)\n",
    "\n",
    "x_train = x_train.astype('float32')\n",
    "x_test = x_test.astype('float32')\n",
    "x_train /= 255\n",
    "x_test /= 255\n",
    "print('x_train shape:', x_train.shape)\n",
    "print(x_train.shape[0], 'train samples')\n",
    "print(x_test.shape[0], 'test samples')\n",
    "\n",
    "# convert class vectors to binary class matrices\n",
    "y_train = keras.utils.to_categorical(y_train, num_classes)\n",
    "y_test = keras.utils.to_categorical(y_test, num_classes)\n",
    "\n",
    "# Take subsample for fast training (demo)\n",
    "x_train, y_train = x_train[:5000], y_train[:5000]\n",
    "x_test, y_test = x_test[:1000], y_test[:1000]\n",
    "print('Taking subsample:')\n",
    "print(x_train.shape[0], 'train samples')\n",
    "print(x_test.shape[0], 'test samples')"
   ]
  },
  {
   "cell_type": "markdown",
   "metadata": {
    "colab_type": "text",
    "id": "XirSJpz6nrl-"
   },
   "source": [
    "**Define model**"
   ]
  },
  {
   "cell_type": "code",
   "execution_count": null,
   "metadata": {
    "colab": {
     "autoexec": {
      "startup": false,
      "wait_interval": 0
     }
    },
    "colab_type": "code",
    "id": "Jxoq-rXlmSvT"
   },
   "outputs": [],
   "source": [
    "def model_definition(reg_dict, init_dict):\n",
    "    model = Sequential()\n",
    "    model.add(Conv2D(32, kernel_size=(3, 3),\n",
    "                   activation='relu',\n",
    "                   input_shape=input_shape, **reg_dict))\n",
    "    model.add(Conv2D(64, (3, 3), activation='relu', **reg_dict))\n",
    "    model.add(MaxPooling2D(pool_size=(2, 2)))\n",
    "    model.add(Dropout(0.25))\n",
    "    model.add(Flatten())\n",
    "    model.add(Dense(128, activation='relu', **reg_dict, **init_dict))\n",
    "    model.add(Dropout(0.5))\n",
    "    model.add(Dense(num_classes, activation='softmax', **init_dict))\n",
    "    return model"
   ]
  },
  {
   "cell_type": "markdown",
   "metadata": {
    "colab_type": "text",
    "id": "o3v3GN7kHbM6"
   },
   "source": [
    "**Compile and train**"
   ]
  },
  {
   "cell_type": "code",
   "execution_count": null,
   "metadata": {
    "colab": {
     "autoexec": {
      "startup": false,
      "wait_interval": 0
     }
    },
    "colab_type": "code",
    "id": "QMrlo-Cwt9Rw"
   },
   "outputs": [],
   "source": [
    "def train_and_score(optimizer=SGD(), regularization_args={}, initialization_args={}):\n",
    "    model = model_definition(reg_dict=regularization_args, init_dict=initialization_args)\n",
    "    model.compile(loss=keras.losses.categorical_crossentropy,\n",
    "              optimizer=optimizer,\n",
    "              metrics=['accuracy'])\n",
    "    model.fit(x_train, y_train,\n",
    "            batch_size=batch_size,\n",
    "            epochs=epochs,\n",
    "            verbose=0)\n",
    "    score = model.evaluate(x_test, y_test, verbose=0)\n",
    "    #print('Test loss:', score[0])\n",
    "    #print('Test accuracy:', score[1])\n",
    "    return (score[0], score[1])"
   ]
  },
  {
   "cell_type": "markdown",
   "metadata": {
    "colab_type": "text",
    "id": "LaWpBFbrL-Qz"
   },
   "source": [
    "## Exercise 3.1\n",
    "\n",
    "Explore modyfing ```model_definition``` and ```train_and_score``` functions options to find an optimal training routine (while keeping the same model architecture).\n",
    "\n",
    "**Hints**:\n",
    "  * Try to add [regularization](https://keras.io/regularizers/) to ```model_definition```\n",
    "  * Try to add [initializers](https://keras.io/initializers/) to ```model_definition```\n",
    "  * Try different [optimizers](https://keras.io/optimizers/) in ```train_and_score```\n",
    "  \n",
    "Use the default hyperparameters for each option."
   ]
  },
  {
   "cell_type": "markdown",
   "metadata": {
    "colab_type": "text",
    "id": "rnrYP9H2WBP1"
   },
   "source": [
    "**Try different regularizations**\n",
    "\n",
    "We explore it **without** combinatorial options that would take 4³=64 iterations to explore."
   ]
  },
  {
   "cell_type": "code",
   "execution_count": null,
   "metadata": {
    "colab": {
     "autoexec": {
      "startup": false,
      "wait_interval": 0
     },
     "base_uri": "https://localhost:8080/",
     "height": 89,
     "output_extras": [
      {
       "item_id": 4
      }
     ]
    },
    "colab_type": "code",
    "executionInfo": {
     "elapsed": 129959,
     "status": "ok",
     "timestamp": 1520339155447,
     "user": {
      "displayName": "Ignacio Heredia",
      "photoUrl": "https://lh3.googleusercontent.com/a/default-user=s128",
      "userId": "108263878129152134170"
     },
     "user_tz": -60
    },
    "id": "6rAihluVRcPj",
    "outputId": "cdba1b51-608c-4d55-fff0-b8ab97aee9e1"
   },
   "outputs": [],
   "source": [
    "########################################\n",
    "#                                      #\n",
    "#       FILL THIS WITH CODE!           #\n",
    "#                                      #\n",
    "########################################"
   ]
  },
  {
   "cell_type": "code",
   "execution_count": null,
   "metadata": {
    "colab": {
     "autoexec": {
      "startup": false,
      "wait_interval": 0
     },
     "base_uri": "https://localhost:8080/",
     "height": 179,
     "output_extras": [
      {
       "item_id": 1
      }
     ]
    },
    "colab_type": "code",
    "executionInfo": {
     "elapsed": 559,
     "status": "ok",
     "timestamp": 1520339354464,
     "user": {
      "displayName": "Ignacio Heredia",
      "photoUrl": "https://lh3.googleusercontent.com/a/default-user=s128",
      "userId": "108263878129152134170"
     },
     "user_tz": -60
    },
    "id": "AWu56QdQb1lu",
    "outputId": "d6e964c5-6d9a-4269-ba56-9d69befdae21"
   },
   "outputs": [],
   "source": [
    "########################################\n",
    "#                                      #\n",
    "#       FILL THIS WITH CODE!           #\n",
    "#                                      #\n",
    "########################################"
   ]
  },
  {
   "cell_type": "markdown",
   "metadata": {
    "colab_type": "text",
    "id": "gQwb-HImWMY1"
   },
   "source": [
    "\n",
    "**Try different initilizers**\n",
    "\n",
    "We explore it **without** combinatorial options"
   ]
  },
  {
   "cell_type": "code",
   "execution_count": null,
   "metadata": {
    "colab": {
     "autoexec": {
      "startup": false,
      "wait_interval": 0
     },
     "base_uri": "https://localhost:8080/",
     "height": 233,
     "output_extras": [
      {
       "item_id": 12
      }
     ]
    },
    "colab_type": "code",
    "executionInfo": {
     "elapsed": 181004,
     "status": "ok",
     "timestamp": 1520340938903,
     "user": {
      "displayName": "Ignacio Heredia",
      "photoUrl": "https://lh3.googleusercontent.com/a/default-user=s128",
      "userId": "108263878129152134170"
     },
     "user_tz": -60
    },
    "id": "K_TIFZr-TRh7",
    "outputId": "48d4d907-201c-4f12-dbba-748ff5c1bb86"
   },
   "outputs": [],
   "source": [
    "########################################\n",
    "#                                      #\n",
    "#       FILL THIS WITH CODE!           #\n",
    "#                                      #\n",
    "########################################"
   ]
  },
  {
   "cell_type": "code",
   "execution_count": null,
   "metadata": {
    "colab": {
     "autoexec": {
      "startup": false,
      "wait_interval": 0
     },
     "base_uri": "https://localhost:8080/",
     "height": 467,
     "output_extras": [
      {
       "item_id": 1
      }
     ]
    },
    "colab_type": "code",
    "executionInfo": {
     "elapsed": 711,
     "status": "ok",
     "timestamp": 1520340984307,
     "user": {
      "displayName": "Ignacio Heredia",
      "photoUrl": "https://lh3.googleusercontent.com/a/default-user=s128",
      "userId": "108263878129152134170"
     },
     "user_tz": -60
    },
    "id": "2mUoymO-Wu0D",
    "outputId": "869357a0-d3e6-40b8-bb7b-a0cb92ce8db0"
   },
   "outputs": [],
   "source": [
    "########################################\n",
    "#                                      #\n",
    "#       FILL THIS WITH CODE!           #\n",
    "#                                      #\n",
    "########################################"
   ]
  },
  {
   "cell_type": "markdown",
   "metadata": {
    "colab_type": "text",
    "id": "HlaWc0F6WHVl"
   },
   "source": [
    "**Try different optimizers**\n",
    "\n",
    "We explore it **without** combinatorial options"
   ]
  },
  {
   "cell_type": "code",
   "execution_count": null,
   "metadata": {
    "colab": {
     "autoexec": {
      "startup": false,
      "wait_interval": 0
     },
     "base_uri": "https://localhost:8080/",
     "height": 143,
     "output_extras": [
      {
       "item_id": 7
      }
     ]
    },
    "colab_type": "code",
    "executionInfo": {
     "elapsed": 113538,
     "status": "ok",
     "timestamp": 1519753848615,
     "user": {
      "displayName": "Ignacio Heredia",
      "photoUrl": "https://lh3.googleusercontent.com/a/default-user=s128",
      "userId": "108263878129152134170"
     },
     "user_tz": -60
    },
    "id": "1mLs8Te-TZpr",
    "outputId": "71bfa613-5355-4203-eca8-39a9b5cac373"
   },
   "outputs": [],
   "source": [
    "########################################\n",
    "#                                      #\n",
    "#       FILL THIS WITH CODE!           #\n",
    "#                                      #\n",
    "########################################"
   ]
  },
  {
   "cell_type": "code",
   "execution_count": null,
   "metadata": {
    "colab": {
     "autoexec": {
      "startup": false,
      "wait_interval": 0
     },
     "base_uri": "https://localhost:8080/",
     "height": 287,
     "output_extras": [
      {
       "item_id": 1
      }
     ]
    },
    "colab_type": "code",
    "executionInfo": {
     "elapsed": 601,
     "status": "ok",
     "timestamp": 1519754207236,
     "user": {
      "displayName": "Ignacio Heredia",
      "photoUrl": "https://lh3.googleusercontent.com/a/default-user=s128",
      "userId": "108263878129152134170"
     },
     "user_tz": -60
    },
    "id": "7G4RgI5nX0A9",
    "outputId": "ef476302-cd2e-4282-eb95-be2accb1f278"
   },
   "outputs": [],
   "source": [
    "########################################\n",
    "#                                      #\n",
    "#       FILL THIS WITH CODE!           #\n",
    "#                                      #\n",
    "########################################"
   ]
  },
  {
   "cell_type": "markdown",
   "metadata": {
    "colab_type": "text",
    "id": "IuerZchA8sjd"
   },
   "source": [
    "## Exercise 3.2\n",
    "\n",
    "\n",
    "Now we fix the training options:\n",
    "\n",
    "\n",
    "* **Regularizer:** No regularization\n",
    "* **Initializer:** He Uniform\n",
    "* **Optimizer:** SGD with decay 0\n",
    "\n",
    "For the sake of simplicity we are going to play only with the some hyperparameters of the optimizer while fixing the \n",
    "hyperparameters of the initializer and the regularizer. We will therefore play with:\n",
    "\n",
    "* learning rate\n",
    "* momentum value\n",
    "\n",
    "Implement *random search* and *grid search* on these hyperparameters to find the best set of hyperparameters and compare the results of both search methods."
   ]
  },
  {
   "cell_type": "code",
   "execution_count": null,
   "metadata": {
    "colab": {
     "autoexec": {
      "startup": false,
      "wait_interval": 0
     }
    },
    "colab_type": "code",
    "id": "8hNu5UBI97lD"
   },
   "outputs": [],
   "source": [
    "import numpy as np\n",
    "import matplotlib as mpl\n",
    "mpl.rcParams['figure.dpi']= 300\n",
    "from matplotlib.mlab import griddata\n",
    "import matplotlib.pylab as plt\n",
    "\n",
    "from keras.optimizers import SGD\n",
    "from keras.initializers import he_uniform\n",
    "from keras.regularizers import l1_l2\n",
    "\n",
    "# Define the ranges\n",
    "lr_r = [-2, 0] #sample in logscale [1e-2, 1e0]\n",
    "mom_r = [0.8, 1.]\n",
    "\n",
    "def loss_acc(option_list, verbose=True):\n",
    "    loss_list, acc_list = [], []\n",
    "    for (lr, mom) in option_list:\n",
    "        if verbose:\n",
    "            print('Testing with: lr:{}, momentum:{}'.format(lr, mom))\n",
    "\n",
    "        init_args = {'kernel_initializer': he_uniform(), 'bias_initializer': he_uniform()}\n",
    "        reg_args = {}\n",
    "        opt_args = {'lr': lr, 'momentum': mom, 'decay': 0.}\n",
    "\n",
    "        loss, acc= train_and_score(optimizer=SGD(**opt_args), initialization_args=init_args, regularization_args=reg_args)\n",
    "        loss_list.append(loss)\n",
    "        acc_list.append(acc)\n",
    "  \n",
    "    return loss_list, acc_list\n",
    "\n",
    "\n",
    "def print_winner(loss_list, acc_list):\n",
    "    loss_list, acc_list = np.array(loss_list), np.array(acc_list)\n",
    "    args = np.argsort(acc_list)[::-1]\n",
    "    print('Winner table:')\n",
    "    for i, ind in enumerate(args):\n",
    "        print('{}) {}'.format(i, option_list[ind]))\n",
    "        print('    Loss: {:0.2}, Acc: {}'.format(loss_list[ind], acc_list[ind]))\n",
    "\n",
    "        \n",
    "def grid(x, y, z, resX=100, resY=100):\n",
    "    \"Convert 3 column data to matplotlib grid\"\n",
    "    xi = np.linspace(min(x), max(x), resX)\n",
    "    yi = np.linspace(min(y), max(y), resY)\n",
    "    Z = griddata(x, y, z, xi, yi, interp='linear')\n",
    "    X, Y = np.meshgrid(xi, yi)\n",
    "    return X, Y, Z"
   ]
  },
  {
   "cell_type": "markdown",
   "metadata": {
    "colab_type": "text",
    "id": "SMoWeJWVVjtB"
   },
   "source": [
    "**Random search**"
   ]
  },
  {
   "cell_type": "code",
   "execution_count": null,
   "metadata": {
    "colab": {
     "autoexec": {
      "startup": false,
      "wait_interval": 0
     }
    },
    "colab_type": "code",
    "id": "MEfGHpeAZoM5"
   },
   "outputs": [],
   "source": [
    "########################################\n",
    "#                                      #\n",
    "#       FILL THIS WITH CODE!           #\n",
    "#                                      #\n",
    "########################################"
   ]
  },
  {
   "cell_type": "code",
   "execution_count": null,
   "metadata": {
    "colab": {
     "autoexec": {
      "startup": false,
      "wait_interval": 0
     },
     "base_uri": "https://localhost:8080/",
     "height": 179,
     "output_extras": [
      {
       "item_id": 9
      }
     ]
    },
    "colab_type": "code",
    "executionInfo": {
     "elapsed": 80416,
     "status": "ok",
     "timestamp": 1520360296280,
     "user": {
      "displayName": "Ignacio Heredia",
      "photoUrl": "https://lh3.googleusercontent.com/a/default-user=s128",
      "userId": "108263878129152134170"
     },
     "user_tz": -60
    },
    "id": "DI2Iz9pcNA_n",
    "outputId": "e7f4f684-6f2a-4e98-98f1-5834cf65a54f"
   },
   "outputs": [],
   "source": [
    "loss_list, acc_list = loss_acc(option_list)"
   ]
  },
  {
   "cell_type": "code",
   "execution_count": null,
   "metadata": {
    "colab": {
     "autoexec": {
      "startup": false,
      "wait_interval": 0
     },
     "base_uri": "https://localhost:8080/",
     "height": 359,
     "output_extras": [
      {
       "item_id": 1
      }
     ]
    },
    "colab_type": "code",
    "executionInfo": {
     "elapsed": 811,
     "status": "ok",
     "timestamp": 1520360191916,
     "user": {
      "displayName": "Ignacio Heredia",
      "photoUrl": "https://lh3.googleusercontent.com/a/default-user=s128",
      "userId": "108263878129152134170"
     },
     "user_tz": -60
    },
    "id": "iXzht6DEVeOA",
    "outputId": "cba61b21-c737-4de1-cd29-ef9e31d85187"
   },
   "outputs": [],
   "source": [
    "option_list = list(option_list)\n",
    "print_winner(loss_list, acc_list)"
   ]
  },
  {
   "cell_type": "code",
   "execution_count": null,
   "metadata": {},
   "outputs": [],
   "source": [
    "X, Y, Z = grid(lr_samples, mom_samples, np.array(acc_list))\n",
    "\n",
    "plt.contourf(X, Y, Z)\n",
    "plt.colorbar()\n",
    "plt.scatter(lr_samples, mom_samples, c='r')\n",
    "\n",
    "plt.xlim(*lr_r)\n",
    "plt.ylim(*mom_r)\n",
    "plt.xlabel('Learning rate (log)')\n",
    "plt.ylabel('Momemtum')\n",
    "plt.show()"
   ]
  },
  {
   "cell_type": "markdown",
   "metadata": {
    "colab_type": "text",
    "id": "A7Yq5_jIVrU4"
   },
   "source": [
    "**Grid search**"
   ]
  },
  {
   "cell_type": "code",
   "execution_count": null,
   "metadata": {
    "colab": {
     "autoexec": {
      "startup": false,
      "wait_interval": 0
     }
    },
    "colab_type": "code",
    "id": "ZYOpOb0nFERN"
   },
   "outputs": [],
   "source": [
    "########################################\n",
    "#                                      #\n",
    "#       FILL THIS WITH CODE!           #\n",
    "#                                      #\n",
    "########################################"
   ]
  },
  {
   "cell_type": "code",
   "execution_count": null,
   "metadata": {
    "colab": {
     "autoexec": {
      "startup": false,
      "wait_interval": 0
     },
     "base_uri": "https://localhost:8080/",
     "height": 179,
     "output_extras": [
      {
       "item_id": 9
      }
     ]
    },
    "colab_type": "code",
    "executionInfo": {
     "elapsed": 65448,
     "status": "ok",
     "timestamp": 1520359963990,
     "user": {
      "displayName": "Ignacio Heredia",
      "photoUrl": "https://lh3.googleusercontent.com/a/default-user=s128",
      "userId": "108263878129152134170"
     },
     "user_tz": -60
    },
    "id": "TqcdOHBybVUD",
    "outputId": "fa53d7da-fe09-4793-df75-a514768345f7"
   },
   "outputs": [],
   "source": [
    "loss_list, acc_list = loss_acc(option_list)"
   ]
  },
  {
   "cell_type": "code",
   "execution_count": null,
   "metadata": {
    "colab": {
     "autoexec": {
      "startup": false,
      "wait_interval": 0
     },
     "base_uri": "https://localhost:8080/",
     "height": 359,
     "output_extras": [
      {
       "item_id": 1
      }
     ]
    },
    "colab_type": "code",
    "executionInfo": {
     "elapsed": 429,
     "status": "ok",
     "timestamp": 1520360040912,
     "user": {
      "displayName": "Ignacio Heredia",
      "photoUrl": "https://lh3.googleusercontent.com/a/default-user=s128",
      "userId": "108263878129152134170"
     },
     "user_tz": -60
    },
    "id": "YTcpen2ZUZPQ",
    "outputId": "f2a4594b-3d6f-4102-f78c-68df23eeebbc"
   },
   "outputs": [],
   "source": [
    "print_winner(loss_list, acc_list)"
   ]
  },
  {
   "cell_type": "code",
   "execution_count": null,
   "metadata": {},
   "outputs": [],
   "source": [
    "X, Y, Z = grid(lr_samples, mom_samples, np.array(acc_list))\n",
    "\n",
    "plt.contourf(X, Y, Z)\n",
    "plt.colorbar()\n",
    "plt.scatter(lr_samples, mom_samples, c='r')\n",
    "\n",
    "plt.xlim(*lr_r)\n",
    "plt.ylim(*mom_r)\n",
    "plt.xlabel('Learning rate (log)')\n",
    "plt.ylabel('Momemtum')\n",
    "plt.show()"
   ]
  },
  {
   "cell_type": "markdown",
   "metadata": {},
   "source": [
    "**Extensive random search**"
   ]
  },
  {
   "cell_type": "code",
   "execution_count": null,
   "metadata": {},
   "outputs": [],
   "source": [
    "########################################\n",
    "#                                      #\n",
    "#       FILL THIS WITH CODE!           #\n",
    "#                                      #\n",
    "########################################"
   ]
  },
  {
   "cell_type": "code",
   "execution_count": null,
   "metadata": {},
   "outputs": [],
   "source": [
    "X, Y, Z = grid(lr_samples, mom_samples, np.array(acc_list))\n",
    "\n",
    "ax = plt.contourf(X, Y, Z)\n",
    "plt.scatter(lr_samples, mom_samples, c='r')\n",
    "\n",
    "plt.colorbar(ax)\n",
    "plt.xlim(*lr_r)\n",
    "plt.ylim(*mom_r)\n",
    "plt.xlabel('Learning rate (log)')\n",
    "plt.ylabel('Momemtum')\n",
    "plt.show()"
   ]
  },
  {
   "cell_type": "markdown",
   "metadata": {},
   "source": [
    "**Extensive Grid search**"
   ]
  },
  {
   "cell_type": "code",
   "execution_count": null,
   "metadata": {},
   "outputs": [],
   "source": [
    "########################################\n",
    "#                                      #\n",
    "#       FILL THIS WITH CODE!           #\n",
    "#                                      #\n",
    "########################################"
   ]
  },
  {
   "cell_type": "code",
   "execution_count": null,
   "metadata": {},
   "outputs": [],
   "source": [
    "X, Y, Z = grid(lr_samples, mom_samples, np.array(acc_list))\n",
    "\n",
    "plt.contourf(X, Y, Z)\n",
    "plt.colorbar()\n",
    "plt.scatter(lr_samples, mom_samples, c='r')\n",
    "\n",
    "plt.xlim(*lr_r)\n",
    "plt.ylim(*mom_r)\n",
    "plt.xlabel('Learning rate (log)')\n",
    "plt.ylabel('Momemtum')\n",
    "plt.show()"
   ]
  }
 ],
 "metadata": {
  "colab": {
   "default_view": {},
   "name": "Exercice3.ipynb",
   "provenance": [],
   "version": "0.3.2",
   "views": {}
  },
  "kernelspec": {
   "display_name": "Python 3",
   "language": "python",
   "name": "python3"
  },
  "language_info": {
   "codemirror_mode": {
    "name": "ipython",
    "version": 3
   },
   "file_extension": ".py",
   "mimetype": "text/x-python",
   "name": "python",
   "nbconvert_exporter": "python",
   "pygments_lexer": "ipython3",
   "version": "3.6.8"
  }
 },
 "nbformat": 4,
 "nbformat_minor": 2
}
