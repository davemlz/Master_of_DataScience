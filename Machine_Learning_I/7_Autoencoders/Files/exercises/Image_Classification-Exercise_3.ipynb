{
  "nbformat": 4,
  "nbformat_minor": 0,
  "metadata": {
    "colab": {
      "name": "Exercice3.ipynb",
      "provenance": []
    },
    "kernelspec": {
      "display_name": "Python 3",
      "language": "python",
      "name": "python3"
    },
    "language_info": {
      "codemirror_mode": {
        "name": "ipython",
        "version": 3
      },
      "file_extension": ".py",
      "mimetype": "text/x-python",
      "name": "python",
      "nbconvert_exporter": "python",
      "pygments_lexer": "ipython3",
      "version": "3.6.8"
    }
  },
  "cells": [
    {
      "cell_type": "markdown",
      "metadata": {
        "colab_type": "text",
        "id": "2UwD1r2AqT3Q"
      },
      "source": [
        "# Exercice 3: Optimizing training\n",
        "\n",
        "**Degree** Master Inter-Universitario de Data Science \n",
        "\n",
        "**Course** Machine Learning I\n",
        "\n",
        "**Lecturer** Ignacio Heredia\n",
        "\n",
        "---\n",
        "\n",
        "**Objective**\n",
        "\n",
        "Try to find the best training routines (optimizers, regularizations, ...) and the best hyperparameters for each method.\n",
        "\n",
        "**Duration**\n",
        "\n",
        "60 min (30 + 30)\n",
        "\n"
      ]
    },
    {
      "cell_type": "code",
      "metadata": {
        "colab_type": "code",
        "id": "S3PtHO7qlvPN",
        "colab": {
          "base_uri": "https://localhost:8080/",
          "height": 81
        },
        "outputId": "4c734280-2b77-4bc3-d07d-09158493cba1"
      },
      "source": [
        "import tensorflow\n",
        "import keras\n",
        "from keras.datasets import mnist\n",
        "from keras.models import Sequential\n",
        "from keras.layers import Dense, Dropout, Flatten\n",
        "from keras.layers import Conv2D, MaxPooling2D\n",
        "from keras.optimizers import SGD\n",
        "from keras import backend as K\n",
        "\n",
        "import numpy as np"
      ],
      "execution_count": 1,
      "outputs": [
        {
          "output_type": "display_data",
          "data": {
            "text/html": [
              "<p style=\"color: red;\">\n",
              "The default version of TensorFlow in Colab will soon switch to TensorFlow 2.x.<br>\n",
              "We recommend you <a href=\"https://www.tensorflow.org/guide/migrate\" target=\"_blank\">upgrade</a> now \n",
              "or ensure your notebook will continue to use TensorFlow 1.x via the <code>%tensorflow_version 1.x</code> magic:\n",
              "<a href=\"https://colab.research.google.com/notebooks/tensorflow_version.ipynb\" target=\"_blank\">more info</a>.</p>\n"
            ],
            "text/plain": [
              "<IPython.core.display.HTML object>"
            ]
          },
          "metadata": {
            "tags": []
          }
        },
        {
          "output_type": "stream",
          "text": [
            "Using TensorFlow backend.\n"
          ],
          "name": "stderr"
        }
      ]
    },
    {
      "cell_type": "markdown",
      "metadata": {
        "colab_type": "text",
        "id": "IYCOl7F4ndIt"
      },
      "source": [
        "**Load dataset**"
      ]
    },
    {
      "cell_type": "code",
      "metadata": {
        "colab_type": "code",
        "id": "z_pxidQ1nb6y",
        "outputId": "f46af73f-906e-4e85-e557-40e05718b4de",
        "colab": {
          "base_uri": "https://localhost:8080/",
          "height": 158
        }
      },
      "source": [
        "batch_size = 128\n",
        "num_classes = 10\n",
        "epochs = 1\n",
        "\n",
        "# input image dimensions\n",
        "img_rows, img_cols = 28, 28\n",
        "\n",
        "# the data, split between train and test sets\n",
        "(x_train, y_train), (x_test, y_test) = mnist.load_data()\n",
        "\n",
        "if K.image_data_format() == 'channels_first':\n",
        "    x_train = x_train.reshape(x_train.shape[0], 1, img_rows, img_cols)\n",
        "    x_test = x_test.reshape(x_test.shape[0], 1, img_rows, img_cols)\n",
        "    input_shape = (1, img_rows, img_cols)\n",
        "else:\n",
        "    x_train = x_train.reshape(x_train.shape[0], img_rows, img_cols, 1)\n",
        "    x_test = x_test.reshape(x_test.shape[0], img_rows, img_cols, 1)\n",
        "    input_shape = (img_rows, img_cols, 1)\n",
        "\n",
        "x_train = x_train.astype('float32')\n",
        "x_test = x_test.astype('float32')\n",
        "x_train /= 255\n",
        "x_test /= 255\n",
        "print('x_train shape:', x_train.shape)\n",
        "print(x_train.shape[0], 'train samples')\n",
        "print(x_test.shape[0], 'test samples')\n",
        "\n",
        "# convert class vectors to binary class matrices\n",
        "y_train = keras.utils.to_categorical(y_train, num_classes)\n",
        "y_test = keras.utils.to_categorical(y_test, num_classes)\n",
        "\n",
        "# Take subsample for fast training (demo)\n",
        "x_train, y_train = x_train[:5000], y_train[:5000]\n",
        "x_test, y_test = x_test[:1000], y_test[:1000]\n",
        "print('Taking subsample:')\n",
        "print(x_train.shape[0], 'train samples')\n",
        "print(x_test.shape[0], 'test samples')"
      ],
      "execution_count": 2,
      "outputs": [
        {
          "output_type": "stream",
          "text": [
            "Downloading data from https://s3.amazonaws.com/img-datasets/mnist.npz\n",
            "11493376/11490434 [==============================] - 1s 0us/step\n",
            "x_train shape: (60000, 28, 28, 1)\n",
            "60000 train samples\n",
            "10000 test samples\n",
            "Taking subsample:\n",
            "5000 train samples\n",
            "1000 test samples\n"
          ],
          "name": "stdout"
        }
      ]
    },
    {
      "cell_type": "markdown",
      "metadata": {
        "colab_type": "text",
        "id": "XirSJpz6nrl-"
      },
      "source": [
        "**Define model**"
      ]
    },
    {
      "cell_type": "code",
      "metadata": {
        "colab_type": "code",
        "id": "Jxoq-rXlmSvT",
        "colab": {}
      },
      "source": [
        "def model_definition(reg_dict, init_dict):\n",
        "    model = Sequential()\n",
        "    model.add(Conv2D(32, kernel_size=(3, 3),\n",
        "                   activation='relu',\n",
        "                   input_shape=input_shape, **reg_dict))\n",
        "    model.add(Conv2D(64, (3, 3), activation='relu', **reg_dict))\n",
        "    model.add(MaxPooling2D(pool_size=(2, 2)))\n",
        "    model.add(Dropout(0.25))\n",
        "    model.add(Flatten())\n",
        "    model.add(Dense(128, activation='relu', **reg_dict, **init_dict))\n",
        "    model.add(Dropout(0.5))\n",
        "    model.add(Dense(num_classes, activation='softmax', **init_dict))\n",
        "    return model"
      ],
      "execution_count": 0,
      "outputs": []
    },
    {
      "cell_type": "markdown",
      "metadata": {
        "colab_type": "text",
        "id": "o3v3GN7kHbM6"
      },
      "source": [
        "**Compile and train**"
      ]
    },
    {
      "cell_type": "code",
      "metadata": {
        "colab_type": "code",
        "id": "QMrlo-Cwt9Rw",
        "colab": {}
      },
      "source": [
        "def train_and_score(optimizer=SGD(), regularization_args={}, initialization_args={}):\n",
        "    model = model_definition(reg_dict=regularization_args, init_dict=initialization_args)\n",
        "    model.compile(loss=keras.losses.categorical_crossentropy,\n",
        "              optimizer=optimizer,\n",
        "              metrics=['accuracy'])\n",
        "    model.fit(x_train, y_train,\n",
        "            batch_size=batch_size,\n",
        "            epochs=epochs,\n",
        "            verbose=0)\n",
        "    score = model.evaluate(x_test, y_test, verbose=0)\n",
        "    #print('Test loss:', score[0])\n",
        "    #print('Test accuracy:', score[1])\n",
        "    return (score[0], score[1])"
      ],
      "execution_count": 0,
      "outputs": []
    },
    {
      "cell_type": "markdown",
      "metadata": {
        "colab_type": "text",
        "id": "LaWpBFbrL-Qz"
      },
      "source": [
        "## Exercise 3.1\n",
        "\n",
        "Explore modyfing ```model_definition``` and ```train_and_score``` functions options to find an optimal training routine (while keeping the same model architecture).\n",
        "\n",
        "**Hints**:\n",
        "  * Try to add [regularization](https://keras.io/regularizers/) to ```model_definition```\n",
        "  * Try to add [initializers](https://keras.io/initializers/) to ```model_definition```\n",
        "  * Try different [optimizers](https://keras.io/optimizers/) in ```train_and_score```\n",
        "  \n",
        "Use the default hyperparameters for each option."
      ]
    },
    {
      "cell_type": "markdown",
      "metadata": {
        "colab_type": "text",
        "id": "rnrYP9H2WBP1"
      },
      "source": [
        "**Try different regularizations**\n",
        "\n",
        "We explore it **without** combinatorial options that would take 4³=64 iterations to explore."
      ]
    },
    {
      "cell_type": "code",
      "metadata": {
        "colab_type": "code",
        "id": "6rAihluVRcPj",
        "colab": {}
      },
      "source": [
        "reg_dict = {\n",
        "    \"kernel_regularizer\": keras.regularizers.l1()\n",
        "}"
      ],
      "execution_count": 0,
      "outputs": []
    },
    {
      "cell_type": "code",
      "metadata": {
        "colab_type": "code",
        "id": "AWu56QdQb1lu",
        "colab": {}
      },
      "source": [
        "init_dict = {\n",
        "    \"kernel_initializer\": 'random_uniform'\n",
        "}"
      ],
      "execution_count": 0,
      "outputs": []
    },
    {
      "cell_type": "code",
      "metadata": {
        "id": "48C4ps_3TkGH",
        "colab_type": "code",
        "colab": {
          "base_uri": "https://localhost:8080/",
          "height": 694
        },
        "outputId": "1ed9a1f6-40aa-4c27-d70e-91d987f48ca0"
      },
      "source": [
        "train_and_score(regularization_args=reg_dict)"
      ],
      "execution_count": 7,
      "outputs": [
        {
          "output_type": "stream",
          "text": [
            "WARNING:tensorflow:From /usr/local/lib/python3.6/dist-packages/keras/backend/tensorflow_backend.py:66: The name tf.get_default_graph is deprecated. Please use tf.compat.v1.get_default_graph instead.\n",
            "\n",
            "WARNING:tensorflow:From /usr/local/lib/python3.6/dist-packages/keras/backend/tensorflow_backend.py:541: The name tf.placeholder is deprecated. Please use tf.compat.v1.placeholder instead.\n",
            "\n",
            "WARNING:tensorflow:From /usr/local/lib/python3.6/dist-packages/keras/backend/tensorflow_backend.py:4432: The name tf.random_uniform is deprecated. Please use tf.random.uniform instead.\n",
            "\n",
            "WARNING:tensorflow:From /usr/local/lib/python3.6/dist-packages/keras/backend/tensorflow_backend.py:4267: The name tf.nn.max_pool is deprecated. Please use tf.nn.max_pool2d instead.\n",
            "\n",
            "WARNING:tensorflow:From /usr/local/lib/python3.6/dist-packages/keras/backend/tensorflow_backend.py:148: The name tf.placeholder_with_default is deprecated. Please use tf.compat.v1.placeholder_with_default instead.\n",
            "\n",
            "WARNING:tensorflow:From /usr/local/lib/python3.6/dist-packages/keras/backend/tensorflow_backend.py:3733: calling dropout (from tensorflow.python.ops.nn_ops) with keep_prob is deprecated and will be removed in a future version.\n",
            "Instructions for updating:\n",
            "Please use `rate` instead of `keep_prob`. Rate should be set to `rate = 1 - keep_prob`.\n",
            "WARNING:tensorflow:From /usr/local/lib/python3.6/dist-packages/keras/optimizers.py:793: The name tf.train.Optimizer is deprecated. Please use tf.compat.v1.train.Optimizer instead.\n",
            "\n",
            "WARNING:tensorflow:From /usr/local/lib/python3.6/dist-packages/keras/backend/tensorflow_backend.py:3576: The name tf.log is deprecated. Please use tf.math.log instead.\n",
            "\n",
            "WARNING:tensorflow:From /usr/local/lib/python3.6/dist-packages/tensorflow_core/python/ops/math_grad.py:1424: where (from tensorflow.python.ops.array_ops) is deprecated and will be removed in a future version.\n",
            "Instructions for updating:\n",
            "Use tf.where in 2.0, which has the same broadcast rule as np.where\n",
            "WARNING:tensorflow:From /usr/local/lib/python3.6/dist-packages/keras/backend/tensorflow_backend.py:1033: The name tf.assign_add is deprecated. Please use tf.compat.v1.assign_add instead.\n",
            "\n",
            "WARNING:tensorflow:From /usr/local/lib/python3.6/dist-packages/keras/backend/tensorflow_backend.py:1020: The name tf.assign is deprecated. Please use tf.compat.v1.assign instead.\n",
            "\n",
            "WARNING:tensorflow:From /usr/local/lib/python3.6/dist-packages/keras/backend/tensorflow_backend.py:3005: The name tf.Session is deprecated. Please use tf.compat.v1.Session instead.\n",
            "\n",
            "WARNING:tensorflow:From /usr/local/lib/python3.6/dist-packages/keras/backend/tensorflow_backend.py:190: The name tf.get_default_session is deprecated. Please use tf.compat.v1.get_default_session instead.\n",
            "\n",
            "WARNING:tensorflow:From /usr/local/lib/python3.6/dist-packages/keras/backend/tensorflow_backend.py:197: The name tf.ConfigProto is deprecated. Please use tf.compat.v1.ConfigProto instead.\n",
            "\n",
            "WARNING:tensorflow:From /usr/local/lib/python3.6/dist-packages/keras/backend/tensorflow_backend.py:207: The name tf.global_variables is deprecated. Please use tf.compat.v1.global_variables instead.\n",
            "\n",
            "WARNING:tensorflow:From /usr/local/lib/python3.6/dist-packages/keras/backend/tensorflow_backend.py:216: The name tf.is_variable_initialized is deprecated. Please use tf.compat.v1.is_variable_initialized instead.\n",
            "\n",
            "WARNING:tensorflow:From /usr/local/lib/python3.6/dist-packages/keras/backend/tensorflow_backend.py:223: The name tf.variables_initializer is deprecated. Please use tf.compat.v1.variables_initializer instead.\n",
            "\n"
          ],
          "name": "stdout"
        },
        {
          "output_type": "execute_result",
          "data": {
            "text/plain": [
              "(115.62846697998047, 0.315)"
            ]
          },
          "metadata": {
            "tags": []
          },
          "execution_count": 7
        }
      ]
    },
    {
      "cell_type": "markdown",
      "metadata": {
        "colab_type": "text",
        "id": "gQwb-HImWMY1"
      },
      "source": [
        "\n",
        "**Try different initilizers**\n",
        "\n",
        "We explore it **without** combinatorial options"
      ]
    },
    {
      "cell_type": "code",
      "metadata": {
        "colab_type": "code",
        "id": "K_TIFZr-TRh7",
        "colab": {}
      },
      "source": [
        "########################################\n",
        "#                                      #\n",
        "#       FILL THIS WITH CODE!           #\n",
        "#                                      #\n",
        "########################################"
      ],
      "execution_count": 0,
      "outputs": []
    },
    {
      "cell_type": "code",
      "metadata": {
        "colab_type": "code",
        "id": "2mUoymO-Wu0D",
        "colab": {}
      },
      "source": [
        "########################################\n",
        "#                                      #\n",
        "#       FILL THIS WITH CODE!           #\n",
        "#                                      #\n",
        "########################################"
      ],
      "execution_count": 0,
      "outputs": []
    },
    {
      "cell_type": "markdown",
      "metadata": {
        "colab_type": "text",
        "id": "HlaWc0F6WHVl"
      },
      "source": [
        "**Try different optimizers**\n",
        "\n",
        "We explore it **without** combinatorial options"
      ]
    },
    {
      "cell_type": "code",
      "metadata": {
        "colab_type": "code",
        "id": "1mLs8Te-TZpr",
        "colab": {}
      },
      "source": [
        "########################################\n",
        "#                                      #\n",
        "#       FILL THIS WITH CODE!           #\n",
        "#                                      #\n",
        "########################################"
      ],
      "execution_count": 0,
      "outputs": []
    },
    {
      "cell_type": "code",
      "metadata": {
        "colab_type": "code",
        "id": "7G4RgI5nX0A9",
        "colab": {}
      },
      "source": [
        "########################################\n",
        "#                                      #\n",
        "#       FILL THIS WITH CODE!           #\n",
        "#                                      #\n",
        "########################################"
      ],
      "execution_count": 0,
      "outputs": []
    },
    {
      "cell_type": "markdown",
      "metadata": {
        "colab_type": "text",
        "id": "IuerZchA8sjd"
      },
      "source": [
        "## Exercise 3.2\n",
        "\n",
        "\n",
        "Now we fix the training options:\n",
        "\n",
        "\n",
        "* **Regularizer:** No regularization\n",
        "* **Initializer:** He Uniform\n",
        "* **Optimizer:** SGD with decay 0\n",
        "\n",
        "For the sake of simplicity we are going to play only with the some hyperparameters of the optimizer while fixing the \n",
        "hyperparameters of the initializer and the regularizer. We will therefore play with:\n",
        "\n",
        "* learning rate\n",
        "* momentum value\n",
        "\n",
        "Implement *random search* and *grid search* on these hyperparameters to find the best set of hyperparameters and compare the results of both search methods."
      ]
    },
    {
      "cell_type": "code",
      "metadata": {
        "colab_type": "code",
        "id": "8hNu5UBI97lD",
        "colab": {}
      },
      "source": [
        "import numpy as np\n",
        "import matplotlib as mpl\n",
        "mpl.rcParams['figure.dpi']= 300\n",
        "from matplotlib.mlab import griddata\n",
        "import matplotlib.pylab as plt\n",
        "\n",
        "from keras.optimizers import SGD\n",
        "from keras.initializers import he_uniform\n",
        "from keras.regularizers import l1_l2\n",
        "\n",
        "# Define the ranges\n",
        "lr_r = [-2, 0] #sample in logscale [1e-2, 1e0]\n",
        "mom_r = [0.8, 1.]\n",
        "\n",
        "def loss_acc(option_list, verbose=True):\n",
        "    loss_list, acc_list = [], []\n",
        "    for (lr, mom) in option_list:\n",
        "        if verbose:\n",
        "            print('Testing with: lr:{}, momentum:{}'.format(lr, mom))\n",
        "\n",
        "        init_args = {'kernel_initializer': he_uniform(), 'bias_initializer': he_uniform()}\n",
        "        reg_args = {}\n",
        "        opt_args = {'lr': lr, 'momentum': mom, 'decay': 0.}\n",
        "\n",
        "        loss, acc= train_and_score(optimizer=SGD(**opt_args), initialization_args=init_args, regularization_args=reg_args)\n",
        "        loss_list.append(loss)\n",
        "        acc_list.append(acc)\n",
        "  \n",
        "    return loss_list, acc_list\n",
        "\n",
        "\n",
        "def print_winner(loss_list, acc_list):\n",
        "    loss_list, acc_list = np.array(loss_list), np.array(acc_list)\n",
        "    args = np.argsort(acc_list)[::-1]\n",
        "    print('Winner table:')\n",
        "    for i, ind in enumerate(args):\n",
        "        print('{}) {}'.format(i, option_list[ind]))\n",
        "        print('    Loss: {:0.2}, Acc: {}'.format(loss_list[ind], acc_list[ind]))\n",
        "\n",
        "        \n",
        "def grid(x, y, z, resX=100, resY=100):\n",
        "    \"Convert 3 column data to matplotlib grid\"\n",
        "    xi = np.linspace(min(x), max(x), resX)\n",
        "    yi = np.linspace(min(y), max(y), resY)\n",
        "    Z = griddata(x, y, z, xi, yi, interp='linear')\n",
        "    X, Y = np.meshgrid(xi, yi)\n",
        "    return X, Y, Z"
      ],
      "execution_count": 0,
      "outputs": []
    },
    {
      "cell_type": "markdown",
      "metadata": {
        "colab_type": "text",
        "id": "SMoWeJWVVjtB"
      },
      "source": [
        "**Random search**"
      ]
    },
    {
      "cell_type": "code",
      "metadata": {
        "colab_type": "code",
        "id": "MEfGHpeAZoM5",
        "colab": {}
      },
      "source": [
        "########################################\n",
        "#                                      #\n",
        "#       FILL THIS WITH CODE!           #\n",
        "#                                      #\n",
        "########################################"
      ],
      "execution_count": 0,
      "outputs": []
    },
    {
      "cell_type": "code",
      "metadata": {
        "colab_type": "code",
        "id": "DI2Iz9pcNA_n",
        "colab": {}
      },
      "source": [
        "loss_list, acc_list = loss_acc(option_list)"
      ],
      "execution_count": 0,
      "outputs": []
    },
    {
      "cell_type": "code",
      "metadata": {
        "colab_type": "code",
        "id": "iXzht6DEVeOA",
        "colab": {}
      },
      "source": [
        "option_list = list(option_list)\n",
        "print_winner(loss_list, acc_list)"
      ],
      "execution_count": 0,
      "outputs": []
    },
    {
      "cell_type": "code",
      "metadata": {
        "id": "YMRsXHP4Sbhn",
        "colab_type": "code",
        "colab": {}
      },
      "source": [
        "X, Y, Z = grid(lr_samples, mom_samples, np.array(acc_list))\n",
        "\n",
        "plt.contourf(X, Y, Z)\n",
        "plt.colorbar()\n",
        "plt.scatter(lr_samples, mom_samples, c='r')\n",
        "\n",
        "plt.xlim(*lr_r)\n",
        "plt.ylim(*mom_r)\n",
        "plt.xlabel('Learning rate (log)')\n",
        "plt.ylabel('Momemtum')\n",
        "plt.show()"
      ],
      "execution_count": 0,
      "outputs": []
    },
    {
      "cell_type": "markdown",
      "metadata": {
        "colab_type": "text",
        "id": "A7Yq5_jIVrU4"
      },
      "source": [
        "**Grid search**"
      ]
    },
    {
      "cell_type": "code",
      "metadata": {
        "colab_type": "code",
        "id": "ZYOpOb0nFERN",
        "colab": {}
      },
      "source": [
        "########################################\n",
        "#                                      #\n",
        "#       FILL THIS WITH CODE!           #\n",
        "#                                      #\n",
        "########################################"
      ],
      "execution_count": 0,
      "outputs": []
    },
    {
      "cell_type": "code",
      "metadata": {
        "colab_type": "code",
        "id": "TqcdOHBybVUD",
        "colab": {}
      },
      "source": [
        "loss_list, acc_list = loss_acc(option_list)"
      ],
      "execution_count": 0,
      "outputs": []
    },
    {
      "cell_type": "code",
      "metadata": {
        "colab_type": "code",
        "id": "YTcpen2ZUZPQ",
        "colab": {}
      },
      "source": [
        "print_winner(loss_list, acc_list)"
      ],
      "execution_count": 0,
      "outputs": []
    },
    {
      "cell_type": "code",
      "metadata": {
        "id": "aj_C-i2WSbh5",
        "colab_type": "code",
        "colab": {}
      },
      "source": [
        "X, Y, Z = grid(lr_samples, mom_samples, np.array(acc_list))\n",
        "\n",
        "plt.contourf(X, Y, Z)\n",
        "plt.colorbar()\n",
        "plt.scatter(lr_samples, mom_samples, c='r')\n",
        "\n",
        "plt.xlim(*lr_r)\n",
        "plt.ylim(*mom_r)\n",
        "plt.xlabel('Learning rate (log)')\n",
        "plt.ylabel('Momemtum')\n",
        "plt.show()"
      ],
      "execution_count": 0,
      "outputs": []
    },
    {
      "cell_type": "markdown",
      "metadata": {
        "id": "O-E8DPazSbh7",
        "colab_type": "text"
      },
      "source": [
        "**Extensive random search**"
      ]
    },
    {
      "cell_type": "code",
      "metadata": {
        "id": "-yPnFCjkSbh8",
        "colab_type": "code",
        "colab": {}
      },
      "source": [
        "########################################\n",
        "#                                      #\n",
        "#       FILL THIS WITH CODE!           #\n",
        "#                                      #\n",
        "########################################"
      ],
      "execution_count": 0,
      "outputs": []
    },
    {
      "cell_type": "code",
      "metadata": {
        "id": "L4TMFqUnSbh_",
        "colab_type": "code",
        "colab": {}
      },
      "source": [
        "X, Y, Z = grid(lr_samples, mom_samples, np.array(acc_list))\n",
        "\n",
        "ax = plt.contourf(X, Y, Z)\n",
        "plt.scatter(lr_samples, mom_samples, c='r')\n",
        "\n",
        "plt.colorbar(ax)\n",
        "plt.xlim(*lr_r)\n",
        "plt.ylim(*mom_r)\n",
        "plt.xlabel('Learning rate (log)')\n",
        "plt.ylabel('Momemtum')\n",
        "plt.show()"
      ],
      "execution_count": 0,
      "outputs": []
    },
    {
      "cell_type": "markdown",
      "metadata": {
        "id": "ezfLrt33SbiC",
        "colab_type": "text"
      },
      "source": [
        "**Extensive Grid search**"
      ]
    },
    {
      "cell_type": "code",
      "metadata": {
        "id": "NaJY7bomSbiD",
        "colab_type": "code",
        "colab": {}
      },
      "source": [
        "########################################\n",
        "#                                      #\n",
        "#       FILL THIS WITH CODE!           #\n",
        "#                                      #\n",
        "########################################"
      ],
      "execution_count": 0,
      "outputs": []
    },
    {
      "cell_type": "code",
      "metadata": {
        "id": "5q_vvBh7SbiH",
        "colab_type": "code",
        "colab": {}
      },
      "source": [
        "X, Y, Z = grid(lr_samples, mom_samples, np.array(acc_list))\n",
        "\n",
        "plt.contourf(X, Y, Z)\n",
        "plt.colorbar()\n",
        "plt.scatter(lr_samples, mom_samples, c='r')\n",
        "\n",
        "plt.xlim(*lr_r)\n",
        "plt.ylim(*mom_r)\n",
        "plt.xlabel('Learning rate (log)')\n",
        "plt.ylabel('Momemtum')\n",
        "plt.show()"
      ],
      "execution_count": 0,
      "outputs": []
    }
  ]
}