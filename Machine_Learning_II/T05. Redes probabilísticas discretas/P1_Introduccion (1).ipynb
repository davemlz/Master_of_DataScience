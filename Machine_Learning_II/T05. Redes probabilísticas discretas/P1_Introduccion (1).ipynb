{
 "cells": [
  {
   "cell_type": "markdown",
   "metadata": {},
   "source": [
    "# Redes Bayesianas Discretas: Introducción a Bnlearn\n",
    "#### Master in Data Science - Machine Learning II\n",
    "#### Santander Meteorology Group. Profesor: Mikel N. Legasa (legasam@unican.es)\n",
    "#### 6 Mar 2018\n",
    "La presente práctica esta concebida como una primera aproximación a los fundamentos de las redes bayesianas, encargándonos simplemente de la modelización de variables discretas mediante una red bayesiana siguiendo el esquema:\n",
    "\n",
    "1. Introducción.\n",
    "2. Construcción de la Red Bayesiana, tanto su estructura (Construcción del DAG) y sus parámetros (Construcción de las tablas de probabilidad condicionada).\n",
    "3. Obtención de información cualitativa a partir del grafo (Consultas al grafo).\n",
    " Con la idea de familiarizarnos con la librería `bnlearn` y sus estructuras y funciones"
   ]
  },
  {
   "cell_type": "markdown",
   "metadata": {},
   "source": [
    "## 1 Introducción\n",
    "#### 1.1 Dataset de ejemplo: Survey\n",
    "El objetivo de una Red Bayesiana es capturar la distribución de probabilidad conjunta de un conjunto de variables $\\mathcal{X} = X_1, X_2, ...$.\n",
    "\n",
    "A modo de ejemplo, utilizaremos los datos de una encuesta sobre utilización de medios de transporte, donde cada variable tiene un número finito de posibles estados. A partir de los datos de campo recogidos por la encuesta, se investigará la selección de medios de transporte por distintos perfiles de usuarios, y particularmente la preferencia de tren o coche. \n",
    "\n",
    "Este tipo de análisis se utiliza con frecuencia en la planificación de infraestructuras. Para cada individuo encuestado, se han recopilado datos referentes a 6 variables discretas. Las abreviaturas de dichas variables se muestran entre paréntesis (original del dataset en inglés), y se utilizarán a lo largo de la práctica para referirse a los nodos de la red creada.\n",
    "\n",
    "- Edad (A): Edad del encuestado: joven (`young`, < 30 años), adulto (`adult`, 30 < edad <= 60) y anciano (`old`, edad > 60).\n",
    "- Sexo (S): Sexo del encuestado: masculino (`M`) y femenino (`F`).\n",
    "- Educación (E): Nivel más alto de educación alcanzado: Hasta educación secundaria (`high`) o título universitario (`uni`).\n",
    "- Ocupación (O): Trabajador por cuenta ajena (`emp`) o autónomo (`self`).\n",
    "- Residencia (R): Tamaño de la población de residencia del individuo: `big` y `small`.\n",
    "- Transporte (T): Medio de transporte más utilizado por el encuestado para acudir al trabajo: `car`, `train` y `other`."
   ]
  },
  {
   "cell_type": "markdown",
   "metadata": {},
   "source": [
    "#### 1.2 Instalación de `bnlearn`"
   ]
  },
  {
   "cell_type": "code",
   "execution_count": 1,
   "metadata": {},
   "outputs": [
    {
     "name": "stderr",
     "output_type": "stream",
     "text": [
      "Installing package into 'C:/Users/Dave Mont/Documents/R/win-library/3.6'\n",
      "(as 'lib' is unspecified)\n",
      "\n"
     ]
    },
    {
     "name": "stdout",
     "output_type": "stream",
     "text": [
      "package 'BiocManager' successfully unpacked and MD5 sums checked\n",
      "\n",
      "The downloaded binary packages are in\n",
      "\tC:\\Users\\Dave Mont\\AppData\\Local\\Temp\\RtmpYpgplG\\downloaded_packages\n"
     ]
    },
    {
     "name": "stderr",
     "output_type": "stream",
     "text": [
      "Bioconductor version 3.10 (BiocManager 1.30.10), R 3.6.1 (2019-07-05)\n",
      "\n",
      "Installing package(s) 'BiocVersion'\n",
      "\n"
     ]
    },
    {
     "name": "stdout",
     "output_type": "stream",
     "text": [
      "package 'BiocVersion' successfully unpacked and MD5 sums checked\n",
      "\n",
      "The downloaded binary packages are in\n",
      "\tC:\\Users\\Dave Mont\\AppData\\Local\\Temp\\RtmpYpgplG\\downloaded_packages\n"
     ]
    },
    {
     "name": "stderr",
     "output_type": "stream",
     "text": [
      "Installation path not writeable, unable to update packages: boot, foreign,\n",
      "  KernSmooth, lattice, MASS, Matrix, mgcv, nlme, nnet, survival\n",
      "\n",
      "Old packages: 'BH', 'C50', 'callr', 'caret', 'caTools', 'cli', 'Cubist',\n",
      "  'data.table', 'dendextend', 'devtools', 'digest', 'dplyr', 'DT', 'e1071',\n",
      "  'fansi', 'farver', 'fields', 'foreach', 'gh', 'gplots', 'hexbin', 'jsonlite',\n",
      "  'knitr', 'mime', 'ModelMetrics', 'mvtnorm', 'partykit', 'pillar', 'plotly',\n",
      "  'plyr', 'prettyunits', 'processx', 'ps', 'R.methodsS3', 'recipes', 'remotes',\n",
      "  'repr', 'rlang', 'rmarkdown', 'rstudioapi', 'scales', 'SQUAREM', 'stringi',\n",
      "  'testthat', 'tidyr', 'tidyselect', 'tinytex', 'TSP', 'uuid', 'vcd', 'vctrs',\n",
      "  'xfun', 'xlsx', 'XML', 'yaml', 'zoo'\n",
      "\n"
     ]
    }
   ],
   "source": [
    "install.packages(\"BiocManager\")\n",
    "BiocManager::install()"
   ]
  },
  {
   "cell_type": "code",
   "execution_count": 2,
   "metadata": {},
   "outputs": [
    {
     "name": "stderr",
     "output_type": "stream",
     "text": [
      "Bioconductor version 3.10 (BiocManager 1.30.10), R 3.6.1 (2019-07-05)\n",
      "\n",
      "Installing package(s) 'graph', 'Rgraphviz', 'RBGL'\n",
      "\n",
      "also installing the dependency 'BiocGenerics'\n",
      "\n",
      "\n"
     ]
    },
    {
     "name": "stdout",
     "output_type": "stream",
     "text": [
      "package 'BiocGenerics' successfully unpacked and MD5 sums checked\n",
      "package 'graph' successfully unpacked and MD5 sums checked\n",
      "package 'Rgraphviz' successfully unpacked and MD5 sums checked\n",
      "package 'RBGL' successfully unpacked and MD5 sums checked\n",
      "\n",
      "The downloaded binary packages are in\n",
      "\tC:\\Users\\Dave Mont\\AppData\\Local\\Temp\\RtmpYpgplG\\downloaded_packages\n"
     ]
    },
    {
     "name": "stderr",
     "output_type": "stream",
     "text": [
      "Installation path not writeable, unable to update packages: boot, foreign,\n",
      "  KernSmooth, lattice, MASS, Matrix, mgcv, nlme, nnet, survival\n",
      "\n",
      "Old packages: 'BH', 'C50', 'callr', 'caret', 'caTools', 'cli', 'Cubist',\n",
      "  'data.table', 'dendextend', 'devtools', 'digest', 'dplyr', 'DT', 'e1071',\n",
      "  'fansi', 'farver', 'fields', 'foreach', 'gh', 'gplots', 'hexbin', 'jsonlite',\n",
      "  'knitr', 'mime', 'ModelMetrics', 'mvtnorm', 'partykit', 'pillar', 'plotly',\n",
      "  'plyr', 'prettyunits', 'processx', 'ps', 'R.methodsS3', 'recipes', 'remotes',\n",
      "  'repr', 'rlang', 'rmarkdown', 'rstudioapi', 'scales', 'SQUAREM', 'stringi',\n",
      "  'testthat', 'tidyr', 'tidyselect', 'tinytex', 'TSP', 'uuid', 'vcd', 'vctrs',\n",
      "  'xfun', 'xlsx', 'XML', 'yaml', 'zoo'\n",
      "\n"
     ]
    }
   ],
   "source": [
    "BiocManager::install(c(\"graph\", \"Rgraphviz\", \"RBGL\"))"
   ]
  },
  {
   "cell_type": "code",
   "execution_count": 3,
   "metadata": {},
   "outputs": [
    {
     "name": "stderr",
     "output_type": "stream",
     "text": [
      "Installing package into 'C:/Users/Dave Mont/Documents/R/win-library/3.6'\n",
      "(as 'lib' is unspecified)\n",
      "\n"
     ]
    },
    {
     "name": "stdout",
     "output_type": "stream",
     "text": [
      "package 'bnlearn' successfully unpacked and MD5 sums checked\n",
      "\n",
      "The downloaded binary packages are in\n",
      "\tC:\\Users\\Dave Mont\\AppData\\Local\\Temp\\RtmpYpgplG\\downloaded_packages\n"
     ]
    }
   ],
   "source": [
    "install.packages(\"bnlearn\")"
   ]
  },
  {
   "cell_type": "markdown",
   "metadata": {},
   "source": [
    "## 2 Construcción de la Red Bayesiana"
   ]
  },
  {
   "cell_type": "code",
   "execution_count": 4,
   "metadata": {},
   "outputs": [
    {
     "name": "stderr",
     "output_type": "stream",
     "text": [
      "Warning message:\n",
      "\"package 'bnlearn' was built under R version 3.6.3\"\n",
      "\n",
      "Attaching package: 'bnlearn'\n",
      "\n",
      "\n",
      "The following object is masked from 'package:stats':\n",
      "\n",
      "    sigma\n",
      "\n",
      "\n"
     ]
    }
   ],
   "source": [
    "library(bnlearn)"
   ]
  },
  {
   "cell_type": "markdown",
   "metadata": {},
   "source": [
    "### 2.1 Construcción del DAG\n",
    "\n",
    "Para estos datos trataremos de construir manualmente un grafo que verifique $\\perp_{G} \\Rightarrow \\perp_{P}$, tratando de definir las dependencias e independencias que consideremos intuitivamente que se dan entre las variables, con el objetivo final de modelizar los datos, i.e. de aproximar la Distribución de Probabilidad Conjunta de los datos P.\n",
    "\n",
    "Para crear un grafo que contenga un nodo por cada variable considerada en la encuesta utilizamos la función `empty.graph()`, que pertenece a `bnlearn` e inicializa un grafo vacío como clase `bn`:"
   ]
  },
  {
   "cell_type": "code",
   "execution_count": 5,
   "metadata": {},
   "outputs": [
    {
     "data": {
      "text/html": [
       "'bn'"
      ],
      "text/latex": [
       "'bn'"
      ],
      "text/markdown": [
       "'bn'"
      ],
      "text/plain": [
       "[1] \"bn\""
      ]
     },
     "metadata": {},
     "output_type": "display_data"
    }
   ],
   "source": [
    "dag <- empty.graph(nodes = c(\"A\", \"S\", \"E\", \"O\", \"R\", \"T\"))\n",
    "class(dag)"
   ]
  },
  {
   "cell_type": "markdown",
   "metadata": {},
   "source": [
    "Nombramos a nuestro grafo vacío dag (directed acyclic graph). Esta es la información contenida en el grafo:"
   ]
  },
  {
   "cell_type": "code",
   "execution_count": 6,
   "metadata": {},
   "outputs": [
    {
     "name": "stdout",
     "output_type": "stream",
     "text": [
      "\n",
      "  Random/Generated Bayesian network\n",
      "\n",
      "  model:\n",
      "   [A][S][E][O][R][T] \n",
      "  nodes:                                 6 \n",
      "  arcs:                                  0 \n",
      "    undirected arcs:                     0 \n",
      "    directed arcs:                       0 \n",
      "  average markov blanket size:           0.00 \n",
      "  average neighbourhood size:            0.00 \n",
      "  average branching factor:              0.00 \n",
      "\n",
      "  generation algorithm:                  Empty \n",
      "\n"
     ]
    }
   ],
   "source": [
    "print(dag)"
   ]
  },
  {
   "cell_type": "markdown",
   "metadata": {},
   "source": [
    "Este objeto se organiza como una lista, de manera que podemos acceder a sus elementos mediante `dag$learning`, etc…\n",
    "\n",
    "En secciones posteriores veremos como hacer representaciones gráficas más detalladas, pero de momento basta con aplicar `plot()` para ir viendo la estructura básica de la red. Una vez creados los nodos, comenzamos a añadir los arcos que definen las dependencias directas entre las diferentes variables y que parezcan razonables.\n",
    "\n",
    "La edad y el sexo son indicadores demográficos y no reciben influencia de ninguna otra variable, ya que son características intrínsecas del individuo. Por lo tanto, ninguno de los arcos del grafo apuntan hacia ellas.\n",
    "\n",
    "Por otra parte, parece razonable que ambas variables (sexo y edad) tengan una influencia directa sobre el nivel de educación, ya que el número de estudiantes universitarios ha aumentado en las últimas décadas, y por lo tanto personas más jóvenes tienen más probabilidad de tener un título universitario que otras más mayo"
   ]
  },
  {
   "cell_type": "code",
   "execution_count": 7,
   "metadata": {},
   "outputs": [],
   "source": [
    "dag <- set.arc(dag, from = \"A\", to = \"E\")"
   ]
  },
  {
   "cell_type": "markdown",
   "metadata": {},
   "source": [
    "Del mismo modo, el sexo tiene influencia sobre la educación, ya que las estadísticas demuestran que en la actualidad hay un mayor número de mujeres que de hombres completando estudios universitarios:"
   ]
  },
  {
   "cell_type": "code",
   "execution_count": 8,
   "metadata": {},
   "outputs": [],
   "source": [
    "dag <- set.arc(dag, from = \"S\", to = \"E\")"
   ]
  },
  {
   "cell_type": "markdown",
   "metadata": {},
   "source": [
    "Tras añadir dos arcos, este es el aspecto que va tomando el grafo:"
   ]
  },
  {
   "cell_type": "code",
   "execution_count": 9,
   "metadata": {},
   "outputs": [
    {
     "data": {
      "image/png": "[encoded data removed]",
      "text/plain": [
       "plot without title"
      ]
     },
     "metadata": {
      "image/png": {
       "height": 420,
       "width": 420
      }
     },
     "output_type": "display_data"
    }
   ],
   "source": [
    "plot(dag)\n"
   ]
  },
  {
   "cell_type": "markdown",
   "metadata": {},
   "source": [
    "El nivel de educación tiene una fuerte influencia en la ocupación del individuo, así como en su lugar de residencia:"
   ]
  },
  {
   "cell_type": "code",
   "execution_count": 10,
   "metadata": {},
   "outputs": [],
   "source": [
    "dag <- set.arc(dag, from = \"E\", to = \"O\") \n",
    "dag <- set.arc(dag, from = \"E\", to = \"R\")"
   ]
  },
  {
   "cell_type": "markdown",
   "metadata": {},
   "source": [
    "Finalmente, los medios de transporte preferidos por el individuo están directamente influidos por su lugar de residencia y su ocupación. En cuanto al primer factor, la distancia al lugar de trabajo desde la residencia influye directamente en la opción de transporte. Por otra parte, algunos trabajos requieren viajes periódicos de larga distancia, mientras que otros requieren trayectos más frecuentes sobre cortas distancias."
   ]
  },
  {
   "cell_type": "code",
   "execution_count": 11,
   "metadata": {},
   "outputs": [],
   "source": [
    "dag <- set.arc(dag, from = \"R\", to = \"T\")\n",
    "dag <- set.arc(dag, from = \"O\", to = \"T\")"
   ]
  },
  {
   "cell_type": "markdown",
   "metadata": {},
   "source": [
    "Finalmente, queda definido el grafo como:"
   ]
  },
  {
   "cell_type": "code",
   "execution_count": 12,
   "metadata": {},
   "outputs": [
    {
     "data": {
      "image/png": "[encoded data removed]",
      "text/plain": [
       "plot without title"
      ]
     },
     "metadata": {
      "image/png": {
       "height": 420,
       "width": 420
      }
     },
     "output_type": "display_data"
    }
   ],
   "source": [
    "plot(dag)"
   ]
  },
  {
   "cell_type": "code",
   "execution_count": 13,
   "metadata": {},
   "outputs": [
    {
     "data": {
      "text/html": [
       "'[A][S][E|A:S][O|E][R|E][T|O:R]'"
      ],
      "text/latex": [
       "'{[}A{]}{[}S{]}{[}E\\textbar{}A:S{]}{[}O\\textbar{}E{]}{[}R\\textbar{}E{]}{[}T\\textbar{}O:R{]}'"
      ],
      "text/markdown": [
       "'[A][S][E|A:S][O|E][R|E][T|O:R]'"
      ],
      "text/plain": [
       "[1] \"[A][S][E|A:S][O|E][R|E][T|O:R]\""
      ]
     },
     "metadata": {},
     "output_type": "display_data"
    }
   ],
   "source": [
    "modelstring(dag)"
   ]
  },
  {
   "cell_type": "markdown",
   "metadata": {},
   "source": [
    "De este modo, las dependencias de cada variable quedan definidas por la barra vertical (|) que usamos habitualmente para la fórmula de probabilidad condicionada y separadas por dos puntos :. Por ejemplo, `[E|A:S]` significa que se dan los arcos $A \\rightarrow E$ y $S \\rightarrow E$ (sexo y edad son padres de empleo). Esta notación se asemeja por tanto a un producto de probabilidades condicionadas, del tipo $P(E | A,S)$, lo que concuerda con el hecho de que cada una de ellas es un factor de la descomposición en la distribución global hecha por nuestro grafo dag:\n",
    "\n",
    "$P_{dag}(A,S,E,O,R,T)=P(A)P(S)P(E | A,S)P(O | E)P(R | E)P(T | O,R).$\n",
    "\n",
    "Otras funciones útiles para explorar objetos de la clase `bn` son por ejemplo `nodes` y `arcs`:"
   ]
  },
  {
   "cell_type": "code",
   "execution_count": 14,
   "metadata": {},
   "outputs": [
    {
     "data": {
      "text/html": [
       "<ol class=list-inline>\n",
       "\t<li>'A'</li>\n",
       "\t<li>'S'</li>\n",
       "\t<li>'E'</li>\n",
       "\t<li>'O'</li>\n",
       "\t<li>'R'</li>\n",
       "\t<li>'T'</li>\n",
       "</ol>\n"
      ],
      "text/latex": [
       "\\begin{enumerate*}\n",
       "\\item 'A'\n",
       "\\item 'S'\n",
       "\\item 'E'\n",
       "\\item 'O'\n",
       "\\item 'R'\n",
       "\\item 'T'\n",
       "\\end{enumerate*}\n"
      ],
      "text/markdown": [
       "1. 'A'\n",
       "2. 'S'\n",
       "3. 'E'\n",
       "4. 'O'\n",
       "5. 'R'\n",
       "6. 'T'\n",
       "\n",
       "\n"
      ],
      "text/plain": [
       "[1] \"A\" \"S\" \"E\" \"O\" \"R\" \"T\""
      ]
     },
     "metadata": {},
     "output_type": "display_data"
    }
   ],
   "source": [
    "nodes(dag)"
   ]
  },
  {
   "cell_type": "code",
   "execution_count": 15,
   "metadata": {},
   "outputs": [
    {
     "data": {
      "text/html": [
       "<table>\n",
       "<caption>A matrix: 6 × 2 of type chr</caption>\n",
       "<thead>\n",
       "\t<tr><th scope=col>from</th><th scope=col>to</th></tr>\n",
       "</thead>\n",
       "<tbody>\n",
       "\t<tr><td>A</td><td>E</td></tr>\n",
       "\t<tr><td>S</td><td>E</td></tr>\n",
       "\t<tr><td>E</td><td>O</td></tr>\n",
       "\t<tr><td>E</td><td>R</td></tr>\n",
       "\t<tr><td>R</td><td>T</td></tr>\n",
       "\t<tr><td>O</td><td>T</td></tr>\n",
       "</tbody>\n",
       "</table>\n"
      ],
      "text/latex": [
       "A matrix: 6 × 2 of type chr\n",
       "\\begin{tabular}{ll}\n",
       " from & to\\\\\n",
       "\\hline\n",
       "\t A & E\\\\\n",
       "\t S & E\\\\\n",
       "\t E & O\\\\\n",
       "\t E & R\\\\\n",
       "\t R & T\\\\\n",
       "\t O & T\\\\\n",
       "\\end{tabular}\n"
      ],
      "text/markdown": [
       "\n",
       "A matrix: 6 × 2 of type chr\n",
       "\n",
       "| from | to |\n",
       "|---|---|\n",
       "| A | E |\n",
       "| S | E |\n",
       "| E | O |\n",
       "| E | R |\n",
       "| R | T |\n",
       "| O | T |\n",
       "\n"
      ],
      "text/plain": [
       "     from to\n",
       "[1,] A    E \n",
       "[2,] S    E \n",
       "[3,] E    O \n",
       "[4,] E    R \n",
       "[5,] R    T \n",
       "[6,] O    T "
      ]
     },
     "metadata": {},
     "output_type": "display_data"
    }
   ],
   "source": [
    "arcs(dag)"
   ]
  },
  {
   "cell_type": "markdown",
   "metadata": {},
   "source": [
    "Así como `parents()` y `children()`, para conocer los padres e hijos de los nodos del grafo:"
   ]
  },
  {
   "cell_type": "code",
   "execution_count": 16,
   "metadata": {},
   "outputs": [
    {
     "data": {
      "text/html": [
       "'E'"
      ],
      "text/latex": [
       "'E'"
      ],
      "text/markdown": [
       "'E'"
      ],
      "text/plain": [
       "[1] \"E\""
      ]
     },
     "metadata": {},
     "output_type": "display_data"
    },
    {
     "data": {
      "text/html": [
       "<ol class=list-inline>\n",
       "\t<li>'O'</li>\n",
       "\t<li>'R'</li>\n",
       "</ol>\n"
      ],
      "text/latex": [
       "\\begin{enumerate*}\n",
       "\\item 'O'\n",
       "\\item 'R'\n",
       "\\end{enumerate*}\n"
      ],
      "text/markdown": [
       "1. 'O'\n",
       "2. 'R'\n",
       "\n",
       "\n"
      ],
      "text/plain": [
       "[1] \"O\" \"R\""
      ]
     },
     "metadata": {},
     "output_type": "display_data"
    }
   ],
   "source": [
    "parents(dag, node = \"O\")\n",
    "parents(dag, node = \"T\")"
   ]
  },
  {
   "cell_type": "code",
   "execution_count": 17,
   "metadata": {},
   "outputs": [
    {
     "data": {
      "text/html": [],
      "text/latex": [],
      "text/markdown": [],
      "text/plain": [
       "character(0)"
      ]
     },
     "metadata": {},
     "output_type": "display_data"
    },
    {
     "data": {
      "text/html": [
       "<ol class=list-inline>\n",
       "\t<li>'O'</li>\n",
       "\t<li>'R'</li>\n",
       "</ol>\n"
      ],
      "text/latex": [
       "\\begin{enumerate*}\n",
       "\\item 'O'\n",
       "\\item 'R'\n",
       "\\end{enumerate*}\n"
      ],
      "text/markdown": [
       "1. 'O'\n",
       "2. 'R'\n",
       "\n",
       "\n"
      ],
      "text/plain": [
       "[1] \"O\" \"R\""
      ]
     },
     "metadata": {},
     "output_type": "display_data"
    }
   ],
   "source": [
    "children(dag, node = \"T\")\n",
    "children(dag, node = \"E\")"
   ]
  },
  {
   "cell_type": "markdown",
   "metadata": {},
   "source": [
    "### 2.2 Otra manera de definir el DAG"
   ]
  },
  {
   "cell_type": "markdown",
   "metadata": {},
   "source": [
    "La forma anterior define arcos uno a uno, pero también podemos definir la estructura toda a la vez. La función `arcs()` es especialmente interesante ya que nos permite añadir arcos de manera más rápida. En este caso, se podrían definir las relaciones mediante una matriz de dos columnas similar a la devuelta por `arcs()`:"
   ]
  },
  {
   "cell_type": "code",
   "execution_count": 18,
   "metadata": {},
   "outputs": [],
   "source": [
    "dag2 <- empty.graph(nodes = c(\"A\", \"S\", \"E\", \"O\", \"R\", \"T\"))\n",
    "arc.set <- matrix(c(\"A\", \"E\",\n",
    "                    \"S\", \"E\",\n",
    "                    \"E\", \"R\",\n",
    "                    \"E\", \"O\",\n",
    "                    \"O\", \"T\",\n",
    "                    \"R\", \"T\"),\n",
    "                  byrow = TRUE, ncol = 2,\n",
    "                  dimnames = list(NULL, c(\"from\", \"to\")))\n",
    "arcs(dag2) <- arc.set"
   ]
  },
  {
   "cell_type": "markdown",
   "metadata": {},
   "source": [
    "El grafo resultante es idéntico al que se generó anteriormente:"
   ]
  },
  {
   "cell_type": "code",
   "execution_count": 19,
   "metadata": {},
   "outputs": [
    {
     "data": {
      "text/html": [
       "TRUE"
      ],
      "text/latex": [
       "TRUE"
      ],
      "text/markdown": [
       "TRUE"
      ],
      "text/plain": [
       "[1] TRUE"
      ]
     },
     "metadata": {},
     "output_type": "display_data"
    }
   ],
   "source": [
    "all.equal(dag, dag2)"
   ]
  },
  {
   "cell_type": "markdown",
   "metadata": {},
   "source": [
    "Ambas formas de definir el grafo garantizan que éste sea acíclico, ya que si se intenta introducir un ciclo en el mismo se producirá un error. Por ejemplo, si intentamos crear una relación directa entre `T` y `E`, lo que daría lugar a un ciclo, se produce un error:"
   ]
  },
  {
   "cell_type": "code",
   "execution_count": 20,
   "metadata": {},
   "outputs": [
    {
     "ename": "ERROR",
     "evalue": "Error in arc.operations(x = x, from = from, to = to, op = \"set\", check.cycles = check.cycles, : the resulting graph contains cycles.\n",
     "output_type": "error",
     "traceback": [
      "Error in arc.operations(x = x, from = from, to = to, op = \"set\", check.cycles = check.cycles, : the resulting graph contains cycles.\nTraceback:\n",
      "1. set.arc(dag, from = \"T\", to = \"E\")",
      "2. arc.operations(x = x, from = from, to = to, op = \"set\", check.cycles = check.cycles, \n .     check.illegal = check.illegal, debug = debug)",
      "3. stop(\"the resulting graph contains cycles.\")"
     ]
    }
   ],
   "source": [
    "set.arc(dag, from = \"T\", to = \"E\")"
   ]
  },
  {
   "cell_type": "markdown",
   "metadata": {},
   "source": [
    "#### Ejercicio 1.1\n",
    "\n",
    "Construye un grafo razonable que modelice el conjunto de datos almacenados en coronary, que contiene las causas probables de factores de riesgo en trombosis coronaria, con las variables:\n",
    "\n",
    "- Smoking: Fumador. Factores: no/yes .\n",
    "\n",
    "- M. Work: Trabajo mental estresante. Factores: no/yes.\n",
    "\n",
    "- P. Work: Trabajo físico estresante. Factores: no/yes.\n",
    "\n",
    "- Pressure: Tensión sistólica. Factores: <140/>140.\n",
    "\n",
    "- Proteins: Ratio de lipoproteinas (colesterol) HDL y LDL. Factores: <3/>3.\n",
    "\n",
    "- Family: Familiar con enfermedad coronaria: Factores: neg/pos.\n",
    "\n",
    "- Trombosis: Ocurrencia de trombosis. Factores no/yes.\n",
    "\n",
    "Por el momento no te preocupes de las categorías de las variables."
   ]
  },
  {
   "cell_type": "code",
   "execution_count": 47,
   "metadata": {},
   "outputs": [],
   "source": [
    "dagCoronary <- empty.graph(nodes = c(\"Smoking\", \"Mwork\", \"Pwork\", \"Pressure\", \"Proteins\", \"Family\",\"Trombosis\"))\n",
    "arc.set <- matrix(c(\"Smoking\", \"Trombosis\",\n",
    "                    \"Family\", \"Trombosis\",\n",
    "                    \"Mwork\", \"Pressure\",\n",
    "                    \"Pwork\", \"Pressure\",\n",
    "                    \"Trombosis\", \"Pressure\"),\n",
    "                  byrow = TRUE, ncol = 2,\n",
    "                  dimnames = list(NULL, c(\"from\", \"to\")))\n",
    "arcs(dagCoronary) <- arc.set"
   ]
  },
  {
   "cell_type": "markdown",
   "metadata": {},
   "source": [
    "#### Ejercicio 1.2\n",
    "\n",
    "Hemos utilizado la función `arcs()`, pero se puede acceder a la estructura de arcos mediante `dag$arcs`. Añade un arco al grafo del **Ejercicio 1.1** modificando manualmente esta estructura y observa lo que ocurre para las funciones `parents()`, etc…"
   ]
  },
  {
   "cell_type": "code",
   "execution_count": 48,
   "metadata": {},
   "outputs": [
    {
     "data": {
      "image/png": "[encoded data removed]",
      "text/plain": [
       "plot without title"
      ]
     },
     "metadata": {
      "image/png": {
       "height": 420,
       "width": 420
      }
     },
     "output_type": "display_data"
    }
   ],
   "source": [
    "plot(dagCoronary)"
   ]
  },
  {
   "cell_type": "markdown",
   "metadata": {},
   "source": [
    "## 2.3 Construcción de las tablas de probabilidad condicionada\n",
    "### 2.3.1 Definición de los estados de las variables"
   ]
  },
  {
   "cell_type": "markdown",
   "metadata": {},
   "source": [
    "Una vez representadas las interacciones entre variables mediante el grafo, es necesario especificar una distribución de probabilidad conjunta sobre todas las variables para obtener el modelo bayesiano de los datos de la encuesta. Todas ellas, como se dijo al principio, son variables discretas y definidas para una serie de estados ordenados (categorías, o `levels` en R), que se definen a continuación:"
   ]
  },
  {
   "cell_type": "code",
   "execution_count": 49,
   "metadata": {},
   "outputs": [],
   "source": [
    "estados.A <- c(\"young\", \"adult\", \"old\")\n",
    "estados.S <- c(\"M\", \"F\")\n",
    "estados.E <- c(\"high\", \"uni\")\n",
    "estados.O <- c(\"emp\",\"self\")\n",
    "estados.R <- c(\"small\",\"big\")\n",
    "estados.T <- c(\"car\",\"train\",\"other\")"
   ]
  },
  {
   "cell_type": "markdown",
   "metadata": {},
   "source": [
    "En este caso, la distribución de probabilidad conjunta o global (JPD, Joint Probability Distribution), que denotamos con $P(\\mathcal{X})$, tiene $3∗2∗2∗2∗2∗3$ estados, y por tanto $3∗2∗2∗2∗2∗3−1=143$ parámetros, que son las combinaciones resultantes, y esto tan solo con un modelo de $6$ variables, varias de las cuales son binarias.\n",
    "\n",
    "En su lugar, y aprovechándonos de nuestro conocimiento sobre el conjunto de datos (conocimiento experto, a priori) hemos utilizado un modelo mucho menos complejo a nivel de parámetros, descartando muchas relaciones entre variables que sabemos a priori que no tienen sentido (e.g. la relación entre la edad `A` y el sexo `S` del encuestado).\n",
    "\n",
    "Las variables que no se encuentran unidas por ningún arco se dice que son condicionalmente independientes. Por lo tanto, la factorización representada por la ecuación anterior es un submodelo de la distribución global que contiene muchos menos parámetros.\n",
    "\n",
    "Llevado a nuestro ejemplo, el número de parámetros necesarios para definir la JPD en nuestro ejemplo es, gracias al DAG y denotando $\\mathcal{B}$ la red bayesiana definida por dag,\n",
    "\n",
    "$P_{\\mathcal{B}}(A,S,E,O,R,T) = \\underset{2}{P(A)}\\underset{1}{P(S)}\\underset{1·(3·2)}{P(E|A,S)}\\underset{1·2}{P(O|E)}\\underset{1·2}{P(R|E)}\\underset{2·(2·2)}{P(T|O,R)}$,\n",
    "\n",
    "$2+1+6+2+2+8=21$ parámetros (Obsérvese como el número de parámetros crece exponencialmente con el número de padres), con la idea de que $P_{\\mathcal{B}}$ se ajuste suficientemente bien a la JPD, i.e. $P_{\\mathcal{B}}\\approx P$, y lo que sigue por tanto es definir esos parámetros."
   ]
  },
  {
   "cell_type": "markdown",
   "metadata": {},
   "source": [
    "### 2.3.2 Definición de las Tablas de Probabilidad Condicionada"
   ]
  },
  {
   "cell_type": "markdown",
   "metadata": {},
   "source": [
    "Las Tablas de Probabilidad Condicionada (CPT) de cada variable viene dada por una función de probabilidad para cada combinación de estados de los padres, i.e. para un nodo X necesitamos definir las tablas de probabilidad $P(X \\ | \\ \\Pi(X))$, quedando definida la función de probabilidad conjunta como $P_{dag}(\\mathcal{X}) = \\prod_{i=1}^pP(X_i \\ | \\ \\Pi(X_i))$, donde $\\Pi(X)$ son los padres de $X$.\n",
    "\n",
    "Dado que las probabilidades condicionales pueden ser unidimensionales o venir en forma de tablas de varias dimensiones dependiendo del número de padres de cada nodo, utilizaremos para crear dichas probabilidades la función `array()`, que permite utilizar una interfaz común en todos los casos (`matrix()` es simplemente un elemento de tipo `array()` de dos dimensiones).\n",
    "\n",
    "En la encuesta, la edad y el sexo vienen dadas por probabilidades unidimensionales, ya que son variables que no tienen padres en el grafo. Sólo tenemos por tanto que especificar sus marginales:"
   ]
  },
  {
   "cell_type": "code",
   "execution_count": 50,
   "metadata": {},
   "outputs": [
    {
     "data": {
      "text/html": [
       "<dl class=dl-horizontal>\n",
       "\t<dt>young</dt>\n",
       "\t\t<dd>0.3</dd>\n",
       "\t<dt>adult</dt>\n",
       "\t\t<dd>0.5</dd>\n",
       "\t<dt>old</dt>\n",
       "\t\t<dd>0.2</dd>\n",
       "</dl>\n"
      ],
      "text/latex": [
       "\\begin{description*}\n",
       "\\item[young] 0.3\n",
       "\\item[adult] 0.5\n",
       "\\item[old] 0.2\n",
       "\\end{description*}\n"
      ],
      "text/markdown": [
       "young\n",
       ":   0.3adult\n",
       ":   0.5old\n",
       ":   0.2\n",
       "\n"
      ],
      "text/plain": [
       "A\n",
       "young adult   old \n",
       "  0.3   0.5   0.2 "
      ]
     },
     "metadata": {},
     "output_type": "display_data"
    }
   ],
   "source": [
    "A.prob <- array(c(.3, .5, .2), dim = 3, dimnames = list(A = estados.A))\n",
    "A.prob"
   ]
  },
  {
   "cell_type": "code",
   "execution_count": 51,
   "metadata": {},
   "outputs": [
    {
     "data": {
      "text/html": [
       "<dl class=dl-horizontal>\n",
       "\t<dt>M</dt>\n",
       "\t\t<dd>0.6</dd>\n",
       "\t<dt>F</dt>\n",
       "\t\t<dd>0.4</dd>\n",
       "</dl>\n"
      ],
      "text/latex": [
       "\\begin{description*}\n",
       "\\item[M] 0.6\n",
       "\\item[F] 0.4\n",
       "\\end{description*}\n"
      ],
      "text/markdown": [
       "M\n",
       ":   0.6F\n",
       ":   0.4\n",
       "\n"
      ],
      "text/plain": [
       "S\n",
       "  M   F \n",
       "0.6 0.4 "
      ]
     },
     "metadata": {},
     "output_type": "display_data"
    }
   ],
   "source": [
    "S.prob <- array(c(.6, .4), dim = 2, dimnames = list(S = estados.S))\n",
    "S.prob"
   ]
  },
  {
   "cell_type": "markdown",
   "metadata": {},
   "source": [
    "*ocupación* y *residencia*, al depender de *educación*, se representan mediante una tabla de probabilidades condicionadas de dos dimensiones, i.e. necesitamos definir una probabilidad para cada estado del padre. Cada columna por tanto en este caso representa cada uno de los niveles del padre, manteniendo la distribución de la variable condicionada cada nivel particular, por lo que las probabilidades de cada columna siempre suman 1 (i.e. son una probabilidad):"
   ]
  },
  {
   "cell_type": "code",
   "execution_count": 52,
   "metadata": {},
   "outputs": [
    {
     "data": {
      "text/html": [
       "<table>\n",
       "<caption>A matrix: 2 × 2 of type dbl</caption>\n",
       "<thead>\n",
       "\t<tr><th></th><th scope=col>high</th><th scope=col>uni</th></tr>\n",
       "</thead>\n",
       "<tbody>\n",
       "\t<tr><th scope=row>emp</th><td>0.96</td><td>0.92</td></tr>\n",
       "\t<tr><th scope=row>self</th><td>0.04</td><td>0.08</td></tr>\n",
       "</tbody>\n",
       "</table>\n"
      ],
      "text/latex": [
       "A matrix: 2 × 2 of type dbl\n",
       "\\begin{tabular}{r|ll}\n",
       "  & high & uni\\\\\n",
       "\\hline\n",
       "\temp & 0.96 & 0.92\\\\\n",
       "\tself & 0.04 & 0.08\\\\\n",
       "\\end{tabular}\n"
      ],
      "text/markdown": [
       "\n",
       "A matrix: 2 × 2 of type dbl\n",
       "\n",
       "| <!--/--> | high | uni |\n",
       "|---|---|---|\n",
       "| emp | 0.96 | 0.92 |\n",
       "| self | 0.04 | 0.08 |\n",
       "\n"
      ],
      "text/plain": [
       "      E\n",
       "O      high uni \n",
       "  emp  0.96 0.92\n",
       "  self 0.04 0.08"
      ]
     },
     "metadata": {},
     "output_type": "display_data"
    }
   ],
   "source": [
    "O.prob <- array(c(.96,.04,.92,.08), dim = c(2,2), \n",
    "                  dimnames = list(O = estados.O, E = estados.E))\n",
    "O.prob"
   ]
  },
  {
   "cell_type": "code",
   "execution_count": 53,
   "metadata": {},
   "outputs": [
    {
     "data": {
      "text/html": [
       "<table>\n",
       "<caption>A matrix: 2 × 2 of type dbl</caption>\n",
       "<thead>\n",
       "\t<tr><th></th><th scope=col>high</th><th scope=col>uni</th></tr>\n",
       "</thead>\n",
       "<tbody>\n",
       "\t<tr><th scope=row>small</th><td>0.25</td><td>0.2</td></tr>\n",
       "\t<tr><th scope=row>big</th><td>0.75</td><td>0.8</td></tr>\n",
       "</tbody>\n",
       "</table>\n"
      ],
      "text/latex": [
       "A matrix: 2 × 2 of type dbl\n",
       "\\begin{tabular}{r|ll}\n",
       "  & high & uni\\\\\n",
       "\\hline\n",
       "\tsmall & 0.25 & 0.2\\\\\n",
       "\tbig & 0.75 & 0.8\\\\\n",
       "\\end{tabular}\n"
      ],
      "text/markdown": [
       "\n",
       "A matrix: 2 × 2 of type dbl\n",
       "\n",
       "| <!--/--> | high | uni |\n",
       "|---|---|---|\n",
       "| small | 0.25 | 0.2 |\n",
       "| big | 0.75 | 0.8 |\n",
       "\n"
      ],
      "text/plain": [
       "       E\n",
       "R       high uni\n",
       "  small 0.25 0.2\n",
       "  big   0.75 0.8"
      ]
     },
     "metadata": {},
     "output_type": "display_data"
    }
   ],
   "source": [
    "R.prob <- array(c(.25,.75,.2,.8), dim = c(2,2), \n",
    "                  dimnames = list(R = estados.R, E = estados.E))\n",
    "R.prob"
   ]
  },
  {
   "cell_type": "markdown",
   "metadata": {},
   "source": [
    "Por último, educación y transporte se modelizan en forma de tablas 3-dimensionales, dado que tienen 2 padres cada una y se debe especificar por tanto una probabilidad para cada estado de, en este caso, los 2 padres.\n",
    "\n",
    "La primera dimensión debe ser la del nodo en sí, y a continuación se listan los padres. De manera que cada selección de las demás dimensiones $(2,...)$ corresponde a un estado de los padres, y por tanto produce una probabilidad."
   ]
  },
  {
   "cell_type": "code",
   "execution_count": 54,
   "metadata": {},
   "outputs": [
    {
     "name": "stdout",
     "output_type": "stream",
     "text": [
      ", , S = M\n",
      "\n",
      "      A\n",
      "E      young adult  old\n",
      "  high  0.75  0.72 0.88\n",
      "  uni   0.25  0.28 0.12\n",
      "\n",
      ", , S = F\n",
      "\n",
      "      A\n",
      "E      young adult old\n",
      "  high  0.64   0.7 0.9\n",
      "  uni   0.36   0.3 0.1\n",
      "\n"
     ]
    }
   ],
   "source": [
    "# Tabla de probabilidades condicionales para el nodo Educacion\n",
    "E.prob <- array(c(.75, .25, .72, .28, .88, .12, .64, .36, .70, .30, .90, .10),\n",
    "                dim = c(2, 3, 2),\n",
    "                dimnames = list(E = estados.E,\n",
    "                                A = estados.A,\n",
    "                                S = estados.S))\n",
    "print(E.prob) # jupyter tiene su propio print"
   ]
  },
  {
   "cell_type": "code",
   "execution_count": 55,
   "metadata": {},
   "outputs": [
    {
     "name": "stdout",
     "output_type": "stream",
     "text": [
      ", , R = small\n",
      "\n",
      "       O\n",
      "T        emp self\n",
      "  car   0.48 0.56\n",
      "  train 0.42 0.36\n",
      "  other 0.10 0.08\n",
      "\n",
      ", , R = big\n",
      "\n",
      "       O\n",
      "T        emp self\n",
      "  car   0.58 0.70\n",
      "  train 0.24 0.21\n",
      "  other 0.18 0.09\n",
      "\n"
     ]
    }
   ],
   "source": [
    "# Tabla de probabilidades condicionales para el nodo Transporte\n",
    "T.prob <- array(c(.48, .42, .1, .56, .36, .08, .58, .24, .18, .7, .21, .09),\n",
    "                dim = c(3,2,2),\n",
    "                dimnames = list(T = estados.T, \n",
    "                                O = estados.O,\n",
    "                                R = estados.R))\n",
    "print(T.prob)"
   ]
  },
  {
   "cell_type": "markdown",
   "metadata": {},
   "source": [
    "Recuérdese que en `R` podemos seleccionar utilizando directamente el nombre, e.g. si queremos conocer la distribución de empleo para las “mujeres” de edad “adulta”,"
   ]
  },
  {
   "cell_type": "code",
   "execution_count": 56,
   "metadata": {},
   "outputs": [
    {
     "data": {
      "text/html": [
       "<dl class=dl-horizontal>\n",
       "\t<dt>high</dt>\n",
       "\t\t<dd>0.7</dd>\n",
       "\t<dt>uni</dt>\n",
       "\t\t<dd>0.3</dd>\n",
       "</dl>\n"
      ],
      "text/latex": [
       "\\begin{description*}\n",
       "\\item[high] 0.7\n",
       "\\item[uni] 0.3\n",
       "\\end{description*}\n"
      ],
      "text/markdown": [
       "high\n",
       ":   0.7uni\n",
       ":   0.3\n",
       "\n"
      ],
      "text/plain": [
       "high  uni \n",
       " 0.7  0.3 "
      ]
     },
     "metadata": {},
     "output_type": "display_data"
    }
   ],
   "source": [
    "E.prob[,\"adult\",\"F\"]"
   ]
  },
  {
   "cell_type": "markdown",
   "metadata": {},
   "source": [
    "O tal vez queramos determinar cómo cambia la distribución entre gente con tamaño de población de residencia “pequeña” y “grande”:"
   ]
  },
  {
   "cell_type": "code",
   "execution_count": 57,
   "metadata": {},
   "outputs": [
    {
     "data": {
      "text/html": [
       "<table>\n",
       "<caption>A matrix: 3 × 2 of type dbl</caption>\n",
       "<thead>\n",
       "\t<tr><th></th><th scope=col>emp</th><th scope=col>self</th></tr>\n",
       "</thead>\n",
       "<tbody>\n",
       "\t<tr><th scope=row>car</th><td>-0.10</td><td>-0.14</td></tr>\n",
       "\t<tr><th scope=row>train</th><td> 0.18</td><td> 0.15</td></tr>\n",
       "\t<tr><th scope=row>other</th><td>-0.08</td><td>-0.01</td></tr>\n",
       "</tbody>\n",
       "</table>\n"
      ],
      "text/latex": [
       "A matrix: 3 × 2 of type dbl\n",
       "\\begin{tabular}{r|ll}\n",
       "  & emp & self\\\\\n",
       "\\hline\n",
       "\tcar & -0.10 & -0.14\\\\\n",
       "\ttrain &  0.18 &  0.15\\\\\n",
       "\tother & -0.08 & -0.01\\\\\n",
       "\\end{tabular}\n"
      ],
      "text/markdown": [
       "\n",
       "A matrix: 3 × 2 of type dbl\n",
       "\n",
       "| <!--/--> | emp | self |\n",
       "|---|---|---|\n",
       "| car | -0.10 | -0.14 |\n",
       "| train |  0.18 |  0.15 |\n",
       "| other | -0.08 | -0.01 |\n",
       "\n"
      ],
      "text/plain": [
       "       O\n",
       "T       emp   self \n",
       "  car   -0.10 -0.14\n",
       "  train  0.18  0.15\n",
       "  other -0.08 -0.01"
      ]
     },
     "metadata": {},
     "output_type": "display_data"
    }
   ],
   "source": [
    "T.prob[,,\"small\"] - T.prob[,,\"big\"]"
   ]
  },
  {
   "cell_type": "markdown",
   "metadata": {},
   "source": [
    "Una vez definidos el grafo y la distribución de las probabilidades locales de cada variable, se combinan para crear la red bayesiana propiamente dicha. Como estamos creando las tablas manualmente (más tarde veremos cómo hacerlo de manera automática), utilizaremos la función `custom.fit()`, que requiere el DAG (clase `bn`) y una lista en la que se almacenan las diferentes tablas de probabilidades condicionadas, en la que cada elemento lleva el nombre de la variable correspondiente (la llamamos `cpt`, de *Conditional Probability Table*):"
   ]
  },
  {
   "cell_type": "code",
   "execution_count": 59,
   "metadata": {},
   "outputs": [
    {
     "data": {
      "text/html": [
       "<ol class=list-inline>\n",
       "\t<li>'bn.fit'</li>\n",
       "\t<li>'bn.fit.dnet'</li>\n",
       "</ol>\n"
      ],
      "text/latex": [
       "\\begin{enumerate*}\n",
       "\\item 'bn.fit'\n",
       "\\item 'bn.fit.dnet'\n",
       "\\end{enumerate*}\n"
      ],
      "text/markdown": [
       "1. 'bn.fit'\n",
       "2. 'bn.fit.dnet'\n",
       "\n",
       "\n"
      ],
      "text/plain": [
       "[1] \"bn.fit\"      \"bn.fit.dnet\""
      ]
     },
     "metadata": {},
     "output_type": "display_data"
    }
   ],
   "source": [
    "cpt <- list(A = A.prob, S = S.prob, E = E.prob, O = O.prob, R = R.prob, T = T.prob)\n",
    "bn <- custom.fit(x = dag, dist = cpt)\n",
    "class(bn)"
   ]
  },
  {
   "cell_type": "markdown",
   "metadata": {},
   "source": [
    "El objeto `bn` es la red bayesiana propiamente dicha, contiene el grafo y las tablas de probabilidad asociadas a cada nodo. Para `bnlearn` es un objeto de las clases `bn.fit` y `bn.fit.dnet`, es decir, es una “red bayesiana ajustada a unos datos”."
   ]
  },
  {
   "cell_type": "markdown",
   "metadata": {},
   "source": [
    "## 3 Consultas al grafo"
   ]
  },
  {
   "cell_type": "markdown",
   "metadata": {},
   "source": [
    "La utilidad de la red probabilística radica en último término hallar de forma eficiente la probabilidad de cualquier nodo (o conjunto de nodos), dada una cierta información (*evidencia*). Este proceso se denomina *inferencia* o razonamiento probabilístico. Sin embargo, el grafo en sí también proporciona información cualitativa de nuestro conjunto de variables.\n",
    "\n",
    "De la primera parte nos encargaremos en la siguiente práctica, por ahora nos centraremos en la parte cualitativa, con el objetivo de responder a preguntas del tipo *¿Son dos variables independientes dado un conjunto de variables?* Básicamente, le plantearemos cuestiones de independencia a nuestra red bayesiana, como si de un sistema experto se tratara."
   ]
  },
  {
   "cell_type": "markdown",
   "metadata": {},
   "source": [
    "### 3.1 Extraer propiedades básicas del grafo\n",
    "#### 3.1.1 Número de parámetros de la factorización\n",
    "Como se dijo anteriormente, el número de parámetros ($21$) de la red es mucho menor que el de la distribución de probabilidades global, que era de $143$. Puede consultarse cuántos parámetros tiene la red con `nparams()`:"
   ]
  },
  {
   "cell_type": "markdown",
   "metadata": {},
   "source": [
    "Como se dijo anteriormente, el número de parámetros ($21$) de la red es mucho menor que el de la distribución de probabilidades global, que era de $143$. Puede consultarse cuántos parámetros tiene la red con `nparams()`:"
   ]
  },
  {
   "cell_type": "code",
   "execution_count": 60,
   "metadata": {},
   "outputs": [
    {
     "data": {
      "text/html": [
       "21"
      ],
      "text/latex": [
       "21"
      ],
      "text/markdown": [
       "21"
      ],
      "text/plain": [
       "[1] 21"
      ]
     },
     "metadata": {},
     "output_type": "display_data"
    }
   ],
   "source": [
    "nparams(bn)"
   ]
  },
  {
   "cell_type": "markdown",
   "metadata": {},
   "source": [
    "#### 3.1.2 Arcos, nodos y estructuras gráficas\n",
    "Del objeto resultante que contiene la definición de la red bayesiana pueden extraerse diversos parámetros referentes a la estructura del grafo, además de los arcos, arcs(), que ya hemos visto anteriormente."
   ]
  },
  {
   "cell_type": "code",
   "execution_count": 61,
   "metadata": {},
   "outputs": [
    {
     "data": {
      "text/html": [
       "<table>\n",
       "<caption>A matrix: 6 × 2 of type chr</caption>\n",
       "<thead>\n",
       "\t<tr><th scope=col>from</th><th scope=col>to</th></tr>\n",
       "</thead>\n",
       "<tbody>\n",
       "\t<tr><td>A</td><td>E</td></tr>\n",
       "\t<tr><td>S</td><td>E</td></tr>\n",
       "\t<tr><td>E</td><td>O</td></tr>\n",
       "\t<tr><td>E</td><td>R</td></tr>\n",
       "\t<tr><td>O</td><td>T</td></tr>\n",
       "\t<tr><td>R</td><td>T</td></tr>\n",
       "</tbody>\n",
       "</table>\n"
      ],
      "text/latex": [
       "A matrix: 6 × 2 of type chr\n",
       "\\begin{tabular}{ll}\n",
       " from & to\\\\\n",
       "\\hline\n",
       "\t A & E\\\\\n",
       "\t S & E\\\\\n",
       "\t E & O\\\\\n",
       "\t E & R\\\\\n",
       "\t O & T\\\\\n",
       "\t R & T\\\\\n",
       "\\end{tabular}\n"
      ],
      "text/markdown": [
       "\n",
       "A matrix: 6 × 2 of type chr\n",
       "\n",
       "| from | to |\n",
       "|---|---|\n",
       "| A | E |\n",
       "| S | E |\n",
       "| E | O |\n",
       "| E | R |\n",
       "| O | T |\n",
       "| R | T |\n",
       "\n"
      ],
      "text/plain": [
       "     from to\n",
       "[1,] A    E \n",
       "[2,] S    E \n",
       "[3,] E    O \n",
       "[4,] E    R \n",
       "[5,] O    T \n",
       "[6,] R    T "
      ]
     },
     "metadata": {},
     "output_type": "display_data"
    }
   ],
   "source": [
    "# Arcos\n",
    "arcs(bn)"
   ]
  },
  {
   "cell_type": "code",
   "execution_count": 62,
   "metadata": {},
   "outputs": [
    {
     "data": {
      "text/html": [
       "<ol class=list-inline>\n",
       "\t<li>'A'</li>\n",
       "\t<li>'S'</li>\n",
       "\t<li>'E'</li>\n",
       "\t<li>'O'</li>\n",
       "\t<li>'R'</li>\n",
       "\t<li>'T'</li>\n",
       "</ol>\n"
      ],
      "text/latex": [
       "\\begin{enumerate*}\n",
       "\\item 'A'\n",
       "\\item 'S'\n",
       "\\item 'E'\n",
       "\\item 'O'\n",
       "\\item 'R'\n",
       "\\item 'T'\n",
       "\\end{enumerate*}\n"
      ],
      "text/markdown": [
       "1. 'A'\n",
       "2. 'S'\n",
       "3. 'E'\n",
       "4. 'O'\n",
       "5. 'R'\n",
       "6. 'T'\n",
       "\n",
       "\n"
      ],
      "text/plain": [
       "[1] \"A\" \"S\" \"E\" \"O\" \"R\" \"T\""
      ]
     },
     "metadata": {},
     "output_type": "display_data"
    }
   ],
   "source": [
    "# Nodos\n",
    "nodes(bn)"
   ]
  },
  {
   "cell_type": "code",
   "execution_count": 63,
   "metadata": {},
   "outputs": [
    {
     "data": {
      "text/html": [
       "<ol class=list-inline>\n",
       "\t<li>'A'</li>\n",
       "\t<li>'S'</li>\n",
       "</ol>\n"
      ],
      "text/latex": [
       "\\begin{enumerate*}\n",
       "\\item 'A'\n",
       "\\item 'S'\n",
       "\\end{enumerate*}\n"
      ],
      "text/markdown": [
       "1. 'A'\n",
       "2. 'S'\n",
       "\n",
       "\n"
      ],
      "text/plain": [
       "[1] \"A\" \"S\""
      ]
     },
     "metadata": {},
     "output_type": "display_data"
    }
   ],
   "source": [
    "# Padres de un determinado nodo\n",
    "bnlearn::parents(bn, \"E\")"
   ]
  },
  {
   "cell_type": "code",
   "execution_count": 64,
   "metadata": {},
   "outputs": [
    {
     "data": {
      "text/html": [],
      "text/latex": [],
      "text/markdown": [],
      "text/plain": [
       "character(0)"
      ]
     },
     "metadata": {},
     "output_type": "display_data"
    }
   ],
   "source": [
    "bnlearn::parents(bn, \"A\")"
   ]
  },
  {
   "cell_type": "code",
   "execution_count": 65,
   "metadata": {},
   "outputs": [
    {
     "data": {
      "text/html": [
       "'E'"
      ],
      "text/latex": [
       "'E'"
      ],
      "text/markdown": [
       "'E'"
      ],
      "text/plain": [
       "[1] \"E\""
      ]
     },
     "metadata": {},
     "output_type": "display_data"
    }
   ],
   "source": [
    "bnlearn::children(bn, \"A\")\n"
   ]
  },
  {
   "cell_type": "markdown",
   "metadata": {},
   "source": [
    "Como se ha visto anteriormente, existen en esencia tres tipos de configuraciones en un DAG:\n",
    "\n",
    "- $X \\rightarrow Y \\rightarrow Z$ (Estructura en serie o cascada) $ \\Rightarrow X \\perp_P Z \\ | \\ Y$.\n",
    "\n",
    "- $X \\leftarrow Y \\rightarrow Z$ (Padre en común o divergentes) $ \\Rightarrow X \\perp_P Z \\ | \\ Y$.\n",
    "\n",
    "- $X \\rightarrow Y \\leftarrow Z$ (Estructura en V) , $\\Rightarrow X \\perp_P Z, \\ X \\not \\perp_P Z | Y$.\n",
    "\n",
    "\n",
    "Las dos primeras estructuras codifican la misma d-separación, ya que los nodos X y Z con condicionalmente independientes dado Y (se suele decir que Y “bloquea” la unión entre X y Z). El tercer caso es el de la v-estructura, que indica que X y Z son independientes, sin embargo, si no se da Y, los nodos X y Z son independientes.\n",
    "\n",
    "**Ejercicio 3.1**: Busca los tres tipos de estructuras para la red creada. Nota: En `bnlearn` existe la función `vstructs()`."
   ]
  },
  {
   "cell_type": "code",
   "execution_count": 67,
   "metadata": {},
   "outputs": [
    {
     "data": {
      "text/html": [
       "<table>\n",
       "<caption>A matrix: 2 × 3 of type chr</caption>\n",
       "<thead>\n",
       "\t<tr><th scope=col>X</th><th scope=col>Z</th><th scope=col>Y</th></tr>\n",
       "</thead>\n",
       "<tbody>\n",
       "\t<tr><td>A</td><td>E</td><td>S</td></tr>\n",
       "\t<tr><td>O</td><td>T</td><td>R</td></tr>\n",
       "</tbody>\n",
       "</table>\n"
      ],
      "text/latex": [
       "A matrix: 2 × 3 of type chr\n",
       "\\begin{tabular}{lll}\n",
       " X & Z & Y\\\\\n",
       "\\hline\n",
       "\t A & E & S\\\\\n",
       "\t O & T & R\\\\\n",
       "\\end{tabular}\n"
      ],
      "text/markdown": [
       "\n",
       "A matrix: 2 × 3 of type chr\n",
       "\n",
       "| X | Z | Y |\n",
       "|---|---|---|\n",
       "| A | E | S |\n",
       "| O | T | R |\n",
       "\n"
      ],
      "text/plain": [
       "     X Z Y\n",
       "[1,] A E S\n",
       "[2,] O T R"
      ]
     },
     "metadata": {},
     "output_type": "display_data"
    }
   ],
   "source": [
    "vstructs(bn)"
   ]
  },
  {
   "cell_type": "markdown",
   "metadata": {},
   "source": [
    "### 3.1.3 Vecindad y Markov Blanket"
   ]
  },
  {
   "cell_type": "markdown",
   "metadata": {},
   "source": [
    "La vecindad (neighborhood, `nbr`) y la Markov blanket (`mb`) de un nodo proporcionan una descripción sintética de la estructura de dependencia local alrededor de un nodo. La vecindad es los nodos a los que está conectado.\n",
    "\n",
    "Intuitivamente, la Markov Blanket $\\mathcal{M}(X) \\subset \\mathcal{X}$ de un nodo $X$ es el conjunto minimal de nodos que “separa” $X$ del resto, i.e. $X \\perp_P (\\mathcal{X} - \\mathcal{M} - X) \\ | \\ \\mathcal{M}$, y como sabemos, es el conjunto formado por sus padres, sus hijos y esposas (padres de sus hijos).\n",
    "\n",
    "Se obtiene esta información con los comandos nbr (neighbourhood),"
   ]
  },
  {
   "cell_type": "code",
   "execution_count": 68,
   "metadata": {},
   "outputs": [
    {
     "data": {
      "text/html": [
       "<ol class=list-inline>\n",
       "\t<li>'E'</li>\n",
       "\t<li>'T'</li>\n",
       "</ol>\n"
      ],
      "text/latex": [
       "\\begin{enumerate*}\n",
       "\\item 'E'\n",
       "\\item 'T'\n",
       "\\end{enumerate*}\n"
      ],
      "text/markdown": [
       "1. 'E'\n",
       "2. 'T'\n",
       "\n",
       "\n"
      ],
      "text/plain": [
       "[1] \"E\" \"T\""
      ]
     },
     "metadata": {},
     "output_type": "display_data"
    }
   ],
   "source": [
    "nbr(dag, \"O\")"
   ]
  },
  {
   "cell_type": "markdown",
   "metadata": {},
   "source": [
    "y `mb` (markov blanket):"
   ]
  },
  {
   "cell_type": "code",
   "execution_count": 69,
   "metadata": {},
   "outputs": [
    {
     "data": {
      "text/html": [
       "<ol class=list-inline>\n",
       "\t<li>'E'</li>\n",
       "\t<li>'R'</li>\n",
       "\t<li>'T'</li>\n",
       "</ol>\n"
      ],
      "text/latex": [
       "\\begin{enumerate*}\n",
       "\\item 'E'\n",
       "\\item 'R'\n",
       "\\item 'T'\n",
       "\\end{enumerate*}\n"
      ],
      "text/markdown": [
       "1. 'E'\n",
       "2. 'R'\n",
       "3. 'T'\n",
       "\n",
       "\n"
      ],
      "text/plain": [
       "[1] \"E\" \"R\" \"T\""
      ]
     },
     "metadata": {},
     "output_type": "display_data"
    }
   ],
   "source": [
    "mb(dag, \"O\")"
   ]
  },
  {
   "cell_type": "markdown",
   "metadata": {},
   "source": [
    "También podemos utilizar los comandos anteriores para mostrar que ambos sets describen una relación simétrica, por ejemplo, si R está en la manta de Markov de `O`, `O` estará en la de `R`:"
   ]
  },
  {
   "cell_type": "code",
   "execution_count": 70,
   "metadata": {},
   "outputs": [
    {
     "data": {
      "text/html": [
       "TRUE"
      ],
      "text/latex": [
       "TRUE"
      ],
      "text/markdown": [
       "TRUE"
      ],
      "text/plain": [
       "[1] TRUE"
      ]
     },
     "metadata": {},
     "output_type": "display_data"
    },
    {
     "data": {
      "text/html": [
       "TRUE"
      ],
      "text/latex": [
       "TRUE"
      ],
      "text/markdown": [
       "TRUE"
      ],
      "text/plain": [
       "[1] TRUE"
      ]
     },
     "metadata": {},
     "output_type": "display_data"
    }
   ],
   "source": [
    "\"R\" %in% mb(dag, \"O\")\n",
    "\"O\" %in% mb(dag, \"R\")"
   ]
  },
  {
   "cell_type": "markdown",
   "metadata": {},
   "source": [
    "Además, podemos verificar fácilmente como la Markov blanket de un nodo cualquiera (O en este ejemplo), está compuesta por sus hijos (objeto chld), sus padres (objeto par), y las esposas (objeto o.par), por su propia definición:"
   ]
  },
  {
   "cell_type": "code",
   "execution_count": 71,
   "metadata": {},
   "outputs": [
    {
     "data": {
      "text/html": [
       "<ol class=list-inline>\n",
       "\t<li>'E'</li>\n",
       "\t<li>'T'</li>\n",
       "\t<li>'R'</li>\n",
       "</ol>\n"
      ],
      "text/latex": [
       "\\begin{enumerate*}\n",
       "\\item 'E'\n",
       "\\item 'T'\n",
       "\\item 'R'\n",
       "\\end{enumerate*}\n"
      ],
      "text/markdown": [
       "1. 'E'\n",
       "2. 'T'\n",
       "3. 'R'\n",
       "\n",
       "\n"
      ],
      "text/plain": [
       "[1] \"E\" \"T\" \"R\""
      ]
     },
     "metadata": {},
     "output_type": "display_data"
    }
   ],
   "source": [
    "chld <- bnlearn::children(dag, \"O\")\n",
    "par <- bnlearn::parents(dag, \"O\")\n",
    "o.par <- sapply(chld, bnlearn::parents, x = dag)\n",
    "unique(c(par, chld, o.par[o.par != \"O\"]))"
   ]
  },
  {
   "cell_type": "code",
   "execution_count": 72,
   "metadata": {},
   "outputs": [
    {
     "data": {
      "text/html": [
       "<ol class=list-inline>\n",
       "\t<li>'E'</li>\n",
       "\t<li>'R'</li>\n",
       "\t<li>'T'</li>\n",
       "</ol>\n"
      ],
      "text/latex": [
       "\\begin{enumerate*}\n",
       "\\item 'E'\n",
       "\\item 'R'\n",
       "\\item 'T'\n",
       "\\end{enumerate*}\n"
      ],
      "text/markdown": [
       "1. 'E'\n",
       "2. 'R'\n",
       "3. 'T'\n",
       "\n",
       "\n"
      ],
      "text/plain": [
       "[1] \"E\" \"R\" \"T\""
      ]
     },
     "metadata": {},
     "output_type": "display_data"
    }
   ],
   "source": [
    "mb(dag, \"O\")"
   ]
  },
  {
   "cell_type": "markdown",
   "metadata": {},
   "source": [
    "Recuérdese que, en general, toda esta información está contenida en el propio objeto, es decir, podemos ver, por ejemplo, la *Markov Blanket* de un nodo, haciendo"
   ]
  },
  {
   "cell_type": "code",
   "execution_count": 73,
   "metadata": {},
   "outputs": [
    {
     "data": {
      "text/html": [
       "<ol class=list-inline>\n",
       "\t<li>'S'</li>\n",
       "\t<li>'E'</li>\n",
       "</ol>\n"
      ],
      "text/latex": [
       "\\begin{enumerate*}\n",
       "\\item 'S'\n",
       "\\item 'E'\n",
       "\\end{enumerate*}\n"
      ],
      "text/markdown": [
       "1. 'S'\n",
       "2. 'E'\n",
       "\n",
       "\n"
      ],
      "text/plain": [
       "[1] \"S\" \"E\""
      ]
     },
     "metadata": {},
     "output_type": "display_data"
    }
   ],
   "source": [
    "dag$nodes$A$mb"
   ]
  },
  {
   "cell_type": "markdown",
   "metadata": {},
   "source": [
    "#### Ejercicio 3.2\n",
    "\n",
    "Haz que A pertenezca a la Markov Blanket de `O` sin hacer `A` padre de `O`.\n",
    "\n",
    "Por inspección visual. ¿Se ha eliminado alguna independencia?\n",
    "\n",
    "¿Cuál es la nueva JPD $P_{dag}$?\n",
    "\n",
    "Configura el grafo como estaba antes de este ejercicio."
   ]
  },
  {
   "cell_type": "markdown",
   "metadata": {},
   "source": [
    "### 3.1.4 Matriz de adyacencia"
   ]
  },
  {
   "cell_type": "markdown",
   "metadata": {},
   "source": [
    "También podemos obtener la *matriz de adyacencia* de forma directa con `amat()`, que es otro modo de especificar las uniones entre nodos:"
   ]
  },
  {
   "cell_type": "code",
   "execution_count": 40,
   "metadata": {},
   "outputs": [
    {
     "data": {
      "text/html": [
       "<table>\n",
       "<caption>A matrix: 6 × 6 of type int</caption>\n",
       "<thead>\n",
       "\t<tr><th></th><th scope=col>A</th><th scope=col>S</th><th scope=col>E</th><th scope=col>O</th><th scope=col>R</th><th scope=col>T</th></tr>\n",
       "</thead>\n",
       "<tbody>\n",
       "\t<tr><th scope=row>A</th><td>0</td><td>0</td><td>1</td><td>0</td><td>0</td><td>0</td></tr>\n",
       "\t<tr><th scope=row>S</th><td>0</td><td>0</td><td>1</td><td>0</td><td>0</td><td>0</td></tr>\n",
       "\t<tr><th scope=row>E</th><td>0</td><td>0</td><td>0</td><td>1</td><td>1</td><td>0</td></tr>\n",
       "\t<tr><th scope=row>O</th><td>0</td><td>0</td><td>0</td><td>0</td><td>0</td><td>1</td></tr>\n",
       "\t<tr><th scope=row>R</th><td>0</td><td>0</td><td>0</td><td>0</td><td>0</td><td>1</td></tr>\n",
       "\t<tr><th scope=row>T</th><td>0</td><td>0</td><td>0</td><td>0</td><td>0</td><td>0</td></tr>\n",
       "</tbody>\n",
       "</table>\n"
      ],
      "text/latex": [
       "A matrix: 6 × 6 of type int\n",
       "\\begin{tabular}{r|llllll}\n",
       "  & A & S & E & O & R & T\\\\\n",
       "\\hline\n",
       "\tA & 0 & 0 & 1 & 0 & 0 & 0\\\\\n",
       "\tS & 0 & 0 & 1 & 0 & 0 & 0\\\\\n",
       "\tE & 0 & 0 & 0 & 1 & 1 & 0\\\\\n",
       "\tO & 0 & 0 & 0 & 0 & 0 & 1\\\\\n",
       "\tR & 0 & 0 & 0 & 0 & 0 & 1\\\\\n",
       "\tT & 0 & 0 & 0 & 0 & 0 & 0\\\\\n",
       "\\end{tabular}\n"
      ],
      "text/markdown": [
       "\n",
       "A matrix: 6 × 6 of type int\n",
       "\n",
       "| <!--/--> | A | S | E | O | R | T |\n",
       "|---|---|---|---|---|---|---|\n",
       "| A | 0 | 0 | 1 | 0 | 0 | 0 |\n",
       "| S | 0 | 0 | 1 | 0 | 0 | 0 |\n",
       "| E | 0 | 0 | 0 | 1 | 1 | 0 |\n",
       "| O | 0 | 0 | 0 | 0 | 0 | 1 |\n",
       "| R | 0 | 0 | 0 | 0 | 0 | 1 |\n",
       "| T | 0 | 0 | 0 | 0 | 0 | 0 |\n",
       "\n"
      ],
      "text/plain": [
       "  A S E O R T\n",
       "A 0 0 1 0 0 0\n",
       "S 0 0 1 0 0 0\n",
       "E 0 0 0 1 1 0\n",
       "O 0 0 0 0 0 1\n",
       "R 0 0 0 0 0 1\n",
       "T 0 0 0 0 0 0"
      ]
     },
     "metadata": {},
     "output_type": "display_data"
    }
   ],
   "source": [
    "amat(dag)"
   ]
  },
  {
   "cell_type": "markdown",
   "metadata": {},
   "source": [
    "De hecho, dado un conjunto de nodos y la matriz de adyancencia (que podría contruirse a mano o ser importada desde otro formato), es posible definir un DAG completamente:"
   ]
  },
  {
   "cell_type": "code",
   "execution_count": 41,
   "metadata": {},
   "outputs": [
    {
     "data": {
      "text/html": [
       "TRUE"
      ],
      "text/latex": [
       "TRUE"
      ],
      "text/markdown": [
       "TRUE"
      ],
      "text/plain": [
       "[1] TRUE"
      ]
     },
     "metadata": {},
     "output_type": "display_data"
    }
   ],
   "source": [
    "mat <- amat(dag)\n",
    "dag3 <- empty.graph(nodes(dag))\n",
    "amat(dag3) <- mat\n",
    "all.equal(dag, dag3)"
   ]
  },
  {
   "cell_type": "code",
   "execution_count": 42,
   "metadata": {},
   "outputs": [
    {
     "data": {
      "image/png": "[encoded data removed]",
      "text/plain": [
       "plot without title"
      ]
     },
     "metadata": {},
     "output_type": "display_data"
    }
   ],
   "source": [
    "plot(dag3)"
   ]
  },
  {
   "cell_type": "markdown",
   "metadata": {},
   "source": [
    "## 3.2 Consultas de independencia al DAG: d-separación"
   ]
  },
  {
   "cell_type": "markdown",
   "metadata": {},
   "source": [
    "Podemos estudiar la asociación entre variables con la información contenida en nuestro grafo, almacenado en el objeto `dag`, mediante consultas de d-separación. Esto es posible mediante un análisis entre las conexiones del DAG, para comprobar si existe alguna conexión entre ellas, bien sea directa o indirecta, dependiendo de si la relación entre las dos variables está mediada por uno o más arcos respectivamente.\n",
    "\n",
    "Si no existe dicha conexión entre las variables en el grafo, hablamos de separación dirigida, o d-separación. Los detalles de la d-separación ya se han visto anteriormente. En esta práctica, basta con recordar que la d-separación de dos variables ($\\perp_G$) en la red bayesiana implica independencia probabilística ($\\perp_P$). Recuérdese por tanto que si todas las trayectorias entre $X$ e $Y$ se encuentran bloqueadas por $Z$, se dice que $X$ e $Y$ son (condicionalmente) independientes dada variable $Z$, lo que representamos como $X \\perp_G Y | Z$. Lo contrario no es necesariamente cierto: no todas las relaciones de independencia condicional se encuentran reflejadas en el grafo.\n",
    "\n",
    "Podemos investigar la d-separación entre variables de un grafo con la función `dsep()`:"
   ]
  },
  {
   "cell_type": "code",
   "execution_count": 74,
   "metadata": {},
   "outputs": [
    {
     "data": {
      "text/html": [
       "FALSE"
      ],
      "text/latex": [
       "FALSE"
      ],
      "text/markdown": [
       "FALSE"
      ],
      "text/plain": [
       "[1] FALSE"
      ]
     },
     "metadata": {},
     "output_type": "display_data"
    }
   ],
   "source": [
    "dsep(dag, x = \"S\", y = \"R\")"
   ]
  },
  {
   "cell_type": "code",
   "execution_count": 75,
   "metadata": {},
   "outputs": [
    {
     "data": {
      "text/html": [
       "FALSE"
      ],
      "text/latex": [
       "FALSE"
      ],
      "text/markdown": [
       "FALSE"
      ],
      "text/plain": [
       "[1] FALSE"
      ]
     },
     "metadata": {},
     "output_type": "display_data"
    }
   ],
   "source": [
    "dsep(dag, x = \"O\", y = \"R\")"
   ]
  },
  {
   "cell_type": "markdown",
   "metadata": {},
   "source": [
    "En los anteriores ejemplos las variables introducidas no son independientes. Esto podemos verlo en el grafo, donde el sexo (`S`) y el lugar de residencia (`R`) están conectados a través de educación (`E`). Del mismo modo, la ocupación (`O`) y el lugar de residencia están relacionadas a través de la educación (`E`).\n",
    "\n",
    "De hecho, podemos comprobar que hay una conexión entre `S` y `R` el el DAG:"
   ]
  },
  {
   "cell_type": "code",
   "execution_count": 76,
   "metadata": {},
   "outputs": [
    {
     "data": {
      "text/html": [
       "FALSE"
      ],
      "text/latex": [
       "FALSE"
      ],
      "text/markdown": [
       "FALSE"
      ],
      "text/plain": [
       "[1] FALSE"
      ]
     },
     "metadata": {},
     "output_type": "display_data"
    }
   ],
   "source": [
    "dsep(dag, x = \"S\", y = \"R\")"
   ]
  },
  {
   "cell_type": "markdown",
   "metadata": {},
   "source": [
    "i.e. no están d-separados, pero si condicionamos a la educación, la conexión queda bloqueada y `S` y `R` son ahora independientes:"
   ]
  },
  {
   "cell_type": "code",
   "execution_count": 77,
   "metadata": {},
   "outputs": [
    {
     "data": {
      "text/html": [
       "TRUE"
      ],
      "text/latex": [
       "TRUE"
      ],
      "text/markdown": [
       "TRUE"
      ],
      "text/plain": [
       "[1] TRUE"
      ]
     },
     "metadata": {},
     "output_type": "display_data"
    }
   ],
   "source": [
    "dsep(dag, x = \"S\", y = \"R\", z = \"E\")"
   ]
  },
  {
   "cell_type": "markdown",
   "metadata": {},
   "source": [
    "Lo mismo aplica a la relación entre `O` y `R`. Ambas dependen de `E`, y por lo tanto ambas se vuelven independientes cuando condicionamos sobre `E`:"
   ]
  },
  {
   "cell_type": "code",
   "execution_count": 47,
   "metadata": {},
   "outputs": [
    {
     "data": {
      "text/html": [
       "TRUE"
      ],
      "text/latex": [
       "TRUE"
      ],
      "text/markdown": [
       "TRUE"
      ],
      "text/plain": [
       "[1] TRUE"
      ]
     },
     "metadata": {},
     "output_type": "display_data"
    }
   ],
   "source": [
    "dsep(dag, \"O\", \"R\", \"E\")"
   ]
  },
  {
   "cell_type": "markdown",
   "metadata": {},
   "source": [
    "Por el contrario, condicionar sobre un nodo particular puede también hacer que otros nodos marginalmente independientes pasen a ser dependientes. Por ejemplo,"
   ]
  },
  {
   "cell_type": "code",
   "execution_count": 48,
   "metadata": {},
   "outputs": [
    {
     "data": {
      "text/html": [
       "TRUE"
      ],
      "text/latex": [
       "TRUE"
      ],
      "text/markdown": [
       "TRUE"
      ],
      "text/plain": [
       "[1] TRUE"
      ]
     },
     "metadata": {},
     "output_type": "display_data"
    }
   ],
   "source": [
    "dsep(dag, x = \"A\", y = \"S\")"
   ]
  },
  {
   "cell_type": "code",
   "execution_count": 49,
   "metadata": {},
   "outputs": [
    {
     "data": {
      "text/html": [
       "FALSE"
      ],
      "text/latex": [
       "FALSE"
      ],
      "text/markdown": [
       "FALSE"
      ],
      "text/plain": [
       "[1] FALSE"
      ]
     },
     "metadata": {},
     "output_type": "display_data"
    }
   ],
   "source": [
    "dsep(dag, x = \"A\", y = \"S\", z = \"E\")"
   ]
  },
  {
   "cell_type": "markdown",
   "metadata": {},
   "source": [
    "Efectivamente, se trata de una v-estructura. Si queremos hacer inferencia sobre el nodo `A` en este caso, necesitaremos además información sobre los nodos `S` y `E`. Este subconjunto de nodos constituye el Markov blanket de `A`, siendo el resto de los nodos del grafo redundantes para hacer inferencia sobre `A`:"
   ]
  },
  {
   "cell_type": "code",
   "execution_count": 50,
   "metadata": {},
   "outputs": [
    {
     "data": {
      "text/html": [
       "<ol class=list-inline>\n",
       "\t<li>'S'</li>\n",
       "\t<li>'E'</li>\n",
       "</ol>\n"
      ],
      "text/latex": [
       "\\begin{enumerate*}\n",
       "\\item 'S'\n",
       "\\item 'E'\n",
       "\\end{enumerate*}\n"
      ],
      "text/markdown": [
       "1. 'S'\n",
       "2. 'E'\n",
       "\n",
       "\n"
      ],
      "text/plain": [
       "[1] \"S\" \"E\""
      ]
     },
     "metadata": {},
     "output_type": "display_data"
    }
   ],
   "source": [
    "mb(dag, \"A\")"
   ]
  },
  {
   "cell_type": "markdown",
   "metadata": {},
   "source": [
    "Sabemos a partir del grafo que el estado de `E` esta influenciado por los estados de `A` y `S`, que son sus padres."
   ]
  },
  {
   "cell_type": "code",
   "execution_count": 51,
   "metadata": {},
   "outputs": [
    {
     "data": {
      "text/html": [
       "<ol class=list-inline>\n",
       "\t<li>'A'</li>\n",
       "\t<li>'S'</li>\n",
       "</ol>\n"
      ],
      "text/latex": [
       "\\begin{enumerate*}\n",
       "\\item 'A'\n",
       "\\item 'S'\n",
       "\\end{enumerate*}\n"
      ],
      "text/markdown": [
       "1. 'A'\n",
       "2. 'S'\n",
       "\n",
       "\n"
      ],
      "text/plain": [
       "[1] \"A\" \"S\""
      ]
     },
     "metadata": {},
     "output_type": "display_data"
    }
   ],
   "source": [
    "parents(dag, \"E\")"
   ]
  },
  {
   "cell_type": "markdown",
   "metadata": {},
   "source": [
    "`A` su vez, `A` y `S` pasan a ser dependientes dado `E`. De forma equivalente, `E` depende de la distribución conjunta de `A` y `S`, $P(E | A,S)$; por tanto, de acuerdo con el Teorema de Bayes, tenemos:\n",
    "\n",
    "$$\\begin{aligned}\n",
    "P(E \\ | \\ A,S) = \\frac{P(A,S,E)}{P(A,S)} = \\frac{P(A,S \\ | \\ E)P(E)}{P(A)P(S)} \\alpha P(A,S \\ | \\ E),\n",
    "\\end{aligned}$$"
   ]
  },
  {
   "cell_type": "markdown",
   "metadata": {},
   "source": [
    "y por lo tanto, cuando `E` es conocida, no podemos descomponer la probabilidad conjunta de `A` y `S` en una parte que dependa sólo de `A` y otra de `S`. No obstante, $P(A,S)=P(A | S)P(S)=P(A)P(S)$: tal y como se ha visto en el ejemplo anterior, `A` y `S` están d-separadas cuando no se condiciona a `E`."
   ]
  },
  {
   "cell_type": "markdown",
   "metadata": {},
   "source": [
    "#### Ejercicio 3.3\n",
    "\n",
    "Carga el grafo del archivo grafo_ejercicio3.rda, que contiene la variable dag.3. Dibújalo y responde a las siguientes preguntas sobre él:\n",
    "\n",
    "1. ¿Son Z y U independientes?\n",
    "\n",
    "T = Z -> Y -> T -> R -> U\n",
    "C = vacío\n",
    "No existe v-est (X)\n",
    "Los nodos YTR no están en C (V)\n",
    "No hay camino activo, son independientes.\n",
    "\n",
    "2. ¿Son Z y U dependientes? ¿¿¿???\n",
    "\n",
    "3. ¿Son T y U independientes?\n",
    "\n",
    "T = T -> R -> U\n",
    "C = vacío\n",
    "No existe v-est (X)\n",
    "El nodo R no está en C (V)\n",
    "No hay camino activo, son independientes\n",
    "\n",
    "4. ¿Son T y U independientes dado R?\n",
    "\n",
    "T = T -> R -> U\n",
    "C = R\n",
    "No existe v-est (X)\n",
    "El nodo R está en C (X)\n",
    "NO hay camino activo, son independientes\n",
    "\n",
    "5. ¿Son Z y U independientes dado T?\n",
    "\n",
    "6. ¿Son Z y U independientes dados T y R? No\n",
    "\n",
    "7. ¿Son Z y U independientes dado X? No\n",
    "\n",
    "8. ¿Son Z y U independientes dado X y S? No\n",
    "\n",
    "9. ¿Son Z y U independientes dado X, S y K? No\n",
    "\n",
    "10. ¿Son Z y U independientes dado X, S, K y T? No\n",
    "\n",
    "11. ¿Son K y R independientes? Sí\n",
    "o\n",
    "12. X e Y, ¿Son independientes? Sí\n",
    "r\n",
    "13. ¿Son X e Y independientes si conocemos T? No\n",
    "e\n",
    "14. ¿Son K y T independientes? Sí\n",
    "o\n",
    "15. ¿Son K y Z independientes? Sí\n",
    "s\n",
    "16. ¿Son K y T independientes si conocemos R? Sí\n",
    "\n",
    "17. ¿Son K y T independientes si conocemos U? Sí\n",
    "\n",
    "18. ¿Son S y T dependientes? Sí\n",
    "\n",
    "19. ¿Son X y Z independientes? Sí\n",
    "\n",
    "20. ¿Son X y Z independientes si conocemos S? Sí\n",
    "\n",
    "21. ¿Son X y Z independientes si conocemos S y U? Sí\n",
    "\n",
    "22. Si conozco la variable Y, i.e. $Y=y_0$, ¿De qué variables es independiente $Z | Y=y_0$?\n",
    "\n",
    "23. ¿Cuál es el conjunto minimal de variables necesario para que ninguna otra variable influya en T?"
   ]
  },
  {
   "cell_type": "code",
   "execution_count": 78,
   "metadata": {},
   "outputs": [
    {
     "name": "stderr",
     "output_type": "stream",
     "text": [
      "Loading required namespace: Rgraphviz\n",
      "\n"
     ]
    },
    {
     "data": {
      "image/png": "[encoded data removed]",
      "text/plain": [
       "plot without title"
      ]
     },
     "metadata": {
      "image/png": {
       "height": 420,
       "width": 420
      }
     },
     "output_type": "display_data"
    }
   ],
   "source": [
    "load(\"grafo_ejercicio3.rda\")\n",
    "graphviz.plot(dag.3)"
   ]
  },
  {
   "cell_type": "markdown",
   "metadata": {},
   "source": [
    "## 4 Referencias\n",
    "- Gutiérrez, J.M., Cano, R., Cofiño, A.S., Sordo, C., 2004. Redes probabilísticas y neuronales en las ciencias atmosféricas. Centro de Publicaciones, Ministerio de Medio Ambiente, Madrid, Spain.\n",
    "\n",
    "- Scutari, M., Denis, J.-B., 2014. Bayesian networks: with examples in R.\n",
    "\n",
    "- Scutari, M., 2014. Bayesian Network Constraint-Based Structure Learning Algorithms: Parallel and Optimised Implementations in the bnlearn R Package. http://arxiv.org/abs/1406.7648\n",
    "\n",
    "- r-bayesian-networks. http://www.r-bayesian-networks.org/ (Last accessed 18 Nov 2017)\n",
    "\n",
    "- Nagarajan, R., Scutari, M. and Lèbre, S. 2013. Bayesian networks in R: with applications in systems biology, Use R! Springer, New York."
   ]
  }
 ],
 "metadata": {
  "kernelspec": {
   "display_name": "R",
   "language": "R",
   "name": "ir"
  },
  "language_info": {
   "codemirror_mode": "r",
   "file_extension": ".r",
   "mimetype": "text/x-r-source",
   "name": "R",
   "pygments_lexer": "r",
   "version": "3.6.1"
  }
 },
 "nbformat": 4,
 "nbformat_minor": 4
}
