{
  "nbformat": 4,
  "nbformat_minor": 0,
  "metadata": {
    "kernelspec": {
      "display_name": "Python 3",
      "language": "python",
      "name": "python3"
    },
    "language_info": {
      "codemirror_mode": {
        "name": "ipython",
        "version": 3
      },
      "file_extension": ".py",
      "mimetype": "text/x-python",
      "name": "python",
      "nbconvert_exporter": "python",
      "pygments_lexer": "ipython3",
      "version": "3.7.6"
    },
    "colab": {
      "name": "depth_regression.ipynb",
      "provenance": []
    }
  },
  "cells": [
    {
      "cell_type": "code",
      "metadata": {
        "id": "0kJC3f8bLxtM",
        "colab_type": "code",
        "colab": {
          "base_uri": "https://localhost:8080/",
          "height": 90
        },
        "outputId": "d2f2ae3b-3339-40a7-be84-da001a2909ab"
      },
      "source": [
        "import numpy as np\n",
        "import ee\n",
        "import folium\n",
        "import pandas as pd\n",
        "\n",
        "from sklearn.model_selection import train_test_split\n",
        "from sklearn.linear_model import LinearRegression\n",
        "\n",
        "from sklearn.metrics import mean_squared_error as mse\n",
        "from sklearn.metrics import r2_score as r2\n",
        "from sklearn.preprocessing import StandardScaler\n",
        "\n",
        "from matplotlib import pyplot as plt\n",
        "import seaborn as sns\n",
        "\n",
        "import keras\n",
        "from keras import layers\n",
        "from keras import models"
      ],
      "execution_count": 1,
      "outputs": [
        {
          "output_type": "stream",
          "text": [
            "/usr/local/lib/python3.6/dist-packages/statsmodels/tools/_testing.py:19: FutureWarning: pandas.util.testing is deprecated. Use the functions in the public API at pandas.testing instead.\n",
            "  import pandas.util.testing as tm\n",
            "Using TensorFlow backend.\n"
          ],
          "name": "stderr"
        }
      ]
    },
    {
      "cell_type": "code",
      "metadata": {
        "id": "mZwH1v9cXXUz",
        "colab_type": "code",
        "colab": {
          "base_uri": "https://localhost:8080/",
          "height": 125
        },
        "outputId": "7e064853-1c54-4887-e66c-806bc31057e1"
      },
      "source": [
        "from google.colab import drive\n",
        "\n",
        "drive.mount('/content/drive')"
      ],
      "execution_count": 2,
      "outputs": [
        {
          "output_type": "stream",
          "text": [
            "Go to this URL in a browser: https://accounts.google.com/o/oauth2/auth?client_id=947318989803-6bn6qk8qdgf4n4g3pfee6491hc0brc4i.apps.googleusercontent.com&redirect_uri=urn%3aietf%3awg%3aoauth%3a2.0%3aoob&response_type=code&scope=email%20https%3a%2f%2fwww.googleapis.com%2fauth%2fdocs.test%20https%3a%2f%2fwww.googleapis.com%2fauth%2fdrive%20https%3a%2f%2fwww.googleapis.com%2fauth%2fdrive.photos.readonly%20https%3a%2f%2fwww.googleapis.com%2fauth%2fpeopleapi.readonly\n",
            "\n",
            "Enter your authorization code:\n",
            "··········\n",
            "Mounted at /content/drive\n"
          ],
          "name": "stdout"
        }
      ]
    },
    {
      "cell_type": "code",
      "metadata": {
        "id": "lLm_2ZQvTrAr",
        "colab_type": "code",
        "colab": {}
      },
      "source": [
        "X_train = np.load(\"/content/drive/My Drive/TFM/train-test-val/X_train.npy\")\n",
        "y_train = np.load(\"/content/drive/My Drive/TFM/train-test-val/y_train.npy\")\n",
        "\n",
        "X_val = np.load(\"/content/drive/My Drive/TFM/train-test-val/X_val.npy\")\n",
        "y_val = np.load(\"/content/drive/My Drive/TFM/train-test-val/y_val.npy\")"
      ],
      "execution_count": 0,
      "outputs": []
    },
    {
      "cell_type": "code",
      "metadata": {
        "id": "UjbFDsJoih-r",
        "colab_type": "code",
        "colab": {}
      },
      "source": [
        "X_test_AL = np.load(\"/content/drive/My Drive/TFM/train-test-val/X_test_AL.npy\")\n",
        "y_test_AL = np.load(\"/content/drive/My Drive/TFM/train-test-val/y_test_AL.npy\")\n",
        "\n",
        "X_test_Bubal = np.load(\"/content/drive/My Drive/TFM/train-test-val/X_test_Bubal.npy\")\n",
        "y_test_Bubal = np.load(\"/content/drive/My Drive/TFM/train-test-val/y_test_Bubal.npy\")\n",
        "\n",
        "X_test_Canelles = np.load(\"/content/drive/My Drive/TFM/train-test-val/X_test_Canelles.npy\")\n",
        "y_test_Canelles = np.load(\"/content/drive/My Drive/TFM/train-test-val/y_test_Canelles.npy\")\n",
        "\n",
        "X_test_Grado = np.load(\"/content/drive/My Drive/TFM/train-test-val/X_test_Grado.npy\")\n",
        "y_test_Grado = np.load(\"/content/drive/My Drive/TFM/train-test-val/y_test_Grado.npy\")"
      ],
      "execution_count": 0,
      "outputs": []
    },
    {
      "cell_type": "code",
      "metadata": {
        "id": "e70FkbsZd4WC",
        "colab_type": "code",
        "colab": {}
      },
      "source": [
        "scaler = StandardScaler().fit(X_train[:,2:8])\n",
        "X_train_scaled = scaler.transform(X_train[:,2:8])\n",
        "X_val_scaled = scaler.transform(X_val[:,2:8])"
      ],
      "execution_count": 0,
      "outputs": []
    },
    {
      "cell_type": "code",
      "metadata": {
        "id": "AK7rdBXNinh8",
        "colab_type": "code",
        "colab": {}
      },
      "source": [
        "X_test_scaled_AL = scaler.transform(X_test_AL[:,2:8])\n",
        "X_test_scaled_Bubal = scaler.transform(X_test_Bubal[:,2:8])\n",
        "X_test_scaled_Canelles = scaler.transform(X_test_Canelles[:,2:8])\n",
        "X_test_scaled_Grado = scaler.transform(X_test_Grado[:,2:8])"
      ],
      "execution_count": 0,
      "outputs": []
    },
    {
      "cell_type": "code",
      "metadata": {
        "id": "MBnnzDbJLz7T",
        "colab_type": "code",
        "colab": {
          "base_uri": "https://localhost:8080/",
          "height": 265
        },
        "outputId": "c184ce6c-4790-46d5-ad81-28f78aac503f"
      },
      "source": [
        "model = models.Sequential()\n",
        "\n",
        "model.add(layers.Dense(2**3, activation='sigmoid', input_shape = (X_train_scaled[:,2:8].shape[1],)))\n",
        "model.add(layers.Dense(2**3, activation='sigmoid'))\n",
        "model.add(layers.Dense(1))\n",
        "\n",
        "model.summary()"
      ],
      "execution_count": 43,
      "outputs": [
        {
          "output_type": "stream",
          "text": [
            "Model: \"sequential_8\"\n",
            "_________________________________________________________________\n",
            "Layer (type)                 Output Shape              Param #   \n",
            "=================================================================\n",
            "dense_15 (Dense)             (None, 8)                 32        \n",
            "_________________________________________________________________\n",
            "dense_16 (Dense)             (None, 8)                 72        \n",
            "_________________________________________________________________\n",
            "dense_17 (Dense)             (None, 1)                 9         \n",
            "=================================================================\n",
            "Total params: 113\n",
            "Trainable params: 113\n",
            "Non-trainable params: 0\n",
            "_________________________________________________________________\n"
          ],
          "name": "stdout"
        }
      ]
    },
    {
      "cell_type": "code",
      "metadata": {
        "id": "JfP6WaVNMvzU",
        "colab_type": "code",
        "colab": {}
      },
      "source": [
        "from keras import optimizers\n",
        "\n",
        "#model.compile(optimizer=optimizers.RMSprop(lr = 1e-4),loss=\"mse\")\n",
        "model.compile(optimizer=optimizers.Adadelta(),loss=\"mse\")"
      ],
      "execution_count": 0,
      "outputs": []
    },
    {
      "cell_type": "code",
      "metadata": {
        "id": "eViNKRfgM1b1",
        "colab_type": "code",
        "colab": {}
      },
      "source": [
        "from keras import callbacks\n",
        "\n",
        "callback_es = callbacks.EarlyStopping(patience=10)"
      ],
      "execution_count": 0,
      "outputs": []
    },
    {
      "cell_type": "code",
      "metadata": {
        "id": "UtqeAihFYNTL",
        "colab_type": "code",
        "colab": {
          "base_uri": "https://localhost:8080/",
          "height": 1000
        },
        "outputId": "451c7392-167f-4cf8-9d2a-19dabd06a145"
      },
      "source": [
        "history = model.fit(X_train_scaled[:,2:8],y_train,epochs = 50,callbacks=[callback_es],validation_data=(X_val_scaled[:,2:8],y_val))"
      ],
      "execution_count": 46,
      "outputs": [
        {
          "output_type": "stream",
          "text": [
            "Train on 335548 samples, validate on 18644 samples\n",
            "Epoch 1/50\n",
            "335548/335548 [==============================] - 12s 35us/step - loss: 364.8893 - val_loss: 257.1835\n",
            "Epoch 2/50\n",
            "335548/335548 [==============================] - 12s 37us/step - loss: 252.9076 - val_loss: 254.3379\n",
            "Epoch 3/50\n",
            "335548/335548 [==============================] - 12s 35us/step - loss: 251.6004 - val_loss: 253.4513\n",
            "Epoch 4/50\n",
            "335548/335548 [==============================] - 12s 36us/step - loss: 250.4255 - val_loss: 252.3662\n",
            "Epoch 5/50\n",
            "335548/335548 [==============================] - 12s 35us/step - loss: 248.8908 - val_loss: 250.4404\n",
            "Epoch 6/50\n",
            "335548/335548 [==============================] - 12s 35us/step - loss: 245.8715 - val_loss: 244.2884\n",
            "Epoch 7/50\n",
            "335548/335548 [==============================] - 12s 35us/step - loss: 238.4175 - val_loss: 240.2028\n",
            "Epoch 8/50\n",
            "335548/335548 [==============================] - 12s 35us/step - loss: 236.1652 - val_loss: 238.7387\n",
            "Epoch 9/50\n",
            "335548/335548 [==============================] - 12s 35us/step - loss: 235.1181 - val_loss: 237.8183\n",
            "Epoch 10/50\n",
            "335548/335548 [==============================] - 12s 35us/step - loss: 234.4165 - val_loss: 237.1879\n",
            "Epoch 11/50\n",
            "335548/335548 [==============================] - 12s 35us/step - loss: 233.8543 - val_loss: 236.5713\n",
            "Epoch 12/50\n",
            "335548/335548 [==============================] - 12s 36us/step - loss: 233.3492 - val_loss: 235.9934\n",
            "Epoch 13/50\n",
            "335548/335548 [==============================] - 12s 36us/step - loss: 232.9528 - val_loss: 235.7919\n",
            "Epoch 14/50\n",
            "335548/335548 [==============================] - 12s 35us/step - loss: 232.6276 - val_loss: 235.3513\n",
            "Epoch 15/50\n",
            "335548/335548 [==============================] - 12s 35us/step - loss: 232.3891 - val_loss: 235.1396\n",
            "Epoch 16/50\n",
            "335548/335548 [==============================] - 12s 35us/step - loss: 232.1617 - val_loss: 234.7820\n",
            "Epoch 17/50\n",
            "335548/335548 [==============================] - 12s 35us/step - loss: 231.9650 - val_loss: 234.4987\n",
            "Epoch 18/50\n",
            "335548/335548 [==============================] - 12s 35us/step - loss: 231.8065 - val_loss: 234.4112\n",
            "Epoch 19/50\n",
            "335548/335548 [==============================] - 12s 35us/step - loss: 231.6271 - val_loss: 234.1679\n",
            "Epoch 20/50\n",
            "335548/335548 [==============================] - 12s 35us/step - loss: 231.5017 - val_loss: 234.0523\n",
            "Epoch 21/50\n",
            "335548/335548 [==============================] - 12s 36us/step - loss: 231.3899 - val_loss: 233.9891\n",
            "Epoch 22/50\n",
            "335548/335548 [==============================] - 12s 35us/step - loss: 231.2645 - val_loss: 233.9487\n",
            "Epoch 23/50\n",
            "335548/335548 [==============================] - 12s 35us/step - loss: 231.0868 - val_loss: 234.0248\n",
            "Epoch 24/50\n",
            "335548/335548 [==============================] - 12s 35us/step - loss: 230.9974 - val_loss: 233.5243\n",
            "Epoch 25/50\n",
            "335548/335548 [==============================] - 12s 35us/step - loss: 230.8758 - val_loss: 233.6427\n",
            "Epoch 26/50\n",
            "335548/335548 [==============================] - 12s 35us/step - loss: 230.7731 - val_loss: 233.3687\n",
            "Epoch 27/50\n",
            "335548/335548 [==============================] - 12s 35us/step - loss: 230.6951 - val_loss: 233.2335\n",
            "Epoch 28/50\n",
            "335548/335548 [==============================] - 12s 37us/step - loss: 230.6159 - val_loss: 233.1860\n",
            "Epoch 29/50\n",
            "335548/335548 [==============================] - 12s 35us/step - loss: 230.5238 - val_loss: 233.0524\n",
            "Epoch 30/50\n",
            "335548/335548 [==============================] - 12s 35us/step - loss: 230.4665 - val_loss: 233.0987\n",
            "Epoch 31/50\n",
            "335548/335548 [==============================] - 12s 35us/step - loss: 230.3870 - val_loss: 232.8541\n",
            "Epoch 32/50\n",
            "335548/335548 [==============================] - 12s 36us/step - loss: 230.3105 - val_loss: 232.9360\n",
            "Epoch 33/50\n",
            "335548/335548 [==============================] - 12s 35us/step - loss: 230.2816 - val_loss: 232.7234\n",
            "Epoch 34/50\n",
            "335548/335548 [==============================] - 12s 35us/step - loss: 230.2109 - val_loss: 232.6559\n",
            "Epoch 35/50\n",
            "335548/335548 [==============================] - 12s 35us/step - loss: 230.1594 - val_loss: 232.7841\n",
            "Epoch 36/50\n",
            "335548/335548 [==============================] - 12s 35us/step - loss: 230.1090 - val_loss: 232.6568\n",
            "Epoch 37/50\n",
            "335548/335548 [==============================] - 12s 35us/step - loss: 230.0316 - val_loss: 232.9556\n",
            "Epoch 38/50\n",
            "335548/335548 [==============================] - 12s 36us/step - loss: 229.9992 - val_loss: 232.7005\n",
            "Epoch 39/50\n",
            "335548/335548 [==============================] - 12s 35us/step - loss: 229.9406 - val_loss: 232.6495\n",
            "Epoch 40/50\n",
            "335548/335548 [==============================] - 12s 36us/step - loss: 229.8761 - val_loss: 232.3788\n",
            "Epoch 41/50\n",
            "335548/335548 [==============================] - 12s 36us/step - loss: 229.8405 - val_loss: 232.7460\n",
            "Epoch 42/50\n",
            "335548/335548 [==============================] - 12s 36us/step - loss: 229.7675 - val_loss: 232.4164\n",
            "Epoch 43/50\n",
            "335548/335548 [==============================] - 12s 36us/step - loss: 229.6984 - val_loss: 232.1123\n",
            "Epoch 44/50\n",
            "335548/335548 [==============================] - 12s 36us/step - loss: 229.6535 - val_loss: 232.6340\n",
            "Epoch 45/50\n",
            "335548/335548 [==============================] - 12s 35us/step - loss: 229.5896 - val_loss: 232.0590\n",
            "Epoch 46/50\n",
            "335548/335548 [==============================] - 12s 35us/step - loss: 229.5023 - val_loss: 232.1085\n",
            "Epoch 47/50\n",
            "335548/335548 [==============================] - 12s 35us/step - loss: 229.4234 - val_loss: 231.8741\n",
            "Epoch 48/50\n",
            "335548/335548 [==============================] - 12s 35us/step - loss: 229.3490 - val_loss: 232.0563\n",
            "Epoch 49/50\n",
            "335548/335548 [==============================] - 12s 35us/step - loss: 229.2466 - val_loss: 231.6258\n",
            "Epoch 50/50\n",
            "335548/335548 [==============================] - 12s 35us/step - loss: 229.1365 - val_loss: 231.6616\n"
          ],
          "name": "stdout"
        }
      ]
    },
    {
      "cell_type": "code",
      "metadata": {
        "id": "2criOiFuntjE",
        "colab_type": "code",
        "colab": {
          "base_uri": "https://localhost:8080/",
          "height": 87
        },
        "outputId": "e8ee9cf3-f642-4990-8e90-0b697a9fecac"
      },
      "source": [
        "y_pred_AL = model.predict(X_test_scaled_AL[:,2:8])\n",
        "y_pred_Bubal = model.predict(X_test_scaled_Bubal[:,2:8])\n",
        "y_pred_Canelles = model.predict(X_test_scaled_Canelles[:,2:8])\n",
        "y_pred_Grado = model.predict(X_test_scaled_Grado[:,2:8])\n",
        "\n",
        "from sklearn.metrics import mean_squared_error as mse\n",
        "\n",
        "print(\"AL:\",mse(y_test_AL,y_pred_AL,squared = False))\n",
        "print(\"Bubal:\",mse(y_test_Bubal,y_pred_Bubal,squared = False))\n",
        "print(\"Canelles:\",mse(y_test_Canelles,y_pred_Canelles,squared = False))\n",
        "print(\"Grado:\",mse(y_test_Grado,y_pred_Grado,squared = False))"
      ],
      "execution_count": 47,
      "outputs": [
        {
          "output_type": "stream",
          "text": [
            "AL: 9.107234377486286\n",
            "Bubal: 5.622745472134463\n",
            "Canelles: 18.154732038837594\n",
            "Grado: 12.800261129804522\n"
          ],
          "name": "stdout"
        }
      ]
    },
    {
      "cell_type": "code",
      "metadata": {
        "id": "1byTvDlOg-Dr",
        "colab_type": "code",
        "colab": {
          "base_uri": "https://localhost:8080/",
          "height": 87
        },
        "outputId": "31dff8df-fa2d-40dc-a2a4-f456a291ef96"
      },
      "source": [
        "y_pred_AL = model.predict(X_test_scaled_AL[:,2:8])\n",
        "y_pred_Bubal = model.predict(X_test_scaled_Bubal[:,2:8])\n",
        "y_pred_Canelles = model.predict(X_test_scaled_Canelles[:,2:8])\n",
        "y_pred_Grado = model.predict(X_test_scaled_Grado[:,2:8])\n",
        "\n",
        "from sklearn.metrics import mean_squared_error as mse\n",
        "\n",
        "print(\"AL:\",mse(y_test_AL,y_pred_AL,squared = False))\n",
        "print(\"Bubal:\",mse(y_test_Bubal,y_pred_Bubal,squared = False))\n",
        "print(\"Canelles:\",mse(y_test_Canelles,y_pred_Canelles,squared = False))\n",
        "print(\"Grado:\",mse(y_test_Grado,y_pred_Grado,squared = False))"
      ],
      "execution_count": 33,
      "outputs": [
        {
          "output_type": "stream",
          "text": [
            "AL: 9.055884152529542\n",
            "Bubal: 5.977847901695689\n",
            "Canelles: 18.176764169426733\n",
            "Grado: 12.599270382871513\n"
          ],
          "name": "stdout"
        }
      ]
    }
  ]
}