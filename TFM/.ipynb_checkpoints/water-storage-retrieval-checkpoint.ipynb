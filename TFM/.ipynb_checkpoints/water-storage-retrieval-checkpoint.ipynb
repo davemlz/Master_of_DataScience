{
 "cells": [
  {
   "cell_type": "markdown",
   "metadata": {},
   "source": [
    "# Phase III: Water Storage Retrieval"
   ]
  },
  {
   "cell_type": "markdown",
   "metadata": {},
   "source": [
    "For this phase, only `numpy` and `pandas` are required. The import from `sklearn` is done to evaluate the water storage retrieval."
   ]
  },
  {
   "cell_type": "code",
   "execution_count": 83,
   "metadata": {},
   "outputs": [],
   "source": [
    "import numpy as np\n",
    "import pandas as pd\n",
    "\n",
    "from sklearn.metrics import mean_squared_error as mse"
   ]
  },
  {
   "cell_type": "markdown",
   "metadata": {},
   "source": [
    "Path to estimated bathymetry:"
   ]
  },
  {
   "cell_type": "code",
   "execution_count": 84,
   "metadata": {},
   "outputs": [],
   "source": [
    "path = \"C:/Users/Dave Mont/Desktop/Master_of_DataScience/TFM/Results/depth_estimation/test-results/\""
   ]
  },
  {
   "cell_type": "markdown",
   "metadata": {},
   "source": [
    "Path to actual bathymetry:"
   ]
  },
  {
   "cell_type": "code",
   "execution_count": 102,
   "metadata": {},
   "outputs": [],
   "source": [
    "path_ = \"C:/Users/Dave Mont/Desktop/Master_of_DataScience/TFM/Bat_data/IDW/\""
   ]
  },
  {
   "cell_type": "markdown",
   "metadata": {},
   "source": [
    "The following function makes the estimation using the equation $S=\\alpha\\sum_{i=1}^nh_i$, where $S$ is the total water storage in $m^3$, $\\alpha$ is the pixel area in $m^2$ and $h$ is the water depth in $m$. The function also gives the option to use real water depth data to make comparisons. Final units of volume can be changed.\n",
    "\n",
    "* `z_pred`: Array of $n$ observations of predicted water depth in $m$.\n",
    "* `pix_area`: Numeric value. Pixel area in $m^2$.\n",
    "* `z_true` (Optional): Array of $n$ observations of actual water depth in $m$.\n",
    "* `units` (Optional): String. Final units of volume for water storage. Available options ['m3','hm3','km3']."
   ]
  },
  {
   "cell_type": "code",
   "execution_count": 134,
   "metadata": {},
   "outputs": [],
   "source": [
    "def water_storage_retrieval(z_pred,pix_area,z_true = None,units = \"hm3\"):\n",
    "    if units == \"m3\":\n",
    "        conversion = pix_area\n",
    "    elif units == \"hm3\":\n",
    "        conversion = pix_area*1E-6\n",
    "    elif units == \"km3\":\n",
    "        conversion = pix_area*1E-9\n",
    "    ws_pred = z_pred.sum()*conversion\n",
    "    if z_true is not None:\n",
    "        ws_true = z_true.sum()*conversion\n",
    "        ws_diff = ws_pred - ws_true\n",
    "        return ws_pred, ws_true, ws_diff\n",
    "    else:\n",
    "        return ws_pred"
   ]
  },
  {
   "cell_type": "markdown",
   "metadata": {},
   "source": [
    "Results are going to be stored in a pandas data frame:"
   ]
  },
  {
   "cell_type": "code",
   "execution_count": 135,
   "metadata": {},
   "outputs": [],
   "source": [
    "ws = pd.DataFrame(columns = ['Reservoir','actual_ws',\n",
    "                             'lr_pred_ws','lr_ws_diff',\n",
    "                             'rf_pred_ws','rf_ws_diff',\n",
    "                             'gb_pred_ws','gb_ws_diff'])\n",
    "\n",
    "ws['Reservoir'] = ['Alto-Lindoso','Bubal','Canelles','Grado']"
   ]
  },
  {
   "cell_type": "markdown",
   "metadata": {},
   "source": [
    "Load the actual bathymetry."
   ]
  },
  {
   "cell_type": "code",
   "execution_count": 136,
   "metadata": {},
   "outputs": [],
   "source": [
    "A = pd.read_csv(path_ + \"Alto_Lindoso_3.5_wmt.csv\",sep = \" \")\n",
    "B = pd.read_csv(path_ + \"Bubal_3.5_wmt.csv\",sep = \" \")\n",
    "C = pd.read_csv(path_ + \"Canelles_3.5_wmt.csv\",sep = \" \")\n",
    "G = pd.read_csv(path_ + \"Grado_3.5_wmt.csv\",sep = \" \")"
   ]
  },
  {
   "cell_type": "markdown",
   "metadata": {},
   "source": [
    "Delete data that is not in the study area."
   ]
  },
  {
   "cell_type": "code",
   "execution_count": 137,
   "metadata": {},
   "outputs": [],
   "source": [
    "A = A[(A['x'] != 0) & (A['y'] != 0)]\n",
    "B = B[(B['x'] != 0) & (B['y'] != 0)]\n",
    "C = C[(C['x'] != 0) & (C['y'] != 0)]\n",
    "G = G[(G['x'] != 0) & (G['y'] != 0)]"
   ]
  },
  {
   "cell_type": "markdown",
   "metadata": {},
   "source": [
    "## Water Storage Retrieval for each Regression Model"
   ]
  },
  {
   "cell_type": "markdown",
   "metadata": {},
   "source": [
    "Water storage is retrieved for each estimated water depth and stored in the data frame."
   ]
  },
  {
   "cell_type": "markdown",
   "metadata": {},
   "source": [
    "### Linear Regression"
   ]
  },
  {
   "cell_type": "code",
   "execution_count": 138,
   "metadata": {},
   "outputs": [],
   "source": [
    "A_lr = pd.read_csv(path + \"data-all-A-LR.csv\")\n",
    "B_lr = pd.read_csv(path + \"data-all-B-LR.csv\")\n",
    "C_lr = pd.read_csv(path + \"data-all-C-LR.csv\")\n",
    "G_lr = pd.read_csv(path + \"data-all-G-LR.csv\")"
   ]
  },
  {
   "cell_type": "code",
   "execution_count": 139,
   "metadata": {},
   "outputs": [],
   "source": [
    "ws['lr_pred_ws'][0], ws['actual_ws'][0], ws['lr_ws_diff'][0] = water_storage_retrieval(A_lr['z_pred'],100,A['var1.pred'],\"hm3\")\n",
    "ws['lr_pred_ws'][1], ws['actual_ws'][1], ws['lr_ws_diff'][1] = water_storage_retrieval(B_lr['z_pred'],100,B['var1.pred'],\"hm3\")\n",
    "ws['lr_pred_ws'][2], ws['actual_ws'][2], ws['lr_ws_diff'][2] = water_storage_retrieval(C_lr['z_pred'],100,C['var1.pred'],\"hm3\")\n",
    "ws['lr_pred_ws'][3], ws['actual_ws'][3], ws['lr_ws_diff'][3] = water_storage_retrieval(G_lr['z_pred'],100,G['var1.pred'],\"hm3\")"
   ]
  },
  {
   "cell_type": "markdown",
   "metadata": {},
   "source": [
    "### Random Forest"
   ]
  },
  {
   "cell_type": "code",
   "execution_count": 140,
   "metadata": {},
   "outputs": [],
   "source": [
    "A_rf = pd.read_csv(path + \"data-all-A-RF-20-sqrt.csv\")\n",
    "B_rf = pd.read_csv(path + \"data-all-B-RF-20-sqrt.csv\")\n",
    "C_rf = pd.read_csv(path + \"data-all-C-RF-20-sqrt.csv\")\n",
    "G_rf = pd.read_csv(path + \"data-all-G-RF-20-sqrt.csv\")"
   ]
  },
  {
   "cell_type": "code",
   "execution_count": 141,
   "metadata": {},
   "outputs": [],
   "source": [
    "ws['rf_pred_ws'][0], ws['actual_ws'][0], ws['rf_ws_diff'][0] = water_storage_retrieval(A_rf['z_pred'],100,A['var1.pred'],\"hm3\")\n",
    "ws['rf_pred_ws'][1], ws['actual_ws'][1], ws['rf_ws_diff'][1] = water_storage_retrieval(B_rf['z_pred'],100,B['var1.pred'],\"hm3\")\n",
    "ws['rf_pred_ws'][2], ws['actual_ws'][2], ws['rf_ws_diff'][2] = water_storage_retrieval(C_rf['z_pred'],100,C['var1.pred'],\"hm3\")\n",
    "ws['rf_pred_ws'][3], ws['actual_ws'][3], ws['rf_ws_diff'][3] = water_storage_retrieval(G_rf['z_pred'],100,G['var1.pred'],\"hm3\")"
   ]
  },
  {
   "cell_type": "markdown",
   "metadata": {},
   "source": [
    "### Gradient Boosting"
   ]
  },
  {
   "cell_type": "code",
   "execution_count": 142,
   "metadata": {},
   "outputs": [],
   "source": [
    "A_gb = pd.read_csv(path + \"data-all-A-GB.csv\")\n",
    "B_gb = pd.read_csv(path + \"data-all-B-GB.csv\")\n",
    "C_gb = pd.read_csv(path + \"data-all-C-GB.csv\")\n",
    "G_gb = pd.read_csv(path + \"data-all-G-GB.csv\")"
   ]
  },
  {
   "cell_type": "code",
   "execution_count": 143,
   "metadata": {},
   "outputs": [],
   "source": [
    "ws['gb_pred_ws'][0], ws['actual_ws'][0], ws['gb_ws_diff'][0] = water_storage_retrieval(A_gb['z_pred'],100,A['var1.pred'],\"hm3\")\n",
    "ws['gb_pred_ws'][1], ws['actual_ws'][1], ws['gb_ws_diff'][1] = water_storage_retrieval(B_gb['z_pred'],100,B['var1.pred'],\"hm3\")\n",
    "ws['gb_pred_ws'][2], ws['actual_ws'][2], ws['gb_ws_diff'][2] = water_storage_retrieval(C_gb['z_pred'],100,C['var1.pred'],\"hm3\")\n",
    "ws['gb_pred_ws'][3], ws['actual_ws'][3], ws['gb_ws_diff'][3] = water_storage_retrieval(G_gb['z_pred'],100,G['var1.pred'],\"hm3\")"
   ]
  },
  {
   "cell_type": "markdown",
   "metadata": {},
   "source": [
    "# Estimation Error"
   ]
  },
  {
   "cell_type": "markdown",
   "metadata": {},
   "source": [
    "Error data frame."
   ]
  },
  {
   "cell_type": "code",
   "execution_count": null,
   "metadata": {},
   "outputs": [],
   "source": [
    "ws"
   ]
  },
  {
   "cell_type": "markdown",
   "metadata": {},
   "source": [
    "RMSE for each estimated water depth."
   ]
  },
  {
   "cell_type": "code",
   "execution_count": 144,
   "metadata": {},
   "outputs": [
    {
     "name": "stdout",
     "output_type": "stream",
     "text": [
      "LR RMSE: 8.934 hm3\n",
      "RF RMSE: 2.823 hm3\n",
      "GB RMSE: 3.537 hm3\n"
     ]
    }
   ],
   "source": [
    "print('LR RMSE: %0.3f hm3' % mse(ws['actual_ws'],ws['lr_pred_ws'],squared = False))\n",
    "print('RF RMSE: %0.3f hm3' % mse(ws['actual_ws'],ws['rf_pred_ws'],squared = False))\n",
    "print('GB RMSE: %0.3f hm3' % mse(ws['actual_ws'],ws['gb_pred_ws'],squared = False))"
   ]
  }
 ],
 "metadata": {
  "kernelspec": {
   "display_name": "Python 3",
   "language": "python",
   "name": "python3"
  },
  "language_info": {
   "codemirror_mode": {
    "name": "ipython",
    "version": 3
   },
   "file_extension": ".py",
   "mimetype": "text/x-python",
   "name": "python",
   "nbconvert_exporter": "python",
   "pygments_lexer": "ipython3",
   "version": "3.7.6"
  }
 },
 "nbformat": 4,
 "nbformat_minor": 4
}
