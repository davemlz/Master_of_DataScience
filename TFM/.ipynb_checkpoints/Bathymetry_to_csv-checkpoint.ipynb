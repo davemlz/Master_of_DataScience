{
 "cells": [
  {
   "cell_type": "code",
   "execution_count": 1,
   "metadata": {},
   "outputs": [],
   "source": [
    "import numpy as np\n",
    "import ee\n",
    "import folium\n",
    "import pandas as pd\n",
    "from scipy.interpolate import griddata\n",
    "\n",
    "from sklearn.model_selection import train_test_split\n",
    "from sklearn.linear_model import LinearRegression\n",
    "from sklearn.model_selection import cross_val_score\n",
    "from sklearn.metrics import mean_squared_error as mse\n",
    "from sklearn.metrics import r2_score as r2\n",
    "from sklearn.preprocessing import StandardScaler\n",
    "\n",
    "from sklearn.gaussian_process import GaussianProcessRegressor\n",
    "from sklearn.gaussian_process.kernels import RBF, ConstantKernel as C, WhiteKernel\n",
    "\n",
    "from matplotlib import pyplot as plt\n",
    "import seaborn as sns"
   ]
  },
  {
   "cell_type": "code",
   "execution_count": 8,
   "metadata": {},
   "outputs": [],
   "source": [
    "import tqdm"
   ]
  },
  {
   "cell_type": "code",
   "execution_count": 2,
   "metadata": {},
   "outputs": [],
   "source": [
    "#!earthengine authenticate\n",
    "ee.Initialize()"
   ]
  },
  {
   "cell_type": "code",
   "execution_count": 3,
   "metadata": {},
   "outputs": [],
   "source": [
    "def loadBathymetry(filePath,delimeter = \"\\t\",usecols = (2,3,5),startLine = 7):\n",
    "\n",
    "    f = open(filePath)\n",
    "    textList = f.readlines()[startLine:]\n",
    "\n",
    "    outF = open(\"bathyTemp.txt\",\"w\")\n",
    "    for line in textList:\n",
    "        line = line.replace(\",\",\".\")\n",
    "        outF.write(line)    \n",
    "    outF.close()\n",
    "\n",
    "    bathy = np.loadtxt(\"bathyTemp.txt\",delimiter = delimeter,usecols = usecols)    \n",
    "    \n",
    "    return bathy"
   ]
  },
  {
   "cell_type": "code",
   "execution_count": 21,
   "metadata": {},
   "outputs": [],
   "source": [
    "def getWaterlineCoordinates(wm,ROI,scale = 10,level = 3):\n",
    "\n",
    "    water_poly = wmt.reduceToVectors(geometry = ROI,scale = scale,eightConnected = False)\n",
    "    water_poly = water_poly.filter(ee.Filter.eq('label',1))\n",
    "    coords = water_poly.geometry().coordinates().getInfo()\n",
    "\n",
    "    waterline = []\n",
    "    if level == 3:\n",
    "        for i in range(len(coords)):\n",
    "            for j in range(len(coords[i])):\n",
    "                for k in range(len(coords[i][j])):\n",
    "                    waterline.append(coords[i][j][k])\n",
    "    \n",
    "    elif level == 2:\n",
    "        for i in range(len(coords)):\n",
    "            for j in range(len(coords[i])):                \n",
    "                waterline.append(coords[i][j])\n",
    "\n",
    "    waterline = np.array(waterline)\n",
    "    waterline = np.unique(waterline,axis = 0)\n",
    "    depth = np.repeat(0,len(waterline))\n",
    "    depth = np.column_stack((waterline,depth))\n",
    "    \n",
    "    return depth"
   ]
  },
  {
   "cell_type": "code",
   "execution_count": 5,
   "metadata": {},
   "outputs": [],
   "source": [
    "def getLatLonPixels(mask,ROI,scale = 10):\n",
    "    \n",
    "    t = tqdm.tqdm(total = 4)\n",
    "    t.update(n=0)\n",
    "    t.set_description(desc = \"Creating LonLat image\", refresh=True)\n",
    "    \n",
    "    lonlat = mask.pixelLonLat().multiply(mask)\n",
    "    \n",
    "    t.update(n=1)\n",
    "    t.set_description(desc = \"Creating dictionary\", refresh=True)\n",
    "    \n",
    "    dic = lonlat.reduceRegion(reducer = ee.Reducer.toList(),geometry = ROI,scale = scale).getInfo()\n",
    "    \n",
    "    lat = dic['latitude']\n",
    "    lon = dic['longitude']\n",
    "    \n",
    "    t.update(n=2)\n",
    "    t.set_description(desc = \"Creating array | Deleting duplicates\", refresh=True)\n",
    "    \n",
    "    coords = np.array([lon,lat]).T\n",
    "    coords = np.unique(coords,axis = 0)\n",
    "    coords = coords[:len(coords)-1]\n",
    "    \n",
    "    t.update(n=3)\n",
    "    t.set_description(desc = \"Done\", refresh=True)\n",
    "    t.close()\n",
    "    \n",
    "    return coords"
   ]
  },
  {
   "cell_type": "code",
   "execution_count": 6,
   "metadata": {},
   "outputs": [],
   "source": [
    "xmin = -8.2260339\n",
    "ymin = 41.8596283\n",
    "xmax = -8.0632989\n",
    "ymax = 41.9309290\n",
    "\n",
    "centerx = np.array([xmin,xmax]).mean()\n",
    "centery = np.array([ymin,ymax]).mean()\n",
    "\n",
    "ROI = ee.Geometry.Rectangle([xmin,ymin,xmax,ymax])"
   ]
  },
  {
   "cell_type": "code",
   "execution_count": 9,
   "metadata": {},
   "outputs": [
    {
     "name": "stderr",
     "output_type": "stream",
     "text": [
      "Done: : 6it [00:04,  1.24it/s]                                                                                         \n",
      "Done: : 6it [00:06,  1.02s/it]                                                                                         \n"
     ]
    }
   ],
   "source": [
    "bathy = loadBathymetry(\"C:/Users/Dave Mont/Desktop/Master_of_DataScience/TFM/Bat_data/bathymetric_data_alto_lindoso\")\n",
    "\n",
    "wmt = ee.Image('users/dmlmont/TFM/WMt_Alto_Lindoso')\n",
    "wmp = ee.Image('users/dmlmont/TFM/WMp_Alto_Lindoso')\n",
    "\n",
    "coords_wmp = getLatLonPixels(wmp,ROI)\n",
    "coords_wmt = getLatLonPixels(wmt,ROI)\n",
    "\n",
    "wl = getWaterlineCoordinates(wmt,ROI)\n",
    "\n",
    "np.savetxt(\"C:/Users/Dave Mont/Desktop/Master_of_DataScience/TFM/Bat_data/Bat_wl_Alto_Lindoso.csv\", np.vstack((wl,bathy)), delimiter=\",\")\n",
    "np.savetxt(\"C:/Users/Dave Mont/Desktop/Master_of_DataScience/TFM/Bat_data/Coords_wmp_Alto_Lindoso.csv\",coords_wmp, delimiter=\",\")\n",
    "np.savetxt(\"C:/Users/Dave Mont/Desktop/Master_of_DataScience/TFM/Bat_data/Coords_wmt_Alto_Lindoso.csv\",coords_wmt, delimiter=\",\")"
   ]
  },
  {
   "cell_type": "code",
   "execution_count": 10,
   "metadata": {},
   "outputs": [],
   "source": [
    "xmin = -0.3245736\n",
    "ymin = 42.6798840\n",
    "xmax = -0.2969361\n",
    "ymax = 42.7209728\n",
    "\n",
    "centerx = np.array([xmin,xmax]).mean()\n",
    "centery = np.array([ymin,ymax]).mean()\n",
    "\n",
    "ROI = ee.Geometry.Rectangle([xmin,ymin,xmax,ymax])"
   ]
  },
  {
   "cell_type": "code",
   "execution_count": 22,
   "metadata": {},
   "outputs": [
    {
     "name": "stderr",
     "output_type": "stream",
     "text": [
      "\n",
      "  0%|                                                                                            | 0/4 [00:00<?, ?it/s]\u001b[A\n",
      "Creating LonLat image:   0%|                                                                     | 0/4 [00:00<?, ?it/s]\u001b[A\n",
      "Creating dictionary:  25%|███████████████▌                                              | 1/4 [00:00<00:00, 334.21it/s]\u001b[A\n",
      "Creating dictionary:  75%|███████████████████████████████████████████████▎               | 3/4 [00:01<00:00,  2.86it/s]\u001b[A\n",
      "Creating array | Deleting duplicates:  75%|██████████████████████████████████▌           | 3/4 [00:01<00:00,  2.86it/s]\u001b[A\n",
      "Creating array | Deleting duplicates: : 6it [00:01,  3.92it/s]                                                         \u001b[A\n",
      "Done: : 6it [00:01,  5.19it/s]                                \u001b[A\n",
      "\n",
      "  0%|                                                                                            | 0/4 [00:00<?, ?it/s]\u001b[A\n",
      "Creating LonLat image:   0%|                                                                     | 0/4 [00:00<?, ?it/s]\u001b[A\n",
      "Creating dictionary:  25%|███████████████▌                                              | 1/4 [00:00<00:00, 333.97it/s]\u001b[A\n",
      "Creating dictionary:  75%|███████████████████████████████████████████████▎               | 3/4 [00:01<00:00,  2.52it/s]\u001b[A\n",
      "Creating array | Deleting duplicates:  75%|██████████████████████████████████▌           | 3/4 [00:01<00:00,  2.52it/s]\u001b[A\n",
      "Creating array | Deleting duplicates: : 6it [00:01,  3.45it/s]                                                         \u001b[A\n",
      "Done: : 6it [00:01,  4.57it/s]                                \u001b[A\n"
     ]
    }
   ],
   "source": [
    "bathy = loadBathymetry(\"C:/Users/Dave Mont/Desktop/Master_of_DataScience/TFM/Bat_data/bathymetric_data_BUB17\")\n",
    "\n",
    "wmt = ee.Image('users/dmlmont/TFM/WMt_Bubal')\n",
    "wmp = ee.Image('users/dmlmont/TFM/WMp_Bubal')\n",
    "\n",
    "coords_wmp = getLatLonPixels(wmp,ROI)\n",
    "coords_wmt = getLatLonPixels(wmt,ROI)\n",
    "\n",
    "wl = getWaterlineCoordinates(wmt,ROI,level = 2)\n",
    "\n",
    "np.savetxt(\"C:/Users/Dave Mont/Desktop/Master_of_DataScience/TFM/Bat_data/Bat_wl_Bubal.csv\", np.vstack((wl,bathy)), delimiter=\",\")\n",
    "np.savetxt(\"C:/Users/Dave Mont/Desktop/Master_of_DataScience/TFM/Bat_data/Coords_wmp_Bubal.csv\",coords_wmp, delimiter=\",\")\n",
    "np.savetxt(\"C:/Users/Dave Mont/Desktop/Master_of_DataScience/TFM/Bat_data/Coords_wmt_Bubal.csv\",coords_wmt, delimiter=\",\")"
   ]
  },
  {
   "cell_type": "code",
   "execution_count": 24,
   "metadata": {},
   "outputs": [],
   "source": [
    "xmin = 0.5664387\n",
    "ymin = 41.9718079\n",
    "xmax = 0.7096043\n",
    "ymax = 42.1213370\n",
    "\n",
    "centerx = np.array([xmin,xmax]).mean()\n",
    "centery = np.array([ymin,ymax]).mean()\n",
    "\n",
    "ROI = ee.Geometry.Rectangle([xmin,ymin,xmax,ymax])"
   ]
  },
  {
   "cell_type": "code",
   "execution_count": 25,
   "metadata": {},
   "outputs": [
    {
     "name": "stderr",
     "output_type": "stream",
     "text": [
      "\n",
      "  0%|                                                                                            | 0/4 [00:00<?, ?it/s]\u001b[A\n",
      "Creating LonLat image:   0%|                                                                     | 0/4 [00:00<?, ?it/s]\u001b[A\n",
      "Creating dictionary:  25%|███████████████▊                                               | 1/4 [00:00<00:00, 62.47it/s]\u001b[A\n",
      "Creating dictionary:  75%|███████████████████████████████████████████████▎               | 3/4 [00:07<00:02,  2.46s/it]\u001b[A\n",
      "Creating array | Deleting duplicates:  75%|██████████████████████████████████▌           | 3/4 [00:07<00:02,  2.46s/it]\u001b[A\n",
      "Creating array | Deleting duplicates: : 6it [00:10,  2.00s/it]                                                         \u001b[A\n",
      "Done: : 6it [00:10,  1.70s/it]                                \u001b[A\n",
      "\n",
      "  0%|                                                                                            | 0/4 [00:00<?, ?it/s]\u001b[A\n",
      "Creating LonLat image:   0%|                                                                     | 0/4 [00:00<?, ?it/s]\u001b[A\n",
      "Creating dictionary:  25%|█████████████████▊                                                     | 1/4 [00:00<?, ?it/s]\u001b[A\n",
      "Creating dictionary:  75%|███████████████████████████████████████████████▎               | 3/4 [00:08<00:02,  2.80s/it]\u001b[A\n",
      "Creating array | Deleting duplicates:  75%|██████████████████████████████████▌           | 3/4 [00:08<00:02,  2.80s/it]\u001b[A\n",
      "Creating array | Deleting duplicates: : 6it [00:11,  2.24s/it]                                                         \u001b[A\n",
      "Done: : 6it [00:11,  1.87s/it]                                \u001b[A\n"
     ]
    }
   ],
   "source": [
    "bathy = loadBathymetry(\"C:/Users/Dave Mont/Desktop/Master_of_DataScience/TFM/Bat_data/bathymetric_data_Canelles_2018\")\n",
    "\n",
    "wmt = ee.Image('users/dmlmont/TFM/WMt_Canelles')\n",
    "wmp = ee.Image('users/dmlmont/TFM/WMp_Canelles')\n",
    "\n",
    "coords_wmp = getLatLonPixels(wmp,ROI)\n",
    "coords_wmt = getLatLonPixels(wmt,ROI)\n",
    "\n",
    "wl = getWaterlineCoordinates(wmt,ROI)\n",
    "\n",
    "np.savetxt(\"C:/Users/Dave Mont/Desktop/Master_of_DataScience/TFM/Bat_data/Bat_wl_Canelles.csv\", np.vstack((wl,bathy)), delimiter=\",\")\n",
    "np.savetxt(\"C:/Users/Dave Mont/Desktop/Master_of_DataScience/TFM/Bat_data/Coords_wmp_Canelles.csv\",coords_wmp, delimiter=\",\")\n",
    "np.savetxt(\"C:/Users/Dave Mont/Desktop/Master_of_DataScience/TFM/Bat_data/Coords_wmt_Canelles.csv\",coords_wmt, delimiter=\",\")"
   ]
  },
  {
   "cell_type": "code",
   "execution_count": 26,
   "metadata": {},
   "outputs": [],
   "source": [
    "xmin = 0.1912200\n",
    "ymin = 42.1501858\n",
    "xmax = 0.2537043\n",
    "ymax = 42.3090388\n",
    "\n",
    "centerx = np.array([xmin,xmax]).mean()\n",
    "centery = np.array([ymin,ymax]).mean()\n",
    "\n",
    "ROI = ee.Geometry.Rectangle([xmin,ymin,xmax,ymax])"
   ]
  },
  {
   "cell_type": "code",
   "execution_count": 27,
   "metadata": {},
   "outputs": [
    {
     "name": "stderr",
     "output_type": "stream",
     "text": [
      "\n",
      "  0%|                                                                                            | 0/4 [00:00<?, ?it/s]\u001b[A\n",
      "Creating LonLat image:   0%|                                                                     | 0/4 [00:00<?, ?it/s]\u001b[A\n",
      "Creating dictionary:  25%|█████████████████▊                                                     | 1/4 [00:00<?, ?it/s]\u001b[A\n",
      "Creating dictionary:  75%|███████████████████████████████████████████████▎               | 3/4 [00:04<00:01,  1.36s/it]\u001b[A\n",
      "Creating array | Deleting duplicates:  75%|██████████████████████████████████▌           | 3/4 [00:04<00:01,  1.36s/it]\u001b[A\n",
      "Creating array | Deleting duplicates: : 6it [00:05,  1.08s/it]                                                         \u001b[A\n",
      "Done: : 6it [00:05,  1.12it/s]                                \u001b[A\n",
      "\n",
      "  0%|                                                                                            | 0/4 [00:00<?, ?it/s]\u001b[A\n",
      "Creating LonLat image:   0%|                                                                     | 0/4 [00:00<?, ?it/s]\u001b[A\n",
      "Creating dictionary:  25%|███████████████▌                                              | 1/4 [00:00<00:00, 200.44it/s]\u001b[A\n",
      "Creating dictionary:  75%|███████████████████████████████████████████████▎               | 3/4 [00:04<00:01,  1.52s/it]\u001b[A\n",
      "Creating array | Deleting duplicates:  75%|██████████████████████████████████▌           | 3/4 [00:04<00:01,  1.52s/it]\u001b[A\n",
      "Creating array | Deleting duplicates: : 6it [00:05,  1.19s/it]                                                         \u001b[A\n",
      "Done: : 6it [00:05,  1.03it/s]                                \u001b[A\n"
     ]
    }
   ],
   "source": [
    "bathy = loadBathymetry(\"C:/Users/Dave Mont/Desktop/Master_of_DataScience/TFM/Bat_data/bathymetric_data_Grado\")\n",
    "\n",
    "wmt = ee.Image('users/dmlmont/TFM/WMt_Grado')\n",
    "wmp = ee.Image('users/dmlmont/TFM/WMp_Grado')\n",
    "\n",
    "coords_wmp = getLatLonPixels(wmp,ROI)\n",
    "coords_wmt = getLatLonPixels(wmt,ROI)\n",
    "\n",
    "wl = getWaterlineCoordinates(wmt,ROI)\n",
    "\n",
    "np.savetxt(\"C:/Users/Dave Mont/Desktop/Master_of_DataScience/TFM/Bat_data/Bat_wl_Grado.csv\", np.vstack((wl,bathy)), delimiter=\",\")\n",
    "np.savetxt(\"C:/Users/Dave Mont/Desktop/Master_of_DataScience/TFM/Bat_data/Coords_wmp_Grado.csv\",coords_wmp, delimiter=\",\")\n",
    "np.savetxt(\"C:/Users/Dave Mont/Desktop/Master_of_DataScience/TFM/Bat_data/Coords_wmt_Grado.csv\",coords_wmt, delimiter=\",\")"
   ]
  },
  {
   "cell_type": "code",
   "execution_count": 39,
   "metadata": {},
   "outputs": [
    {
     "data": {
      "text/plain": [
       "(6409, 2)"
      ]
     },
     "execution_count": 39,
     "metadata": {},
     "output_type": "execute_result"
    }
   ],
   "source": []
  }
 ],
 "metadata": {
  "kernelspec": {
   "display_name": "Python 3",
   "language": "python",
   "name": "python3"
  },
  "language_info": {
   "codemirror_mode": {
    "name": "ipython",
    "version": 3
   },
   "file_extension": ".py",
   "mimetype": "text/x-python",
   "name": "python",
   "nbconvert_exporter": "python",
   "pygments_lexer": "ipython3",
   "version": "3.7.6"
  }
 },
 "nbformat": 4,
 "nbformat_minor": 4
}
