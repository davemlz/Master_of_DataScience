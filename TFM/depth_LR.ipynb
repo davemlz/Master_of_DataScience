{
  "nbformat": 4,
  "nbformat_minor": 0,
  "metadata": {
    "colab": {
      "name": "depth_LR.ipynb",
      "provenance": []
    },
    "kernelspec": {
      "display_name": "Python 3",
      "language": "python",
      "name": "python3"
    },
    "language_info": {
      "codemirror_mode": {
        "name": "ipython",
        "version": 3
      },
      "file_extension": ".py",
      "mimetype": "text/x-python",
      "name": "python",
      "nbconvert_exporter": "python",
      "pygments_lexer": "ipython3",
      "version": "3.7.6"
    }
  },
  "cells": [
    {
      "cell_type": "code",
      "metadata": {
        "colab_type": "code",
        "id": "2auMEw7C5nhH",
        "colab": {}
      },
      "source": [
        "import numpy as np\n",
        "import pandas as pd\n",
        "\n",
        "from sklearn.model_selection import GridSearchCV, train_test_split,cross_validate\n",
        "from sklearn.ensemble import RandomForestRegressor as rf\n",
        "from sklearn.ensemble import GradientBoostingRegressor as gb\n",
        "from sklearn.linear_model import LinearRegression, Lasso\n",
        "from sklearn.metrics import mean_squared_error as mse\n",
        "from sklearn.metrics import r2_score as r2\n",
        "from sklearn.preprocessing import StandardScaler\n",
        "\n",
        "from matplotlib import pyplot as plt\n",
        "import seaborn as sns"
      ],
      "execution_count": 0,
      "outputs": []
    },
    {
      "cell_type": "code",
      "metadata": {
        "colab_type": "code",
        "id": "mD-ObxCk5nhL",
        "colab": {}
      },
      "source": [
        "def rmseByDepth(y_test,y_pred,h = 2.5,delta = 2.5,jump = 5,maxh = 110):\n",
        "\n",
        "    hList = []\n",
        "    rmseList = []\n",
        "    df = pd.DataFrame()\n",
        "\n",
        "    while h < maxh:\n",
        "        hList.append(h)\n",
        "        idx = np.where((y_test >= h - delta) & (y_test < h + delta))\n",
        "        rmse = mse(y_test[idx],y_pred[idx],squared = False)\n",
        "        rmseList.append(rmse)        \n",
        "        h = h + jump\n",
        "    \n",
        "    df['h'] = hList\n",
        "    df['rmse'] = rmseList\n",
        "    \n",
        "    return df"
      ],
      "execution_count": 0,
      "outputs": []
    },
    {
      "cell_type": "code",
      "metadata": {
        "colab_type": "code",
        "id": "Fzoqefn05zsG",
        "outputId": "b3a11133-c6a3-482e-f786-ddd4f359cfe2",
        "colab": {
          "base_uri": "https://localhost:8080/",
          "height": 34
        }
      },
      "source": [
        "from google.colab import drive\n",
        "\n",
        "drive.mount('/content/drive')"
      ],
      "execution_count": 15,
      "outputs": [
        {
          "output_type": "stream",
          "text": [
            "Drive already mounted at /content/drive; to attempt to forcibly remount, call drive.mount(\"/content/drive\", force_remount=True).\n"
          ],
          "name": "stdout"
        }
      ]
    },
    {
      "cell_type": "code",
      "metadata": {
        "colab_type": "code",
        "id": "PN58SpaU51PM",
        "colab": {}
      },
      "source": [
        "data_A = pd.read_csv(\"/content/drive/My Drive/TFM/train-test-val/data_AL.csv\")\n",
        "data_B = pd.read_csv(\"/content/drive/My Drive/TFM/train-test-val/data_B.csv\")\n",
        "data_C = pd.read_csv(\"/content/drive/My Drive/TFM/train-test-val/data_C.csv\")\n",
        "data_G = pd.read_csv(\"/content/drive/My Drive/TFM/train-test-val/data_G.csv\")"
      ],
      "execution_count": 0,
      "outputs": []
    },
    {
      "cell_type": "code",
      "metadata": {
        "colab_type": "code",
        "id": "n-T9ym__5nhQ",
        "colab": {}
      },
      "source": [
        "data_A = pd.read_csv(\"C:/Users/Dave Mont/Desktop/Master_of_DataScience/TFM/Results/depth_estimation/train-test-val/data_AL.csv\")\n",
        "data_B = pd.read_csv(\"C:/Users/Dave Mont/Desktop/Master_of_DataScience/TFM/Results/depth_estimation/train-test-val/data_B.csv\")\n",
        "data_C = pd.read_csv(\"C:/Users/Dave Mont/Desktop/Master_of_DataScience/TFM/Results/depth_estimation/train-test-val/data_C.csv\")\n",
        "data_G = pd.read_csv(\"C:/Users/Dave Mont/Desktop/Master_of_DataScience/TFM/Results/depth_estimation/train-test-val/data_G.csv\")"
      ],
      "execution_count": 0,
      "outputs": []
    },
    {
      "cell_type": "code",
      "metadata": {
        "colab_type": "code",
        "id": "PaeUZzp55nhT",
        "colab": {}
      },
      "source": [
        "X_A = data_A.iloc[:,3:]\n",
        "y_A = data_A.iloc[:,0]\n",
        "\n",
        "X_B = data_B.iloc[:,3:]\n",
        "y_B = data_B.iloc[:,0]\n",
        "\n",
        "X_C = data_C.iloc[:,3:]\n",
        "y_C = data_C.iloc[:,0]\n",
        "\n",
        "X_G = data_G.iloc[:,3:]\n",
        "y_G = data_G.iloc[:,0]\n",
        "\n",
        "X_train_A, X_test_A, y_train_A, y_test_A = train_test_split(X_A,y_A,test_size = 0.05,random_state = 20)\n",
        "X_train_B, X_test_B, y_train_B, y_test_B = train_test_split(X_B,y_B,test_size = 0.05,random_state = 20)\n",
        "X_train_C, X_test_C, y_train_C, y_test_C = train_test_split(X_C,y_C,test_size = 0.05,random_state = 20)\n",
        "X_train_G, X_test_G, y_train_G, y_test_G = train_test_split(X_G,y_G,test_size = 0.05,random_state = 20)"
      ],
      "execution_count": 0,
      "outputs": []
    },
    {
      "cell_type": "code",
      "metadata": {
        "colab_type": "code",
        "id": "W1QInQb-5nhX",
        "colab": {}
      },
      "source": [
        "X_train = pd.concat([X_train_A,X_train_B,X_train_C,X_train_G])\n",
        "y_train = pd.concat([y_train_A,y_train_B,y_train_C,y_train_G])\n",
        "y_test = np.array(pd.concat([y_test_A,y_test_B,y_test_C,y_test_G]))"
      ],
      "execution_count": 0,
      "outputs": []
    },
    {
      "cell_type": "code",
      "metadata": {
        "colab_type": "code",
        "id": "q5yU0mlz5nhc",
        "colab": {}
      },
      "source": [
        "scaler = StandardScaler().fit(X_train)\n",
        "X_train = scaler.transform(X_train)"
      ],
      "execution_count": 0,
      "outputs": []
    },
    {
      "cell_type": "markdown",
      "metadata": {
        "colab_type": "text",
        "id": "9NRFYPGg5nhf"
      },
      "source": [
        "# Linear Regression (LR)"
      ]
    },
    {
      "cell_type": "code",
      "metadata": {
        "colab_type": "code",
        "id": "6keVrsjO5nhg",
        "colab": {}
      },
      "source": [
        "cv_results = pd.DataFrame(cross_validate(LinearRegression(),X_train,y_train,cv = 10,scoring = [\"neg_root_mean_squared_error\",\"r2\"]))\n",
        "cv_results['test_neg_root_mean_squared_error'] = cv_results['test_neg_root_mean_squared_error']*-1\n",
        "cv_results.to_csv(\"C:/Users/Dave Mont/Desktop/Master_of_DataScience/TFM/Results/depth_estimation/test-results/cvresults-LR.csv\",index = False)"
      ],
      "execution_count": 0,
      "outputs": []
    },
    {
      "cell_type": "code",
      "metadata": {
        "colab_type": "code",
        "id": "9HCG_PSN5nhk",
        "outputId": "bf5c4b3d-aa77-441a-fde2-a6b9496bafac",
        "colab": {}
      },
      "source": [
        "rmse_mean = cv_results['test_neg_root_mean_squared_error'].mean()\n",
        "rmse_std = cv_results['test_neg_root_mean_squared_error'].std()\n",
        "print(\"RMSE: %0.3f +/- %0.3f\" % (rmse_mean,rmse_std/np.sqrt(10)))"
      ],
      "execution_count": 0,
      "outputs": [
        {
          "output_type": "stream",
          "text": [
            "RMSE: 14.810 +/- 1.294\n"
          ],
          "name": "stdout"
        }
      ]
    },
    {
      "cell_type": "code",
      "metadata": {
        "colab_type": "code",
        "id": "Se_X7pu_5nhn",
        "colab": {}
      },
      "source": [
        "reg = LinearRegression().fit(X_train,y_train)"
      ],
      "execution_count": 0,
      "outputs": []
    },
    {
      "cell_type": "code",
      "metadata": {
        "colab_type": "code",
        "id": "RM3ro04-5nhq",
        "colab": {}
      },
      "source": [
        "y_pred_A = reg.predict(scaler.transform(X_test_A))\n",
        "y_pred_B = reg.predict(scaler.transform(X_test_B))\n",
        "y_pred_C = reg.predict(scaler.transform(X_test_C))\n",
        "y_pred_G = reg.predict(scaler.transform(X_test_G))"
      ],
      "execution_count": 0,
      "outputs": []
    },
    {
      "cell_type": "code",
      "metadata": {
        "colab_type": "code",
        "id": "hPw1_wl75nhs",
        "outputId": "ced80621-7467-427d-9b73-e8a9743a6b24",
        "colab": {}
      },
      "source": [
        "print(\"Alto-Lindoso = R2: %0.2f, RMSE %0.3f\" % (r2(y_test_A,y_pred_A),mse(y_test_A,y_pred_A,squared = False)))\n",
        "print(\"Bubal = R2: %0.2f, RMSE %0.3f\" % (r2(y_test_B,y_pred_B),mse(y_test_B,y_pred_B,squared = False)))\n",
        "print(\"Canelles = R2: %0.2f, RMSE %0.3f\" % (r2(y_test_C,y_pred_C),mse(y_test_C,y_pred_C,squared = False)))\n",
        "print(\"Grado = R2: %0.2f, RMSE %0.3f\" % (r2(y_test_G,y_pred_G),mse(y_test_G,y_pred_G,squared = False)))"
      ],
      "execution_count": 0,
      "outputs": [
        {
          "output_type": "stream",
          "text": [
            "Alto-Lindoso = R2: 0.53, RMSE 10.269\n",
            "Bubal = R2: 0.04, RMSE 9.245\n",
            "Canelles = R2: 0.55, RMSE 19.061\n",
            "Grado = R2: 0.53, RMSE 10.656\n"
          ],
          "name": "stdout"
        }
      ]
    },
    {
      "cell_type": "code",
      "metadata": {
        "colab_type": "code",
        "id": "eKbtZLP45nhv",
        "colab": {}
      },
      "source": [
        "y_pred = np.concatenate((y_pred_A,y_pred_B,y_pred_C,y_pred_G))"
      ],
      "execution_count": 0,
      "outputs": []
    },
    {
      "cell_type": "code",
      "metadata": {
        "colab_type": "code",
        "id": "R8EJKMj05nhy",
        "outputId": "c9f4b678-974e-4ca2-8939-692c8acaf912",
        "colab": {}
      },
      "source": [
        "print(\"Total = R2: %0.2f, RMSE %0.3f\" % (r2(y_test,y_pred),mse(y_test,y_pred,squared = False)))"
      ],
      "execution_count": 0,
      "outputs": [
        {
          "output_type": "stream",
          "text": [
            "Total = R2: 0.60, RMSE 15.170\n"
          ],
          "name": "stdout"
        }
      ]
    },
    {
      "cell_type": "code",
      "metadata": {
        "colab_type": "code",
        "id": "i6XLFoma5nh1",
        "outputId": "34743a1a-5fac-4e2b-e4b2-4a93a06098a5",
        "colab": {}
      },
      "source": [
        "rmseDepth = rmseByDepth(y_test,y_pred)\n",
        "rmseDepth.to_csv(\"C:/Users/Dave Mont/Desktop/Master_of_DataScience/TFM/Results/depth_estimation/test-results/depth-rmse-LR.csv\",index = False)\n",
        "plt.scatter(rmseDepth['h'],rmseDepth['rmse'])"
      ],
      "execution_count": 0,
      "outputs": [
        {
          "output_type": "execute_result",
          "data": {
            "text/plain": [
              "<matplotlib.collections.PathCollection at 0x166802cb888>"
            ]
          },
          "metadata": {
            "tags": []
          },
          "execution_count": 135
        },
        {
          "output_type": "display_data",
          "data": {
            "image/png": "[encoded data removed]",
            "text/plain": [
              "<Figure size 432x288 with 1 Axes>"
            ]
          },
          "metadata": {
            "tags": [],
            "needs_background": "light"
          }
        }
      ]
    },
    {
      "cell_type": "markdown",
      "metadata": {
        "colab_type": "text",
        "id": "_XwOTMJB5nh3"
      },
      "source": [
        "# Random Forest (RF)"
      ]
    },
    {
      "cell_type": "code",
      "metadata": {
        "colab_type": "code",
        "id": "o4q8DI36Mu3J",
        "outputId": "8128ef6f-50c3-4e06-c14c-345b4f96448d",
        "colab": {
          "base_uri": "https://localhost:8080/",
          "height": 34
        }
      },
      "source": [
        "((np.arange(150,251,10)*1.04*5).sum()/60)/60"
      ],
      "execution_count": 0,
      "outputs": [
        {
          "output_type": "execute_result",
          "data": {
            "text/plain": [
              "3.1777777777777776"
            ]
          },
          "metadata": {
            "tags": []
          },
          "execution_count": 15
        }
      ]
    },
    {
      "cell_type": "code",
      "metadata": {
        "colab_type": "code",
        "id": "FH47FIye-iTn",
        "outputId": "08cb18d4-9ac6-4f7c-c320-ba6c0b39cce6",
        "colab": {
          "base_uri": "https://localhost:8080/",
          "height": 34
        }
      },
      "source": [
        "((np.array([10,20,50,100,200])*4.3*5).sum()/60 + (np.array([10,20,50,100,200])*1.03*5).sum()/60)/60"
      ],
      "execution_count": 0,
      "outputs": [
        {
          "output_type": "execute_result",
          "data": {
            "text/plain": [
              "2.8130555555555556"
            ]
          },
          "metadata": {
            "tags": []
          },
          "execution_count": 30
        }
      ]
    },
    {
      "cell_type": "code",
      "metadata": {
        "colab_type": "code",
        "id": "HcWiRiwrMhAi",
        "outputId": "c7b46247-eafc-41d8-d5e7-21f54d827284",
        "colab": {
          "base_uri": "https://localhost:8080/",
          "height": 354
        }
      },
      "source": [
        "parameters = {\"n_estimators\":[100,200,300,400,500],\"max_features\":[\"auto\",\"sqrt\"]}\n",
        "rfReg = GridSearchCV(rf(),parameters,cv = 3,scoring = \"neg_root_mean_squared_error\")\n",
        "rfReg.fit(X_train,y_train)"
      ],
      "execution_count": 0,
      "outputs": [
        {
          "output_type": "execute_result",
          "data": {
            "text/plain": [
              "GridSearchCV(cv=3, error_score=nan,\n",
              "             estimator=RandomForestRegressor(bootstrap=True, ccp_alpha=0.0,\n",
              "                                             criterion='mse', max_depth=None,\n",
              "                                             max_features='auto',\n",
              "                                             max_leaf_nodes=None,\n",
              "                                             max_samples=None,\n",
              "                                             min_impurity_decrease=0.0,\n",
              "                                             min_impurity_split=None,\n",
              "                                             min_samples_leaf=1,\n",
              "                                             min_samples_split=2,\n",
              "                                             min_weight_fraction_leaf=0.0,\n",
              "                                             n_estimators=100, n_jobs=None,\n",
              "                                             oob_score=False, random_state=None,\n",
              "                                             verbose=0, warm_start=False),\n",
              "             iid='deprecated', n_jobs=None,\n",
              "             param_grid={'max_features': ['auto', 'sqrt'],\n",
              "                         'n_estimators': [100, 200, 300, 400, 500]},\n",
              "             pre_dispatch='2*n_jobs', refit=True, return_train_score=False,\n",
              "             scoring='neg_root_mean_squared_error', verbose=0)"
            ]
          },
          "metadata": {
            "tags": []
          },
          "execution_count": 18
        }
      ]
    },
    {
      "cell_type": "code",
      "metadata": {
        "colab_type": "code",
        "id": "5ohVVsWRvP6h",
        "colab": {}
      },
      "source": [
        "cv_results = pd.DataFrame(rfReg.cv_results_)\n",
        "cv_results = cv_results.drop(columns = ['params'])\n",
        "cv_results.to_csv(\"/content/drive/My Drive/TFM/train-test-val/gridsearchcv-results-rf-1.csv\",index = False)"
      ],
      "execution_count": 0,
      "outputs": []
    },
    {
      "cell_type": "code",
      "metadata": {
        "colab_type": "code",
        "id": "LRpgRLFuwTO_",
        "colab": {}
      },
      "source": [
        "from joblib import dump, load"
      ],
      "execution_count": 0,
      "outputs": []
    },
    {
      "cell_type": "code",
      "metadata": {
        "colab_type": "code",
        "id": "KnWGy2UEdn7N",
        "outputId": "fc125d3b-7598-417e-de84-208fa5a690ed",
        "colab": {}
      },
      "source": [
        "#dump(rfReg.best_estimator_,'/content/drive/My Drive/TFM/train-test-val/rf-200-sqrt.joblib')\n",
        "#clf = load('/content/drive/My Drive/TFM/train-test-val/rf-200-sqrt.joblib') \n",
        "#clf = load('C:/Users/Dave Mont/Desktop/rf-200-sqrt.joblib')\n",
        "fi = clf.feature_importances_\n",
        "fidf = pd.DataFrame({\"feature\":X_A.columns,\"feature_importances\":fi})\n",
        "fidf.to_csv(\"C:/Users/Dave Mont/Desktop/Master_of_DataScience/TFM/Results/depth_estimation/test-results/feature-importances-rf-200-sqrt.csv\",index = False)"
      ],
      "execution_count": 0,
      "outputs": [
        {
          "output_type": "stream",
          "text": [
            "C:\\Users\\Dave Mont\\anaconda3\\lib\\site-packages\\sklearn\\base.py:318: UserWarning: Trying to unpickle estimator DecisionTreeRegressor from version 0.22.2.post1 when using version 0.22.1. This might lead to breaking code or invalid results. Use at your own risk.\n",
            "  UserWarning)\n",
            "C:\\Users\\Dave Mont\\anaconda3\\lib\\site-packages\\sklearn\\base.py:318: UserWarning: Trying to unpickle estimator RandomForestRegressor from version 0.22.2.post1 when using version 0.22.1. This might lead to breaking code or invalid results. Use at your own risk.\n",
            "  UserWarning)\n"
          ],
          "name": "stderr"
        }
      ]
    },
    {
      "cell_type": "code",
      "metadata": {
        "id": "BRxKkB5jdn7Q",
        "colab_type": "code",
        "outputId": "6d557a0b-b1eb-40e5-826d-7b0205e57005",
        "colab": {
          "base_uri": "https://localhost:8080/",
          "height": 336
        }
      },
      "source": [
        "parameters = {\"n_estimators\":np.arange(150,251,10)}\n",
        "rfReg = GridSearchCV(rf(max_features = \"sqrt\"),parameters,cv = 5,scoring = \"neg_root_mean_squared_error\")\n",
        "rfReg.fit(X_train,y_train)"
      ],
      "execution_count": 0,
      "outputs": [
        {
          "output_type": "execute_result",
          "data": {
            "text/plain": [
              "GridSearchCV(cv=5, error_score=nan,\n",
              "             estimator=RandomForestRegressor(bootstrap=True, ccp_alpha=0.0,\n",
              "                                             criterion='mse', max_depth=None,\n",
              "                                             max_features='sqrt',\n",
              "                                             max_leaf_nodes=None,\n",
              "                                             max_samples=None,\n",
              "                                             min_impurity_decrease=0.0,\n",
              "                                             min_impurity_split=None,\n",
              "                                             min_samples_leaf=1,\n",
              "                                             min_samples_split=2,\n",
              "                                             min_weight_fraction_leaf=0.0,\n",
              "                                             n_estimators=100, n_jobs=None,\n",
              "                                             oob_score=False, random_state=None,\n",
              "                                             verbose=0, warm_start=False),\n",
              "             iid='deprecated', n_jobs=None,\n",
              "             param_grid={'n_estimators': array([150, 160, 170, 180, 190, 200, 210, 220, 230, 240, 250])},\n",
              "             pre_dispatch='2*n_jobs', refit=True, return_train_score=False,\n",
              "             scoring='neg_root_mean_squared_error', verbose=0)"
            ]
          },
          "metadata": {
            "tags": []
          },
          "execution_count": 8
        }
      ]
    },
    {
      "cell_type": "code",
      "metadata": {
        "id": "XizuMXWCMuuB",
        "colab_type": "code",
        "colab": {}
      },
      "source": [
        "cv_results = pd.DataFrame(rfReg.cv_results_)\n",
        "cv_results = cv_results.drop(columns = ['params'])\n",
        "cv_results.to_csv(\"/content/drive/My Drive/TFM/train-test-val/gridsearchcv-results-rf-2.csv\",index = False)"
      ],
      "execution_count": 0,
      "outputs": []
    },
    {
      "cell_type": "code",
      "metadata": {
        "colab_type": "code",
        "id": "mpuK-tJd5nh-",
        "colab": {}
      },
      "source": [
        "bestRF = rfReg.best_estimator_"
      ],
      "execution_count": 0,
      "outputs": []
    },
    {
      "cell_type": "code",
      "metadata": {
        "id": "HK4TRra0OyKj",
        "colab_type": "code",
        "colab": {}
      },
      "source": [
        "fidf = pd.DataFrame({\"feature\":X_A.columns,\"feature_importances\":bestRF.feature_importances_})\n",
        "fidf.to_csv(\"/content/drive/My Drive/TFM/train-test-val/feature-importances-rf-170-sqrt.csv\",index = False)"
      ],
      "execution_count": 0,
      "outputs": []
    },
    {
      "cell_type": "code",
      "metadata": {
        "colab_type": "code",
        "id": "DKRp5-Ie5niA",
        "colab": {}
      },
      "source": [
        "y_pred_A = bestRF.predict(scaler.transform(X_test_A))\n",
        "y_pred_B = bestRF.predict(scaler.transform(X_test_B))\n",
        "y_pred_C = bestRF.predict(scaler.transform(X_test_C))\n",
        "y_pred_G = bestRF.predict(scaler.transform(X_test_G))\n",
        "\n",
        "ys_A = pd.DataFrame({\"y_test\":y_test_A,\"y_pred\":y_pred_A})\n",
        "ys_B = pd.DataFrame({\"y_test\":y_test_B,\"y_pred\":y_pred_B})\n",
        "ys_C = pd.DataFrame({\"y_test\":y_test_C,\"y_pred\":y_pred_C})\n",
        "ys_G = pd.DataFrame({\"y_test\":y_test_G,\"y_pred\":y_pred_G})\n",
        "\n",
        "ys_A.to_csv(\"/content/drive/My Drive/TFM/train-test-val/ytest-ypred-A-RF.csv\",index = False)\n",
        "ys_B.to_csv(\"/content/drive/My Drive/TFM/train-test-val/ytest-ypred-B-RF.csv\",index = False)\n",
        "ys_C.to_csv(\"/content/drive/My Drive/TFM/train-test-val/ytest-ypred-C-RF.csv\",index = False)\n",
        "ys_G.to_csv(\"/content/drive/My Drive/TFM/train-test-val/ytest-ypred-G-RF.csv\",index = False)"
      ],
      "execution_count": 0,
      "outputs": []
    },
    {
      "cell_type": "code",
      "metadata": {
        "colab_type": "code",
        "id": "Hjg8jGRH5niD",
        "outputId": "91652793-85c3-4419-c21f-1543224c5e24",
        "colab": {
          "base_uri": "https://localhost:8080/",
          "height": 87
        }
      },
      "source": [
        "print(\"Alto-Lindoso = R2: %0.2f, RMSE %0.3f\" % (r2(y_test_A,y_pred_A),mse(y_test_A,y_pred_A,squared = False)))\n",
        "print(\"Bubal = R2: %0.2f, RMSE %0.3f\" % (r2(y_test_B,y_pred_B),mse(y_test_B,y_pred_B,squared = False)))\n",
        "print(\"Canelles = R2: %0.2f, RMSE %0.3f\" % (r2(y_test_C,y_pred_C),mse(y_test_C,y_pred_C,squared = False)))\n",
        "print(\"Grado = R2: %0.2f, RMSE %0.3f\" % (r2(y_test_G,y_pred_G),mse(y_test_G,y_pred_G,squared = False)))"
      ],
      "execution_count": 0,
      "outputs": [
        {
          "output_type": "stream",
          "text": [
            "Alto-Lindoso = R2: 0.72, RMSE 7.876\n",
            "Bubal = R2: 0.87, RMSE 3.403\n",
            "Canelles = R2: 0.78, RMSE 13.294\n",
            "Grado = R2: 0.92, RMSE 4.408\n"
          ],
          "name": "stdout"
        }
      ]
    },
    {
      "cell_type": "code",
      "metadata": {
        "colab_type": "code",
        "id": "E1XC9Lte5niJ",
        "colab": {}
      },
      "source": [
        "y_test = np.array(pd.concat([y_test_A,y_test_B,y_test_C,y_test_G]))\n",
        "y_pred = np.concatenate((y_pred_A,y_pred_B,y_pred_C,y_pred_G))"
      ],
      "execution_count": 0,
      "outputs": []
    },
    {
      "cell_type": "code",
      "metadata": {
        "colab_type": "code",
        "id": "CIy3B4Va5niL",
        "outputId": "bdb3e2bc-ccd0-411d-ded9-65f85af0457a",
        "colab": {
          "base_uri": "https://localhost:8080/",
          "height": 34
        }
      },
      "source": [
        "print(\"Total = R2: %0.2f, RMSE %0.3f\" % (r2(y_test,y_pred),mse(y_test,y_pred,squared = False)))"
      ],
      "execution_count": 0,
      "outputs": [
        {
          "output_type": "stream",
          "text": [
            "Total = R2: 0.82, RMSE 10.038\n"
          ],
          "name": "stdout"
        }
      ]
    },
    {
      "cell_type": "code",
      "metadata": {
        "colab_type": "code",
        "id": "UmCXig8m5niO",
        "outputId": "e3c62171-ca50-4b21-b304-a4ba06260c0f",
        "colab": {
          "base_uri": "https://localhost:8080/",
          "height": 282
        }
      },
      "source": [
        "rmseDepth = rmseByDepth(y_test,y_pred)\n",
        "rmseDepth.to_csv(\"/content/drive/My Drive/TFM/train-test-val/depth-rmse-RF.csv\",index = False)\n",
        "plt.scatter(rmseDepth['h'],rmseDepth['rmse'])"
      ],
      "execution_count": 0,
      "outputs": [
        {
          "output_type": "execute_result",
          "data": {
            "text/plain": [
              "<matplotlib.collections.PathCollection at 0x7fb84ca05cf8>"
            ]
          },
          "metadata": {
            "tags": []
          },
          "execution_count": 20
        },
        {
          "output_type": "display_data",
          "data": {
            "image/png": "[encoded data removed]",
            "text/plain": [
              "<Figure size 432x288 with 1 Axes>"
            ]
          },
          "metadata": {
            "tags": [],
            "needs_background": "light"
          }
        }
      ]
    },
    {
      "cell_type": "code",
      "metadata": {
        "id": "ZHRE_r9RQu8R",
        "colab_type": "code",
        "colab": {}
      },
      "source": [
        "ys = pd.DataFrame({\"y_test\":y_test,\"y_pred\":y_pred})\n",
        "ys.to_csv(\"/content/drive/My Drive/TFM/train-test-val/ytest-ypred-GLOBAL-RF.csv\",index = False)"
      ],
      "execution_count": 0,
      "outputs": []
    },
    {
      "cell_type": "code",
      "metadata": {
        "colab_type": "code",
        "id": "u2FR9VgUsSc5",
        "colab": {}
      },
      "source": [
        "data_A['z_pred'] = bestRF.predict(scaler.transform(X_A))\n",
        "data_B['z_pred'] = bestRF.predict(scaler.transform(X_B))\n",
        "data_C['z_pred'] = bestRF.predict(scaler.transform(X_C))\n",
        "data_G['z_pred'] = bestRF.predict(scaler.transform(X_G))"
      ],
      "execution_count": 0,
      "outputs": []
    },
    {
      "cell_type": "code",
      "metadata": {
        "id": "RDVWQ_qCSmnm",
        "colab_type": "code",
        "colab": {}
      },
      "source": [
        "data_A.to_csv(\"/content/drive/My Drive/TFM/train-test-val/data-all-A-RF.csv\",index = False)\n",
        "data_B.to_csv(\"/content/drive/My Drive/TFM/train-test-val/data-all-B-RF.csv\",index = False)\n",
        "data_C.to_csv(\"/content/drive/My Drive/TFM/train-test-val/data-all-C-RF.csv\",index = False)\n",
        "data_G.to_csv(\"/content/drive/My Drive/TFM/train-test-val/data-all-G-RF.csv\",index = False)"
      ],
      "execution_count": 0,
      "outputs": []
    },
    {
      "cell_type": "code",
      "metadata": {
        "id": "3zMd5OfLVV48",
        "colab_type": "code",
        "outputId": "535f3069-45fd-46ac-e1a4-b5aaecb74164",
        "colab": {
          "base_uri": "https://localhost:8080/",
          "height": 282
        }
      },
      "source": [
        "plt.scatter(y_test,y_pred)"
      ],
      "execution_count": 0,
      "outputs": [
        {
          "output_type": "execute_result",
          "data": {
            "text/plain": [
              "<matplotlib.collections.PathCollection at 0x7fb847bb70b8>"
            ]
          },
          "metadata": {
            "tags": []
          },
          "execution_count": 29
        },
        {
          "output_type": "display_data",
          "data": {
            "image/png": "[encoded data removed]",
            "text/plain": [
              "<Figure size 432x288 with 1 Axes>"
            ]
          },
          "metadata": {
            "tags": [],
            "needs_background": "light"
          }
        }
      ]
    },
    {
      "cell_type": "markdown",
      "metadata": {
        "id": "Xdpt3FYMkLWd",
        "colab_type": "text"
      },
      "source": [
        "# Gradient Boosting"
      ]
    },
    {
      "cell_type": "code",
      "metadata": {
        "id": "V0H7M6vJkM7A",
        "colab_type": "code",
        "colab": {
          "base_uri": "https://localhost:8080/",
          "height": 425
        },
        "outputId": "d6e14963-febc-45aa-ed7e-3bdc49c8cd4e"
      },
      "source": [
        "parameters = {\"max_depth\":np.arange(10,101,10)}\n",
        "gbreg = gb(n_estimators = 500,max_features = \"sqrt\",validation_fraction = 0.05,n_iter_no_change = 10,random_state = 20,tol = 0.01)\n",
        "rfReg = GridSearchCV(gbreg,parameters,cv = 5,scoring = \"neg_root_mean_squared_error\")\n",
        "rfReg.fit(X_train,y_train)"
      ],
      "execution_count": 20,
      "outputs": [
        {
          "output_type": "execute_result",
          "data": {
            "text/plain": [
              "GridSearchCV(cv=5, error_score=nan,\n",
              "             estimator=GradientBoostingRegressor(alpha=0.9, ccp_alpha=0.0,\n",
              "                                                 criterion='friedman_mse',\n",
              "                                                 init=None, learning_rate=0.1,\n",
              "                                                 loss='ls', max_depth=3,\n",
              "                                                 max_features='sqrt',\n",
              "                                                 max_leaf_nodes=None,\n",
              "                                                 min_impurity_decrease=0.0,\n",
              "                                                 min_impurity_split=None,\n",
              "                                                 min_samples_leaf=1,\n",
              "                                                 min_samples_split=2,\n",
              "                                                 min_weight_fraction_leaf=0.0,\n",
              "                                                 n_estimators=500,\n",
              "                                                 n_iter_no_change=10,\n",
              "                                                 presort='deprecated',\n",
              "                                                 random_state=20, subsample=1.0,\n",
              "                                                 tol=0.01,\n",
              "                                                 validation_fraction=0.05,\n",
              "                                                 verbose=0, warm_start=False),\n",
              "             iid='deprecated', n_jobs=None,\n",
              "             param_grid={'max_depth': array([ 10,  20,  30,  40,  50,  60,  70,  80,  90, 100])},\n",
              "             pre_dispatch='2*n_jobs', refit=True, return_train_score=False,\n",
              "             scoring='neg_root_mean_squared_error', verbose=0)"
            ]
          },
          "metadata": {
            "tags": []
          },
          "execution_count": 20
        }
      ]
    },
    {
      "cell_type": "code",
      "metadata": {
        "id": "riW-YnS4TVbP",
        "colab_type": "code",
        "colab": {
          "base_uri": "https://localhost:8080/",
          "height": 367
        },
        "outputId": "b9e2b725-d91e-47ef-cb89-ae6fefbb32b3"
      },
      "source": [
        "cv_results = pd.DataFrame(rfReg.cv_results_)\n",
        "cv_results = cv_results.drop(columns = ['params'])\n",
        "cv_results\n",
        "#v_results.to_csv(\"/content/drive/My Drive/TFM/train-test-val/gridsearchcv-results-gb.csv\",index = False)"
      ],
      "execution_count": 23,
      "outputs": [
        {
          "output_type": "execute_result",
          "data": {
            "text/html": [
              "<div>\n",
              "<style scoped>\n",
              "    .dataframe tbody tr th:only-of-type {\n",
              "        vertical-align: middle;\n",
              "    }\n",
              "\n",
              "    .dataframe tbody tr th {\n",
              "        vertical-align: top;\n",
              "    }\n",
              "\n",
              "    .dataframe thead th {\n",
              "        text-align: right;\n",
              "    }\n",
              "</style>\n",
              "<table border=\"1\" class=\"dataframe\">\n",
              "  <thead>\n",
              "    <tr style=\"text-align: right;\">\n",
              "      <th></th>\n",
              "      <th>mean_fit_time</th>\n",
              "      <th>std_fit_time</th>\n",
              "      <th>mean_score_time</th>\n",
              "      <th>std_score_time</th>\n",
              "      <th>param_max_depth</th>\n",
              "      <th>split0_test_score</th>\n",
              "      <th>split1_test_score</th>\n",
              "      <th>split2_test_score</th>\n",
              "      <th>split3_test_score</th>\n",
              "      <th>split4_test_score</th>\n",
              "      <th>mean_test_score</th>\n",
              "      <th>std_test_score</th>\n",
              "      <th>rank_test_score</th>\n",
              "    </tr>\n",
              "  </thead>\n",
              "  <tbody>\n",
              "    <tr>\n",
              "      <th>0</th>\n",
              "      <td>374.787847</td>\n",
              "      <td>31.214115</td>\n",
              "      <td>1.307010</td>\n",
              "      <td>0.098904</td>\n",
              "      <td>10</td>\n",
              "      <td>-24.632899</td>\n",
              "      <td>-13.745773</td>\n",
              "      <td>-13.762028</td>\n",
              "      <td>-9.075303</td>\n",
              "      <td>-5.461938</td>\n",
              "      <td>-13.335588</td>\n",
              "      <td>6.451724</td>\n",
              "      <td>10</td>\n",
              "    </tr>\n",
              "    <tr>\n",
              "      <th>1</th>\n",
              "      <td>69.303643</td>\n",
              "      <td>2.819643</td>\n",
              "      <td>0.789814</td>\n",
              "      <td>0.245146</td>\n",
              "      <td>20</td>\n",
              "      <td>-11.309234</td>\n",
              "      <td>-13.842028</td>\n",
              "      <td>-13.920872</td>\n",
              "      <td>-8.814056</td>\n",
              "      <td>-5.067002</td>\n",
              "      <td>-10.590638</td>\n",
              "      <td>3.342011</td>\n",
              "      <td>1</td>\n",
              "    </tr>\n",
              "    <tr>\n",
              "      <th>2</th>\n",
              "      <td>90.216528</td>\n",
              "      <td>8.583300</td>\n",
              "      <td>1.502949</td>\n",
              "      <td>0.627926</td>\n",
              "      <td>30</td>\n",
              "      <td>-14.147875</td>\n",
              "      <td>-14.124326</td>\n",
              "      <td>-14.175043</td>\n",
              "      <td>-8.991172</td>\n",
              "      <td>-5.148564</td>\n",
              "      <td>-11.317396</td>\n",
              "      <td>3.674845</td>\n",
              "      <td>8</td>\n",
              "    </tr>\n",
              "    <tr>\n",
              "      <th>3</th>\n",
              "      <td>96.167553</td>\n",
              "      <td>10.045795</td>\n",
              "      <td>1.605572</td>\n",
              "      <td>0.689335</td>\n",
              "      <td>40</td>\n",
              "      <td>-14.471448</td>\n",
              "      <td>-14.088459</td>\n",
              "      <td>-14.178181</td>\n",
              "      <td>-9.029074</td>\n",
              "      <td>-5.103885</td>\n",
              "      <td>-11.374209</td>\n",
              "      <td>3.731995</td>\n",
              "      <td>9</td>\n",
              "    </tr>\n",
              "    <tr>\n",
              "      <th>4</th>\n",
              "      <td>97.440792</td>\n",
              "      <td>12.494731</td>\n",
              "      <td>1.648567</td>\n",
              "      <td>0.726944</td>\n",
              "      <td>50</td>\n",
              "      <td>-13.858561</td>\n",
              "      <td>-14.122633</td>\n",
              "      <td>-14.215075</td>\n",
              "      <td>-9.008798</td>\n",
              "      <td>-5.132820</td>\n",
              "      <td>-11.267577</td>\n",
              "      <td>3.641143</td>\n",
              "      <td>7</td>\n",
              "    </tr>\n",
              "    <tr>\n",
              "      <th>5</th>\n",
              "      <td>97.819220</td>\n",
              "      <td>10.554130</td>\n",
              "      <td>1.650695</td>\n",
              "      <td>0.716848</td>\n",
              "      <td>60</td>\n",
              "      <td>-10.740356</td>\n",
              "      <td>-14.101378</td>\n",
              "      <td>-14.188764</td>\n",
              "      <td>-8.992130</td>\n",
              "      <td>-5.129334</td>\n",
              "      <td>-10.630392</td>\n",
              "      <td>3.396097</td>\n",
              "      <td>2</td>\n",
              "    </tr>\n",
              "    <tr>\n",
              "      <th>6</th>\n",
              "      <td>96.174330</td>\n",
              "      <td>9.487433</td>\n",
              "      <td>1.601692</td>\n",
              "      <td>0.680297</td>\n",
              "      <td>70</td>\n",
              "      <td>-10.740356</td>\n",
              "      <td>-14.101541</td>\n",
              "      <td>-14.188764</td>\n",
              "      <td>-8.992130</td>\n",
              "      <td>-5.129334</td>\n",
              "      <td>-10.630425</td>\n",
              "      <td>3.396131</td>\n",
              "      <td>3</td>\n",
              "    </tr>\n",
              "    <tr>\n",
              "      <th>7</th>\n",
              "      <td>96.339122</td>\n",
              "      <td>9.871218</td>\n",
              "      <td>1.617017</td>\n",
              "      <td>0.690480</td>\n",
              "      <td>80</td>\n",
              "      <td>-10.740356</td>\n",
              "      <td>-14.101541</td>\n",
              "      <td>-14.188764</td>\n",
              "      <td>-8.992130</td>\n",
              "      <td>-5.129334</td>\n",
              "      <td>-10.630425</td>\n",
              "      <td>3.396131</td>\n",
              "      <td>3</td>\n",
              "    </tr>\n",
              "    <tr>\n",
              "      <th>8</th>\n",
              "      <td>96.319501</td>\n",
              "      <td>9.524730</td>\n",
              "      <td>1.615577</td>\n",
              "      <td>0.652270</td>\n",
              "      <td>90</td>\n",
              "      <td>-10.740356</td>\n",
              "      <td>-14.101541</td>\n",
              "      <td>-14.188764</td>\n",
              "      <td>-8.992130</td>\n",
              "      <td>-5.129334</td>\n",
              "      <td>-10.630425</td>\n",
              "      <td>3.396131</td>\n",
              "      <td>3</td>\n",
              "    </tr>\n",
              "    <tr>\n",
              "      <th>9</th>\n",
              "      <td>94.726722</td>\n",
              "      <td>10.601826</td>\n",
              "      <td>1.601040</td>\n",
              "      <td>0.663758</td>\n",
              "      <td>100</td>\n",
              "      <td>-10.740356</td>\n",
              "      <td>-14.101541</td>\n",
              "      <td>-14.188764</td>\n",
              "      <td>-8.992130</td>\n",
              "      <td>-5.129334</td>\n",
              "      <td>-10.630425</td>\n",
              "      <td>3.396131</td>\n",
              "      <td>3</td>\n",
              "    </tr>\n",
              "  </tbody>\n",
              "</table>\n",
              "</div>"
            ],
            "text/plain": [
              "   mean_fit_time  std_fit_time  ...  std_test_score  rank_test_score\n",
              "0     374.787847     31.214115  ...        6.451724               10\n",
              "1      69.303643      2.819643  ...        3.342011                1\n",
              "2      90.216528      8.583300  ...        3.674845                8\n",
              "3      96.167553     10.045795  ...        3.731995                9\n",
              "4      97.440792     12.494731  ...        3.641143                7\n",
              "5      97.819220     10.554130  ...        3.396097                2\n",
              "6      96.174330      9.487433  ...        3.396131                3\n",
              "7      96.339122      9.871218  ...        3.396131                3\n",
              "8      96.319501      9.524730  ...        3.396131                3\n",
              "9      94.726722     10.601826  ...        3.396131                3\n",
              "\n",
              "[10 rows x 13 columns]"
            ]
          },
          "metadata": {
            "tags": []
          },
          "execution_count": 23
        }
      ]
    },
    {
      "cell_type": "code",
      "metadata": {
        "id": "LSP0YUvLszzb",
        "colab_type": "code",
        "colab": {}
      },
      "source": [
        "cv_results.to_csv(\"/content/drive/My Drive/TFM/train-test-val/gridsearchcv-results-gb.csv\",index = False)"
      ],
      "execution_count": 0,
      "outputs": []
    },
    {
      "cell_type": "code",
      "metadata": {
        "id": "eRXQsJbETf6c",
        "colab_type": "code",
        "colab": {}
      },
      "source": [
        "bestGB = rfReg.best_estimator_"
      ],
      "execution_count": 0,
      "outputs": []
    },
    {
      "cell_type": "code",
      "metadata": {
        "id": "eHes-7Rgt8V5",
        "colab_type": "code",
        "colab": {
          "base_uri": "https://localhost:8080/",
          "height": 34
        },
        "outputId": "bbd122ed-1daf-4d81-f8fd-118148a2deb1"
      },
      "source": [
        "rfReg.best_params_"
      ],
      "execution_count": 38,
      "outputs": [
        {
          "output_type": "execute_result",
          "data": {
            "text/plain": [
              "{'max_depth': 20}"
            ]
          },
          "metadata": {
            "tags": []
          },
          "execution_count": 38
        }
      ]
    },
    {
      "cell_type": "code",
      "metadata": {
        "id": "VppVqEeqTjoN",
        "colab_type": "code",
        "colab": {}
      },
      "source": [
        "fidf = pd.DataFrame({\"feature\":X_A.columns,\"feature_importances\":bestGB.feature_importances_})\n",
        "fidf.to_csv(\"/content/drive/My Drive/TFM/train-test-val/feature-importances-gb.csv\",index = False)"
      ],
      "execution_count": 0,
      "outputs": []
    },
    {
      "cell_type": "code",
      "metadata": {
        "id": "pH_l9i1oTuiB",
        "colab_type": "code",
        "colab": {}
      },
      "source": [
        "y_pred_A = bestGB.predict(scaler.transform(X_test_A))\n",
        "y_pred_B = bestGB.predict(scaler.transform(X_test_B))\n",
        "y_pred_C = bestGB.predict(scaler.transform(X_test_C))\n",
        "y_pred_G = bestGB.predict(scaler.transform(X_test_G))\n",
        "\n",
        "ys_A = pd.DataFrame({\"y_test\":y_test_A,\"y_pred\":y_pred_A})\n",
        "ys_B = pd.DataFrame({\"y_test\":y_test_B,\"y_pred\":y_pred_B})\n",
        "ys_C = pd.DataFrame({\"y_test\":y_test_C,\"y_pred\":y_pred_C})\n",
        "ys_G = pd.DataFrame({\"y_test\":y_test_G,\"y_pred\":y_pred_G})\n",
        "\n",
        "ys_A.to_csv(\"/content/drive/My Drive/TFM/train-test-val/ytest-ypred-A-GB.csv\",index = False)\n",
        "ys_B.to_csv(\"/content/drive/My Drive/TFM/train-test-val/ytest-ypred-B-GB.csv\",index = False)\n",
        "ys_C.to_csv(\"/content/drive/My Drive/TFM/train-test-val/ytest-ypred-C-GB.csv\",index = False)\n",
        "ys_G.to_csv(\"/content/drive/My Drive/TFM/train-test-val/ytest-ypred-G-GB.csv\",index = False)"
      ],
      "execution_count": 0,
      "outputs": []
    },
    {
      "cell_type": "code",
      "metadata": {
        "id": "Syb_DbXgpgty",
        "colab_type": "code",
        "outputId": "5a355407-c217-4922-c52e-c326ec435a50",
        "colab": {
          "base_uri": "https://localhost:8080/",
          "height": 87
        }
      },
      "source": [
        "print(\"Alto-Lindoso = R2: %0.2f, RMSE %0.3f\" % (r2(y_test_A,y_pred_A),mse(y_test_A,y_pred_A,squared = False)))\n",
        "print(\"Bubal = R2: %0.2f, RMSE %0.3f\" % (r2(y_test_B,y_pred_B),mse(y_test_B,y_pred_B,squared = False)))\n",
        "print(\"Canelles = R2: %0.2f, RMSE %0.3f\" % (r2(y_test_C,y_pred_C),mse(y_test_C,y_pred_C,squared = False)))\n",
        "print(\"Grado = R2: %0.2f, RMSE %0.3f\" % (r2(y_test_G,y_pred_G),mse(y_test_G,y_pred_G,squared = False)))"
      ],
      "execution_count": 28,
      "outputs": [
        {
          "output_type": "stream",
          "text": [
            "Alto-Lindoso = R2: 0.72, RMSE 7.949\n",
            "Bubal = R2: 0.87, RMSE 3.410\n",
            "Canelles = R2: 0.77, RMSE 13.481\n",
            "Grado = R2: 0.92, RMSE 4.368\n"
          ],
          "name": "stdout"
        }
      ]
    },
    {
      "cell_type": "code",
      "metadata": {
        "id": "M6yC17MoUDb0",
        "colab_type": "code",
        "colab": {}
      },
      "source": [
        "y_test = np.array(pd.concat([y_test_A,y_test_B,y_test_C,y_test_G]))\n",
        "y_pred = np.concatenate((y_pred_A,y_pred_B,y_pred_C,y_pred_G))"
      ],
      "execution_count": 0,
      "outputs": []
    },
    {
      "cell_type": "code",
      "metadata": {
        "id": "ybRUg9D5UGla",
        "colab_type": "code",
        "colab": {
          "base_uri": "https://localhost:8080/",
          "height": 34
        },
        "outputId": "4a699e8b-95de-463c-84a6-0f6e5bce3dfa"
      },
      "source": [
        "print(\"Total = R2: %0.2f, RMSE %0.3f\" % (r2(y_test,y_pred),mse(y_test,y_pred,squared = False)))"
      ],
      "execution_count": 30,
      "outputs": [
        {
          "output_type": "stream",
          "text": [
            "Total = R2: 0.82, RMSE 10.159\n"
          ],
          "name": "stdout"
        }
      ]
    },
    {
      "cell_type": "code",
      "metadata": {
        "id": "LjjiB2k_UJi_",
        "colab_type": "code",
        "colab": {
          "base_uri": "https://localhost:8080/",
          "height": 282
        },
        "outputId": "5046093a-d901-44d0-9cdb-de7b7f908697"
      },
      "source": [
        "rmseDepth = rmseByDepth(y_test,y_pred)\n",
        "rmseDepth.to_csv(\"/content/drive/My Drive/TFM/train-test-val/depth-rmse-GB.csv\",index = False)\n",
        "plt.scatter(rmseDepth['h'],rmseDepth['rmse'])"
      ],
      "execution_count": 31,
      "outputs": [
        {
          "output_type": "execute_result",
          "data": {
            "text/plain": [
              "<matplotlib.collections.PathCollection at 0x7fce675a4a20>"
            ]
          },
          "metadata": {
            "tags": []
          },
          "execution_count": 31
        },
        {
          "output_type": "display_data",
          "data": {
            "image/png": "[encoded data removed]",
            "text/plain": [
              "<Figure size 432x288 with 1 Axes>"
            ]
          },
          "metadata": {
            "tags": [],
            "needs_background": "light"
          }
        }
      ]
    },
    {
      "cell_type": "code",
      "metadata": {
        "id": "Ezdw8WdYUQhx",
        "colab_type": "code",
        "colab": {}
      },
      "source": [
        "ys = pd.DataFrame({\"y_test\":y_test,\"y_pred\":y_pred})\n",
        "ys.to_csv(\"/content/drive/My Drive/TFM/train-test-val/ytest-ypred-GLOBAL-GB.csv\",index = False)"
      ],
      "execution_count": 0,
      "outputs": []
    },
    {
      "cell_type": "code",
      "metadata": {
        "id": "buLcA_zZUVn0",
        "colab_type": "code",
        "colab": {}
      },
      "source": [
        "data_A['z_pred'] = bestGB.predict(scaler.transform(X_A))\n",
        "data_B['z_pred'] = bestGB.predict(scaler.transform(X_B))\n",
        "data_C['z_pred'] = bestGB.predict(scaler.transform(X_C))\n",
        "data_G['z_pred'] = bestGB.predict(scaler.transform(X_G))"
      ],
      "execution_count": 0,
      "outputs": []
    },
    {
      "cell_type": "code",
      "metadata": {
        "id": "9KQ1ToSGUgKh",
        "colab_type": "code",
        "colab": {}
      },
      "source": [
        "data_A.to_csv(\"/content/drive/My Drive/TFM/train-test-val/data-all-A-GB.csv\",index = False)\n",
        "data_B.to_csv(\"/content/drive/My Drive/TFM/train-test-val/data-all-B-GB.csv\",index = False)\n",
        "data_C.to_csv(\"/content/drive/My Drive/TFM/train-test-val/data-all-C-GB.csv\",index = False)\n",
        "data_G.to_csv(\"/content/drive/My Drive/TFM/train-test-val/data-all-G-GB.csv\",index = False)"
      ],
      "execution_count": 0,
      "outputs": []
    },
    {
      "cell_type": "code",
      "metadata": {
        "id": "0Uuj4ZY4UqRo",
        "colab_type": "code",
        "colab": {
          "base_uri": "https://localhost:8080/",
          "height": 282
        },
        "outputId": "e485be4b-057e-4fd4-d9b0-c70417f1d0d1"
      },
      "source": [
        "plt.scatter(y_test,y_pred)"
      ],
      "execution_count": 35,
      "outputs": [
        {
          "output_type": "execute_result",
          "data": {
            "text/plain": [
              "<matplotlib.collections.PathCollection at 0x7fce674da128>"
            ]
          },
          "metadata": {
            "tags": []
          },
          "execution_count": 35
        },
        {
          "output_type": "display_data",
          "data": {
            "image/png": "[encoded data removed]",
            "text/plain": [
              "<Figure size 432x288 with 1 Axes>"
            ]
          },
          "metadata": {
            "tags": [],
            "needs_background": "light"
          }
        }
      ]
    },
    {
      "cell_type": "code",
      "metadata": {
        "id": "cJQ0L-wLsIg-",
        "colab_type": "code",
        "outputId": "75629c65-e859-456e-9562-8a169274addd",
        "colab": {
          "base_uri": "https://localhost:8080/",
          "height": 34
        }
      },
      "source": [
        "bestGB.n_estimators_"
      ],
      "execution_count": 36,
      "outputs": [
        {
          "output_type": "execute_result",
          "data": {
            "text/plain": [
              "47"
            ]
          },
          "metadata": {
            "tags": []
          },
          "execution_count": 36
        }
      ]
    },
    {
      "cell_type": "code",
      "metadata": {
        "id": "pnzrWyTXp5Lu",
        "colab_type": "code",
        "outputId": "63936f87-cb7c-4d5e-f379-9d3c3e700eec",
        "colab": {
          "base_uri": "https://localhost:8080/",
          "height": 282
        }
      },
      "source": [
        "score_estimators = pd.DataFrame({\"estimator\":np.arange(0,bestGB.train_score_.shape[0],1),\"score\":bestGB.train_score_})\n",
        "score_estimators.to_csv(\"/content/drive/My Drive/TFM/train-test-val/score-estimators-gb.csv\",index = False)\n",
        "plt.scatter(score_estimators['estimator'],score_estimators['score'])"
      ],
      "execution_count": 37,
      "outputs": [
        {
          "output_type": "execute_result",
          "data": {
            "text/plain": [
              "<matplotlib.collections.PathCollection at 0x7fce674b8cc0>"
            ]
          },
          "metadata": {
            "tags": []
          },
          "execution_count": 37
        },
        {
          "output_type": "display_data",
          "data": {
            "image/png": "[encoded data removed]",
            "text/plain": [
              "<Figure size 432x288 with 1 Axes>"
            ]
          },
          "metadata": {
            "tags": [],
            "needs_background": "light"
          }
        }
      ]
    },
    {
      "cell_type": "code",
      "metadata": {
        "id": "NPy9Db0IusBj",
        "colab_type": "code",
        "colab": {}
      },
      "source": [
        ""
      ],
      "execution_count": 0,
      "outputs": []
    }
  ]
}