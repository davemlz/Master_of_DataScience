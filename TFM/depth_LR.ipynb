{
  "nbformat": 4,
  "nbformat_minor": 0,
  "metadata": {
    "kernelspec": {
      "display_name": "Python 3",
      "language": "python",
      "name": "python3"
    },
    "language_info": {
      "codemirror_mode": {
        "name": "ipython",
        "version": 3
      },
      "file_extension": ".py",
      "mimetype": "text/x-python",
      "name": "python",
      "nbconvert_exporter": "python",
      "pygments_lexer": "ipython3",
      "version": "3.7.6"
    },
    "colab": {
      "name": "depth_LR.ipynb",
      "provenance": []
    }
  },
  "cells": [
    {
      "cell_type": "code",
      "metadata": {
        "id": "2auMEw7C5nhH",
        "colab_type": "code",
        "outputId": "d3cf5d53-6148-4e00-e4b4-5f6b1c96b595",
        "colab": {
          "base_uri": "https://localhost:8080/",
          "height": 72
        }
      },
      "source": [
        "import numpy as np\n",
        "import pandas as pd\n",
        "\n",
        "from sklearn.model_selection import GridSearchCV, train_test_split,cross_validate\n",
        "from sklearn.ensemble import RandomForestRegressor as rf\n",
        "from sklearn.linear_model import LinearRegression, Lasso\n",
        "from sklearn.metrics import mean_squared_error as mse\n",
        "from sklearn.metrics import r2_score as r2\n",
        "from sklearn.preprocessing import StandardScaler\n",
        "\n",
        "from matplotlib import pyplot as plt\n",
        "import seaborn as sns"
      ],
      "execution_count": 4,
      "outputs": [
        {
          "output_type": "stream",
          "text": [
            "/usr/local/lib/python3.6/dist-packages/statsmodels/tools/_testing.py:19: FutureWarning: pandas.util.testing is deprecated. Use the functions in the public API at pandas.testing instead.\n",
            "  import pandas.util.testing as tm\n"
          ],
          "name": "stderr"
        }
      ]
    },
    {
      "cell_type": "code",
      "metadata": {
        "id": "mD-ObxCk5nhL",
        "colab_type": "code",
        "colab": {}
      },
      "source": [
        "def rmseByDepth(y_test,y_pred,h = 2.5,delta = 2.5,jump = 5,maxh = 110):\n",
        "\n",
        "    hList = []\n",
        "    rmseList = []\n",
        "    df = pd.DataFrame()\n",
        "\n",
        "    while h < maxh:\n",
        "        hList.append(h)\n",
        "        idx = np.where((y_test >= h - delta) & (y_test < h + delta))\n",
        "        rmse = mse(y_test[idx],y_pred[idx],squared = False)\n",
        "        rmseList.append(rmse)        \n",
        "        h = h + jump\n",
        "    \n",
        "    df['h'] = hList\n",
        "    df['rmse'] = rmseList\n",
        "    \n",
        "    return df"
      ],
      "execution_count": 0,
      "outputs": []
    },
    {
      "cell_type": "code",
      "metadata": {
        "id": "Fzoqefn05zsG",
        "colab_type": "code",
        "outputId": "010b9ec6-a013-4ba1-cb3a-591b6ca58117",
        "colab": {
          "base_uri": "https://localhost:8080/",
          "height": 34
        }
      },
      "source": [
        "from google.colab import drive\n",
        "\n",
        "drive.mount('/content/drive')"
      ],
      "execution_count": 6,
      "outputs": [
        {
          "output_type": "stream",
          "text": [
            "Drive already mounted at /content/drive; to attempt to forcibly remount, call drive.mount(\"/content/drive\", force_remount=True).\n"
          ],
          "name": "stdout"
        }
      ]
    },
    {
      "cell_type": "code",
      "metadata": {
        "id": "PN58SpaU51PM",
        "colab_type": "code",
        "colab": {}
      },
      "source": [
        "data_A = pd.read_csv(\"/content/drive/My Drive/TFM/train-test-val/data_AL.csv\")\n",
        "data_B = pd.read_csv(\"/content/drive/My Drive/TFM/train-test-val/data_B.csv\")\n",
        "data_C = pd.read_csv(\"/content/drive/My Drive/TFM/train-test-val/data_C.csv\")\n",
        "data_G = pd.read_csv(\"/content/drive/My Drive/TFM/train-test-val/data_G.csv\")"
      ],
      "execution_count": 0,
      "outputs": []
    },
    {
      "cell_type": "code",
      "metadata": {
        "id": "n-T9ym__5nhQ",
        "colab_type": "code",
        "colab": {}
      },
      "source": [
        "data_A = pd.read_csv(\"C:/Users/Dave Mont/Desktop/Master_of_DataScience/TFM/Results/depth_estimation/train-test-val/data_AL.csv\")\n",
        "data_B = pd.read_csv(\"C:/Users/Dave Mont/Desktop/Master_of_DataScience/TFM/Results/depth_estimation/train-test-val/data_B.csv\")\n",
        "data_C = pd.read_csv(\"C:/Users/Dave Mont/Desktop/Master_of_DataScience/TFM/Results/depth_estimation/train-test-val/data_C.csv\")\n",
        "data_G = pd.read_csv(\"C:/Users/Dave Mont/Desktop/Master_of_DataScience/TFM/Results/depth_estimation/train-test-val/data_G.csv\")"
      ],
      "execution_count": 0,
      "outputs": []
    },
    {
      "cell_type": "code",
      "metadata": {
        "id": "PaeUZzp55nhT",
        "colab_type": "code",
        "colab": {}
      },
      "source": [
        "X_A = data_A.iloc[:,3:]\n",
        "y_A = data_A.iloc[:,0]\n",
        "\n",
        "X_B = data_B.iloc[:,3:]\n",
        "y_B = data_B.iloc[:,0]\n",
        "\n",
        "X_C = data_C.iloc[:,3:]\n",
        "y_C = data_C.iloc[:,0]\n",
        "\n",
        "X_G = data_G.iloc[:,3:]\n",
        "y_G = data_G.iloc[:,0]\n",
        "\n",
        "X_train_A, X_test_A, y_train_A, y_test_A = train_test_split(X_A,y_A,test_size = 0.05,random_state = 20)\n",
        "X_train_B, X_test_B, y_train_B, y_test_B = train_test_split(X_B,y_B,test_size = 0.05,random_state = 20)\n",
        "X_train_C, X_test_C, y_train_C, y_test_C = train_test_split(X_C,y_C,test_size = 0.05,random_state = 20)\n",
        "X_train_G, X_test_G, y_train_G, y_test_G = train_test_split(X_G,y_G,test_size = 0.05,random_state = 20)"
      ],
      "execution_count": 0,
      "outputs": []
    },
    {
      "cell_type": "code",
      "metadata": {
        "id": "W1QInQb-5nhX",
        "colab_type": "code",
        "colab": {}
      },
      "source": [
        "X_train = pd.concat([X_train_A,X_train_B,X_train_C,X_train_G])\n",
        "y_train = pd.concat([y_train_A,y_train_B,y_train_C,y_train_G])\n",
        "y_test = np.array(pd.concat([y_test_A,y_test_B,y_test_C,y_test_G]))"
      ],
      "execution_count": 0,
      "outputs": []
    },
    {
      "cell_type": "code",
      "metadata": {
        "id": "q5yU0mlz5nhc",
        "colab_type": "code",
        "colab": {}
      },
      "source": [
        "scaler = StandardScaler().fit(X_train)\n",
        "X_train = scaler.transform(X_train)"
      ],
      "execution_count": 0,
      "outputs": []
    },
    {
      "cell_type": "markdown",
      "metadata": {
        "id": "9NRFYPGg5nhf",
        "colab_type": "text"
      },
      "source": [
        "# Linear Regression (LR)"
      ]
    },
    {
      "cell_type": "code",
      "metadata": {
        "id": "6keVrsjO5nhg",
        "colab_type": "code",
        "colab": {}
      },
      "source": [
        "cv_results = pd.DataFrame(cross_validate(LinearRegression(),X_train,y_train,cv = 10,scoring = [\"neg_root_mean_squared_error\",\"r2\"]))\n",
        "cv_results['test_neg_root_mean_squared_error'] = cv_results['test_neg_root_mean_squared_error']*-1"
      ],
      "execution_count": 0,
      "outputs": []
    },
    {
      "cell_type": "code",
      "metadata": {
        "id": "9HCG_PSN5nhk",
        "colab_type": "code",
        "outputId": "bf5c4b3d-aa77-441a-fde2-a6b9496bafac",
        "colab": {}
      },
      "source": [
        "rmse_mean = cv_results['test_neg_root_mean_squared_error'].mean()\n",
        "rmse_std = cv_results['test_neg_root_mean_squared_error'].std()\n",
        "print(\"RMSE: %0.3f +/- %0.3f\" % (rmse_mean,rmse_std/np.sqrt(10)))"
      ],
      "execution_count": 0,
      "outputs": [
        {
          "output_type": "stream",
          "text": [
            "RMSE: 14.810 +/- 1.294\n"
          ],
          "name": "stdout"
        }
      ]
    },
    {
      "cell_type": "code",
      "metadata": {
        "id": "Se_X7pu_5nhn",
        "colab_type": "code",
        "colab": {}
      },
      "source": [
        "reg = LinearRegression().fit(X_train,y_train)"
      ],
      "execution_count": 0,
      "outputs": []
    },
    {
      "cell_type": "code",
      "metadata": {
        "id": "RM3ro04-5nhq",
        "colab_type": "code",
        "colab": {}
      },
      "source": [
        "y_pred_A = reg.predict(scaler.transform(X_test_A))\n",
        "y_pred_B = reg.predict(scaler.transform(X_test_B))\n",
        "y_pred_C = reg.predict(scaler.transform(X_test_C))\n",
        "y_pred_G = reg.predict(scaler.transform(X_test_G))"
      ],
      "execution_count": 0,
      "outputs": []
    },
    {
      "cell_type": "code",
      "metadata": {
        "id": "hPw1_wl75nhs",
        "colab_type": "code",
        "outputId": "ced80621-7467-427d-9b73-e8a9743a6b24",
        "colab": {}
      },
      "source": [
        "print(\"Alto-Lindoso = R2: %0.2f, RMSE %0.3f\" % (r2(y_test_A,y_pred_A),mse(y_test_A,y_pred_A,squared = False)))\n",
        "print(\"Bubal = R2: %0.2f, RMSE %0.3f\" % (r2(y_test_B,y_pred_B),mse(y_test_B,y_pred_B,squared = False)))\n",
        "print(\"Canelles = R2: %0.2f, RMSE %0.3f\" % (r2(y_test_C,y_pred_C),mse(y_test_C,y_pred_C,squared = False)))\n",
        "print(\"Grado = R2: %0.2f, RMSE %0.3f\" % (r2(y_test_G,y_pred_G),mse(y_test_G,y_pred_G,squared = False)))"
      ],
      "execution_count": 0,
      "outputs": [
        {
          "output_type": "stream",
          "text": [
            "Alto-Lindoso = R2: 0.53, RMSE 10.269\n",
            "Bubal = R2: 0.04, RMSE 9.245\n",
            "Canelles = R2: 0.55, RMSE 19.061\n",
            "Grado = R2: 0.53, RMSE 10.656\n"
          ],
          "name": "stdout"
        }
      ]
    },
    {
      "cell_type": "code",
      "metadata": {
        "id": "eKbtZLP45nhv",
        "colab_type": "code",
        "colab": {}
      },
      "source": [
        "y_pred = np.concatenate((y_pred_A,y_pred_B,y_pred_C,y_pred_G))"
      ],
      "execution_count": 0,
      "outputs": []
    },
    {
      "cell_type": "code",
      "metadata": {
        "id": "R8EJKMj05nhy",
        "colab_type": "code",
        "outputId": "c9f4b678-974e-4ca2-8939-692c8acaf912",
        "colab": {}
      },
      "source": [
        "print(\"Total = R2: %0.2f, RMSE %0.3f\" % (r2(y_test,y_pred),mse(y_test,y_pred,squared = False)))"
      ],
      "execution_count": 0,
      "outputs": [
        {
          "output_type": "stream",
          "text": [
            "Total = R2: 0.60, RMSE 15.170\n"
          ],
          "name": "stdout"
        }
      ]
    },
    {
      "cell_type": "code",
      "metadata": {
        "id": "i6XLFoma5nh1",
        "colab_type": "code",
        "outputId": "34743a1a-5fac-4e2b-e4b2-4a93a06098a5",
        "colab": {}
      },
      "source": [
        "rmseDepth = rmseByDepth(y_test,y_pred)\n",
        "rmseDepth.to_csv(\"C:/Users/Dave Mont/Desktop/Master_of_DataScience/TFM/Results/depth_estimation/test-results/depth-rmse-LR.csv\",index = False)\n",
        "plt.scatter(rmseDepth['h'],rmseDepth['rmse'])"
      ],
      "execution_count": 0,
      "outputs": [
        {
          "output_type": "execute_result",
          "data": {
            "text/plain": [
              "<matplotlib.collections.PathCollection at 0x166802cb888>"
            ]
          },
          "metadata": {
            "tags": []
          },
          "execution_count": 135
        },
        {
          "output_type": "display_data",
          "data": {
            "image/png": "[encoded data removed]",
            "text/plain": [
              "<Figure size 432x288 with 1 Axes>"
            ]
          },
          "metadata": {
            "tags": [],
            "needs_background": "light"
          }
        }
      ]
    },
    {
      "cell_type": "markdown",
      "metadata": {
        "id": "_XwOTMJB5nh3",
        "colab_type": "text"
      },
      "source": [
        "# Random Forest (RF)"
      ]
    },
    {
      "cell_type": "code",
      "metadata": {
        "id": "o4q8DI36Mu3J",
        "colab_type": "code",
        "outputId": "8128ef6f-50c3-4e06-c14c-345b4f96448d",
        "colab": {
          "base_uri": "https://localhost:8080/",
          "height": 34
        }
      },
      "source": [
        "((np.arange(150,250,10)*0.8*3).sum()/60)/60"
      ],
      "execution_count": 12,
      "outputs": [
        {
          "output_type": "execute_result",
          "data": {
            "text/plain": [
              "1.3"
            ]
          },
          "metadata": {
            "tags": []
          },
          "execution_count": 12
        }
      ]
    },
    {
      "cell_type": "code",
      "metadata": {
        "id": "FH47FIye-iTn",
        "colab_type": "code",
        "outputId": "08cb18d4-9ac6-4f7c-c320-ba6c0b39cce6",
        "colab": {
          "base_uri": "https://localhost:8080/",
          "height": 34
        }
      },
      "source": [
        "((np.array([10,20,50,100,200])*4.3*5).sum()/60 + (np.array([10,20,50,100,200])*1.03*5).sum()/60)/60"
      ],
      "execution_count": 0,
      "outputs": [
        {
          "output_type": "execute_result",
          "data": {
            "text/plain": [
              "2.8130555555555556"
            ]
          },
          "metadata": {
            "tags": []
          },
          "execution_count": 30
        }
      ]
    },
    {
      "cell_type": "code",
      "metadata": {
        "id": "HcWiRiwrMhAi",
        "colab_type": "code",
        "outputId": "c7b46247-eafc-41d8-d5e7-21f54d827284",
        "colab": {
          "base_uri": "https://localhost:8080/",
          "height": 354
        }
      },
      "source": [
        "parameters = {\"n_estimators\":[100,200,300,400,500],\"max_features\":[\"auto\",\"sqrt\"]}\n",
        "rfReg = GridSearchCV(rf(),parameters,cv = 3,scoring = \"neg_root_mean_squared_error\")\n",
        "rfReg.fit(X_train,y_train)"
      ],
      "execution_count": 18,
      "outputs": [
        {
          "output_type": "execute_result",
          "data": {
            "text/plain": [
              "GridSearchCV(cv=3, error_score=nan,\n",
              "             estimator=RandomForestRegressor(bootstrap=True, ccp_alpha=0.0,\n",
              "                                             criterion='mse', max_depth=None,\n",
              "                                             max_features='auto',\n",
              "                                             max_leaf_nodes=None,\n",
              "                                             max_samples=None,\n",
              "                                             min_impurity_decrease=0.0,\n",
              "                                             min_impurity_split=None,\n",
              "                                             min_samples_leaf=1,\n",
              "                                             min_samples_split=2,\n",
              "                                             min_weight_fraction_leaf=0.0,\n",
              "                                             n_estimators=100, n_jobs=None,\n",
              "                                             oob_score=False, random_state=None,\n",
              "                                             verbose=0, warm_start=False),\n",
              "             iid='deprecated', n_jobs=None,\n",
              "             param_grid={'max_features': ['auto', 'sqrt'],\n",
              "                         'n_estimators': [100, 200, 300, 400, 500]},\n",
              "             pre_dispatch='2*n_jobs', refit=True, return_train_score=False,\n",
              "             scoring='neg_root_mean_squared_error', verbose=0)"
            ]
          },
          "metadata": {
            "tags": []
          },
          "execution_count": 18
        }
      ]
    },
    {
      "cell_type": "code",
      "metadata": {
        "id": "5ohVVsWRvP6h",
        "colab_type": "code",
        "colab": {}
      },
      "source": [
        "cv_results = pd.DataFrame(rfReg.cv_results_)\n",
        "cv_results = cv_results.drop(columns = ['params'])\n",
        "cv_results.to_csv(\"/content/drive/My Drive/TFM/train-test-val/gridsearchcv-results-rf-1.csv\",index = False)"
      ],
      "execution_count": 0,
      "outputs": []
    },
    {
      "cell_type": "code",
      "metadata": {
        "id": "LRpgRLFuwTO_",
        "colab_type": "code",
        "colab": {}
      },
      "source": [
        "from joblib import dump, load\n",
        "\n",
        "dump(rfReg.best_estimator_,'/content/drive/My Drive/TFM/train-test-val/rf-200-sqrt.joblib')\n",
        "clf = load('/content/drive/My Drive/TFM/train-test-val/rf-200-sqrt.joblib') "
      ],
      "execution_count": 0,
      "outputs": []
    },
    {
      "cell_type": "code",
      "metadata": {
        "id": "mpuK-tJd5nh-",
        "colab_type": "code",
        "colab": {}
      },
      "source": [
        "bestRF = rfReg.best_estimator_"
      ],
      "execution_count": 0,
      "outputs": []
    },
    {
      "cell_type": "code",
      "metadata": {
        "id": "DKRp5-Ie5niA",
        "colab_type": "code",
        "colab": {}
      },
      "source": [
        "y_pred_A = bestRF.predict(scaler.transform(X_test_A))\n",
        "y_pred_B = bestRF.predict(scaler.transform(X_test_B))\n",
        "y_pred_C = bestRF.predict(scaler.transform(X_test_C))\n",
        "y_pred_G = bestRF.predict(scaler.transform(X_test_G))"
      ],
      "execution_count": 0,
      "outputs": []
    },
    {
      "cell_type": "code",
      "metadata": {
        "id": "Hjg8jGRH5niD",
        "colab_type": "code",
        "outputId": "238e3d95-817d-4b2e-b6c8-225f82ea3dd5",
        "colab": {
          "base_uri": "https://localhost:8080/",
          "height": 87
        }
      },
      "source": [
        "print(\"Alto-Lindoso = R2: %0.2f, RMSE %0.3f\" % (r2(y_test_A,y_pred_A),mse(y_test_A,y_pred_A,squared = False)))\n",
        "print(\"Bubal = R2: %0.2f, RMSE %0.3f\" % (r2(y_test_B,y_pred_B),mse(y_test_B,y_pred_B,squared = False)))\n",
        "print(\"Canelles = R2: %0.2f, RMSE %0.3f\" % (r2(y_test_C,y_pred_C),mse(y_test_C,y_pred_C,squared = False)))\n",
        "print(\"Grado = R2: %0.2f, RMSE %0.3f\" % (r2(y_test_G,y_pred_G),mse(y_test_G,y_pred_G,squared = False)))"
      ],
      "execution_count": 23,
      "outputs": [
        {
          "output_type": "stream",
          "text": [
            "Alto-Lindoso = R2: 0.72, RMSE 7.864\n",
            "Bubal = R2: 0.87, RMSE 3.401\n",
            "Canelles = R2: 0.78, RMSE 13.277\n",
            "Grado = R2: 0.92, RMSE 4.418\n"
          ],
          "name": "stdout"
        }
      ]
    },
    {
      "cell_type": "code",
      "metadata": {
        "id": "E1XC9Lte5niJ",
        "colab_type": "code",
        "colab": {}
      },
      "source": [
        "y_test = np.array(pd.concat([y_test_A,y_test_B,y_test_C,y_test_G]))\n",
        "y_pred = np.concatenate((y_pred_A,y_pred_B,y_pred_C,y_pred_G))"
      ],
      "execution_count": 0,
      "outputs": []
    },
    {
      "cell_type": "code",
      "metadata": {
        "id": "CIy3B4Va5niL",
        "colab_type": "code",
        "outputId": "d42c02d5-102c-4b7e-87a0-3e0f0bebaa17",
        "colab": {
          "base_uri": "https://localhost:8080/",
          "height": 34
        }
      },
      "source": [
        "print(\"Total = R2: %0.2f, RMSE %0.3f\" % (r2(y_test,y_pred),mse(y_test,y_pred,squared = False)))"
      ],
      "execution_count": 25,
      "outputs": [
        {
          "output_type": "stream",
          "text": [
            "Total = R2: 0.82, RMSE 10.027\n"
          ],
          "name": "stdout"
        }
      ]
    },
    {
      "cell_type": "code",
      "metadata": {
        "id": "UmCXig8m5niO",
        "colab_type": "code",
        "outputId": "5b9f56e5-0001-4862-b8ee-f82a2b6e8af4",
        "colab": {
          "base_uri": "https://localhost:8080/",
          "height": 284
        }
      },
      "source": [
        "h = 2.5\n",
        "delta = 2.5\n",
        "jump = 5\n",
        "\n",
        "hList = []\n",
        "rmseList = []\n",
        "\n",
        "while h < 110:\n",
        "    hList.append(h)\n",
        "    idx = np.where((y_test > h - delta) & (y_test < h + delta))\n",
        "    rmse = mse(y_test[idx],y_pred[idx],squared = False)\n",
        "    rmseList.append(rmse)\n",
        "    #print(\"[%0.0f-%0.0f]: RMSE %0.3f\" % (h - delta,h + delta,rmse))\n",
        "    h = h + jump\n",
        "\n",
        "plt.scatter(hList,rmseList)"
      ],
      "execution_count": 26,
      "outputs": [
        {
          "output_type": "execute_result",
          "data": {
            "text/plain": [
              "<matplotlib.collections.PathCollection at 0x7fddfb188f98>"
            ]
          },
          "metadata": {
            "tags": []
          },
          "execution_count": 26
        },
        {
          "output_type": "display_data",
          "data": {
            "image/png": "[encoded data removed]",
            "text/plain": [
              "<Figure size 432x288 with 1 Axes>"
            ]
          },
          "metadata": {
            "tags": [],
            "needs_background": "light"
          }
        }
      ]
    },
    {
      "cell_type": "code",
      "metadata": {
        "id": "u2FR9VgUsSc5",
        "colab_type": "code",
        "colab": {}
      },
      "source": [
        ""
      ],
      "execution_count": 0,
      "outputs": []
    }
  ]
}