{
  "nbformat": 4,
  "nbformat_minor": 0,
  "metadata": {
    "colab": {
      "name": "depth_LR.ipynb",
      "provenance": []
    },
    "kernelspec": {
      "display_name": "Python 3",
      "language": "python",
      "name": "python3"
    },
    "language_info": {
      "codemirror_mode": {
        "name": "ipython",
        "version": 3
      },
      "file_extension": ".py",
      "mimetype": "text/x-python",
      "name": "python",
      "nbconvert_exporter": "python",
      "pygments_lexer": "ipython3",
      "version": "3.7.6"
    }
  },
  "cells": [
    {
      "cell_type": "code",
      "metadata": {
        "colab_type": "code",
        "id": "2auMEw7C5nhH",
        "outputId": "83c42383-5ee9-449c-c25c-fa860dccc0bc",
        "colab": {
          "base_uri": "https://localhost:8080/",
          "height": 72
        }
      },
      "source": [
        "import numpy as np\n",
        "import pandas as pd\n",
        "\n",
        "from sklearn.model_selection import GridSearchCV, train_test_split,cross_validate\n",
        "from sklearn.ensemble import RandomForestRegressor as rf\n",
        "from sklearn.ensemble import GradientBoostingRegressor as gb\n",
        "from sklearn.linear_model import LinearRegression, Lasso\n",
        "from sklearn.metrics import mean_squared_error as mse\n",
        "from sklearn.metrics import r2_score as r2\n",
        "from sklearn.preprocessing import StandardScaler\n",
        "\n",
        "from matplotlib import pyplot as plt\n",
        "import seaborn as sns"
      ],
      "execution_count": 1,
      "outputs": [
        {
          "output_type": "stream",
          "text": [
            "/usr/local/lib/python3.6/dist-packages/statsmodels/tools/_testing.py:19: FutureWarning: pandas.util.testing is deprecated. Use the functions in the public API at pandas.testing instead.\n",
            "  import pandas.util.testing as tm\n"
          ],
          "name": "stderr"
        }
      ]
    },
    {
      "cell_type": "code",
      "metadata": {
        "colab_type": "code",
        "id": "mD-ObxCk5nhL",
        "colab": {}
      },
      "source": [
        "def rmseByDepth(y_test,y_pred,h = 2.5,delta = 2.5,jump = 5,maxh = 110):\n",
        "\n",
        "    hList = []\n",
        "    rmseList = []\n",
        "    df = pd.DataFrame()\n",
        "\n",
        "    while h < maxh:\n",
        "        hList.append(h)\n",
        "        idx = np.where((y_test >= h - delta) & (y_test < h + delta))\n",
        "        rmse = mse(y_test[idx],y_pred[idx],squared = False)\n",
        "        rmseList.append(rmse)        \n",
        "        h = h + jump\n",
        "    \n",
        "    df['h'] = hList\n",
        "    df['rmse'] = rmseList\n",
        "    \n",
        "    return df"
      ],
      "execution_count": 0,
      "outputs": []
    },
    {
      "cell_type": "code",
      "metadata": {
        "colab_type": "code",
        "id": "Fzoqefn05zsG",
        "outputId": "8df88232-115a-443d-e911-34e2def87622",
        "colab": {
          "base_uri": "https://localhost:8080/",
          "height": 34
        }
      },
      "source": [
        "from google.colab import drive\n",
        "\n",
        "drive.mount('/content/drive')"
      ],
      "execution_count": 3,
      "outputs": [
        {
          "output_type": "stream",
          "text": [
            "Drive already mounted at /content/drive; to attempt to forcibly remount, call drive.mount(\"/content/drive\", force_remount=True).\n"
          ],
          "name": "stdout"
        }
      ]
    },
    {
      "cell_type": "code",
      "metadata": {
        "colab_type": "code",
        "id": "PN58SpaU51PM",
        "colab": {}
      },
      "source": [
        "data_A = pd.read_csv(\"/content/drive/My Drive/TFM/train-test-val/data_AL.csv\")\n",
        "data_B = pd.read_csv(\"/content/drive/My Drive/TFM/train-test-val/data_B.csv\")\n",
        "data_C = pd.read_csv(\"/content/drive/My Drive/TFM/train-test-val/data_C.csv\")\n",
        "data_G = pd.read_csv(\"/content/drive/My Drive/TFM/train-test-val/data_G.csv\")"
      ],
      "execution_count": 0,
      "outputs": []
    },
    {
      "cell_type": "code",
      "metadata": {
        "colab_type": "code",
        "id": "n-T9ym__5nhQ",
        "colab": {}
      },
      "source": [
        "data_A = pd.read_csv(\"C:/Users/Dave Mont/Desktop/Master_of_DataScience/TFM/Results/depth_estimation/train-test-val/data_AL.csv\")\n",
        "data_B = pd.read_csv(\"C:/Users/Dave Mont/Desktop/Master_of_DataScience/TFM/Results/depth_estimation/train-test-val/data_B.csv\")\n",
        "data_C = pd.read_csv(\"C:/Users/Dave Mont/Desktop/Master_of_DataScience/TFM/Results/depth_estimation/train-test-val/data_C.csv\")\n",
        "data_G = pd.read_csv(\"C:/Users/Dave Mont/Desktop/Master_of_DataScience/TFM/Results/depth_estimation/train-test-val/data_G.csv\")"
      ],
      "execution_count": 0,
      "outputs": []
    },
    {
      "cell_type": "code",
      "metadata": {
        "colab_type": "code",
        "id": "PaeUZzp55nhT",
        "colab": {}
      },
      "source": [
        "X_A = data_A.iloc[:,3:]\n",
        "y_A = data_A.iloc[:,0]\n",
        "\n",
        "X_B = data_B.iloc[:,3:]\n",
        "y_B = data_B.iloc[:,0]\n",
        "\n",
        "X_C = data_C.iloc[:,3:]\n",
        "y_C = data_C.iloc[:,0]\n",
        "\n",
        "X_G = data_G.iloc[:,3:]\n",
        "y_G = data_G.iloc[:,0]\n",
        "\n",
        "X_train_A, X_test_A, y_train_A, y_test_A = train_test_split(X_A,y_A,test_size = 0.05,random_state = 20)\n",
        "X_train_B, X_test_B, y_train_B, y_test_B = train_test_split(X_B,y_B,test_size = 0.05,random_state = 20)\n",
        "X_train_C, X_test_C, y_train_C, y_test_C = train_test_split(X_C,y_C,test_size = 0.05,random_state = 20)\n",
        "X_train_G, X_test_G, y_train_G, y_test_G = train_test_split(X_G,y_G,test_size = 0.05,random_state = 20)"
      ],
      "execution_count": 0,
      "outputs": []
    },
    {
      "cell_type": "code",
      "metadata": {
        "colab_type": "code",
        "id": "W1QInQb-5nhX",
        "colab": {}
      },
      "source": [
        "X_train = pd.concat([X_train_A,X_train_B,X_train_C,X_train_G])\n",
        "y_train = pd.concat([y_train_A,y_train_B,y_train_C,y_train_G])\n",
        "y_test = np.array(pd.concat([y_test_A,y_test_B,y_test_C,y_test_G]))"
      ],
      "execution_count": 0,
      "outputs": []
    },
    {
      "cell_type": "code",
      "metadata": {
        "colab_type": "code",
        "id": "q5yU0mlz5nhc",
        "colab": {}
      },
      "source": [
        "scaler = StandardScaler().fit(X_train)\n",
        "X_train = scaler.transform(X_train)"
      ],
      "execution_count": 0,
      "outputs": []
    },
    {
      "cell_type": "markdown",
      "metadata": {
        "colab_type": "text",
        "id": "9NRFYPGg5nhf"
      },
      "source": [
        "# Linear Regression (LR)"
      ]
    },
    {
      "cell_type": "code",
      "metadata": {
        "colab_type": "code",
        "id": "6keVrsjO5nhg",
        "colab": {}
      },
      "source": [
        "cv_results = pd.DataFrame(cross_validate(LinearRegression(),X_train,y_train,cv = 10,scoring = [\"neg_root_mean_squared_error\",\"r2\"]))\n",
        "cv_results['test_neg_root_mean_squared_error'] = cv_results['test_neg_root_mean_squared_error']*-1\n",
        "cv_results.to_csv(\"C:/Users/Dave Mont/Desktop/Master_of_DataScience/TFM/Results/depth_estimation/test-results/cvresults-LR.csv\",index = False)"
      ],
      "execution_count": 0,
      "outputs": []
    },
    {
      "cell_type": "code",
      "metadata": {
        "colab_type": "code",
        "id": "9HCG_PSN5nhk",
        "outputId": "bf5c4b3d-aa77-441a-fde2-a6b9496bafac",
        "colab": {}
      },
      "source": [
        "rmse_mean = cv_results['test_neg_root_mean_squared_error'].mean()\n",
        "rmse_std = cv_results['test_neg_root_mean_squared_error'].std()\n",
        "print(\"RMSE: %0.3f +/- %0.3f\" % (rmse_mean,rmse_std/np.sqrt(10)))"
      ],
      "execution_count": 0,
      "outputs": [
        {
          "output_type": "stream",
          "text": [
            "RMSE: 14.810 +/- 1.294\n"
          ],
          "name": "stdout"
        }
      ]
    },
    {
      "cell_type": "code",
      "metadata": {
        "colab_type": "code",
        "id": "Se_X7pu_5nhn",
        "colab": {}
      },
      "source": [
        "reg = LinearRegression().fit(X_train,y_train)"
      ],
      "execution_count": 0,
      "outputs": []
    },
    {
      "cell_type": "code",
      "metadata": {
        "colab_type": "code",
        "id": "RM3ro04-5nhq",
        "colab": {}
      },
      "source": [
        "y_pred_A = reg.predict(scaler.transform(X_test_A))\n",
        "y_pred_B = reg.predict(scaler.transform(X_test_B))\n",
        "y_pred_C = reg.predict(scaler.transform(X_test_C))\n",
        "y_pred_G = reg.predict(scaler.transform(X_test_G))"
      ],
      "execution_count": 0,
      "outputs": []
    },
    {
      "cell_type": "code",
      "metadata": {
        "colab_type": "code",
        "id": "hPw1_wl75nhs",
        "outputId": "ced80621-7467-427d-9b73-e8a9743a6b24",
        "colab": {}
      },
      "source": [
        "print(\"Alto-Lindoso = R2: %0.2f, RMSE %0.3f\" % (r2(y_test_A,y_pred_A),mse(y_test_A,y_pred_A,squared = False)))\n",
        "print(\"Bubal = R2: %0.2f, RMSE %0.3f\" % (r2(y_test_B,y_pred_B),mse(y_test_B,y_pred_B,squared = False)))\n",
        "print(\"Canelles = R2: %0.2f, RMSE %0.3f\" % (r2(y_test_C,y_pred_C),mse(y_test_C,y_pred_C,squared = False)))\n",
        "print(\"Grado = R2: %0.2f, RMSE %0.3f\" % (r2(y_test_G,y_pred_G),mse(y_test_G,y_pred_G,squared = False)))"
      ],
      "execution_count": 0,
      "outputs": [
        {
          "output_type": "stream",
          "text": [
            "Alto-Lindoso = R2: 0.53, RMSE 10.269\n",
            "Bubal = R2: 0.04, RMSE 9.245\n",
            "Canelles = R2: 0.55, RMSE 19.061\n",
            "Grado = R2: 0.53, RMSE 10.656\n"
          ],
          "name": "stdout"
        }
      ]
    },
    {
      "cell_type": "code",
      "metadata": {
        "colab_type": "code",
        "id": "eKbtZLP45nhv",
        "colab": {}
      },
      "source": [
        "y_pred = np.concatenate((y_pred_A,y_pred_B,y_pred_C,y_pred_G))"
      ],
      "execution_count": 0,
      "outputs": []
    },
    {
      "cell_type": "code",
      "metadata": {
        "colab_type": "code",
        "id": "R8EJKMj05nhy",
        "outputId": "c9f4b678-974e-4ca2-8939-692c8acaf912",
        "colab": {}
      },
      "source": [
        "print(\"Total = R2: %0.2f, RMSE %0.3f\" % (r2(y_test,y_pred),mse(y_test,y_pred,squared = False)))"
      ],
      "execution_count": 0,
      "outputs": [
        {
          "output_type": "stream",
          "text": [
            "Total = R2: 0.60, RMSE 15.170\n"
          ],
          "name": "stdout"
        }
      ]
    },
    {
      "cell_type": "code",
      "metadata": {
        "colab_type": "code",
        "id": "i6XLFoma5nh1",
        "outputId": "34743a1a-5fac-4e2b-e4b2-4a93a06098a5",
        "colab": {}
      },
      "source": [
        "rmseDepth = rmseByDepth(y_test,y_pred)\n",
        "rmseDepth.to_csv(\"C:/Users/Dave Mont/Desktop/Master_of_DataScience/TFM/Results/depth_estimation/test-results/depth-rmse-LR.csv\",index = False)\n",
        "plt.scatter(rmseDepth['h'],rmseDepth['rmse'])"
      ],
      "execution_count": 0,
      "outputs": [
        {
          "output_type": "execute_result",
          "data": {
            "text/plain": [
              "<matplotlib.collections.PathCollection at 0x166802cb888>"
            ]
          },
          "metadata": {
            "tags": []
          },
          "execution_count": 135
        },
        {
          "output_type": "display_data",
          "data": {
            "image/png": "[encoded data removed]",
            "text/plain": [
              "<Figure size 432x288 with 1 Axes>"
            ]
          },
          "metadata": {
            "tags": [],
            "needs_background": "light"
          }
        }
      ]
    },
    {
      "cell_type": "markdown",
      "metadata": {
        "colab_type": "text",
        "id": "_XwOTMJB5nh3"
      },
      "source": [
        "# Random Forest (RF)"
      ]
    },
    {
      "cell_type": "code",
      "metadata": {
        "colab_type": "code",
        "id": "o4q8DI36Mu3J",
        "outputId": "8128ef6f-50c3-4e06-c14c-345b4f96448d",
        "colab": {
          "base_uri": "https://localhost:8080/",
          "height": 34
        }
      },
      "source": [
        "((np.arange(150,251,10)*1.04*5).sum()/60)/60"
      ],
      "execution_count": 0,
      "outputs": [
        {
          "output_type": "execute_result",
          "data": {
            "text/plain": [
              "3.1777777777777776"
            ]
          },
          "metadata": {
            "tags": []
          },
          "execution_count": 15
        }
      ]
    },
    {
      "cell_type": "code",
      "metadata": {
        "colab_type": "code",
        "id": "FH47FIye-iTn",
        "outputId": "08cb18d4-9ac6-4f7c-c320-ba6c0b39cce6",
        "colab": {
          "base_uri": "https://localhost:8080/",
          "height": 34
        }
      },
      "source": [
        "((np.array([10,20,50,100,200])*4.3*5).sum()/60 + (np.array([10,20,50,100,200])*1.03*5).sum()/60)/60"
      ],
      "execution_count": 0,
      "outputs": [
        {
          "output_type": "execute_result",
          "data": {
            "text/plain": [
              "2.8130555555555556"
            ]
          },
          "metadata": {
            "tags": []
          },
          "execution_count": 30
        }
      ]
    },
    {
      "cell_type": "code",
      "metadata": {
        "colab_type": "code",
        "id": "HcWiRiwrMhAi",
        "outputId": "c7b46247-eafc-41d8-d5e7-21f54d827284",
        "colab": {
          "base_uri": "https://localhost:8080/",
          "height": 354
        }
      },
      "source": [
        "parameters = {\"n_estimators\":[100,200,300,400,500],\"max_features\":[\"auto\",\"sqrt\"]}\n",
        "rfReg = GridSearchCV(rf(),parameters,cv = 3,scoring = \"neg_root_mean_squared_error\")\n",
        "rfReg.fit(X_train,y_train)"
      ],
      "execution_count": 0,
      "outputs": [
        {
          "output_type": "execute_result",
          "data": {
            "text/plain": [
              "GridSearchCV(cv=3, error_score=nan,\n",
              "             estimator=RandomForestRegressor(bootstrap=True, ccp_alpha=0.0,\n",
              "                                             criterion='mse', max_depth=None,\n",
              "                                             max_features='auto',\n",
              "                                             max_leaf_nodes=None,\n",
              "                                             max_samples=None,\n",
              "                                             min_impurity_decrease=0.0,\n",
              "                                             min_impurity_split=None,\n",
              "                                             min_samples_leaf=1,\n",
              "                                             min_samples_split=2,\n",
              "                                             min_weight_fraction_leaf=0.0,\n",
              "                                             n_estimators=100, n_jobs=None,\n",
              "                                             oob_score=False, random_state=None,\n",
              "                                             verbose=0, warm_start=False),\n",
              "             iid='deprecated', n_jobs=None,\n",
              "             param_grid={'max_features': ['auto', 'sqrt'],\n",
              "                         'n_estimators': [100, 200, 300, 400, 500]},\n",
              "             pre_dispatch='2*n_jobs', refit=True, return_train_score=False,\n",
              "             scoring='neg_root_mean_squared_error', verbose=0)"
            ]
          },
          "metadata": {
            "tags": []
          },
          "execution_count": 18
        }
      ]
    },
    {
      "cell_type": "code",
      "metadata": {
        "colab_type": "code",
        "id": "5ohVVsWRvP6h",
        "colab": {}
      },
      "source": [
        "cv_results = pd.DataFrame(rfReg.cv_results_)\n",
        "cv_results = cv_results.drop(columns = ['params'])\n",
        "cv_results.to_csv(\"/content/drive/My Drive/TFM/train-test-val/gridsearchcv-results-rf-1.csv\",index = False)"
      ],
      "execution_count": 0,
      "outputs": []
    },
    {
      "cell_type": "code",
      "metadata": {
        "colab_type": "code",
        "id": "LRpgRLFuwTO_",
        "colab": {}
      },
      "source": [
        "from joblib import dump, load"
      ],
      "execution_count": 0,
      "outputs": []
    },
    {
      "cell_type": "code",
      "metadata": {
        "colab_type": "code",
        "id": "KnWGy2UEdn7N",
        "colab": {},
        "outputId": "fc125d3b-7598-417e-de84-208fa5a690ed"
      },
      "source": [
        "#dump(rfReg.best_estimator_,'/content/drive/My Drive/TFM/train-test-val/rf-200-sqrt.joblib')\n",
        "#clf = load('/content/drive/My Drive/TFM/train-test-val/rf-200-sqrt.joblib') \n",
        "#clf = load('C:/Users/Dave Mont/Desktop/rf-200-sqrt.joblib')\n",
        "fi = clf.feature_importances_\n",
        "fidf = pd.DataFrame({\"feature\":X_A.columns,\"feature_importances\":fi})\n",
        "fidf.to_csv(\"C:/Users/Dave Mont/Desktop/Master_of_DataScience/TFM/Results/depth_estimation/test-results/feature-importances-rf-200-sqrt.csv\",index = False)"
      ],
      "execution_count": 0,
      "outputs": [
        {
          "output_type": "stream",
          "text": [
            "C:\\Users\\Dave Mont\\anaconda3\\lib\\site-packages\\sklearn\\base.py:318: UserWarning: Trying to unpickle estimator DecisionTreeRegressor from version 0.22.2.post1 when using version 0.22.1. This might lead to breaking code or invalid results. Use at your own risk.\n",
            "  UserWarning)\n",
            "C:\\Users\\Dave Mont\\anaconda3\\lib\\site-packages\\sklearn\\base.py:318: UserWarning: Trying to unpickle estimator RandomForestRegressor from version 0.22.2.post1 when using version 0.22.1. This might lead to breaking code or invalid results. Use at your own risk.\n",
            "  UserWarning)\n"
          ],
          "name": "stderr"
        }
      ]
    },
    {
      "cell_type": "code",
      "metadata": {
        "id": "BRxKkB5jdn7Q",
        "colab_type": "code",
        "colab": {
          "base_uri": "https://localhost:8080/",
          "height": 336
        },
        "outputId": "6d557a0b-b1eb-40e5-826d-7b0205e57005"
      },
      "source": [
        "parameters = {\"n_estimators\":np.arange(150,251,10)}\n",
        "rfReg = GridSearchCV(rf(max_features = \"sqrt\"),parameters,cv = 5,scoring = \"neg_root_mean_squared_error\")\n",
        "rfReg.fit(X_train,y_train)"
      ],
      "execution_count": 8,
      "outputs": [
        {
          "output_type": "execute_result",
          "data": {
            "text/plain": [
              "GridSearchCV(cv=5, error_score=nan,\n",
              "             estimator=RandomForestRegressor(bootstrap=True, ccp_alpha=0.0,\n",
              "                                             criterion='mse', max_depth=None,\n",
              "                                             max_features='sqrt',\n",
              "                                             max_leaf_nodes=None,\n",
              "                                             max_samples=None,\n",
              "                                             min_impurity_decrease=0.0,\n",
              "                                             min_impurity_split=None,\n",
              "                                             min_samples_leaf=1,\n",
              "                                             min_samples_split=2,\n",
              "                                             min_weight_fraction_leaf=0.0,\n",
              "                                             n_estimators=100, n_jobs=None,\n",
              "                                             oob_score=False, random_state=None,\n",
              "                                             verbose=0, warm_start=False),\n",
              "             iid='deprecated', n_jobs=None,\n",
              "             param_grid={'n_estimators': array([150, 160, 170, 180, 190, 200, 210, 220, 230, 240, 250])},\n",
              "             pre_dispatch='2*n_jobs', refit=True, return_train_score=False,\n",
              "             scoring='neg_root_mean_squared_error', verbose=0)"
            ]
          },
          "metadata": {
            "tags": []
          },
          "execution_count": 8
        }
      ]
    },
    {
      "cell_type": "code",
      "metadata": {
        "id": "XizuMXWCMuuB",
        "colab_type": "code",
        "colab": {}
      },
      "source": [
        "cv_results = pd.DataFrame(rfReg.cv_results_)\n",
        "cv_results = cv_results.drop(columns = ['params'])\n",
        "cv_results.to_csv(\"/content/drive/My Drive/TFM/train-test-val/gridsearchcv-results-rf-2.csv\",index = False)"
      ],
      "execution_count": 0,
      "outputs": []
    },
    {
      "cell_type": "code",
      "metadata": {
        "colab_type": "code",
        "id": "mpuK-tJd5nh-",
        "colab": {}
      },
      "source": [
        "bestRF = rfReg.best_estimator_"
      ],
      "execution_count": 0,
      "outputs": []
    },
    {
      "cell_type": "code",
      "metadata": {
        "id": "HK4TRra0OyKj",
        "colab_type": "code",
        "colab": {}
      },
      "source": [
        "fidf = pd.DataFrame({\"feature\":X_A.columns,\"feature_importances\":bestRF.feature_importances_})\n",
        "fidf.to_csv(\"/content/drive/My Drive/TFM/train-test-val/feature-importances-rf-170-sqrt.csv\",index = False)"
      ],
      "execution_count": 0,
      "outputs": []
    },
    {
      "cell_type": "code",
      "metadata": {
        "colab_type": "code",
        "id": "DKRp5-Ie5niA",
        "colab": {}
      },
      "source": [
        "y_pred_A = bestRF.predict(scaler.transform(X_test_A))\n",
        "y_pred_B = bestRF.predict(scaler.transform(X_test_B))\n",
        "y_pred_C = bestRF.predict(scaler.transform(X_test_C))\n",
        "y_pred_G = bestRF.predict(scaler.transform(X_test_G))\n",
        "\n",
        "ys_A = pd.DataFrame({\"y_test\":y_test_A,\"y_pred\":y_pred_A})\n",
        "ys_B = pd.DataFrame({\"y_test\":y_test_B,\"y_pred\":y_pred_B})\n",
        "ys_C = pd.DataFrame({\"y_test\":y_test_C,\"y_pred\":y_pred_C})\n",
        "ys_G = pd.DataFrame({\"y_test\":y_test_G,\"y_pred\":y_pred_G})\n",
        "\n",
        "ys_A.to_csv(\"/content/drive/My Drive/TFM/train-test-val/ytest-ypred-A-RF.csv\",index = False)\n",
        "ys_B.to_csv(\"/content/drive/My Drive/TFM/train-test-val/ytest-ypred-B-RF.csv\",index = False)\n",
        "ys_C.to_csv(\"/content/drive/My Drive/TFM/train-test-val/ytest-ypred-C-RF.csv\",index = False)\n",
        "ys_G.to_csv(\"/content/drive/My Drive/TFM/train-test-val/ytest-ypred-G-RF.csv\",index = False)"
      ],
      "execution_count": 0,
      "outputs": []
    },
    {
      "cell_type": "code",
      "metadata": {
        "colab_type": "code",
        "id": "Hjg8jGRH5niD",
        "outputId": "91652793-85c3-4419-c21f-1543224c5e24",
        "colab": {
          "base_uri": "https://localhost:8080/",
          "height": 87
        }
      },
      "source": [
        "print(\"Alto-Lindoso = R2: %0.2f, RMSE %0.3f\" % (r2(y_test_A,y_pred_A),mse(y_test_A,y_pred_A,squared = False)))\n",
        "print(\"Bubal = R2: %0.2f, RMSE %0.3f\" % (r2(y_test_B,y_pred_B),mse(y_test_B,y_pred_B,squared = False)))\n",
        "print(\"Canelles = R2: %0.2f, RMSE %0.3f\" % (r2(y_test_C,y_pred_C),mse(y_test_C,y_pred_C,squared = False)))\n",
        "print(\"Grado = R2: %0.2f, RMSE %0.3f\" % (r2(y_test_G,y_pred_G),mse(y_test_G,y_pred_G,squared = False)))"
      ],
      "execution_count": 12,
      "outputs": [
        {
          "output_type": "stream",
          "text": [
            "Alto-Lindoso = R2: 0.72, RMSE 7.876\n",
            "Bubal = R2: 0.87, RMSE 3.403\n",
            "Canelles = R2: 0.78, RMSE 13.294\n",
            "Grado = R2: 0.92, RMSE 4.408\n"
          ],
          "name": "stdout"
        }
      ]
    },
    {
      "cell_type": "code",
      "metadata": {
        "colab_type": "code",
        "id": "E1XC9Lte5niJ",
        "colab": {}
      },
      "source": [
        "y_test = np.array(pd.concat([y_test_A,y_test_B,y_test_C,y_test_G]))\n",
        "y_pred = np.concatenate((y_pred_A,y_pred_B,y_pred_C,y_pred_G))"
      ],
      "execution_count": 0,
      "outputs": []
    },
    {
      "cell_type": "code",
      "metadata": {
        "colab_type": "code",
        "id": "CIy3B4Va5niL",
        "outputId": "bdb3e2bc-ccd0-411d-ded9-65f85af0457a",
        "colab": {
          "base_uri": "https://localhost:8080/",
          "height": 34
        }
      },
      "source": [
        "print(\"Total = R2: %0.2f, RMSE %0.3f\" % (r2(y_test,y_pred),mse(y_test,y_pred,squared = False)))"
      ],
      "execution_count": 14,
      "outputs": [
        {
          "output_type": "stream",
          "text": [
            "Total = R2: 0.82, RMSE 10.038\n"
          ],
          "name": "stdout"
        }
      ]
    },
    {
      "cell_type": "code",
      "metadata": {
        "colab_type": "code",
        "id": "UmCXig8m5niO",
        "outputId": "e3c62171-ca50-4b21-b304-a4ba06260c0f",
        "colab": {
          "base_uri": "https://localhost:8080/",
          "height": 282
        }
      },
      "source": [
        "rmseDepth = rmseByDepth(y_test,y_pred)\n",
        "rmseDepth.to_csv(\"/content/drive/My Drive/TFM/train-test-val/depth-rmse-RF.csv\",index = False)\n",
        "plt.scatter(rmseDepth['h'],rmseDepth['rmse'])"
      ],
      "execution_count": 20,
      "outputs": [
        {
          "output_type": "execute_result",
          "data": {
            "text/plain": [
              "<matplotlib.collections.PathCollection at 0x7fb84ca05cf8>"
            ]
          },
          "metadata": {
            "tags": []
          },
          "execution_count": 20
        },
        {
          "output_type": "display_data",
          "data": {
            "image/png": "[encoded data removed]",
            "text/plain": [
              "<Figure size 432x288 with 1 Axes>"
            ]
          },
          "metadata": {
            "tags": [],
            "needs_background": "light"
          }
        }
      ]
    },
    {
      "cell_type": "code",
      "metadata": {
        "id": "ZHRE_r9RQu8R",
        "colab_type": "code",
        "colab": {}
      },
      "source": [
        "ys = pd.DataFrame({\"y_test\":y_test,\"y_pred\":y_pred})\n",
        "ys.to_csv(\"/content/drive/My Drive/TFM/train-test-val/ytest-ypred-GLOBAL-RF.csv\",index = False)"
      ],
      "execution_count": 0,
      "outputs": []
    },
    {
      "cell_type": "code",
      "metadata": {
        "colab_type": "code",
        "id": "u2FR9VgUsSc5",
        "colab": {}
      },
      "source": [
        "data_A['z_pred'] = bestRF.predict(scaler.transform(X_A))\n",
        "data_B['z_pred'] = bestRF.predict(scaler.transform(X_B))\n",
        "data_C['z_pred'] = bestRF.predict(scaler.transform(X_C))\n",
        "data_G['z_pred'] = bestRF.predict(scaler.transform(X_G))"
      ],
      "execution_count": 0,
      "outputs": []
    },
    {
      "cell_type": "code",
      "metadata": {
        "id": "RDVWQ_qCSmnm",
        "colab_type": "code",
        "colab": {}
      },
      "source": [
        "data_A.to_csv(\"/content/drive/My Drive/TFM/train-test-val/data-all-A-RF.csv\",index = False)\n",
        "data_B.to_csv(\"/content/drive/My Drive/TFM/train-test-val/data-all-B-RF.csv\",index = False)\n",
        "data_C.to_csv(\"/content/drive/My Drive/TFM/train-test-val/data-all-C-RF.csv\",index = False)\n",
        "data_G.to_csv(\"/content/drive/My Drive/TFM/train-test-val/data-all-G-RF.csv\",index = False)"
      ],
      "execution_count": 0,
      "outputs": []
    },
    {
      "cell_type": "code",
      "metadata": {
        "id": "3zMd5OfLVV48",
        "colab_type": "code",
        "colab": {
          "base_uri": "https://localhost:8080/",
          "height": 282
        },
        "outputId": "535f3069-45fd-46ac-e1a4-b5aaecb74164"
      },
      "source": [
        "plt.scatter(y_test,y_pred)"
      ],
      "execution_count": 29,
      "outputs": [
        {
          "output_type": "execute_result",
          "data": {
            "text/plain": [
              "<matplotlib.collections.PathCollection at 0x7fb847bb70b8>"
            ]
          },
          "metadata": {
            "tags": []
          },
          "execution_count": 29
        },
        {
          "output_type": "display_data",
          "data": {
            "image/png": "[encoded data removed]",
            "text/plain": [
              "<Figure size 432x288 with 1 Axes>"
            ]
          },
          "metadata": {
            "tags": [],
            "needs_background": "light"
          }
        }
      ]
    },
    {
      "cell_type": "markdown",
      "metadata": {
        "id": "Xdpt3FYMkLWd",
        "colab_type": "text"
      },
      "source": [
        "# Gradient Boosting"
      ]
    },
    {
      "cell_type": "code",
      "metadata": {
        "id": "V0H7M6vJkM7A",
        "colab_type": "code",
        "colab": {}
      },
      "source": [
        "parameters = {\"max_depth\":np.arange(3,15,1)}\n",
        "rfReg = GridSearchCV(gb(n_estimators = 500,max_features = \"sqrt\",validation_fraction = 0.05,n_iter_no_change = 15,random_state = 20),parameters,cv = 3,scoring = \"neg_root_mean_squared_error\")\n",
        "rfReg.fit(X_train,y_train)"
      ],
      "execution_count": 0,
      "outputs": []
    },
    {
      "cell_type": "code",
      "metadata": {
        "id": "FFvmPbJKntW6",
        "colab_type": "code",
        "colab": {
          "base_uri": "https://localhost:8080/",
          "height": 194
        },
        "outputId": "e68206ef-7209-4867-ef3b-07c5ba754d66"
      },
      "source": [
        "randomBG = gb(n_estimators = 500,max_features = \"sqrt\",validation_fraction = 0.05,n_iter_no_change = 10,random_state = 20,max_depth = 50,tol = 0.01,subsample=0.8)\n",
        "randomBG.fit(X_train,y_train)"
      ],
      "execution_count": 8,
      "outputs": [
        {
          "output_type": "execute_result",
          "data": {
            "text/plain": [
              "GradientBoostingRegressor(alpha=0.9, ccp_alpha=0.0, criterion='friedman_mse',\n",
              "                          init=None, learning_rate=0.1, loss='ls', max_depth=50,\n",
              "                          max_features='sqrt', max_leaf_nodes=None,\n",
              "                          min_impurity_decrease=0.0, min_impurity_split=None,\n",
              "                          min_samples_leaf=1, min_samples_split=2,\n",
              "                          min_weight_fraction_leaf=0.0, n_estimators=500,\n",
              "                          n_iter_no_change=10, presort='deprecated',\n",
              "                          random_state=20, subsample=0.8, tol=0.01,\n",
              "                          validation_fraction=0.05, verbose=0,\n",
              "                          warm_start=False)"
            ]
          },
          "metadata": {
            "tags": []
          },
          "execution_count": 8
        }
      ]
    },
    {
      "cell_type": "code",
      "metadata": {
        "id": "yFW0Zld0oKYr",
        "colab_type": "code",
        "colab": {}
      },
      "source": [
        "y_pred_A = randomBG.predict(scaler.transform(X_test_A))\n",
        "y_pred_B = randomBG.predict(scaler.transform(X_test_B))\n",
        "y_pred_C = randomBG.predict(scaler.transform(X_test_C))\n",
        "y_pred_G = randomBG.predict(scaler.transform(X_test_G))"
      ],
      "execution_count": 0,
      "outputs": []
    },
    {
      "cell_type": "code",
      "metadata": {
        "id": "Syb_DbXgpgty",
        "colab_type": "code",
        "colab": {
          "base_uri": "https://localhost:8080/",
          "height": 87
        },
        "outputId": "5c919383-fec4-42c5-dae9-2050cfea9820"
      },
      "source": [
        "print(\"Alto-Lindoso = R2: %0.2f, RMSE %0.3f\" % (r2(y_test_A,y_pred_A),mse(y_test_A,y_pred_A,squared = False)))\n",
        "print(\"Bubal = R2: %0.2f, RMSE %0.3f\" % (r2(y_test_B,y_pred_B),mse(y_test_B,y_pred_B,squared = False)))\n",
        "print(\"Canelles = R2: %0.2f, RMSE %0.3f\" % (r2(y_test_C,y_pred_C),mse(y_test_C,y_pred_C,squared = False)))\n",
        "print(\"Grado = R2: %0.2f, RMSE %0.3f\" % (r2(y_test_G,y_pred_G),mse(y_test_G,y_pred_G,squared = False)))"
      ],
      "execution_count": 10,
      "outputs": [
        {
          "output_type": "stream",
          "text": [
            "Alto-Lindoso = R2: 0.71, RMSE 8.015\n",
            "Bubal = R2: 0.86, RMSE 3.478\n",
            "Canelles = R2: 0.77, RMSE 13.637\n",
            "Grado = R2: 0.92, RMSE 4.410\n"
          ],
          "name": "stdout"
        }
      ]
    },
    {
      "cell_type": "code",
      "metadata": {
        "id": "cJQ0L-wLsIg-",
        "colab_type": "code",
        "colab": {
          "base_uri": "https://localhost:8080/",
          "height": 34
        },
        "outputId": "a0d854df-bced-4fc3-f095-d20427a452a0"
      },
      "source": [
        "randomBG.n_estimators_"
      ],
      "execution_count": 11,
      "outputs": [
        {
          "output_type": "execute_result",
          "data": {
            "text/plain": [
              "46"
            ]
          },
          "metadata": {
            "tags": []
          },
          "execution_count": 11
        }
      ]
    },
    {
      "cell_type": "code",
      "metadata": {
        "id": "pnzrWyTXp5Lu",
        "colab_type": "code",
        "colab": {
          "base_uri": "https://localhost:8080/",
          "height": 282
        },
        "outputId": "a590344c-cbd8-4269-e7cc-43b10ad5b689"
      },
      "source": [
        "plt.scatter(np.arange(0,randomBG.train_score_.shape[0],1),randomBG.train_score_)"
      ],
      "execution_count": 12,
      "outputs": [
        {
          "output_type": "execute_result",
          "data": {
            "text/plain": [
              "<matplotlib.collections.PathCollection at 0x7fce6a8a3208>"
            ]
          },
          "metadata": {
            "tags": []
          },
          "execution_count": 12
        },
        {
          "output_type": "display_data",
          "data": {
            "image/png": "[encoded data removed]",
            "text/plain": [
              "<Figure size 432x288 with 1 Axes>"
            ]
          },
          "metadata": {
            "tags": [],
            "needs_background": "light"
          }
        }
      ]
    },
    {
      "cell_type": "code",
      "metadata": {
        "id": "NPy9Db0IusBj",
        "colab_type": "code",
        "colab": {}
      },
      "source": [
        ""
      ],
      "execution_count": 0,
      "outputs": []
    }
  ]
}