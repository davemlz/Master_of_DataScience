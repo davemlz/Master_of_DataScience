{
  "nbformat": 4,
  "nbformat_minor": 0,
  "metadata": {
    "colab": {
      "name": "depth_LR.ipynb",
      "provenance": []
    },
    "kernelspec": {
      "display_name": "Python 3",
      "language": "python",
      "name": "python3"
    },
    "language_info": {
      "codemirror_mode": {
        "name": "ipython",
        "version": 3
      },
      "file_extension": ".py",
      "mimetype": "text/x-python",
      "name": "python",
      "nbconvert_exporter": "python",
      "pygments_lexer": "ipython3",
      "version": "3.7.6"
    }
  },
  "cells": [
    {
      "cell_type": "code",
      "metadata": {
        "colab_type": "code",
        "id": "2auMEw7C5nhH",
        "colab": {}
      },
      "source": [
        "import numpy as np\n",
        "import pandas as pd\n",
        "\n",
        "from sklearn.model_selection import GridSearchCV, train_test_split,cross_validate\n",
        "from sklearn.ensemble import RandomForestRegressor as rf\n",
        "from sklearn.ensemble import GradientBoostingRegressor as gb\n",
        "from sklearn.linear_model import LinearRegression, Lasso\n",
        "from sklearn.metrics import mean_squared_error as mse\n",
        "from sklearn.metrics import r2_score as r2\n",
        "from sklearn.preprocessing import StandardScaler\n",
        "\n",
        "from matplotlib import pyplot as plt\n",
        "import seaborn as sns"
      ],
      "execution_count": 0,
      "outputs": []
    },
    {
      "cell_type": "code",
      "metadata": {
        "colab_type": "code",
        "id": "mD-ObxCk5nhL",
        "colab": {}
      },
      "source": [
        "def rmseByDepth(y_test,y_pred,h = 2.5,delta = 2.5,jump = 5,maxh = 110):\n",
        "\n",
        "    hList = []\n",
        "    rmseList = []\n",
        "    df = pd.DataFrame()\n",
        "\n",
        "    while h < maxh:\n",
        "        hList.append(h)\n",
        "        idx = np.where((y_test >= h - delta) & (y_test < h + delta))\n",
        "        rmse = mse(y_test[idx],y_pred[idx],squared = False)\n",
        "        rmseList.append(rmse)        \n",
        "        h = h + jump\n",
        "    \n",
        "    df['h'] = hList\n",
        "    df['rmse'] = rmseList\n",
        "    \n",
        "    return df"
      ],
      "execution_count": 0,
      "outputs": []
    },
    {
      "cell_type": "code",
      "metadata": {
        "colab_type": "code",
        "id": "Fzoqefn05zsG",
        "outputId": "48f0a8f3-dba0-4f66-82cd-fdc0edb5ea1e",
        "colab": {
          "base_uri": "https://localhost:8080/",
          "height": 34
        }
      },
      "source": [
        "from google.colab import drive\n",
        "\n",
        "drive.mount('/content/drive')"
      ],
      "execution_count": 35,
      "outputs": [
        {
          "output_type": "stream",
          "text": [
            "Drive already mounted at /content/drive; to attempt to forcibly remount, call drive.mount(\"/content/drive\", force_remount=True).\n"
          ],
          "name": "stdout"
        }
      ]
    },
    {
      "cell_type": "code",
      "metadata": {
        "colab_type": "code",
        "id": "PN58SpaU51PM",
        "colab": {}
      },
      "source": [
        "data_A = pd.read_csv(\"/content/drive/My Drive/TFM/train-test-val/data_AL.csv\")\n",
        "data_B = pd.read_csv(\"/content/drive/My Drive/TFM/train-test-val/data_B.csv\")\n",
        "data_C = pd.read_csv(\"/content/drive/My Drive/TFM/train-test-val/data_C.csv\")\n",
        "data_G = pd.read_csv(\"/content/drive/My Drive/TFM/train-test-val/data_G.csv\")"
      ],
      "execution_count": 0,
      "outputs": []
    },
    {
      "cell_type": "code",
      "metadata": {
        "colab_type": "code",
        "id": "n-T9ym__5nhQ",
        "colab": {}
      },
      "source": [
        "data_A = pd.read_csv(\"C:/Users/Dave Mont/Desktop/Master_of_DataScience/TFM/Results/depth_estimation/train-test-val/data_AL.csv\")\n",
        "data_B = pd.read_csv(\"C:/Users/Dave Mont/Desktop/Master_of_DataScience/TFM/Results/depth_estimation/train-test-val/data_B.csv\")\n",
        "data_C = pd.read_csv(\"C:/Users/Dave Mont/Desktop/Master_of_DataScience/TFM/Results/depth_estimation/train-test-val/data_C.csv\")\n",
        "data_G = pd.read_csv(\"C:/Users/Dave Mont/Desktop/Master_of_DataScience/TFM/Results/depth_estimation/train-test-val/data_G.csv\")"
      ],
      "execution_count": 0,
      "outputs": []
    },
    {
      "cell_type": "code",
      "metadata": {
        "colab_type": "code",
        "id": "PaeUZzp55nhT",
        "colab": {}
      },
      "source": [
        "X_A = data_A.iloc[:,3:]\n",
        "y_A = data_A.iloc[:,0]\n",
        "\n",
        "X_B = data_B.iloc[:,3:]\n",
        "y_B = data_B.iloc[:,0]\n",
        "\n",
        "X_C = data_C.iloc[:,3:]\n",
        "y_C = data_C.iloc[:,0]\n",
        "\n",
        "X_G = data_G.iloc[:,3:]\n",
        "y_G = data_G.iloc[:,0]\n",
        "\n",
        "X_train_A, X_test_A, y_train_A, y_test_A = train_test_split(X_A,y_A,test_size = 0.05,random_state = 20)\n",
        "X_train_B, X_test_B, y_train_B, y_test_B = train_test_split(X_B,y_B,test_size = 0.05,random_state = 20)\n",
        "X_train_C, X_test_C, y_train_C, y_test_C = train_test_split(X_C,y_C,test_size = 0.05,random_state = 20)\n",
        "X_train_G, X_test_G, y_train_G, y_test_G = train_test_split(X_G,y_G,test_size = 0.05,random_state = 20)"
      ],
      "execution_count": 0,
      "outputs": []
    },
    {
      "cell_type": "code",
      "metadata": {
        "colab_type": "code",
        "id": "W1QInQb-5nhX",
        "colab": {}
      },
      "source": [
        "X_train = pd.concat([X_train_A,X_train_B,X_train_C,X_train_G])\n",
        "y_train = pd.concat([y_train_A,y_train_B,y_train_C,y_train_G])\n",
        "y_test = np.array(pd.concat([y_test_A,y_test_B,y_test_C,y_test_G]))"
      ],
      "execution_count": 0,
      "outputs": []
    },
    {
      "cell_type": "code",
      "metadata": {
        "colab_type": "code",
        "id": "q5yU0mlz5nhc",
        "colab": {}
      },
      "source": [
        "scaler = StandardScaler().fit(X_train)\n",
        "X_train = scaler.transform(X_train)"
      ],
      "execution_count": 0,
      "outputs": []
    },
    {
      "cell_type": "markdown",
      "metadata": {
        "colab_type": "text",
        "id": "9NRFYPGg5nhf"
      },
      "source": [
        "# Linear Regression (LR)"
      ]
    },
    {
      "cell_type": "code",
      "metadata": {
        "colab_type": "code",
        "id": "6keVrsjO5nhg",
        "colab": {}
      },
      "source": [
        "cv_results = pd.DataFrame(cross_validate(LinearRegression(),X_train,y_train,cv = 10,scoring = [\"neg_root_mean_squared_error\",\"r2\"]))\n",
        "cv_results['test_neg_root_mean_squared_error'] = cv_results['test_neg_root_mean_squared_error']*-1\n",
        "cv_results.to_csv(\"C:/Users/Dave Mont/Desktop/Master_of_DataScience/TFM/Results/depth_estimation/test-results/cvresults-LR.csv\",index = False)"
      ],
      "execution_count": 0,
      "outputs": []
    },
    {
      "cell_type": "code",
      "metadata": {
        "colab_type": "code",
        "id": "9HCG_PSN5nhk",
        "outputId": "bf5c4b3d-aa77-441a-fde2-a6b9496bafac",
        "colab": {}
      },
      "source": [
        "rmse_mean = cv_results['test_neg_root_mean_squared_error'].mean()\n",
        "rmse_std = cv_results['test_neg_root_mean_squared_error'].std()\n",
        "print(\"RMSE: %0.3f +/- %0.3f\" % (rmse_mean,rmse_std/np.sqrt(10)))"
      ],
      "execution_count": 0,
      "outputs": [
        {
          "output_type": "stream",
          "text": [
            "RMSE: 14.810 +/- 1.294\n"
          ],
          "name": "stdout"
        }
      ]
    },
    {
      "cell_type": "code",
      "metadata": {
        "colab_type": "code",
        "id": "Se_X7pu_5nhn",
        "colab": {}
      },
      "source": [
        "reg = LinearRegression().fit(X_train,y_train)"
      ],
      "execution_count": 0,
      "outputs": []
    },
    {
      "cell_type": "code",
      "metadata": {
        "colab_type": "code",
        "id": "RM3ro04-5nhq",
        "colab": {}
      },
      "source": [
        "y_pred_A = reg.predict(scaler.transform(X_test_A))\n",
        "y_pred_B = reg.predict(scaler.transform(X_test_B))\n",
        "y_pred_C = reg.predict(scaler.transform(X_test_C))\n",
        "y_pred_G = reg.predict(scaler.transform(X_test_G))\n",
        "\n",
        "ys_A = pd.DataFrame({\"y_test\":y_test_A,\"y_pred\":y_pred_A})\n",
        "ys_B = pd.DataFrame({\"y_test\":y_test_B,\"y_pred\":y_pred_B})\n",
        "ys_C = pd.DataFrame({\"y_test\":y_test_C,\"y_pred\":y_pred_C})\n",
        "ys_G = pd.DataFrame({\"y_test\":y_test_G,\"y_pred\":y_pred_G})\n",
        "\n",
        "ys_A.to_csv(\"/content/drive/My Drive/TFM/train-test-val/ytest-ypred-A-LR.csv\",index = False)\n",
        "ys_B.to_csv(\"/content/drive/My Drive/TFM/train-test-val/ytest-ypred-B-LR.csv\",index = False)\n",
        "ys_C.to_csv(\"/content/drive/My Drive/TFM/train-test-val/ytest-ypred-C-LR.csv\",index = False)\n",
        "ys_G.to_csv(\"/content/drive/My Drive/TFM/train-test-val/ytest-ypred-G-LR.csv\",index = False)"
      ],
      "execution_count": 0,
      "outputs": []
    },
    {
      "cell_type": "code",
      "metadata": {
        "colab_type": "code",
        "id": "hPw1_wl75nhs",
        "outputId": "32d2ef20-588f-44b4-9ff8-ec79ea128244",
        "colab": {
          "base_uri": "https://localhost:8080/",
          "height": 87
        }
      },
      "source": [
        "print(\"Alto-Lindoso = R2: %0.2f, RMSE %0.3f\" % (r2(y_test_A,y_pred_A),mse(y_test_A,y_pred_A,squared = False)))\n",
        "print(\"Bubal = R2: %0.2f, RMSE %0.3f\" % (r2(y_test_B,y_pred_B),mse(y_test_B,y_pred_B,squared = False)))\n",
        "print(\"Canelles = R2: %0.2f, RMSE %0.3f\" % (r2(y_test_C,y_pred_C),mse(y_test_C,y_pred_C,squared = False)))\n",
        "print(\"Grado = R2: %0.2f, RMSE %0.3f\" % (r2(y_test_G,y_pred_G),mse(y_test_G,y_pred_G,squared = False)))"
      ],
      "execution_count": 42,
      "outputs": [
        {
          "output_type": "stream",
          "text": [
            "Alto-Lindoso = R2: 0.53, RMSE 10.269\n",
            "Bubal = R2: 0.04, RMSE 9.245\n",
            "Canelles = R2: 0.55, RMSE 19.061\n",
            "Grado = R2: 0.53, RMSE 10.656\n"
          ],
          "name": "stdout"
        }
      ]
    },
    {
      "cell_type": "code",
      "metadata": {
        "colab_type": "code",
        "id": "eKbtZLP45nhv",
        "colab": {}
      },
      "source": [
        "y_pred = np.concatenate((y_pred_A,y_pred_B,y_pred_C,y_pred_G))"
      ],
      "execution_count": 0,
      "outputs": []
    },
    {
      "cell_type": "code",
      "metadata": {
        "colab_type": "code",
        "id": "R8EJKMj05nhy",
        "outputId": "c9f4b678-974e-4ca2-8939-692c8acaf912",
        "colab": {}
      },
      "source": [
        "print(\"Total = R2: %0.2f, RMSE %0.3f\" % (r2(y_test,y_pred),mse(y_test,y_pred,squared = False)))"
      ],
      "execution_count": 0,
      "outputs": [
        {
          "output_type": "stream",
          "text": [
            "Total = R2: 0.60, RMSE 15.170\n"
          ],
          "name": "stdout"
        }
      ]
    },
    {
      "cell_type": "code",
      "metadata": {
        "colab_type": "code",
        "id": "i6XLFoma5nh1",
        "outputId": "34743a1a-5fac-4e2b-e4b2-4a93a06098a5",
        "colab": {}
      },
      "source": [
        "rmseDepth = rmseByDepth(y_test,y_pred)\n",
        "rmseDepth.to_csv(\"C:/Users/Dave Mont/Desktop/Master_of_DataScience/TFM/Results/depth_estimation/test-results/depth-rmse-LR.csv\",index = False)\n",
        "plt.scatter(rmseDepth['h'],rmseDepth['rmse'])"
      ],
      "execution_count": 0,
      "outputs": [
        {
          "output_type": "execute_result",
          "data": {
            "text/plain": [
              "<matplotlib.collections.PathCollection at 0x166802cb888>"
            ]
          },
          "metadata": {
            "tags": []
          },
          "execution_count": 135
        },
        {
          "output_type": "display_data",
          "data": {
            "image/png": "[encoded data removed]",
            "text/plain": [
              "<Figure size 432x288 with 1 Axes>"
            ]
          },
          "metadata": {
            "tags": [],
            "needs_background": "light"
          }
        }
      ]
    },
    {
      "cell_type": "code",
      "metadata": {
        "id": "RcjCSrc8gBkU",
        "colab_type": "code",
        "colab": {}
      },
      "source": [
        "ys = pd.DataFrame({\"y_test\":y_test,\"y_pred\":y_pred})\n",
        "ys.to_csv(\"/content/drive/My Drive/TFM/train-test-val/ytest-ypred-GLOBAL-LR.csv\",index = False)"
      ],
      "execution_count": 0,
      "outputs": []
    },
    {
      "cell_type": "code",
      "metadata": {
        "id": "P3MJn4QdgJJS",
        "colab_type": "code",
        "colab": {}
      },
      "source": [
        "data_A['z_pred'] = reg.predict(scaler.transform(X_A))\n",
        "data_B['z_pred'] = reg.predict(scaler.transform(X_B))\n",
        "data_C['z_pred'] = reg.predict(scaler.transform(X_C))\n",
        "data_G['z_pred'] = reg.predict(scaler.transform(X_G))"
      ],
      "execution_count": 0,
      "outputs": []
    },
    {
      "cell_type": "code",
      "metadata": {
        "id": "02mX9c_LgQLB",
        "colab_type": "code",
        "colab": {}
      },
      "source": [
        "data_A.to_csv(\"/content/drive/My Drive/TFM/train-test-val/data-all-A-LR.csv\",index = False)\n",
        "data_B.to_csv(\"/content/drive/My Drive/TFM/train-test-val/data-all-B-LR.csv\",index = False)\n",
        "data_C.to_csv(\"/content/drive/My Drive/TFM/train-test-val/data-all-C-LR.csv\",index = False)\n",
        "data_G.to_csv(\"/content/drive/My Drive/TFM/train-test-val/data-all-G-LR.csv\",index = False)"
      ],
      "execution_count": 0,
      "outputs": []
    },
    {
      "cell_type": "markdown",
      "metadata": {
        "colab_type": "text",
        "id": "_XwOTMJB5nh3"
      },
      "source": [
        "# Random Forest (RF)"
      ]
    },
    {
      "cell_type": "code",
      "metadata": {
        "colab_type": "code",
        "id": "o4q8DI36Mu3J",
        "outputId": "7830d47f-1e12-4cb6-a5ae-674ca7b58615",
        "colab": {
          "base_uri": "https://localhost:8080/",
          "height": 34
        }
      },
      "source": [
        "((np.arange(10,151,10)*1.04*5).sum()/60)/60"
      ],
      "execution_count": 9,
      "outputs": [
        {
          "output_type": "execute_result",
          "data": {
            "text/plain": [
              "1.7333333333333334"
            ]
          },
          "metadata": {
            "tags": []
          },
          "execution_count": 9
        }
      ]
    },
    {
      "cell_type": "code",
      "metadata": {
        "colab_type": "code",
        "id": "FH47FIye-iTn",
        "outputId": "08cb18d4-9ac6-4f7c-c320-ba6c0b39cce6",
        "colab": {
          "base_uri": "https://localhost:8080/",
          "height": 34
        }
      },
      "source": [
        "((np.array([10,20,50,100,200])*4.3*5).sum()/60 + (np.array([10,20,50,100,200])*1.03*5).sum()/60)/60"
      ],
      "execution_count": 0,
      "outputs": [
        {
          "output_type": "execute_result",
          "data": {
            "text/plain": [
              "2.8130555555555556"
            ]
          },
          "metadata": {
            "tags": []
          },
          "execution_count": 30
        }
      ]
    },
    {
      "cell_type": "code",
      "metadata": {
        "colab_type": "code",
        "id": "HcWiRiwrMhAi",
        "outputId": "c7b46247-eafc-41d8-d5e7-21f54d827284",
        "colab": {
          "base_uri": "https://localhost:8080/",
          "height": 354
        }
      },
      "source": [
        "parameters = {\"n_estimators\":[100,200,300,400,500],\"max_features\":[\"auto\",\"sqrt\"]}\n",
        "rfReg = GridSearchCV(rf(),parameters,cv = 3,scoring = \"neg_root_mean_squared_error\")\n",
        "rfReg.fit(X_train,y_train)"
      ],
      "execution_count": 0,
      "outputs": [
        {
          "output_type": "execute_result",
          "data": {
            "text/plain": [
              "GridSearchCV(cv=3, error_score=nan,\n",
              "             estimator=RandomForestRegressor(bootstrap=True, ccp_alpha=0.0,\n",
              "                                             criterion='mse', max_depth=None,\n",
              "                                             max_features='auto',\n",
              "                                             max_leaf_nodes=None,\n",
              "                                             max_samples=None,\n",
              "                                             min_impurity_decrease=0.0,\n",
              "                                             min_impurity_split=None,\n",
              "                                             min_samples_leaf=1,\n",
              "                                             min_samples_split=2,\n",
              "                                             min_weight_fraction_leaf=0.0,\n",
              "                                             n_estimators=100, n_jobs=None,\n",
              "                                             oob_score=False, random_state=None,\n",
              "                                             verbose=0, warm_start=False),\n",
              "             iid='deprecated', n_jobs=None,\n",
              "             param_grid={'max_features': ['auto', 'sqrt'],\n",
              "                         'n_estimators': [100, 200, 300, 400, 500]},\n",
              "             pre_dispatch='2*n_jobs', refit=True, return_train_score=False,\n",
              "             scoring='neg_root_mean_squared_error', verbose=0)"
            ]
          },
          "metadata": {
            "tags": []
          },
          "execution_count": 18
        }
      ]
    },
    {
      "cell_type": "code",
      "metadata": {
        "colab_type": "code",
        "id": "5ohVVsWRvP6h",
        "colab": {}
      },
      "source": [
        "cv_results = pd.DataFrame(rfReg.cv_results_)\n",
        "cv_results = cv_results.drop(columns = ['params'])\n",
        "cv_results.to_csv(\"/content/drive/My Drive/TFM/train-test-val/gridsearchcv-results-rf-1.csv\",index = False)"
      ],
      "execution_count": 0,
      "outputs": []
    },
    {
      "cell_type": "code",
      "metadata": {
        "colab_type": "code",
        "id": "LRpgRLFuwTO_",
        "colab": {}
      },
      "source": [
        "from joblib import dump, load"
      ],
      "execution_count": 0,
      "outputs": []
    },
    {
      "cell_type": "code",
      "metadata": {
        "colab_type": "code",
        "id": "KnWGy2UEdn7N",
        "outputId": "fc125d3b-7598-417e-de84-208fa5a690ed",
        "colab": {}
      },
      "source": [
        "#dump(rfReg.best_estimator_,'/content/drive/My Drive/TFM/train-test-val/rf-200-sqrt.joblib')\n",
        "#clf = load('/content/drive/My Drive/TFM/train-test-val/rf-200-sqrt.joblib') \n",
        "#clf = load('C:/Users/Dave Mont/Desktop/rf-200-sqrt.joblib')\n",
        "fi = clf.feature_importances_\n",
        "fidf = pd.DataFrame({\"feature\":X_A.columns,\"feature_importances\":fi})\n",
        "fidf.to_csv(\"C:/Users/Dave Mont/Desktop/Master_of_DataScience/TFM/Results/depth_estimation/test-results/feature-importances-rf-200-sqrt.csv\",index = False)"
      ],
      "execution_count": 0,
      "outputs": [
        {
          "output_type": "stream",
          "text": [
            "C:\\Users\\Dave Mont\\anaconda3\\lib\\site-packages\\sklearn\\base.py:318: UserWarning: Trying to unpickle estimator DecisionTreeRegressor from version 0.22.2.post1 when using version 0.22.1. This might lead to breaking code or invalid results. Use at your own risk.\n",
            "  UserWarning)\n",
            "C:\\Users\\Dave Mont\\anaconda3\\lib\\site-packages\\sklearn\\base.py:318: UserWarning: Trying to unpickle estimator RandomForestRegressor from version 0.22.2.post1 when using version 0.22.1. This might lead to breaking code or invalid results. Use at your own risk.\n",
            "  UserWarning)\n"
          ],
          "name": "stderr"
        }
      ]
    },
    {
      "cell_type": "code",
      "metadata": {
        "id": "BRxKkB5jdn7Q",
        "colab_type": "code",
        "outputId": "3ee68820-e4a2-4a7b-d420-26aacd35a175",
        "colab": {
          "base_uri": "https://localhost:8080/",
          "height": 354
        }
      },
      "source": [
        "parameters = {\"n_estimators\":np.arange(10,151,10)}\n",
        "rfReg = GridSearchCV(rf(max_features = \"sqrt\"),parameters,cv = 5,scoring = \"neg_root_mean_squared_error\")\n",
        "rfReg.fit(X_train,y_train)"
      ],
      "execution_count": 10,
      "outputs": [
        {
          "output_type": "execute_result",
          "data": {
            "text/plain": [
              "GridSearchCV(cv=5, error_score=nan,\n",
              "             estimator=RandomForestRegressor(bootstrap=True, ccp_alpha=0.0,\n",
              "                                             criterion='mse', max_depth=None,\n",
              "                                             max_features='sqrt',\n",
              "                                             max_leaf_nodes=None,\n",
              "                                             max_samples=None,\n",
              "                                             min_impurity_decrease=0.0,\n",
              "                                             min_impurity_split=None,\n",
              "                                             min_samples_leaf=1,\n",
              "                                             min_samples_split=2,\n",
              "                                             min_weight_fraction_leaf=0.0,\n",
              "                                             n_estimators=100, n_jobs=None,\n",
              "                                             oob_score=False, random_state=None,\n",
              "                                             verbose=0, warm_start=False),\n",
              "             iid='deprecated', n_jobs=None,\n",
              "             param_grid={'n_estimators': array([ 10,  20,  30,  40,  50,  60,  70,  80,  90, 100, 110, 120, 130,\n",
              "       140, 150])},\n",
              "             pre_dispatch='2*n_jobs', refit=True, return_train_score=False,\n",
              "             scoring='neg_root_mean_squared_error', verbose=0)"
            ]
          },
          "metadata": {
            "tags": []
          },
          "execution_count": 10
        }
      ]
    },
    {
      "cell_type": "code",
      "metadata": {
        "id": "XizuMXWCMuuB",
        "colab_type": "code",
        "colab": {}
      },
      "source": [
        "cv_results = pd.DataFrame(rfReg.cv_results_)\n",
        "cv_results = cv_results.drop(columns = ['params'])\n",
        "cv_results.to_csv(\"/content/drive/My Drive/TFM/train-test-val/gridsearchcv-results-rf-3.csv\",index = False)"
      ],
      "execution_count": 0,
      "outputs": []
    },
    {
      "cell_type": "code",
      "metadata": {
        "id": "k8t_m42R3KAY",
        "colab_type": "code",
        "colab": {
          "base_uri": "https://localhost:8080/",
          "height": 517
        },
        "outputId": "c80272ba-5d87-49c0-856f-843e7c26206a"
      },
      "source": [
        "cv_results"
      ],
      "execution_count": 13,
      "outputs": [
        {
          "output_type": "execute_result",
          "data": {
            "text/html": [
              "<div>\n",
              "<style scoped>\n",
              "    .dataframe tbody tr th:only-of-type {\n",
              "        vertical-align: middle;\n",
              "    }\n",
              "\n",
              "    .dataframe tbody tr th {\n",
              "        vertical-align: top;\n",
              "    }\n",
              "\n",
              "    .dataframe thead th {\n",
              "        text-align: right;\n",
              "    }\n",
              "</style>\n",
              "<table border=\"1\" class=\"dataframe\">\n",
              "  <thead>\n",
              "    <tr style=\"text-align: right;\">\n",
              "      <th></th>\n",
              "      <th>mean_fit_time</th>\n",
              "      <th>std_fit_time</th>\n",
              "      <th>mean_score_time</th>\n",
              "      <th>std_score_time</th>\n",
              "      <th>param_n_estimators</th>\n",
              "      <th>split0_test_score</th>\n",
              "      <th>split1_test_score</th>\n",
              "      <th>split2_test_score</th>\n",
              "      <th>split3_test_score</th>\n",
              "      <th>split4_test_score</th>\n",
              "      <th>mean_test_score</th>\n",
              "      <th>std_test_score</th>\n",
              "      <th>rank_test_score</th>\n",
              "    </tr>\n",
              "  </thead>\n",
              "  <tbody>\n",
              "    <tr>\n",
              "      <th>0</th>\n",
              "      <td>10.199662</td>\n",
              "      <td>0.100897</td>\n",
              "      <td>0.263380</td>\n",
              "      <td>0.094863</td>\n",
              "      <td>10</td>\n",
              "      <td>-16.741163</td>\n",
              "      <td>-14.279291</td>\n",
              "      <td>-14.382104</td>\n",
              "      <td>-9.158245</td>\n",
              "      <td>-5.329099</td>\n",
              "      <td>-11.977981</td>\n",
              "      <td>4.145414</td>\n",
              "      <td>15</td>\n",
              "    </tr>\n",
              "    <tr>\n",
              "      <th>1</th>\n",
              "      <td>20.147299</td>\n",
              "      <td>0.210569</td>\n",
              "      <td>0.521333</td>\n",
              "      <td>0.194237</td>\n",
              "      <td>20</td>\n",
              "      <td>-11.587065</td>\n",
              "      <td>-13.944542</td>\n",
              "      <td>-13.950087</td>\n",
              "      <td>-8.913723</td>\n",
              "      <td>-5.193256</td>\n",
              "      <td>-10.717735</td>\n",
              "      <td>3.328377</td>\n",
              "      <td>13</td>\n",
              "    </tr>\n",
              "    <tr>\n",
              "      <th>2</th>\n",
              "      <td>30.300694</td>\n",
              "      <td>0.308086</td>\n",
              "      <td>0.786513</td>\n",
              "      <td>0.293629</td>\n",
              "      <td>30</td>\n",
              "      <td>-11.573951</td>\n",
              "      <td>-13.898740</td>\n",
              "      <td>-13.859123</td>\n",
              "      <td>-8.864245</td>\n",
              "      <td>-5.115340</td>\n",
              "      <td>-10.662280</td>\n",
              "      <td>3.332479</td>\n",
              "      <td>11</td>\n",
              "    </tr>\n",
              "    <tr>\n",
              "      <th>3</th>\n",
              "      <td>40.373823</td>\n",
              "      <td>0.664040</td>\n",
              "      <td>1.053270</td>\n",
              "      <td>0.390199</td>\n",
              "      <td>40</td>\n",
              "      <td>-11.210556</td>\n",
              "      <td>-13.781882</td>\n",
              "      <td>-13.806096</td>\n",
              "      <td>-8.817768</td>\n",
              "      <td>-5.114505</td>\n",
              "      <td>-10.546161</td>\n",
              "      <td>3.287209</td>\n",
              "      <td>7</td>\n",
              "    </tr>\n",
              "    <tr>\n",
              "      <th>4</th>\n",
              "      <td>50.432508</td>\n",
              "      <td>0.510390</td>\n",
              "      <td>1.316212</td>\n",
              "      <td>0.486383</td>\n",
              "      <td>50</td>\n",
              "      <td>-12.448125</td>\n",
              "      <td>-13.708753</td>\n",
              "      <td>-13.823296</td>\n",
              "      <td>-8.809229</td>\n",
              "      <td>-5.110712</td>\n",
              "      <td>-10.780023</td>\n",
              "      <td>3.365907</td>\n",
              "      <td>14</td>\n",
              "    </tr>\n",
              "    <tr>\n",
              "      <th>5</th>\n",
              "      <td>60.525936</td>\n",
              "      <td>1.612307</td>\n",
              "      <td>1.563092</td>\n",
              "      <td>0.581728</td>\n",
              "      <td>60</td>\n",
              "      <td>-10.506600</td>\n",
              "      <td>-13.722172</td>\n",
              "      <td>-13.759267</td>\n",
              "      <td>-8.791371</td>\n",
              "      <td>-5.078387</td>\n",
              "      <td>-10.371559</td>\n",
              "      <td>3.263007</td>\n",
              "      <td>2</td>\n",
              "    </tr>\n",
              "    <tr>\n",
              "      <th>6</th>\n",
              "      <td>70.374451</td>\n",
              "      <td>0.759555</td>\n",
              "      <td>1.803703</td>\n",
              "      <td>0.666104</td>\n",
              "      <td>70</td>\n",
              "      <td>-10.494444</td>\n",
              "      <td>-13.687139</td>\n",
              "      <td>-13.768236</td>\n",
              "      <td>-8.773006</td>\n",
              "      <td>-5.087264</td>\n",
              "      <td>-10.362018</td>\n",
              "      <td>3.256510</td>\n",
              "      <td>1</td>\n",
              "    </tr>\n",
              "    <tr>\n",
              "      <th>7</th>\n",
              "      <td>80.460106</td>\n",
              "      <td>1.083829</td>\n",
              "      <td>2.080287</td>\n",
              "      <td>0.769373</td>\n",
              "      <td>80</td>\n",
              "      <td>-11.747671</td>\n",
              "      <td>-13.702583</td>\n",
              "      <td>-13.748326</td>\n",
              "      <td>-8.766156</td>\n",
              "      <td>-5.076632</td>\n",
              "      <td>-10.608274</td>\n",
              "      <td>3.308334</td>\n",
              "      <td>9</td>\n",
              "    </tr>\n",
              "    <tr>\n",
              "      <th>8</th>\n",
              "      <td>90.464892</td>\n",
              "      <td>1.682539</td>\n",
              "      <td>2.331084</td>\n",
              "      <td>0.865053</td>\n",
              "      <td>90</td>\n",
              "      <td>-10.718509</td>\n",
              "      <td>-13.668960</td>\n",
              "      <td>-13.741246</td>\n",
              "      <td>-8.761706</td>\n",
              "      <td>-5.064156</td>\n",
              "      <td>-10.390915</td>\n",
              "      <td>3.259027</td>\n",
              "      <td>3</td>\n",
              "    </tr>\n",
              "    <tr>\n",
              "      <th>9</th>\n",
              "      <td>101.283166</td>\n",
              "      <td>1.421623</td>\n",
              "      <td>2.606662</td>\n",
              "      <td>0.956450</td>\n",
              "      <td>100</td>\n",
              "      <td>-10.944801</td>\n",
              "      <td>-13.674473</td>\n",
              "      <td>-13.738712</td>\n",
              "      <td>-8.760470</td>\n",
              "      <td>-5.082960</td>\n",
              "      <td>-10.440283</td>\n",
              "      <td>3.259351</td>\n",
              "      <td>4</td>\n",
              "    </tr>\n",
              "    <tr>\n",
              "      <th>10</th>\n",
              "      <td>111.068666</td>\n",
              "      <td>1.193554</td>\n",
              "      <td>2.911483</td>\n",
              "      <td>1.085922</td>\n",
              "      <td>110</td>\n",
              "      <td>-12.008162</td>\n",
              "      <td>-13.660099</td>\n",
              "      <td>-13.710827</td>\n",
              "      <td>-8.754240</td>\n",
              "      <td>-5.054696</td>\n",
              "      <td>-10.637605</td>\n",
              "      <td>3.321883</td>\n",
              "      <td>10</td>\n",
              "    </tr>\n",
              "    <tr>\n",
              "      <th>11</th>\n",
              "      <td>121.369717</td>\n",
              "      <td>1.496591</td>\n",
              "      <td>3.160429</td>\n",
              "      <td>1.168342</td>\n",
              "      <td>120</td>\n",
              "      <td>-12.325298</td>\n",
              "      <td>-13.651360</td>\n",
              "      <td>-13.704568</td>\n",
              "      <td>-8.747175</td>\n",
              "      <td>-5.043376</td>\n",
              "      <td>-10.694355</td>\n",
              "      <td>3.352322</td>\n",
              "      <td>12</td>\n",
              "    </tr>\n",
              "    <tr>\n",
              "      <th>12</th>\n",
              "      <td>131.776132</td>\n",
              "      <td>1.892762</td>\n",
              "      <td>3.465660</td>\n",
              "      <td>1.301692</td>\n",
              "      <td>130</td>\n",
              "      <td>-11.096708</td>\n",
              "      <td>-13.653327</td>\n",
              "      <td>-13.721014</td>\n",
              "      <td>-8.749455</td>\n",
              "      <td>-5.053965</td>\n",
              "      <td>-10.454894</td>\n",
              "      <td>3.267660</td>\n",
              "      <td>5</td>\n",
              "    </tr>\n",
              "    <tr>\n",
              "      <th>13</th>\n",
              "      <td>142.304408</td>\n",
              "      <td>2.058670</td>\n",
              "      <td>3.715415</td>\n",
              "      <td>1.393130</td>\n",
              "      <td>140</td>\n",
              "      <td>-11.599458</td>\n",
              "      <td>-13.628403</td>\n",
              "      <td>-13.699533</td>\n",
              "      <td>-8.748055</td>\n",
              "      <td>-5.064981</td>\n",
              "      <td>-10.548086</td>\n",
              "      <td>3.281155</td>\n",
              "      <td>8</td>\n",
              "    </tr>\n",
              "    <tr>\n",
              "      <th>14</th>\n",
              "      <td>152.128596</td>\n",
              "      <td>2.530786</td>\n",
              "      <td>3.952445</td>\n",
              "      <td>1.466422</td>\n",
              "      <td>150</td>\n",
              "      <td>-11.300489</td>\n",
              "      <td>-13.650655</td>\n",
              "      <td>-13.704236</td>\n",
              "      <td>-8.729909</td>\n",
              "      <td>-5.062695</td>\n",
              "      <td>-10.489597</td>\n",
              "      <td>3.272048</td>\n",
              "      <td>6</td>\n",
              "    </tr>\n",
              "  </tbody>\n",
              "</table>\n",
              "</div>"
            ],
            "text/plain": [
              "    mean_fit_time  std_fit_time  ...  std_test_score  rank_test_score\n",
              "0       10.199662      0.100897  ...        4.145414               15\n",
              "1       20.147299      0.210569  ...        3.328377               13\n",
              "2       30.300694      0.308086  ...        3.332479               11\n",
              "3       40.373823      0.664040  ...        3.287209                7\n",
              "4       50.432508      0.510390  ...        3.365907               14\n",
              "5       60.525936      1.612307  ...        3.263007                2\n",
              "6       70.374451      0.759555  ...        3.256510                1\n",
              "7       80.460106      1.083829  ...        3.308334                9\n",
              "8       90.464892      1.682539  ...        3.259027                3\n",
              "9      101.283166      1.421623  ...        3.259351                4\n",
              "10     111.068666      1.193554  ...        3.321883               10\n",
              "11     121.369717      1.496591  ...        3.352322               12\n",
              "12     131.776132      1.892762  ...        3.267660                5\n",
              "13     142.304408      2.058670  ...        3.281155                8\n",
              "14     152.128596      2.530786  ...        3.272048                6\n",
              "\n",
              "[15 rows x 13 columns]"
            ]
          },
          "metadata": {
            "tags": []
          },
          "execution_count": 13
        }
      ]
    },
    {
      "cell_type": "code",
      "metadata": {
        "colab_type": "code",
        "id": "mpuK-tJd5nh-",
        "colab": {}
      },
      "source": [
        "#bestRF = rfReg.best_estimator_\n",
        "bestRF = rf(max_features = \"sqrt\",n_estimators = 20).fit(X_train,y_train)"
      ],
      "execution_count": 0,
      "outputs": []
    },
    {
      "cell_type": "code",
      "metadata": {
        "id": "UPs0ZRzOThbW",
        "colab_type": "code",
        "colab": {
          "base_uri": "https://localhost:8080/",
          "height": 141
        },
        "outputId": "35d35a59-0431-4a00-e621-c5cc9c98073c"
      },
      "source": [
        "bestRF"
      ],
      "execution_count": 22,
      "outputs": [
        {
          "output_type": "execute_result",
          "data": {
            "text/plain": [
              "RandomForestRegressor(bootstrap=True, ccp_alpha=0.0, criterion='mse',\n",
              "                      max_depth=None, max_features='sqrt', max_leaf_nodes=None,\n",
              "                      max_samples=None, min_impurity_decrease=0.0,\n",
              "                      min_impurity_split=None, min_samples_leaf=1,\n",
              "                      min_samples_split=2, min_weight_fraction_leaf=0.0,\n",
              "                      n_estimators=20, n_jobs=None, oob_score=False,\n",
              "                      random_state=None, verbose=0, warm_start=False)"
            ]
          },
          "metadata": {
            "tags": []
          },
          "execution_count": 22
        }
      ]
    },
    {
      "cell_type": "code",
      "metadata": {
        "id": "HK4TRra0OyKj",
        "colab_type": "code",
        "colab": {}
      },
      "source": [
        "fidf = pd.DataFrame({\"feature\":X_A.columns,\"feature_importances\":bestRF.feature_importances_})\n",
        "fidf.to_csv(\"/content/drive/My Drive/TFM/train-test-val/feature-importances-rf-20-sqrt.csv\",index = False)"
      ],
      "execution_count": 0,
      "outputs": []
    },
    {
      "cell_type": "code",
      "metadata": {
        "colab_type": "code",
        "id": "DKRp5-Ie5niA",
        "colab": {}
      },
      "source": [
        "y_pred_A = bestRF.predict(scaler.transform(X_test_A))\n",
        "y_pred_B = bestRF.predict(scaler.transform(X_test_B))\n",
        "y_pred_C = bestRF.predict(scaler.transform(X_test_C))\n",
        "y_pred_G = bestRF.predict(scaler.transform(X_test_G))\n",
        "\n",
        "ys_A = pd.DataFrame({\"y_test\":y_test_A,\"y_pred\":y_pred_A})\n",
        "ys_B = pd.DataFrame({\"y_test\":y_test_B,\"y_pred\":y_pred_B})\n",
        "ys_C = pd.DataFrame({\"y_test\":y_test_C,\"y_pred\":y_pred_C})\n",
        "ys_G = pd.DataFrame({\"y_test\":y_test_G,\"y_pred\":y_pred_G})\n",
        "\n",
        "ys_A.to_csv(\"/content/drive/My Drive/TFM/train-test-val/ytest-ypred-A-RF-20-sqrt.csv\",index = False)\n",
        "ys_B.to_csv(\"/content/drive/My Drive/TFM/train-test-val/ytest-ypred-B-RF-20-sqrt.csv\",index = False)\n",
        "ys_C.to_csv(\"/content/drive/My Drive/TFM/train-test-val/ytest-ypred-C-RF-20-sqrt.csv\",index = False)\n",
        "ys_G.to_csv(\"/content/drive/My Drive/TFM/train-test-val/ytest-ypred-G-RF-20-sqrt.csv\",index = False)"
      ],
      "execution_count": 0,
      "outputs": []
    },
    {
      "cell_type": "code",
      "metadata": {
        "colab_type": "code",
        "id": "Hjg8jGRH5niD",
        "outputId": "68c5ae32-2acd-49e7-ce11-dbc384b33772",
        "colab": {
          "base_uri": "https://localhost:8080/",
          "height": 87
        }
      },
      "source": [
        "print(\"Alto-Lindoso = R2: %0.2f, RMSE %0.3f\" % (r2(y_test_A,y_pred_A),mse(y_test_A,y_pred_A,squared = False)))\n",
        "print(\"Bubal = R2: %0.2f, RMSE %0.3f\" % (r2(y_test_B,y_pred_B),mse(y_test_B,y_pred_B,squared = False)))\n",
        "print(\"Canelles = R2: %0.2f, RMSE %0.3f\" % (r2(y_test_C,y_pred_C),mse(y_test_C,y_pred_C,squared = False)))\n",
        "print(\"Grado = R2: %0.2f, RMSE %0.3f\" % (r2(y_test_G,y_pred_G),mse(y_test_G,y_pred_G,squared = False)))"
      ],
      "execution_count": 25,
      "outputs": [
        {
          "output_type": "stream",
          "text": [
            "Alto-Lindoso = R2: 0.71, RMSE 8.074\n",
            "Bubal = R2: 0.86, RMSE 3.547\n",
            "Canelles = R2: 0.77, RMSE 13.617\n",
            "Grado = R2: 0.92, RMSE 4.531\n"
          ],
          "name": "stdout"
        }
      ]
    },
    {
      "cell_type": "code",
      "metadata": {
        "colab_type": "code",
        "id": "E1XC9Lte5niJ",
        "colab": {}
      },
      "source": [
        "y_test = np.array(pd.concat([y_test_A,y_test_B,y_test_C,y_test_G]))\n",
        "y_pred = np.concatenate((y_pred_A,y_pred_B,y_pred_C,y_pred_G))"
      ],
      "execution_count": 0,
      "outputs": []
    },
    {
      "cell_type": "code",
      "metadata": {
        "colab_type": "code",
        "id": "CIy3B4Va5niL",
        "outputId": "cc5fae97-45a2-494b-a08c-ba38ff75a1c0",
        "colab": {
          "base_uri": "https://localhost:8080/",
          "height": 34
        }
      },
      "source": [
        "print(\"Total = R2: %0.2f, RMSE %0.3f\" % (r2(y_test,y_pred),mse(y_test,y_pred,squared = False)))"
      ],
      "execution_count": 27,
      "outputs": [
        {
          "output_type": "stream",
          "text": [
            "Total = R2: 0.81, RMSE 10.286\n"
          ],
          "name": "stdout"
        }
      ]
    },
    {
      "cell_type": "code",
      "metadata": {
        "colab_type": "code",
        "id": "UmCXig8m5niO",
        "outputId": "cfa07f22-8707-4f3a-da50-f82d90404245",
        "colab": {
          "base_uri": "https://localhost:8080/",
          "height": 282
        }
      },
      "source": [
        "rmseDepth = rmseByDepth(y_test,y_pred)\n",
        "rmseDepth.to_csv(\"/content/drive/My Drive/TFM/train-test-val/depth-rmse-RF-20-sqrt.csv\",index = False)\n",
        "plt.scatter(rmseDepth['h'],rmseDepth['rmse'])"
      ],
      "execution_count": 28,
      "outputs": [
        {
          "output_type": "execute_result",
          "data": {
            "text/plain": [
              "<matplotlib.collections.PathCollection at 0x7f2ea58fbeb8>"
            ]
          },
          "metadata": {
            "tags": []
          },
          "execution_count": 28
        },
        {
          "output_type": "display_data",
          "data": {
            "image/png": "[encoded data removed]",
            "text/plain": [
              "<Figure size 432x288 with 1 Axes>"
            ]
          },
          "metadata": {
            "tags": [],
            "needs_background": "light"
          }
        }
      ]
    },
    {
      "cell_type": "code",
      "metadata": {
        "id": "ZHRE_r9RQu8R",
        "colab_type": "code",
        "colab": {}
      },
      "source": [
        "ys = pd.DataFrame({\"y_test\":y_test,\"y_pred\":y_pred})\n",
        "ys.to_csv(\"/content/drive/My Drive/TFM/train-test-val/ytest-ypred-GLOBAL-RF-20-sqrt.csv\",index = False)"
      ],
      "execution_count": 0,
      "outputs": []
    },
    {
      "cell_type": "code",
      "metadata": {
        "colab_type": "code",
        "id": "u2FR9VgUsSc5",
        "colab": {}
      },
      "source": [
        "data_A['z_pred'] = bestRF.predict(scaler.transform(X_A))\n",
        "data_B['z_pred'] = bestRF.predict(scaler.transform(X_B))\n",
        "data_C['z_pred'] = bestRF.predict(scaler.transform(X_C))\n",
        "data_G['z_pred'] = bestRF.predict(scaler.transform(X_G))"
      ],
      "execution_count": 0,
      "outputs": []
    },
    {
      "cell_type": "code",
      "metadata": {
        "id": "RDVWQ_qCSmnm",
        "colab_type": "code",
        "colab": {}
      },
      "source": [
        "data_A.to_csv(\"/content/drive/My Drive/TFM/train-test-val/data-all-A-RF-20-sqrt.csv\",index = False)\n",
        "data_B.to_csv(\"/content/drive/My Drive/TFM/train-test-val/data-all-B-RF-20-sqrt.csv\",index = False)\n",
        "data_C.to_csv(\"/content/drive/My Drive/TFM/train-test-val/data-all-C-RF-20-sqrt.csv\",index = False)\n",
        "data_G.to_csv(\"/content/drive/My Drive/TFM/train-test-val/data-all-G-RF-20-sqrt.csv\",index = False)"
      ],
      "execution_count": 0,
      "outputs": []
    },
    {
      "cell_type": "code",
      "metadata": {
        "id": "3zMd5OfLVV48",
        "colab_type": "code",
        "outputId": "697a832b-0a59-4a50-8049-c418c34ab661",
        "colab": {
          "base_uri": "https://localhost:8080/",
          "height": 282
        }
      },
      "source": [
        "plt.scatter(y_test,y_pred)"
      ],
      "execution_count": 32,
      "outputs": [
        {
          "output_type": "execute_result",
          "data": {
            "text/plain": [
              "<matplotlib.collections.PathCollection at 0x7f2ea2bd9320>"
            ]
          },
          "metadata": {
            "tags": []
          },
          "execution_count": 32
        },
        {
          "output_type": "display_data",
          "data": {
            "image/png": "[encoded data removed]",
            "text/plain": [
              "<Figure size 432x288 with 1 Axes>"
            ]
          },
          "metadata": {
            "tags": [],
            "needs_background": "light"
          }
        }
      ]
    },
    {
      "cell_type": "markdown",
      "metadata": {
        "id": "Xdpt3FYMkLWd",
        "colab_type": "text"
      },
      "source": [
        "# Gradient Boosting"
      ]
    },
    {
      "cell_type": "code",
      "metadata": {
        "id": "V0H7M6vJkM7A",
        "colab_type": "code",
        "outputId": "d6e14963-febc-45aa-ed7e-3bdc49c8cd4e",
        "colab": {
          "base_uri": "https://localhost:8080/",
          "height": 425
        }
      },
      "source": [
        "parameters = {\"max_depth\":np.arange(10,101,10)}\n",
        "gbreg = gb(n_estimators = 500,max_features = \"sqrt\",validation_fraction = 0.05,n_iter_no_change = 10,random_state = 20,tol = 0.01)\n",
        "rfReg = GridSearchCV(gbreg,parameters,cv = 5,scoring = \"neg_root_mean_squared_error\")\n",
        "rfReg.fit(X_train,y_train)"
      ],
      "execution_count": 0,
      "outputs": [
        {
          "output_type": "execute_result",
          "data": {
            "text/plain": [
              "GridSearchCV(cv=5, error_score=nan,\n",
              "             estimator=GradientBoostingRegressor(alpha=0.9, ccp_alpha=0.0,\n",
              "                                                 criterion='friedman_mse',\n",
              "                                                 init=None, learning_rate=0.1,\n",
              "                                                 loss='ls', max_depth=3,\n",
              "                                                 max_features='sqrt',\n",
              "                                                 max_leaf_nodes=None,\n",
              "                                                 min_impurity_decrease=0.0,\n",
              "                                                 min_impurity_split=None,\n",
              "                                                 min_samples_leaf=1,\n",
              "                                                 min_samples_split=2,\n",
              "                                                 min_weight_fraction_leaf=0.0,\n",
              "                                                 n_estimators=500,\n",
              "                                                 n_iter_no_change=10,\n",
              "                                                 presort='deprecated',\n",
              "                                                 random_state=20, subsample=1.0,\n",
              "                                                 tol=0.01,\n",
              "                                                 validation_fraction=0.05,\n",
              "                                                 verbose=0, warm_start=False),\n",
              "             iid='deprecated', n_jobs=None,\n",
              "             param_grid={'max_depth': array([ 10,  20,  30,  40,  50,  60,  70,  80,  90, 100])},\n",
              "             pre_dispatch='2*n_jobs', refit=True, return_train_score=False,\n",
              "             scoring='neg_root_mean_squared_error', verbose=0)"
            ]
          },
          "metadata": {
            "tags": []
          },
          "execution_count": 20
        }
      ]
    },
    {
      "cell_type": "code",
      "metadata": {
        "id": "riW-YnS4TVbP",
        "colab_type": "code",
        "outputId": "b9e2b725-d91e-47ef-cb89-ae6fefbb32b3",
        "colab": {
          "base_uri": "https://localhost:8080/",
          "height": 367
        }
      },
      "source": [
        "cv_results = pd.DataFrame(rfReg.cv_results_)\n",
        "cv_results = cv_results.drop(columns = ['params'])\n",
        "cv_results\n",
        "#v_results.to_csv(\"/content/drive/My Drive/TFM/train-test-val/gridsearchcv-results-gb.csv\",index = False)"
      ],
      "execution_count": 0,
      "outputs": [
        {
          "output_type": "execute_result",
          "data": {
            "text/html": [
              "<div>\n",
              "<style scoped>\n",
              "    .dataframe tbody tr th:only-of-type {\n",
              "        vertical-align: middle;\n",
              "    }\n",
              "\n",
              "    .dataframe tbody tr th {\n",
              "        vertical-align: top;\n",
              "    }\n",
              "\n",
              "    .dataframe thead th {\n",
              "        text-align: right;\n",
              "    }\n",
              "</style>\n",
              "<table border=\"1\" class=\"dataframe\">\n",
              "  <thead>\n",
              "    <tr style=\"text-align: right;\">\n",
              "      <th></th>\n",
              "      <th>mean_fit_time</th>\n",
              "      <th>std_fit_time</th>\n",
              "      <th>mean_score_time</th>\n",
              "      <th>std_score_time</th>\n",
              "      <th>param_max_depth</th>\n",
              "      <th>split0_test_score</th>\n",
              "      <th>split1_test_score</th>\n",
              "      <th>split2_test_score</th>\n",
              "      <th>split3_test_score</th>\n",
              "      <th>split4_test_score</th>\n",
              "      <th>mean_test_score</th>\n",
              "      <th>std_test_score</th>\n",
              "      <th>rank_test_score</th>\n",
              "    </tr>\n",
              "  </thead>\n",
              "  <tbody>\n",
              "    <tr>\n",
              "      <th>0</th>\n",
              "      <td>374.787847</td>\n",
              "      <td>31.214115</td>\n",
              "      <td>1.307010</td>\n",
              "      <td>0.098904</td>\n",
              "      <td>10</td>\n",
              "      <td>-24.632899</td>\n",
              "      <td>-13.745773</td>\n",
              "      <td>-13.762028</td>\n",
              "      <td>-9.075303</td>\n",
              "      <td>-5.461938</td>\n",
              "      <td>-13.335588</td>\n",
              "      <td>6.451724</td>\n",
              "      <td>10</td>\n",
              "    </tr>\n",
              "    <tr>\n",
              "      <th>1</th>\n",
              "      <td>69.303643</td>\n",
              "      <td>2.819643</td>\n",
              "      <td>0.789814</td>\n",
              "      <td>0.245146</td>\n",
              "      <td>20</td>\n",
              "      <td>-11.309234</td>\n",
              "      <td>-13.842028</td>\n",
              "      <td>-13.920872</td>\n",
              "      <td>-8.814056</td>\n",
              "      <td>-5.067002</td>\n",
              "      <td>-10.590638</td>\n",
              "      <td>3.342011</td>\n",
              "      <td>1</td>\n",
              "    </tr>\n",
              "    <tr>\n",
              "      <th>2</th>\n",
              "      <td>90.216528</td>\n",
              "      <td>8.583300</td>\n",
              "      <td>1.502949</td>\n",
              "      <td>0.627926</td>\n",
              "      <td>30</td>\n",
              "      <td>-14.147875</td>\n",
              "      <td>-14.124326</td>\n",
              "      <td>-14.175043</td>\n",
              "      <td>-8.991172</td>\n",
              "      <td>-5.148564</td>\n",
              "      <td>-11.317396</td>\n",
              "      <td>3.674845</td>\n",
              "      <td>8</td>\n",
              "    </tr>\n",
              "    <tr>\n",
              "      <th>3</th>\n",
              "      <td>96.167553</td>\n",
              "      <td>10.045795</td>\n",
              "      <td>1.605572</td>\n",
              "      <td>0.689335</td>\n",
              "      <td>40</td>\n",
              "      <td>-14.471448</td>\n",
              "      <td>-14.088459</td>\n",
              "      <td>-14.178181</td>\n",
              "      <td>-9.029074</td>\n",
              "      <td>-5.103885</td>\n",
              "      <td>-11.374209</td>\n",
              "      <td>3.731995</td>\n",
              "      <td>9</td>\n",
              "    </tr>\n",
              "    <tr>\n",
              "      <th>4</th>\n",
              "      <td>97.440792</td>\n",
              "      <td>12.494731</td>\n",
              "      <td>1.648567</td>\n",
              "      <td>0.726944</td>\n",
              "      <td>50</td>\n",
              "      <td>-13.858561</td>\n",
              "      <td>-14.122633</td>\n",
              "      <td>-14.215075</td>\n",
              "      <td>-9.008798</td>\n",
              "      <td>-5.132820</td>\n",
              "      <td>-11.267577</td>\n",
              "      <td>3.641143</td>\n",
              "      <td>7</td>\n",
              "    </tr>\n",
              "    <tr>\n",
              "      <th>5</th>\n",
              "      <td>97.819220</td>\n",
              "      <td>10.554130</td>\n",
              "      <td>1.650695</td>\n",
              "      <td>0.716848</td>\n",
              "      <td>60</td>\n",
              "      <td>-10.740356</td>\n",
              "      <td>-14.101378</td>\n",
              "      <td>-14.188764</td>\n",
              "      <td>-8.992130</td>\n",
              "      <td>-5.129334</td>\n",
              "      <td>-10.630392</td>\n",
              "      <td>3.396097</td>\n",
              "      <td>2</td>\n",
              "    </tr>\n",
              "    <tr>\n",
              "      <th>6</th>\n",
              "      <td>96.174330</td>\n",
              "      <td>9.487433</td>\n",
              "      <td>1.601692</td>\n",
              "      <td>0.680297</td>\n",
              "      <td>70</td>\n",
              "      <td>-10.740356</td>\n",
              "      <td>-14.101541</td>\n",
              "      <td>-14.188764</td>\n",
              "      <td>-8.992130</td>\n",
              "      <td>-5.129334</td>\n",
              "      <td>-10.630425</td>\n",
              "      <td>3.396131</td>\n",
              "      <td>3</td>\n",
              "    </tr>\n",
              "    <tr>\n",
              "      <th>7</th>\n",
              "      <td>96.339122</td>\n",
              "      <td>9.871218</td>\n",
              "      <td>1.617017</td>\n",
              "      <td>0.690480</td>\n",
              "      <td>80</td>\n",
              "      <td>-10.740356</td>\n",
              "      <td>-14.101541</td>\n",
              "      <td>-14.188764</td>\n",
              "      <td>-8.992130</td>\n",
              "      <td>-5.129334</td>\n",
              "      <td>-10.630425</td>\n",
              "      <td>3.396131</td>\n",
              "      <td>3</td>\n",
              "    </tr>\n",
              "    <tr>\n",
              "      <th>8</th>\n",
              "      <td>96.319501</td>\n",
              "      <td>9.524730</td>\n",
              "      <td>1.615577</td>\n",
              "      <td>0.652270</td>\n",
              "      <td>90</td>\n",
              "      <td>-10.740356</td>\n",
              "      <td>-14.101541</td>\n",
              "      <td>-14.188764</td>\n",
              "      <td>-8.992130</td>\n",
              "      <td>-5.129334</td>\n",
              "      <td>-10.630425</td>\n",
              "      <td>3.396131</td>\n",
              "      <td>3</td>\n",
              "    </tr>\n",
              "    <tr>\n",
              "      <th>9</th>\n",
              "      <td>94.726722</td>\n",
              "      <td>10.601826</td>\n",
              "      <td>1.601040</td>\n",
              "      <td>0.663758</td>\n",
              "      <td>100</td>\n",
              "      <td>-10.740356</td>\n",
              "      <td>-14.101541</td>\n",
              "      <td>-14.188764</td>\n",
              "      <td>-8.992130</td>\n",
              "      <td>-5.129334</td>\n",
              "      <td>-10.630425</td>\n",
              "      <td>3.396131</td>\n",
              "      <td>3</td>\n",
              "    </tr>\n",
              "  </tbody>\n",
              "</table>\n",
              "</div>"
            ],
            "text/plain": [
              "   mean_fit_time  std_fit_time  ...  std_test_score  rank_test_score\n",
              "0     374.787847     31.214115  ...        6.451724               10\n",
              "1      69.303643      2.819643  ...        3.342011                1\n",
              "2      90.216528      8.583300  ...        3.674845                8\n",
              "3      96.167553     10.045795  ...        3.731995                9\n",
              "4      97.440792     12.494731  ...        3.641143                7\n",
              "5      97.819220     10.554130  ...        3.396097                2\n",
              "6      96.174330      9.487433  ...        3.396131                3\n",
              "7      96.339122      9.871218  ...        3.396131                3\n",
              "8      96.319501      9.524730  ...        3.396131                3\n",
              "9      94.726722     10.601826  ...        3.396131                3\n",
              "\n",
              "[10 rows x 13 columns]"
            ]
          },
          "metadata": {
            "tags": []
          },
          "execution_count": 23
        }
      ]
    },
    {
      "cell_type": "code",
      "metadata": {
        "id": "LSP0YUvLszzb",
        "colab_type": "code",
        "colab": {}
      },
      "source": [
        "cv_results.to_csv(\"/content/drive/My Drive/TFM/train-test-val/gridsearchcv-results-gb.csv\",index = False)"
      ],
      "execution_count": 0,
      "outputs": []
    },
    {
      "cell_type": "code",
      "metadata": {
        "id": "eRXQsJbETf6c",
        "colab_type": "code",
        "colab": {}
      },
      "source": [
        "bestGB = rfReg.best_estimator_"
      ],
      "execution_count": 0,
      "outputs": []
    },
    {
      "cell_type": "code",
      "metadata": {
        "id": "eHes-7Rgt8V5",
        "colab_type": "code",
        "outputId": "bbd122ed-1daf-4d81-f8fd-118148a2deb1",
        "colab": {
          "base_uri": "https://localhost:8080/",
          "height": 34
        }
      },
      "source": [
        "rfReg.best_params_"
      ],
      "execution_count": 0,
      "outputs": [
        {
          "output_type": "execute_result",
          "data": {
            "text/plain": [
              "{'max_depth': 20}"
            ]
          },
          "metadata": {
            "tags": []
          },
          "execution_count": 38
        }
      ]
    },
    {
      "cell_type": "code",
      "metadata": {
        "id": "VppVqEeqTjoN",
        "colab_type": "code",
        "colab": {}
      },
      "source": [
        "fidf = pd.DataFrame({\"feature\":X_A.columns,\"feature_importances\":bestGB.feature_importances_})\n",
        "fidf.to_csv(\"/content/drive/My Drive/TFM/train-test-val/feature-importances-gb.csv\",index = False)"
      ],
      "execution_count": 0,
      "outputs": []
    },
    {
      "cell_type": "code",
      "metadata": {
        "id": "pH_l9i1oTuiB",
        "colab_type": "code",
        "colab": {}
      },
      "source": [
        "y_pred_A = bestGB.predict(scaler.transform(X_test_A))\n",
        "y_pred_B = bestGB.predict(scaler.transform(X_test_B))\n",
        "y_pred_C = bestGB.predict(scaler.transform(X_test_C))\n",
        "y_pred_G = bestGB.predict(scaler.transform(X_test_G))\n",
        "\n",
        "ys_A = pd.DataFrame({\"y_test\":y_test_A,\"y_pred\":y_pred_A})\n",
        "ys_B = pd.DataFrame({\"y_test\":y_test_B,\"y_pred\":y_pred_B})\n",
        "ys_C = pd.DataFrame({\"y_test\":y_test_C,\"y_pred\":y_pred_C})\n",
        "ys_G = pd.DataFrame({\"y_test\":y_test_G,\"y_pred\":y_pred_G})\n",
        "\n",
        "ys_A.to_csv(\"/content/drive/My Drive/TFM/train-test-val/ytest-ypred-A-GB.csv\",index = False)\n",
        "ys_B.to_csv(\"/content/drive/My Drive/TFM/train-test-val/ytest-ypred-B-GB.csv\",index = False)\n",
        "ys_C.to_csv(\"/content/drive/My Drive/TFM/train-test-val/ytest-ypred-C-GB.csv\",index = False)\n",
        "ys_G.to_csv(\"/content/drive/My Drive/TFM/train-test-val/ytest-ypred-G-GB.csv\",index = False)"
      ],
      "execution_count": 0,
      "outputs": []
    },
    {
      "cell_type": "code",
      "metadata": {
        "id": "Syb_DbXgpgty",
        "colab_type": "code",
        "outputId": "5a355407-c217-4922-c52e-c326ec435a50",
        "colab": {
          "base_uri": "https://localhost:8080/",
          "height": 87
        }
      },
      "source": [
        "print(\"Alto-Lindoso = R2: %0.2f, RMSE %0.3f\" % (r2(y_test_A,y_pred_A),mse(y_test_A,y_pred_A,squared = False)))\n",
        "print(\"Bubal = R2: %0.2f, RMSE %0.3f\" % (r2(y_test_B,y_pred_B),mse(y_test_B,y_pred_B,squared = False)))\n",
        "print(\"Canelles = R2: %0.2f, RMSE %0.3f\" % (r2(y_test_C,y_pred_C),mse(y_test_C,y_pred_C,squared = False)))\n",
        "print(\"Grado = R2: %0.2f, RMSE %0.3f\" % (r2(y_test_G,y_pred_G),mse(y_test_G,y_pred_G,squared = False)))"
      ],
      "execution_count": 0,
      "outputs": [
        {
          "output_type": "stream",
          "text": [
            "Alto-Lindoso = R2: 0.72, RMSE 7.949\n",
            "Bubal = R2: 0.87, RMSE 3.410\n",
            "Canelles = R2: 0.77, RMSE 13.481\n",
            "Grado = R2: 0.92, RMSE 4.368\n"
          ],
          "name": "stdout"
        }
      ]
    },
    {
      "cell_type": "code",
      "metadata": {
        "id": "M6yC17MoUDb0",
        "colab_type": "code",
        "colab": {}
      },
      "source": [
        "y_test = np.array(pd.concat([y_test_A,y_test_B,y_test_C,y_test_G]))\n",
        "y_pred = np.concatenate((y_pred_A,y_pred_B,y_pred_C,y_pred_G))"
      ],
      "execution_count": 0,
      "outputs": []
    },
    {
      "cell_type": "code",
      "metadata": {
        "id": "ybRUg9D5UGla",
        "colab_type": "code",
        "outputId": "4a699e8b-95de-463c-84a6-0f6e5bce3dfa",
        "colab": {
          "base_uri": "https://localhost:8080/",
          "height": 34
        }
      },
      "source": [
        "print(\"Total = R2: %0.2f, RMSE %0.3f\" % (r2(y_test,y_pred),mse(y_test,y_pred,squared = False)))"
      ],
      "execution_count": 0,
      "outputs": [
        {
          "output_type": "stream",
          "text": [
            "Total = R2: 0.82, RMSE 10.159\n"
          ],
          "name": "stdout"
        }
      ]
    },
    {
      "cell_type": "code",
      "metadata": {
        "id": "LjjiB2k_UJi_",
        "colab_type": "code",
        "outputId": "5046093a-d901-44d0-9cdb-de7b7f908697",
        "colab": {
          "base_uri": "https://localhost:8080/",
          "height": 282
        }
      },
      "source": [
        "rmseDepth = rmseByDepth(y_test,y_pred)\n",
        "rmseDepth.to_csv(\"/content/drive/My Drive/TFM/train-test-val/depth-rmse-GB.csv\",index = False)\n",
        "plt.scatter(rmseDepth['h'],rmseDepth['rmse'])"
      ],
      "execution_count": 0,
      "outputs": [
        {
          "output_type": "execute_result",
          "data": {
            "text/plain": [
              "<matplotlib.collections.PathCollection at 0x7fce675a4a20>"
            ]
          },
          "metadata": {
            "tags": []
          },
          "execution_count": 31
        },
        {
          "output_type": "display_data",
          "data": {
            "image/png": "[encoded data removed]",
            "text/plain": [
              "<Figure size 432x288 with 1 Axes>"
            ]
          },
          "metadata": {
            "tags": [],
            "needs_background": "light"
          }
        }
      ]
    },
    {
      "cell_type": "code",
      "metadata": {
        "id": "Ezdw8WdYUQhx",
        "colab_type": "code",
        "colab": {}
      },
      "source": [
        "ys = pd.DataFrame({\"y_test\":y_test,\"y_pred\":y_pred})\n",
        "ys.to_csv(\"/content/drive/My Drive/TFM/train-test-val/ytest-ypred-GLOBAL-GB.csv\",index = False)"
      ],
      "execution_count": 0,
      "outputs": []
    },
    {
      "cell_type": "code",
      "metadata": {
        "id": "buLcA_zZUVn0",
        "colab_type": "code",
        "colab": {}
      },
      "source": [
        "data_A['z_pred'] = bestGB.predict(scaler.transform(X_A))\n",
        "data_B['z_pred'] = bestGB.predict(scaler.transform(X_B))\n",
        "data_C['z_pred'] = bestGB.predict(scaler.transform(X_C))\n",
        "data_G['z_pred'] = bestGB.predict(scaler.transform(X_G))"
      ],
      "execution_count": 0,
      "outputs": []
    },
    {
      "cell_type": "code",
      "metadata": {
        "id": "9KQ1ToSGUgKh",
        "colab_type": "code",
        "colab": {}
      },
      "source": [
        "data_A.to_csv(\"/content/drive/My Drive/TFM/train-test-val/data-all-A-GB.csv\",index = False)\n",
        "data_B.to_csv(\"/content/drive/My Drive/TFM/train-test-val/data-all-B-GB.csv\",index = False)\n",
        "data_C.to_csv(\"/content/drive/My Drive/TFM/train-test-val/data-all-C-GB.csv\",index = False)\n",
        "data_G.to_csv(\"/content/drive/My Drive/TFM/train-test-val/data-all-G-GB.csv\",index = False)"
      ],
      "execution_count": 0,
      "outputs": []
    },
    {
      "cell_type": "code",
      "metadata": {
        "id": "0Uuj4ZY4UqRo",
        "colab_type": "code",
        "outputId": "e485be4b-057e-4fd4-d9b0-c70417f1d0d1",
        "colab": {
          "base_uri": "https://localhost:8080/",
          "height": 282
        }
      },
      "source": [
        "plt.scatter(y_test,y_pred)"
      ],
      "execution_count": 0,
      "outputs": [
        {
          "output_type": "execute_result",
          "data": {
            "text/plain": [
              "<matplotlib.collections.PathCollection at 0x7fce674da128>"
            ]
          },
          "metadata": {
            "tags": []
          },
          "execution_count": 35
        },
        {
          "output_type": "display_data",
          "data": {
            "image/png": "[encoded data removed]",
            "text/plain": [
              "<Figure size 432x288 with 1 Axes>"
            ]
          },
          "metadata": {
            "tags": [],
            "needs_background": "light"
          }
        }
      ]
    },
    {
      "cell_type": "code",
      "metadata": {
        "id": "cJQ0L-wLsIg-",
        "colab_type": "code",
        "outputId": "75629c65-e859-456e-9562-8a169274addd",
        "colab": {
          "base_uri": "https://localhost:8080/",
          "height": 34
        }
      },
      "source": [
        "bestGB.n_estimators_"
      ],
      "execution_count": 0,
      "outputs": [
        {
          "output_type": "execute_result",
          "data": {
            "text/plain": [
              "47"
            ]
          },
          "metadata": {
            "tags": []
          },
          "execution_count": 36
        }
      ]
    },
    {
      "cell_type": "code",
      "metadata": {
        "id": "pnzrWyTXp5Lu",
        "colab_type": "code",
        "outputId": "63936f87-cb7c-4d5e-f379-9d3c3e700eec",
        "colab": {
          "base_uri": "https://localhost:8080/",
          "height": 282
        }
      },
      "source": [
        "score_estimators = pd.DataFrame({\"estimator\":np.arange(0,bestGB.train_score_.shape[0],1),\"score\":bestGB.train_score_})\n",
        "score_estimators.to_csv(\"/content/drive/My Drive/TFM/train-test-val/score-estimators-gb.csv\",index = False)\n",
        "plt.scatter(score_estimators['estimator'],score_estimators['score'])"
      ],
      "execution_count": 0,
      "outputs": [
        {
          "output_type": "execute_result",
          "data": {
            "text/plain": [
              "<matplotlib.collections.PathCollection at 0x7fce674b8cc0>"
            ]
          },
          "metadata": {
            "tags": []
          },
          "execution_count": 37
        },
        {
          "output_type": "display_data",
          "data": {
            "image/png": "[encoded data removed]",
            "text/plain": [
              "<Figure size 432x288 with 1 Axes>"
            ]
          },
          "metadata": {
            "tags": [],
            "needs_background": "light"
          }
        }
      ]
    },
    {
      "cell_type": "code",
      "metadata": {
        "id": "NPy9Db0IusBj",
        "colab_type": "code",
        "colab": {}
      },
      "source": [
        ""
      ],
      "execution_count": 0,
      "outputs": []
    }
  ]
}