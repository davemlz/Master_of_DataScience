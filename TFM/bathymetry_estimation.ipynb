{
 "cells": [
  {
   "cell_type": "code",
   "execution_count": 1,
   "metadata": {},
   "outputs": [],
   "source": [
    "import numpy as np\n",
    "import ee\n",
    "import folium\n",
    "import pandas as pd\n",
    "from scipy.interpolate import griddata\n",
    "\n",
    "from sklearn.model_selection import train_test_split\n",
    "from sklearn.linear_model import LinearRegression\n",
    "from sklearn.model_selection import cross_val_score\n",
    "from sklearn.metrics import mean_squared_error as mse\n",
    "from sklearn.metrics import r2_score as r2\n",
    "from sklearn.preprocessing import StandardScaler\n",
    "\n",
    "from sklearn.gaussian_process import GaussianProcessRegressor\n",
    "from sklearn.gaussian_process.kernels import RBF, ConstantKernel as C, WhiteKernel\n",
    "\n",
    "from matplotlib import pyplot as plt\n",
    "import seaborn as sns"
   ]
  },
  {
   "cell_type": "code",
   "execution_count": 54,
   "metadata": {},
   "outputs": [],
   "source": [
    "from pykrige.ok import OrdinaryKriging"
   ]
  },
  {
   "cell_type": "code",
   "execution_count": 2,
   "metadata": {},
   "outputs": [],
   "source": [
    "import tqdm"
   ]
  },
  {
   "cell_type": "code",
   "execution_count": 3,
   "metadata": {},
   "outputs": [],
   "source": [
    "#!earthengine authenticate\n",
    "ee.Initialize()"
   ]
  },
  {
   "cell_type": "code",
   "execution_count": 4,
   "metadata": {},
   "outputs": [],
   "source": [
    "def foliumLayer(image,parameters,layer_name = \"layer\"):\n",
    "    \n",
    "    folium_map = folium.Map(location = [centery,centerx],zoom_start = 13,tiles = 'openstreetmap')\n",
    "    \n",
    "    mapIdDict = image.getMapId(parameters) # convertir imagen a id de visualizacion\n",
    "    \n",
    "    tile = folium.TileLayer(tiles = mapIdDict['tile_fetcher'].url_format,\n",
    "                            attr = 'Map Data &copy; <a href=\"https://earthengine.google.com/\">Google Earth Engine</a>',\n",
    "                            overlay = True,\n",
    "                            name = layer_name)\n",
    "    \n",
    "    tile.add_to(folium_map)\n",
    "    \n",
    "    folium_map.add_child(folium.LayerControl())\n",
    "    \n",
    "    return folium_map"
   ]
  },
  {
   "cell_type": "code",
   "execution_count": 5,
   "metadata": {},
   "outputs": [],
   "source": [
    "def getLatLonPixels(mask,ROI,scale = 10):\n",
    "    \n",
    "    t = tqdm.tqdm(total = 4)\n",
    "    t.update(n=0)\n",
    "    t.set_description(desc = \"Creating LonLat image\", refresh=True)\n",
    "    \n",
    "    lonlat = mask.pixelLonLat().multiply(mask)\n",
    "    \n",
    "    t.update(n=1)\n",
    "    t.set_description(desc = \"Creating dictionary\", refresh=True)\n",
    "    \n",
    "    dic = lonlat.reduceRegion(reducer = ee.Reducer.toList(),geometry = ROI,scale = scale).getInfo()\n",
    "    \n",
    "    lat = dic['latitude']\n",
    "    lon = dic['longitude']\n",
    "    \n",
    "    t.update(n=2)\n",
    "    t.set_description(desc = \"Creating array | Deleting duplicates\", refresh=True)\n",
    "    \n",
    "    coords = np.array([lon,lat]).T\n",
    "    coords = np.unique(coords,axis = 0)\n",
    "    coords = coords[:len(coords)-1]\n",
    "    \n",
    "    t.update(n=3)\n",
    "    t.set_description(desc = \"Done\", refresh=True)\n",
    "    t.close()\n",
    "    \n",
    "    return coords"
   ]
  },
  {
   "cell_type": "code",
   "execution_count": 6,
   "metadata": {},
   "outputs": [],
   "source": [
    "def loadBathymetry(filePath,delimeter = \"\\t\",usecols = (2,3,5),startLine = 7):\n",
    "\n",
    "    f = open(filePath)\n",
    "    textList = f.readlines()[startLine:]\n",
    "\n",
    "    outF = open(\"bathyTemp.txt\",\"w\")\n",
    "    for line in textList:\n",
    "        line = line.replace(\",\",\".\")\n",
    "        outF.write(line)    \n",
    "    outF.close()\n",
    "\n",
    "    bathy = np.loadtxt(\"bathyTemp.txt\",delimiter = delimeter,usecols = usecols)    \n",
    "    \n",
    "    return bathy"
   ]
  },
  {
   "cell_type": "markdown",
   "metadata": {},
   "source": [
    "# Alto-Lindoso"
   ]
  },
  {
   "cell_type": "code",
   "execution_count": 7,
   "metadata": {},
   "outputs": [],
   "source": [
    "xmin = -8.2260339\n",
    "ymin = 41.8596283\n",
    "xmax = -8.0632989\n",
    "ymax = 41.9309290\n",
    "\n",
    "centerx = np.array([xmin,xmax]).mean()\n",
    "centery = np.array([ymin,ymax]).mean()\n",
    "\n",
    "ROI = ee.Geometry.Rectangle([xmin,ymin,xmax,ymax])"
   ]
  },
  {
   "cell_type": "code",
   "execution_count": 8,
   "metadata": {},
   "outputs": [],
   "source": [
    "wmp = ee.Image('users/dmlmont/TFM/WMp_Alto_Lindoso')\n",
    "img = ee.Image('users/dmlmont/TFM/Pre_Alto_Lindoso')"
   ]
  },
  {
   "cell_type": "code",
   "execution_count": 9,
   "metadata": {},
   "outputs": [
    {
     "name": "stderr",
     "output_type": "stream",
     "text": [
      "Done: : 6it [00:05,  1.17it/s]                                                                                         \n"
     ]
    }
   ],
   "source": [
    "coords = getLatLonPixels(wmp,ROI)"
   ]
  },
  {
   "cell_type": "code",
   "execution_count": 10,
   "metadata": {},
   "outputs": [
    {
     "data": {
      "text/plain": [
       "(-8.234595170781745, -8.05472712532513, 41.84622383645203, 41.94461477604277)"
      ]
     },
     "execution_count": 10,
     "metadata": {},
     "output_type": "execute_result"
    },
    {
     "data": {
      "image/png": "[encoded data removed]",
      "text/plain": [
       "<Figure size 432x288 with 1 Axes>"
      ]
     },
     "metadata": {
      "needs_background": "light"
     },
     "output_type": "display_data"
    }
   ],
   "source": [
    "plt.scatter(coords[:,0],coords[:,1])\n",
    "plt.axis('equal')"
   ]
  },
  {
   "cell_type": "code",
   "execution_count": 11,
   "metadata": {},
   "outputs": [],
   "source": [
    "bathy = loadBathymetry(\"C:/Users/Dave Mont/Desktop/Master_of_DataScience/TFM/Bat_data/bathymetric_data_alto_lindoso\")"
   ]
  },
  {
   "cell_type": "code",
   "execution_count": 26,
   "metadata": {},
   "outputs": [],
   "source": [
    "X = bathy[:,0:2]\n",
    "y = bathy[:,2]\n",
    "\n",
    "X_train, X_test, y_train, y_test = train_test_split(X,y,test_size = 0.3)"
   ]
  },
  {
   "cell_type": "code",
   "execution_count": 27,
   "metadata": {},
   "outputs": [],
   "source": [
    "y_pred = griddata(X_train,y_train,X_test,method = 'cubic')"
   ]
  },
  {
   "cell_type": "code",
   "execution_count": 28,
   "metadata": {},
   "outputs": [
    {
     "data": {
      "text/plain": [
       "<matplotlib.collections.PathCollection at 0x234054c1a08>"
      ]
     },
     "execution_count": 28,
     "metadata": {},
     "output_type": "execute_result"
    },
    {
     "data": {
      "image/png": "[encoded data removed]",
      "text/plain": [
       "<Figure size 432x288 with 1 Axes>"
      ]
     },
     "metadata": {
      "needs_background": "light"
     },
     "output_type": "display_data"
    }
   ],
   "source": [
    "plt.scatter(y_pred,y_test)"
   ]
  },
  {
   "cell_type": "code",
   "execution_count": 15,
   "metadata": {},
   "outputs": [],
   "source": [
    "depth = griddata(X,y,coords,method = 'cubic',fill_value = 0)"
   ]
  },
  {
   "cell_type": "code",
   "execution_count": 36,
   "metadata": {},
   "outputs": [],
   "source": [
    "depthdf = pd.DataFrame(np.column_stack((coords,depth)))"
   ]
  },
  {
   "cell_type": "code",
   "execution_count": 38,
   "metadata": {},
   "outputs": [],
   "source": [
    "depthdf.columns = ['Lon','Lat','Depth']"
   ]
  },
  {
   "cell_type": "code",
   "execution_count": 51,
   "metadata": {},
   "outputs": [],
   "source": [
    "depthdf.to_csv('C:/Users/Dave Mont/Desktop/Master_of_DataScience/TFM/Results/depth_estimation/AL_depth_cubic.csv',index = False)"
   ]
  },
  {
   "cell_type": "code",
   "execution_count": 19,
   "metadata": {},
   "outputs": [],
   "source": [
    "OK = OrdinaryKriging(X_train[:,0],X_train[:,1],y_train,variogram_model = 'gaussian')"
   ]
  },
  {
   "cell_type": "code",
   "execution_count": 25,
   "metadata": {},
   "outputs": [
    {
     "data": {
      "image/png": "[encoded data removed]",
      "text/plain": [
       "<Figure size 432x288 with 1 Axes>"
      ]
     },
     "metadata": {
      "needs_background": "light"
     },
     "output_type": "display_data"
    }
   ],
   "source": [
    "OK.display_variogram_model()"
   ]
  },
  {
   "cell_type": "code",
   "execution_count": 20,
   "metadata": {},
   "outputs": [],
   "source": [
    "y_pred,ss = OK.execute('points',X_test[:,0],X_test[:,1])"
   ]
  },
  {
   "cell_type": "code",
   "execution_count": 22,
   "metadata": {},
   "outputs": [
    {
     "data": {
      "text/plain": [
       "[<matplotlib.lines.Line2D at 0x2d7062ae248>]"
      ]
     },
     "execution_count": 22,
     "metadata": {},
     "output_type": "execute_result"
    },
    {
     "data": {
      "image/png": "[encoded data removed]",
      "text/plain": [
       "<Figure size 432x288 with 1 Axes>"
      ]
     },
     "metadata": {
      "needs_background": "light"
     },
     "output_type": "display_data"
    }
   ],
   "source": [
    "plt.plot(y_pred)"
   ]
  },
  {
   "cell_type": "code",
   "execution_count": 23,
   "metadata": {},
   "outputs": [
    {
     "data": {
      "text/plain": [
       "<matplotlib.collections.PathCollection at 0x2d705ebb908>"
      ]
     },
     "execution_count": 23,
     "metadata": {},
     "output_type": "execute_result"
    },
    {
     "data": {
      "image/png": "[encoded data removed]",
      "text/plain": [
       "<Figure size 432x288 with 1 Axes>"
      ]
     },
     "metadata": {
      "needs_background": "light"
     },
     "output_type": "display_data"
    }
   ],
   "source": [
    "plt.scatter(y_pred,y_test)"
   ]
  },
  {
   "cell_type": "code",
   "execution_count": 55,
   "metadata": {},
   "outputs": [],
   "source": [
    "OK_complete = OrdinaryKriging(X[:,0],X[:,1],y,variogram_model = 'gaussian')"
   ]
  },
  {
   "cell_type": "code",
   "execution_count": null,
   "metadata": {},
   "outputs": [],
   "source": [
    "OK_complete"
   ]
  },
  {
   "cell_type": "code",
   "execution_count": 60,
   "metadata": {},
   "outputs": [
    {
     "data": {
      "image/png": "[encoded data removed]",
      "text/plain": [
       "<Figure size 432x288 with 1 Axes>"
      ]
     },
     "metadata": {
      "needs_background": "light"
     },
     "output_type": "display_data"
    }
   ],
   "source": [
    "OK_complete.display_variogram_model()"
   ]
  },
  {
   "cell_type": "code",
   "execution_count": null,
   "metadata": {},
   "outputs": [],
   "source": [
    "depth_ok,ss_ok = OK_complete.execute('points',coords[0,0],coords[0,1])"
   ]
  },
  {
   "cell_type": "code",
   "execution_count": 52,
   "metadata": {},
   "outputs": [],
   "source": [
    "features = []\n",
    "for i in range(len(X)):\n",
    "    point = ee.Geometry.Point([X[i,0],X[i,1]])\n",
    "    features.append(ee.Feature(point,{'depth':y[i]}))\n",
    "featureCollection = ee.FeatureCollection(features)"
   ]
  },
  {
   "cell_type": "code",
   "execution_count": null,
   "metadata": {},
   "outputs": [],
   "source": [
    "featureCollection.kriging()"
   ]
  },
  {
   "cell_type": "code",
   "execution_count": 122,
   "metadata": {},
   "outputs": [],
   "source": [
    "features = []\n",
    "for i in range(5000):\n",
    "    point = ee.Geometry.Point([coords[i,0],coords[i,1]])\n",
    "    features.append(ee.Feature(point,{'depth':depth[i]}))\n",
    "featureCollection = ee.FeatureCollection(features)"
   ]
  },
  {
   "cell_type": "code",
   "execution_count": 84,
   "metadata": {},
   "outputs": [],
   "source": [
    "depthImage = wmp.toFloat().paint(featureCollection,'depth')"
   ]
  },
  {
   "cell_type": "code",
   "execution_count": 123,
   "metadata": {},
   "outputs": [],
   "source": [
    "depthImage = wmp.multiply(featureCollection.reduceToImage(['depth'],ee.Reducer.first()))"
   ]
  },
  {
   "cell_type": "code",
   "execution_count": 126,
   "metadata": {},
   "outputs": [
    {
     "data": {
      "text/html": [
       "<div style=\"width:100%;\"><div style=\"position:relative;width:100%;height:0;padding-bottom:60%;\"><iframe src=\"about:blank\" style=\"position:absolute;width:100%;height:100%;left:0;top:0;border:none !important;\" data-html=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 onload=\"this.contentDocument.open();this.contentDocument.write(atob(this.getAttribute('data-html')));this.contentDocument.close();\" allowfullscreen webkitallowfullscreen mozallowfullscreen></iframe></div></div>"
      ],
      "text/plain": [
       "<folium.folium.Map at 0x29ecb7f8988>"
      ]
     },
     "execution_count": 126,
     "metadata": {},
     "output_type": "execute_result"
    }
   ],
   "source": [
    "foliumLayer(depthImage,{\"min\":0,\"max\":100,'palette':['FF3333','FFFF33','33FFF6']},\"depth\")"
   ]
  },
  {
   "cell_type": "markdown",
   "metadata": {},
   "source": [
    "# Bubal"
   ]
  },
  {
   "cell_type": "code",
   "execution_count": 12,
   "metadata": {},
   "outputs": [],
   "source": [
    "xmin = -0.3245736\n",
    "ymin = 42.6798840\n",
    "xmax = -0.2969361\n",
    "ymax = 42.7209728\n",
    "\n",
    "centerx = np.array([xmin,xmax]).mean()\n",
    "centery = np.array([ymin,ymax]).mean()\n",
    "\n",
    "ROI = ee.Geometry.Rectangle([xmin,ymin,xmax,ymax])"
   ]
  },
  {
   "cell_type": "code",
   "execution_count": 13,
   "metadata": {},
   "outputs": [],
   "source": [
    "wmp = ee.Image('users/dmlmont/TFM/WMp_Bubal')"
   ]
  },
  {
   "cell_type": "code",
   "execution_count": 14,
   "metadata": {},
   "outputs": [
    {
     "name": "stderr",
     "output_type": "stream",
     "text": [
      "Done: : 6it [00:01,  4.76it/s]                                                                                         \n"
     ]
    }
   ],
   "source": [
    "coords = getLatLonPixels(wmp,ROI)"
   ]
  },
  {
   "cell_type": "code",
   "execution_count": 15,
   "metadata": {},
   "outputs": [
    {
     "data": {
      "text/plain": [
       "(-0.3295193570222865,\n",
       " -0.29401183609845255,\n",
       " 42.66436025136522,\n",
       " 42.72644053205303)"
      ]
     },
     "execution_count": 15,
     "metadata": {},
     "output_type": "execute_result"
    },
    {
     "data": {
      "image/png": "[encoded data removed]",
      "text/plain": [
       "<Figure size 432x288 with 1 Axes>"
      ]
     },
     "metadata": {
      "needs_background": "light"
     },
     "output_type": "display_data"
    }
   ],
   "source": [
    "plt.scatter(coords[:,1],coords[:,0])\n",
    "plt.axis('equal')"
   ]
  },
  {
   "cell_type": "code",
   "execution_count": 16,
   "metadata": {},
   "outputs": [
    {
     "data": {
      "text/plain": [
       "(12848, 2)"
      ]
     },
     "execution_count": 16,
     "metadata": {},
     "output_type": "execute_result"
    }
   ],
   "source": [
    "coords.shape"
   ]
  },
  {
   "cell_type": "markdown",
   "metadata": {},
   "source": [
    "# Canelles"
   ]
  },
  {
   "cell_type": "code",
   "execution_count": 17,
   "metadata": {},
   "outputs": [],
   "source": [
    "xmin = 0.5664387\n",
    "ymin = 41.9718079\n",
    "xmax = 0.7096043\n",
    "ymax = 42.1213370\n",
    "\n",
    "centerx = np.array([xmin,xmax]).mean()\n",
    "centery = np.array([ymin,ymax]).mean()\n",
    "\n",
    "ROI = ee.Geometry.Rectangle([xmin,ymin,xmax,ymax])"
   ]
  },
  {
   "cell_type": "code",
   "execution_count": 18,
   "metadata": {},
   "outputs": [],
   "source": [
    "wmp = ee.Image('users/dmlmont/TFM/WMp_Canelles')"
   ]
  },
  {
   "cell_type": "code",
   "execution_count": 19,
   "metadata": {},
   "outputs": [
    {
     "name": "stderr",
     "output_type": "stream",
     "text": [
      "Done: : 6it [00:11,  1.99s/it]                                                                                         \n"
     ]
    }
   ],
   "source": [
    "coords = getLatLonPixels(wmp,ROI)"
   ]
  },
  {
   "cell_type": "code",
   "execution_count": 20,
   "metadata": {},
   "outputs": [
    {
     "data": {
      "text/plain": [
       "(0.5519362731347142, 0.7191798538944087, 41.95064148504942, 42.13148944548096)"
      ]
     },
     "execution_count": 20,
     "metadata": {},
     "output_type": "execute_result"
    },
    {
     "data": {
      "image/png": "[encoded data removed]",
      "text/plain": [
       "<Figure size 432x288 with 1 Axes>"
      ]
     },
     "metadata": {
      "needs_background": "light"
     },
     "output_type": "display_data"
    }
   ],
   "source": [
    "plt.scatter(coords[:,1],coords[:,0])\n",
    "plt.axis('equal')"
   ]
  },
  {
   "cell_type": "code",
   "execution_count": 21,
   "metadata": {},
   "outputs": [
    {
     "data": {
      "text/plain": [
       "(177383, 2)"
      ]
     },
     "execution_count": 21,
     "metadata": {},
     "output_type": "execute_result"
    }
   ],
   "source": [
    "coords.shape"
   ]
  },
  {
   "cell_type": "markdown",
   "metadata": {},
   "source": [
    "# Grado"
   ]
  },
  {
   "cell_type": "code",
   "execution_count": 23,
   "metadata": {},
   "outputs": [],
   "source": [
    "xmin = 0.1912200\n",
    "ymin = 42.1501858\n",
    "xmax = 0.2537043\n",
    "ymax = 42.3090388\n",
    "\n",
    "centerx = np.array([xmin,xmax]).mean()\n",
    "centery = np.array([ymin,ymax]).mean()\n",
    "\n",
    "ROI = ee.Geometry.Rectangle([xmin,ymin,xmax,ymax])"
   ]
  },
  {
   "cell_type": "code",
   "execution_count": 24,
   "metadata": {},
   "outputs": [],
   "source": [
    "wmp = ee.Image('users/dmlmont/TFM/WMp_Grado')"
   ]
  },
  {
   "cell_type": "code",
   "execution_count": 25,
   "metadata": {},
   "outputs": [
    {
     "name": "stderr",
     "output_type": "stream",
     "text": [
      "Done: : 6it [00:05,  1.01it/s]                                                                                         \n"
     ]
    }
   ],
   "source": [
    "coords = getLatLonPixels(wmp,ROI)"
   ]
  },
  {
   "cell_type": "code",
   "execution_count": 26,
   "metadata": {},
   "outputs": [
    {
     "data": {
      "text/plain": [
       "(0.19835039415242925,\n",
       " 0.25314286764604216,\n",
       " 42.12780273380704,\n",
       " 42.33206977369558)"
      ]
     },
     "execution_count": 26,
     "metadata": {},
     "output_type": "execute_result"
    },
    {
     "data": {
      "image/png": "[encoded data removed]",
      "text/plain": [
       "<Figure size 432x288 with 1 Axes>"
      ]
     },
     "metadata": {
      "needs_background": "light"
     },
     "output_type": "display_data"
    }
   ],
   "source": [
    "plt.scatter(coords[:,1],coords[:,0])\n",
    "plt.axis('equal')"
   ]
  },
  {
   "cell_type": "code",
   "execution_count": 27,
   "metadata": {},
   "outputs": [
    {
     "data": {
      "text/plain": [
       "(123454, 2)"
      ]
     },
     "execution_count": 27,
     "metadata": {},
     "output_type": "execute_result"
    }
   ],
   "source": [
    "coords.shape"
   ]
  },
  {
   "cell_type": "code",
   "execution_count": 1,
   "metadata": {},
   "outputs": [
    {
     "data": {
      "image/png": "[encoded data removed]",
      "text/plain": [
       "<Figure size 432x288 with 1 Axes>"
      ]
     },
     "metadata": {
      "needs_background": "light"
     },
     "output_type": "display_data"
    }
   ],
   "source": [
    "import numpy as np\n",
    "import pykrige.kriging_tools as kt\n",
    "from pykrige.ok import OrdinaryKriging\n",
    "\n",
    "data = np.array([[0.3, 1.2, 0.47],\n",
    "                 [1.9, 0.6, 0.56],\n",
    "                 [1.1, 3.2, 0.74],\n",
    "                 [3.3, 4.4, 1.47],\n",
    "                 [4.7, 3.8, 1.74]])\n",
    "\n",
    "gridx = np.arange(0.0, 5.5, 0.5)\n",
    "gridy = np.arange(0.0, 5.5, 0.5)\n",
    "\n",
    "# Create the ordinary kriging object. Required inputs are the X-coordinates of\n",
    "# the data points, the Y-coordinates of the data points, and the Z-values of the\n",
    "# data points. If no variogram model is specified, defaults to a linear variogram\n",
    "# model. If no variogram model parameters are specified, then the code automatically\n",
    "# calculates the parameters by fitting the variogram model to the binned\n",
    "# experimental semivariogram. The verbose kwarg controls code talk-back, and\n",
    "# the enable_plotting kwarg controls the display of the semivariogram.\n",
    "OK = OrdinaryKriging(data[:, 0], data[:, 1], data[:, 2], variogram_model='linear',\n",
    "                     verbose=False, enable_plotting=True)\n",
    "\n",
    "# Creates the kriged grid and the variance grid. Allows for kriging on a rectangular\n",
    "# grid of points, on a masked rectangular grid of points, or with arbitrary points.\n",
    "# (See OrdinaryKriging.__doc__ for more information.)\n",
    "z, ss = OK.execute('grid', gridx, gridy)"
   ]
  },
  {
   "cell_type": "code",
   "execution_count": 3,
   "metadata": {},
   "outputs": [
    {
     "data": {
      "text/plain": [
       "masked_array(\n",
       "  data=[[0.2592348462151437, 0.21697173215927967, 0.185620050093106,\n",
       "         0.1507003616085125, 0.14098079771101837, 0.1934962343941475,\n",
       "         0.27091057749162145, 0.3485939641380801, 0.42182740911446853,\n",
       "         0.491497286160281, 0.5599388590592125],\n",
       "        [0.16857907506423003, 0.13433839128069075, 0.12282338387603807,\n",
       "         0.07928152497428616, 0.033412197372541357, 0.1334894328066719,\n",
       "         0.2245208620240181, 0.30321912032969683, 0.37293023486324334,\n",
       "         0.43771179023565937, 0.5016155100223008],\n",
       "        [0.0851332102506222, 0.05734400180642253, 0.09882011510861151,\n",
       "         0.09207956894947218, 0.08318287521329792, 0.14137090557413878,\n",
       "         0.21305277711097995, 0.2779203059340609, 0.33579995490873243,\n",
       "         0.3905481098685688, 0.4468698688128306],\n",
       "        [0.0919146496762858, 0.07010101583644003, 0.11140934135535291,\n",
       "         0.12986229606731414, 0.14347812569342042, 0.17561920857304442,\n",
       "         0.21951485895469935, 0.2632407706365101, 0.3039890173487807,\n",
       "         0.3450269568540259, 0.3918395827580563],\n",
       "        [0.149482147854404, 0.121747598580635, 0.12854881481594432,\n",
       "         0.1461595327023327, 0.1683002060121906, 0.1945324020852017,\n",
       "         0.2219467439456018, 0.24688656697346245, 0.2694576117120581,\n",
       "         0.295046175074278, 0.33200083214310866],\n",
       "        [0.18356850506947933, 0.13375394095649226, 0.11179043555732376,\n",
       "         0.12920009922774267, 0.16383157239091722, 0.19228740691349813,\n",
       "         0.21092004612934748, 0.22122630209830302, 0.2262484077615932,\n",
       "         0.23505804793713864, 0.2632091063451174],\n",
       "        [0.2047371092515533, 0.12341468403522204, 0.0476645868060035,\n",
       "         0.08780672818031005, 0.1456048829863626, 0.1756929458350837,\n",
       "         0.1860528023020297, 0.1846415992271275, 0.17336355762160616,\n",
       "         0.16142700357286588, 0.18313405454162332],\n",
       "        [0.23880816509066904, 0.14857123026131117, 0.07168774750225623,\n",
       "         0.09555229371525807, 0.13971346731080803, 0.15425752100036777,\n",
       "         0.14803555190518466, 0.13852577609948488, 0.11991632336379165,\n",
       "         0.07613074414793397, 0.09809025883238587],\n",
       "        [0.296277716860477, 0.21928741671751972, 0.16671941780353494,\n",
       "         0.154640117045358, 0.15557783542103076, 0.1366024167158116,\n",
       "         0.09487459548352564, 0.08099406302375861, 0.0913473847441242,\n",
       "         0.055901064200591474, 0.08496678734127744],\n",
       "        [0.3686401254835342, 0.30122261021479224, 0.25145576315505824,\n",
       "         0.21967591573605172, 0.1908443620848135, 0.14467751918347516,\n",
       "         0.06874055530188103, 0.048134300031524524, 0.10761668023856738,\n",
       "         0.12913542357871327, 0.1666669198801417],\n",
       "        [0.44791632630022266, 0.3848247434269431, 0.3333107579320963,\n",
       "         0.29083217969923536, 0.24908681727164964, 0.2000231946979898,\n",
       "         0.150420310306195, 0.14065961333058677, 0.17388473208601743,\n",
       "         0.2104606566988976, 0.25584260269013936]],\n",
       "  mask=[[False, False, False, False, False, False, False, False, False,\n",
       "         False, False],\n",
       "        [False, False, False, False, False, False, False, False, False,\n",
       "         False, False],\n",
       "        [False, False, False, False, False, False, False, False, False,\n",
       "         False, False],\n",
       "        [False, False, False, False, False, False, False, False, False,\n",
       "         False, False],\n",
       "        [False, False, False, False, False, False, False, False, False,\n",
       "         False, False],\n",
       "        [False, False, False, False, False, False, False, False, False,\n",
       "         False, False],\n",
       "        [False, False, False, False, False, False, False, False, False,\n",
       "         False, False],\n",
       "        [False, False, False, False, False, False, False, False, False,\n",
       "         False, False],\n",
       "        [False, False, False, False, False, False, False, False, False,\n",
       "         False, False],\n",
       "        [False, False, False, False, False, False, False, False, False,\n",
       "         False, False],\n",
       "        [False, False, False, False, False, False, False, False, False,\n",
       "         False, False]],\n",
       "  fill_value=1e+20)"
      ]
     },
     "execution_count": 3,
     "metadata": {},
     "output_type": "execute_result"
    }
   ],
   "source": [
    "ss"
   ]
  }
 ],
 "metadata": {
  "kernelspec": {
   "display_name": "Python 3",
   "language": "python",
   "name": "python3"
  },
  "language_info": {
   "codemirror_mode": {
    "name": "ipython",
    "version": 3
   },
   "file_extension": ".py",
   "mimetype": "text/x-python",
   "name": "python",
   "nbconvert_exporter": "python",
   "pygments_lexer": "ipython3",
   "version": "3.7.6"
  }
 },
 "nbformat": 4,
 "nbformat_minor": 4
}
