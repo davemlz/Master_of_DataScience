{
 "cells": [
  {
   "cell_type": "code",
   "execution_count": 1,
   "metadata": {},
   "outputs": [
    {
     "name": "stderr",
     "output_type": "stream",
     "text": [
      "\n",
      "Attaching package: ‘bnlearn’\n",
      "\n",
      "The following object is masked from ‘package:stats’:\n",
      "\n",
      "    sigma\n",
      "\n"
     ]
    }
   ],
   "source": [
    "library(bnlearn)"
   ]
  },
  {
   "cell_type": "code",
   "execution_count": 2,
   "metadata": {},
   "outputs": [
    {
     "name": "stderr",
     "output_type": "stream",
     "text": [
      "Loading required namespace: Rgraphviz\n"
     ]
    },
    {
     "data": {
      "image/png": "[encoded data removed]",
      "text/plain": [
       "plot without title"
      ]
     },
     "metadata": {},
     "output_type": "display_data"
    }
   ],
   "source": [
    "dag <- empty.graph(nodes = c(\"D\", \"I\", \"N\", \"M\", \"P\", \"A\"))\n",
    "arc.set <- matrix(c(                    \"D\", \"N\",\n",
    "                    \"I\", \"N\",\n",
    "                    \"N\",  \"M\",\n",
    "                    \"P\", \"M\", \n",
    "                    \"A\", \"M\",\n",
    "                    \"A\", \"N\"\n",
    "                    ), \n",
    "                  byrow = TRUE, ncol = 2,\n",
    "                  dimnames = list(NULL, c(\"from\", \"to\")))\n",
    "arcs(dag) <- arc.set\n",
    "graphviz.plot(dag)"
   ]
  },
  {
   "cell_type": "markdown",
   "metadata": {},
   "source": [
    " **¿D y M d-separados dado que conocemos N?**\n",
    " \n",
    " Tenemos dos caminos: \n",
    " \n",
    " D -> N -> M: No activo.  \n",
    " \n",
    " D -> N <- A -> M: Activo porque conocemos N, sobre el que converge la única v-estructura.\n",
    " \n",
    " Concluimos que no están d-separados porque existe un camino activo.\n",
    " \n",
    "  **¿D e I d-separados dado que conocemos M?**\n",
    "  \n",
    "  Tenemos un camino: D-> N <- I: Activo porque sobre N cae una v-estructura; y un descendiente de N, M, está en el conjunto de variables aleatorias cuyo valor conocemos.\n",
    "  \n",
    "  Por tanto no están d-separados porque existe un camino activo.\n",
    "  \n",
    "   **¿D e I d-separados dado que conocemos A?**\n",
    "  \n",
    "  Tenemos un camino: D-> N <- I: No Activo porque sobre N cae una v-estructura y ni N ni sus descendientes están en el conjunto de nodos conocidos.\n",
    "  \n",
    "  Por tanto están d-separados porque no existe camino activo (por tanto D e I son independientes dado A).\n",
    "\n",
    "   **¿A y P d-separados dado que conocemos M, N y D?**\n",
    "\n",
    "  Tenemos dos caminos posibles:\n",
    "  \n",
    "  A -> M <- P: Activo, M pertenece al conjunto de nodos cuyo valor conocemos.\n",
    "  \n",
    "  A -> N -> M <- P: No activo: N pertenece al conjunto de nodos que conocemos. \n",
    "  \n",
    "  Por tanto no están d-separados.\n",
    "  \n",
    "   **¿A y P d-separados dado que conocemos N, D, I?**\n",
    "\n",
    "  Tenemos dos caminos posibles:\n",
    "  \n",
    "  A -> M <- P: No Activo, M no pertenece al conjunto de nodos cuyo valor conocemos.\n",
    "  \n",
    "  A -> N -> M <- P: No activo: N pertenece al conjunto de nodos que conocemos y corta la dependencia. También la corta M, en este caso porque no lo conocemos y sobre él recae una v-estructura. \n",
    "  \n",
    "  Por tanto están d-separados."
   ]
  },
  {
   "cell_type": "code",
   "execution_count": 3,
   "metadata": {},
   "outputs": [
    {
     "data": {
      "text/html": [
       "FALSE"
      ],
      "text/latex": [
       "FALSE"
      ],
      "text/markdown": [
       "FALSE"
      ],
      "text/plain": [
       "[1] FALSE"
      ]
     },
     "metadata": {},
     "output_type": "display_data"
    },
    {
     "data": {
      "text/html": [
       "FALSE"
      ],
      "text/latex": [
       "FALSE"
      ],
      "text/markdown": [
       "FALSE"
      ],
      "text/plain": [
       "[1] FALSE"
      ]
     },
     "metadata": {},
     "output_type": "display_data"
    },
    {
     "data": {
      "text/html": [
       "TRUE"
      ],
      "text/latex": [
       "TRUE"
      ],
      "text/markdown": [
       "TRUE"
      ],
      "text/plain": [
       "[1] TRUE"
      ]
     },
     "metadata": {},
     "output_type": "display_data"
    },
    {
     "data": {
      "text/html": [
       "FALSE"
      ],
      "text/latex": [
       "FALSE"
      ],
      "text/markdown": [
       "FALSE"
      ],
      "text/plain": [
       "[1] FALSE"
      ]
     },
     "metadata": {},
     "output_type": "display_data"
    },
    {
     "data": {
      "text/html": [
       "TRUE"
      ],
      "text/latex": [
       "TRUE"
      ],
      "text/markdown": [
       "TRUE"
      ],
      "text/plain": [
       "[1] TRUE"
      ]
     },
     "metadata": {},
     "output_type": "display_data"
    }
   ],
   "source": [
    "dsep(dag, \"M\", \"D\", \"N\")\n",
    "dsep(dag, \"D\", \"I\", \"M\")\n",
    "dsep(dag, \"D\", \"I\", \"A\")\n",
    "dsep(dag, \"A\", \"P\", c(\"M\", \"N\", \"D\"))\n",
    "dsep(dag, \"A\", \"P\", c(\"N\", \"D\", \"I\"))"
   ]
  }
 ],
 "metadata": {
  "kernelspec": {
   "display_name": "R",
   "language": "R",
   "name": "ir"
  },
  "language_info": {
   "codemirror_mode": "r",
   "file_extension": ".r",
   "mimetype": "text/x-r-source",
   "name": "R",
   "pygments_lexer": "r",
   "version": "3.4.4"
  }
 },
 "nbformat": 4,
 "nbformat_minor": 2
}
