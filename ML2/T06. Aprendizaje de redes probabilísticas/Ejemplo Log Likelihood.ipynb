{
 "cells": [
  {
   "cell_type": "markdown",
   "metadata": {},
   "source": [
    "#### Ejemplo Log Likelihood\n",
    "Consideramos un dataset de juguete como ejemplo, con solo dos variables, que tienen una clara dependencia:"
   ]
  },
  {
   "cell_type": "code",
   "execution_count": 62,
   "metadata": {},
   "outputs": [
    {
     "data": {
      "text/html": [
       "<table>\n",
       "<caption>A data.frame: 8 × 2</caption>\n",
       "<thead>\n",
       "\t<tr><th></th><th scope=col>A</th><th scope=col>B</th></tr>\n",
       "\t<tr><th></th><th scope=col>&lt;dbl&gt;</th><th scope=col>&lt;dbl&gt;</th></tr>\n",
       "</thead>\n",
       "<tbody>\n",
       "\t<tr><th scope=row>d1</th><td>0</td><td>0</td></tr>\n",
       "\t<tr><th scope=row>d2</th><td>1</td><td>1</td></tr>\n",
       "\t<tr><th scope=row>d3</th><td>0</td><td>0</td></tr>\n",
       "\t<tr><th scope=row>d4</th><td>1</td><td>1</td></tr>\n",
       "\t<tr><th scope=row>d5</th><td>0</td><td>0</td></tr>\n",
       "\t<tr><th scope=row>d6</th><td>1</td><td>1</td></tr>\n",
       "\t<tr><th scope=row>d7</th><td>0</td><td>0</td></tr>\n",
       "\t<tr><th scope=row>d8</th><td>1</td><td>0</td></tr>\n",
       "</tbody>\n",
       "</table>\n"
      ],
      "text/latex": [
       "A data.frame: 8 × 2\n",
       "\\begin{tabular}{r|ll}\n",
       "  & A & B\\\\\n",
       "  & <dbl> & <dbl>\\\\\n",
       "\\hline\n",
       "\td1 & 0 & 0\\\\\n",
       "\td2 & 1 & 1\\\\\n",
       "\td3 & 0 & 0\\\\\n",
       "\td4 & 1 & 1\\\\\n",
       "\td5 & 0 & 0\\\\\n",
       "\td6 & 1 & 1\\\\\n",
       "\td7 & 0 & 0\\\\\n",
       "\td8 & 1 & 0\\\\\n",
       "\\end{tabular}\n"
      ],
      "text/markdown": [
       "\n",
       "A data.frame: 8 × 2\n",
       "\n",
       "| <!--/--> | A &lt;dbl&gt; | B &lt;dbl&gt; |\n",
       "|---|---|---|\n",
       "| d1 | 0 | 0 |\n",
       "| d2 | 1 | 1 |\n",
       "| d3 | 0 | 0 |\n",
       "| d4 | 1 | 1 |\n",
       "| d5 | 0 | 0 |\n",
       "| d6 | 1 | 1 |\n",
       "| d7 | 0 | 0 |\n",
       "| d8 | 1 | 0 |\n",
       "\n"
      ],
      "text/plain": [
       "   A B\n",
       "d1 0 0\n",
       "d2 1 1\n",
       "d3 0 0\n",
       "d4 1 1\n",
       "d5 0 0\n",
       "d6 1 1\n",
       "d7 0 0\n",
       "d8 1 0"
      ]
     },
     "metadata": {},
     "output_type": "display_data"
    }
   ],
   "source": [
    "A <- c(0,1,0,1,0,1,0,1)\n",
    "B <- c(0,1,0,1,0,1,0,0)\n",
    "data <- data.frame(A,B)\n",
    "rownames(data) <- c(\"d1\", \"d2\", \"d3\", \"d4\", \"d5\", \"d6\", \"d7\", \"d8\")\n",
    "data"
   ]
  },
  {
   "cell_type": "code",
   "execution_count": 54,
   "metadata": {},
   "outputs": [],
   "source": [
    "pA1 <- mean(A)\n",
    "pA0 <- 1 - pA1\n",
    "pB1 <- mean(B)\n",
    "pB0 <- 1 - pB1\n",
    "pB1_A1 <- mean(data[data$A == 1, \"B\" ])\n",
    "pB0_A1 <- 1 - pB1_A1\n",
    "pB1_A0 <- mean(data[data$A == 0, \"B\" ])\n",
    "pB0_A0 <- 1 - pB1_A0"
   ]
  },
  {
   "cell_type": "markdown",
   "metadata": {},
   "source": [
    "Claramente hay dependencia, ya que..."
   ]
  },
  {
   "cell_type": "code",
   "execution_count": 59,
   "metadata": {},
   "outputs": [
    {
     "data": {
      "text/html": [
       "TRUE"
      ],
      "text/latex": [
       "TRUE"
      ],
      "text/markdown": [
       "TRUE"
      ],
      "text/plain": [
       "[1] TRUE"
      ]
     },
     "metadata": {},
     "output_type": "display_data"
    },
    {
     "data": {
      "text/html": [
       "TRUE"
      ],
      "text/latex": [
       "TRUE"
      ],
      "text/markdown": [
       "TRUE"
      ],
      "text/plain": [
       "[1] TRUE"
      ]
     },
     "metadata": {},
     "output_type": "display_data"
    }
   ],
   "source": [
    "pB1 != pB1_A1\n",
    "pB0 != pB0_A1"
   ]
  },
  {
   "cell_type": "markdown",
   "metadata": {},
   "source": [
    "Consideremos dos modelos, $DAG_0$, que es el grafo vacío, es decir, A y B son independientes; y el modelo $DAG_1 = A \\rightarrow B$. En el que B depende de A.\n",
    "\n",
    "Calculemos el Log Likelihood de ambos. Queremos saber cuál es la probabilidad del dataset $\\mathcal{D} = $ `data`. Como cada realización del dataset se considera independiente, tenemos que $ P(\\mathcal{D}) = P(d_1)· P(d_2) · \\ ... \\ · P(d_8)$. Es decir, y dado que el logaritmo es una función monótona creciente:\n",
    "\n",
    "$$log(P(\\mathcal{D})) = \\sum_{j =1}^8 log(P(d_j))$$\n",
    "\n",
    "Lo que queremos saber es qué grafo $DAG$ maximiza $log(P(\\mathcal{D} \\ | \\ DAG))$.\n",
    "\n",
    "Calculémoslo para ambos DAG."
   ]
  },
  {
   "cell_type": "markdown",
   "metadata": {},
   "source": [
    "**Para el grafo vacío...**\n",
    "\n",
    "La factorización que tenemos es $P(A,B) = P(A)P(B)$.\n",
    "\n",
    "- $P(d_1) = P(d_3) = P (d_5) = P(d_7) = P(A = 0)P(B = 0) = 0.3125$\n",
    "- $P(d_2) = P(d_4) = P (d_6) = P(A = 1)P(B = 1) = 0.1875$\n",
    "- $P(d_8) = P(A = 1)P(B = 0) = 0.3125$"
   ]
  },
  {
   "cell_type": "code",
   "execution_count": 69,
   "metadata": {},
   "outputs": [
    {
     "data": {
      "text/html": [
       "<ol class=list-inline>\n",
       "\t<li>0.3125</li>\n",
       "\t<li>0.1875</li>\n",
       "\t<li>0.3125</li>\n",
       "</ol>\n"
      ],
      "text/latex": [
       "\\begin{enumerate*}\n",
       "\\item 0.3125\n",
       "\\item 0.1875\n",
       "\\item 0.3125\n",
       "\\end{enumerate*}\n"
      ],
      "text/markdown": [
       "1. 0.3125\n",
       "2. 0.1875\n",
       "3. 0.3125\n",
       "\n",
       "\n"
      ],
      "text/plain": [
       "[1] 0.3125 0.1875 0.3125"
      ]
     },
     "metadata": {},
     "output_type": "display_data"
    }
   ],
   "source": [
    "p0 <- c(pA0*pB0,\n",
    "        pA1*pB1,\n",
    "        pA1*pB0)\n",
    "p0"
   ]
  },
  {
   "cell_type": "markdown",
   "metadata": {},
   "source": [
    "**Para el grafo $A \\rightarrow B$ ...**\n",
    "\n",
    "La factorización que tenemos es $P(A,B) = P(A)P(B \\ | \\ A)$.\n",
    "\n",
    "- $P(d_1) = P(d_3) = P (d_5) = P(d_7) = P(A = 0)P(B = 0 \\ | \\ A = 0) = 0.5$\n",
    "- $P(d_2) = P(d_4) = P (d_6) = P(A = 1)P(B = 1 \\ | \\ A = 1) = 0.375$\n",
    "- $P(d_8) = P(A = 1)P(B = 0 \\ | \\ A = 1) = 0.125$"
   ]
  },
  {
   "cell_type": "code",
   "execution_count": 71,
   "metadata": {},
   "outputs": [
    {
     "data": {
      "text/html": [
       "<ol class=list-inline>\n",
       "\t<li>0.5</li>\n",
       "\t<li>0.375</li>\n",
       "\t<li>0.125</li>\n",
       "</ol>\n"
      ],
      "text/latex": [
       "\\begin{enumerate*}\n",
       "\\item 0.5\n",
       "\\item 0.375\n",
       "\\item 0.125\n",
       "\\end{enumerate*}\n"
      ],
      "text/markdown": [
       "1. 0.5\n",
       "2. 0.375\n",
       "3. 0.125\n",
       "\n",
       "\n"
      ],
      "text/plain": [
       "[1] 0.500 0.375 0.125"
      ]
     },
     "metadata": {},
     "output_type": "display_data"
    }
   ],
   "source": [
    "p1 <- c(pB0_A0*pA0,\n",
    "        pB1_A1*pA1,\n",
    "        pB0_A1*pA1)\n",
    "p1"
   ]
  },
  {
   "cell_type": "markdown",
   "metadata": {},
   "source": [
    "**¿Cuál tiene mayor Log Likelihood?**"
   ]
  },
  {
   "cell_type": "markdown",
   "metadata": {},
   "source": [
    "$log(P(\\mathcal{D} \\ | \\ DAG_0)) = $"
   ]
  },
  {
   "cell_type": "code",
   "execution_count": 73,
   "metadata": {},
   "outputs": [
    {
     "data": {
      "text/html": [
       "-10.8376833497434"
      ],
      "text/latex": [
       "-10.8376833497434"
      ],
      "text/markdown": [
       "-10.8376833497434"
      ],
      "text/plain": [
       "[1] -10.83768"
      ]
     },
     "metadata": {},
     "output_type": "display_data"
    }
   ],
   "source": [
    "4*log(p0)[1] + 3*log(p0)[2] + log(p0)[3]"
   ]
  },
  {
   "cell_type": "markdown",
   "metadata": {},
   "source": [
    "$log(P(\\mathcal{D} \\ | \\ DAG_1)) = $"
   ]
  },
  {
   "cell_type": "code",
   "execution_count": 74,
   "metadata": {},
   "outputs": [
    {
     "data": {
      "text/html": [
       "-7.7945180229548"
      ],
      "text/latex": [
       "-7.7945180229548"
      ],
      "text/markdown": [
       "-7.7945180229548"
      ],
      "text/plain": [
       "[1] -7.794518"
      ]
     },
     "metadata": {},
     "output_type": "display_data"
    }
   ],
   "source": [
    "4*log(p1)[1] + 3*log(p1)[2] + log(p1)[3]"
   ]
  },
  {
   "cell_type": "markdown",
   "metadata": {},
   "source": [
    "**Comprobación con `bnlearn`**:"
   ]
  },
  {
   "cell_type": "code",
   "execution_count": 77,
   "metadata": {},
   "outputs": [],
   "source": [
    "dag0 <- empty.graph(c(\"A\", \"B\"))\n",
    "dag1 <- empty.graph(c(\"A\", \"B\"))\n",
    "dag1 <- set.arc(dag1, \"A\", \"B\")"
   ]
  },
  {
   "cell_type": "code",
   "execution_count": 84,
   "metadata": {},
   "outputs": [
    {
     "data": {
      "text/html": [
       "-10.8376833497434"
      ],
      "text/latex": [
       "-10.8376833497434"
      ],
      "text/markdown": [
       "-10.8376833497434"
      ],
      "text/plain": [
       "[1] -10.83768"
      ]
     },
     "metadata": {},
     "output_type": "display_data"
    },
    {
     "data": {
      "text/html": [
       "-7.7945180229548"
      ],
      "text/latex": [
       "-7.7945180229548"
      ],
      "text/markdown": [
       "-7.7945180229548"
      ],
      "text/plain": [
       "[1] -7.794518"
      ]
     },
     "metadata": {},
     "output_type": "display_data"
    }
   ],
   "source": [
    "data$A <- as.factor(data$A)\n",
    "data$B <- as.factor(data$B)\n",
    "\n",
    "bnlearn::score(dag0, data = data, type = \"loglik\")\n",
    "bnlearn::score(dag1, data = data, type = \"loglik\")"
   ]
  }
 ],
 "metadata": {
  "kernelspec": {
   "display_name": "R",
   "language": "R",
   "name": "ir"
  },
  "language_info": {
   "codemirror_mode": "r",
   "file_extension": ".r",
   "mimetype": "text/x-r-source",
   "name": "R",
   "pygments_lexer": "r",
   "version": "3.4.4"
  }
 },
 "nbformat": 4,
 "nbformat_minor": 2
}
