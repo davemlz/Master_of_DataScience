{
 "cells": [
  {
   "cell_type": "markdown",
   "metadata": {},
   "source": [
    "# Redes Bayesianas Discretas: Aprendizaje Estructural\n",
    "#### Master in Data Science - Machine Learning II\n",
    "#### Santander Meteorology Group. Profesor: Mikel N. Legasa (mikel.legasa@unican.es)\n",
    "#### 18 Mar 2020\n",
    "\n",
    "La presente práctica pretende introducir el aprendizaje del Grafo Dirigido Acíclico (DAG) de una Red Bayesiana, utilizando para ello la librería `bnlearn` y con el ejemplo *survey* que utilizamos en la práctica anterior. \n",
    "\n",
    "En la práctica anterior asumimos un conocimiento experto del sistema de dependencias/independencias del dataset, y creamos la estructura acorde. En este contexto, la red bayesiana es utilizada como un sistema experto que formaliza nuestro conocimiento sobre un determinado campo (en este caso los usuarios de transportes).\n",
    "\n",
    "Sin embargo, más frecuentemente los parámetros y el grafo de la red son aprendidos (estimados) de manera automática a partir de una muestra observada. \n",
    "\n",
    "En primer lugar cargamos el fichero con los datos de la encuesta. Están contenidos en un fichero “.txt”. También cargamos `bnlearn`:"
   ]
  },
  {
   "cell_type": "code",
   "execution_count": 1,
   "metadata": {},
   "outputs": [
    {
     "name": "stderr",
     "output_type": "stream",
     "text": [
      "\n",
      "Attaching package: ‘bnlearn’\n",
      "\n",
      "The following object is masked from ‘package:stats’:\n",
      "\n",
      "    sigma\n",
      "\n"
     ]
    },
    {
     "data": {
      "text/html": [
       "<table>\n",
       "<caption>A data.frame: 6 × 6</caption>\n",
       "<thead>\n",
       "\t<tr><th scope=col>A</th><th scope=col>R</th><th scope=col>E</th><th scope=col>O</th><th scope=col>S</th><th scope=col>T</th></tr>\n",
       "\t<tr><th scope=col>&lt;fct&gt;</th><th scope=col>&lt;fct&gt;</th><th scope=col>&lt;fct&gt;</th><th scope=col>&lt;fct&gt;</th><th scope=col>&lt;fct&gt;</th><th scope=col>&lt;fct&gt;</th></tr>\n",
       "</thead>\n",
       "<tbody>\n",
       "\t<tr><td>adult</td><td>big  </td><td>high</td><td>emp</td><td>F</td><td>car  </td></tr>\n",
       "\t<tr><td>adult</td><td>small</td><td>uni </td><td>emp</td><td>M</td><td>car  </td></tr>\n",
       "\t<tr><td>adult</td><td>big  </td><td>uni </td><td>emp</td><td>F</td><td>train</td></tr>\n",
       "\t<tr><td>adult</td><td>big  </td><td>high</td><td>emp</td><td>M</td><td>car  </td></tr>\n",
       "\t<tr><td>adult</td><td>big  </td><td>high</td><td>emp</td><td>M</td><td>car  </td></tr>\n",
       "\t<tr><td>adult</td><td>small</td><td>high</td><td>emp</td><td>F</td><td>train</td></tr>\n",
       "</tbody>\n",
       "</table>\n"
      ],
      "text/latex": [
       "A data.frame: 6 × 6\n",
       "\\begin{tabular}{r|llllll}\n",
       " A & R & E & O & S & T\\\\\n",
       " <fct> & <fct> & <fct> & <fct> & <fct> & <fct>\\\\\n",
       "\\hline\n",
       "\t adult & big   & high & emp & F & car  \\\\\n",
       "\t adult & small & uni  & emp & M & car  \\\\\n",
       "\t adult & big   & uni  & emp & F & train\\\\\n",
       "\t adult & big   & high & emp & M & car  \\\\\n",
       "\t adult & big   & high & emp & M & car  \\\\\n",
       "\t adult & small & high & emp & F & train\\\\\n",
       "\\end{tabular}\n"
      ],
      "text/markdown": [
       "\n",
       "A data.frame: 6 × 6\n",
       "\n",
       "| A &lt;fct&gt; | R &lt;fct&gt; | E &lt;fct&gt; | O &lt;fct&gt; | S &lt;fct&gt; | T &lt;fct&gt; |\n",
       "|---|---|---|---|---|---|\n",
       "| adult | big   | high | emp | F | car   |\n",
       "| adult | small | uni  | emp | M | car   |\n",
       "| adult | big   | uni  | emp | F | train |\n",
       "| adult | big   | high | emp | M | car   |\n",
       "| adult | big   | high | emp | M | car   |\n",
       "| adult | small | high | emp | F | train |\n",
       "\n"
      ],
      "text/plain": [
       "  A     R     E    O   S T    \n",
       "1 adult big   high emp F car  \n",
       "2 adult small uni  emp M car  \n",
       "3 adult big   uni  emp F train\n",
       "4 adult big   high emp M car  \n",
       "5 adult big   high emp M car  \n",
       "6 adult small high emp F train"
      ]
     },
     "metadata": {},
     "output_type": "display_data"
    }
   ],
   "source": [
    "library(bnlearn)\n",
    "survey <- read.table(\"survey.txt\", header = TRUE)\n",
    "head(survey)"
   ]
  },
  {
   "cell_type": "markdown",
   "metadata": {},
   "source": [
    "El aprendizaje estructural de la red es necesario en muchas ocasiones, por ejemplo cuando nos enfrentamos a sistemas complejos en los que el conocimiento experto puede fallar o simplemente no ser abarcable dada la complejidad de la red (sistemas biológicos, procesos metabólicos…). Tambien el aprendizaje automático de la estructura de la red puede ayudar a comprender mejor qué factores afectan y cuáles no a una determinada variable de interés, cuando este conocimiento no lo tenemos a priori …\n",
    "\n",
    "Se trata no obstante de una labor compleja, debido fundamentalmente al gran número de posibles DAGs que potencialmente pueden probarse. En la práctica, existen algoritmos diseñados para este fin que pueden ser de gran utilidad, y que se encuentran implementados en el paquete bnlearn. Estos algoritmos se basan en dos tipos de criterios estadísticos: tests de independecia condicionada y network scores, y se basan en rastrear las posibles configuraciones del grafo que maximizan estos scores.\n",
    "\n",
    "Los algoritmos de aprendizaje estrcutural implementados en bnlearn se muestran aquí: https://www.bnlearn.com. En la clase anterior exploramos brevemente al algoritmo PC, que implementa Inductive Causation restringiendo el conjunto $\\bf S$.\n",
    "\n",
    "En esta breve práctica trabajaremos solamente con los algoritmos basados en scores, centrándonos en el algoritmo hill-climbing, que ya hemos analizado en la clase teórica.\n",
    "\n",
    "Para más detalles, se puede obtener ayuda específica y referencias sobre cada uno de ellos usando `help(\"score-based algorithms\")` y `help(\"constraint-based algorithms\")`."
   ]
  },
  {
   "cell_type": "markdown",
   "metadata": {},
   "source": [
    "### 1) Scores de Evaluación Global de la Red\n",
    "Como hemos visto en la parte teórica, los scores globales, o network scores, se centran en el DAG en su conjunto en lugar de en nodos/arcos particulares a diferencia de los tests de probabilidades condicionadas que hemos visto en la anterior sección. Se trata de estadísticos que miden la bondad de ajuste del DAG a la estructura de dependencias implícita en los datos. Hay diversos scores, pero el más común es el criterio de información bayesiano (Bayesian Information Criterion o BIC), que se calcularía para nuestro modelo particular a través de la siguiente expresión:\n",
    "\n"
   ]
  },
  {
   "cell_type": "markdown",
   "metadata": {},
   "source": [
    "\\begin{aligned}\n",
    "  BIC = log \\hat P (A,S,E,O,R,T) - \\frac{d}{2}log~n = \\\\\n",
    "      [log \\hat P(A) - \\frac{d_{A}}{2}log~n] + [log \\hat P(S) - \\frac{d_{S}}{2}log~n] + \\\\ \n",
    "      [log \\hat P(E|A,S) - \\frac{d_{E}}{2}log~n] + [log \\hat P(O|E) - \\frac{d_{O}}{2}log~n] + \\\\\n",
    "      [log \\hat P(R|E) - \\frac{d_{R}}{2}log~n] + [log \\hat P(T|O,R) - \\frac{d_{T}}{2}log~n],\n",
    "  \\end{aligned}"
   ]
  },
  {
   "cell_type": "markdown",
   "metadata": {},
   "source": [
    "donde n es el tamaño de la muestra, d es el número de parámetros (en nuestro caso 21, como ya hemos visto) y $d_A, d_S, d_E, d_O, d_R$ y $d_T$, son el número de parámetros asociado a cada nodo. Otorga un score más alto cuanto mejor se ajusta el DAG a los datos.\n",
    "\n",
    "Una vez tenemos una medida de cómo de *bueno* es nuestro DAG, se utiliza cualquier algoritmo de optimización buscando entre todos los DAG posibles. Recuérdese que esto es computacionalmente inviable, de modo que hay que recurrir a técnicas heurísticas de búsqueda."
   ]
  },
  {
   "cell_type": "markdown",
   "metadata": {},
   "source": [
    "Un algoritmo típico es, como ya hemos visto, el llamado hill climbing, que comienza con un DAG sin ningún arco y procede añadiendo, cambiando de sentido y quitando arcos sucesivamente reteniendo los cambios que maximizan el incremento del score en cada paso. Está implementado en `bnlearn`con la función `hc()` y, fijando el valor del argumento `debug = TRUE`, se obtiene por pantalla información detallada sobre el proceso de búsqueda hill climbing."
   ]
  },
  {
   "cell_type": "code",
   "execution_count": 2,
   "metadata": {},
   "outputs": [
    {
     "data": {
      "text/html": [
       "'[R][E|R][T|R][A|E][O|E][S|E]'"
      ],
      "text/latex": [
       "'{[}R{]}{[}E\\textbar{}R{]}{[}T\\textbar{}R{]}{[}A\\textbar{}E{]}{[}O\\textbar{}E{]}{[}S\\textbar{}E{]}'"
      ],
      "text/markdown": [
       "'[R][E|R][T|R][A|E][O|E][S|E]'"
      ],
      "text/plain": [
       "[1] \"[R][E|R][T|R][A|E][O|E][S|E]\""
      ]
     },
     "metadata": {},
     "output_type": "display_data"
    },
    {
     "name": "stderr",
     "output_type": "stream",
     "text": [
      "Loading required namespace: Rgraphviz\n"
     ]
    },
    {
     "data": {
      "image/png": "[encoded data removed]",
      "text/plain": [
       "plot without title"
      ]
     },
     "metadata": {},
     "output_type": "display_data"
    }
   ],
   "source": [
    "learned <- hc(survey)\n",
    "modelstring(learned)\n",
    "graphviz.plot(learned)"
   ]
  },
  {
   "cell_type": "markdown",
   "metadata": {},
   "source": [
    "Para calcular el score utilizamos la función `score()`. Existen otros además del BIC."
   ]
  },
  {
   "cell_type": "code",
   "execution_count": 3,
   "metadata": {},
   "outputs": [
    {
     "data": {
      "text/html": [
       "-1998.4324786367"
      ],
      "text/latex": [
       "-1998.4324786367"
      ],
      "text/markdown": [
       "-1998.4324786367"
      ],
      "text/plain": [
       "[1] -1998.432"
      ]
     },
     "metadata": {},
     "output_type": "display_data"
    }
   ],
   "source": [
    "bnlearn::score(learned, data = survey)"
   ]
  },
  {
   "cell_type": "markdown",
   "metadata": {},
   "source": [
    "Por defecto, la función calcula el BIC, aunque otros scores son posibles, como el Akaike Information Criterion (AIC) (`score = \"aic\"`) o el Log Likelihood (`score = \"logLik\"`). \n",
    "\n",
    "En realidad, `score()` utiliza un parámetro de penalización, `k`, que si no se establece equivale a `log(nrow(survey))*nparams(learned)/2`, y por tanto a la fórmula del BIC. El Log Likelihood equivale a `k = 0`, mientras que para el AIC la penalización se establece en `k = nparams(learned)`. Lo comprobamos:"
   ]
  },
  {
   "cell_type": "code",
   "execution_count": 4,
   "metadata": {},
   "outputs": [
    {
     "data": {
      "text/html": [
       "-1998.4324786367"
      ],
      "text/latex": [
       "-1998.4324786367"
      ],
      "text/markdown": [
       "-1998.4324786367"
      ],
      "text/plain": [
       "[1] -1998.432"
      ]
     },
     "metadata": {},
     "output_type": "display_data"
    }
   ],
   "source": [
    "bnlearn::score(learned, data = survey, type = \"loglik\") - \n",
    "   log(nrow(survey))*(nparams(learned, data = survey)/2)"
   ]
  },
  {
   "cell_type": "code",
   "execution_count": 5,
   "metadata": {},
   "outputs": [
    {
     "data": {
      "text/html": [
       "-1998.4324786367"
      ],
      "text/latex": [
       "-1998.4324786367"
      ],
      "text/markdown": [
       "-1998.4324786367"
      ],
      "text/plain": [
       "[1] -1998.432"
      ]
     },
     "metadata": {},
     "output_type": "display_data"
    }
   ],
   "source": [
    "bnlearn::score(learned, data = survey, type = \"loglik\") - \n",
    "   log(nrow(survey))*(nparams(learned, data = survey)/2)"
   ]
  },
  {
   "cell_type": "code",
   "execution_count": 6,
   "metadata": {},
   "outputs": [
    {
     "data": {
      "text/html": [
       "-1966.82291789853"
      ],
      "text/latex": [
       "-1966.82291789853"
      ],
      "text/markdown": [
       "-1966.82291789853"
      ],
      "text/plain": [
       "[1] -1966.823"
      ]
     },
     "metadata": {},
     "output_type": "display_data"
    }
   ],
   "source": [
    "bnlearn::score(learned, data = survey, type = \"aic\")"
   ]
  },
  {
   "cell_type": "code",
   "execution_count": 7,
   "metadata": {},
   "outputs": [
    {
     "data": {
      "text/html": [
       "-1966.82291789853"
      ],
      "text/latex": [
       "-1966.82291789853"
      ],
      "text/markdown": [
       "-1966.82291789853"
      ],
      "text/plain": [
       "[1] -1966.823"
      ]
     },
     "metadata": {},
     "output_type": "display_data"
    }
   ],
   "source": [
    "bnlearn::score(learned, data = survey, type = \"loglik\") - \n",
    "   1*(nparams(learned, data = survey))"
   ]
  },
  {
   "cell_type": "markdown",
   "metadata": {},
   "source": [
    "Independientemente del score utilizado, podemos utilizar un score para evaluar cuál de dos grafos modela mejor los datos."
   ]
  },
  {
   "cell_type": "markdown",
   "metadata": {},
   "source": [
    "**Ejercicio 1** En la práctica anterior construimos un DAG a mano, utilizando conocimiento experto. Está guardado en el archivo *dag_experto.rda*. Cárgalo, contiene la variable `dag`.\n",
    "\n",
    "- Si tenemos en cuenta el BIC, ¿Cuál de los dos grafos modeliza mejor los datos?\n",
    "\n",
    "- Ahora calcula el Log Likelihood. Explica qué ocurre."
   ]
  },
  {
   "cell_type": "code",
   "execution_count": null,
   "metadata": {},
   "outputs": [],
   "source": []
  },
  {
   "cell_type": "markdown",
   "metadata": {},
   "source": [
    "Podemos ver cuál es la penalización `k` que ha empleado nuestro algoritmo imprimiendo los detalles de la variable, almacenado en `learned$learning$args$k`."
   ]
  },
  {
   "cell_type": "code",
   "execution_count": 8,
   "metadata": {},
   "outputs": [
    {
     "data": {
      "text/plain": [
       "\n",
       "  Bayesian network learned via Score-based methods\n",
       "\n",
       "  model:\n",
       "   [R][E|R][T|R][A|E][O|E][S|E] \n",
       "  nodes:                                 6 \n",
       "  arcs:                                  5 \n",
       "    undirected arcs:                     0 \n",
       "    directed arcs:                       5 \n",
       "  average markov blanket size:           1.67 \n",
       "  average neighbourhood size:            1.67 \n",
       "  average branching factor:              0.83 \n",
       "\n",
       "  learning algorithm:                    Hill-Climbing \n",
       "  score:                                 BIC (disc.) \n",
       "  penalization coefficient:              3.107304 \n",
       "  tests used in the learning procedure:  40 \n",
       "  optimized:                             TRUE \n"
      ]
     },
     "metadata": {},
     "output_type": "display_data"
    }
   ],
   "source": [
    "learned"
   ]
  },
  {
   "cell_type": "markdown",
   "metadata": {},
   "source": [
    "Vemos que el coeficiente de penalización es $k \\approx 3.107 $. En efecto:"
   ]
  },
  {
   "cell_type": "code",
   "execution_count": 9,
   "metadata": {},
   "outputs": [
    {
     "data": {
      "text/html": [
       "3.1073040492111"
      ],
      "text/latex": [
       "3.1073040492111"
      ],
      "text/markdown": [
       "3.1073040492111"
      ],
      "text/plain": [
       "[1] 3.107304"
      ]
     },
     "metadata": {},
     "output_type": "display_data"
    }
   ],
   "source": [
    "log(nrow(survey))/2"
   ]
  },
  {
   "cell_type": "markdown",
   "metadata": {},
   "source": [
    "### 2) Imponer restricciones al aprendizaje automático\n",
    "\n",
    "Podemos imponer al algoritmo relaciones de dependencia que sabemos a priori que existen, de modo que estas se encuentren en el grafo final de forma obligatoria (por ejemplo, de acuerdo con el experto consultado, existe una influencia de la ocupación (O) sobre el transporte (T), que no queda reflejada en el grafo aprendido a partir de los datos). Del mismo modo, podemos descartar relaciones que pudieran aparecer y que en ese caso serían espúreas (por ejemplo, una relación entre E y S, que podemos conocer a priori que son independientes). Estas relaciones de dependencia/independencia conocidas de antemano pueden especificarse antes de lanzar el algoritmo, introduciéndolas a través de los argumentos whitelist/blacklist.\n",
    "\n",
    "Podemos imponer al algoritmo relaciones de dependencia que sabemos a priori que existen, de modo que estas se encuentren en el grafo final de forma obligatoria (por ejemplo, de acuerdo con el experto consultado, existe una influencia de la ocupación (O) sobre el transporte (T), que no queda reflejada en el grafo aprendido a partir de los datos). Del mismo modo, podemos descartar relaciones que pudieran aparecer y que en ese caso serían espúreas (por ejemplo, una relación entre la edad (A) y el sexo (S), que como hemos visto son independientes). \n",
    "\n",
    "Estas relaciones de dependencia/independencia conocidas de antemano pueden especificarse antes de lanzar el algoritmo, introduciéndolas a través de los argumentos `whitelist` (para obligar a que esté presente un conjunto de arcos) y `blacklist` (para negar la posibilidad de que esté presente un conjunto de arcos). Estos argumentos son comunes a todos los algoritmos de `bnlearn`. La sintaxis es la misma que utilizábamos para establecer los arcos del DAG manualmente:"
   ]
  },
  {
   "cell_type": "code",
   "execution_count": 10,
   "metadata": {},
   "outputs": [
    {
     "data": {
      "text/html": [
       "-1954.76624403106"
      ],
      "text/latex": [
       "-1954.76624403106"
      ],
      "text/markdown": [
       "-1954.76624403106"
      ],
      "text/plain": [
       "[1] -1954.766"
      ]
     },
     "metadata": {},
     "output_type": "display_data"
    }
   ],
   "source": [
    "whitelist <- matrix(c(\"O\", \"T\"),\n",
    "                    ncol = 2,\n",
    "                    dimnames = list(NULL, c(\"from\", \"to\")))\n",
    "blacklist <- matrix(c(\"A\", \"S\", \n",
    "                      \"S\", \"A\"), \n",
    "                    ncol = 2, byrow = TRUE,\n",
    "                    dimnames = list(NULL, c(\"from\", \"to\")))\n",
    "# Notar que prohibir una direccion no impide que el arco aparezca en la otra\n",
    "\n",
    "learned2 <- hc(survey, whitelist = whitelist, blacklist = blacklist)\n",
    "bnlearn::score(learned2, data = survey, type = \"loglik\")"
   ]
  },
  {
   "cell_type": "markdown",
   "metadata": {},
   "source": [
    "En este caso, el nuevo grafo obtiene un Log Likelihood más bajo. Como contraprestación, hemos asegurado que una serie de dependencias(independencias que sabemos positivamente que existen han quedado reflejadas en el grafo, aunque para caracterizar la distribución global sea mejor que no esté presente. \n",
    "\n",
    "Podemos verificar si la relación que hemos forzado en el DAG O $\\rightarrow$ T  resulta significativa. Como ya sabemos, los algoritmos *constraint-based* utilizan test de independencia. Podemos aplicar uno de estos test para verificar si un arco está justificado incluirlo.\n",
    "\n",
    "La función `arc.strength()` muestra los p-valores de los arcos presentes en un grafo obtenidos de realizar el test de hipótesis\n",
    "\n",
    "$$H_{0}: A \\ \\perp_p B  $$\n",
    "$$H_{1}: A \\ \\not \\perp_p B $$\n",
    "\n",
    "para cada par de arcos del DAG $A$ y $B$. De esta manera, un p-valor menor que un nivel de significación dado $\\alpha$, por defecto $0.05$, implica que la hipótesis nula se rechaza, y que por tanto no son independientes dado el conjunto de nodos $\\mathbf{S}$, asumiendo por tanto la dependencia.\n",
    "\n",
    "Nótese que los algoritmos que hacen test de independencia (*constraint-based*) asumen dependencia si el p-valor es menor que un $\\alpha$, por defecto $0.05$."
   ]
  },
  {
   "cell_type": "code",
   "execution_count": 11,
   "metadata": {},
   "outputs": [
    {
     "data": {
      "text/html": [
       "<table>\n",
       "<caption>A bn.strength: 5 × 3</caption>\n",
       "<thead>\n",
       "\t<tr><th scope=col>from</th><th scope=col>to</th><th scope=col>strength</th></tr>\n",
       "\t<tr><th scope=col>&lt;chr&gt;</th><th scope=col>&lt;chr&gt;</th><th scope=col>&lt;dbl&gt;</th></tr>\n",
       "</thead>\n",
       "<tbody>\n",
       "\t<tr><td>O</td><td>T</td><td>0.4235333231</td></tr>\n",
       "\t<tr><td>R</td><td>E</td><td>0.0005599201</td></tr>\n",
       "\t<tr><td>E</td><td>S</td><td>0.0005877751</td></tr>\n",
       "\t<tr><td>T</td><td>R</td><td>0.0004095347</td></tr>\n",
       "\t<tr><td>E</td><td>A</td><td>0.0008689951</td></tr>\n",
       "</tbody>\n",
       "</table>\n"
      ],
      "text/latex": [
       "A bn.strength: 5 × 3\n",
       "\\begin{tabular}{r|lll}\n",
       " from & to & strength\\\\\n",
       " <chr> & <chr> & <dbl>\\\\\n",
       "\\hline\n",
       "\t O & T & 0.4235333231\\\\\n",
       "\t R & E & 0.0005599201\\\\\n",
       "\t E & S & 0.0005877751\\\\\n",
       "\t T & R & 0.0004095347\\\\\n",
       "\t E & A & 0.0008689951\\\\\n",
       "\\end{tabular}\n"
      ],
      "text/markdown": [
       "\n",
       "A bn.strength: 5 × 3\n",
       "\n",
       "| from &lt;chr&gt; | to &lt;chr&gt; | strength &lt;dbl&gt; |\n",
       "|---|---|---|\n",
       "| O | T | 0.4235333231 |\n",
       "| R | E | 0.0005599201 |\n",
       "| E | S | 0.0005877751 |\n",
       "| T | R | 0.0004095347 |\n",
       "| E | A | 0.0008689951 |\n",
       "\n"
      ],
      "text/plain": [
       "  from to strength    \n",
       "1 O    T  0.4235333231\n",
       "2 R    E  0.0005599201\n",
       "3 E    S  0.0005877751\n",
       "4 T    R  0.0004095347\n",
       "5 E    A  0.0008689951"
      ]
     },
     "metadata": {},
     "output_type": "display_data"
    }
   ],
   "source": [
    "arc.strength(learned2, data = survey, criterion = \"x2\")"
   ]
  },
  {
   "cell_type": "markdown",
   "metadata": {},
   "source": [
    "Hemos hecho un test $\\chi^2$, utilizando `criterion = \"x2`. Como vemos, para todos los arcos excepto para O $\\rightarrow$ T el p-valor (columna `strength`) es menor que 0.001, de manera que se rechaza que sean independientes al $99.9\\%$ de confianza. Para el primero la hipótesis de independencia no se rechaza, así que, según los datos, estos nodos son independientes. Esto es  consistente con la construcción del DAG que ha hecho el algoritmo hill-climbing.\n",
    "\n",
    "Nótese, sin embargo, que los dos tipos de algoritmos pueden dar resultados muy distintos por su diferente manera de considerar el problema: los primeros trabajando *localmente*, buscando independencias entre pares de nodos; y los segundos trabajando con un score *global*, pretendiendo ajustar la distribución conjunta de los datos."
   ]
  },
  {
   "cell_type": "markdown",
   "metadata": {},
   "source": [
    "**Ejercicio 2)** `bnlearn` implementa la búsqueda Tabú como algoritmo de optimización (*score-based*, por tanto) para aprender la estructura del DAG, mediante la función `tabu()`. Ejecuta esta función y compara el DAG obtenido con los otros con los que hemos trabajado. ¿Es el mismo grafo? ¿Cuál dirías que captura mejor la JPD (Joint Probability Distribution) de los datos? \n",
    "\n",
    "Nota: Podría serte útil la función `bnlearn::graphviz.compare()`."
   ]
  },
  {
   "cell_type": "code",
   "execution_count": null,
   "metadata": {},
   "outputs": [],
   "source": []
  },
  {
   "cell_type": "markdown",
   "metadata": {},
   "source": [
    "**Ejercicio 3)** Haz esto mismo para el algoritmo `pc.stable()`. Es decir, compara el grafo obtenido con este algoritmo con el grafo obtenido usando Hill-Climbing.\n",
    "\n",
    "Recuerda que `pc.stable()` devuelve un Grafo Parcialmente Dirigido Acíclico. Para dirigir todos los arcos de este tipo de grafo puedes utilizar la función `cextend()`. Elegirá una dirección para los arcos que quedaron sin dirigir, y para los que no importa la dirección porque dan lugar al mismo modelo probabilístico.\n",
    "\n",
    "Puedes probar también algún otro algoritmo de `bnlearn` y hacer alguna otra comparación. También puedes jugar con los argumentos `k` para Hill-Climbing y `alpha` y `max.sx` para `pc.stable()`. "
   ]
  },
  {
   "cell_type": "code",
   "execution_count": null,
   "metadata": {},
   "outputs": [],
   "source": []
  }
 ],
 "metadata": {
  "kernelspec": {
   "display_name": "R",
   "language": "R",
   "name": "ir"
  },
  "language_info": {
   "codemirror_mode": "r",
   "file_extension": ".r",
   "mimetype": "text/x-r-source",
   "name": "R",
   "pygments_lexer": "r",
   "version": "3.4.4"
  }
 },
 "nbformat": 4,
 "nbformat_minor": 2
}
