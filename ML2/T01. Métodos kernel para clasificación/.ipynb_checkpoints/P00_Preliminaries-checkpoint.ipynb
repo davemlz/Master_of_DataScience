{
 "cells": [
  {
   "cell_type": "markdown",
   "metadata": {},
   "source": [
    "Preliminaries: Setup & introduction\n",
    "==="
   ]
  },
  {
   "cell_type": "markdown",
   "metadata": {},
   "source": [
    "We will require the following packages:\n",
    "\n",
    "- Python version 3.4+\n",
    "- `numpy` version 1.8 or later: http://www.numpy.org/\n",
    "- `scipy` version 0.15 or later: http://www.scipy.org/\n",
    "- `matplotlib` version 1.3 or later: http://matplotlib.org/\n",
    "- `scikit-learn` version 0.15 or later: http://scikit-learn.org\n",
    "- `pandas` version 0.21 or later: https://pandas.pydata.org/\n",
    "- `pillow` version 4.0 or later: http://python-pillow.org\n",
    "- `seaborn` version 0.8 or later: https://seaborn.pydata.org/\n",
    "- `jupyter` version 3.0 or later, with notebook support: http://jupyter.org/\n",
    "- `Plotly`: https://plot.ly/ (will be installed inside the notebooks if necessary)\n",
    "\n",
    "The easiest way to get these is to use the [conda](http://store.continuum.io/) environment manager.\n",
    "I suggest downloading and installing [miniconda](http://conda.pydata.org/miniconda.html).\n",
    "\n",
    "The following command will install all required packages:\n",
    "```\n",
    "$ conda install numpy scipy matplotlib scikit-learn pandas pillow seaborn jupyter\n",
    "$ conda install -c plotly plotly\n",
    "```\n",
    "\n",
    "Alternatively, you can download and install the (very large) Anaconda software distribution, found at https://store.continuum.io/."
   ]
  },
  {
   "cell_type": "markdown",
   "metadata": {},
   "source": [
    "Jupyter Notebook\n",
    "---"
   ]
  },
  {
   "cell_type": "markdown",
   "metadata": {},
   "source": [
    "To launch Jupyter Notebook from the terminal, type\n",
    "```\n",
    "jupyter notebook\n",
    "```\n",
    "In Jupyter Notebook, open a notebook (.ipynb file) and clear all the outputs by selecting the following command from the menu:\n",
    "```\n",
    "Cell > All Output > Clear\n",
    "```"
   ]
  },
  {
   "cell_type": "markdown",
   "metadata": {},
   "source": [
    "Check your installation\n",
    "---\n",
    "\n",
    "You can run the following code to check the versions of the packages on your system:\n",
    "\n",
    "In Jupyter Notebook, press `shift` and `return` together to execute the contents of a cell and advance to the next one."
   ]
  },
  {
   "cell_type": "code",
   "execution_count": null,
   "metadata": {},
   "outputs": [],
   "source": [
    "import numpy\n",
    "print('numpy:', numpy.__version__)\n",
    "\n",
    "import scipy\n",
    "print('scipy:', scipy.__version__)\n",
    "\n",
    "import matplotlib\n",
    "print('matplotlib:', matplotlib.__version__)\n",
    "\n",
    "import sklearn\n",
    "print('scikit-learn:', sklearn.__version__)\n",
    "\n",
    "import pandas\n",
    "print('pandas:', pandas.__version__)\n",
    "\n",
    "import PIL\n",
    "print('PIL:', PIL.__version__)\n",
    "\n",
    "import seaborn\n",
    "print('seaborn:', seaborn.__version__)\n",
    "\n",
    "# IPython library is required for Jupyter Notebook\n",
    "import IPython\n",
    "print('IPython:', IPython.__version__)"
   ]
  },
  {
   "cell_type": "markdown",
   "metadata": {},
   "source": [
    "Useful Resources\n",
    "---"
   ]
  },
  {
   "cell_type": "markdown",
   "metadata": {},
   "source": [
    "- **scikit-learn:** http://scikit-learn.org (see especially the narrative documentation)\n",
    "- **matplotlib:** http://matplotlib.org (see especially the gallery section)\n",
    "- **Jupyter:** http://jupyter.org/ (also check out http://nbviewer.ipython.org)\n",
    "- **Plotly:** https://plot.ly/"
   ]
  }
 ],
 "metadata": {
  "kernelspec": {
   "display_name": "Python 3",
   "language": "python",
   "name": "python3"
  },
  "language_info": {
   "codemirror_mode": {
    "name": "ipython",
    "version": 3
   },
   "file_extension": ".py",
   "mimetype": "text/x-python",
   "name": "python",
   "nbconvert_exporter": "python",
   "pygments_lexer": "ipython3",
   "version": "3.6.4"
  }
 },
 "nbformat": 4,
 "nbformat_minor": 2
}
