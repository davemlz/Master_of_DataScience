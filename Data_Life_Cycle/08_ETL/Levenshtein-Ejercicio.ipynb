{
 "cells": [
  {
   "cell_type": "markdown",
   "metadata": {},
   "source": [
    "# Distancia de Levenshtein\n",
    "La distancia de Levenshtein, distancia de edición o distancia entre palabras es el número mínimo de operaciones requeridas para transformar una cadena de caracteres en otra que pueden ser de distinta longitud. \n",
    "En eso se diferencia de la distancia de Hamming de la que se la considera una generalizacion.\n",
    "\n",
    "Las operaciones son inserción, borrado y substitución.\n",
    "Ejemplos:\n",
    "La distancia entre pero y perro es 1, pues solo require una operación (inserción de la r).\n",
    "La distancia entre silla y y sillón es 2 (sustitucion de a por ó e inserción de n).\n",
    "\n",
    "Existen implementaciones para la mayor parte de los lenguajes de programación, PHP incluso \n",
    "lo trae incorporado (tambien MySQL tienen una función para este cálculo).\n",
    "\n",
    "En Python existen varias librerias que implementan esta métrica, entre otras:\n",
    "- python-Levenshtein\n",
    "- editdistance\n",
    "- StringDist\n",
    "\n",
    "También se pueden encontrar varios ejemplos de diferentes implementaciones en la web.\n",
    "Pero como práctica lo implementaremos. \n",
    "\n",
    "Definimos un metodo levenshtein(a,b) que devuelva la distancia entre dos cadenas de caracteres.\n"
   ]
  },
  {
   "cell_type": "code",
   "execution_count": null,
   "metadata": {},
   "outputs": [],
   "source": [
    "def levenshtein(a, b):\n",
    "    # implementacion\n",
    "    if a==b: return 0\n",
    "    if not a: return len(b)\n",
    "    if not b: return len(a)\n",
    "    return min(levenshtein(a[1:], b[1:])+(a[0] != b[0]), levenshtein(a[1:], b)+1, levenshtein(a, b[1:])+1)\n",
    "    "
   ]
  },
  {
   "cell_type": "markdown",
   "metadata": {},
   "source": [
    "Primero vamos a testear los casos triviales."
   ]
  },
  {
   "cell_type": "code",
   "execution_count": null,
   "metadata": {},
   "outputs": [],
   "source": [
    "print(levenshtein(\"Trivial\", \"Trivial\"))\n",
    "print(levenshtein(\"Trivial\", \"\"))\n",
    "print(levenshtein(\"\", \"\"))\n",
    "print(levenshtein(\"\", \"Trivial\"))\n",
    "print(levenshtein(\"ATGCTAGCATCGATG\", \"ATGCTAGCATCGATG\"))"
   ]
  },
  {
   "cell_type": "markdown",
   "metadata": {},
   "source": [
    "Y ahora algunas cadenas más."
   ]
  },
  {
   "cell_type": "code",
   "execution_count": null,
   "metadata": {},
   "outputs": [],
   "source": [
    "print(levenshtein(\"James\", \"Jack\"))\n",
    "print(levenshtein(\"Santander\", \"Sntander\"))\n",
    "print(levenshtein(\"X129817812\", \"X2189712\"))\n",
    "print(levenshtein(\"García\", \"Garcia\"))\n",
    "print(levenshtein(\"Arriba\", \"Abajo\"))\n",
    "print(levenshtein(\"ATGCTAGCATCGATG\", \"TACGATCGTAGCTAC\"))\n",
    "print(levenshtein(\"Edinburgh\", \"Edimburgo\"))\n",
    "print(levenshtein(\"Chiquinquirá\", \"Zipaquirá\"))"
   ]
  },
  {
   "cell_type": "markdown",
   "metadata": {},
   "source": [
    "Esta implementación, con código muy compacto, presenta problemas de rendimiento, y por ello no puede ejecutar todas las llamadas anteriores.\n"
   ]
  },
  {
   "cell_type": "code",
   "execution_count": null,
   "metadata": {},
   "outputs": [],
   "source": []
  }
 ],
 "metadata": {
  "kernelspec": {
   "display_name": "Python 3",
   "language": "python",
   "name": "python3"
  },
  "language_info": {
   "codemirror_mode": {
    "name": "ipython",
    "version": 3
   },
   "file_extension": ".py",
   "mimetype": "text/x-python",
   "name": "python",
   "nbconvert_exporter": "python",
   "pygments_lexer": "ipython3",
   "version": "3.6.6"
  }
 },
 "nbformat": 4,
 "nbformat_minor": 2
}
