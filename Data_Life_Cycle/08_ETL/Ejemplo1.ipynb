{
 "cells": [
  {
   "cell_type": "markdown",
   "metadata": {},
   "source": [
    "Primero tenemos que importar el paquete de la base de datos, para este ejemplo simple será sqlite3."
   ]
  },
  {
   "cell_type": "code",
   "execution_count": 1,
   "metadata": {},
   "outputs": [],
   "source": [
    "import sqlite3"
   ]
  },
  {
   "cell_type": "markdown",
   "metadata": {},
   "source": [
    "Ahora crearemos tres bases de datos con el mismo esquema: dos fuentes y una de integración.\n",
    "El esquema sólo contiene una tabla de datos llamada Persona con datos básicos de identificación.\n",
    "Primero la de integración."
   ]
  },
  {
   "cell_type": "code",
   "execution_count": 2,
   "metadata": {},
   "outputs": [],
   "source": [
    "conn = sqlite3.connect('integrada.db')\n",
    "c = conn.cursor()\n",
    "\n",
    "# Creamos la tabla\n",
    "c.execute('''CREATE TABLE Persona\n",
    "             (nombre text, direccion text, edad integer)''')\n",
    "\n",
    "conn.commit()\n",
    "\n",
    "conn.close()"
   ]
  },
  {
   "cell_type": "markdown",
   "metadata": {},
   "source": [
    "Importamos faker para crear los datos en las fuentes."
   ]
  },
  {
   "cell_type": "code",
   "execution_count": 3,
   "metadata": {},
   "outputs": [],
   "source": [
    "from faker import Faker"
   ]
  },
  {
   "cell_type": "markdown",
   "metadata": {},
   "source": [
    "Ejemplo de funcionamiento de Faker."
   ]
  },
  {
   "cell_type": "code",
   "execution_count": 4,
   "metadata": {},
   "outputs": [
    {
     "name": "stdout",
     "output_type": "stream",
     "text": [
      "Manuel Alberola Palmer\n",
      "Andrea Robles Gallart\n",
      "Cristian Aguiló\n",
      "Susana Rivas Arnaiz\n",
      "Rodrigo Posada Ferrer\n",
      "Pedro Badía Ponce\n",
      "Carla Sarmiento Borrego\n",
      "Lorenzo Jose Manuel Cervera Vives\n",
      "Albert de Guerrero\n",
      "Nuria Amorós-Rubio\n"
     ]
    }
   ],
   "source": [
    "fake = Faker('es_ES')\n",
    "for _ in range(10):\n",
    "    print(fake.name())"
   ]
  },
  {
   "cell_type": "markdown",
   "metadata": {},
   "source": [
    "Ahora crearemos las bases de datos fuente e insertaremos datos falsos."
   ]
  },
  {
   "cell_type": "code",
   "execution_count": 9,
   "metadata": {},
   "outputs": [],
   "source": [
    "conn = sqlite3.connect('fuente1.db')\n",
    "c = conn.cursor()\n",
    "\n",
    "# Creamos la tabla\n",
    "c.execute('''CREATE TABLE Persona\n",
    "             (nombre text, direccion text, edad integer)''')\n",
    "\n",
    "for _ in range(10):\n",
    "    name = fake.name()\n",
    "    age = fake.random_number(digits=None) \n",
    "    adress =fake.address()\n",
    "    c.execute(\"INSERT INTO Persona (nombre,direccion,edad) VALUES (?, ?, ?)\", (name, adress, age));\n",
    "\n",
    "    \n",
    "    \n",
    "conn.commit()\n",
    "\n",
    "conn.close()"
   ]
  },
  {
   "cell_type": "code",
   "execution_count": 10,
   "metadata": {},
   "outputs": [],
   "source": [
    "conn = sqlite3.connect('fuente2.db')\n",
    "c = conn.cursor()\n",
    "\n",
    "# Creamos la tabla\n",
    "c.execute('''CREATE TABLE Persona\n",
    "             (nombre text, direccion text, edad integer)''')\n",
    "\n",
    "for _ in range(10):\n",
    "    name = fake.name()\n",
    "    age = fake.random_number(digits=None) \n",
    "    adress =fake.address()\n",
    "    c.execute(\"INSERT INTO Persona (nombre,direccion,edad) VALUES (?, ?, ?)\", (name, adress, age));\n",
    "\n",
    "    \n",
    "    \n",
    "conn.commit()\n",
    "\n",
    "conn.close()"
   ]
  },
  {
   "cell_type": "code",
   "execution_count": null,
   "metadata": {},
   "outputs": [],
   "source": []
  }
 ],
 "metadata": {
  "kernelspec": {
   "display_name": "Python 3",
   "language": "python",
   "name": "python3"
  },
  "language_info": {
   "codemirror_mode": {
    "name": "ipython",
    "version": 3
   },
   "file_extension": ".py",
   "mimetype": "text/x-python",
   "name": "python",
   "nbconvert_exporter": "python",
   "pygments_lexer": "ipython3",
   "version": "3.6.6"
  }
 },
 "nbformat": 4,
 "nbformat_minor": 2
}
