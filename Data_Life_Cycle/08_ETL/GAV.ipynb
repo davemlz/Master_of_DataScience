{
  "nbformat": 4,
  "nbformat_minor": 0,
  "metadata": {
    "kernelspec": {
      "display_name": "Python 3",
      "language": "python",
      "name": "python3"
    },
    "language_info": {
      "codemirror_mode": {
        "name": "ipython",
        "version": 3
      },
      "file_extension": ".py",
      "mimetype": "text/x-python",
      "name": "python",
      "nbconvert_exporter": "python",
      "pygments_lexer": "ipython3",
      "version": "3.7.3"
    },
    "colab": {
      "name": "GAV.ipynb",
      "provenance": []
    }
  },
  "cells": [
    {
      "cell_type": "code",
      "metadata": {
        "id": "xRgjSsNaiIhu",
        "colab_type": "code",
        "colab": {
          "base_uri": "https://localhost:8080/",
          "height": 158
        },
        "outputId": "a5606c6e-ae3f-44be-9d75-32f0191559ba"
      },
      "source": [
        "!pip install faker"
      ],
      "execution_count": 1,
      "outputs": [
        {
          "output_type": "stream",
          "text": [
            "Collecting faker\n",
            "\u001b[?25l  Downloading https://files.pythonhosted.org/packages/cd/e0/13105994434cd0ff16d49391a2666f7ef5ce95daea3975f1126c22d3ef20/Faker-3.0.0-py2.py3-none-any.whl (968kB)\n",
            "\r\u001b[K     |▍                               | 10kB 19.2MB/s eta 0:00:01\r\u001b[K     |▊                               | 20kB 1.8MB/s eta 0:00:01\r\u001b[K     |█                               | 30kB 2.6MB/s eta 0:00:01\r\u001b[K     |█▍                              | 40kB 1.7MB/s eta 0:00:01\r\u001b[K     |█▊                              | 51kB 2.1MB/s eta 0:00:01\r\u001b[K     |██                              | 61kB 2.6MB/s eta 0:00:01\r\u001b[K     |██▍                             | 71kB 3.0MB/s eta 0:00:01\r\u001b[K     |██▊                             | 81kB 3.3MB/s eta 0:00:01\r\u001b[K     |███                             | 92kB 3.7MB/s eta 0:00:01\r\u001b[K     |███▍                            | 102kB 2.8MB/s eta 0:00:01\r\u001b[K     |███▊                            | 112kB 2.8MB/s eta 0:00:01\r\u001b[K     |████                            | 122kB 2.8MB/s eta 0:00:01\r\u001b[K     |████▍                           | 133kB 2.8MB/s eta 0:00:01\r\u001b[K     |████▊                           | 143kB 2.8MB/s eta 0:00:01\r\u001b[K     |█████                           | 153kB 2.8MB/s eta 0:00:01\r\u001b[K     |█████▍                          | 163kB 2.8MB/s eta 0:00:01\r\u001b[K     |█████▊                          | 174kB 2.8MB/s eta 0:00:01\r\u001b[K     |██████                          | 184kB 2.8MB/s eta 0:00:01\r\u001b[K     |██████▍                         | 194kB 2.8MB/s eta 0:00:01\r\u001b[K     |██████▊                         | 204kB 2.8MB/s eta 0:00:01\r\u001b[K     |███████                         | 215kB 2.8MB/s eta 0:00:01\r\u001b[K     |███████▍                        | 225kB 2.8MB/s eta 0:00:01\r\u001b[K     |███████▉                        | 235kB 2.8MB/s eta 0:00:01\r\u001b[K     |████████▏                       | 245kB 2.8MB/s eta 0:00:01\r\u001b[K     |████████▌                       | 256kB 2.8MB/s eta 0:00:01\r\u001b[K     |████████▉                       | 266kB 2.8MB/s eta 0:00:01\r\u001b[K     |█████████▏                      | 276kB 2.8MB/s eta 0:00:01\r\u001b[K     |█████████▌                      | 286kB 2.8MB/s eta 0:00:01\r\u001b[K     |█████████▉                      | 296kB 2.8MB/s eta 0:00:01\r\u001b[K     |██████████▏                     | 307kB 2.8MB/s eta 0:00:01\r\u001b[K     |██████████▌                     | 317kB 2.8MB/s eta 0:00:01\r\u001b[K     |██████████▉                     | 327kB 2.8MB/s eta 0:00:01\r\u001b[K     |███████████▏                    | 337kB 2.8MB/s eta 0:00:01\r\u001b[K     |███████████▌                    | 348kB 2.8MB/s eta 0:00:01\r\u001b[K     |███████████▉                    | 358kB 2.8MB/s eta 0:00:01\r\u001b[K     |████████████▏                   | 368kB 2.8MB/s eta 0:00:01\r\u001b[K     |████████████▌                   | 378kB 2.8MB/s eta 0:00:01\r\u001b[K     |████████████▉                   | 389kB 2.8MB/s eta 0:00:01\r\u001b[K     |█████████████▏                  | 399kB 2.8MB/s eta 0:00:01\r\u001b[K     |█████████████▌                  | 409kB 2.8MB/s eta 0:00:01\r\u001b[K     |█████████████▉                  | 419kB 2.8MB/s eta 0:00:01\r\u001b[K     |██████████████▏                 | 430kB 2.8MB/s eta 0:00:01\r\u001b[K     |██████████████▌                 | 440kB 2.8MB/s eta 0:00:01\r\u001b[K     |██████████████▉                 | 450kB 2.8MB/s eta 0:00:01\r\u001b[K     |███████████████▏                | 460kB 2.8MB/s eta 0:00:01\r\u001b[K     |███████████████▋                | 471kB 2.8MB/s eta 0:00:01\r\u001b[K     |████████████████                | 481kB 2.8MB/s eta 0:00:01\r\u001b[K     |████████████████▎               | 491kB 2.8MB/s eta 0:00:01\r\u001b[K     |████████████████▋               | 501kB 2.8MB/s eta 0:00:01\r\u001b[K     |█████████████████               | 512kB 2.8MB/s eta 0:00:01\r\u001b[K     |█████████████████▎              | 522kB 2.8MB/s eta 0:00:01\r\u001b[K     |█████████████████▋              | 532kB 2.8MB/s eta 0:00:01\r\u001b[K     |██████████████████              | 542kB 2.8MB/s eta 0:00:01\r\u001b[K     |██████████████████▎             | 552kB 2.8MB/s eta 0:00:01\r\u001b[K     |██████████████████▋             | 563kB 2.8MB/s eta 0:00:01\r\u001b[K     |███████████████████             | 573kB 2.8MB/s eta 0:00:01\r\u001b[K     |███████████████████▎            | 583kB 2.8MB/s eta 0:00:01\r\u001b[K     |███████████████████▋            | 593kB 2.8MB/s eta 0:00:01\r\u001b[K     |████████████████████            | 604kB 2.8MB/s eta 0:00:01\r\u001b[K     |████████████████████▎           | 614kB 2.8MB/s eta 0:00:01\r\u001b[K     |████████████████████▋           | 624kB 2.8MB/s eta 0:00:01\r\u001b[K     |█████████████████████           | 634kB 2.8MB/s eta 0:00:01\r\u001b[K     |█████████████████████▎          | 645kB 2.8MB/s eta 0:00:01\r\u001b[K     |█████████████████████▋          | 655kB 2.8MB/s eta 0:00:01\r\u001b[K     |██████████████████████          | 665kB 2.8MB/s eta 0:00:01\r\u001b[K     |██████████████████████▎         | 675kB 2.8MB/s eta 0:00:01\r\u001b[K     |██████████████████████▋         | 686kB 2.8MB/s eta 0:00:01\r\u001b[K     |███████████████████████         | 696kB 2.8MB/s eta 0:00:01\r\u001b[K     |███████████████████████▍        | 706kB 2.8MB/s eta 0:00:01\r\u001b[K     |███████████████████████▊        | 716kB 2.8MB/s eta 0:00:01\r\u001b[K     |████████████████████████        | 727kB 2.8MB/s eta 0:00:01\r\u001b[K     |████████████████████████▍       | 737kB 2.8MB/s eta 0:00:01\r\u001b[K     |████████████████████████▊       | 747kB 2.8MB/s eta 0:00:01\r\u001b[K     |█████████████████████████       | 757kB 2.8MB/s eta 0:00:01\r\u001b[K     |█████████████████████████▍      | 768kB 2.8MB/s eta 0:00:01\r\u001b[K     |█████████████████████████▊      | 778kB 2.8MB/s eta 0:00:01\r\u001b[K     |██████████████████████████      | 788kB 2.8MB/s eta 0:00:01\r\u001b[K     |██████████████████████████▍     | 798kB 2.8MB/s eta 0:00:01\r\u001b[K     |██████████████████████████▊     | 808kB 2.8MB/s eta 0:00:01\r\u001b[K     |███████████████████████████     | 819kB 2.8MB/s eta 0:00:01\r\u001b[K     |███████████████████████████▍    | 829kB 2.8MB/s eta 0:00:01\r\u001b[K     |███████████████████████████▊    | 839kB 2.8MB/s eta 0:00:01\r\u001b[K     |████████████████████████████    | 849kB 2.8MB/s eta 0:00:01\r\u001b[K     |████████████████████████████▍   | 860kB 2.8MB/s eta 0:00:01\r\u001b[K     |████████████████████████████▊   | 870kB 2.8MB/s eta 0:00:01\r\u001b[K     |█████████████████████████████   | 880kB 2.8MB/s eta 0:00:01\r\u001b[K     |█████████████████████████████▍  | 890kB 2.8MB/s eta 0:00:01\r\u001b[K     |█████████████████████████████▊  | 901kB 2.8MB/s eta 0:00:01\r\u001b[K     |██████████████████████████████  | 911kB 2.8MB/s eta 0:00:01\r\u001b[K     |██████████████████████████████▍ | 921kB 2.8MB/s eta 0:00:01\r\u001b[K     |██████████████████████████████▉ | 931kB 2.8MB/s eta 0:00:01\r\u001b[K     |███████████████████████████████▏| 942kB 2.8MB/s eta 0:00:01\r\u001b[K     |███████████████████████████████▌| 952kB 2.8MB/s eta 0:00:01\r\u001b[K     |███████████████████████████████▉| 962kB 2.8MB/s eta 0:00:01\r\u001b[K     |████████████████████████████████| 972kB 2.8MB/s \n",
            "\u001b[?25hRequirement already satisfied: six>=1.10 in /usr/local/lib/python3.6/dist-packages (from faker) (1.12.0)\n",
            "Requirement already satisfied: text-unidecode==1.3 in /usr/local/lib/python3.6/dist-packages (from faker) (1.3)\n",
            "Requirement already satisfied: python-dateutil>=2.4 in /usr/local/lib/python3.6/dist-packages (from faker) (2.6.1)\n",
            "Installing collected packages: faker\n",
            "Successfully installed faker-3.0.0\n"
          ],
          "name": "stdout"
        }
      ]
    },
    {
      "cell_type": "code",
      "metadata": {
        "id": "7TJWhUojiE2s",
        "colab_type": "code",
        "colab": {}
      },
      "source": [
        "###importo sqlite3\n",
        "import sqlite3\n",
        "##importo numpy (para generar los numeros aleatorios)\n",
        "import numpy as np\n",
        "##importo random para hacer el sample\n",
        "import random\n",
        "##importo fakes que genera informacion para python\n",
        "from faker import Faker"
      ],
      "execution_count": 0,
      "outputs": []
    },
    {
      "cell_type": "code",
      "metadata": {
        "id": "PICRbmXFiE20",
        "colab_type": "code",
        "colab": {}
      },
      "source": [
        "conn = sqlite3.connect('EstudiantesUC.db')\n",
        "c = conn.cursor()\n",
        "\n",
        "# ELIMINAR TABLAS SI EXISTEN\n",
        "c.execute('''Drop  table if exists Curso''')\n",
        "c.execute('''Drop  table if exists Estudiante''')\n",
        "c.execute('''Drop  table if exists Profesor''')\n",
        "c.execute('''Drop  table if exists Profesor_has_Curso''')\n",
        "c.execute('''Drop  table if exists Estudiante_has_Curso''')\n",
        "c.execute('''Drop  table if exists EstudianteErasmus''')\n",
        "# TABLA CURSO\n",
        "c.execute('''CREATE TABLE Curso\n",
        "             (idCurso integer PRIMARY KEY,\n",
        "             titulo VARCHAR(45),\n",
        "             creditos integer);''')\n",
        "# TABLA ESTUDIANTE\n",
        "c.execute('''CREATE TABLE Estudiante\n",
        "             (idEstudiante integer PRIMARY KEY,\n",
        "             nombre VARCHAR(25),\n",
        "             apellidos VARCHAR(85),\n",
        "             numMatricula VARCHAR(15),\n",
        "             direccion VARCHAR(100),\n",
        "             telefono VARCHAR(15),\n",
        "             email VARCHAR(45));''')\n",
        "# TABLA PROFESOR\n",
        "c.execute('''CREATE TABLE Profesor\n",
        "             (idProfesor integer PRIMARY KEY,\n",
        "             nombre VARCHAR(25),\n",
        "             apellidos VARCHAR(85),             \n",
        "             email VARCHAR(45));''')\n",
        "# TABLA PROFESOR_HAS_CURSO\n",
        "c.execute('''CREATE TABLE Profesor_has_Curso\n",
        "             (Profesor_idProfesor integer,\n",
        "             Curso_idCurso integer,\n",
        "             PRIMARY KEY(Profesor_idProfesor,Curso_idCurso));''')\n",
        "# TABLA ESTUDIANTE_HAS_CURSO\n",
        "c.execute('''CREATE TABLE Estudiante_has_Curso\n",
        "             (Estudiante_idEstudiante integer,\n",
        "             Curso_idCurso integer,\n",
        "             PRIMARY KEY(Estudiante_idEstudiante,Curso_idCurso));''')\n",
        "# TABLA ESTUDIANTE_ERASMUS\n",
        "c.execute('''CREATE TABLE EstudianteErasmus\n",
        "             (idEstudianteErasmus integer,\n",
        "             idEstudiante integer,\n",
        "             universidadOrigen VARCHAR(45),\n",
        "             PRIMARY KEY(idEstudianteErasmus,idEstudiante));''')\n",
        "\n",
        "conn.commit()"
      ],
      "execution_count": 0,
      "outputs": []
    },
    {
      "cell_type": "code",
      "metadata": {
        "id": "FUoWhA3_laGq",
        "colab_type": "code",
        "colab": {}
      },
      "source": [
        "conn = sqlite3.connect('EstudiantesUoE.db')\n",
        "c = conn.cursor()\n",
        "\n",
        "# ELIMINAR TABLAS SI EXISTEN\n",
        "c.execute('''Drop  table if exists Subject''')\n",
        "c.execute('''Drop  table if exists Program''')\n",
        "c.execute('''Drop  table if exists Student''')\n",
        "c.execute('''Drop  table if exists StudentMarks''')\n",
        "c.execute('''Drop  table if exists SportActivity''')\n",
        "# TABLA CURSO\n",
        "c.execute('''CREATE TABLE Subject\n",
        "             (idSubject integer PRIMARY KEY,\n",
        "             name VARCHAR(45),\n",
        "             year integer,\n",
        "             Program_idProgram integer);''')\n",
        "# TABLA ESTUDIANTE\n",
        "c.execute('''CREATE TABLE Estudiante\n",
        "             (idEstudiante integer PRIMARY KEY,\n",
        "             nombre VARCHAR(25),\n",
        "             apellidos VARCHAR(85),\n",
        "             numMatricula VARCHAR(15),\n",
        "             direccion VARCHAR(100),\n",
        "             telefono VARCHAR(15),\n",
        "             email VARCHAR(45));''')\n",
        "# TABLA PROFESOR\n",
        "c.execute('''CREATE TABLE Profesor\n",
        "             (idProfesor integer PRIMARY KEY,\n",
        "             nombre VARCHAR(25),\n",
        "             apellidos VARCHAR(85),             \n",
        "             email VARCHAR(45));''')\n",
        "# TABLA PROFESOR_HAS_CURSO\n",
        "c.execute('''CREATE TABLE Profesor_has_Curso\n",
        "             (Profesor_idProfesor integer,\n",
        "             Curso_idCurso integer,\n",
        "             PRIMARY KEY(Profesor_idProfesor,Curso_idCurso));''')\n",
        "# TABLA ESTUDIANTE_HAS_CURSO\n",
        "c.execute('''CREATE TABLE Estudiante_has_Curso\n",
        "             (Estudiante_idEstudiante integer,\n",
        "             Curso_idCurso integer,\n",
        "             PRIMARY KEY(Estudiante_idEstudiante,Curso_idCurso));''')\n",
        "# TABLA ESTUDIANTE_ERASMUS\n",
        "c.execute('''CREATE TABLE EstudianteErasmus\n",
        "             (idEstudianteErasmus integer,\n",
        "             idEstudiante integer,\n",
        "             universidadOrigen VARCHAR(45),\n",
        "             PRIMARY KEY(idEstudianteErasmus,idEstudiante));''')\n",
        "\n",
        "conn.commit()"
      ],
      "execution_count": 0,
      "outputs": []
    }
  ]
}